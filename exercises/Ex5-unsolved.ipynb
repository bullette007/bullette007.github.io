{
 "cells": [
  {
   "cell_type": "code",
   "execution_count": null,
   "id": "6e82da1d",
   "metadata": {},
   "outputs": [],
   "source": [
    "from __future__ import print_function\n",
    "from ipywidgets import interact, interactive, fixed, interact_manual\n",
    "import ipywidgets as widgets\n",
    "import numpy as np\n",
    "import matplotlib.pyplot as plt\n",
    "%matplotlib notebook\n",
    "\n",
    "\n",
    "\n",
    "import os as os\n",
    "\n",
    "import matplotlib.pyplot as plt\n",
    "\n",
    "def imshow(img, cmap=None):\n",
    "    plt.close('all')\n",
    "    plt.figure()\n",
    "    plt.imshow(img, cmap=cmap)\n",
    "    plt.show()\n",
    "    \n",
    "import scipy.ndimage as ndimage\n",
    "from scipy import misc\n",
    "from __future__ import print_function\n",
    "from ipywidgets import interact, interactive, fixed, interact_manual\n",
    "import ipywidgets as widgets\n",
    "import numpy as np\n",
    "import matplotlib.pyplot as plt\n",
    "import cv2\n",
    "import scipy.signal as sig\n",
    "from scipy.integrate import simpson\n",
    "from IPython.display import SVG, display, IFrame, HTML\n",
    "%matplotlib notebook"
   ]
  },
  {
   "cell_type": "code",
   "execution_count": null,
   "id": "17faf876",
   "metadata": {},
   "outputs": [],
   "source": [
    "def createPillobxResponse(r, x_size, y_size):\n",
    "    X,Y = np.meshgrid(np.arange(-1*np.floor(x_size/2),np.floor(x_size/2)+1,1), np.arange(-1*np.floor(y_size/2),np.floor(y_size/2)+1,1))\n",
    "    psf = np.zeros_like(X)\n",
    "    psf[np.sqrt(X**2+Y**2) <= r] = 1\n",
    "    return psf, X, Y\n",
    "def fourier_conv(img:np.ndarray, kernel:np.ndarray) -> np.ndarray:\n",
    "    \n",
    "    img_fft = np.fft.fft2(img)\n",
    "    \n",
    "    kernel_padded = pad_like(kernel, img)\n",
    "    kernel_padded_fft = np.fft.fft2(np.fft.ifftshift(kernel_padded))\n",
    "    \n",
    "    result = np.real(np.fft.ifft2(img_fft * kernel_padded_fft))\n",
    "    \n",
    "        \n",
    "    return result\n",
    "def mag_square(inp : np.ndarray):\n",
    "    return inp.real**2 + inp.imag**2\n",
    "def pad_like(inp : np.ndarray, like : np.ndarray):\n",
    "    to_pad = tuple(np.int32((np.array(like.shape) - np.array(inp.shape))/2))\n",
    "    return np.pad(inp, ((to_pad[0], to_pad[0]), (to_pad[1], to_pad[1])))\n",
    "def make_odd_shapes(inp : np.ndarray) -> np.ndarray:\n",
    "    if (inp.shape[0] % 2 == 0):\n",
    "        inp = inp[0:-1,:]\n",
    "    if (inp.shape[1] % 2 == 0):\n",
    "        inp = inp[:,0:-1]\n",
    "    return inp"
   ]
  },
  {
   "cell_type": "markdown",
   "id": "86d891d1",
   "metadata": {
    "toc": true
   },
   "source": [
    "<h1>Table of Contents<span class=\"tocSkip\"></span></h1>\n",
    "<div class=\"toc\"><ul class=\"toc-item\"><li><span><a href=\"#Inverse-problems-part-2\" data-toc-modified-id=\"Inverse-problems-part-2-5\"><span class=\"toc-item-num\">5&nbsp;&nbsp;</span>Inverse problems part 2</a></span><ul class=\"toc-item\"><li><span><a href=\"#Half-quadratic-splitting-method\" data-toc-modified-id=\"Half-quadratic-splitting-method-5.1\"><span class=\"toc-item-num\">5.1&nbsp;&nbsp;</span>Half-quadratic splitting method</a></span></li><li><span><a href=\"#Alternating-direction-method-of-multipliers\" data-toc-modified-id=\"Alternating-direction-method-of-multipliers-5.2\"><span class=\"toc-item-num\">5.2&nbsp;&nbsp;</span>Alternating direction method of multipliers</a></span></li></ul></li></ul></div>"
   ]
  },
  {
   "cell_type": "markdown",
   "id": "932f62d8",
   "metadata": {},
   "source": [
    "# Inverse problems part 2"
   ]
  },
  {
   "cell_type": "markdown",
   "id": "3ce5931e",
   "metadata": {},
   "source": [
    "In this exercise we will try to implement some of the more advanced deconvolution algorithms on our own."
   ]
  },
  {
   "cell_type": "markdown",
   "id": "eb8e1056",
   "metadata": {},
   "source": [
    "Test your filter implementations for different convolution kernels and apply different amounts of random noise to the convolution result before applying the deconvolution algorithms."
   ]
  },
  {
   "cell_type": "markdown",
   "id": "196ce572",
   "metadata": {},
   "source": [
    "##### Preparation of data for experiments"
   ]
  },
  {
   "cell_type": "code",
   "execution_count": null,
   "id": "dc8f80c9",
   "metadata": {},
   "outputs": [],
   "source": [
    "s = make_odd_shapes(np.float32(misc.face(gray=True)))\n",
    "h,_,_ = createPillobxResponse(20, 51,51)\n",
    "h = 1/np.sum(h) * h\n",
    "g = ndimage.convolve(s,h, mode='wrap')\n",
    "noises = []   # List for observations\n",
    "sigmas = np.float32(np.array([0,2,4,8,16,32]))  # Standard deviations for Gaussian noise\n",
    "for sigma in sigmas:\n",
    "    cur_img = g + np.random.normal(0, sigma, g.shape)\n",
    "    noises.append(cur_img)"
   ]
  },
  {
   "cell_type": "markdown",
   "id": "e93a5f49",
   "metadata": {},
   "source": [
    "## Half-quadratic splitting method"
   ]
  },
  {
   "cell_type": "markdown",
   "id": "09f888c8",
   "metadata": {},
   "source": [
    "Implement the HQS method for deconvolution and try different regularizers:\n",
    "* Promote smoothness (i.e., minimize $\\left\\| \\mathbf{x}  \\right\\|_2$),\n",
    "* promote sparseness (i.e., minimize $\\left\\| \\mathbf{x}  \\right\\|_1$),\n",
    "* anisotropic total variation,\n",
    "* isotropic total variation."
   ]
  },
  {
   "cell_type": "markdown",
   "id": "caf5e80c",
   "metadata": {},
   "source": [
    "## Alternating direction method of multipliers"
   ]
  },
  {
   "cell_type": "markdown",
   "id": "361482ed",
   "metadata": {},
   "source": [
    "Implement the ADMM method for deconvolution and also try the above regularizers."
   ]
  }
 ],
 "metadata": {
  "jupytext": {
   "formats": "ipynb,md:myst"
  },
  "kernelspec": {
   "display_name": "compimg",
   "language": "python",
   "name": "compimg"
  },
  "language_info": {
   "codemirror_mode": {
    "name": "ipython",
    "version": 3
   },
   "file_extension": ".py",
   "mimetype": "text/x-python",
   "name": "python",
   "nbconvert_exporter": "python",
   "pygments_lexer": "ipython3",
   "version": "3.8.10"
  },
  "toc": {
   "base_numbering": "5",
   "nav_menu": {},
   "number_sections": true,
   "sideBar": true,
   "skip_h1_title": false,
   "title_cell": "Table of Contents",
   "title_sidebar": "Contents",
   "toc_cell": true,
   "toc_position": {
    "height": "calc(100% - 180px)",
    "left": "10px",
    "top": "150px",
    "width": "489.188px"
   },
   "toc_section_display": true,
   "toc_window_display": false
  },
  "varInspector": {
   "cols": {
    "lenName": 16,
    "lenType": 16,
    "lenVar": 40
   },
   "kernels_config": {
    "python": {
     "delete_cmd_postfix": "",
     "delete_cmd_prefix": "del ",
     "library": "var_list.py",
     "varRefreshCmd": "print(var_dic_list())"
    },
    "r": {
     "delete_cmd_postfix": ") ",
     "delete_cmd_prefix": "rm(",
     "library": "var_list.r",
     "varRefreshCmd": "cat(var_dic_list()) "
    }
   },
   "position": {
    "height": "394.844px",
    "left": "1885px",
    "right": "20px",
    "top": "214px",
    "width": "388px"
   },
   "types_to_exclude": [
    "module",
    "function",
    "builtin_function_or_method",
    "instance",
    "_Feature"
   ],
   "window_display": true
  }
 },
 "nbformat": 4,
 "nbformat_minor": 5
}
