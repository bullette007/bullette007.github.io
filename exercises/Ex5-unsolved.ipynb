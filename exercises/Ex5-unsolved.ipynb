{
 "cells": [
  {
   "cell_type": "code",
   "execution_count": 1,
   "id": "6e82da1d",
   "metadata": {},
   "outputs": [],
   "source": [
    "from __future__ import print_function\n",
    "from ipywidgets import interact, interactive, fixed, interact_manual\n",
    "import ipywidgets as widgets\n",
    "import numpy as np\n",
    "import matplotlib.pyplot as plt\n",
    "%matplotlib notebook\n",
    "\n",
    "\n",
    "\n",
    "import os as os\n",
    "\n",
    "import matplotlib.pyplot as plt\n",
    "\n",
    "def imshow(img, cmap=None):\n",
    "    plt.close('all')\n",
    "    plt.figure()\n",
    "    plt.imshow(img, cmap=cmap)\n",
    "    plt.show()"
   ]
  },
  {
   "cell_type": "markdown",
   "id": "86d891d1",
   "metadata": {
    "toc": true
   },
   "source": [
    "<h1>Table of Contents<span class=\"tocSkip\"></span></h1>\n",
    "<div class=\"toc\"><ul class=\"toc-item\"><li><span><a href=\"#Inverse-problems-part-2\" data-toc-modified-id=\"Inverse-problems-part-2-5\"><span class=\"toc-item-num\">5&nbsp;&nbsp;</span>Inverse problems part 2</a></span><ul class=\"toc-item\"><li><span><a href=\"#Half-quadratic-splitting-method\" data-toc-modified-id=\"Half-quadratic-splitting-method-5.1\"><span class=\"toc-item-num\">5.1&nbsp;&nbsp;</span>Half-quadratic splitting method</a></span></li><li><span><a href=\"#Alternating-direction-method-of-multipliers\" data-toc-modified-id=\"Alternating-direction-method-of-multipliers-5.2\"><span class=\"toc-item-num\">5.2&nbsp;&nbsp;</span>Alternating direction method of multipliers</a></span></li></ul></li></ul></div>"
   ]
  },
  {
   "cell_type": "markdown",
   "id": "932f62d8",
   "metadata": {},
   "source": [
    "# Inverse problems part 2"
   ]
  },
  {
   "cell_type": "markdown",
   "id": "3ce5931e",
   "metadata": {},
   "source": [
    "In this exercise we will try to implement some of the more advanced deconvolution algorithms on our own.\n"
   ]
  },
  {
   "cell_type": "markdown",
   "id": "eb8e1056",
   "metadata": {},
   "source": [
    "Test your filter implementations for different convolution kernels and apply different amounts of random noise to the convolution result before applying the deconvolution algorithms."
   ]
  },
  {
   "cell_type": "markdown",
   "id": "e93a5f49",
   "metadata": {},
   "source": [
    "## Half-quadratic splitting method"
   ]
  },
  {
   "cell_type": "markdown",
   "id": "09f888c8",
   "metadata": {},
   "source": [
    "Implement the HQS method for deconvolution and try different regularizers:\n",
    "* Promote smoothness (i.e., minimize $\\left\\| \\mathbf{x}  \\right\\|^2_2$),\n",
    "* promote sparseness (i.e., minimize $\\left\\| \\mathbf{x}  \\right\\|_1$),\n",
    "* anisotropic total variation,\n",
    "* isotropic total variation."
   ]
  },
  {
   "cell_type": "markdown",
   "id": "caf5e80c",
   "metadata": {},
   "source": [
    "## Alternating direction method of multipliers"
   ]
  },
  {
   "cell_type": "markdown",
   "id": "361482ed",
   "metadata": {},
   "source": [
    "Implement the ADMM method for deconvolution and also try the above regularizers."
   ]
  }
 ],
 "metadata": {
  "jupytext": {
   "formats": "ipynb,md:myst"
  },
  "kernelspec": {
   "display_name": "compimg",
   "language": "python",
   "name": "compimg"
  },
  "language_info": {
   "codemirror_mode": {
    "name": "ipython",
    "version": 3
   },
   "file_extension": ".py",
   "mimetype": "text/x-python",
   "name": "python",
   "nbconvert_exporter": "python",
   "pygments_lexer": "ipython3",
   "version": "3.8.10"
  },
  "toc": {
   "base_numbering": "5",
   "nav_menu": {},
   "number_sections": true,
   "sideBar": true,
   "skip_h1_title": false,
   "title_cell": "Table of Contents",
   "title_sidebar": "Contents",
   "toc_cell": true,
   "toc_position": {
    "height": "calc(100% - 180px)",
    "left": "10px",
    "top": "150px",
    "width": "489.188px"
   },
   "toc_section_display": true,
   "toc_window_display": true
  },
  "varInspector": {
   "cols": {
    "lenName": 16,
    "lenType": 16,
    "lenVar": 40
   },
   "kernels_config": {
    "python": {
     "delete_cmd_postfix": "",
     "delete_cmd_prefix": "del ",
     "library": "var_list.py",
     "varRefreshCmd": "print(var_dic_list())"
    },
    "r": {
     "delete_cmd_postfix": ") ",
     "delete_cmd_prefix": "rm(",
     "library": "var_list.r",
     "varRefreshCmd": "cat(var_dic_list()) "
    }
   },
   "position": {
    "height": "394.844px",
    "left": "1885px",
    "right": "20px",
    "top": "214px",
    "width": "388px"
   },
   "types_to_exclude": [
    "module",
    "function",
    "builtin_function_or_method",
    "instance",
    "_Feature"
   ],
   "window_display": true
  }
 },
 "nbformat": 4,
 "nbformat_minor": 5
}
