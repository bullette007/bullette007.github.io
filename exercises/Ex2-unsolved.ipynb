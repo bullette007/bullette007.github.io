{
 "cells": [
  {
   "cell_type": "markdown",
   "id": "d40bf037",
   "metadata": {
    "toc": true
   },
   "source": [
    "<h1>Table of Contents<span class=\"tocSkip\"></span></h1>\n",
    "<div class=\"toc\"><ul class=\"toc-item\"><li><span><a href=\"#Light-Field-Methods\" data-toc-modified-id=\"Light-Field-Methods-2\"><span class=\"toc-item-num\">2&nbsp;&nbsp;</span>Light Field Methods</a></span><ul class=\"toc-item\"><li><span><a href=\"#Reading-and-displaying-light-fields\" data-toc-modified-id=\"Reading-and-displaying-light-fields-2.1\"><span class=\"toc-item-num\">2.1&nbsp;&nbsp;</span>Reading and displaying light fields</a></span><ul class=\"toc-item\"><li><span><a href=\"#Get-light-field-data\" data-toc-modified-id=\"Get-light-field-data-2.1.1\"><span class=\"toc-item-num\">2.1.1&nbsp;&nbsp;</span>Get light field data</a></span></li><li><span><a href=\"#Reading-the-light-field\" data-toc-modified-id=\"Reading-the-light-field-2.1.2\"><span class=\"toc-item-num\">2.1.2&nbsp;&nbsp;</span>Reading the light field</a></span></li><li><span><a href=\"#Displaying-the-center-sub-aperture-image-(SAI)\" data-toc-modified-id=\"Displaying-the-center-sub-aperture-image-(SAI)-2.1.3\"><span class=\"toc-item-num\">2.1.3&nbsp;&nbsp;</span>Displaying the center sub aperture image (SAI)</a></span></li><li><span><a href=\"#Display-different-SAIs\" data-toc-modified-id=\"Display-different-SAIs-2.1.4\"><span class=\"toc-item-num\">2.1.4&nbsp;&nbsp;</span>Display different SAIs</a></span></li><li><span><a href=\"#Synthesize-a-full-aperture-image\" data-toc-modified-id=\"Synthesize-a-full-aperture-image-2.1.5\"><span class=\"toc-item-num\">2.1.5&nbsp;&nbsp;</span>Synthesize a full aperture image</a></span></li></ul></li><li><span><a href=\"#Refocusing-with-light-fields\" data-toc-modified-id=\"Refocusing-with-light-fields-2.2\"><span class=\"toc-item-num\">2.2&nbsp;&nbsp;</span>Refocusing with light fields</a></span></li><li><span><a href=\"#Mitsuba-plugin-for-light-field-camera\" data-toc-modified-id=\"Mitsuba-plugin-for-light-field-camera-2.3\"><span class=\"toc-item-num\">2.3&nbsp;&nbsp;</span>Mitsuba plugin for light field camera</a></span></li><li><span><a href=\"#Schlieren-imaging\" data-toc-modified-id=\"Schlieren-imaging-2.4\"><span class=\"toc-item-num\">2.4&nbsp;&nbsp;</span>Schlieren imaging</a></span><ul class=\"toc-item\"><li><span><a href=\"#Quantitative-measurement-of-deflection-angles\" data-toc-modified-id=\"Quantitative-measurement-of-deflection-angles-2.4.1\"><span class=\"toc-item-num\">2.4.1&nbsp;&nbsp;</span>Quantitative measurement of deflection angles</a></span></li><li><span><a href=\"#Mitsuba-plugin-for-schlieren-sensor\" data-toc-modified-id=\"Mitsuba-plugin-for-schlieren-sensor-2.4.2\"><span class=\"toc-item-num\">2.4.2&nbsp;&nbsp;</span>Mitsuba plugin for schlieren sensor</a></span></li></ul></li><li><span><a href=\"#Light-field-displays\" data-toc-modified-id=\"Light-field-displays-2.5\"><span class=\"toc-item-num\">2.5&nbsp;&nbsp;</span>Light field displays</a></span></li></ul></li></ul></div>"
   ]
  },
  {
   "cell_type": "markdown",
   "id": "006751bc",
   "metadata": {},
   "source": [
    "# Light Field Methods"
   ]
  },
  {
   "cell_type": "markdown",
   "id": "b28b4277",
   "metadata": {
    "slideshow": {
     "slide_type": "subslide"
    }
   },
   "source": [
    "## Reading and displaying light fields"
   ]
  },
  {
   "cell_type": "markdown",
   "id": "8e96f76a",
   "metadata": {},
   "source": [
    "### Get light field data"
   ]
  },
  {
   "cell_type": "markdown",
   "id": "cd9b97a2",
   "metadata": {},
   "source": [
    "Download the HCI light field dataset (see 'A dataset and evaluation methodology for depth estimation on 4D light fields' by Honauer et al.) from https://lightfield-analysis.uni-konstanz.de/"
   ]
  },
  {
   "cell_type": "markdown",
   "id": "ca676a53",
   "metadata": {},
   "source": [
    "### Reading the light field"
   ]
  },
  {
   "cell_type": "markdown",
   "id": "bd701397",
   "metadata": {},
   "source": [
    "Read light field from the bedroom scene from the HCI dataset and convert it into a 4D-structure `lf(m,n,j,k)` with `(m,n)` denoting the spatial coordinates and `(j,k)` denoting the angular coordinates."
   ]
  },
  {
   "cell_type": "markdown",
   "id": "1c657372",
   "metadata": {},
   "source": [
    "### Displaying the center sub aperture image (SAI)"
   ]
  },
  {
   "cell_type": "markdown",
   "id": "9f604777",
   "metadata": {
    "slideshow": {
     "slide_type": "subslide"
    }
   },
   "source": [
    "Show center SAI for $\\mathbf{j}=(4,4)^\\intercal$:"
   ]
  },
  {
   "cell_type": "markdown",
   "id": "74f4ce8d",
   "metadata": {},
   "source": [
    "### Display different SAIs"
   ]
  },
  {
   "cell_type": "markdown",
   "id": "794d0d7d",
   "metadata": {},
   "source": [
    "Visualize how the perspective changes when the horizontal angular coordinate is changed continuosly."
   ]
  },
  {
   "cell_type": "markdown",
   "id": "ca92bdba",
   "metadata": {},
   "source": [
    "### Synthesize a full aperture image"
   ]
  },
  {
   "cell_type": "markdown",
   "id": "09322bae",
   "metadata": {
    "slideshow": {
     "slide_type": "subslide"
    }
   },
   "source": [
    "Synthesize full aperture image, i.e., $g(\\mathbf{m})=\\sum\\limits_{\\mathbf{j}\\in\\Omega_\\mathrm{a}} L(\\mathbf{m},\\mathbf{j})\\,$:"
   ]
  },
  {
   "cell_type": "markdown",
   "id": "ea13d653",
   "metadata": {},
   "source": [
    "## Refocusing with light fields"
   ]
  },
  {
   "cell_type": "markdown",
   "id": "24159107",
   "metadata": {
    "slideshow": {
     "slide_type": "subslide"
    }
   },
   "source": [
    "Define a refocus function `refocus(alpha)` by means of the shift and add-method as shown in the lecture."
   ]
  },
  {
   "cell_type": "markdown",
   "id": "c7f5817e",
   "metadata": {},
   "source": [
    "Hint: To realize the shift-operation, have a look at OpenCV whether there is a suitable function."
   ]
  },
  {
   "cell_type": "markdown",
   "id": "d4884d5f",
   "metadata": {
    "slideshow": {
     "slide_type": "subslide"
    }
   },
   "source": [
    "Visualize the refocusing results for different $\\alpha$:"
   ]
  },
  {
   "cell_type": "markdown",
   "id": "7ce779b6-d927-4e87-a815-9a886e42fe28",
   "metadata": {},
   "source": [
    "## Focus stack"
   ]
  },
  {
   "cell_type": "markdown",
   "id": "7aaeeda4-7551-46ca-9bb8-8dbcedebab9b",
   "metadata": {},
   "source": [
    "We will now calculate a single all-in-focus image of the observed scene.<br>\n",
    "For that purpose, first create a stack of refocused images for the $\\alpha$-values used above. Then try to filter each image of this series with a filter, that highlights sharp image regions, i.e., image regions with high spatial frequencies. For every pixel position, find the image inside the stack that is most sharp at that position. Eventually, extract for every pixel position the pixel value of the focal stack image that exhibits the highest sharpness for that position in order to obtain the all-in-focus image. "
   ]
  },
  {
   "cell_type": "markdown",
   "id": "277d6743",
   "metadata": {},
   "source": [
    "## Mitsuba plugin for light field camera"
   ]
  },
  {
   "cell_type": "markdown",
   "id": "278cef9b",
   "metadata": {},
   "source": [
    "Implement a Mitsuba plugin that realizes a light field camera based on a micro-lens array as introduced in the lecture. Assume circular lenses and no crosstalk. Save the light field as a single spatially multiplexed image."
   ]
  },
  {
   "cell_type": "markdown",
   "id": "271bb662",
   "metadata": {},
   "source": [
    "## Schlieren imaging"
   ]
  },
  {
   "cell_type": "markdown",
   "id": "8f445d5d",
   "metadata": {},
   "source": [
    "### Quantitative measurement of deflection angles"
   ]
  },
  {
   "cell_type": "markdown",
   "id": "a9333335",
   "metadata": {},
   "source": [
    "In the lecture we learned:"
   ]
  },
  {
   "cell_type": "markdown",
   "id": "201884e5",
   "metadata": {},
   "source": [
    "Quantitative measurements of the deflection angle $\\alpha$ are only possible if"
   ]
  },
  {
   "cell_type": "markdown",
   "id": "48c16b5d",
   "metadata": {},
   "source": [
    "$$ \\delta_\\alpha > \\frac{1}{2}\\varepsilon\\,, $$"
   ]
  },
  {
   "cell_type": "markdown",
   "id": "c1a49ca1",
   "metadata": {},
   "source": [
    "with $\\varepsilon$ denoting the diameter of the image of the light source."
   ]
  },
  {
   "cell_type": "markdown",
   "id": "7ea7d5a9",
   "metadata": {},
   "source": [
    "Explain why this is true."
   ]
  },
  {
   "cell_type": "markdown",
   "id": "55e70763",
   "metadata": {},
   "source": [
    "### Mitsuba plugin for schlieren sensor"
   ]
  },
  {
   "cell_type": "markdown",
   "id": "2b21a31f",
   "metadata": {},
   "source": [
    "Implement a color-coded Schlieren setup in the Mitsuba rendering framework."
   ]
  },
  {
   "cell_type": "markdown",
   "id": "0f92d073",
   "metadata": {},
   "source": [
    "Encode the color-wheel via the HSI color space as follows:\n",
    "* The angle is encoded via the hue value and\n",
    "* the radius is encoded via the intensity value."
   ]
  },
  {
   "cell_type": "markdown",
   "id": "d61275dd",
   "metadata": {},
   "source": [
    "## Light field displays"
   ]
  },
  {
   "cell_type": "markdown",
   "id": "020362ee",
   "metadata": {},
   "source": [
    "The following images (also shown in the lecture) are acquired for a light field display prototype with a total range of possible angles of $10^\\circ$ in both directions."
   ]
  },
  {
   "cell_type": "markdown",
   "id": "0a3f3be6",
   "metadata": {},
   "source": [
    "<img src=\"figures/3/lfgCalibResults.svg\" style=\"max-height:40vh\">"
   ]
  },
  {
   "cell_type": "markdown",
   "id": "8399e1fd",
   "metadata": {},
   "source": [
    "How can one explain the bottom right image?"
   ]
  }
 ],
 "metadata": {
  "jupytext": {
   "formats": "ipynb,md:myst"
  },
  "kernelspec": {
   "display_name": "compimg",
   "language": "python",
   "name": "compimg"
  },
  "language_info": {
   "codemirror_mode": {
    "name": "ipython",
    "version": 3
   },
   "file_extension": ".py",
   "mimetype": "text/x-python",
   "name": "python",
   "nbconvert_exporter": "python",
   "pygments_lexer": "ipython3",
   "version": "3.8.10"
  },
  "toc": {
   "base_numbering": "2",
   "nav_menu": {},
   "number_sections": true,
   "sideBar": true,
   "skip_h1_title": false,
   "title_cell": "Table of Contents",
   "title_sidebar": "Contents",
   "toc_cell": true,
   "toc_position": {},
   "toc_section_display": true,
   "toc_window_display": true
  },
  "varInspector": {
   "cols": {
    "lenName": 16,
    "lenType": 16,
    "lenVar": 40
   },
   "kernels_config": {
    "python": {
     "delete_cmd_postfix": "",
     "delete_cmd_prefix": "del ",
     "library": "var_list.py",
     "varRefreshCmd": "print(var_dic_list())"
    },
    "r": {
     "delete_cmd_postfix": ") ",
     "delete_cmd_prefix": "rm(",
     "library": "var_list.r",
     "varRefreshCmd": "cat(var_dic_list()) "
    }
   },
   "types_to_exclude": [
    "module",
    "function",
    "builtin_function_or_method",
    "instance",
    "_Feature"
   ],
   "window_display": false
  }
 },
 "nbformat": 4,
 "nbformat_minor": 5
}
