{
 "cells": [
  {
   "cell_type": "code",
   "execution_count": 1,
   "id": "d81630dc",
   "metadata": {
    "tags": [
     "remove-cell"
    ]
   },
   "outputs": [
    {
     "data": {
      "application/javascript": [
       "var cells = Jupyter.notebook.get_cells();\n",
       "           for (var i = 0; i < cells.length; i++) {\n",
       "               var cur_cell = cells[i];\n",
       "               var tags = cur_cell._metadata.tags;\n",
       "               console.log(i);\n",
       "               console.log(tags == undefined);\n",
       "               console.log(tags);\n",
       "               if (tags != undefined) {\n",
       "               for (var j = 0; j < tags.length; j++) {\n",
       "                  if (tags[j]==\"book_only\" | tags[j]==\"remove-cell\") {cur_cell.element.hide();}\n",
       "                  if (tags[j]==\"presentation_only\") {cur_cell.element.show();}\n",
       "            }}}\n"
      ],
      "text/plain": [
       "<IPython.core.display.Javascript object>"
      ]
     },
     "metadata": {},
     "output_type": "display_data"
    }
   ],
   "source": [
    "%%js\n",
    "var cells = Jupyter.notebook.get_cells();\n",
    "           for (var i = 0; i < cells.length; i++) {\n",
    "               var cur_cell = cells[i];\n",
    "               var tags = cur_cell._metadata.tags;\n",
    "               console.log(i);\n",
    "               console.log(tags == undefined);\n",
    "               console.log(tags);\n",
    "               if (tags != undefined) {\n",
    "               for (var j = 0; j < tags.length; j++) {\n",
    "                  if (tags[j]==\"book_only\" | tags[j]==\"remove-cell\") {cur_cell.element.hide();}\n",
    "                  if (tags[j]==\"presentation_only\") {cur_cell.element.show();}\n",
    "            }}}"
   ]
  },
  {
   "cell_type": "code",
   "execution_count": 2,
   "id": "223ac9a2",
   "metadata": {
    "init_cell": true,
    "slideshow": {
     "slide_type": "notes"
    },
    "tags": [
     "remove-cell"
    ]
   },
   "outputs": [],
   "source": [
    "from __future__ import print_function\n",
    "from ipywidgets import interact, interactive, fixed, interact_manual\n",
    "import ipywidgets as widgets\n",
    "import numpy as np\n",
    "import matplotlib.pyplot as plt\n",
    "import cv2\n",
    "import scipy.signal as sig\n",
    "from scipy.integrate import simpson\n",
    "from IPython.display import SVG, display, IFrame, HTML\n",
    "%matplotlib notebook"
   ]
  },
  {
   "cell_type": "code",
   "execution_count": 3,
   "id": "0abed730",
   "metadata": {},
   "outputs": [],
   "source": [
    "%matplotlib inline"
   ]
  },
  {
   "cell_type": "markdown",
   "id": "60a35c00",
   "metadata": {
    "init_cell": true,
    "slideshow": {
     "slide_type": "notes"
    },
    "tags": [
     "remove-cell"
    ]
   },
   "source": [
    "def showFig(path,i,ending, width, height):\n",
    "    #return SVG(filename = \"./\" + path+str(i)+ending)\n",
    "    display(SVG(filename = \"./\" + path+str(i)+ending))"
   ]
  },
  {
   "cell_type": "code",
   "execution_count": 4,
   "id": "681724c9",
   "metadata": {
    "init_cell": true,
    "tags": [
     "remove-cell"
    ]
   },
   "outputs": [],
   "source": [
    "def showFig(path,i,ending, width, height):\n",
    "    filename = path+str(i)+ending\n",
    "    return HTML(\"<img src=\\\"\" + filename +  f\"\\\" style=\\\"max-height:{height}vh\\\"/>\")"
   ]
  },
  {
   "cell_type": "code",
   "execution_count": 5,
   "id": "d840f00c",
   "metadata": {
    "slideshow": {
     "slide_type": "notes"
    },
    "tags": [
     "remove-cell"
    ]
   },
   "outputs": [],
   "source": [
    "def imshow(img, cmap=None):\n",
    "    plt.close('all')\n",
    "    plt.figure()\n",
    "    plt.imshow(img, cmap=cmap)\n",
    "    plt.show()"
   ]
  },
  {
   "cell_type": "code",
   "execution_count": 6,
   "id": "c507fd6b",
   "metadata": {
    "init_cell": true,
    "slideshow": {
     "slide_type": "notes"
    },
    "tags": [
     "remove-cell"
    ]
   },
   "outputs": [],
   "source": [
    "def imshow(img, cmap=None):\n",
    "    plt.clf()\n",
    "    plt.imshow(img, cmap=cmap)\n",
    "    plt.show()"
   ]
  },
  {
   "cell_type": "markdown",
   "id": "9d051d25",
   "metadata": {
    "slideshow": {
     "slide_type": "slide"
    }
   },
   "source": [
    "$\\begin{align}\n",
    "  \\newcommand{transp}{^\\intercal}\n",
    "  \\newcommand{F}{\\mathcal{F}}\n",
    "  \\newcommand{Fi}{\\mathcal{F}^{-1}}\n",
    "  \\newcommand{inv}{^{-1}}\n",
    "  \\newcommand{stochvec}[1]{\\mathbf{\\tilde{#1}}}\n",
    "  \\newcommand{argmax}[1]{\\underset{#1}{\\mathrm{arg\\, max}}}\n",
    "  \\newcommand{argmin}[1]{\\underset{#1}{\\mathrm{arg\\, min}}}\n",
    "\\end{align}$\n",
    "\n",
    "<font size=\"7\"> Computational Imaging </font><br><br><br>"
   ]
  },
  {
   "cell_type": "markdown",
   "id": "f7014e2d",
   "metadata": {
    "slideshow": {
     "slide_type": "notes"
    }
   },
   "source": [
    "# Fundamental Basics"
   ]
  },
  {
   "cell_type": "markdown",
   "id": "a193f6cc",
   "metadata": {
    "slideshow": {
     "slide_type": "fragment"
    }
   },
   "source": [
    "##### Content\n",
    "* Optics\n",
    "* Illumination\n",
    "* Image acquisition and image formation process"
   ]
  },
  {
   "cell_type": "markdown",
   "id": "c68ab858",
   "metadata": {
    "slideshow": {
     "slide_type": "slide"
    }
   },
   "source": [
    "## Optics"
   ]
  },
  {
   "cell_type": "markdown",
   "id": "56de0a64",
   "metadata": {},
   "source": [
    "Conventional imaging: produce sharp image of scene on image plane."
   ]
  },
  {
   "cell_type": "code",
   "execution_count": 7,
   "id": "317b9fb0",
   "metadata": {
    "init_cell": true
   },
   "outputs": [
    {
     "data": {
      "application/vnd.jupyter.widget-view+json": {
       "model_id": "9c3c78450616400c94ba0b441507fd49",
       "version_major": 2,
       "version_minor": 0
      },
      "text/plain": [
       "interactive(children=(IntSlider(value=1, description='i', max=4, min=1), Output()), _dom_classes=('widget-inte…"
      ]
     },
     "metadata": {},
     "output_type": "display_data"
    },
    {
     "data": {
      "text/plain": [
       "<function __main__.<lambda>(i)>"
      ]
     },
     "execution_count": 7,
     "metadata": {},
     "output_type": "execute_result"
    }
   ],
   "source": [
    "interact(lambda i: showFig('figures/2/imaging_pinhole_lens_',i,'.svg',800,40), i=widgets.IntSlider(min=1,max=4, step=1, value=1))"
   ]
  },
  {
   "cell_type": "markdown",
   "id": "b939e0ef",
   "metadata": {
    "slideshow": {
     "slide_type": "subslide"
    }
   },
   "source": [
    "Conventions:\n",
    "* Camera coordinate system $(x^\\mathrm{c}, y^\\mathrm{c}, z^\\mathrm{c})$ equals world coordinate system $(x^\\mathrm{w}, y^\\mathrm{w}, z^\\mathrm{w})$, hence only camera coordinate system is used.\n",
    "* Points of the observed scene are called object points and are denoted by $\\mathbf{p}^\\mathrm{c}=(p^\\mathrm{c}_x, p^\\mathrm{c}_y, p^\\mathrm{c}_z)$.\n",
    "* Points on the image plane are denoted by $\\mathbf{p}^\\mathrm{b}=(p^\\mathrm{b}_x, p^\\mathrm{b}_y)$."
   ]
  },
  {
   "cell_type": "markdown",
   "id": "b465875e",
   "metadata": {
    "slideshow": {
     "slide_type": "subslide"
    }
   },
   "source": [
    "### Pinhole camera"
   ]
  },
  {
   "cell_type": "markdown",
   "id": "74a8663d",
   "metadata": {
    "cell_style": "center",
    "slideshow": {
     "slide_type": "fragment"
    },
    "tags": [
     "book_only"
    ]
   },
   "source": [
    "In the case of a pinhole camera, the correspondence between an object point $\\mathbf{p}^\\mathrm{c}$ and an image point $\\mathbf{p}^\\mathrm{b}$ is obtained via the intercept theorem:\n",
    "\n",
    "$\\begin{align}\n",
    "\\frac{p^\\mathrm{c}_x}{p^\\mathrm{c}_z} = - \\frac{p^\\mathrm{b}_x}{b}\\,,\n",
    "\\end{align}$\n",
    "\n",
    "with image distance $b$.<br><br>\n",
    "Analogously it is:\n",
    "\n",
    "$\\begin{align}\n",
    "\\frac{p^\\mathrm{c}_y}{p^\\mathrm{c}_z} = - \\frac{p^\\mathrm{b}_y}{b}\\,.\n",
    "\\end{align}$\n",
    "\n",
    "Hence:\n",
    "\n",
    "$\\begin{align}\n",
    "\\begin{pmatrix}p^\\mathrm{b}_x \\\\ p^\\mathrm{b}_y \\end{pmatrix} = -\\frac{b}{p^\\mathrm{c}_z}\\begin{pmatrix} p^\\mathrm{c}_x \\\\ p^\\mathrm{c}_y \\end{pmatrix} \\,.\n",
    "\\end{align}$"
   ]
  },
  {
   "cell_type": "markdown",
   "id": "ed86a697",
   "metadata": {
    "cell_style": "center",
    "slideshow": {
     "slide_type": "subslide"
    }
   },
   "source": [
    "<img src=\"figures/2/pinholePrinciple.svg\" style=\"max-height:40vh\">"
   ]
  },
  {
   "cell_type": "markdown",
   "id": "b62fc7e0",
   "metadata": {
    "cell_style": "center",
    "slideshow": {
     "slide_type": "fragment"
    },
    "tags": [
     "presentation_only",
     "remove-cell"
    ]
   },
   "source": [
    "Imaging equation for pinhole camera:\n",
    "\n",
    "$\\begin{align}\n",
    "\\begin{pmatrix}p^\\mathrm{b}_x \\\\ p^\\mathrm{b}_y \\end{pmatrix} = -\\frac{b}{p^\\mathrm{c}_z}\\begin{pmatrix} p^\\mathrm{c}_x \\\\ p^\\mathrm{c}_y \\end{pmatrix} \\,.\n",
    "\\end{align}$"
   ]
  },
  {
   "cell_type": "markdown",
   "id": "a8f606b3",
   "metadata": {
    "slideshow": {
     "slide_type": "subslide"
    }
   },
   "source": [
    "Advantages and disadvantages of pinhole cameras:"
   ]
  },
  {
   "cell_type": "markdown",
   "id": "56d708a2",
   "metadata": {
    "cell_style": "split"
   },
   "source": [
    "Advantages:\n",
    "* Easy principle\n",
    "* Infinite focus"
   ]
  },
  {
   "cell_type": "markdown",
   "id": "4e082904",
   "metadata": {
    "cell_style": "split",
    "slideshow": {
     "slide_type": "fragment"
    }
   },
   "source": [
    "Disadvantages:\n",
    "* Images slightly blurry and\n",
    "* system's low light efficiency\n",
    "(both caused by the small pinhole)"
   ]
  },
  {
   "cell_type": "markdown",
   "id": "b3e81301",
   "metadata": {
    "slideshow": {
     "slide_type": "subslide"
    }
   },
   "source": [
    "### Thin lens camera"
   ]
  },
  {
   "cell_type": "markdown",
   "id": "cb42ccb9",
   "metadata": {
    "tags": [
     "book_only"
    ]
   },
   "source": [
    "Common cameras employ a lens to collect light and focus it on the sensor. Even lens systems consisting of multiple lenses can be described via the so-called *thin lens camera* model, where the lens is characterized by its focal length $f$ and its diameter $d$."
   ]
  },
  {
   "cell_type": "markdown",
   "id": "b8f038cf",
   "metadata": {
    "slideshow": {
     "slide_type": "subslide"
    }
   },
   "source": [
    "<img src=\"figures/2/thinLensPrinciple.svg\" style=\"max-height:60vh\">"
   ]
  },
  {
   "cell_type": "markdown",
   "id": "d728eb0d",
   "metadata": {
    "slideshow": {
     "slide_type": "fragment"
    }
   },
   "source": [
    "* **Principal ray**: Connects $\\mathbf{p}^\\mathrm{c}$ and $\\mathbf{p}^\\mathrm{b}$ and runs through the center of the lens.\n",
    "* **Parallel rays**: Connect $\\mathbf{p}^\\mathrm{c}$ and $\\mathbf{p}^\\mathrm{b}$ and run parallel to the optical axis on one side of the lens and cross the optical axis on the other side of the lens at its focal point, i.e., at a distance of $f$ from the lens."
   ]
  },
  {
   "cell_type": "markdown",
   "id": "ae011e11",
   "metadata": {
    "slideshow": {
     "slide_type": "subslide"
    }
   },
   "source": [
    "The correspondence between the focal length $f$, the distance $g$ of the plane of focus and the image distance $b$ is given by the so-called *thin lens formula*:\n",
    "\n",
    "$\\begin{align}\n",
    "\\frac{1}{f}=\\frac{1}{g}+\\frac{1}{b}\\,.\n",
    "\\end{align}$"
   ]
  },
  {
   "cell_type": "markdown",
   "id": "b2076116",
   "metadata": {
    "slideshow": {
     "slide_type": "fragment"
    }
   },
   "source": [
    "If the thin lens equation is met and if $p^\\mathrm{c}_z = g$, the object point is considered to be located in *the plane of focus*."
   ]
  },
  {
   "cell_type": "markdown",
   "id": "b316a1bb",
   "metadata": {
    "slideshow": {
     "slide_type": "fragment"
    }
   },
   "source": [
    "The magnification $V$ of the system is given by:\n",
    "\n",
    "$\\begin{align}\n",
    " V = \\frac{\\vert p^\\mathrm{b}_y \\vert}{\\vert p^\\mathrm{c}_y \\vert} \\,.\n",
    "\\end{align}$"
   ]
  },
  {
   "cell_type": "markdown",
   "id": "3bcf000d",
   "metadata": {
    "slideshow": {
     "slide_type": "subslide"
    }
   },
   "source": [
    "##### Directional information is lost\n",
    "The sensor pixel at the position $\\mathbf{p}^\\mathrm{b}$ receives the whole light bundle, i.e., it integrates over all directions of incidence of the incident light and the directional information is lost."
   ]
  },
  {
   "cell_type": "markdown",
   "id": "a80d477c",
   "metadata": {
    "slideshow": {
     "slide_type": "subslide"
    }
   },
   "source": [
    "#### Defocus"
   ]
  },
  {
   "cell_type": "markdown",
   "id": "d0f4af72",
   "metadata": {
    "slideshow": {
     "slide_type": "subslide"
    }
   },
   "source": [
    "The following happens, if the image plane is not located at the image distance $b$ (calculated via the thin lens formula):"
   ]
  },
  {
   "cell_type": "markdown",
   "id": "61c8b30c",
   "metadata": {
    "slideshow": {
     "slide_type": "fragment"
    }
   },
   "source": [
    "<img src=\"figures/2/thinLensDefocus.svg\" style=\"max-height:40vh\">"
   ]
  },
  {
   "cell_type": "markdown",
   "id": "cf90c8c0",
   "metadata": {
    "tags": [
     "book_only"
    ]
   },
   "source": [
    "The light bundle does not converge in a point on the image sensor but is distributed over an area called the *circle of confusion*."
   ]
  },
  {
   "cell_type": "markdown",
   "id": "66745d84",
   "metadata": {
    "slideshow": {
     "slide_type": "subslide"
    },
    "tags": [
     "book_only"
    ]
   },
   "source": [
    "If the area of the circle of confusion exceeds the area of a single pixel of the sensor, the image starts to appear blurred."
   ]
  },
  {
   "cell_type": "markdown",
   "id": "efb85ebb",
   "metadata": {
    "slideshow": {
     "slide_type": "subslide"
    }
   },
   "source": [
    "<img src=\"figures/2/thinLensDefocusDetail.svg\" style=\"width:30vw\">"
   ]
  },
  {
   "cell_type": "markdown",
   "id": "928fbd91",
   "metadata": {
    "slideshow": {
     "slide_type": "fragment"
    }
   },
   "source": [
    "The *depth of focus* or *depth of field* denotes the distance at the object side of the lens by which an object point can be moved out of the plane of focus so that the circle of confusion of its converging light bundle still remains below the area of one sensor element."
   ]
  },
  {
   "cell_type": "markdown",
   "id": "1b7a3ea8",
   "metadata": {
    "slideshow": {
     "slide_type": "notes"
    },
    "tags": [
     "remove-cell"
    ]
   },
   "source": [
    "Evtl: Formel für Schärfentiefe."
   ]
  },
  {
   "cell_type": "markdown",
   "id": "82638770",
   "metadata": {
    "slideshow": {
     "slide_type": "fragment"
    },
    "tags": [
     "book_only"
    ]
   },
   "source": [
    "If the sensor elements could resolve the direction of incidence of the incident light rays, a sharp image could be reconstructed by combining the respective rays from each sensor to create a synthesized image (more later at light field imaging)."
   ]
  },
  {
   "cell_type": "markdown",
   "id": "0c212fbc",
   "metadata": {
    "slideshow": {
     "slide_type": "subslide"
    }
   },
   "source": [
    "### Aperture"
   ]
  },
  {
   "cell_type": "markdown",
   "id": "e21354db",
   "metadata": {},
   "source": [
    "The *aperture* of an optical system is the optical or mechanical element mostly limiting, i.e. blocking, the captured light bundle."
   ]
  },
  {
   "cell_type": "markdown",
   "id": "05c425c3",
   "metadata": {
    "slideshow": {
     "slide_type": "fragment"
    },
    "tags": [
     "book_only"
    ]
   },
   "source": [
    "Captured bright object points lying outside the plane of focus form an image of the aperture on the sensor plane. This effect is called *Bokeh* and is sometimes used as a stylistic element in photography."
   ]
  },
  {
   "cell_type": "markdown",
   "id": "28a9a89d",
   "metadata": {
    "tags": [
     "book_only",
     "remove-cell"
    ]
   },
   "source": [
    "TODO: Example aperture images / maybe with star aperture"
   ]
  },
  {
   "cell_type": "markdown",
   "id": "b6a82ae7",
   "metadata": {
    "slideshow": {
     "slide_type": "subslide"
    },
    "tags": [
     "book_only"
    ]
   },
   "source": [
    "*Stopping down*, i.e., reducing the size of the aperture, reduces the amount of light captured while decreasing the size of the circle of confusion what increases the depth of field:"
   ]
  },
  {
   "cell_type": "markdown",
   "id": "7413f995",
   "metadata": {
    "slideshow": {
     "slide_type": "subslide"
    }
   },
   "source": [
    "<img src=\"figures/2/thinLensDefocusAperture.svg\" style=\"max-height:60vh\">"
   ]
  },
  {
   "cell_type": "markdown",
   "id": "0b871267",
   "metadata": {
    "slideshow": {
     "slide_type": "fragment"
    },
    "tags": [
     "book_only"
    ]
   },
   "source": [
    "The pattern of the aperture can also be made controllable, e.g., by employing a transmissive LCD. This gives further control over the image formation process and is the key ingredient to *coded aperture imaging* (more later)."
   ]
  },
  {
   "cell_type": "markdown",
   "id": "0cd329ea",
   "metadata": {
    "slideshow": {
     "slide_type": "subslide"
    }
   },
   "source": [
    "### Acquisition of the light's direction of propagation"
   ]
  },
  {
   "cell_type": "markdown",
   "id": "bc3274e6",
   "metadata": {
    "tags": [
     "book_only"
    ]
   },
   "source": [
    "When imaging with a lens, light rays intersect the image-side *focal plane* (i.e., the plane located with a distance of $f$ to the lens and being oriented perpendicularly to the optical axis) at positions which correspond to the deflection angles of those rays w.r.t. the optical axis:"
   ]
  },
  {
   "cell_type": "markdown",
   "id": "e22c00b5",
   "metadata": {
    "slideshow": {
     "slide_type": "subslide"
    }
   },
   "source": [
    "<img src=\"figures/2/thinLensPrinciplePlaneOfFocus.svg\" style=\"max-height:60vh\">"
   ]
  },
  {
   "cell_type": "markdown",
   "id": "5bb0edc2",
   "metadata": {
    "slideshow": {
     "slide_type": "fragment"
    },
    "tags": [
     "book_only"
    ]
   },
   "source": [
    "Objects located at *optical infinity*, i.e., at a distance $g \\gg f$, will result in *collimated* light beams, i.e., light rays propagating parallel to each other. The corresponding image points are located on the image-side focal plane:"
   ]
  },
  {
   "cell_type": "markdown",
   "id": "171fd37b",
   "metadata": {
    "cell_style": "center",
    "slideshow": {
     "slide_type": "subslide"
    }
   },
   "source": [
    "<img src=\"figures/2/thinLensPrinciplePlaneOfFocus2.svg\" style=\"max-height:80vh\">"
   ]
  },
  {
   "cell_type": "markdown",
   "id": "949e3c89",
   "metadata": {
    "slideshow": {
     "slide_type": "subslide"
    }
   },
   "source": [
    "The distance $\\delta_\\alpha$ of the location of the intersection of the converging ray bundle with the focal plane now only depends on the object-side angle of the parallel light beams w.r.t. to the optical axis and on the focal length $f$:\n",
    "\n",
    "$\\begin{align}\n",
    "\\delta_\\alpha=f\\cdot \\tan(\\alpha)\\,.\n",
    "\\end{align}$"
   ]
  },
  {
   "cell_type": "markdown",
   "id": "d64a4a89",
   "metadata": {
    "slideshow": {
     "slide_type": "subslide"
    }
   },
   "source": [
    "<img src=\"figures/2/deflectionMeasurement.svg\" style=\"max-height:40vh\">"
   ]
  },
  {
   "cell_type": "markdown",
   "id": "93d17ae1",
   "metadata": {
    "slideshow": {
     "slide_type": "fragment"
    },
    "tags": [
     "book_only"
    ]
   },
   "source": [
    "This setup transforms directional information about the light's direction of propagation into spatial information (i.e., the distance $\\delta_\\alpha$).\n",
    "By placing a sensor in the focal plane, this information can be captured. Since all rays of the collimated bundle are focused to the same position on the focal plane, any spatial information about the single light rays is lost and has to be obtained by other means."
   ]
  },
  {
   "cell_type": "markdown",
   "id": "1697efd3",
   "metadata": {
    "slideshow": {
     "slide_type": "subslide"
    }
   },
   "source": [
    "### Example of directional filtering: Telecentric imaging"
   ]
  },
  {
   "cell_type": "markdown",
   "id": "4ef5b5c2",
   "metadata": {
    "tags": [
     "book_only"
    ]
   },
   "source": [
    "Just shown: Spatial positions on the image-side focal plane correspond to directional information about captured light rays. <br> *Spatial filters* placed in the image-side focal plane act as *directional filters* w.r.t. the captured light rays."
   ]
  },
  {
   "cell_type": "markdown",
   "id": "8e6c63e0",
   "metadata": {
    "slideshow": {
     "slide_type": "fragment"
    }
   },
   "source": [
    "Frequently used filter: Pinhole centered at the optical axis."
   ]
  },
  {
   "cell_type": "markdown",
   "id": "736eece0",
   "metadata": {
    "slideshow": {
     "slide_type": "subslide"
    }
   },
   "source": [
    "<img src=\"figures/2/telecentricImaging.svg\" style=\"max-height:40vh\">"
   ]
  },
  {
   "cell_type": "markdown",
   "id": "a64951b9",
   "metadata": {
    "slideshow": {
     "slide_type": "fragment"
    },
    "tags": [
     "book_only"
    ]
   },
   "source": [
    "Such a pinhole is called a *telecentric stop* and allows only such rays to reach the sensor which propagate (approximately) parallel to the optical axis on the object side."
   ]
  },
  {
   "cell_type": "markdown",
   "id": "379fcd87",
   "metadata": {
    "slideshow": {
     "slide_type": "fragment"
    },
    "tags": [
     "book_only"
    ]
   },
   "source": [
    "By this means, the magnification $V$ of the system is independent of the distance of image objects to the lens."
   ]
  },
  {
   "cell_type": "markdown",
   "id": "515fafb1",
   "metadata": {
    "slideshow": {
     "slide_type": "fragment"
    },
    "tags": [
     "book_only"
    ]
   },
   "source": [
    "Important: Since the opening of the telecentric stop allows ray bundles of a certain size to reach the sensor, the system is also affected by defocus effects."
   ]
  },
  {
   "cell_type": "markdown",
   "id": "3c249c01",
   "metadata": {
    "slideshow": {
     "slide_type": "slide"
    }
   },
   "source": [
    "## Illumination"
   ]
  },
  {
   "cell_type": "markdown",
   "id": "28509e53",
   "metadata": {
    "slideshow": {
     "slide_type": "subslide"
    }
   },
   "source": [
    "### Physical principles of illumination"
   ]
  },
  {
   "cell_type": "markdown",
   "id": "84775bcb",
   "metadata": {},
   "source": [
    "Two main different physical effects can be exploited to emit light: \n",
    "* **Thermal radiation**<br>A certain material is heated (energy supply) and therefore emits light. <br> Examples: Halogen lamps, fluorescent lamps, metal vapor lamps, xenon short-arc lamps.\n",
    "* **Luminescsent radiation**<br>Potential energy is directly transformed into light.<br> Examples: Gas-discharge lamps, light-emitting diodes (LEDs) and lasers.\n",
    "\n",
    "The emitted spectrum heavily depends on the employed technology."
   ]
  },
  {
   "cell_type": "markdown",
   "id": "ed9b12f3",
   "metadata": {
    "slideshow": {
     "slide_type": "subslide"
    }
   },
   "source": [
    "### Illumination techniques:"
   ]
  },
  {
   "cell_type": "markdown",
   "id": "530b3c01",
   "metadata": {},
   "source": [
    "##### Point light source"
   ]
  },
  {
   "cell_type": "markdown",
   "id": "bf69eea1",
   "metadata": {
    "cell_style": "split"
   },
   "source": [
    "Concept:<br>\n",
    "An infinitely small point shaped light source emitting light uniformly in all directions."
   ]
  },
  {
   "cell_type": "markdown",
   "id": "26a20c45",
   "metadata": {
    "cell_style": "split"
   },
   "source": [
    "<img src=\"figures/2/pointSource.svg\" style=\"max-width:50vw; max-height:30vh\">"
   ]
  },
  {
   "cell_type": "markdown",
   "id": "24655b99",
   "metadata": {
    "slideshow": {
     "slide_type": "fragment"
    }
   },
   "source": [
    "Realization:<br>\n",
    "LEDs (ultra bright ones)."
   ]
  },
  {
   "cell_type": "markdown",
   "id": "24daff91",
   "metadata": {
    "slideshow": {
     "slide_type": "subslide"
    }
   },
   "source": [
    "##### Area light source"
   ]
  },
  {
   "cell_type": "markdown",
   "id": "caf02181",
   "metadata": {
    "cell_style": "split"
   },
   "source": [
    "Concept:<br>\n",
    "Finite size area of which each point emits beams of light of a certain spectrum uniformly into all directions of the respective half-space."
   ]
  },
  {
   "cell_type": "markdown",
   "id": "27159784",
   "metadata": {
    "cell_style": "split"
   },
   "source": [
    "<img src=\"figures/2/areaLightSource.svg\" style=\"max-width:50vw; max-height:30vh\">"
   ]
  },
  {
   "cell_type": "markdown",
   "id": "72986f72",
   "metadata": {
    "cell_style": "split"
   },
   "source": [
    "Realization:<br>Multiple LEDs arranged in a dens grid behind a diffuser."
   ]
  },
  {
   "cell_type": "markdown",
   "id": "7ae2e88a",
   "metadata": {
    "cell_style": "split"
   },
   "source": [
    "<img src=\"figures/2/areaLightExample.jpg\" style=\"max-width:50vw; max-height:30vh\">"
   ]
  },
  {
   "cell_type": "markdown",
   "id": "cc48941f",
   "metadata": {
    "slideshow": {
     "slide_type": "subslide"
    }
   },
   "source": [
    "##### Programmable area light sources"
   ]
  },
  {
   "cell_type": "markdown",
   "id": "373830bd",
   "metadata": {
    "cell_style": "split"
   },
   "source": [
    "Concept:<br>\n",
    "Similar to the area light source extended by a controllable spatial pattern of the emitted spectrum (including its intensity)."
   ]
  },
  {
   "cell_type": "markdown",
   "id": "04a8d760",
   "metadata": {
    "cell_style": "split"
   },
   "source": [
    "<img src=\"figures/2/spatiallyControllableAreaLightSource.svg\" style=\"max-width:50vw; max-height:30vh\">"
   ]
  },
  {
   "cell_type": "markdown",
   "id": "fac79100",
   "metadata": {
    "slideshow": {
     "slide_type": "fragment"
    }
   },
   "source": [
    "Realization:<br> Computer display / projector."
   ]
  },
  {
   "cell_type": "markdown",
   "id": "642342bc",
   "metadata": {},
   "source": [
    "Note: It is also possible to control the direction of propagation of the emitted light as will be shown now for a special case (more later at light field illumination)."
   ]
  },
  {
   "cell_type": "markdown",
   "id": "bdf0113d",
   "metadata": {
    "slideshow": {
     "slide_type": "subslide"
    }
   },
   "source": [
    "##### Telecentric illumination"
   ]
  },
  {
   "cell_type": "markdown",
   "id": "b423c1e1",
   "metadata": {
    "cell_style": "split"
   },
   "source": [
    "Concept:<br>Similar to telecentric imaging light sources can be adapted to only emit light rays that propagate approximately parallel to each other."
   ]
  },
  {
   "cell_type": "markdown",
   "id": "9f102006",
   "metadata": {
    "cell_style": "split"
   },
   "source": [
    "<img src=\"figures/2/telecentricLightSource.svg\" style=\"max-width:50vw; max-height:30vh\">"
   ]
  },
  {
   "cell_type": "markdown",
   "id": "bd0abbe1",
   "metadata": {
    "cell_style": "split",
    "slideshow": {
     "slide_type": "fragment"
    }
   },
   "source": [
    "Realization: Point light source placed in the focal point of a lens, i.e., with $\\delta_\\alpha = 0$, so that\n",
    "\n",
    "$\\begin{align}\n",
    " 0 = f\\cdot \\tan(\\alpha) \\Leftrightarrow \\alpha = 0^\\circ\\,.\n",
    "\\end{align}$"
   ]
  },
  {
   "cell_type": "markdown",
   "id": "a739d5c5",
   "metadata": {
    "cell_style": "split",
    "slideshow": {
     "slide_type": "fragment"
    }
   },
   "source": [
    "<img src=\"figures/2/telecentricLightSourceExample.png\" style=\"max-width:40vw; max-height:20vh\">"
   ]
  },
  {
   "cell_type": "markdown",
   "id": "b08a4cc2",
   "metadata": {
    "slideshow": {
     "slide_type": "fragment"
    }
   },
   "source": [
    "Note: It is also possible to realize a telecentric light source with a spatially controllable pattern."
   ]
  },
  {
   "cell_type": "markdown",
   "id": "e098183e",
   "metadata": {
    "slideshow": {
     "slide_type": "slide"
    }
   },
   "source": [
    "## Image acquisition and image formation process"
   ]
  },
  {
   "cell_type": "markdown",
   "id": "053634ac",
   "metadata": {
    "slideshow": {
     "slide_type": "subslide"
    }
   },
   "source": [
    "### Image acquisition model"
   ]
  },
  {
   "cell_type": "markdown",
   "id": "d516d548",
   "metadata": {},
   "source": [
    "For the scope of this course (except stated otherwise), the image acquisition process is assumed to follow this model:"
   ]
  },
  {
   "cell_type": "markdown",
   "id": "a818c5f2",
   "metadata": {
    "cell_style": "center",
    "slideshow": {
     "slide_type": "subslide"
    }
   },
   "source": [
    "<img src=\"figures/2/imageFormationModel.svg\" style=\"max-height:40vh\">"
   ]
  },
  {
   "cell_type": "markdown",
   "id": "091a305f",
   "metadata": {
    "cell_style": "center",
    "slideshow": {
     "slide_type": "fragment"
    }
   },
   "source": [
    "* $L$ : Light field which illuminates the scene and which is generated by the illumination device.\n",
    "* $L'$: Light field modulated by the scene.\n",
    "    * $f_\\mathrm{phys}(L,\\mathbf{\\unicode{x3BE}}_\\mathrm{geom})$: Modulation, involving geometric parameters $\\mathbf{\\unicode{x3BE}}_\\mathrm{geom}$ (e.g., orientation of the scene).\n",
    "* $\\mathbf{g}$: Digital image resulting from the sensor capturing a section of $L'$.\n",
    "    * $f_\\mathrm{sens}(L',\\mathbf{\\unicode{x3BE}}_\\mathrm{sens})$: Image acquisition, involving parameters $\\mathbf{\\unicode{x3BE}}_\\mathrm{sens}$ (e.g., alignment, orientation and acquisition parameters of the sensor).\n",
    "* $\\mathbf{g'}$: Processed image.\n",
    "    * $f_\\mathrm{proc}(\\mathbf{g},\\mathbf{\\unicode{x3BE}}_\\mathrm{proc})$: Image processing algorithms with parameters $\\mathbf{\\unicode{x3BE}}_\\mathrm{proc}\\,$."
   ]
  },
  {
   "cell_type": "markdown",
   "id": "b00d179d",
   "metadata": {
    "slideshow": {
     "slide_type": "subslide"
    }
   },
   "source": [
    "Image signals $\\mathbf{g}$ will typically be modelled as functions<br>\n",
    "\n",
    "$\\begin{align}\n",
    "\\mathbf{g}:\\Omega \\rightarrow \\mathbb{R}^c\\,,\\quad \\Omega \\subseteq \\mathbb{R}^2\n",
    "\\end{align}$\n",
    "<br>\n",
    "defined over a two-dimensional support $\\Omega$ and yielding $c$-channel image values $\\mathbf{g}$ for every position $\\mathbf{x}$:<br><br>\n",
    "$\\begin{align}\\mathbf{g}(\\mathbf{x})=\\begin{pmatrix}\n",
    "g_1(\\mathbf{x})\\\\ g_2(\\mathbf{x}) \\\\ \\vdots \\\\ g_c (\\mathbf{x})\n",
    "\\end{pmatrix}\\,, \\quad \\mathrm{with} \\quad \\mathbf{x} = \n",
    "\\begin{pmatrix}\n",
    "x \\\\ y\n",
    "\\end{pmatrix}\\,.\\end{align}$"
   ]
  },
  {
   "cell_type": "markdown",
   "id": "1fce8ddf",
   "metadata": {
    "tags": [
     "book_only"
    ]
   },
   "source": [
    "Note: Digital image signals are usually not continuous, neither w.r.t. their support nor w.r.t. their values."
   ]
  },
  {
   "cell_type": "markdown",
   "id": "7e21e0d3",
   "metadata": {
    "slideshow": {
     "slide_type": "subslide"
    }
   },
   "source": [
    "### Framework system theory"
   ]
  },
  {
   "cell_type": "markdown",
   "id": "07f0ce47",
   "metadata": {
    "tags": [
     "book_only"
    ]
   },
   "source": [
    "The whole set of imaging components (illumination, lenses, sensor, algorithms, etc.) can be considered as a system $\\mathscr{S}$.<br> The system transforms an input signal $\\mathbf{f}(\\mathbf{x})$ to an output signal $\\mathbf{k}(\\mathbf{x})$:<br>\n",
    "\n",
    "$\\begin{align}\n",
    "\\mathbf{k}(\\mathbf{x})=\\mathscr{S}\\lbrace \\mathbf{f}(\\mathbf{x}) \\rbrace \\,.\n",
    "\\end{align}$"
   ]
  },
  {
   "cell_type": "markdown",
   "id": "6d80b1b8",
   "metadata": {},
   "source": [
    "<img src=\"figures/2/systemTheory.svg\" style=\"max-height:150px\">"
   ]
  },
  {
   "cell_type": "markdown",
   "id": "e7ba5d03",
   "metadata": {
    "slideshow": {
     "slide_type": "subslide"
    }
   },
   "source": [
    "An important type of systems are so-called **linear shift invariant (LSI) systems** for which the following two properties hold:"
   ]
  },
  {
   "cell_type": "markdown",
   "id": "fc31b150",
   "metadata": {
    "slideshow": {
     "slide_type": "fragment"
    }
   },
   "source": [
    "##### Linearity\n",
    "Given two signals $\\mathbf{f}(\\mathbf{x}), \\mathbf{f}'(\\mathbf{x})$ and two constants $a, a'$, a system $\\mathscr{S}$ is called linear if<br><br>\n",
    "\n",
    "$\\begin{align}\n",
    "\\mathscr{S}\\lbrace a\\, \\mathbf{f}(\\mathbf{x}) + a'\\, \\mathbf{f}'(\\mathbf{x})\\rbrace=a\\, \\mathscr{S}\\lbrace \\mathbf{f}(\\mathbf{x})\\rbrace + a'\\, \\mathscr{S}\\lbrace \\mathbf{f}'(\\mathbf{x}) \\rbrace\\,.\n",
    "\\end{align}$"
   ]
  },
  {
   "cell_type": "markdown",
   "id": "60c63844",
   "metadata": {
    "slideshow": {
     "slide_type": "fragment"
    }
   },
   "source": [
    "##### Shift invariance\n",
    "A system $\\mathscr{S}$ is called shift invariant if<br><br>\n",
    "\n",
    "$\\begin{align}\n",
    "\\mathscr{S}\\lbrace \\mathbf{f}(\\mathbf{x}-\\mathbf{x}_0) \\rbrace = \\mathbf{k}(\\mathbf{x}-\\mathbf{x}_0) \\quad \\mathrm{with} \\quad \\mathbf{k}(\\mathbf{x})=\\mathscr{S}\\lbrace\\mathbf{f}(\\mathbf{x})\\rbrace \\,.\n",
    "\\end{align}$"
   ]
  },
  {
   "cell_type": "markdown",
   "id": "ed93b430",
   "metadata": {
    "slideshow": {
     "slide_type": "fragment"
    }
   },
   "source": [
    "The effect of an LSI system on a signal can be comfortably studied by means of its impulse response, which will be explained after the introduction of some necessary definitions."
   ]
  },
  {
   "cell_type": "markdown",
   "id": "52093fed",
   "metadata": {
    "slideshow": {
     "slide_type": "subslide"
    }
   },
   "source": [
    "#### Dirac delta function"
   ]
  },
  {
   "cell_type": "markdown",
   "id": "0947b7b4",
   "metadata": {
    "tags": [
     "book_only"
    ]
   },
   "source": [
    "Note: For the sake of simplicity, the scalar case is considered at first."
   ]
  },
  {
   "cell_type": "markdown",
   "id": "d1731ade",
   "metadata": {},
   "source": [
    "The Dirac delta function $\\delta(x)$ is defined via its effect when being used as an integral kernel together with an arbitrary function $f(x)$:<br><br>\n",
    "$\\begin{align}\n",
    "\\int\\limits^\\infty_{-\\infty} \\delta(x-x_0)f(x) \\mathrm{d}x = f(x_0) \\quad \\mathrm{with}\\, f(x)\\, \\mathrm{continuous\\, at}\\, x_0\\,. \n",
    "\\end{align}$<br>\n",
    "$\\Rightarrow$ it extracts the value of $f(x)$ at the position $x_0$."
   ]
  },
  {
   "cell_type": "markdown",
   "id": "33ff5b37",
   "metadata": {
    "slideshow": {
     "slide_type": "fragment"
    }
   },
   "source": [
    "Assuming $f(x)\\equiv 1$ immediately implies <br><br>\n",
    "\n",
    "$\\begin{align}\n",
    "\\int\\limits^\\infty_{-\\infty} \\delta (x) \\mathrm{d}x = 1\\,. \n",
    "\\end{align}$"
   ]
  },
  {
   "cell_type": "markdown",
   "id": "a006090a",
   "metadata": {
    "slideshow": {
     "slide_type": "subslide"
    }
   },
   "source": [
    "The Dirac delta function can be imagined as a very narrow, impulse-shaped function with an integral of $1$. It can be approximated via:<br><br>\n",
    "\n",
    "$\\begin{align}\n",
    " \\delta_\\varepsilon (x):=\\frac{1}{\\varepsilon}\\,\\mathrm{rect}(x,\\varepsilon) \n",
    "\\end{align}$\n",
    "\n",
    "with the **rectangular function** <br>\n",
    "$\\begin{align} \\mathrm{rect}(x,\\varepsilon):=\n",
    "\\begin{cases}\n",
    "1 \\quad \\mathrm{if}\\, \\vert x \\vert < \\frac{\\varepsilon}{2}\\,, \\\\\n",
    "0 \\quad \\mathrm{otherwise}\\,,\n",
    "\\end{cases} \\end{align}$\n",
    "with $\\varepsilon$ denoting the width of the impulse."
   ]
  },
  {
   "cell_type": "markdown",
   "id": "e7db072f",
   "metadata": {
    "slideshow": {
     "slide_type": "fragment"
    }
   },
   "source": [
    "For $\\varepsilon \\rightarrow 0$ it holds:\n",
    "\n",
    "$\\begin{align}\n",
    " \\lim_{\\varepsilon \\rightarrow 0} \\int\\limits^\\infty_{-\\infty} \\delta_\\varepsilon(x-x_0)f(x)\\mathrm{d}x=f(x_0)=\\int\\limits^\\infty_{-\\infty} \\delta(x-x_0)f(x) \\mathrm{d}x \\quad \\mathrm{with}\\, f(x)\\, \\mathrm{continuous\\, at}\\, x_0\\,,\n",
    "\\end{align}$\n",
    "<br>\n",
    "since $f(x) \\approx f(x_0)$ for a sufficiently small neighborhood of $\\varepsilon$ around $x_0$ because of the continuity of $f(x)$ in $x_0$, leading to<br><br>\n",
    "\n",
    "$\\begin{align}\n",
    " \\delta_\\varepsilon(x)\\xrightarrow{\\varepsilon \\rightarrow 0} \\delta(x)\\,. \n",
    "\\end{align}$"
   ]
  },
  {
   "cell_type": "markdown",
   "id": "0f939485",
   "metadata": {
    "slideshow": {
     "slide_type": "subslide"
    }
   },
   "source": [
    "##### Visualization of the Dirac delta function"
   ]
  },
  {
   "cell_type": "code",
   "execution_count": 8,
   "id": "30fa6fac",
   "metadata": {
    "init_cell": true
   },
   "outputs": [],
   "source": [
    "def rect(x,eps):\n",
    "    if np.linalg.norm(x) < (eps/2.0):\n",
    "        return 1\n",
    "    else:\n",
    "        return 0"
   ]
  },
  {
   "cell_type": "code",
   "execution_count": 9,
   "id": "e36572c3",
   "metadata": {
    "init_cell": true,
    "slideshow": {
     "slide_type": "subslide"
    }
   },
   "outputs": [],
   "source": [
    "def diracEps(x,eps):\n",
    "    return (1.0/eps) * rect(x,eps)"
   ]
  },
  {
   "cell_type": "code",
   "execution_count": 10,
   "id": "51844d2b",
   "metadata": {
    "init_cell": true,
    "slideshow": {
     "slide_type": "subslide"
    }
   },
   "outputs": [],
   "source": [
    "def plotDiracEps(eps):\n",
    "    factor = 100.0\n",
    "    xs = np.arange(-5, 5, 1/factor, dtype=np.float32)\n",
    "    ys = [diracEps(x,eps) for x in xs]\n",
    "    plt.clf()\n",
    "    plt.plot(xs, ys)\n",
    "    print(\"Integral: \" + str(np.sum(ys)/factor))"
   ]
  },
  {
   "cell_type": "code",
   "execution_count": 11,
   "id": "1965e504",
   "metadata": {
    "init_cell": true,
    "slideshow": {
     "slide_type": "subslide"
    }
   },
   "outputs": [
    {
     "data": {
      "text/plain": [
       "<Figure size 432x288 with 0 Axes>"
      ]
     },
     "metadata": {},
     "output_type": "display_data"
    },
    {
     "data": {
      "application/vnd.jupyter.widget-view+json": {
       "model_id": "8384734468ae4b6688bf205f2f016f2e",
       "version_major": 2,
       "version_minor": 0
      },
      "text/plain": [
       "interactive(children=(FloatSlider(value=2.0, description='eps', max=2.0, min=0.01), Output()), _dom_classes=('…"
      ]
     },
     "metadata": {},
     "output_type": "display_data"
    },
    {
     "data": {
      "text/plain": [
       "<function __main__.plotDiracEps(eps)>"
      ]
     },
     "execution_count": 11,
     "metadata": {},
     "output_type": "execute_result"
    }
   ],
   "source": [
    "plt.figure()\n",
    "interact(plotDiracEps, eps=widgets.FloatSlider(min=0.01, max=2.0, step=0.1, value=2.0))"
   ]
  },
  {
   "cell_type": "markdown",
   "id": "614340a7",
   "metadata": {
    "slideshow": {
     "slide_type": "subslide"
    }
   },
   "source": [
    "##### 2D Dirac delta function\n",
    "The two-dimensional Dirac delta function is defined as\n",
    "$\\begin{align}\n",
    "\\int\\limits^\\infty_{-\\infty}\\int\\limits^\\infty_{-\\infty}\\delta (\\mathbf{x}-\\mathbf{x_0})f(\\mathbf{x})\\mathrm{d}\\mathbf{x}=f(\\mathbf{x}_0)\\quad \\mathrm{with\\,}f(\\mathbf{x})\\,\\mathrm{continuous\\,at\\,}\\mathbf{x}_0\\,.\n",
    "\\end{align}$<br>\n",
    "The same properties hold as for the one-dimensional case."
   ]
  },
  {
   "cell_type": "markdown",
   "id": "d77b5b92",
   "metadata": {
    "slideshow": {
     "slide_type": "subslide"
    }
   },
   "source": [
    "#### Convolution"
   ]
  },
  {
   "cell_type": "markdown",
   "id": "f8cedcfa",
   "metadata": {},
   "source": [
    "The **convolution** $f(x)* h(x)$ of two functions $f(x),h(x)$ is defined as:<br>\n",
    "$\n",
    "\\begin{align}\n",
    "f(x)* h(x):= \\int\\limits^\\infty_{-\\infty}f(\\alpha)h(x-\\alpha)\\mathrm{d}\\alpha=\\int\\limits^\\infty_{-\\infty}f(x-\\alpha)h(\\alpha)\\mathrm{d}\\alpha\\,.\n",
    "\\end{align}\n",
    "$"
   ]
  },
  {
   "cell_type": "markdown",
   "id": "01c07965",
   "metadata": {
    "slideshow": {
     "slide_type": "fragment"
    }
   },
   "source": [
    "Convolving an arbitrary function $f(x)$ with $\\delta(x-x_0)$ corresponds to shifting $f(x)$ by $x_0$:<br>\n",
    "$\\begin{align}\n",
    "f(x)*\\delta(x-x_0)=\\int\\limits^\\infty_{-\\infty}f(\\alpha)\\delta(\\underbrace{x-x_0-\\alpha}_{=\\,0\\, \\Leftrightarrow\\, \\alpha\\, =\\, x-x_0})\\mathrm{d}\\alpha=f(x-x_0)\\,.\n",
    "\\end{align}\n",
    "$"
   ]
  },
  {
   "cell_type": "markdown",
   "id": "e508d309",
   "metadata": {
    "slideshow": {
     "slide_type": "fragment"
    }
   },
   "source": [
    "Hence, for $x_0=0:\\quad    f(x)*\\delta(x)=f(x)\\,.$"
   ]
  },
  {
   "cell_type": "markdown",
   "id": "61618114",
   "metadata": {
    "slideshow": {
     "slide_type": "subslide"
    }
   },
   "source": [
    "##### 2D convolution"
   ]
  },
  {
   "cell_type": "markdown",
   "id": "3c651c0b",
   "metadata": {},
   "source": [
    "The two-dimensional convolution of two functions $f(\\mathbf{x}), h(\\mathbf{x})$ is denoted by the $**$-operator and is defined as follows:<br>\n",
    "$\\begin{align}\n",
    "    f(\\mathbf{x})**h(\\mathbf{x}) := \\int\\limits^\\infty_{-\\infty}\\int\\limits^\\infty_{-\\infty} f\\left((\\alpha,\\beta)^\\intercal\\right)h\\left( (x-\\alpha, y-\\beta)^\\intercal \\right)\\mathrm{d}\\alpha\\, \\mathrm{d}\\beta\\,.\n",
    "\\end{align}$"
   ]
  },
  {
   "cell_type": "markdown",
   "id": "a840a97f",
   "metadata": {
    "slideshow": {
     "slide_type": "subslide"
    }
   },
   "source": [
    "#### Impulse response of an LSI system"
   ]
  },
  {
   "cell_type": "markdown",
   "id": "3a60e8a9",
   "metadata": {},
   "source": [
    "The response of an LSI system $\\mathscr{S}\\lbrace \\cdot \\rbrace$ to an input signal $f(x)$ can be expressed using a convolution integral:<br>\n",
    "$\\begin{align}\n",
    "    \\mathscr{S}\\lbrace f(x)\\rbrace = \n",
    "    \\mathscr{S}\\lbrace f(x) * \\delta(x) \\rbrace &= \n",
    "    \\mathscr{S} \\left\\lbrace \\int\\limits^\\infty_{-\\infty} f(\\alpha)\\delta(x-\\alpha)\\mathrm{d}\\alpha \\right\\rbrace \\\\ &=\n",
    "    \\int\\limits^\\infty_{-\\infty}f(\\alpha)\\underbrace{\\mathscr{S}\\lbrace\\delta(x-\\alpha)\\rbrace}_{h(x-\\alpha)}\\mathrm{d}\\alpha \\\\ &=\n",
    "    f(x)*h(x)\\,.\n",
    "\\end{align}$"
   ]
  },
  {
   "cell_type": "markdown",
   "id": "35617329",
   "metadata": {
    "slideshow": {
     "slide_type": "fragment"
    }
   },
   "source": [
    "The response $h(x)=\\mathscr{S}\\lbrace \\delta(x) \\rbrace$ of $\\mathscr{S}\\lbrace \\cdot \\rbrace$ to the input $\\delta(x)$ is called the **impulse response** of $\\mathscr{S}\\lbrace \\cdot \\rbrace$."
   ]
  },
  {
   "cell_type": "markdown",
   "id": "c010f17c",
   "metadata": {
    "slideshow": {
     "slide_type": "fragment"
    }
   },
   "source": [
    "An LSI system is completely characterized by its impulse response $h(x)$."
   ]
  },
  {
   "cell_type": "markdown",
   "id": "921077e6",
   "metadata": {
    "slideshow": {
     "slide_type": "subslide"
    }
   },
   "source": [
    "##### Example: Impulse response of a defocused optical imaging system"
   ]
  },
  {
   "cell_type": "markdown",
   "id": "fb6c4cad",
   "metadata": {
    "tags": [
     "book_only"
    ]
   },
   "source": [
    "For a defocused optical imaging system (see 2.1.2.1), object points from the observed scene are mapped to circles of confusion on the sensor."
   ]
  },
  {
   "cell_type": "markdown",
   "id": "65778feb",
   "metadata": {},
   "source": [
    "<img src=\"figures/2/thinLensDefocus.svg\" style=\"max-height:40vh\">"
   ]
  },
  {
   "cell_type": "markdown",
   "id": "56162a4d",
   "metadata": {
    "slideshow": {
     "slide_type": "subslide"
    },
    "tags": [
     "book_only"
    ]
   },
   "source": [
    "* Such an optical system can be interpreted and handled as an LSI system. \n",
    "* Hence, the impulse response function $h(\\mathbf{x})$ is sufficient for the complete characterization of the system."
   ]
  },
  {
   "cell_type": "markdown",
   "id": "eebaebd8",
   "metadata": {
    "slideshow": {
     "slide_type": "subslide"
    }
   },
   "source": [
    "##### Acquiring $h(\\mathbf{x})$"
   ]
  },
  {
   "cell_type": "markdown",
   "id": "e3806f52",
   "metadata": {},
   "source": [
    "* One way to acquire $h(\\mathbf{x})$, is to present an impulse-shaped input to the system and record its answer.\n",
    "* With respect to optical systems, an impulse corresponds to a scene having only a single bright point centered at the optical axis.\n",
    "* In the domain of optics, $h(\\mathbf{x})$ is often also denoted as the so-called **point spread function (PSF)**, as will be illustrated by the upcoming example."
   ]
  },
  {
   "cell_type": "markdown",
   "id": "e74228f6",
   "metadata": {
    "slideshow": {
     "slide_type": "subslide"
    }
   },
   "source": [
    "<img src=\"figures/2/thinLensDefocusPSF.svg\" style=\"max-height:80vh\">"
   ]
  },
  {
   "cell_type": "markdown",
   "id": "556e38d6",
   "metadata": {
    "slideshow": {
     "slide_type": "subslide"
    }
   },
   "source": [
    "The impulse response $h(\\mathbf{x})$ will have the shape of a two-dimensional $\\mathrm{rect}$-function:<br>\n",
    "$\\begin{align}\n",
    "    h(\\mathbf{x}) = \\mathrm{rect}\\left( \\Vert x \\Vert, \\varepsilon \\right)\\,,\n",
    "\\end{align}$<br>\n",
    "sometimes also denoted as the so-called **pillbox function** (looks like a round box for drugs)."
   ]
  },
  {
   "cell_type": "markdown",
   "id": "8c49646b",
   "metadata": {
    "slideshow": {
     "slide_type": "subslide"
    }
   },
   "source": [
    "To simulate the output of the system for a scene, e.g., given as a grayscale image $g(\\mathbf{x})$, it is sufficient to calculate $g(\\mathbf{x})**\\,h(\\mathbf{x})$ as will be shown in the following example."
   ]
  },
  {
   "cell_type": "code",
   "execution_count": 12,
   "id": "f141b0d0",
   "metadata": {
    "init_cell": true,
    "slideshow": {
     "slide_type": "subslide"
    }
   },
   "outputs": [],
   "source": [
    "def createPillobxResponse(r):\n",
    "    X,Y = np.meshgrid(np.arange(-r-1,r+2,1), np.arange(-r-1,r+2,1))\n",
    "    psf = np.zeros_like(X)\n",
    "    psf[np.sqrt(X**2+Y**2) <= r] = 1\n",
    "    #psf = psf * (1 / np.sum(np.sum(psf)))\n",
    "    return psf, X, Y"
   ]
  },
  {
   "cell_type": "code",
   "execution_count": 13,
   "id": "a0937ff2",
   "metadata": {
    "init_cell": true,
    "slideshow": {
     "slide_type": "subslide"
    }
   },
   "outputs": [],
   "source": [
    "psf, X, Y = createPillobxResponse(10)"
   ]
  },
  {
   "cell_type": "code",
   "execution_count": 14,
   "id": "159393ef",
   "metadata": {
    "init_cell": true,
    "slideshow": {
     "slide_type": "fragment"
    }
   },
   "outputs": [
    {
     "data": {
      "image/png": "[encoded data removed]",
      "text/plain": [
       "<Figure size 432x288 with 1 Axes>"
      ]
     },
     "metadata": {
      "filenames": {
       "image/png": "C:\\Users\\meyjoh\\repos\\vlcompimg\\mynewbook\\_build\\jupyter_execute\\02_Basics_131_0.png"
      },
      "needs_background": "light"
     },
     "output_type": "display_data"
    }
   ],
   "source": [
    "fig, ax = plt.subplots(subplot_kw={\"projection\": \"3d\"})\n",
    "surf = ax.plot_surface(X, Y, psf)\n",
    "plt.show()"
   ]
  },
  {
   "cell_type": "code",
   "execution_count": 15,
   "id": "200e59f1",
   "metadata": {
    "init_cell": true,
    "slideshow": {
     "slide_type": "subslide"
    }
   },
   "outputs": [
    {
     "data": {
      "image/png": "[encoded data removed]",
      "text/plain": [
       "<Figure size 432x288 with 1 Axes>"
      ]
     },
     "metadata": {
      "filenames": {
       "image/png": "C:\\Users\\meyjoh\\repos\\vlcompimg\\mynewbook\\_build\\jupyter_execute\\02_Basics_132_0.png"
      },
      "needs_background": "light"
     },
     "output_type": "display_data"
    }
   ],
   "source": [
    "img = cv2.cvtColor(plt.imread('figures/2/input_Cam020.png'), cv2.COLOR_RGB2GRAY)\n",
    "plt.figure()\n",
    "imshow(img, cmap='gray')"
   ]
  },
  {
   "cell_type": "code",
   "execution_count": 16,
   "id": "b5422f16",
   "metadata": {
    "init_cell": true,
    "slideshow": {
     "slide_type": "subslide"
    }
   },
   "outputs": [],
   "source": [
    "def defocusExample(r):\n",
    "    psf, _, _ = createPillobxResponse(r)\n",
    "    res = sig.convolve2d(img, psf, mode='same', boundary='fill')\n",
    "    imshow(res, cmap='gray')"
   ]
  },
  {
   "cell_type": "code",
   "execution_count": 17,
   "id": "a4be7765",
   "metadata": {
    "init_cell": true,
    "slideshow": {
     "slide_type": "fragment"
    }
   },
   "outputs": [
    {
     "data": {
      "text/plain": [
       "<Figure size 432x288 with 0 Axes>"
      ]
     },
     "metadata": {},
     "output_type": "display_data"
    },
    {
     "data": {
      "application/vnd.jupyter.widget-view+json": {
       "model_id": "192e2bfb6e28467a81d61ddf74001498",
       "version_major": 2,
       "version_minor": 0
      },
      "text/plain": [
       "interactive(children=(IntSlider(value=3, description='r', max=10), Output()), _dom_classes=('widget-interact',…"
      ]
     },
     "metadata": {},
     "output_type": "display_data"
    },
    {
     "data": {
      "text/plain": [
       "<function __main__.defocusExample(r)>"
      ]
     },
     "execution_count": 17,
     "metadata": {},
     "output_type": "execute_result"
    }
   ],
   "source": [
    "plt.figure()\n",
    "interact(defocusExample, r=widgets.IntSlider(min=0, max=10, step=1, value=3))"
   ]
  },
  {
   "cell_type": "markdown",
   "id": "b7e09793",
   "metadata": {
    "slideshow": {
     "slide_type": "subslide"
    }
   },
   "source": [
    "### Fourier transform"
   ]
  },
  {
   "cell_type": "markdown",
   "id": "1578aedf",
   "metadata": {
    "slideshow": {
     "slide_type": "subslide"
    }
   },
   "source": [
    "#### Fourier series, trigonometric form"
   ]
  },
  {
   "cell_type": "markdown",
   "id": "bae5d806",
   "metadata": {
    "slideshow": {
     "slide_type": "subslide"
    }
   },
   "source": [
    "Every periodic function $g(x)$ with a periodic interval $\\left[0, L\\right]$ can be expressed as a series of weighted sine functions and cosine functions via the so-called Fourier series synthesis:\n",
    "<br>\n",
    "$\\begin{align}\n",
    "    g(x) = a_0 + \\sum\\limits^\\infty_{f=1} \\left(a_f \\cos \\left( \\frac{2\\pi f x}{L} \\right) + b_f \\sin \\left(\\frac{2\\pi f x}{L} \\right)\\right)\\,,\n",
    "\\end{align}$<br>\n",
    "with $a_f$ and $b_f$ denoting the Fourier series coefficients."
   ]
  },
  {
   "cell_type": "markdown",
   "id": "b729e74e",
   "metadata": {
    "slideshow": {
     "slide_type": "subslide"
    }
   },
   "source": [
    "The Fourier series coefficients are obtained via the Fourier series analysis:\n",
    "<br>\n",
    "$\\begin{align}\n",
    "    a_0 &= \\frac{1}{L} \\int\\limits^L_0 g(x)\\mathrm{d}x \\\\\n",
    "    a_f &= \\frac{2}{L} \\int\\limits^L_0 g(x) \\cos\\left(\\frac{2\\pi f x}{L}\\right) \\mathrm{d}x \\\\\n",
    "    b_f &= \\frac{2}{L} \\int\\limits^L_0 g(x) \\sin\\left(\\frac{2\\pi f x}{L}\\right) \\mathrm{d}x \n",
    "\\end{align}$<br>"
   ]
  },
  {
   "cell_type": "markdown",
   "id": "e2604bc4",
   "metadata": {
    "slideshow": {
     "slide_type": "fragment"
    }
   },
   "source": [
    "The index $f$ denotes the frequency of the approximating oscillations with respect to the periodic interval $\\left[0,L\\right]$ of $g(x)$."
   ]
  },
  {
   "cell_type": "markdown",
   "id": "5f024957",
   "metadata": {},
   "source": [
    "Higher $f$ correspond to higher frequencies which encode fine details of $g(x)$."
   ]
  },
  {
   "cell_type": "markdown",
   "id": "def72f5a",
   "metadata": {
    "slideshow": {
     "slide_type": "subslide"
    }
   },
   "source": [
    "##### Example: Trigonometric Fourier series calculation"
   ]
  },
  {
   "cell_type": "code",
   "execution_count": 18,
   "id": "0aab6023",
   "metadata": {
    "init_cell": true
   },
   "outputs": [
    {
     "data": {
      "text/plain": [
       "[<matplotlib.lines.Line2D at 0x1d68cf642b0>]"
      ]
     },
     "execution_count": 18,
     "metadata": {},
     "output_type": "execute_result"
    },
    {
     "data": {
      "image/png": "[encoded data removed]",
      "text/plain": [
       "<Figure size 432x288 with 1 Axes>"
      ]
     },
     "metadata": {
      "filenames": {
       "image/png": "C:\\Users\\meyjoh\\repos\\vlcompimg\\mynewbook\\_build\\jupyter_execute\\02_Basics_142_1.png"
      },
      "needs_background": "light"
     },
     "output_type": "display_data"
    }
   ],
   "source": [
    "L=20\n",
    "freq=4\n",
    "samples=10000\n",
    "xs = (np.linspace(0,L,samples,endpoint=True))\n",
    "gs = sig.sawtooth(2*np.pi*xs*freq/L,)\n",
    "plt.figure()\n",
    "plt.plot(xs, gs)"
   ]
  },
  {
   "cell_type": "code",
   "execution_count": 19,
   "id": "b3fc7682",
   "metadata": {
    "slideshow": {
     "slide_type": "notes"
    }
   },
   "outputs": [],
   "source": [
    "a0 = 1/L * simpson(gs,xs)\n",
    "an = []\n",
    "bn = []\n",
    "for i in range(1,110):\n",
    "    an.append((2.0/L)*simpson(gs*np.cos(2*np.pi*i*xs/L) ,xs))\n",
    "    bn.append((2.0/L)*simpson(gs*np.sin(2*np.pi*i*xs/L) ,xs))"
   ]
  },
  {
   "cell_type": "code",
   "execution_count": 20,
   "id": "ebc471f1",
   "metadata": {
    "slideshow": {
     "slide_type": "notes"
    },
    "tags": [
     "remove-cell"
    ]
   },
   "outputs": [],
   "source": [
    "gs2 = np.zeros_like(xs)\n",
    "gs2 = gs2 + a0\n",
    "for i in range(0,len(an)):\n",
    "    gs2 = gs2 + an[i]*np.cos(2*np.pi*xs/L*(i+1)) + bn[i]*np.sin(2*np.pi*xs/L*(i+1))"
   ]
  },
  {
   "cell_type": "code",
   "execution_count": 21,
   "id": "605bd9da",
   "metadata": {
    "slideshow": {
     "slide_type": "notes"
    },
    "tags": [
     "remove-cell"
    ]
   },
   "outputs": [
    {
     "data": {
      "text/plain": [
       "[<matplotlib.lines.Line2D at 0x1d68cfd0760>]"
      ]
     },
     "execution_count": 21,
     "metadata": {},
     "output_type": "execute_result"
    },
    {
     "data": {
      "image/png": "[encoded data removed]",
      "text/plain": [
       "<Figure size 432x288 with 1 Axes>"
      ]
     },
     "metadata": {
      "filenames": {
       "image/png": "C:\\Users\\meyjoh\\repos\\vlcompimg\\mynewbook\\_build\\jupyter_execute\\02_Basics_145_1.png"
      },
      "needs_background": "light"
     },
     "output_type": "display_data"
    }
   ],
   "source": [
    "plt.figure()\n",
    "plt.plot(xs,gs2)\n",
    "plt.plot(xs,gs)"
   ]
  },
  {
   "cell_type": "code",
   "execution_count": 22,
   "id": "e79a768e",
   "metadata": {
    "init_cell": true,
    "slideshow": {
     "slide_type": "subslide"
    }
   },
   "outputs": [],
   "source": [
    "def reconstrTrigFourier(terms):\n",
    "    a0 = 1/L * simpson(gs,xs)\n",
    "    an = []\n",
    "    bn = []\n",
    "    for i in range(1,terms):\n",
    "        an.append((2.0/L)*simpson(gs*np.cos(2*np.pi*i*xs/L) ,xs))\n",
    "        bn.append((2.0/L)*simpson(gs*np.sin(2*np.pi*i*xs/L) ,xs))\n",
    "    \n",
    "    gs2 = np.zeros_like(xs)\n",
    "    gs2 = gs2 + a0\n",
    "    for i in range(0,len(an)):\n",
    "        gs2 = gs2 + an[i]*np.cos(2*np.pi*xs/L*(i+1)) + bn[i]*np.sin(2*np.pi*xs/L*(i+1))\n",
    "\n",
    "    plt.clf()\n",
    "    plt.plot(xs,gs2)\n",
    "    plt.plot(xs,gs)"
   ]
  },
  {
   "cell_type": "code",
   "execution_count": 23,
   "id": "e3c19e9d",
   "metadata": {
    "init_cell": true,
    "slideshow": {
     "slide_type": "subslide"
    }
   },
   "outputs": [
    {
     "data": {
      "text/plain": [
       "<Figure size 432x288 with 0 Axes>"
      ]
     },
     "metadata": {},
     "output_type": "display_data"
    },
    {
     "data": {
      "application/vnd.jupyter.widget-view+json": {
       "model_id": "a6d767dc57da47b5abef8e46c66a1f52",
       "version_major": 2,
       "version_minor": 0
      },
      "text/plain": [
       "interactive(children=(IntSlider(value=1, description='terms', min=1, step=4), Output()), _dom_classes=('widget…"
      ]
     },
     "metadata": {},
     "output_type": "display_data"
    },
    {
     "data": {
      "text/plain": [
       "<function __main__.reconstrTrigFourier(terms)>"
      ]
     },
     "execution_count": 23,
     "metadata": {},
     "output_type": "execute_result"
    }
   ],
   "source": [
    "plt.figure()\n",
    "interact(reconstrTrigFourier, terms=widgets.IntSlider(min=1, max=100, step=4, value=1))"
   ]
  },
  {
   "cell_type": "markdown",
   "id": "adc90e68",
   "metadata": {
    "slideshow": {
     "slide_type": "subslide"
    }
   },
   "source": [
    "#### Fourier series, exponential form"
   ]
  },
  {
   "cell_type": "markdown",
   "id": "cba82c65",
   "metadata": {},
   "source": [
    "The concept of Fourier series can be further simplified and compacted by making use of complex numbers $a+b\\,\\mathrm{j} \\in \\mathbb{C}$ with the imaginary unit $\\mathrm{j}$.<br>"
   ]
  },
  {
   "cell_type": "markdown",
   "id": "f098a847",
   "metadata": {
    "slideshow": {
     "slide_type": "subslide"
    }
   },
   "source": [
    "Key ingredient to the following considerations is the so-called **Euler's formula**:<br>\n",
    "$\\begin{align}\n",
    "    \\mathrm{e}^{\\,\\mathrm{j}x}&= \\cos(x)+\\mathrm{j}\\,\\sin(x)\\,,\\\\\n",
    "    \\mathrm{e}^{\\,-\\mathrm{j}x}&= \\cos(x)-\\mathrm{j}\\,\\sin(x)\\,.\n",
    "\\end{align}$<br>"
   ]
  },
  {
   "cell_type": "markdown",
   "id": "2b3f1ca6",
   "metadata": {
    "slideshow": {
     "slide_type": "fragment"
    }
   },
   "source": [
    "The Fourier synthesis then simplifies to<br>\n",
    "$\\begin{align}\n",
    "    g(x)=\\sum\\limits^{+\\infty}_{f=-\\infty} c_f \\exp\\left(\\frac{\\mathrm{j}2\\pi f x}{L}\\right)\\,,\n",
    "\\end{align}$<br>\n",
    "with $c_f$ denoting the complex Fourier coefficients."
   ]
  },
  {
   "cell_type": "markdown",
   "id": "4ee2f358",
   "metadata": {
    "slideshow": {
     "slide_type": "subslide"
    }
   },
   "source": [
    "The complex Fourier coefficients are obtained via the more compact complex Fourier analysis:<br>\n",
    "$\\begin{align}\n",
    "    c_f = \\frac{1}{L} \\int\\limits^L_0 g(x)\\exp\\left(\\frac{-\\mathrm{j}2\\pi f x}{L}\\right)\\mathrm{d}x\n",
    "\\end{align}$<br>"
   ]
  },
  {
   "cell_type": "markdown",
   "id": "bdbe43d3",
   "metadata": {
    "slideshow": {
     "slide_type": "fragment"
    }
   },
   "source": [
    "The coefficients are symmetric in the way that $c_i = c^*_{-i}$ with $^*$ denoting the complex conjugate. Hence, all the imaginary parts cancel out during the synthesis."
   ]
  },
  {
   "cell_type": "markdown",
   "id": "a1c8f33b",
   "metadata": {
    "slideshow": {
     "slide_type": "subslide"
    }
   },
   "source": [
    "##### Example: Exponential Fourier series calculation"
   ]
  },
  {
   "cell_type": "code",
   "execution_count": 24,
   "id": "9575c4f8",
   "metadata": {
    "init_cell": true
   },
   "outputs": [
    {
     "data": {
      "text/plain": [
       "[<matplotlib.lines.Line2D at 0x1d68e1a67f0>]"
      ]
     },
     "execution_count": 24,
     "metadata": {},
     "output_type": "execute_result"
    },
    {
     "data": {
      "image/png": "[encoded data removed]",
      "text/plain": [
       "<Figure size 432x288 with 1 Axes>"
      ]
     },
     "metadata": {
      "filenames": {
       "image/png": "C:\\Users\\meyjoh\\repos\\vlcompimg\\mynewbook\\_build\\jupyter_execute\\02_Basics_155_1.png"
      },
      "needs_background": "light"
     },
     "output_type": "display_data"
    }
   ],
   "source": [
    "L=20.0\n",
    "freq=4\n",
    "samples=10000\n",
    "xs = (np.linspace(0,L,samples,endpoint=True))\n",
    "gs = sig.sawtooth(2*np.pi*xs*freq/L,)+3\n",
    "plt.figure()\n",
    "plt.plot(xs, gs)"
   ]
  },
  {
   "cell_type": "code",
   "execution_count": 25,
   "id": "fc5c07e9",
   "metadata": {
    "slideshow": {
     "slide_type": "notes"
    },
    "tags": [
     "remove-cell"
    ]
   },
   "outputs": [],
   "source": [
    "terms = 100\n",
    "fs = np.arange(-1*terms,terms+1)\n",
    "cn = np.zeros(len(fs),dtype='complex128')\n",
    "for i in range(0,len(fs)):\n",
    "    cn[i]=((1.0/L)*simpson(gs*np.exp(-1j*2*np.pi*fs[i]*xs/L),xs))"
   ]
  },
  {
   "cell_type": "code",
   "execution_count": 26,
   "id": "8cea16b2",
   "metadata": {
    "slideshow": {
     "slide_type": "notes"
    },
    "tags": [
     "remove-cell"
    ]
   },
   "outputs": [],
   "source": [
    "gs2 = np.zeros_like(xs)\n",
    "for i in range(0,len(fs)):\n",
    "    gs2 = gs2 + cn[i]*np.exp(1j*2*np.pi*fs[i]*xs/L)"
   ]
  },
  {
   "cell_type": "code",
   "execution_count": 27,
   "id": "064a3863",
   "metadata": {
    "slideshow": {
     "slide_type": "notes"
    },
    "tags": [
     "remove-cell"
    ]
   },
   "outputs": [
    {
     "data": {
      "text/plain": [
       "[<matplotlib.lines.Line2D at 0x1d68e219e50>]"
      ]
     },
     "execution_count": 27,
     "metadata": {},
     "output_type": "execute_result"
    },
    {
     "data": {
      "image/png": "[encoded data removed]",
      "text/plain": [
       "<Figure size 432x288 with 1 Axes>"
      ]
     },
     "metadata": {
      "filenames": {
       "image/png": "C:\\Users\\meyjoh\\repos\\vlcompimg\\mynewbook\\_build\\jupyter_execute\\02_Basics_158_1.png"
      },
      "needs_background": "light"
     },
     "output_type": "display_data"
    }
   ],
   "source": [
    "plt.figure()\n",
    "plt.plot(xs,np.real_if_close(gs2))\n",
    "plt.plot(xs,gs)"
   ]
  },
  {
   "cell_type": "code",
   "execution_count": 28,
   "id": "d1f9af71",
   "metadata": {
    "init_cell": true,
    "slideshow": {
     "slide_type": "subslide"
    }
   },
   "outputs": [],
   "source": [
    "def reconstrExpFourier(terms):\n",
    "    fs = np.arange(-1*terms,terms+1)\n",
    "    cn = np.zeros(len(fs),dtype='complex128')\n",
    "    for i in range(0,len(fs)):\n",
    "        cn[i]=((1.0/L)*simpson(gs*np.exp(-1j*2*np.pi*fs[i]*xs/L),xs))\n",
    "\n",
    "    gs2 = np.zeros_like(xs)\n",
    "    for i in range(0,len(fs)):\n",
    "        gs2 = gs2 + cn[i]*np.exp(1j*2*np.pi*fs[i]*xs/L)        \n",
    "        \n",
    "    plt.clf()\n",
    "    plt.plot(xs,np.real_if_close(gs2))\n",
    "    plt.plot(xs,gs)\n",
    "    "
   ]
  },
  {
   "cell_type": "code",
   "execution_count": 29,
   "id": "6578c87f",
   "metadata": {
    "init_cell": true,
    "slideshow": {
     "slide_type": "subslide"
    }
   },
   "outputs": [
    {
     "data": {
      "text/plain": [
       "<Figure size 432x288 with 0 Axes>"
      ]
     },
     "metadata": {},
     "output_type": "display_data"
    },
    {
     "data": {
      "application/vnd.jupyter.widget-view+json": {
       "model_id": "a9d70e743dad414e8db99e69c4916036",
       "version_major": 2,
       "version_minor": 0
      },
      "text/plain": [
       "interactive(children=(IntSlider(value=20, description='terms', min=1, step=4), Output()), _dom_classes=('widge…"
      ]
     },
     "metadata": {},
     "output_type": "display_data"
    },
    {
     "data": {
      "text/plain": [
       "<function __main__.reconstrExpFourier(terms)>"
      ]
     },
     "execution_count": 29,
     "metadata": {},
     "output_type": "execute_result"
    }
   ],
   "source": [
    "plt.figure()\n",
    "interact(reconstrExpFourier, terms=widgets.IntSlider(min=1, max=100, step=4, value=20))"
   ]
  },
  {
   "cell_type": "markdown",
   "id": "7cb505e5",
   "metadata": {
    "slideshow": {
     "slide_type": "subslide"
    }
   },
   "source": [
    "#### Fourier transform"
   ]
  },
  {
   "cell_type": "markdown",
   "id": "36a33d0d",
   "metadata": {},
   "source": [
    "The Fourier transform transforms a nearly arbitrary, usually real-valued function $g(x)$ into a complex-valued function $G(f):\\mathbb{R}\\rightarrow \\mathbb{C}$ with frequency $f$:<br>\n",
    "$\\begin{align}\n",
    "    G(f):=\\int\\limits^\\infty_{-\\infty}g(x) \\exp (-\\mathrm{j}2\\pi f x)\\,\\mathrm{d}x=:\\mathscr{F}\\lbrace g(x) \\rbrace\\,,\n",
    "\\end{align}$<br>\n",
    "which is also called the **spectrum** of $g(x)$."
   ]
  },
  {
   "cell_type": "markdown",
   "id": "7322e19c",
   "metadata": {
    "slideshow": {
     "slide_type": "fragment"
    }
   },
   "source": [
    "The inverse transform is given by:<br>\n",
    "$\\begin{align}\n",
    "    g(x)=\\int\\limits^\\infty_{-\\infty}G(f)\\exp(\\mathrm{j}2\\pi f x)\\,\\mathrm{d}f=:\\mathscr{F}^{-1}\\lbrace G(f) \\rbrace\\,.\n",
    "\\end{align}$<br>"
   ]
  },
  {
   "cell_type": "markdown",
   "id": "158bb84e",
   "metadata": {
    "slideshow": {
     "slide_type": "subslide"
    }
   },
   "source": [
    "Since $G(f)\\in \\mathbb{C}$, it can be expressed as<br><br>\n",
    "$\\begin{align}\n",
    "    G(f)=\\vert G(f) \\vert\\cdot \\exp(\\mathrm{j}\\varphi(f)) =  \\mathscr{R}\\lbrace G(f) \\rbrace + \\mathrm{j}\\,\\mathscr{I}\\lbrace G(f) \\rbrace\\,,\n",
    "\\end{align}$<br><br>\n",
    "with $\\vert G(f) \\vert$ denoting the **magnitude spectrum**, $\\varphi(f)$ denoting the **phase spectrum**, $\\mathscr{R}\\lbrace G(f) \\rbrace$ denoting the real part of $G(f)$ and  $\\mathscr{I}\\lbrace G(f) \\rbrace$ denoting the imaginary part of $G(f)$."
   ]
  },
  {
   "cell_type": "markdown",
   "id": "b9cf63c3",
   "metadata": {
    "slideshow": {
     "slide_type": "fragment"
    }
   },
   "source": [
    "The variable $f$ of $G$ denotes a frequency with respect to spatial positions (not to time!), which is why it is denoted as a **spatial frequency** with unit $\\left[f\\right]=\\left[x\\right]^{-1}$."
   ]
  },
  {
   "cell_type": "markdown",
   "id": "75c1bd2d",
   "metadata": {
    "slideshow": {
     "slide_type": "subslide"
    }
   },
   "source": [
    "Common naming conventions:\n",
    "* **Spatial domain**: the domain of $g(x)$,\n",
    "* **Fourier domain** or **spatial frequency domain**: the domain of $G(f)$."
   ]
  },
  {
   "cell_type": "markdown",
   "id": "cc7abb35",
   "metadata": {
    "slideshow": {
     "slide_type": "subslide"
    }
   },
   "source": [
    "##### 2D Fourier transform"
   ]
  },
  {
   "cell_type": "markdown",
   "id": "89315854",
   "metadata": {},
   "source": [
    "The two-dimensional Fourier transform $G(\\mathbf{f}):\\mathbb{R}^2\\rightarrow \\mathbb{C},\\, \\mathbf{f}=(f_x,f_y)^\\intercal$ of a two-dimensional function $g(\\mathbf{x}):\\mathbb{R}^2 \\rightarrow \\mathbb{C},\\, \\mathbf{x}=(x,y)^\\intercal$ is obtained via the following integral transform:<br>\n",
    "$\\begin{align}\n",
    "    G(\\mathbf{f})=\\mathscr{F}\\lbrace g(\\mathbf{x}) \\rbrace := \\int\\limits^\\infty_{-\\infty}\\int\\limits^\\infty_{-\\infty}g(\\mathbf{x}) \\exp \\left(-\\mathrm{j}2\\pi\\,\\mathbf{f}^\\intercal \\mathbf{x} \\right) \\mathrm{d} \\mathbf{x} \\,.\n",
    "\\end{align}$<br>"
   ]
  },
  {
   "cell_type": "markdown",
   "id": "69a06e3d",
   "metadata": {
    "slideshow": {
     "slide_type": "fragment"
    }
   },
   "source": [
    "The inverse transform is given by:<br>\n",
    "$\\begin{align}\n",
    "    g(\\mathbf{x})=\\mathscr{F}^{-1}\\lbrace G(\\mathbf{f}) \\rbrace = \\int\\limits^\\infty_{-\\infty}\\int\\limits^\\infty_{-\\infty} G(\\mathbf{f}) \\exp\\left( \\mathrm{j}2\\pi\\,\\mathbf{f}^\\intercal \\mathbf{x} \\right) \\mathrm{d}\\mathbf{f}\\,.\n",
    "\\end{align}$<br>"
   ]
  },
  {
   "cell_type": "markdown",
   "id": "f33da19f",
   "metadata": {
    "slideshow": {
     "slide_type": "subslide"
    }
   },
   "source": [
    "#### Convolution theorem"
   ]
  },
  {
   "cell_type": "markdown",
   "id": "ab552604",
   "metadata": {},
   "source": [
    "Consider the Fourier transform of the convolution of two signals $g(x), h(x)$:\n",
    "<br>\n",
    "$\\begin{align}\n",
    "    \\mathscr{F}\\lbrace g(x) * h(x) \\rbrace &= \\int\\limits^\\infty_{-\\infty}\\int\\limits^\\infty_{-\\infty}g(\\alpha)h(x-\\alpha)\\mathrm{d}\\alpha\\, \\exp\\left( -\\mathrm{j}2\\pi f x  \\right)\\, \\mathrm{d} x\\\\\n",
    "    &= \\int\\limits^\\infty_{-\\infty}g(\\alpha)\\int\\limits^\\infty_{-\\infty}h(x-\\alpha)\\exp\\left( -\\mathrm{j}2\\pi f x  \\right)\\, \\mathrm{d}x\\,\\mathrm{d} \\alpha \\,.\n",
    "\\end{align}$<br>"
   ]
  },
  {
   "cell_type": "markdown",
   "id": "73cd0f52",
   "metadata": {
    "slideshow": {
     "slide_type": "fragment"
    }
   },
   "source": [
    "Now, the substitution $\\beta:= x- \\alpha$ yields:<br>\n",
    "$\\begin{align}\n",
    "    \\mathscr{F}\\lbrace g(x) * h(x) \\rbrace &=  \\int\\limits^\\infty_{-\\infty}g(\\alpha)\\int\\limits^\\infty_{-\\infty}h(\\beta)\\exp\\left( -\\mathrm{j}2\\pi f (\\alpha + \\beta)  \\right)\\, \\mathrm{d}x\\,\\mathrm{d} \\alpha \\\\\n",
    "    &= \\underbrace{ \\int\\limits^\\infty_{-\\infty} g(\\alpha) \\exp\\left( -\\mathrm{j}2\\pi f \\alpha  \\right)\\, \\mathrm{d} \\alpha }_{G(f)}\\cdot \n",
    "    \\underbrace{\\int\\limits^\\infty_{-\\infty} h(\\beta) \\exp\\left( -\\mathrm{j}2\\pi f \\beta  \\right)\\, \\mathrm{d} \\beta}_{H(f)}\\,.\n",
    "\\end{align}$<br>"
   ]
  },
  {
   "cell_type": "markdown",
   "id": "af75ce2e",
   "metadata": {
    "slideshow": {
     "slide_type": "subslide"
    }
   },
   "source": [
    "Hence, the Fourier transform transforms the convolution of two signals into a multiplication of their spectra and vice versa:<br>\n",
    "$\\begin{align}\n",
    "    g(x)*h(x) &= \\mathscr{F}^{-1}\\lbrace G(f)\\cdot H(f) \\rbrace \\,, \\\\\n",
    "    g(x)\\cdot h(x) &= \\mathscr{F}^{-1}\\lbrace G(f) * H(f) \\rbrace \\,. \\\\\n",
    "\\end{align}$<br>"
   ]
  },
  {
   "cell_type": "markdown",
   "id": "96fb2232",
   "metadata": {
    "slideshow": {
     "slide_type": "fragment"
    }
   },
   "source": [
    "This dualism can be exploited in various ways, e.g., to speed up the calculation of a convolution by performing it as a multiplication in the frequency space (i.e., Fourier domain)."
   ]
  },
  {
   "cell_type": "markdown",
   "id": "7422f28b",
   "metadata": {
    "slideshow": {
     "slide_type": "subslide"
    }
   },
   "source": [
    "#### Discrete Fourier transform (DFT)"
   ]
  },
  {
   "cell_type": "markdown",
   "id": "1710508c",
   "metadata": {
    "tags": [
     "book_only"
    ]
   },
   "source": [
    "The Fourier transform requires unlimited continuous signals what can't be practically realized in a computer (no unlimited storage)."
   ]
  },
  {
   "cell_type": "markdown",
   "id": "59162e2a",
   "metadata": {
    "tags": [
     "book_only"
    ]
   },
   "source": [
    "As a practical approximation, the **discrete Fourier transform** (DFT) can be employed."
   ]
  },
  {
   "cell_type": "markdown",
   "id": "7c510984",
   "metadata": {},
   "source": [
    "The signal $g(x)$ is assumed to be sampled at $N$ positions having an equidistant spacing of $\\Delta x$, i.e., $x=n \\Delta x, n\\in\\left[0,\\ldots,N-1\\right]$."
   ]
  },
  {
   "cell_type": "markdown",
   "id": "0c5e9e0a",
   "metadata": {
    "slideshow": {
     "slide_type": "subslide"
    }
   },
   "source": [
    "The DFT $G(f)$ of $g(x)$ is then obtained via:<br>\n",
    "$\\begin{align}\n",
    "    G(f) = \\sum\\limits^{N-1}_{n=0} g(n\\Delta x)\\exp\\left( -\\mathrm{j}2\\pi  \\frac{fn}{N} \\right) \\,.\n",
    "\\end{align}$<br>"
   ]
  },
  {
   "cell_type": "markdown",
   "id": "933c33f8",
   "metadata": {
    "slideshow": {
     "slide_type": "fragment"
    }
   },
   "source": [
    "The inverse DFT is calculated as:<br>\n",
    "$\\begin{align}\n",
    "    g(n\\Delta x)\\approx \\frac{1}{N} \\sum\\limits^{N-1}_{f=0} G(f) \\exp \\left( \\mathrm{j}2\\pi \\frac{fn}{N} \\right)\\,.\n",
    "\\end{align}$<br>"
   ]
  },
  {
   "cell_type": "markdown",
   "id": "07c17e9a",
   "metadata": {
    "slideshow": {
     "slide_type": "subslide"
    }
   },
   "source": [
    "##### Illustration of the DFT"
   ]
  },
  {
   "cell_type": "code",
   "execution_count": 30,
   "id": "bac42f0b",
   "metadata": {
    "init_cell": true,
    "slideshow": {
     "slide_type": "subslide"
    }
   },
   "outputs": [
    {
     "data": {
      "application/vnd.jupyter.widget-view+json": {
       "model_id": "89d7660f808e4bfaa5124bd8daf064f3",
       "version_major": 2,
       "version_minor": 0
      },
      "text/plain": [
       "interactive(children=(IntSlider(value=1, description='i', max=3, min=1), Output()), _dom_classes=('widget-inte…"
      ]
     },
     "metadata": {},
     "output_type": "display_data"
    },
    {
     "data": {
      "text/plain": [
       "<function __main__.<lambda>(i)>"
      ]
     },
     "execution_count": 30,
     "metadata": {},
     "output_type": "execute_result"
    }
   ],
   "source": [
    "interact(lambda i: showFig('figures/2/dftSpectrum_',i,'.svg',800,60), i=widgets.IntSlider(min=1,max=3, step=1, value=1))"
   ]
  },
  {
   "cell_type": "markdown",
   "id": "573c7e12",
   "metadata": {
    "slideshow": {
     "slide_type": "subslide"
    },
    "tags": [
     "book_only"
    ]
   },
   "source": [
    "##### Note"
   ]
  },
  {
   "cell_type": "markdown",
   "id": "e97ed89e",
   "metadata": {
    "tags": [
     "book_only"
    ]
   },
   "source": [
    "The following two important properties of the DFT can be seen in the last step of the animation:\n",
    "1. The DFT implicitly periodically repeats the approximated spectrum.<br>This has to be taken into account when making use of the convolution theorem, since convolutions performed as multiplications in the Fourier domain (calculated with the DFT) have to be regarded as cyclic."
   ]
  },
  {
   "cell_type": "markdown",
   "id": "2dfc1000",
   "metadata": {
    "tags": [
     "book_only"
    ]
   },
   "source": [
    "2. The center of the extracted window of length $N$ corresponds to the highest spatial frequencies.<br> By appropriately swapping the window halves, the correct arrangement can be obtained."
   ]
  },
  {
   "cell_type": "markdown",
   "id": "6a345f3d",
   "metadata": {
    "slideshow": {
     "slide_type": "subslide"
    }
   },
   "source": [
    "##### Example: DFT calculation"
   ]
  },
  {
   "cell_type": "code",
   "execution_count": 31,
   "id": "aa7f6d1b",
   "metadata": {
    "init_cell": true
   },
   "outputs": [
    {
     "data": {
      "text/plain": [
       "[<matplotlib.lines.Line2D at 0x1d68e2949d0>]"
      ]
     },
     "execution_count": 31,
     "metadata": {},
     "output_type": "execute_result"
    },
    {
     "data": {
      "image/png": "[encoded data removed]",
      "text/plain": [
       "<Figure size 432x288 with 1 Axes>"
      ]
     },
     "metadata": {
      "filenames": {
       "image/png": "C:\\Users\\meyjoh\\repos\\vlcompimg\\mynewbook\\_build\\jupyter_execute\\02_Basics_187_1.png"
      },
      "needs_background": "light"
     },
     "output_type": "display_data"
    }
   ],
   "source": [
    "L=20.0\n",
    "freq=4\n",
    "samples=10001\n",
    "xs = (np.linspace(0,L,samples,endpoint=True))\n",
    "xs2 = np.arange(0,samples)\n",
    "gs = sig.sawtooth(2*np.pi*xs*freq/L,)\n",
    "plt.figure()\n",
    "plt.plot(xs, gs)"
   ]
  },
  {
   "cell_type": "code",
   "execution_count": 32,
   "id": "ee823547",
   "metadata": {
    "init_cell": true,
    "slideshow": {
     "slide_type": "subslide"
    }
   },
   "outputs": [],
   "source": [
    "cn = np.zeros(samples,dtype='complex128')\n",
    "for i in range(0,samples):\n",
    "    cn[i] = np.sum(gs * np.exp(-1j*2*np.pi*xs2*i/samples))"
   ]
  },
  {
   "cell_type": "code",
   "execution_count": 33,
   "id": "4a08cd5c",
   "metadata": {
    "init_cell": true,
    "slideshow": {
     "slide_type": "fragment"
    }
   },
   "outputs": [],
   "source": [
    "gs2 = np.zeros_like(cn)\n",
    "for i in range(0,samples):\n",
    "    gs2[i] = (1.0/samples) * np.sum(cn*np.exp(1j*2*np.pi*xs2*i/samples))"
   ]
  },
  {
   "cell_type": "code",
   "execution_count": 34,
   "id": "a46c4ab1",
   "metadata": {
    "init_cell": true,
    "slideshow": {
     "slide_type": "subslide"
    }
   },
   "outputs": [
    {
     "name": "stderr",
     "output_type": "stream",
     "text": [
      "C:\\Users\\meyjoh\\repos\\vlcompimg\\compimg\\lib\\site-packages\\numpy\\core\\_asarray.py:102: ComplexWarning: Casting complex values to real discards the imaginary part\n",
      "  return array(a, dtype, copy=False, order=order)\n"
     ]
    },
    {
     "data": {
      "text/plain": [
       "[<matplotlib.lines.Line2D at 0x1d68cb98460>]"
      ]
     },
     "execution_count": 34,
     "metadata": {},
     "output_type": "execute_result"
    },
    {
     "data": {
      "image/png": "[encoded data removed]",
      "text/plain": [
       "<Figure size 432x288 with 1 Axes>"
      ]
     },
     "metadata": {
      "filenames": {
       "image/png": "C:\\Users\\meyjoh\\repos\\vlcompimg\\mynewbook\\_build\\jupyter_execute\\02_Basics_190_2.png"
      },
      "needs_background": "light"
     },
     "output_type": "display_data"
    }
   ],
   "source": [
    "plt.figure()\n",
    "plt.plot(xs,np.real_if_close(gs2))\n",
    "plt.plot(xs,gs)"
   ]
  },
  {
   "cell_type": "markdown",
   "id": "27c74d17",
   "metadata": {
    "slideshow": {
     "slide_type": "subslide"
    },
    "tags": [
     "book_only"
    ]
   },
   "source": [
    "##### Note\n",
    "In practice, one would employ one of the existing, highly optimized libraries to perform the DFT calculation, e.g., the `numpy.fft` module."
   ]
  },
  {
   "cell_type": "markdown",
   "id": "4524bb75",
   "metadata": {},
   "source": [
    "### Example: Image filtering in the Fourier domain"
   ]
  },
  {
   "cell_type": "markdown",
   "id": "4083859b",
   "metadata": {},
   "source": [
    "In this example, again the effect of a defocused optical imaging system will be simulated by using the previously introduced pillbox function as the point spread function."
   ]
  },
  {
   "cell_type": "markdown",
   "id": "ae9a885a",
   "metadata": {},
   "source": [
    "However, this time the convolution will be performed as a multiplication in the Fourier domain."
   ]
  },
  {
   "cell_type": "markdown",
   "id": "97f3527f",
   "metadata": {},
   "source": [
    "1. Read the input image, convert it to grayscale and ensure that is has odd dimensions by padding with zeros:"
   ]
  },
  {
   "cell_type": "code",
   "execution_count": 35,
   "id": "1f6a66ce",
   "metadata": {},
   "outputs": [
    {
     "data": {
      "image/png": "[encoded data removed]",
      "text/plain": [
       "<Figure size 432x288 with 1 Axes>"
      ]
     },
     "metadata": {
      "filenames": {
       "image/png": "C:\\Users\\meyjoh\\repos\\vlcompimg\\mynewbook\\_build\\jupyter_execute\\02_Basics_196_0.png"
      },
      "needs_background": "light"
     },
     "output_type": "display_data"
    }
   ],
   "source": [
    "img = cv2.cvtColor(plt.imread('figures/2/input_Cam020.png'), cv2.COLOR_RGB2GRAY)\n",
    "img = np.pad(img,(((img.shape[0]+1)%2,0),((img.shape[1]+1)%2,0)))\n",
    "imshow(img, cmap='gray')"
   ]
  },
  {
   "cell_type": "markdown",
   "id": "6ccf9cf5",
   "metadata": {},
   "source": [
    "2. Create a PSF using the `createPillboxResponse`-function and pad it with zeros so that it matches the size of the input image:"
   ]
  },
  {
   "cell_type": "code",
   "execution_count": 36,
   "id": "db15a7c1",
   "metadata": {},
   "outputs": [],
   "source": [
    "psf,_,_ = createPillobxResponse(5)\n",
    "rows2add = int((img.shape[0] - psf.shape[0])/2)\n",
    "cols2add = int((img.shape[1] - psf.shape[1])/2)\n",
    "psf = np.pad(psf, ((rows2add,rows2add),(cols2add,cols2add)))"
   ]
  },
  {
   "cell_type": "markdown",
   "id": "292a052f",
   "metadata": {},
   "source": [
    "3. Transform both, the image and the PSF into the Fourier domain using DFT, shift their spectra into the common arrangement, multiply the spectra, undo the shift and transform the result back into the spatial frequency domain."
   ]
  },
  {
   "cell_type": "code",
   "execution_count": 37,
   "id": "37eca1a6",
   "metadata": {},
   "outputs": [],
   "source": [
    "imgF = np.fft.fft2(img)         #DFT of img\n",
    "psfF = np.fft.fft2(             #DFT of\n",
    "        np.fft.ifftshift(psf))  #shifted psf\n",
    "\n",
    "imgF = np.fft.fftshift(imgF)    #shifting of imgF\n",
    "psfF = np.fft.fftshift(psfF)    #shifting of psfF\n",
    "\n",
    "resF = imgF * psfF              #multiplication of \n",
    "                                #the shifted spectra\n",
    "    \n",
    "res  = np.fft.ifft2(            #inverse DFT of\n",
    "        np.fft.ifftshift(resF)) #inverse shift"
   ]
  },
  {
   "cell_type": "code",
   "execution_count": 38,
   "id": "0883dfce",
   "metadata": {},
   "outputs": [
    {
     "data": {
      "image/png": "[encoded data removed]",
      "text/plain": [
       "<Figure size 432x288 with 1 Axes>"
      ]
     },
     "metadata": {
      "filenames": {
       "image/png": "C:\\Users\\meyjoh\\repos\\vlcompimg\\mynewbook\\_build\\jupyter_execute\\02_Basics_201_0.png"
      },
      "needs_background": "light"
     },
     "output_type": "display_data"
    }
   ],
   "source": [
    "plt.figure()\n",
    "imshow(np.real(res), cmap='gray')"
   ]
  },
  {
   "cell_type": "markdown",
   "id": "5f7bf207",
   "metadata": {
    "tags": [
     "remove-cell"
    ]
   },
   "source": [
    "## TODOS:\n",
    "* Introduce and explain term OTF."
   ]
  }
 ],
 "metadata": {
  "jupytext": {
   "formats": "ipynb,md:myst",
   "text_representation": {
    "extension": ".md",
    "format_name": "myst",
    "format_version": 0.13,
    "jupytext_version": "1.14.1"
   }
  },
  "kernelspec": {
   "display_name": "compimg",
   "language": "python",
   "name": "compimg"
  },
  "language_info": {
   "codemirror_mode": {
    "name": "ipython",
    "version": 3
   },
   "file_extension": ".py",
   "mimetype": "text/x-python",
   "name": "python",
   "nbconvert_exporter": "python",
   "pygments_lexer": "ipython3",
   "version": "3.8.10"
  },
  "source_map": [
   15,
   33,
   52,
   56,
   62,
   71,
   84,
   97,
   111,
   115,
   122,
   126,
   130,
   136,
   143,
   147,
   168,
   172,
   180,
   184,
   190,
   197,
   201,
   205,
   209,
   214,
   222,
   226,
   234,
   239,
   243,
   247,
   251,
   255,
   259,
   263,
   267,
   271,
   275,
   279,
   283,
   287,
   291,
   295,
   299,
   303,
   307,
   311,
   315,
   319,
   323,
   331,
   335,
   340,
   344,
   348,
   352,
   356,
   360,
   364,
   368,
   372,
   376,
   384,
   388,
   392,
   397,
   401,
   406,
   410,
   415,
   419,
   423,
   427,
   431,
   436,
   440,
   444,
   448,
   452,
   456,
   460,
   468,
   472,
   476,
   480,
   484,
   488,
   492,
   502,
   518,
   522,
   526,
   534,
   538,
   542,
   551,
   560,
   564,
   568,
   572,
   580,
   588,
   604,
   618,
   622,
   632,
   642,
   657,
   667,
   676,
   680,
   689,
   697,
   701,
   705,
   712,
   716,
   727,
   731,
   735,
   739,
   743,
   747,
   752,
   756,
   762,
   766,
   774,
   778,
   792,
   801,
   812,
   823,
   835,
   845,
   849,
   853,
   862,
   872,
   876,
   880,
   884,
   896,
   909,
   921,
   932,
   956,
   966,
   970,
   974,
   982,
   990,
   997,
   1001,
   1005,
   1017,
   1030,
   1041,
   1052,
   1074,
   1084,
   1088,
   1096,
   1103,
   1111,
   1115,
   1121,
   1125,
   1132,
   1139,
   1143,
   1152,
   1161,
   1169,
   1173,
   1177,
   1181,
   1185,
   1189,
   1196,
   1203,
   1207,
   1216,
   1220,
   1225,
   1229,
   1233,
   1246,
   1257,
   1268,
   1279,
   1284,
   1288,
   1292,
   1296,
   1300,
   1304,
   1308,
   1313,
   1317,
   1332,
   1337
  ],
  "widgets": {
   "application/vnd.jupyter.widget-state+json": {
    "state": {
     "0ac84188df1a4fe697c44f3c8311f3c6": {
      "model_module": "@jupyter-widgets/base",
      "model_module_version": "1.2.0",
      "model_name": "LayoutModel",
      "state": {
       "_model_module": "@jupyter-widgets/base",
       "_model_module_version": "1.2.0",
       "_model_name": "LayoutModel",
       "_view_count": null,
       "_view_module": "@jupyter-widgets/base",
       "_view_module_version": "1.2.0",
       "_view_name": "LayoutView",
       "align_content": null,
       "align_items": null,
       "align_self": null,
       "border": null,
       "bottom": null,
       "display": null,
       "flex": null,
       "flex_flow": null,
       "grid_area": null,
       "grid_auto_columns": null,
       "grid_auto_flow": null,
       "grid_auto_rows": null,
       "grid_column": null,
       "grid_gap": null,
       "grid_row": null,
       "grid_template_areas": null,
       "grid_template_columns": null,
       "grid_template_rows": null,
       "height": null,
       "justify_content": null,
       "justify_items": null,
       "left": null,
       "margin": null,
       "max_height": null,
       "max_width": null,
       "min_height": null,
       "min_width": null,
       "object_fit": null,
       "object_position": null,
       "order": null,
       "overflow": null,
       "overflow_x": null,
       "overflow_y": null,
       "padding": null,
       "right": null,
       "top": null,
       "visibility": null,
       "width": null
      }
     },
     "15adf0dcca4d4ee9bc617ff609a03399": {
      "model_module": "@jupyter-widgets/base",
      "model_module_version": "1.2.0",
      "model_name": "LayoutModel",
      "state": {
       "_model_module": "@jupyter-widgets/base",
       "_model_module_version": "1.2.0",
       "_model_name": "LayoutModel",
       "_view_count": null,
       "_view_module": "@jupyter-widgets/base",
       "_view_module_version": "1.2.0",
       "_view_name": "LayoutView",
       "align_content": null,
       "align_items": null,
       "align_self": null,
       "border": null,
       "bottom": null,
       "display": null,
       "flex": null,
       "flex_flow": null,
       "grid_area": null,
       "grid_auto_columns": null,
       "grid_auto_flow": null,
       "grid_auto_rows": null,
       "grid_column": null,
       "grid_gap": null,
       "grid_row": null,
       "grid_template_areas": null,
       "grid_template_columns": null,
       "grid_template_rows": null,
       "height": null,
       "justify_content": null,
       "justify_items": null,
       "left": null,
       "margin": null,
       "max_height": null,
       "max_width": null,
       "min_height": null,
       "min_width": null,
       "object_fit": null,
       "object_position": null,
       "order": null,
       "overflow": null,
       "overflow_x": null,
       "overflow_y": null,
       "padding": null,
       "right": null,
       "top": null,
       "visibility": null,
       "width": null
      }
     },
     "192e2bfb6e28467a81d61ddf74001498": {
      "model_module": "@jupyter-widgets/controls",
      "model_module_version": "1.5.0",
      "model_name": "VBoxModel",
      "state": {
       "_dom_classes": [
        "widget-interact"
       ],
       "_model_module": "@jupyter-widgets/controls",
       "_model_module_version": "1.5.0",
       "_model_name": "VBoxModel",
       "_view_count": null,
       "_view_module": "@jupyter-widgets/controls",
       "_view_module_version": "1.5.0",
       "_view_name": "VBoxView",
       "box_style": "",
       "children": [
        "IPY_MODEL_97a46738720e465e97fcdb9e0cbed7f3",
        "IPY_MODEL_489bf52df9cb4f4384d0742c81d7ae10"
       ],
       "layout": "IPY_MODEL_24fa488f03e14b4c967e76cbbc2b2294"
      }
     },
     "1a7b2876f101420fa5ae605d87c6d494": {
      "model_module": "@jupyter-widgets/controls",
      "model_module_version": "1.5.0",
      "model_name": "IntSliderModel",
      "state": {
       "_dom_classes": [],
       "_model_module": "@jupyter-widgets/controls",
       "_model_module_version": "1.5.0",
       "_model_name": "IntSliderModel",
       "_view_count": null,
       "_view_module": "@jupyter-widgets/controls",
       "_view_module_version": "1.5.0",
       "_view_name": "IntSliderView",
       "continuous_update": true,
       "description": "i",
       "description_tooltip": null,
       "disabled": false,
       "layout": "IPY_MODEL_28b2c5922c9d4b9f8c4557811c0548cd",
       "max": 3,
       "min": 1,
       "orientation": "horizontal",
       "readout": true,
       "readout_format": "d",
       "step": 1,
       "style": "IPY_MODEL_1d48ff6330234ff8ba0fa579b7a27616",
       "value": 1
      }
     },
     "1d48ff6330234ff8ba0fa579b7a27616": {
      "model_module": "@jupyter-widgets/controls",
      "model_module_version": "1.5.0",
      "model_name": "SliderStyleModel",
      "state": {
       "_model_module": "@jupyter-widgets/controls",
       "_model_module_version": "1.5.0",
       "_model_name": "SliderStyleModel",
       "_view_count": null,
       "_view_module": "@jupyter-widgets/base",
       "_view_module_version": "1.2.0",
       "_view_name": "StyleView",
       "description_width": "",
       "handle_color": null
      }
     },
     "24fa488f03e14b4c967e76cbbc2b2294": {
      "model_module": "@jupyter-widgets/base",
      "model_module_version": "1.2.0",
      "model_name": "LayoutModel",
      "state": {
       "_model_module": "@jupyter-widgets/base",
       "_model_module_version": "1.2.0",
       "_model_name": "LayoutModel",
       "_view_count": null,
       "_view_module": "@jupyter-widgets/base",
       "_view_module_version": "1.2.0",
       "_view_name": "LayoutView",
       "align_content": null,
       "align_items": null,
       "align_self": null,
       "border": null,
       "bottom": null,
       "display": null,
       "flex": null,
       "flex_flow": null,
       "grid_area": null,
       "grid_auto_columns": null,
       "grid_auto_flow": null,
       "grid_auto_rows": null,
       "grid_column": null,
       "grid_gap": null,
       "grid_row": null,
       "grid_template_areas": null,
       "grid_template_columns": null,
       "grid_template_rows": null,
       "height": null,
       "justify_content": null,
       "justify_items": null,
       "left": null,
       "margin": null,
       "max_height": null,
       "max_width": null,
       "min_height": null,
       "min_width": null,
       "object_fit": null,
       "object_position": null,
       "order": null,
       "overflow": null,
       "overflow_x": null,
       "overflow_y": null,
       "padding": null,
       "right": null,
       "top": null,
       "visibility": null,
       "width": null
      }
     },
     "28b2c5922c9d4b9f8c4557811c0548cd": {
      "model_module": "@jupyter-widgets/base",
      "model_module_version": "1.2.0",
      "model_name": "LayoutModel",
      "state": {
       "_model_module": "@jupyter-widgets/base",
       "_model_module_version": "1.2.0",
       "_model_name": "LayoutModel",
       "_view_count": null,
       "_view_module": "@jupyter-widgets/base",
       "_view_module_version": "1.2.0",
       "_view_name": "LayoutView",
       "align_content": null,
       "align_items": null,
       "align_self": null,
       "border": null,
       "bottom": null,
       "display": null,
       "flex": null,
       "flex_flow": null,
       "grid_area": null,
       "grid_auto_columns": null,
       "grid_auto_flow": null,
       "grid_auto_rows": null,
       "grid_column": null,
       "grid_gap": null,
       "grid_row": null,
       "grid_template_areas": null,
       "grid_template_columns": null,
       "grid_template_rows": null,
       "height": null,
       "justify_content": null,
       "justify_items": null,
       "left": null,
       "margin": null,
       "max_height": null,
       "max_width": null,
       "min_height": null,
       "min_width": null,
       "object_fit": null,
       "object_position": null,
       "order": null,
       "overflow": null,
       "overflow_x": null,
       "overflow_y": null,
       "padding": null,
       "right": null,
       "top": null,
       "visibility": null,
       "width": null
      }
     },
     "2d895446f509446badb316cd3068dc61": {
      "model_module": "@jupyter-widgets/base",
      "model_module_version": "1.2.0",
      "model_name": "LayoutModel",
      "state": {
       "_model_module": "@jupyter-widgets/base",
       "_model_module_version": "1.2.0",
       "_model_name": "LayoutModel",
       "_view_count": null,
       "_view_module": "@jupyter-widgets/base",
       "_view_module_version": "1.2.0",
       "_view_name": "LayoutView",
       "align_content": null,
       "align_items": null,
       "align_self": null,
       "border": null,
       "bottom": null,
       "display": null,
       "flex": null,
       "flex_flow": null,
       "grid_area": null,
       "grid_auto_columns": null,
       "grid_auto_flow": null,
       "grid_auto_rows": null,
       "grid_column": null,
       "grid_gap": null,
       "grid_row": null,
       "grid_template_areas": null,
       "grid_template_columns": null,
       "grid_template_rows": null,
       "height": null,
       "justify_content": null,
       "justify_items": null,
       "left": null,
       "margin": null,
       "max_height": null,
       "max_width": null,
       "min_height": null,
       "min_width": null,
       "object_fit": null,
       "object_position": null,
       "order": null,
       "overflow": null,
       "overflow_x": null,
       "overflow_y": null,
       "padding": null,
       "right": null,
       "top": null,
       "visibility": null,
       "width": null
      }
     },
     "2df390ad8b544a50aaf4c4d875393699": {
      "model_module": "@jupyter-widgets/base",
      "model_module_version": "1.2.0",
      "model_name": "LayoutModel",
      "state": {
       "_model_module": "@jupyter-widgets/base",
       "_model_module_version": "1.2.0",
       "_model_name": "LayoutModel",
       "_view_count": null,
       "_view_module": "@jupyter-widgets/base",
       "_view_module_version": "1.2.0",
       "_view_name": "LayoutView",
       "align_content": null,
       "align_items": null,
       "align_self": null,
       "border": null,
       "bottom": null,
       "display": null,
       "flex": null,
       "flex_flow": null,
       "grid_area": null,
       "grid_auto_columns": null,
       "grid_auto_flow": null,
       "grid_auto_rows": null,
       "grid_column": null,
       "grid_gap": null,
       "grid_row": null,
       "grid_template_areas": null,
       "grid_template_columns": null,
       "grid_template_rows": null,
       "height": null,
       "justify_content": null,
       "justify_items": null,
       "left": null,
       "margin": null,
       "max_height": null,
       "max_width": null,
       "min_height": null,
       "min_width": null,
       "object_fit": null,
       "object_position": null,
       "order": null,
       "overflow": null,
       "overflow_x": null,
       "overflow_y": null,
       "padding": null,
       "right": null,
       "top": null,
       "visibility": null,
       "width": null
      }
     },
     "348121a36e81477d8b8aac639974b718": {
      "model_module": "@jupyter-widgets/controls",
      "model_module_version": "1.5.0",
      "model_name": "FloatSliderModel",
      "state": {
       "_dom_classes": [],
       "_model_module": "@jupyter-widgets/controls",
       "_model_module_version": "1.5.0",
       "_model_name": "FloatSliderModel",
       "_view_count": null,
       "_view_module": "@jupyter-widgets/controls",
       "_view_module_version": "1.5.0",
       "_view_name": "FloatSliderView",
       "continuous_update": true,
       "description": "eps",
       "description_tooltip": null,
       "disabled": false,
       "layout": "IPY_MODEL_d8e56be7dbae4923b201def4e2152ed8",
       "max": 2.0,
       "min": 0.01,
       "orientation": "horizontal",
       "readout": true,
       "readout_format": ".2f",
       "step": 0.1,
       "style": "IPY_MODEL_af0762d441814b6a99e92afa83d8aae5",
       "value": 2.0
      }
     },
     "3661e1006ae04e01850085d762671f97": {
      "model_module": "@jupyter-widgets/base",
      "model_module_version": "1.2.0",
      "model_name": "LayoutModel",
      "state": {
       "_model_module": "@jupyter-widgets/base",
       "_model_module_version": "1.2.0",
       "_model_name": "LayoutModel",
       "_view_count": null,
       "_view_module": "@jupyter-widgets/base",
       "_view_module_version": "1.2.0",
       "_view_name": "LayoutView",
       "align_content": null,
       "align_items": null,
       "align_self": null,
       "border": null,
       "bottom": null,
       "display": null,
       "flex": null,
       "flex_flow": null,
       "grid_area": null,
       "grid_auto_columns": null,
       "grid_auto_flow": null,
       "grid_auto_rows": null,
       "grid_column": null,
       "grid_gap": null,
       "grid_row": null,
       "grid_template_areas": null,
       "grid_template_columns": null,
       "grid_template_rows": null,
       "height": null,
       "justify_content": null,
       "justify_items": null,
       "left": null,
       "margin": null,
       "max_height": null,
       "max_width": null,
       "min_height": null,
       "min_width": null,
       "object_fit": null,
       "object_position": null,
       "order": null,
       "overflow": null,
       "overflow_x": null,
       "overflow_y": null,
       "padding": null,
       "right": null,
       "top": null,
       "visibility": null,
       "width": null
      }
     },
     "489bf52df9cb4f4384d0742c81d7ae10": {
      "model_module": "@jupyter-widgets/output",
      "model_module_version": "1.0.0",
      "model_name": "OutputModel",
      "state": {
       "_dom_classes": [],
       "_model_module": "@jupyter-widgets/output",
       "_model_module_version": "1.0.0",
       "_model_name": "OutputModel",
       "_view_count": null,
       "_view_module": "@jupyter-widgets/output",
       "_view_module_version": "1.0.0",
       "_view_name": "OutputView",
       "layout": "IPY_MODEL_f3d8004160734c7889d080b6ad58b324",
       "msg_id": "",
       "outputs": [
        {
         "data": {
          "image/png": "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\n",
          "text/plain": "<Figure size 432x288 with 1 Axes>"
         },
         "metadata": {
          "needs_background": "light"
         },
         "output_type": "display_data"
        }
       ]
      }
     },
     "4cddcdd0e66c40eea6007a9c6215467d": {
      "model_module": "@jupyter-widgets/base",
      "model_module_version": "1.2.0",
      "model_name": "LayoutModel",
      "state": {
       "_model_module": "@jupyter-widgets/base",
       "_model_module_version": "1.2.0",
       "_model_name": "LayoutModel",
       "_view_count": null,
       "_view_module": "@jupyter-widgets/base",
       "_view_module_version": "1.2.0",
       "_view_name": "LayoutView",
       "align_content": null,
       "align_items": null,
       "align_self": null,
       "border": null,
       "bottom": null,
       "display": null,
       "flex": null,
       "flex_flow": null,
       "grid_area": null,
       "grid_auto_columns": null,
       "grid_auto_flow": null,
       "grid_auto_rows": null,
       "grid_column": null,
       "grid_gap": null,
       "grid_row": null,
       "grid_template_areas": null,
       "grid_template_columns": null,
       "grid_template_rows": null,
       "height": null,
       "justify_content": null,
       "justify_items": null,
       "left": null,
       "margin": null,
       "max_height": null,
       "max_width": null,
       "min_height": null,
       "min_width": null,
       "object_fit": null,
       "object_position": null,
       "order": null,
       "overflow": null,
       "overflow_x": null,
       "overflow_y": null,
       "padding": null,
       "right": null,
       "top": null,
       "visibility": null,
       "width": null
      }
     },
     "60b3814a9dff48ccba23403f09ef4397": {
      "model_module": "@jupyter-widgets/controls",
      "model_module_version": "1.5.0",
      "model_name": "SliderStyleModel",
      "state": {
       "_model_module": "@jupyter-widgets/controls",
       "_model_module_version": "1.5.0",
       "_model_name": "SliderStyleModel",
       "_view_count": null,
       "_view_module": "@jupyter-widgets/base",
       "_view_module_version": "1.2.0",
       "_view_name": "StyleView",
       "description_width": "",
       "handle_color": null
      }
     },
     "684eaadc5d4642a69275a30f7bc94cb0": {
      "model_module": "@jupyter-widgets/base",
      "model_module_version": "1.2.0",
      "model_name": "LayoutModel",
      "state": {
       "_model_module": "@jupyter-widgets/base",
       "_model_module_version": "1.2.0",
       "_model_name": "LayoutModel",
       "_view_count": null,
       "_view_module": "@jupyter-widgets/base",
       "_view_module_version": "1.2.0",
       "_view_name": "LayoutView",
       "align_content": null,
       "align_items": null,
       "align_self": null,
       "border": null,
       "bottom": null,
       "display": null,
       "flex": null,
       "flex_flow": null,
       "grid_area": null,
       "grid_auto_columns": null,
       "grid_auto_flow": null,
       "grid_auto_rows": null,
       "grid_column": null,
       "grid_gap": null,
       "grid_row": null,
       "grid_template_areas": null,
       "grid_template_columns": null,
       "grid_template_rows": null,
       "height": null,
       "justify_content": null,
       "justify_items": null,
       "left": null,
       "margin": null,
       "max_height": null,
       "max_width": null,
       "min_height": null,
       "min_width": null,
       "object_fit": null,
       "object_position": null,
       "order": null,
       "overflow": null,
       "overflow_x": null,
       "overflow_y": null,
       "padding": null,
       "right": null,
       "top": null,
       "visibility": null,
       "width": null
      }
     },
     "720d3097c9da4e068a63d542e64e4dd3": {
      "model_module": "@jupyter-widgets/output",
      "model_module_version": "1.0.0",
      "model_name": "OutputModel",
      "state": {
       "_dom_classes": [],
       "_model_module": "@jupyter-widgets/output",
       "_model_module_version": "1.0.0",
       "_model_name": "OutputModel",
       "_view_count": null,
       "_view_module": "@jupyter-widgets/output",
       "_view_module_version": "1.0.0",
       "_view_name": "OutputView",
       "layout": "IPY_MODEL_9c20a28fc06e49d8922873f5fee7f32b",
       "msg_id": "",
       "outputs": [
        {
         "data": {
          "text/html": "<img src=\"figures/2/imaging_pinhole_lens_1.svg\" style=\"max-height:40vh\"/>",
          "text/plain": "<IPython.core.display.HTML object>"
         },
         "metadata": {},
         "output_type": "display_data"
        }
       ]
      }
     },
     "7a4b816a354a47f1b423c1b50efef7bb": {
      "model_module": "@jupyter-widgets/base",
      "model_module_version": "1.2.0",
      "model_name": "LayoutModel",
      "state": {
       "_model_module": "@jupyter-widgets/base",
       "_model_module_version": "1.2.0",
       "_model_name": "LayoutModel",
       "_view_count": null,
       "_view_module": "@jupyter-widgets/base",
       "_view_module_version": "1.2.0",
       "_view_name": "LayoutView",
       "align_content": null,
       "align_items": null,
       "align_self": null,
       "border": null,
       "bottom": null,
       "display": null,
       "flex": null,
       "flex_flow": null,
       "grid_area": null,
       "grid_auto_columns": null,
       "grid_auto_flow": null,
       "grid_auto_rows": null,
       "grid_column": null,
       "grid_gap": null,
       "grid_row": null,
       "grid_template_areas": null,
       "grid_template_columns": null,
       "grid_template_rows": null,
       "height": null,
       "justify_content": null,
       "justify_items": null,
       "left": null,
       "margin": null,
       "max_height": null,
       "max_width": null,
       "min_height": null,
       "min_width": null,
       "object_fit": null,
       "object_position": null,
       "order": null,
       "overflow": null,
       "overflow_x": null,
       "overflow_y": null,
       "padding": null,
       "right": null,
       "top": null,
       "visibility": null,
       "width": null
      }
     },
     "7c2a153eb3df43c4abd610d27c2595e2": {
      "model_module": "@jupyter-widgets/controls",
      "model_module_version": "1.5.0",
      "model_name": "IntSliderModel",
      "state": {
       "_dom_classes": [],
       "_model_module": "@jupyter-widgets/controls",
       "_model_module_version": "1.5.0",
       "_model_name": "IntSliderModel",
       "_view_count": null,
       "_view_module": "@jupyter-widgets/controls",
       "_view_module_version": "1.5.0",
       "_view_name": "IntSliderView",
       "continuous_update": true,
       "description": "terms",
       "description_tooltip": null,
       "disabled": false,
       "layout": "IPY_MODEL_0ac84188df1a4fe697c44f3c8311f3c6",
       "max": 100,
       "min": 1,
       "orientation": "horizontal",
       "readout": true,
       "readout_format": "d",
       "step": 4,
       "style": "IPY_MODEL_60b3814a9dff48ccba23403f09ef4397",
       "value": 1
      }
     },
     "7ec49ba74a2940e9a0a27cda7198a5ca": {
      "model_module": "@jupyter-widgets/output",
      "model_module_version": "1.0.0",
      "model_name": "OutputModel",
      "state": {
       "_dom_classes": [],
       "_model_module": "@jupyter-widgets/output",
       "_model_module_version": "1.0.0",
       "_model_name": "OutputModel",
       "_view_count": null,
       "_view_module": "@jupyter-widgets/output",
       "_view_module_version": "1.0.0",
       "_view_name": "OutputView",
       "layout": "IPY_MODEL_2d895446f509446badb316cd3068dc61",
       "msg_id": "",
       "outputs": [
        {
         "data": {
          "text/html": "<img src=\"figures/2/dftSpectrum_1.svg\" style=\"max-height:60vh\"/>",
          "text/plain": "<IPython.core.display.HTML object>"
         },
         "metadata": {},
         "output_type": "display_data"
        }
       ]
      }
     },
     "8384734468ae4b6688bf205f2f016f2e": {
      "model_module": "@jupyter-widgets/controls",
      "model_module_version": "1.5.0",
      "model_name": "VBoxModel",
      "state": {
       "_dom_classes": [
        "widget-interact"
       ],
       "_model_module": "@jupyter-widgets/controls",
       "_model_module_version": "1.5.0",
       "_model_name": "VBoxModel",
       "_view_count": null,
       "_view_module": "@jupyter-widgets/controls",
       "_view_module_version": "1.5.0",
       "_view_name": "VBoxView",
       "box_style": "",
       "children": [
        "IPY_MODEL_348121a36e81477d8b8aac639974b718",
        "IPY_MODEL_fbfd142175234390901eda6d3b9aaec3"
       ],
       "layout": "IPY_MODEL_684eaadc5d4642a69275a30f7bc94cb0"
      }
     },
     "85b51223124646f5bb59ddcb48dd1ee6": {
      "model_module": "@jupyter-widgets/base",
      "model_module_version": "1.2.0",
      "model_name": "LayoutModel",
      "state": {
       "_model_module": "@jupyter-widgets/base",
       "_model_module_version": "1.2.0",
       "_model_name": "LayoutModel",
       "_view_count": null,
       "_view_module": "@jupyter-widgets/base",
       "_view_module_version": "1.2.0",
       "_view_name": "LayoutView",
       "align_content": null,
       "align_items": null,
       "align_self": null,
       "border": null,
       "bottom": null,
       "display": null,
       "flex": null,
       "flex_flow": null,
       "grid_area": null,
       "grid_auto_columns": null,
       "grid_auto_flow": null,
       "grid_auto_rows": null,
       "grid_column": null,
       "grid_gap": null,
       "grid_row": null,
       "grid_template_areas": null,
       "grid_template_columns": null,
       "grid_template_rows": null,
       "height": null,
       "justify_content": null,
       "justify_items": null,
       "left": null,
       "margin": null,
       "max_height": null,
       "max_width": null,
       "min_height": null,
       "min_width": null,
       "object_fit": null,
       "object_position": null,
       "order": null,
       "overflow": null,
       "overflow_x": null,
       "overflow_y": null,
       "padding": null,
       "right": null,
       "top": null,
       "visibility": null,
       "width": null
      }
     },
     "86f377877a4f4b038663cf3ea01fcb35": {
      "model_module": "@jupyter-widgets/controls",
      "model_module_version": "1.5.0",
      "model_name": "IntSliderModel",
      "state": {
       "_dom_classes": [],
       "_model_module": "@jupyter-widgets/controls",
       "_model_module_version": "1.5.0",
       "_model_name": "IntSliderModel",
       "_view_count": null,
       "_view_module": "@jupyter-widgets/controls",
       "_view_module_version": "1.5.0",
       "_view_name": "IntSliderView",
       "continuous_update": true,
       "description": "i",
       "description_tooltip": null,
       "disabled": false,
       "layout": "IPY_MODEL_cb12c585e1224d7c917a7e472006904e",
       "max": 4,
       "min": 1,
       "orientation": "horizontal",
       "readout": true,
       "readout_format": "d",
       "step": 1,
       "style": "IPY_MODEL_ad6a445258de45f9a9921c4dcec14807",
       "value": 1
      }
     },
     "89d7660f808e4bfaa5124bd8daf064f3": {
      "model_module": "@jupyter-widgets/controls",
      "model_module_version": "1.5.0",
      "model_name": "VBoxModel",
      "state": {
       "_dom_classes": [
        "widget-interact"
       ],
       "_model_module": "@jupyter-widgets/controls",
       "_model_module_version": "1.5.0",
       "_model_name": "VBoxModel",
       "_view_count": null,
       "_view_module": "@jupyter-widgets/controls",
       "_view_module_version": "1.5.0",
       "_view_name": "VBoxView",
       "box_style": "",
       "children": [
        "IPY_MODEL_1a7b2876f101420fa5ae605d87c6d494",
        "IPY_MODEL_7ec49ba74a2940e9a0a27cda7198a5ca"
       ],
       "layout": "IPY_MODEL_7a4b816a354a47f1b423c1b50efef7bb"
      }
     },
     "9404f0592b354fc9961edb0381cfb991": {
      "model_module": "@jupyter-widgets/output",
      "model_module_version": "1.0.0",
      "model_name": "OutputModel",
      "state": {
       "_dom_classes": [],
       "_model_module": "@jupyter-widgets/output",
       "_model_module_version": "1.0.0",
       "_model_name": "OutputModel",
       "_view_count": null,
       "_view_module": "@jupyter-widgets/output",
       "_view_module_version": "1.0.0",
       "_view_name": "OutputView",
       "layout": "IPY_MODEL_4cddcdd0e66c40eea6007a9c6215467d",
       "msg_id": "",
       "outputs": [
        {
         "data": {
          "image/png": "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\n",
          "text/plain": "<Figure size 432x288 with 1 Axes>"
         },
         "metadata": {
          "needs_background": "light"
         },
         "output_type": "display_data"
        }
       ]
      }
     },
     "959c961d37b14b3d9f9db03bbb91b151": {
      "model_module": "@jupyter-widgets/controls",
      "model_module_version": "1.5.0",
      "model_name": "SliderStyleModel",
      "state": {
       "_model_module": "@jupyter-widgets/controls",
       "_model_module_version": "1.5.0",
       "_model_name": "SliderStyleModel",
       "_view_count": null,
       "_view_module": "@jupyter-widgets/base",
       "_view_module_version": "1.2.0",
       "_view_name": "StyleView",
       "description_width": "",
       "handle_color": null
      }
     },
     "97a46738720e465e97fcdb9e0cbed7f3": {
      "model_module": "@jupyter-widgets/controls",
      "model_module_version": "1.5.0",
      "model_name": "IntSliderModel",
      "state": {
       "_dom_classes": [],
       "_model_module": "@jupyter-widgets/controls",
       "_model_module_version": "1.5.0",
       "_model_name": "IntSliderModel",
       "_view_count": null,
       "_view_module": "@jupyter-widgets/controls",
       "_view_module_version": "1.5.0",
       "_view_name": "IntSliderView",
       "continuous_update": true,
       "description": "r",
       "description_tooltip": null,
       "disabled": false,
       "layout": "IPY_MODEL_a3d31b87a03940189bfba1fe420d23ed",
       "max": 10,
       "min": 0,
       "orientation": "horizontal",
       "readout": true,
       "readout_format": "d",
       "step": 1,
       "style": "IPY_MODEL_959c961d37b14b3d9f9db03bbb91b151",
       "value": 3
      }
     },
     "9c20a28fc06e49d8922873f5fee7f32b": {
      "model_module": "@jupyter-widgets/base",
      "model_module_version": "1.2.0",
      "model_name": "LayoutModel",
      "state": {
       "_model_module": "@jupyter-widgets/base",
       "_model_module_version": "1.2.0",
       "_model_name": "LayoutModel",
       "_view_count": null,
       "_view_module": "@jupyter-widgets/base",
       "_view_module_version": "1.2.0",
       "_view_name": "LayoutView",
       "align_content": null,
       "align_items": null,
       "align_self": null,
       "border": null,
       "bottom": null,
       "display": null,
       "flex": null,
       "flex_flow": null,
       "grid_area": null,
       "grid_auto_columns": null,
       "grid_auto_flow": null,
       "grid_auto_rows": null,
       "grid_column": null,
       "grid_gap": null,
       "grid_row": null,
       "grid_template_areas": null,
       "grid_template_columns": null,
       "grid_template_rows": null,
       "height": null,
       "justify_content": null,
       "justify_items": null,
       "left": null,
       "margin": null,
       "max_height": null,
       "max_width": null,
       "min_height": null,
       "min_width": null,
       "object_fit": null,
       "object_position": null,
       "order": null,
       "overflow": null,
       "overflow_x": null,
       "overflow_y": null,
       "padding": null,
       "right": null,
       "top": null,
       "visibility": null,
       "width": null
      }
     },
     "9c3c78450616400c94ba0b441507fd49": {
      "model_module": "@jupyter-widgets/controls",
      "model_module_version": "1.5.0",
      "model_name": "VBoxModel",
      "state": {
       "_dom_classes": [
        "widget-interact"
       ],
       "_model_module": "@jupyter-widgets/controls",
       "_model_module_version": "1.5.0",
       "_model_name": "VBoxModel",
       "_view_count": null,
       "_view_module": "@jupyter-widgets/controls",
       "_view_module_version": "1.5.0",
       "_view_name": "VBoxView",
       "box_style": "",
       "children": [
        "IPY_MODEL_86f377877a4f4b038663cf3ea01fcb35",
        "IPY_MODEL_720d3097c9da4e068a63d542e64e4dd3"
       ],
       "layout": "IPY_MODEL_15adf0dcca4d4ee9bc617ff609a03399"
      }
     },
     "a3d31b87a03940189bfba1fe420d23ed": {
      "model_module": "@jupyter-widgets/base",
      "model_module_version": "1.2.0",
      "model_name": "LayoutModel",
      "state": {
       "_model_module": "@jupyter-widgets/base",
       "_model_module_version": "1.2.0",
       "_model_name": "LayoutModel",
       "_view_count": null,
       "_view_module": "@jupyter-widgets/base",
       "_view_module_version": "1.2.0",
       "_view_name": "LayoutView",
       "align_content": null,
       "align_items": null,
       "align_self": null,
       "border": null,
       "bottom": null,
       "display": null,
       "flex": null,
       "flex_flow": null,
       "grid_area": null,
       "grid_auto_columns": null,
       "grid_auto_flow": null,
       "grid_auto_rows": null,
       "grid_column": null,
       "grid_gap": null,
       "grid_row": null,
       "grid_template_areas": null,
       "grid_template_columns": null,
       "grid_template_rows": null,
       "height": null,
       "justify_content": null,
       "justify_items": null,
       "left": null,
       "margin": null,
       "max_height": null,
       "max_width": null,
       "min_height": null,
       "min_width": null,
       "object_fit": null,
       "object_position": null,
       "order": null,
       "overflow": null,
       "overflow_x": null,
       "overflow_y": null,
       "padding": null,
       "right": null,
       "top": null,
       "visibility": null,
       "width": null
      }
     },
     "a6d767dc57da47b5abef8e46c66a1f52": {
      "model_module": "@jupyter-widgets/controls",
      "model_module_version": "1.5.0",
      "model_name": "VBoxModel",
      "state": {
       "_dom_classes": [
        "widget-interact"
       ],
       "_model_module": "@jupyter-widgets/controls",
       "_model_module_version": "1.5.0",
       "_model_name": "VBoxModel",
       "_view_count": null,
       "_view_module": "@jupyter-widgets/controls",
       "_view_module_version": "1.5.0",
       "_view_name": "VBoxView",
       "box_style": "",
       "children": [
        "IPY_MODEL_7c2a153eb3df43c4abd610d27c2595e2",
        "IPY_MODEL_b922e57718f1488396575b44cc5df823"
       ],
       "layout": "IPY_MODEL_3661e1006ae04e01850085d762671f97"
      }
     },
     "a9d70e743dad414e8db99e69c4916036": {
      "model_module": "@jupyter-widgets/controls",
      "model_module_version": "1.5.0",
      "model_name": "VBoxModel",
      "state": {
       "_dom_classes": [
        "widget-interact"
       ],
       "_model_module": "@jupyter-widgets/controls",
       "_model_module_version": "1.5.0",
       "_model_name": "VBoxModel",
       "_view_count": null,
       "_view_module": "@jupyter-widgets/controls",
       "_view_module_version": "1.5.0",
       "_view_name": "VBoxView",
       "box_style": "",
       "children": [
        "IPY_MODEL_db7f35619bdc438c872124e944d3e686",
        "IPY_MODEL_9404f0592b354fc9961edb0381cfb991"
       ],
       "layout": "IPY_MODEL_2df390ad8b544a50aaf4c4d875393699"
      }
     },
     "ad6a445258de45f9a9921c4dcec14807": {
      "model_module": "@jupyter-widgets/controls",
      "model_module_version": "1.5.0",
      "model_name": "SliderStyleModel",
      "state": {
       "_model_module": "@jupyter-widgets/controls",
       "_model_module_version": "1.5.0",
       "_model_name": "SliderStyleModel",
       "_view_count": null,
       "_view_module": "@jupyter-widgets/base",
       "_view_module_version": "1.2.0",
       "_view_name": "StyleView",
       "description_width": "",
       "handle_color": null
      }
     },
     "af0762d441814b6a99e92afa83d8aae5": {
      "model_module": "@jupyter-widgets/controls",
      "model_module_version": "1.5.0",
      "model_name": "SliderStyleModel",
      "state": {
       "_model_module": "@jupyter-widgets/controls",
       "_model_module_version": "1.5.0",
       "_model_name": "SliderStyleModel",
       "_view_count": null,
       "_view_module": "@jupyter-widgets/base",
       "_view_module_version": "1.2.0",
       "_view_name": "StyleView",
       "description_width": "",
       "handle_color": null
      }
     },
     "b922e57718f1488396575b44cc5df823": {
      "model_module": "@jupyter-widgets/output",
      "model_module_version": "1.0.0",
      "model_name": "OutputModel",
      "state": {
       "_dom_classes": [],
       "_model_module": "@jupyter-widgets/output",
       "_model_module_version": "1.0.0",
       "_model_name": "OutputModel",
       "_view_count": null,
       "_view_module": "@jupyter-widgets/output",
       "_view_module_version": "1.0.0",
       "_view_name": "OutputView",
       "layout": "IPY_MODEL_c090c712fe1e4f08b66e3721fa3819ca",
       "msg_id": "",
       "outputs": [
        {
         "data": {
          "image/png": "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\n",
          "text/plain": "<Figure size 432x288 with 1 Axes>"
         },
         "metadata": {
          "needs_background": "light"
         },
         "output_type": "display_data"
        }
       ]
      }
     },
     "c090c712fe1e4f08b66e3721fa3819ca": {
      "model_module": "@jupyter-widgets/base",
      "model_module_version": "1.2.0",
      "model_name": "LayoutModel",
      "state": {
       "_model_module": "@jupyter-widgets/base",
       "_model_module_version": "1.2.0",
       "_model_name": "LayoutModel",
       "_view_count": null,
       "_view_module": "@jupyter-widgets/base",
       "_view_module_version": "1.2.0",
       "_view_name": "LayoutView",
       "align_content": null,
       "align_items": null,
       "align_self": null,
       "border": null,
       "bottom": null,
       "display": null,
       "flex": null,
       "flex_flow": null,
       "grid_area": null,
       "grid_auto_columns": null,
       "grid_auto_flow": null,
       "grid_auto_rows": null,
       "grid_column": null,
       "grid_gap": null,
       "grid_row": null,
       "grid_template_areas": null,
       "grid_template_columns": null,
       "grid_template_rows": null,
       "height": null,
       "justify_content": null,
       "justify_items": null,
       "left": null,
       "margin": null,
       "max_height": null,
       "max_width": null,
       "min_height": null,
       "min_width": null,
       "object_fit": null,
       "object_position": null,
       "order": null,
       "overflow": null,
       "overflow_x": null,
       "overflow_y": null,
       "padding": null,
       "right": null,
       "top": null,
       "visibility": null,
       "width": null
      }
     },
     "c7a1cf1abaa2496889d9107c3950256b": {
      "model_module": "@jupyter-widgets/controls",
      "model_module_version": "1.5.0",
      "model_name": "SliderStyleModel",
      "state": {
       "_model_module": "@jupyter-widgets/controls",
       "_model_module_version": "1.5.0",
       "_model_name": "SliderStyleModel",
       "_view_count": null,
       "_view_module": "@jupyter-widgets/base",
       "_view_module_version": "1.2.0",
       "_view_name": "StyleView",
       "description_width": "",
       "handle_color": null
      }
     },
     "cb12c585e1224d7c917a7e472006904e": {
      "model_module": "@jupyter-widgets/base",
      "model_module_version": "1.2.0",
      "model_name": "LayoutModel",
      "state": {
       "_model_module": "@jupyter-widgets/base",
       "_model_module_version": "1.2.0",
       "_model_name": "LayoutModel",
       "_view_count": null,
       "_view_module": "@jupyter-widgets/base",
       "_view_module_version": "1.2.0",
       "_view_name": "LayoutView",
       "align_content": null,
       "align_items": null,
       "align_self": null,
       "border": null,
       "bottom": null,
       "display": null,
       "flex": null,
       "flex_flow": null,
       "grid_area": null,
       "grid_auto_columns": null,
       "grid_auto_flow": null,
       "grid_auto_rows": null,
       "grid_column": null,
       "grid_gap": null,
       "grid_row": null,
       "grid_template_areas": null,
       "grid_template_columns": null,
       "grid_template_rows": null,
       "height": null,
       "justify_content": null,
       "justify_items": null,
       "left": null,
       "margin": null,
       "max_height": null,
       "max_width": null,
       "min_height": null,
       "min_width": null,
       "object_fit": null,
       "object_position": null,
       "order": null,
       "overflow": null,
       "overflow_x": null,
       "overflow_y": null,
       "padding": null,
       "right": null,
       "top": null,
       "visibility": null,
       "width": null
      }
     },
     "d0fe7f2ed5124c70a9ea2acc2b9c80b5": {
      "model_module": "@jupyter-widgets/base",
      "model_module_version": "1.2.0",
      "model_name": "LayoutModel",
      "state": {
       "_model_module": "@jupyter-widgets/base",
       "_model_module_version": "1.2.0",
       "_model_name": "LayoutModel",
       "_view_count": null,
       "_view_module": "@jupyter-widgets/base",
       "_view_module_version": "1.2.0",
       "_view_name": "LayoutView",
       "align_content": null,
       "align_items": null,
       "align_self": null,
       "border": null,
       "bottom": null,
       "display": null,
       "flex": null,
       "flex_flow": null,
       "grid_area": null,
       "grid_auto_columns": null,
       "grid_auto_flow": null,
       "grid_auto_rows": null,
       "grid_column": null,
       "grid_gap": null,
       "grid_row": null,
       "grid_template_areas": null,
       "grid_template_columns": null,
       "grid_template_rows": null,
       "height": null,
       "justify_content": null,
       "justify_items": null,
       "left": null,
       "margin": null,
       "max_height": null,
       "max_width": null,
       "min_height": null,
       "min_width": null,
       "object_fit": null,
       "object_position": null,
       "order": null,
       "overflow": null,
       "overflow_x": null,
       "overflow_y": null,
       "padding": null,
       "right": null,
       "top": null,
       "visibility": null,
       "width": null
      }
     },
     "d8e56be7dbae4923b201def4e2152ed8": {
      "model_module": "@jupyter-widgets/base",
      "model_module_version": "1.2.0",
      "model_name": "LayoutModel",
      "state": {
       "_model_module": "@jupyter-widgets/base",
       "_model_module_version": "1.2.0",
       "_model_name": "LayoutModel",
       "_view_count": null,
       "_view_module": "@jupyter-widgets/base",
       "_view_module_version": "1.2.0",
       "_view_name": "LayoutView",
       "align_content": null,
       "align_items": null,
       "align_self": null,
       "border": null,
       "bottom": null,
       "display": null,
       "flex": null,
       "flex_flow": null,
       "grid_area": null,
       "grid_auto_columns": null,
       "grid_auto_flow": null,
       "grid_auto_rows": null,
       "grid_column": null,
       "grid_gap": null,
       "grid_row": null,
       "grid_template_areas": null,
       "grid_template_columns": null,
       "grid_template_rows": null,
       "height": null,
       "justify_content": null,
       "justify_items": null,
       "left": null,
       "margin": null,
       "max_height": null,
       "max_width": null,
       "min_height": null,
       "min_width": null,
       "object_fit": null,
       "object_position": null,
       "order": null,
       "overflow": null,
       "overflow_x": null,
       "overflow_y": null,
       "padding": null,
       "right": null,
       "top": null,
       "visibility": null,
       "width": null
      }
     },
     "db7f35619bdc438c872124e944d3e686": {
      "model_module": "@jupyter-widgets/controls",
      "model_module_version": "1.5.0",
      "model_name": "IntSliderModel",
      "state": {
       "_dom_classes": [],
       "_model_module": "@jupyter-widgets/controls",
       "_model_module_version": "1.5.0",
       "_model_name": "IntSliderModel",
       "_view_count": null,
       "_view_module": "@jupyter-widgets/controls",
       "_view_module_version": "1.5.0",
       "_view_name": "IntSliderView",
       "continuous_update": true,
       "description": "terms",
       "description_tooltip": null,
       "disabled": false,
       "layout": "IPY_MODEL_85b51223124646f5bb59ddcb48dd1ee6",
       "max": 100,
       "min": 1,
       "orientation": "horizontal",
       "readout": true,
       "readout_format": "d",
       "step": 4,
       "style": "IPY_MODEL_c7a1cf1abaa2496889d9107c3950256b",
       "value": 20
      }
     },
     "f3d8004160734c7889d080b6ad58b324": {
      "model_module": "@jupyter-widgets/base",
      "model_module_version": "1.2.0",
      "model_name": "LayoutModel",
      "state": {
       "_model_module": "@jupyter-widgets/base",
       "_model_module_version": "1.2.0",
       "_model_name": "LayoutModel",
       "_view_count": null,
       "_view_module": "@jupyter-widgets/base",
       "_view_module_version": "1.2.0",
       "_view_name": "LayoutView",
       "align_content": null,
       "align_items": null,
       "align_self": null,
       "border": null,
       "bottom": null,
       "display": null,
       "flex": null,
       "flex_flow": null,
       "grid_area": null,
       "grid_auto_columns": null,
       "grid_auto_flow": null,
       "grid_auto_rows": null,
       "grid_column": null,
       "grid_gap": null,
       "grid_row": null,
       "grid_template_areas": null,
       "grid_template_columns": null,
       "grid_template_rows": null,
       "height": null,
       "justify_content": null,
       "justify_items": null,
       "left": null,
       "margin": null,
       "max_height": null,
       "max_width": null,
       "min_height": null,
       "min_width": null,
       "object_fit": null,
       "object_position": null,
       "order": null,
       "overflow": null,
       "overflow_x": null,
       "overflow_y": null,
       "padding": null,
       "right": null,
       "top": null,
       "visibility": null,
       "width": null
      }
     },
     "fbfd142175234390901eda6d3b9aaec3": {
      "model_module": "@jupyter-widgets/output",
      "model_module_version": "1.0.0",
      "model_name": "OutputModel",
      "state": {
       "_dom_classes": [],
       "_model_module": "@jupyter-widgets/output",
       "_model_module_version": "1.0.0",
       "_model_name": "OutputModel",
       "_view_count": null,
       "_view_module": "@jupyter-widgets/output",
       "_view_module_version": "1.0.0",
       "_view_name": "OutputView",
       "layout": "IPY_MODEL_d0fe7f2ed5124c70a9ea2acc2b9c80b5",
       "msg_id": "",
       "outputs": [
        {
         "name": "stdout",
         "output_type": "stream",
         "text": "Integral: 1.0\n"
        },
        {
         "data": {
          "image/png": "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\n",
          "text/plain": "<Figure size 432x288 with 1 Axes>"
         },
         "metadata": {
          "needs_background": "light"
         },
         "output_type": "display_data"
        }
       ]
      }
     }
    },
    "version_major": 2,
    "version_minor": 0
   }
  }
 },
 "nbformat": 4,
 "nbformat_minor": 5
}