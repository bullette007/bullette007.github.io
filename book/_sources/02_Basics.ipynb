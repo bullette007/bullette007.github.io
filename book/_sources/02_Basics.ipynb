{
 "cells": [
  {
   "cell_type": "code",
   "execution_count": 1,
   "id": "3a83c141",
   "metadata": {
    "init_cell": true,
    "tags": [
     "remove-cell"
    ]
   },
   "outputs": [
    {
     "data": {
      "application/javascript": [
       "var cells = Jupyter.notebook.get_cells();\n",
       "           for (var i = 0; i < cells.length; i++) {\n",
       "               var cur_cell = cells[i];\n",
       "               var tags = cur_cell._metadata.tags;\n",
       "               console.log(i);\n",
       "               console.log(tags == undefined);\n",
       "               console.log(tags);\n",
       "               if (tags != undefined) {\n",
       "               for (var j = 0; j < tags.length; j++) {\n",
       "                  if (tags[j]==\"book_only\" | tags[j]==\"remove-cell\") {cur_cell.element.hide();}\n",
       "                  if (tags[j]==\"presentation_only\") {cur_cell.element.show();}\n",
       "            }}}\n"
      ],
      "text/plain": [
       "<IPython.core.display.Javascript object>"
      ]
     },
     "metadata": {},
     "output_type": "display_data"
    }
   ],
   "source": [
    "%%js\n",
    "var cells = Jupyter.notebook.get_cells();\n",
    "           for (var i = 0; i < cells.length; i++) {\n",
    "               var cur_cell = cells[i];\n",
    "               var tags = cur_cell._metadata.tags;\n",
    "               console.log(i);\n",
    "               console.log(tags == undefined);\n",
    "               console.log(tags);\n",
    "               if (tags != undefined) {\n",
    "               for (var j = 0; j < tags.length; j++) {\n",
    "                  if (tags[j]==\"book_only\" | tags[j]==\"remove-cell\") {cur_cell.element.hide();}\n",
    "                  if (tags[j]==\"presentation_only\") {cur_cell.element.show();}\n",
    "            }}}"
   ]
  },
  {
   "cell_type": "code",
   "execution_count": 2,
   "id": "7332272d",
   "metadata": {
    "init_cell": true,
    "slideshow": {
     "slide_type": "notes"
    },
    "tags": [
     "remove-cell"
    ]
   },
   "outputs": [
    {
     "name": "stderr",
     "output_type": "stream",
     "text": [
      "C:\\Users\\meyjoh\\repos\\vlcompimg\\compimg\\lib\\site-packages\\scipy\\__init__.py:138: UserWarning: A NumPy version >=1.16.5 and <1.23.0 is required for this version of SciPy (detected version 1.23.4)\n",
      "  warnings.warn(f\"A NumPy version >={np_minversion} and <{np_maxversion} is required for this version of \"\n"
     ]
    }
   ],
   "source": [
    "from __future__ import print_function\n",
    "from ipywidgets import interact, interactive, fixed, interact_manual\n",
    "import ipywidgets as widgets\n",
    "import numpy as np\n",
    "import matplotlib.pyplot as plt\n",
    "import cv2\n",
    "import scipy.signal as sig\n",
    "from scipy.integrate import simpson\n",
    "from IPython.display import SVG, display, IFrame, HTML\n",
    "%matplotlib notebook\n",
    "book = False"
   ]
  },
  {
   "cell_type": "code",
   "execution_count": 3,
   "id": "cc896e10",
   "metadata": {
    "tags": [
     "remove-input",
     "book_only"
    ]
   },
   "outputs": [],
   "source": [
    "%matplotlib inline\n",
    "book=True"
   ]
  },
  {
   "cell_type": "markdown",
   "id": "96aedc88",
   "metadata": {
    "init_cell": true,
    "slideshow": {
     "slide_type": "notes"
    },
    "tags": [
     "remove-cell"
    ]
   },
   "source": [
    "def showFig(path,i,ending, width, height):\n",
    "    #return SVG(filename = \"./\" + path+str(i)+ending)\n",
    "    display(SVG(filename = \"./\" + path+str(i)+ending))"
   ]
  },
  {
   "cell_type": "code",
   "execution_count": 4,
   "id": "f0130c30",
   "metadata": {
    "init_cell": true,
    "tags": [
     "remove-cell"
    ]
   },
   "outputs": [],
   "source": [
    "def showFig(path,i,ending, width, height):\n",
    "    filename = path+str(i)+ending\n",
    "    return HTML(\"<img src=\\\"\" + filename +  f\"\\\" style=\\\"max-height:{height}vh\\\"/>\")"
   ]
  },
  {
   "cell_type": "code",
   "execution_count": 5,
   "id": "e8361496",
   "metadata": {
    "slideshow": {
     "slide_type": "notes"
    },
    "tags": [
     "remove-cell"
    ]
   },
   "outputs": [],
   "source": [
    "def imshow(img, cmap=None):\n",
    "    plt.close('all')\n",
    "    plt.figure()\n",
    "    plt.imshow(img, cmap=cmap)\n",
    "    plt.show()"
   ]
  },
  {
   "cell_type": "code",
   "execution_count": 6,
   "id": "e9652e8c",
   "metadata": {
    "init_cell": true,
    "slideshow": {
     "slide_type": "notes"
    },
    "tags": [
     "remove-cell"
    ]
   },
   "outputs": [],
   "source": [
    "def imshow(img, cmap=None):\n",
    "    plt.clf()\n",
    "    plt.imshow(img, cmap=cmap)\n",
    "    plt.show()"
   ]
  },
  {
   "cell_type": "markdown",
   "id": "ccac9b7d",
   "metadata": {
    "slideshow": {
     "slide_type": "slide"
    }
   },
   "source": [
    "$\\begin{align}\n",
    "  \\newcommand{transp}{^\\intercal}\n",
    "  \\newcommand{F}{\\mathcal{F}}\n",
    "  \\newcommand{Fi}{\\mathcal{F}^{-1}}\n",
    "  \\newcommand{inv}{^{-1}}\n",
    "  \\newcommand{stochvec}[1]{\\mathbf{\\tilde{#1}}}\n",
    "  \\newcommand{argmax}[1]{\\underset{#1}{\\mathrm{arg\\, max}}}\n",
    "  \\newcommand{argmin}[1]{\\underset{#1}{\\mathrm{arg\\, min}}}\n",
    "\\end{align}$\n",
    "\n",
    "<font size=\"7\"> Computational Imaging </font><br><br><br>"
   ]
  },
  {
   "cell_type": "markdown",
   "id": "2ed644c8",
   "metadata": {
    "slideshow": {
     "slide_type": "subslide"
    }
   },
   "source": [
    "# Fundamental Basics"
   ]
  },
  {
   "cell_type": "markdown",
   "id": "e5611832",
   "metadata": {
    "slideshow": {
     "slide_type": "fragment"
    }
   },
   "source": [
    "##### Content\n",
    "* Optics\n",
    "* Illumination\n",
    "* Image acquisition and image formation process"
   ]
  },
  {
   "cell_type": "markdown",
   "id": "268ecaa1",
   "metadata": {
    "slideshow": {
     "slide_type": "slide"
    }
   },
   "source": [
    "## Optics"
   ]
  },
  {
   "cell_type": "markdown",
   "id": "af559a6b",
   "metadata": {},
   "source": [
    "Conventional imaging: produce sharp image of scene on image plane."
   ]
  },
  {
   "cell_type": "code",
   "execution_count": 7,
   "id": "9ddb4f7e",
   "metadata": {
    "init_cell": true
   },
   "outputs": [
    {
     "data": {
      "application/vnd.jupyter.widget-view+json": {
       "model_id": "c75de52b8f904f048cd0fe260907f55e",
       "version_major": 2,
       "version_minor": 0
      },
      "text/plain": [
       "interactive(children=(IntSlider(value=4, description='i', max=4, min=1), Output()), _dom_classes=('widget-inte…"
      ]
     },
     "metadata": {},
     "output_type": "display_data"
    },
    {
     "data": {
      "text/plain": [
       "<function __main__.<lambda>(i)>"
      ]
     },
     "execution_count": 7,
     "metadata": {},
     "output_type": "execute_result"
    }
   ],
   "source": [
    "interact(lambda i: showFig('figures/2/imaging_pinhole_lens_',i,'.svg',800,40), i=widgets.IntSlider(min=(min_i:=1),max=(max_i:=4), step=1, value=(max_i if book else min_i)))"
   ]
  },
  {
   "cell_type": "markdown",
   "id": "9ba7220c",
   "metadata": {
    "slideshow": {
     "slide_type": "subslide"
    }
   },
   "source": [
    "Conventions:\n",
    "* Camera coordinate system $(x^\\mathrm{c}, y^\\mathrm{c}, z^\\mathrm{c})$ equals world coordinate system $(x^\\mathrm{w}, y^\\mathrm{w}, z^\\mathrm{w})$, hence only camera coordinate system is used.\n",
    "* Points of the observed scene are called object points and are denoted by $\\mathbf{p}^\\mathrm{c}=(p^\\mathrm{c}_x, p^\\mathrm{c}_y, p^\\mathrm{c}_z)$.\n",
    "* Points on the image plane are denoted by $\\mathbf{p}^\\mathrm{b}=(p^\\mathrm{b}_x, p^\\mathrm{b}_y)$."
   ]
  },
  {
   "cell_type": "markdown",
   "id": "87818196",
   "metadata": {
    "slideshow": {
     "slide_type": "subslide"
    }
   },
   "source": [
    "### Pinhole camera"
   ]
  },
  {
   "cell_type": "markdown",
   "id": "e7ed3db2",
   "metadata": {
    "cell_style": "center",
    "slideshow": {
     "slide_type": "fragment"
    },
    "tags": [
     "book_only"
    ]
   },
   "source": [
    "In the case of a pinhole camera, the correspondence between an object point $\\mathbf{p}^\\mathrm{c}$ and an image point $\\mathbf{p}^\\mathrm{b}$ is obtained via the intercept theorem:\n",
    "\n",
    "$\\begin{align}\n",
    "\\frac{p^\\mathrm{c}_x}{p^\\mathrm{c}_z} = - \\frac{p^\\mathrm{b}_x}{b}\\,,\n",
    "\\end{align}$\n",
    "\n",
    "with image distance $b$.<br><br>\n",
    "Analogously it is:\n",
    "\n",
    "$\\begin{align}\n",
    "\\frac{p^\\mathrm{c}_y}{p^\\mathrm{c}_z} = - \\frac{p^\\mathrm{b}_y}{b}\\,.\n",
    "\\end{align}$\n",
    "\n",
    "Hence:\n",
    "\n",
    "$\\begin{align}\n",
    "\\begin{pmatrix}p^\\mathrm{b}_x \\\\ p^\\mathrm{b}_y \\end{pmatrix} = -\\frac{b}{p^\\mathrm{c}_z}\\begin{pmatrix} p^\\mathrm{c}_x \\\\ p^\\mathrm{c}_y \\end{pmatrix} \\,.\n",
    "\\end{align}$"
   ]
  },
  {
   "cell_type": "markdown",
   "id": "c0473f3f",
   "metadata": {
    "cell_style": "center",
    "slideshow": {
     "slide_type": "subslide"
    }
   },
   "source": [
    "<img src=\"figures/2/pinholePrinciple.svg\" style=\"max-height:40vh\">"
   ]
  },
  {
   "cell_type": "markdown",
   "id": "de3fa0e3",
   "metadata": {
    "cell_style": "center",
    "slideshow": {
     "slide_type": "fragment"
    },
    "tags": [
     "presentation_only",
     "remove-cell"
    ]
   },
   "source": [
    "Imaging equation for pinhole camera:\n",
    "\n",
    "$\\begin{align}\n",
    "\\begin{pmatrix}p^\\mathrm{b}_x \\\\ p^\\mathrm{b}_y \\end{pmatrix} = -\\frac{b}{p^\\mathrm{c}_z}\\begin{pmatrix} p^\\mathrm{c}_x \\\\ p^\\mathrm{c}_y \\end{pmatrix} \\,.\n",
    "\\end{align}$"
   ]
  },
  {
   "cell_type": "markdown",
   "id": "a636e129",
   "metadata": {
    "slideshow": {
     "slide_type": "subslide"
    }
   },
   "source": [
    "Advantages and disadvantages of pinhole cameras:"
   ]
  },
  {
   "cell_type": "markdown",
   "id": "829ff4ce",
   "metadata": {
    "cell_style": "split"
   },
   "source": [
    "Advantages:\n",
    "* Easy principle\n",
    "* Infinite focus"
   ]
  },
  {
   "cell_type": "markdown",
   "id": "b97a0394",
   "metadata": {
    "cell_style": "split",
    "slideshow": {
     "slide_type": "fragment"
    }
   },
   "source": [
    "Disadvantages:\n",
    "* Images slightly blurry and\n",
    "* system's low light efficiency\n",
    "(both caused by the small pinhole)"
   ]
  },
  {
   "cell_type": "markdown",
   "id": "4cc14168",
   "metadata": {
    "slideshow": {
     "slide_type": "subslide"
    }
   },
   "source": [
    "### Thin lens camera"
   ]
  },
  {
   "cell_type": "markdown",
   "id": "d8ff0756",
   "metadata": {
    "tags": [
     "book_only"
    ]
   },
   "source": [
    "Common cameras employ a lens to collect light and focus it on the sensor. Even lens systems consisting of multiple lenses can be described via the so-called *thin lens camera* model, where the lens is characterized by its focal length $f$ and its diameter $d$."
   ]
  },
  {
   "cell_type": "markdown",
   "id": "ad625866",
   "metadata": {
    "slideshow": {
     "slide_type": "subslide"
    }
   },
   "source": [
    "<img src=\"figures/2/thinLensPrinciple.svg\" style=\"max-height:60vh\">"
   ]
  },
  {
   "cell_type": "markdown",
   "id": "9269b948",
   "metadata": {
    "slideshow": {
     "slide_type": "fragment"
    }
   },
   "source": [
    "* **Principal ray**: Connects $\\mathbf{p}^\\mathrm{c}$ and $\\mathbf{p}^\\mathrm{b}$ and runs through the center of the lens.\n",
    "* **Parallel rays**: Connect $\\mathbf{p}^\\mathrm{c}$ and $\\mathbf{p}^\\mathrm{b}$ and run parallel to the optical axis on one side of the lens and cross the optical axis on the other side of the lens at its focal point, i.e., at a distance of $f$ from the lens."
   ]
  },
  {
   "cell_type": "markdown",
   "id": "4ecdec93",
   "metadata": {
    "slideshow": {
     "slide_type": "subslide"
    }
   },
   "source": [
    "The correspondence between the focal length $f$, the distance $g$ of the plane of focus and the image distance $b$ is given by the so-called *thin lens formula*:\n",
    "\n",
    "$\\begin{align}\n",
    "\\frac{1}{f}=\\frac{1}{g}+\\frac{1}{b}\\,.\n",
    "\\end{align}$"
   ]
  },
  {
   "cell_type": "markdown",
   "id": "1b1a6ba5",
   "metadata": {
    "slideshow": {
     "slide_type": "fragment"
    }
   },
   "source": [
    "If the thin lens equation is met and if $p^\\mathrm{c}_z = g$, the object point is considered to be located in *the plane of focus*."
   ]
  },
  {
   "cell_type": "markdown",
   "id": "1cc7e256",
   "metadata": {
    "slideshow": {
     "slide_type": "fragment"
    }
   },
   "source": [
    "The magnification $V$ of the system is given by:\n",
    "\n",
    "$\\begin{align}\n",
    " V = \\frac{\\vert p^\\mathrm{b}_y \\vert}{\\vert p^\\mathrm{c}_y \\vert} \\,.\n",
    "\\end{align}$"
   ]
  },
  {
   "cell_type": "markdown",
   "id": "99ef9362",
   "metadata": {
    "slideshow": {
     "slide_type": "subslide"
    }
   },
   "source": [
    "##### Directional information is lost\n",
    "The sensor pixel at the position $\\mathbf{p}^\\mathrm{b}$ receives the whole light bundle, i.e., it integrates over all directions of incidence of the incident light and the directional information is lost."
   ]
  },
  {
   "cell_type": "markdown",
   "id": "5b6de551",
   "metadata": {
    "slideshow": {
     "slide_type": "subslide"
    }
   },
   "source": [
    "#### Defocus"
   ]
  },
  {
   "cell_type": "markdown",
   "id": "f93252ef",
   "metadata": {
    "slideshow": {
     "slide_type": "subslide"
    }
   },
   "source": [
    "The following happens, if the image plane is not located at the image distance $b$ (calculated via the thin lens formula):"
   ]
  },
  {
   "cell_type": "markdown",
   "id": "b05fa664",
   "metadata": {
    "slideshow": {
     "slide_type": "fragment"
    }
   },
   "source": [
    "<img src=\"figures/2/thinLensDefocus.svg\" style=\"max-height:40vh\">"
   ]
  },
  {
   "cell_type": "markdown",
   "id": "40fc7d9b",
   "metadata": {
    "tags": [
     "book_only"
    ]
   },
   "source": [
    "The light bundle does not converge in a point on the image sensor but is distributed over an area called the *circle of confusion*."
   ]
  },
  {
   "cell_type": "markdown",
   "id": "c54b1584",
   "metadata": {
    "slideshow": {
     "slide_type": "subslide"
    },
    "tags": [
     "book_only"
    ]
   },
   "source": [
    "If the area of the circle of confusion exceeds the area of a single pixel of the sensor, the image starts to appear blurred."
   ]
  },
  {
   "cell_type": "markdown",
   "id": "9fcf299f",
   "metadata": {
    "slideshow": {
     "slide_type": "subslide"
    }
   },
   "source": [
    "<img src=\"figures/2/thinLensDefocusDetail.svg\" style=\"width:30vw\">"
   ]
  },
  {
   "cell_type": "markdown",
   "id": "7938a729",
   "metadata": {
    "slideshow": {
     "slide_type": "fragment"
    }
   },
   "source": [
    "The *depth of focus* or *depth of field* denotes the distance at the object side of the lens by which an object point can be moved out of the plane of focus so that the circle of confusion of its converging light bundle still remains below the area of one sensor element."
   ]
  },
  {
   "cell_type": "markdown",
   "id": "4a4dc0ce",
   "metadata": {
    "slideshow": {
     "slide_type": "notes"
    },
    "tags": [
     "remove-cell"
    ]
   },
   "source": [
    "Evtl: Formel für Schärfentiefe."
   ]
  },
  {
   "cell_type": "markdown",
   "id": "5fd89ceb",
   "metadata": {
    "slideshow": {
     "slide_type": "fragment"
    },
    "tags": [
     "book_only"
    ]
   },
   "source": [
    "If the sensor elements could resolve the direction of incidence of the incident light rays, a sharp image could be reconstructed by combining the respective rays from each sensor to create a synthesized image (more later at light field imaging)."
   ]
  },
  {
   "cell_type": "markdown",
   "id": "a07f54f9",
   "metadata": {
    "slideshow": {
     "slide_type": "subslide"
    }
   },
   "source": [
    "### Aperture"
   ]
  },
  {
   "cell_type": "markdown",
   "id": "454cff5d",
   "metadata": {},
   "source": [
    "The *aperture* of an optical system is the optical or mechanical element mostly limiting, i.e. blocking, the captured light bundle."
   ]
  },
  {
   "cell_type": "markdown",
   "id": "b476dc42",
   "metadata": {
    "slideshow": {
     "slide_type": "fragment"
    },
    "tags": [
     "book_only"
    ]
   },
   "source": [
    "Captured bright object points lying outside the plane of focus form an image of the aperture on the sensor plane. This effect is called *Bokeh* and is sometimes used as a stylistic element in photography."
   ]
  },
  {
   "cell_type": "markdown",
   "id": "0877bfab",
   "metadata": {
    "tags": [
     "book_only",
     "remove-cell"
    ]
   },
   "source": [
    "TODO: Example aperture images / maybe with star aperture"
   ]
  },
  {
   "cell_type": "markdown",
   "id": "f9cfd653",
   "metadata": {
    "slideshow": {
     "slide_type": "subslide"
    },
    "tags": [
     "book_only"
    ]
   },
   "source": [
    "*Stopping down*, i.e., reducing the size of the aperture, reduces the amount of light captured while decreasing the size of the circle of confusion what increases the depth of field:"
   ]
  },
  {
   "cell_type": "markdown",
   "id": "e35a3b07",
   "metadata": {
    "slideshow": {
     "slide_type": "subslide"
    }
   },
   "source": [
    "<img src=\"figures/2/thinLensDefocusAperture.svg\" style=\"max-height:60vh\">"
   ]
  },
  {
   "cell_type": "markdown",
   "id": "460f5487",
   "metadata": {
    "slideshow": {
     "slide_type": "fragment"
    },
    "tags": [
     "book_only"
    ]
   },
   "source": [
    "The pattern of the aperture can also be made controllable, e.g., by employing a transmissive LCD. This gives further control over the image formation process and is the key ingredient to *coded aperture imaging* (more later)."
   ]
  },
  {
   "cell_type": "markdown",
   "id": "bc6bc053",
   "metadata": {
    "slideshow": {
     "slide_type": "subslide"
    }
   },
   "source": [
    "### Acquisition of the light's direction of propagation"
   ]
  },
  {
   "cell_type": "markdown",
   "id": "8bbe95e9",
   "metadata": {
    "tags": [
     "book_only"
    ]
   },
   "source": [
    "When imaging with a lens, light rays intersect the image-side *focal plane* (i.e., the plane located with a distance of $f$ to the lens and being oriented perpendicularly to the optical axis) at positions which correspond to the deflection angles of those rays w.r.t. the optical axis:"
   ]
  },
  {
   "cell_type": "markdown",
   "id": "afab0c1c",
   "metadata": {
    "slideshow": {
     "slide_type": "subslide"
    }
   },
   "source": [
    "<img src=\"figures/2/thinLensPrinciplePlaneOfFocus.svg\" style=\"max-height:60vh\">"
   ]
  },
  {
   "cell_type": "markdown",
   "id": "5133a7c0",
   "metadata": {
    "slideshow": {
     "slide_type": "fragment"
    },
    "tags": [
     "book_only"
    ]
   },
   "source": [
    "Objects located at *optical infinity*, i.e., at a distance $g \\gg f$, will result in *collimated* light beams, i.e., light rays propagating parallel to each other. The corresponding image points are located on the image-side focal plane:"
   ]
  },
  {
   "cell_type": "markdown",
   "id": "87465f52",
   "metadata": {
    "cell_style": "center",
    "slideshow": {
     "slide_type": "subslide"
    }
   },
   "source": [
    "<img src=\"figures/2/thinLensPrinciplePlaneOfFocus2.svg\" style=\"max-height:80vh\">"
   ]
  },
  {
   "cell_type": "markdown",
   "id": "038e87eb",
   "metadata": {
    "slideshow": {
     "slide_type": "subslide"
    }
   },
   "source": [
    "The distance $\\delta_\\alpha$ of the location of the intersection of the converging ray bundle with the focal plane now only depends on the object-side angle of the parallel light beams w.r.t. to the optical axis and on the focal length $f$:\n",
    "\n",
    "$\\begin{align}\n",
    "\\delta_\\alpha=f\\cdot \\tan(\\alpha)\\,.\n",
    "\\end{align}$"
   ]
  },
  {
   "cell_type": "markdown",
   "id": "c9d92c46",
   "metadata": {
    "slideshow": {
     "slide_type": "subslide"
    }
   },
   "source": [
    "<img src=\"figures/2/deflectionMeasurement.svg\" style=\"max-height:40vh\">"
   ]
  },
  {
   "cell_type": "markdown",
   "id": "b0446e5a",
   "metadata": {
    "slideshow": {
     "slide_type": "fragment"
    },
    "tags": [
     "book_only"
    ]
   },
   "source": [
    "This setup transforms directional information about the light's direction of propagation into spatial information (i.e., the distance $\\delta_\\alpha$).\n",
    "By placing a sensor in the focal plane, this information can be captured. Since all rays of the collimated bundle are focused to the same position on the focal plane, any spatial information about the single light rays is lost and has to be obtained by other means."
   ]
  },
  {
   "cell_type": "markdown",
   "id": "760d1ab1",
   "metadata": {
    "slideshow": {
     "slide_type": "subslide"
    }
   },
   "source": [
    "### Example of directional filtering: Telecentric imaging"
   ]
  },
  {
   "cell_type": "markdown",
   "id": "cf423c3c",
   "metadata": {
    "tags": [
     "book_only"
    ]
   },
   "source": [
    "Just shown: Spatial positions on the image-side focal plane correspond to directional information about captured light rays. <br> *Spatial filters* placed in the image-side focal plane act as *directional filters* w.r.t. the captured light rays."
   ]
  },
  {
   "cell_type": "markdown",
   "id": "678e6747",
   "metadata": {
    "slideshow": {
     "slide_type": "fragment"
    }
   },
   "source": [
    "Frequently used filter: Pinhole centered at the optical axis."
   ]
  },
  {
   "cell_type": "markdown",
   "id": "3d3f26b3",
   "metadata": {
    "slideshow": {
     "slide_type": "subslide"
    }
   },
   "source": [
    "<img src=\"figures/2/telecentricImaging.svg\" style=\"max-height:40vh\">"
   ]
  },
  {
   "cell_type": "markdown",
   "id": "eb4de76d",
   "metadata": {
    "slideshow": {
     "slide_type": "fragment"
    },
    "tags": [
     "book_only"
    ]
   },
   "source": [
    "Such a pinhole is called a *telecentric stop* and allows only such rays to reach the sensor which propagate (approximately) parallel to the optical axis on the object side."
   ]
  },
  {
   "cell_type": "markdown",
   "id": "45dde0bf",
   "metadata": {
    "slideshow": {
     "slide_type": "fragment"
    },
    "tags": [
     "book_only"
    ]
   },
   "source": [
    "By this means, the magnification $V$ of the system is independent of the distance of image objects to the lens."
   ]
  },
  {
   "cell_type": "markdown",
   "id": "54fb3b3f",
   "metadata": {
    "slideshow": {
     "slide_type": "fragment"
    },
    "tags": [
     "book_only"
    ]
   },
   "source": [
    "Important: Since the opening of the telecentric stop allows ray bundles of a certain size to reach the sensor, the system is also affected by defocus effects."
   ]
  },
  {
   "cell_type": "markdown",
   "id": "fdcc5766",
   "metadata": {
    "slideshow": {
     "slide_type": "slide"
    }
   },
   "source": [
    "## Illumination"
   ]
  },
  {
   "cell_type": "markdown",
   "id": "6442a8e5",
   "metadata": {
    "slideshow": {
     "slide_type": "subslide"
    }
   },
   "source": [
    "### Physical principles of illumination"
   ]
  },
  {
   "cell_type": "markdown",
   "id": "dff48b54",
   "metadata": {},
   "source": [
    "Two main different physical effects can be exploited to emit light: \n",
    "* **Thermal radiation**<br>A certain material is heated (energy supply) and therefore emits light. <br> Examples: Halogen lamps, fluorescent lamps, metal vapor lamps, xenon short-arc lamps.\n",
    "* **Luminescsent radiation**<br>Potential energy is directly transformed into light.<br> Examples: Gas-discharge lamps, light-emitting diodes (LEDs) and lasers.\n",
    "\n",
    "The emitted spectrum heavily depends on the employed technology."
   ]
  },
  {
   "cell_type": "markdown",
   "id": "b22a1643",
   "metadata": {
    "slideshow": {
     "slide_type": "subslide"
    }
   },
   "source": [
    "### Illumination techniques:"
   ]
  },
  {
   "cell_type": "markdown",
   "id": "8a805b3f",
   "metadata": {},
   "source": [
    "##### Point light source"
   ]
  },
  {
   "cell_type": "markdown",
   "id": "4e1a8769",
   "metadata": {
    "cell_style": "split"
   },
   "source": [
    "Concept:<br>\n",
    "An infinitely small point shaped light source emitting light uniformly in all directions."
   ]
  },
  {
   "cell_type": "markdown",
   "id": "52de1ea5",
   "metadata": {
    "cell_style": "split"
   },
   "source": [
    "<img src=\"figures/2/pointSource.svg\" style=\"max-width:50vw; max-height:30vh\">"
   ]
  },
  {
   "cell_type": "markdown",
   "id": "5b957a21",
   "metadata": {
    "slideshow": {
     "slide_type": "fragment"
    }
   },
   "source": [
    "Realization:<br>\n",
    "LEDs (ultra bright ones)."
   ]
  },
  {
   "cell_type": "markdown",
   "id": "288186e3",
   "metadata": {
    "slideshow": {
     "slide_type": "subslide"
    }
   },
   "source": [
    "##### Area light source"
   ]
  },
  {
   "cell_type": "markdown",
   "id": "4e414db6",
   "metadata": {
    "cell_style": "split"
   },
   "source": [
    "Concept:<br>\n",
    "Finite size area of which each point emits beams of light of a certain spectrum uniformly into all directions of the respective half-space."
   ]
  },
  {
   "cell_type": "markdown",
   "id": "1b26b36c",
   "metadata": {
    "cell_style": "split"
   },
   "source": [
    "<img src=\"figures/2/areaLightSource.svg\" style=\"max-width:50vw; max-height:30vh\">"
   ]
  },
  {
   "cell_type": "markdown",
   "id": "4dd436d2",
   "metadata": {
    "cell_style": "split"
   },
   "source": [
    "Realization:<br>Multiple LEDs arranged in a dens grid behind a diffuser."
   ]
  },
  {
   "cell_type": "markdown",
   "id": "22c6fd8c",
   "metadata": {
    "cell_style": "split"
   },
   "source": [
    "<img src=\"figures/2/areaLightExample.jpg\" style=\"max-width:50vw; max-height:30vh\">"
   ]
  },
  {
   "cell_type": "markdown",
   "id": "75172cd7",
   "metadata": {
    "slideshow": {
     "slide_type": "subslide"
    }
   },
   "source": [
    "##### Programmable area light sources"
   ]
  },
  {
   "cell_type": "markdown",
   "id": "8b1ece99",
   "metadata": {
    "cell_style": "split"
   },
   "source": [
    "Concept:<br>\n",
    "Similar to the area light source extended by a controllable spatial pattern of the emitted spectrum (including its intensity)."
   ]
  },
  {
   "cell_type": "markdown",
   "id": "f34fcfb9",
   "metadata": {
    "cell_style": "split"
   },
   "source": [
    "<img src=\"figures/2/spatiallyControllableAreaLightSource.svg\" style=\"max-width:50vw; max-height:30vh\">"
   ]
  },
  {
   "cell_type": "markdown",
   "id": "7f5032d3",
   "metadata": {
    "slideshow": {
     "slide_type": "fragment"
    }
   },
   "source": [
    "Realization:<br> Computer display / projector."
   ]
  },
  {
   "cell_type": "markdown",
   "id": "597ac59c",
   "metadata": {},
   "source": [
    "Note: It is also possible to control the direction of propagation of the emitted light as will be shown now for a special case (more later at light field illumination)."
   ]
  },
  {
   "cell_type": "markdown",
   "id": "b0c46de9",
   "metadata": {
    "slideshow": {
     "slide_type": "subslide"
    }
   },
   "source": [
    "##### Telecentric illumination"
   ]
  },
  {
   "cell_type": "markdown",
   "id": "20ebab9e",
   "metadata": {
    "cell_style": "split"
   },
   "source": [
    "Concept:<br>Similar to telecentric imaging light sources can be adapted to only emit light rays that propagate approximately parallel to each other."
   ]
  },
  {
   "cell_type": "markdown",
   "id": "aa603f37",
   "metadata": {
    "cell_style": "split"
   },
   "source": [
    "<img src=\"figures/2/telecentricLightSource.svg\" style=\"max-width:50vw; max-height:30vh\">"
   ]
  },
  {
   "cell_type": "markdown",
   "id": "1162175b",
   "metadata": {
    "cell_style": "split",
    "slideshow": {
     "slide_type": "fragment"
    }
   },
   "source": [
    "Realization: Point light source placed in the focal point of a lens, i.e., with $\\delta_\\alpha = 0$, so that\n",
    "\n",
    "$\\begin{align}\n",
    " 0 = f\\cdot \\tan(\\alpha) \\Leftrightarrow \\alpha = 0^\\circ\\,.\n",
    "\\end{align}$"
   ]
  },
  {
   "cell_type": "markdown",
   "id": "1e1e2b2f",
   "metadata": {
    "cell_style": "split",
    "slideshow": {
     "slide_type": "fragment"
    }
   },
   "source": [
    "<img src=\"figures/2/telecentricLightSourceExample.png\" style=\"max-width:40vw; max-height:20vh\">"
   ]
  },
  {
   "cell_type": "markdown",
   "id": "7c98a610",
   "metadata": {
    "slideshow": {
     "slide_type": "fragment"
    }
   },
   "source": [
    "Note: It is also possible to realize a telecentric light source with a spatially controllable pattern."
   ]
  },
  {
   "cell_type": "markdown",
   "id": "0965293a",
   "metadata": {
    "slideshow": {
     "slide_type": "slide"
    }
   },
   "source": [
    "## Image acquisition and image formation process"
   ]
  },
  {
   "cell_type": "markdown",
   "id": "d840c517",
   "metadata": {
    "slideshow": {
     "slide_type": "subslide"
    }
   },
   "source": [
    "### Image acquisition model"
   ]
  },
  {
   "cell_type": "markdown",
   "id": "cc282559",
   "metadata": {},
   "source": [
    "For the scope of this course (except stated otherwise), the image acquisition process is assumed to follow this model:"
   ]
  },
  {
   "cell_type": "markdown",
   "id": "c660e24c",
   "metadata": {
    "cell_style": "center",
    "slideshow": {
     "slide_type": "subslide"
    }
   },
   "source": [
    "<img src=\"figures/2/imageFormationModel.svg\" style=\"max-height:40vh\">"
   ]
  },
  {
   "cell_type": "markdown",
   "id": "19383bcc",
   "metadata": {
    "cell_style": "center",
    "slideshow": {
     "slide_type": "fragment"
    }
   },
   "source": [
    "* $L$ : Light field which illuminates the scene and which is generated by the illumination device.\n",
    "* $L'$: Light field modulated by the scene.\n",
    "    * $f_\\mathrm{phys}(L,\\mathbf{\\unicode{x3BE}}_\\mathrm{geom})$: Modulation, involving geometric parameters $\\mathbf{\\unicode{x3BE}}_\\mathrm{geom}$ (e.g., orientation of the scene).\n",
    "* $\\mathbf{g}$: Digital image resulting from the sensor capturing a section of $L'$.\n",
    "    * $f_\\mathrm{sens}(L',\\mathbf{\\unicode{x3BE}}_\\mathrm{sens})$: Image acquisition, involving parameters $\\mathbf{\\unicode{x3BE}}_\\mathrm{sens}$ (e.g., alignment, orientation and acquisition parameters of the sensor).\n",
    "* $\\mathbf{g'}$: Processed image.\n",
    "    * $f_\\mathrm{proc}(\\mathbf{g},\\mathbf{\\unicode{x3BE}}_\\mathrm{proc})$: Image processing algorithms with parameters $\\mathbf{\\unicode{x3BE}}_\\mathrm{proc}\\,$."
   ]
  },
  {
   "cell_type": "markdown",
   "id": "7390addb",
   "metadata": {
    "slideshow": {
     "slide_type": "subslide"
    }
   },
   "source": [
    "Image signals $\\mathbf{g}$ will typically be modelled as functions<br>\n",
    "\n",
    "$\\begin{align}\n",
    "\\mathbf{g}:\\Omega \\rightarrow \\mathbb{R}^c\\,,\\quad \\Omega \\subseteq \\mathbb{R}^2\n",
    "\\end{align}$\n",
    "<br>\n",
    "defined over a two-dimensional support $\\Omega$ and yielding $c$-channel image values $\\mathbf{g}$ for every position $\\mathbf{x}$:<br><br>\n",
    "$\\begin{align}\\mathbf{g}(\\mathbf{x})=\\begin{pmatrix}\n",
    "g_1(\\mathbf{x})\\\\ g_2(\\mathbf{x}) \\\\ \\vdots \\\\ g_c (\\mathbf{x})\n",
    "\\end{pmatrix}\\,, \\quad \\mathrm{with} \\quad \\mathbf{x} = \n",
    "\\begin{pmatrix}\n",
    "x \\\\ y\n",
    "\\end{pmatrix}\\,.\\end{align}$"
   ]
  },
  {
   "cell_type": "markdown",
   "id": "5ed65a84",
   "metadata": {
    "tags": [
     "book_only"
    ]
   },
   "source": [
    "Note: Digital image signals are usually not continuous, neither w.r.t. their support nor w.r.t. their values."
   ]
  },
  {
   "cell_type": "markdown",
   "id": "61a2777c",
   "metadata": {
    "slideshow": {
     "slide_type": "subslide"
    }
   },
   "source": [
    "### Framework system theory"
   ]
  },
  {
   "cell_type": "markdown",
   "id": "ab052751",
   "metadata": {
    "tags": [
     "book_only"
    ]
   },
   "source": [
    "The whole set of imaging components (illumination, lenses, sensor, algorithms, etc.) can be considered as a system $\\mathscr{S}$.<br> The system transforms an input signal $\\mathbf{f}(\\mathbf{x})$ to an output signal $\\mathbf{k}(\\mathbf{x})$:<br>\n",
    "\n",
    "$\\begin{align}\n",
    "\\mathbf{k}(\\mathbf{x})=\\mathscr{S}\\lbrace \\mathbf{f}(\\mathbf{x}) \\rbrace \\,.\n",
    "\\end{align}$"
   ]
  },
  {
   "cell_type": "markdown",
   "id": "9c1e2766",
   "metadata": {},
   "source": [
    "<img src=\"figures/2/systemTheory.svg\" style=\"max-height:150px\">"
   ]
  },
  {
   "cell_type": "markdown",
   "id": "648caeea",
   "metadata": {
    "slideshow": {
     "slide_type": "subslide"
    }
   },
   "source": [
    "An important type of systems are so-called **linear shift invariant (LSI) systems** for which the following two properties hold:"
   ]
  },
  {
   "cell_type": "markdown",
   "id": "5ea59457",
   "metadata": {
    "slideshow": {
     "slide_type": "fragment"
    }
   },
   "source": [
    "##### Linearity\n",
    "Given two signals $\\mathbf{f}(\\mathbf{x}), \\mathbf{f}'(\\mathbf{x})$ and two constants $a, a'$, a system $\\mathscr{S}$ is called linear if<br><br>\n",
    "\n",
    "$\\begin{align}\n",
    "\\mathscr{S}\\lbrace a\\, \\mathbf{f}(\\mathbf{x}) + a'\\, \\mathbf{f}'(\\mathbf{x})\\rbrace=a\\, \\mathscr{S}\\lbrace \\mathbf{f}(\\mathbf{x})\\rbrace + a'\\, \\mathscr{S}\\lbrace \\mathbf{f}'(\\mathbf{x}) \\rbrace\\,.\n",
    "\\end{align}$"
   ]
  },
  {
   "cell_type": "markdown",
   "id": "ace01b54",
   "metadata": {
    "slideshow": {
     "slide_type": "fragment"
    }
   },
   "source": [
    "##### Shift invariance\n",
    "A system $\\mathscr{S}$ is called shift invariant if<br><br>\n",
    "\n",
    "$\\begin{align}\n",
    "\\mathscr{S}\\lbrace \\mathbf{f}(\\mathbf{x}-\\mathbf{x}_0) \\rbrace = \\mathbf{k}(\\mathbf{x}-\\mathbf{x}_0) \\quad \\mathrm{with} \\quad \\mathbf{k}(\\mathbf{x})=\\mathscr{S}\\lbrace\\mathbf{f}(\\mathbf{x})\\rbrace \\,.\n",
    "\\end{align}$"
   ]
  },
  {
   "cell_type": "markdown",
   "id": "d3db2f1d",
   "metadata": {
    "slideshow": {
     "slide_type": "fragment"
    }
   },
   "source": [
    "The effect of an LSI system on a signal can be comfortably studied by means of its impulse response, which will be explained after the introduction of some necessary definitions."
   ]
  },
  {
   "cell_type": "markdown",
   "id": "017cce0f",
   "metadata": {
    "slideshow": {
     "slide_type": "subslide"
    }
   },
   "source": [
    "#### Dirac delta function"
   ]
  },
  {
   "cell_type": "markdown",
   "id": "f54e5c89",
   "metadata": {
    "tags": [
     "book_only"
    ]
   },
   "source": [
    "Note: For the sake of simplicity, the scalar case is considered at first."
   ]
  },
  {
   "cell_type": "markdown",
   "id": "9f7f28d4",
   "metadata": {},
   "source": [
    "The Dirac delta function $\\delta(x)$ is defined via its effect when being used as an integral kernel together with an arbitrary function $f(x)$:<br><br>\n",
    "$\\begin{align}\n",
    "\\int\\limits^\\infty_{-\\infty} \\delta(x-x_0)f(x) \\mathrm{d}x = f(x_0) \\quad \\mathrm{with}\\, f(x)\\, \\mathrm{continuous\\, at}\\, x_0\\,. \n",
    "\\end{align}$<br>\n",
    "$\\Rightarrow$ it extracts the value of $f(x)$ at the position $x_0$."
   ]
  },
  {
   "cell_type": "markdown",
   "id": "c5fb6a26",
   "metadata": {
    "slideshow": {
     "slide_type": "fragment"
    }
   },
   "source": [
    "Assuming $f(x)\\equiv 1$ immediately implies <br><br>\n",
    "\n",
    "$\\begin{align}\n",
    "\\int\\limits^\\infty_{-\\infty} \\delta (x) \\mathrm{d}x = 1\\,. \n",
    "\\end{align}$"
   ]
  },
  {
   "cell_type": "markdown",
   "id": "0e35c96b",
   "metadata": {
    "slideshow": {
     "slide_type": "subslide"
    }
   },
   "source": [
    "The Dirac delta function can be imagined as a very narrow, impulse-shaped function with an integral of $1$. It can be approximated via:<br><br>\n",
    "\n",
    "$\\begin{align}\n",
    " \\delta_\\varepsilon (x):=\\frac{1}{\\varepsilon}\\,\\mathrm{rect}(x,\\varepsilon) \n",
    "\\end{align}$\n",
    "\n",
    "with the **rectangular function** <br>\n",
    "$\\begin{align} \\mathrm{rect}(x,\\varepsilon):=\n",
    "\\begin{cases}\n",
    "1 \\quad \\mathrm{if}\\, \\vert x \\vert < \\frac{\\varepsilon}{2}\\,, \\\\\n",
    "0 \\quad \\mathrm{otherwise}\\,,\n",
    "\\end{cases} \\end{align}$\n",
    "with $\\varepsilon$ denoting the width of the impulse."
   ]
  },
  {
   "cell_type": "markdown",
   "id": "f09bfda2",
   "metadata": {
    "slideshow": {
     "slide_type": "fragment"
    }
   },
   "source": [
    "For $\\varepsilon \\rightarrow 0$ it holds:\n",
    "\n",
    "$\\begin{align}\n",
    " \\lim_{\\varepsilon \\rightarrow 0} \\int\\limits^\\infty_{-\\infty} \\delta_\\varepsilon(x-x_0)f(x)\\mathrm{d}x=f(x_0)=\\int\\limits^\\infty_{-\\infty} \\delta(x-x_0)f(x) \\mathrm{d}x \\quad \\mathrm{with}\\, f(x)\\, \\mathrm{continuous\\, at}\\, x_0\\,,\n",
    "\\end{align}$\n",
    "<br>\n",
    "since $f(x) \\approx f(x_0)$ for a sufficiently small neighborhood of $\\varepsilon$ around $x_0$ because of the continuity of $f(x)$ in $x_0$, leading to<br><br>\n",
    "\n",
    "$\\begin{align}\n",
    " \\delta_\\varepsilon(x)\\xrightarrow{\\varepsilon \\rightarrow 0} \\delta(x)\\,. \n",
    "\\end{align}$"
   ]
  },
  {
   "cell_type": "markdown",
   "id": "37574b8b",
   "metadata": {
    "slideshow": {
     "slide_type": "subslide"
    }
   },
   "source": [
    "##### Visualization of the Dirac delta function"
   ]
  },
  {
   "cell_type": "code",
   "execution_count": 8,
   "id": "d93be7fc",
   "metadata": {
    "init_cell": true
   },
   "outputs": [],
   "source": [
    "def rect(x,eps):\n",
    "    if np.linalg.norm(x) < (eps/2.0):\n",
    "        return 1\n",
    "    else:\n",
    "        return 0"
   ]
  },
  {
   "cell_type": "code",
   "execution_count": 9,
   "id": "5ea7089f",
   "metadata": {
    "init_cell": true,
    "slideshow": {
     "slide_type": "subslide"
    }
   },
   "outputs": [],
   "source": [
    "def diracEps(x,eps):\n",
    "    return (1.0/eps) * rect(x,eps)"
   ]
  },
  {
   "cell_type": "code",
   "execution_count": 10,
   "id": "5b28ba7a",
   "metadata": {
    "init_cell": true,
    "slideshow": {
     "slide_type": "subslide"
    }
   },
   "outputs": [],
   "source": [
    "def plotDiracEps(eps):\n",
    "    factor = 100.0\n",
    "    xs = np.arange(-5, 5, 1/factor, dtype=np.float32)\n",
    "    ys = [diracEps(x,eps) for x in xs]\n",
    "    plt.clf()\n",
    "    plt.plot(xs, ys)\n",
    "    print(\"Integral: \" + str(np.sum(ys)/factor))"
   ]
  },
  {
   "cell_type": "code",
   "execution_count": 11,
   "id": "d12831d4",
   "metadata": {
    "init_cell": true,
    "slideshow": {
     "slide_type": "subslide"
    }
   },
   "outputs": [
    {
     "data": {
      "text/plain": [
       "<Figure size 432x288 with 0 Axes>"
      ]
     },
     "metadata": {},
     "output_type": "display_data"
    },
    {
     "data": {
      "application/vnd.jupyter.widget-view+json": {
       "model_id": "f5a8feb9b93449e59872320579f63f0f",
       "version_major": 2,
       "version_minor": 0
      },
      "text/plain": [
       "interactive(children=(FloatSlider(value=0.01, description='eps', max=2.0, min=0.01), Output()), _dom_classes=(…"
      ]
     },
     "metadata": {},
     "output_type": "display_data"
    },
    {
     "data": {
      "text/plain": [
       "<function __main__.plotDiracEps(eps)>"
      ]
     },
     "execution_count": 11,
     "metadata": {},
     "output_type": "execute_result"
    }
   ],
   "source": [
    "plt.figure()\n",
    "interact(plotDiracEps, eps=widgets.FloatSlider(min=(min_i:=0.01),max=(max_i:=2.0), step=0.1, value=(min_i if book else max_i)))"
   ]
  },
  {
   "cell_type": "markdown",
   "id": "c7651516",
   "metadata": {
    "slideshow": {
     "slide_type": "subslide"
    }
   },
   "source": [
    "##### 2D Dirac delta function\n",
    "The two-dimensional Dirac delta function is defined as\n",
    "$\\begin{align}\n",
    "\\int\\limits^\\infty_{-\\infty}\\int\\limits^\\infty_{-\\infty}\\delta (\\mathbf{x}-\\mathbf{x_0})f(\\mathbf{x})\\mathrm{d}\\mathbf{x}=f(\\mathbf{x}_0)\\quad \\mathrm{with\\,}f(\\mathbf{x})\\,\\mathrm{continuous\\,at\\,}\\mathbf{x}_0\\,.\n",
    "\\end{align}$<br>\n",
    "The same properties hold as for the one-dimensional case."
   ]
  },
  {
   "cell_type": "markdown",
   "id": "fb85305d",
   "metadata": {
    "slideshow": {
     "slide_type": "subslide"
    }
   },
   "source": [
    "#### Convolution"
   ]
  },
  {
   "cell_type": "markdown",
   "id": "b7b3a000",
   "metadata": {},
   "source": [
    "The **convolution** $f(x)* h(x)$ of two functions $f(x),h(x)$ is defined as:<br>\n",
    "$\n",
    "\\begin{align}\n",
    "f(x)* h(x):= \\int\\limits^\\infty_{-\\infty}f(\\alpha)h(x-\\alpha)\\mathrm{d}\\alpha=\\int\\limits^\\infty_{-\\infty}f(x-\\alpha)h(\\alpha)\\mathrm{d}\\alpha\\,.\n",
    "\\end{align}\n",
    "$"
   ]
  },
  {
   "cell_type": "markdown",
   "id": "142e99a3",
   "metadata": {
    "slideshow": {
     "slide_type": "fragment"
    }
   },
   "source": [
    "Convolving an arbitrary function $f(x)$ with $\\delta(x-x_0)$ corresponds to shifting $f(x)$ by $x_0$:<br>\n",
    "$\\begin{align}\n",
    "f(x)*\\delta(x-x_0)=\\int\\limits^\\infty_{-\\infty}f(\\alpha)\\delta(\\underbrace{x-x_0-\\alpha}_{=\\,0\\, \\Leftrightarrow\\, \\alpha\\, =\\, x-x_0})\\mathrm{d}\\alpha=f(x-x_0)\\,.\n",
    "\\end{align}\n",
    "$"
   ]
  },
  {
   "cell_type": "markdown",
   "id": "5adc6965",
   "metadata": {
    "slideshow": {
     "slide_type": "fragment"
    }
   },
   "source": [
    "Hence, for $x_0=0:\\quad    f(x)*\\delta(x)=f(x)\\,.$"
   ]
  },
  {
   "cell_type": "markdown",
   "id": "75b3b8d5",
   "metadata": {
    "slideshow": {
     "slide_type": "subslide"
    }
   },
   "source": [
    "##### 2D convolution"
   ]
  },
  {
   "cell_type": "markdown",
   "id": "91b5bcfe",
   "metadata": {},
   "source": [
    "The two-dimensional convolution of two functions $f(\\mathbf{x}), h(\\mathbf{x})$ is denoted by the $**$-operator and is defined as follows:<br>\n",
    "$\\begin{align}\n",
    "    f(\\mathbf{x})**h(\\mathbf{x}) := \\int\\limits^\\infty_{-\\infty}\\int\\limits^\\infty_{-\\infty} f\\left((\\alpha,\\beta)^\\intercal\\right)h\\left( (x-\\alpha, y-\\beta)^\\intercal \\right)\\mathrm{d}\\alpha\\, \\mathrm{d}\\beta\\,.\n",
    "\\end{align}$"
   ]
  },
  {
   "cell_type": "markdown",
   "id": "05cfc235",
   "metadata": {
    "slideshow": {
     "slide_type": "subslide"
    }
   },
   "source": [
    "#### Impulse response of an LSI system"
   ]
  },
  {
   "cell_type": "markdown",
   "id": "05432e3f",
   "metadata": {},
   "source": [
    "The response of an LSI system $\\mathscr{S}\\lbrace \\cdot \\rbrace$ to an input signal $f(x)$ can be expressed using a convolution integral:<br>\n",
    "$\\begin{align}\n",
    "    \\mathscr{S}\\lbrace f(x)\\rbrace = \n",
    "    \\mathscr{S}\\lbrace f(x) * \\delta(x) \\rbrace &= \n",
    "    \\mathscr{S} \\left\\lbrace \\int\\limits^\\infty_{-\\infty} f(\\alpha)\\delta(x-\\alpha)\\mathrm{d}\\alpha \\right\\rbrace \\\\ &=\n",
    "    \\int\\limits^\\infty_{-\\infty}f(\\alpha)\\underbrace{\\mathscr{S}\\lbrace\\delta(x-\\alpha)\\rbrace}_{h(x-\\alpha)}\\mathrm{d}\\alpha \\\\ &=\n",
    "    f(x)*h(x)\\,.\n",
    "\\end{align}$"
   ]
  },
  {
   "cell_type": "markdown",
   "id": "25f6301d",
   "metadata": {
    "slideshow": {
     "slide_type": "fragment"
    }
   },
   "source": [
    "The response $h(x)=\\mathscr{S}\\lbrace \\delta(x) \\rbrace$ of $\\mathscr{S}\\lbrace \\cdot \\rbrace$ to the input $\\delta(x)$ is called the **impulse response** of $\\mathscr{S}\\lbrace \\cdot \\rbrace$."
   ]
  },
  {
   "cell_type": "markdown",
   "id": "7d64523d",
   "metadata": {
    "slideshow": {
     "slide_type": "fragment"
    }
   },
   "source": [
    "An LSI system is completely characterized by its impulse response $h(x)$."
   ]
  },
  {
   "cell_type": "markdown",
   "id": "f3a1c718",
   "metadata": {
    "slideshow": {
     "slide_type": "subslide"
    }
   },
   "source": [
    "##### Example: Impulse response of a defocused optical imaging system"
   ]
  },
  {
   "cell_type": "markdown",
   "id": "ca9be516",
   "metadata": {
    "tags": [
     "book_only"
    ]
   },
   "source": [
    "For a defocused optical imaging system (see 2.1.2.1), object points from the observed scene are mapped to circles of confusion on the sensor."
   ]
  },
  {
   "cell_type": "markdown",
   "id": "49ac2d44",
   "metadata": {},
   "source": [
    "<img src=\"figures/2/thinLensDefocus.svg\" style=\"max-height:40vh\">"
   ]
  },
  {
   "cell_type": "markdown",
   "id": "f17b1193",
   "metadata": {
    "slideshow": {
     "slide_type": "subslide"
    },
    "tags": [
     "book_only"
    ]
   },
   "source": [
    "* Such an optical system can be interpreted and handled as an LSI system. \n",
    "* Hence, the impulse response function $h(\\mathbf{x})$ is sufficient for the complete characterization of the system."
   ]
  },
  {
   "cell_type": "markdown",
   "id": "f0b8815e",
   "metadata": {
    "slideshow": {
     "slide_type": "subslide"
    }
   },
   "source": [
    "##### Acquiring $h(\\mathbf{x})$"
   ]
  },
  {
   "cell_type": "markdown",
   "id": "480fb62a",
   "metadata": {},
   "source": [
    "* One way to acquire $h(\\mathbf{x})$, is to present an impulse-shaped input to the system and record its answer.\n",
    "* With respect to optical systems, an impulse corresponds to a scene having only a single bright point centered at the optical axis.\n",
    "* In the domain of optics, $h(\\mathbf{x})$ is often also denoted as the so-called **point spread function (PSF)**, as will be illustrated by the upcoming example."
   ]
  },
  {
   "cell_type": "markdown",
   "id": "5cf22e9b",
   "metadata": {
    "slideshow": {
     "slide_type": "subslide"
    }
   },
   "source": [
    "<img src=\"figures/2/thinLensDefocusPSF.svg\" style=\"max-height:80vh\">"
   ]
  },
  {
   "cell_type": "markdown",
   "id": "7d3a225b",
   "metadata": {
    "slideshow": {
     "slide_type": "subslide"
    }
   },
   "source": [
    "The impulse response $h(\\mathbf{x})$ will have the shape of a two-dimensional $\\mathrm{rect}$-function:<br>\n",
    "$\\begin{align}\n",
    "    h(\\mathbf{x}) = \\mathrm{rect}\\left( \\Vert \\mathbf{x} \\Vert, \\varepsilon \\right)\\,,\n",
    "\\end{align}$<br>\n",
    "sometimes also denoted as the so-called **pillbox function** (looks like a round box for drugs)."
   ]
  },
  {
   "cell_type": "markdown",
   "id": "56481588",
   "metadata": {
    "slideshow": {
     "slide_type": "subslide"
    }
   },
   "source": [
    "To simulate the output of the system for a scene, e.g., given as a grayscale image $g(\\mathbf{x})$, it is sufficient to calculate $g(\\mathbf{x})**\\,h(\\mathbf{x})$ as will be shown in the following example."
   ]
  },
  {
   "cell_type": "code",
   "execution_count": 12,
   "id": "72ad7569",
   "metadata": {
    "init_cell": true,
    "slideshow": {
     "slide_type": "subslide"
    }
   },
   "outputs": [],
   "source": [
    "def createPillobxResponse(r):\n",
    "    X,Y = np.meshgrid(np.arange(-r-1,r+2,1), np.arange(-r-1,r+2,1))\n",
    "    psf = np.zeros_like(X)\n",
    "    psf[np.sqrt(X**2+Y**2) <= r] = 1\n",
    "    return psf, X, Y"
   ]
  },
  {
   "cell_type": "code",
   "execution_count": 13,
   "id": "709cebb4",
   "metadata": {
    "init_cell": true,
    "slideshow": {
     "slide_type": "subslide"
    }
   },
   "outputs": [],
   "source": [
    "psf, X, Y = createPillobxResponse(10)"
   ]
  },
  {
   "cell_type": "code",
   "execution_count": 14,
   "id": "79ccfed9",
   "metadata": {
    "init_cell": true,
    "slideshow": {
     "slide_type": "fragment"
    }
   },
   "outputs": [
    {
     "data": {
      "image/png": "[encoded data removed]",
      "text/plain": [
       "<Figure size 432x288 with 1 Axes>"
      ]
     },
     "metadata": {
      "filenames": {
       "image/png": "C:\\Users\\meyjoh\\repos\\vlcompimg\\mynewbook\\_build\\jupyter_execute\\02_Basics_131_0.png"
      },
      "needs_background": "light"
     },
     "output_type": "display_data"
    }
   ],
   "source": [
    "fig, ax = plt.subplots(subplot_kw={\"projection\": \"3d\"})\n",
    "surf = ax.plot_surface(X, Y, psf)\n",
    "plt.show()"
   ]
  },
  {
   "cell_type": "code",
   "execution_count": 15,
   "id": "6b61fcbe",
   "metadata": {
    "init_cell": true,
    "slideshow": {
     "slide_type": "subslide"
    }
   },
   "outputs": [
    {
     "data": {
      "image/png": "[encoded data removed]",
      "text/plain": [
       "<Figure size 432x288 with 1 Axes>"
      ]
     },
     "metadata": {
      "filenames": {
       "image/png": "C:\\Users\\meyjoh\\repos\\vlcompimg\\mynewbook\\_build\\jupyter_execute\\02_Basics_132_0.png"
      },
      "needs_background": "light"
     },
     "output_type": "display_data"
    }
   ],
   "source": [
    "img = cv2.cvtColor(plt.imread('figures/2/input_Cam020.png'), cv2.COLOR_RGB2GRAY)\n",
    "plt.figure()\n",
    "imshow(img, cmap='gray')"
   ]
  },
  {
   "cell_type": "code",
   "execution_count": 16,
   "id": "9f03dc9e",
   "metadata": {
    "init_cell": true,
    "slideshow": {
     "slide_type": "subslide"
    }
   },
   "outputs": [],
   "source": [
    "def defocusExample(r):\n",
    "    psf, _, _ = createPillobxResponse(r)\n",
    "    res = sig.convolve2d(img, psf, mode='same', boundary='fill')\n",
    "    imshow(res, cmap='gray')"
   ]
  },
  {
   "cell_type": "code",
   "execution_count": 17,
   "id": "13145b8d",
   "metadata": {
    "init_cell": true,
    "slideshow": {
     "slide_type": "fragment"
    }
   },
   "outputs": [
    {
     "data": {
      "text/plain": [
       "<Figure size 432x288 with 0 Axes>"
      ]
     },
     "metadata": {},
     "output_type": "display_data"
    },
    {
     "data": {
      "application/vnd.jupyter.widget-view+json": {
       "model_id": "4c856daa21c545b38ea9de81d3a28bc6",
       "version_major": 2,
       "version_minor": 0
      },
      "text/plain": [
       "interactive(children=(IntSlider(value=10, description='r', max=10), Output()), _dom_classes=('widget-interact'…"
      ]
     },
     "metadata": {},
     "output_type": "display_data"
    },
    {
     "data": {
      "text/plain": [
       "<function __main__.defocusExample(r)>"
      ]
     },
     "execution_count": 17,
     "metadata": {},
     "output_type": "execute_result"
    }
   ],
   "source": [
    "plt.figure()\n",
    "interact(defocusExample, r=widgets.IntSlider(min=(min_i:=0),max=(max_i:=10), step=1, value=(max_i if book else min_i)))"
   ]
  },
  {
   "cell_type": "markdown",
   "id": "5b49fd5c",
   "metadata": {
    "slideshow": {
     "slide_type": "subslide"
    }
   },
   "source": [
    "### Fourier transform"
   ]
  },
  {
   "cell_type": "markdown",
   "id": "dc0b16b7",
   "metadata": {
    "slideshow": {
     "slide_type": "subslide"
    }
   },
   "source": [
    "#### Fourier series, trigonometric form"
   ]
  },
  {
   "cell_type": "markdown",
   "id": "3a4a057d",
   "metadata": {
    "slideshow": {
     "slide_type": "subslide"
    }
   },
   "source": [
    "Every periodic function $g(x)$ with a periodic interval $\\left[0, L\\right]$ can be expressed as a series of weighted sine functions and cosine functions via the so-called Fourier series synthesis:\n",
    "<br>\n",
    "$\\begin{align}\n",
    "    g(x) = a_0 + \\sum\\limits^\\infty_{f=1} \\left(a_f \\cos \\left( \\frac{2\\pi f x}{L} \\right) + b_f \\sin \\left(\\frac{2\\pi f x}{L} \\right)\\right)\\,,\n",
    "\\end{align}$<br>\n",
    "with $a_f$ and $b_f$ denoting the Fourier series coefficients."
   ]
  },
  {
   "cell_type": "markdown",
   "id": "266640f5",
   "metadata": {
    "slideshow": {
     "slide_type": "subslide"
    }
   },
   "source": [
    "The Fourier series coefficients are obtained via the Fourier series analysis:\n",
    "<br>\n",
    "$\\begin{align}\n",
    "    a_0 &= \\frac{1}{L} \\int\\limits^L_0 g(x)\\mathrm{d}x \\\\\n",
    "    a_f &= \\frac{2}{L} \\int\\limits^L_0 g(x) \\cos\\left(\\frac{2\\pi f x}{L}\\right) \\mathrm{d}x \\\\\n",
    "    b_f &= \\frac{2}{L} \\int\\limits^L_0 g(x) \\sin\\left(\\frac{2\\pi f x}{L}\\right) \\mathrm{d}x \n",
    "\\end{align}$<br>"
   ]
  },
  {
   "cell_type": "markdown",
   "id": "fc4db514",
   "metadata": {
    "slideshow": {
     "slide_type": "fragment"
    }
   },
   "source": [
    "The index $f$ denotes the frequency of the approximating oscillations with respect to the periodic interval $\\left[0,L\\right]$ of $g(x)$."
   ]
  },
  {
   "cell_type": "markdown",
   "id": "ab88d2c1",
   "metadata": {},
   "source": [
    "Higher $f$ correspond to higher frequencies which encode fine details of $g(x)$."
   ]
  },
  {
   "cell_type": "markdown",
   "id": "9baa4fe6",
   "metadata": {
    "slideshow": {
     "slide_type": "subslide"
    }
   },
   "source": [
    "##### Example: Trigonometric Fourier series calculation"
   ]
  },
  {
   "cell_type": "code",
   "execution_count": 18,
   "id": "e6ac4077",
   "metadata": {
    "init_cell": true
   },
   "outputs": [
    {
     "data": {
      "text/plain": [
       "[<matplotlib.lines.Line2D at 0x14d5a668f70>]"
      ]
     },
     "execution_count": 18,
     "metadata": {},
     "output_type": "execute_result"
    },
    {
     "data": {
      "image/png": "[encoded data removed]",
      "text/plain": [
       "<Figure size 432x288 with 1 Axes>"
      ]
     },
     "metadata": {
      "filenames": {
       "image/png": "C:\\Users\\meyjoh\\repos\\vlcompimg\\mynewbook\\_build\\jupyter_execute\\02_Basics_142_1.png"
      },
      "needs_background": "light"
     },
     "output_type": "display_data"
    }
   ],
   "source": [
    "L=20\n",
    "freq=4\n",
    "samples=10000\n",
    "xs = (np.linspace(0,L,samples,endpoint=True))\n",
    "gs = sig.sawtooth(2*np.pi*xs*freq/L,)\n",
    "plt.figure()\n",
    "plt.plot(xs, gs)"
   ]
  },
  {
   "cell_type": "code",
   "execution_count": 19,
   "id": "9588734c",
   "metadata": {
    "slideshow": {
     "slide_type": "notes"
    }
   },
   "outputs": [],
   "source": [
    "a0 = 1/L * simpson(gs,xs)\n",
    "an = []\n",
    "bn = []\n",
    "for i in range(1,110):\n",
    "    an.append((2.0/L)*simpson(gs*np.cos(2*np.pi*i*xs/L) ,xs))\n",
    "    bn.append((2.0/L)*simpson(gs*np.sin(2*np.pi*i*xs/L) ,xs))"
   ]
  },
  {
   "cell_type": "code",
   "execution_count": 20,
   "id": "5f381087",
   "metadata": {
    "slideshow": {
     "slide_type": "notes"
    },
    "tags": [
     "remove-cell"
    ]
   },
   "outputs": [],
   "source": [
    "gs2 = np.zeros_like(xs)\n",
    "gs2 = gs2 + a0\n",
    "for i in range(0,len(an)):\n",
    "    gs2 = gs2 + an[i]*np.cos(2*np.pi*xs/L*(i+1)) + bn[i]*np.sin(2*np.pi*xs/L*(i+1))"
   ]
  },
  {
   "cell_type": "code",
   "execution_count": 21,
   "id": "5e7d1b0c",
   "metadata": {
    "slideshow": {
     "slide_type": "notes"
    },
    "tags": [
     "remove-cell"
    ]
   },
   "outputs": [
    {
     "data": {
      "text/plain": [
       "[<matplotlib.lines.Line2D at 0x14d5a490490>]"
      ]
     },
     "execution_count": 21,
     "metadata": {},
     "output_type": "execute_result"
    },
    {
     "data": {
      "image/png": "[encoded data removed]",
      "text/plain": [
       "<Figure size 432x288 with 1 Axes>"
      ]
     },
     "metadata": {
      "filenames": {
       "image/png": "C:\\Users\\meyjoh\\repos\\vlcompimg\\mynewbook\\_build\\jupyter_execute\\02_Basics_145_1.png"
      },
      "needs_background": "light"
     },
     "output_type": "display_data"
    }
   ],
   "source": [
    "plt.figure()\n",
    "plt.plot(xs,gs2)\n",
    "plt.plot(xs,gs)"
   ]
  },
  {
   "cell_type": "code",
   "execution_count": 22,
   "id": "cfece460",
   "metadata": {
    "init_cell": true,
    "slideshow": {
     "slide_type": "subslide"
    }
   },
   "outputs": [],
   "source": [
    "def reconstrTrigFourier(terms):\n",
    "    a0 = 1/L * simpson(gs,xs)\n",
    "    an = []\n",
    "    bn = []\n",
    "    for i in range(1,terms):\n",
    "        an.append((2.0/L)*simpson(gs*np.cos(2*np.pi*i*xs/L) ,xs))\n",
    "        bn.append((2.0/L)*simpson(gs*np.sin(2*np.pi*i*xs/L) ,xs))\n",
    "    \n",
    "    gs2 = np.zeros_like(xs)\n",
    "    gs2 = gs2 + a0\n",
    "    for i in range(0,len(an)):\n",
    "        gs2 = gs2 + an[i]*np.cos(2*np.pi*xs/L*(i+1)) + bn[i]*np.sin(2*np.pi*xs/L*(i+1))\n",
    "\n",
    "    plt.clf()\n",
    "    plt.plot(xs,gs2)\n",
    "    plt.plot(xs,gs)"
   ]
  },
  {
   "cell_type": "code",
   "execution_count": 23,
   "id": "cc3585f5",
   "metadata": {
    "init_cell": true,
    "slideshow": {
     "slide_type": "subslide"
    }
   },
   "outputs": [
    {
     "data": {
      "text/plain": [
       "<Figure size 432x288 with 0 Axes>"
      ]
     },
     "metadata": {},
     "output_type": "display_data"
    },
    {
     "data": {
      "application/vnd.jupyter.widget-view+json": {
       "model_id": "1f2c7f4f21ae4fd4a08eaa4f261eb3a1",
       "version_major": 2,
       "version_minor": 0
      },
      "text/plain": [
       "interactive(children=(IntSlider(value=100, description='terms', min=1, step=4), Output()), _dom_classes=('widg…"
      ]
     },
     "metadata": {},
     "output_type": "display_data"
    },
    {
     "data": {
      "text/plain": [
       "<function __main__.reconstrTrigFourier(terms)>"
      ]
     },
     "execution_count": 23,
     "metadata": {},
     "output_type": "execute_result"
    }
   ],
   "source": [
    "plt.figure()\n",
    "interact(reconstrTrigFourier, terms=widgets.IntSlider(min=(min_i:=1),max=(max_i:=100), step=4, value=(max_i if book else min_i)))"
   ]
  },
  {
   "cell_type": "markdown",
   "id": "f17239cc",
   "metadata": {
    "slideshow": {
     "slide_type": "subslide"
    }
   },
   "source": [
    "#### Fourier series, exponential form"
   ]
  },
  {
   "cell_type": "markdown",
   "id": "65554527",
   "metadata": {},
   "source": [
    "The concept of Fourier series can be further simplified and compacted by making use of complex numbers $a+b\\,\\mathrm{j} \\in \\mathbb{C}$ with the imaginary unit $\\mathrm{j}$.<br>"
   ]
  },
  {
   "cell_type": "markdown",
   "id": "9ae58d59",
   "metadata": {
    "slideshow": {
     "slide_type": "subslide"
    }
   },
   "source": [
    "Key ingredient to the following considerations is the so-called **Euler's formula**:<br>\n",
    "$\\begin{align}\n",
    "    \\mathrm{e}^{\\,\\mathrm{j}x}&= \\cos(x)+\\mathrm{j}\\,\\sin(x)\\,,\\\\\n",
    "    \\mathrm{e}^{\\,-\\mathrm{j}x}&= \\cos(x)-\\mathrm{j}\\,\\sin(x)\\,.\n",
    "\\end{align}$<br>"
   ]
  },
  {
   "cell_type": "markdown",
   "id": "496feb6a",
   "metadata": {
    "slideshow": {
     "slide_type": "fragment"
    }
   },
   "source": [
    "The Fourier synthesis then simplifies to<br>\n",
    "$\\begin{align}\n",
    "    g(x)=\\sum\\limits^{+\\infty}_{f=-\\infty} c_f \\exp\\left(\\frac{\\mathrm{j}2\\pi f x}{L}\\right)\\,,\n",
    "\\end{align}$<br>\n",
    "with $c_f$ denoting the complex Fourier coefficients."
   ]
  },
  {
   "cell_type": "markdown",
   "id": "643462ba",
   "metadata": {
    "slideshow": {
     "slide_type": "subslide"
    }
   },
   "source": [
    "The complex Fourier coefficients are obtained via the more compact complex Fourier analysis:<br>\n",
    "$\\begin{align}\n",
    "    c_f = \\frac{1}{L} \\int\\limits^L_0 g(x)\\exp\\left(\\frac{-\\mathrm{j}2\\pi f x}{L}\\right)\\mathrm{d}x\n",
    "\\end{align}$<br>"
   ]
  },
  {
   "cell_type": "markdown",
   "id": "ce81d088",
   "metadata": {
    "slideshow": {
     "slide_type": "fragment"
    }
   },
   "source": [
    "The coefficients are symmetric in the way that $c_i = c^*_{-i}$ with $^*$ denoting the complex conjugate. Hence, all the imaginary parts cancel out during the synthesis of a real-valued input signal $g(x)$."
   ]
  },
  {
   "cell_type": "markdown",
   "id": "3e4bc05b",
   "metadata": {
    "slideshow": {
     "slide_type": "subslide"
    }
   },
   "source": [
    "##### Example: Exponential Fourier series calculation"
   ]
  },
  {
   "cell_type": "code",
   "execution_count": 24,
   "id": "2ea921cf",
   "metadata": {
    "init_cell": true
   },
   "outputs": [
    {
     "data": {
      "text/plain": [
       "[<matplotlib.lines.Line2D at 0x14d5a560df0>]"
      ]
     },
     "execution_count": 24,
     "metadata": {},
     "output_type": "execute_result"
    },
    {
     "data": {
      "image/png": "[encoded data removed]",
      "text/plain": [
       "<Figure size 432x288 with 1 Axes>"
      ]
     },
     "metadata": {
      "filenames": {
       "image/png": "C:\\Users\\meyjoh\\repos\\vlcompimg\\mynewbook\\_build\\jupyter_execute\\02_Basics_155_1.png"
      },
      "needs_background": "light"
     },
     "output_type": "display_data"
    }
   ],
   "source": [
    "L=20.0\n",
    "freq=4\n",
    "samples=10000\n",
    "xs = (np.linspace(0,L,samples,endpoint=True))\n",
    "gs = sig.sawtooth(2*np.pi*xs*freq/L,)+3\n",
    "plt.figure()\n",
    "plt.plot(xs, gs)"
   ]
  },
  {
   "cell_type": "code",
   "execution_count": 25,
   "id": "19779127",
   "metadata": {
    "slideshow": {
     "slide_type": "notes"
    },
    "tags": [
     "remove-cell"
    ]
   },
   "outputs": [],
   "source": [
    "terms = 100\n",
    "fs = np.arange(-1*terms,terms+1)\n",
    "cn = np.zeros(len(fs),dtype='complex128')\n",
    "for i in range(0,len(fs)):\n",
    "    cn[i]=((1.0/L)*simpson(gs*np.exp(-1j*2*np.pi*fs[i]*xs/L),xs))"
   ]
  },
  {
   "cell_type": "code",
   "execution_count": 26,
   "id": "b313cd8f",
   "metadata": {
    "slideshow": {
     "slide_type": "notes"
    },
    "tags": [
     "remove-cell"
    ]
   },
   "outputs": [],
   "source": [
    "gs2 = np.zeros_like(xs)\n",
    "for i in range(0,len(fs)):\n",
    "    gs2 = gs2 + cn[i]*np.exp(1j*2*np.pi*fs[i]*xs/L)"
   ]
  },
  {
   "cell_type": "code",
   "execution_count": 27,
   "id": "cdbc423a",
   "metadata": {
    "slideshow": {
     "slide_type": "notes"
    },
    "tags": [
     "remove-cell"
    ]
   },
   "outputs": [
    {
     "data": {
      "text/plain": [
       "[<matplotlib.lines.Line2D at 0x14d5a5e1340>]"
      ]
     },
     "execution_count": 27,
     "metadata": {},
     "output_type": "execute_result"
    },
    {
     "data": {
      "image/png": "[encoded data removed]",
      "text/plain": [
       "<Figure size 432x288 with 1 Axes>"
      ]
     },
     "metadata": {
      "filenames": {
       "image/png": "C:\\Users\\meyjoh\\repos\\vlcompimg\\mynewbook\\_build\\jupyter_execute\\02_Basics_158_1.png"
      },
      "needs_background": "light"
     },
     "output_type": "display_data"
    }
   ],
   "source": [
    "plt.figure()\n",
    "plt.plot(xs,np.real_if_close(gs2))\n",
    "plt.plot(xs,gs)"
   ]
  },
  {
   "cell_type": "code",
   "execution_count": 28,
   "id": "66c5c75a",
   "metadata": {
    "init_cell": true,
    "slideshow": {
     "slide_type": "subslide"
    }
   },
   "outputs": [],
   "source": [
    "def reconstrExpFourier(terms):\n",
    "    fs = np.arange(-1*terms,terms+1)\n",
    "    cn = np.zeros(len(fs),dtype='complex128')\n",
    "    for i in range(0,len(fs)):\n",
    "        cn[i]=((1.0/L)*simpson(gs*np.exp(-1j*2*np.pi*fs[i]*xs/L),xs))\n",
    "\n",
    "    gs2 = np.zeros_like(xs)\n",
    "    for i in range(0,len(fs)):\n",
    "        gs2 = gs2 + cn[i]*np.exp(1j*2*np.pi*fs[i]*xs/L)        \n",
    "        \n",
    "    plt.clf()\n",
    "    plt.plot(xs,np.real_if_close(gs2))\n",
    "    plt.plot(xs,gs)\n",
    "    "
   ]
  },
  {
   "cell_type": "code",
   "execution_count": 29,
   "id": "96aaf296",
   "metadata": {
    "init_cell": true,
    "slideshow": {
     "slide_type": "subslide"
    }
   },
   "outputs": [
    {
     "data": {
      "text/plain": [
       "<Figure size 432x288 with 0 Axes>"
      ]
     },
     "metadata": {},
     "output_type": "display_data"
    },
    {
     "data": {
      "application/vnd.jupyter.widget-view+json": {
       "model_id": "c2f734496bb443128974914b85f95aec",
       "version_major": 2,
       "version_minor": 0
      },
      "text/plain": [
       "interactive(children=(IntSlider(value=100, description='terms', min=1), Output()), _dom_classes=('widget-inter…"
      ]
     },
     "metadata": {},
     "output_type": "display_data"
    },
    {
     "data": {
      "text/plain": [
       "<function __main__.reconstrExpFourier(terms)>"
      ]
     },
     "execution_count": 29,
     "metadata": {},
     "output_type": "execute_result"
    }
   ],
   "source": [
    "plt.figure()\n",
    "interact(reconstrExpFourier, terms=widgets.IntSlider(min=(min_i:=1),max=(max_i:=100), step=1, value=(max_i if book else min_i)))"
   ]
  },
  {
   "cell_type": "markdown",
   "id": "05ec4d08",
   "metadata": {
    "slideshow": {
     "slide_type": "subslide"
    }
   },
   "source": [
    "#### Fourier transform"
   ]
  },
  {
   "cell_type": "markdown",
   "id": "4baead1f",
   "metadata": {},
   "source": [
    "The Fourier transform transforms a nearly arbitrary, usually real-valued function $g(x)$ into a complex-valued function $G(f):\\mathbb{R}\\rightarrow \\mathbb{C}$ with frequency $f$:<br>\n",
    "$\\begin{align}\n",
    "    G(f):=\\int\\limits^\\infty_{-\\infty}g(x) \\exp (-\\mathrm{j}2\\pi f x)\\,\\mathrm{d}x=:\\mathscr{F}\\lbrace g(x) \\rbrace\\,,\n",
    "\\end{align}$<br>\n",
    "which is also called the **spectrum** of $g(x)$."
   ]
  },
  {
   "cell_type": "markdown",
   "id": "54c1e0da",
   "metadata": {
    "slideshow": {
     "slide_type": "fragment"
    }
   },
   "source": [
    "The inverse transform is given by:<br>\n",
    "$\\begin{align}\n",
    "    g(x)=\\int\\limits^\\infty_{-\\infty}G(f)\\exp(\\mathrm{j}2\\pi f x)\\,\\mathrm{d}f=:\\mathscr{F}^{-1}\\lbrace G(f) \\rbrace\\,.\n",
    "\\end{align}$<br>"
   ]
  },
  {
   "cell_type": "markdown",
   "id": "d8ec87dd",
   "metadata": {
    "slideshow": {
     "slide_type": "subslide"
    }
   },
   "source": [
    "Since $G(f)\\in \\mathbb{C}$, it can be expressed as<br><br>\n",
    "$\\begin{align}\n",
    "    G(f)=\\vert G(f) \\vert\\cdot \\exp(\\mathrm{j}\\varphi(f)) =  \\mathscr{R}\\lbrace G(f) \\rbrace + \\mathrm{j}\\,\\mathscr{I}\\lbrace G(f) \\rbrace\\,,\n",
    "\\end{align}$<br><br>\n",
    "with $\\vert G(f) \\vert$ denoting the **magnitude spectrum**, $\\varphi(f)$ denoting the **phase spectrum**, $\\mathscr{R}\\lbrace G(f) \\rbrace$ denoting the real part of $G(f)$ and  $\\mathscr{I}\\lbrace G(f) \\rbrace$ denoting the imaginary part of $G(f)$."
   ]
  },
  {
   "cell_type": "markdown",
   "id": "870f3292",
   "metadata": {
    "slideshow": {
     "slide_type": "fragment"
    }
   },
   "source": [
    "The variable $f$ of $G$ denotes a frequency with respect to spatial positions (not to time!), which is why it is denoted as a **spatial frequency** with unit $\\left[f\\right]=\\left[x\\right]^{-1}$."
   ]
  },
  {
   "cell_type": "markdown",
   "id": "88cd0a0e",
   "metadata": {
    "slideshow": {
     "slide_type": "subslide"
    }
   },
   "source": [
    "Common naming conventions:\n",
    "* **Spatial domain**: the domain of $g(x)$,\n",
    "* **Fourier domain** or **spatial frequency domain**: the domain of $G(f)$."
   ]
  },
  {
   "cell_type": "markdown",
   "id": "bd28bdfb",
   "metadata": {
    "slideshow": {
     "slide_type": "subslide"
    }
   },
   "source": [
    "##### 2D Fourier transform"
   ]
  },
  {
   "cell_type": "markdown",
   "id": "a16308aa",
   "metadata": {},
   "source": [
    "The two-dimensional Fourier transform $G(\\mathbf{f}):\\mathbb{R}^2\\rightarrow \\mathbb{C},\\, \\mathbf{f}=(f_x,f_y)^\\intercal$ of a two-dimensional function $g(\\mathbf{x}):\\mathbb{R}^2 \\rightarrow \\mathbb{C},\\, \\mathbf{x}=(x,y)^\\intercal$ is obtained via the following integral transform:<br>\n",
    "$\\begin{align}\n",
    "    G(\\mathbf{f})=\\mathscr{F}\\lbrace g(\\mathbf{x}) \\rbrace := \\int\\limits^\\infty_{-\\infty}\\int\\limits^\\infty_{-\\infty}g(\\mathbf{x}) \\exp \\left(-\\mathrm{j}2\\pi\\,\\mathbf{f}^\\intercal \\mathbf{x} \\right) \\mathrm{d} \\mathbf{x} \\,.\n",
    "\\end{align}$<br>"
   ]
  },
  {
   "cell_type": "markdown",
   "id": "ca9551e7",
   "metadata": {
    "slideshow": {
     "slide_type": "fragment"
    }
   },
   "source": [
    "The inverse transform is given by:<br>\n",
    "$\\begin{align}\n",
    "    g(\\mathbf{x})=\\mathscr{F}^{-1}\\lbrace G(\\mathbf{f}) \\rbrace = \\int\\limits^\\infty_{-\\infty}\\int\\limits^\\infty_{-\\infty} G(\\mathbf{f}) \\exp\\left( \\mathrm{j}2\\pi\\,\\mathbf{f}^\\intercal \\mathbf{x} \\right) \\mathrm{d}\\mathbf{f}\\,.\n",
    "\\end{align}$<br>"
   ]
  },
  {
   "cell_type": "markdown",
   "id": "23a3d6be",
   "metadata": {
    "slideshow": {
     "slide_type": "subslide"
    }
   },
   "source": [
    "#### Convolution theorem"
   ]
  },
  {
   "cell_type": "markdown",
   "id": "031020cb",
   "metadata": {},
   "source": [
    "Consider the Fourier transform of the convolution of two signals $g(x), h(x)$:\n",
    "<br>\n",
    "$\\begin{align}\n",
    "    \\mathscr{F}\\lbrace g(x) * h(x) \\rbrace &= \\int\\limits^\\infty_{-\\infty}\\int\\limits^\\infty_{-\\infty}g(\\alpha)h(x-\\alpha)\\mathrm{d}\\alpha\\, \\exp\\left( -\\mathrm{j}2\\pi f x  \\right)\\, \\mathrm{d} x\\\\\n",
    "    &= \\int\\limits^\\infty_{-\\infty}g(\\alpha)\\int\\limits^\\infty_{-\\infty}h(x-\\alpha)\\exp\\left( -\\mathrm{j}2\\pi f x  \\right)\\, \\mathrm{d}x\\,\\mathrm{d} \\alpha \\,.\n",
    "\\end{align}$<br>"
   ]
  },
  {
   "cell_type": "markdown",
   "id": "a3dfed75",
   "metadata": {
    "slideshow": {
     "slide_type": "fragment"
    }
   },
   "source": [
    "Now, the substitution $\\beta:= x- \\alpha$ yields:<br>\n",
    "$\\begin{align}\n",
    "    \\mathscr{F}\\lbrace g(x) * h(x) \\rbrace &=  \\int\\limits^\\infty_{-\\infty}g(\\alpha)\\int\\limits^\\infty_{-\\infty}h(\\beta)\\exp\\left( -\\mathrm{j}2\\pi f (\\alpha + \\beta)  \\right)\\, \\mathrm{d}\\beta\\,\\mathrm{d} \\alpha \\\\\n",
    "    &= \\underbrace{ \\int\\limits^\\infty_{-\\infty} g(\\alpha) \\exp\\left( -\\mathrm{j}2\\pi f \\alpha  \\right)\\, \\mathrm{d} \\alpha }_{G(f)}\\cdot \n",
    "    \\underbrace{\\int\\limits^\\infty_{-\\infty} h(\\beta) \\exp\\left( -\\mathrm{j}2\\pi f \\beta  \\right)\\, \\mathrm{d} \\beta}_{H(f)}\\,.\n",
    "\\end{align}$<br>"
   ]
  },
  {
   "cell_type": "markdown",
   "id": "43e72ad1",
   "metadata": {
    "slideshow": {
     "slide_type": "subslide"
    }
   },
   "source": [
    "Hence, the Fourier transform transforms the convolution of two signals into a multiplication of their spectra and vice versa:<br>\n",
    "$\\begin{align}\n",
    "    g(x)*h(x) &= \\mathscr{F}^{-1}\\lbrace G(f)\\cdot H(f) \\rbrace \\,, \\\\\n",
    "    g(x)\\cdot h(x) &= \\mathscr{F}^{-1}\\lbrace G(f) * H(f) \\rbrace \\,. \\\\\n",
    "\\end{align}$<br>"
   ]
  },
  {
   "cell_type": "markdown",
   "id": "c9d2dc6e",
   "metadata": {
    "slideshow": {
     "slide_type": "fragment"
    }
   },
   "source": [
    "This dualism can be exploited in various ways, e.g., to speed up the calculation of a convolution by performing it as a multiplication in the frequency space (i.e., Fourier domain)."
   ]
  },
  {
   "cell_type": "markdown",
   "id": "82c22a61",
   "metadata": {
    "slideshow": {
     "slide_type": "subslide"
    }
   },
   "source": [
    "#### Discrete Fourier transform (DFT)"
   ]
  },
  {
   "cell_type": "markdown",
   "id": "b9f07cf5",
   "metadata": {
    "tags": [
     "book_only"
    ]
   },
   "source": [
    "The Fourier transform requires unlimited continuous signals what can't be practically realized in a computer (no unlimited storage)."
   ]
  },
  {
   "cell_type": "markdown",
   "id": "cb7d509b",
   "metadata": {
    "tags": [
     "book_only"
    ]
   },
   "source": [
    "As a practical approximation, the **discrete Fourier transform** (DFT) can be employed."
   ]
  },
  {
   "cell_type": "markdown",
   "id": "687c6664",
   "metadata": {},
   "source": [
    "The signal $g(x)$ is assumed to be sampled at $N$ positions having an equidistant spacing of $\\Delta x$, i.e., $x=n \\Delta x, n\\in\\left[0,\\ldots,N-1\\right]$."
   ]
  },
  {
   "cell_type": "markdown",
   "id": "7896d42d",
   "metadata": {
    "slideshow": {
     "slide_type": "subslide"
    }
   },
   "source": [
    "The DFT $G(f)$ of $g(x)$ is then obtained via:<br>\n",
    "$\\begin{align}\n",
    "    G(f) = \\sum\\limits^{N-1}_{n=0} g(n\\Delta x)\\exp\\left( -\\mathrm{j}2\\pi  \\frac{fn}{N} \\right) \\,.\n",
    "\\end{align}$<br>"
   ]
  },
  {
   "cell_type": "markdown",
   "id": "066d5a2e",
   "metadata": {
    "slideshow": {
     "slide_type": "fragment"
    }
   },
   "source": [
    "The inverse DFT is calculated as:<br>\n",
    "$\\begin{align}\n",
    "    g(n\\Delta x)\\approx \\frac{1}{N} \\sum\\limits^{N-1}_{f=0} G(f) \\exp \\left( \\mathrm{j}2\\pi \\frac{fn}{N} \\right)\\,.\n",
    "\\end{align}$<br>"
   ]
  },
  {
   "cell_type": "markdown",
   "id": "7c3285cf",
   "metadata": {
    "slideshow": {
     "slide_type": "subslide"
    }
   },
   "source": [
    "##### Illustration of the DFT"
   ]
  },
  {
   "cell_type": "code",
   "execution_count": 30,
   "id": "62c2a794",
   "metadata": {
    "init_cell": true,
    "slideshow": {
     "slide_type": "subslide"
    }
   },
   "outputs": [
    {
     "data": {
      "application/vnd.jupyter.widget-view+json": {
       "model_id": "70326cc0a82944149f5463ab03277b20",
       "version_major": 2,
       "version_minor": 0
      },
      "text/plain": [
       "interactive(children=(IntSlider(value=3, description='i', max=3, min=1), Output()), _dom_classes=('widget-inte…"
      ]
     },
     "metadata": {},
     "output_type": "display_data"
    },
    {
     "data": {
      "text/plain": [
       "<function __main__.<lambda>(i)>"
      ]
     },
     "execution_count": 30,
     "metadata": {},
     "output_type": "execute_result"
    }
   ],
   "source": [
    "interact(lambda i: showFig('figures/2/dftSpectrum_',i,'.svg',800,60), i=widgets.IntSlider(min=(min_i:=1),max=(max_i:=3), step=1, value=(max_i if book else min_i)))"
   ]
  },
  {
   "cell_type": "markdown",
   "id": "3c84e0ec",
   "metadata": {
    "slideshow": {
     "slide_type": "subslide"
    },
    "tags": [
     "book_only"
    ]
   },
   "source": [
    "##### Note"
   ]
  },
  {
   "cell_type": "markdown",
   "id": "f1d1f748",
   "metadata": {
    "tags": [
     "book_only"
    ]
   },
   "source": [
    "The following two important properties of the DFT can be seen in the last step of the animation:\n",
    "1. The DFT implicitly periodically repeats the approximated spectrum.<br>This has to be taken into account when making use of the convolution theorem, since convolutions performed as multiplications in the Fourier domain (calculated with the DFT) have to be regarded as cyclic."
   ]
  },
  {
   "cell_type": "markdown",
   "id": "7b294f9b",
   "metadata": {
    "tags": [
     "book_only"
    ]
   },
   "source": [
    "2. The center of the extracted window of length $N$ corresponds to the highest spatial frequencies.<br> By appropriately swapping the window halves, the correct arrangement can be obtained."
   ]
  },
  {
   "cell_type": "markdown",
   "id": "e3d990fc",
   "metadata": {
    "slideshow": {
     "slide_type": "subslide"
    }
   },
   "source": [
    "##### Example: DFT calculation"
   ]
  },
  {
   "cell_type": "code",
   "execution_count": 31,
   "id": "31baf133",
   "metadata": {
    "init_cell": true
   },
   "outputs": [
    {
     "data": {
      "text/plain": [
       "[<matplotlib.lines.Line2D at 0x14d5b6f40a0>]"
      ]
     },
     "execution_count": 31,
     "metadata": {},
     "output_type": "execute_result"
    },
    {
     "data": {
      "image/png": "[encoded data removed]",
      "text/plain": [
       "<Figure size 432x288 with 1 Axes>"
      ]
     },
     "metadata": {
      "filenames": {
       "image/png": "C:\\Users\\meyjoh\\repos\\vlcompimg\\mynewbook\\_build\\jupyter_execute\\02_Basics_187_1.png"
      },
      "needs_background": "light"
     },
     "output_type": "display_data"
    }
   ],
   "source": [
    "L=20.0\n",
    "freq=4\n",
    "samples=10001\n",
    "xs = (np.linspace(0,L,samples,endpoint=True))\n",
    "xs2 = np.arange(0,samples)\n",
    "gs = sig.sawtooth(2*np.pi*xs*freq/L,)\n",
    "plt.figure()\n",
    "plt.plot(xs, gs)"
   ]
  },
  {
   "cell_type": "code",
   "execution_count": 32,
   "id": "81234637",
   "metadata": {
    "init_cell": true,
    "slideshow": {
     "slide_type": "subslide"
    }
   },
   "outputs": [],
   "source": [
    "cn = np.zeros(samples,dtype='complex128')\n",
    "for i in range(0,samples):\n",
    "    cn[i] = np.sum(gs * np.exp(-1j*2*np.pi*xs2*i/samples))"
   ]
  },
  {
   "cell_type": "code",
   "execution_count": 33,
   "id": "6bf81f95",
   "metadata": {
    "init_cell": true,
    "slideshow": {
     "slide_type": "fragment"
    }
   },
   "outputs": [],
   "source": [
    "gs2 = np.zeros_like(cn)\n",
    "for i in range(0,samples):\n",
    "    gs2[i] = (1.0/samples) * np.sum(cn*np.exp(1j*2*np.pi*xs2*i/samples))"
   ]
  },
  {
   "cell_type": "code",
   "execution_count": 34,
   "id": "bc44d8c9",
   "metadata": {
    "init_cell": true,
    "slideshow": {
     "slide_type": "subslide"
    }
   },
   "outputs": [
    {
     "name": "stderr",
     "output_type": "stream",
     "text": [
      "C:\\Users\\meyjoh\\repos\\vlcompimg\\compimg\\lib\\site-packages\\matplotlib\\cbook\\__init__.py:1333: ComplexWarning: Casting complex values to real discards the imaginary part\n",
      "  return np.asarray(x, float)\n"
     ]
    },
    {
     "data": {
      "text/plain": [
       "[<matplotlib.lines.Line2D at 0x14d5b693f40>]"
      ]
     },
     "execution_count": 34,
     "metadata": {},
     "output_type": "execute_result"
    },
    {
     "data": {
      "image/png": "[encoded data removed]",
      "text/plain": [
       "<Figure size 432x288 with 1 Axes>"
      ]
     },
     "metadata": {
      "filenames": {
       "image/png": "C:\\Users\\meyjoh\\repos\\vlcompimg\\mynewbook\\_build\\jupyter_execute\\02_Basics_190_2.png"
      },
      "needs_background": "light"
     },
     "output_type": "display_data"
    }
   ],
   "source": [
    "plt.figure()\n",
    "plt.plot(xs,np.real_if_close(gs2))\n",
    "plt.plot(xs,gs)"
   ]
  },
  {
   "cell_type": "markdown",
   "id": "7484c5e8",
   "metadata": {
    "slideshow": {
     "slide_type": "subslide"
    },
    "tags": [
     "book_only"
    ]
   },
   "source": [
    "##### Note\n",
    "In practice, one would employ one of the existing, highly optimized libraries to perform the DFT calculation, e.g., the `numpy.fft` module."
   ]
  }
 ],
 "metadata": {
  "jupytext": {
   "formats": "ipynb,md:myst",
   "text_representation": {
    "extension": ".md",
    "format_name": "myst",
    "format_version": 0.13,
    "jupytext_version": "1.14.1"
   }
  },
  "kernelspec": {
   "display_name": "compimg",
   "language": "python",
   "name": "compimg"
  },
  "language_info": {
   "codemirror_mode": {
    "name": "ipython",
    "version": 3
   },
   "file_extension": ".py",
   "mimetype": "text/x-python",
   "name": "python",
   "nbconvert_exporter": "python",
   "pygments_lexer": "ipython3",
   "version": "3.8.10"
  },
  "source_map": [
   15,
   34,
   54,
   61,
   67,
   76,
   89,
   102,
   116,
   120,
   127,
   131,
   135,
   141,
   148,
   152,
   173,
   177,
   185,
   189,
   195,
   202,
   206,
   210,
   214,
   219,
   227,
   231,
   239,
   244,
   248,
   252,
   256,
   260,
   264,
   268,
   272,
   276,
   280,
   284,
   288,
   292,
   296,
   300,
   304,
   308,
   312,
   316,
   320,
   324,
   328,
   336,
   340,
   345,
   349,
   353,
   357,
   361,
   365,
   369,
   373,
   377,
   381,
   389,
   393,
   397,
   402,
   406,
   411,
   415,
   420,
   424,
   428,
   432,
   436,
   441,
   445,
   449,
   453,
   457,
   461,
   465,
   473,
   477,
   481,
   485,
   489,
   493,
   497,
   507,
   523,
   527,
   531,
   539,
   543,
   547,
   556,
   565,
   569,
   573,
   577,
   585,
   593,
   609,
   623,
   627,
   637,
   647,
   662,
   672,
   681,
   685,
   694,
   702,
   706,
   710,
   717,
   721,
   732,
   736,
   740,
   744,
   748,
   752,
   757,
   761,
   767,
   771,
   779,
   783,
   796,
   805,
   816,
   827,
   839,
   849,
   853,
   857,
   866,
   876,
   880,
   884,
   888,
   900,
   913,
   925,
   936,
   960,
   970,
   974,
   978,
   986,
   994,
   1001,
   1005,
   1009,
   1021,
   1034,
   1045,
   1056,
   1078,
   1088,
   1092,
   1100,
   1107,
   1115,
   1119,
   1125,
   1129,
   1136,
   1143,
   1147,
   1156,
   1165,
   1173,
   1177,
   1181,
   1185,
   1189,
   1193,
   1200,
   1207,
   1211,
   1220,
   1224,
   1229,
   1233,
   1237,
   1250,
   1261,
   1272,
   1283
  ],
  "widgets": {
   "application/vnd.jupyter.widget-state+json": {
    "state": {
     "02a21818e80c4e79acb06d827d8f58a6": {
      "model_module": "@jupyter-widgets/controls",
      "model_module_version": "1.5.0",
      "model_name": "IntSliderModel",
      "state": {
       "_dom_classes": [],
       "_model_module": "@jupyter-widgets/controls",
       "_model_module_version": "1.5.0",
       "_model_name": "IntSliderModel",
       "_view_count": null,
       "_view_module": "@jupyter-widgets/controls",
       "_view_module_version": "1.5.0",
       "_view_name": "IntSliderView",
       "continuous_update": true,
       "description": "terms",
       "description_tooltip": null,
       "disabled": false,
       "layout": "IPY_MODEL_22b0cd4adc1849aab065ea0dab47d207",
       "max": 100,
       "min": 1,
       "orientation": "horizontal",
       "readout": true,
       "readout_format": "d",
       "step": 4,
       "style": "IPY_MODEL_a851eaa6f15b414c8aecdcf3bfd3b089",
       "value": 100
      }
     },
     "065ce113efb146a88b319c45d7574e2b": {
      "model_module": "@jupyter-widgets/output",
      "model_module_version": "1.0.0",
      "model_name": "OutputModel",
      "state": {
       "_dom_classes": [],
       "_model_module": "@jupyter-widgets/output",
       "_model_module_version": "1.0.0",
       "_model_name": "OutputModel",
       "_view_count": null,
       "_view_module": "@jupyter-widgets/output",
       "_view_module_version": "1.0.0",
       "_view_name": "OutputView",
       "layout": "IPY_MODEL_7bbdb4e7964544869ea6e13d22d8bd50",
       "msg_id": "",
       "outputs": [
        {
         "data": {
          "text/html": "<img src=\"figures/2/dftSpectrum_3.svg\" style=\"max-height:60vh\"/>",
          "text/plain": "<IPython.core.display.HTML object>"
         },
         "metadata": {},
         "output_type": "display_data"
        }
       ]
      }
     },
     "17911d5f31384deb9a2b117c5413a837": {
      "model_module": "@jupyter-widgets/controls",
      "model_module_version": "1.5.0",
      "model_name": "SliderStyleModel",
      "state": {
       "_model_module": "@jupyter-widgets/controls",
       "_model_module_version": "1.5.0",
       "_model_name": "SliderStyleModel",
       "_view_count": null,
       "_view_module": "@jupyter-widgets/base",
       "_view_module_version": "1.2.0",
       "_view_name": "StyleView",
       "description_width": "",
       "handle_color": null
      }
     },
     "1acc5ba3cfea4f7193fc0ef90535af62": {
      "model_module": "@jupyter-widgets/controls",
      "model_module_version": "1.5.0",
      "model_name": "SliderStyleModel",
      "state": {
       "_model_module": "@jupyter-widgets/controls",
       "_model_module_version": "1.5.0",
       "_model_name": "SliderStyleModel",
       "_view_count": null,
       "_view_module": "@jupyter-widgets/base",
       "_view_module_version": "1.2.0",
       "_view_name": "StyleView",
       "description_width": "",
       "handle_color": null
      }
     },
     "1bc262ceb9374bf1b15f07837f780fbe": {
      "model_module": "@jupyter-widgets/base",
      "model_module_version": "1.2.0",
      "model_name": "LayoutModel",
      "state": {
       "_model_module": "@jupyter-widgets/base",
       "_model_module_version": "1.2.0",
       "_model_name": "LayoutModel",
       "_view_count": null,
       "_view_module": "@jupyter-widgets/base",
       "_view_module_version": "1.2.0",
       "_view_name": "LayoutView",
       "align_content": null,
       "align_items": null,
       "align_self": null,
       "border": null,
       "bottom": null,
       "display": null,
       "flex": null,
       "flex_flow": null,
       "grid_area": null,
       "grid_auto_columns": null,
       "grid_auto_flow": null,
       "grid_auto_rows": null,
       "grid_column": null,
       "grid_gap": null,
       "grid_row": null,
       "grid_template_areas": null,
       "grid_template_columns": null,
       "grid_template_rows": null,
       "height": null,
       "justify_content": null,
       "justify_items": null,
       "left": null,
       "margin": null,
       "max_height": null,
       "max_width": null,
       "min_height": null,
       "min_width": null,
       "object_fit": null,
       "object_position": null,
       "order": null,
       "overflow": null,
       "overflow_x": null,
       "overflow_y": null,
       "padding": null,
       "right": null,
       "top": null,
       "visibility": null,
       "width": null
      }
     },
     "1f2c7f4f21ae4fd4a08eaa4f261eb3a1": {
      "model_module": "@jupyter-widgets/controls",
      "model_module_version": "1.5.0",
      "model_name": "VBoxModel",
      "state": {
       "_dom_classes": [
        "widget-interact"
       ],
       "_model_module": "@jupyter-widgets/controls",
       "_model_module_version": "1.5.0",
       "_model_name": "VBoxModel",
       "_view_count": null,
       "_view_module": "@jupyter-widgets/controls",
       "_view_module_version": "1.5.0",
       "_view_name": "VBoxView",
       "box_style": "",
       "children": [
        "IPY_MODEL_02a21818e80c4e79acb06d827d8f58a6",
        "IPY_MODEL_abed11c7b8c042b3a906db7553bf9b53"
       ],
       "layout": "IPY_MODEL_5c0b5c69c5d0401baad12dc4a6bc0fd6"
      }
     },
     "22b0cd4adc1849aab065ea0dab47d207": {
      "model_module": "@jupyter-widgets/base",
      "model_module_version": "1.2.0",
      "model_name": "LayoutModel",
      "state": {
       "_model_module": "@jupyter-widgets/base",
       "_model_module_version": "1.2.0",
       "_model_name": "LayoutModel",
       "_view_count": null,
       "_view_module": "@jupyter-widgets/base",
       "_view_module_version": "1.2.0",
       "_view_name": "LayoutView",
       "align_content": null,
       "align_items": null,
       "align_self": null,
       "border": null,
       "bottom": null,
       "display": null,
       "flex": null,
       "flex_flow": null,
       "grid_area": null,
       "grid_auto_columns": null,
       "grid_auto_flow": null,
       "grid_auto_rows": null,
       "grid_column": null,
       "grid_gap": null,
       "grid_row": null,
       "grid_template_areas": null,
       "grid_template_columns": null,
       "grid_template_rows": null,
       "height": null,
       "justify_content": null,
       "justify_items": null,
       "left": null,
       "margin": null,
       "max_height": null,
       "max_width": null,
       "min_height": null,
       "min_width": null,
       "object_fit": null,
       "object_position": null,
       "order": null,
       "overflow": null,
       "overflow_x": null,
       "overflow_y": null,
       "padding": null,
       "right": null,
       "top": null,
       "visibility": null,
       "width": null
      }
     },
     "235029a79a3b4274af4bfe78e8a26fa4": {
      "model_module": "@jupyter-widgets/controls",
      "model_module_version": "1.5.0",
      "model_name": "SliderStyleModel",
      "state": {
       "_model_module": "@jupyter-widgets/controls",
       "_model_module_version": "1.5.0",
       "_model_name": "SliderStyleModel",
       "_view_count": null,
       "_view_module": "@jupyter-widgets/base",
       "_view_module_version": "1.2.0",
       "_view_name": "StyleView",
       "description_width": "",
       "handle_color": null
      }
     },
     "298637513f134369b69db87b223c90ea": {
      "model_module": "@jupyter-widgets/base",
      "model_module_version": "1.2.0",
      "model_name": "LayoutModel",
      "state": {
       "_model_module": "@jupyter-widgets/base",
       "_model_module_version": "1.2.0",
       "_model_name": "LayoutModel",
       "_view_count": null,
       "_view_module": "@jupyter-widgets/base",
       "_view_module_version": "1.2.0",
       "_view_name": "LayoutView",
       "align_content": null,
       "align_items": null,
       "align_self": null,
       "border": null,
       "bottom": null,
       "display": null,
       "flex": null,
       "flex_flow": null,
       "grid_area": null,
       "grid_auto_columns": null,
       "grid_auto_flow": null,
       "grid_auto_rows": null,
       "grid_column": null,
       "grid_gap": null,
       "grid_row": null,
       "grid_template_areas": null,
       "grid_template_columns": null,
       "grid_template_rows": null,
       "height": null,
       "justify_content": null,
       "justify_items": null,
       "left": null,
       "margin": null,
       "max_height": null,
       "max_width": null,
       "min_height": null,
       "min_width": null,
       "object_fit": null,
       "object_position": null,
       "order": null,
       "overflow": null,
       "overflow_x": null,
       "overflow_y": null,
       "padding": null,
       "right": null,
       "top": null,
       "visibility": null,
       "width": null
      }
     },
     "34b46cdbcf5440369c51feed690d5539": {
      "model_module": "@jupyter-widgets/controls",
      "model_module_version": "1.5.0",
      "model_name": "IntSliderModel",
      "state": {
       "_dom_classes": [],
       "_model_module": "@jupyter-widgets/controls",
       "_model_module_version": "1.5.0",
       "_model_name": "IntSliderModel",
       "_view_count": null,
       "_view_module": "@jupyter-widgets/controls",
       "_view_module_version": "1.5.0",
       "_view_name": "IntSliderView",
       "continuous_update": true,
       "description": "r",
       "description_tooltip": null,
       "disabled": false,
       "layout": "IPY_MODEL_7c9d4772f9ee47bf954d0765920d5a03",
       "max": 10,
       "min": 0,
       "orientation": "horizontal",
       "readout": true,
       "readout_format": "d",
       "step": 1,
       "style": "IPY_MODEL_1acc5ba3cfea4f7193fc0ef90535af62",
       "value": 10
      }
     },
     "36f5403ebb14412280e86dd38b8bafa7": {
      "model_module": "@jupyter-widgets/base",
      "model_module_version": "1.2.0",
      "model_name": "LayoutModel",
      "state": {
       "_model_module": "@jupyter-widgets/base",
       "_model_module_version": "1.2.0",
       "_model_name": "LayoutModel",
       "_view_count": null,
       "_view_module": "@jupyter-widgets/base",
       "_view_module_version": "1.2.0",
       "_view_name": "LayoutView",
       "align_content": null,
       "align_items": null,
       "align_self": null,
       "border": null,
       "bottom": null,
       "display": null,
       "flex": null,
       "flex_flow": null,
       "grid_area": null,
       "grid_auto_columns": null,
       "grid_auto_flow": null,
       "grid_auto_rows": null,
       "grid_column": null,
       "grid_gap": null,
       "grid_row": null,
       "grid_template_areas": null,
       "grid_template_columns": null,
       "grid_template_rows": null,
       "height": null,
       "justify_content": null,
       "justify_items": null,
       "left": null,
       "margin": null,
       "max_height": null,
       "max_width": null,
       "min_height": null,
       "min_width": null,
       "object_fit": null,
       "object_position": null,
       "order": null,
       "overflow": null,
       "overflow_x": null,
       "overflow_y": null,
       "padding": null,
       "right": null,
       "top": null,
       "visibility": null,
       "width": null
      }
     },
     "4c856daa21c545b38ea9de81d3a28bc6": {
      "model_module": "@jupyter-widgets/controls",
      "model_module_version": "1.5.0",
      "model_name": "VBoxModel",
      "state": {
       "_dom_classes": [
        "widget-interact"
       ],
       "_model_module": "@jupyter-widgets/controls",
       "_model_module_version": "1.5.0",
       "_model_name": "VBoxModel",
       "_view_count": null,
       "_view_module": "@jupyter-widgets/controls",
       "_view_module_version": "1.5.0",
       "_view_name": "VBoxView",
       "box_style": "",
       "children": [
        "IPY_MODEL_34b46cdbcf5440369c51feed690d5539",
        "IPY_MODEL_6d1996256eff48a0a777a869232182c2"
       ],
       "layout": "IPY_MODEL_54961014122349edb8580c60db9e5f46"
      }
     },
     "515ae0ff72ed41bfb5e3a8284141a697": {
      "model_module": "@jupyter-widgets/base",
      "model_module_version": "1.2.0",
      "model_name": "LayoutModel",
      "state": {
       "_model_module": "@jupyter-widgets/base",
       "_model_module_version": "1.2.0",
       "_model_name": "LayoutModel",
       "_view_count": null,
       "_view_module": "@jupyter-widgets/base",
       "_view_module_version": "1.2.0",
       "_view_name": "LayoutView",
       "align_content": null,
       "align_items": null,
       "align_self": null,
       "border": null,
       "bottom": null,
       "display": null,
       "flex": null,
       "flex_flow": null,
       "grid_area": null,
       "grid_auto_columns": null,
       "grid_auto_flow": null,
       "grid_auto_rows": null,
       "grid_column": null,
       "grid_gap": null,
       "grid_row": null,
       "grid_template_areas": null,
       "grid_template_columns": null,
       "grid_template_rows": null,
       "height": null,
       "justify_content": null,
       "justify_items": null,
       "left": null,
       "margin": null,
       "max_height": null,
       "max_width": null,
       "min_height": null,
       "min_width": null,
       "object_fit": null,
       "object_position": null,
       "order": null,
       "overflow": null,
       "overflow_x": null,
       "overflow_y": null,
       "padding": null,
       "right": null,
       "top": null,
       "visibility": null,
       "width": null
      }
     },
     "53501f1a27024fabafb292f21c2fce6c": {
      "model_module": "@jupyter-widgets/base",
      "model_module_version": "1.2.0",
      "model_name": "LayoutModel",
      "state": {
       "_model_module": "@jupyter-widgets/base",
       "_model_module_version": "1.2.0",
       "_model_name": "LayoutModel",
       "_view_count": null,
       "_view_module": "@jupyter-widgets/base",
       "_view_module_version": "1.2.0",
       "_view_name": "LayoutView",
       "align_content": null,
       "align_items": null,
       "align_self": null,
       "border": null,
       "bottom": null,
       "display": null,
       "flex": null,
       "flex_flow": null,
       "grid_area": null,
       "grid_auto_columns": null,
       "grid_auto_flow": null,
       "grid_auto_rows": null,
       "grid_column": null,
       "grid_gap": null,
       "grid_row": null,
       "grid_template_areas": null,
       "grid_template_columns": null,
       "grid_template_rows": null,
       "height": null,
       "justify_content": null,
       "justify_items": null,
       "left": null,
       "margin": null,
       "max_height": null,
       "max_width": null,
       "min_height": null,
       "min_width": null,
       "object_fit": null,
       "object_position": null,
       "order": null,
       "overflow": null,
       "overflow_x": null,
       "overflow_y": null,
       "padding": null,
       "right": null,
       "top": null,
       "visibility": null,
       "width": null
      }
     },
     "54961014122349edb8580c60db9e5f46": {
      "model_module": "@jupyter-widgets/base",
      "model_module_version": "1.2.0",
      "model_name": "LayoutModel",
      "state": {
       "_model_module": "@jupyter-widgets/base",
       "_model_module_version": "1.2.0",
       "_model_name": "LayoutModel",
       "_view_count": null,
       "_view_module": "@jupyter-widgets/base",
       "_view_module_version": "1.2.0",
       "_view_name": "LayoutView",
       "align_content": null,
       "align_items": null,
       "align_self": null,
       "border": null,
       "bottom": null,
       "display": null,
       "flex": null,
       "flex_flow": null,
       "grid_area": null,
       "grid_auto_columns": null,
       "grid_auto_flow": null,
       "grid_auto_rows": null,
       "grid_column": null,
       "grid_gap": null,
       "grid_row": null,
       "grid_template_areas": null,
       "grid_template_columns": null,
       "grid_template_rows": null,
       "height": null,
       "justify_content": null,
       "justify_items": null,
       "left": null,
       "margin": null,
       "max_height": null,
       "max_width": null,
       "min_height": null,
       "min_width": null,
       "object_fit": null,
       "object_position": null,
       "order": null,
       "overflow": null,
       "overflow_x": null,
       "overflow_y": null,
       "padding": null,
       "right": null,
       "top": null,
       "visibility": null,
       "width": null
      }
     },
     "54d047b14fb14979b0b4b173205b94b9": {
      "model_module": "@jupyter-widgets/controls",
      "model_module_version": "1.5.0",
      "model_name": "SliderStyleModel",
      "state": {
       "_model_module": "@jupyter-widgets/controls",
       "_model_module_version": "1.5.0",
       "_model_name": "SliderStyleModel",
       "_view_count": null,
       "_view_module": "@jupyter-widgets/base",
       "_view_module_version": "1.2.0",
       "_view_name": "StyleView",
       "description_width": "",
       "handle_color": null
      }
     },
     "5c0b5c69c5d0401baad12dc4a6bc0fd6": {
      "model_module": "@jupyter-widgets/base",
      "model_module_version": "1.2.0",
      "model_name": "LayoutModel",
      "state": {
       "_model_module": "@jupyter-widgets/base",
       "_model_module_version": "1.2.0",
       "_model_name": "LayoutModel",
       "_view_count": null,
       "_view_module": "@jupyter-widgets/base",
       "_view_module_version": "1.2.0",
       "_view_name": "LayoutView",
       "align_content": null,
       "align_items": null,
       "align_self": null,
       "border": null,
       "bottom": null,
       "display": null,
       "flex": null,
       "flex_flow": null,
       "grid_area": null,
       "grid_auto_columns": null,
       "grid_auto_flow": null,
       "grid_auto_rows": null,
       "grid_column": null,
       "grid_gap": null,
       "grid_row": null,
       "grid_template_areas": null,
       "grid_template_columns": null,
       "grid_template_rows": null,
       "height": null,
       "justify_content": null,
       "justify_items": null,
       "left": null,
       "margin": null,
       "max_height": null,
       "max_width": null,
       "min_height": null,
       "min_width": null,
       "object_fit": null,
       "object_position": null,
       "order": null,
       "overflow": null,
       "overflow_x": null,
       "overflow_y": null,
       "padding": null,
       "right": null,
       "top": null,
       "visibility": null,
       "width": null
      }
     },
     "602f40c70dc542cb954083db9b809d9f": {
      "model_module": "@jupyter-widgets/base",
      "model_module_version": "1.2.0",
      "model_name": "LayoutModel",
      "state": {
       "_model_module": "@jupyter-widgets/base",
       "_model_module_version": "1.2.0",
       "_model_name": "LayoutModel",
       "_view_count": null,
       "_view_module": "@jupyter-widgets/base",
       "_view_module_version": "1.2.0",
       "_view_name": "LayoutView",
       "align_content": null,
       "align_items": null,
       "align_self": null,
       "border": null,
       "bottom": null,
       "display": null,
       "flex": null,
       "flex_flow": null,
       "grid_area": null,
       "grid_auto_columns": null,
       "grid_auto_flow": null,
       "grid_auto_rows": null,
       "grid_column": null,
       "grid_gap": null,
       "grid_row": null,
       "grid_template_areas": null,
       "grid_template_columns": null,
       "grid_template_rows": null,
       "height": null,
       "justify_content": null,
       "justify_items": null,
       "left": null,
       "margin": null,
       "max_height": null,
       "max_width": null,
       "min_height": null,
       "min_width": null,
       "object_fit": null,
       "object_position": null,
       "order": null,
       "overflow": null,
       "overflow_x": null,
       "overflow_y": null,
       "padding": null,
       "right": null,
       "top": null,
       "visibility": null,
       "width": null
      }
     },
     "6d1996256eff48a0a777a869232182c2": {
      "model_module": "@jupyter-widgets/output",
      "model_module_version": "1.0.0",
      "model_name": "OutputModel",
      "state": {
       "_dom_classes": [],
       "_model_module": "@jupyter-widgets/output",
       "_model_module_version": "1.0.0",
       "_model_name": "OutputModel",
       "_view_count": null,
       "_view_module": "@jupyter-widgets/output",
       "_view_module_version": "1.0.0",
       "_view_name": "OutputView",
       "layout": "IPY_MODEL_602f40c70dc542cb954083db9b809d9f",
       "msg_id": "",
       "outputs": [
        {
         "data": {
          "image/png": "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\n",
          "text/plain": "<Figure size 432x288 with 1 Axes>"
         },
         "metadata": {
          "needs_background": "light"
         },
         "output_type": "display_data"
        }
       ]
      }
     },
     "70326cc0a82944149f5463ab03277b20": {
      "model_module": "@jupyter-widgets/controls",
      "model_module_version": "1.5.0",
      "model_name": "VBoxModel",
      "state": {
       "_dom_classes": [
        "widget-interact"
       ],
       "_model_module": "@jupyter-widgets/controls",
       "_model_module_version": "1.5.0",
       "_model_name": "VBoxModel",
       "_view_count": null,
       "_view_module": "@jupyter-widgets/controls",
       "_view_module_version": "1.5.0",
       "_view_name": "VBoxView",
       "box_style": "",
       "children": [
        "IPY_MODEL_f2ee68b833ca48838650fad16d2a077a",
        "IPY_MODEL_065ce113efb146a88b319c45d7574e2b"
       ],
       "layout": "IPY_MODEL_ec2e2a69aaea45d682d6366d8a316f7e"
      }
     },
     "7bbdb4e7964544869ea6e13d22d8bd50": {
      "model_module": "@jupyter-widgets/base",
      "model_module_version": "1.2.0",
      "model_name": "LayoutModel",
      "state": {
       "_model_module": "@jupyter-widgets/base",
       "_model_module_version": "1.2.0",
       "_model_name": "LayoutModel",
       "_view_count": null,
       "_view_module": "@jupyter-widgets/base",
       "_view_module_version": "1.2.0",
       "_view_name": "LayoutView",
       "align_content": null,
       "align_items": null,
       "align_self": null,
       "border": null,
       "bottom": null,
       "display": null,
       "flex": null,
       "flex_flow": null,
       "grid_area": null,
       "grid_auto_columns": null,
       "grid_auto_flow": null,
       "grid_auto_rows": null,
       "grid_column": null,
       "grid_gap": null,
       "grid_row": null,
       "grid_template_areas": null,
       "grid_template_columns": null,
       "grid_template_rows": null,
       "height": null,
       "justify_content": null,
       "justify_items": null,
       "left": null,
       "margin": null,
       "max_height": null,
       "max_width": null,
       "min_height": null,
       "min_width": null,
       "object_fit": null,
       "object_position": null,
       "order": null,
       "overflow": null,
       "overflow_x": null,
       "overflow_y": null,
       "padding": null,
       "right": null,
       "top": null,
       "visibility": null,
       "width": null
      }
     },
     "7c9d4772f9ee47bf954d0765920d5a03": {
      "model_module": "@jupyter-widgets/base",
      "model_module_version": "1.2.0",
      "model_name": "LayoutModel",
      "state": {
       "_model_module": "@jupyter-widgets/base",
       "_model_module_version": "1.2.0",
       "_model_name": "LayoutModel",
       "_view_count": null,
       "_view_module": "@jupyter-widgets/base",
       "_view_module_version": "1.2.0",
       "_view_name": "LayoutView",
       "align_content": null,
       "align_items": null,
       "align_self": null,
       "border": null,
       "bottom": null,
       "display": null,
       "flex": null,
       "flex_flow": null,
       "grid_area": null,
       "grid_auto_columns": null,
       "grid_auto_flow": null,
       "grid_auto_rows": null,
       "grid_column": null,
       "grid_gap": null,
       "grid_row": null,
       "grid_template_areas": null,
       "grid_template_columns": null,
       "grid_template_rows": null,
       "height": null,
       "justify_content": null,
       "justify_items": null,
       "left": null,
       "margin": null,
       "max_height": null,
       "max_width": null,
       "min_height": null,
       "min_width": null,
       "object_fit": null,
       "object_position": null,
       "order": null,
       "overflow": null,
       "overflow_x": null,
       "overflow_y": null,
       "padding": null,
       "right": null,
       "top": null,
       "visibility": null,
       "width": null
      }
     },
     "86ccf75038d5472296de78c84677fb39": {
      "model_module": "@jupyter-widgets/output",
      "model_module_version": "1.0.0",
      "model_name": "OutputModel",
      "state": {
       "_dom_classes": [],
       "_model_module": "@jupyter-widgets/output",
       "_model_module_version": "1.0.0",
       "_model_name": "OutputModel",
       "_view_count": null,
       "_view_module": "@jupyter-widgets/output",
       "_view_module_version": "1.0.0",
       "_view_name": "OutputView",
       "layout": "IPY_MODEL_ddccef34d58549deb8e0f2afc51732bf",
       "msg_id": "",
       "outputs": [
        {
         "name": "stdout",
         "output_type": "stream",
         "text": "Integral: 1.0\n"
        },
        {
         "data": {
          "image/png": "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\n",
          "text/plain": "<Figure size 432x288 with 1 Axes>"
         },
         "metadata": {
          "needs_background": "light"
         },
         "output_type": "display_data"
        }
       ]
      }
     },
     "92787d183d13434db0fdb0867e3d47f3": {
      "model_module": "@jupyter-widgets/controls",
      "model_module_version": "1.5.0",
      "model_name": "IntSliderModel",
      "state": {
       "_dom_classes": [],
       "_model_module": "@jupyter-widgets/controls",
       "_model_module_version": "1.5.0",
       "_model_name": "IntSliderModel",
       "_view_count": null,
       "_view_module": "@jupyter-widgets/controls",
       "_view_module_version": "1.5.0",
       "_view_name": "IntSliderView",
       "continuous_update": true,
       "description": "terms",
       "description_tooltip": null,
       "disabled": false,
       "layout": "IPY_MODEL_afc842f7e9f74e8ab01f174dc86f0759",
       "max": 100,
       "min": 1,
       "orientation": "horizontal",
       "readout": true,
       "readout_format": "d",
       "step": 1,
       "style": "IPY_MODEL_17911d5f31384deb9a2b117c5413a837",
       "value": 100
      }
     },
     "a851eaa6f15b414c8aecdcf3bfd3b089": {
      "model_module": "@jupyter-widgets/controls",
      "model_module_version": "1.5.0",
      "model_name": "SliderStyleModel",
      "state": {
       "_model_module": "@jupyter-widgets/controls",
       "_model_module_version": "1.5.0",
       "_model_name": "SliderStyleModel",
       "_view_count": null,
       "_view_module": "@jupyter-widgets/base",
       "_view_module_version": "1.2.0",
       "_view_name": "StyleView",
       "description_width": "",
       "handle_color": null
      }
     },
     "a8a984f217e141979a5d2af0d714348f": {
      "model_module": "@jupyter-widgets/controls",
      "model_module_version": "1.5.0",
      "model_name": "IntSliderModel",
      "state": {
       "_dom_classes": [],
       "_model_module": "@jupyter-widgets/controls",
       "_model_module_version": "1.5.0",
       "_model_name": "IntSliderModel",
       "_view_count": null,
       "_view_module": "@jupyter-widgets/controls",
       "_view_module_version": "1.5.0",
       "_view_name": "IntSliderView",
       "continuous_update": true,
       "description": "i",
       "description_tooltip": null,
       "disabled": false,
       "layout": "IPY_MODEL_d783d26cf7184cc186e93b7b5e8fc6d5",
       "max": 4,
       "min": 1,
       "orientation": "horizontal",
       "readout": true,
       "readout_format": "d",
       "step": 1,
       "style": "IPY_MODEL_ce63926e735b468384f25bbce286ddb2",
       "value": 4
      }
     },
     "abed11c7b8c042b3a906db7553bf9b53": {
      "model_module": "@jupyter-widgets/output",
      "model_module_version": "1.0.0",
      "model_name": "OutputModel",
      "state": {
       "_dom_classes": [],
       "_model_module": "@jupyter-widgets/output",
       "_model_module_version": "1.0.0",
       "_model_name": "OutputModel",
       "_view_count": null,
       "_view_module": "@jupyter-widgets/output",
       "_view_module_version": "1.0.0",
       "_view_name": "OutputView",
       "layout": "IPY_MODEL_36f5403ebb14412280e86dd38b8bafa7",
       "msg_id": "",
       "outputs": [
        {
         "data": {
          "image/png": "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\n",
          "text/plain": "<Figure size 432x288 with 1 Axes>"
         },
         "metadata": {
          "needs_background": "light"
         },
         "output_type": "display_data"
        }
       ]
      }
     },
     "afc842f7e9f74e8ab01f174dc86f0759": {
      "model_module": "@jupyter-widgets/base",
      "model_module_version": "1.2.0",
      "model_name": "LayoutModel",
      "state": {
       "_model_module": "@jupyter-widgets/base",
       "_model_module_version": "1.2.0",
       "_model_name": "LayoutModel",
       "_view_count": null,
       "_view_module": "@jupyter-widgets/base",
       "_view_module_version": "1.2.0",
       "_view_name": "LayoutView",
       "align_content": null,
       "align_items": null,
       "align_self": null,
       "border": null,
       "bottom": null,
       "display": null,
       "flex": null,
       "flex_flow": null,
       "grid_area": null,
       "grid_auto_columns": null,
       "grid_auto_flow": null,
       "grid_auto_rows": null,
       "grid_column": null,
       "grid_gap": null,
       "grid_row": null,
       "grid_template_areas": null,
       "grid_template_columns": null,
       "grid_template_rows": null,
       "height": null,
       "justify_content": null,
       "justify_items": null,
       "left": null,
       "margin": null,
       "max_height": null,
       "max_width": null,
       "min_height": null,
       "min_width": null,
       "object_fit": null,
       "object_position": null,
       "order": null,
       "overflow": null,
       "overflow_x": null,
       "overflow_y": null,
       "padding": null,
       "right": null,
       "top": null,
       "visibility": null,
       "width": null
      }
     },
     "bd2d3bbdcc1947288ac86cc5a57033e7": {
      "model_module": "@jupyter-widgets/base",
      "model_module_version": "1.2.0",
      "model_name": "LayoutModel",
      "state": {
       "_model_module": "@jupyter-widgets/base",
       "_model_module_version": "1.2.0",
       "_model_name": "LayoutModel",
       "_view_count": null,
       "_view_module": "@jupyter-widgets/base",
       "_view_module_version": "1.2.0",
       "_view_name": "LayoutView",
       "align_content": null,
       "align_items": null,
       "align_self": null,
       "border": null,
       "bottom": null,
       "display": null,
       "flex": null,
       "flex_flow": null,
       "grid_area": null,
       "grid_auto_columns": null,
       "grid_auto_flow": null,
       "grid_auto_rows": null,
       "grid_column": null,
       "grid_gap": null,
       "grid_row": null,
       "grid_template_areas": null,
       "grid_template_columns": null,
       "grid_template_rows": null,
       "height": null,
       "justify_content": null,
       "justify_items": null,
       "left": null,
       "margin": null,
       "max_height": null,
       "max_width": null,
       "min_height": null,
       "min_width": null,
       "object_fit": null,
       "object_position": null,
       "order": null,
       "overflow": null,
       "overflow_x": null,
       "overflow_y": null,
       "padding": null,
       "right": null,
       "top": null,
       "visibility": null,
       "width": null
      }
     },
     "c2f734496bb443128974914b85f95aec": {
      "model_module": "@jupyter-widgets/controls",
      "model_module_version": "1.5.0",
      "model_name": "VBoxModel",
      "state": {
       "_dom_classes": [
        "widget-interact"
       ],
       "_model_module": "@jupyter-widgets/controls",
       "_model_module_version": "1.5.0",
       "_model_name": "VBoxModel",
       "_view_count": null,
       "_view_module": "@jupyter-widgets/controls",
       "_view_module_version": "1.5.0",
       "_view_name": "VBoxView",
       "box_style": "",
       "children": [
        "IPY_MODEL_92787d183d13434db0fdb0867e3d47f3",
        "IPY_MODEL_cd114f25b5474cabad3fef25e2a7eb1d"
       ],
       "layout": "IPY_MODEL_e164fdccc6c242a79a6b02d9f6ce1328"
      }
     },
     "c75de52b8f904f048cd0fe260907f55e": {
      "model_module": "@jupyter-widgets/controls",
      "model_module_version": "1.5.0",
      "model_name": "VBoxModel",
      "state": {
       "_dom_classes": [
        "widget-interact"
       ],
       "_model_module": "@jupyter-widgets/controls",
       "_model_module_version": "1.5.0",
       "_model_name": "VBoxModel",
       "_view_count": null,
       "_view_module": "@jupyter-widgets/controls",
       "_view_module_version": "1.5.0",
       "_view_name": "VBoxView",
       "box_style": "",
       "children": [
        "IPY_MODEL_a8a984f217e141979a5d2af0d714348f",
        "IPY_MODEL_efb101a40b5f4d6daf58737563d0ac6f"
       ],
       "layout": "IPY_MODEL_53501f1a27024fabafb292f21c2fce6c"
      }
     },
     "cd114f25b5474cabad3fef25e2a7eb1d": {
      "model_module": "@jupyter-widgets/output",
      "model_module_version": "1.0.0",
      "model_name": "OutputModel",
      "state": {
       "_dom_classes": [],
       "_model_module": "@jupyter-widgets/output",
       "_model_module_version": "1.0.0",
       "_model_name": "OutputModel",
       "_view_count": null,
       "_view_module": "@jupyter-widgets/output",
       "_view_module_version": "1.0.0",
       "_view_name": "OutputView",
       "layout": "IPY_MODEL_bd2d3bbdcc1947288ac86cc5a57033e7",
       "msg_id": "",
       "outputs": [
        {
         "data": {
          "image/png": "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\n",
          "text/plain": "<Figure size 432x288 with 1 Axes>"
         },
         "metadata": {
          "needs_background": "light"
         },
         "output_type": "display_data"
        }
       ]
      }
     },
     "ce63926e735b468384f25bbce286ddb2": {
      "model_module": "@jupyter-widgets/controls",
      "model_module_version": "1.5.0",
      "model_name": "SliderStyleModel",
      "state": {
       "_model_module": "@jupyter-widgets/controls",
       "_model_module_version": "1.5.0",
       "_model_name": "SliderStyleModel",
       "_view_count": null,
       "_view_module": "@jupyter-widgets/base",
       "_view_module_version": "1.2.0",
       "_view_name": "StyleView",
       "description_width": "",
       "handle_color": null
      }
     },
     "d04a12a81b0c468faddfcbc869c0a1df": {
      "model_module": "@jupyter-widgets/controls",
      "model_module_version": "1.5.0",
      "model_name": "FloatSliderModel",
      "state": {
       "_dom_classes": [],
       "_model_module": "@jupyter-widgets/controls",
       "_model_module_version": "1.5.0",
       "_model_name": "FloatSliderModel",
       "_view_count": null,
       "_view_module": "@jupyter-widgets/controls",
       "_view_module_version": "1.5.0",
       "_view_name": "FloatSliderView",
       "continuous_update": true,
       "description": "eps",
       "description_tooltip": null,
       "disabled": false,
       "layout": "IPY_MODEL_1bc262ceb9374bf1b15f07837f780fbe",
       "max": 2.0,
       "min": 0.01,
       "orientation": "horizontal",
       "readout": true,
       "readout_format": ".2f",
       "step": 0.1,
       "style": "IPY_MODEL_54d047b14fb14979b0b4b173205b94b9",
       "value": 0.01
      }
     },
     "d27ac3e3bc9a4d53bb9b3750b611eb41": {
      "model_module": "@jupyter-widgets/base",
      "model_module_version": "1.2.0",
      "model_name": "LayoutModel",
      "state": {
       "_model_module": "@jupyter-widgets/base",
       "_model_module_version": "1.2.0",
       "_model_name": "LayoutModel",
       "_view_count": null,
       "_view_module": "@jupyter-widgets/base",
       "_view_module_version": "1.2.0",
       "_view_name": "LayoutView",
       "align_content": null,
       "align_items": null,
       "align_self": null,
       "border": null,
       "bottom": null,
       "display": null,
       "flex": null,
       "flex_flow": null,
       "grid_area": null,
       "grid_auto_columns": null,
       "grid_auto_flow": null,
       "grid_auto_rows": null,
       "grid_column": null,
       "grid_gap": null,
       "grid_row": null,
       "grid_template_areas": null,
       "grid_template_columns": null,
       "grid_template_rows": null,
       "height": null,
       "justify_content": null,
       "justify_items": null,
       "left": null,
       "margin": null,
       "max_height": null,
       "max_width": null,
       "min_height": null,
       "min_width": null,
       "object_fit": null,
       "object_position": null,
       "order": null,
       "overflow": null,
       "overflow_x": null,
       "overflow_y": null,
       "padding": null,
       "right": null,
       "top": null,
       "visibility": null,
       "width": null
      }
     },
     "d783d26cf7184cc186e93b7b5e8fc6d5": {
      "model_module": "@jupyter-widgets/base",
      "model_module_version": "1.2.0",
      "model_name": "LayoutModel",
      "state": {
       "_model_module": "@jupyter-widgets/base",
       "_model_module_version": "1.2.0",
       "_model_name": "LayoutModel",
       "_view_count": null,
       "_view_module": "@jupyter-widgets/base",
       "_view_module_version": "1.2.0",
       "_view_name": "LayoutView",
       "align_content": null,
       "align_items": null,
       "align_self": null,
       "border": null,
       "bottom": null,
       "display": null,
       "flex": null,
       "flex_flow": null,
       "grid_area": null,
       "grid_auto_columns": null,
       "grid_auto_flow": null,
       "grid_auto_rows": null,
       "grid_column": null,
       "grid_gap": null,
       "grid_row": null,
       "grid_template_areas": null,
       "grid_template_columns": null,
       "grid_template_rows": null,
       "height": null,
       "justify_content": null,
       "justify_items": null,
       "left": null,
       "margin": null,
       "max_height": null,
       "max_width": null,
       "min_height": null,
       "min_width": null,
       "object_fit": null,
       "object_position": null,
       "order": null,
       "overflow": null,
       "overflow_x": null,
       "overflow_y": null,
       "padding": null,
       "right": null,
       "top": null,
       "visibility": null,
       "width": null
      }
     },
     "ddccef34d58549deb8e0f2afc51732bf": {
      "model_module": "@jupyter-widgets/base",
      "model_module_version": "1.2.0",
      "model_name": "LayoutModel",
      "state": {
       "_model_module": "@jupyter-widgets/base",
       "_model_module_version": "1.2.0",
       "_model_name": "LayoutModel",
       "_view_count": null,
       "_view_module": "@jupyter-widgets/base",
       "_view_module_version": "1.2.0",
       "_view_name": "LayoutView",
       "align_content": null,
       "align_items": null,
       "align_self": null,
       "border": null,
       "bottom": null,
       "display": null,
       "flex": null,
       "flex_flow": null,
       "grid_area": null,
       "grid_auto_columns": null,
       "grid_auto_flow": null,
       "grid_auto_rows": null,
       "grid_column": null,
       "grid_gap": null,
       "grid_row": null,
       "grid_template_areas": null,
       "grid_template_columns": null,
       "grid_template_rows": null,
       "height": null,
       "justify_content": null,
       "justify_items": null,
       "left": null,
       "margin": null,
       "max_height": null,
       "max_width": null,
       "min_height": null,
       "min_width": null,
       "object_fit": null,
       "object_position": null,
       "order": null,
       "overflow": null,
       "overflow_x": null,
       "overflow_y": null,
       "padding": null,
       "right": null,
       "top": null,
       "visibility": null,
       "width": null
      }
     },
     "e164fdccc6c242a79a6b02d9f6ce1328": {
      "model_module": "@jupyter-widgets/base",
      "model_module_version": "1.2.0",
      "model_name": "LayoutModel",
      "state": {
       "_model_module": "@jupyter-widgets/base",
       "_model_module_version": "1.2.0",
       "_model_name": "LayoutModel",
       "_view_count": null,
       "_view_module": "@jupyter-widgets/base",
       "_view_module_version": "1.2.0",
       "_view_name": "LayoutView",
       "align_content": null,
       "align_items": null,
       "align_self": null,
       "border": null,
       "bottom": null,
       "display": null,
       "flex": null,
       "flex_flow": null,
       "grid_area": null,
       "grid_auto_columns": null,
       "grid_auto_flow": null,
       "grid_auto_rows": null,
       "grid_column": null,
       "grid_gap": null,
       "grid_row": null,
       "grid_template_areas": null,
       "grid_template_columns": null,
       "grid_template_rows": null,
       "height": null,
       "justify_content": null,
       "justify_items": null,
       "left": null,
       "margin": null,
       "max_height": null,
       "max_width": null,
       "min_height": null,
       "min_width": null,
       "object_fit": null,
       "object_position": null,
       "order": null,
       "overflow": null,
       "overflow_x": null,
       "overflow_y": null,
       "padding": null,
       "right": null,
       "top": null,
       "visibility": null,
       "width": null
      }
     },
     "ec2e2a69aaea45d682d6366d8a316f7e": {
      "model_module": "@jupyter-widgets/base",
      "model_module_version": "1.2.0",
      "model_name": "LayoutModel",
      "state": {
       "_model_module": "@jupyter-widgets/base",
       "_model_module_version": "1.2.0",
       "_model_name": "LayoutModel",
       "_view_count": null,
       "_view_module": "@jupyter-widgets/base",
       "_view_module_version": "1.2.0",
       "_view_name": "LayoutView",
       "align_content": null,
       "align_items": null,
       "align_self": null,
       "border": null,
       "bottom": null,
       "display": null,
       "flex": null,
       "flex_flow": null,
       "grid_area": null,
       "grid_auto_columns": null,
       "grid_auto_flow": null,
       "grid_auto_rows": null,
       "grid_column": null,
       "grid_gap": null,
       "grid_row": null,
       "grid_template_areas": null,
       "grid_template_columns": null,
       "grid_template_rows": null,
       "height": null,
       "justify_content": null,
       "justify_items": null,
       "left": null,
       "margin": null,
       "max_height": null,
       "max_width": null,
       "min_height": null,
       "min_width": null,
       "object_fit": null,
       "object_position": null,
       "order": null,
       "overflow": null,
       "overflow_x": null,
       "overflow_y": null,
       "padding": null,
       "right": null,
       "top": null,
       "visibility": null,
       "width": null
      }
     },
     "efb101a40b5f4d6daf58737563d0ac6f": {
      "model_module": "@jupyter-widgets/output",
      "model_module_version": "1.0.0",
      "model_name": "OutputModel",
      "state": {
       "_dom_classes": [],
       "_model_module": "@jupyter-widgets/output",
       "_model_module_version": "1.0.0",
       "_model_name": "OutputModel",
       "_view_count": null,
       "_view_module": "@jupyter-widgets/output",
       "_view_module_version": "1.0.0",
       "_view_name": "OutputView",
       "layout": "IPY_MODEL_d27ac3e3bc9a4d53bb9b3750b611eb41",
       "msg_id": "",
       "outputs": [
        {
         "data": {
          "text/html": "<img src=\"figures/2/imaging_pinhole_lens_4.svg\" style=\"max-height:40vh\"/>",
          "text/plain": "<IPython.core.display.HTML object>"
         },
         "metadata": {},
         "output_type": "display_data"
        }
       ]
      }
     },
     "f2ee68b833ca48838650fad16d2a077a": {
      "model_module": "@jupyter-widgets/controls",
      "model_module_version": "1.5.0",
      "model_name": "IntSliderModel",
      "state": {
       "_dom_classes": [],
       "_model_module": "@jupyter-widgets/controls",
       "_model_module_version": "1.5.0",
       "_model_name": "IntSliderModel",
       "_view_count": null,
       "_view_module": "@jupyter-widgets/controls",
       "_view_module_version": "1.5.0",
       "_view_name": "IntSliderView",
       "continuous_update": true,
       "description": "i",
       "description_tooltip": null,
       "disabled": false,
       "layout": "IPY_MODEL_298637513f134369b69db87b223c90ea",
       "max": 3,
       "min": 1,
       "orientation": "horizontal",
       "readout": true,
       "readout_format": "d",
       "step": 1,
       "style": "IPY_MODEL_235029a79a3b4274af4bfe78e8a26fa4",
       "value": 3
      }
     },
     "f5a8feb9b93449e59872320579f63f0f": {
      "model_module": "@jupyter-widgets/controls",
      "model_module_version": "1.5.0",
      "model_name": "VBoxModel",
      "state": {
       "_dom_classes": [
        "widget-interact"
       ],
       "_model_module": "@jupyter-widgets/controls",
       "_model_module_version": "1.5.0",
       "_model_name": "VBoxModel",
       "_view_count": null,
       "_view_module": "@jupyter-widgets/controls",
       "_view_module_version": "1.5.0",
       "_view_name": "VBoxView",
       "box_style": "",
       "children": [
        "IPY_MODEL_d04a12a81b0c468faddfcbc869c0a1df",
        "IPY_MODEL_86ccf75038d5472296de78c84677fb39"
       ],
       "layout": "IPY_MODEL_515ae0ff72ed41bfb5e3a8284141a697"
      }
     }
    },
    "version_major": 2,
    "version_minor": 0
   }
  }
 },
 "nbformat": 4,
 "nbformat_minor": 5
}