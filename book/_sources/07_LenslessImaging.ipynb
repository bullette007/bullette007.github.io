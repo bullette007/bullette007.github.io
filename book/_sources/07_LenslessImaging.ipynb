{
 "cells": [
  {
   "cell_type": "code",
   "execution_count": 1,
   "id": "ab731a26",
   "metadata": {
    "init_cell": true,
    "tags": [
     "remove-cell"
    ]
   },
   "outputs": [
    {
     "data": {
      "application/javascript": [
       "var cells = Jupyter.notebook.get_cells();\n",
       "           for (var i = 0; i < cells.length; i++) {\n",
       "               var cur_cell = cells[i];\n",
       "               var tags = cur_cell._metadata.tags;\n",
       "               console.log(i);\n",
       "               console.log(tags == undefined);\n",
       "               console.log(tags);\n",
       "               if (tags != undefined) {\n",
       "               for (var j = 0; j < tags.length; j++) {\n",
       "                  if (tags[j]==\"book_only\" | tags[j]==\"remove-cell\") {cur_cell.element.hide();}}\n",
       "               for (var j = 0; j < tags.length; j++) {\n",
       "                   if (tags[j]==\"presentation_only\") {cur_cell.element.show();}}\n",
       "            }}\n"
      ],
      "text/plain": [
       "<IPython.core.display.Javascript object>"
      ]
     },
     "metadata": {},
     "output_type": "display_data"
    }
   ],
   "source": [
    "%%js\n",
    "var cells = Jupyter.notebook.get_cells();\n",
    "           for (var i = 0; i < cells.length; i++) {\n",
    "               var cur_cell = cells[i];\n",
    "               var tags = cur_cell._metadata.tags;\n",
    "               console.log(i);\n",
    "               console.log(tags == undefined);\n",
    "               console.log(tags);\n",
    "               if (tags != undefined) {\n",
    "               for (var j = 0; j < tags.length; j++) {\n",
    "                  if (tags[j]==\"book_only\" | tags[j]==\"remove-cell\") {cur_cell.element.hide();}}\n",
    "               for (var j = 0; j < tags.length; j++) {\n",
    "                   if (tags[j]==\"presentation_only\") {cur_cell.element.show();}}\n",
    "            }}"
   ]
  },
  {
   "cell_type": "code",
   "execution_count": 2,
   "id": "dfa92619",
   "metadata": {
    "init_cell": true,
    "slideshow": {
     "slide_type": "notes"
    },
    "tags": [
     "remove-cell"
    ]
   },
   "outputs": [
    {
     "name": "stderr",
     "output_type": "stream",
     "text": [
      "C:\\Users\\meyjoh\\repos\\vlcompimg\\compimg\\lib\\site-packages\\scipy\\__init__.py:138: UserWarning: A NumPy version >=1.16.5 and <1.23.0 is required for this version of SciPy (detected version 1.23.4)\n",
      "  warnings.warn(f\"A NumPy version >={np_minversion} and <{np_maxversion} is required for this version of \"\n"
     ]
    }
   ],
   "source": [
    "from __future__ import print_function\n",
    "from ipywidgets import interact, interactive, fixed, interact_manual\n",
    "import ipywidgets as widgets\n",
    "import numpy as np\n",
    "import matplotlib.pyplot as plt\n",
    "import cv2\n",
    "import scipy.signal as sig\n",
    "from scipy.integrate import simpson\n",
    "from IPython.display import SVG, display, IFrame, HTML\n",
    "import seaborn as sns\n",
    "import torch\n",
    "from scipy import misc\n",
    "%matplotlib notebook\n",
    "book = False"
   ]
  },
  {
   "cell_type": "code",
   "execution_count": 3,
   "id": "ecd48bbf",
   "metadata": {
    "tags": [
     "remove-cell"
    ]
   },
   "outputs": [],
   "source": [
    "%matplotlib inline\n",
    "book = True"
   ]
  },
  {
   "cell_type": "code",
   "execution_count": 4,
   "id": "d6518b89",
   "metadata": {
    "init_cell": true,
    "tags": [
     "remove-cell"
    ]
   },
   "outputs": [
    {
     "data": {
      "application/javascript": [
       "MathJax.Hub.Config({\n",
       "    TeX: { equationNumbers: { autoNumber: \"AMS\" } }\n",
       "});\n"
      ],
      "text/plain": [
       "<IPython.core.display.Javascript object>"
      ]
     },
     "metadata": {},
     "output_type": "display_data"
    }
   ],
   "source": [
    "%%javascript\n",
    "MathJax.Hub.Config({\n",
    "    TeX: { equationNumbers: { autoNumber: \"AMS\" } }\n",
    "});"
   ]
  },
  {
   "cell_type": "code",
   "execution_count": 5,
   "id": "8350870d",
   "metadata": {
    "init_cell": true,
    "tags": [
     "remove-cell"
    ]
   },
   "outputs": [
    {
     "data": {
      "application/javascript": [
       "\n",
       "MathJax.Hub.Queue(\n",
       "  [\"resetEquationNumbers\", MathJax.InputJax.TeX],\n",
       "  [\"PreProcess\", MathJax.Hub],\n",
       "  [\"Reprocess\", MathJax.Hub]\n",
       ");\n"
      ],
      "text/plain": [
       "<IPython.core.display.Javascript object>"
      ]
     },
     "metadata": {},
     "output_type": "display_data"
    }
   ],
   "source": [
    "%%javascript\n",
    "\n",
    "MathJax.Hub.Queue(\n",
    "  [\"resetEquationNumbers\", MathJax.InputJax.TeX],\n",
    "  [\"PreProcess\", MathJax.Hub],\n",
    "  [\"Reprocess\", MathJax.Hub]\n",
    ");"
   ]
  },
  {
   "cell_type": "code",
   "execution_count": 6,
   "id": "1395bae3",
   "metadata": {
    "init_cell": true,
    "tags": [
     "remove-cell"
    ]
   },
   "outputs": [],
   "source": [
    "def showFig(path,i,ending, width, height):\n",
    "    filename = path+str(i)+ending\n",
    "    return HTML(\"<img src=\\\"\" + filename +  f\"\\\" style=\\\"max-height:{height}vh\\\"/>\")"
   ]
  },
  {
   "cell_type": "code",
   "execution_count": 7,
   "id": "73f29a22",
   "metadata": {
    "init_cell": true,
    "tags": [
     "remove-cell"
    ]
   },
   "outputs": [],
   "source": [
    "def showFig2(path,i,ending, width, height):\n",
    "    imgToShow = plt.imread(f\"{path}{i}{ending}\")\n",
    "    plt.imshow(imgToShow)"
   ]
  },
  {
   "cell_type": "code",
   "execution_count": 8,
   "id": "0debf156",
   "metadata": {
    "init_cell": true,
    "tags": [
     "remove-cell"
    ]
   },
   "outputs": [],
   "source": [
    "def imshow(img, cmap=None):\n",
    "    plt.close('all')\n",
    "    plt.figure()\n",
    "    plt.imshow(img, cmap=cmap)\n",
    "    plt.show()"
   ]
  },
  {
   "cell_type": "code",
   "execution_count": 9,
   "id": "2b6b0f81",
   "metadata": {
    "init_cell": true,
    "tags": [
     "remove-cell"
    ]
   },
   "outputs": [],
   "source": [
    "def imshow2(img, cmap=None):\n",
    "    #plt.close('all')\n",
    "    #plt.figure()\n",
    "    plt.clf()\n",
    "    plt.imshow(img, cmap=cmap)\n",
    "    #plt.show()"
   ]
  },
  {
   "cell_type": "markdown",
   "id": "6b11338f",
   "metadata": {
    "slideshow": {
     "slide_type": "slide"
    }
   },
   "source": [
    "$\\begin{align}\n",
    "  \\newcommand{transp}{^\\intercal}\n",
    "  \\newcommand{F}{\\mathcal{F}}\n",
    "  \\newcommand{Fi}{\\mathcal{F}^{-1}}\n",
    "  \\newcommand{inv}{^{-1}}\n",
    "  \\newcommand{stochvec}[1]{\\mathbf{\\tilde{#1}}}\n",
    "  \\newcommand{argmax}[1]{\\underset{#1}{\\mathrm{arg\\, max}}\\,}\n",
    "  \\newcommand{argmin}[1]{\\underset{#1}{\\mathrm{arg\\, min}}\\,}\n",
    "\\end{align}$\n",
    "\n",
    "<font size=\"7\"> Computational Imaging </font><br><br><br>"
   ]
  },
  {
   "cell_type": "markdown",
   "id": "07c60841",
   "metadata": {
    "slideshow": {
     "slide_type": "-"
    }
   },
   "source": [
    "# Lensless Imaging"
   ]
  },
  {
   "cell_type": "markdown",
   "id": "ec15bf56",
   "metadata": {
    "slideshow": {
     "slide_type": "subslide"
    }
   },
   "source": [
    "##### Content\n",
    "* Introduction into lensless imaging\n",
    "* Modulating light in a lensless imaging system\n",
    "* Image reconstruction\n",
    "* Example: Diffuser Cam"
   ]
  },
  {
   "cell_type": "markdown",
   "id": "022f4241",
   "metadata": {
    "slideshow": {
     "slide_type": "slide"
    }
   },
   "source": [
    "## Introduction into lensless imaging"
   ]
  },
  {
   "cell_type": "markdown",
   "id": "beb4b81f",
   "metadata": {},
   "source": [
    "As the name suggests, lensless imaging setups capture light on a sensor without focusing it using a lens (system). \n",
    "\n",
    "* As a direct consequence, the image formed on the sensor is usually not interpretable for the naked human eye. \n",
    "* Only with the help of a suitable reconstruction algorithm, the sought image of the observed scene can be obtained."
   ]
  },
  {
   "cell_type": "markdown",
   "id": "6b3607c5",
   "metadata": {
    "slideshow": {
     "slide_type": "subslide"
    }
   },
   "source": [
    "Lensless imaging systems have some advantages compared to their lens-based counterparts:\n",
    "\n",
    "* Reduced weight and size,\n",
    "* reduced cost,\n",
    "* scalability,\n",
    "* field of view,\n",
    "* visual privacy,\n",
    "* potential applicability to ranges of non-visible wavelengths where it is difficult or impossible to build lenses, e.g., x-rays (provided a suitable sensor)."
   ]
  },
  {
   "cell_type": "markdown",
   "id": "90b61099",
   "metadata": {
    "slideshow": {
     "slide_type": "subslide"
    }
   },
   "source": [
    "Disadvantages of lensless imaging systems:\n",
    "\n",
    "* Image quality,\n",
    "* need for computational image reconstruction (also results in increased power consumption, longer processing times, etc.),\n",
    "* reduced amount of collected light."
   ]
  },
  {
   "cell_type": "markdown",
   "id": "41cff394",
   "metadata": {
    "slideshow": {
     "slide_type": "slide"
    }
   },
   "source": [
    "## Modulating light in a lensless imaging system"
   ]
  },
  {
   "cell_type": "markdown",
   "id": "0b03b7b4",
   "metadata": {},
   "source": [
    "Instead of using lenses, lensless imaging systems use other techniques to modulate the light so that each point of the observed scene yields a different system response. This is a necessary condition for the reconstruction methods to be able to recover the sought sharp image of the scene."
   ]
  },
  {
   "cell_type": "markdown",
   "id": "7095437b",
   "metadata": {
    "slideshow": {
     "slide_type": "fragment"
    }
   },
   "source": [
    "The optical effect of relevant modulators is usually modeled via the corresponding point spread function (PSF)."
   ]
  },
  {
   "cell_type": "markdown",
   "id": "2d705340",
   "metadata": {
    "slideshow": {
     "slide_type": "fragment"
    }
   },
   "source": [
    "Just using a sensor without any modulator results in a severely ill-posed problem that can barely be solved, as every scene point approximately leads to the same system response."
   ]
  },
  {
   "cell_type": "markdown",
   "id": "3b843cbd",
   "metadata": {
    "slideshow": {
     "slide_type": "subslide"
    }
   },
   "source": [
    "Typical modulators can be categorized into the following groups:\n",
    "\n",
    "* Amplitude mask modulators (block, attenuate or transmit light with a spatially varying pattern),\n",
    "* phase mask modulators (change the phase of transmitted light with spatially varying phase shifts),\n",
    "* programmable modulators (change amplitude or phase of transmitted light with a spatially varying pattern that can be computationally controlled) and\n",
    "* illumination modulators (controlling, patterning the illumination)."
   ]
  },
  {
   "cell_type": "markdown",
   "id": "3d954580",
   "metadata": {
    "slideshow": {
     "slide_type": "subslide"
    }
   },
   "source": [
    "### Amplitude modulators"
   ]
  },
  {
   "cell_type": "markdown",
   "id": "0713019a",
   "metadata": {},
   "source": [
    "<img src=\"figures/7/amplitude_modulators.svg\" style=\"max-height:40vh\">"
   ]
  },
  {
   "cell_type": "markdown",
   "id": "07735901",
   "metadata": {
    "slideshow": {
     "slide_type": "fragment"
    }
   },
   "source": [
    "Amplitude modulators are usually produced by photo-lithographically etching a binary pattern of reflective chrome on a glass substrate or by printing a binary pattern with dark ink on a thin transparent film."
   ]
  },
  {
   "cell_type": "markdown",
   "id": "a25ec75c",
   "metadata": {
    "slideshow": {
     "slide_type": "fragment"
    }
   },
   "source": [
    "The regions covered with chrome or ink reflect or absorb incident light (i.e., they block it) whereas light is transmitted by the other regions."
   ]
  },
  {
   "cell_type": "markdown",
   "id": "626302a5",
   "metadata": {
    "slideshow": {
     "slide_type": "fragment"
    }
   },
   "source": [
    "Amplitude modulators have their roots in x-ray imaging where it is difficult to construct lenses."
   ]
  },
  {
   "cell_type": "markdown",
   "id": "1486e6ce",
   "metadata": {
    "slideshow": {
     "slide_type": "subslide"
    }
   },
   "source": [
    "Light modulation by amplitude masks is modeled in two ways, depending on the distance $d$ between the mask and the sensor:"
   ]
  },
  {
   "cell_type": "markdown",
   "id": "c9a66fe8",
   "metadata": {},
   "source": [
    "1. Small $d$: The point spread function (PSF) is modeled based on the shadow of the mask cast on the sensor."
   ]
  },
  {
   "cell_type": "markdown",
   "id": "8ff19f55",
   "metadata": {},
   "source": [
    "2. Large $d$: The PSF is modeled based on the diffraction of incident light at the mask."
   ]
  },
  {
   "cell_type": "markdown",
   "id": "e89a731a",
   "metadata": {
    "slideshow": {
     "slide_type": "subslide"
    }
   },
   "source": [
    "The so-called *Fresnel number* $N_\\mathrm{F}$ helps with distinguishing between the two cases and is defined as:\n",
    "\n",
    "$\\begin{align} \n",
    "   N_\\mathrm{F} = \\frac{a^2}{d\\lambda} \\,,\n",
    "\\end{align}$\n",
    "\n",
    "with $a$ denoting the size of the mask's smallest open region and $\\lambda$ denoting the shortest wavelength of the involved light."
   ]
  },
  {
   "cell_type": "markdown",
   "id": "9baed432",
   "metadata": {
    "slideshow": {
     "slide_type": "fragment"
    }
   },
   "source": [
    "For $N_\\mathrm{F} >> 1$, the assumptions of geometric optics (i.e., ray optics) hold and the first model can be applied. If $N_\\mathrm{F} <= 1$, diffraction has to be taken into account."
   ]
  },
  {
   "cell_type": "markdown",
   "id": "42ffd7b3",
   "metadata": {
    "slideshow": {
     "slide_type": "subslide"
    }
   },
   "source": [
    "The major disadvantage of amplitude masks is the reduced light efficiency caused by blocking parts of the incident light. This can lead to poor signal-to-noise ratios, especially in low-light applications."
   ]
  },
  {
   "cell_type": "markdown",
   "id": "591ef7ca",
   "metadata": {
    "slideshow": {
     "slide_type": "subslide"
    }
   },
   "source": [
    "### Phase modulators"
   ]
  },
  {
   "cell_type": "markdown",
   "id": "74617bfc",
   "metadata": {},
   "source": [
    "Phase modulators change the relative optical path length between different light rays reaching the mask. This introduces changes in the direction of propagation of transmitted light rays, so that distributions of spatially varying light intensities arise behind the mask (so-called *caustics*)."
   ]
  },
  {
   "cell_type": "markdown",
   "id": "27ab9374",
   "metadata": {
    "slideshow": {
     "slide_type": "fragment"
    }
   },
   "source": [
    "Hence, phase modulators can yield quite sophisticated intensity patterns varying with respect to the incident light and therefore represent light modulators suitable for lensless imaging.\n",
    "\n",
    "Furthermore, they do not block incident light what leads to high signal-to-noise ratios."
   ]
  },
  {
   "cell_type": "markdown",
   "id": "6088ddaf",
   "metadata": {
    "slideshow": {
     "slide_type": "fragment"
    }
   },
   "source": [
    "There are three different main kinds of phase modulators: phase gratings, diffusers and phase masks.\n",
    "\n",
    "Phase gratings and phase masks and can be produced by photo-lithographically etching structures into glass or by an additively polymerizing photoresist on a transparent substrate. Diffusers can be realized by etching random height structures onto glass or by inexpensively sandblasting a piece of glass."
   ]
  },
  {
   "cell_type": "markdown",
   "id": "1daf4cbf",
   "metadata": {
    "slideshow": {
     "slide_type": "subslide"
    }
   },
   "source": [
    "#### Phase gratings"
   ]
  },
  {
   "cell_type": "markdown",
   "id": "ca685eaf",
   "metadata": {},
   "source": [
    "Phase gratings modulate the phase of the incident light by two possible values (e.g., $\\pi$ and $0$) depending on the surface height at the respective positions."
   ]
  },
  {
   "cell_type": "markdown",
   "id": "d9d02c26",
   "metadata": {},
   "source": [
    "<img src=\"figures/7/phase_gratings.svg\" style=\"max-height:40vh\">"
   ]
  },
  {
   "cell_type": "markdown",
   "id": "7921b88a",
   "metadata": {
    "slideshow": {
     "slide_type": "subslide"
    }
   },
   "source": [
    "#### Diffusers"
   ]
  },
  {
   "cell_type": "markdown",
   "id": "73bab50a",
   "metadata": {},
   "source": [
    "Diffusers typically have surface profiles with continuous random heights and hence produce pseudorandom patterns representing their PSF."
   ]
  },
  {
   "cell_type": "markdown",
   "id": "f5caa9f4",
   "metadata": {},
   "source": [
    "<img src=\"figures/7/diffuser.svg\" style=\"max-height:40vh\">"
   ]
  },
  {
   "cell_type": "markdown",
   "id": "b7490ada",
   "metadata": {
    "slideshow": {
     "slide_type": "subslide"
    }
   },
   "source": [
    "#### Phase masks"
   ]
  },
  {
   "cell_type": "markdown",
   "id": "f50f21d9",
   "metadata": {},
   "source": [
    "Phase masks are similar to phase gratings but have many different discrete modulation values (i.e., discrete surface heights). By this means, they can be designed to realize a large range of PSFs at the cost of being more expensive."
   ]
  },
  {
   "cell_type": "markdown",
   "id": "1ea2437a",
   "metadata": {},
   "source": [
    "<img src=\"figures/7/phase_mask.svg\" style=\"max-height:40vh\">"
   ]
  },
  {
   "cell_type": "markdown",
   "id": "efc71020",
   "metadata": {
    "slideshow": {
     "slide_type": "subslide"
    }
   },
   "source": [
    "### Programmable modulators"
   ]
  },
  {
   "cell_type": "markdown",
   "id": "022af8f1",
   "metadata": {},
   "source": [
    "By means of so-called *spatial light modulators (SLMs)*, spatial light modulation patterns can be realized which can be computationally controlled."
   ]
  },
  {
   "cell_type": "markdown",
   "id": "20323898",
   "metadata": {
    "slideshow": {
     "slide_type": "subslide"
    }
   },
   "source": [
    "#### Liquid crystal displays (LCDs)"
   ]
  },
  {
   "cell_type": "markdown",
   "id": "e94a1568",
   "metadata": {},
   "source": [
    "LCDs represent a cheap form of a programmable transmissive modulator. \n",
    "\n",
    "Typical LCDs consist of\n",
    "1. a linear polarizer for the incident light,\n",
    "2. a layer of liquid crystals whose orientations can be spatially varied by applying different voltage levels and\n",
    "3. a linear polarizer (usually oriented at 90$^\\circ$ with respect to the first polarizer) for the transmitted light."
   ]
  },
  {
   "cell_type": "markdown",
   "id": "fea6ba06",
   "metadata": {
    "slideshow": {
     "slide_type": "subslide"
    }
   },
   "source": [
    "Depending on the applied voltage, the liquid crystals change the polarization direction of the incident light so that it can (partially) pass the second polarizer. \n",
    "\n",
    "This allows to spatially control the transmissivity of the LCD and hence represents a computationally controllable amplitude modulator."
   ]
  },
  {
   "cell_type": "markdown",
   "id": "028033fa",
   "metadata": {
    "slideshow": {
     "slide_type": "fragment"
    }
   },
   "source": [
    "By adequately modifying the optical setup of an LCD it is also possible to induce a spatially controllable phase shift to the incident light realizing a computationally controllable phase modulator."
   ]
  },
  {
   "cell_type": "markdown",
   "id": "a77acfe9",
   "metadata": {
    "slideshow": {
     "slide_type": "subslide"
    }
   },
   "source": [
    "#### Liquid crystal on silicon (LCoS)"
   ]
  },
  {
   "cell_type": "markdown",
   "id": "e6bd2ee4",
   "metadata": {},
   "source": [
    "LCoS SLMs are quite similar to LCDs however they have to be operated in reflection, i.e., the incident light and the transmitted light are on the same side of the device but with inverse direction of propagation."
   ]
  },
  {
   "cell_type": "markdown",
   "id": "0b31711b",
   "metadata": {
    "slideshow": {
     "slide_type": "subslide"
    }
   },
   "source": [
    "#### Digital micromirror device (DMD)"
   ]
  },
  {
   "cell_type": "markdown",
   "id": "92bfc50d",
   "metadata": {},
   "source": [
    "A DMD can be imagined as a two-dimensional array of small mirrors (lateral lengths of about $5$ µm) which can be computationally tilted out of the plane of the array."
   ]
  },
  {
   "cell_type": "markdown",
   "id": "52c39b07",
   "metadata": {
    "slideshow": {
     "slide_type": "fragment"
    }
   },
   "source": [
    "Typical DMDs support two different tilt angles (i.e., a binary operation mode)."
   ]
  },
  {
   "cell_type": "markdown",
   "id": "f9392295",
   "metadata": {
    "slideshow": {
     "slide_type": "fragment"
    }
   },
   "source": [
    "By collecting the reflected light in one of the two possible reflection directions, DMDs can be used to realize a computationally controllable amplitude mask."
   ]
  },
  {
   "cell_type": "markdown",
   "id": "aceb170a",
   "metadata": {
    "slideshow": {
     "slide_type": "subslide"
    }
   },
   "source": [
    "#### Advantages and disadvantage of programmable modulators"
   ]
  },
  {
   "cell_type": "markdown",
   "id": "3d0fcbd4",
   "metadata": {},
   "source": [
    "Advantages:\n",
    "\n",
    "* Programmable modulators allow to quickly change between different PSFs,\n",
    "* the ability to realize different modulation patterns and acquire images for each individual pattern can allow to significantly reduce the required spatial resolution of the sensor to achieve a certain reconstruction quality (especially useful for spectral regions where high-resolution sensors are not available or expensive)."
   ]
  },
  {
   "cell_type": "markdown",
   "id": "ba09aaf9",
   "metadata": {
    "slideshow": {
     "slide_type": "fragment"
    }
   },
   "source": [
    "Disadvantages:\n",
    "\n",
    "* SLMs are bulky and their integration into optical systems can be complicated,\n",
    "* due to their pixelated design with small structures (near the size of the light's wavelengths), diffraction effects can occur and notably complicate the reconstruction procedure."
   ]
  },
  {
   "cell_type": "markdown",
   "id": "27a85f26",
   "metadata": {
    "slideshow": {
     "slide_type": "subslide"
    }
   },
   "source": [
    "### Point spread functions (PSFs)"
   ]
  },
  {
   "cell_type": "markdown",
   "id": "3b933ec6",
   "metadata": {},
   "source": [
    "All of the mentioned modulators can be modeled via their PSF, i.e., their optical response to a point light source."
   ]
  },
  {
   "cell_type": "markdown",
   "id": "ac97414e",
   "metadata": {
    "slideshow": {
     "slide_type": "fragment"
    }
   },
   "source": [
    "Typically, the PSF of a modulator used in lensless imaging is designed to have\n",
    "* an auto-correlation that is close to a Dirac impulse and\n",
    "* a flat magnitude spectrum in the Fourier domain, so that as much spatial frequencies as possible are preserved without significant changes of their contributions to the signal."
   ]
  },
  {
   "cell_type": "markdown",
   "id": "9b38d64f",
   "metadata": {
    "slideshow": {
     "slide_type": "slide"
    }
   },
   "source": [
    "## Image reconstruction"
   ]
  },
  {
   "cell_type": "markdown",
   "id": "a6468b31",
   "metadata": {},
   "source": [
    "The image formed on the sensor of lensless imaging systems typically looks blurred or completely scrambled, i.e., useless for the naked human eye.\n",
    "\n",
    "In most cases, there is a linear relationship between the observed scene and the resulting measurements on the sensor. Suitable reconstruction algorithms try to invert this mapping in order to obtain a sharp image of the scene based on the blurred and scrambled measurements."
   ]
  },
  {
   "cell_type": "markdown",
   "id": "dec0a324",
   "metadata": {
    "slideshow": {
     "slide_type": "subslide"
    }
   },
   "source": [
    "**Forward model**"
   ]
  },
  {
   "cell_type": "markdown",
   "id": "86371e42",
   "metadata": {},
   "source": [
    "For a given lensless imaging system, the relationship between the observed scene and the corresponding measurements can be formalized in a so-called *forward model*.\n",
    "\n",
    "The forward model calculates the measurements that can be expected given a certain scene. The model has to achieve a trade-off between physical accuracy and tractability of the reconstruction that is adequate for the targeted application."
   ]
  },
  {
   "cell_type": "markdown",
   "id": "d98e40b7",
   "metadata": {
    "slideshow": {
     "slide_type": "subslide"
    }
   },
   "source": [
    "### Forward model for 2D imaging"
   ]
  },
  {
   "cell_type": "markdown",
   "id": "3cc35442",
   "metadata": {
    "slideshow": {
     "slide_type": "subslide"
    }
   },
   "source": [
    "#### General linear model"
   ]
  },
  {
   "cell_type": "markdown",
   "id": "1869e381",
   "metadata": {},
   "source": [
    "If the scene is assumed to be a two-dimensional plane located at some distance to the imaging system and being oriented perpendicular to the optical axis, the simplest form of an adequate forward model can be expressed via the following general linear model:\n",
    "\n",
    "$\\begin{align} \n",
    "   \\mathbf{y} = \\mathbf{Hx} \\,,\n",
    "\\end{align}$\n",
    "\n",
    "with the intensities $\\mathbf{x}$ emerging from every sampled scene point, the measurement matrix $\\mathbf{H}$ and the resulting measurements $\\mathbf{y}$."
   ]
  },
  {
   "cell_type": "markdown",
   "id": "0e3ee7fc",
   "metadata": {
    "slideshow": {
     "slide_type": "fragment"
    }
   },
   "source": [
    "This model can be interpreted as if every column $\\mathbf{H}[i]$ of $\\mathbf{H}$ stores the sensor image that is associated with the corresponding scene point (i.e., element $x_i$ of $\\mathbf{x}$). The value of $x_i$ (i.e., the reflected intensity of that scene point) then scales $\\mathbf{H}[i]$ before the images corresponding to all captured scene points are additively superposed and yield the measurement $\\mathbf{y}$."
   ]
  },
  {
   "cell_type": "markdown",
   "id": "f4ce952a",
   "metadata": {
    "slideshow": {
     "slide_type": "subslide"
    }
   },
   "source": [
    "Unfortunately, using this simple model is usually computationally intractable. \n",
    "\n",
    "To reconstruct a one megapixel image for a one megapixel sensor the matrix $\\mathbf{H}$ would have $10^6 \\cdot 10^6 = 10^{12}$ elements and hence $10^{12}$ multiplications would have to be carried out for every evaluation of the forward model."
   ]
  },
  {
   "cell_type": "markdown",
   "id": "da48270a",
   "metadata": {
    "slideshow": {
     "slide_type": "fragment"
    }
   },
   "source": [
    "There are two common approaches for alternative models that reduce the computational complexity, convolutional models and separability models."
   ]
  },
  {
   "cell_type": "markdown",
   "id": "d38ec390",
   "metadata": {
    "slideshow": {
     "slide_type": "subslide"
    }
   },
   "source": [
    "#### Convolutional model"
   ]
  },
  {
   "cell_type": "markdown",
   "id": "e1553526",
   "metadata": {},
   "source": [
    "The general linear model can be approximated as a linear shift-invariant system via a convolution of the scene intensities $x(m,n)$ with the PSF $h(m,n)$, i.e.,\n",
    "\n",
    "$\\begin{align} \n",
    "   y = x * h \\,,\n",
    "\\end{align}$\n",
    "\n",
    "when the following conditions hold:\n",
    "1. Narrow field of view,\n",
    "2. sufficient distance between mask and sensor,\n",
    "3. far-field approximation."
   ]
  },
  {
   "cell_type": "markdown",
   "id": "d220bfee",
   "metadata": {
    "slideshow": {
     "slide_type": "fragment"
    }
   },
   "source": [
    "This formulation has several advantages:\n",
    "\n",
    "* Instead of storing $\\mathbf{H}$, only the 2D convolution kernel $h$ has to be stored,\n",
    "* model evaluation can be efficiently performed in the Fourier domain."
   ]
  },
  {
   "cell_type": "markdown",
   "id": "e3632c5c",
   "metadata": {
    "slideshow": {
     "slide_type": "subslide"
    }
   },
   "source": [
    "However, when the mentioned conditions are violated, the assumed shift-invariance breaks down and the convolutional model does no longer yield good approximations.\n",
    "\n",
    "One possible mitigation to this problem is to use different convolution kernels depending on the lateral pixel position on the sensor (so-called *local convolutional models*)."
   ]
  },
  {
   "cell_type": "markdown",
   "id": "2b903dd9",
   "metadata": {
    "slideshow": {
     "slide_type": "subslide"
    }
   },
   "source": [
    "#### Separability model"
   ]
  },
  {
   "cell_type": "markdown",
   "id": "0cbd24eb",
   "metadata": {},
   "source": [
    "Another way to reduce the complexity of the general model is to use modulation masks with a spatial pattern that is *separable*, i.e., that can be represented as the outer product of two vectors $\\Phi_\\mathrm{L}, \\Phi_\\mathrm{R}$.\n",
    "\n",
    "The image formation is then described by:\n",
    "\n",
    "$\\begin{align} \n",
    "   \\mathbf{y} = \\Phi_\\mathrm{L}\\Phi_\\mathrm{R}\\transp \\mathbf{x}\n",
    "\\end{align}$"
   ]
  },
  {
   "cell_type": "markdown",
   "id": "e6f8b71f",
   "metadata": {
    "slideshow": {
     "slide_type": "subslide"
    }
   },
   "source": [
    "### Forward model for 3D-imaging"
   ]
  },
  {
   "cell_type": "markdown",
   "id": "1b7abbfd",
   "metadata": {},
   "source": [
    "The 2D forward model can easily extended to the case of 3D-imaging since\n",
    "* the relations between scene intensities and sensor measurements are depth-dependent and\n",
    "* the intensity distributions from different depths are additively superposed on the sensor."
   ]
  },
  {
   "cell_type": "markdown",
   "id": "1e134b52",
   "metadata": {
    "slideshow": {
     "slide_type": "fragment"
    }
   },
   "source": [
    "Hence, all previously described approaches can be extended to 3D by simply additively iterating over all discrete depths $z$ of interest. This leads to the following expressions for the 3D case:"
   ]
  },
  {
   "cell_type": "markdown",
   "id": "fd5fb6ca",
   "metadata": {
    "slideshow": {
     "slide_type": "subslide"
    }
   },
   "source": [
    "#### General linear model for 3D:\n",
    "\n",
    "$\\begin{align} \n",
    "   \\mathbf{y} = \\sum\\limits_z \\mathbf{H}_z \\mathbf{x}_z \\,.\n",
    "\\end{align}$"
   ]
  },
  {
   "cell_type": "markdown",
   "id": "266ac062",
   "metadata": {
    "slideshow": {
     "slide_type": "subslide"
    }
   },
   "source": [
    "#### Convolutional model for 3D:\n",
    "\n",
    "$\\begin{align} \n",
    "   y = \\sum\\limits_z x_z * h_z \\,.\n",
    "\\end{align}$"
   ]
  },
  {
   "cell_type": "markdown",
   "id": "d3ab531b",
   "metadata": {
    "slideshow": {
     "slide_type": "subslide"
    }
   },
   "source": [
    "#### Separability model for 3D:\n",
    "\n",
    "$\\begin{align} \n",
    "   \\mathbf{y} = \\sum\\limits_z \\Phi_{\\mathrm{L},z}\\Phi_{\\mathrm{R},z}\\transp \\mathbf{x}_z \\,.\n",
    "\\end{align}$"
   ]
  },
  {
   "cell_type": "markdown",
   "id": "2f52f543",
   "metadata": {
    "slideshow": {
     "slide_type": "subslide"
    }
   },
   "source": [
    "### Calibration"
   ]
  },
  {
   "cell_type": "markdown",
   "id": "4f8dc6a6",
   "metadata": {},
   "source": [
    "In order to evaluate the forward model, the actual parameters, i.e., the matrix $\\mathbf{H}$, the kernel $h$ or $\\Phi_\\mathrm{L}, \\Phi_\\mathrm{R}$ have to be determined."
   ]
  },
  {
   "cell_type": "markdown",
   "id": "26d9bdd8",
   "metadata": {
    "slideshow": {
     "slide_type": "fragment"
    }
   },
   "source": [
    "There are two possible ways to determine these parameters:"
   ]
  },
  {
   "cell_type": "markdown",
   "id": "b96f3d61",
   "metadata": {
    "slideshow": {
     "slide_type": "subslide"
    }
   },
   "source": [
    "**Model-based calibration**\n",
    "\n",
    "The optical system design is known due to the design process and the model parameters are simulated via appropriate wavefront propagation models or raytracing methods. \n",
    "\n",
    "Advantage: No measurements have to be acquired.\n",
    "\n",
    "Disadvantage: Differences between the simulated optical system and the actual physical system lead to calibration and reconstruction errors."
   ]
  },
  {
   "cell_type": "markdown",
   "id": "f6de120a",
   "metadata": {
    "slideshow": {
     "slide_type": "subslide"
    }
   },
   "source": [
    "**Experimental calibration**\n",
    "\n",
    "The parameters can also be determined experimentally by acquiring images of a suitable scene. The simplest approach is to acquire measurements of a point source in order to estimate the PSF."
   ]
  },
  {
   "cell_type": "markdown",
   "id": "1adf391a",
   "metadata": {
    "slideshow": {
     "slide_type": "subslide"
    }
   },
   "source": [
    "#### Calibration of the general linear model"
   ]
  },
  {
   "cell_type": "markdown",
   "id": "eb8c0ba8",
   "metadata": {},
   "source": [
    "The general linear model assumes a different system response for each individual scene sampling position. Hence, a calibration measurement has to be acquired for a point source that is positioned at every scene sampling position, what is usually intractable. \n",
    "\n",
    "Only if a model-based calibration is possible, calibration of the linear model might be realized in reasonable time."
   ]
  },
  {
   "cell_type": "markdown",
   "id": "46c580a1",
   "metadata": {
    "slideshow": {
     "slide_type": "subslide"
    }
   },
   "source": [
    "#### Calibration of the convolutional model"
   ]
  },
  {
   "cell_type": "markdown",
   "id": "24fa547e",
   "metadata": {},
   "source": [
    "Since the convolutional model assumes a linear shift-invariant system, it is sufficient to estimate (i.e., acquire) one PSF for every discrete scene depth $z$ of interest (i.e., only one for 2D imaging applications) or to computationally scale one PSF with respect to $z$. \n",
    "\n",
    "If the PSF is not constant across the field of view, multiple PSFs can be acquired in coarse grid."
   ]
  },
  {
   "cell_type": "markdown",
   "id": "f999203c",
   "metadata": {
    "slideshow": {
     "slide_type": "subslide"
    }
   },
   "source": [
    "#### Calibration of the separability model"
   ]
  },
  {
   "cell_type": "markdown",
   "id": "8614913c",
   "metadata": {},
   "source": [
    "Calibration of the separability model is slightly more challenging than for the convolutional model. Typically, the vectors $\\Phi_\\mathrm{L}, \\Phi_\\mathrm{R}$ can be estimated out of measurements of line images (i.e., bright rows or columns in the scene)."
   ]
  },
  {
   "cell_type": "markdown",
   "id": "cc7eeb24",
   "metadata": {
    "slideshow": {
     "slide_type": "subslide"
    }
   },
   "source": [
    "### Performing the reconstruction"
   ]
  },
  {
   "cell_type": "markdown",
   "id": "ae3a4373",
   "metadata": {},
   "source": [
    "In order to perform the reconstruction of the sought scene intensities $\\mathbf{x}$ for an actual lensless imaging system based on an observation $\\mathbf{y}$, \n",
    "\n",
    "* the system's forward model has to be correctly formulated and \n",
    "* the model has to be calibrated,\n",
    "\n",
    "so that the forward model can be evaluated for an estimate $\\hat{\\mathbf{x}}$ of the scene intensities."
   ]
  },
  {
   "cell_type": "markdown",
   "id": "4e57fe45",
   "metadata": {
    "slideshow": {
     "slide_type": "fragment"
    }
   },
   "source": [
    "Possible approaches to reconstruct $\\mathbf{x}$ are deconvolution methods and convex optimization algorithms as discussed in the previous chapter.\n",
    "\n",
    "Also data-driven approaches (i.e., involving neural networks) can be employed to perform the reconstruction or to visually enhance the reconstruction results."
   ]
  },
  {
   "cell_type": "markdown",
   "id": "5ee5241b",
   "metadata": {
    "slideshow": {
     "slide_type": "slide"
    }
   },
   "source": [
    "## Example: Diffuser Cam"
   ]
  },
  {
   "cell_type": "markdown",
   "id": "3ca86dc3",
   "metadata": {},
   "source": [
    "We will now study an example lensless imaging system where a diffuser is used as a modulator and 3D images of the observed scene are reconstructed by means of the ADMM algorithm.\n",
    "\n",
    "The following content is based on the publication [DiffuserCam: lensless single-exposure 3D imaging](https://doi.org/10.1364/OPTICA.5.000001) by Nick Antipa et al.."
   ]
  },
  {
   "cell_type": "markdown",
   "id": "f11d7120",
   "metadata": {
    "slideshow": {
     "slide_type": "subslide"
    }
   },
   "source": [
    "The optical setup of the Diffuser Cam is shown in the following figure:\n",
    "\n",
    "<img src=\"figures/7/diffuser_cam_optical_setup.svg\" style=\"max-height:40vh\">"
   ]
  },
  {
   "cell_type": "markdown",
   "id": "22bb375c",
   "metadata": {
    "slideshow": {
     "slide_type": "subslide"
    }
   },
   "source": [
    "The image resulting from illumination with a single point source, the PSF, looks like this:\n",
    "\n",
    "<img src=\"figures/7/diffuser_cam_psf.svg\" style=\"max-height:40vh\">"
   ]
  },
  {
   "cell_type": "markdown",
   "id": "87f62ab8",
   "metadata": {
    "slideshow": {
     "slide_type": "fragment"
    }
   },
   "source": [
    "The visible structures are caused by the diffuser that focuses the incident light in a pseudo-random pattern, a so-called caustic."
   ]
  },
  {
   "cell_type": "markdown",
   "id": "12a071e1",
   "metadata": {
    "slideshow": {
     "slide_type": "subslide"
    }
   },
   "source": [
    "### Forward model"
   ]
  },
  {
   "cell_type": "markdown",
   "id": "644af3fb",
   "metadata": {},
   "source": [
    "When the single illuminating point source is moved laterally, the PSF is also shifted laterally on the sensor. When the point source is moved axially, the PSF is scaled (getting larger for a decreasing distance to the modulator and larger for increasing distance)."
   ]
  },
  {
   "cell_type": "markdown",
   "id": "74ff46ac",
   "metadata": {
    "slideshow": {
     "slide_type": "fragment"
    }
   },
   "source": [
    "The forward model can be represented by a linear model\n",
    "\n",
    "$\\begin{align} \n",
    "   \\mathbf{b} = \\mathbf{Hv} \\,,\n",
    "\\end{align}$\n",
    "\n",
    "where the observation is the result of an additive superposition of all PSFs $\\mathbf{H}$ for all possible scene point locations scaled by the corresponding light intensities $\\mathbf{v}$. \n",
    "\n",
    "As mentioned before, this approach is intractable due to the high number of elements of $\\mathbf{H}$."
   ]
  },
  {
   "cell_type": "markdown",
   "id": "0df551b2",
   "metadata": {
    "slideshow": {
     "slide_type": "fragment"
    }
   },
   "source": [
    "Instead, a convolutional model is used as the forward model:\n",
    "\n",
    "$\\begin{align} \n",
    "   b = \\mathcal{C}\\left\\{  \\sum\\limits_z v_z * h_z  \\right\\} \\,,\n",
    "\\end{align}$\n",
    "\n",
    "with $v_z$ denoting the intensities of scene points at depth $z$, $h_z$ representing the PSF at depth $z$ and $\\mathcal{C}$ denoting a linear operator that crops the image to actual sensor size."
   ]
  },
  {
   "cell_type": "markdown",
   "id": "912e8249",
   "metadata": {
    "slideshow": {
     "slide_type": "subslide"
    }
   },
   "source": [
    "### Image reconstruction"
   ]
  },
  {
   "cell_type": "markdown",
   "id": "7fa450e9",
   "metadata": {},
   "source": [
    "We will start with a simple gradient descent-based reconstruction approach and then move on to an ADMM-based reconstruction."
   ]
  },
  {
   "cell_type": "markdown",
   "id": "44c7d82c",
   "metadata": {
    "slideshow": {
     "slide_type": "subslide"
    }
   },
   "source": [
    "#### Gradient descent-based reconstruction"
   ]
  },
  {
   "cell_type": "markdown",
   "id": "b13b0078",
   "metadata": {},
   "source": [
    "For the first approach, we will not use any prior and just try to find an estimate $\\hat{\\mathbf{v}}$ that optimizes the data fidelity term:\n",
    "\n",
    "$\\begin{align} \n",
    "   \\hat{\\mathbf{v}} &= \\argmin{\\mathbf{v}} \\frac{1}{2} \\left\\| \\underbrace{\\mathbf{CH}}_{=:\\mathbf{A}}\\mathbf{v} - \\mathbf{b} \\right\\|^2_2  \\\\\n",
    "   &= \\argmin{\\mathbf{v}} \\underbrace{\\frac{1}{2} \\left\\| \\mathbf{A}\\mathbf{v} - \\mathbf{b} \\right\\|^2_2}_{=:g(\\mathbf{v})} \\,,\n",
    "\\end{align}$\n",
    "\n",
    "with $\\mathbf{H}$ representing a matrix encoding a cyclic convolution with the PSF $h$, $\\mathbf{C}$ denoting a matrix encoding the crop operator $\\mathcal{C}$ and $\\mathbf{A} := \\mathbf{CH}$."
   ]
  },
  {
   "cell_type": "markdown",
   "id": "12f9ac52",
   "metadata": {
    "slideshow": {
     "slide_type": "fragment"
    }
   },
   "source": [
    "To perform gradient descent, we have to derive the gradient $\\nabla_\\mathbf{v} g(\\mathbf{v})$ of $g$ with respect to $\\mathbf{v}$:\n",
    "\n",
    "$\\begin{align} \n",
    "   \\nabla_\\mathbf{v} g(\\mathbf{v}) = \\nabla_\\mathbf{v} \\frac{1}{2} \\left\\| \\mathbf{A}\\mathbf{v} - \\mathbf{b} \\right\\|^2_2 = \\mathbf{A}\\transp (\\mathbf{Av}-\\mathbf{b}) = \\mathbf{H}\\transp \\mathbf{C}\\transp \\left( \\mathbf{CHv} - \\mathbf{b}  \\right) \\,.\n",
    "\\end{align}$\n",
    "\n",
    "The transpose $\\mathbf{C}\\transp$ of the crop operation corresponds to zero padding."
   ]
  },
  {
   "cell_type": "markdown",
   "id": "6c8125df",
   "metadata": {
    "slideshow": {
     "slide_type": "subslide"
    }
   },
   "source": [
    "As the reconstruction should only have positive pixel values, we replace any negative values of $\\hat{\\mathbf{v}}$ with 0 during the gradient descent iterations. This is also called *projected gradient descent* since the calculated estimations are projected on the set of images with only positive pixel values."
   ]
  },
  {
   "cell_type": "markdown",
   "id": "8f0075e1",
   "metadata": {
    "slideshow": {
     "slide_type": "subslide"
    }
   },
   "source": [
    "##### Example reconstruction"
   ]
  },
  {
   "cell_type": "markdown",
   "id": "95e9fef3",
   "metadata": {},
   "source": [
    "The following image represents a raw image captured with a Diffuser Cam:\n",
    "\n",
    "<img src=\"figures/7/diffuser_cam_raw_image.svg\" style=\"max-height:40vh\">"
   ]
  },
  {
   "cell_type": "markdown",
   "id": "8b9b4d92",
   "metadata": {
    "slideshow": {
     "slide_type": "subslide"
    }
   },
   "source": [
    "Based on this input, the gradient descent-based reconstruction yields the following results:"
   ]
  },
  {
   "cell_type": "code",
   "execution_count": 10,
   "id": "ac5f16f3",
   "metadata": {
    "init_cell": true
   },
   "outputs": [
    {
     "data": {
      "application/vnd.jupyter.widget-view+json": {
       "model_id": "0661619e56fa47228ea042010d0a95b9",
       "version_major": 2,
       "version_minor": 0
      },
      "text/plain": [
       "interactive(children=(IntSlider(value=9, description='i', max=9), Output()), _dom_classes=('widget-interact',)…"
      ]
     },
     "metadata": {},
     "output_type": "display_data"
    },
    {
     "data": {
      "text/plain": [
       "<function __main__.<lambda>(i)>"
      ]
     },
     "execution_count": 10,
     "metadata": {},
     "output_type": "execute_result"
    }
   ],
   "source": [
    "interact(lambda i: showFig('figures/7/diffuser_cam_grad_recon_',i,'.svg',800,50), i=widgets.IntSlider(min=(min_i:=0),max=(max_i:=9), step=1, value=(max_i if book else min_i)))"
   ]
  },
  {
   "cell_type": "markdown",
   "id": "d748b52e",
   "metadata": {
    "slideshow": {
     "slide_type": "subslide"
    }
   },
   "source": [
    "#### ADMM-based reconstruction"
   ]
  },
  {
   "cell_type": "markdown",
   "id": "c73cd317",
   "metadata": {},
   "source": [
    "By using the ADMM framework, the reconstruction quality can be increased via additional constraints and the reconstruction speed will increase due to the faster convergence of ADMM."
   ]
  },
  {
   "cell_type": "markdown",
   "id": "062e3d82",
   "metadata": {
    "slideshow": {
     "slide_type": "fragment"
    }
   },
   "source": [
    "In the following, we will iteratively extend the original optimization problem by several constraints."
   ]
  },
  {
   "cell_type": "markdown",
   "id": "d893f9fd",
   "metadata": {
    "slideshow": {
     "slide_type": "subslide"
    }
   },
   "source": [
    "First, the composition of the matrix $\\mathbf{A} = \\mathbf{CH}$ will be decomposed into two steps via the slack variable $\\mathbf{q}$:\n",
    "\n",
    "$\\begin{align} \n",
    "   \\hat{\\mathbf{v}} = &\\argmin{\\mathbf{q}} \\frac{1}{2} \\left\\| \\mathbf{C} \\mathbf{q} - \\mathbf{b} \\right\\| ^2_2 \\\\ &\\text{subject to}\\quad \\mathbf{q} = \\mathbf{Hv} \\,.\n",
    "\\end{align}$"
   ]
  },
  {
   "cell_type": "markdown",
   "id": "99d6d6c2",
   "metadata": {
    "slideshow": {
     "slide_type": "subslide"
    }
   },
   "source": [
    "Next, we want to enforce positive values of the reconstruction via the slack variable $\\mathbf{w}$:\n",
    "\n",
    "$\\begin{align} \n",
    "  \\hat{\\mathbf{v}} = &\\argmin{\\mathbf{q}, \\mathbf{w}} \\frac{1}{2} \\left\\| \\mathbf{C} \\mathbf{q} - \\mathbf{b} \\right\\| ^2_2 + \\mathrm{pos}(\\mathbf{w}) \\\\ &\\text{subject to}\\quad \\mathbf{q} = \\mathbf{Hv},\\, \\mathbf{w}=\\mathbf{v} \\,,   \n",
    "\\end{align}$\n",
    "\n",
    "with $\\mathrm{pos}(w_i) = \\mathrm{max}(w_i,0)$."
   ]
  },
  {
   "cell_type": "markdown",
   "id": "a6afe1ca",
   "metadata": {
    "slideshow": {
     "slide_type": "subslide"
    }
   },
   "source": [
    "Finally, we want the reconstruction to be sparse by introducing an anisotropic total variation prior $\\Psi$ via the slack variable $\\mathbf{u}$:\n",
    "\n",
    "$\\begin{align} \n",
    "  \\hat{\\mathbf{v}} = &\\argmin{\\mathbf{q}, \\mathbf{w}, \\mathbf{u}} \\frac{1}{2} \\left\\| \\mathbf{C} \\mathbf{q} - \\mathbf{b} \\right\\| ^2_2 + \\mathrm{pos}(\\mathbf{w}) + \\tau \\left\\| \\mathbf{u} \\right\\|_1  \\\\ &\\text{subject to}\\quad \\mathbf{q} = \\mathbf{Hv},\\, \\mathbf{w}=\\mathbf{v},\\, \\mathbf{u} = \\Psi \\mathbf{v} \\,,   \n",
    "\\end{align}$\n",
    "\n",
    "with $\\Psi$ encoding the finite difference operator in $x$- and $y$-direction as introduced in Chapter 6."
   ]
  },
  {
   "cell_type": "markdown",
   "id": "281b4907",
   "metadata": {
    "slideshow": {
     "slide_type": "subslide"
    }
   },
   "source": [
    "All those constraints can now be combined into one constraint-less optimization problem by means of the standard form augmented Lagrangian:\n",
    "\n",
    "$\\begin{align} \n",
    "   L(\\mathbf{\\mathbf{u,q,w,v,\\tilde{u},\\tilde{q},\\tilde{w}}}) = &\\frac{1}{2} \\left\\| \\mathbf{C} \\mathbf{q} - \\mathbf{b} \\right\\| ^2_2 + \\mathrm{pos}(\\mathbf{w}) + \\tau \\left\\| \\mathbf{u} \\right\\|_1 \\\\\n",
    "    & + \\frac{\\mu_1}{2} \\left\\| \\mathbf{Hv} - \\mathbf{q} \\right\\|^2_2 + \\tilde{\\mathbf{q}} \\transp \\left( \\mathbf{Hv-q} \\right)  \\\\\n",
    "    & + \\frac{\\mu_2}{2}\\left\\| \\Psi \\mathbf{v-u} \\right\\|^2_2 + \\mathbf{\\tilde{u}} \\transp \\left( \\Psi \\mathbf{v-u} \\right) \\\\\n",
    "    & + \\frac{\\mu_3}{2} \\left\\| \\mathbf{v-w} \\right\\| ^2_2 + \\mathbf{\\tilde{w}} \\transp \\left( \\mathbf{v-w} \\right) \\,,\n",
    "\\end{align}$\n",
    "\n",
    "with $\\tilde{\\mathbf{q}}, \\tilde{\\mathbf{u}}, \\tilde{\\mathbf{w}}$ denoting the Lagrange multipliers associated with $\\mathbf{q,u,w}$ and $\\mu_1, \\mu_2, \\mu_3$ denoting the corresponding weights."
   ]
  },
  {
   "cell_type": "markdown",
   "id": "ae8f02f0",
   "metadata": {
    "slideshow": {
     "slide_type": "subslide"
    }
   },
   "source": [
    "We now have to provide the update rules for all of those seven variables. The solutions are provided in the following and can be derived in the scope of exercise 6."
   ]
  },
  {
   "cell_type": "markdown",
   "id": "5f0eb061",
   "metadata": {
    "slideshow": {
     "slide_type": "fragment"
    }
   },
   "source": [
    "$\\begin{align} \n",
    "   \\mathbf{u}_{k+1} &\\leftarrow \\mathcal{S}_{\\tau / \\mu_2} \\left( \\Psi \\mathbf{v}_k +  \\frac{1}{\\mu_2}\\tilde{\\mathbf{u}}_k \\right) \\,, \\\\\n",
    "   \\mathbf{q}_{k+1} &\\leftarrow \\left( \\mathbf{C}\\transp \\mathbf{C} + \\mu_1 \\mathbf{I}  \\right) ^{-1} \\left( \\tilde{\\mathbf{q}}_k + \\mu_1 \\mathbf{Hv}_k + \\mathbf{C}\\transp \\mathbf{b} \\right) \\,, \\\\\n",
    "   \\mathbf{w}_{k+1} &\\leftarrow  \\mathrm{max}\\left( \\frac{1}{\\mu_3}\\tilde{\\mathbf{w}}_k + \\mathbf{v}_k, \\mathbf{0} \\right) \\,, \\\\\n",
    "   \\mathbf{v}_{k+1} &\\leftarrow \\left( \\mu_1 \\mathbf{H}\\transp \\mathbf{H} + \\mu_2 \\Psi\\transp \\Psi + \\mu_3 \\mathbf{I}\\right)^{-1} \\cdot  \\\\\n",
    "   & \\quad\\,\\,\\, \\left( \\mu_3 \\mathbf{w}_{k+1} - \\tilde{\\mathbf{w}}_k \\right) + \\Psi\\transp \\left( \\mu_2 \\mathbf{u}_{k+1} - \\tilde{\\mathbf{u}}_k \\right) + \\mathbf{H}\\transp \\left( \\mu_1 \\mathbf{q}_{k+1} - \\tilde{\\mathbf{q}}_k \\right) \\,, \\\\\n",
    "   \\tilde{\\mathbf{q}}_{k+1} &\\leftarrow \\tilde{\\mathbf{q}}_k + \\mu_1 \\left( \\mathbf{Hv}_{k+1} - \\mathbf{q}_{k+1} \\right) \\,, \\\\\n",
    "   \\tilde{\\mathbf{u}}_{k+1} &\\leftarrow  \\tilde{\\mathbf{u}}_k + \\mu_2 \\left( \\Psi \\mathbf{v}_{k+1} - \\mathbf{u}_{k+1} \\right)  \\,, \\\\\n",
    "   \\tilde{\\mathbf{w}}_{k+1} &\\leftarrow \\tilde{\\mathbf{w}}_k + \\mu_3 \\left( \\mathbf{v}_{k+1} - \\mathbf{w}_{k+1} \\right) \\,,\n",
    "\\end{align}$\n",
    "\n",
    "with $\\mathcal{S}$ denoting the element-wise soft thresholding operator, $\\mathbf{I}$ denoting the identity matrix and $\\mathrm{max}(\\mathbf{a,b})$ denoting the element-wise maximum of $\\mathbf{a}$ and $\\mathbf{b}$."
   ]
  },
  {
   "cell_type": "markdown",
   "id": "19d6b095",
   "metadata": {
    "slideshow": {
     "slide_type": "subslide"
    }
   },
   "source": [
    "##### Example reconstruction"
   ]
  },
  {
   "cell_type": "markdown",
   "id": "ab6f76a5",
   "metadata": {},
   "source": [
    "The ADMM-based reconstruction yields the following results:"
   ]
  },
  {
   "cell_type": "code",
   "execution_count": 11,
   "id": "4c5cd23b",
   "metadata": {
    "init_cell": true
   },
   "outputs": [
    {
     "data": {
      "application/vnd.jupyter.widget-view+json": {
       "model_id": "ff69668f96554e6c940bd3275a6c0b32",
       "version_major": 2,
       "version_minor": 0
      },
      "text/plain": [
       "interactive(children=(IntSlider(value=9, description='i', max=9), Output()), _dom_classes=('widget-interact',)…"
      ]
     },
     "metadata": {},
     "output_type": "display_data"
    },
    {
     "data": {
      "text/plain": [
       "<function __main__.<lambda>(i)>"
      ]
     },
     "execution_count": 11,
     "metadata": {},
     "output_type": "execute_result"
    }
   ],
   "source": [
    "interact(lambda i: showFig('figures/7/diffuser_cam_ADMM_recon_',i,'.svg',800,50), i=widgets.IntSlider(min=(min_i:=0),max=(max_i:=9), step=1, value=(max_i if book else min_i)))"
   ]
  },
  {
   "cell_type": "code",
   "execution_count": null,
   "id": "52302c3c",
   "metadata": {},
   "outputs": [],
   "source": []
  }
 ],
 "metadata": {
  "jupytext": {
   "formats": "ipynb,md:myst",
   "text_representation": {
    "extension": ".md",
    "format_name": "myst",
    "format_version": 0.13,
    "jupytext_version": "1.14.1"
   }
  },
  "kernelspec": {
   "display_name": "compimg",
   "language": "python",
   "name": "compimg"
  },
  "language_info": {
   "codemirror_mode": {
    "name": "ipython",
    "version": 3
   },
   "file_extension": ".py",
   "mimetype": "text/x-python",
   "name": "python",
   "nbconvert_exporter": "python",
   "pygments_lexer": "ipython3",
   "version": "3.8.10"
  },
  "source_map": [
   15,
   35,
   58,
   65,
   75,
   88,
   97,
   106,
   117,
   129,
   143,
   147,
   155,
   159,
   166,
   177,
   185,
   189,
   193,
   197,
   201,
   210,
   214,
   218,
   222,
   226,
   230,
   234,
   238,
   242,
   252,
   256,
   260,
   264,
   268,
   274,
   280,
   284,
   288,
   292,
   296,
   300,
   304,
   308,
   312,
   316,
   320,
   324,
   328,
   337,
   343,
   347,
   351,
   355,
   359,
   363,
   367,
   371,
   375,
   382,
   389,
   393,
   397,
   403,
   407,
   413,
   417,
   423,
   427,
   431,
   441,
   445,
   451,
   455,
   459,
   472,
   479,
   485,
   489,
   499,
   503,
   509,
   513,
   521,
   529,
   537,
   541,
   545,
   549,
   559,
   565,
   569,
   575,
   579,
   585,
   589,
   593,
   597,
   606,
   612,
   616,
   622,
   628,
   634,
   638,
   642,
   646,
   658,
   668,
   672,
   676,
   680,
   691,
   701,
   705,
   709,
   715,
   719,
   725,
   729,
   733,
   737,
   745,
   755,
   765,
   778,
   782,
   797,
   801,
   805,
   811
  ],
  "widgets": {
   "application/vnd.jupyter.widget-state+json": {
    "state": {
     "04b613997cfb443abc8fcdf092551f80": {
      "model_module": "@jupyter-widgets/controls",
      "model_module_version": "1.5.0",
      "model_name": "SliderStyleModel",
      "state": {
       "_model_module": "@jupyter-widgets/controls",
       "_model_module_version": "1.5.0",
       "_model_name": "SliderStyleModel",
       "_view_count": null,
       "_view_module": "@jupyter-widgets/base",
       "_view_module_version": "1.2.0",
       "_view_name": "StyleView",
       "description_width": "",
       "handle_color": null
      }
     },
     "0661619e56fa47228ea042010d0a95b9": {
      "model_module": "@jupyter-widgets/controls",
      "model_module_version": "1.5.0",
      "model_name": "VBoxModel",
      "state": {
       "_dom_classes": [
        "widget-interact"
       ],
       "_model_module": "@jupyter-widgets/controls",
       "_model_module_version": "1.5.0",
       "_model_name": "VBoxModel",
       "_view_count": null,
       "_view_module": "@jupyter-widgets/controls",
       "_view_module_version": "1.5.0",
       "_view_name": "VBoxView",
       "box_style": "",
       "children": [
        "IPY_MODEL_a06e8b2139cd443496ac5ab01d95b33d",
        "IPY_MODEL_2b50a566a7ad4c6a9f1517b9ba312269"
       ],
       "layout": "IPY_MODEL_4744ffb4af4d4788ab35c21334614725"
      }
     },
     "0ad793410cdc486891e9d1ea21bd3ac6": {
      "model_module": "@jupyter-widgets/base",
      "model_module_version": "1.2.0",
      "model_name": "LayoutModel",
      "state": {
       "_model_module": "@jupyter-widgets/base",
       "_model_module_version": "1.2.0",
       "_model_name": "LayoutModel",
       "_view_count": null,
       "_view_module": "@jupyter-widgets/base",
       "_view_module_version": "1.2.0",
       "_view_name": "LayoutView",
       "align_content": null,
       "align_items": null,
       "align_self": null,
       "border": null,
       "bottom": null,
       "display": null,
       "flex": null,
       "flex_flow": null,
       "grid_area": null,
       "grid_auto_columns": null,
       "grid_auto_flow": null,
       "grid_auto_rows": null,
       "grid_column": null,
       "grid_gap": null,
       "grid_row": null,
       "grid_template_areas": null,
       "grid_template_columns": null,
       "grid_template_rows": null,
       "height": null,
       "justify_content": null,
       "justify_items": null,
       "left": null,
       "margin": null,
       "max_height": null,
       "max_width": null,
       "min_height": null,
       "min_width": null,
       "object_fit": null,
       "object_position": null,
       "order": null,
       "overflow": null,
       "overflow_x": null,
       "overflow_y": null,
       "padding": null,
       "right": null,
       "top": null,
       "visibility": null,
       "width": null
      }
     },
     "2b50a566a7ad4c6a9f1517b9ba312269": {
      "model_module": "@jupyter-widgets/output",
      "model_module_version": "1.0.0",
      "model_name": "OutputModel",
      "state": {
       "_dom_classes": [],
       "_model_module": "@jupyter-widgets/output",
       "_model_module_version": "1.0.0",
       "_model_name": "OutputModel",
       "_view_count": null,
       "_view_module": "@jupyter-widgets/output",
       "_view_module_version": "1.0.0",
       "_view_name": "OutputView",
       "layout": "IPY_MODEL_5939a3dd72d441cb958559657ffe90a7",
       "msg_id": "",
       "outputs": [
        {
         "data": {
          "text/html": "<img src=\"figures/7/diffuser_cam_grad_recon_9.svg\" style=\"max-height:50vh\"/>",
          "text/plain": "<IPython.core.display.HTML object>"
         },
         "metadata": {},
         "output_type": "display_data"
        }
       ]
      }
     },
     "4744ffb4af4d4788ab35c21334614725": {
      "model_module": "@jupyter-widgets/base",
      "model_module_version": "1.2.0",
      "model_name": "LayoutModel",
      "state": {
       "_model_module": "@jupyter-widgets/base",
       "_model_module_version": "1.2.0",
       "_model_name": "LayoutModel",
       "_view_count": null,
       "_view_module": "@jupyter-widgets/base",
       "_view_module_version": "1.2.0",
       "_view_name": "LayoutView",
       "align_content": null,
       "align_items": null,
       "align_self": null,
       "border": null,
       "bottom": null,
       "display": null,
       "flex": null,
       "flex_flow": null,
       "grid_area": null,
       "grid_auto_columns": null,
       "grid_auto_flow": null,
       "grid_auto_rows": null,
       "grid_column": null,
       "grid_gap": null,
       "grid_row": null,
       "grid_template_areas": null,
       "grid_template_columns": null,
       "grid_template_rows": null,
       "height": null,
       "justify_content": null,
       "justify_items": null,
       "left": null,
       "margin": null,
       "max_height": null,
       "max_width": null,
       "min_height": null,
       "min_width": null,
       "object_fit": null,
       "object_position": null,
       "order": null,
       "overflow": null,
       "overflow_x": null,
       "overflow_y": null,
       "padding": null,
       "right": null,
       "top": null,
       "visibility": null,
       "width": null
      }
     },
     "5939a3dd72d441cb958559657ffe90a7": {
      "model_module": "@jupyter-widgets/base",
      "model_module_version": "1.2.0",
      "model_name": "LayoutModel",
      "state": {
       "_model_module": "@jupyter-widgets/base",
       "_model_module_version": "1.2.0",
       "_model_name": "LayoutModel",
       "_view_count": null,
       "_view_module": "@jupyter-widgets/base",
       "_view_module_version": "1.2.0",
       "_view_name": "LayoutView",
       "align_content": null,
       "align_items": null,
       "align_self": null,
       "border": null,
       "bottom": null,
       "display": null,
       "flex": null,
       "flex_flow": null,
       "grid_area": null,
       "grid_auto_columns": null,
       "grid_auto_flow": null,
       "grid_auto_rows": null,
       "grid_column": null,
       "grid_gap": null,
       "grid_row": null,
       "grid_template_areas": null,
       "grid_template_columns": null,
       "grid_template_rows": null,
       "height": null,
       "justify_content": null,
       "justify_items": null,
       "left": null,
       "margin": null,
       "max_height": null,
       "max_width": null,
       "min_height": null,
       "min_width": null,
       "object_fit": null,
       "object_position": null,
       "order": null,
       "overflow": null,
       "overflow_x": null,
       "overflow_y": null,
       "padding": null,
       "right": null,
       "top": null,
       "visibility": null,
       "width": null
      }
     },
     "6b7f53b0c41e4e43bdf78c42d55448a1": {
      "model_module": "@jupyter-widgets/controls",
      "model_module_version": "1.5.0",
      "model_name": "IntSliderModel",
      "state": {
       "_dom_classes": [],
       "_model_module": "@jupyter-widgets/controls",
       "_model_module_version": "1.5.0",
       "_model_name": "IntSliderModel",
       "_view_count": null,
       "_view_module": "@jupyter-widgets/controls",
       "_view_module_version": "1.5.0",
       "_view_name": "IntSliderView",
       "continuous_update": true,
       "description": "i",
       "description_tooltip": null,
       "disabled": false,
       "layout": "IPY_MODEL_b387ed7b27944fc9893bc8a8eda01d12",
       "max": 9,
       "min": 0,
       "orientation": "horizontal",
       "readout": true,
       "readout_format": "d",
       "step": 1,
       "style": "IPY_MODEL_04b613997cfb443abc8fcdf092551f80",
       "value": 9
      }
     },
     "7fe2b42574954d7ebd125b3e3970d439": {
      "model_module": "@jupyter-widgets/base",
      "model_module_version": "1.2.0",
      "model_name": "LayoutModel",
      "state": {
       "_model_module": "@jupyter-widgets/base",
       "_model_module_version": "1.2.0",
       "_model_name": "LayoutModel",
       "_view_count": null,
       "_view_module": "@jupyter-widgets/base",
       "_view_module_version": "1.2.0",
       "_view_name": "LayoutView",
       "align_content": null,
       "align_items": null,
       "align_self": null,
       "border": null,
       "bottom": null,
       "display": null,
       "flex": null,
       "flex_flow": null,
       "grid_area": null,
       "grid_auto_columns": null,
       "grid_auto_flow": null,
       "grid_auto_rows": null,
       "grid_column": null,
       "grid_gap": null,
       "grid_row": null,
       "grid_template_areas": null,
       "grid_template_columns": null,
       "grid_template_rows": null,
       "height": null,
       "justify_content": null,
       "justify_items": null,
       "left": null,
       "margin": null,
       "max_height": null,
       "max_width": null,
       "min_height": null,
       "min_width": null,
       "object_fit": null,
       "object_position": null,
       "order": null,
       "overflow": null,
       "overflow_x": null,
       "overflow_y": null,
       "padding": null,
       "right": null,
       "top": null,
       "visibility": null,
       "width": null
      }
     },
     "9d7d73da387e41e39b7e98bd9cdaaf10": {
      "model_module": "@jupyter-widgets/controls",
      "model_module_version": "1.5.0",
      "model_name": "SliderStyleModel",
      "state": {
       "_model_module": "@jupyter-widgets/controls",
       "_model_module_version": "1.5.0",
       "_model_name": "SliderStyleModel",
       "_view_count": null,
       "_view_module": "@jupyter-widgets/base",
       "_view_module_version": "1.2.0",
       "_view_name": "StyleView",
       "description_width": "",
       "handle_color": null
      }
     },
     "a06e8b2139cd443496ac5ab01d95b33d": {
      "model_module": "@jupyter-widgets/controls",
      "model_module_version": "1.5.0",
      "model_name": "IntSliderModel",
      "state": {
       "_dom_classes": [],
       "_model_module": "@jupyter-widgets/controls",
       "_model_module_version": "1.5.0",
       "_model_name": "IntSliderModel",
       "_view_count": null,
       "_view_module": "@jupyter-widgets/controls",
       "_view_module_version": "1.5.0",
       "_view_name": "IntSliderView",
       "continuous_update": true,
       "description": "i",
       "description_tooltip": null,
       "disabled": false,
       "layout": "IPY_MODEL_0ad793410cdc486891e9d1ea21bd3ac6",
       "max": 9,
       "min": 0,
       "orientation": "horizontal",
       "readout": true,
       "readout_format": "d",
       "step": 1,
       "style": "IPY_MODEL_9d7d73da387e41e39b7e98bd9cdaaf10",
       "value": 9
      }
     },
     "a6443a12299d442d88fbeade36c42bb0": {
      "model_module": "@jupyter-widgets/base",
      "model_module_version": "1.2.0",
      "model_name": "LayoutModel",
      "state": {
       "_model_module": "@jupyter-widgets/base",
       "_model_module_version": "1.2.0",
       "_model_name": "LayoutModel",
       "_view_count": null,
       "_view_module": "@jupyter-widgets/base",
       "_view_module_version": "1.2.0",
       "_view_name": "LayoutView",
       "align_content": null,
       "align_items": null,
       "align_self": null,
       "border": null,
       "bottom": null,
       "display": null,
       "flex": null,
       "flex_flow": null,
       "grid_area": null,
       "grid_auto_columns": null,
       "grid_auto_flow": null,
       "grid_auto_rows": null,
       "grid_column": null,
       "grid_gap": null,
       "grid_row": null,
       "grid_template_areas": null,
       "grid_template_columns": null,
       "grid_template_rows": null,
       "height": null,
       "justify_content": null,
       "justify_items": null,
       "left": null,
       "margin": null,
       "max_height": null,
       "max_width": null,
       "min_height": null,
       "min_width": null,
       "object_fit": null,
       "object_position": null,
       "order": null,
       "overflow": null,
       "overflow_x": null,
       "overflow_y": null,
       "padding": null,
       "right": null,
       "top": null,
       "visibility": null,
       "width": null
      }
     },
     "b387ed7b27944fc9893bc8a8eda01d12": {
      "model_module": "@jupyter-widgets/base",
      "model_module_version": "1.2.0",
      "model_name": "LayoutModel",
      "state": {
       "_model_module": "@jupyter-widgets/base",
       "_model_module_version": "1.2.0",
       "_model_name": "LayoutModel",
       "_view_count": null,
       "_view_module": "@jupyter-widgets/base",
       "_view_module_version": "1.2.0",
       "_view_name": "LayoutView",
       "align_content": null,
       "align_items": null,
       "align_self": null,
       "border": null,
       "bottom": null,
       "display": null,
       "flex": null,
       "flex_flow": null,
       "grid_area": null,
       "grid_auto_columns": null,
       "grid_auto_flow": null,
       "grid_auto_rows": null,
       "grid_column": null,
       "grid_gap": null,
       "grid_row": null,
       "grid_template_areas": null,
       "grid_template_columns": null,
       "grid_template_rows": null,
       "height": null,
       "justify_content": null,
       "justify_items": null,
       "left": null,
       "margin": null,
       "max_height": null,
       "max_width": null,
       "min_height": null,
       "min_width": null,
       "object_fit": null,
       "object_position": null,
       "order": null,
       "overflow": null,
       "overflow_x": null,
       "overflow_y": null,
       "padding": null,
       "right": null,
       "top": null,
       "visibility": null,
       "width": null
      }
     },
     "f765a1183a934621a507084f6da8119e": {
      "model_module": "@jupyter-widgets/output",
      "model_module_version": "1.0.0",
      "model_name": "OutputModel",
      "state": {
       "_dom_classes": [],
       "_model_module": "@jupyter-widgets/output",
       "_model_module_version": "1.0.0",
       "_model_name": "OutputModel",
       "_view_count": null,
       "_view_module": "@jupyter-widgets/output",
       "_view_module_version": "1.0.0",
       "_view_name": "OutputView",
       "layout": "IPY_MODEL_7fe2b42574954d7ebd125b3e3970d439",
       "msg_id": "",
       "outputs": [
        {
         "data": {
          "text/html": "<img src=\"figures/7/diffuser_cam_ADMM_recon_9.svg\" style=\"max-height:50vh\"/>",
          "text/plain": "<IPython.core.display.HTML object>"
         },
         "metadata": {},
         "output_type": "display_data"
        }
       ]
      }
     },
     "ff69668f96554e6c940bd3275a6c0b32": {
      "model_module": "@jupyter-widgets/controls",
      "model_module_version": "1.5.0",
      "model_name": "VBoxModel",
      "state": {
       "_dom_classes": [
        "widget-interact"
       ],
       "_model_module": "@jupyter-widgets/controls",
       "_model_module_version": "1.5.0",
       "_model_name": "VBoxModel",
       "_view_count": null,
       "_view_module": "@jupyter-widgets/controls",
       "_view_module_version": "1.5.0",
       "_view_name": "VBoxView",
       "box_style": "",
       "children": [
        "IPY_MODEL_6b7f53b0c41e4e43bdf78c42d55448a1",
        "IPY_MODEL_f765a1183a934621a507084f6da8119e"
       ],
       "layout": "IPY_MODEL_a6443a12299d442d88fbeade36c42bb0"
      }
     }
    },
    "version_major": 2,
    "version_minor": 0
   }
  }
 },
 "nbformat": 4,
 "nbformat_minor": 5
}