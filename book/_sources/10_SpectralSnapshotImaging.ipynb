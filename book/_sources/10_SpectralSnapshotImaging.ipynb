{
 "cells": [
  {
   "cell_type": "code",
   "execution_count": 1,
   "id": "bf51382b",
   "metadata": {
    "init_cell": true,
    "tags": [
     "remove-cell"
    ]
   },
   "outputs": [
    {
     "data": {
      "application/javascript": [
       "var cells = Jupyter.notebook.get_cells();\n",
       "           for (var i = 0; i < cells.length; i++) {\n",
       "               var cur_cell = cells[i];\n",
       "               var tags = cur_cell._metadata.tags;\n",
       "               console.log(i);\n",
       "               console.log(tags == undefined);\n",
       "               console.log(tags);\n",
       "               if (tags != undefined) {\n",
       "               for (var j = 0; j < tags.length; j++) {\n",
       "                  if (tags[j]==\"book_only\" | tags[j]==\"remove-cell\") {cur_cell.element.hide();}}\n",
       "               for (var j = 0; j < tags.length; j++) {\n",
       "                   if (tags[j]==\"presentation_only\") {cur_cell.element.show();}}\n",
       "            }}\n"
      ],
      "text/plain": [
       "<IPython.core.display.Javascript object>"
      ]
     },
     "metadata": {},
     "output_type": "display_data"
    }
   ],
   "source": [
    "%%js\n",
    "var cells = Jupyter.notebook.get_cells();\n",
    "           for (var i = 0; i < cells.length; i++) {\n",
    "               var cur_cell = cells[i];\n",
    "               var tags = cur_cell._metadata.tags;\n",
    "               console.log(i);\n",
    "               console.log(tags == undefined);\n",
    "               console.log(tags);\n",
    "               if (tags != undefined) {\n",
    "               for (var j = 0; j < tags.length; j++) {\n",
    "                  if (tags[j]==\"book_only\" | tags[j]==\"remove-cell\") {cur_cell.element.hide();}}\n",
    "               for (var j = 0; j < tags.length; j++) {\n",
    "                   if (tags[j]==\"presentation_only\") {cur_cell.element.show();}}\n",
    "            }}"
   ]
  },
  {
   "cell_type": "code",
   "execution_count": 2,
   "id": "af2ac39e",
   "metadata": {
    "init_cell": true,
    "slideshow": {
     "slide_type": "notes"
    },
    "tags": [
     "remove-cell"
    ]
   },
   "outputs": [
    {
     "name": "stderr",
     "output_type": "stream",
     "text": [
      "C:\\Users\\meyjoh\\repos\\vlcompimg\\compimg\\lib\\site-packages\\scipy\\__init__.py:138: UserWarning: A NumPy version >=1.16.5 and <1.23.0 is required for this version of SciPy (detected version 1.23.4)\n",
      "  warnings.warn(f\"A NumPy version >={np_minversion} and <{np_maxversion} is required for this version of \"\n"
     ]
    }
   ],
   "source": [
    "from __future__ import print_function\n",
    "from ipywidgets import interact, interactive, fixed, interact_manual\n",
    "import ipywidgets as widgets\n",
    "import numpy as np\n",
    "import matplotlib.pyplot as plt\n",
    "import cv2\n",
    "import scipy.signal as sig\n",
    "from scipy.integrate import simpson\n",
    "from IPython.display import SVG, display, IFrame, HTML\n",
    "import seaborn as sns\n",
    "import torch\n",
    "from scipy import ndimage\n",
    "from scipy import misc\n",
    "%matplotlib notebook\n",
    "book = False"
   ]
  },
  {
   "cell_type": "code",
   "execution_count": 3,
   "id": "86ff7cca",
   "metadata": {
    "tags": [
     "remove-cell"
    ]
   },
   "outputs": [],
   "source": [
    "%matplotlib inline\n",
    "book = True"
   ]
  },
  {
   "cell_type": "code",
   "execution_count": 4,
   "id": "6f081f23",
   "metadata": {
    "init_cell": true,
    "tags": [
     "remove-cell"
    ]
   },
   "outputs": [
    {
     "data": {
      "application/javascript": [
       "MathJax.Hub.Config({\n",
       "    TeX: { equationNumbers: { autoNumber: \"AMS\" } }\n",
       "});\n"
      ],
      "text/plain": [
       "<IPython.core.display.Javascript object>"
      ]
     },
     "metadata": {},
     "output_type": "display_data"
    }
   ],
   "source": [
    "%%javascript\n",
    "MathJax.Hub.Config({\n",
    "    TeX: { equationNumbers: { autoNumber: \"AMS\" } }\n",
    "});"
   ]
  },
  {
   "cell_type": "code",
   "execution_count": 5,
   "id": "06557f9a",
   "metadata": {
    "init_cell": true,
    "tags": [
     "remove-cell"
    ]
   },
   "outputs": [
    {
     "data": {
      "application/javascript": [
       "\n",
       "MathJax.Hub.Queue(\n",
       "  [\"resetEquationNumbers\", MathJax.InputJax.TeX],\n",
       "  [\"PreProcess\", MathJax.Hub],\n",
       "  [\"Reprocess\", MathJax.Hub]\n",
       ");\n"
      ],
      "text/plain": [
       "<IPython.core.display.Javascript object>"
      ]
     },
     "metadata": {},
     "output_type": "display_data"
    }
   ],
   "source": [
    "%%javascript\n",
    "\n",
    "MathJax.Hub.Queue(\n",
    "  [\"resetEquationNumbers\", MathJax.InputJax.TeX],\n",
    "  [\"PreProcess\", MathJax.Hub],\n",
    "  [\"Reprocess\", MathJax.Hub]\n",
    ");"
   ]
  },
  {
   "cell_type": "code",
   "execution_count": 6,
   "id": "a7cf96c9",
   "metadata": {
    "init_cell": true,
    "tags": [
     "remove-cell"
    ]
   },
   "outputs": [],
   "source": [
    "def showFig(path,i,ending, width, height):\n",
    "    filename = path+str(i)+ending\n",
    "    return HTML(\"<img src=\\\"\" + filename +  f\"\\\" style=\\\"max-height:{height}vh\\\"/>\")"
   ]
  },
  {
   "cell_type": "code",
   "execution_count": 7,
   "id": "258fee21",
   "metadata": {
    "init_cell": true,
    "tags": [
     "remove-cell"
    ]
   },
   "outputs": [],
   "source": [
    "def showFig2(path,i,ending, width, height):\n",
    "    imgToShow = plt.imread(f\"{path}{i}{ending}\")\n",
    "    plt.imshow(imgToShow)"
   ]
  },
  {
   "cell_type": "code",
   "execution_count": 8,
   "id": "96986d27",
   "metadata": {
    "init_cell": true,
    "tags": [
     "remove-cell"
    ]
   },
   "outputs": [],
   "source": [
    "def imshow(img, cmap=None):\n",
    "    plt.close('all')\n",
    "    plt.figure()\n",
    "    plt.imshow(img, cmap=cmap)\n",
    "    plt.show()"
   ]
  },
  {
   "cell_type": "code",
   "execution_count": 9,
   "id": "713c52ae",
   "metadata": {
    "init_cell": true,
    "tags": [
     "remove-cell"
    ]
   },
   "outputs": [],
   "source": [
    "def imshow2(img, cmap=None):\n",
    "    #plt.close('all')\n",
    "    #plt.figure()\n",
    "    plt.clf()\n",
    "    plt.imshow(img, cmap=cmap)\n",
    "    #plt.show()"
   ]
  },
  {
   "cell_type": "markdown",
   "id": "d81b0651",
   "metadata": {
    "slideshow": {
     "slide_type": "slide"
    }
   },
   "source": [
    "$\\begin{align}\n",
    "  \\newcommand{transp}{^\\intercal}\n",
    "  \\newcommand{F}{\\mathcal{F}}\n",
    "  \\newcommand{Fi}{\\mathcal{F}^{-1}}\n",
    "  \\newcommand{inv}{^{-1}}\n",
    "  \\newcommand{stochvec}[1]{\\mathbf{\\tilde{#1}}}\n",
    "  \\newcommand{argmax}[1]{\\underset{#1}{\\mathrm{arg\\, max}}\\,}\n",
    "  \\newcommand{argmin}[1]{\\underset{#1}{\\mathrm{arg\\, min}}\\,}\n",
    "\\end{align}$\n",
    "\n",
    "<font size=\"7\"> Computational Imaging </font><br><br><br>"
   ]
  },
  {
   "cell_type": "markdown",
   "id": "1579b6dc",
   "metadata": {
    "slideshow": {
     "slide_type": "-"
    }
   },
   "source": [
    "# Coded Aperture Spectral Snapshot Imaging"
   ]
  },
  {
   "cell_type": "markdown",
   "id": "6ce76515",
   "metadata": {
    "slideshow": {
     "slide_type": "subslide"
    }
   },
   "source": [
    "##### Content\n",
    "* Introduction\n",
    "* Conventional RGB-camera\n",
    "* Popular CASSI architectures"
   ]
  },
  {
   "cell_type": "markdown",
   "id": "6ef7343f",
   "metadata": {
    "slideshow": {
     "slide_type": "slide"
    }
   },
   "source": [
    "## Introduction"
   ]
  },
  {
   "cell_type": "markdown",
   "id": "66c0d5e6",
   "metadata": {},
   "source": [
    "Most camera systems capable of capturing color information filter incident light by means of three spectral filters with peaks in the red, green and blue regions of the spectrum. This design has been chosen to mimic the human visual system with the three different cone cells responsible for human perception of color."
   ]
  },
  {
   "cell_type": "markdown",
   "id": "4d630df8",
   "metadata": {
    "slideshow": {
     "slide_type": "fragment"
    }
   },
   "source": [
    "However, for many fields of applications, such as remote sensing, materials science, biophotonics, environmental monitoring, smart agriculture or food, a finer sampling of the spectral information can be of utter importance."
   ]
  },
  {
   "cell_type": "markdown",
   "id": "1a62e54a",
   "metadata": {
    "slideshow": {
     "slide_type": "subslide"
    }
   },
   "source": [
    "Simultaneously capturing high-resolution spatial and spectral information within the classical Nyquist-Shannon sampling regime is currently only possible by performing time-multiplexed measurements. \n",
    "\n",
    "Typical classical sensor concepts for capturing spectral information are \n",
    "* point spectrometers,\n",
    "* hyperspectral line scan cameras and\n",
    "* multispectral color filter cameras."
   ]
  },
  {
   "cell_type": "markdown",
   "id": "51375ec0",
   "metadata": {
    "slideshow": {
     "slide_type": "subslide"
    }
   },
   "source": [
    "**Point spectrometers** and **hyperspectral line scan cameras** use prisms or diffraction gratings to map the spectral dimension of the incident light onto a spatial dimension by exploiting the fact that prisms and gratings transmit light with different angles depending on its wavelength.\n",
    "\n",
    "The resulting spectrally decomposed light is then captured by a sensor oriented in such a way so that one of its spatial coordinates encodes the wavelength of the incident light."
   ]
  },
  {
   "cell_type": "markdown",
   "id": "6dd9fa6e",
   "metadata": {
    "slideshow": {
     "slide_type": "fragment"
    }
   },
   "source": [
    "Point spectrometers capture the spectrum of a single measurement point whereas hyperspectral line scan cameras retain one dimension of the sensor for spatial information so that the spectrum of a line in the measurement field can be acquired."
   ]
  },
  {
   "cell_type": "markdown",
   "id": "33800435",
   "metadata": {
    "slideshow": {
     "slide_type": "subslide"
    }
   },
   "source": [
    "**Multispectral cameras** sacrifice spatial resolution to gain some spectral resolution by employing larger filter arrays, e.g., $5 \\times 5$, similar to the red, green and blue filters of common color cameras."
   ]
  },
  {
   "cell_type": "markdown",
   "id": "37dfad81",
   "metadata": {
    "slideshow": {
     "slide_type": "subslide"
    }
   },
   "source": [
    "So-called **coded aperture spectral snapshot imaging (CASSI) cameras** use computational imaging methods to undersample the high-dimensional spatio-spectral data and then computationally reconstruct the sought data by incorporating suitable prior information (i.e., regularizers). \n",
    "\n",
    "They are called *snapshot* imaging systems, as they only require to capture a single measurement (i.e., a single image)."
   ]
  },
  {
   "cell_type": "markdown",
   "id": "23f22948",
   "metadata": {
    "slideshow": {
     "slide_type": "fragment"
    }
   },
   "source": [
    "Typical CASSI setups modulate the image formation process in two ways: they spatially modulate the amplitude via binary coded aperture masks and they shear the image with respect to the present wavelengths via prisms or diffraction gratings."
   ]
  },
  {
   "cell_type": "markdown",
   "id": "6367acbe",
   "metadata": {
    "slideshow": {
     "slide_type": "slide"
    }
   },
   "source": [
    "## Conventional RGB-camera"
   ]
  },
  {
   "cell_type": "markdown",
   "id": "c3fae50c",
   "metadata": {
    "slideshow": {
     "slide_type": "subslide"
    }
   },
   "source": [
    "The following figure shows the sampling scheme of a conventional RGB-camera for a single spatial coordinate $x$ and the spectral coordinate $\\lambda$:\n",
    "\n",
    "<img src=\"figures/10/sampling_rgb_camera.svg\" style=\"max-height:40vh\">"
   ]
  },
  {
   "cell_type": "markdown",
   "id": "67c65783",
   "metadata": {
    "slideshow": {
     "slide_type": "subslide"
    }
   },
   "source": [
    "The modulation is performed by the RGB Bayer filter pattern on the sensor and the projection along the spectral dimension is performed by the sensor elements which integrate over the modulated spectra."
   ]
  },
  {
   "cell_type": "markdown",
   "id": "9164c5e0",
   "metadata": {
    "slideshow": {
     "slide_type": "subslide"
    }
   },
   "source": [
    "Let $\\mathbf{X}\\in\\mathbb{R}^{S\\times N}$ contain the spectra with length $S$ as columns for each of the $N$ spatial positions and let $\\mathbf{x}\\in \\mathbb{R} ^{S\\cdot N}$ denote its vectorized form."
   ]
  },
  {
   "cell_type": "markdown",
   "id": "e15221e1",
   "metadata": {
    "slideshow": {
     "slide_type": "fragment"
    }
   },
   "source": [
    "The modulation can be modeled via a diagonal matrix $\\mathrm{diag}(\\mathbf{p})\\in \\mathbb{R} ^{S\\cdot N \\times S\\cdot N}$ with the modulation pattern $\\mathbf{p}\\in \\mathbb{R}^{S\\cdot N} $ containing the spectral filter coefficients for every spatial and spectral sampling point."
   ]
  },
  {
   "cell_type": "markdown",
   "id": "761cee37",
   "metadata": {
    "slideshow": {
     "slide_type": "fragment"
    }
   },
   "source": [
    "The modulated spectra are then given by $\\mathrm{diag}(\\mathbf{p})\\mathbf{x}$."
   ]
  },
  {
   "cell_type": "markdown",
   "id": "d5f30335",
   "metadata": {
    "slideshow": {
     "slide_type": "fragment"
    }
   },
   "source": [
    "The projection along the spectral dimension can be modeled via a matrix $\\boldsymbol{\\Sigma}\\in \\mathbb{R} ^{N\\times S\\cdot N}$ containing blocks of ones of length $S$ in every row that are shifted by $S$ from row to row."
   ]
  },
  {
   "cell_type": "markdown",
   "id": "1c04b65e",
   "metadata": {
    "slideshow": {
     "slide_type": "fragment"
    }
   },
   "source": [
    "Hence, the overall forward model is given by:\n",
    "\n",
    "$\\begin{align} \n",
    "   \\mathbf{y} &= \\underbrace{\\boldsymbol{\\Sigma} \\mathrm{diag}(\\mathbf{p})}_{=:\\mathbf{A}} \\mathbf{x} \\\\\n",
    "   &= \\mathbf{Ax} \\,.\n",
    "\\end{align}$"
   ]
  },
  {
   "cell_type": "markdown",
   "id": "05101459",
   "metadata": {
    "slideshow": {
     "slide_type": "slide"
    }
   },
   "source": [
    "## Popular CASSI architectures"
   ]
  },
  {
   "cell_type": "markdown",
   "id": "c92961ae",
   "metadata": {
    "slideshow": {
     "slide_type": "-"
    }
   },
   "source": [
    "Fully sampling the spatio-spectral data even with temporal resolution is (currently) infeasible although because of the huge amount of data that would have to be processed and stored:\n",
    "\n",
    "A single second of uncompressed hyperspectral video with 60 spectral bands and 1 megapixel spatial resolution yields about 2 GB data."
   ]
  },
  {
   "cell_type": "markdown",
   "id": "a95badf6",
   "metadata": {
    "slideshow": {
     "slide_type": "fragment"
    }
   },
   "source": [
    "In the following we will study several undersampling CASSI architectures which greatly reduce the necessary amount of data that has to be captured and we will derive the corresponding image formation forward models."
   ]
  },
  {
   "cell_type": "markdown",
   "id": "be4fa818",
   "metadata": {
    "slideshow": {
     "slide_type": "subslide"
    }
   },
   "source": [
    "### Prism-mask video imaging spectrometry (PMVIS)"
   ]
  },
  {
   "cell_type": "markdown",
   "id": "a4eeea02",
   "metadata": {
    "slideshow": {
     "slide_type": "subslide"
    }
   },
   "source": [
    "The sampling scheme of a PMVIS system is shown in the following Figure:"
   ]
  },
  {
   "cell_type": "markdown",
   "id": "00cc2a77",
   "metadata": {},
   "source": [
    "<img src=\"figures/10/sampling_pmvis.svg\" style=\"max-height:40vh\">"
   ]
  },
  {
   "cell_type": "markdown",
   "id": "35760a41",
   "metadata": {
    "slideshow": {
     "slide_type": "subslide"
    }
   },
   "source": [
    "The incident light is first spatially modulated by an aperture mask with uniformly spaced holes.\n",
    "\n",
    "The transmitted light is then sheared by a prism and integrated by the sensor.\n",
    "\n",
    "The spatial shearing and the position of the holes in the aperture mask are adjusted with respect to each other so that there is no overlap on the sensor."
   ]
  },
  {
   "cell_type": "markdown",
   "id": "b0c41359",
   "metadata": {
    "slideshow": {
     "slide_type": "subslide"
    }
   },
   "source": [
    "Again, $\\mathbf{x} \\in \\mathbb{R} ^{S\\cdot N}$ represents the vector form of $\\mathbf{X} \\in \\mathbb{R}^ {N \\times S}$."
   ]
  },
  {
   "cell_type": "markdown",
   "id": "51f0555a",
   "metadata": {
    "slideshow": {
     "slide_type": "fragment"
    }
   },
   "source": [
    "Let $\\mathbf{p} \\in \\mathbb{R} ^{S\\cdot N}$ denote the spatial modulation pattern (which has blocks of ones of length $S$ for every spatial position that should not be blocked)."
   ]
  },
  {
   "cell_type": "markdown",
   "id": "cf202fa3",
   "metadata": {
    "slideshow": {
     "slide_type": "fragment"
    }
   },
   "source": [
    "Then, the result of the modulation is given by $\\mathrm{diag}(\\mathbf{p})\\mathbf{x}$."
   ]
  },
  {
   "cell_type": "markdown",
   "id": "685fbb0a",
   "metadata": {
    "slideshow": {
     "slide_type": "fragment"
    }
   },
   "source": [
    "The spatial, spectrally dependent shearing can be modeled via a matrix $\\mathbf{T}^{(S\\cdot N + \\xi) \\times (S\\cdot N)}$, with $\\xi = S(S-1)$ denoting the number of zeros which have to be added."
   ]
  },
  {
   "cell_type": "markdown",
   "id": "c2b1dc37",
   "metadata": {
    "slideshow": {
     "slide_type": "fragment"
    }
   },
   "source": [
    "The projection can be represented by a matrix $\\boldsymbol{\\Sigma} \\in \\mathbb{R} ^{(N + S - 1) \\times (S\\cdot N + \\xi)}$ which selects the elements of sheared data vector that should be combined to finally yield the measurement $\\mathbf{y} \\in \\mathbb{R} ^{N+S-1}$."
   ]
  },
  {
   "cell_type": "markdown",
   "id": "65c585ff",
   "metadata": {
    "slideshow": {
     "slide_type": "fragment"
    }
   },
   "source": [
    "Hence, the overall forward model is given by:\n",
    "\n",
    "$\\begin{align} \n",
    "   \\mathbf{y} &= \\underbrace{\\boldsymbol{\\Sigma}\\mathbf{T}\\mathrm{diag}(\\mathbf{p})}_{=:\\mathbf{A}}\\mathbf{x} \\\\\n",
    "    &= \\mathbf{Ax} \\,.\n",
    "\\end{align}$"
   ]
  },
  {
   "cell_type": "markdown",
   "id": "38ecb454",
   "metadata": {
    "slideshow": {
     "slide_type": "subslide"
    }
   },
   "source": [
    "Due to the non-overlapping organization of the sheared spectral information, there is a known correspondence between spatial positions on the sensor and spectral bands and spatial sampling positions. \n",
    "\n",
    "Hence, no special reconstruction algorithms have to be used. \n",
    "\n",
    "However, this comes at the cost of reduced spatial resolution."
   ]
  },
  {
   "cell_type": "markdown",
   "id": "dc898e59",
   "metadata": {
    "slideshow": {
     "slide_type": "subslide"
    }
   },
   "source": [
    "Details about the optical setup and resulting images can be found in the publication [A Prism-Mask System for Multispectral Video Acquisition](https://ieeexplore.ieee.org/abstract/document/5765987) by Xun Cao et al.."
   ]
  },
  {
   "cell_type": "markdown",
   "id": "a8ead3f3",
   "metadata": {
    "slideshow": {
     "slide_type": "subslide"
    }
   },
   "source": [
    "### Single dispersive coded aperture snapshot imaging (SD-CASSI)"
   ]
  },
  {
   "cell_type": "markdown",
   "id": "2acbbaba",
   "metadata": {
    "slideshow": {
     "slide_type": "subslide"
    }
   },
   "source": [
    "The sampling scheme of a SD-CASSI system is shown in the following Figure:"
   ]
  },
  {
   "cell_type": "markdown",
   "id": "54a4126d",
   "metadata": {},
   "source": [
    "<img src=\"figures/10/sampling_sd_cassi.svg\" style=\"max-height:40vh\">"
   ]
  },
  {
   "cell_type": "markdown",
   "id": "57e632e6",
   "metadata": {
    "slideshow": {
     "slide_type": "subslide"
    }
   },
   "source": [
    "The sampling scheme of SD-CASSI is quite similar to PMVIS, however, in SD-CASSI the modulation pattern does not lead to spatially separated patterns after the dispersion. \n",
    "\n",
    "Hence, no spatial resolution is sacrificed but a suitable reconstruction algorithm has to be employed to obtain the sought spatio-spectral data."
   ]
  },
  {
   "cell_type": "markdown",
   "id": "7c714e83",
   "metadata": {
    "slideshow": {
     "slide_type": "subslide"
    }
   },
   "source": [
    "The forward model is the same as for PMVIS:\n",
    "\n",
    "$\\begin{align} \n",
    "  \\mathbf{y} &= \\underbrace{\\boldsymbol{\\Sigma}\\mathbf{T}\\mathrm{diag}(\\mathbf{p})}_{=:\\mathbf{A}}\\mathbf{x} \\\\\n",
    "   &= \\mathbf{Ax} \\,,\n",
    "\\end{align}$\n",
    "\n",
    "with the modulation pattern $\\mathbf{p}$, the shearing operator $\\mathbf{T}$ and the projection matrix $\\boldsymbol{\\Sigma}$."
   ]
  },
  {
   "cell_type": "markdown",
   "id": "9cee84a7",
   "metadata": {
    "slideshow": {
     "slide_type": "fragment"
    }
   },
   "source": [
    "To obtain an estimate of the sought data $\\mathbf{x}$, a suitable reconstruction algorithm with adequate regularization has to be employed."
   ]
  },
  {
   "cell_type": "markdown",
   "id": "7dbf5cae",
   "metadata": {
    "slideshow": {
     "slide_type": "subslide"
    }
   },
   "source": [
    "Details about the optical setup and resulting images can be found in the publication [Single disperser design for coded aperture snapshot spectral imaging](https://doi.org/10.1364/AO.47.000B44) by Ashwin Wagadarikar et al.."
   ]
  },
  {
   "cell_type": "markdown",
   "id": "fb7694d4",
   "metadata": {
    "slideshow": {
     "slide_type": "subslide"
    }
   },
   "source": [
    "### Dual dispersive coded aperture snapshot imaging (DD-CASSI)"
   ]
  },
  {
   "cell_type": "markdown",
   "id": "472c8138",
   "metadata": {
    "slideshow": {
     "slide_type": "subslide"
    }
   },
   "source": [
    "The sampling scheme of a DD-CASSI system is shown in the following Figure:"
   ]
  },
  {
   "cell_type": "markdown",
   "id": "eeb678e6",
   "metadata": {},
   "source": [
    "<img src=\"figures/10/sampling_dd_cassi.svg\" style=\"max-height:40vh\">"
   ]
  },
  {
   "cell_type": "markdown",
   "id": "08baf8e3",
   "metadata": {
    "slideshow": {
     "slide_type": "subslide"
    }
   },
   "source": [
    "Here, the incident spectrum is sheared, then modulated with a spatial binary pattern and then inversely sheared so that the individual spectral components are arranged back to their original correspondent spatial location. \n",
    "\n",
    "The resulting spatio-spectral distribution is then integrated along the spectral domain by the sensor.\n",
    "\n",
    "This approach has the benefit that the image recorded by the sensor is not spatially blurred as for SD-CASSI."
   ]
  },
  {
   "cell_type": "markdown",
   "id": "48914a2b",
   "metadata": {
    "slideshow": {
     "slide_type": "subslide"
    }
   },
   "source": [
    "The forward model can be formalized as:\n",
    "\n",
    "$\\begin{align} \n",
    "  \\mathbf{y} &= \\underbrace{\\boldsymbol{\\Sigma}\\mathbf{T}\\transp\\mathrm{diag}(\\mathbf{p})\\mathbf{T}}_{=:\\mathbf{A}}\\mathbf{x} \\\\\n",
    "  &= \\mathbf{Ax} \\,,\n",
    "\\end{align}$\n",
    "\n",
    "with the modulation pattern $\\mathbf{p}$, the shearing operator $\\mathbf{T}$, the transposed, i.e., inverse shearing operator $\\mathbf{T}\\transp$ and the projection matrix $\\boldsymbol{\\Sigma}$."
   ]
  },
  {
   "cell_type": "markdown",
   "id": "085511d9",
   "metadata": {
    "slideshow": {
     "slide_type": "subslide"
    }
   },
   "source": [
    "Since the successive operations of shearing, modulation, inverse shearing is nothing else than applying a spatially and spectrally varying modulation to the input spatio-spectral data, the forward model can be written more compactly as:\n",
    "\n",
    "$\\begin{align} \n",
    "   \\mathbf{y} = \\underbrace{\\boldsymbol{\\Sigma}\\mathrm{diag}(\\mathbf{\\tilde{T}p})}_{=:\\mathbf{A}}\\mathbf{x}\\,,\n",
    "\\end{align}$\n",
    "\n",
    "with $\\mathbf{\\tilde{T}}$ representing the shearing operator that, when applied to the modulation pattern vector $\\mathbf{p}$, leads to the same modulation of the input data as the operators $\\mathbf{T}\\transp\\mathrm{diag}(\\mathbf{p})\\mathbf{T}$."
   ]
  },
  {
   "cell_type": "markdown",
   "id": "102531f0",
   "metadata": {
    "slideshow": {
     "slide_type": "subslide"
    }
   },
   "source": [
    "Details about the optical setup and resulting images can be found in the publication [Single-shot compressive spectral imaging with a dual-disperser architecture](https://opg.optica.org/oe/fulltext.cfm?uri=oe-15-21-14013) by M. E. Gehm et al.."
   ]
  }
 ],
 "metadata": {
  "jupytext": {
   "formats": "ipynb,md:myst",
   "text_representation": {
    "extension": ".md",
    "format_name": "myst",
    "format_version": 0.13,
    "jupytext_version": "1.14.1"
   }
  },
  "kernelspec": {
   "display_name": "compimg",
   "language": "python",
   "name": "compimg"
  },
  "language_info": {
   "codemirror_mode": {
    "name": "ipython",
    "version": 3
   },
   "file_extension": ".py",
   "mimetype": "text/x-python",
   "name": "python",
   "nbconvert_exporter": "python",
   "pygments_lexer": "ipython3",
   "version": "3.8.10"
  },
  "source_map": [
   15,
   35,
   59,
   66,
   76,
   89,
   98,
   107,
   118,
   130,
   144,
   148,
   155,
   159,
   163,
   167,
   176,
   182,
   186,
   190,
   196,
   200,
   204,
   210,
   214,
   218,
   222,
   226,
   230,
   239,
   243,
   249,
   253,
   257,
   261,
   265,
   273,
   277,
   281,
   285,
   289,
   293,
   302,
   310,
   314,
   318,
   322,
   326,
   332,
   343,
   347,
   351,
   355,
   359,
   363,
   371,
   382,
   392
  ]
 },
 "nbformat": 4,
 "nbformat_minor": 5
}