{
 "cells": [
  {
   "cell_type": "code",
   "execution_count": 1,
   "id": "fd1ad5a5",
   "metadata": {
    "init_cell": true,
    "tags": [
     "remove-cell"
    ]
   },
   "outputs": [
    {
     "data": {
      "application/javascript": [
       "var cells = Jupyter.notebook.get_cells();\n",
       "           for (var i = 0; i < cells.length; i++) {\n",
       "               var cur_cell = cells[i];\n",
       "               var tags = cur_cell._metadata.tags;\n",
       "               console.log(i);\n",
       "               console.log(tags == undefined);\n",
       "               console.log(tags);\n",
       "               if (tags != undefined) {\n",
       "               for (var j = 0; j < tags.length; j++) {\n",
       "                  if (tags[j]==\"book_only\" | tags[j]==\"remove-cell\") {cur_cell.element.hide();}}\n",
       "               for (var j = 0; j < tags.length; j++) {\n",
       "                   if (tags[j]==\"presentation_only\") {cur_cell.element.show();}}\n",
       "            }}\n"
      ],
      "text/plain": [
       "<IPython.core.display.Javascript object>"
      ]
     },
     "metadata": {},
     "output_type": "display_data"
    }
   ],
   "source": [
    "%%js\n",
    "var cells = Jupyter.notebook.get_cells();\n",
    "           for (var i = 0; i < cells.length; i++) {\n",
    "               var cur_cell = cells[i];\n",
    "               var tags = cur_cell._metadata.tags;\n",
    "               console.log(i);\n",
    "               console.log(tags == undefined);\n",
    "               console.log(tags);\n",
    "               if (tags != undefined) {\n",
    "               for (var j = 0; j < tags.length; j++) {\n",
    "                  if (tags[j]==\"book_only\" | tags[j]==\"remove-cell\") {cur_cell.element.hide();}}\n",
    "               for (var j = 0; j < tags.length; j++) {\n",
    "                   if (tags[j]==\"presentation_only\") {cur_cell.element.show();}}\n",
    "            }}"
   ]
  },
  {
   "cell_type": "code",
   "execution_count": 2,
   "id": "bf72cfbf",
   "metadata": {
    "init_cell": true,
    "slideshow": {
     "slide_type": "notes"
    },
    "tags": [
     "remove-cell"
    ]
   },
   "outputs": [
    {
     "name": "stderr",
     "output_type": "stream",
     "text": [
      "C:\\Users\\meyjoh\\repos\\vlcompimg\\compimg\\lib\\site-packages\\scipy\\__init__.py:138: UserWarning: A NumPy version >=1.16.5 and <1.23.0 is required for this version of SciPy (detected version 1.23.4)\n",
      "  warnings.warn(f\"A NumPy version >={np_minversion} and <{np_maxversion} is required for this version of \"\n"
     ]
    }
   ],
   "source": [
    "from __future__ import print_function\n",
    "from ipywidgets import interact, interactive, fixed, interact_manual\n",
    "import ipywidgets as widgets\n",
    "import numpy as np\n",
    "import matplotlib.pyplot as plt\n",
    "import cv2\n",
    "import scipy.signal as sig\n",
    "from scipy.integrate import simpson\n",
    "from IPython.display import SVG, display, IFrame, HTML\n",
    "import seaborn as sns\n",
    "import torch\n",
    "from scipy import ndimage\n",
    "from scipy import misc\n",
    "%matplotlib notebook\n",
    "book = False"
   ]
  },
  {
   "cell_type": "code",
   "execution_count": 3,
   "id": "3ba432f9",
   "metadata": {
    "tags": [
     "remove-cell"
    ]
   },
   "outputs": [],
   "source": [
    "%matplotlib inline\n",
    "book = True"
   ]
  },
  {
   "cell_type": "code",
   "execution_count": 4,
   "id": "9130b170",
   "metadata": {
    "init_cell": true,
    "tags": [
     "remove-cell"
    ]
   },
   "outputs": [
    {
     "data": {
      "application/javascript": [
       "MathJax.Hub.Config({\n",
       "    TeX: { equationNumbers: { autoNumber: \"AMS\" } }\n",
       "});\n"
      ],
      "text/plain": [
       "<IPython.core.display.Javascript object>"
      ]
     },
     "metadata": {},
     "output_type": "display_data"
    }
   ],
   "source": [
    "%%javascript\n",
    "MathJax.Hub.Config({\n",
    "    TeX: { equationNumbers: { autoNumber: \"AMS\" } }\n",
    "});"
   ]
  },
  {
   "cell_type": "code",
   "execution_count": 5,
   "id": "e4901f33",
   "metadata": {
    "init_cell": true,
    "tags": [
     "remove-cell"
    ]
   },
   "outputs": [
    {
     "data": {
      "application/javascript": [
       "\n",
       "MathJax.Hub.Queue(\n",
       "  [\"resetEquationNumbers\", MathJax.InputJax.TeX],\n",
       "  [\"PreProcess\", MathJax.Hub],\n",
       "  [\"Reprocess\", MathJax.Hub]\n",
       ");\n"
      ],
      "text/plain": [
       "<IPython.core.display.Javascript object>"
      ]
     },
     "metadata": {},
     "output_type": "display_data"
    }
   ],
   "source": [
    "%%javascript\n",
    "\n",
    "MathJax.Hub.Queue(\n",
    "  [\"resetEquationNumbers\", MathJax.InputJax.TeX],\n",
    "  [\"PreProcess\", MathJax.Hub],\n",
    "  [\"Reprocess\", MathJax.Hub]\n",
    ");"
   ]
  },
  {
   "cell_type": "code",
   "execution_count": 6,
   "id": "b56e863d",
   "metadata": {
    "init_cell": true,
    "tags": [
     "remove-cell"
    ]
   },
   "outputs": [],
   "source": [
    "def showFig(path,i,ending, width, height):\n",
    "    filename = path+str(i)+ending\n",
    "    return HTML(\"<img src=\\\"\" + filename +  f\"\\\" style=\\\"max-height:{height}vh\\\"/>\")"
   ]
  },
  {
   "cell_type": "code",
   "execution_count": 7,
   "id": "161c929f",
   "metadata": {
    "init_cell": true,
    "tags": [
     "remove-cell"
    ]
   },
   "outputs": [],
   "source": [
    "def showFig2(path,i,ending, width, height):\n",
    "    imgToShow = plt.imread(f\"{path}{i}{ending}\")\n",
    "    plt.imshow(imgToShow)"
   ]
  },
  {
   "cell_type": "code",
   "execution_count": 8,
   "id": "c4dd7d7b",
   "metadata": {
    "init_cell": true,
    "tags": [
     "remove-cell"
    ]
   },
   "outputs": [],
   "source": [
    "def imshow(img, cmap=None):\n",
    "    plt.close('all')\n",
    "    plt.figure()\n",
    "    plt.imshow(img, cmap=cmap)\n",
    "    plt.show()"
   ]
  },
  {
   "cell_type": "code",
   "execution_count": 9,
   "id": "2e596369",
   "metadata": {
    "init_cell": true,
    "tags": [
     "remove-cell"
    ]
   },
   "outputs": [],
   "source": [
    "def imshow2(img, cmap=None):\n",
    "    #plt.close('all')\n",
    "    #plt.figure()\n",
    "    plt.clf()\n",
    "    plt.imshow(img, cmap=cmap)\n",
    "    #plt.show()"
   ]
  },
  {
   "cell_type": "markdown",
   "id": "5b5a072c",
   "metadata": {
    "slideshow": {
     "slide_type": "slide"
    }
   },
   "source": [
    "$\\begin{align}\n",
    "  \\newcommand{transp}{^\\intercal}\n",
    "  \\newcommand{F}{\\mathcal{F}}\n",
    "  \\newcommand{Fi}{\\mathcal{F}^{-1}}\n",
    "  \\newcommand{inv}{^{-1}}\n",
    "  \\newcommand{stochvec}[1]{\\mathbf{\\tilde{#1}}}\n",
    "  \\newcommand{argmax}[1]{\\underset{#1}{\\mathrm{arg\\, max}}\\,}\n",
    "  \\newcommand{argmin}[1]{\\underset{#1}{\\mathrm{arg\\, min}}\\,}\n",
    "\\end{align}$\n",
    "\n",
    "<font size=\"7\"> Computational Imaging </font><br><br><br>"
   ]
  },
  {
   "cell_type": "markdown",
   "id": "febba825",
   "metadata": {
    "slideshow": {
     "slide_type": "-"
    }
   },
   "source": [
    "# Quantitative Phase Imaging"
   ]
  },
  {
   "cell_type": "markdown",
   "id": "1eb4edef",
   "metadata": {
    "slideshow": {
     "slide_type": "subslide"
    }
   },
   "source": [
    "##### Content\n",
    "* Introduction\n",
    "* Optical setup for (quantitative) phase imaging\n",
    "* Forward model\n",
    "* Reconstruction\n",
    "* Optimization of LED pattern via physics-based machine learning"
   ]
  },
  {
   "cell_type": "markdown",
   "id": "aec6c813",
   "metadata": {
    "slideshow": {
     "slide_type": "slide"
    }
   },
   "source": [
    "## Introduction"
   ]
  },
  {
   "cell_type": "markdown",
   "id": "c7f0cce1",
   "metadata": {},
   "source": [
    "Image sensors and the human eye only capture the intensity of incident light but not its phase. This is because both of them yield a mean value of the incident radiance over their respective exposure times."
   ]
  },
  {
   "cell_type": "markdown",
   "id": "4ae1ef74",
   "metadata": {
    "slideshow": {
     "slide_type": "fragment"
    }
   },
   "source": [
    "A phase difference between two light rays is caused when one of the rays passes through a material with a different index of refraction, i.e., a different optical path length."
   ]
  },
  {
   "cell_type": "markdown",
   "id": "8cc226db",
   "metadata": {
    "slideshow": {
     "slide_type": "subslide"
    }
   },
   "source": [
    "In various applications, it can be of great interest to even quantitatively capture phase information of observed objects (i.e., to what extent they affect the optical path length).\n",
    "\n",
    "For example, in biology, so-called *unstained* samples (i.e., which have not been artificially colored)  of different cell types, appear to conventional sensors as a nearly constant bright region without much contrast, although the different cell types have different phase properties.\n",
    "\n",
    "In order to visualize and differentiate the cell types, the phase information has to be (quantitatively) captured or reconstructed."
   ]
  },
  {
   "cell_type": "markdown",
   "id": "ef74247b",
   "metadata": {
    "slideshow": {
     "slide_type": "subslide"
    }
   },
   "source": [
    "The following image shows the same cell type imaged with a traditional bright field setup (left) and with a phase contrast setup (right):\n",
    "\n",
    "<img src=\"figures/9/phase_contrast_example_image.jpg\" style=\"max-height:60vh\">"
   ]
  },
  {
   "cell_type": "markdown",
   "id": "6adde4a0",
   "metadata": {
    "slideshow": {
     "slide_type": "slide"
    }
   },
   "source": [
    "## Optical setup for (quantitative) phase imaging"
   ]
  },
  {
   "cell_type": "markdown",
   "id": "790d8278",
   "metadata": {
    "slideshow": {
     "slide_type": "subslide"
    }
   },
   "source": [
    "A common optical setup for capturing phase information is a so-called $4f$-setup:"
   ]
  },
  {
   "cell_type": "code",
   "execution_count": 10,
   "id": "b41f2f45",
   "metadata": {
    "init_cell": true,
    "slideshow": {
     "slide_type": "subslide"
    }
   },
   "outputs": [
    {
     "data": {
      "application/vnd.jupyter.widget-view+json": {
       "model_id": "bbcc470a98df4674980ae2e110b7a4b5",
       "version_major": 2,
       "version_minor": 0
      },
      "text/plain": [
       "interactive(children=(IntSlider(value=3, description='i', max=3), Output()), _dom_classes=('widget-interact',)…"
      ]
     },
     "metadata": {},
     "output_type": "display_data"
    },
    {
     "data": {
      "text/plain": [
       "<function __main__.<lambda>(i)>"
      ]
     },
     "execution_count": 10,
     "metadata": {},
     "output_type": "execute_result"
    }
   ],
   "source": [
    "interact(lambda i: showFig('figures/9/phase_imaging_opt_setup_',i,'.svg',800,50), i=widgets.IntSlider(min=(min_i:=0),max=(max_i:=3), step=1, value=(max_i if book else min_i)))"
   ]
  },
  {
   "cell_type": "markdown",
   "id": "19781982",
   "metadata": {
    "slideshow": {
     "slide_type": "subslide"
    }
   },
   "source": [
    "* An LED array illuminates the sample from one side. The distance between the LEDs and the sample is large enough so that each LED can be assumed to illuminate the sample with a plane wave oriented according to the relative position of the LED with respect to the optical axis."
   ]
  },
  {
   "cell_type": "markdown",
   "id": "cce096fe",
   "metadata": {
    "slideshow": {
     "slide_type": "fragment"
    }
   },
   "source": [
    "* Lens 1 creates the Fourier transform of the field distribution behind the sample in the Fourier plane."
   ]
  },
  {
   "cell_type": "markdown",
   "id": "e12239e5",
   "metadata": {
    "slideshow": {
     "slide_type": "fragment"
    }
   },
   "source": [
    "* Lens 2 performs an inverse Fourier transform to yield the final image on the sensor."
   ]
  },
  {
   "cell_type": "markdown",
   "id": "b8079b33",
   "metadata": {
    "slideshow": {
     "slide_type": "fragment"
    }
   },
   "source": [
    "* The light of a single LED, i.e., a single plane wave illuminating the sample, is focused to a single point in the Fourier plane.\n",
    "\n",
    "* For multiple illuminating LEDs, the individual plane waves and the corresponding points in the Fourier plane are additively superposed."
   ]
  },
  {
   "cell_type": "markdown",
   "id": "0ee1e490",
   "metadata": {
    "slideshow": {
     "slide_type": "fragment"
    }
   },
   "source": [
    "Controlling the illumination pattern of the LED array allows to somewhat control which parts of the Fourier plane are captured."
   ]
  },
  {
   "cell_type": "markdown",
   "id": "42a696c8",
   "metadata": {
    "slideshow": {
     "slide_type": "subslide"
    }
   },
   "source": [
    "To preserve phase information, illumination patterns have to be employed which do not exhibit any point symmetry in the Fourier plane with respect to the origin.\n",
    "\n",
    "This can be explained by examining the sum of two Fourier terms $G(f), G(-f)$ with point symmetric frequencies $f, -f$ that would be calculated by the inverse Fourier transform. Since $G(-f)=G(f)^*$ one can express $G(f)=(a+bj), G(-f)=G(f)^*=(a-bj)$ and the following happens during inverse Fourier transform:"
   ]
  },
  {
   "cell_type": "markdown",
   "id": "105bd4b0",
   "metadata": {
    "slideshow": {
     "slide_type": "subslide"
    }
   },
   "source": [
    "$\\begin{align} \n",
    "   &= G(f)\\exp ( \\underbrace{j2\\pi f x}_{=:\\alpha} ) + G(-f)\\exp(\\underbrace{-j2\\pi fx}_{-\\alpha}) \\\\\n",
    "   &= (a+bj)\\cdot (\\cos\\alpha + j\\sin \\alpha ) + (a-bj)\\cdot (\\cos \\alpha - j\\sin\\alpha)\\\\\n",
    "   &= (a\\cos\\alpha - b\\sin\\alpha) + j(a\\sin\\alpha +b\\cos\\alpha) + (a\\cos\\alpha-b\\sin\\alpha)+j(-a\\sin\\alpha-b\\cos\\alpha) \\\\\n",
    "   &= (a\\cos\\alpha-b\\sin\\alpha +a\\cos\\alpha -b\\sin\\alpha) + j(a\\sin\\alpha + b\\cos\\alpha-a\\sin\\alpha -b\\cos\\alpha) \\\\\n",
    "   &= (2a\\cos\\alpha-2b\\sin\\alpha) + j\\cdot 0 \\,,\n",
    "\\end{align}$\n",
    "\n",
    "i.e., the resulting inverse Fourier $\\Fi \\left\\{ G \\right\\}  $ transform has no imaginary part and hence no phase information can be calculated since"
   ]
  },
  {
   "cell_type": "markdown",
   "id": "764bd0d1",
   "metadata": {
    "slideshow": {
     "slide_type": "subslide"
    }
   },
   "source": [
    "$\\begin{align} \n",
    "   \\mathrm{phase}(x)=\\arctan \\left( \\frac{\\mathfrak{I}\\left\\{ x \\right\\} }{ \\mathfrak{R} \\left\\{ x \\right\\} } \\right) \\overbrace{=}^{\\mathfrak{I}\\left\\{ x \\right\\}=0} \\arctan \\left( \\frac{0 }{ \\mathfrak{R} \\left\\{ x \\right\\} } \\right) \\equiv 0 \\,.\n",
    "\\end{align}$"
   ]
  },
  {
   "cell_type": "markdown",
   "id": "4cbcde78",
   "metadata": {
    "slideshow": {
     "slide_type": "fragment"
    }
   },
   "source": [
    "The principle is somehow similar to the concept of Schlieren imaging introduced in Chapter 2."
   ]
  },
  {
   "cell_type": "markdown",
   "id": "f56b1bbd",
   "metadata": {
    "slideshow": {
     "slide_type": "slide"
    }
   },
   "source": [
    "## Forward model"
   ]
  },
  {
   "cell_type": "markdown",
   "id": "a1e760af",
   "metadata": {
    "slideshow": {
     "slide_type": "subslide"
    }
   },
   "source": [
    "The influence of a thin object to the phase of transmitted light can be modeled via its so-called *complex transfer function* \n",
    "\n",
    "$\\begin{align} \n",
    "   o(\\mathbf{r}) = \\exp \\left( -\\mu (\\mathbf{r}) + j \\phi (\\mathbf{r}) \\right) \\,,\n",
    "\\end{align}$\n",
    "\n",
    "where $\\mathbf{r}$ is the spatial coordinate in the considered plane of the object, $\\mu$ is the object's absorption and $\\phi$ is the phase retardation. The phase can be further detailed as\n",
    "\n",
    "$\\begin{align} \n",
    "   \\phi (\\mathbf{r}) = \\frac{2\\pi}{\\lambda} \\Delta n(\\mathbf{r}) d(\\mathbf{r}) \\,,\n",
    "\\end{align}$\n",
    "\n",
    "with the wavelength $\\lambda $ of the illumination, $d$ the thickness of the sample and $\\Delta n$ the change of the refractive index with respect to the surrounding medium."
   ]
  },
  {
   "cell_type": "markdown",
   "id": "219e0fd3",
   "metadata": {
    "slideshow": {
     "slide_type": "subslide"
    }
   },
   "source": [
    "If $s(\\mathbf{r})$ denotes the illumination's complex field at the sample plane and $p(\\mathbf{r})$ denotes the PSF of the optical system, the recorded intensity measurements are given by\n",
    "\n",
    "$\\begin{align} \n",
    "   y(\\mathbf{r}) = \\left| p(\\mathbf{r}) * \\left( s(\\mathbf{r}) \\cdot o(\\mathbf{r}) \\right)  \\right| ^2 \\,.\n",
    "\\end{align}$"
   ]
  },
  {
   "cell_type": "markdown",
   "id": "83ebf4fe",
   "metadata": {
    "slideshow": {
     "slide_type": "fragment"
    }
   },
   "source": [
    "The illumination of a single point source $i$ can be approximated as a tilted plane wave\n",
    "\n",
    "$\\begin{align} \n",
    "   s_i(\\mathbf{r}) = \\exp \\left( \\frac{j}{\\lambda} \\mathbf{u}_i\\transp \\mathbf{r}  \\right) \\,, \n",
    "\\end{align}$\n",
    "\n",
    "with the tilt angle $\\mathbf{u}_i$ dependent on the position of the point source with respect to the optical system."
   ]
  },
  {
   "cell_type": "markdown",
   "id": "7ab746dd",
   "metadata": {
    "slideshow": {
     "slide_type": "subslide"
    }
   },
   "source": [
    "So far, this expression is quite unhandy for performing a reconstruction. \n",
    "\n",
    "A significant simplification can be achieved by assuming the so-called *weak object approximation* which is adequate for thin samples with only small phase effects (what is the case for most biological applications of phase imaging). Furthermore, for unstained objects, the absorption $\\mu(\\mathbf{r})$ can be neglected."
   ]
  },
  {
   "cell_type": "markdown",
   "id": "c8419790",
   "metadata": {
    "slideshow": {
     "slide_type": "subslide"
    }
   },
   "source": [
    "Hence, intensity measurements can be modeled as a linear system yielding the following formulation in Fourier space:\n",
    "\n",
    "$\\begin{align} \n",
    "   \\hat{y}(\\mathbf{u}) \\approx B\\delta (\\mathbf{u}) + j h(\\mathbf{u}) \\hat{\\phi}(\\mathbf{u}) \\,,\n",
    "\\end{align}$\n",
    "\n",
    "with $\\hat{(\\cdot)}$ denoting Fourier transforms, $\\mathbf{u}$ denoting spatial frequency coordinates, $B$ representing the background intensity and $h(\\mathbf{u})$ denoting the so-called *weak object transfer function* (WOTF) with respect to the phase."
   ]
  },
  {
   "cell_type": "markdown",
   "id": "ef4ad289",
   "metadata": {
    "slideshow": {
     "slide_type": "fragment"
    }
   },
   "source": [
    "The phase WOTF for a single point source is:\n",
    "\n",
    "$\\begin{align} \n",
    "   h^\\mathrm{single}(\\mathbf{u}) = j \\left( \\hat{p}(\\mathbf{u}) \\star \\hat{s}(\\mathbf{u}) - \\hat{s}(\\mathbf{u}) \\star \\hat{p}(\\mathbf{u}) \\right) \\,,\n",
    "\\end{align}$\n",
    "\n",
    "with $\\star$ representing the correlation operator with $(a\\star b)(\\mathbf{r}) = \\int a(\\tilde{\\mathbf{r}})b^*(\\tilde{\\mathbf{r}} - \\mathbf{r}) \\mathrm{d} \\tilde{\\mathbf{r}}$, that is not commutative."
   ]
  },
  {
   "cell_type": "markdown",
   "id": "d118b0fe",
   "metadata": {
    "slideshow": {
     "slide_type": "subslide"
    }
   },
   "source": [
    "This again confirms that the illumination pattern must not have a symmetric Fourier spectrum. A symmetric illumination pattern leads to $\\hat{s}(\\mathbf{u})$ being hermitian, i.e., $\\hat{s}(- \\mathbf{u}) = \\hat{s}^*(\\mathbf{u})$. In this case, the correlation $\\hat{s}(\\mathbf{u}) \\star \\hat{p}(\\mathbf{u})$ is equivalent to the convolution $\\hat{s}(\\mathbf{u}) * \\hat{p}(\\mathbf{u})$. Since the transfer function $\\hat{p}(\\mathbf{u})$ of an aberration-free and focused optical system is also hermitian, this would lead to:\n",
    "\n",
    "$\\begin{align} \n",
    "  &\\hat{p}(\\mathbf{u}) \\star \\hat{s}(\\mathbf{u}) - \\hat{s}(\\mathbf{u}) \\star \\hat{p}(\\mathbf{u}) \\\\\n",
    "  \\overbrace{=}^{\\hat{p}\\, \\text{herm.}}& \\hat{p}(\\mathbf{u})*\\hat{s}(\\mathbf{u})-\\hat{s}(\\mathbf{u}) \\star \\hat{p}(\\mathbf{u}) \\\\\n",
    "  \\overbrace{=}^{\\hat{s}\\, \\text{herm.}}& \\hat{p}(\\mathbf{u})*\\hat{s}(\\mathbf{u})-\\hat{s}(\\mathbf{u}) * \\hat{p}(\\mathbf{u}) \\equiv 0 \\,.\n",
    "\\end{align}$"
   ]
  },
  {
   "cell_type": "markdown",
   "id": "c6d7e2a2",
   "metadata": {
    "slideshow": {
     "slide_type": "subslide"
    }
   },
   "source": [
    "Since the light emitted by the individual LEDs is spatially incoherent with respect to each other, the corresponding measurements, respectively, the corresponding transfer functions can be weighted by the respective brightness value $c_w \\geq 0$ corresponding to LED $w$ and summed to yield to overall measurement, respectively, the overall transfer function:"
   ]
  },
  {
   "cell_type": "markdown",
   "id": "152a36ef",
   "metadata": {
    "slideshow": {
     "slide_type": "fragment"
    }
   },
   "source": [
    "$\\begin{align} \n",
    "   \\hat{y}^\\mathrm{multi}(\\mathbf{u}) &= \\sum\\limits_{w\\in \\mathcal{W}} c_w \\hat{y}^\\mathrm{single}_w (\\mathbf{u}) \\\\\n",
    "   h^\\mathrm{multi}(\\mathbf{u}) &= \\sum\\limits_{w\\in \\mathcal{W}} c_w h^\\mathrm{single}_w(\\mathbf{u}) \\,,\n",
    "\\end{align}$\n",
    "\n",
    "with $\\mathcal{W}$ denoting the set of LEDs."
   ]
  },
  {
   "cell_type": "markdown",
   "id": "b7a196c2",
   "metadata": {
    "slideshow": {
     "slide_type": "subslide"
    }
   },
   "source": [
    "We can now express the measurement process in algebraic notation (all vectors represent flattened 2D Fourier spectra).\n",
    "\n",
    "A single measurement described in Fourier space can be expressed as\n",
    "\n",
    "$\\begin{align} \n",
    "   \\hat{\\mathbf{y}} = \\mathbf{A}\\boldsymbol{\\phi} \\,,\n",
    "\\end{align}$\n",
    "\n",
    "with $y \\in \\mathbb{C} ^M$, $A \\in \\mathbb{C} ^{M\\times M}$, $\\mathbf{A} = \\mathrm{diag}(\\hat{\\mathbf{h}})$, i.e., $\\mathbf{A}$ being a matrix with $\\hat{\\mathbf{h}}$ on its diagonal and $0$ elsewhere."
   ]
  },
  {
   "cell_type": "markdown",
   "id": "0be8b1fe",
   "metadata": {
    "slideshow": {
     "slide_type": "fragment"
    }
   },
   "source": [
    "We further define $\\mathbf{Y} \\in \\mathbb{C} ^{M \\times S}$ as the Fourier transforms of $S$ measurements where only one LED has been turned on, i.e., for acquiring the image corresponding to column $i$ of $\\mathbf{Y}$, only LED $i$ had been turned on."
   ]
  },
  {
   "cell_type": "markdown",
   "id": "c6b78c84",
   "metadata": {
    "slideshow": {
     "slide_type": "subslide"
    }
   },
   "source": [
    "Column $c_k \\in \\mathbb{R} ^S$ of the matrix $\\mathbf{C} \\in \\mathbb{R} ^{S\\times K}$ contains the weights for every LED for the $k$-th captured image ($k \\in [1,K]$).\n",
    "\n",
    "Hence, \n",
    "\n",
    "$\\begin{align} \n",
    "   \\hat{\\mathbf{y}}_k = \\mathbf{Yc}_k\n",
    "\\end{align}$\n",
    "\n",
    "models the Fourier transform of the $k$-th acquired multi-LED image."
   ]
  },
  {
   "cell_type": "markdown",
   "id": "5ebdcc84",
   "metadata": {
    "slideshow": {
     "slide_type": "subslide"
    }
   },
   "source": [
    "Analogously, the matrix $\\mathbf{H}\\in \\mathbb{C} ^{M \\times S}$ contains in column $i$ the phase WOTF $\\hat{\\mathbf{h}}_i$ for the case where only LED $i$ is turned on.\n",
    "\n",
    "Hence,\n",
    "\n",
    "$\\begin{align} \n",
    "   \\mathbf{A}_k = \\mathrm{diag}\\left( \\mathbf{Hc}_k \\right) \n",
    "\\end{align}$\n",
    "\n",
    "models the multi-LED phase WOTF for the $k$-th measurement."
   ]
  },
  {
   "cell_type": "markdown",
   "id": "70eb2036",
   "metadata": {
    "slideshow": {
     "slide_type": "slide"
    }
   },
   "source": [
    "## Reconstruction"
   ]
  },
  {
   "cell_type": "markdown",
   "id": "3dbfeabb",
   "metadata": {
    "slideshow": {
     "slide_type": "subslide"
    }
   },
   "source": [
    "Based on the derived forward model, the phase recovery problem can now be formulated:\n",
    "\n",
    "$\\begin{align} \n",
    "   \\hat{\\boldsymbol{\\phi}}^* = \\argmin{\\hat{\\boldsymbol{\\phi}}} \\frac{1}{2K} \\sum\\limits^K_{k=1} \\left\\| \\hat{\\mathbf{y}}_k - \\mathbf{A}_k \\hat{\\boldsymbol{\\phi}} \\right\\| ^2_2 + \\Psi \\left( \\hat{\\boldsymbol{\\phi}} \\right) \\,,\n",
    "\\end{align}$\n",
    "\n",
    "with the sought phase $\\hat{\\boldsymbol{\\phi}}^*$ and a suitable regularizer $\\Psi$."
   ]
  },
  {
   "cell_type": "markdown",
   "id": "44426a7c",
   "metadata": {
    "slideshow": {
     "slide_type": "fragment"
    }
   },
   "source": [
    "This optimization problem can be approached with one of the methods introduced in Chapter 6.\n",
    "\n",
    "Example reconstruction results for heuristically determined illumination patterns can, e.g., be seen in the paper [Quantitative differential phase contrast imaging in an LED array microscope](https://escholarship.org/uc/item/78t7z9w3) by Lei Tian and Laura Waller."
   ]
  },
  {
   "cell_type": "markdown",
   "id": "bc85f6e2",
   "metadata": {
    "slideshow": {
     "slide_type": "slide"
    }
   },
   "source": [
    "## Optimization of LED pattern via physics-based machine learning"
   ]
  },
  {
   "cell_type": "markdown",
   "id": "f83f359b",
   "metadata": {
    "slideshow": {
     "slide_type": "subslide"
    }
   },
   "source": [
    "Instead of manually trying to derive an optimal illumination pattern, it is also possible to learned by means of unrolled optimization and suitable training data."
   ]
  },
  {
   "cell_type": "markdown",
   "id": "53a3c67b",
   "metadata": {
    "slideshow": {
     "slide_type": "fragment"
    }
   },
   "source": [
    "Therefore, each iteration of the employed optimization algorithm is unrolled to form one layer of a neural network $\\mathcal{R}$:\n",
    "\n",
    "* The network's input are the measurements $\\left( \\hat{\\mathbf{y}}_k \\right)^K_{k=1} $ and\n",
    "* its output is $\\hat{\\boldsymbol{\\phi}}^{(N)}$, i.e., the estimated phase after iteration $N$.\n",
    "\n",
    "The learnable parameters of the network are the relative brightness of the LEDs (and potentially also the hyperparameters of the optimization algorithm, but for simplicity they will not be covered in the following derivations)."
   ]
  },
  {
   "cell_type": "markdown",
   "id": "fd499b9c",
   "metadata": {
    "slideshow": {
     "slide_type": "fragment"
    }
   },
   "source": [
    "Since the resulting network contains the physically based forward model of the image formation process as a part of its layers, the procedure of training it is sometimes called *physics-based learning*."
   ]
  },
  {
   "cell_type": "markdown",
   "id": "f31d2d13",
   "metadata": {
    "slideshow": {
     "slide_type": "subslide"
    }
   },
   "source": [
    "### Loss function"
   ]
  },
  {
   "cell_type": "markdown",
   "id": "47258afb",
   "metadata": {
    "slideshow": {
     "slide_type": "fragment"
    }
   },
   "source": [
    "The goal of the training is to minimize the phase reconstruction error of a training set $(\\mathbf{Y}_l,\\boldsymbol{\\phi}'_l)^L_{l=1}$ where the matrix $\\mathbf{Y}_l$ contains Fourier transforms of single-LED measurements for the $l$-th phase sample $\\boldsymbol{\\phi}_l$:\n",
    "\n",
    "$\\begin{align} \n",
    "   \\ell (C) &= \\frac{1}{L}\\sum\\limits^L_{l=1} \\ell_l (C) \\\\\n",
    "  &= \\frac{1}{2L} \\sum\\limits^L_{l=1} \\left\\| \\mathcal{R} \\left( (\\mathbf{Y}_l \\mathbf{c}_k)^K_{k=1} \\right) - \\hat{\\boldsymbol{\\phi}}'_l  \\right\\| ^2_2 \\,.\n",
    "\\end{align}$"
   ]
  },
  {
   "cell_type": "markdown",
   "id": "b4763143",
   "metadata": {
    "slideshow": {
     "slide_type": "subslide"
    }
   },
   "source": [
    "The following constraints are imposed on the training objective:\n",
    "\n",
    "$\\begin{align} \n",
    "   C^* &= \\argmin {C} \\ell(C)\\\\\n",
    "   \\text{s.t. } & \\forall\\, k \\in [1,\\ldots, K]: \\\\\n",
    "   &(1)\\quad  \\mathbf{c}_k \\geq 0 & (\\text{non-negativity})\\\\\n",
    "   &(2) \\quad \\left\\| \\mathbf{c}_k \\right\\|_1 = 1 & (\\text{normalization}) \\\\\n",
    "   &(3) \\quad \\mathbf{m}_k \\odot \\mathbf{c}_k = \\mathbf{0} &(\\text{asymmetry})\n",
    "\\end{align}$"
   ]
  },
  {
   "cell_type": "markdown",
   "id": "b3312795",
   "metadata": {
    "slideshow": {
     "slide_type": "subslide"
    }
   },
   "source": [
    "Constraint 1 prohibits physically infeasible designs with negative brightness values (enforced by clamping negative values to 0).\n",
    "\n",
    "Constraint 2 prevents the same design from appearing multiple times just in scaled versions (enforced by normalizing the brightness values so that they sum to 1).\n",
    "\n",
    "Constraint 3 uses geometric constraint masks $\\mathbf{m}_k$ to make sure that there are no point symmetries in the illumination patterns. This is enforced by allowing the LED patterns of one measurement $k$ only to have brightness values $>0$ in one of the four quadrants."
   ]
  },
  {
   "cell_type": "markdown",
   "id": "32ad3de8",
   "metadata": {
    "slideshow": {
     "slide_type": "fragment"
    }
   },
   "source": [
    "To actually perform the training, gradient descent-based methods can be employed and the gradient can be calculated automatically via automated differentiation."
   ]
  },
  {
   "cell_type": "markdown",
   "id": "333d224b",
   "metadata": {
    "slideshow": {
     "slide_type": "subslide"
    }
   },
   "source": [
    "### Experimental results"
   ]
  },
  {
   "cell_type": "markdown",
   "id": "cfd38939",
   "metadata": {},
   "source": [
    "Results can be found in the paper [Physics-Based Learned Design: Optimized Coded-Illumination for Quantitative Phase Imaging](https://ieeexplore.ieee.org/document/8667888/) by Michael R. Kellman et al.."
   ]
  }
 ],
 "metadata": {
  "jupytext": {
   "formats": "ipynb,md:myst",
   "text_representation": {
    "extension": ".md",
    "format_name": "myst",
    "format_version": 0.13,
    "jupytext_version": "1.14.1"
   }
  },
  "kernelspec": {
   "display_name": "compimg",
   "language": "python",
   "name": "compimg"
  },
  "language_info": {
   "codemirror_mode": {
    "name": "ipython",
    "version": 3
   },
   "file_extension": ".py",
   "mimetype": "text/x-python",
   "name": "python",
   "nbconvert_exporter": "python",
   "pygments_lexer": "ipython3",
   "version": "3.8.10"
  },
  "source_map": [
   15,
   35,
   59,
   66,
   76,
   89,
   98,
   107,
   118,
   130,
   144,
   148,
   157,
   161,
   165,
   169,
   177,
   183,
   187,
   191,
   200,
   204,
   208,
   212,
   218,
   222,
   228,
   240,
   246,
   250,
   254,
   270,
   278,
   288,
   294,
   304,
   314,
   324,
   328,
   337,
   349,
   353,
   365,
   377,
   381,
   391,
   397,
   401,
   405,
   414,
   418,
   422,
   431,
   443,
   451,
   455,
   459
  ],
  "widgets": {
   "application/vnd.jupyter.widget-state+json": {
    "state": {
     "06ec5eb0f9934d2b9ce37c0b79d37e9b": {
      "model_module": "@jupyter-widgets/controls",
      "model_module_version": "1.5.0",
      "model_name": "SliderStyleModel",
      "state": {
       "_model_module": "@jupyter-widgets/controls",
       "_model_module_version": "1.5.0",
       "_model_name": "SliderStyleModel",
       "_view_count": null,
       "_view_module": "@jupyter-widgets/base",
       "_view_module_version": "1.2.0",
       "_view_name": "StyleView",
       "description_width": "",
       "handle_color": null
      }
     },
     "4adf92b2c5284a748bfcd24f07bd05b4": {
      "model_module": "@jupyter-widgets/base",
      "model_module_version": "1.2.0",
      "model_name": "LayoutModel",
      "state": {
       "_model_module": "@jupyter-widgets/base",
       "_model_module_version": "1.2.0",
       "_model_name": "LayoutModel",
       "_view_count": null,
       "_view_module": "@jupyter-widgets/base",
       "_view_module_version": "1.2.0",
       "_view_name": "LayoutView",
       "align_content": null,
       "align_items": null,
       "align_self": null,
       "border": null,
       "bottom": null,
       "display": null,
       "flex": null,
       "flex_flow": null,
       "grid_area": null,
       "grid_auto_columns": null,
       "grid_auto_flow": null,
       "grid_auto_rows": null,
       "grid_column": null,
       "grid_gap": null,
       "grid_row": null,
       "grid_template_areas": null,
       "grid_template_columns": null,
       "grid_template_rows": null,
       "height": null,
       "justify_content": null,
       "justify_items": null,
       "left": null,
       "margin": null,
       "max_height": null,
       "max_width": null,
       "min_height": null,
       "min_width": null,
       "object_fit": null,
       "object_position": null,
       "order": null,
       "overflow": null,
       "overflow_x": null,
       "overflow_y": null,
       "padding": null,
       "right": null,
       "top": null,
       "visibility": null,
       "width": null
      }
     },
     "4b6cbd207d5741bfbd33c65f37c40cd8": {
      "model_module": "@jupyter-widgets/output",
      "model_module_version": "1.0.0",
      "model_name": "OutputModel",
      "state": {
       "_dom_classes": [],
       "_model_module": "@jupyter-widgets/output",
       "_model_module_version": "1.0.0",
       "_model_name": "OutputModel",
       "_view_count": null,
       "_view_module": "@jupyter-widgets/output",
       "_view_module_version": "1.0.0",
       "_view_name": "OutputView",
       "layout": "IPY_MODEL_5adcc863a6334da4bc0a79d5b3cda3c7",
       "msg_id": "",
       "outputs": [
        {
         "data": {
          "text/html": "<img src=\"figures/9/phase_imaging_opt_setup_3.svg\" style=\"max-height:50vh\"/>",
          "text/plain": "<IPython.core.display.HTML object>"
         },
         "metadata": {},
         "output_type": "display_data"
        }
       ]
      }
     },
     "5a9fdab1100a4ccbab1a8290475865d7": {
      "model_module": "@jupyter-widgets/controls",
      "model_module_version": "1.5.0",
      "model_name": "IntSliderModel",
      "state": {
       "_dom_classes": [],
       "_model_module": "@jupyter-widgets/controls",
       "_model_module_version": "1.5.0",
       "_model_name": "IntSliderModel",
       "_view_count": null,
       "_view_module": "@jupyter-widgets/controls",
       "_view_module_version": "1.5.0",
       "_view_name": "IntSliderView",
       "continuous_update": true,
       "description": "i",
       "description_tooltip": null,
       "disabled": false,
       "layout": "IPY_MODEL_4adf92b2c5284a748bfcd24f07bd05b4",
       "max": 3,
       "min": 0,
       "orientation": "horizontal",
       "readout": true,
       "readout_format": "d",
       "step": 1,
       "style": "IPY_MODEL_06ec5eb0f9934d2b9ce37c0b79d37e9b",
       "value": 3
      }
     },
     "5adcc863a6334da4bc0a79d5b3cda3c7": {
      "model_module": "@jupyter-widgets/base",
      "model_module_version": "1.2.0",
      "model_name": "LayoutModel",
      "state": {
       "_model_module": "@jupyter-widgets/base",
       "_model_module_version": "1.2.0",
       "_model_name": "LayoutModel",
       "_view_count": null,
       "_view_module": "@jupyter-widgets/base",
       "_view_module_version": "1.2.0",
       "_view_name": "LayoutView",
       "align_content": null,
       "align_items": null,
       "align_self": null,
       "border": null,
       "bottom": null,
       "display": null,
       "flex": null,
       "flex_flow": null,
       "grid_area": null,
       "grid_auto_columns": null,
       "grid_auto_flow": null,
       "grid_auto_rows": null,
       "grid_column": null,
       "grid_gap": null,
       "grid_row": null,
       "grid_template_areas": null,
       "grid_template_columns": null,
       "grid_template_rows": null,
       "height": null,
       "justify_content": null,
       "justify_items": null,
       "left": null,
       "margin": null,
       "max_height": null,
       "max_width": null,
       "min_height": null,
       "min_width": null,
       "object_fit": null,
       "object_position": null,
       "order": null,
       "overflow": null,
       "overflow_x": null,
       "overflow_y": null,
       "padding": null,
       "right": null,
       "top": null,
       "visibility": null,
       "width": null
      }
     },
     "b1d4f45f95fb472d8a0a55f4c3b43e6c": {
      "model_module": "@jupyter-widgets/base",
      "model_module_version": "1.2.0",
      "model_name": "LayoutModel",
      "state": {
       "_model_module": "@jupyter-widgets/base",
       "_model_module_version": "1.2.0",
       "_model_name": "LayoutModel",
       "_view_count": null,
       "_view_module": "@jupyter-widgets/base",
       "_view_module_version": "1.2.0",
       "_view_name": "LayoutView",
       "align_content": null,
       "align_items": null,
       "align_self": null,
       "border": null,
       "bottom": null,
       "display": null,
       "flex": null,
       "flex_flow": null,
       "grid_area": null,
       "grid_auto_columns": null,
       "grid_auto_flow": null,
       "grid_auto_rows": null,
       "grid_column": null,
       "grid_gap": null,
       "grid_row": null,
       "grid_template_areas": null,
       "grid_template_columns": null,
       "grid_template_rows": null,
       "height": null,
       "justify_content": null,
       "justify_items": null,
       "left": null,
       "margin": null,
       "max_height": null,
       "max_width": null,
       "min_height": null,
       "min_width": null,
       "object_fit": null,
       "object_position": null,
       "order": null,
       "overflow": null,
       "overflow_x": null,
       "overflow_y": null,
       "padding": null,
       "right": null,
       "top": null,
       "visibility": null,
       "width": null
      }
     },
     "bbcc470a98df4674980ae2e110b7a4b5": {
      "model_module": "@jupyter-widgets/controls",
      "model_module_version": "1.5.0",
      "model_name": "VBoxModel",
      "state": {
       "_dom_classes": [
        "widget-interact"
       ],
       "_model_module": "@jupyter-widgets/controls",
       "_model_module_version": "1.5.0",
       "_model_name": "VBoxModel",
       "_view_count": null,
       "_view_module": "@jupyter-widgets/controls",
       "_view_module_version": "1.5.0",
       "_view_name": "VBoxView",
       "box_style": "",
       "children": [
        "IPY_MODEL_5a9fdab1100a4ccbab1a8290475865d7",
        "IPY_MODEL_4b6cbd207d5741bfbd33c65f37c40cd8"
       ],
       "layout": "IPY_MODEL_b1d4f45f95fb472d8a0a55f4c3b43e6c"
      }
     }
    },
    "version_major": 2,
    "version_minor": 0
   }
  }
 },
 "nbformat": 4,
 "nbformat_minor": 5
}