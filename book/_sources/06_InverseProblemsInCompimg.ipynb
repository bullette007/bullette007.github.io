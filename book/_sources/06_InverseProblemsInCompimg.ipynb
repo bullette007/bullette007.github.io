{
 "cells": [
  {
   "cell_type": "code",
   "execution_count": 1,
   "id": "e9a160c9",
   "metadata": {
    "init_cell": true,
    "tags": [
     "remove-cell"
    ]
   },
   "outputs": [
    {
     "data": {
      "application/javascript": [
       "var cells = Jupyter.notebook.get_cells();\n",
       "           for (var i = 0; i < cells.length; i++) {\n",
       "               var cur_cell = cells[i];\n",
       "               var tags = cur_cell._metadata.tags;\n",
       "               console.log(i);\n",
       "               console.log(tags == undefined);\n",
       "               console.log(tags);\n",
       "               if (tags != undefined) {\n",
       "               for (var j = 0; j < tags.length; j++) {\n",
       "                  if (tags[j]==\"book_only\" | tags[j]==\"remove-cell\") {cur_cell.element.hide();}}\n",
       "               for (var j = 0; j < tags.length; j++) {\n",
       "                   if (tags[j]==\"presentation_only\") {cur_cell.element.show();}}\n",
       "            }}\n"
      ],
      "text/plain": [
       "<IPython.core.display.Javascript object>"
      ]
     },
     "metadata": {},
     "output_type": "display_data"
    }
   ],
   "source": [
    "%%js\n",
    "var cells = Jupyter.notebook.get_cells();\n",
    "           for (var i = 0; i < cells.length; i++) {\n",
    "               var cur_cell = cells[i];\n",
    "               var tags = cur_cell._metadata.tags;\n",
    "               console.log(i);\n",
    "               console.log(tags == undefined);\n",
    "               console.log(tags);\n",
    "               if (tags != undefined) {\n",
    "               for (var j = 0; j < tags.length; j++) {\n",
    "                  if (tags[j]==\"book_only\" | tags[j]==\"remove-cell\") {cur_cell.element.hide();}}\n",
    "               for (var j = 0; j < tags.length; j++) {\n",
    "                   if (tags[j]==\"presentation_only\") {cur_cell.element.show();}}\n",
    "            }}"
   ]
  },
  {
   "cell_type": "code",
   "execution_count": 2,
   "id": "305c516d",
   "metadata": {
    "init_cell": true,
    "slideshow": {
     "slide_type": "notes"
    },
    "tags": [
     "remove-cell"
    ]
   },
   "outputs": [
    {
     "name": "stderr",
     "output_type": "stream",
     "text": [
      "C:\\Users\\meyjoh\\repos\\vlcompimg\\compimg\\lib\\site-packages\\scipy\\__init__.py:138: UserWarning: A NumPy version >=1.16.5 and <1.23.0 is required for this version of SciPy (detected version 1.23.4)\n",
      "  warnings.warn(f\"A NumPy version >={np_minversion} and <{np_maxversion} is required for this version of \"\n"
     ]
    }
   ],
   "source": [
    "from __future__ import print_function\n",
    "from ipywidgets import interact, interactive, fixed, interact_manual\n",
    "import ipywidgets as widgets\n",
    "import numpy as np\n",
    "import matplotlib.pyplot as plt\n",
    "import cv2\n",
    "import scipy.signal as sig\n",
    "from scipy.integrate import simpson\n",
    "from IPython.display import SVG, display, IFrame, HTML\n",
    "import seaborn as sns\n",
    "import torch\n",
    "from scipy import misc\n",
    "%matplotlib notebook\n",
    "book = False"
   ]
  },
  {
   "cell_type": "code",
   "execution_count": 3,
   "id": "a9df455a",
   "metadata": {
    "tags": [
     "remove-cell"
    ]
   },
   "outputs": [],
   "source": [
    "%matplotlib inline\n",
    "book = True"
   ]
  },
  {
   "cell_type": "code",
   "execution_count": 4,
   "id": "f5657140",
   "metadata": {
    "init_cell": true,
    "tags": [
     "remove-cell"
    ]
   },
   "outputs": [
    {
     "data": {
      "application/javascript": [
       "MathJax.Hub.Config({\n",
       "    TeX: { equationNumbers: { autoNumber: \"AMS\" } }\n",
       "});\n"
      ],
      "text/plain": [
       "<IPython.core.display.Javascript object>"
      ]
     },
     "metadata": {},
     "output_type": "display_data"
    }
   ],
   "source": [
    "%%javascript\n",
    "MathJax.Hub.Config({\n",
    "    TeX: { equationNumbers: { autoNumber: \"AMS\" } }\n",
    "});"
   ]
  },
  {
   "cell_type": "code",
   "execution_count": 5,
   "id": "bcb883ac",
   "metadata": {
    "init_cell": true,
    "tags": [
     "remove-cell"
    ]
   },
   "outputs": [
    {
     "data": {
      "application/javascript": [
       "\n",
       "MathJax.Hub.Queue(\n",
       "  [\"resetEquationNumbers\", MathJax.InputJax.TeX],\n",
       "  [\"PreProcess\", MathJax.Hub],\n",
       "  [\"Reprocess\", MathJax.Hub]\n",
       ");\n"
      ],
      "text/plain": [
       "<IPython.core.display.Javascript object>"
      ]
     },
     "metadata": {},
     "output_type": "display_data"
    }
   ],
   "source": [
    "%%javascript\n",
    "\n",
    "MathJax.Hub.Queue(\n",
    "  [\"resetEquationNumbers\", MathJax.InputJax.TeX],\n",
    "  [\"PreProcess\", MathJax.Hub],\n",
    "  [\"Reprocess\", MathJax.Hub]\n",
    ");"
   ]
  },
  {
   "cell_type": "code",
   "execution_count": 6,
   "id": "c4b85d4e",
   "metadata": {
    "init_cell": true,
    "tags": [
     "remove-cell"
    ]
   },
   "outputs": [],
   "source": [
    "def showFig(path,i,ending, width, height):\n",
    "    filename = path+str(i)+ending\n",
    "    return HTML(\"<img src=\\\"\" + filename +  f\"\\\" style=\\\"max-height:{height}vh\\\"/>\")"
   ]
  },
  {
   "cell_type": "code",
   "execution_count": 7,
   "id": "5f5f0869",
   "metadata": {
    "init_cell": true,
    "tags": [
     "remove-cell"
    ]
   },
   "outputs": [],
   "source": [
    "def showFig2(path,i,ending, width, height):\n",
    "    imgToShow = plt.imread(f\"{path}{i}{ending}\")\n",
    "    plt.imshow(imgToShow)"
   ]
  },
  {
   "cell_type": "code",
   "execution_count": 8,
   "id": "8f62e660",
   "metadata": {
    "init_cell": true,
    "tags": [
     "remove-cell"
    ]
   },
   "outputs": [],
   "source": [
    "def imshow(img, cmap=None):\n",
    "    plt.close('all')\n",
    "    plt.figure()\n",
    "    plt.imshow(img, cmap=cmap)\n",
    "    plt.show()"
   ]
  },
  {
   "cell_type": "code",
   "execution_count": 9,
   "id": "323dbf92",
   "metadata": {
    "init_cell": true,
    "tags": [
     "remove-cell"
    ]
   },
   "outputs": [],
   "source": [
    "def imshow2(img, cmap=None):\n",
    "    #plt.close('all')\n",
    "    #plt.figure()\n",
    "    plt.clf()\n",
    "    plt.imshow(img, cmap=cmap)\n",
    "    #plt.show()"
   ]
  },
  {
   "cell_type": "markdown",
   "id": "f36ebcc7",
   "metadata": {
    "slideshow": {
     "slide_type": "slide"
    }
   },
   "source": [
    "$\\begin{align}\n",
    "  \\newcommand{transp}{^\\intercal}\n",
    "  \\newcommand{F}{\\mathcal{F}}\n",
    "  \\newcommand{Fi}{\\mathcal{F}^{-1}}\n",
    "  \\newcommand{inv}{^{-1}}\n",
    "  \\newcommand{stochvec}[1]{\\mathbf{\\tilde{#1}}}\n",
    "  \\newcommand{argmax}[1]{\\underset{#1}{\\mathrm{arg\\, max}}}\n",
    "  \\newcommand{argmin}[1]{\\underset{#1}{\\mathrm{arg\\, min}}}\n",
    "\\end{align}$\n",
    "\n",
    "<font size=\"7\"> Computational Imaging </font><br><br><br>"
   ]
  },
  {
   "cell_type": "markdown",
   "id": "d061028e",
   "metadata": {
    "slideshow": {
     "slide_type": "-"
    }
   },
   "source": [
    "# Inverse Problems in Computational Imaging"
   ]
  },
  {
   "cell_type": "markdown",
   "id": "422d0492",
   "metadata": {
    "slideshow": {
     "slide_type": "subslide"
    }
   },
   "source": [
    "##### Content\n",
    "* Introduction into inverse problems\n",
    "* Image denoising\n",
    "* General linear inverse problems\n",
    "* Image deconvolution\n",
    "* Inverse filter for deconvolution \n",
    "* Wiener filter for deconvolution\n",
    "* Richardson-Lucy deconvolution\n",
    "* Half-quadratic splitting method\n",
    "* Alternating direction method of multipliers\n",
    "* Deep SNR-estimation for Wiener filtering\n",
    "* Unrolled optimization"
   ]
  },
  {
   "cell_type": "markdown",
   "id": "a8ec27e2",
   "metadata": {
    "slideshow": {
     "slide_type": "slide"
    }
   },
   "source": [
    "## Introduction into inverse problems"
   ]
  },
  {
   "cell_type": "markdown",
   "id": "d2f522a0",
   "metadata": {},
   "source": [
    "An *inverse problem* represents the task of finding the input values to some function or process that produced certain output values which have been observed. Such problems are called *inverse*, as they start with the output and have the goal of finding the corresponding input."
   ]
  },
  {
   "cell_type": "markdown",
   "id": "87c59483",
   "metadata": {
    "slideshow": {
     "slide_type": "fragment"
    }
   },
   "source": [
    "Unfortunately, inverse problems often represent so-called *ill-posed problems*. A problem is considered to be ill-posed if one of the following properties holds:\n",
    "* There is no solution to the problem,\n",
    "* there is no unique solution, i.e., there are multiple possible inputs that explain the observed data,\n",
    "* the solution does not change continuously w.r.t. to changes of the output."
   ]
  },
  {
   "cell_type": "markdown",
   "id": "30a271ad",
   "metadata": {
    "slideshow": {
     "slide_type": "fragment"
    }
   },
   "source": [
    "A common approach to mitigate the difficulties involved with ill-posed inverse problems is to employ so-called *regularization methods* which usually use prior knowledge about the sought solution to guide the reconstruction process into the right direction."
   ]
  },
  {
   "cell_type": "markdown",
   "id": "b131776d",
   "metadata": {
    "slideshow": {
     "slide_type": "slide"
    }
   },
   "source": [
    "## Image denoising"
   ]
  },
  {
   "cell_type": "markdown",
   "id": "b3496775",
   "metadata": {},
   "source": [
    "The goal of image denoising it to recover an original image $s(\\mathbf{x})$ after is has been affected by additive, signal-independent noise $n(\\mathbf{x})$, which is a common general assumption for noise present in digitally acquired images:\n",
    "\n",
    "$\\begin{align} \n",
    "   g(\\mathbf{x}) = s(\\mathbf{x}) + n(\\mathbf{x}) \\,.\n",
    "\\end{align}$"
   ]
  },
  {
   "cell_type": "markdown",
   "id": "c471cbae",
   "metadata": {
    "slideshow": {
     "slide_type": "fragment"
    },
    "tags": [
     "presentation_only"
    ]
   },
   "source": [
    "Note: The dependence on a spatial variable (e.g., like $\\mathbf{x}$ for $g(\\mathbf{x})$) is omitted for this chapter for the sake of clarity."
   ]
  },
  {
   "cell_type": "markdown",
   "id": "958441c2",
   "metadata": {
    "tags": [
     "book_only"
    ]
   },
   "source": [
    "```{note}\n",
    "  The dependence on a spatial variable (e.g., like $\\mathbf{x}$ for $g(\\mathbf{x})$) is omitted for this chapter for the sake of clarity.\n",
    "```"
   ]
  },
  {
   "cell_type": "markdown",
   "id": "9b72dea2",
   "metadata": {
    "slideshow": {
     "slide_type": "fragment"
    }
   },
   "source": [
    "* The pixel-wise noise $n_i$ follows a zero-mean i.i.d. normal distribution, i.e., $n_i \\sim \\mathcal{N}(0, \\sigma ^2)$ and \n",
    "* the pixel $s_i$ of the undistorted image follow an i.i.d. normal distribution with zero variance, i.e., $s_i \\sim \\mathcal{N}(s_i, 0)$.\n",
    "* Hence, the pixel $g_i$ of the observed image can be modelled via the sum of the two normal distributions, i.e., $g_i \\sim \\mathcal{N}(s_i, \\sigma^2)$."
   ]
  },
  {
   "cell_type": "markdown",
   "id": "3d9e563e",
   "metadata": {
    "slideshow": {
     "slide_type": "subslide"
    }
   },
   "source": [
    "The per-pixel distribution of $g$ is given by\n",
    "\n",
    "$\\begin{align} \n",
    "   p(g_i \\vert s_i, \\sigma ) = \\frac{1}{\\sqrt{2\\pi\\sigma^2}} \\mathrm{e}^{-\\frac{(g_i - s_i)^2}{2\\sigma^2}} \\,.\n",
    "\\end{align}$"
   ]
  },
  {
   "cell_type": "markdown",
   "id": "e6a1653d",
   "metadata": {
    "slideshow": {
     "slide_type": "fragment"
    }
   },
   "source": [
    "Due to the pixel-wise independence of the involved probabilities, the joint probability of the whole image is given by the product of the individual probabilities:\n",
    "\n",
    "$\\begin{align} \n",
    "   p(\\mathbf{g}\\vert \\mathbf{s}, \\sigma) = \\prod\\limits_i p(g_i\\vert s_i, \\sigma) \\propto \\mathrm{e}^{-\\frac{\\left\\| \\mathbf{g} - \\mathbf{s} \\right\\|^2_2 }{2\\sigma^2}} \\,.\n",
    "\\end{align}$"
   ]
  },
  {
   "cell_type": "markdown",
   "id": "10aba37b",
   "metadata": {
    "slideshow": {
     "slide_type": "fragment"
    }
   },
   "source": [
    "Bayes' rule yields the posterior distribution for the sought undistorted image $\\mathbf{s}$:\n",
    "\n",
    "$\\begin{align} \n",
    "   p(\\mathbf{s} \\vert \\mathbf{g}, \\sigma) = \\frac{p(\\mathbf{g}\\vert \\mathbf{s}, \\sigma) p(\\mathbf{s})}{p(\\mathbf{g})} \\propto p(\\mathbf{g}\\vert \\mathbf{s}, \\sigma) p(\\mathbf{s})\\,,\n",
    "\\end{align}$\n",
    "\n",
    "with the a priori probability $p(\\mathbf{s})$ of the sought image $\\mathbf{s}$."
   ]
  },
  {
   "cell_type": "markdown",
   "id": "d45481df",
   "metadata": {
    "slideshow": {
     "slide_type": "subslide"
    }
   },
   "source": [
    "### Maximum a-posteriori (MAP) solution"
   ]
  },
  {
   "cell_type": "markdown",
   "id": "846747a5",
   "metadata": {},
   "source": [
    "The maximum a-posteriori (MAP) estimate of $ \\mathbf{s}$ can be obtained by maximizing (minimizing) the (negative) natural logarithm of the posterior distribution:\n",
    "\n",
    "$\\begin{align} \n",
    "   \\hat{\\mathbf{s}}_\\mathrm{MAP} &= \\argmin{\\mathbf{s}}\\, -\\log \\left( p(\\mathbf{s} \\vert \\mathbf{g}, \\sigma) \\right) \\\\\n",
    "   &= \\argmin{\\mathbf{s}}\\, - \\log p(\\mathbf{g}\\vert \\mathbf{s}, \\sigma) - \\log p(\\mathbf{s}) \\\\\n",
    "   &= \\argmin{\\mathbf{s}}\\, \\frac{1}{2\\sigma^2}\\left\\| \\mathbf{g} - \\mathbf{s} \\right\\|^2_2 - \\log p(\\mathbf{s}) \\\\\n",
    "   &= \\argmin{\\mathbf{s}}\\, \\frac{1}{2\\sigma^2}\\left\\| \\mathbf{g} - \\mathbf{s} \\right\\|^2_2 + \\Gamma (\\mathbf{s}) \\,,\n",
    "\\end{align}$\n",
    "\n",
    "with $\\Gamma(\\mathbf{s})$ denoting the negative natural logarithm of the prior on $\\mathbf{s}$."
   ]
  },
  {
   "cell_type": "markdown",
   "id": "c3e31c92",
   "metadata": {
    "slideshow": {
     "slide_type": "fragment"
    }
   },
   "source": [
    "If no information about the prior $p(\\mathbf{s})$ is exploited, every pixel value has to be considered equally likely, i.e., $p(s_i) = 1$, resulting in a trivial but useless solution for the estimate of $\\mathbf{s}$:\n",
    "\n",
    "$\\begin{align} \n",
    "   \\hat{\\mathbf{s}}_\\mathrm{flat\\ prior} = \\argmin{\\mathbf{s}}\\, \\frac{1}{2\\sigma^2}\\left\\| \\mathbf{g} - \\mathbf{s} \\right\\|^2_2 = \\mathbf{g} \\,.\n",
    "\\end{align}$"
   ]
  },
  {
   "cell_type": "markdown",
   "id": "61e6c626",
   "metadata": {
    "slideshow": {
     "slide_type": "subslide"
    }
   },
   "source": [
    "We will get to know several suitable priors later on in this chapter but we want to stress one important point here:\n",
    "\n",
    "Any algorithm that successfully denoises an image from normally distributed noise can be interpreted (and used) as a solution to the problem just described, i.e.,\n",
    "\n",
    "$\\begin{align} \n",
    "  \\argmin{\\mathbf{s}}\\, \\frac{1}{2\\sigma^2}\\left\\| \\mathbf{g} - \\mathbf{s} \\right\\|^2_2 + \\Gamma (\\mathbf{s}) \\,.\n",
    "\\end{align}$"
   ]
  },
  {
   "cell_type": "markdown",
   "id": "6bb40439",
   "metadata": {
    "slideshow": {
     "slide_type": "slide"
    }
   },
   "source": [
    "## General linear inverse problems"
   ]
  },
  {
   "cell_type": "markdown",
   "id": "4f24ba8a",
   "metadata": {},
   "source": [
    "For the general linear inverse problem, the vectorized image formation process is given by:\n",
    "\n",
    "$\\begin{align} \n",
    "   \\mathbf{b} = \\mathbf{Ax} + \\mathbf{n} \\,,\n",
    "\\end{align}$\n",
    "\n",
    "where $\\mathbf{b} \\in \\mathbb{R} ^M$ denotes the $M$ observations or measurements which are the result of the matrix-vector multiplication of the sought latent image $\\mathbf{x} \\in \\mathbb{R} ^N$ with the so-called *measurement matrix* $\\mathbf{A} \\in \\mathbb{R} ^{M \\times N}$ and the term $\\mathbf{n} \\in \\mathbb{R} ^M$ represents additive, signal-independent noise."
   ]
  },
  {
   "cell_type": "markdown",
   "id": "544a783e",
   "metadata": {
    "slideshow": {
     "slide_type": "subslide"
    }
   },
   "source": [
    "### Bayesian perspective of inverse problems"
   ]
  },
  {
   "cell_type": "markdown",
   "id": "5ce45f1c",
   "metadata": {},
   "source": [
    "Interpret as random vectors:<br>\n",
    "$\\stochvec{x}\\sim \\mathcal{N}(\\mathbf{x},0)$,<br>\n",
    "$\\stochvec{n}\\sim \\mathcal{N}(0,\\sigma^2)$,<br>\n",
    "$ \\stochvec{b}\\sim \\mathcal{N}((\\mathbf{Ax}),\\sigma^2)$"
   ]
  },
  {
   "cell_type": "markdown",
   "id": "9d0f553b",
   "metadata": {
    "slideshow": {
     "slide_type": "subslide"
    }
   },
   "source": [
    "For probability of observation $ \\mathbf{b}$ it holds:\n",
    "\n",
    "$\\begin{align}\n",
    "    p( \\mathbf{b}\\vert \\mathbf{x}, \\sigma) \\propto \\exp \\left( - \\frac{\\Vert \\mathbf{b} - \\mathbf{Ax} \\Vert^2_2}{2\\sigma^2} \\right)\n",
    "\\end{align}\n",
    "$"
   ]
  },
  {
   "cell_type": "markdown",
   "id": "713b9c3d",
   "metadata": {
    "slideshow": {
     "slide_type": "fragment"
    }
   },
   "source": [
    "According to Bayes' rule:\n",
    "\n",
    "$\\begin{align}\n",
    "    \\underbrace{p(\\mathbf{x}\\vert \\mathbf{b},\\sigma)}_{\\mathrm{posterior}} = \\frac{p( \\mathbf{b}\\vert \\mathbf{x}, \\sigma)\\cdot p( \\mathbf{x})}{p( \\mathbf{b})} \\propto \\underbrace{p( \\mathbf{b} \\vert \\mathbf{x}, \\sigma)}_{\\mathrm{image\\ formation\\ model}} \\cdot \\underbrace{p( \\mathbf{x})}_\\mathrm{prior}\\,.\n",
    "\\end{align}\n",
    "$"
   ]
  },
  {
   "cell_type": "markdown",
   "id": "0faf41d3",
   "metadata": {
    "slideshow": {
     "slide_type": "subslide"
    }
   },
   "source": [
    "Maximum-a-posteriori (MAP) solution:\n",
    "\n",
    "$\\begin{align}\n",
    "  \\hat{x}_\\mathrm{MAP} &= \\argmax{\\mathbf{x}}\\, p(\\mathbf{x}\\vert \\mathbf{b},\\sigma) \\\\\n",
    "                         &= \\argmax{\\mathbf{x}}\\, \\log p(\\mathbf{x}\\vert \\mathbf{b},\\sigma) \\\\\n",
    "                         &= \\argmin{ \\mathbf{x}}\\, - \\log p(\\mathbf{x}\\vert \\mathbf{b},\\sigma) \\\\\n",
    "                         &= \\argmin{ \\mathbf{x}}\\, - \\log p( \\mathbf{b} \\vert \\mathbf{x}, \\sigma) - \\log p( \\mathbf{x}) \\\\\n",
    "                         \\label{eq:map_solution}&= \\argmin{ \\mathbf{x}}\\, \\underbrace{\\frac{\\Vert \\mathbf{b} - \\mathbf{Ax} \\Vert^2_2}{2\\sigma^2}}_{\\mathrm{data\\, fidelity\\, term}} + \\underbrace{\\Psi(\\mathbf{x})}_{ \\mathrm{regularizer}}\\,.                         \n",
    "\\end{align}\n",
    "$"
   ]
  },
  {
   "cell_type": "markdown",
   "id": "e22571d1",
   "metadata": {
    "slideshow": {
     "slide_type": "subslide"
    }
   },
   "source": [
    "The choice of image priors / regularizers depends on the imaging task, i.e., the nature of the images that are to be recovered. Examples are:\n",
    "* Blurry imges $\\rightarrow$ promote smoothness $\\Psi (\\mathbf{x}) = \\left\\| \\underbrace{\\Delta}_{\\text{Laplace operator}} \\mathbf{x} \\right\\|_2 $\n",
    "* Sparse images (e.g., stars) $\\rightarrow$ promote sparsity $\\Psi (\\mathbf{x}) = \\left\\| \\mathbf{x} \\right\\|_1$\n",
    "* Natural images $\\rightarrow$ promote sparse gradients $\\mathrm{TV}(\\mathbf{x})$"
   ]
  },
  {
   "cell_type": "markdown",
   "id": "adfaa8ee",
   "metadata": {
    "slideshow": {
     "slide_type": "subslide"
    }
   },
   "source": [
    "### Total Variation\n",
    "\n",
    "The intuition behind total variation is that in natural images, regions of almost constant intensities are separated by sharp edges. Hence, the gradient of such images can be assumed to be sparse.\n",
    "\n",
    "The gradient is calculated by means of convolutions with the finite difference operators in $x$- and $y$-direction:\n",
    "\n",
    "* Finite difference in $x$-direction: $d_x * x = \\begin{pmatrix} 0 & 0 & 0 \\\\ 0 & -1 & 1 \\\\ 0 & 0 & 0  \\end{pmatrix} * x = \\mathbf{D}_x \\mathbf{x}$\n",
    "* Finite difference in $y$-direction: $d_y * x = \\begin{pmatrix} 0 & 0 & 0 \\\\ 0 & -1 & 0 \\\\ 0 & 1 & 0  \\end{pmatrix} * x = \\mathbf{D}_y \\mathbf{x}$"
   ]
  },
  {
   "cell_type": "markdown",
   "id": "30f802ac",
   "metadata": {
    "slideshow": {
     "slide_type": "subslide"
    }
   },
   "source": [
    "* Anisotropic: \n",
    "\n",
    "$\\begin{align} \n",
    "  \\mathrm{TV}(\\mathbf{x}) &= \\left\\| \\mathbf{D}_x \\mathbf{x} \\right\\|_1 + \\left\\| \\mathbf{D}_y \\mathbf{x} \\right\\|_1 \\\\ \n",
    "  &=  \\sum\\limits^N_{i=1}  \\left| (\\mathbf{D}_x \\mathbf{x})_i \\right| + \\left| (\\mathbf{D}_y \\mathbf{x})_i \\right| = \\sum\\limits^N_{i=1} \\sqrt[]{(\\mathbf{D}_x \\mathbf{x})^2_i} + \\sum\\limits^N_{i=1} \\sqrt[]{(\\mathbf{D}_y \\mathbf{x})^2_i} \n",
    "\\end{align}$\n",
    "  \n",
    "* Isotropic:\n",
    "\n",
    "$\\begin{align} \n",
    "  \\mathrm{TV}(\\mathbf{x}) = \\sum\\limits^N_{i=1}\\left\\| \\begin{bmatrix} (\\mathbf{D}_x \\mathbf{x})_i \\\\ (\\mathbf{D}_y \\mathbf{x})_i \\end{bmatrix} \\right\\|_2 = \\sum\\limits^N_{i=1}  \\sqrt[]{(\\mathbf{D}_x \\mathbf{x})^2_i + (\\mathbf{D}_y \\mathbf{x})^2_i}\n",
    "\\end{align}\\,,$\n",
    "\n",
    "with $\\begin{bmatrix} \\mathbf{a} \\\\ \\mathbf{b} \\end{bmatrix}$ denoting a concatenation of the vectors $\\mathbf{a}$ and $\\mathbf{b}$ and $(\\mathbf{D_\\mathrm{x} \\mathbf{x}})_i$ denoting the $i$-th element of the vector resulting from $\\mathbf{D}_\\mathrm{x} \\mathbf{x}$."
   ]
  },
  {
   "cell_type": "markdown",
   "id": "e7cdf7dc",
   "metadata": {
    "slideshow": {
     "slide_type": "slide"
    }
   },
   "source": [
    "## Image deconvolution"
   ]
  },
  {
   "cell_type": "markdown",
   "id": "dd39e476",
   "metadata": {},
   "source": [
    "Image deconvolution deals with the problem of reconstructing an original image $s$ after it has been affected by a linear shift-invariant image degradation and additive noise, which together forms the observed image $g$."
   ]
  },
  {
   "cell_type": "markdown",
   "id": "34407233",
   "metadata": {
    "slideshow": {
     "slide_type": "fragment"
    }
   },
   "source": [
    "With the impulse response $h$ of the image degradation, the observation can be modeled as\n",
    "\n",
    "$\\begin{align} \\label{eq:img_formation}\n",
    "   g = s * h + n\\,,\n",
    "\\end{align}$\n",
    "\n",
    "with the additive noise $n$."
   ]
  },
  {
   "cell_type": "markdown",
   "id": "98403fbf",
   "metadata": {
    "slideshow": {
     "slide_type": "fragment"
    }
   },
   "source": [
    "The goal is to define a reconstruction filter $v$ that, when applied to the observation $g$, yields a reconstruction $\\hat{s}$ matching the latent input $s$ as closely as possible."
   ]
  },
  {
   "cell_type": "markdown",
   "id": "66f6319c",
   "metadata": {
    "slideshow": {
     "slide_type": "subslide"
    }
   },
   "source": [
    "The following figure visualizes the signal model of image deconvolution:\n",
    "\n",
    "<img src=\"figures/6/signalmodel_reconstruction.svg\" style=\"max-height:40vh\">"
   ]
  },
  {
   "cell_type": "markdown",
   "id": "ba499715",
   "metadata": {
    "slideshow": {
     "slide_type": "subslide"
    }
   },
   "source": [
    "Methods and approaches dealing with deconvolution can be divided into two groups:\n",
    "1. *Blind* deconvolution: The kernel $h$ is assumed to be unknown and also has to be recovered / estimated.\n",
    "2. *Non-blind* deconvolution: The kernel $h$ is assumed to be known.\n",
    "\n",
    "<br>Note that there is some research which focuses on estimating the kernel $h$ and then employs non-blind deconvolution methods to perform the deconvolution."
   ]
  },
  {
   "cell_type": "markdown",
   "id": "8370542d",
   "metadata": {
    "slideshow": {
     "slide_type": "subslide"
    }
   },
   "source": [
    "According to the convolution theorem of the Fourier transform, equation $\\eqref{eq:img_formation}$ can be expressed as:\n",
    "$\\begin{align}\\label{eq:img_formation_fourier}\n",
    "    g = \\mathcal{F}^{-1}\\lbrace \\mathcal{F} \\lbrace h \\rbrace \\cdot \\mathcal{F} \\lbrace s \\rbrace \\rbrace + n\n",
    "\\end{align}$"
   ]
  },
  {
   "cell_type": "markdown",
   "id": "99636a40",
   "metadata": {
    "slideshow": {
     "slide_type": "fragment"
    }
   },
   "source": [
    "**Important note:** Equations $\\eqref{eq:img_formation}$ and $\\eqref{eq:img_formation_fourier}$ only result in the same numbers, if the convolution is performed with ciruclar boundary conditions, i.e., when the convolution kernel wraps around the image borders."
   ]
  },
  {
   "cell_type": "markdown",
   "id": "b55107d9",
   "metadata": {
    "slideshow": {
     "slide_type": "subslide"
    }
   },
   "source": [
    "##### Duality between signal processing perspective and algebraic perspective"
   ]
  },
  {
   "cell_type": "markdown",
   "id": "dc08683a",
   "metadata": {},
   "source": [
    "Since the convolution is a linear operator, it can also be expressed in terms of a matrix vector multiplication:\n",
    "$\\begin{align}\\label{eq:duality}\n",
    "    g = h*s \\Leftrightarrow \\mathbf{g} = \\mathbf{H}\\mathbf{s}\\,,\n",
    "\\end{align}$\n",
    "with a square circulant Toeplitz matrix $\\mathbf{H}\\in \\mathbb{R}^{N\\times N}$ implementing the convolution and $\\mathbf{g,s} \\in \\mathbb{R}^N$ representing the vectorized forms of the corresponding images $g$ and $s$."
   ]
  },
  {
   "cell_type": "markdown",
   "id": "8682dd58",
   "metadata": {
    "slideshow": {
     "slide_type": "slide"
    }
   },
   "source": [
    "## Inverse filter for deconvolution"
   ]
  },
  {
   "cell_type": "markdown",
   "id": "b4955f08",
   "metadata": {},
   "source": [
    "The inverse filter represents the straightforward approach of solving equation $\\eqref{eq:img_formation_fourier}$ for $s$ while neglecting the noise $n$:\n",
    "$\\begin{align}\\label{eq:inv_filter}\n",
    "        \\hat{s}_{\\mathrm{inv}}=\\Fi\\left\\lbrace \\frac{\\F\\lbrace g \\rbrace}{\\F\\lbrace h \\rbrace } \\right\\rbrace \\,.\n",
    "\\end{align}$"
   ]
  },
  {
   "cell_type": "markdown",
   "id": "b1c1fab8",
   "metadata": {
    "slideshow": {
     "slide_type": "fragment"
    }
   },
   "source": [
    "Properties of the inverse filter:\n",
    "* computationally efficient,\n",
    "* problematic for small values of $\\F \\lbrace h \\rbrace$, (amplifies noise).\n",
    "\n",
    "Unfortunately, the second point is true for most practically relevant point spread functions."
   ]
  },
  {
   "cell_type": "markdown",
   "id": "2858906d",
   "metadata": {
    "slideshow": {
     "slide_type": "subslide"
    }
   },
   "source": [
    "##### Example inverse filter reconstruction results for increasing noise levels"
   ]
  },
  {
   "cell_type": "code",
   "execution_count": 10,
   "id": "81df0449",
   "metadata": {
    "init_cell": true
   },
   "outputs": [
    {
     "data": {
      "application/vnd.jupyter.widget-view+json": {
       "model_id": "abc8e1ea1a2f45f7b8a759170da0ac76",
       "version_major": 2,
       "version_minor": 0
      },
      "text/plain": [
       "interactive(children=(IntSlider(value=6, description='i', max=6, min=1), Output()), _dom_classes=('widget-inte…"
      ]
     },
     "metadata": {},
     "output_type": "display_data"
    },
    {
     "data": {
      "text/plain": [
       "<function __main__.<lambda>(i)>"
      ]
     },
     "execution_count": 10,
     "metadata": {},
     "output_type": "execute_result"
    }
   ],
   "source": [
    "interact(lambda i: showFig('figures/6/inv_filter_res_',i,'.svg',800,50), i=widgets.IntSlider(min=(min_i:=1),max=(max_i:=6), step=1, value=(max_i if book else min_i)))"
   ]
  },
  {
   "cell_type": "markdown",
   "id": "c07392a0",
   "metadata": {
    "slideshow": {
     "slide_type": "slide"
    }
   },
   "source": [
    "## Wiener filter for deconvolution"
   ]
  },
  {
   "cell_type": "markdown",
   "id": "734f14f3",
   "metadata": {},
   "source": [
    "The Wiener filter has been proposed by Norbert Wiener in 1949 and minimizes the mean squared error between the original image $s$ and the reconstruction $\\hat{s}$."
   ]
  },
  {
   "cell_type": "markdown",
   "id": "1375ae34",
   "metadata": {
    "slideshow": {
     "slide_type": "fragment"
    }
   },
   "source": [
    "The filter is obtained by assuming the involved images to be weakly stationary stochastic processes so that they can be described via their power spectral densities (not covered here)."
   ]
  },
  {
   "cell_type": "markdown",
   "id": "b08b856d",
   "metadata": {
    "slideshow": {
     "slide_type": "subslide"
    }
   },
   "source": [
    "In the Fourier-domain, the Wiener filter is given by\n",
    "\n",
    "$\\begin{align} \n",
    "   V(\\mathbf{f}) = \\frac{H(\\mathbf{f})^*}{\\left| H(\\mathbf{f}) \\right|^2 + \\underbrace{\\frac{S_{nn}(\\mathbf{f})}{S_{ss}(\\mathbf{f})}}_{=:SNR^{-1}(\\mathbf{f})} } \\,,\n",
    "\\end{align}$\n",
    "\n",
    "with $H(\\mathbf{f})^*$ denoting the complex conjugate of $H(\\mathbf{f})$ and $S_{nn}(\\mathbf{f}), S_{ss}(\\mathbf{f})$ denoting the power spectral densities of the noise $n$ and the original image $s$. The quotient $\\frac{S_{ss}(\\mathbf{f})}{S_{nn}(\\mathbf{f})}$ represents the signal-to-noise ration $SNR(\\mathbf{f})$ between $s$ and $n$."
   ]
  },
  {
   "cell_type": "markdown",
   "id": "d07291be",
   "metadata": {
    "slideshow": {
     "slide_type": "fragment"
    }
   },
   "source": [
    "For frequencies with high signal-to-noise ratios, the Wiener filter resembles the inverse filter and for low signal-to-noise ratios, it pulls yields values close to zero in order not to amplify any noise."
   ]
  },
  {
   "cell_type": "markdown",
   "id": "10674bf0",
   "metadata": {
    "slideshow": {
     "slide_type": "fragment"
    }
   },
   "source": [
    "One of the main practical problems of the Wiener filter is the dependence on the signal-to-noise ratio $SNR(\\mathbf{f})$ which can not be determined exactly as it involves the power spectral density of the unknown, original image $s$."
   ]
  },
  {
   "cell_type": "markdown",
   "id": "55260d19",
   "metadata": {
    "slideshow": {
     "slide_type": "subslide"
    }
   },
   "source": [
    "A common heuristic for providing the signal-to-noise ratio is \n",
    "\n",
    "$\\begin{align} \n",
    "   SNR_\\mathrm{{heur}} (\\mathbf{f}) = \\frac{1}{\\left\\| \\mathbf{f} \\right\\|_2 } \\,,\n",
    "\\end{align}$\n",
    "\n",
    "i.e., to steadily decrease the filtering for higher spatial frequencies as noise is typically dominated by high spatial frequencies."
   ]
  },
  {
   "cell_type": "markdown",
   "id": "b7fc53bf",
   "metadata": {
    "slideshow": {
     "slide_type": "fragment"
    }
   },
   "source": [
    "Later we will see another method for estimating the signal-to-noise ratio that takes the actual processed image $g$ into account."
   ]
  },
  {
   "cell_type": "markdown",
   "id": "a1280c83",
   "metadata": {
    "slideshow": {
     "slide_type": "subslide"
    }
   },
   "source": [
    "##### Example Wiener filter reconstruction results for increasing noise levels with SNR-heuristics"
   ]
  },
  {
   "cell_type": "code",
   "execution_count": 11,
   "id": "bcd41e55",
   "metadata": {
    "init_cell": true
   },
   "outputs": [
    {
     "data": {
      "application/vnd.jupyter.widget-view+json": {
       "model_id": "9a61fa7dace041269b9ff8dbe3c7c544",
       "version_major": 2,
       "version_minor": 0
      },
      "text/plain": [
       "interactive(children=(IntSlider(value=6, description='i', max=6, min=1), Output()), _dom_classes=('widget-inte…"
      ]
     },
     "metadata": {},
     "output_type": "display_data"
    },
    {
     "data": {
      "text/plain": [
       "<function __main__.<lambda>(i)>"
      ]
     },
     "execution_count": 11,
     "metadata": {},
     "output_type": "execute_result"
    }
   ],
   "source": [
    "interact(lambda i: showFig('figures/6/wiener_filter_res_',i,'.svg',800,50), i=widgets.IntSlider(min=(min_i:=1),max=(max_i:=6), step=1, value=(max_i if book else min_i)))"
   ]
  },
  {
   "cell_type": "markdown",
   "id": "527eeed4",
   "metadata": {
    "slideshow": {
     "slide_type": "slide"
    }
   },
   "source": [
    "## Richardson-Lucy deconvolution"
   ]
  },
  {
   "cell_type": "markdown",
   "id": "1953096f",
   "metadata": {},
   "source": [
    "The Richardson-Lucy deconvolution algorithm (RL-algorithm) has been simultaneously and independently proposed by William Richardson and Leon Lucy in the 1970s. \n",
    "\n",
    "It is based on the assumption that the noise affecting digitally acquired images is dominated by the so-called *shot noise* caused by the stochastic nature of the number of arriving photons."
   ]
  },
  {
   "cell_type": "markdown",
   "id": "8e364222",
   "metadata": {
    "slideshow": {
     "slide_type": "fragment"
    }
   },
   "source": [
    "We again consider the image formation process\n",
    "\n",
    "$\\begin{align} \n",
    "   g = s * h + n\\,,\n",
    "\\end{align}$\n",
    "\n",
    "with the observed image $g$, the sought original image $s$, the convolution kernel $h$ and the additive noise $n$."
   ]
  },
  {
   "cell_type": "markdown",
   "id": "5f54e7f3",
   "metadata": {
    "slideshow": {
     "slide_type": "subslide"
    }
   },
   "source": [
    "The probability $p(g)$ that a single pixel collects $g$ photons during one exposure period can be modelled by means of a Poisson distribution:\n",
    "\n",
    "$\\begin{align} \n",
    "   p(g) = \\mathrm{e}^{-\\lambda} \\cdot \\frac{\\lambda^g}{g!} \\,,\n",
    "\\end{align}$\n",
    "\n",
    "with $\\lambda$ denoting the expected number of photons collected during one exposure."
   ]
  },
  {
   "cell_type": "markdown",
   "id": "f4cb80f7",
   "metadata": {
    "slideshow": {
     "slide_type": "fragment"
    }
   },
   "source": [
    "In order to obtain a noise-free image, one would need to obtain $\\lambda$ by means of the measured $g$ photons (precisely, photoelectrons)."
   ]
  },
  {
   "cell_type": "markdown",
   "id": "46a6c2c3",
   "metadata": {
    "slideshow": {
     "slide_type": "subslide"
    }
   },
   "source": [
    "Since the joint probability of two independent events is the product of their individual probabilities, the joint probability of recording the intensities $g$ of a whole image can expressed via:\n",
    "\n",
    "$\\begin{align} \n",
    "   P(g) = \\prod_{(x,y)\\in \\Omega_g} \\mathrm{e}^{-\\Lambda_{x,y}} \\cdot \\frac{\\Lambda_{x,y}^{b_{x,y}}}{g_{x,y}!} \\,,\n",
    "\\end{align}$\n",
    "\n",
    "with $\\Omega_g$ denoting the spatial support of the image $g$, $\\Lambda_{x,y}$ denoting the value of the sought noise-free image $\\Lambda$ at position $(x,y)$ and $g_{x,y}$ denoting the pixel value of the image $g$ at position $(x,y)$. All operations are considered element-wise. \n",
    "\n",
    "To improve readability, we will omit the pixel index $(x,y)$ from now on."
   ]
  },
  {
   "cell_type": "markdown",
   "id": "b912dca4",
   "metadata": {
    "slideshow": {
     "slide_type": "fragment"
    }
   },
   "source": [
    "To obtain the noise-free image, we have to guess the hidden expected values $\\hat{\\Lambda}$ that match the observed image $g$ as closely as possible.\n",
    "\n",
    "We can achieve this by finding a $\\hat{\\Lambda}$ that maximizes $P(g)$, or, equivalently, that maximizes $\\log P(g)$:"
   ]
  },
  {
   "cell_type": "markdown",
   "id": "cd718daa",
   "metadata": {
    "slideshow": {
     "slide_type": "subslide"
    }
   },
   "source": [
    "$\\begin{align} \n",
    "   \\log P(g) &= \\log \\left( \\prod \\mathrm{e}^{-\\Lambda} \\cdot \\frac{\\Lambda^g}{g!} \\right) \\\\\n",
    "  &= \\sum \\log \\left(  \\mathrm{e}^{-\\Lambda} \\cdot \\frac{\\Lambda^g}{g!} \\right) \\\\\n",
    "  &= \\sum \\left( \\log e^{-\\Lambda} + g\\log \\Lambda - \\log g! \\right) \\\\\n",
    "  &= -\\sum \\left( \\Lambda-g\\log \\Lambda + \\log g!  \\right) \\,,\n",
    "\\end{align}$\n",
    "\n",
    "with $\\log$ denoting the natural logarithm. \n",
    "\n",
    "The last term in the summation, i.e., $\\log g!$, can be ignored since it does not depend on $\\Lambda$."
   ]
  },
  {
   "cell_type": "markdown",
   "id": "31a8db1b",
   "metadata": {
    "slideshow": {
     "slide_type": "subslide"
    }
   },
   "source": [
    "The noise-free image $\\Lambda$ is the result of\n",
    "\n",
    "$\\begin{align} \n",
    "   \\Lambda = s * h \\,,\n",
    "\\end{align}$\n",
    "\n",
    "i.e., the convolution of the noise-free, original image $s$ with the convolution kernel $h$."
   ]
  },
  {
   "cell_type": "markdown",
   "id": "a9ecfcc6",
   "metadata": {
    "slideshow": {
     "slide_type": "fragment"
    }
   },
   "source": [
    "And the observed image $g$ is the result Of\n",
    "\n",
    "$\\begin{align} \n",
    "   g = s * h + n \\,,\n",
    "\\end{align}$\n",
    "\n",
    "i.e., $\\Lambda$ with additive noise $n$."
   ]
  },
  {
   "cell_type": "markdown",
   "id": "d92cb719",
   "metadata": {
    "slideshow": {
     "slide_type": "subslide"
    }
   },
   "source": [
    "These two expressions can be inserted into the equation of $\\log P(g)$ in order to get to our optimization goal of finding an $\\hat{s}$ that maximizes $\\log P(g)$, i.e., minimizes $-\\log P(g)$:\n",
    "\n",
    "$\\begin{align} \n",
    "  \\hat{s} = \\argmin{s}\\, \\underbrace{ \\sum \\left( s * h-g\\log (s * h)  \\right)}_{=:J(s)} \\,,\n",
    "\\end{align}$\n",
    "\n",
    "with the optimization functional $J(s)$."
   ]
  },
  {
   "cell_type": "markdown",
   "id": "81d55eea",
   "metadata": {
    "slideshow": {
     "slide_type": "fragment"
    }
   },
   "source": [
    "To perform the optimization, we can employ gradient descent on $J(s)$. The gradient $\\nabla J=\\frac{\\partial J(s)}{\\partial s}$ of $J(s)$ w.r.t. $s$ is given by:\n",
    "\n",
    "$\\begin{align} \n",
    "  \\nabla J(s) = \\left( 1 - \\frac{g}{s*h} \\right) * h\\transp \\,,\n",
    "\\end{align}$\n",
    "\n",
    "with element-wise multiplication and division."
   ]
  },
  {
   "cell_type": "markdown",
   "id": "cef5b1fc",
   "metadata": {
    "slideshow": {
     "slide_type": "fragment"
    }
   },
   "source": [
    "For an initial guess of $\\hat{s}_0 := g$, the gradient descent iteration for the Richardson-Lucy algorithm is\n",
    "\n",
    "$\\begin{align} \n",
    "  \\hat{s}_{i+1} = \\hat{s}_i - \\eta \\nabla J(s_i) = \\hat{s}_i - \\eta \\left( 1 - \\frac{g}{s_i*h} \\right) * h\\transp \\,.\n",
    "\\end{align}$"
   ]
  },
  {
   "cell_type": "markdown",
   "id": "abaa6f3b",
   "metadata": {
    "slideshow": {
     "slide_type": "subslide"
    }
   },
   "source": [
    "### Multiplicative version of the Richardson-Lucy algorithm"
   ]
  },
  {
   "cell_type": "markdown",
   "id": "fa160737",
   "metadata": {},
   "source": [
    "The most implemented version of the RL-algorithm is the so-called *multiplicative RL-algorithm*. \n",
    "\n",
    "It relies on the convolution kernel $h$ being normalized, i.e., $\\sum_{(i,j)} h_{i,j} = 1$."
   ]
  },
  {
   "cell_type": "markdown",
   "id": "3169a5aa",
   "metadata": {
    "slideshow": {
     "slide_type": "fragment"
    }
   },
   "source": [
    "This also implies that $1*h\\transp=1$."
   ]
  },
  {
   "cell_type": "markdown",
   "id": "f923e14e",
   "metadata": {
    "slideshow": {
     "slide_type": "subslide"
    }
   },
   "source": [
    "The multiplicative RL-algorithm is derived by equating $J(s)$ to zero. This results in:\n",
    "\n",
    "$\\begin{align} \n",
    "   1 = \\frac{g}{s*h}*h\\transp \\,.\n",
    "\\end{align}$"
   ]
  },
  {
   "cell_type": "markdown",
   "id": "5a0c9567",
   "metadata": {
    "slideshow": {
     "slide_type": "fragment"
    }
   },
   "source": [
    "Since $J(s)$ is a convex function, it decreases with every step of gradient descent until it does not change anymore, i.e., until it holds\n",
    "\n",
    "$\\begin{align} \n",
    "   \\frac{\\hat{s}_{i+1}}{\\hat{s}_i} = 1 \\,.\n",
    "\\end{align}$"
   ]
  },
  {
   "cell_type": "markdown",
   "id": "5ba41b50",
   "metadata": {
    "slideshow": {
     "slide_type": "fragment"
    }
   },
   "source": [
    "We use this expression to substitute $1$ in the equation before and arrive at the sought multiplicative formulation of the RL-algorithm:\n",
    "\n",
    "$\\begin{align} \n",
    "  \\frac{\\hat{s}_{i+1}}{\\hat{s}_i} &= \\frac{g}{s*h}*h\\transp \\quad \\Leftrightarrow \\\\\n",
    "  \\hat{s}_{i+1} &= \\hat{s}_i \\frac{g}{\\hat{s}_i*h}*h\\transp \\,.\n",
    "\\end{align}$"
   ]
  },
  {
   "cell_type": "markdown",
   "id": "41ec7b67",
   "metadata": {
    "slideshow": {
     "slide_type": "subslide"
    }
   },
   "source": [
    "##### Comments on the Richardson-Lucy algorithm\n",
    "\n",
    "The RL-algorithm is implemented in many open source or commercial image processing libraries. \n",
    "\n",
    "The main problem of the RL-algorithm is that it starts to amplify noise after its (usually quick) convergence. Hence, the intermediate results have to be continuously inspected or some sort of regularization has to be incorporated into the optimization functional $J$."
   ]
  },
  {
   "cell_type": "markdown",
   "id": "7cde0fef",
   "metadata": {
    "slideshow": {
     "slide_type": "slide"
    }
   },
   "source": [
    "## Half-quadratic splitting (HQS) method"
   ]
  },
  {
   "cell_type": "markdown",
   "id": "691496a5",
   "metadata": {},
   "source": [
    "This section introduces a flexible, powerful and intuitive iterative approach, the half-quadratic splitting (HQS) method, for solving regularized inverse problems formulated like \\eqref{eq:map_solution}. \n",
    "\n",
    "We start with some general considerations and then apply HQS to the inverse problem of deconvolution."
   ]
  },
  {
   "cell_type": "markdown",
   "id": "60b92d10",
   "metadata": {
    "slideshow": {
     "slide_type": "fragment"
    }
   },
   "source": [
    "We assume the following image formation model:\n",
    "\n",
    "$\\begin{align} \n",
    "  \\mathbf{b} = \\mathbf{Ax} + \\mathbf{\\eta},\n",
    "\\end{align}$\n",
    "\n",
    "with $\\mathbf{x}\\in \\mathbb{R}^{N}$ denoting the unknown vector, $\\mathbf{b}\\in \\mathbb{R}^{M}$ representing the observations, the additive noise $\\mathbf{\\eta}\\in \\mathbb{R}^{M}$ and the matrix $\\mathbf{A}\\in \\mathbb{R}^{M\\times N}$ encoding the linear image formation model."
   ]
  },
  {
   "cell_type": "markdown",
   "id": "62447700",
   "metadata": {
    "slideshow": {
     "slide_type": "subslide"
    }
   },
   "source": [
    "Equation \\eqref{eq:map_solution} leads us to the general formulation of regularized inverse problems in the field of computational imaging:\n",
    "\n",
    "$\n",
    "\\begin{align}\\label{eq:general_inverse_problem} \n",
    "  \\hat{\\mathbf{x}} = \\argmin{\\mathbf{x}} \\, \\underbrace{\\frac{1}{2} \\left\\| \\mathbf{Ax-b} \\right\\|^2_2}_{\\text{data fidelity term}} + \\underbrace{\\lambda \\Psi (\\mathbf{x}) }_{\\text{regularizer}}\\,.\n",
    "\\end{align}\n",
    "$"
   ]
  },
  {
   "cell_type": "markdown",
   "id": "8aca4443",
   "metadata": {
    "slideshow": {
     "slide_type": "fragment"
    },
    "tags": [
     "book_only"
    ]
   },
   "source": [
    " The data fidelity term ensures that the sought solution $\\mathbf{\\hat{x}}$ matches the observed data $\\mathbf{b}$ when fed through the image formation process (modelled by $\\mathbf{A}$). The regularization operator $\\Psi : \\mathbb{R}^{N} \\rightarrow \\mathbb{R}^M$ models prior knowledge about the unknown original data $\\mathbf{x}$. The scalar parameter $\\lambda $ balances between the data fidelity term and the regularization term and hence $\\lambda \\in [ 0,1 ]$."
   ]
  },
  {
   "cell_type": "markdown",
   "id": "4d02a4d9",
   "metadata": {
    "slideshow": {
     "slide_type": "fragment"
    },
    "tags": [
     "book_only"
    ]
   },
   "source": [
    " \n",
    "Trying to directly solve \\eqref{eq:general_inverse_problem}, e.g., via gradient descent, often does not work well. Reasons are poor convergence or difficulties in finding an efficient way to calculate the gradient. Even worse, whenever we change the regularizer, we will have to re-write the optimization program again."
   ]
  },
  {
   "cell_type": "markdown",
   "id": "865b7b73",
   "metadata": {
    "slideshow": {
     "slide_type": "subslide"
    },
    "tags": [
     "presentation_only",
     "remove-cell"
    ]
   },
   "source": [
    "Disadvantages of directly solving \\eqref{eq:general_inverse_problem} with, e.g.,  gradient descent:\n",
    "* Bad / no convergence,\n",
    "* calculation of gradient only in a computationally inefficient way,\n",
    "* change of regularizer requires a lot of reprogramming."
   ]
  },
  {
   "cell_type": "markdown",
   "id": "608beb02",
   "metadata": {
    "slideshow": {
     "slide_type": "subslide"
    }
   },
   "source": [
    "Hence, rewrite \\eqref{eq:general_inverse_problem} to:\n",
    "\n",
    "$\n",
    "\\begin{align} \\label{eq:hqs_1}\n",
    "  \\argmin{\\mathbf{x}}\\quad &\\underbrace{\\frac{1}{2}\\left\\| \\mathbf{Ax-b} \\right\\|^2_2 }_{=:f(\\mathbf{x})} + \\underbrace{\\lambda \\Psi (\\mathbf{z})}_{=:g(\\mathbf{z})} \\\\\n",
    "  \\text{subject to}\\quad &\\mathbf{Dx-z} = \\mathbf{0} \\,.\n",
    "\\end{align}\n",
    "$"
   ]
  },
  {
   "cell_type": "markdown",
   "id": "5199795b",
   "metadata": {
    "slideshow": {
     "slide_type": "fragment"
    },
    "tags": [
     "book_only"
    ]
   },
   "source": [
    "We introduced a so-called *slack variable* $\\mathbf{z}\\in \\mathbb{R}^O$ which allows us to separate the data fidelity term and the regularization term so that they do not depend on the same variable anymore. Obviously, $\\mathbf{x}$ and $\\mathbf{z}$ are still linked by the constraint $\\mathbf{Dx-z=0}$.\n",
    "\n",
    "For now, we assume $\\mathbf{D}\\in \\mathbb{R}^{O\\times N}$ to represent the identity matrix (i.e., it does not introduce any changes and can be ignored for now) - it will come back into play later on."
   ]
  },
  {
   "cell_type": "markdown",
   "id": "549c303f",
   "metadata": {
    "slideshow": {
     "slide_type": "fragment"
    },
    "tags": [
     "presentation_only",
     "remove-cell"
    ]
   },
   "source": [
    "With so-called *slack variable* $\\mathbf{z}\\in \\mathbb{R}^O$.\n",
    "\n",
    "For now, assume $\\mathbf{D}\\in \\mathbb{R}^{O\\times N}$ to represent the identity matrix (will change later)."
   ]
  },
  {
   "cell_type": "markdown",
   "id": "d6185f8b",
   "metadata": {
    "slideshow": {
     "slide_type": "fragment"
    }
   },
   "source": [
    "We now include the constraint of \\eqref{eq:hqs_1} directly in the main optimization objective term via a penalty term:\n",
    "\n",
    "$\n",
    "\\begin{align}\\label{eq:hqs_2}\n",
    " L_\\rho (\\mathbf{x}, \\mathbf{z}) = f(\\mathbf{x}) + g(\\mathbf{z}) + \\frac{\\rho}{2} \\left\\| \\mathbf{Dx-z} \\right\\|^2_2\\,, \\qquad \\text{with }\\rho > 0\\,.\n",
    "\\end{align}\n",
    "$"
   ]
  },
  {
   "cell_type": "markdown",
   "id": "165e4ad8",
   "metadata": {
    "slideshow": {
     "slide_type": "fragment"
    },
    "tags": [
     "book_only"
    ]
   },
   "source": [
    " \n",
    " Intuitively, setting $\\rho$ to a large value leads to the same results for minimizing \\eqref{eq:hqs_1} and \\eqref{eq:hqs_2}. The benefit of this reformulation is that we can perform gradient descent for $\\mathbf{x}$ and $\\mathbf{z}$ in an alternating fashion."
   ]
  },
  {
   "cell_type": "markdown",
   "id": "3beaffb6",
   "metadata": {
    "slideshow": {
     "slide_type": "subslide"
    },
    "tags": [
     "presentation_only",
     "remove-cell"
    ]
   },
   "source": [
    " \n",
    " $\\Rightarrow$ Variables $\\mathbf{x}$ and $\\mathbf{z}$ can now be iteratively optimized via gradient descent in an alternating fashion:"
   ]
  },
  {
   "cell_type": "markdown",
   "id": "9f855a2c",
   "metadata": {
    "slideshow": {
     "slide_type": "fragment"
    }
   },
   "source": [
    "$\n",
    "\\begin{align} \n",
    "   &\\mathbf{x} \\leftarrow \\mathrm{prox}_{f,\\rho} (\\mathbf{z}) = \\argmin{\\mathbf{x}}\\, L_\\rho (\\mathbf{x}, \\mathbf{z}) = \\argmin{\\mathbf{x}}\\, f(\\mathbf{x}) + \\frac{\\rho}{2} \\left\\| \\mathbf{Dx-z} \\right\\|^2_2\\,, \\\\\n",
    "   &\\mathbf{z} \\leftarrow \\mathrm{prox}_{g,\\rho} (\\mathbf{Dx}) = \\argmin{\\mathbf{z}}\\, L_\\rho (\\mathbf{x}, \\mathbf{z}) = \\argmin{\\mathbf{z}}\\, g(\\mathbf{z}) + \\frac{\\rho}{2} \\left\\| \\mathbf{Dx-z} \\right\\|^2_2\\,.\n",
    "\\end{align}\n",
    "$"
   ]
  },
  {
   "cell_type": "markdown",
   "id": "370038e0",
   "metadata": {
    "slideshow": {
     "slide_type": "fragment"
    },
    "tags": [
     "book_only"
    ]
   },
   "source": [
    "Again, the important benefit of this formulation is that we can update $\\mathbf{x}$ and $\\mathbf{z}$ separately. We will see that this approach allows us to easily experiment with different regularizers (this is sometimes also referred to as a *plug-and-play* formulation)."
   ]
  },
  {
   "cell_type": "markdown",
   "id": "0a55dc93",
   "metadata": {
    "slideshow": {
     "slide_type": "subslide"
    },
    "tags": [
     "presentation_only",
     "remove-cell"
    ]
   },
   "source": [
    "Advantages of this formulation:\n",
    "\n",
    "* Separate updates of $\\mathbf{x}$ and $\\mathbf{z}$,\n",
    "* allows to easily experiment with different regularizers,\n",
    "* many proximal operators can be implemented efficiently, often in closed form."
   ]
  },
  {
   "cell_type": "markdown",
   "id": "68fb219c",
   "metadata": {
    "slideshow": {
     "slide_type": "subslide"
    }
   },
   "source": [
    "### Excursion on proximal operators"
   ]
  },
  {
   "cell_type": "markdown",
   "id": "63e9388e",
   "metadata": {},
   "source": [
    "So-called *proximal operators* are used in *proximal algorithms* to solve \n",
    "* large-scale,\n",
    "* non-smooth and\n",
    "* constrained\n",
    "convex optimization problems."
   ]
  },
  {
   "cell_type": "markdown",
   "id": "ffa13bee",
   "metadata": {
    "slideshow": {
     "slide_type": "fragment"
    }
   },
   "source": [
    "Similar to calculating the gradient of the target function $f$ in gradient descent, one evaluates the corresponding proximal operator to take one step into the direction of the sought minimum."
   ]
  },
  {
   "cell_type": "markdown",
   "id": "8188feca",
   "metadata": {
    "slideshow": {
     "slide_type": "subslide"
    }
   },
   "source": [
    "##### Definition of a proximal operator"
   ]
  },
  {
   "cell_type": "markdown",
   "id": "cf5b1313",
   "metadata": {},
   "source": [
    "Assume $f:\\mathbb{R} ^n \\rightarrow  \\mathbb{R} \\cup \\left\\{ +\\infty \\right\\} $ to be a closed proper convex function, i.e., with its *epigraph*\n",
    "\n",
    "$\\begin{align} \n",
    "   \\mathrm{epi}_t f := \\left\\{ (x,t) \\in \\mathbb{R} ^n \\times \\mathbb{R} \\vert f(x) \\leq  t  \\right\\}\n",
    "\\end{align}$\n",
    "\n",
    "being a nonempty closed convex set."
   ]
  },
  {
   "cell_type": "markdown",
   "id": "3ac174e0",
   "metadata": {
    "slideshow": {
     "slide_type": "subslide"
    }
   },
   "source": [
    "The proximal operator $\\mathrm{prox}_f (v):\\mathbb{R} ^n \\rightarrow \\mathbb{R}^n$ of $f$ is defined as\n",
    "\n",
    "$\\begin{align} \n",
    "   \\mathrm{prox}_f (v) = \\argmin{x}\\, \\left( f(x) + \\frac{1}{2} \\left\\| x-v \\right\\|^2_2  \\right)  \\,.\n",
    "\\end{align}$"
   ]
  },
  {
   "cell_type": "markdown",
   "id": "a383f246",
   "metadata": {
    "slideshow": {
     "slide_type": "fragment"
    }
   },
   "source": [
    "The minimized term on the right-hand side is strongly convex and not infinite everywhere, so it has a unique solution for every $v\\in \\mathbb{R} ^n$."
   ]
  },
  {
   "cell_type": "markdown",
   "id": "e8045651",
   "metadata": {
    "slideshow": {
     "slide_type": "fragment"
    }
   },
   "source": [
    "Often the proximal operator for the scaled function $\\lambda f$, with $\\lambda > 0$, is of interested, which we denote as:\n",
    "\n",
    "$\\begin{align} \n",
    "  \\mathrm{prox}_{f,\\lambda} (v) = \\argmin{x}\\, \\left( f(x) + \\frac{1}{2} \\lambda \\left\\| x-v \\right\\|^2_2  \\right)  \\,.   \n",
    "\\end{align}$"
   ]
  },
  {
   "cell_type": "markdown",
   "id": "3a04913d",
   "metadata": {
    "slideshow": {
     "slide_type": "subslide"
    }
   },
   "source": [
    "##### Interpretation of proximal operators"
   ]
  },
  {
   "cell_type": "markdown",
   "id": "a3e2ee4e",
   "metadata": {},
   "source": [
    "Intuitively, a proximal operator $\\mathrm{prox}_f (v)$ yields a point that is a compromise between minimizing $f$ and being  near to $v$. \n",
    "\n",
    "In the scaled version $\\mathrm{prox}_{f,\\lambda} (v)$, $\\lambda$ acts like a relative weight between the two terms."
   ]
  },
  {
   "cell_type": "markdown",
   "id": "273d3c94",
   "metadata": {
    "slideshow": {
     "slide_type": "subslide"
    }
   },
   "source": [
    "The effect of a proximal operator can be visualized as follows:\n",
    "\n",
    "<img src=\"figures/6/illustration_proximal_operator.svg\" style=\"max-height:40vh\">"
   ]
  },
  {
   "cell_type": "markdown",
   "id": "7df5c641",
   "metadata": {},
   "source": [
    "Points $v$ inside the domain of $f$ are moved by the proximal operator so that they stay in the domain and get closer to the minimum of $f$. \n",
    "\n",
    "Points $v$ outside the domain of $f$ are moved onto the boundary of $f$ and in the direction of the minimum of $f$."
   ]
  },
  {
   "cell_type": "markdown",
   "id": "841257da",
   "metadata": {
    "slideshow": {
     "slide_type": "subslide"
    }
   },
   "source": [
    "Proximal operators can also be interpreted as a kind of gradient descent step in the sense that \n",
    "\n",
    "$\\begin{align} \n",
    "   \\mathrm{prox}_{f, \\lambda}(v) \\approx v - \\lambda \\nabla f(v) \\,,\n",
    "\\end{align}$\n",
    "\n",
    "when $\\lambda$ is small and $f$ is differentiable."
   ]
  },
  {
   "cell_type": "markdown",
   "id": "693884e2",
   "metadata": {
    "slideshow": {
     "slide_type": "subslide"
    }
   },
   "source": [
    "### HQS for deconvolution\n",
    "\n",
    "We now again consider the inverse problem of deconvolution with circual boundary conditions. Here, the matrix $\\mathbf{A}$ is the square circulant Toeplitz matrix $\\mathbf{C} \\in \\mathbb{R}^{N\\times N}$ representing a 2D-convolution of the input image $x$ with the convolution kernel $c$."
   ]
  },
  {
   "cell_type": "markdown",
   "id": "b5e25914",
   "metadata": {},
   "source": [
    "Revise the duality between the signal processing formulation and the algebraic formulation:\n",
    "\n",
    "$\n",
    "\\begin{align} \n",
    "   c*x = \\Fi \\left\\{ \\F \\left\\{ c \\right\\} \\cdot \\F \\left\\{ x \\right\\}  \\right\\} &\\Leftrightarrow \\mathbf{Cx} \\,, \\\\\n",
    "   \\Fi \\left\\{ \\F \\left\\{ c \\right\\}^* \\cdot \\F \\left\\{ x \\right\\}   \\right\\} &\\Leftrightarrow \\mathbf{C}\\transp \\mathbf{x}\\,, \\\\\n",
    "   \\Fi \\left\\{ \\frac{\\F \\left\\{ b \\right\\} }{\\F \\left\\{ c \\right\\} } \\right\\} &\\Leftrightarrow \\mathbf{C}^{-1} \\mathbf{b}\\,.\n",
    "\\end{align}\n",
    "$"
   ]
  },
  {
   "cell_type": "markdown",
   "id": "70b60e91",
   "metadata": {
    "slideshow": {
     "slide_type": "subslide"
    }
   },
   "source": [
    "#### HQS with total variation and denoising regularizers\n",
    "\n",
    "The initial formulation \\eqref{eq:hqs_1} of HQS depends on which regularizer we employ.\n",
    "\n",
    "For total variation this is:\n",
    "\n",
    "$\n",
    "\\begin{align} \n",
    "  \\argmin{\\mathbf{x}}\\quad &\\underbrace{\\frac{1}{2}\\left\\| \\mathbf{Cx-b} \\right\\|^2_2 }_{=:f(\\mathbf{x})} + \\underbrace{\\lambda \\left\\| \\mathbf{z} \\right\\|_1 }_{=:g(\\mathbf{z})} \\\\\n",
    "  \\text{subject to}\\quad &\\mathbf{Dx-z} = \\mathbf{0} \\,,\n",
    "\\end{align}\n",
    "$\n",
    "\n",
    "with $\\mathbf{D} = \\left[ \\mathbf{D}\\transp_x \\mathbf{D}\\transp_y \\right]\\transp \\in \\mathbb{R}^{2N \\times N}$ representing the finite difference operator for calculating the gradients of $\\mathbf{x}$ in $x$- and $y$-direction."
   ]
  },
  {
   "cell_type": "markdown",
   "id": "c7e289d3",
   "metadata": {
    "tags": [
     "book_only"
    ]
   },
   "source": [
    "```{note}\n",
    "  The vector $\\mathbf{z}\\in \\mathbb{R}^{2N}$ has to be twice as large as $\\mathbf{x}\\in \\mathbb{R}^{N} $ in order to store the two gradient values in $x$- and $y$-direction for every input pixel.\n",
    "```"
   ]
  },
  {
   "cell_type": "markdown",
   "id": "56b8422f",
   "metadata": {
    "slideshow": {
     "slide_type": "subslide"
    }
   },
   "source": [
    "In the more general case, we use a regularizer $\\Psi $ projecting an image onto the set of feasible natural images:\n",
    "\n",
    "$\n",
    "\\begin{align} \n",
    "  \\argmin{\\mathbf{x}}\\quad &\\underbrace{\\frac{1}{2}\\left\\| \\mathbf{Cx-b} \\right\\|^2_2 }_{=:f(\\mathbf{x})} + \\underbrace{\\lambda  \\Psi (\\mathbf{z})}_{=:g(\\mathbf{z})} \\\\\n",
    "  \\text{subject to}\\quad &\\mathbf{x-z} = \\mathbf{0} \\,.\n",
    "\\end{align}\n",
    "$\n",
    "\n",
    "Here the matrix $D$ represents the identity matrix which is why it can be omitted."
   ]
  },
  {
   "cell_type": "markdown",
   "id": "ef30598f",
   "metadata": {
    "slideshow": {
     "slide_type": "subslide"
    }
   },
   "source": [
    "##### Efficient implementation of $x$-update\n",
    "\n",
    "For obtaining the $x$-update, we have to derive the proximal operator $\\mathrm{prox}_{f,\\rho}$:\n",
    "\n",
    "$\n",
    "\\begin{align} \n",
    "  \\mathrm{prox}_{f,\\rho} (\\mathbf{z}) = \\argmin{\\mathbf{x}}\\, f(\\mathbf{x}) + \\frac{\\rho}{2} \\left\\| \\mathbf{Dx-z} \\right\\|^2_2 = \\argmin{\\mathbf{x}}\\, \\frac{1}{2} \\left\\| \\mathbf{Cx-b} \\right\\|^2_2 + \\frac{\\rho}{2} \\left\\| \\mathbf{Dx-z} \\right\\|^2_2 \\,.\n",
    "\\end{align}\n",
    "$\n",
    "\n",
    "Hence, we have to derive the gradient of that equation with respect to $\\mathbf{x}$."
   ]
  },
  {
   "cell_type": "markdown",
   "id": "fe399652",
   "metadata": {
    "slideshow": {
     "slide_type": "subslide"
    },
    "tags": [
     "book_only"
    ]
   },
   "source": [
    "We iteratively expand that equation as follows:\n",
    "\n",
    "$\n",
    "\\begin{align} \n",
    "  &\\frac{1}{2} \\left\\| \\mathbf{Cx-b} \\right\\|^2_2 + \\frac{\\rho}{2} \\left\\| \\mathbf{Dx-z} \\right\\|^2_2 \\\\\n",
    "  =&\\frac{1}{2} (\\mathbf{Cx-b})\\transp (\\mathbf{Cx-b}) + \\frac{\\rho}{2} (\\mathbf{Dx-z})\\transp (\\mathbf{Dx-z}) \\\\\n",
    "  =&\\frac{1}{2} (\\mathbf{x}\\transp \\mathbf{C}\\transp \\mathbf{Cx} - 2\\mathbf{x}\\transp \\mathbf{C}\\transp \\mathbf{b} + \\mathbf{b}\\transp \\mathbf{b}) + \\frac{\\rho}{2} (\\mathbf{x}\\transp \\mathbf{D}\\transp \\mathbf{D} \\mathbf{x} - 2 \\mathbf{x}\\transp \\mathbf{D}\\transp \\mathbf{z} + \\mathbf{z}\\transp\\mathbf{z}) \\,.\n",
    "\\end{align}\n",
    "$"
   ]
  },
  {
   "cell_type": "markdown",
   "id": "967a3faa",
   "metadata": {
    "slideshow": {
     "slide_type": "subslide"
    }
   },
   "source": [
    "The sought gradient is\n",
    "\n",
    "$\n",
    "\\begin{align} \n",
    "   \\mathbf{C}\\transp \\mathbf{Cx} - \\mathbf{C}\\transp \\mathbf{b} + \\rho \\mathbf{D}\\transp \\mathbf{Dx} - \\rho \\mathbf{D}\\transp \\mathbf{z} \\,.\n",
    "\\end{align}\n",
    "$\n",
    "\n",
    "This expression can now be equated to zero and solved for $\\mathbf{x}$."
   ]
  },
  {
   "cell_type": "markdown",
   "id": "69f9830c",
   "metadata": {
    "slideshow": {
     "slide_type": "subslide"
    },
    "tags": [
     "book_only"
    ]
   },
   "source": [
    "The single steps are:\n",
    "\n",
    "$\n",
    "\\begin{align} \n",
    "  \\mathbf{C}\\transp \\mathbf{Cx} - \\mathbf{C}\\transp \\mathbf{b} + \\rho \\mathbf{D}\\transp \\mathbf{Dx} - \\rho \\mathbf{D}\\transp \\mathbf{z}\\quad &\\overset{!}{=} \\quad \\mathbf{0} \\\\\n",
    "  \\mathbf{C}\\transp \\mathbf{Cx} + \\rho \\mathbf{D}\\transp \\mathbf{Dx}\n",
    "  &\\overset{!}{=} \\quad \\mathbf{C}\\transp \\mathbf{b} + \\rho \\mathbf{D}\\transp \\mathbf{z} \\\\\n",
    "  (\\mathbf{C}\\transp \\mathbf{C} + \\rho \\mathbf{D}\\transp \\mathbf{D})\\mathbf{x}\n",
    "  &\\overset{!}{=} \\quad \\mathbf{C}\\transp \\mathbf{b} + \\rho \\mathbf{D}\\transp \\mathbf{z} \\\\\n",
    "  \\mathbf{x} &\\overset{!}{=} (\\mathbf{C}\\transp \\mathbf{C} + \\rho \\mathbf{D}\\transp \\mathbf{D})^{-1}(\\mathbf{C}\\transp \\mathbf{b} + \\rho \\mathbf{D}\\transp \\mathbf{z}) \\,.\n",
    "\\end{align}\n",
    "$"
   ]
  },
  {
   "cell_type": "markdown",
   "id": "8fef3336",
   "metadata": {
    "slideshow": {
     "slide_type": "fragment"
    }
   },
   "source": [
    "This yields a first formulation for the sought proximal operator:\n",
    "\n",
    "$\\begin{align}\\label{eq:hqs_tv_1} \n",
    "  \\mathrm{prox}_{f,\\rho} (\\mathbf{z}) = (\\mathbf{C}\\transp \\mathbf{C} + \\rho \\mathbf{D}\\transp \\mathbf{D})^{-1}(\\mathbf{C}\\transp \\mathbf{b} + \\rho \\mathbf{D}\\transp \\mathbf{z}) \\,.\n",
    "\\end{align}$"
   ]
  },
  {
   "cell_type": "markdown",
   "id": "9ef2e90a",
   "metadata": {
    "slideshow": {
     "slide_type": "subslide"
    }
   },
   "source": [
    "##### Special case of total variation regularizer"
   ]
  },
  {
   "cell_type": "markdown",
   "id": "2830c0e0",
   "metadata": {
    "tags": [
     "book_only"
    ]
   },
   "source": [
    "For the TV regularizer, the matrix $\\mathbf{D}$ represents the finite difference operator.  The matrix-vector multiplications involved in the proximal operator, i.e., $\\mathbf{Cx}$ and $\\mathbf{Dx} = \\left[ \\mathbf{D}\\transp_x \\mathbf{D}\\transp_y  \\right]\\transp \\mathbf{x}$ (and also their adjoint correspondencies $\\mathbf{C}\\transp \\mathbf{b}$ and $\\mathbf{D}\\transp \\mathbf{z} = \\left[ \\mathbf{D}\\transp_x \\mathbf{D}\\transp_y  \\right] \\mathbf{z}   $ ) all encode 2D-convolutions with circular boundary conditions."
   ]
  },
  {
   "cell_type": "markdown",
   "id": "569bc038",
   "metadata": {
    "slideshow": {
     "slide_type": "subslide"
    }
   },
   "source": [
    "Exploiting the duality of the signal-processing perspective and the algebraic perspective yields the following reforumlations of the denominator, respectively, of the nominator of \\eqref{eq:hqs_tv_1}:\n",
    "\n",
    "$\\begin{align} \n",
    "  (\\mathbf{C}\\transp \\mathbf{C} + \\rho \\mathbf{D}\\transp \\mathbf{D}) &\\Leftrightarrow \\Fi \\left\\{ \\F \\left\\{ c \\right\\}^* \\cdot \\F \\left\\{ c \\right\\} + \\rho \\left( \\F \\left\\{ d_x \\right\\}^* \\cdot \\F \\left\\{ d_x \\right\\} + \\F \\left\\{ d_y \\right\\}^* \\cdot \\F \\left\\{  d_y \\right\\}     \\right)   \\right\\} \\, , \\\\\n",
    "  (\\mathbf{C}\\transp \\mathbf{b} + \\rho \\mathbf{D}\\transp \\mathbf{z}) &\\Leftrightarrow \\Fi \\left\\{ \\F \\left\\{ c \\right\\}^* \\cdot \\F \\left\\{ b \\right\\} + \\rho \\left( \\F \\left\\{ d_x \\right\\}^* \\cdot \\F \\left\\{ z \\right\\} + \\F \\left\\{ d_y \\right\\}^* \\cdot \\F \\left\\{  z \\right\\}  \t  \\right)   \\right\\} \\,,\n",
    "\\end{align}$\n",
    "\n",
    "with $(\\cdot)^*$ denoting the element-wise complex conjugate."
   ]
  },
  {
   "cell_type": "markdown",
   "id": "f246061a",
   "metadata": {
    "slideshow": {
     "slide_type": "subslide"
    }
   },
   "source": [
    "Combining both terms in the original fraction yields the sought proximal operator:\n",
    "\n",
    "$\\begin{align} \n",
    "  \\mathrm{prox}_{\\left\\| \\cdot \\right\\|_2 ,\\rho} (\\mathbf{z}) = \\Fi \\left\\{  \\frac{\\F \\left\\{ c \\right\\}^* \\cdot \\F \\left\\{ b \\right\\} + \\rho \\left( \\F \\left\\{ d_x \\right\\}^* \\cdot \\F \\left\\{ z \\right\\} + \\F \\left\\{ d_y \\right\\}^* \\cdot \\F \\left\\{  z \\right\\}  \t  \\right)}{\\F \\left\\{ c \\right\\}^* \\cdot \\F \\left\\{ c \\right\\} + \\rho \\left( \\F \\left\\{ d_x \\right\\}^* \\cdot \\F \\left\\{ d_x \\right\\} + \\F \\left\\{ d_y \\right\\}^* \\cdot \\F \\left\\{  d_y \\right\\}     \\right)} \\right\\} \\,.\n",
    "\\end{align}$"
   ]
  },
  {
   "cell_type": "markdown",
   "id": "ee8d9e59",
   "metadata": {
    "slideshow": {
     "slide_type": "subslide"
    },
    "tags": [
     "book_only"
    ]
   },
   "source": [
    "As for the inverse filer introduced before, this proximal operator is also unstable with respect to noise and zeros in the involved Fourier transforms. However, the integration into the HQS iterations will mitigate these effects so that the resulting estimate $\\mathbf{\\hat{x}}$ will not be affected.\n",
    "\n",
    "```{note}\n",
    "   All terms of the proximal operator that do not depend on $z$ only have to be computed once and can then be reused.\n",
    "```"
   ]
  },
  {
   "cell_type": "markdown",
   "id": "c16a4fa1",
   "metadata": {
    "slideshow": {
     "slide_type": "subslide"
    }
   },
   "source": [
    "##### General regularizer\n",
    "\n",
    "For a general regularizer, we assume $\\mathbf{D}$ to be the identity matrix so that it can be ignored. The proximal operator can then be written as:\n",
    "\n",
    "$\\begin{align} \n",
    "  \\mathrm{prox}_{\\left\\| \\cdot \\right\\|_2 ,\\rho} (\\mathbf{z}) = \\Fi \\left\\{ \\frac{\\F \\left\\{ c \\right\\}^* \\cdot \\F \\left\\{ b \\right\\} + \\rho \\F \\left\\{ z \\right\\}  }{\\F \\left\\{ c \\right\\}^* \\cdot \\F \\left\\{ c \\right\\} + \\rho}  \\right\\} \\,.\n",
    "\\end{align}$"
   ]
  },
  {
   "cell_type": "markdown",
   "id": "6411cab4",
   "metadata": {
    "slideshow": {
     "slide_type": "subslide"
    }
   },
   "source": [
    "##### Efficient implementation of $z$-update for anisotropic TV regularizer\n",
    "\n",
    "For the $z$-update, we need to find a solution for the proximal operator\n",
    "\n",
    "$\\begin{align} \n",
    "   \\mathrm{prox}_{\\left\\| \\cdot \\right\\|_1, \\rho } (\\mathbf{Dx}) = \\argmin{\\mathbf{z}}\\, \\lambda \\left\\| \\mathbf{z} \\right\\|_1 + \\frac{\\rho}{2}\\left\\| \\mathbf{Dx-z} \\right\\|^2_2 \\,.  \n",
    "\\end{align}$\n",
    "\n",
    "To simplify the writing, we substitute $\\mathbf{v} = \\mathbf{Dx}$:\n",
    "\n",
    "$\\begin{align} \n",
    "  \\mathrm{prox}_{\\left\\| \\cdot \\right\\|_1, \\rho } (\\mathbf{v}) = \\argmin{\\mathbf{z}}\\, \\lambda \\left\\| \\mathbf{z} \\right\\|_1 + \\frac{\\rho}{2}\\left\\| \\mathbf{v-z} \\right\\|^2_2 \\,.  \n",
    "\\end{align}$"
   ]
  },
  {
   "cell_type": "markdown",
   "id": "c445aa68",
   "metadata": {
    "slideshow": {
     "slide_type": "skip"
    },
    "tags": [
     "book_only"
    ]
   },
   "source": [
    "We now have to calculate the gradient of that expression with respect to $\\mathbf{z}$. To easily follow the derivation, we will work on a single element of the gradient, i.e., we consider the scalar function\n",
    "\n",
    "$\\begin{align} \n",
    "   h(z) = \\frac{\\rho}{2}(v-z)^2 + \\lambda \\vert z \\vert \\,.\n",
    "\\end{align}$\n",
    "\n",
    "In order to calculate the gradient $h'(z)$ of $h(z)$, we can work on the two terms of the addition separately. The derivative of the first term $\\frac{\\rho}{2}(v-z)^2$ is \n",
    "\n",
    "$\\begin{align} \n",
    "   \\frac{\\mathrm{d}}{\\mathrm{d}z}\\,\\, \\frac{\\rho}{2}(v-z)^2 = \\rho (-v + z) \\,.\n",
    "\\end{align}$\n",
    "\n",
    "Unfortunately, the absolute value function $\\vert \\cdot \\vert$ (i.e., the 1-norm $\\left\\| \\cdot \\right\\|_1$) is not differentiable and we have to take a detour to solve that problem.\n",
    "\n",
    "For convex functions there is the concept of subdifferentials and subgradients which can be employed to approximate the gradient of convex functions at positions where they are not differentiable. \n",
    "\n",
    "Consider a convex function $f:\\mathcal{S} \\rightarrow \\mathbb{R}$ defined on the open interval $\\mathcal{S}$. According to Taylor's theorem, the linear approximation of such a function $f$ at any point is strictly smaller than the value of the function at that point itself, i.e.,\n",
    "\n",
    "$\\begin{align} \n",
    "   \\forall a \\in \\mathcal{S}: f(x) \\geq f(a) + f'(a)(x-a) \\,.\n",
    "\\end{align}$\n",
    "\n",
    "This inequality also holds for other values $g$ instead of $f'(a)$, which are smaller than the true gradient $f'(a)$ and since a gradient is never infinite, there have to be infinitely many of suitable $g$:\n",
    "\n",
    "$\\begin{align} \n",
    "   \\forall a \\in \\mathcal{S} \\exists g \\in \\mathbb{R}: f(x) \\geq f(a) + g(x-a) \\,.\n",
    "\\end{align}$\n",
    "\n",
    "Such values $g$ are called *subgradients* of the function $f$ at position $a$. The set of all subgradients of $f$ at position $a$ is called the *subdifferential* $\\partial_a f$ of $f$ at position $a$:\n",
    "\n",
    "$\\begin{align} \n",
    "   \\partial_a f(x) = \\left\\{ g\\in \\mathbb{R}: f(x) \\geq f(a) + g(x-a) \\right\\}  \\,.\n",
    "\\end{align}$\n",
    "\n",
    "Subdifferentials have the following useful properties (w.r.t a convex function $f$ as defined above):\n",
    "* The function $f$ is differentiable at position $a$ if and only if the set of subdifferentials at position $a$ contains only a single slope value, i.e., if $\\vert \\partial_a f(x) \\vert = 1$.\n",
    "* A point $a$ is a global minimum of $f$ if and only if $0 \\in \\partial_a f(x)$.\n",
    "* Let $k(x)$ be another convex function like $f$. With the subdifferentials $\\partial_a f(x), \\partial_a k(x)$ for some position $a$, the subdifferential of $f+k$ for position $a$ is then $\\partial_a (f+k)(x) = \\partial_a f(x) \\oplus \\partial_a k(x)$ with $\\oplus$ denoting the so-called Minkowski sum (i.e., the set of all possible sums between all elements of the two input sets).\n",
    "\n",
    "We will now derive the subdifferential of $h(z) = \\frac{\\rho}{2}(v-z)^2 + \\lambda \\vert z \\vert $ (neglecting the position $a$ for simplicity) and look for subgradients of $0$, which correspond to the sought minimum.\n",
    "\n",
    "According to the third property introduced before, it is:\n",
    "\n",
    "$\\begin{align} \n",
    "   \\partial h(z) = \\partial \\frac{\\rho}{2}(v-z)^2 \\oplus  \\partial \\lambda \\vert z \\vert \\,.\n",
    "\\end{align}$\n",
    "\n",
    "Of course, the true gradient $f'(a)$ of a function $f(x)$ at position $a$ is also a valid subgradient at position $a$, i.e.:\n",
    "\n",
    "$\\begin{align}\\label{eq:hqs_z_1} \n",
    "  \\partial h(z) = \\lbrace \\rho(-v+z) \\rbrace \\oplus  \\partial \\lambda \\vert z \\vert \\,.   \n",
    "\\end{align}$\n",
    "\n",
    "The subdifferentials for the absolute value function are:\n",
    "\n",
    "$\\begin{align}\\label{eq:hqs_z_2}\n",
    "  \\partial \\lambda \\vert z \\vert = \\begin{cases}\n",
    "   &-\\lambda &\\text{ if } z < 0\\\\\n",
    "   &[-\\lambda, \\lambda] &\\text{ if } z = 0\\\\\n",
    "   &\\lambda &\\text{ if } z > 0\\\\\n",
    "  \\end{cases} \\,.\n",
    "\\end{align}$\n",
    "\n",
    "For $z\\neq 0$, the absolute function is differentiable which is why its subdifferentials for those positions contains only one element ($\\lambda$ or $-\\lambda$ respectively). For $z=0$ there infinitely many possible slope values inside the interval $[-\\lambda, \\lambda]$ (note: the value $0$ is also contained in that interval, indicating that the global minimum must be at position $0$). \n",
    "\n",
    "Combining \\eqref{eq:hqs_z_1} and \\eqref{eq:hqs_z_2} yields:\n",
    "\n",
    "$\\begin{align}\n",
    "  \\partial h(z) =  \\begin{cases}\n",
    "    &\\rho(-v+z) - \\lambda &\\text{ if } z < 0\\\\\n",
    "    &[-\\rho v-\\lambda, -\\rho v + \\lambda] &\\text{ if } z = 0\\\\\n",
    "    &\\rho(-v+z) + \\lambda &\\text{ if } z > 0\n",
    "   \\end{cases} \\,.\n",
    "\\end{align}$\n",
    "\n",
    "We now equate all cases separately to $0$, solve for $z$ and calculate the corresponding interval for $v$ (which is the variable that we know, so we can use it to decide which case applies):\n",
    "\n",
    "$\\begin{align} \n",
    "  \\textbf{Case 1,  } z < 0: \\quad &\\rho(-v+z) - \\lambda \\overset{!}{=}0 \\Leftrightarrow z \\overset{!}{=} v + \\frac{\\lambda}{\\rho} \\\\\n",
    "  &v + \\frac{\\lambda}{\\rho}  \\overset{!}{<} 0 \\Leftrightarrow v < - \\frac{\\lambda}{\\rho} \\,.\n",
    "\\end{align}$\n",
    "\n",
    "For the second case, which is where the sought minimum is located, we want to always return $0$ which is why we have to make sure that $0$ is contained in the interval of possible slopes, i.e.,  $0 \\in [-\\rho v-\\lambda, -\\rho v + \\lambda]$. Hence, it must hold \n",
    "\n",
    "$\\begin{align}\n",
    "   -\\rho v - \\lambda \\leq 0 &\\Leftrightarrow v \\geq - \\frac{\\lambda }{\\rho } \\quad \\text{and} \\\\\n",
    "   0 \\leq -\\rho v + \\lambda  &\\Leftrightarrow v \\leq \\frac{\\lambda}{\\rho} \\,,\n",
    "\\end{align}$\n",
    "\n",
    "i.e., \n",
    "\n",
    "$\\begin{align} \n",
    "  \\textbf{Case 2,  } z < 0: \\quad \\left| v \\right| \\leq \\frac{\\lambda }{\\rho }\\,.\n",
    "\\end{align}$\n",
    "\n",
    "The third case can be solved analogously to the first case:\n",
    "\n",
    "$\\begin{align} \n",
    "  \\textbf{Case 3,  } z > 0: \\quad &\\rho(-v-z) + \\lambda \\overset{!}{=}0 \\Leftrightarrow z \\overset{!}{=} v - \\frac{\\lambda}{\\rho} \\\\\n",
    "  & v - \\frac{\\lambda}{\\rho}  \\overset{!}{>} 0 \\Leftrightarrow v > \\frac{\\lambda}{\\rho} \\,.\n",
    "\\end{align}$\n",
    "\n",
    "$\\square$"
   ]
  },
  {
   "cell_type": "markdown",
   "id": "14b9a680",
   "metadata": {
    "slideshow": {
     "slide_type": "subslide"
    }
   },
   "source": [
    "The sought proximal operator is given by\n",
    "\n",
    "$\\begin{align} \n",
    "  \\mathrm{prox}_{\\left\\| \\cdot \\right\\|_1, \\rho } (\\mathbf{v})_i =  \\mathcal{S}_{\\lambda / \\rho} (v_i) = \\begin{cases}\n",
    "  v_i + \\frac{\\lambda}{\\rho} &\\text{if } v_i < - \\frac{\\lambda}{\\rho}\\\\\n",
    "  0 &\\text{if } \\left| v_i \\right| \\leq \\frac{\\lambda }{\\rho }\\\\\n",
    "  v_i - \\frac{\\lambda}{\\rho} &\\text{if } v_i > \\frac{\\lambda}{\\rho} \n",
    "\\end{cases} \\,,  \n",
    "\\end{align}$\n",
    "\n",
    "with $v_i$ refering to the $i$-th element of the corresponding vector $\\mathbf{v}$ (etc.). \n",
    "\n",
    "The operator $\\mathcal{S}$ is also called the element-wise *soft thresholding operator*."
   ]
  },
  {
   "cell_type": "markdown",
   "id": "e7160d6b",
   "metadata": {
    "slideshow": {
     "slide_type": "subslide"
    }
   },
   "source": [
    "##### Visualization of soft thresholding operator"
   ]
  },
  {
   "cell_type": "code",
   "execution_count": 12,
   "id": "a2abb837",
   "metadata": {},
   "outputs": [],
   "source": [
    "def y(z,v, rho, lam):\n",
    "    return lam*np.abs(z) + rho/2.0 * np.linalg.norm(v-z)**2"
   ]
  },
  {
   "cell_type": "code",
   "execution_count": 13,
   "id": "db717cc0",
   "metadata": {},
   "outputs": [],
   "source": [
    "def s(v,kap):\n",
    "    if v > kap:\n",
    "        return v-kap\n",
    "    if v < (-1*kap):\n",
    "        return v+kap\n",
    "    else:\n",
    "        return 0"
   ]
  },
  {
   "cell_type": "code",
   "execution_count": 14,
   "id": "08709edd",
   "metadata": {},
   "outputs": [],
   "source": [
    "def soft_thres_visu(v):\n",
    "    rho = 0.5\n",
    "    lam = 0.4\n",
    "\n",
    "    zs = np.arange(-5.0,5.0,0.1)\n",
    "    ys = [y(z,v,rho,lam) for z in zs]\n",
    "\n",
    "    vs = np.arange(-3.0,3.0,0.1)\n",
    "    ss = [s(v,lam/rho) for v in vs]\n",
    "\n",
    "    #plt.subplots(1,2)\n",
    "    plt.clf()\n",
    "    plt.subplot(1,2,1)\n",
    "    plt.plot(zs, ys)\n",
    "    plt.plot(cur_s:=s(v, lam/rho), y(cur_s, v, rho, lam), 'bo' )\n",
    "\n",
    "    plt.subplot(1,2,2)\n",
    "    plt.plot(vs, ss)\n",
    "    plt.plot(v,s(v,lam/rho),'bo')"
   ]
  },
  {
   "cell_type": "code",
   "execution_count": 15,
   "id": "379f2e0b",
   "metadata": {
    "slideshow": {
     "slide_type": "subslide"
    }
   },
   "outputs": [
    {
     "data": {
      "image/png": "[encoded data removed]",
      "text/plain": [
       "<Figure size 432x288 with 2 Axes>"
      ]
     },
     "metadata": {
      "filenames": {
       "image/png": "C:\\Users\\meyjoh\\repos\\vlcompimg\\mynewbook\\_build\\jupyter_execute\\06_InverseProblemsInCompimg_135_0.png"
      },
      "needs_background": "light"
     },
     "output_type": "display_data"
    },
    {
     "data": {
      "application/vnd.jupyter.widget-view+json": {
       "model_id": "2ab96dceec2649868c3fd3d01b2e1e73",
       "version_major": 2,
       "version_minor": 0
      },
      "text/plain": [
       "interactive(children=(FloatSlider(value=0.0, description='v', max=3.0, min=-3.0, step=0.2), Output()), _dom_cl…"
      ]
     },
     "metadata": {},
     "output_type": "display_data"
    },
    {
     "data": {
      "text/plain": [
       "<function __main__.<lambda>(v)>"
      ]
     },
     "execution_count": 15,
     "metadata": {},
     "output_type": "execute_result"
    }
   ],
   "source": [
    "plt.subplots(1,2)\n",
    "interact(lambda v: soft_thres_visu(v), v=widgets.FloatSlider(min=-3.0,max=3.0, step=0.2, value=0))"
   ]
  },
  {
   "cell_type": "markdown",
   "id": "8be0814e",
   "metadata": {
    "slideshow": {
     "slide_type": "subslide"
    }
   },
   "source": [
    "##### Efficient implementation of $z$-update for isotropic TV regularizer"
   ]
  },
  {
   "cell_type": "markdown",
   "id": "a6621e85",
   "metadata": {},
   "source": [
    "For the isotropic case, the $l_2$-norm of the finite differences approximation of the horizontal and vertical image gradients is used as the regularizer instead of the $l_1$-norm, i.e.,\n",
    "\n",
    "$\\begin{align} \n",
    "   \\lambda \\left\\| \\mathbf{z} \\right\\|_{2,1}  = \\lambda \\sum\\limits^N_{i=1} \\left\\|  \\begin{bmatrix} \n",
    "      (\\mathbf{D}_x \\mathbf{x})_i \\\\ (\\mathbf{D}_y \\mathbf{x})_i\n",
    "   \\end{bmatrix}  \\right\\|_2 = \\lambda \\sum\\limits^N_{i=1} \\sqrt{(\\mathbf{D}_x \\mathbf{x})^2_i + (\\mathbf{D}_y \\mathbf{x})^2_i } \\,.\n",
    "\\end{align}$\n",
    "\n",
    "This expression is also called the *group lasso*."
   ]
  },
  {
   "cell_type": "markdown",
   "id": "0e822f7e",
   "metadata": {
    "slideshow": {
     "slide_type": "fragment"
    }
   },
   "source": [
    "Accordingly, the whole deconvolution problem for the isotropic TV regularizer is\n",
    "\n",
    "$\\begin{align} \n",
    "   &\\argmin{\\mathbf{x}}\\, \\underbrace{\\frac{1}{2} \\left\\| \\mathbf{Cx-b} \\right\\|^2_2}_{=:f(\\mathbf{x})} + \\underbrace{\\lambda \\sum\\limits^N_{i=1} \\left\\|  \\begin{bmatrix} \n",
    "      z_i \\\\ z_{i+N}\n",
    "   \\end{bmatrix}   \\right\\|_2 }_{=:g(\\mathbf{z})} \\\\\n",
    "   &\\text{subject to } \\mathbf{Dx-z=\\mathbf{0}}\\,.\n",
    "\\end{align}$"
   ]
  },
  {
   "cell_type": "markdown",
   "id": "361775cc",
   "metadata": {
    "slideshow": {
     "slide_type": "fragment"
    },
    "tags": [
     "book_only"
    ]
   },
   "source": [
    "Again, the vector $\\mathbf{z} \\in \\mathbb{R}^{2\\times N}$ so that its first, respectively, second half can hold the image gradients in $x$-direction, respectively, in $y$-direction, i.e., $\\mathbf{z} = \\left[ \\mathbf{D}_x \\mathbf{x}\\,\\, \\mathbf{D}_y \\mathbf{x}   \\right]\\transp $."
   ]
  },
  {
   "cell_type": "markdown",
   "id": "eaaad81e",
   "metadata": {
    "slideshow": {
     "slide_type": "subslide"
    }
   },
   "source": [
    "As only the regularization term $g(\\mathbf{z})$ has changed, we only have to derive a corresponding $\\mathbf{z}$-update rule, i.e., we have to find a solution for the proximal operator\n",
    "\n",
    "$\\begin{align} \n",
    "   \\mathbf{z} \\leftarrow \\mathbf{prox}_{\\left\\| \\cdot \\right\\|_{2,1},\\rho } (\\mathbf{v}) = \\argmin{\\mathbf{z}}\\,\\, \\lambda \\sum\\limits^N_{i=1} \\left\\| \\begin{bmatrix} \n",
    "    z_i \\\\ z_{i+N}\n",
    " \\end{bmatrix}   \\right\\|_2  + \\frac{\\rho}{2} \\left\\| \\mathbf{v-z} \\right\\| ^2_2, \\quad \\mathbf{v=Dx} \\,.\n",
    "\\end{align}$"
   ]
  },
  {
   "cell_type": "markdown",
   "id": "49144626",
   "metadata": {
    "slideshow": {
     "slide_type": "skip"
    },
    "tags": [
     "book_only"
    ]
   },
   "source": [
    "Therefore, we again extract the term we have to minimize:\n",
    "\n",
    "$\\begin{align}\\label{eq:hqs:iso:1}\n",
    "   h(\\mathbf{z}) := \\lambda \\left\\| \\mathbf{z} \\right\\|_2 + \\frac{\\rho}{2} \\left\\| \\mathbf{v-z} \\right\\| ^2_2 \\,.\n",
    "\\end{align}$\n",
    "\n",
    "We follow the approach of calculating the gradient of $h(\\mathbf{z})$, equating it to $\\mathbf{0}$ and solving for $\\mathbf{z}$.\n",
    "\n",
    "The gradient of the second term with respect to $\\mathbf{z}$ can be calculated straight forward:\n",
    "\n",
    "$\\begin{align} \n",
    "   \\nabla_\\mathbf{z} \\frac{\\rho}{2} \\left\\| \\mathbf{v-z} \\right\\| ^2_2 = \\rho (-\\mathbf{v} + \\mathbf{z}) \\,.\n",
    "\\end{align}$\n",
    "\n",
    "The gradient of the Euclidean norm $\\left\\| \\mathbf{x} \\right\\| _2$ is\n",
    "\n",
    "$\\begin{align} \n",
    "   \\nabla_\\mathbf{x} \\left\\| \\mathbf{x} \\right\\|_2 = \\frac{\\mathbf{x}}{\\left\\| \\mathbf{x} \\right\\|_2 }, \\quad \\text{for } \\mathbf{x} \\neq \\mathbf{0} \\,.\n",
    "\\end{align}$\n",
    "\n",
    "Hence, the gradient of the first term of \\eqref{eq:hqs:iso:1} is \n",
    "\n",
    "$\\begin{align} \n",
    "   \\nabla_\\mathbf{z} \\lambda \\left\\| \\mathbf{z} \\right\\| _2 = \\lambda \\frac{\\mathbf{z}}{\\left\\| \\mathbf{z} \\right\\|_2 } \\quad \\text{for } \\mathbf{z} \\neq \\mathbf{0} \\,.\n",
    "\\end{align}$\n",
    "\n",
    "So for $\\mathbf{z} \\neq \\mathbf{0}$, we will find a $\\hat{\\mathbf{z}}$ with $  \\nabla_\\mathbf{z} \\lbrace h(\\mathbf{z}) \\rbrace (\\hat{\\mathbf{z}}) = \\mathbf{0}$:\n",
    "\n",
    "$\\begin{align} \n",
    "  \\lambda \\frac{\\mathbf{z}}{\\left\\| \\mathbf{z} \\right\\|_2 } +  \\rho (-\\mathbf{v} + \\mathbf{z}) &\\overset{!}{=} \\mathbf{0} \\\\\n",
    "  \\mathbf{z}\\left( \\frac{\\lambda}{\\left\\| \\mathbf{z} \\right\\|_2 } + \\rho \\right) &= \\rho \\mathbf{v} \\,. \\label{eq:hqs:iso:2}\n",
    "\\end{align}$\n",
    "\n",
    "We now apply the $l_2$-norm to both sides of the equation:\n",
    "\n",
    "$\\begin{align}  \\label{eq:hqs:iso:3}\n",
    "   \\left| \\frac{\\lambda}{\\left\\| \\mathbf{z} \\right\\|_2 }  + \\rho\\right| \\cdot \\left\\| \\mathbf{z} \\right\\|_2 = \\left| \\rho \\right|  \\left\\| \\mathbf{v} \\right\\|_2 \\,.\n",
    "\\end{align}$\n",
    "\n",
    "The last step introduced two absolute values for each of which the two possible cases, .i.e, $>0$, $<0$ have to be considered. Regarding the term $\\left| \\rho \\right| $ on the right side of the equation, only the positive case has to be considered since $\\rho > 0$ by definition.\n",
    "\n",
    "The first absolute term $\\left| \\frac{\\lambda}{\\left\\| \\mathbf{z} \\right\\|_2 }  + \\rho\\right|$ is positive if\n",
    "\n",
    "$\\begin{align} \n",
    "  \\frac{\\lambda}{\\left\\| \\mathbf{z} \\right\\|_2 }  + \\rho &> 0 \\\\  - \\frac{\\lambda}{\\rho} &< \\left\\| \\mathbf{z} \\right\\| _2 \\,,\n",
    "\\end{align}$\n",
    "\n",
    "what always holds since due to $\\lambda > 0$ and $\\rho > 0$ it follows $-\\frac{\\lambda}{\\rho} < 0$ and since  $\\left\\| \\mathbf{z} \\right\\| _2 > 0$ as $\\left\\| \\cdot \\right\\| \\geq 0$ for any norm and $\\mathbf{z} \\neq \\mathbf{0}$ by definition of the considered case. Hence, the negative case is impossible.\n",
    "\n",
    "We continue to solve \\eqref{eq:hqs:iso:3} for $\\left\\| \\mathbf{z} \\right\\| _2$:\n",
    "\n",
    "$\\begin{align} \n",
    "  \\left( \\frac{\\lambda}{\\left\\| \\mathbf{z} \\right\\|_2 }  + \\rho\\right) \\cdot \\left\\| \\mathbf{z} \\right\\|_2 &= \\rho  \\left\\| \\mathbf{v} \\right\\|_2  \\\\\n",
    "  \\lambda + \\rho \\left\\| \\mathbf{z} \\right\\| _2 &= \\rho \\left\\| \\mathbf{v} \\right\\| _2 \\\\\n",
    "  \\left\\| \\mathbf{z} \\right\\| _2 &= \\frac{\\rho \\left\\| \\mathbf{v} \\right\\|_2 - \\lambda  }{\\rho} \\,,\n",
    "\\end{align}$\n",
    "\n",
    "and now insert this expression for $\\left\\| \\mathbf{z} \\right\\| _2$ into \\eqref{eq:hqs:iso:2} and solve for $\\mathbf{z}$:\n",
    "\n",
    "$\\begin{align} \n",
    "   \\mathbf{z} \\left( \\lambda \\cdot \\frac{\\rho }{\\rho \\left\\| \\mathbf{v} \\right\\|_2 - \\lambda } + \\rho  \\right) &= \\rho \\mathbf{v} \\\\\n",
    "   \\mathbf{z} \\frac{\\lambda + \\rho  \\left\\| \\mathbf{v} \\right\\|_2 - \\lambda  }{\\rho  \\left\\| \\mathbf{v} \\right\\|_2 - \\lambda  } &= \\mathbf{v}  \\\\\n",
    "   \\mathbf{z} &= \\mathbf{v} \\cdot \\frac{\\rho  \\left\\| \\mathbf{v} \\right\\|_2 - \\lambda  }{\\rho  \\left\\| \\mathbf{v} \\right\\|_2 } \\\\\n",
    "   \\mathbf{z} &= \\mathbf{v} \\cdot \\left( 1 - \\frac{\\lambda }{\\rho \\left\\| \\mathbf{v} \\right\\|_2 } \\right) \\,.\n",
    "\\end{align}$\n",
    "\n",
    "In order to make sure that $\\mathbf{z} \\overset{!}{\\neq} \\mathbf{0}$, we have to check for which conditions $\\left( 1 - \\frac{\\lambda }{\\rho \\left\\| \\mathbf{v} \\right\\|_2 } \\right) > 0$ holds (we do not have to check for $<0$ as this is impossible as we showed when inspecting the absolute terms before):\n",
    "\n",
    "$\\begin{align} \n",
    "  \\left( 1 - \\frac{\\lambda }{\\rho \\left\\| \\mathbf{v} \\right\\|_2 } \\right) &> 0 \\\\\n",
    "  \\left\\| \\mathbf{v} \\right\\|_2 &> \\frac{\\lambda }{\\rho } \\,.\n",
    "\\end{align}$\n",
    "\n",
    "For $\\mathbf{z} = \\mathbf{0}$, there is no well-defined gradient for $\\left\\| \\mathbf{z} \\right\\|_2$, so we make use of the concept of subdifferentials again and derive the subdifferential of $h(\\mathbf{z})$ with respect to position $\\mathbf{z} = \\mathbf{0}$:\n",
    "\n",
    "$\\begin{align} \n",
    "  h(\\mathbf{z}) &= \\lambda \\left\\| \\mathbf{z} \\right\\|_2 + \\frac{\\rho}{2} \\left\\| \\mathbf{v-z} \\right\\| ^2_2 \\\\\n",
    "  \\frac{h(\\mathbf{z})}{\\rho} &= \\frac{\\lambda}{\\rho } \\left\\| \\mathbf{z} \\right\\|_2 + \\frac{1}{2} \\left\\| \\mathbf{v-z} \\right\\|^2_2  \\\\\n",
    "  \\partial_\\mathbf{0} \\frac{h(\\mathbf{z})}{\\rho} &= \\partial_\\mathbf{0} \\frac{\\lambda}{\\rho } \\left\\| \\mathbf{z} \\right\\|_2 \\oplus  \\partial_\\mathbf{0}\\frac{1}{2} \\left\\| \\mathbf{v-z} \\right\\|^2_2 \\,.\n",
    "\\end{align}$\n",
    "\n",
    "As before, we can replace the second subdifferential on the right side of the equation with the true gradient:\n",
    "\n",
    "$\\begin{align} \n",
    "  \\partial_\\mathbf{0} \\frac{h(\\mathbf{z})}{\\rho} &= \\partial_\\mathbf{0} \\frac{\\lambda}{\\rho } \\left\\| \\mathbf{z} \\right\\|_2 \\oplus  \\lbrace - \\mathbf{v} \\rbrace \\,.\n",
    "\\end{align}$\n",
    "\n",
    "For the first term, i.e., $\\partial_\\mathbf{0}\\frac{\\lambda}{\\rho} \\left\\| \\mathbf{z} \\right\\|_2$, we employ the definition of subdifferentials:\n",
    "\n",
    "$\\begin{align} \n",
    "  \\partial_\\mathbf{0}\\frac{\\lambda}{\\rho} \\left\\| \\mathbf{z} \\right\\|_2 &= \\left\\{ \\mathbf{g} \\in \\mathbb{R}^{2N} : \\frac{\\lambda}{\\rho} \\left\\| \\mathbf{z} \\right\\|_2 \\geq \\frac{\\lambda}{\\rho} \\left\\| \\mathbf{0} \\right\\|_2 + \\left\\langle \\mathbf{g} , \\mathbf{z} - \\mathbf{0}\\right\\rangle  \\right\\} \\\\\n",
    "  \\partial_\\mathbf{0}\\frac{\\lambda}{\\rho} \\left\\| \\mathbf{z} \\right\\|_2 &= \\left\\{ \\mathbf{g} \\in \\mathbb{R}^{2N} : \\frac{\\lambda}{\\rho} \\left\\| \\mathbf{z} \\right\\|_2 \\geq \\left\\langle \\mathbf{g} , \\mathbf{z}\\right\\rangle  \\right\\} \\,.\n",
    "\\end{align}$\n",
    "\n",
    "By means of the Cauchy-Schwarz inequality, i.e., $\\left\\langle \\mathbf{g}, \\mathbf{z} \\right\\rangle \\leq \\left\\| \\mathbf{g} \\right\\| \\cdot \\left\\| \\mathbf{z} \\right\\| $, we can further simplify the derivation:\n",
    "\n",
    "$\\begin{align} \n",
    "  \\partial_\\mathbf{0}\\frac{\\lambda}{\\rho} \\left\\| \\mathbf{z} \\right\\|_2 &= \\left\\{ \\mathbf{g} \\in \\mathbb{R}^{2N} : \\frac{\\lambda}{\\rho} \\left\\| \\mathbf{z} \\right\\|_2 \\geq \\left\\langle \\mathbf{g} , \\mathbf{z}\\right\\rangle  \\right\\} \\\\\n",
    "  &= \\left\\{ \\mathbf{g} \\in \\mathbb{R}^{2N} : \\frac{\\lambda}{\\rho} \\left\\| \\mathbf{z} \\right\\|_2 \\geq \\left\\| \\mathbf{g} \\right\\|_2 \\cdot \\left\\| \\mathbf{z} \\right\\|_2     \\right\\} \\\\\n",
    "  &= \\left\\{ \\mathbf{g} \\in \\mathbb{R}^{2N} : \\frac{\\lambda}{\\rho}  \\geq \\left\\| \\mathbf{g} \\right\\|_2      \\right\\} \\,.\n",
    "\\end{align}$\n",
    "\n",
    "The resulting combined expression for the subdifferential of $\\frac{h(\\mathbf{z})}{\\rho} $ is:\n",
    "\n",
    "$\\begin{align} \n",
    "   \\partial_\\mathbf{0}\\frac{h(\\mathbf{z})}{\\rho} = \\left\\{ \\mathbf{g} \\in \\mathbb{R}^{2N} : \\frac{\\lambda}{\\rho}  \\geq \\left\\| \\mathbf{g} \\right\\|_2      \\right\\} \\oplus \\lbrace -\\mathbf{v} \\rbrace \\,.\n",
    "\\end{align}$ \n",
    "\n",
    "For $\\mathbf{z} = \\mathbf{0}$ we want to return $\\mathbf{0}$ if possible since that would correspond to the sought minimum. A subgradient $\\mathbf{0}$ is contained in $\\partial_\\mathbf{0}\\frac{h(\\mathbf{z})}{\\rho}$ if the first subdifferential $\\left\\{ \\mathbf{g} \\in \\mathbb{R}^{2N} : \\frac{\\lambda}{\\rho}  \\geq \\left\\| \\mathbf{g} \\right\\|_2      \\right\\}$ contains a vector $\\mathbf{g}$ with $\\mathbf{g} = \\mathbf{v}$ because then the Minkowski sum $\\left\\{ \\mathbf{g} \\in \\mathbb{R}^{2N} : \\frac{\\lambda}{\\rho}  \\geq \\left\\| \\mathbf{g} \\right\\|_2      \\right\\} \\oplus \\lbrace -\\mathbf{v} \\rbrace$ would contain $\\mathbf{0}$. This is only possible for any vectors $\\mathbf{v}$ with $\\left\\| \\mathbf{v} \\right\\|_2 \\leq \\frac{\\lambda}{\\rho}  $.\n",
    "\n",
    "With these results, the final $\\mathbf{z}$-update rule is given by:"
   ]
  },
  {
   "cell_type": "markdown",
   "id": "e63e0ecb",
   "metadata": {
    "slideshow": {
     "slide_type": "subslide"
    },
    "tags": [
     "presentation_only",
     "remove-cell"
    ]
   },
   "source": [
    "The concept of subdifferentials yields the sought $\\mathbf{z}$-update rule:"
   ]
  },
  {
   "cell_type": "markdown",
   "id": "a581a43b",
   "metadata": {
    "slideshow": {
     "slide_type": "fragment"
    }
   },
   "source": [
    "$\\begin{align} \n",
    "  \\begin{bmatrix} \n",
    "     z_i \\\\ z_{i+N}\n",
    "  \\end{bmatrix} \\leftarrow \\mathcal{S}_{\\lambda / \\rho} \\left(\\mathbf{v}':= \\begin{bmatrix} \n",
    "     v_i \\\\ v_{i+N}\n",
    "  \\end{bmatrix} \\right) =  \\begin{cases} \n",
    "    \\mathbf{v}' \\cdot \\left( 1 - \\frac{\\lambda }{\\rho \\left\\| \\mathbf{v}' \\right\\|_2 } \\right) &\\text{if } \\left\\| \\mathbf{v}' \\right\\| _2 > \\frac{\\lambda}{\\rho} \\\\\n",
    "    \\mathbf{0} &\\text{if } \\left\\| \\mathbf{v}' \\right\\| _2 \\leq \\frac{\\lambda}{\\rho}\n",
    "  \\end{cases}\n",
    "   \\,.\n",
    "\\end{align}$\n",
    "\n",
    "This expression (i.e., $\\mathcal{S}_{\\lambda / \\rho}$) is also known as the vector soft-thresholding operator."
   ]
  },
  {
   "cell_type": "markdown",
   "id": "d2f713da",
   "metadata": {
    "slideshow": {
     "slide_type": "subslide"
    }
   },
   "source": [
    "##### Efficient update of $\\mathbf{z}$ in general case"
   ]
  },
  {
   "cell_type": "markdown",
   "id": "e6569f7b",
   "metadata": {},
   "source": [
    "In the general case, i.e., with $\\mathbf{D} = \\mathbf{I}$, we want to solve\n",
    "\n",
    "$\\begin{align} \n",
    "   \\mathbf{z} \\leftarrow &\\argmin{\\mathbf{z}}\\, g(\\mathbf{z}) + \\frac{\\rho}{2} \\left\\| \\mathbf{x} - \\mathbf{z} \\right\\| ^2_2 \\,, \\\\\n",
    "   &\\argmin{\\mathbf{z}}\\, \\lambda \\Psi(\\mathbf{z}) + \\frac{\\rho}{2} \\left\\| \\mathbf{x-z} \\right\\|^2_2 \\,, \\\\\n",
    "   &\\argmin{\\mathbf{z}}\\,  \\Psi(\\mathbf{z}) + \\frac{\\rho}{2\\lambda} \\left\\| \\mathbf{x-z} \\right\\| ^2_2 \\,.\n",
    "\\end{align}$"
   ]
  },
  {
   "cell_type": "markdown",
   "id": "0de2eae4",
   "metadata": {
    "slideshow": {
     "slide_type": "fragment"
    }
   },
   "source": [
    "For $\\frac{\\lambda}{\\rho} = \\sigma^2$, the last equation represents a denoising problem for zero-mean Gaussian noise with variance $\\sigma^2$ as we have seen earlier:\n",
    "\n",
    "$\\begin{align} \n",
    "  \\argmin{\\mathbf{s}}\\, \\Gamma (\\mathbf{s}) + \\frac{1}{2\\sigma^2}\\left\\| \\mathbf{g} - \\mathbf{s} \\right\\|^2_2   \\,.\n",
    "\\end{align}$"
   ]
  },
  {
   "cell_type": "markdown",
   "id": "c19fe0e3",
   "metadata": {
    "slideshow": {
     "slide_type": "fragment"
    }
   },
   "source": [
    "This means that we can use any Gaussian denoiser $\\mathcal{D}: \\mathbb{R} ^N \\rightarrow  \\mathbb{R} ^N$ as our proximal operator for the $z$-update, e.g., the denoising CNN from the last chapter.\n",
    "\n",
    "$\\rightarrow$ Any Gaussian denoiser suitable for a noise variance of $\\sigma^2$ can be used as a general image prior:\n",
    "\n",
    "$\\begin{align} \n",
    "   \\mathbf{z} \\leftarrow \\mathrm{prox}_{\\mathcal{D}, \\rho} (\\mathbf{x}) =\\mathcal{D}\\left( \\mathbf{x}, \\sigma^2 = \\frac{\\lambda}{\\rho}  \\right)  \\,.\n",
    "\\end{align}$"
   ]
  },
  {
   "cell_type": "markdown",
   "id": "7ea89a36",
   "metadata": {
    "slideshow": {
     "slide_type": "subslide"
    }
   },
   "source": [
    "### HQS for general linear inverse problems"
   ]
  },
  {
   "cell_type": "markdown",
   "id": "1c078b9c",
   "metadata": {},
   "source": [
    "HQS can also be applied to linear inverse problems, i.e., $\\mathbf{b} = \\mathbf{Ax} + \\mathbf{n}$.\n",
    "\n",
    "Depending on the prior, we can use the $\\mathbf{z}$-updates already derived for the deconvolution problem (i.e., total variation or a general Gaussian denoiser).\n",
    "\n",
    "However, we have to look again at the $\\mathbf{x}$-update, as the matrix-vector multiplication $\\mathbf{Ax}$ does not (necessarily) encode a convolution anymore."
   ]
  },
  {
   "cell_type": "markdown",
   "id": "4d88dc56",
   "metadata": {
    "slideshow": {
     "slide_type": "subslide"
    }
   },
   "source": [
    "##### Derivation of $\\mathbf{x}$-update for HQS for general linear inverse problems"
   ]
  },
  {
   "cell_type": "markdown",
   "id": "8f4b4fce",
   "metadata": {},
   "source": [
    "For the $\\mathbf{x}$-update, we use the following solution:\n",
    "\n",
    "$\\begin{align} \n",
    "   \\mathbf{x} \\leftarrow \\mathrm{prox}_{\\left\\| \\cdot \\right\\| _2, \\rho} (\\mathbf{v}) &= \\argmin{\\mathbf{x}}\\, \\frac{1}{2} \\left\\| \\mathbf{Ax-b} \\right\\| ^2_2 + \\frac{\\rho}{2}\\left\\| \\mathbf{Dx-z} \\right\\| ^2_2  \\\\\n",
    "   &= \\left( \\underbrace{\\mathbf{A}\\transp \\mathbf{A} + \\rho  \\mathbf{D}\\transp D}_{\\tilde{\\mathbf{A}}} \\right)^{-1}  \\left( \\underbrace{\\mathbf{A}\\transp \\mathbf{b} + \\rho \\mathbf{D}\\transp \\mathbf{z}}_{\\tilde{\\mathbf{b}}} \\right) \\,,\n",
    "\\end{align}$\n",
    "\n",
    "whose derivation is equivalent to the deconvolution problem."
   ]
  },
  {
   "cell_type": "markdown",
   "id": "8fce0a03",
   "metadata": {
    "slideshow": {
     "slide_type": "fragment"
    }
   },
   "source": [
    "Unfortunately, for the case of a general matrix $\\mathbf{A}$, there is no elegant closed-form solution as for the case of deconvolution. \n",
    "\n",
    "$\\rightarrow$ Use an iterative solver to solve $\\tilde{\\mathbf{A}} \\mathbf{x} = \\tilde{\\mathbf{b}}$ for $\\mathbf{x}$. Since $\\tilde{\\mathbf{A}}$ is symmetric and positive semi-definite, the so-called *conjugate gradient* method is a good choice."
   ]
  },
  {
   "cell_type": "markdown",
   "id": "b39f31b0",
   "metadata": {
    "slideshow": {
     "slide_type": "subslide"
    }
   },
   "source": [
    "### Problems of HQS"
   ]
  },
  {
   "cell_type": "markdown",
   "id": "47556e02",
   "metadata": {},
   "source": [
    "The HQS method works well for inverse problems where the number of available measurements $M$ is in the range of the number of unknowns $N$. For the case of deconvolution, it is $M=N$ and hence HQS represents a suitable choice.\n",
    "\n",
    "However, for severely under-determined problems, the penalty $\\frac{\\rho}{2}\\left\\| \\mathbf{Dx-z} \\right\\|^2_2 $ linking data fidelity and the prior terms can be too weak so that the algorithm does not converge well.\n",
    "\n",
    "We will now get to know a method that mitigates that problem."
   ]
  },
  {
   "cell_type": "markdown",
   "id": "d7880e46",
   "metadata": {
    "slideshow": {
     "slide_type": "slide"
    }
   },
   "source": [
    "## Alternating direction method of multipliers (ADMM)"
   ]
  },
  {
   "cell_type": "markdown",
   "id": "c1aa40bc",
   "metadata": {},
   "source": [
    "Similar to the HQS approach, the so-called *alternating direction method of multipliers (ADMM)* splits the objective function\n",
    "\n",
    "$\n",
    "\\begin{align} \n",
    "  \\argmin{\\mathbf{x}}\\quad &\\underbrace{\\frac{1}{2}\\left\\| \\mathbf{Ax-b} \\right\\|^2_2 }_{=:f(\\mathbf{x})} + \\underbrace{\\lambda \\Psi (\\mathbf{z})}_{=:g(\\mathbf{z})} \\\\\n",
    "  \\text{subject to}\\quad &\\mathbf{Dx-z} = \\mathbf{0} \\,.\n",
    "\\end{align}\n",
    "$\n",
    "\n",
    "into multiple terms and optimizes it in an alternating fashion."
   ]
  },
  {
   "cell_type": "markdown",
   "id": "b7558b09",
   "metadata": {
    "slideshow": {
     "slide_type": "fragment"
    }
   },
   "source": [
    "But instead of transforming the constraint $\\mathbf{Dx-z} = \\mathbf{0}$ into a penalty term, it employs the so-called *augmented Lagrangian* of the objective function:\n",
    "\n",
    "$\\begin{align} \n",
    "   L^\\mathrm{(ADMM)}_\\rho (\\mathbf{x,z,y}) = f(\\mathbf{x}) + g(\\mathbf{z}) + \\mathbf{y}\\transp \\left( \\mathbf{Dx-z} \\right) + \\frac{\\rho}{2} \\left\\| \\mathbf{Dx-z} \\right\\| ^2_2 \\,,\n",
    "\\end{align}$\n",
    "\n",
    "with the Lagrange multiplier $\\mathbf{y}$."
   ]
  },
  {
   "cell_type": "markdown",
   "id": "de3db6b3",
   "metadata": {
    "slideshow": {
     "slide_type": "fragment"
    }
   },
   "source": [
    "The so-called *scaled form* of the augmented Lagrangian is given by\n",
    "\n",
    "$\\begin{align} \n",
    "  L^\\mathrm{(ADMM)}_\\rho (\\mathbf{x,z,u}) = f(\\mathbf{x}) + g(\\mathbf{z}) + \\frac{\\rho}{2} \\left\\| \\mathbf{Dx-z+u} \\right\\|^2_2 - \\frac{\\rho}{2} \\left\\| \\mathbf{u} \\right\\| ^2_2  \\,,\n",
    "\\end{align}$\n",
    "\n",
    "with the scaled Lagrangian multiplier $\\mathbf{u} = \\frac{1}{\\rho} \\mathbf{y}$."
   ]
  },
  {
   "cell_type": "markdown",
   "id": "90edd9a9",
   "metadata": {
    "tags": [
     "book_only"
    ]
   },
   "source": [
    "```{note}\n",
    "   The augmented Lagrangian and its scaled form are identical, i.e., just mathematical reformulations that come in handy for further steps.\n",
    "```"
   ]
  },
  {
   "cell_type": "markdown",
   "id": "756b7d34",
   "metadata": {
    "slideshow": {
     "slide_type": "subslide"
    }
   },
   "source": [
    "The update rules for the variables $\\mathbf{x,z,u}$ are given by\n",
    "\n",
    "$\\begin{align} \n",
    "   \\mathbf{x} &\\leftarrow \\mathrm{prox}_{\\left\\| \\cdot \\right\\|_2, \\rho } (\\mathbf{v}) =\\argmin{\\mathbf{x}}\\, L^{\\mathrm{(ADMM)}}_\\rho (\\mathbf{x,z,u}) = \\argmin{\\mathbf{x}}\\, \\frac{1}{2} \\left\\| \\mathbf{Ax-b} \\right\\|^2_2 + \\frac{\\rho}{2} \\left\\| \\mathbf{Dx-z+u} \\right\\|^2_2 \\,, \\\\\n",
    "   \\mathbf{z} &\\leftarrow  \\mathrm{prox}_{\\Psi, \\rho}(\\mathbf{v}) = \\argmin{\\mathbf{z}}\\, L^{\\mathrm{(ADMM)}}_\\rho (\\mathbf{x,z,u}) = \\argmin{\\mathbf{z}}\\, \\lambda \\Psi (\\mathbf{z}) + \\frac{\\rho}{2} \\left\\| \\mathbf{Dx-z+u} \\right\\|^2_2 \\,, \\\\\n",
    "   \\mathbf{u} &\\leftarrow \\mathbf{u} + \\mathbf{Dx-z}\n",
    "\\end{align}$"
   ]
  },
  {
   "cell_type": "markdown",
   "id": "0bca832f",
   "metadata": {
    "slideshow": {
     "slide_type": "fragment"
    }
   },
   "source": [
    "For the $\\mathbf{x}$- and $\\mathbf{z}$-updates we can again use proximal operators. The $\\mathbf{u}$-update is a straightforward sum of vectors (for its derivation see the article [Distributed Optimization and Statistical Learning via the Alternating Direction Method of Multipliers](https://web.stanford.edu/~boyd/papers/pdf/admm_distr_stats.pdf) by Stephen Boyd et al.)."
   ]
  },
  {
   "cell_type": "markdown",
   "id": "e50f7821",
   "metadata": {
    "slideshow": {
     "slide_type": "subslide"
    }
   },
   "source": [
    "##### The $\\mathbf{x}$-update:"
   ]
  },
  {
   "cell_type": "markdown",
   "id": "bb5560ba",
   "metadata": {},
   "source": [
    "The $\\mathbf{x}$-update within ADMM is quite similar to that of HQS, we just have to adequately account for $\\mathbf{u}$, i.e.,\n",
    "\n",
    "$\\begin{align} \n",
    "  \\mathrm{prox}_{\\left\\| \\cdot \\right\\|_2, \\rho } (\\mathbf{\\mathbf{z-u}}) = \\left( \\underbrace{\\mathbf{A}\\transp \\mathbf{A} + \\rho  \\mathbf{D}\\transp D}_{\\tilde{\\mathbf{A}}} \\right)^{-1}  \\left( \\underbrace{\\mathbf{A}\\transp \\mathbf{b} + \\rho \\mathbf{D}\\transp (\\mathbf{z-u})}_{\\tilde{\\mathbf{b}}} \\right) \\,.\n",
    "\\end{align}$"
   ]
  },
  {
   "cell_type": "markdown",
   "id": "6e3f3d05",
   "metadata": {
    "slideshow": {
     "slide_type": "subslide"
    }
   },
   "source": [
    "##### The $\\mathbf{z}$-update:"
   ]
  },
  {
   "cell_type": "markdown",
   "id": "3403f39d",
   "metadata": {},
   "source": [
    "For the $\\mathbf{z}$-update, we can rely on the same proximal operators as HQS.\n",
    "\n",
    "In the case of the TV regularizer, the proximal operator is the element-wise soft thresholding operator:\n",
    "\n",
    "$\\begin{align} \n",
    "  \\mathrm{prox}_{\\left\\| \\cdot \\right\\|_1, \\rho } (\\mathbf{v}) = \\argmin{\\mathbf{z}}\\, \\lambda \\left\\| \\mathbf{z} \\right\\|_1 + \\frac{\\rho}{2}\\left\\| \\mathbf{v-z} \\right\\|^2_2 = \\mathcal{S}_{\\lambda / \\rho} (\\mathbf{v})\\,.  \n",
    "\\end{align}$\n",
    "\n",
    "Since for HQS it is $\\mathbf{v} = \\mathbf{Dx}$, we again have to account for $\\mathbf{u}$ as $\\mathbf{v} = \\mathbf{Dx} + \\mathbf{u}$."
   ]
  },
  {
   "cell_type": "markdown",
   "id": "89d69e3c",
   "metadata": {},
   "source": [
    "In the general case, i.e., for $\\mathbf{D=I}$, we can use any Gaussian denoiser $\\mathcal{D}: \\mathbb{R} ^N \\rightarrow \\mathbb{R}^N$ as a regularizer leading to the following $\\mathbf{z}$-update:\n",
    "\n",
    "$\\begin{align} \n",
    "   \\mathrm{prox}_{\\mathcal{D}, \\rho} (\\mathbf{v}) = \\mathcal{D} \\left( \\mathbf{v}, \\sigma^2=\\frac{\\lambda }{\\rho} \\right) \\,,\n",
    "\\end{align}$\n",
    "\n",
    "with $\\mathbf{v = x + u}$."
   ]
  },
  {
   "cell_type": "markdown",
   "id": "eb0c3106",
   "metadata": {
    "slideshow": {
     "slide_type": "slide"
    }
   },
   "source": [
    "## Deep SNR-estimation for Wiener filtering"
   ]
  },
  {
   "cell_type": "markdown",
   "id": "b67df2df",
   "metadata": {},
   "source": [
    "As elaborated before, one main drawback of the Wiener filter is the necessity for the user to correctly estimate the signal-to-noise ratio \n",
    "\n",
    "$\\begin{align} \n",
    "   SNR\\,(\\mathbf{f}) = \\frac{S_{ss}(\\mathbf{f})}{S_{nn}(\\mathbf{f})} \\,, \n",
    "\\end{align}$\n",
    "\n",
    "with $S_{ss}(\\mathbf{f}), S_{nn}(\\mathbf{f})$ denoting the power spectral density of the signal component, respectively, of the noise component."
   ]
  },
  {
   "cell_type": "markdown",
   "id": "377cbf28",
   "metadata": {
    "slideshow": {
     "slide_type": "fragment"
    }
   },
   "source": [
    "In the unusual case when one has access to $s$ and $n$, it is possible to calculate (not unbiased) estimates of $S_{ss}(\\mathbf{f}), S_{nn}(\\mathbf{f})$ via\n",
    "\n",
    "$\\begin{align} \n",
    "   \\hat{S}_{ss}(\\mathbf{f}) &= \\vert \\F \\left\\{ s(\\mathbf{x}) \\right\\}   \\vert^2 \\, , \\\\\n",
    "   \\hat{S}_{nn}(\\mathbf{f}) &= \\vert \\F \\left\\{ n(\\mathbf{x}) \\right\\}   \\vert^2 \\,.\n",
    "\\end{align}$"
   ]
  },
  {
   "cell_type": "markdown",
   "id": "6540e3a2",
   "metadata": {
    "slideshow": {
     "slide_type": "subslide"
    }
   },
   "source": [
    "Fortunately we could show that a neural network $\\phi$ can be trained to precisely estimate the signal-to-noise ratio based on the observed image $g$ only."
   ]
  },
  {
   "cell_type": "markdown",
   "id": "2e8ecc42",
   "metadata": {
    "slideshow": {
     "slide_type": "fragment"
    }
   },
   "source": [
    "To make the task easier for the neural network, we trained it to consume estimates of the power spectral density of $g$ to estimate the signal-to-noise ratio. By this means, both input and output have spatial frequencies as variables."
   ]
  },
  {
   "cell_type": "markdown",
   "id": "20ab8878",
   "metadata": {
    "slideshow": {
     "slide_type": "subslide"
    }
   },
   "source": [
    "Directly training $\\phi$ with pairs of $\\left( \\hat{S}_{gg}, \\widehat{SNR} \\right)$ would lead to slow or even no convergence of the training due to the high dynamic range of the squared magnitude spectra of the Fourier transforms."
   ]
  },
  {
   "cell_type": "markdown",
   "id": "51bfabb4",
   "metadata": {
    "slideshow": {
     "slide_type": "fragment"
    }
   },
   "source": [
    "Hence, we train $\\phi$ with pairs $\\left(  \\log \\hat{S}_{gg}, \\log \\widehat{SNR} \\right)$,i.e., so that $\\phi\\left( \\log \\hat{S}_{gg}(\\mathbf{f})\\right)= \\log \\widehat{SNR}\\,(\\mathbf{f})$."
   ]
  },
  {
   "cell_type": "markdown",
   "id": "8c644c99",
   "metadata": {
    "slideshow": {
     "slide_type": "subslide"
    }
   },
   "source": [
    "The following figure visualizes the training procedure:\n",
    "\n",
    "<img src=\"figures/6/dw_training.svg\" style=\"max-height:40vh\">"
   ]
  },
  {
   "cell_type": "markdown",
   "id": "7dd749c6",
   "metadata": {
    "slideshow": {
     "slide_type": "subslide"
    }
   },
   "source": [
    "To apply the method for image reconstruction the following steps are performed:\n",
    "* Calculate $\\hat{S}_{gg}(\\mathbf{f}) = \\left| \\F \\left\\{ g(\\mathbf{x}) \\right\\}  \\right|^2 $ for the observed image $g$,\n",
    "* use $\\phi$ to estimate the signal-to-noise ratio via $\\widehat{SNR}\\,(\\mathbf{f}) \\leftarrow \\phi(\\hat{S}_{gg}(\\mathbf{f})) $,\n",
    "* estimate the undistorted image $\\hat{s}$ by applying the Wiener filter to $g$ and by using the estimated $\\widehat{SNR}$."
   ]
  },
  {
   "cell_type": "markdown",
   "id": "4cfc6292",
   "metadata": {
    "slideshow": {
     "slide_type": "subslide"
    }
   },
   "source": [
    "##### Example Wiener filter reconstruction results with deep SNR-estimation"
   ]
  },
  {
   "cell_type": "code",
   "execution_count": 16,
   "id": "04b771a2",
   "metadata": {
    "init_cell": true
   },
   "outputs": [
    {
     "data": {
      "application/vnd.jupyter.widget-view+json": {
       "model_id": "e2becfdd3db54b9b99153c1b9a6bc1cc",
       "version_major": 2,
       "version_minor": 0
      },
      "text/plain": [
       "interactive(children=(IntSlider(value=6, description='i', max=8, min=1), Output()), _dom_classes=('widget-inte…"
      ]
     },
     "metadata": {},
     "output_type": "display_data"
    },
    {
     "data": {
      "text/plain": [
       "<function __main__.<lambda>(i)>"
      ]
     },
     "execution_count": 16,
     "metadata": {},
     "output_type": "execute_result"
    }
   ],
   "source": [
    "interact(lambda i: showFig('figures/6/dw_ex_',i,'.png',800,50), i=widgets.IntSlider(min=(min_i:=1),max=(max_i:=8), step=1, value=(6 if book else min_i)))"
   ]
  },
  {
   "cell_type": "markdown",
   "id": "d450f7ac",
   "metadata": {
    "slideshow": {
     "slide_type": "subslide"
    }
   },
   "source": [
    "##### Quantitative results"
   ]
  },
  {
   "cell_type": "markdown",
   "id": "cdc7c08c",
   "metadata": {},
   "source": [
    "To quantify the deconvolution performance of the proposed method, the [dataset published by Libin Sun et al.](http://ieeexplore.ieee.org/document/6528301/) has been employed.\n",
    "\n",
    "The reconstruction results are numerically compared against the ground truths by means of the so-called *peak signal-to-noise ratio PSNR* (logarithmic scale, no maximum value) and the so-called *structural similarity index SSIM* (mimics the human perception of image similarity, maximum value of 1.0 for full equality)."
   ]
  },
  {
   "cell_type": "markdown",
   "id": "58b46d62",
   "metadata": {
    "slideshow": {
     "slide_type": "fragment"
    }
   },
   "source": [
    "<table>\n",
    "<thead>\n",
    "  \n",
    "  <tr>\n",
    "      <th style=\"text-align:left\">Method</th>\n",
    "      <th>PSNR</th>\n",
    "      <th>SSIM</th>\n",
    "  </tr>\n",
    "</thead>\n",
    "<tbody>\n",
    "  \n",
    "  <tr>\n",
    "    <td style=\"text-align:left\">Fourier Deconvolution Network (2017)</td>\n",
    "    <td>32.67</td>\n",
    "    <td>0.8887</td>\n",
    "  </tr>\n",
    "  <tr>\n",
    "    <td style=\"text-align:left\">Cascade of Shrinkage Fields (2014)</td>\n",
    "    <td>32.21</td>\n",
    "    <td>0.8622</td>\n",
    "  </tr>\n",
    "  <tr>\n",
    "    <td style=\"text-align:left\">Expected Patch Log Likelihood (2011)</td>\n",
    "    <td>32.48</td>\n",
    "    <td>0.8815</td>\n",
    "  </tr>\n",
    "  <tr>\n",
    "    <td style=\"text-align:left\">Wiener meets Deep Learning (2020)</td>\n",
    "    <td>34.05</td>\n",
    "    <td>0.9225</td>\n",
    "  </tr>\n",
    "  <tr>\n",
    "      <td style=\"text-align:left\"><b>Wiener filter with deep SNR-estimation</b></td>\n",
    "      <td><b>40.83 $\\pm$ 1.8</b></td>\n",
    "      <td><b>0.97 $\\pm$ 0.01</b></td>\n",
    "  </tr>\n",
    "  <tr >\n",
    "    <td colspan=\"100%\"></td>\n",
    "  </tr>\n",
    "  <tr>\n",
    "    <td style=\"text-align:left\">Wiener filter with ground truth SNR</td>\n",
    "    <td>42.31 $\\pm$ 1.7</td>\n",
    "    <td>0.98 $\\pm$ 0.01</td>\n",
    "  </tr>\n",
    "  <tr>\n",
    "    <td style=\"text-align:left\">Wiener filter with heuristic $\\mathbf{f}^2$</td>\n",
    "    <td>32.23 $\\pm$ 2.3</td>\n",
    "    <td>0.81 $\\pm$ 0.1</td>\n",
    "  </tr>\n",
    "</tbody>\n",
    "</table>"
   ]
  },
  {
   "cell_type": "markdown",
   "id": "f5995b54",
   "metadata": {
    "slideshow": {
     "slide_type": "slide"
    }
   },
   "source": [
    "## Unrolled optimization"
   ]
  },
  {
   "cell_type": "markdown",
   "id": "2d3df89e",
   "metadata": {},
   "source": [
    "For traditional HQS and ADMM implementations, the values of the hyperparameters $\\lambda$ and $\\rho$ are chosen once and remain fix while performing the optimization."
   ]
  },
  {
   "cell_type": "markdown",
   "id": "16802fee",
   "metadata": {
    "slideshow": {
     "slide_type": "fragment"
    }
   },
   "source": [
    "Although this works well in many cases, it can be beneficial to set the number $i$ of iterations to a fixed value and replicate the parameter update routines $i$ times, each with individual hyperparameters $\\lambda_i, \\rho_i$."
   ]
  },
  {
   "cell_type": "markdown",
   "id": "4fb21956",
   "metadata": {
    "slideshow": {
     "slide_type": "fragment"
    }
   },
   "source": [
    "The resulting structure can be interpreted and dealt with like a neural network (especially if some deep denoising prior is included). Then, the hyperparameters $\\lambda_i, \\rho_i$ and the parameters of a potentially included neural network can be learned (i.e., optimized) in an end-to-end fashion in a joint training procedure."
   ]
  },
  {
   "cell_type": "markdown",
   "id": "d3f1edd8",
   "metadata": {
    "slideshow": {
     "slide_type": "subslide"
    }
   },
   "source": [
    "Advantages of unrolled optimization:\n",
    "\n",
    "* Whole method becomes end-to-end differentiable.\n",
    "* Hyperparameters $\\lambda_i, \\rho_i$ can be learned and optimized allowing to realize a hyperparameter-schedule (e.g., increasing the $\\rho_i$ over time).\n",
    "* The denoising neural network can adapt to the actual matrix $\\mathbf{A}$ or the convolution kernel (even with respect to every individual iteration).\n",
    "* Skip connections from earlier iterations to later iterations can be realized."
   ]
  }
 ],
 "metadata": {
  "jupytext": {
   "formats": "ipynb,md:myst",
   "text_representation": {
    "extension": ".md",
    "format_name": "myst",
    "format_version": 0.13,
    "jupytext_version": "1.14.1"
   }
  },
  "kernelspec": {
   "display_name": "compimg",
   "language": "python",
   "name": "compimg"
  },
  "language_info": {
   "codemirror_mode": {
    "name": "ipython",
    "version": 3
   },
   "file_extension": ".py",
   "mimetype": "text/x-python",
   "name": "python",
   "nbconvert_exporter": "python",
   "pygments_lexer": "ipython3",
   "version": "3.8.10"
  },
  "source_map": [
   15,
   35,
   58,
   65,
   75,
   88,
   97,
   106,
   117,
   129,
   143,
   147,
   162,
   166,
   170,
   177,
   181,
   185,
   193,
   197,
   203,
   209,
   217,
   225,
   235,
   239,
   252,
   260,
   270,
   274,
   284,
   288,
   295,
   304,
   313,
   326,
   333,
   344,
   361,
   365,
   369,
   379,
   383,
   389,
   397,
   404,
   408,
   412,
   420,
   424,
   431,
   439,
   443,
   449,
   453,
   457,
   461,
   471,
   475,
   479,
   489,
   493,
   497,
   503,
   507,
   513,
   523,
   533,
   537,
   549,
   555,
   568,
   578,
   588,
   598,
   608,
   616,
   620,
   626,
   630,
   638,
   646,
   655,
   663,
   667,
   673,
   683,
   693,
   697,
   702,
   709,
   720,
   726,
   732,
   742,
   747,
   752,
   761,
   765,
   773,
   777,
   785,
   789,
   793,
   803,
   811,
   815,
   823,
   827,
   833,
   839,
   845,
   855,
   861,
   873,
   890,
   896,
   909,
   923,
   935,
   947,
   962,
   970,
   974,
   978,
   989,
   997,
   1005,
   1015,
   1031,
   1137,
   1153,
   1157,
   1162,
   1172,
   1194,
   1203,
   1207,
   1219,
   1230,
   1234,
   1244,
   1358,
   1362,
   1378,
   1382,
   1392,
   1400,
   1410,
   1414,
   1422,
   1426,
   1437,
   1443,
   1447,
   1455,
   1459,
   1472,
   1482,
   1492,
   1498,
   1508,
   1512,
   1516,
   1524,
   1528,
   1540,
   1550,
   1554,
   1564,
   1573,
   1577,
   1581,
   1585,
   1589,
   1595,
   1602,
   1606,
   1612,
   1616,
   1622,
   1676,
   1680,
   1684,
   1688,
   1692
  ],
  "widgets": {
   "application/vnd.jupyter.widget-state+json": {
    "state": {
     "136649357b0a4521906bac096f88a7d7": {
      "model_module": "@jupyter-widgets/base",
      "model_module_version": "1.2.0",
      "model_name": "LayoutModel",
      "state": {
       "_model_module": "@jupyter-widgets/base",
       "_model_module_version": "1.2.0",
       "_model_name": "LayoutModel",
       "_view_count": null,
       "_view_module": "@jupyter-widgets/base",
       "_view_module_version": "1.2.0",
       "_view_name": "LayoutView",
       "align_content": null,
       "align_items": null,
       "align_self": null,
       "border": null,
       "bottom": null,
       "display": null,
       "flex": null,
       "flex_flow": null,
       "grid_area": null,
       "grid_auto_columns": null,
       "grid_auto_flow": null,
       "grid_auto_rows": null,
       "grid_column": null,
       "grid_gap": null,
       "grid_row": null,
       "grid_template_areas": null,
       "grid_template_columns": null,
       "grid_template_rows": null,
       "height": null,
       "justify_content": null,
       "justify_items": null,
       "left": null,
       "margin": null,
       "max_height": null,
       "max_width": null,
       "min_height": null,
       "min_width": null,
       "object_fit": null,
       "object_position": null,
       "order": null,
       "overflow": null,
       "overflow_x": null,
       "overflow_y": null,
       "padding": null,
       "right": null,
       "top": null,
       "visibility": null,
       "width": null
      }
     },
     "185e499f790440b8937a7e22c45a3ffd": {
      "model_module": "@jupyter-widgets/base",
      "model_module_version": "1.2.0",
      "model_name": "LayoutModel",
      "state": {
       "_model_module": "@jupyter-widgets/base",
       "_model_module_version": "1.2.0",
       "_model_name": "LayoutModel",
       "_view_count": null,
       "_view_module": "@jupyter-widgets/base",
       "_view_module_version": "1.2.0",
       "_view_name": "LayoutView",
       "align_content": null,
       "align_items": null,
       "align_self": null,
       "border": null,
       "bottom": null,
       "display": null,
       "flex": null,
       "flex_flow": null,
       "grid_area": null,
       "grid_auto_columns": null,
       "grid_auto_flow": null,
       "grid_auto_rows": null,
       "grid_column": null,
       "grid_gap": null,
       "grid_row": null,
       "grid_template_areas": null,
       "grid_template_columns": null,
       "grid_template_rows": null,
       "height": null,
       "justify_content": null,
       "justify_items": null,
       "left": null,
       "margin": null,
       "max_height": null,
       "max_width": null,
       "min_height": null,
       "min_width": null,
       "object_fit": null,
       "object_position": null,
       "order": null,
       "overflow": null,
       "overflow_x": null,
       "overflow_y": null,
       "padding": null,
       "right": null,
       "top": null,
       "visibility": null,
       "width": null
      }
     },
     "1a57f828241d40609a58cc77338fb1d7": {
      "model_module": "@jupyter-widgets/base",
      "model_module_version": "1.2.0",
      "model_name": "LayoutModel",
      "state": {
       "_model_module": "@jupyter-widgets/base",
       "_model_module_version": "1.2.0",
       "_model_name": "LayoutModel",
       "_view_count": null,
       "_view_module": "@jupyter-widgets/base",
       "_view_module_version": "1.2.0",
       "_view_name": "LayoutView",
       "align_content": null,
       "align_items": null,
       "align_self": null,
       "border": null,
       "bottom": null,
       "display": null,
       "flex": null,
       "flex_flow": null,
       "grid_area": null,
       "grid_auto_columns": null,
       "grid_auto_flow": null,
       "grid_auto_rows": null,
       "grid_column": null,
       "grid_gap": null,
       "grid_row": null,
       "grid_template_areas": null,
       "grid_template_columns": null,
       "grid_template_rows": null,
       "height": null,
       "justify_content": null,
       "justify_items": null,
       "left": null,
       "margin": null,
       "max_height": null,
       "max_width": null,
       "min_height": null,
       "min_width": null,
       "object_fit": null,
       "object_position": null,
       "order": null,
       "overflow": null,
       "overflow_x": null,
       "overflow_y": null,
       "padding": null,
       "right": null,
       "top": null,
       "visibility": null,
       "width": null
      }
     },
     "1d28bf8c65214d83be18419e22d7cb84": {
      "model_module": "@jupyter-widgets/controls",
      "model_module_version": "1.5.0",
      "model_name": "IntSliderModel",
      "state": {
       "_dom_classes": [],
       "_model_module": "@jupyter-widgets/controls",
       "_model_module_version": "1.5.0",
       "_model_name": "IntSliderModel",
       "_view_count": null,
       "_view_module": "@jupyter-widgets/controls",
       "_view_module_version": "1.5.0",
       "_view_name": "IntSliderView",
       "continuous_update": true,
       "description": "i",
       "description_tooltip": null,
       "disabled": false,
       "layout": "IPY_MODEL_6ad2dce96fbd4b41999ee848608a5f92",
       "max": 6,
       "min": 1,
       "orientation": "horizontal",
       "readout": true,
       "readout_format": "d",
       "step": 1,
       "style": "IPY_MODEL_b934456e0030481d8f914c37ea3c8c8d",
       "value": 6
      }
     },
     "22df75bda00c4404b77194daf1fac77c": {
      "model_module": "@jupyter-widgets/base",
      "model_module_version": "1.2.0",
      "model_name": "LayoutModel",
      "state": {
       "_model_module": "@jupyter-widgets/base",
       "_model_module_version": "1.2.0",
       "_model_name": "LayoutModel",
       "_view_count": null,
       "_view_module": "@jupyter-widgets/base",
       "_view_module_version": "1.2.0",
       "_view_name": "LayoutView",
       "align_content": null,
       "align_items": null,
       "align_self": null,
       "border": null,
       "bottom": null,
       "display": null,
       "flex": null,
       "flex_flow": null,
       "grid_area": null,
       "grid_auto_columns": null,
       "grid_auto_flow": null,
       "grid_auto_rows": null,
       "grid_column": null,
       "grid_gap": null,
       "grid_row": null,
       "grid_template_areas": null,
       "grid_template_columns": null,
       "grid_template_rows": null,
       "height": null,
       "justify_content": null,
       "justify_items": null,
       "left": null,
       "margin": null,
       "max_height": null,
       "max_width": null,
       "min_height": null,
       "min_width": null,
       "object_fit": null,
       "object_position": null,
       "order": null,
       "overflow": null,
       "overflow_x": null,
       "overflow_y": null,
       "padding": null,
       "right": null,
       "top": null,
       "visibility": null,
       "width": null
      }
     },
     "2ab96dceec2649868c3fd3d01b2e1e73": {
      "model_module": "@jupyter-widgets/controls",
      "model_module_version": "1.5.0",
      "model_name": "VBoxModel",
      "state": {
       "_dom_classes": [
        "widget-interact"
       ],
       "_model_module": "@jupyter-widgets/controls",
       "_model_module_version": "1.5.0",
       "_model_name": "VBoxModel",
       "_view_count": null,
       "_view_module": "@jupyter-widgets/controls",
       "_view_module_version": "1.5.0",
       "_view_name": "VBoxView",
       "box_style": "",
       "children": [
        "IPY_MODEL_d18e192eebbc4ae7bf9ccb94f2d0de2d",
        "IPY_MODEL_9462a6b87f5b4bafb589258cdef53ffa"
       ],
       "layout": "IPY_MODEL_136649357b0a4521906bac096f88a7d7"
      }
     },
     "2b3298d6236147d3889c7dd8fa7096b5": {
      "model_module": "@jupyter-widgets/base",
      "model_module_version": "1.2.0",
      "model_name": "LayoutModel",
      "state": {
       "_model_module": "@jupyter-widgets/base",
       "_model_module_version": "1.2.0",
       "_model_name": "LayoutModel",
       "_view_count": null,
       "_view_module": "@jupyter-widgets/base",
       "_view_module_version": "1.2.0",
       "_view_name": "LayoutView",
       "align_content": null,
       "align_items": null,
       "align_self": null,
       "border": null,
       "bottom": null,
       "display": null,
       "flex": null,
       "flex_flow": null,
       "grid_area": null,
       "grid_auto_columns": null,
       "grid_auto_flow": null,
       "grid_auto_rows": null,
       "grid_column": null,
       "grid_gap": null,
       "grid_row": null,
       "grid_template_areas": null,
       "grid_template_columns": null,
       "grid_template_rows": null,
       "height": null,
       "justify_content": null,
       "justify_items": null,
       "left": null,
       "margin": null,
       "max_height": null,
       "max_width": null,
       "min_height": null,
       "min_width": null,
       "object_fit": null,
       "object_position": null,
       "order": null,
       "overflow": null,
       "overflow_x": null,
       "overflow_y": null,
       "padding": null,
       "right": null,
       "top": null,
       "visibility": null,
       "width": null
      }
     },
     "54111d9775ca4e24b4930329c2a3f429": {
      "model_module": "@jupyter-widgets/controls",
      "model_module_version": "1.5.0",
      "model_name": "SliderStyleModel",
      "state": {
       "_model_module": "@jupyter-widgets/controls",
       "_model_module_version": "1.5.0",
       "_model_name": "SliderStyleModel",
       "_view_count": null,
       "_view_module": "@jupyter-widgets/base",
       "_view_module_version": "1.2.0",
       "_view_name": "StyleView",
       "description_width": "",
       "handle_color": null
      }
     },
     "578d4bd47d074b3195034670fc9fb4df": {
      "model_module": "@jupyter-widgets/output",
      "model_module_version": "1.0.0",
      "model_name": "OutputModel",
      "state": {
       "_dom_classes": [],
       "_model_module": "@jupyter-widgets/output",
       "_model_module_version": "1.0.0",
       "_model_name": "OutputModel",
       "_view_count": null,
       "_view_module": "@jupyter-widgets/output",
       "_view_module_version": "1.0.0",
       "_view_name": "OutputView",
       "layout": "IPY_MODEL_185e499f790440b8937a7e22c45a3ffd",
       "msg_id": "",
       "outputs": [
        {
         "data": {
          "text/html": "<img src=\"figures/6/dw_ex_6.png\" style=\"max-height:50vh\"/>",
          "text/plain": "<IPython.core.display.HTML object>"
         },
         "metadata": {},
         "output_type": "display_data"
        }
       ]
      }
     },
     "6574d1948d634da1b5be18ab3083432c": {
      "model_module": "@jupyter-widgets/controls",
      "model_module_version": "1.5.0",
      "model_name": "SliderStyleModel",
      "state": {
       "_model_module": "@jupyter-widgets/controls",
       "_model_module_version": "1.5.0",
       "_model_name": "SliderStyleModel",
       "_view_count": null,
       "_view_module": "@jupyter-widgets/base",
       "_view_module_version": "1.2.0",
       "_view_name": "StyleView",
       "description_width": "",
       "handle_color": null
      }
     },
     "6ad2dce96fbd4b41999ee848608a5f92": {
      "model_module": "@jupyter-widgets/base",
      "model_module_version": "1.2.0",
      "model_name": "LayoutModel",
      "state": {
       "_model_module": "@jupyter-widgets/base",
       "_model_module_version": "1.2.0",
       "_model_name": "LayoutModel",
       "_view_count": null,
       "_view_module": "@jupyter-widgets/base",
       "_view_module_version": "1.2.0",
       "_view_name": "LayoutView",
       "align_content": null,
       "align_items": null,
       "align_self": null,
       "border": null,
       "bottom": null,
       "display": null,
       "flex": null,
       "flex_flow": null,
       "grid_area": null,
       "grid_auto_columns": null,
       "grid_auto_flow": null,
       "grid_auto_rows": null,
       "grid_column": null,
       "grid_gap": null,
       "grid_row": null,
       "grid_template_areas": null,
       "grid_template_columns": null,
       "grid_template_rows": null,
       "height": null,
       "justify_content": null,
       "justify_items": null,
       "left": null,
       "margin": null,
       "max_height": null,
       "max_width": null,
       "min_height": null,
       "min_width": null,
       "object_fit": null,
       "object_position": null,
       "order": null,
       "overflow": null,
       "overflow_x": null,
       "overflow_y": null,
       "padding": null,
       "right": null,
       "top": null,
       "visibility": null,
       "width": null
      }
     },
     "9462a6b87f5b4bafb589258cdef53ffa": {
      "model_module": "@jupyter-widgets/output",
      "model_module_version": "1.0.0",
      "model_name": "OutputModel",
      "state": {
       "_dom_classes": [],
       "_model_module": "@jupyter-widgets/output",
       "_model_module_version": "1.0.0",
       "_model_name": "OutputModel",
       "_view_count": null,
       "_view_module": "@jupyter-widgets/output",
       "_view_module_version": "1.0.0",
       "_view_name": "OutputView",
       "layout": "IPY_MODEL_e5c890593d494887975453fce6a547b8",
       "msg_id": "",
       "outputs": [
        {
         "data": {
          "image/png": "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\n",
          "text/plain": "<Figure size 432x288 with 2 Axes>"
         },
         "metadata": {
          "needs_background": "light"
         },
         "output_type": "display_data"
        }
       ]
      }
     },
     "9a61fa7dace041269b9ff8dbe3c7c544": {
      "model_module": "@jupyter-widgets/controls",
      "model_module_version": "1.5.0",
      "model_name": "VBoxModel",
      "state": {
       "_dom_classes": [
        "widget-interact"
       ],
       "_model_module": "@jupyter-widgets/controls",
       "_model_module_version": "1.5.0",
       "_model_name": "VBoxModel",
       "_view_count": null,
       "_view_module": "@jupyter-widgets/controls",
       "_view_module_version": "1.5.0",
       "_view_name": "VBoxView",
       "box_style": "",
       "children": [
        "IPY_MODEL_1d28bf8c65214d83be18419e22d7cb84",
        "IPY_MODEL_f23140661ddd414bbc56294385ca63df"
       ],
       "layout": "IPY_MODEL_f7f092d71e8d4821ba4345e3fe309a68"
      }
     },
     "9acf82c5cad1431daf8b532447833d26": {
      "model_module": "@jupyter-widgets/controls",
      "model_module_version": "1.5.0",
      "model_name": "IntSliderModel",
      "state": {
       "_dom_classes": [],
       "_model_module": "@jupyter-widgets/controls",
       "_model_module_version": "1.5.0",
       "_model_name": "IntSliderModel",
       "_view_count": null,
       "_view_module": "@jupyter-widgets/controls",
       "_view_module_version": "1.5.0",
       "_view_name": "IntSliderView",
       "continuous_update": true,
       "description": "i",
       "description_tooltip": null,
       "disabled": false,
       "layout": "IPY_MODEL_b8d8bc90c519409f8c6ab6d33de22699",
       "max": 6,
       "min": 1,
       "orientation": "horizontal",
       "readout": true,
       "readout_format": "d",
       "step": 1,
       "style": "IPY_MODEL_9dfa71f66559402eb322beb514f26d78",
       "value": 6
      }
     },
     "9c1b2f3f9b6345b68069726e06e62c06": {
      "model_module": "@jupyter-widgets/base",
      "model_module_version": "1.2.0",
      "model_name": "LayoutModel",
      "state": {
       "_model_module": "@jupyter-widgets/base",
       "_model_module_version": "1.2.0",
       "_model_name": "LayoutModel",
       "_view_count": null,
       "_view_module": "@jupyter-widgets/base",
       "_view_module_version": "1.2.0",
       "_view_name": "LayoutView",
       "align_content": null,
       "align_items": null,
       "align_self": null,
       "border": null,
       "bottom": null,
       "display": null,
       "flex": null,
       "flex_flow": null,
       "grid_area": null,
       "grid_auto_columns": null,
       "grid_auto_flow": null,
       "grid_auto_rows": null,
       "grid_column": null,
       "grid_gap": null,
       "grid_row": null,
       "grid_template_areas": null,
       "grid_template_columns": null,
       "grid_template_rows": null,
       "height": null,
       "justify_content": null,
       "justify_items": null,
       "left": null,
       "margin": null,
       "max_height": null,
       "max_width": null,
       "min_height": null,
       "min_width": null,
       "object_fit": null,
       "object_position": null,
       "order": null,
       "overflow": null,
       "overflow_x": null,
       "overflow_y": null,
       "padding": null,
       "right": null,
       "top": null,
       "visibility": null,
       "width": null
      }
     },
     "9dfa71f66559402eb322beb514f26d78": {
      "model_module": "@jupyter-widgets/controls",
      "model_module_version": "1.5.0",
      "model_name": "SliderStyleModel",
      "state": {
       "_model_module": "@jupyter-widgets/controls",
       "_model_module_version": "1.5.0",
       "_model_name": "SliderStyleModel",
       "_view_count": null,
       "_view_module": "@jupyter-widgets/base",
       "_view_module_version": "1.2.0",
       "_view_name": "StyleView",
       "description_width": "",
       "handle_color": null
      }
     },
     "a073c8ea7daa4e4db71b07bf30ed5816": {
      "model_module": "@jupyter-widgets/output",
      "model_module_version": "1.0.0",
      "model_name": "OutputModel",
      "state": {
       "_dom_classes": [],
       "_model_module": "@jupyter-widgets/output",
       "_model_module_version": "1.0.0",
       "_model_name": "OutputModel",
       "_view_count": null,
       "_view_module": "@jupyter-widgets/output",
       "_view_module_version": "1.0.0",
       "_view_name": "OutputView",
       "layout": "IPY_MODEL_bf201b9bea5d4948bc28601f90738236",
       "msg_id": "",
       "outputs": [
        {
         "data": {
          "text/html": "<img src=\"figures/6/inv_filter_res_6.svg\" style=\"max-height:50vh\"/>",
          "text/plain": "<IPython.core.display.HTML object>"
         },
         "metadata": {},
         "output_type": "display_data"
        }
       ]
      }
     },
     "abc8e1ea1a2f45f7b8a759170da0ac76": {
      "model_module": "@jupyter-widgets/controls",
      "model_module_version": "1.5.0",
      "model_name": "VBoxModel",
      "state": {
       "_dom_classes": [
        "widget-interact"
       ],
       "_model_module": "@jupyter-widgets/controls",
       "_model_module_version": "1.5.0",
       "_model_name": "VBoxModel",
       "_view_count": null,
       "_view_module": "@jupyter-widgets/controls",
       "_view_module_version": "1.5.0",
       "_view_name": "VBoxView",
       "box_style": "",
       "children": [
        "IPY_MODEL_9acf82c5cad1431daf8b532447833d26",
        "IPY_MODEL_a073c8ea7daa4e4db71b07bf30ed5816"
       ],
       "layout": "IPY_MODEL_22df75bda00c4404b77194daf1fac77c"
      }
     },
     "b8d8bc90c519409f8c6ab6d33de22699": {
      "model_module": "@jupyter-widgets/base",
      "model_module_version": "1.2.0",
      "model_name": "LayoutModel",
      "state": {
       "_model_module": "@jupyter-widgets/base",
       "_model_module_version": "1.2.0",
       "_model_name": "LayoutModel",
       "_view_count": null,
       "_view_module": "@jupyter-widgets/base",
       "_view_module_version": "1.2.0",
       "_view_name": "LayoutView",
       "align_content": null,
       "align_items": null,
       "align_self": null,
       "border": null,
       "bottom": null,
       "display": null,
       "flex": null,
       "flex_flow": null,
       "grid_area": null,
       "grid_auto_columns": null,
       "grid_auto_flow": null,
       "grid_auto_rows": null,
       "grid_column": null,
       "grid_gap": null,
       "grid_row": null,
       "grid_template_areas": null,
       "grid_template_columns": null,
       "grid_template_rows": null,
       "height": null,
       "justify_content": null,
       "justify_items": null,
       "left": null,
       "margin": null,
       "max_height": null,
       "max_width": null,
       "min_height": null,
       "min_width": null,
       "object_fit": null,
       "object_position": null,
       "order": null,
       "overflow": null,
       "overflow_x": null,
       "overflow_y": null,
       "padding": null,
       "right": null,
       "top": null,
       "visibility": null,
       "width": null
      }
     },
     "b934456e0030481d8f914c37ea3c8c8d": {
      "model_module": "@jupyter-widgets/controls",
      "model_module_version": "1.5.0",
      "model_name": "SliderStyleModel",
      "state": {
       "_model_module": "@jupyter-widgets/controls",
       "_model_module_version": "1.5.0",
       "_model_name": "SliderStyleModel",
       "_view_count": null,
       "_view_module": "@jupyter-widgets/base",
       "_view_module_version": "1.2.0",
       "_view_name": "StyleView",
       "description_width": "",
       "handle_color": null
      }
     },
     "bf201b9bea5d4948bc28601f90738236": {
      "model_module": "@jupyter-widgets/base",
      "model_module_version": "1.2.0",
      "model_name": "LayoutModel",
      "state": {
       "_model_module": "@jupyter-widgets/base",
       "_model_module_version": "1.2.0",
       "_model_name": "LayoutModel",
       "_view_count": null,
       "_view_module": "@jupyter-widgets/base",
       "_view_module_version": "1.2.0",
       "_view_name": "LayoutView",
       "align_content": null,
       "align_items": null,
       "align_self": null,
       "border": null,
       "bottom": null,
       "display": null,
       "flex": null,
       "flex_flow": null,
       "grid_area": null,
       "grid_auto_columns": null,
       "grid_auto_flow": null,
       "grid_auto_rows": null,
       "grid_column": null,
       "grid_gap": null,
       "grid_row": null,
       "grid_template_areas": null,
       "grid_template_columns": null,
       "grid_template_rows": null,
       "height": null,
       "justify_content": null,
       "justify_items": null,
       "left": null,
       "margin": null,
       "max_height": null,
       "max_width": null,
       "min_height": null,
       "min_width": null,
       "object_fit": null,
       "object_position": null,
       "order": null,
       "overflow": null,
       "overflow_x": null,
       "overflow_y": null,
       "padding": null,
       "right": null,
       "top": null,
       "visibility": null,
       "width": null
      }
     },
     "d18e192eebbc4ae7bf9ccb94f2d0de2d": {
      "model_module": "@jupyter-widgets/controls",
      "model_module_version": "1.5.0",
      "model_name": "FloatSliderModel",
      "state": {
       "_dom_classes": [],
       "_model_module": "@jupyter-widgets/controls",
       "_model_module_version": "1.5.0",
       "_model_name": "FloatSliderModel",
       "_view_count": null,
       "_view_module": "@jupyter-widgets/controls",
       "_view_module_version": "1.5.0",
       "_view_name": "FloatSliderView",
       "continuous_update": true,
       "description": "v",
       "description_tooltip": null,
       "disabled": false,
       "layout": "IPY_MODEL_eb3ff1606de54081bcf8b141eceea70a",
       "max": 3.0,
       "min": -3.0,
       "orientation": "horizontal",
       "readout": true,
       "readout_format": ".2f",
       "step": 0.2,
       "style": "IPY_MODEL_54111d9775ca4e24b4930329c2a3f429",
       "value": 0.0
      }
     },
     "dc99382f0014441982a4cb2ea1d34d08": {
      "model_module": "@jupyter-widgets/controls",
      "model_module_version": "1.5.0",
      "model_name": "IntSliderModel",
      "state": {
       "_dom_classes": [],
       "_model_module": "@jupyter-widgets/controls",
       "_model_module_version": "1.5.0",
       "_model_name": "IntSliderModel",
       "_view_count": null,
       "_view_module": "@jupyter-widgets/controls",
       "_view_module_version": "1.5.0",
       "_view_name": "IntSliderView",
       "continuous_update": true,
       "description": "i",
       "description_tooltip": null,
       "disabled": false,
       "layout": "IPY_MODEL_1a57f828241d40609a58cc77338fb1d7",
       "max": 8,
       "min": 1,
       "orientation": "horizontal",
       "readout": true,
       "readout_format": "d",
       "step": 1,
       "style": "IPY_MODEL_6574d1948d634da1b5be18ab3083432c",
       "value": 6
      }
     },
     "e2becfdd3db54b9b99153c1b9a6bc1cc": {
      "model_module": "@jupyter-widgets/controls",
      "model_module_version": "1.5.0",
      "model_name": "VBoxModel",
      "state": {
       "_dom_classes": [
        "widget-interact"
       ],
       "_model_module": "@jupyter-widgets/controls",
       "_model_module_version": "1.5.0",
       "_model_name": "VBoxModel",
       "_view_count": null,
       "_view_module": "@jupyter-widgets/controls",
       "_view_module_version": "1.5.0",
       "_view_name": "VBoxView",
       "box_style": "",
       "children": [
        "IPY_MODEL_dc99382f0014441982a4cb2ea1d34d08",
        "IPY_MODEL_578d4bd47d074b3195034670fc9fb4df"
       ],
       "layout": "IPY_MODEL_9c1b2f3f9b6345b68069726e06e62c06"
      }
     },
     "e5c890593d494887975453fce6a547b8": {
      "model_module": "@jupyter-widgets/base",
      "model_module_version": "1.2.0",
      "model_name": "LayoutModel",
      "state": {
       "_model_module": "@jupyter-widgets/base",
       "_model_module_version": "1.2.0",
       "_model_name": "LayoutModel",
       "_view_count": null,
       "_view_module": "@jupyter-widgets/base",
       "_view_module_version": "1.2.0",
       "_view_name": "LayoutView",
       "align_content": null,
       "align_items": null,
       "align_self": null,
       "border": null,
       "bottom": null,
       "display": null,
       "flex": null,
       "flex_flow": null,
       "grid_area": null,
       "grid_auto_columns": null,
       "grid_auto_flow": null,
       "grid_auto_rows": null,
       "grid_column": null,
       "grid_gap": null,
       "grid_row": null,
       "grid_template_areas": null,
       "grid_template_columns": null,
       "grid_template_rows": null,
       "height": null,
       "justify_content": null,
       "justify_items": null,
       "left": null,
       "margin": null,
       "max_height": null,
       "max_width": null,
       "min_height": null,
       "min_width": null,
       "object_fit": null,
       "object_position": null,
       "order": null,
       "overflow": null,
       "overflow_x": null,
       "overflow_y": null,
       "padding": null,
       "right": null,
       "top": null,
       "visibility": null,
       "width": null
      }
     },
     "eb3ff1606de54081bcf8b141eceea70a": {
      "model_module": "@jupyter-widgets/base",
      "model_module_version": "1.2.0",
      "model_name": "LayoutModel",
      "state": {
       "_model_module": "@jupyter-widgets/base",
       "_model_module_version": "1.2.0",
       "_model_name": "LayoutModel",
       "_view_count": null,
       "_view_module": "@jupyter-widgets/base",
       "_view_module_version": "1.2.0",
       "_view_name": "LayoutView",
       "align_content": null,
       "align_items": null,
       "align_self": null,
       "border": null,
       "bottom": null,
       "display": null,
       "flex": null,
       "flex_flow": null,
       "grid_area": null,
       "grid_auto_columns": null,
       "grid_auto_flow": null,
       "grid_auto_rows": null,
       "grid_column": null,
       "grid_gap": null,
       "grid_row": null,
       "grid_template_areas": null,
       "grid_template_columns": null,
       "grid_template_rows": null,
       "height": null,
       "justify_content": null,
       "justify_items": null,
       "left": null,
       "margin": null,
       "max_height": null,
       "max_width": null,
       "min_height": null,
       "min_width": null,
       "object_fit": null,
       "object_position": null,
       "order": null,
       "overflow": null,
       "overflow_x": null,
       "overflow_y": null,
       "padding": null,
       "right": null,
       "top": null,
       "visibility": null,
       "width": null
      }
     },
     "f23140661ddd414bbc56294385ca63df": {
      "model_module": "@jupyter-widgets/output",
      "model_module_version": "1.0.0",
      "model_name": "OutputModel",
      "state": {
       "_dom_classes": [],
       "_model_module": "@jupyter-widgets/output",
       "_model_module_version": "1.0.0",
       "_model_name": "OutputModel",
       "_view_count": null,
       "_view_module": "@jupyter-widgets/output",
       "_view_module_version": "1.0.0",
       "_view_name": "OutputView",
       "layout": "IPY_MODEL_2b3298d6236147d3889c7dd8fa7096b5",
       "msg_id": "",
       "outputs": [
        {
         "data": {
          "text/html": "<img src=\"figures/6/wiener_filter_res_6.svg\" style=\"max-height:50vh\"/>",
          "text/plain": "<IPython.core.display.HTML object>"
         },
         "metadata": {},
         "output_type": "display_data"
        }
       ]
      }
     },
     "f7f092d71e8d4821ba4345e3fe309a68": {
      "model_module": "@jupyter-widgets/base",
      "model_module_version": "1.2.0",
      "model_name": "LayoutModel",
      "state": {
       "_model_module": "@jupyter-widgets/base",
       "_model_module_version": "1.2.0",
       "_model_name": "LayoutModel",
       "_view_count": null,
       "_view_module": "@jupyter-widgets/base",
       "_view_module_version": "1.2.0",
       "_view_name": "LayoutView",
       "align_content": null,
       "align_items": null,
       "align_self": null,
       "border": null,
       "bottom": null,
       "display": null,
       "flex": null,
       "flex_flow": null,
       "grid_area": null,
       "grid_auto_columns": null,
       "grid_auto_flow": null,
       "grid_auto_rows": null,
       "grid_column": null,
       "grid_gap": null,
       "grid_row": null,
       "grid_template_areas": null,
       "grid_template_columns": null,
       "grid_template_rows": null,
       "height": null,
       "justify_content": null,
       "justify_items": null,
       "left": null,
       "margin": null,
       "max_height": null,
       "max_width": null,
       "min_height": null,
       "min_width": null,
       "object_fit": null,
       "object_position": null,
       "order": null,
       "overflow": null,
       "overflow_x": null,
       "overflow_y": null,
       "padding": null,
       "right": null,
       "top": null,
       "visibility": null,
       "width": null
      }
     }
    },
    "version_major": 2,
    "version_minor": 0
   }
  }
 },
 "nbformat": 4,
 "nbformat_minor": 5
}