{
 "cells": [
  {
   "cell_type": "code",
   "execution_count": 1,
   "id": "e9c65ead",
   "metadata": {
    "init_cell": true,
    "tags": [
     "remove-cell"
    ]
   },
   "outputs": [
    {
     "data": {
      "application/javascript": [
       "var cells = Jupyter.notebook.get_cells();\n",
       "           for (var i = 0; i < cells.length; i++) {\n",
       "               var cur_cell = cells[i];\n",
       "               var tags = cur_cell._metadata.tags;\n",
       "               console.log(i);\n",
       "               console.log(tags == undefined);\n",
       "               console.log(tags);\n",
       "               if (tags != undefined) {\n",
       "               for (var j = 0; j < tags.length; j++) {\n",
       "                  if (tags[j]==\"book_only\" | tags[j]==\"remove-cell\") {cur_cell.element.hide();}}\n",
       "               for (var j = 0; j < tags.length; j++) {\n",
       "                   if (tags[j]==\"presentation_only\") {cur_cell.element.show();}}\n",
       "            }}\n"
      ],
      "text/plain": [
       "<IPython.core.display.Javascript object>"
      ]
     },
     "metadata": {},
     "output_type": "display_data"
    }
   ],
   "source": [
    "%%js\n",
    "var cells = Jupyter.notebook.get_cells();\n",
    "           for (var i = 0; i < cells.length; i++) {\n",
    "               var cur_cell = cells[i];\n",
    "               var tags = cur_cell._metadata.tags;\n",
    "               console.log(i);\n",
    "               console.log(tags == undefined);\n",
    "               console.log(tags);\n",
    "               if (tags != undefined) {\n",
    "               for (var j = 0; j < tags.length; j++) {\n",
    "                  if (tags[j]==\"book_only\" | tags[j]==\"remove-cell\") {cur_cell.element.hide();}}\n",
    "               for (var j = 0; j < tags.length; j++) {\n",
    "                   if (tags[j]==\"presentation_only\") {cur_cell.element.show();}}\n",
    "            }}"
   ]
  },
  {
   "cell_type": "code",
   "execution_count": 2,
   "id": "7929bf4d",
   "metadata": {
    "init_cell": true,
    "slideshow": {
     "slide_type": "notes"
    },
    "tags": [
     "remove-cell"
    ]
   },
   "outputs": [
    {
     "name": "stderr",
     "output_type": "stream",
     "text": [
      "C:\\Users\\meyjoh\\repos\\vlcompimg\\compimg\\lib\\site-packages\\scipy\\__init__.py:138: UserWarning: A NumPy version >=1.16.5 and <1.23.0 is required for this version of SciPy (detected version 1.23.4)\n",
      "  warnings.warn(f\"A NumPy version >={np_minversion} and <{np_maxversion} is required for this version of \"\n"
     ]
    }
   ],
   "source": [
    "from __future__ import print_function\n",
    "from ipywidgets import interact, interactive, fixed, interact_manual\n",
    "import ipywidgets as widgets\n",
    "import numpy as np\n",
    "import matplotlib.pyplot as plt\n",
    "import cv2\n",
    "import scipy.signal as sig\n",
    "from scipy.integrate import simpson\n",
    "from IPython.display import SVG, display, IFrame, HTML\n",
    "import seaborn as sns\n",
    "import torch\n",
    "from scipy import ndimage\n",
    "from scipy import misc\n",
    "%matplotlib notebook\n",
    "book = False"
   ]
  },
  {
   "cell_type": "code",
   "execution_count": 3,
   "id": "ffb8d382",
   "metadata": {
    "tags": [
     "remove-cell"
    ]
   },
   "outputs": [],
   "source": [
    "%matplotlib inline\n",
    "book = True"
   ]
  },
  {
   "cell_type": "code",
   "execution_count": 4,
   "id": "2c07b873",
   "metadata": {
    "init_cell": true,
    "tags": [
     "remove-cell"
    ]
   },
   "outputs": [
    {
     "data": {
      "application/javascript": [
       "MathJax.Hub.Config({\n",
       "    TeX: { equationNumbers: { autoNumber: \"AMS\" } }\n",
       "});\n"
      ],
      "text/plain": [
       "<IPython.core.display.Javascript object>"
      ]
     },
     "metadata": {},
     "output_type": "display_data"
    }
   ],
   "source": [
    "%%javascript\n",
    "MathJax.Hub.Config({\n",
    "    TeX: { equationNumbers: { autoNumber: \"AMS\" } }\n",
    "});"
   ]
  },
  {
   "cell_type": "code",
   "execution_count": 5,
   "id": "f6061604",
   "metadata": {
    "init_cell": true,
    "tags": [
     "remove-cell"
    ]
   },
   "outputs": [
    {
     "data": {
      "application/javascript": [
       "\n",
       "MathJax.Hub.Queue(\n",
       "  [\"resetEquationNumbers\", MathJax.InputJax.TeX],\n",
       "  [\"PreProcess\", MathJax.Hub],\n",
       "  [\"Reprocess\", MathJax.Hub]\n",
       ");\n"
      ],
      "text/plain": [
       "<IPython.core.display.Javascript object>"
      ]
     },
     "metadata": {},
     "output_type": "display_data"
    }
   ],
   "source": [
    "%%javascript\n",
    "\n",
    "MathJax.Hub.Queue(\n",
    "  [\"resetEquationNumbers\", MathJax.InputJax.TeX],\n",
    "  [\"PreProcess\", MathJax.Hub],\n",
    "  [\"Reprocess\", MathJax.Hub]\n",
    ");"
   ]
  },
  {
   "cell_type": "code",
   "execution_count": 6,
   "id": "6e81ab1f",
   "metadata": {
    "init_cell": true,
    "tags": [
     "remove-cell"
    ]
   },
   "outputs": [],
   "source": [
    "def showFig(path,i,ending, width, height):\n",
    "    filename = path+str(i)+ending\n",
    "    return HTML(\"<img src=\\\"\" + filename +  f\"\\\" style=\\\"max-height:{height}vh\\\"/>\")"
   ]
  },
  {
   "cell_type": "code",
   "execution_count": 7,
   "id": "c13b184a",
   "metadata": {
    "init_cell": true,
    "tags": [
     "remove-cell"
    ]
   },
   "outputs": [],
   "source": [
    "def showFig2(path,i,ending, width, height):\n",
    "    imgToShow = plt.imread(f\"{path}{i}{ending}\")\n",
    "    plt.imshow(imgToShow)"
   ]
  },
  {
   "cell_type": "code",
   "execution_count": 8,
   "id": "4cd30dbf",
   "metadata": {
    "init_cell": true,
    "tags": [
     "remove-cell"
    ]
   },
   "outputs": [],
   "source": [
    "def imshow(img, cmap=None):\n",
    "    plt.close('all')\n",
    "    plt.figure()\n",
    "    plt.imshow(img, cmap=cmap)\n",
    "    plt.show()"
   ]
  },
  {
   "cell_type": "code",
   "execution_count": 9,
   "id": "b6bb60ad",
   "metadata": {
    "init_cell": true,
    "tags": [
     "remove-cell"
    ]
   },
   "outputs": [],
   "source": [
    "def imshow2(img, cmap=None):\n",
    "    #plt.close('all')\n",
    "    #plt.figure()\n",
    "    plt.clf()\n",
    "    plt.imshow(img, cmap=cmap)\n",
    "    #plt.show()"
   ]
  },
  {
   "cell_type": "markdown",
   "id": "3b7561cf",
   "metadata": {
    "slideshow": {
     "slide_type": "slide"
    }
   },
   "source": [
    "$\\begin{align}\n",
    "  \\newcommand{transp}{^\\intercal}\n",
    "  \\newcommand{F}{\\mathcal{F}}\n",
    "  \\newcommand{Fi}{\\mathcal{F}^{-1}}\n",
    "  \\newcommand{inv}{^{-1}}\n",
    "  \\newcommand{stochvec}[1]{\\mathbf{\\tilde{#1}}}\n",
    "  \\newcommand{argmax}[1]{\\underset{#1}{\\mathrm{arg\\, max}}\\,}\n",
    "  \\newcommand{argmin}[1]{\\underset{#1}{\\mathrm{arg\\, min}}\\,}\n",
    "\\end{align}$\n",
    "\n",
    "<font size=\"7\"> Computational Imaging </font><br><br><br>"
   ]
  },
  {
   "cell_type": "markdown",
   "id": "2ef4f19b",
   "metadata": {
    "slideshow": {
     "slide_type": "-"
    }
   },
   "source": [
    "# Time-Of-Flight Imaging"
   ]
  },
  {
   "cell_type": "markdown",
   "id": "1fb7092c",
   "metadata": {
    "slideshow": {
     "slide_type": "subslide"
    }
   },
   "source": [
    "##### Content\n",
    "* Introduction\n",
    "* Transient imaging\n",
    "* Non-line-of-sight imaging\n",
    "* TBC."
   ]
  },
  {
   "cell_type": "markdown",
   "id": "ccb88b58",
   "metadata": {
    "slideshow": {
     "slide_type": "slide"
    }
   },
   "source": [
    "## Introduction"
   ]
  },
  {
   "cell_type": "markdown",
   "id": "09709be4",
   "metadata": {},
   "source": [
    "Time-of-flight imaging techniques try to capture light while it is in motion or they try to measure the light's travel time inside a scene with extreme accuracy. \n",
    "\n",
    "The resulting information can be exploited to enable several novel applications in various fields, e.g., in robotic vision, remote sensing, medical imaging, autonomous driving, etc."
   ]
  },
  {
   "cell_type": "markdown",
   "id": "fb331fb2",
   "metadata": {
    "slideshow": {
     "slide_type": "fragment"
    }
   },
   "source": [
    "Key enablers for these approaches are ultrashort pulse lasers and high-sensitive light detectors."
   ]
  },
  {
   "cell_type": "markdown",
   "id": "7c04b624",
   "metadata": {
    "slideshow": {
     "slide_type": "subslide"
    }
   },
   "source": [
    "### Ultrashort pulse lasers"
   ]
  },
  {
   "cell_type": "markdown",
   "id": "797f5c3b",
   "metadata": {},
   "source": [
    "**Ultrashort pulse lasers** (UPL) can emit light pulses of very short duration, typically of the order of femtoseconds ($10^{-15}$s) to one picosecond ($10^{-12}$).\n",
    "\n",
    "Common ultrashort pulse lasers are based on Ti:sapphire crystals or dyes."
   ]
  },
  {
   "cell_type": "markdown",
   "id": "f4984bb2",
   "metadata": {
    "slideshow": {
     "slide_type": "subslide"
    }
   },
   "source": [
    "### Single-photon avalanche diode"
   ]
  },
  {
   "cell_type": "markdown",
   "id": "7ac02002",
   "metadata": {},
   "source": [
    "So-called **single-photon avalanche diodes** (SPADs) are semiconductors that are similar to common photodiodes.\n",
    "\n",
    "In a photodiode, a low bias voltage is used so that, due to the photoelectric effect, arriving photons cause a leakage current that increases linearly with the number of arriving photons. The linearity is exploited to perform quantitative measurements of the incident light's intensity."
   ]
  },
  {
   "cell_type": "markdown",
   "id": "acde177c",
   "metadata": {
    "slideshow": {
     "slide_type": "subslide"
    }
   },
   "source": [
    "In a SPAD, the bias voltage is set so high, that even a single arriving photon can cause an avalanche of electrons to be released from the surrounding bulk material leading to a corresponding current.\n",
    "\n",
    "The auxiliary electronics working along with a SPAD have to correctly sense the increasing current, generate a synchronous output signal, lower the bias voltage to quench the avalanche and restore the initial operating conditions.\n",
    "\n",
    "As this takes some time, the SPAD is not sensitive for further photons for a so-called *dead time* of tens to hundreds of nanoseconds."
   ]
  },
  {
   "cell_type": "markdown",
   "id": "90f15fda",
   "metadata": {
    "slideshow": {
     "slide_type": "fragment"
    }
   },
   "source": [
    "When properly synchronized, ultrashort pulse lasers and SPADs can be employed to precisely measure the time light travels inside the observed scene. Via the speed of light $c$, this time can be converted into a geometric distance."
   ]
  },
  {
   "cell_type": "markdown",
   "id": "683d7166",
   "metadata": {
    "slideshow": {
     "slide_type": "subslide"
    }
   },
   "source": [
    "This is also the principle used in so-called **light detection and ranging** (lidar) devices to capture a point cloud of the observed scene containing the distances to the measured points."
   ]
  },
  {
   "cell_type": "markdown",
   "id": "13b327f5",
   "metadata": {
    "slideshow": {
     "slide_type": "fragment"
    }
   },
   "source": [
    "The typical output value of a SPAD synchronized with an UPL is a time value corresponding to the duration between the emission of the laser pulse and the detection of a photon by the SPAD."
   ]
  },
  {
   "cell_type": "markdown",
   "id": "9daff0e9",
   "metadata": {
    "slideshow": {
     "slide_type": "fragment"
    }
   },
   "source": [
    "As SPADs usually only measure the travel time of one photon for one emitted laser pulse due to the comparatively long dead time, usually millions of laser pulses are emitted (at MHz rates) and the corresponding measured travel times are collected in a histogram $h$."
   ]
  },
  {
   "cell_type": "markdown",
   "id": "84de9616",
   "metadata": {
    "slideshow": {
     "slide_type": "fragment"
    }
   },
   "source": [
    "When emitting a laser pulse into the scene, a highly precise timer is started that is stopped as soon as the SPAD registers an event. The measured time is then converted into a digital number by a so-called *time-to-digital converter* (TDC)."
   ]
  },
  {
   "cell_type": "markdown",
   "id": "64aee7fe",
   "metadata": {
    "slideshow": {
     "slide_type": "subslide"
    }
   },
   "source": [
    "SPADs are commercially available as:\n",
    "* Single pixel sensors <br> A full image is obtained via a two-dimensional scanning of the scene or by optical coding.\n",
    "* One-dimensional arrays <br> Only a one-dimensional scanning is required to scan a volume of the scene.\n",
    "* Two-dimensional arrays <br> No additional scanning is required. Unfortunately, the large footprint of currently available SPADs severely limits the spatial resolution when used in a two-dimensional array without optical scanning."
   ]
  },
  {
   "cell_type": "markdown",
   "id": "9f31b032",
   "metadata": {
    "slideshow": {
     "slide_type": "slide"
    }
   },
   "source": [
    "## Transient imaging"
   ]
  },
  {
   "cell_type": "markdown",
   "id": "9c17943d",
   "metadata": {},
   "source": [
    "So-called *transient images* are images of a scene captured at certain points in time while a pulse of light is still traveling through the scene. Typical cameras integrate over all transient images that are created by a scene due to their comparatively long exposure time when compared to the speed of light."
   ]
  },
  {
   "cell_type": "markdown",
   "id": "0bf669ba",
   "metadata": {
    "slideshow": {
     "slide_type": "fragment"
    }
   },
   "source": [
    "Transient imaging techniques employ SPADs and UPLs in concert to reconstruct transient images at different time steps. Transient images can reveal interesting properties (i.e., different events of scattering and light redirections) of the scene."
   ]
  },
  {
   "cell_type": "markdown",
   "id": "da0adcec",
   "metadata": {
    "slideshow": {
     "slide_type": "fragment"
    }
   },
   "source": [
    "The values $\\tau$ of a pixel of a set of transient images corresponding to some time duration can be imagined as a time impulse response function, i.e., the temporal intensity response of the scene to a pulse of light."
   ]
  },
  {
   "cell_type": "code",
   "execution_count": 10,
   "id": "8aed2e59",
   "metadata": {
    "slideshow": {
     "slide_type": "subslide"
    }
   },
   "outputs": [
    {
     "data": {
      "application/vnd.jupyter.widget-view+json": {
       "model_id": "a4159abf36bb47dda5c376ad2ce73fff",
       "version_major": 2,
       "version_minor": 0
      },
      "text/plain": [
       "interactive(children=(IntSlider(value=5, description='i', max=5), Output()), _dom_classes=('widget-interact',)…"
      ]
     },
     "metadata": {},
     "output_type": "display_data"
    },
    {
     "data": {
      "text/plain": [
       "<function __main__.<lambda>(i)>"
      ]
     },
     "execution_count": 10,
     "metadata": {},
     "output_type": "execute_result"
    }
   ],
   "source": [
    "interact(lambda i: showFig('figures/11/transient_imaging_',i,'.svg',800,50), i=widgets.IntSlider(min=(min_i:=0),max=(max_i:=5), step=1, value=(max_i if book else min_i)))"
   ]
  },
  {
   "cell_type": "markdown",
   "id": "3a02f72d",
   "metadata": {
    "slideshow": {
     "slide_type": "subslide"
    }
   },
   "source": [
    "### Forward model of transient imaging"
   ]
  },
  {
   "cell_type": "markdown",
   "id": "09073ebc",
   "metadata": {},
   "source": [
    "After emitting a laser pulse into the scene, the amount of light scattered back to the detector is a temporally varying distribution of photons $g$. The photon flux $r$ incident on the detector during time interval $t$ is given by:\n",
    "\n",
    "$\\begin{align} \n",
    "   r(t) = (\\tau * g)(t) + a(t) \\,,\n",
    "\\end{align}$\n",
    "\n",
    "with $\\tau$ denoting the temporal impulse response of the scene and with the ambient photon flux $a(t)$."
   ]
  },
  {
   "cell_type": "markdown",
   "id": "dd2f0f98",
   "metadata": {
    "slideshow": {
     "slide_type": "fragment"
    }
   },
   "source": [
    "The temporal impulse response $\\tau$ incorporates all optical effects of the scene that influence the travel paths / time of the laser pulse (e.g., reflectance, scattering, etc.)."
   ]
  },
  {
   "cell_type": "markdown",
   "id": "4c8b4b14",
   "metadata": {
    "slideshow": {
     "slide_type": "subslide"
    }
   },
   "source": [
    "Assume a scene where light would bounce only once before reaching the detector, i.e., with only direct light transport. In this case, $\\tau$ would be a Dirac delta function."
   ]
  },
  {
   "cell_type": "markdown",
   "id": "1ff5891f",
   "metadata": {
    "slideshow": {
     "slide_type": "fragment"
    }
   },
   "source": [
    "Conversely, for global light transport (i.e., with caustics, complex scattering events, interreflections etc.), $\\tau$ models the corresponding temporal impulse response of the scene."
   ]
  },
  {
   "cell_type": "markdown",
   "id": "ef837fa0",
   "metadata": {
    "slideshow": {
     "slide_type": "subslide"
    }
   },
   "source": [
    "The ideal photon counter would sample the rate function \n",
    "\n",
    "$\\begin{align} \n",
    "   \\lambda (t) = \\eta \\left( r * f \\right) (t) + d \\,,\n",
    "\\end{align}$\n",
    "\n",
    "with $\\eta \\in [0,1]$ representing the sensor's quantum efficiency and the avalanche probability of the SPAD, $d$ denoting the dark count rate (number of false detections) in Hz and $f$ being the temporal jitter (about tens or a few hundreds of ps for state-of-the-art SPADs)."
   ]
  },
  {
   "cell_type": "markdown",
   "id": "64c33e70",
   "metadata": {
    "slideshow": {
     "slide_type": "fragment"
    }
   },
   "source": [
    "An event registered by the SPAD does not necessarily have to be the first arriving photon. Whether a photon is detected within a short time window is a Bernoulli trail with the two possible outcomes of photon detected and no photon detected."
   ]
  },
  {
   "cell_type": "markdown",
   "id": "13d4be18",
   "metadata": {
    "slideshow": {
     "slide_type": "subslide"
    }
   },
   "source": [
    "By repeating this Bernoulli trial for $N$ times by emitting $N$ laser pulses, the histogram $h$ of the photon travel times is built up.\n",
    "\n",
    "The probability of detecting $h(t)$ photons can be modeled as a Poisson distribution:\n",
    "\n",
    "$\\begin{align} \n",
    "   h(t) \\sim \\mathcal{P} (N \\lambda(t))\\,,\n",
    "\\end{align}$\n",
    "\n",
    "with the expected number of photons $\\lambda(t)$ at time $t$."
   ]
  },
  {
   "cell_type": "markdown",
   "id": "b7cce897",
   "metadata": {
    "slideshow": {
     "slide_type": "subslide"
    }
   },
   "source": [
    "### Reconstruction of transient images"
   ]
  },
  {
   "cell_type": "markdown",
   "id": "f364a02b",
   "metadata": {},
   "source": [
    "The reconstruction of transient images from the measured noisy and blurry histograms can be modeled as a deconvolution problem in the presence of Poisson noise.\n",
    "\n",
    "For this means, we vectorize the involved quantities as follows:\n",
    "* the temporal impulse response $\\boldsymbol{\\tau} \\in \\mathbb{R}^{n_x n_y n_t}$, i.e., the sought latent transient image, \n",
    "* the measured histogram $\\mathbf{h}\\in \\mathbb{R}^{n_x n_y n_t}$ and\n",
    "* the dark count $\\mathbf{d} \\in \\mathbb{R}^{n_x n_y n_t}$."
   ]
  },
  {
   "cell_type": "markdown",
   "id": "1219e020",
   "metadata": {
    "slideshow": {
     "slide_type": "subslide"
    }
   },
   "source": [
    "With the measurement matrix $\\mathbf{A} \\in \\mathbb{R}^{n_x n_y n_t \\times n_x n_y n_t}$ encoding the convolution of the transient image with the laser pulse $g$ and the SPAD jitter $f$, we can express\n",
    "\n",
    "$\\begin{align} \n",
    "   h \\sim \\mathcal{P}(\\mathbf{A} \\boldsymbol{\\tau} + \\mathbf{d}) \\,.\n",
    "\\end{align}$\n",
    "\n",
    "The transient images have spatial resolution of $n_x \\times n_y$ and for each pixel there are $n_t$ time bins in the histogram."
   ]
  },
  {
   "cell_type": "markdown",
   "id": "e209fc08",
   "metadata": {
    "slideshow": {
     "slide_type": "subslide"
    }
   },
   "source": [
    "The reconstruction problem can be formulated as a maximum likelihood estimation with the constraint of non-negative solutions:\n",
    "\n",
    "$\\begin{align} \n",
    "   \\boldsymbol{\\tau}^* = \\argmin{\\boldsymbol{\\tau}} -\\log \\left( p(\\mathbf{h} \\vert \\mathbf{A} \\boldsymbol{\\tau}) \\right) + \\Psi (\\boldsymbol{\\tau}) \\,, \\\\\n",
    "   \\text{subject to } \\, \\boldsymbol{\\tau} \\geq \\mathbf{0} \\,,\n",
    "\\end{align}$\n",
    "\n",
    "with the likelihood $p(\\mathbf{h} \\vert \\mathbf{A} \\boldsymbol{\\tau})$ of measuring the histogram $\\mathbf{h}$ for a given transient image $\\boldsymbol{\\tau}$ and $ \\Psi (\\boldsymbol{\\tau})$ representing a suitable regularizer."
   ]
  },
  {
   "cell_type": "markdown",
   "id": "975ee3ac",
   "metadata": {
    "slideshow": {
     "slide_type": "subslide"
    }
   },
   "source": [
    "In order to solve this optimization problem with ADMM, first the optimization objectives are split into independent terms via slack variables $\\mathbf{z}_1, \\mathbf{z}_2, \\mathbf{z}_3 \\in \\mathbb{R} ^{n_x n_y n_t}$ and the corresponding constraints are added:\n",
    "\n",
    "$\\begin{align} \n",
    "  \\boldsymbol{\\tau}^* = \\argmin{\\boldsymbol{\\tau}, \\mathbf{z}_1, \\mathbf{z}_2, \\mathbf{z}_3} -\\log \\left( p(\\mathbf{h} \\vert \\mathbf{z}_1) \\right) + \\mathrm{pos}(\\mathbf{z}_2) + \\Psi (\\mathbf{z}_3) \\,, \\\\\n",
    "  \\text{subject to } \\, \\mathbf{A}\\boldsymbol{\\tau} = \\mathbf{z}_1, \\boldsymbol{\\tau} = \\mathbf{z}_2, \\boldsymbol{\\tau} = \\mathbf{z}_3 \\,,\n",
    "\\end{align}$\n",
    "\n",
    "with \n",
    "\n",
    "$\\begin{align} \n",
    "  \\mathrm{pos}(\\mathbf{x})=\n",
    "  \\begin{cases}    \n",
    "    +\\infty \\quad &\\text{if } x_i < 0 \\text{ for any } i\\\\\n",
    "    0 &\\text{otherwise.}\n",
    "  \\end{cases}   \n",
    "\\end{align}$"
   ]
  },
  {
   "cell_type": "markdown",
   "id": "cb81ab8e",
   "metadata": {
    "slideshow": {
     "slide_type": "subslide"
    }
   },
   "source": [
    "Then, the augmented Lagrangian in scaled form of the objective can be expressed with the Lagrange multipliers $\\mathbf{u}_1, \\mathbf{u}_2, \\mathbf{u}_3$ corresponding to the three constraints and with the corresponding scalar weights $\\mu_1, \\mu_2, \\mu_3$:\n",
    "\n",
    "$\\begin{align} \n",
    "   L(\\boldsymbol{\\tau}, \\mathbf{z}_1, \\mathbf{z}_2, \\mathbf{z}_3, \\mathbf{u}_1, \\mathbf{u}_2, \\mathbf{u}_3) = &-\\log \\left( p(\\mathbf{h} \\vert \\mathbf{z}_1) \\right) + \\mathrm{pos}(\\mathbf{z}_2) + \\Psi (\\mathbf{z}_3) \\\\\n",
    "   & + \\frac{\\mu_1}{2} \\left\\|\\mathbf{A}\\boldsymbol{\\tau} - \\mathbf{z}_1 + \\mathbf{u}_1  \\right\\| ^2_2 - \\frac{\\mu_1}{2} \\left\\| \\mathbf{u}_1 \\right\\| ^2_2  \\\\\n",
    "   & + \\frac{\\mu _2}{2} \\left\\| \\boldsymbol{\\tau} - \\mathbf{z}_2 + \\mathbf{u}_2 \\right\\| ^2_2 - \\frac{\\mu _2}{2} \\left\\| \\mathbf{u}_2 \\right\\| ^2_2 \\\\\n",
    "   & + \\frac{\\mu _3}{2} \\left\\| \\boldsymbol{\\tau} - \\mathbf{z}_3 + \\mathbf{u}_3 \\right\\| ^2_2 - \\frac{\\mu _3}{2} \\left\\| \\mathbf{u}_3 \\right\\| ^2_2 \\\\\n",
    "\\end{align}$"
   ]
  },
  {
   "cell_type": "markdown",
   "id": "0b598c92",
   "metadata": {
    "slideshow": {
     "slide_type": "subslide"
    }
   },
   "source": [
    "### Experimental results"
   ]
  },
  {
   "cell_type": "markdown",
   "id": "947e7c50",
   "metadata": {},
   "source": [
    "Experimental results achieved with the described approach are reported in the corresponding paper [Reconstructing Transient Images from Single-Photon Sensors](https://www.computationalimaging.org/publications/reconstructing-transient-images-from-single-photon-sensors-cvpr-2017/) by Matthew O'Toole et al."
   ]
  },
  {
   "cell_type": "markdown",
   "id": "69d63a11",
   "metadata": {
    "slideshow": {
     "slide_type": "slide"
    }
   },
   "source": [
    "## Non-line-of-sight imaging"
   ]
  },
  {
   "cell_type": "markdown",
   "id": "33fc34a4",
   "metadata": {},
   "source": [
    "As mentioned in the introduction, many applications like robotics, medicine, autonomous driving, etc. could greatly benefit from knowing in advance what is behind a corner or other structure blocking the direct line of sight.\n",
    "\n",
    "Non-line-of-sight (NLOS) imaging methods can provide that information by emitting ultra short laser pulses into the scene and by measuring the time elapsed until corresponding photons return from the scene."
   ]
  },
  {
   "cell_type": "markdown",
   "id": "e8559218",
   "metadata": {
    "slideshow": {
     "slide_type": "fragment"
    }
   },
   "source": [
    "The following figure visualizes the working principle."
   ]
  },
  {
   "cell_type": "code",
   "execution_count": 11,
   "id": "c87c3ded",
   "metadata": {
    "slideshow": {
     "slide_type": "subslide"
    }
   },
   "outputs": [
    {
     "data": {
      "application/vnd.jupyter.widget-view+json": {
       "model_id": "e7dda29a17d54c13bac6080a80ffdaf1",
       "version_major": 2,
       "version_minor": 0
      },
      "text/plain": [
       "interactive(children=(IntSlider(value=6, description='i', max=6), Output()), _dom_classes=('widget-interact',)…"
      ]
     },
     "metadata": {},
     "output_type": "display_data"
    },
    {
     "data": {
      "text/plain": [
       "<function __main__.<lambda>(i)>"
      ]
     },
     "execution_count": 11,
     "metadata": {},
     "output_type": "execute_result"
    }
   ],
   "source": [
    "interact(lambda i: showFig('figures/11/nlos_task_',i,'.svg',800,50), i=widgets.IntSlider(min=(min_i:=0),max=(max_i:=6), step=1, value=(max_i if book else min_i)))"
   ]
  },
  {
   "cell_type": "markdown",
   "id": "7735b48e",
   "metadata": {
    "slideshow": {
     "slide_type": "subslide"
    }
   },
   "source": [
    "The setup shown in the figure uses a so-called *confocal non-line-of-sight* (C-NLOS) setup, where the SPAD is observing the same point that is illuminated by the laser source. Using this setup greatly facilitates the formation of the forward model."
   ]
  },
  {
   "cell_type": "markdown",
   "id": "0480b4ea",
   "metadata": {
    "slideshow": {
     "slide_type": "subslide"
    }
   },
   "source": [
    "The following assumptions are made for deriving the forward model:\n",
    "\n",
    "* for every emitted laser pulse, there is only a single scattering event behind the wall (i.e., no multiple reflections in the hidden part of the scene),\n",
    "* light scatters isotropically (i.e., uniformly into all directions, ignoring the cosine terms of Lambert's law) and\n",
    "* the hidden scene is free form occlusions."
   ]
  },
  {
   "cell_type": "markdown",
   "id": "b5489798",
   "metadata": {
    "slideshow": {
     "slide_type": "subslide"
    }
   },
   "source": [
    "### Image formation model"
   ]
  },
  {
   "cell_type": "markdown",
   "id": "4787230c",
   "metadata": {},
   "source": [
    "Measurements from a C-NLOS system consist of two-dimensional temporal histograms resulting form confocally scanning points $x', y'$ on a planar wall with $z'=0$. The 3D measurement volume for a sampling position $(x',y')$ and a sample time $t$ is given by\n",
    "\n",
    "$\\begin{align} \n",
    "   \\tau (x', y', t) = \\underset{\\Omega}{\\int\\int\\int} \\frac{1}{r^4} \\rho (x,y,z) \\delta \\left( 2 \\sqrt{(x'-x)^2 + (y'-y)^2 + z^2} - tc \\right) \\mathrm{d}x \\mathrm{d}y \\mathrm{d}z \\,,\n",
    "\\end{align}$\n",
    "\n",
    "with the set $\\Omega$ of possible coordinates of hidden points (i.e., with $z\\geq0$), the speed of light $c$, the albedo (i.e., the fraction of light that is scattered back) $\\rho(x,y,z)$ of the hidden scene points and $r = \\sqrt{(x'-x)^2 + (y'-y)^2 + z^2}$ denoting the radius of the cone on whose surface possible hidden points could be present for the currently sampled position $(x',y')$ and time $t$.\n",
    "\n",
    "This equation represents a partial convolution with respect to the spatial coordinates $x,y$ (recall the definition of the convolution: $(g*h)(x')=\\int g(x)h(x'-x) \\mathrm{d}x$)."
   ]
  },
  {
   "cell_type": "markdown",
   "id": "4a1232c8",
   "metadata": {
    "slideshow": {
     "slide_type": "fragment"
    }
   },
   "source": [
    "The radius can also be expressed by means of the travel time $t$, i.e., $r = \\sqrt{(x'-x)^2 + (y'-y)^2 + z^2}=\\frac{tc}{2}$ and gets independent from the spatial variables. Hence, the term $\\frac{1}{r^4}=\\left(  \\frac{2}{tc} \\right)^4$ can then be pulled out of the triple integral."
   ]
  },
  {
   "cell_type": "markdown",
   "id": "4019dbeb",
   "metadata": {
    "slideshow": {
     "slide_type": "subslide"
    }
   },
   "source": [
    "By adequately substituting the variables in the equation shown before, it can be expressed in terms of 3D convolution.\n",
    "\n",
    "Setting\n",
    "\n",
    "$\\begin{align} \n",
    "   z=\\sqrt{u}, \\quad \\mathrm{d}z = \\frac{\\mathrm{d}u}{2\\sqrt{u}}, \\quad v=\\left( \\frac{tc}{2} \\right)^2 \n",
    "\\end{align}$\n",
    "\n",
    "results in the so-called *light-cone transform* (LCT):\n",
    "\n",
    "$\\begin{align} \n",
    "   \\underbrace{v^{3/2} \\tau (x', y', 2\\sqrt{v}/c)}_{\\mathcal{R}_t \\left\\{ \\tau \\right\\} (x',y',v) } = \\underset{\\Omega}{\\int\\int\\int} \\underbrace{\\frac{1}{2\\sqrt{u}} \\rho (x,y,\\sqrt{u})}_{\\mathcal{R}_z \\left\\{ \\rho \\right\\} (x,y,u) }\\, \\underbrace{\\delta \\left( (x'-x)^2 + (y'-y)^2 + u - v \\right) }_{h(x'-x, y'-y, v-u)} \\mathrm{d}x \\mathrm{d}y \\mathrm{d}u\n",
    "\\end{align}$\n",
    "\n",
    "which can be expressed compactly as a 3D convolution $\\mathcal{R}_t \\left\\{ \\tau \\right\\} = h* \\mathcal{R}_z \\left\\{ \\rho \\right\\} $."
   ]
  },
  {
   "cell_type": "markdown",
   "id": "96aec44a",
   "metadata": {
    "slideshow": {
     "slide_type": "subslide"
    }
   },
   "source": [
    "The function $h$ is a shift-invariant 3D convolution kernel.\n",
    "\n",
    "The operator $\\mathcal{R}_z$ non-uniformly resamples and attenuates the elements of $\\rho$ along the $z$-axis.\n",
    "\n",
    "The operator $\\mathcal{R}_t$ non-uniformly resamples and attenuates the measurements $\\tau$ along the $t$-axis."
   ]
  },
  {
   "cell_type": "markdown",
   "id": "e338ac7c",
   "metadata": {
    "slideshow": {
     "slide_type": "fragment"
    }
   },
   "source": [
    "Expressed with discrete vectors $\\boldsymbol{\\tau}\\in \\mathbb{R} ^{n_x n_y n_t}_+$ and $\\boldsymbol{\\rho}\\in \\mathbb{R} ^{n_x n_y n_z}_+$, the image formation model can be written as:\n",
    "\n",
    "$\\begin{align} \n",
    "   \\mathbf{R}_t \\boldsymbol{\\tau} = \\mathbf{H} \\mathbf{R}_z \\boldsymbol{\\rho} \\,,\n",
    "\\end{align}$\n",
    "\n",
    "with $\\mathbf{H}\\in \\mathbb{R} ^{n_x n_y n_h \\times n_x n_y n_h}_+$ encoding the 3D convolution and $\\mathbf{R}_t \\in \\mathbb{R} ^{n_x n_y n_h \\times n_x n_y n_t}_+, \\mathbf{R}_z \\in \\mathbb{R} ^{n_x n_y n_h \\times n_x n_y n_z}_+$ representing the temporal, respectively, the spatial transformation operations."
   ]
  },
  {
   "cell_type": "markdown",
   "id": "722c6ab0",
   "metadata": {
    "slideshow": {
     "slide_type": "subslide"
    }
   },
   "source": [
    "### Reconstruction"
   ]
  },
  {
   "cell_type": "markdown",
   "id": "6ed1da34",
   "metadata": {},
   "source": [
    "The reconstruction can now be solved in closed-form by inverting the discretized forward model and by using the Wiener filter for the deconvolution part:\n",
    "\n",
    "$\\begin{align} \n",
    "  \\boldsymbol{\\rho}^* = \\mathbf{R}^{-1}_z \\mathbf{F}^{-1} \\left( \\frac{\\mathbf{\\hat{H}}^*}{\\left| \\mathbf{\\hat{H}} \\right|^2+ \\frac{1}{SNR} } \\right) \\mathbf{F} \\mathbf{R}_t \\boldsymbol{\\tau} \\,,\n",
    "\\end{align}$\n",
    "\n",
    "with $\\mathbf{F}$ and $\\mathbf{F}^{-1}$ denoting the 3D discrete Fourier transform, respectively, the inverse Fourier transform, $\\mathbf{\\hat{H}}$ representing a diagonal matrix with the Fourier coefficients of the 3D convolution kernel and $SNR$ denoting the frequency-dependent signal-to-noise ratio."
   ]
  },
  {
   "cell_type": "markdown",
   "id": "828ddc7f",
   "metadata": {
    "slideshow": {
     "slide_type": "subslide"
    }
   },
   "source": [
    "### Experimental results"
   ]
  },
  {
   "cell_type": "markdown",
   "id": "ee9bb13c",
   "metadata": {},
   "source": [
    "Experimental results achieved with the described approach are reported in the corresponding paper [Confocal Non-Line-of-Sight Imaging Based on the Light-Cone Transform](http://www.computationalimaging.org/publications/confocal-non-line-of-sight-imaging-based-on-the-light-cone-transform/) by Matthew O'Toole et al."
   ]
  }
 ],
 "metadata": {
  "jupytext": {
   "formats": "ipynb,md:myst",
   "text_representation": {
    "extension": ".md",
    "format_name": "myst",
    "format_version": 0.13,
    "jupytext_version": "1.14.1"
   }
  },
  "kernelspec": {
   "display_name": "compimg",
   "language": "python",
   "name": "compimg"
  },
  "language_info": {
   "codemirror_mode": {
    "name": "ipython",
    "version": 3
   },
   "file_extension": ".py",
   "mimetype": "text/x-python",
   "name": "python",
   "nbconvert_exporter": "python",
   "pygments_lexer": "ipython3",
   "version": "3.8.10"
  },
  "source_map": [
   15,
   35,
   59,
   66,
   76,
   89,
   98,
   107,
   118,
   130,
   144,
   148,
   156,
   160,
   166,
   170,
   174,
   180,
   184,
   190,
   198,
   202,
   206,
   210,
   214,
   218,
   225,
   229,
   233,
   237,
   241,
   249,
   253,
   263,
   267,
   271,
   275,
   285,
   289,
   301,
   305,
   314,
   324,
   335,
   354,
   365,
   369,
   373,
   377,
   383,
   387,
   395,
   399,
   407,
   411,
   423,
   427,
   445,
   453,
   463,
   467,
   477,
   481
  ],
  "widgets": {
   "application/vnd.jupyter.widget-state+json": {
    "state": {
     "0309be3906fb4dcab0524fd19fb55a24": {
      "model_module": "@jupyter-widgets/base",
      "model_module_version": "1.2.0",
      "model_name": "LayoutModel",
      "state": {
       "_model_module": "@jupyter-widgets/base",
       "_model_module_version": "1.2.0",
       "_model_name": "LayoutModel",
       "_view_count": null,
       "_view_module": "@jupyter-widgets/base",
       "_view_module_version": "1.2.0",
       "_view_name": "LayoutView",
       "align_content": null,
       "align_items": null,
       "align_self": null,
       "border": null,
       "bottom": null,
       "display": null,
       "flex": null,
       "flex_flow": null,
       "grid_area": null,
       "grid_auto_columns": null,
       "grid_auto_flow": null,
       "grid_auto_rows": null,
       "grid_column": null,
       "grid_gap": null,
       "grid_row": null,
       "grid_template_areas": null,
       "grid_template_columns": null,
       "grid_template_rows": null,
       "height": null,
       "justify_content": null,
       "justify_items": null,
       "left": null,
       "margin": null,
       "max_height": null,
       "max_width": null,
       "min_height": null,
       "min_width": null,
       "object_fit": null,
       "object_position": null,
       "order": null,
       "overflow": null,
       "overflow_x": null,
       "overflow_y": null,
       "padding": null,
       "right": null,
       "top": null,
       "visibility": null,
       "width": null
      }
     },
     "3e8ceeb6dc1147d7bf4d704271b51036": {
      "model_module": "@jupyter-widgets/output",
      "model_module_version": "1.0.0",
      "model_name": "OutputModel",
      "state": {
       "_dom_classes": [],
       "_model_module": "@jupyter-widgets/output",
       "_model_module_version": "1.0.0",
       "_model_name": "OutputModel",
       "_view_count": null,
       "_view_module": "@jupyter-widgets/output",
       "_view_module_version": "1.0.0",
       "_view_name": "OutputView",
       "layout": "IPY_MODEL_411180579ec24281be5d490deda43291",
       "msg_id": "",
       "outputs": [
        {
         "data": {
          "text/html": "<img src=\"figures/11/transient_imaging_5.svg\" style=\"max-height:50vh\"/>",
          "text/plain": "<IPython.core.display.HTML object>"
         },
         "metadata": {},
         "output_type": "display_data"
        }
       ]
      }
     },
     "411180579ec24281be5d490deda43291": {
      "model_module": "@jupyter-widgets/base",
      "model_module_version": "1.2.0",
      "model_name": "LayoutModel",
      "state": {
       "_model_module": "@jupyter-widgets/base",
       "_model_module_version": "1.2.0",
       "_model_name": "LayoutModel",
       "_view_count": null,
       "_view_module": "@jupyter-widgets/base",
       "_view_module_version": "1.2.0",
       "_view_name": "LayoutView",
       "align_content": null,
       "align_items": null,
       "align_self": null,
       "border": null,
       "bottom": null,
       "display": null,
       "flex": null,
       "flex_flow": null,
       "grid_area": null,
       "grid_auto_columns": null,
       "grid_auto_flow": null,
       "grid_auto_rows": null,
       "grid_column": null,
       "grid_gap": null,
       "grid_row": null,
       "grid_template_areas": null,
       "grid_template_columns": null,
       "grid_template_rows": null,
       "height": null,
       "justify_content": null,
       "justify_items": null,
       "left": null,
       "margin": null,
       "max_height": null,
       "max_width": null,
       "min_height": null,
       "min_width": null,
       "object_fit": null,
       "object_position": null,
       "order": null,
       "overflow": null,
       "overflow_x": null,
       "overflow_y": null,
       "padding": null,
       "right": null,
       "top": null,
       "visibility": null,
       "width": null
      }
     },
     "54ffabf675ce48bcb04199f1acf56438": {
      "model_module": "@jupyter-widgets/controls",
      "model_module_version": "1.5.0",
      "model_name": "IntSliderModel",
      "state": {
       "_dom_classes": [],
       "_model_module": "@jupyter-widgets/controls",
       "_model_module_version": "1.5.0",
       "_model_name": "IntSliderModel",
       "_view_count": null,
       "_view_module": "@jupyter-widgets/controls",
       "_view_module_version": "1.5.0",
       "_view_name": "IntSliderView",
       "continuous_update": true,
       "description": "i",
       "description_tooltip": null,
       "disabled": false,
       "layout": "IPY_MODEL_b65c4dfa62f04dee809567422b257cb6",
       "max": 6,
       "min": 0,
       "orientation": "horizontal",
       "readout": true,
       "readout_format": "d",
       "step": 1,
       "style": "IPY_MODEL_cd3608d8b7b34443be4dee0a7152c71a",
       "value": 6
      }
     },
     "5b3412f4eb9d44bcaea745fa774e510e": {
      "model_module": "@jupyter-widgets/controls",
      "model_module_version": "1.5.0",
      "model_name": "IntSliderModel",
      "state": {
       "_dom_classes": [],
       "_model_module": "@jupyter-widgets/controls",
       "_model_module_version": "1.5.0",
       "_model_name": "IntSliderModel",
       "_view_count": null,
       "_view_module": "@jupyter-widgets/controls",
       "_view_module_version": "1.5.0",
       "_view_name": "IntSliderView",
       "continuous_update": true,
       "description": "i",
       "description_tooltip": null,
       "disabled": false,
       "layout": "IPY_MODEL_719db96b813c44a0a2f7e6273787f6e4",
       "max": 5,
       "min": 0,
       "orientation": "horizontal",
       "readout": true,
       "readout_format": "d",
       "step": 1,
       "style": "IPY_MODEL_b93bfd250ff64161944665c64fdfcebe",
       "value": 5
      }
     },
     "5c4205267a434883b73edb2ad3b17fb1": {
      "model_module": "@jupyter-widgets/base",
      "model_module_version": "1.2.0",
      "model_name": "LayoutModel",
      "state": {
       "_model_module": "@jupyter-widgets/base",
       "_model_module_version": "1.2.0",
       "_model_name": "LayoutModel",
       "_view_count": null,
       "_view_module": "@jupyter-widgets/base",
       "_view_module_version": "1.2.0",
       "_view_name": "LayoutView",
       "align_content": null,
       "align_items": null,
       "align_self": null,
       "border": null,
       "bottom": null,
       "display": null,
       "flex": null,
       "flex_flow": null,
       "grid_area": null,
       "grid_auto_columns": null,
       "grid_auto_flow": null,
       "grid_auto_rows": null,
       "grid_column": null,
       "grid_gap": null,
       "grid_row": null,
       "grid_template_areas": null,
       "grid_template_columns": null,
       "grid_template_rows": null,
       "height": null,
       "justify_content": null,
       "justify_items": null,
       "left": null,
       "margin": null,
       "max_height": null,
       "max_width": null,
       "min_height": null,
       "min_width": null,
       "object_fit": null,
       "object_position": null,
       "order": null,
       "overflow": null,
       "overflow_x": null,
       "overflow_y": null,
       "padding": null,
       "right": null,
       "top": null,
       "visibility": null,
       "width": null
      }
     },
     "61fca6254fc646fdb0bcf4e64aba7972": {
      "model_module": "@jupyter-widgets/output",
      "model_module_version": "1.0.0",
      "model_name": "OutputModel",
      "state": {
       "_dom_classes": [],
       "_model_module": "@jupyter-widgets/output",
       "_model_module_version": "1.0.0",
       "_model_name": "OutputModel",
       "_view_count": null,
       "_view_module": "@jupyter-widgets/output",
       "_view_module_version": "1.0.0",
       "_view_name": "OutputView",
       "layout": "IPY_MODEL_f76177e4486a4ed185f17e2b114410d6",
       "msg_id": "",
       "outputs": [
        {
         "data": {
          "text/html": "<img src=\"figures/11/nlos_task_6.svg\" style=\"max-height:50vh\"/>",
          "text/plain": "<IPython.core.display.HTML object>"
         },
         "metadata": {},
         "output_type": "display_data"
        }
       ]
      }
     },
     "719db96b813c44a0a2f7e6273787f6e4": {
      "model_module": "@jupyter-widgets/base",
      "model_module_version": "1.2.0",
      "model_name": "LayoutModel",
      "state": {
       "_model_module": "@jupyter-widgets/base",
       "_model_module_version": "1.2.0",
       "_model_name": "LayoutModel",
       "_view_count": null,
       "_view_module": "@jupyter-widgets/base",
       "_view_module_version": "1.2.0",
       "_view_name": "LayoutView",
       "align_content": null,
       "align_items": null,
       "align_self": null,
       "border": null,
       "bottom": null,
       "display": null,
       "flex": null,
       "flex_flow": null,
       "grid_area": null,
       "grid_auto_columns": null,
       "grid_auto_flow": null,
       "grid_auto_rows": null,
       "grid_column": null,
       "grid_gap": null,
       "grid_row": null,
       "grid_template_areas": null,
       "grid_template_columns": null,
       "grid_template_rows": null,
       "height": null,
       "justify_content": null,
       "justify_items": null,
       "left": null,
       "margin": null,
       "max_height": null,
       "max_width": null,
       "min_height": null,
       "min_width": null,
       "object_fit": null,
       "object_position": null,
       "order": null,
       "overflow": null,
       "overflow_x": null,
       "overflow_y": null,
       "padding": null,
       "right": null,
       "top": null,
       "visibility": null,
       "width": null
      }
     },
     "a4159abf36bb47dda5c376ad2ce73fff": {
      "model_module": "@jupyter-widgets/controls",
      "model_module_version": "1.5.0",
      "model_name": "VBoxModel",
      "state": {
       "_dom_classes": [
        "widget-interact"
       ],
       "_model_module": "@jupyter-widgets/controls",
       "_model_module_version": "1.5.0",
       "_model_name": "VBoxModel",
       "_view_count": null,
       "_view_module": "@jupyter-widgets/controls",
       "_view_module_version": "1.5.0",
       "_view_name": "VBoxView",
       "box_style": "",
       "children": [
        "IPY_MODEL_5b3412f4eb9d44bcaea745fa774e510e",
        "IPY_MODEL_3e8ceeb6dc1147d7bf4d704271b51036"
       ],
       "layout": "IPY_MODEL_0309be3906fb4dcab0524fd19fb55a24"
      }
     },
     "b65c4dfa62f04dee809567422b257cb6": {
      "model_module": "@jupyter-widgets/base",
      "model_module_version": "1.2.0",
      "model_name": "LayoutModel",
      "state": {
       "_model_module": "@jupyter-widgets/base",
       "_model_module_version": "1.2.0",
       "_model_name": "LayoutModel",
       "_view_count": null,
       "_view_module": "@jupyter-widgets/base",
       "_view_module_version": "1.2.0",
       "_view_name": "LayoutView",
       "align_content": null,
       "align_items": null,
       "align_self": null,
       "border": null,
       "bottom": null,
       "display": null,
       "flex": null,
       "flex_flow": null,
       "grid_area": null,
       "grid_auto_columns": null,
       "grid_auto_flow": null,
       "grid_auto_rows": null,
       "grid_column": null,
       "grid_gap": null,
       "grid_row": null,
       "grid_template_areas": null,
       "grid_template_columns": null,
       "grid_template_rows": null,
       "height": null,
       "justify_content": null,
       "justify_items": null,
       "left": null,
       "margin": null,
       "max_height": null,
       "max_width": null,
       "min_height": null,
       "min_width": null,
       "object_fit": null,
       "object_position": null,
       "order": null,
       "overflow": null,
       "overflow_x": null,
       "overflow_y": null,
       "padding": null,
       "right": null,
       "top": null,
       "visibility": null,
       "width": null
      }
     },
     "b93bfd250ff64161944665c64fdfcebe": {
      "model_module": "@jupyter-widgets/controls",
      "model_module_version": "1.5.0",
      "model_name": "SliderStyleModel",
      "state": {
       "_model_module": "@jupyter-widgets/controls",
       "_model_module_version": "1.5.0",
       "_model_name": "SliderStyleModel",
       "_view_count": null,
       "_view_module": "@jupyter-widgets/base",
       "_view_module_version": "1.2.0",
       "_view_name": "StyleView",
       "description_width": "",
       "handle_color": null
      }
     },
     "cd3608d8b7b34443be4dee0a7152c71a": {
      "model_module": "@jupyter-widgets/controls",
      "model_module_version": "1.5.0",
      "model_name": "SliderStyleModel",
      "state": {
       "_model_module": "@jupyter-widgets/controls",
       "_model_module_version": "1.5.0",
       "_model_name": "SliderStyleModel",
       "_view_count": null,
       "_view_module": "@jupyter-widgets/base",
       "_view_module_version": "1.2.0",
       "_view_name": "StyleView",
       "description_width": "",
       "handle_color": null
      }
     },
     "e7dda29a17d54c13bac6080a80ffdaf1": {
      "model_module": "@jupyter-widgets/controls",
      "model_module_version": "1.5.0",
      "model_name": "VBoxModel",
      "state": {
       "_dom_classes": [
        "widget-interact"
       ],
       "_model_module": "@jupyter-widgets/controls",
       "_model_module_version": "1.5.0",
       "_model_name": "VBoxModel",
       "_view_count": null,
       "_view_module": "@jupyter-widgets/controls",
       "_view_module_version": "1.5.0",
       "_view_name": "VBoxView",
       "box_style": "",
       "children": [
        "IPY_MODEL_54ffabf675ce48bcb04199f1acf56438",
        "IPY_MODEL_61fca6254fc646fdb0bcf4e64aba7972"
       ],
       "layout": "IPY_MODEL_5c4205267a434883b73edb2ad3b17fb1"
      }
     },
     "f76177e4486a4ed185f17e2b114410d6": {
      "model_module": "@jupyter-widgets/base",
      "model_module_version": "1.2.0",
      "model_name": "LayoutModel",
      "state": {
       "_model_module": "@jupyter-widgets/base",
       "_model_module_version": "1.2.0",
       "_model_name": "LayoutModel",
       "_view_count": null,
       "_view_module": "@jupyter-widgets/base",
       "_view_module_version": "1.2.0",
       "_view_name": "LayoutView",
       "align_content": null,
       "align_items": null,
       "align_self": null,
       "border": null,
       "bottom": null,
       "display": null,
       "flex": null,
       "flex_flow": null,
       "grid_area": null,
       "grid_auto_columns": null,
       "grid_auto_flow": null,
       "grid_auto_rows": null,
       "grid_column": null,
       "grid_gap": null,
       "grid_row": null,
       "grid_template_areas": null,
       "grid_template_columns": null,
       "grid_template_rows": null,
       "height": null,
       "justify_content": null,
       "justify_items": null,
       "left": null,
       "margin": null,
       "max_height": null,
       "max_width": null,
       "min_height": null,
       "min_width": null,
       "object_fit": null,
       "object_position": null,
       "order": null,
       "overflow": null,
       "overflow_x": null,
       "overflow_y": null,
       "padding": null,
       "right": null,
       "top": null,
       "visibility": null,
       "width": null
      }
     }
    },
    "version_major": 2,
    "version_minor": 0
   }
  }
 },
 "nbformat": 4,
 "nbformat_minor": 5
}