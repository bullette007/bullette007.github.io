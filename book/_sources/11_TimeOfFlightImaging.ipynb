{
 "cells": [
  {
   "cell_type": "code",
   "execution_count": 1,
   "id": "cba1bb65",
   "metadata": {
    "init_cell": true,
    "tags": [
     "remove-cell"
    ]
   },
   "outputs": [
    {
     "data": {
      "application/javascript": [
       "var cells = Jupyter.notebook.get_cells();\n",
       "           for (var i = 0; i < cells.length; i++) {\n",
       "               var cur_cell = cells[i];\n",
       "               var tags = cur_cell._metadata.tags;\n",
       "               console.log(i);\n",
       "               console.log(tags == undefined);\n",
       "               console.log(tags);\n",
       "               if (tags != undefined) {\n",
       "               for (var j = 0; j < tags.length; j++) {\n",
       "                  if (tags[j]==\"book_only\" | tags[j]==\"remove-cell\") {cur_cell.element.hide();}}\n",
       "               for (var j = 0; j < tags.length; j++) {\n",
       "                   if (tags[j]==\"presentation_only\") {cur_cell.element.show();}}\n",
       "            }}\n"
      ],
      "text/plain": [
       "<IPython.core.display.Javascript object>"
      ]
     },
     "metadata": {},
     "output_type": "display_data"
    }
   ],
   "source": [
    "%%js\n",
    "var cells = Jupyter.notebook.get_cells();\n",
    "           for (var i = 0; i < cells.length; i++) {\n",
    "               var cur_cell = cells[i];\n",
    "               var tags = cur_cell._metadata.tags;\n",
    "               console.log(i);\n",
    "               console.log(tags == undefined);\n",
    "               console.log(tags);\n",
    "               if (tags != undefined) {\n",
    "               for (var j = 0; j < tags.length; j++) {\n",
    "                  if (tags[j]==\"book_only\" | tags[j]==\"remove-cell\") {cur_cell.element.hide();}}\n",
    "               for (var j = 0; j < tags.length; j++) {\n",
    "                   if (tags[j]==\"presentation_only\") {cur_cell.element.show();}}\n",
    "            }}"
   ]
  },
  {
   "cell_type": "code",
   "execution_count": 2,
   "id": "e8e9e51b",
   "metadata": {
    "init_cell": true,
    "slideshow": {
     "slide_type": "notes"
    },
    "tags": [
     "remove-cell"
    ]
   },
   "outputs": [
    {
     "name": "stderr",
     "output_type": "stream",
     "text": [
      "C:\\Users\\meyjoh\\repos\\vlcompimg\\compimg\\lib\\site-packages\\scipy\\__init__.py:138: UserWarning: A NumPy version >=1.16.5 and <1.23.0 is required for this version of SciPy (detected version 1.23.4)\n",
      "  warnings.warn(f\"A NumPy version >={np_minversion} and <{np_maxversion} is required for this version of \"\n"
     ]
    }
   ],
   "source": [
    "from __future__ import print_function\n",
    "from ipywidgets import interact, interactive, fixed, interact_manual\n",
    "import ipywidgets as widgets\n",
    "import numpy as np\n",
    "import matplotlib.pyplot as plt\n",
    "import cv2\n",
    "import scipy.signal as sig\n",
    "from scipy.integrate import simpson\n",
    "from IPython.display import SVG, display, IFrame, HTML\n",
    "import seaborn as sns\n",
    "import torch\n",
    "from scipy import ndimage\n",
    "from scipy import misc\n",
    "%matplotlib notebook\n",
    "book = False"
   ]
  },
  {
   "cell_type": "code",
   "execution_count": 3,
   "id": "7e05f10a",
   "metadata": {
    "tags": [
     "remove-cell"
    ]
   },
   "outputs": [],
   "source": [
    "%matplotlib inline\n",
    "book = True"
   ]
  },
  {
   "cell_type": "code",
   "execution_count": 4,
   "id": "c437c8ac",
   "metadata": {
    "init_cell": true,
    "tags": [
     "remove-cell"
    ]
   },
   "outputs": [
    {
     "data": {
      "application/javascript": [
       "MathJax.Hub.Config({\n",
       "    TeX: { equationNumbers: { autoNumber: \"AMS\" } }\n",
       "});\n"
      ],
      "text/plain": [
       "<IPython.core.display.Javascript object>"
      ]
     },
     "metadata": {},
     "output_type": "display_data"
    }
   ],
   "source": [
    "%%javascript\n",
    "MathJax.Hub.Config({\n",
    "    TeX: { equationNumbers: { autoNumber: \"AMS\" } }\n",
    "});"
   ]
  },
  {
   "cell_type": "code",
   "execution_count": 5,
   "id": "724b67c1",
   "metadata": {
    "init_cell": true,
    "tags": [
     "remove-cell"
    ]
   },
   "outputs": [
    {
     "data": {
      "application/javascript": [
       "\n",
       "MathJax.Hub.Queue(\n",
       "  [\"resetEquationNumbers\", MathJax.InputJax.TeX],\n",
       "  [\"PreProcess\", MathJax.Hub],\n",
       "  [\"Reprocess\", MathJax.Hub]\n",
       ");\n"
      ],
      "text/plain": [
       "<IPython.core.display.Javascript object>"
      ]
     },
     "metadata": {},
     "output_type": "display_data"
    }
   ],
   "source": [
    "%%javascript\n",
    "\n",
    "MathJax.Hub.Queue(\n",
    "  [\"resetEquationNumbers\", MathJax.InputJax.TeX],\n",
    "  [\"PreProcess\", MathJax.Hub],\n",
    "  [\"Reprocess\", MathJax.Hub]\n",
    ");"
   ]
  },
  {
   "cell_type": "code",
   "execution_count": 6,
   "id": "a193249c",
   "metadata": {
    "init_cell": true,
    "tags": [
     "remove-cell"
    ]
   },
   "outputs": [],
   "source": [
    "def showFig(path,i,ending, width, height):\n",
    "    filename = path+str(i)+ending\n",
    "    return HTML(\"<img src=\\\"\" + filename +  f\"\\\" style=\\\"max-height:{height}vh\\\"/>\")"
   ]
  },
  {
   "cell_type": "code",
   "execution_count": 7,
   "id": "552e7ff9",
   "metadata": {
    "init_cell": true,
    "tags": [
     "remove-cell"
    ]
   },
   "outputs": [],
   "source": [
    "def showFig2(path,i,ending, width, height):\n",
    "    imgToShow = plt.imread(f\"{path}{i}{ending}\")\n",
    "    plt.imshow(imgToShow)"
   ]
  },
  {
   "cell_type": "code",
   "execution_count": 8,
   "id": "67357826",
   "metadata": {
    "init_cell": true,
    "tags": [
     "remove-cell"
    ]
   },
   "outputs": [],
   "source": [
    "def imshow(img, cmap=None):\n",
    "    plt.close('all')\n",
    "    plt.figure()\n",
    "    plt.imshow(img, cmap=cmap)\n",
    "    plt.show()"
   ]
  },
  {
   "cell_type": "code",
   "execution_count": 9,
   "id": "462df9c3",
   "metadata": {
    "init_cell": true,
    "tags": [
     "remove-cell"
    ]
   },
   "outputs": [],
   "source": [
    "def imshow2(img, cmap=None):\n",
    "    #plt.close('all')\n",
    "    #plt.figure()\n",
    "    plt.clf()\n",
    "    plt.imshow(img, cmap=cmap)\n",
    "    #plt.show()"
   ]
  },
  {
   "cell_type": "markdown",
   "id": "b1f210f8",
   "metadata": {
    "slideshow": {
     "slide_type": "slide"
    }
   },
   "source": [
    "$\\begin{align}\n",
    "  \\newcommand{transp}{^\\intercal}\n",
    "  \\newcommand{F}{\\mathcal{F}}\n",
    "  \\newcommand{Fi}{\\mathcal{F}^{-1}}\n",
    "  \\newcommand{inv}{^{-1}}\n",
    "  \\newcommand{stochvec}[1]{\\mathbf{\\tilde{#1}}}\n",
    "  \\newcommand{argmax}[1]{\\underset{#1}{\\mathrm{arg\\, max}}\\,}\n",
    "  \\newcommand{argmin}[1]{\\underset{#1}{\\mathrm{arg\\, min}}\\,}\n",
    "\\end{align}$\n",
    "\n",
    "<font size=\"7\"> Computational Imaging </font><br><br><br>"
   ]
  },
  {
   "cell_type": "markdown",
   "id": "dba9c779",
   "metadata": {
    "slideshow": {
     "slide_type": "-"
    }
   },
   "source": [
    "# Time-Of-Flight Imaging"
   ]
  },
  {
   "cell_type": "markdown",
   "id": "49e673bf",
   "metadata": {
    "slideshow": {
     "slide_type": "subslide"
    }
   },
   "source": [
    "##### Content\n",
    "* Introduction\n",
    "* Transient imaging\n",
    "* Non-line-of-sight imaging\n",
    "* TBC."
   ]
  },
  {
   "cell_type": "markdown",
   "id": "fcd675cb",
   "metadata": {
    "slideshow": {
     "slide_type": "slide"
    }
   },
   "source": [
    "## Introduction"
   ]
  },
  {
   "cell_type": "markdown",
   "id": "9e8eb613",
   "metadata": {},
   "source": [
    "Time-of-flight imaging techniques try to capture light while it is in motion or they try to measure the light's travel time inside a scene with extreme accuracy. \n",
    "\n",
    "The resulting information can be exploited to enable several novel applications in various fields, e.g., in robotic vision, remote sensing, medical imaging, autonomous driving, etc."
   ]
  },
  {
   "cell_type": "markdown",
   "id": "8be3581f",
   "metadata": {},
   "source": [
    "Key enablers for these approaches are ultrashort pulse lasers and high-sensitive light detectors."
   ]
  },
  {
   "cell_type": "markdown",
   "id": "16402212",
   "metadata": {},
   "source": [
    "### Ultrashort pulse lasers"
   ]
  },
  {
   "cell_type": "markdown",
   "id": "45ff53f0",
   "metadata": {},
   "source": [
    "**Ultrashort pulse lasers** (UPL) can emit light pulses of very short duration, typically of the order of femtoseconds ($10^{-15}$s) to one picosecond ($10^{-12}$).\n",
    "\n",
    "Common ultrashort pulse lasers are based on Ti:sapphire crystals or dyes."
   ]
  },
  {
   "cell_type": "markdown",
   "id": "d9e21aaa",
   "metadata": {},
   "source": [
    "### Single-photon avalanche diode"
   ]
  },
  {
   "cell_type": "markdown",
   "id": "32c1e635",
   "metadata": {},
   "source": [
    "So-called **single-photon avalanche diodes** (SPADs) are semiconductors that are similar to common photodiodes.\n",
    "\n",
    "In a photodiode, a low bias voltage is used so that, due to the photoelectric effect, arriving photons cause a leakage current that increases linearly with the number of arriving photons. The linearity is exploited to perform quantitative measurements of the incident light's intensity."
   ]
  },
  {
   "cell_type": "markdown",
   "id": "0bb8fd69",
   "metadata": {},
   "source": [
    "In a SPAD, the bias voltage is set so high, that even a single arriving photon can cause an avalanche of electrons to be released from the surrounding bulk material leading to a corresponding current.\n",
    "\n",
    "The auxiliary electronics working along with a SPAD have to correctly sense the increasing current, generate a synchronous output signal, lower the bias voltage to quench the avalanche and restore the initial operating conditions.\n",
    "\n",
    "As this takes some time, the SPAD is not sensitive for further photons for a so-called *dead time* of tens to hundreds of nanoseconds."
   ]
  },
  {
   "cell_type": "markdown",
   "id": "2f3e3001",
   "metadata": {},
   "source": [
    "When properly synchronized, ultrashort pulse lasers and SPADs can be employed to precisely measure the time light travels inside the observed scene. Via the speed of light $c$, this time can be converted into a geometric distance."
   ]
  },
  {
   "cell_type": "markdown",
   "id": "838a783d",
   "metadata": {},
   "source": [
    "This is also the principle used in so-called **light detection and ranging** (lidar) devices to capture a point cloud of the observed scene containing the distances to the measured points."
   ]
  },
  {
   "cell_type": "markdown",
   "id": "05f58359",
   "metadata": {},
   "source": [
    "The typical output value of a SPAD synchronized with an UPL is a time value corresponding to the duration between the emission of the laser pulse and the detection of a photon by the SPAD."
   ]
  },
  {
   "cell_type": "markdown",
   "id": "0f61df5b",
   "metadata": {},
   "source": [
    "As SPADs usually only measure the travel time of one photon for one emitted laser pulse due to the comparatively long dead time, usually millions of laser pulses are emitted (at MHz rates) and the corresponding measured travel times are collected in a histogram $h$."
   ]
  },
  {
   "cell_type": "markdown",
   "id": "fdf561e3",
   "metadata": {},
   "source": [
    "When emitting a laser pulse into the scene, a highly precise timer is started that is stopped as soon as the SPAD registers an event. The measured time is then converted into a digital number by a so-called *time-to-digital converter* (TDC)."
   ]
  },
  {
   "cell_type": "markdown",
   "id": "de7b75ac",
   "metadata": {},
   "source": [
    "SPADs are commercially available as:\n",
    "* Single pixel sensors <br> A full image is obtained via a two-dimensional scanning of the scene or by optical coding.\n",
    "* One-dimensional arrays <br> Only a one-dimensional scanning is required scan a volume of the scene.\n",
    "* Two-dimensional arrays <br> No additional scanning is required. Unfortunately, the large footprint of currently available SPADs severely limits the spatial resolution when used in a two-dimensional array without optical scanning."
   ]
  },
  {
   "cell_type": "markdown",
   "id": "ec858457",
   "metadata": {},
   "source": [
    "## Transient imaging"
   ]
  },
  {
   "cell_type": "markdown",
   "id": "58bdf8bc",
   "metadata": {},
   "source": [
    "So-called *transient images* are images of a scene captured at certain points in time while a pulse of light is still traveling through the scene. Typical cameras integrate over all transient images that are created by a scene due to their comparatively long exposure time when compared to the speed of light."
   ]
  },
  {
   "cell_type": "markdown",
   "id": "c3ff257f",
   "metadata": {},
   "source": [
    "Transient imaging techniques employ SPADs and UPLs in concert to reconstruct transient images at different time steps. Transient images can reveal interesting properties (i.e., different events of scattering and light redirections) of the scene."
   ]
  },
  {
   "cell_type": "markdown",
   "id": "9dca302b",
   "metadata": {},
   "source": [
    "The values $\\tau$ of a pixel of a set of transient images corresponding to some time duration can be imagined as a time impulse response function, i.e., the temporal intensity response of the scene to a pulse of light."
   ]
  },
  {
   "cell_type": "code",
   "execution_count": 10,
   "id": "502da66c",
   "metadata": {},
   "outputs": [
    {
     "data": {
      "application/vnd.jupyter.widget-view+json": {
       "model_id": "681182d80a8844289ed81570a9da3044",
       "version_major": 2,
       "version_minor": 0
      },
      "text/plain": [
       "interactive(children=(IntSlider(value=5, description='i', max=5), Output()), _dom_classes=('widget-interact',)…"
      ]
     },
     "metadata": {},
     "output_type": "display_data"
    },
    {
     "data": {
      "text/plain": [
       "<function __main__.<lambda>(i)>"
      ]
     },
     "execution_count": 10,
     "metadata": {},
     "output_type": "execute_result"
    }
   ],
   "source": [
    "interact(lambda i: showFig('figures/11/transient_imaging_',i,'.svg',800,50), i=widgets.IntSlider(min=(min_i:=0),max=(max_i:=5), step=1, value=(max_i if book else min_i)))"
   ]
  },
  {
   "cell_type": "markdown",
   "id": "b76b38f3",
   "metadata": {},
   "source": [
    "### Forward model of transient imaging"
   ]
  },
  {
   "cell_type": "markdown",
   "id": "a850d058",
   "metadata": {},
   "source": [
    "After emitting a laser pulse into the scene, the amount of light scattered back to the detector is a temporally varying distribution of photons $g$. The photon flux $r$ incident on the detector during time interval $t$ is given by:\n",
    "\n",
    "$\\begin{align} \n",
    "   r(t) = (\\tau * g)(t) + a(t) \\,,\n",
    "\\end{align}$\n",
    "\n",
    "with $\\tau$ denoting the temporal impulse response of the scene and with the ambient photon flux $a(t)$."
   ]
  },
  {
   "cell_type": "markdown",
   "id": "3bf13c2d",
   "metadata": {},
   "source": [
    "The temporal impulse response $\\tau$ incorporates all optical effects of the scene that influence the travel paths / time of the laser pulse (e.g., reflectance, scattering, etc.)."
   ]
  },
  {
   "cell_type": "markdown",
   "id": "9cdc14a3",
   "metadata": {},
   "source": [
    "Assume a scene where light would bounce only once before reaching the detector, i.e., with only direct light transport. In this case, $\\tau$ would be a Dirac delta function."
   ]
  },
  {
   "cell_type": "markdown",
   "id": "2ab58197",
   "metadata": {},
   "source": [
    "Conversely, for global light transport (i.e., with caustics, complex scattering events, interreflections etc.), $\\tau$ models the corresponding temporal impulse response of the scene."
   ]
  },
  {
   "cell_type": "markdown",
   "id": "01d5f202",
   "metadata": {},
   "source": [
    "The ideal photon counter would sample the rate function \n",
    "\n",
    "$\\begin{align} \n",
    "   \\lambda (t) = \\eta \\left( r * f \\right) (t) + d \\,,\n",
    "\\end{align}$\n",
    "\n",
    "with $\\eta \\in [0,1]$ representing the sensor's quantum efficiency and the avalanche probability of the SPAD, $d$ denoting the dark count rate (number of false detections) in Hz and $f$ being the temporal jitter (about tens or a few hundreds of ps for state-of-the-art SPADs)."
   ]
  },
  {
   "cell_type": "markdown",
   "id": "579c7456",
   "metadata": {},
   "source": [
    "An event registered by the SPAD does not necessarily have to be the first arriving photon. Whether a photon is detected within a short time window is a Bernoulli trail with the two possible outcomes of photon detected and no photon detected."
   ]
  },
  {
   "cell_type": "markdown",
   "id": "98734899",
   "metadata": {},
   "source": [
    "By repeating this Bernoulli trial for $N$ times by emitting $N$ laser pulses, the histogram $h$ of the photon travel times is built up.\n",
    "\n",
    "The probability of detecting $h(t)$ photons can be modeled as a Poisson distribution:\n",
    "\n",
    "$\\begin{align} \n",
    "   h(t) \\sim \\mathcal{P} (N \\lambda(t))\\,,\n",
    "\\end{align}$\n",
    "\n",
    "with the expected number of photons $\\lambda(t)$ at time $t$."
   ]
  },
  {
   "cell_type": "markdown",
   "id": "b5d0dd5e",
   "metadata": {},
   "source": [
    "### Reconstruction of transient images"
   ]
  },
  {
   "cell_type": "markdown",
   "id": "9af91c8e",
   "metadata": {},
   "source": [
    "The reconstruction of transient images from the measured noisy and blurry histograms can be modeled as a deconvolution problem in the presence of Poisson noise.\n",
    "\n",
    "For this means, we vectorize the involved quantities as follows:\n",
    "* the temporal impulse response $\\boldsymbol{\\tau} \\in \\mathbb{R}^{n_x n_y n_t}$, i.e., the sought latent transient image, \n",
    "* the measured histogram $\\mathbf{h}\\in \\mathbb{R}^{n_x n_y n_t}$ and\n",
    "* the dark count $\\mathbf{d} \\in \\mathbb{R}^{n_x n_y n_t}$."
   ]
  },
  {
   "cell_type": "markdown",
   "id": "51bc5702",
   "metadata": {},
   "source": [
    "With the measurement matrix $\\mathbf{A} \\in \\mathbb{R}^{n_x n_y n_t \\times n_x n_y n_t}$ encoding the convolution of the transient image with the laser pulse $g$ and the SPAD jitter $f$, we can express\n",
    "\n",
    "$\\begin{align} \n",
    "   h \\sim \\mathcal{P}(\\mathbf{A} \\boldsymbol{\\tau} + \\mathbf{d}) \\,.\n",
    "\\end{align}$\n",
    "\n",
    "The transient images have spatial resolution of $n_x \\times n_y$ and for each pixel there are $n_t$ time bins in the histogram."
   ]
  },
  {
   "cell_type": "markdown",
   "id": "8dad8af8",
   "metadata": {},
   "source": [
    "The reconstruction problem can be formulated as a maximum likelihood estimation with the constraint of non-negative solutions:\n",
    "\n",
    "$\\begin{align} \n",
    "   \\boldsymbol{\\tau}^* = \\argmin{\\boldsymbol{\\tau}} -\\log \\left( p(\\mathbf{h} \\vert \\mathbf{A} \\boldsymbol{\\tau}) \\right) + \\Psi (\\boldsymbol{\\tau}) \\,, \\\\\n",
    "   \\text{subject to } \\, \\boldsymbol{\\tau} \\geq \\mathbf{0} \\,,\n",
    "\\end{align}$\n",
    "\n",
    "with the likelihood $p(\\mathbf{h} \\vert \\mathbf{A} \\boldsymbol{\\tau})$ of measuring the histogram $\\mathbf{h}$ for a given transient image $\\boldsymbol{\\tau}$ and $ \\Psi (\\boldsymbol{\\tau})$ representing a suitable regularizer."
   ]
  },
  {
   "cell_type": "markdown",
   "id": "833e964b",
   "metadata": {},
   "source": [
    "In order to solve this optimization problem with ADMM, first the optimization objectives are split into independent terms via slack variables $\\mathbf{z}_1, \\mathbf{z}_2, \\mathbf{z}_3 \\in \\mathbb{R} ^{n_x n_y n_t}$ and the corresponding constraints are added:\n",
    "\n",
    "$\\begin{align} \n",
    "  \\boldsymbol{\\tau}^* = \\argmin{\\boldsymbol{\\tau}, \\mathbf{z}_1, \\mathbf{z}_2, \\mathbf{z}_3} -\\log \\left( p(\\mathbf{h} \\vert \\mathbf{z}_1) \\right) + \\mathrm{pos}(\\mathbf{z}_2) + \\Psi (\\mathbf{z}_3) \\,, \\\\\n",
    "  \\text{subject to } \\, \\mathbf{A}\\boldsymbol{\\tau} = \\mathbf{z}_1, \\boldsymbol{\\tau} = \\mathbf{z}_2, \\boldsymbol{\\tau} = \\mathbf{z}_3 \\,,\n",
    "\\end{align}$\n",
    "\n",
    "with \n",
    "\n",
    "$\\begin{align} \n",
    "  \\mathrm{pos}(\\mathbf{x})=\n",
    "  \\begin{cases}    \n",
    "    +\\infty \\quad &\\text{if } x_i < 0 \\text{ for any } i\\\\\n",
    "    0 &\\text{otherwise.}\n",
    "  \\end{cases}   \n",
    "\\end{align}$"
   ]
  },
  {
   "cell_type": "markdown",
   "id": "f4c0936e",
   "metadata": {},
   "source": [
    "Then, the augmented Lagrangian in scaled form of the objective can be expressed with the Lagrange multipliers $\\mathbf{u}_1, \\mathbf{u}_2, \\mathbf{u}_3$ corresponding to the three constraints and with the corresponding scalar weights $\\mu_1, \\mu_2, \\mu_3$:\n",
    "\n",
    "$\\begin{align} \n",
    "   L(\\boldsymbol{\\tau}, \\mathbf{z}_1, \\mathbf{z}_2, \\mathbf{z}_3, \\mathbf{u}_1, \\mathbf{u}_2, \\mathbf{u}_3) = &-\\log \\left( p(\\mathbf{h} \\vert \\mathbf{z}_1) \\right) + \\mathrm{pos}(\\mathbf{z}_2) + \\Psi (\\mathbf{z}_3) \\\\\n",
    "   & + \\frac{\\mu_1}{2} \\left\\|\\mathbf{A}\\boldsymbol{\\tau} - \\mathbf{z}_1 + \\mathbf{u}_1  \\right\\| ^2_2 - \\frac{\\mu_1}{2} \\left\\| \\mathbf{u}_1 \\right\\| ^2_2  \\\\\n",
    "   & + \\frac{\\mu _2}{2} \\left\\| \\boldsymbol{\\tau} - \\mathbf{z}_2 + \\mathbf{u}_2 \\right\\| ^2_2 - \\frac{\\mu _2}{2} \\left\\| \\mathbf{u}_2 \\right\\| ^2_2 \\\\\n",
    "   & + \\frac{\\mu _3}{2} \\left\\| \\boldsymbol{\\tau} - \\mathbf{z}_3 + \\mathbf{u}_3 \\right\\| ^2_2 - \\frac{\\mu _3}{2} \\left\\| \\mathbf{u}_3 \\right\\| ^2_2 \\\\\n",
    "\\end{align}$"
   ]
  },
  {
   "cell_type": "markdown",
   "id": "f6e1e8d9",
   "metadata": {},
   "source": [
    "### Results"
   ]
  },
  {
   "cell_type": "markdown",
   "id": "7e9ff8bd",
   "metadata": {},
   "source": [
    "Experimental results achieved with the described approach are reported in the corresponding paper [Reconstructing Transient Images from Single-Photon Sensors](https://www.computationalimaging.org/publications/reconstructing-transient-images-from-single-photon-sensors-cvpr-2017/) by Matthew O'Toole et al."
   ]
  },
  {
   "cell_type": "markdown",
   "id": "e5285952",
   "metadata": {},
   "source": [
    "## Non-line-of-sight imaging"
   ]
  },
  {
   "cell_type": "markdown",
   "id": "750cf099",
   "metadata": {},
   "source": [
    "As mentioned in the introduction, many applications like robotics, medicine, autonomous driving, etc. could greatly benefit from knowing in advance what is behind a corner or other structure blocking the direct line of sight.\n",
    "\n",
    "Non-line-of-sight imaging methods can provide that information by emitting ultra short laser pulses into the scene and by measuring the time elapsed until corresponding photons return from the scene."
   ]
  },
  {
   "cell_type": "code",
   "execution_count": 11,
   "id": "547d5fc0",
   "metadata": {},
   "outputs": [
    {
     "data": {
      "application/vnd.jupyter.widget-view+json": {
       "model_id": "6076c77199034ee1abb0de9f43600f67",
       "version_major": 2,
       "version_minor": 0
      },
      "text/plain": [
       "interactive(children=(IntSlider(value=6, description='i', max=6), Output()), _dom_classes=('widget-interact',)…"
      ]
     },
     "metadata": {},
     "output_type": "display_data"
    },
    {
     "data": {
      "text/plain": [
       "<function __main__.<lambda>(i)>"
      ]
     },
     "execution_count": 11,
     "metadata": {},
     "output_type": "execute_result"
    }
   ],
   "source": [
    "interact(lambda i: showFig('figures/11/nlos_task_',i,'.svg',800,50), i=widgets.IntSlider(min=(min_i:=0),max=(max_i:=6), step=1, value=(max_i if book else min_i)))"
   ]
  },
  {
   "cell_type": "code",
   "execution_count": null,
   "id": "cccb3a42",
   "metadata": {},
   "outputs": [],
   "source": []
  }
 ],
 "metadata": {
  "jupytext": {
   "formats": "ipynb,md:myst",
   "text_representation": {
    "extension": ".md",
    "format_name": "myst",
    "format_version": 0.13,
    "jupytext_version": "1.14.1"
   }
  },
  "kernelspec": {
   "display_name": "compimg",
   "language": "python",
   "name": "compimg"
  },
  "language_info": {
   "codemirror_mode": {
    "name": "ipython",
    "version": 3
   },
   "file_extension": ".py",
   "mimetype": "text/x-python",
   "name": "python",
   "nbconvert_exporter": "python",
   "pygments_lexer": "ipython3",
   "version": "3.8.10"
  },
  "source_map": [
   15,
   35,
   59,
   66,
   76,
   89,
   98,
   107,
   118,
   130,
   144,
   148,
   156,
   160,
   166,
   170,
   174,
   180,
   184,
   190,
   198,
   202,
   206,
   210,
   214,
   218,
   225,
   229,
   233,
   237,
   241,
   243,
   247,
   257,
   261,
   265,
   269,
   279,
   283,
   295,
   299,
   308,
   318,
   329,
   348,
   359,
   363,
   367,
   371,
   377,
   381
  ],
  "widgets": {
   "application/vnd.jupyter.widget-state+json": {
    "state": {
     "1777f1efe94f421185d155c93fc732b0": {
      "model_module": "@jupyter-widgets/controls",
      "model_module_version": "1.5.0",
      "model_name": "IntSliderModel",
      "state": {
       "_dom_classes": [],
       "_model_module": "@jupyter-widgets/controls",
       "_model_module_version": "1.5.0",
       "_model_name": "IntSliderModel",
       "_view_count": null,
       "_view_module": "@jupyter-widgets/controls",
       "_view_module_version": "1.5.0",
       "_view_name": "IntSliderView",
       "continuous_update": true,
       "description": "i",
       "description_tooltip": null,
       "disabled": false,
       "layout": "IPY_MODEL_6d7fa6fe608c4c13af50ab14b63bb600",
       "max": 6,
       "min": 0,
       "orientation": "horizontal",
       "readout": true,
       "readout_format": "d",
       "step": 1,
       "style": "IPY_MODEL_d3a2d8210843438088b462936bdcf6aa",
       "value": 6
      }
     },
     "32fc76a306f54d08a40636fee006695f": {
      "model_module": "@jupyter-widgets/controls",
      "model_module_version": "1.5.0",
      "model_name": "IntSliderModel",
      "state": {
       "_dom_classes": [],
       "_model_module": "@jupyter-widgets/controls",
       "_model_module_version": "1.5.0",
       "_model_name": "IntSliderModel",
       "_view_count": null,
       "_view_module": "@jupyter-widgets/controls",
       "_view_module_version": "1.5.0",
       "_view_name": "IntSliderView",
       "continuous_update": true,
       "description": "i",
       "description_tooltip": null,
       "disabled": false,
       "layout": "IPY_MODEL_9c0dad606a7d40219575f29ef6e1ee4a",
       "max": 5,
       "min": 0,
       "orientation": "horizontal",
       "readout": true,
       "readout_format": "d",
       "step": 1,
       "style": "IPY_MODEL_5c8409bd1b414273a321eb51aa4f33d0",
       "value": 5
      }
     },
     "4c1e8a6bb5fa4d41820b5133a31ade78": {
      "model_module": "@jupyter-widgets/output",
      "model_module_version": "1.0.0",
      "model_name": "OutputModel",
      "state": {
       "_dom_classes": [],
       "_model_module": "@jupyter-widgets/output",
       "_model_module_version": "1.0.0",
       "_model_name": "OutputModel",
       "_view_count": null,
       "_view_module": "@jupyter-widgets/output",
       "_view_module_version": "1.0.0",
       "_view_name": "OutputView",
       "layout": "IPY_MODEL_b53b833212304a74a4cddb966c730397",
       "msg_id": "",
       "outputs": [
        {
         "data": {
          "text/html": "<img src=\"figures/11/nlos_task_6.svg\" style=\"max-height:50vh\"/>",
          "text/plain": "<IPython.core.display.HTML object>"
         },
         "metadata": {},
         "output_type": "display_data"
        }
       ]
      }
     },
     "5c8409bd1b414273a321eb51aa4f33d0": {
      "model_module": "@jupyter-widgets/controls",
      "model_module_version": "1.5.0",
      "model_name": "SliderStyleModel",
      "state": {
       "_model_module": "@jupyter-widgets/controls",
       "_model_module_version": "1.5.0",
       "_model_name": "SliderStyleModel",
       "_view_count": null,
       "_view_module": "@jupyter-widgets/base",
       "_view_module_version": "1.2.0",
       "_view_name": "StyleView",
       "description_width": "",
       "handle_color": null
      }
     },
     "6076c77199034ee1abb0de9f43600f67": {
      "model_module": "@jupyter-widgets/controls",
      "model_module_version": "1.5.0",
      "model_name": "VBoxModel",
      "state": {
       "_dom_classes": [
        "widget-interact"
       ],
       "_model_module": "@jupyter-widgets/controls",
       "_model_module_version": "1.5.0",
       "_model_name": "VBoxModel",
       "_view_count": null,
       "_view_module": "@jupyter-widgets/controls",
       "_view_module_version": "1.5.0",
       "_view_name": "VBoxView",
       "box_style": "",
       "children": [
        "IPY_MODEL_1777f1efe94f421185d155c93fc732b0",
        "IPY_MODEL_4c1e8a6bb5fa4d41820b5133a31ade78"
       ],
       "layout": "IPY_MODEL_918a181a508f43419cb0d4ea474e5097"
      }
     },
     "681182d80a8844289ed81570a9da3044": {
      "model_module": "@jupyter-widgets/controls",
      "model_module_version": "1.5.0",
      "model_name": "VBoxModel",
      "state": {
       "_dom_classes": [
        "widget-interact"
       ],
       "_model_module": "@jupyter-widgets/controls",
       "_model_module_version": "1.5.0",
       "_model_name": "VBoxModel",
       "_view_count": null,
       "_view_module": "@jupyter-widgets/controls",
       "_view_module_version": "1.5.0",
       "_view_name": "VBoxView",
       "box_style": "",
       "children": [
        "IPY_MODEL_32fc76a306f54d08a40636fee006695f",
        "IPY_MODEL_fbc7a77b31c24f06a817e36197dc8097"
       ],
       "layout": "IPY_MODEL_7bfad8cf997c44e6a1e565258295bd71"
      }
     },
     "6d7fa6fe608c4c13af50ab14b63bb600": {
      "model_module": "@jupyter-widgets/base",
      "model_module_version": "1.2.0",
      "model_name": "LayoutModel",
      "state": {
       "_model_module": "@jupyter-widgets/base",
       "_model_module_version": "1.2.0",
       "_model_name": "LayoutModel",
       "_view_count": null,
       "_view_module": "@jupyter-widgets/base",
       "_view_module_version": "1.2.0",
       "_view_name": "LayoutView",
       "align_content": null,
       "align_items": null,
       "align_self": null,
       "border": null,
       "bottom": null,
       "display": null,
       "flex": null,
       "flex_flow": null,
       "grid_area": null,
       "grid_auto_columns": null,
       "grid_auto_flow": null,
       "grid_auto_rows": null,
       "grid_column": null,
       "grid_gap": null,
       "grid_row": null,
       "grid_template_areas": null,
       "grid_template_columns": null,
       "grid_template_rows": null,
       "height": null,
       "justify_content": null,
       "justify_items": null,
       "left": null,
       "margin": null,
       "max_height": null,
       "max_width": null,
       "min_height": null,
       "min_width": null,
       "object_fit": null,
       "object_position": null,
       "order": null,
       "overflow": null,
       "overflow_x": null,
       "overflow_y": null,
       "padding": null,
       "right": null,
       "top": null,
       "visibility": null,
       "width": null
      }
     },
     "7bfad8cf997c44e6a1e565258295bd71": {
      "model_module": "@jupyter-widgets/base",
      "model_module_version": "1.2.0",
      "model_name": "LayoutModel",
      "state": {
       "_model_module": "@jupyter-widgets/base",
       "_model_module_version": "1.2.0",
       "_model_name": "LayoutModel",
       "_view_count": null,
       "_view_module": "@jupyter-widgets/base",
       "_view_module_version": "1.2.0",
       "_view_name": "LayoutView",
       "align_content": null,
       "align_items": null,
       "align_self": null,
       "border": null,
       "bottom": null,
       "display": null,
       "flex": null,
       "flex_flow": null,
       "grid_area": null,
       "grid_auto_columns": null,
       "grid_auto_flow": null,
       "grid_auto_rows": null,
       "grid_column": null,
       "grid_gap": null,
       "grid_row": null,
       "grid_template_areas": null,
       "grid_template_columns": null,
       "grid_template_rows": null,
       "height": null,
       "justify_content": null,
       "justify_items": null,
       "left": null,
       "margin": null,
       "max_height": null,
       "max_width": null,
       "min_height": null,
       "min_width": null,
       "object_fit": null,
       "object_position": null,
       "order": null,
       "overflow": null,
       "overflow_x": null,
       "overflow_y": null,
       "padding": null,
       "right": null,
       "top": null,
       "visibility": null,
       "width": null
      }
     },
     "918a181a508f43419cb0d4ea474e5097": {
      "model_module": "@jupyter-widgets/base",
      "model_module_version": "1.2.0",
      "model_name": "LayoutModel",
      "state": {
       "_model_module": "@jupyter-widgets/base",
       "_model_module_version": "1.2.0",
       "_model_name": "LayoutModel",
       "_view_count": null,
       "_view_module": "@jupyter-widgets/base",
       "_view_module_version": "1.2.0",
       "_view_name": "LayoutView",
       "align_content": null,
       "align_items": null,
       "align_self": null,
       "border": null,
       "bottom": null,
       "display": null,
       "flex": null,
       "flex_flow": null,
       "grid_area": null,
       "grid_auto_columns": null,
       "grid_auto_flow": null,
       "grid_auto_rows": null,
       "grid_column": null,
       "grid_gap": null,
       "grid_row": null,
       "grid_template_areas": null,
       "grid_template_columns": null,
       "grid_template_rows": null,
       "height": null,
       "justify_content": null,
       "justify_items": null,
       "left": null,
       "margin": null,
       "max_height": null,
       "max_width": null,
       "min_height": null,
       "min_width": null,
       "object_fit": null,
       "object_position": null,
       "order": null,
       "overflow": null,
       "overflow_x": null,
       "overflow_y": null,
       "padding": null,
       "right": null,
       "top": null,
       "visibility": null,
       "width": null
      }
     },
     "9c0dad606a7d40219575f29ef6e1ee4a": {
      "model_module": "@jupyter-widgets/base",
      "model_module_version": "1.2.0",
      "model_name": "LayoutModel",
      "state": {
       "_model_module": "@jupyter-widgets/base",
       "_model_module_version": "1.2.0",
       "_model_name": "LayoutModel",
       "_view_count": null,
       "_view_module": "@jupyter-widgets/base",
       "_view_module_version": "1.2.0",
       "_view_name": "LayoutView",
       "align_content": null,
       "align_items": null,
       "align_self": null,
       "border": null,
       "bottom": null,
       "display": null,
       "flex": null,
       "flex_flow": null,
       "grid_area": null,
       "grid_auto_columns": null,
       "grid_auto_flow": null,
       "grid_auto_rows": null,
       "grid_column": null,
       "grid_gap": null,
       "grid_row": null,
       "grid_template_areas": null,
       "grid_template_columns": null,
       "grid_template_rows": null,
       "height": null,
       "justify_content": null,
       "justify_items": null,
       "left": null,
       "margin": null,
       "max_height": null,
       "max_width": null,
       "min_height": null,
       "min_width": null,
       "object_fit": null,
       "object_position": null,
       "order": null,
       "overflow": null,
       "overflow_x": null,
       "overflow_y": null,
       "padding": null,
       "right": null,
       "top": null,
       "visibility": null,
       "width": null
      }
     },
     "aa6d81fdf8864b07b77434b362a26fd0": {
      "model_module": "@jupyter-widgets/base",
      "model_module_version": "1.2.0",
      "model_name": "LayoutModel",
      "state": {
       "_model_module": "@jupyter-widgets/base",
       "_model_module_version": "1.2.0",
       "_model_name": "LayoutModel",
       "_view_count": null,
       "_view_module": "@jupyter-widgets/base",
       "_view_module_version": "1.2.0",
       "_view_name": "LayoutView",
       "align_content": null,
       "align_items": null,
       "align_self": null,
       "border": null,
       "bottom": null,
       "display": null,
       "flex": null,
       "flex_flow": null,
       "grid_area": null,
       "grid_auto_columns": null,
       "grid_auto_flow": null,
       "grid_auto_rows": null,
       "grid_column": null,
       "grid_gap": null,
       "grid_row": null,
       "grid_template_areas": null,
       "grid_template_columns": null,
       "grid_template_rows": null,
       "height": null,
       "justify_content": null,
       "justify_items": null,
       "left": null,
       "margin": null,
       "max_height": null,
       "max_width": null,
       "min_height": null,
       "min_width": null,
       "object_fit": null,
       "object_position": null,
       "order": null,
       "overflow": null,
       "overflow_x": null,
       "overflow_y": null,
       "padding": null,
       "right": null,
       "top": null,
       "visibility": null,
       "width": null
      }
     },
     "b53b833212304a74a4cddb966c730397": {
      "model_module": "@jupyter-widgets/base",
      "model_module_version": "1.2.0",
      "model_name": "LayoutModel",
      "state": {
       "_model_module": "@jupyter-widgets/base",
       "_model_module_version": "1.2.0",
       "_model_name": "LayoutModel",
       "_view_count": null,
       "_view_module": "@jupyter-widgets/base",
       "_view_module_version": "1.2.0",
       "_view_name": "LayoutView",
       "align_content": null,
       "align_items": null,
       "align_self": null,
       "border": null,
       "bottom": null,
       "display": null,
       "flex": null,
       "flex_flow": null,
       "grid_area": null,
       "grid_auto_columns": null,
       "grid_auto_flow": null,
       "grid_auto_rows": null,
       "grid_column": null,
       "grid_gap": null,
       "grid_row": null,
       "grid_template_areas": null,
       "grid_template_columns": null,
       "grid_template_rows": null,
       "height": null,
       "justify_content": null,
       "justify_items": null,
       "left": null,
       "margin": null,
       "max_height": null,
       "max_width": null,
       "min_height": null,
       "min_width": null,
       "object_fit": null,
       "object_position": null,
       "order": null,
       "overflow": null,
       "overflow_x": null,
       "overflow_y": null,
       "padding": null,
       "right": null,
       "top": null,
       "visibility": null,
       "width": null
      }
     },
     "d3a2d8210843438088b462936bdcf6aa": {
      "model_module": "@jupyter-widgets/controls",
      "model_module_version": "1.5.0",
      "model_name": "SliderStyleModel",
      "state": {
       "_model_module": "@jupyter-widgets/controls",
       "_model_module_version": "1.5.0",
       "_model_name": "SliderStyleModel",
       "_view_count": null,
       "_view_module": "@jupyter-widgets/base",
       "_view_module_version": "1.2.0",
       "_view_name": "StyleView",
       "description_width": "",
       "handle_color": null
      }
     },
     "fbc7a77b31c24f06a817e36197dc8097": {
      "model_module": "@jupyter-widgets/output",
      "model_module_version": "1.0.0",
      "model_name": "OutputModel",
      "state": {
       "_dom_classes": [],
       "_model_module": "@jupyter-widgets/output",
       "_model_module_version": "1.0.0",
       "_model_name": "OutputModel",
       "_view_count": null,
       "_view_module": "@jupyter-widgets/output",
       "_view_module_version": "1.0.0",
       "_view_name": "OutputView",
       "layout": "IPY_MODEL_aa6d81fdf8864b07b77434b362a26fd0",
       "msg_id": "",
       "outputs": [
        {
         "data": {
          "text/html": "<img src=\"figures/11/transient_imaging_5.svg\" style=\"max-height:50vh\"/>",
          "text/plain": "<IPython.core.display.HTML object>"
         },
         "metadata": {},
         "output_type": "display_data"
        }
       ]
      }
     }
    },
    "version_major": 2,
    "version_minor": 0
   }
  }
 },
 "nbformat": 4,
 "nbformat_minor": 5
}