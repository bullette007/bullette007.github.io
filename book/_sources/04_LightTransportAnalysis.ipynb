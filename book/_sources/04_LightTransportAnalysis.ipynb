{
 "cells": [
  {
   "cell_type": "code",
   "execution_count": 1,
   "id": "8c037113",
   "metadata": {
    "init_cell": true,
    "tags": [
     "remove-cell"
    ]
   },
   "outputs": [
    {
     "data": {
      "application/javascript": [
       "var cells = Jupyter.notebook.get_cells();\n",
       "           for (var i = 0; i < cells.length; i++) {\n",
       "               var cur_cell = cells[i];\n",
       "               var tags = cur_cell._metadata.tags;\n",
       "               console.log(i);\n",
       "               console.log(tags == undefined);\n",
       "               console.log(tags);\n",
       "               if (tags != undefined) {\n",
       "               for (var j = 0; j < tags.length; j++) {\n",
       "                  if (tags[j]==\"book_only\" | tags[j]==\"remove-cell\") {cur_cell.element.hide();}\n",
       "                  if (tags[j]==\"presentation_only\") {cur_cell.element.show();}\n",
       "            }}}\n"
      ],
      "text/plain": [
       "<IPython.core.display.Javascript object>"
      ]
     },
     "metadata": {},
     "output_type": "display_data"
    }
   ],
   "source": [
    "%%js\n",
    "var cells = Jupyter.notebook.get_cells();\n",
    "           for (var i = 0; i < cells.length; i++) {\n",
    "               var cur_cell = cells[i];\n",
    "               var tags = cur_cell._metadata.tags;\n",
    "               console.log(i);\n",
    "               console.log(tags == undefined);\n",
    "               console.log(tags);\n",
    "               if (tags != undefined) {\n",
    "               for (var j = 0; j < tags.length; j++) {\n",
    "                  if (tags[j]==\"book_only\" | tags[j]==\"remove-cell\") {cur_cell.element.hide();}\n",
    "                  if (tags[j]==\"presentation_only\") {cur_cell.element.show();}\n",
    "            }}}"
   ]
  },
  {
   "cell_type": "code",
   "execution_count": 2,
   "id": "f97d5306",
   "metadata": {
    "init_cell": true,
    "slideshow": {
     "slide_type": "notes"
    },
    "tags": [
     "remove-cell"
    ]
   },
   "outputs": [
    {
     "name": "stderr",
     "output_type": "stream",
     "text": [
      "C:\\Users\\meyjoh\\repos\\vlcompimg\\compimg\\lib\\site-packages\\scipy\\__init__.py:138: UserWarning: A NumPy version >=1.16.5 and <1.23.0 is required for this version of SciPy (detected version 1.23.4)\n",
      "  warnings.warn(f\"A NumPy version >={np_minversion} and <{np_maxversion} is required for this version of \"\n"
     ]
    }
   ],
   "source": [
    "from __future__ import print_function\n",
    "from ipywidgets import interact, interactive, fixed, interact_manual\n",
    "import ipywidgets as widgets\n",
    "import numpy as np\n",
    "import matplotlib.pyplot as plt\n",
    "import cv2\n",
    "import scipy.signal as sig\n",
    "from scipy.integrate import simpson\n",
    "from IPython.display import SVG, display, IFrame, HTML\n",
    "import seaborn as sns\n",
    "%matplotlib notebook\n",
    "book = False"
   ]
  },
  {
   "cell_type": "code",
   "execution_count": 3,
   "id": "414ef1f3",
   "metadata": {
    "tags": [
     "remove-input",
     "book_only"
    ]
   },
   "outputs": [],
   "source": [
    "%matplotlib inline\n",
    "book = True"
   ]
  },
  {
   "cell_type": "code",
   "execution_count": 4,
   "id": "cef5c9cc",
   "metadata": {
    "init_cell": true,
    "slideshow": {
     "slide_type": "notes"
    },
    "tags": [
     "remove-cell"
    ]
   },
   "outputs": [],
   "source": [
    "def showFig2(path,i,ending, width, height):\n",
    "    imgToShow = plt.imread(f\"{path}{i}{ending}\")\n",
    "    plt.imshow(imgToShow)"
   ]
  },
  {
   "cell_type": "code",
   "execution_count": 5,
   "id": "98dd0a42",
   "metadata": {
    "init_cell": true,
    "slideshow": {
     "slide_type": "notes"
    },
    "tags": [
     "remove-cell"
    ]
   },
   "outputs": [],
   "source": [
    "def showFig(path,i,ending, width, height):\n",
    "    filename = path+str(i)+ending\n",
    "    return HTML(\"<img src=\\\"\" + filename +  f\"\\\" style=\\\"max-height:{height}vh\\\"/>\")"
   ]
  },
  {
   "cell_type": "code",
   "execution_count": 6,
   "id": "2e96244b",
   "metadata": {
    "init_cell": true,
    "slideshow": {
     "slide_type": "notes"
    },
    "tags": [
     "remove-cell"
    ]
   },
   "outputs": [],
   "source": [
    "def imshow(img, cmap=None):\n",
    "    plt.close('all')\n",
    "    plt.figure()\n",
    "    plt.imshow(img, cmap=cmap)\n",
    "    plt.show()"
   ]
  },
  {
   "cell_type": "code",
   "execution_count": 7,
   "id": "c409b6d5",
   "metadata": {
    "init_cell": true,
    "slideshow": {
     "slide_type": "notes"
    },
    "tags": [
     "remove-cell"
    ]
   },
   "outputs": [],
   "source": [
    "def imshow2(img, cmap=None):\n",
    "    #plt.close('all')\n",
    "    #plt.figure()\n",
    "    plt.clf()\n",
    "    plt.imshow(img, cmap=cmap)\n",
    "    #plt.show()"
   ]
  },
  {
   "cell_type": "markdown",
   "id": "524f7051",
   "metadata": {
    "slideshow": {
     "slide_type": "slide"
    }
   },
   "source": [
    "$\\begin{align}\n",
    "  \\newcommand{transp}{^\\intercal}\n",
    "  \\newcommand{F}{\\mathcal{F}}\n",
    "  \\newcommand{Fi}{\\mathcal{F}^{-1}}\n",
    "  \\newcommand{inv}{^{-1}}\n",
    "  \\newcommand{stochvec}[1]{\\mathbf{\\tilde{#1}}}\n",
    "  \\newcommand{argmax}[1]{\\underset{#1}{\\mathrm{arg\\, max}}}\n",
    "  \\newcommand{argmin}[1]{\\underset{#1}{\\mathrm{arg\\, min}}}\n",
    "\\end{align}$\n",
    "\n",
    "<font size=\"7\"> Computational Imaging </font><br><br><br>"
   ]
  },
  {
   "cell_type": "markdown",
   "id": "7668ef19",
   "metadata": {
    "slideshow": {
     "slide_type": "fragment"
    }
   },
   "source": [
    "# Light Transport Analysis"
   ]
  },
  {
   "cell_type": "markdown",
   "id": "6d5aef50",
   "metadata": {
    "slideshow": {
     "slide_type": "subslide"
    }
   },
   "source": [
    "##### Content\n",
    "* Introduction into light transport\n",
    "    * The light transport equation\n",
    "    * The light transport matrix\n",
    "* Optical computing for fast light transport \n",
    "    * Optical interpretation of matrix vector products\n",
    "    * Krylov subspace methods (optical power iteration, optical Arnoldi)\n",
    "* Light transport matrix processing for visual inspection\n",
    "    * Light transport matrix feature extraction\n",
    "    * Signal-to-noise ratio based image fusion\n",
    "* Separation of direct and indirect light transport\n",
    "    * Inverse light transport\n",
    "    * Indirect appearance by structured light transport\n",
    "* Compressed sensing for light transport analysis\n",
    "    * Introduction to compressed sensing\n",
    "    * Compressive light transport matrix acquisition"
   ]
  },
  {
   "cell_type": "markdown",
   "id": "78c6e097",
   "metadata": {
    "slideshow": {
     "slide_type": "slide"
    }
   },
   "source": [
    "## Introduction into light transport"
   ]
  },
  {
   "cell_type": "markdown",
   "id": "3fa20565",
   "metadata": {},
   "source": [
    "* Light transport = all light travelling in a scene from illumination sources to sensor elements (i.e., pixels).\n",
    "* Can be mathematically described via the so-called *light transport matrix* $\\mathbf{T}$, if the common assumption of linear light transport is made."
   ]
  },
  {
   "cell_type": "markdown",
   "id": "0ed78e39",
   "metadata": {},
   "source": [
    "The matrix $\\mathbf{T}$ contains the individual influences of all $P$ light sources to all $I$ sensor elements and hence has dimensions of $\\mathbf{T} \\in \\mathbb{R}^{I\\times P}_+$."
   ]
  },
  {
   "cell_type": "markdown",
   "id": "2a673311",
   "metadata": {
    "tags": [
     "book_only"
    ]
   },
   "source": [
    "The elements of $\\mathbf{T}$ are non-negative as only positive energy or no energy can be transported via light."
   ]
  },
  {
   "cell_type": "markdown",
   "id": "ddecf9b3",
   "metadata": {},
   "source": [
    "The *light transport equation* \n",
    "\n",
    "$\\begin{align} \n",
    "   \\mathbf{i} = \\mathbf{T}\\mathbf{p}\n",
    "\\end{align}$\n",
    "\n",
    "describes the formation of the sensor values $\\mathbf{i}$ of the $I$ sensor elements when the scene is illuminated by the $P$ light sources with respective intensities $\\mathbf{p}$."
   ]
  },
  {
   "cell_type": "markdown",
   "id": "146de857",
   "metadata": {},
   "source": [
    "For the following content, we will assume illumination of the scene by a projector projecting a two-dimensional image and a two-dimensional gray-value camera serving as the sensor."
   ]
  },
  {
   "cell_type": "markdown",
   "id": "df3f8f89",
   "metadata": {},
   "source": [
    "In this case, $\\mathbf{i}$ and $\\mathbf{p}$ are the vector representations of the camera image, respectively, of the projected image or pattern."
   ]
  },
  {
   "cell_type": "markdown",
   "id": "632c59f3",
   "metadata": {},
   "source": [
    "If the light transport matrix $\\mathbf{T}$ is known, the camera image that would result from the illumination with an arbitrary pattern $\\mathbf{p}$ could be synthetically calculated by just evaluating the light transport equation\n",
    "\n",
    "$\\begin{align} \n",
    "  \\mathbf{i} = \\mathbf{T}\\mathbf{p} \\,.\n",
    "\\end{align}$"
   ]
  },
  {
   "cell_type": "markdown",
   "id": "246885d3",
   "metadata": {},
   "source": [
    "##### Example"
   ]
  },
  {
   "cell_type": "code",
   "execution_count": 8,
   "id": "8aac0bbe",
   "metadata": {
    "init_cell": true
   },
   "outputs": [
    {
     "data": {
      "application/vnd.jupyter.widget-view+json": {
       "model_id": "58684a3c5bb846c08e19f178138db9cc",
       "version_major": 2,
       "version_minor": 0
      },
      "text/plain": [
       "interactive(children=(IntSlider(value=5, description='i', max=5, min=1), Output()), _dom_classes=('widget-inte…"
      ]
     },
     "metadata": {},
     "output_type": "display_data"
    },
    {
     "data": {
      "text/plain": [
       "<function __main__.<lambda>(i)>"
      ]
     },
     "execution_count": 8,
     "metadata": {},
     "output_type": "execute_result"
    }
   ],
   "source": [
    "interact(lambda i: showFig('figures/4/desk_lightsources_example_',i,'.svg',800,50), i=widgets.IntSlider(min=(min_i:=1),max=(max_i:=5), step=1, value=(max_i if book else min_i)))"
   ]
  },
  {
   "cell_type": "markdown",
   "id": "3a92e52c",
   "metadata": {},
   "source": [
    "(All images in this chapter are kindly provided by Matthew O'Toole)."
   ]
  },
  {
   "cell_type": "markdown",
   "id": "e66e8ec8",
   "metadata": {},
   "source": [
    "In this sense, the element $T[m,n]$ of $\\mathbf{T}$ encodes the contribution of light source (i.e., projector pixel) $n$ to camera pixel $m$."
   ]
  },
  {
   "cell_type": "markdown",
   "id": "cffdc9b6",
   "metadata": {},
   "source": [
    "Unfortunately, the matrix $\\mathbf{T}$ is too large to measure and handle digitally for many practically relevant applications."
   ]
  },
  {
   "cell_type": "markdown",
   "id": "6a41b3d6",
   "metadata": {},
   "source": [
    "##### Example"
   ]
  },
  {
   "cell_type": "markdown",
   "id": "74ac343d",
   "metadata": {},
   "source": [
    "Example light transport matrix for a single row (highlighted in (a)) of image and projector pixels. Further highlighted are the image position corresponding to camera pixel $m$ and the position corresponding to projector pixel $n$:<br>\n",
    "<img src=\"figures/4/example_transport_matrix.svg\" style=\"max-width:30vw\">"
   ]
  },
  {
   "cell_type": "markdown",
   "id": "e70663c6",
   "metadata": {},
   "source": [
    "### Practical limitations \n",
    "\n",
    "Consider a pair of a camera and a projector both having a (comparatively low) resolution of 1 mega pixels, then the resulting light transport matrix would have $10^{12}$ elements. \n",
    "\n",
    "* With an acquisition rate of $30$ Hz, acquiring the required $10^6$ measurements would need over 9 hours of time.\n",
    "* For a quantization of 8 bit per pixel for the camera images, $\\mathbf{T}$ would require about one terabyte of storage."
   ]
  },
  {
   "cell_type": "markdown",
   "id": "46a65779",
   "metadata": {},
   "source": [
    "### Optical linear algebra\n",
    "\n",
    "To overcome the mentioned limitations, we will study approaches to perform linear algebra calculations involving $\\mathbf{T}$ only in the optical domain, i.e., without ever capturing the single elements of $\\mathbf{T}$."
   ]
  },
  {
   "cell_type": "markdown",
   "id": "406ed4da",
   "metadata": {},
   "source": [
    "### Light paths\n",
    "\n",
    "We again assume that all geometric structures involved in our imaging system are significantly larger than the wavelength of the employed light, so that the model of geometric optics, i.e., of light propagating along rays, is valid."
   ]
  },
  {
   "cell_type": "markdown",
   "id": "4da26b34",
   "metadata": {},
   "source": [
    "While travelling through the scene, light rays can be refracted, reflected, scattered, etc. until they either hit one of the camera's pixels or get absorbed or exit the scene."
   ]
  },
  {
   "cell_type": "markdown",
   "id": "e8ab6a66",
   "metadata": {},
   "source": [
    "We denote a sequence of such light rays which connect a light source (i.e., a projector pixel) and a camera pixel as a *light path*."
   ]
  },
  {
   "cell_type": "markdown",
   "id": "9a381bfb",
   "metadata": {},
   "source": [
    "Light paths can be categorized into *direct* and *indirect* paths."
   ]
  },
  {
   "cell_type": "markdown",
   "id": "28437cc1",
   "metadata": {},
   "source": [
    "<img src=\"figures/4/light_path_categories.png\" style=\"max-width:30vw\">"
   ]
  },
  {
   "cell_type": "markdown",
   "id": "de4e897f",
   "metadata": {},
   "source": [
    "* **Black ray - direct paths**: From projector pixel to camera pixel via single scene point interaction.\n",
    "* **Indirect paths**: Interaction with multiple scene points:\n",
    "    * **Red rays - diffuse indirect paths**: Diffusely scatter at two or more diffuse points.\n",
    "    * **Green rays - sepcular indirect paths**: Diffusely scatter at most once."
   ]
  },
  {
   "cell_type": "markdown",
   "id": "4a73b72e",
   "metadata": {},
   "source": [
    "Important: Since the area of a camera pixel is not infinitely small, it usually receives both, rays from direct and indirect light paths."
   ]
  },
  {
   "cell_type": "markdown",
   "id": "de128b33",
   "metadata": {},
   "source": [
    "The image captured with the camera can be imagined as a superposition of multiple latent images, all corresponding to different kinds of light paths."
   ]
  },
  {
   "cell_type": "markdown",
   "id": "715de656",
   "metadata": {},
   "source": [
    "The reconstruction of these latent images is one major goal of light transport analysis."
   ]
  },
  {
   "cell_type": "markdown",
   "id": "218b0fce",
   "metadata": {},
   "source": [
    "They often reveal interesting properties of the scene."
   ]
  },
  {
   "cell_type": "markdown",
   "id": "814e0711",
   "metadata": {},
   "source": [
    "### Teaser\n",
    "\n",
    "We will see, how we\n",
    "\n",
    "* can synthetically relight a scene, i.e., synthesize the image that would result when illuminating it with arbitrary illumination patterns (see previous example images),"
   ]
  },
  {
   "cell_type": "markdown",
   "id": "7889349b",
   "metadata": {},
   "source": [
    "* can manipulate the image of a projector in order to compensate disturbing structures on the screen surface,"
   ]
  },
  {
   "cell_type": "markdown",
   "id": "11dbc8cc",
   "metadata": {},
   "source": [
    "* can separate direct an indirect light transport to obtain images dominated only by the respective optical effects.\n",
    "\n",
    "<img src=\"figures/4/Example_Separation_Direct_Indirect.svg\" style=\"max-width:30vw\">"
   ]
  },
  {
   "cell_type": "markdown",
   "id": "7939f288",
   "metadata": {},
   "source": [
    "### Entries of the light transport matrix\n",
    "\n",
    "Each entry of $\\mathbf{T}[m,n]$ describes the ratio of radiant energy that is transmitted from light source $n$ to sensor element $m$ via all optical paths that somehow connect source $n$ and sensor element $m$:\n",
    "\n",
    "$\\begin{align} \n",
    "   T[m,n] = \\int\\limits_{\\Omega_{m,n}} f(x) \\mathrm{d} \\mu (x)\\,,\n",
    "\\end{align}$\n",
    "\n",
    "with $\\Omega_{m,n}$ denoting the support, i.e., the space of light paths between source $n$ and sensor element $m$, the scattering throughput function $f(x)$ encoding the radiant energy transported along a light path $x$ and $\\mu (x)$ representing the corresponding measure."
   ]
  },
  {
   "cell_type": "markdown",
   "id": "c8a1a866",
   "metadata": {},
   "source": [
    "#### Helmholtz reciprocity principle\n",
    "\n",
    "For many practically relevant scenes, the scattering throughput scene can be assumed to obey the *Helmholtz reciprocity principle*, according to which the value of $f(x)$ for a light path $x$ does not depend on the propagation direction of the light rays of $x$ (i.e., interchanging projector pixel $n$ with camera pixel $m$ would result in the same value for $T[m,n]$)."
   ]
  },
  {
   "cell_type": "markdown",
   "id": "d126a697",
   "metadata": {},
   "source": [
    "## Light transport analysis via optical computing"
   ]
  },
  {
   "cell_type": "markdown",
   "id": "6cb3576e",
   "metadata": {},
   "source": [
    "When illuminating the scene with an illumination vector $\\mathbf{p}$, capturing a camera image yields\n",
    "\n",
    "$\\begin{align} \n",
    "   \\mathbf{i} = \\mathbf{T}\\mathbf{p} \\,,\n",
    "\\end{align}$\n",
    "\n",
    "i.e., the matrix multiplication $\\mathbf{Tp}$ has been performed in the optical domain."
   ]
  },
  {
   "cell_type": "markdown",
   "id": "5a6e2720",
   "metadata": {},
   "source": [
    "This is the only possible way to interact with $\\mathbf{T}$ in order to get information about it, i.e., via multiplying $\\mathbf{T}$ with some vector $\\mathbf{p}$ and observing the result $\\mathbf{i}$."
   ]
  },
  {
   "cell_type": "markdown",
   "id": "4a3de1b8",
   "metadata": {},
   "source": [
    "Luckily, dealing with very large matrices like $\\mathbf{T}$ only via matrix multiplication as stated before, represents a well-studied problem in the field of linear algebra."
   ]
  },
  {
   "cell_type": "markdown",
   "id": "6b779e1f",
   "metadata": {},
   "source": [
    "Especially the set of so-called *Krylov subspace methods* is suitable for our case, which is why we will study some of these approaches in the following. \n",
    "\n",
    "### Optical power iteration\n",
    "\n",
    "We will first study a simple method to obtain the eigenvector $\\mathbf{v}_1$ of $\\mathbf{T}$ that corresponds to its largest eigenvalue $\\lambda_1$. For this purpose, we will transform a method called *power iteration* into the optical domain."
   ]
  },
  {
   "cell_type": "markdown",
   "id": "afcb2a5b",
   "metadata": {},
   "source": [
    "The vector $\\mathbf{v}$ is called the eigenvector of a square matrix $\\mathbf{T}$ if \n",
    "\n",
    "$\\begin{align} \n",
    "   \\mathbf{Tv} = \\lambda \\mathbf{v} \\,,\n",
    "\\end{align}$\n",
    "\n",
    "with the so-called scalar eigenvalue $\\lambda$."
   ]
  },
  {
   "cell_type": "markdown",
   "id": "0f1bb759",
   "metadata": {},
   "source": [
    "The eigenvector $\\mathbf{v}_1$ that corresponds to the eigenvalue $\\lambda_1$ with the highest absolute value is called the *principal eigenvector*."
   ]
  },
  {
   "cell_type": "markdown",
   "id": "0cd7ce83",
   "metadata": {},
   "source": [
    "#### Power iteration\n",
    "\n",
    "Power iteration is a simple numerical algorithm for calculating the principal eigenvector of a square matrix $\\mathbf{T}$. It exploits the fact the sequence \n",
    "\n",
    "$\\begin{align} \n",
    "   \\mathbf{p}, \\mathbf{Tp}, \\mathbf{T}^2\\mathbf{p}, \\mathbf{T}^3\\mathbf{p}, \\ldots \n",
    "\\end{align}$\n",
    "\n",
    "converges to the principal eigenvector $\\mathbf{v}_1$ of $\\mathbf{T}$ for any initial vector $\\mathbf{p}$, that is not orthogonal to $\\mathbf{v}_1$."
   ]
  },
  {
   "cell_type": "markdown",
   "id": "4e1b3f4a",
   "metadata": {},
   "source": [
    "#### Implementation"
   ]
  },
  {
   "cell_type": "markdown",
   "id": "4bdb88e3",
   "metadata": {
    "cell_style": "split"
   },
   "source": [
    "The typical implementation looks like:\n",
    "\n",
    "$\\mathbf{Function}\\, \\mathrm{powerIteration}(\\mathbf{T})$<br><br>\n",
    "$\\quad \\mathbf{p}_1 \\leftarrow \\text{ random vector}$<br>\n",
    "$\\quad \\mathbf{for}\\, k \\in [1,\\ldots,K]:$<br><br>\n",
    "$\\qquad \\mathbf{i}_k \\leftarrow \\mathbf{Tp}_k$<br>\n",
    "$\\qquad \\mathbf{p}_{k+1} \\leftarrow \\frac{\\mathbf{i}_k}{\\left\\| \\mathbf{i}_k \\right\\|_2 }$<br><br>\n",
    "$\\quad \\textbf{return}\\,  \\mathbf{p}_{k+1}$"
   ]
  },
  {
   "cell_type": "markdown",
   "id": "1536d432",
   "metadata": {
    "cell_style": "split"
   },
   "source": [
    "The optical counterpart is given by:\n",
    "\n",
    "$\\mathbf{Function}\\, \\mathrm{opticalPowerIteration}(\\mathtt{camera},\\, \\mathtt{projector})$<br><br>\n",
    "$\\quad \\mathbf{p}_1 \\leftarrow \\text{ random vector}$<br>\n",
    "$\\quad \\mathbf{for}\\, k \\in [1,\\ldots,K]:$<br>\n",
    "$\\qquad \\mathtt{projector}.\\text{project}(\\mathbf{p}_k)$<br>\n",
    "$\\qquad \\mathbf{i}_k \\leftarrow \\mathtt{camera}.\\text{acquireImage}()$<br>\n",
    "$\\qquad \\mathbf{p}_{k+1} \\leftarrow \\frac{\\mathbf{i}_k}{\\left\\| \\mathbf{i}_k \\right\\|_2 }$<br><br>\n",
    "$\\quad \\textbf{return}\\,  \\mathbf{p}_{k+1}$"
   ]
  },
  {
   "cell_type": "markdown",
   "id": "6bf8fca2",
   "metadata": {},
   "source": [
    "Note that all elements of $\\mathbf{p}$ have to be non-negative so that they can be projected onto the scene."
   ]
  },
  {
   "cell_type": "markdown",
   "id": "ab536a1d",
   "metadata": {},
   "source": [
    "Some intermediate steps of an example optical power iteration application:\n",
    "\n",
    "<img src=\"figures/4/powerIteration_example.svg\" style=\"max-width:30vw\">"
   ]
  },
  {
   "cell_type": "markdown",
   "id": "36f8b25a",
   "metadata": {},
   "source": [
    "#### Limitations"
   ]
  },
  {
   "cell_type": "markdown",
   "id": "f3321ce7",
   "metadata": {},
   "source": [
    "* Power iteration can only be applied to square matrices (i.e., for same sizes of projected images and captured images)."
   ]
  },
  {
   "cell_type": "markdown",
   "id": "77241714",
   "metadata": {},
   "source": [
    "* The convergence behavior of power iteration strongly depends on properties of $\\mathbf{T}$, especially on the similarity of the top two eigenvalues."
   ]
  },
  {
   "cell_type": "markdown",
   "id": "a119a65c",
   "metadata": {
    "slideshow": {
     "slide_type": "slide"
    }
   },
   "source": [
    "### Krylov subspace methods\n",
    "\n",
    "Krylov subspace methods represent a powerful family of algorithms for analyzing large sparse matrices $\\mathbf{T}$ whose shape can be square or rectangular. All they need is to perform multiplications with $\\mathbf{T}$ and sometimes with its transpose $\\mathbf{T}\\transp$.\n",
    "<br>\n",
    "Before we introduce the actual algorithms, we cover some prerequisites."
   ]
  },
  {
   "cell_type": "markdown",
   "id": "487e7729",
   "metadata": {
    "slideshow": {
     "slide_type": "subslide"
    }
   },
   "source": [
    "The Krylov subspace of dimension $k$ is the span of vectors produced after $k$ steps via power iteration, i.e.:\n",
    "\n",
    "$\\begin{align} \n",
    "   \\left( \\mathbf{p}_1 , \\mathbf{p}_2 = \\mathbf{Tp}, \\mathbf{p}_3 = \\mathbf{T}^2 \\mathbf{p}_1 , \\ldots , \\mathbf{p}_{k+1} = \\mathbf{T}^k \\mathbf{p}_1 \\right) \\,.\n",
    "\\end{align}$"
   ]
  },
  {
   "cell_type": "markdown",
   "id": "916e6182",
   "metadata": {
    "slideshow": {
     "slide_type": "subslide"
    }
   },
   "source": [
    "#### Optical matrix-vector multiplication for arbitrary vectors \n",
    "\n",
    "Krylov subspace methods require to compute products with $\\mathbf{T}$ for arbitrary vectors $\\mathbf{p}$, which may also contain negative values."
   ]
  },
  {
   "cell_type": "markdown",
   "id": "a37f86e9",
   "metadata": {
    "slideshow": {
     "slide_type": "fragment"
    }
   },
   "source": [
    "For this purpose, we express $\\mathbf{p}$ as the difference between two non-negative vectors $\\mathbf{p}^+$ and $\\mathbf{p}^-$:\n",
    "\n",
    "$\\begin{align} \n",
    "   \\mathbf{p} &= \\mathbf{p}^+ - \\mathbf{p}^- \\\\\n",
    "   \\mathbf{Tp} &= \\mathbf{Tp}^+ - \\mathbf{Tp}^- \\,.\n",
    "\\end{align}$"
   ]
  },
  {
   "cell_type": "markdown",
   "id": "49aa48c7",
   "metadata": {
    "slideshow": {
     "slide_type": "fragment"
    }
   },
   "source": [
    "As a result, we have to project and capture two images to achieve an optical realization of these kinds of matrix-vector multiplications."
   ]
  },
  {
   "cell_type": "markdown",
   "id": "1df2c208",
   "metadata": {},
   "source": [
    "#### Symmetry of transport matrix\n",
    "\n",
    "Only for symmetric matrices the convergence characteristics of Krylov subspace is well-understood and promises fast convergence. Hence, we stick to that case and ensure optically that the light transport matrix $\\mathbf{T}$ is symmetric."
   ]
  },
  {
   "cell_type": "markdown",
   "id": "7f504c30",
   "metadata": {},
   "source": [
    "##### Enforcing symmetry for $\\mathbf{T}$\n",
    "\n",
    "By using a coaxial camera-projector arrangement and equal resolutions for both components, the symmetry of $\\mathbf{T}$ can be guaranteed due to Helmholtz reciprocity (see the following figure)."
   ]
  },
  {
   "cell_type": "code",
   "execution_count": 9,
   "id": "0d2b529d",
   "metadata": {
    "init_cell": true
   },
   "outputs": [
    {
     "data": {
      "application/vnd.jupyter.widget-view+json": {
       "model_id": "ddf21d824a144878b0c1a264c4ad2ca3",
       "version_major": 2,
       "version_minor": 0
      },
      "text/plain": [
       "interactive(children=(IntSlider(value=7, description='i', max=7, min=1), Output()), _dom_classes=('widget-inte…"
      ]
     },
     "metadata": {},
     "output_type": "display_data"
    },
    {
     "data": {
      "text/plain": [
       "<function __main__.<lambda>(i)>"
      ]
     },
     "execution_count": 9,
     "metadata": {},
     "output_type": "execute_result"
    }
   ],
   "source": [
    "interact(lambda i: showFig('figures/4/symmetric_transport_matrix_',i,'.svg',800,50), i=widgets.IntSlider(min=(min_i:=1),max=(max_i:=7), step=1, value=(max_i if book else min_i)))"
   ]
  },
  {
   "cell_type": "markdown",
   "id": "62b1e574",
   "metadata": {},
   "source": [
    "#### Low-rank approximation of $\\mathbf{T}$ via optical Arnoldi\n",
    "\n",
    "In its $k$-th iteration, the Arnoldi method allows to calculate the top $k$ eigenvectors (or singular vectors) of a matrix."
   ]
  },
  {
   "cell_type": "markdown",
   "id": "1650d286",
   "metadata": {},
   "source": [
    "It calculates a sequence of orthogonal vectors $\\mathbf{p}_1, \\ldots, \\mathbf{p}_k$ whose span is an approximation of the span of the top $k$ eigenvectors of the matrix under investigation."
   ]
  },
  {
   "cell_type": "markdown",
   "id": "c0524352",
   "metadata": {},
   "source": [
    "The accuracy of the approximation increases with $k$."
   ]
  },
  {
   "cell_type": "markdown",
   "id": "f983990b",
   "metadata": {},
   "source": [
    "$\\mathbf{Function}\\, \\mathrm{opticalSymmetricArnoldi}(\\mathtt{camera},\\, \\mathtt{projector})$<br><br>\n",
    "$\\quad \\mathbf{p}_1 \\leftarrow \\text{ non-zero random vector}$<br>\n",
    "$\\quad \\mathbf{for}\\, k \\in [1,\\ldots,K]:$<br>\n",
    "$\\qquad \\mathtt{projector}.\\text{project}(\\mathbf{p}^+_k)$<br>\n",
    "$\\qquad \\mathbf{i}^+_k \\leftarrow \\mathtt{camera}.\\text{acquireImage}()$<br>\n",
    "$\\qquad \\mathtt{projector}.\\text{project}(\\mathbf{p}^-_k)$<br>\n",
    "$\\qquad \\mathbf{i}^-_k \\leftarrow \\mathtt{camera}.\\text{acquireImage}()$<br>\n",
    "$\\qquad \\mathbf{i}_k \\leftarrow i^+_k - i^-_k$<br>\n",
    "$\\qquad \\mathbf{p}_{k+1} \\leftarrow \\text{ortho}(\\mathbf{p}_1, \\ldots ,\\mathbf{p}_k,\\mathbf{i}_k)$\n",
    "$\\qquad \\mathbf{p}_{k+1} \\leftarrow \\frac{\\mathbf{p}_{k+1}}{\\left\\| \\mathbf{p}_{k+1} \\right\\|_2 }$<br><br>\n",
    "$\\quad \\textbf{return}\\,  \\left[ \\mathbf{i}_1 \\cdots \\mathbf{i}_{K} \\right] \\left[ \\mathbf{p}_1 \\cdots \\mathbf{p}_K  \\right]\\transp  $"
   ]
  },
  {
   "cell_type": "markdown",
   "id": "1942a293",
   "metadata": {},
   "source": [
    "The function $\\text{ortho}(\\mathbf{p}_1, \\ldots ,\\mathbf{p}_k,\\mathbf{i}_k)$ projects its last argument $\\mathbf{i}_k$ onto the subspace orthogonal to the columns of the matrix $\\mathbf{P} = [\\mathbf{p}_1, \\mathbf{p}_2, \\ldots, \\mathbf{p}_k]$, i.e.,\n",
    "\n",
    "$\\begin{align} \n",
    "  \\text{ortho}(\\mathbf{p}_1, \\ldots ,\\mathbf{p}_k,\\mathbf{i}_k) = \\mathbf{i}_k - \\mathbf{P}\\left( \\mathbf{P}\\transp \\mathbf{P} \\right)^{-1}  \\mathbf{P}\\transp \\mathbf{i}_k\n",
    "\\end{align}$"
   ]
  },
  {
   "cell_type": "markdown",
   "id": "fed87124",
   "metadata": {},
   "source": [
    "The Arnoldi algorithm constructs an orthogonal basis $\\left[ \\mathbf{p}_1 \\cdots \\mathbf{p}_K  \\right]$ for the subspace of illumination vectors and a basis $\\left[ \\mathbf{i}_1 \\cdots \\mathbf{i}_{K} \\right]$ for the subspace of acquired images. The product $\\left[ \\mathbf{i}_1 \\cdots \\mathbf{i}_{K} \\right] \\left[ \\mathbf{p}_1 \\cdots \\mathbf{p}_K  \\right]\\transp$ is a low-rank approximation of $\\mathbf{T}$."
   ]
  },
  {
   "cell_type": "markdown",
   "id": "7c8956d7",
   "metadata": {},
   "source": [
    "In order to synthetically relight the scene with an arbitrary illumination $\\mathbf{p}$, the following expression has to be evaluated:\n",
    "\n",
    "$\\begin{align} \n",
    "   \\mathbf{Tp} \\approx \\left[ \\mathbf{i}_1 \\cdots \\mathbf{i}_{K} \\right] \\left[ \\mathbf{p}_1 \\cdots \\mathbf{p}_K  \\right]\\transp \\mathbf{p} \\,.\n",
    "\\end{align}$"
   ]
  },
  {
   "cell_type": "markdown",
   "id": "fcb8beb6",
   "metadata": {
    "tags": [
     "book_only"
    ]
   },
   "source": [
    "```{note}\n",
    "   If this equation is successively evaluated from right to left, at no time a matrix larger than $K \\times N$ has to be kept in memory.\n",
    "```"
   ]
  },
  {
   "cell_type": "markdown",
   "id": "4af70a0f",
   "metadata": {},
   "source": [
    "#### Optical matrix inversion via GMRES"
   ]
  },
  {
   "cell_type": "markdown",
   "id": "37d671e3",
   "metadata": {},
   "source": [
    "We now assume that we are given a camera image $\\mathbf{i}$ of our scene and want to obtain the illumination $\\mathbf{p}$ that produced it, i.e., we want to find\n",
    "\n",
    "$\\begin{align} \n",
    "   \\mathbf{p} = \\argmin{\\mathbf{x}} \\left\\| \\left[ \\mathbf{i}_1 \\cdots \\mathbf{i}_{K} \\right] \\left[ \\mathbf{p}_1 \\cdots \\mathbf{p}_K  \\right]\\transp \\mathbf{x} - \\mathbf{i} \\right\\|_2 \\,. \n",
    "\\end{align}$"
   ]
  },
  {
   "cell_type": "markdown",
   "id": "2248a1ef",
   "metadata": {},
   "source": [
    "This optimization problem can be solved via the Moore-Penrose pseudoinverse $\\mathbf{T}^\\dagger$ of $\\mathbf{T}$ (in order to account for a potentially singular matrix $\\mathbf{T}$):\n",
    "\n",
    "$\\begin{align} \n",
    "   \\mathbf{p} = \\mathbf{T}^\\dagger \\mathbf{i}\\,.\n",
    "\\end{align}$"
   ]
  },
  {
   "cell_type": "markdown",
   "id": "4861fc96",
   "metadata": {},
   "source": [
    "This solution can also be calculated optically via another popular Krylov subspace method called *generalized minimum residual (GMRES)* that also only relies on computing products with $\\mathbf{T}$ and does not need to access to the complete matrix."
   ]
  },
  {
   "cell_type": "markdown",
   "id": "737d1510",
   "metadata": {},
   "source": [
    "The algorithm differs only slightly from optical Arnoldi, namely\n",
    "* in the initialization vector $\\mathbf{p}_1$, which is always the target image $\\mathbf{i}$ and\n",
    "* in the return value, which is $\\left[ \\mathbf{i}_1 \\cdots \\mathbf{i}_{K} \\right] \\left[ \\mathbf{p}_1 \\cdots \\mathbf{p}_K  \\right]^\\dagger \\mathbf{i}$, i.e., the approximation of the sought illumination vector."
   ]
  },
  {
   "cell_type": "markdown",
   "id": "b5bf7a9e",
   "metadata": {},
   "source": [
    "$\\mathbf{Function}\\, \\mathrm{opticalSymmetricGMRES}(\\mathtt{camera},\\, \\mathtt{projector}, \\mathbf{i})$<br><br>\n",
    "$\\quad \\mathbf{p}_1 \\leftarrow \\mathbf{i}$<br>\n",
    "$\\quad \\mathbf{for}\\, k \\in [1,\\ldots,K]:$<br>\n",
    "$\\qquad \\mathtt{projector}.\\text{project}(\\mathbf{p}^+_k)$<br>\n",
    "$\\qquad \\mathbf{i}^+_k \\leftarrow \\mathtt{camera}.\\text{acquireImage}()$<br>\n",
    "$\\qquad \\mathtt{projector}.\\text{project}(\\mathbf{p}^-_k)$<br>\n",
    "$\\qquad \\mathbf{i}^-_k \\leftarrow \\mathtt{camera}.\\text{acquireImage}()$<br>\n",
    "$\\qquad \\mathbf{i}_k \\leftarrow i^+_k - i^-_k$<br>\n",
    "$\\qquad \\mathbf{p}_{k+1} \\leftarrow \\text{ortho}(\\mathbf{p}_1, \\ldots ,\\mathbf{p}_k,\\mathbf{i}_k)$\n",
    "$\\qquad \\mathbf{p}_{k+1} \\leftarrow \\frac{\\mathbf{p}_{k+1}}{\\left\\| \\mathbf{p}_{k+1} \\right\\|_2 }$<br><br>\n",
    "$\\quad \\textbf{return}\\,  \\left[ \\mathbf{i}_1 \\cdots \\mathbf{i}_{K} \\right] \\left[ \\mathbf{p}_1 \\cdots \\mathbf{p}_K  \\right]^\\dagger \\mathbf{i}  $"
   ]
  },
  {
   "cell_type": "markdown",
   "id": "33e3622e",
   "metadata": {},
   "source": [
    "Intuitively, GMRES calculates a rank-$K$ approximation of $\\mathbf{T}$ and calculates its pseudoinverse to solve for $\\mathbf{p}$. The initialization of $\\mathbf{p}_1$ with $\\mathbf{i}$ helps to explore only a portion of $\\mathbf{T}$'s row space that is suitable for the inversion with respect to $\\mathbf{i}$."
   ]
  },
  {
   "cell_type": "markdown",
   "id": "921170c0",
   "metadata": {},
   "source": [
    "##### Example experiments\n",
    "\n",
    "<img src=\"figures/4/result_GMRES.svg\" style=\"max-width:30vw\">"
   ]
  },
  {
   "cell_type": "markdown",
   "id": "009418e7",
   "metadata": {},
   "source": [
    "## Primal-Dual coding for optical probing"
   ]
  },
  {
   "cell_type": "markdown",
   "id": "f9fea6bd",
   "metadata": {},
   "source": [
    "*Optical probing* can be seen as the optical implementation of *matrix probing*, a topic of numerical mathematics dealing with the efficient estimation of special regions of interest of very large matrices (like $\\mathbf{T}$), e.g., its trace or diagonal."
   ]
  },
  {
   "cell_type": "markdown",
   "id": "75bedc79",
   "metadata": {},
   "source": [
    "Optical probing allows to obtain certain latent images of the scene which are normally hidden in the global light transport."
   ]
  },
  {
   "cell_type": "markdown",
   "id": "05226826",
   "metadata": {},
   "source": [
    "For example, it is possible to obtain images corresponding to either (approximately) only direct or (approximately) only indirect light transport. Such images can reveal interesting insights about the observed scene (e.g., the structure of the blood vessels under the skin)."
   ]
  },
  {
   "cell_type": "markdown",
   "id": "ee51c097",
   "metadata": {},
   "source": [
    "Optical probing can be mathematically modelled as\n",
    "\n",
    "$\\begin{align} \n",
    "   \\mathbf{i} = \\left( \\boldsymbol{\\Pi} \\odot \\mathbf{T} \\right) \\mathbf{1} \\,,\n",
    "\\end{align}$\n",
    "\n",
    "with $\\boldsymbol{\\Pi}$ denoting the *probing matrix* and $\\odot$ denoting the element-wise product between two matrices of equal size, $\\mathbf{1}$ denoting a vector of all ones representing a uniform illumination and finally $\\mathbf{i}$ representing the image captured under uniform illumination and for a light transport matrix that is the result of $\\boldsymbol{\\Pi} \\odot \\mathbf{T}$."
   ]
  },
  {
   "cell_type": "markdown",
   "id": "dd6b52a5",
   "metadata": {},
   "source": [
    "Visualization of the probing equation:<br>\n",
    "\n",
    "<img src=\"figures/4/probing_equation.svg\" style=\"max-width:30vw\">"
   ]
  },
  {
   "cell_type": "markdown",
   "id": "fb4d3a1b",
   "metadata": {},
   "source": [
    "In order to be able to manipulate $\\mathbf{T}$ in this way, it is necessary to control two aspects of the image formation process: \n",
    "* the illumination, the so-called *primal domain* via the projected image and\n",
    "* the pixel-wise modulation of the camera's sensor, the so-called *dual domain*."
   ]
  },
  {
   "cell_type": "markdown",
   "id": "20481cf4",
   "metadata": {},
   "source": [
    "Controlling the dual domain means, that certain pixels of the camera can be blocked from receiving light during the acquisition of a single camera image. \n",
    "\n",
    "This can be achieved"
   ]
  },
  {
   "cell_type": "markdown",
   "id": "1cb879b8",
   "metadata": {},
   "source": [
    "* via a so-called spatial light modulator, i.e., a transmission mask (e.g., an LCD panel) whose spatial transmission pattern can be computationally controlled or"
   ]
  },
  {
   "cell_type": "markdown",
   "id": "63229491",
   "metadata": {},
   "source": [
    "* by capturing single images $\\mathbf{i}_k$ for every modulation pattern $k\\in [0,\\ldots, K]$ where the respective pixel values are computationally modulated after the image acquisition and by synthesizing the actual image by calculating a sum over all $\\mathbf{i}_k$."
   ]
  },
  {
   "cell_type": "markdown",
   "id": "b8769f20",
   "metadata": {},
   "source": [
    "Visualization of the optical setup:<br>\n",
    "\n",
    "<img src=\"figures/4/probing_setup.svg\" style=\"max-width:30vw\">"
   ]
  },
  {
   "cell_type": "markdown",
   "id": "866428b7",
   "metadata": {},
   "source": [
    "### Probing the light transport matrix"
   ]
  },
  {
   "cell_type": "markdown",
   "id": "f15e98d3",
   "metadata": {},
   "source": [
    "The only way we can gain information about the light transport (matrix) is by projecting and capturing images."
   ]
  },
  {
   "cell_type": "markdown",
   "id": "86c0cf99",
   "metadata": {},
   "source": [
    "However, this leaves a notable dimensionality gap: \n",
    "* $\\mathbf{T}$ has $I \\times P$ elements, whereas\n",
    "* one image $\\mathbf{i}$ only as $I$ elements."
   ]
  },
  {
   "cell_type": "markdown",
   "id": "b1b4692a",
   "metadata": {},
   "source": [
    "$\\Rightarrow$ Use probing equation to only analyze elements of $\\mathbf{T}$ of interest."
   ]
  },
  {
   "cell_type": "markdown",
   "id": "853bfabe",
   "metadata": {
    "slideshow": {
     "slide_type": "subslide"
    }
   },
   "source": [
    "#### Example probing matrices"
   ]
  },
  {
   "cell_type": "markdown",
   "id": "ac9c946c",
   "metadata": {
    "slideshow": {
     "slide_type": "subslide"
    }
   },
   "source": [
    "<img src=\"figures/4/example_probing_matrix_1.svg\" style=\"max-width:30vw\">\n",
    "\n",
    "Acquisition of a common image for illumination $\\mathbf{p}$."
   ]
  },
  {
   "cell_type": "markdown",
   "id": "373d049d",
   "metadata": {
    "slideshow": {
     "slide_type": "subslide"
    }
   },
   "source": [
    "<img src=\"figures/4/example_probing_matrix_2.svg\" style=\"max-width:30vw\">\n",
    "\n",
    "Same as before but via probing matrix and constant illumination $\\mathbf{1}$."
   ]
  },
  {
   "cell_type": "markdown",
   "id": "4052da88",
   "metadata": {
    "slideshow": {
     "slide_type": "subslide"
    }
   },
   "source": [
    "<img src=\"figures/4/example_probing_matrix_3.svg\" style=\"max-width:30vw\">\n",
    "\n",
    "Acquisition of the diagonal of $\\mathbf{T}$."
   ]
  },
  {
   "cell_type": "markdown",
   "id": "e155bbb0",
   "metadata": {
    "slideshow": {
     "slide_type": "subslide"
    }
   },
   "source": [
    "<img src=\"figures/4/example_probing_matrix_4.svg\" style=\"max-width:30vw\">\n",
    "\n",
    "Acquisition of an off-diagonal of $\\mathbf{T}$."
   ]
  },
  {
   "cell_type": "markdown",
   "id": "24db1910",
   "metadata": {
    "slideshow": {
     "slide_type": "subslide"
    }
   },
   "source": [
    "<img src=\"figures/4/example_probing_matrix_5.svg\" style=\"max-width:30vw\">\n",
    "\n",
    "Acquisition of one specific element of $\\mathbf{T}$ per row."
   ]
  },
  {
   "cell_type": "markdown",
   "id": "d5699aef",
   "metadata": {
    "slideshow": {
     "slide_type": "subslide"
    }
   },
   "source": [
    "<img src=\"figures/4/example_probing_matrix_6.svg\" style=\"max-width:30vw\">\n",
    "\n",
    "Acquisition of a linear combination of two elements (red and blue) of $\\mathbf{T}$ per row."
   ]
  },
  {
   "cell_type": "markdown",
   "id": "ce78a34a",
   "metadata": {
    "slideshow": {
     "slide_type": "subslide"
    }
   },
   "source": [
    "<img src=\"figures/4/example_probing_matrix_7.svg\" style=\"max-width:30vw\">\n",
    "\n",
    "Acquisition of an image for illumination $\\mathbf{p}$ for a transport matrix $\\hat{\\mathbf{T}}=\\mathbf{A}\\odot \\mathbf{T}$."
   ]
  },
  {
   "cell_type": "markdown",
   "id": "d1198317",
   "metadata": {},
   "source": [
    "Each element $(m,n)$ of $\\mathbf{T}$ encodes different optical paths of light that originated from projector pixel $n$ and reach camera pixel $m$."
   ]
  },
  {
   "cell_type": "markdown",
   "id": "f69690fd",
   "metadata": {},
   "source": [
    "<img src=\"figures/4/probing_light_paths.svg\" style=\"max-width:30vw\">"
   ]
  },
  {
   "cell_type": "markdown",
   "id": "16fa0be3",
   "metadata": {},
   "source": [
    "* (a): $\\mathbf{T}[m,n]$: All light paths from projector pixel $n$ to camera pixel $m$.\n",
    "* (b): $\\mathbf{T}[m,m]$, i.e., diagonal of $\\mathbf{T}$: The direct component (red) but maybe also back-scattering (blue) and retro reflections (green).\n",
    "* (c): The distance $\\left| m-n \\right|$ allows to distinguish between short distance and long distance optical paths."
   ]
  },
  {
   "cell_type": "markdown",
   "id": "8626bfce",
   "metadata": {},
   "source": [
    "By adequately probing $\\mathbf{T}$, photos can be acquired, for which certain light paths (e.g., direct, indirect, etc.) have been enhanced, attenuated or even blocked."
   ]
  },
  {
   "cell_type": "markdown",
   "id": "425b4205",
   "metadata": {},
   "source": [
    "##### How to perform the probing?\n",
    "\n",
    "Naive idea: To probe $\\mathbf{T}[m,n]$, illuminate with a single projector pixel $n$ while reading out only camera pixel $m$, repeat for all non-zero elements of the probing matrix $\\boldsymbol{\\Pi}$.\n",
    "\n",
    "$\\Rightarrow$ Very inefficient (in terms of light) and slow!"
   ]
  },
  {
   "cell_type": "markdown",
   "id": "e8c1d92b",
   "metadata": {},
   "source": [
    "#### Optical implementation of matrix probing"
   ]
  },
  {
   "cell_type": "markdown",
   "id": "4fa4b9bc",
   "metadata": {},
   "source": [
    "Decompose $\\boldsymbol{\\Pi}$ into a sum of rank-1 matrices:\n",
    "\n",
    "$\\begin{align} \n",
    "   \\boldsymbol{\\Pi} = \\sum\\limits^K_{k=1} \\mathbf{m}_k \\mathbf{p}^\\intercal_k \\,,\n",
    "\\end{align}$\n",
    "\n",
    "for $K$ vectors $\\mathbf{m}_k, \\mathbf{p}_k$."
   ]
  },
  {
   "cell_type": "markdown",
   "id": "03f63500",
   "metadata": {},
   "source": [
    "With this, we can reformulate the probing equation:\n",
    "\n",
    "$\\begin{align} \n",
    "   \\left( \\boldsymbol{\\Pi} \\odot \\mathbf{T} \\right) \\mathbf{1} &= \\sum\\limits^P_{n=1} \\boldsymbol{\\Pi} [n] \\circ \\mathbf{T}[n] \\\\\n",
    "   &= \\sum\\limits^P_{n=1} \\left( \\sum\\limits^K_{k=1} \\mathbf{m}_k p_k[n] \\right) \\circ \\mathbf{T}[n] \\\\\n",
    "   &= \\sum\\limits^K_{k=1} \\left( \\mathbf{m}_k \\circ \\sum\\limits^P_{n=1} \\mathbf{T}[n]p_k[n] \\right) \\\\\n",
    "   &= \\sum\\limits^K_{k=1} \\mathbf{m}_k \\circ \\mathbf{T}\\mathbf{p}_k \\,,\n",
    "\\end{align}$\n",
    "\n",
    "with $\\circ$ denoting the element-wise product between vectors, $\\mathbf{T}[n]$ denoting the $n$-th column of $\\mathbf{T}$ and $p_k[n]$ denoting the $n$-th element of the vector $\\mathbf{p}_k$, i.e., $p_k[n]$ is a scalar."
   ]
  },
  {
   "cell_type": "markdown",
   "id": "783e24f7",
   "metadata": {},
   "source": [
    "According to this derivation, every decomposition of the probing matrix into a sum of rank-1 matrices can be realized via a sequence of step-wise corresponding illumination patterns $\\mathbf{p}_k$ and sensor modulations $\\mathbf{m}_k$ for $k \\in [1,\\ldots, K]$:\n",
    "\n",
    "$\\begin{align} \n",
    "    \\left( \\boldsymbol{\\Pi} \\odot \\mathbf{T} \\right) \\mathbf{1} = \\sum\\limits^K_{k=1} \\underbrace{\\mathbf{m}_k \\circ \\overbrace{\\mathbf{T}\\mathbf{p}_k}^{\\text{acquired image } \\mathbf{i}_k \\text{ for illumination }\\mathbf{p}_k}}_{\\text{image } \\mathbf{i}_k \\text{ modulated with } \\mathbf{m}_k} \\,.\n",
    "\\end{align}$"
   ]
  },
  {
   "cell_type": "markdown",
   "id": "f15d8b69",
   "metadata": {},
   "source": [
    "This leads to the following algorithm for optical probing of the light transport matrix:\n",
    "\n",
    "$\\mathbf{Function}\\, \\mathrm{opticalMatrixProbing}\\left(\\mathtt{camera},\\, \\mathtt{projector}, \\left\\{ \\mathbf{p}_k, k \\in \\left[ 1,\\ldots, K \\right]  \\right\\}, \\left\\{ \\mathbf{m}_k, k \\in \\left[ 1,\\ldots, K \\right]  \\right\\}  \\right)$<br><br>\n",
    "$\\quad \\mathbf{i}_{\\mathrm{result}} \\leftarrow \\text{ empty image }$<br>\n",
    "$\\quad \\mathbf{for}\\, k \\in [1,\\ldots,K]:$<br>\n",
    "$\\qquad \\mathtt{projector}.\\text{project}(\\mathbf{p}_k)$<br>\n",
    "$\\qquad \\mathbf{i}_k \\leftarrow \\mathtt{camera}.\\text{acquireImage}()$<br>\n",
    "$\\qquad \\mathbf{i}_{\\mathrm{result}} \\leftarrow \\mathbf{i}_\\mathrm{result} +  \\mathbf{m}_k \\circ \\mathbf{i}_k$<br><br>\n",
    "\n",
    "$\\quad \\textbf{return}\\,  \\mathbf{i}_\\mathrm{result}$"
   ]
  },
  {
   "cell_type": "markdown",
   "id": "03d88397",
   "metadata": {},
   "source": [
    "#### Enhancing the direct component\n",
    "\n",
    "For enhancing the direct component, i.e., the diagonal of $\\mathbf{T}$, one can use a sequence of $\\mathbf{p}_k = \\mathbf{m}_k$ drawn from the Bernoulli distribution. The resulting vectors have values of 1 with probability $p$ and $0$ with probability $1-p$. When drawing $K$ vectors, their approximated matrix converges to a probing matrix with $p\\cdot K$ on the diagonal and $p^2 \\cdot K$ everywhere else, i.e., enhancing the diagonal of $\\mathbf{T}$ by a factor of $\\frac{p \\cdot K}{p^2 \\cdot K} = \\frac{1}{p}$."
   ]
  },
  {
   "cell_type": "markdown",
   "id": "f58f1b68",
   "metadata": {},
   "source": [
    "Example approximated probing matrix for enhancing the direct component with size $10 \\times 10$ resulting from the described method for $p=0.125, K=1000$.\n",
    "\n",
    "<img src=\"figures/4/approx_prob_mat_direct_enhanced.svg\" style=\"max-width:30vw\">"
   ]
  },
  {
   "cell_type": "markdown",
   "id": "8de2544a",
   "metadata": {},
   "source": [
    "Example results for enhancing the direct light path components via different values for $p$:\n",
    "\n",
    "<img src=\"figures/4/example_direct_enhanced.svg\" style=\"max-width:30vw\">"
   ]
  },
  {
   "cell_type": "markdown",
   "id": "67778600",
   "metadata": {},
   "source": [
    "#### Attenuation of local scattering \n",
    "\n",
    "When light from a projector pixel $n$ is locally scattered by small structures, e.g., by dust particles, it will most likely not contribute to the camera pixel $n$, which corresponds to direct light transport, but to a nearby camera pixel $m$, i.e., with $\\vert m - n \\vert = 1$."
   ]
  },
  {
   "cell_type": "markdown",
   "id": "463cf761",
   "metadata": {},
   "source": [
    "Such light transport phenomena are encoded by the first off-diagonal of $\\mathbf{T}$."
   ]
  },
  {
   "cell_type": "markdown",
   "id": "b6dc4707",
   "metadata": {},
   "source": [
    "In order to attenuate local scattering effects, first an image $\\mathbf{i}_2$ is acquired, where these effects are enhanced. This image can then be subtracted from an image $\\mathbf{i}_1$ with enhanced direct light transport (previous example) to obtain the final image $\\mathbf{i}_3 = \\mathbf{i}_1 - \\mathbf{i}_2$."
   ]
  },
  {
   "cell_type": "markdown",
   "id": "be9f453f",
   "metadata": {},
   "source": [
    "To approximate the probing matrix for acquiring the off-diagonal of $\\mathbf{T}$, the previously mentioned Bernoulli sequence can be used for $\\mathbf{m}_k$ and the illumination vectors have to be shifted by $w$ for probing the $w$-th off-diagonal: \n",
    "\n",
    "$\\begin{align} \n",
    "   \\mathbf{p}_k := \\text{shift}(\\mathbf{m}_k, w)\\,.\n",
    "\\end{align}$\n",
    "\n",
    "The operation $\\text{shift}(\\mathbf{m}_k, w)$ denotes a circular shift of the vector $\\mathbf{m}_k$ by $w$, i.e.,\n",
    "\n",
    "$\\begin{align} \n",
    "   \\text{shift}(\\mathbf{x}, w) &= \\text{shift}\\left( (x_1, x_2, \\ldots, x_N)\\transp , w \\right) \\\\ &= (x_{N-(w-1) \\text{ mod }N}, x_{N-(w-2) \\text{ mod }N}, \\ldots, x_{N-(w-N) \\text{ mod }N})\\transp \\,.\n",
    "\\end{align}$"
   ]
  },
  {
   "cell_type": "markdown",
   "id": "fd68a7d2",
   "metadata": {},
   "source": [
    "Example:<br>\n",
    "Imaging a test chart in turbid media (milky water) as an example scene for strong local scattering effects."
   ]
  },
  {
   "cell_type": "markdown",
   "id": "737dee6a",
   "metadata": {},
   "source": [
    "Without compensation:\n",
    "\n",
    "<img src=\"figures/4/example_descattering_conventional.svg\" style=\"max-width:30vw\">"
   ]
  },
  {
   "cell_type": "markdown",
   "id": "9cb1579c",
   "metadata": {},
   "source": [
    "Results for attenuation of local scattering effects:\n",
    "\n",
    "<img src=\"figures/4/example_descattering.svg\" style=\"max-width:30vw\">"
   ]
  },
  {
   "cell_type": "markdown",
   "id": "c5839b04",
   "metadata": {},
   "source": [
    "Example approximation of a $10 \\times 10$ probing matrix (same parameters as before, i.e., $p=0.125, K=1000$) for enhancing the first off-diagonal:\n",
    "\n",
    "<img src=\"figures/4/approx_prob_mat_offdiag_enhanced.svg\" style=\"max-width:30vw\">"
   ]
  },
  {
   "cell_type": "markdown",
   "id": "79707496",
   "metadata": {},
   "source": [
    "Similar approximation for the probing matrix that would result for the subtraction $\\mathbf{i}_3 = \\mathbf{i}_1 - \\mathbf{i}_2$:\n",
    "\n",
    "<img src=\"figures/4/approx_prob_mat_local_descattering.svg\" style=\"max-width:30vw\">"
   ]
  },
  {
   "cell_type": "markdown",
   "id": "d6ac882f",
   "metadata": {},
   "source": [
    "#### Only indirect light transport\n",
    "\n",
    "To suppress direct light transport, the illumination vectors $\\mathbf{p}_k$ can be drawn from the Bernoulli distribution and the mask patterns can be set as $\\mathbf{m}_k := \\mathbf{1} - \\mathbf{p}_k$."
   ]
  },
  {
   "cell_type": "markdown",
   "id": "ebf35c32",
   "metadata": {},
   "source": [
    "The resulting approximated matrix will have $0$ on its diagonal and an expected value of $p(1-p)\\cdot K$ everywhere else."
   ]
  },
  {
   "cell_type": "markdown",
   "id": "e09d9f2b",
   "metadata": {},
   "source": [
    "Example approximated probing matrix for suppressing the direct component with size $10 \\times 10$ resulting from the described method for $p=0.1, K=1000$.\n",
    "\n",
    "<img src=\"figures/4/approx_prob_mat_indirect_only.svg\" style=\"max-width:30vw\">"
   ]
  },
  {
   "cell_type": "markdown",
   "id": "05ca7f98",
   "metadata": {},
   "source": [
    "Example results for only indirect light transport imaging and for enhancing the direct component via subtraction of the indirect only-image from an image acquired under constant illumination:"
   ]
  },
  {
   "cell_type": "markdown",
   "id": "f138d4c2",
   "metadata": {},
   "source": [
    "<img src=\"figures/4/example_indirect_etc_1.svg\" style=\"max-width:30vw\">"
   ]
  },
  {
   "cell_type": "markdown",
   "id": "daa138e8",
   "metadata": {},
   "source": [
    "<img src=\"figures/4/example_indirect_etc_2.svg\" style=\"max-width:30vw\">"
   ]
  }
 ],
 "metadata": {
  "jupytext": {
   "formats": "ipynb,md:myst",
   "text_representation": {
    "extension": ".md",
    "format_name": "myst",
    "format_version": 0.13,
    "jupytext_version": "1.14.1"
   }
  },
  "kernelspec": {
   "display_name": "compimg",
   "language": "python",
   "name": "compimg"
  },
  "language_info": {
   "codemirror_mode": {
    "name": "ipython",
    "version": 3
   },
   "file_extension": ".py",
   "mimetype": "text/x-python",
   "name": "python",
   "nbconvert_exporter": "python",
   "pygments_lexer": "ipython3",
   "version": "3.8.10"
  },
  "source_map": [
   15,
   34,
   55,
   62,
   74,
   86,
   100,
   115,
   129,
   133,
   152,
   156,
   161,
   165,
   169,
   179,
   183,
   187,
   195,
   199,
   203,
   207,
   211,
   215,
   219,
   224,
   233,
   239,
   245,
   249,
   253,
   257,
   261,
   268,
   272,
   276,
   280,
   284,
   292,
   296,
   302,
   314,
   320,
   324,
   334,
   338,
   342,
   350,
   360,
   364,
   376,
   380,
   391,
   403,
   407,
   413,
   417,
   421,
   425,
   433,
   441,
   447,
   456,
   460,
   466,
   472,
   476,
   482,
   486,
   490,
   504,
   512,
   516,
   524,
   530,
   534,
   542,
   550,
   554,
   560,
   574,
   578,
   584,
   588,
   592,
   596,
   600,
   610,
   616,
   622,
   628,
   632,
   636,
   642,
   646,
   650,
   656,
   660,
   664,
   670,
   676,
   682,
   688,
   694,
   700,
   706,
   710,
   714,
   720,
   724,
   732,
   736,
   746,
   759,
   767,
   780,
   786,
   792,
   798,
   804,
   808,
   812,
   826,
   831,
   837,
   843,
   849,
   855,
   861,
   865,
   871,
   875,
   879
  ],
  "widgets": {
   "application/vnd.jupyter.widget-state+json": {
    "state": {
     "2e94b6c1a39d4baeb6d96911907e2bc6": {
      "model_module": "@jupyter-widgets/base",
      "model_module_version": "1.2.0",
      "model_name": "LayoutModel",
      "state": {
       "_model_module": "@jupyter-widgets/base",
       "_model_module_version": "1.2.0",
       "_model_name": "LayoutModel",
       "_view_count": null,
       "_view_module": "@jupyter-widgets/base",
       "_view_module_version": "1.2.0",
       "_view_name": "LayoutView",
       "align_content": null,
       "align_items": null,
       "align_self": null,
       "border": null,
       "bottom": null,
       "display": null,
       "flex": null,
       "flex_flow": null,
       "grid_area": null,
       "grid_auto_columns": null,
       "grid_auto_flow": null,
       "grid_auto_rows": null,
       "grid_column": null,
       "grid_gap": null,
       "grid_row": null,
       "grid_template_areas": null,
       "grid_template_columns": null,
       "grid_template_rows": null,
       "height": null,
       "justify_content": null,
       "justify_items": null,
       "left": null,
       "margin": null,
       "max_height": null,
       "max_width": null,
       "min_height": null,
       "min_width": null,
       "object_fit": null,
       "object_position": null,
       "order": null,
       "overflow": null,
       "overflow_x": null,
       "overflow_y": null,
       "padding": null,
       "right": null,
       "top": null,
       "visibility": null,
       "width": null
      }
     },
     "3e1219e8032a46e6aa40c086c95b3b83": {
      "model_module": "@jupyter-widgets/controls",
      "model_module_version": "1.5.0",
      "model_name": "SliderStyleModel",
      "state": {
       "_model_module": "@jupyter-widgets/controls",
       "_model_module_version": "1.5.0",
       "_model_name": "SliderStyleModel",
       "_view_count": null,
       "_view_module": "@jupyter-widgets/base",
       "_view_module_version": "1.2.0",
       "_view_name": "StyleView",
       "description_width": "",
       "handle_color": null
      }
     },
     "4628d54c23b34823b7fffbda4488b4b5": {
      "model_module": "@jupyter-widgets/output",
      "model_module_version": "1.0.0",
      "model_name": "OutputModel",
      "state": {
       "_dom_classes": [],
       "_model_module": "@jupyter-widgets/output",
       "_model_module_version": "1.0.0",
       "_model_name": "OutputModel",
       "_view_count": null,
       "_view_module": "@jupyter-widgets/output",
       "_view_module_version": "1.0.0",
       "_view_name": "OutputView",
       "layout": "IPY_MODEL_e5fd149fe6394e50a6c7a99ec6b1c2bb",
       "msg_id": "",
       "outputs": [
        {
         "data": {
          "text/html": "<img src=\"figures/4/desk_lightsources_example_5.svg\" style=\"max-height:50vh\"/>",
          "text/plain": "<IPython.core.display.HTML object>"
         },
         "metadata": {},
         "output_type": "display_data"
        }
       ]
      }
     },
     "58684a3c5bb846c08e19f178138db9cc": {
      "model_module": "@jupyter-widgets/controls",
      "model_module_version": "1.5.0",
      "model_name": "VBoxModel",
      "state": {
       "_dom_classes": [
        "widget-interact"
       ],
       "_model_module": "@jupyter-widgets/controls",
       "_model_module_version": "1.5.0",
       "_model_name": "VBoxModel",
       "_view_count": null,
       "_view_module": "@jupyter-widgets/controls",
       "_view_module_version": "1.5.0",
       "_view_name": "VBoxView",
       "box_style": "",
       "children": [
        "IPY_MODEL_9fc67d4823754bbeb2b97949496fd22b",
        "IPY_MODEL_4628d54c23b34823b7fffbda4488b4b5"
       ],
       "layout": "IPY_MODEL_cbe335bb3d3342ac9b6e14fb464a14f7"
      }
     },
     "5b95dd48bcb4463c8cb78f255fe6a0ea": {
      "model_module": "@jupyter-widgets/controls",
      "model_module_version": "1.5.0",
      "model_name": "IntSliderModel",
      "state": {
       "_dom_classes": [],
       "_model_module": "@jupyter-widgets/controls",
       "_model_module_version": "1.5.0",
       "_model_name": "IntSliderModel",
       "_view_count": null,
       "_view_module": "@jupyter-widgets/controls",
       "_view_module_version": "1.5.0",
       "_view_name": "IntSliderView",
       "continuous_update": true,
       "description": "i",
       "description_tooltip": null,
       "disabled": false,
       "layout": "IPY_MODEL_2e94b6c1a39d4baeb6d96911907e2bc6",
       "max": 7,
       "min": 1,
       "orientation": "horizontal",
       "readout": true,
       "readout_format": "d",
       "step": 1,
       "style": "IPY_MODEL_7a7fa36c292f40d690b77397a130e306",
       "value": 7
      }
     },
     "6802f6c37764419e8d86674f5b3d36ca": {
      "model_module": "@jupyter-widgets/base",
      "model_module_version": "1.2.0",
      "model_name": "LayoutModel",
      "state": {
       "_model_module": "@jupyter-widgets/base",
       "_model_module_version": "1.2.0",
       "_model_name": "LayoutModel",
       "_view_count": null,
       "_view_module": "@jupyter-widgets/base",
       "_view_module_version": "1.2.0",
       "_view_name": "LayoutView",
       "align_content": null,
       "align_items": null,
       "align_self": null,
       "border": null,
       "bottom": null,
       "display": null,
       "flex": null,
       "flex_flow": null,
       "grid_area": null,
       "grid_auto_columns": null,
       "grid_auto_flow": null,
       "grid_auto_rows": null,
       "grid_column": null,
       "grid_gap": null,
       "grid_row": null,
       "grid_template_areas": null,
       "grid_template_columns": null,
       "grid_template_rows": null,
       "height": null,
       "justify_content": null,
       "justify_items": null,
       "left": null,
       "margin": null,
       "max_height": null,
       "max_width": null,
       "min_height": null,
       "min_width": null,
       "object_fit": null,
       "object_position": null,
       "order": null,
       "overflow": null,
       "overflow_x": null,
       "overflow_y": null,
       "padding": null,
       "right": null,
       "top": null,
       "visibility": null,
       "width": null
      }
     },
     "7a7fa36c292f40d690b77397a130e306": {
      "model_module": "@jupyter-widgets/controls",
      "model_module_version": "1.5.0",
      "model_name": "SliderStyleModel",
      "state": {
       "_model_module": "@jupyter-widgets/controls",
       "_model_module_version": "1.5.0",
       "_model_name": "SliderStyleModel",
       "_view_count": null,
       "_view_module": "@jupyter-widgets/base",
       "_view_module_version": "1.2.0",
       "_view_name": "StyleView",
       "description_width": "",
       "handle_color": null
      }
     },
     "8a5738cf71944ca8a926cfe15f87119c": {
      "model_module": "@jupyter-widgets/output",
      "model_module_version": "1.0.0",
      "model_name": "OutputModel",
      "state": {
       "_dom_classes": [],
       "_model_module": "@jupyter-widgets/output",
       "_model_module_version": "1.0.0",
       "_model_name": "OutputModel",
       "_view_count": null,
       "_view_module": "@jupyter-widgets/output",
       "_view_module_version": "1.0.0",
       "_view_name": "OutputView",
       "layout": "IPY_MODEL_6802f6c37764419e8d86674f5b3d36ca",
       "msg_id": "",
       "outputs": [
        {
         "data": {
          "text/html": "<img src=\"figures/4/symmetric_transport_matrix_7.svg\" style=\"max-height:50vh\"/>",
          "text/plain": "<IPython.core.display.HTML object>"
         },
         "metadata": {},
         "output_type": "display_data"
        }
       ]
      }
     },
     "9fc67d4823754bbeb2b97949496fd22b": {
      "model_module": "@jupyter-widgets/controls",
      "model_module_version": "1.5.0",
      "model_name": "IntSliderModel",
      "state": {
       "_dom_classes": [],
       "_model_module": "@jupyter-widgets/controls",
       "_model_module_version": "1.5.0",
       "_model_name": "IntSliderModel",
       "_view_count": null,
       "_view_module": "@jupyter-widgets/controls",
       "_view_module_version": "1.5.0",
       "_view_name": "IntSliderView",
       "continuous_update": true,
       "description": "i",
       "description_tooltip": null,
       "disabled": false,
       "layout": "IPY_MODEL_f3eeafe43a8f4d1084fc27a15059c490",
       "max": 5,
       "min": 1,
       "orientation": "horizontal",
       "readout": true,
       "readout_format": "d",
       "step": 1,
       "style": "IPY_MODEL_3e1219e8032a46e6aa40c086c95b3b83",
       "value": 5
      }
     },
     "cbe335bb3d3342ac9b6e14fb464a14f7": {
      "model_module": "@jupyter-widgets/base",
      "model_module_version": "1.2.0",
      "model_name": "LayoutModel",
      "state": {
       "_model_module": "@jupyter-widgets/base",
       "_model_module_version": "1.2.0",
       "_model_name": "LayoutModel",
       "_view_count": null,
       "_view_module": "@jupyter-widgets/base",
       "_view_module_version": "1.2.0",
       "_view_name": "LayoutView",
       "align_content": null,
       "align_items": null,
       "align_self": null,
       "border": null,
       "bottom": null,
       "display": null,
       "flex": null,
       "flex_flow": null,
       "grid_area": null,
       "grid_auto_columns": null,
       "grid_auto_flow": null,
       "grid_auto_rows": null,
       "grid_column": null,
       "grid_gap": null,
       "grid_row": null,
       "grid_template_areas": null,
       "grid_template_columns": null,
       "grid_template_rows": null,
       "height": null,
       "justify_content": null,
       "justify_items": null,
       "left": null,
       "margin": null,
       "max_height": null,
       "max_width": null,
       "min_height": null,
       "min_width": null,
       "object_fit": null,
       "object_position": null,
       "order": null,
       "overflow": null,
       "overflow_x": null,
       "overflow_y": null,
       "padding": null,
       "right": null,
       "top": null,
       "visibility": null,
       "width": null
      }
     },
     "dbc485206a65442fbed638c7fa0bd64b": {
      "model_module": "@jupyter-widgets/base",
      "model_module_version": "1.2.0",
      "model_name": "LayoutModel",
      "state": {
       "_model_module": "@jupyter-widgets/base",
       "_model_module_version": "1.2.0",
       "_model_name": "LayoutModel",
       "_view_count": null,
       "_view_module": "@jupyter-widgets/base",
       "_view_module_version": "1.2.0",
       "_view_name": "LayoutView",
       "align_content": null,
       "align_items": null,
       "align_self": null,
       "border": null,
       "bottom": null,
       "display": null,
       "flex": null,
       "flex_flow": null,
       "grid_area": null,
       "grid_auto_columns": null,
       "grid_auto_flow": null,
       "grid_auto_rows": null,
       "grid_column": null,
       "grid_gap": null,
       "grid_row": null,
       "grid_template_areas": null,
       "grid_template_columns": null,
       "grid_template_rows": null,
       "height": null,
       "justify_content": null,
       "justify_items": null,
       "left": null,
       "margin": null,
       "max_height": null,
       "max_width": null,
       "min_height": null,
       "min_width": null,
       "object_fit": null,
       "object_position": null,
       "order": null,
       "overflow": null,
       "overflow_x": null,
       "overflow_y": null,
       "padding": null,
       "right": null,
       "top": null,
       "visibility": null,
       "width": null
      }
     },
     "ddf21d824a144878b0c1a264c4ad2ca3": {
      "model_module": "@jupyter-widgets/controls",
      "model_module_version": "1.5.0",
      "model_name": "VBoxModel",
      "state": {
       "_dom_classes": [
        "widget-interact"
       ],
       "_model_module": "@jupyter-widgets/controls",
       "_model_module_version": "1.5.0",
       "_model_name": "VBoxModel",
       "_view_count": null,
       "_view_module": "@jupyter-widgets/controls",
       "_view_module_version": "1.5.0",
       "_view_name": "VBoxView",
       "box_style": "",
       "children": [
        "IPY_MODEL_5b95dd48bcb4463c8cb78f255fe6a0ea",
        "IPY_MODEL_8a5738cf71944ca8a926cfe15f87119c"
       ],
       "layout": "IPY_MODEL_dbc485206a65442fbed638c7fa0bd64b"
      }
     },
     "e5fd149fe6394e50a6c7a99ec6b1c2bb": {
      "model_module": "@jupyter-widgets/base",
      "model_module_version": "1.2.0",
      "model_name": "LayoutModel",
      "state": {
       "_model_module": "@jupyter-widgets/base",
       "_model_module_version": "1.2.0",
       "_model_name": "LayoutModel",
       "_view_count": null,
       "_view_module": "@jupyter-widgets/base",
       "_view_module_version": "1.2.0",
       "_view_name": "LayoutView",
       "align_content": null,
       "align_items": null,
       "align_self": null,
       "border": null,
       "bottom": null,
       "display": null,
       "flex": null,
       "flex_flow": null,
       "grid_area": null,
       "grid_auto_columns": null,
       "grid_auto_flow": null,
       "grid_auto_rows": null,
       "grid_column": null,
       "grid_gap": null,
       "grid_row": null,
       "grid_template_areas": null,
       "grid_template_columns": null,
       "grid_template_rows": null,
       "height": null,
       "justify_content": null,
       "justify_items": null,
       "left": null,
       "margin": null,
       "max_height": null,
       "max_width": null,
       "min_height": null,
       "min_width": null,
       "object_fit": null,
       "object_position": null,
       "order": null,
       "overflow": null,
       "overflow_x": null,
       "overflow_y": null,
       "padding": null,
       "right": null,
       "top": null,
       "visibility": null,
       "width": null
      }
     },
     "f3eeafe43a8f4d1084fc27a15059c490": {
      "model_module": "@jupyter-widgets/base",
      "model_module_version": "1.2.0",
      "model_name": "LayoutModel",
      "state": {
       "_model_module": "@jupyter-widgets/base",
       "_model_module_version": "1.2.0",
       "_model_name": "LayoutModel",
       "_view_count": null,
       "_view_module": "@jupyter-widgets/base",
       "_view_module_version": "1.2.0",
       "_view_name": "LayoutView",
       "align_content": null,
       "align_items": null,
       "align_self": null,
       "border": null,
       "bottom": null,
       "display": null,
       "flex": null,
       "flex_flow": null,
       "grid_area": null,
       "grid_auto_columns": null,
       "grid_auto_flow": null,
       "grid_auto_rows": null,
       "grid_column": null,
       "grid_gap": null,
       "grid_row": null,
       "grid_template_areas": null,
       "grid_template_columns": null,
       "grid_template_rows": null,
       "height": null,
       "justify_content": null,
       "justify_items": null,
       "left": null,
       "margin": null,
       "max_height": null,
       "max_width": null,
       "min_height": null,
       "min_width": null,
       "object_fit": null,
       "object_position": null,
       "order": null,
       "overflow": null,
       "overflow_x": null,
       "overflow_y": null,
       "padding": null,
       "right": null,
       "top": null,
       "visibility": null,
       "width": null
      }
     }
    },
    "version_major": 2,
    "version_minor": 0
   }
  }
 },
 "nbformat": 4,
 "nbformat_minor": 5
}