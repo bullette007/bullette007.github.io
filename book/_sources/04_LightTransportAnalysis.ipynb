{
 "cells": [
  {
   "cell_type": "code",
   "execution_count": 1,
   "id": "dba5781a",
   "metadata": {
    "slideshow": {
     "slide_type": "notes"
    }
   },
   "outputs": [],
   "source": [
    "from __future__ import print_function\n",
    "from ipywidgets import interact, interactive, fixed, interact_manual\n",
    "import ipywidgets as widgets\n",
    "import numpy as np\n",
    "import matplotlib.pyplot as plt\n",
    "import cv2\n",
    "import scipy.signal as sig\n",
    "from scipy.integrate import simpson\n",
    "from IPython.display import SVG, display, IFrame, HTML\n",
    "%matplotlib notebook"
   ]
  },
  {
   "cell_type": "markdown",
   "id": "c7e867dc",
   "metadata": {},
   "source": [
    "LaTeX command stochvec:\n",
    "$\\newcommand{stochvec}[1]{\\mathbf{\\tilde{#1}}}$\n",
    "<br>\n",
    "LaTeX command transp:\n",
    "$\\newcommand{transp}{^\\intercal}$"
   ]
  },
  {
   "cell_type": "code",
   "execution_count": 2,
   "id": "76032644",
   "metadata": {
    "slideshow": {
     "slide_type": "notes"
    }
   },
   "outputs": [],
   "source": [
    "def showFig(path,i,ending, width, height):\n",
    "    return IFrame(\"./\" + path+str(i)+ending, width, height)"
   ]
  },
  {
   "cell_type": "code",
   "execution_count": 3,
   "id": "ad8797f5",
   "metadata": {
    "slideshow": {
     "slide_type": "notes"
    }
   },
   "outputs": [],
   "source": [
    "def showFig2(path,i,ending, width, height):\n",
    "    imgToShow = plt.imread(f\"{path}{i}{ending}\")\n",
    "    plt.imshow(imgToShow)"
   ]
  },
  {
   "cell_type": "code",
   "execution_count": 4,
   "id": "98192e8c",
   "metadata": {
    "slideshow": {
     "slide_type": "notes"
    }
   },
   "outputs": [],
   "source": [
    "def showFig(path,i,ending, width, height):\n",
    "    #return SVG(filename = \"./\" + path+str(i)+ending)\n",
    "    display(SVG(filename = \"./\" + path+str(i)+ending))"
   ]
  },
  {
   "cell_type": "code",
   "execution_count": null,
   "id": "111d2fe5",
   "metadata": {
    "slideshow": {
     "slide_type": "notes"
    }
   },
   "outputs": [],
   "source": [
    "def showFig(path,i,ending, width, height):\n",
    "    filename = path+str(i)+ending\n",
    "    return HTML(\"<img src=\\\"\" + filename +  \"\\\"/>\")\n"
   ]
  },
  {
   "cell_type": "code",
   "execution_count": 5,
   "id": "9672d493",
   "metadata": {
    "slideshow": {
     "slide_type": "notes"
    }
   },
   "outputs": [],
   "source": [
    "def imshow(img, cmap=None):\n",
    "    plt.close('all')\n",
    "    plt.figure()\n",
    "    plt.imshow(img, cmap=cmap)\n",
    "    plt.show()"
   ]
  },
  {
   "cell_type": "code",
   "execution_count": 6,
   "id": "48d95211",
   "metadata": {
    "slideshow": {
     "slide_type": "notes"
    }
   },
   "outputs": [],
   "source": [
    "def imshow2(img, cmap=None):\n",
    "    #plt.close('all')\n",
    "    #plt.figure()\n",
    "    plt.clf()\n",
    "    plt.imshow(img, cmap=cmap)\n",
    "    #plt.show()"
   ]
  },
  {
   "cell_type": "code",
   "execution_count": null,
   "id": "a029efec",
   "metadata": {},
   "outputs": [],
   "source": [
    "#interact(lambda i: showFig('figures/2/dftSpectrum_',i,'.svg',800,700), i=widgets.IntSlider(min=1,max=3, step=1, value=1))"
   ]
  },
  {
   "cell_type": "code",
   "execution_count": null,
   "id": "74a0b238",
   "metadata": {},
   "outputs": [],
   "source": [
    "#<img src=\"figures/2/pinholePrinciple.svg\" style=\"width:40vw\">"
   ]
  },
  {
   "cell_type": "code",
   "execution_count": null,
   "id": "04de1cb2",
   "metadata": {
    "slideshow": {
     "slide_type": "fragment"
    }
   },
   "outputs": [],
   "source": [
    "interact(lambda i: showFig2('figures/3/lfSAIs/out_09_',i,'.png',800,1100), i=widgets.IntSlider(min=0,max=16, step=1, value=1))"
   ]
  },
  {
   "cell_type": "markdown",
   "id": "9181503a",
   "metadata": {
    "slideshow": {
     "slide_type": "fragment"
    }
   },
   "source": [
    "<img src=\"figures/3/SchlierenDeflectometer.svg\" style=\"max-height:40vh\">"
   ]
  },
  {
   "cell_type": "markdown",
   "id": "enhanced-photographer",
   "metadata": {
    "slideshow": {
     "slide_type": "notes"
    }
   },
   "source": [
    "# Light Transport Analysis"
   ]
  },
  {
   "cell_type": "markdown",
   "id": "killing-panel",
   "metadata": {
    "slideshow": {
     "slide_type": "slide"
    }
   },
   "source": [
    "<font size=\"7\"> Computational Imaging </font><br><br><br>\n",
    "<font size=\"5\"> Chapter 4: Light Transport Analysis </font>"
   ]
  },
  {
   "attachments": {},
   "cell_type": "markdown",
   "id": "representative-value",
   "metadata": {
    "slideshow": {
     "slide_type": "subslide"
    }
   },
   "source": [
    "##### Content\n",
    "* Introduction into light transport\n",
    "    * The light transport equation\n",
    "    * The light transport matrix\n",
    "* Optical computing for fast light transport \n",
    "    * Optical interpretation of matrix vector products\n",
    "    * Krylov subspace methods (optical power iteration, optical Arnoldi)\n",
    "* Light transport matrix processing for visual inspection\n",
    "    * Light transport matrix feature extraction\n",
    "    * Signal-to-noise ratio based image fusion\n",
    "* Separation of direct and indirect light transport\n",
    "    * Inverse light transport\n",
    "    * Indirect appearance by structured light transport\n",
    "* Compressed sensing for light transport analysis\n",
    "    * Introduction to compressed sensing\n",
    "    * Compressive light transport matrix acquisition"
   ]
  }
 ],
 "metadata": {
  "celltoolbar": "Slideshow",
  "kernelspec": {
   "display_name": "compimg",
   "language": "python",
   "name": "compimg"
  },
  "language_info": {
   "codemirror_mode": {
    "name": "ipython",
    "version": 3
   },
   "file_extension": ".py",
   "mimetype": "text/x-python",
   "name": "python",
   "nbconvert_exporter": "python",
   "pygments_lexer": "ipython3",
   "version": "3.8.10"
  },
  "latex_envs": {
   "LaTeX_envs_menu_present": true,
   "autoclose": true,
   "autocomplete": true,
   "bibliofile": "biblio.bib",
   "cite_by": "apalike",
   "current_citInitial": 1,
   "eqLabelWithNumbers": true,
   "eqNumInitial": 1,
   "hotkeys": {
    "equation": "Ctrl-E",
    "itemize": "Ctrl-I"
   },
   "labels_anchors": false,
   "latex_user_defs": false,
   "report_style_numbering": false,
   "user_envs_cfg": false
  },
  "toc": {
   "base_numbering": "4",
   "nav_menu": {},
   "number_sections": true,
   "sideBar": true,
   "skip_h1_title": false,
   "title_cell": "Table of Contents",
   "title_sidebar": "Contents",
   "toc_cell": false,
   "toc_position": {
    "height": "calc(100% - 180px)",
    "left": "10px",
    "top": "150px",
    "width": "290px"
   },
   "toc_section_display": true,
   "toc_window_display": true
  },
  "toc-autonumbering": true,
  "toc-showcode": true,
  "toc-showmarkdowntxt": true,
  "toc-showtags": false,
  "varInspector": {
   "cols": {
    "lenName": 16,
    "lenType": 16,
    "lenVar": 40
   },
   "kernels_config": {
    "python": {
     "delete_cmd_postfix": "",
     "delete_cmd_prefix": "del ",
     "library": "var_list.py",
     "varRefreshCmd": "print(var_dic_list())"
    },
    "r": {
     "delete_cmd_postfix": ") ",
     "delete_cmd_prefix": "rm(",
     "library": "var_list.r",
     "varRefreshCmd": "cat(var_dic_list()) "
    }
   },
   "position": {
    "height": "294px",
    "left": "1700px",
    "right": "20px",
    "top": "140px",
    "width": "446px"
   },
   "types_to_exclude": [
    "module",
    "function",
    "builtin_function_or_method",
    "instance",
    "_Feature"
   ],
   "window_display": true
  }
 },
 "nbformat": 4,
 "nbformat_minor": 5
}
