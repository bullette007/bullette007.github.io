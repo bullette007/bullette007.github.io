{
 "cells": [
  {
   "cell_type": "code",
   "execution_count": 1,
   "id": "a2b7335e",
   "metadata": {
    "init_cell": true,
    "tags": [
     "remove-cell"
    ]
   },
   "outputs": [
    {
     "data": {
      "application/javascript": [
       "var cells = Jupyter.notebook.get_cells();\n",
       "           for (var i = 0; i < cells.length; i++) {\n",
       "               var cur_cell = cells[i];\n",
       "               var tags = cur_cell._metadata.tags;\n",
       "               console.log(i);\n",
       "               console.log(tags == undefined);\n",
       "               console.log(tags);\n",
       "               if (tags != undefined) {\n",
       "               for (var j = 0; j < tags.length; j++) {\n",
       "                  if (tags[j]==\"book_only\" | tags[j]==\"remove-cell\") {cur_cell.element.hide();}\n",
       "                  if (tags[j]==\"presentation_only\") {cur_cell.element.show();}\n",
       "            }}}\n"
      ],
      "text/plain": [
       "<IPython.core.display.Javascript object>"
      ]
     },
     "metadata": {},
     "output_type": "display_data"
    }
   ],
   "source": [
    "%%js\n",
    "var cells = Jupyter.notebook.get_cells();\n",
    "           for (var i = 0; i < cells.length; i++) {\n",
    "               var cur_cell = cells[i];\n",
    "               var tags = cur_cell._metadata.tags;\n",
    "               console.log(i);\n",
    "               console.log(tags == undefined);\n",
    "               console.log(tags);\n",
    "               if (tags != undefined) {\n",
    "               for (var j = 0; j < tags.length; j++) {\n",
    "                  if (tags[j]==\"book_only\" | tags[j]==\"remove-cell\") {cur_cell.element.hide();}\n",
    "                  if (tags[j]==\"presentation_only\") {cur_cell.element.show();}\n",
    "            }}}"
   ]
  },
  {
   "cell_type": "code",
   "execution_count": 2,
   "id": "8ba8b2c0",
   "metadata": {
    "init_cell": true,
    "slideshow": {
     "slide_type": "notes"
    },
    "tags": [
     "remove-cell"
    ]
   },
   "outputs": [],
   "source": [
    "from __future__ import print_function\n",
    "from ipywidgets import interact, interactive, fixed, interact_manual\n",
    "import ipywidgets as widgets\n",
    "import numpy as np\n",
    "import matplotlib.pyplot as plt\n",
    "import cv2\n",
    "import scipy.signal as sig\n",
    "from scipy.integrate import simpson\n",
    "from IPython.display import SVG, display, IFrame, HTML\n",
    "import seaborn as sns\n",
    "%matplotlib notebook\n",
    "book = False"
   ]
  },
  {
   "cell_type": "code",
   "execution_count": 3,
   "id": "01d98e7f",
   "metadata": {
    "tags": [
     "remove-input",
     "book_only"
    ]
   },
   "outputs": [],
   "source": [
    "%matplotlib inline\n",
    "book = True"
   ]
  },
  {
   "cell_type": "code",
   "execution_count": 4,
   "id": "992ba314",
   "metadata": {
    "init_cell": true,
    "slideshow": {
     "slide_type": "notes"
    },
    "tags": [
     "remove-cell"
    ]
   },
   "outputs": [],
   "source": [
    "def showFig2(path,i,ending, width, height):\n",
    "    imgToShow = plt.imread(f\"{path}{i}{ending}\")\n",
    "    plt.imshow(imgToShow)"
   ]
  },
  {
   "cell_type": "code",
   "execution_count": 5,
   "id": "f8794408",
   "metadata": {
    "init_cell": true,
    "slideshow": {
     "slide_type": "notes"
    },
    "tags": [
     "remove-cell"
    ]
   },
   "outputs": [],
   "source": [
    "def showFig(path,i,ending, width, height):\n",
    "    filename = path+str(i)+ending\n",
    "    return HTML(\"<img src=\\\"\" + filename +  f\"\\\" style=\\\"max-height:{height}vh\\\"/>\")"
   ]
  },
  {
   "cell_type": "code",
   "execution_count": 6,
   "id": "1fd7e2f2",
   "metadata": {
    "init_cell": true,
    "slideshow": {
     "slide_type": "notes"
    },
    "tags": [
     "remove-cell"
    ]
   },
   "outputs": [],
   "source": [
    "def imshow(img, cmap=None):\n",
    "    plt.close('all')\n",
    "    plt.figure()\n",
    "    plt.imshow(img, cmap=cmap)\n",
    "    plt.show()"
   ]
  },
  {
   "cell_type": "code",
   "execution_count": 7,
   "id": "3fdfb251",
   "metadata": {
    "init_cell": true,
    "slideshow": {
     "slide_type": "notes"
    },
    "tags": [
     "remove-cell"
    ]
   },
   "outputs": [],
   "source": [
    "def imshow2(img, cmap=None):\n",
    "    #plt.close('all')\n",
    "    #plt.figure()\n",
    "    plt.clf()\n",
    "    plt.imshow(img, cmap=cmap)\n",
    "    #plt.show()"
   ]
  },
  {
   "cell_type": "markdown",
   "id": "8eaa9d5a",
   "metadata": {
    "slideshow": {
     "slide_type": "slide"
    }
   },
   "source": [
    "$\\begin{align}\n",
    "  \\newcommand{transp}{^\\intercal}\n",
    "  \\newcommand{F}{\\mathcal{F}}\n",
    "  \\newcommand{Fi}{\\mathcal{F}^{-1}}\n",
    "  \\newcommand{inv}{^{-1}}\n",
    "  \\newcommand{stochvec}[1]{\\mathbf{\\tilde{#1}}}\n",
    "  \\newcommand{argmax}[1]{\\underset{#1}{\\mathrm{arg\\, max}}}\n",
    "  \\newcommand{argmin}[1]{\\underset{#1}{\\mathrm{arg\\, min}}}\n",
    "\\end{align}$\n",
    "\n",
    "<font size=\"7\"> Computational Imaging </font><br><br><br>"
   ]
  },
  {
   "cell_type": "markdown",
   "id": "c2992fd4",
   "metadata": {
    "slideshow": {
     "slide_type": "fragment"
    }
   },
   "source": [
    "# Light Transport Analysis"
   ]
  },
  {
   "cell_type": "markdown",
   "id": "1f932bb5",
   "metadata": {
    "slideshow": {
     "slide_type": "subslide"
    }
   },
   "source": [
    "##### Content\n",
    "* Introduction into light transport\n",
    "* Light transport analysis via optical computing\n",
    "* Primal-Dual coding for optical probing"
   ]
  },
  {
   "cell_type": "markdown",
   "id": "ebb1c483",
   "metadata": {
    "slideshow": {
     "slide_type": "slide"
    }
   },
   "source": [
    "## Introduction into light transport"
   ]
  },
  {
   "cell_type": "markdown",
   "id": "35cfeb16",
   "metadata": {},
   "source": [
    "* Light transport = all light travelling in a scene from illumination sources to sensor elements (i.e., pixels).\n",
    "* Can be mathematically described via the so-called *light transport matrix* $\\mathbf{T}$, if the common assumption of linear light transport is made."
   ]
  },
  {
   "cell_type": "markdown",
   "id": "46c8237b",
   "metadata": {
    "slideshow": {
     "slide_type": "fragment"
    }
   },
   "source": [
    "The matrix $\\mathbf{T}$ contains the individual influences of all $P$ light sources to all $I$ sensor elements and hence has dimensions of $\\mathbf{T} \\in \\mathbb{R}^{I\\times P}_+$."
   ]
  },
  {
   "cell_type": "markdown",
   "id": "4a8744f8",
   "metadata": {
    "slideshow": {
     "slide_type": "fragment"
    },
    "tags": [
     "book_only"
    ]
   },
   "source": [
    "The elements of $\\mathbf{T}$ are non-negative as only positive energy or no energy can be transported via light."
   ]
  },
  {
   "cell_type": "markdown",
   "id": "af468677",
   "metadata": {
    "slideshow": {
     "slide_type": "subslide"
    }
   },
   "source": [
    "The *light transport equation* \n",
    "\n",
    "$\\begin{align} \n",
    "   \\mathbf{i} = \\mathbf{T}\\mathbf{p}\n",
    "\\end{align}$\n",
    "\n",
    "describes the formation of the sensor values $\\mathbf{i}$ of the $I$ sensor elements when the scene is illuminated by the $P$ light sources with respective intensities $\\mathbf{p}$."
   ]
  },
  {
   "cell_type": "markdown",
   "id": "eb20b653",
   "metadata": {
    "slideshow": {
     "slide_type": "subslide"
    }
   },
   "source": [
    "For the following content, we will assume illumination of the scene by a projector projecting a two-dimensional image and a two-dimensional gray-value camera serving as the sensor."
   ]
  },
  {
   "cell_type": "markdown",
   "id": "d3127243",
   "metadata": {
    "slideshow": {
     "slide_type": "fragment"
    }
   },
   "source": [
    "In this case, $\\mathbf{i}$ and $\\mathbf{p}$ are the vector representations of the camera image, respectively, of the projected image or pattern."
   ]
  },
  {
   "cell_type": "markdown",
   "id": "8682144a",
   "metadata": {
    "slideshow": {
     "slide_type": "subslide"
    }
   },
   "source": [
    "If the light transport matrix $\\mathbf{T}$ is known, the camera image that would result from the illumination with an arbitrary pattern $\\mathbf{p}$ could be synthetically calculated by just evaluating the light transport equation\n",
    "\n",
    "$\\begin{align} \n",
    "  \\mathbf{i} = \\mathbf{T}\\mathbf{p} \\,.\n",
    "\\end{align}$"
   ]
  },
  {
   "cell_type": "markdown",
   "id": "6bb1656b",
   "metadata": {
    "slideshow": {
     "slide_type": "subslide"
    }
   },
   "source": [
    "##### Example"
   ]
  },
  {
   "cell_type": "code",
   "execution_count": 8,
   "id": "2bbad4c2",
   "metadata": {
    "init_cell": true
   },
   "outputs": [
    {
     "data": {
      "application/vnd.jupyter.widget-view+json": {
       "model_id": "3009e438ca224da7883c33a5ba51507e",
       "version_major": 2,
       "version_minor": 0
      },
      "text/plain": [
       "interactive(children=(IntSlider(value=5, description='i', max=5, min=1), Output()), _dom_classes=('widget-inte…"
      ]
     },
     "metadata": {},
     "output_type": "display_data"
    },
    {
     "data": {
      "text/plain": [
       "<function __main__.<lambda>(i)>"
      ]
     },
     "execution_count": 8,
     "metadata": {},
     "output_type": "execute_result"
    }
   ],
   "source": [
    "interact(lambda i: showFig('figures/4/desk_lightsources_example_',i,'.svg',800,50), i=widgets.IntSlider(min=(min_i:=1),max=(max_i:=5), step=1, value=(max_i if book else min_i)))"
   ]
  },
  {
   "cell_type": "markdown",
   "id": "dca281ed",
   "metadata": {},
   "source": [
    "(All images in this chapter are kindly provided by Matthew O'Toole)."
   ]
  },
  {
   "cell_type": "markdown",
   "id": "945d2a1b",
   "metadata": {
    "slideshow": {
     "slide_type": "subslide"
    }
   },
   "source": [
    "In this sense, the element $T[m,n]$ of $\\mathbf{T}$ encodes the contribution of light source (i.e., projector pixel) $n$ to camera pixel $m$."
   ]
  },
  {
   "cell_type": "markdown",
   "id": "bd1f7f45",
   "metadata": {
    "slideshow": {
     "slide_type": "fragment"
    }
   },
   "source": [
    "Unfortunately, the matrix $\\mathbf{T}$ is too large to measure and handle digitally for many practically relevant applications."
   ]
  },
  {
   "cell_type": "markdown",
   "id": "23330fc1",
   "metadata": {
    "slideshow": {
     "slide_type": "subslide"
    }
   },
   "source": [
    "##### Example"
   ]
  },
  {
   "cell_type": "markdown",
   "id": "5f45db99",
   "metadata": {},
   "source": [
    "Example light transport matrix for a single row (highlighted in (a)) of image and projector pixels. Further highlighted are the image position corresponding to camera pixel $m$ and the position corresponding to projector pixel $n$:<br>\n",
    "<img src=\"figures/4/example_transport_matrix.svg\" style=\"max-width:30vw\">"
   ]
  },
  {
   "cell_type": "markdown",
   "id": "fa243c8c",
   "metadata": {
    "slideshow": {
     "slide_type": "subslide"
    }
   },
   "source": [
    "### Practical limitations \n",
    "\n",
    "Consider a pair of a camera and a projector both having a (comparatively low) resolution of 1 mega pixels, then the resulting light transport matrix would have $10^{12}$ elements. \n",
    "\n",
    "* With an acquisition rate of $30$ Hz, acquiring the required $10^6$ measurements would need over 9 hours of time.\n",
    "* For a quantization of 8 bit per pixel for the camera images, $\\mathbf{T}$ would require about one terabyte of storage."
   ]
  },
  {
   "cell_type": "markdown",
   "id": "28e8e889",
   "metadata": {
    "slideshow": {
     "slide_type": "subslide"
    }
   },
   "source": [
    "### Optical linear algebra\n",
    "\n",
    "To overcome the mentioned limitations, we will study approaches to perform linear algebra calculations involving $\\mathbf{T}$ only in the optical domain, i.e., without ever capturing the single elements of $\\mathbf{T}$."
   ]
  },
  {
   "cell_type": "markdown",
   "id": "c3935dd8",
   "metadata": {
    "slideshow": {
     "slide_type": "subslide"
    }
   },
   "source": [
    "### Light paths\n",
    "\n",
    "We again assume that all geometric structures involved in our imaging system are significantly larger than the wavelength of the employed light, so that the model of geometric optics, i.e., of light propagating along rays, is valid."
   ]
  },
  {
   "cell_type": "markdown",
   "id": "0c1e94a5",
   "metadata": {},
   "source": [
    "While travelling through the scene, light rays can be refracted, reflected, scattered, etc. until they either hit one of the camera's pixels or get absorbed or exit the scene."
   ]
  },
  {
   "cell_type": "markdown",
   "id": "60d985bc",
   "metadata": {
    "slideshow": {
     "slide_type": "fragment"
    }
   },
   "source": [
    "We denote a sequence of such light rays which connect a light source (i.e., a projector pixel) and a camera pixel as a *light path*."
   ]
  },
  {
   "cell_type": "markdown",
   "id": "81c147c0",
   "metadata": {
    "slideshow": {
     "slide_type": "fragment"
    }
   },
   "source": [
    "Light paths can be categorized into *direct* and *indirect* paths."
   ]
  },
  {
   "cell_type": "markdown",
   "id": "65e9e28e",
   "metadata": {
    "slideshow": {
     "slide_type": "subslide"
    }
   },
   "source": [
    "<img src=\"figures/4/light_path_categories.png\" style=\"max-width:30vw\">"
   ]
  },
  {
   "cell_type": "markdown",
   "id": "2a4a5389",
   "metadata": {
    "slideshow": {
     "slide_type": "fragment"
    }
   },
   "source": [
    "* **Black ray - direct paths**: From projector pixel to camera pixel via single scene point interaction.\n",
    "* **Indirect paths**: Interaction with multiple scene points:\n",
    "    * **Red rays - diffuse indirect paths**: Diffusely scatter at two or more diffuse points.\n",
    "    * **Green rays - sepcular indirect paths**: Diffusely scatter at most once."
   ]
  },
  {
   "cell_type": "markdown",
   "id": "1bfdaefd",
   "metadata": {
    "slideshow": {
     "slide_type": "subslide"
    }
   },
   "source": [
    "Important: Since the area of a camera pixel is not infinitely small, it usually receives both, rays from direct and indirect light paths."
   ]
  },
  {
   "cell_type": "markdown",
   "id": "88405297",
   "metadata": {
    "slideshow": {
     "slide_type": "subslide"
    }
   },
   "source": [
    "The image captured with the camera can be imagined as a superposition of multiple latent images, all corresponding to different kinds of light paths."
   ]
  },
  {
   "cell_type": "markdown",
   "id": "20ef997c",
   "metadata": {
    "slideshow": {
     "slide_type": "fragment"
    }
   },
   "source": [
    "The reconstruction of these latent images is one major goal of light transport analysis."
   ]
  },
  {
   "cell_type": "markdown",
   "id": "262be372",
   "metadata": {
    "slideshow": {
     "slide_type": "fragment"
    }
   },
   "source": [
    "They often reveal interesting properties of the scene."
   ]
  },
  {
   "cell_type": "markdown",
   "id": "a8686777",
   "metadata": {
    "slideshow": {
     "slide_type": "subslide"
    }
   },
   "source": [
    "### Teaser\n",
    "\n",
    "We will see, how we\n",
    "\n",
    "* can synthetically relight a scene, i.e., synthesize the image that would result when illuminating it with arbitrary illumination patterns (see previous example images),"
   ]
  },
  {
   "cell_type": "markdown",
   "id": "cf2c453d",
   "metadata": {
    "slideshow": {
     "slide_type": "fragment"
    }
   },
   "source": [
    "* can manipulate the image of a projector in order to compensate disturbing structures on the screen surface,"
   ]
  },
  {
   "cell_type": "markdown",
   "id": "a52c8f8c",
   "metadata": {
    "slideshow": {
     "slide_type": "fragment"
    }
   },
   "source": [
    "* can separate direct an indirect light transport to obtain images dominated only by the respective optical effects."
   ]
  },
  {
   "cell_type": "markdown",
   "id": "53038449",
   "metadata": {
    "slideshow": {
     "slide_type": "subslide"
    }
   },
   "source": [
    "##### Example\n",
    "\n",
    "<img src=\"figures/4/Example_Separation_Direct_Indirect.svg\" style=\"max-width:30vw\">"
   ]
  },
  {
   "cell_type": "markdown",
   "id": "17bc6609",
   "metadata": {
    "slideshow": {
     "slide_type": "subslide"
    }
   },
   "source": [
    "### Entries of the light transport matrix\n",
    "\n",
    "Each entry of $\\mathbf{T}[m,n]$ describes the ratio of radiant energy that is transmitted from light source $n$ to sensor element $m$ via all optical paths that somehow connect source $n$ and sensor element $m$:\n",
    "\n",
    "$\\begin{align} \n",
    "   T[m,n] = \\int\\limits_{\\Omega_{m,n}} f(x) \\mathrm{d} \\mu (x)\\,,\n",
    "\\end{align}$\n",
    "\n",
    "with $\\Omega_{m,n}$ denoting the support, i.e., the space of light paths between source $n$ and sensor element $m$, the scattering throughput function $f(x)$ encoding the radiant energy transported along a light path $x$ and $\\mu (x)$ representing the corresponding measure."
   ]
  },
  {
   "cell_type": "markdown",
   "id": "c84f7c74",
   "metadata": {
    "slideshow": {
     "slide_type": "subslide"
    }
   },
   "source": [
    "#### Helmholtz reciprocity principle\n",
    "\n",
    "For many practically relevant scenes, the scattering throughput can be assumed to obey the *Helmholtz reciprocity principle*, according to which the value of $f(x)$ for a light path $x$ does not depend on the propagation direction of the light rays of $x$ (i.e., interchanging projector pixel $n$ with camera pixel $m$ would result in the same value for $T[m,n]$)."
   ]
  },
  {
   "cell_type": "markdown",
   "id": "d43bc9cf",
   "metadata": {
    "slideshow": {
     "slide_type": "slide"
    }
   },
   "source": [
    "## Light transport analysis via optical computing"
   ]
  },
  {
   "cell_type": "markdown",
   "id": "1735c89e",
   "metadata": {
    "slideshow": {
     "slide_type": "subslide"
    }
   },
   "source": [
    "When illuminating the scene with an illumination vector $\\mathbf{p}$, capturing a camera image yields\n",
    "\n",
    "$\\begin{align} \n",
    "   \\mathbf{i} = \\mathbf{T}\\mathbf{p} \\,,\n",
    "\\end{align}$\n",
    "\n",
    "i.e., the matrix multiplication $\\mathbf{Tp}$ has been performed in the optical domain."
   ]
  },
  {
   "cell_type": "markdown",
   "id": "7ba57e1d",
   "metadata": {
    "slideshow": {
     "slide_type": "fragment"
    }
   },
   "source": [
    "This is the only possible way to interact with $\\mathbf{T}$ in order to get information about it, i.e., via multiplying $\\mathbf{T}$ with some vector $\\mathbf{p}$ and observing the result $\\mathbf{i}$."
   ]
  },
  {
   "cell_type": "markdown",
   "id": "a56bb12f",
   "metadata": {
    "slideshow": {
     "slide_type": "fragment"
    }
   },
   "source": [
    "Luckily, dealing with very large matrices like $\\mathbf{T}$ only via matrix multiplication as stated before, represents a well-studied problem in the field of linear algebra."
   ]
  },
  {
   "cell_type": "markdown",
   "id": "2925c8b8",
   "metadata": {
    "slideshow": {
     "slide_type": "fragment"
    }
   },
   "source": [
    "Especially the set of so-called *Krylov subspace methods* is suitable for our case, which is why we will study some of these approaches in the following."
   ]
  },
  {
   "cell_type": "markdown",
   "id": "ab0bb261",
   "metadata": {
    "slideshow": {
     "slide_type": "subslide"
    }
   },
   "source": [
    "### Optical power iteration\n",
    "\n",
    "We will first study a simple method to obtain the eigenvector $\\mathbf{v}_1$ of $\\mathbf{T}$ that corresponds to its largest eigenvalue $\\lambda_1$. For this purpose, we will transform a method called *power iteration* into the optical domain."
   ]
  },
  {
   "cell_type": "markdown",
   "id": "a543c17c",
   "metadata": {
    "slideshow": {
     "slide_type": "subslide"
    }
   },
   "source": [
    "The vector $\\mathbf{v}$ is called the eigenvector of a square matrix $\\mathbf{T}$ if \n",
    "\n",
    "$\\begin{align} \n",
    "   \\mathbf{Tv} = \\lambda \\mathbf{v} \\,,\n",
    "\\end{align}$\n",
    "\n",
    "with the so-called scalar eigenvalue $\\lambda$."
   ]
  },
  {
   "cell_type": "markdown",
   "id": "d46cfc1a",
   "metadata": {
    "slideshow": {
     "slide_type": "fragment"
    }
   },
   "source": [
    "The eigenvector $\\mathbf{v}_1$ that corresponds to the eigenvalue $\\lambda_1$ with the highest absolute value is called the *principal eigenvector*."
   ]
  },
  {
   "cell_type": "markdown",
   "id": "3c8a7671",
   "metadata": {
    "slideshow": {
     "slide_type": "subslide"
    }
   },
   "source": [
    "#### Power iteration\n",
    "\n",
    "Power iteration is a simple numerical algorithm for calculating the principal eigenvector of a square matrix $\\mathbf{T}$. It exploits the fact the sequence \n",
    "\n",
    "$\\begin{align} \n",
    "   \\mathbf{p}, \\mathbf{Tp}, \\mathbf{T}^2\\mathbf{p}, \\mathbf{T}^3\\mathbf{p}, \\ldots \n",
    "\\end{align}$\n",
    "\n",
    "converges to the principal eigenvector $\\mathbf{v}_1$ of $\\mathbf{T}$ for any initial vector $\\mathbf{p}$, that is not orthogonal to $\\mathbf{v}_1$."
   ]
  },
  {
   "cell_type": "markdown",
   "id": "2ce14be0",
   "metadata": {
    "slideshow": {
     "slide_type": "subslide"
    }
   },
   "source": [
    "#### Implementation"
   ]
  },
  {
   "cell_type": "markdown",
   "id": "f77e2346",
   "metadata": {
    "cell_style": "split"
   },
   "source": [
    "The typical implementation looks like:\n",
    "\n",
    "$\\mathbf{Function}\\, \\mathrm{powerIteration}(\\mathbf{T})$<br><br>\n",
    "$\\quad \\mathbf{p}_1 \\leftarrow \\text{ random vector}$<br>\n",
    "$\\quad \\mathbf{for}\\, k \\in [1,\\ldots,K]:$<br><br>\n",
    "$\\qquad \\mathbf{i}_k \\leftarrow \\mathbf{Tp}_k$<br>\n",
    "$\\qquad \\mathbf{p}_{k+1} \\leftarrow \\frac{\\mathbf{i}_k}{\\left\\| \\mathbf{i}_k \\right\\|_2 }$<br><br>\n",
    "$\\quad \\textbf{return}\\,  \\mathbf{p}_{k+1}$"
   ]
  },
  {
   "cell_type": "markdown",
   "id": "df5a3f7d",
   "metadata": {
    "cell_style": "split",
    "slideshow": {
     "slide_type": "fragment"
    }
   },
   "source": [
    "The optical counterpart is given by:\n",
    "\n",
    "$\\mathbf{Function}\\, \\mathrm{opticalPowerIteration}(\\mathtt{camera},\\, \\mathtt{projector})$<br><br>\n",
    "$\\quad \\mathbf{p}_1 \\leftarrow \\text{ random vector}$<br>\n",
    "$\\quad \\mathbf{for}\\, k \\in [1,\\ldots,K]:$<br>\n",
    "$\\qquad \\mathtt{projector}.\\text{project}(\\mathbf{p}_k)$<br>\n",
    "$\\qquad \\mathbf{i}_k \\leftarrow \\mathtt{camera}.\\text{acquireImage}()$<br>\n",
    "$\\qquad \\mathbf{p}_{k+1} \\leftarrow \\frac{\\mathbf{i}_k}{\\left\\| \\mathbf{i}_k \\right\\|_2 }$<br><br>\n",
    "$\\quad \\textbf{return}\\,  \\mathbf{p}_{k+1}$"
   ]
  },
  {
   "cell_type": "markdown",
   "id": "d2cead39",
   "metadata": {
    "slideshow": {
     "slide_type": "fragment"
    }
   },
   "source": [
    "Note that all elements of $\\mathbf{p}$ have to be non-negative so that they can be projected onto the scene."
   ]
  },
  {
   "cell_type": "markdown",
   "id": "3a6046ab",
   "metadata": {
    "slideshow": {
     "slide_type": "subslide"
    }
   },
   "source": [
    "Some intermediate steps of an example optical power iteration application:\n",
    "\n",
    "<img src=\"figures/4/powerIteration_example.svg\" style=\"max-width:30vw\">"
   ]
  },
  {
   "cell_type": "markdown",
   "id": "af509d3e",
   "metadata": {
    "slideshow": {
     "slide_type": "subslide"
    }
   },
   "source": [
    "#### Limitations"
   ]
  },
  {
   "cell_type": "markdown",
   "id": "930146f9",
   "metadata": {},
   "source": [
    "* Power iteration can only be applied to square matrices (i.e., for same sizes of projected images and captured images)."
   ]
  },
  {
   "cell_type": "markdown",
   "id": "bc48d890",
   "metadata": {
    "slideshow": {
     "slide_type": "fragment"
    }
   },
   "source": [
    "* The convergence behavior of power iteration strongly depends on properties of $\\mathbf{T}$, especially on the similarity of the top two eigenvalues."
   ]
  },
  {
   "cell_type": "markdown",
   "id": "c949348a",
   "metadata": {
    "slideshow": {
     "slide_type": "subslide"
    }
   },
   "source": [
    "### Krylov subspace methods\n",
    "\n",
    "Krylov subspace methods represent a powerful family of algorithms for analyzing large sparse matrices $\\mathbf{T}$ whose shape can be square or rectangular. All they need is to perform multiplications with $\\mathbf{T}$ and sometimes with its transpose $\\mathbf{T}\\transp$.\n",
    "<br>\n",
    "Before we introduce the actual algorithms, we cover some prerequisites."
   ]
  },
  {
   "cell_type": "markdown",
   "id": "34d30fe7",
   "metadata": {
    "slideshow": {
     "slide_type": "fragment"
    }
   },
   "source": [
    "The Krylov subspace of dimension $k$ is the span of vectors produced after $k$ steps via power iteration, i.e.:\n",
    "\n",
    "$\\begin{align} \n",
    "   \\left( \\mathbf{p}_1 , \\mathbf{p}_2 = \\mathbf{Tp}, \\mathbf{p}_3 = \\mathbf{T}^2 \\mathbf{p}_1 , \\ldots , \\mathbf{p}_{k+1} = \\mathbf{T}^k \\mathbf{p}_1 \\right) \\,.\n",
    "\\end{align}$"
   ]
  },
  {
   "cell_type": "markdown",
   "id": "2ba34008",
   "metadata": {
    "slideshow": {
     "slide_type": "subslide"
    }
   },
   "source": [
    "#### Optical matrix-vector multiplication for arbitrary vectors \n",
    "\n",
    "Krylov subspace methods require to compute products with $\\mathbf{T}$ for arbitrary vectors $\\mathbf{p}$, which may also contain negative values."
   ]
  },
  {
   "cell_type": "markdown",
   "id": "804b0139",
   "metadata": {
    "slideshow": {
     "slide_type": "fragment"
    }
   },
   "source": [
    "For this purpose, we express $\\mathbf{p}$ as the difference between two non-negative vectors $\\mathbf{p}^+$ and $\\mathbf{p}^-$:\n",
    "\n",
    "$\\begin{align} \n",
    "   \\mathbf{p} &= \\mathbf{p}^+ - \\mathbf{p}^- \\\\\n",
    "   \\mathbf{Tp} &= \\mathbf{Tp}^+ - \\mathbf{Tp}^- \\,.\n",
    "\\end{align}$"
   ]
  },
  {
   "cell_type": "markdown",
   "id": "2c306643",
   "metadata": {
    "slideshow": {
     "slide_type": "fragment"
    }
   },
   "source": [
    "As a result, we have to project and capture two images to achieve an optical realization of these kinds of matrix-vector multiplications."
   ]
  },
  {
   "cell_type": "markdown",
   "id": "3a97d91d",
   "metadata": {
    "slideshow": {
     "slide_type": "subslide"
    }
   },
   "source": [
    "#### Symmetry of transport matrix\n",
    "\n",
    "Only for symmetric matrices the convergence characteristics of Krylov subspace are well-understood and promise fast convergence. Hence, we stick to that case and ensure optically that the light transport matrix $\\mathbf{T}$ is symmetric.\n",
    "\n",
    "However, by using two camera-projector systems, two unsymmetric transport matrices can be combined into one symmetric light transport matrix (not covered here)."
   ]
  },
  {
   "cell_type": "markdown",
   "id": "c6d33547",
   "metadata": {
    "slideshow": {
     "slide_type": "subslide"
    }
   },
   "source": [
    "##### Enforcing symmetry for $\\mathbf{T}$\n",
    "\n",
    "By using a coaxial camera-projector arrangement and equal resolutions for both components, the symmetry of $\\mathbf{T}$ can be guaranteed due to Helmholtz reciprocity (see the following figure)."
   ]
  },
  {
   "cell_type": "code",
   "execution_count": 9,
   "id": "e9db879f",
   "metadata": {
    "init_cell": true
   },
   "outputs": [
    {
     "data": {
      "application/vnd.jupyter.widget-view+json": {
       "model_id": "fd5e64e19be64c08ba148ddade8b908f",
       "version_major": 2,
       "version_minor": 0
      },
      "text/plain": [
       "interactive(children=(IntSlider(value=7, description='i', max=7, min=1), Output()), _dom_classes=('widget-inte…"
      ]
     },
     "metadata": {},
     "output_type": "display_data"
    },
    {
     "data": {
      "text/plain": [
       "<function __main__.<lambda>(i)>"
      ]
     },
     "execution_count": 9,
     "metadata": {},
     "output_type": "execute_result"
    }
   ],
   "source": [
    "interact(lambda i: showFig('figures/4/symmetric_transport_matrix_',i,'.svg',800,50), i=widgets.IntSlider(min=(min_i:=1),max=(max_i:=7), step=1, value=(max_i if book else min_i)))"
   ]
  },
  {
   "cell_type": "markdown",
   "id": "9f486677",
   "metadata": {
    "slideshow": {
     "slide_type": "subslide"
    }
   },
   "source": [
    "#### Low-rank approximation of $\\mathbf{T}$ via optical Arnoldi\n",
    "\n",
    "In its $k$-th iteration, the Arnoldi method allows to calculate the top $k$ eigenvectors (or singular vectors) of a matrix."
   ]
  },
  {
   "cell_type": "markdown",
   "id": "7d9ddffd",
   "metadata": {
    "slideshow": {
     "slide_type": "fragment"
    }
   },
   "source": [
    "It calculates a sequence of orthogonal vectors $\\mathbf{p}_1, \\ldots, \\mathbf{p}_k$ whose span is an approximation of the span of the top $k$ eigenvectors of the matrix under investigation."
   ]
  },
  {
   "cell_type": "markdown",
   "id": "518ff5fa",
   "metadata": {
    "slideshow": {
     "slide_type": "fragment"
    }
   },
   "source": [
    "The accuracy of the approximation increases with $k$."
   ]
  },
  {
   "cell_type": "markdown",
   "id": "28953dae",
   "metadata": {
    "slideshow": {
     "slide_type": "subslide"
    }
   },
   "source": [
    "$\\mathbf{Function}\\, \\mathrm{opticalSymmetricArnoldi}(\\mathtt{camera},\\, \\mathtt{projector})$<br><br>\n",
    "$\\quad \\mathbf{p}_1 \\leftarrow \\text{ non-zero random vector}$<br>\n",
    "$\\quad \\mathbf{for}\\, k \\in [1,\\ldots,K]:$<br>\n",
    "$\\qquad \\mathtt{projector}.\\text{project}(\\mathbf{p}^+_k)$<br>\n",
    "$\\qquad \\mathbf{i}^+_k \\leftarrow \\mathtt{camera}.\\text{acquireImage}()$<br>\n",
    "$\\qquad \\mathtt{projector}.\\text{project}(\\mathbf{p}^-_k)$<br>\n",
    "$\\qquad \\mathbf{i}^-_k \\leftarrow \\mathtt{camera}.\\text{acquireImage}()$<br>\n",
    "$\\qquad \\mathbf{i}_k \\leftarrow i^+_k - i^-_k$<br>\n",
    "$\\qquad \\mathbf{p}_{k+1} \\leftarrow \\text{ortho}(\\mathbf{p}_1, \\ldots ,\\mathbf{p}_k,\\mathbf{i}_k)$<br>\n",
    "$\\qquad \\mathbf{p}_{k+1} \\leftarrow \\frac{\\mathbf{p}_{k+1}}{\\left\\| \\mathbf{p}_{k+1} \\right\\|_2 }$<br><br>\n",
    "$\\quad \\textbf{return}\\,  \\left[ \\mathbf{i}_1 \\cdots \\mathbf{i}_{K} \\right] \\left[ \\mathbf{p}_1 \\cdots \\mathbf{p}_K  \\right]\\transp  $"
   ]
  },
  {
   "cell_type": "markdown",
   "id": "96a408ca",
   "metadata": {
    "slideshow": {
     "slide_type": "subslide"
    }
   },
   "source": [
    "The function $\\text{ortho}(\\mathbf{p}_1, \\ldots ,\\mathbf{p}_k,\\mathbf{i}_k)$ projects its last argument $\\mathbf{i}_k$ onto the subspace orthogonal to the columns of the matrix $\\mathbf{P} = [\\mathbf{p}_1, \\mathbf{p}_2, \\ldots, \\mathbf{p}_k]$, i.e.,\n",
    "\n",
    "$\\begin{align} \n",
    "  \\text{ortho}(\\mathbf{p}_1, \\ldots ,\\mathbf{p}_k,\\mathbf{i}_k) = \\mathbf{i}_k - \\mathbf{P}\\left( \\mathbf{P}\\transp \\mathbf{P} \\right)^{-1}  \\mathbf{P}\\transp \\mathbf{i}_k\n",
    "\\end{align}$"
   ]
  },
  {
   "cell_type": "markdown",
   "id": "8abef910",
   "metadata": {
    "slideshow": {
     "slide_type": "subslide"
    }
   },
   "source": [
    "The Arnoldi algorithm constructs an orthogonal basis $\\left[ \\mathbf{p}_1 \\cdots \\mathbf{p}_K  \\right]$ for the subspace of illumination vectors and a basis $\\left[ \\mathbf{i}_1 \\cdots \\mathbf{i}_{K} \\right]$ for the subspace of acquired images. The product $\\left[ \\mathbf{i}_1 \\cdots \\mathbf{i}_{K} \\right] \\left[ \\mathbf{p}_1 \\cdots \\mathbf{p}_K  \\right]\\transp$ is a low-rank approximation of $\\mathbf{T}$."
   ]
  },
  {
   "cell_type": "markdown",
   "id": "ed28b727",
   "metadata": {
    "slideshow": {
     "slide_type": "fragment"
    }
   },
   "source": [
    "In order to synthetically relight the scene with an arbitrary illumination $\\mathbf{p}$, the following expression has to be evaluated:\n",
    "\n",
    "$\\begin{align} \n",
    "   \\mathbf{Tp} \\approx \\left[ \\mathbf{i}_1 \\cdots \\mathbf{i}_{K} \\right] \\left[ \\mathbf{p}_1 \\cdots \\mathbf{p}_K  \\right]\\transp \\mathbf{p} \\,.\n",
    "\\end{align}$"
   ]
  },
  {
   "cell_type": "markdown",
   "id": "cfd4808a",
   "metadata": {
    "tags": [
     "book_only"
    ]
   },
   "source": [
    "```{note}\n",
    "   If this equation is successively evaluated from right to left, at no time a matrix larger than $K \\times N$ has to be kept in memory.\n",
    "```"
   ]
  },
  {
   "cell_type": "markdown",
   "id": "f001b1c4",
   "metadata": {
    "slideshow": {
     "slide_type": "subslide"
    }
   },
   "source": [
    "#### Optical matrix inversion via GMRES"
   ]
  },
  {
   "cell_type": "markdown",
   "id": "8bc533b3",
   "metadata": {},
   "source": [
    "We now assume that we are given a camera image $\\mathbf{i}$ of our scene and want to obtain the illumination $\\mathbf{p}$ that produced it, i.e., we want to find\n",
    "\n",
    "$\\begin{align} \n",
    "   \\mathbf{p} = \\argmin{\\mathbf{x}} \\left\\| \\left[ \\mathbf{i}_1 \\cdots \\mathbf{i}_{K} \\right] \\left[ \\mathbf{p}_1 \\cdots \\mathbf{p}_K  \\right]\\transp \\mathbf{x} - \\mathbf{i} \\right\\|_2 \\,. \n",
    "\\end{align}$"
   ]
  },
  {
   "cell_type": "markdown",
   "id": "06ae0fe9",
   "metadata": {
    "slideshow": {
     "slide_type": "fragment"
    }
   },
   "source": [
    "This optimization problem can be solved via the Moore-Penrose pseudoinverse $\\mathbf{T}^\\dagger$ of $\\mathbf{T}$ (in order to account for a potentially singular matrix $\\mathbf{T}$):\n",
    "\n",
    "$\\begin{align} \n",
    "   \\mathbf{p} = \\mathbf{T}^\\dagger \\mathbf{i}\\,.\n",
    "\\end{align}$"
   ]
  },
  {
   "cell_type": "markdown",
   "id": "416c40d6",
   "metadata": {
    "slideshow": {
     "slide_type": "subslide"
    }
   },
   "source": [
    "This solution can also be calculated optically via another popular Krylov subspace method called *generalized minimum residual (GMRES)* that also only relies on computing products with $\\mathbf{T}$ and does not need to access to the complete matrix."
   ]
  },
  {
   "cell_type": "markdown",
   "id": "d99be5ec",
   "metadata": {
    "slideshow": {
     "slide_type": "fragment"
    }
   },
   "source": [
    "The algorithm differs only slightly from optical Arnoldi, namely\n",
    "* in the initialization vector $\\mathbf{p}_1$, which is always the target image $\\mathbf{i}$ and\n",
    "* in the return value, which is $\\left[ \\mathbf{i}_1 \\cdots \\mathbf{i}_{K} \\right] \\left[ \\mathbf{p}_1 \\cdots \\mathbf{p}_K  \\right]^\\dagger \\mathbf{i}$, i.e., the approximation of the sought illumination vector."
   ]
  },
  {
   "cell_type": "markdown",
   "id": "9cfe5461",
   "metadata": {
    "slideshow": {
     "slide_type": "subslide"
    }
   },
   "source": [
    "$\\mathbf{Function}\\, \\mathrm{opticalSymmetricGMRES}(\\mathtt{camera},\\, \\mathtt{projector}, \\mathbf{i})$<br><br>\n",
    "$\\quad \\mathbf{p}_1 \\leftarrow \\mathbf{i}$<br>\n",
    "$\\quad \\mathbf{for}\\, k \\in [1,\\ldots,K]:$<br>\n",
    "$\\qquad \\mathtt{projector}.\\text{project}(\\mathbf{p}^+_k)$<br>\n",
    "$\\qquad \\mathbf{i}^+_k \\leftarrow \\mathtt{camera}.\\text{acquireImage}()$<br>\n",
    "$\\qquad \\mathtt{projector}.\\text{project}(\\mathbf{p}^-_k)$<br>\n",
    "$\\qquad \\mathbf{i}^-_k \\leftarrow \\mathtt{camera}.\\text{acquireImage}()$<br>\n",
    "$\\qquad \\mathbf{i}_k \\leftarrow i^+_k - i^-_k$<br>\n",
    "$\\qquad \\mathbf{p}_{k+1} \\leftarrow \\text{ortho}(\\mathbf{p}_1, \\ldots ,\\mathbf{p}_k,\\mathbf{i}_k)$<br>\n",
    "$\\qquad \\mathbf{p}_{k+1} \\leftarrow \\frac{\\mathbf{p}_{k+1}}{\\left\\| \\mathbf{p}_{k+1} \\right\\|_2 }$<br><br>\n",
    "$\\quad \\textbf{return}\\,  \\left[ \\mathbf{i}_1 \\cdots \\mathbf{i}_{K} \\right] \\left[ \\mathbf{p}_1 \\cdots \\mathbf{p}_K  \\right]^\\dagger \\mathbf{i}  $"
   ]
  },
  {
   "cell_type": "markdown",
   "id": "cc2fdf1b",
   "metadata": {
    "slideshow": {
     "slide_type": "subslide"
    }
   },
   "source": [
    "Intuitively, GMRES calculates a rank-$K$ approximation of $\\mathbf{T}$ and calculates its pseudoinverse to solve for $\\mathbf{p}$. The initialization of $\\mathbf{p}_1$ with $\\mathbf{i}$ helps to explore only a portion of $\\mathbf{T}$'s row space that is suitable for the inversion with respect to $\\mathbf{i}$."
   ]
  },
  {
   "cell_type": "markdown",
   "id": "54080c48",
   "metadata": {
    "slideshow": {
     "slide_type": "subslide"
    }
   },
   "source": [
    "##### Example experiments\n",
    "\n",
    "<img src=\"figures/4/result_GMRES.svg\" style=\"max-width:30vw\">"
   ]
  },
  {
   "cell_type": "markdown",
   "id": "29b63b99",
   "metadata": {
    "slideshow": {
     "slide_type": "slide"
    }
   },
   "source": [
    "## Primal-Dual coding for optical probing"
   ]
  },
  {
   "cell_type": "markdown",
   "id": "873b15a3",
   "metadata": {},
   "source": [
    "*Optical probing* can be seen as the optical implementation of *matrix probing*, a topic of numerical mathematics dealing with the efficient estimation of special regions of interest of very large matrices (like $\\mathbf{T}$), e.g., its trace or diagonal."
   ]
  },
  {
   "cell_type": "markdown",
   "id": "deb650a7",
   "metadata": {
    "slideshow": {
     "slide_type": "subslide"
    }
   },
   "source": [
    "Optical probing allows to obtain certain latent images of the scene which are normally hidden in the global light transport."
   ]
  },
  {
   "cell_type": "markdown",
   "id": "15d50842",
   "metadata": {
    "slideshow": {
     "slide_type": "fragment"
    }
   },
   "source": [
    "For example, it is possible to obtain images corresponding to either (approximately) only direct or (approximately) only indirect light transport. Such images can reveal interesting insights about the observed scene (e.g., the structure of the blood vessels under the skin)."
   ]
  },
  {
   "cell_type": "markdown",
   "id": "314dea2e",
   "metadata": {
    "slideshow": {
     "slide_type": "subslide"
    }
   },
   "source": [
    "Optical probing can be mathematically modelled as\n",
    "\n",
    "$\\begin{align} \n",
    "   \\mathbf{i} = \\left( \\boldsymbol{\\Pi} \\odot \\mathbf{T} \\right) \\mathbf{1} \\,,\n",
    "\\end{align}$\n",
    "\n",
    "with $\\boldsymbol{\\Pi}$ denoting the *probing matrix* and $\\odot$ denoting the element-wise product between two matrices of equal size, $\\mathbf{1}$ denoting a vector of all ones representing a uniform illumination and finally $\\mathbf{i}$ representing the image captured under uniform illumination and for a light transport matrix that is the result of $\\boldsymbol{\\Pi} \\odot \\mathbf{T}$."
   ]
  },
  {
   "cell_type": "markdown",
   "id": "0e321dd7",
   "metadata": {
    "slideshow": {
     "slide_type": "subslide"
    }
   },
   "source": [
    "Visualization of the probing equation:<br>\n",
    "\n",
    "<img src=\"figures/4/probing_equation.svg\" style=\"max-width:30vw\">"
   ]
  },
  {
   "cell_type": "markdown",
   "id": "138b4587",
   "metadata": {
    "slideshow": {
     "slide_type": "subslide"
    }
   },
   "source": [
    "In order to be able to manipulate $\\mathbf{T}$ in this way, it is necessary to control two aspects of the image formation process: \n",
    "* the illumination, the so-called *primal domain* via the projected image and\n",
    "* the pixel-wise modulation of the camera's sensor, the so-called *dual domain*."
   ]
  },
  {
   "cell_type": "markdown",
   "id": "65a2cdce",
   "metadata": {
    "slideshow": {
     "slide_type": "subslide"
    }
   },
   "source": [
    "Controlling the dual domain means, that certain pixels of the camera can be blocked from receiving light during the acquisition of a single camera image. \n",
    "\n",
    "This can be achieved"
   ]
  },
  {
   "cell_type": "markdown",
   "id": "f877a31d",
   "metadata": {
    "slideshow": {
     "slide_type": "fragment"
    }
   },
   "source": [
    "* via a so-called spatial light modulator, i.e., a transmission mask (e.g., an LCD panel) whose spatial transmission pattern can be computationally controlled or"
   ]
  },
  {
   "cell_type": "markdown",
   "id": "8ad3a88c",
   "metadata": {
    "slideshow": {
     "slide_type": "fragment"
    }
   },
   "source": [
    "* by capturing single images $\\mathbf{i}_k$ for every modulation pattern $k\\in [0,\\ldots, K]$ where the respective pixel values are computationally modulated after the image acquisition and by synthesizing the actual image by calculating a sum over all $\\mathbf{i}_k$."
   ]
  },
  {
   "cell_type": "markdown",
   "id": "d923ced1",
   "metadata": {
    "slideshow": {
     "slide_type": "subslide"
    }
   },
   "source": [
    "Visualization of the optical setup:<br>\n",
    "\n",
    "<img src=\"figures/4/probing_setup.svg\" style=\"max-width:30vw\">"
   ]
  },
  {
   "cell_type": "markdown",
   "id": "e2c1452c",
   "metadata": {
    "slideshow": {
     "slide_type": "subslide"
    }
   },
   "source": [
    "### Probing the light transport matrix"
   ]
  },
  {
   "cell_type": "markdown",
   "id": "fef0c1bc",
   "metadata": {},
   "source": [
    "The only way we can gain information about the light transport (matrix) is by projecting and capturing images."
   ]
  },
  {
   "cell_type": "markdown",
   "id": "f3fde93d",
   "metadata": {
    "slideshow": {
     "slide_type": "fragment"
    }
   },
   "source": [
    "However, this leaves a notable dimensionality gap: \n",
    "* $\\mathbf{T}$ has $I \\times P$ elements, whereas\n",
    "* one image $\\mathbf{i}$ only as $I$ elements."
   ]
  },
  {
   "cell_type": "markdown",
   "id": "c4364651",
   "metadata": {
    "slideshow": {
     "slide_type": "fragment"
    }
   },
   "source": [
    "$\\Rightarrow$ Use probing equation to only analyze elements of $\\mathbf{T}$ of interest."
   ]
  },
  {
   "cell_type": "markdown",
   "id": "dead7786",
   "metadata": {
    "slideshow": {
     "slide_type": "subslide"
    }
   },
   "source": [
    "#### Example probing matrices"
   ]
  },
  {
   "cell_type": "markdown",
   "id": "efd8e2a6",
   "metadata": {
    "slideshow": {
     "slide_type": "subslide"
    }
   },
   "source": [
    "<img src=\"figures/4/example_probing_matrix_1.svg\" style=\"max-width:30vw\">\n",
    "\n",
    "Acquisition of a common image for illumination $\\mathbf{p}$."
   ]
  },
  {
   "cell_type": "markdown",
   "id": "ee99c6be",
   "metadata": {
    "slideshow": {
     "slide_type": "subslide"
    }
   },
   "source": [
    "<img src=\"figures/4/example_probing_matrix_2.svg\" style=\"max-width:30vw\">\n",
    "\n",
    "Same as before but via probing matrix and constant illumination $\\mathbf{1}$."
   ]
  },
  {
   "cell_type": "markdown",
   "id": "6d60d607",
   "metadata": {
    "slideshow": {
     "slide_type": "subslide"
    }
   },
   "source": [
    "<img src=\"figures/4/example_probing_matrix_3.svg\" style=\"max-width:30vw\">\n",
    "\n",
    "Acquisition of the diagonal of $\\mathbf{T}$."
   ]
  },
  {
   "cell_type": "markdown",
   "id": "f89ec047",
   "metadata": {
    "slideshow": {
     "slide_type": "subslide"
    }
   },
   "source": [
    "<img src=\"figures/4/example_probing_matrix_4.svg\" style=\"max-width:30vw\">\n",
    "\n",
    "Acquisition of an off-diagonal of $\\mathbf{T}$."
   ]
  },
  {
   "cell_type": "markdown",
   "id": "bb8c74fd",
   "metadata": {
    "slideshow": {
     "slide_type": "subslide"
    }
   },
   "source": [
    "<img src=\"figures/4/example_probing_matrix_5.svg\" style=\"max-width:30vw\">\n",
    "\n",
    "Acquisition of one specific element of $\\mathbf{T}$ per row."
   ]
  },
  {
   "cell_type": "markdown",
   "id": "35f63cbe",
   "metadata": {
    "slideshow": {
     "slide_type": "subslide"
    }
   },
   "source": [
    "<img src=\"figures/4/example_probing_matrix_6.svg\" style=\"max-width:30vw\">\n",
    "\n",
    "Acquisition of a linear combination of two elements (red and blue) of $\\mathbf{T}$ per row."
   ]
  },
  {
   "cell_type": "markdown",
   "id": "c90bf181",
   "metadata": {
    "slideshow": {
     "slide_type": "subslide"
    }
   },
   "source": [
    "<img src=\"figures/4/example_probing_matrix_7.svg\" style=\"max-width:30vw\">\n",
    "\n",
    "Acquisition of an image for illumination $\\mathbf{p}$ for a transport matrix $\\hat{\\mathbf{T}}=\\mathbf{A}\\odot \\mathbf{T}$."
   ]
  },
  {
   "cell_type": "markdown",
   "id": "dc2969ca",
   "metadata": {
    "slideshow": {
     "slide_type": "subslide"
    }
   },
   "source": [
    "Each element $(m,n)$ of $\\mathbf{T}$ encodes different optical paths of light that originated from projector pixel $n$ and reach camera pixel $m$."
   ]
  },
  {
   "cell_type": "markdown",
   "id": "480b9aa8",
   "metadata": {},
   "source": [
    "<img src=\"figures/4/probing_light_paths.svg\" style=\"max-height:40vh\">"
   ]
  },
  {
   "cell_type": "markdown",
   "id": "9850db03",
   "metadata": {},
   "source": [
    "* (a): $\\mathbf{T}[m,n]$: All light paths from projector pixel $n$ to camera pixel $m$.\n",
    "* (b): $\\mathbf{T}[m,m]$, i.e., diagonal of $\\mathbf{T}$: The direct component (red) but maybe also back-scattering (blue) and retro reflections (green).\n",
    "* (c): The distance $\\left| m-n \\right|$ allows to distinguish between short distance and long distance optical paths."
   ]
  },
  {
   "cell_type": "markdown",
   "id": "85c4ecb1",
   "metadata": {
    "slideshow": {
     "slide_type": "subslide"
    }
   },
   "source": [
    "By adequately probing $\\mathbf{T}$, photos can be acquired, for which certain light paths (e.g., direct, indirect, etc.) have been enhanced, attenuated or even blocked."
   ]
  },
  {
   "cell_type": "markdown",
   "id": "e0a69161",
   "metadata": {
    "slideshow": {
     "slide_type": "subslide"
    }
   },
   "source": [
    "##### How to perform the probing?\n",
    "\n",
    "Naive idea: To probe $\\mathbf{T}[m,n]$, illuminate with a single projector pixel $n$ while reading out only camera pixel $m$, repeat for all non-zero elements of the probing matrix $\\boldsymbol{\\Pi}$.\n",
    "\n",
    "$\\Rightarrow$ Very inefficient (in terms of light) and slow!"
   ]
  },
  {
   "cell_type": "markdown",
   "id": "dc7e42f7",
   "metadata": {
    "slideshow": {
     "slide_type": "subslide"
    }
   },
   "source": [
    "#### Optical implementation of matrix probing"
   ]
  },
  {
   "cell_type": "markdown",
   "id": "ff4c10b0",
   "metadata": {},
   "source": [
    "Decompose $\\boldsymbol{\\Pi}$ into a sum of rank-1 matrices:\n",
    "\n",
    "$\\begin{align} \n",
    "   \\boldsymbol{\\Pi} = \\sum\\limits^K_{k=1} \\mathbf{m}_k \\mathbf{p}^\\intercal_k \\,,\n",
    "\\end{align}$\n",
    "\n",
    "for $K$ vectors $\\mathbf{m}_k, \\mathbf{p}_k$."
   ]
  },
  {
   "cell_type": "markdown",
   "id": "4fd534d8",
   "metadata": {
    "slideshow": {
     "slide_type": "subslide"
    }
   },
   "source": [
    "With this, we can reformulate the probing equation:\n",
    "\n",
    "$\\begin{align} \n",
    "   \\left( \\boldsymbol{\\Pi} \\odot \\mathbf{T} \\right) \\mathbf{1} &= \\sum\\limits^P_{n=1} \\boldsymbol{\\Pi} [n] \\circ \\mathbf{T}[n] \\\\\n",
    "   &= \\sum\\limits^P_{n=1} \\left( \\sum\\limits^K_{k=1} \\mathbf{m}_k p_k[n] \\right) \\circ \\mathbf{T}[n] \\\\\n",
    "   &= \\sum\\limits^K_{k=1} \\left( \\mathbf{m}_k \\circ \\sum\\limits^P_{n=1} \\mathbf{T}[n]p_k[n] \\right) \\\\\n",
    "   &= \\sum\\limits^K_{k=1} \\mathbf{m}_k \\circ \\mathbf{T}\\mathbf{p}_k \\,,\n",
    "\\end{align}$\n",
    "\n",
    "with $\\circ$ denoting the element-wise product between vectors, $\\mathbf{T}[n]$ denoting the $n$-th column of $\\mathbf{T}$ and $p_k[n]$ denoting the $n$-th element of the vector $\\mathbf{p}_k$, i.e., $p_k[n]$ is a scalar."
   ]
  },
  {
   "cell_type": "markdown",
   "id": "6af465c5",
   "metadata": {
    "slideshow": {
     "slide_type": "subslide"
    }
   },
   "source": [
    "According to this derivation, every decomposition of the probing matrix into a sum of rank-1 matrices can be realized via a sequence of step-wise corresponding illumination patterns $\\mathbf{p}_k$ and sensor modulations $\\mathbf{m}_k$ for $k \\in [1,\\ldots, K]$:\n",
    "\n",
    "$\\begin{align} \n",
    "    \\left( \\boldsymbol{\\Pi} \\odot \\mathbf{T} \\right) \\mathbf{1} = \\sum\\limits^K_{k=1} \\underbrace{\\mathbf{m}_k \\circ \\overbrace{\\mathbf{T}\\mathbf{p}_k}^{\\text{acquired image } \\mathbf{i}_k \\text{ for illumination }\\mathbf{p}_k}}_{\\text{image } \\mathbf{i}_k \\text{ modulated with } \\mathbf{m}_k} \\,.\n",
    "\\end{align}$"
   ]
  },
  {
   "cell_type": "markdown",
   "id": "45a262e6",
   "metadata": {
    "slideshow": {
     "slide_type": "subslide"
    }
   },
   "source": [
    "This leads to the following algorithm for optical probing of the light transport matrix:\n",
    "\n",
    "$\\mathbf{Function}\\, \\mathrm{opticalMatrixProbing}\\left(\\mathtt{camera},\\, \\mathtt{projector}, \\left\\{ \\mathbf{p}_k, k \\in \\left[ 1,\\ldots, K \\right]  \\right\\}, \\left\\{ \\mathbf{m}_k, k \\in \\left[ 1,\\ldots, K \\right]  \\right\\}  \\right)$<br><br>\n",
    "$\\quad \\mathbf{i}_{\\mathrm{result}} \\leftarrow \\text{ empty image }$<br>\n",
    "$\\quad \\mathbf{for}\\, k \\in [1,\\ldots,K]:$<br>\n",
    "$\\qquad \\mathtt{projector}.\\text{project}(\\mathbf{p}_k)$<br>\n",
    "$\\qquad \\mathbf{i}_k \\leftarrow \\mathtt{camera}.\\text{acquireImage}()$<br>\n",
    "$\\qquad \\mathbf{i}_{\\mathrm{result}} \\leftarrow \\mathbf{i}_\\mathrm{result} +  \\mathbf{m}_k \\circ \\mathbf{i}_k$<br><br>\n",
    "\n",
    "$\\quad \\textbf{return}\\,  \\mathbf{i}_\\mathrm{result}$"
   ]
  },
  {
   "cell_type": "markdown",
   "id": "10e964a5",
   "metadata": {
    "slideshow": {
     "slide_type": "subslide"
    }
   },
   "source": [
    "#### Enhancing the direct component\n",
    "\n",
    "For enhancing the direct component, i.e., the diagonal of $\\mathbf{T}$, one can use a sequence of $\\mathbf{p}_k = \\mathbf{m}_k$ drawn from the Bernoulli distribution. The resulting vectors have values of 1 with probability $p$ and $0$ with probability $1-p$. When drawing $K$ vectors, their approximated matrix converges to a probing matrix with $p\\cdot K$ on the diagonal and $p^2 \\cdot K$ everywhere else, i.e., enhancing the diagonal of $\\mathbf{T}$ by a factor of $\\frac{p \\cdot K}{p^2 \\cdot K} = \\frac{1}{p}$."
   ]
  },
  {
   "cell_type": "markdown",
   "id": "35a2786b",
   "metadata": {
    "slideshow": {
     "slide_type": "subslide"
    }
   },
   "source": [
    "Example approximated probing matrix for enhancing the direct component with size $10 \\times 10$ resulting from the described method for $p=0.125, K=1000$.\n",
    "\n",
    "<img src=\"figures/4/approx_prob_mat_direct_enhanced.svg\" style=\"max-width:30vw\">"
   ]
  },
  {
   "cell_type": "markdown",
   "id": "d4ffdb08",
   "metadata": {
    "slideshow": {
     "slide_type": "subslide"
    }
   },
   "source": [
    "Example results for enhancing the direct light path components via different values for $p$:\n",
    "\n",
    "<img src=\"figures/4/example_direct_enhanced.svg\" style=\"max-width:30vw\">"
   ]
  },
  {
   "cell_type": "markdown",
   "id": "2f993981",
   "metadata": {
    "slideshow": {
     "slide_type": "subslide"
    }
   },
   "source": [
    "#### Attenuation of local scattering \n",
    "\n",
    "When light from a projector pixel $n$ is locally scattered by small structures, e.g., by dust particles, it will most likely not contribute to the camera pixel $n$, which corresponds to direct light transport, but to a nearby camera pixel $m$, i.e., with $\\vert m - n \\vert = 1$."
   ]
  },
  {
   "cell_type": "markdown",
   "id": "f7acf51c",
   "metadata": {
    "slideshow": {
     "slide_type": "fragment"
    }
   },
   "source": [
    "Such light transport phenomena are encoded by the first off-diagonal of $\\mathbf{T}$."
   ]
  },
  {
   "cell_type": "markdown",
   "id": "4b857e22",
   "metadata": {
    "slideshow": {
     "slide_type": "subslide"
    }
   },
   "source": [
    "In order to attenuate local scattering effects, first an image $\\mathbf{i}_2$ is acquired, where these effects are enhanced. This image can then be subtracted from an image $\\mathbf{i}_1$ with enhanced direct light transport (previous example) to obtain the final image $\\mathbf{i}_3 = \\mathbf{i}_1 - \\mathbf{i}_2$."
   ]
  },
  {
   "cell_type": "markdown",
   "id": "3e2398a4",
   "metadata": {
    "slideshow": {
     "slide_type": "subslide"
    }
   },
   "source": [
    "To approximate the probing matrix for acquiring the off-diagonal of $\\mathbf{T}$, the previously mentioned Bernoulli sequence can be used for $\\mathbf{m}_k$ and the illumination vectors have to be shifted by $w$ for probing the $w$-th off-diagonal: \n",
    "\n",
    "$\\begin{align} \n",
    "   \\mathbf{p}_k := \\text{shift}(\\mathbf{m}_k, w)\\,.\n",
    "\\end{align}$\n",
    "\n",
    "The operation $\\text{shift}(\\mathbf{m}_k, w)$ denotes a circular shift of the vector $\\mathbf{m}_k$ by $w$, i.e.,\n",
    "\n",
    "$\\begin{align} \n",
    "   \\text{shift}(\\mathbf{x}, w) &= \\text{shift}\\left( (x_1, x_2, \\ldots, x_N)\\transp , w \\right) \\\\ &= (x_{N-(w-1) \\text{ mod }N}, x_{N-(w-2) \\text{ mod }N}, \\ldots, x_{N-(w-N) \\text{ mod }N})\\transp \\,.\n",
    "\\end{align}$"
   ]
  },
  {
   "cell_type": "markdown",
   "id": "2a39c95f",
   "metadata": {
    "slideshow": {
     "slide_type": "subslide"
    }
   },
   "source": [
    "##### Example\n",
    "Imaging a test chart in turbid media (milky water) as an example scene for strong local scattering effects."
   ]
  },
  {
   "cell_type": "markdown",
   "id": "7c1e3011",
   "metadata": {
    "slideshow": {
     "slide_type": "subslide"
    }
   },
   "source": [
    "Without compensation:\n",
    "\n",
    "<img src=\"figures/4/example_descattering_conventional.svg\" style=\"max-width:30vw\">"
   ]
  },
  {
   "cell_type": "markdown",
   "id": "abac2c83",
   "metadata": {
    "slideshow": {
     "slide_type": "subslide"
    }
   },
   "source": [
    "Results for attenuation of local scattering effects:\n",
    "\n",
    "<img src=\"figures/4/example_descattering.svg\" style=\"max-height:90vh\">"
   ]
  },
  {
   "cell_type": "markdown",
   "id": "822db67e",
   "metadata": {
    "slideshow": {
     "slide_type": "subslide"
    }
   },
   "source": [
    "Example approximation of a $10 \\times 10$ probing matrix (same parameters as before, i.e., $p=0.125, K=1000$) for enhancing the first off-diagonal:\n",
    "\n",
    "<img src=\"figures/4/approx_prob_mat_offdiag_enhanced.svg\" style=\"max-width:30vw\">"
   ]
  },
  {
   "cell_type": "markdown",
   "id": "2d0db38f",
   "metadata": {
    "slideshow": {
     "slide_type": "subslide"
    }
   },
   "source": [
    "Similar approximation for the probing matrix that would result for the subtraction $\\mathbf{i}_3 = \\mathbf{i}_1 - \\mathbf{i}_2$:\n",
    "\n",
    "<img src=\"figures/4/approx_prob_mat_local_descattering.svg\" style=\"max-width:30vw\">"
   ]
  },
  {
   "cell_type": "markdown",
   "id": "55eea76a",
   "metadata": {
    "slideshow": {
     "slide_type": "subslide"
    }
   },
   "source": [
    "#### Only indirect light transport\n",
    "\n",
    "To suppress direct light transport, the illumination vectors $\\mathbf{p}_k$ can be drawn from the Bernoulli distribution and the mask patterns can be set as $\\mathbf{m}_k := \\mathbf{1} - \\mathbf{p}_k$."
   ]
  },
  {
   "cell_type": "markdown",
   "id": "0c2e831c",
   "metadata": {
    "slideshow": {
     "slide_type": "fragment"
    }
   },
   "source": [
    "The resulting approximated matrix will have $0$ on its diagonal and an expected value of $p(1-p)\\cdot K$ everywhere else."
   ]
  },
  {
   "cell_type": "markdown",
   "id": "06f52937",
   "metadata": {
    "slideshow": {
     "slide_type": "subslide"
    }
   },
   "source": [
    "Example approximated probing matrix for suppressing the direct component with size $10 \\times 10$ resulting from the described method for $p=0.1, K=1000$.\n",
    "\n",
    "<img src=\"figures/4/approx_prob_mat_indirect_only.svg\" style=\"max-width:30vw\">"
   ]
  },
  {
   "cell_type": "markdown",
   "id": "1476f56b",
   "metadata": {
    "slideshow": {
     "slide_type": "subslide"
    }
   },
   "source": [
    "Example results for only indirect light transport imaging and for enhancing the direct component via subtraction of the indirect only-image from an image acquired under constant illumination:"
   ]
  },
  {
   "cell_type": "markdown",
   "id": "a84e9821",
   "metadata": {
    "slideshow": {
     "slide_type": "subslide"
    }
   },
   "source": [
    "<img src=\"figures/4/example_indirect_etc_1.svg\" style=\"max-width:30vw\">"
   ]
  },
  {
   "cell_type": "markdown",
   "id": "999572b1",
   "metadata": {
    "slideshow": {
     "slide_type": "subslide"
    }
   },
   "source": [
    "<img src=\"figures/4/example_indirect_etc_2.svg\" style=\"max-width:30vw\">"
   ]
  }
 ],
 "metadata": {
  "jupytext": {
   "formats": "ipynb,md:myst",
   "text_representation": {
    "extension": ".md",
    "format_name": "myst",
    "format_version": 0.13,
    "jupytext_version": "1.14.1"
   }
  },
  "kernelspec": {
   "display_name": "compimg",
   "language": "python",
   "name": "compimg"
  },
  "language_info": {
   "codemirror_mode": {
    "name": "ipython",
    "version": 3
   },
   "file_extension": ".py",
   "mimetype": "text/x-python",
   "name": "python",
   "nbconvert_exporter": "python",
   "pygments_lexer": "ipython3",
   "version": "3.8.10"
  },
  "source_map": [
   15,
   34,
   55,
   62,
   74,
   86,
   100,
   115,
   129,
   133,
   140,
   144,
   149,
   153,
   157,
   167,
   171,
   175,
   183,
   187,
   191,
   195,
   199,
   203,
   207,
   212,
   221,
   227,
   233,
   237,
   241,
   245,
   249,
   256,
   260,
   264,
   268,
   272,
   280,
   284,
   288,
   294,
   306,
   312,
   316,
   326,
   330,
   334,
   338,
   344,
   354,
   358,
   370,
   374,
   385,
   397,
   401,
   407,
   411,
   415,
   419,
   427,
   435,
   441,
   450,
   454,
   462,
   468,
   474,
   480,
   484,
   488,
   502,
   510,
   514,
   522,
   528,
   532,
   540,
   548,
   552,
   558,
   572,
   576,
   582,
   586,
   590,
   594,
   598,
   608,
   614,
   620,
   626,
   630,
   634,
   640,
   644,
   648,
   654,
   658,
   662,
   668,
   674,
   680,
   686,
   692,
   698,
   704,
   708,
   712,
   718,
   722,
   730,
   734,
   744,
   757,
   765,
   778,
   784,
   790,
   796,
   802,
   806,
   810,
   824,
   829,
   835,
   841,
   847,
   853,
   859,
   863,
   869,
   873,
   877
  ],
  "widgets": {
   "application/vnd.jupyter.widget-state+json": {
    "state": {
     "1d70679fbbd940f583112e8a1a1d0efc": {
      "model_module": "@jupyter-widgets/controls",
      "model_module_version": "1.5.0",
      "model_name": "IntSliderModel",
      "state": {
       "_dom_classes": [],
       "_model_module": "@jupyter-widgets/controls",
       "_model_module_version": "1.5.0",
       "_model_name": "IntSliderModel",
       "_view_count": null,
       "_view_module": "@jupyter-widgets/controls",
       "_view_module_version": "1.5.0",
       "_view_name": "IntSliderView",
       "continuous_update": true,
       "description": "i",
       "description_tooltip": null,
       "disabled": false,
       "layout": "IPY_MODEL_d4b0271d046743178e86b7346c2638a3",
       "max": 5,
       "min": 1,
       "orientation": "horizontal",
       "readout": true,
       "readout_format": "d",
       "step": 1,
       "style": "IPY_MODEL_ba9ae1681c6a40898335d5931253fbbc",
       "value": 5
      }
     },
     "3009e438ca224da7883c33a5ba51507e": {
      "model_module": "@jupyter-widgets/controls",
      "model_module_version": "1.5.0",
      "model_name": "VBoxModel",
      "state": {
       "_dom_classes": [
        "widget-interact"
       ],
       "_model_module": "@jupyter-widgets/controls",
       "_model_module_version": "1.5.0",
       "_model_name": "VBoxModel",
       "_view_count": null,
       "_view_module": "@jupyter-widgets/controls",
       "_view_module_version": "1.5.0",
       "_view_name": "VBoxView",
       "box_style": "",
       "children": [
        "IPY_MODEL_1d70679fbbd940f583112e8a1a1d0efc",
        "IPY_MODEL_e96cdac1e69e49b1b54905ac5d062112"
       ],
       "layout": "IPY_MODEL_40eea1f37bb1454da37240a392120a3d"
      }
     },
     "3f62180e21204e43b2e05d9f992049a8": {
      "model_module": "@jupyter-widgets/base",
      "model_module_version": "1.2.0",
      "model_name": "LayoutModel",
      "state": {
       "_model_module": "@jupyter-widgets/base",
       "_model_module_version": "1.2.0",
       "_model_name": "LayoutModel",
       "_view_count": null,
       "_view_module": "@jupyter-widgets/base",
       "_view_module_version": "1.2.0",
       "_view_name": "LayoutView",
       "align_content": null,
       "align_items": null,
       "align_self": null,
       "border": null,
       "bottom": null,
       "display": null,
       "flex": null,
       "flex_flow": null,
       "grid_area": null,
       "grid_auto_columns": null,
       "grid_auto_flow": null,
       "grid_auto_rows": null,
       "grid_column": null,
       "grid_gap": null,
       "grid_row": null,
       "grid_template_areas": null,
       "grid_template_columns": null,
       "grid_template_rows": null,
       "height": null,
       "justify_content": null,
       "justify_items": null,
       "left": null,
       "margin": null,
       "max_height": null,
       "max_width": null,
       "min_height": null,
       "min_width": null,
       "object_fit": null,
       "object_position": null,
       "order": null,
       "overflow": null,
       "overflow_x": null,
       "overflow_y": null,
       "padding": null,
       "right": null,
       "top": null,
       "visibility": null,
       "width": null
      }
     },
     "40eea1f37bb1454da37240a392120a3d": {
      "model_module": "@jupyter-widgets/base",
      "model_module_version": "1.2.0",
      "model_name": "LayoutModel",
      "state": {
       "_model_module": "@jupyter-widgets/base",
       "_model_module_version": "1.2.0",
       "_model_name": "LayoutModel",
       "_view_count": null,
       "_view_module": "@jupyter-widgets/base",
       "_view_module_version": "1.2.0",
       "_view_name": "LayoutView",
       "align_content": null,
       "align_items": null,
       "align_self": null,
       "border": null,
       "bottom": null,
       "display": null,
       "flex": null,
       "flex_flow": null,
       "grid_area": null,
       "grid_auto_columns": null,
       "grid_auto_flow": null,
       "grid_auto_rows": null,
       "grid_column": null,
       "grid_gap": null,
       "grid_row": null,
       "grid_template_areas": null,
       "grid_template_columns": null,
       "grid_template_rows": null,
       "height": null,
       "justify_content": null,
       "justify_items": null,
       "left": null,
       "margin": null,
       "max_height": null,
       "max_width": null,
       "min_height": null,
       "min_width": null,
       "object_fit": null,
       "object_position": null,
       "order": null,
       "overflow": null,
       "overflow_x": null,
       "overflow_y": null,
       "padding": null,
       "right": null,
       "top": null,
       "visibility": null,
       "width": null
      }
     },
     "41942040eb164d948cda3a1bfc8b82cc": {
      "model_module": "@jupyter-widgets/controls",
      "model_module_version": "1.5.0",
      "model_name": "SliderStyleModel",
      "state": {
       "_model_module": "@jupyter-widgets/controls",
       "_model_module_version": "1.5.0",
       "_model_name": "SliderStyleModel",
       "_view_count": null,
       "_view_module": "@jupyter-widgets/base",
       "_view_module_version": "1.2.0",
       "_view_name": "StyleView",
       "description_width": "",
       "handle_color": null
      }
     },
     "68d47bf9b28b4c21afac443e552d180f": {
      "model_module": "@jupyter-widgets/output",
      "model_module_version": "1.0.0",
      "model_name": "OutputModel",
      "state": {
       "_dom_classes": [],
       "_model_module": "@jupyter-widgets/output",
       "_model_module_version": "1.0.0",
       "_model_name": "OutputModel",
       "_view_count": null,
       "_view_module": "@jupyter-widgets/output",
       "_view_module_version": "1.0.0",
       "_view_name": "OutputView",
       "layout": "IPY_MODEL_a7b58e9555ac4be990d5c44fe65655a7",
       "msg_id": "",
       "outputs": [
        {
         "data": {
          "text/html": "<img src=\"figures/4/symmetric_transport_matrix_7.svg\" style=\"max-height:50vh\"/>",
          "text/plain": "<IPython.core.display.HTML object>"
         },
         "metadata": {},
         "output_type": "display_data"
        }
       ]
      }
     },
     "a7b58e9555ac4be990d5c44fe65655a7": {
      "model_module": "@jupyter-widgets/base",
      "model_module_version": "1.2.0",
      "model_name": "LayoutModel",
      "state": {
       "_model_module": "@jupyter-widgets/base",
       "_model_module_version": "1.2.0",
       "_model_name": "LayoutModel",
       "_view_count": null,
       "_view_module": "@jupyter-widgets/base",
       "_view_module_version": "1.2.0",
       "_view_name": "LayoutView",
       "align_content": null,
       "align_items": null,
       "align_self": null,
       "border": null,
       "bottom": null,
       "display": null,
       "flex": null,
       "flex_flow": null,
       "grid_area": null,
       "grid_auto_columns": null,
       "grid_auto_flow": null,
       "grid_auto_rows": null,
       "grid_column": null,
       "grid_gap": null,
       "grid_row": null,
       "grid_template_areas": null,
       "grid_template_columns": null,
       "grid_template_rows": null,
       "height": null,
       "justify_content": null,
       "justify_items": null,
       "left": null,
       "margin": null,
       "max_height": null,
       "max_width": null,
       "min_height": null,
       "min_width": null,
       "object_fit": null,
       "object_position": null,
       "order": null,
       "overflow": null,
       "overflow_x": null,
       "overflow_y": null,
       "padding": null,
       "right": null,
       "top": null,
       "visibility": null,
       "width": null
      }
     },
     "ba9ae1681c6a40898335d5931253fbbc": {
      "model_module": "@jupyter-widgets/controls",
      "model_module_version": "1.5.0",
      "model_name": "SliderStyleModel",
      "state": {
       "_model_module": "@jupyter-widgets/controls",
       "_model_module_version": "1.5.0",
       "_model_name": "SliderStyleModel",
       "_view_count": null,
       "_view_module": "@jupyter-widgets/base",
       "_view_module_version": "1.2.0",
       "_view_name": "StyleView",
       "description_width": "",
       "handle_color": null
      }
     },
     "d4b0271d046743178e86b7346c2638a3": {
      "model_module": "@jupyter-widgets/base",
      "model_module_version": "1.2.0",
      "model_name": "LayoutModel",
      "state": {
       "_model_module": "@jupyter-widgets/base",
       "_model_module_version": "1.2.0",
       "_model_name": "LayoutModel",
       "_view_count": null,
       "_view_module": "@jupyter-widgets/base",
       "_view_module_version": "1.2.0",
       "_view_name": "LayoutView",
       "align_content": null,
       "align_items": null,
       "align_self": null,
       "border": null,
       "bottom": null,
       "display": null,
       "flex": null,
       "flex_flow": null,
       "grid_area": null,
       "grid_auto_columns": null,
       "grid_auto_flow": null,
       "grid_auto_rows": null,
       "grid_column": null,
       "grid_gap": null,
       "grid_row": null,
       "grid_template_areas": null,
       "grid_template_columns": null,
       "grid_template_rows": null,
       "height": null,
       "justify_content": null,
       "justify_items": null,
       "left": null,
       "margin": null,
       "max_height": null,
       "max_width": null,
       "min_height": null,
       "min_width": null,
       "object_fit": null,
       "object_position": null,
       "order": null,
       "overflow": null,
       "overflow_x": null,
       "overflow_y": null,
       "padding": null,
       "right": null,
       "top": null,
       "visibility": null,
       "width": null
      }
     },
     "d8d46b85548049e2aa16ee05292254a8": {
      "model_module": "@jupyter-widgets/controls",
      "model_module_version": "1.5.0",
      "model_name": "IntSliderModel",
      "state": {
       "_dom_classes": [],
       "_model_module": "@jupyter-widgets/controls",
       "_model_module_version": "1.5.0",
       "_model_name": "IntSliderModel",
       "_view_count": null,
       "_view_module": "@jupyter-widgets/controls",
       "_view_module_version": "1.5.0",
       "_view_name": "IntSliderView",
       "continuous_update": true,
       "description": "i",
       "description_tooltip": null,
       "disabled": false,
       "layout": "IPY_MODEL_eb9334cca52c4633be1a34496a0fccb7",
       "max": 7,
       "min": 1,
       "orientation": "horizontal",
       "readout": true,
       "readout_format": "d",
       "step": 1,
       "style": "IPY_MODEL_41942040eb164d948cda3a1bfc8b82cc",
       "value": 7
      }
     },
     "e20e6886ddde467a94a4755fe177fd94": {
      "model_module": "@jupyter-widgets/base",
      "model_module_version": "1.2.0",
      "model_name": "LayoutModel",
      "state": {
       "_model_module": "@jupyter-widgets/base",
       "_model_module_version": "1.2.0",
       "_model_name": "LayoutModel",
       "_view_count": null,
       "_view_module": "@jupyter-widgets/base",
       "_view_module_version": "1.2.0",
       "_view_name": "LayoutView",
       "align_content": null,
       "align_items": null,
       "align_self": null,
       "border": null,
       "bottom": null,
       "display": null,
       "flex": null,
       "flex_flow": null,
       "grid_area": null,
       "grid_auto_columns": null,
       "grid_auto_flow": null,
       "grid_auto_rows": null,
       "grid_column": null,
       "grid_gap": null,
       "grid_row": null,
       "grid_template_areas": null,
       "grid_template_columns": null,
       "grid_template_rows": null,
       "height": null,
       "justify_content": null,
       "justify_items": null,
       "left": null,
       "margin": null,
       "max_height": null,
       "max_width": null,
       "min_height": null,
       "min_width": null,
       "object_fit": null,
       "object_position": null,
       "order": null,
       "overflow": null,
       "overflow_x": null,
       "overflow_y": null,
       "padding": null,
       "right": null,
       "top": null,
       "visibility": null,
       "width": null
      }
     },
     "e96cdac1e69e49b1b54905ac5d062112": {
      "model_module": "@jupyter-widgets/output",
      "model_module_version": "1.0.0",
      "model_name": "OutputModel",
      "state": {
       "_dom_classes": [],
       "_model_module": "@jupyter-widgets/output",
       "_model_module_version": "1.0.0",
       "_model_name": "OutputModel",
       "_view_count": null,
       "_view_module": "@jupyter-widgets/output",
       "_view_module_version": "1.0.0",
       "_view_name": "OutputView",
       "layout": "IPY_MODEL_e20e6886ddde467a94a4755fe177fd94",
       "msg_id": "",
       "outputs": [
        {
         "data": {
          "text/html": "<img src=\"figures/4/desk_lightsources_example_5.svg\" style=\"max-height:50vh\"/>",
          "text/plain": "<IPython.core.display.HTML object>"
         },
         "metadata": {},
         "output_type": "display_data"
        }
       ]
      }
     },
     "eb9334cca52c4633be1a34496a0fccb7": {
      "model_module": "@jupyter-widgets/base",
      "model_module_version": "1.2.0",
      "model_name": "LayoutModel",
      "state": {
       "_model_module": "@jupyter-widgets/base",
       "_model_module_version": "1.2.0",
       "_model_name": "LayoutModel",
       "_view_count": null,
       "_view_module": "@jupyter-widgets/base",
       "_view_module_version": "1.2.0",
       "_view_name": "LayoutView",
       "align_content": null,
       "align_items": null,
       "align_self": null,
       "border": null,
       "bottom": null,
       "display": null,
       "flex": null,
       "flex_flow": null,
       "grid_area": null,
       "grid_auto_columns": null,
       "grid_auto_flow": null,
       "grid_auto_rows": null,
       "grid_column": null,
       "grid_gap": null,
       "grid_row": null,
       "grid_template_areas": null,
       "grid_template_columns": null,
       "grid_template_rows": null,
       "height": null,
       "justify_content": null,
       "justify_items": null,
       "left": null,
       "margin": null,
       "max_height": null,
       "max_width": null,
       "min_height": null,
       "min_width": null,
       "object_fit": null,
       "object_position": null,
       "order": null,
       "overflow": null,
       "overflow_x": null,
       "overflow_y": null,
       "padding": null,
       "right": null,
       "top": null,
       "visibility": null,
       "width": null
      }
     },
     "fd5e64e19be64c08ba148ddade8b908f": {
      "model_module": "@jupyter-widgets/controls",
      "model_module_version": "1.5.0",
      "model_name": "VBoxModel",
      "state": {
       "_dom_classes": [
        "widget-interact"
       ],
       "_model_module": "@jupyter-widgets/controls",
       "_model_module_version": "1.5.0",
       "_model_name": "VBoxModel",
       "_view_count": null,
       "_view_module": "@jupyter-widgets/controls",
       "_view_module_version": "1.5.0",
       "_view_name": "VBoxView",
       "box_style": "",
       "children": [
        "IPY_MODEL_d8d46b85548049e2aa16ee05292254a8",
        "IPY_MODEL_68d47bf9b28b4c21afac443e552d180f"
       ],
       "layout": "IPY_MODEL_3f62180e21204e43b2e05d9f992049a8"
      }
     }
    },
    "version_major": 2,
    "version_minor": 0
   }
  }
 },
 "nbformat": 4,
 "nbformat_minor": 5
}