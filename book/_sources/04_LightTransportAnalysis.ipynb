{
 "cells": [
  {
   "cell_type": "code",
   "execution_count": 1,
   "id": "b3a5aab7",
   "metadata": {
    "init_cell": true,
    "tags": [
     "remove-cell"
    ]
   },
   "outputs": [
    {
     "data": {
      "application/javascript": [
       "var cells = Jupyter.notebook.get_cells();\n",
       "           for (var i = 0; i < cells.length; i++) {\n",
       "               var cur_cell = cells[i];\n",
       "               var tags = cur_cell._metadata.tags;\n",
       "               console.log(i);\n",
       "               console.log(tags == undefined);\n",
       "               console.log(tags);\n",
       "               if (tags != undefined) {\n",
       "               for (var j = 0; j < tags.length; j++) {\n",
       "                  if (tags[j]==\"book_only\" | tags[j]==\"remove-cell\") {cur_cell.element.hide();}\n",
       "                  if (tags[j]==\"presentation_only\") {cur_cell.element.show();}\n",
       "            }}}\n"
      ],
      "text/plain": [
       "<IPython.core.display.Javascript object>"
      ]
     },
     "metadata": {},
     "output_type": "display_data"
    }
   ],
   "source": [
    "%%js\n",
    "var cells = Jupyter.notebook.get_cells();\n",
    "           for (var i = 0; i < cells.length; i++) {\n",
    "               var cur_cell = cells[i];\n",
    "               var tags = cur_cell._metadata.tags;\n",
    "               console.log(i);\n",
    "               console.log(tags == undefined);\n",
    "               console.log(tags);\n",
    "               if (tags != undefined) {\n",
    "               for (var j = 0; j < tags.length; j++) {\n",
    "                  if (tags[j]==\"book_only\" | tags[j]==\"remove-cell\") {cur_cell.element.hide();}\n",
    "                  if (tags[j]==\"presentation_only\") {cur_cell.element.show();}\n",
    "            }}}"
   ]
  },
  {
   "cell_type": "code",
   "execution_count": 2,
   "id": "7f190b52",
   "metadata": {
    "init_cell": true,
    "slideshow": {
     "slide_type": "notes"
    },
    "tags": [
     "remove-cell"
    ]
   },
   "outputs": [
    {
     "name": "stderr",
     "output_type": "stream",
     "text": [
      "C:\\Users\\meyjoh\\repos\\vlcompimg\\compimg\\lib\\site-packages\\scipy\\__init__.py:138: UserWarning: A NumPy version >=1.16.5 and <1.23.0 is required for this version of SciPy (detected version 1.23.4)\n",
      "  warnings.warn(f\"A NumPy version >={np_minversion} and <{np_maxversion} is required for this version of \"\n"
     ]
    }
   ],
   "source": [
    "from __future__ import print_function\n",
    "from ipywidgets import interact, interactive, fixed, interact_manual\n",
    "import ipywidgets as widgets\n",
    "import numpy as np\n",
    "import matplotlib.pyplot as plt\n",
    "import cv2\n",
    "import scipy.signal as sig\n",
    "from scipy.integrate import simpson\n",
    "from IPython.display import SVG, display, IFrame, HTML\n",
    "import seaborn as sns\n",
    "%matplotlib notebook\n",
    "book = False"
   ]
  },
  {
   "cell_type": "code",
   "execution_count": 3,
   "id": "3f12fd26",
   "metadata": {
    "tags": [
     "remove-input",
     "book_only"
    ]
   },
   "outputs": [],
   "source": [
    "%matplotlib inline\n",
    "book = True"
   ]
  },
  {
   "cell_type": "code",
   "execution_count": 4,
   "id": "2eefa0a6",
   "metadata": {
    "init_cell": true,
    "slideshow": {
     "slide_type": "notes"
    },
    "tags": [
     "remove-cell"
    ]
   },
   "outputs": [],
   "source": [
    "def showFig2(path,i,ending, width, height):\n",
    "    imgToShow = plt.imread(f\"{path}{i}{ending}\")\n",
    "    plt.imshow(imgToShow)"
   ]
  },
  {
   "cell_type": "code",
   "execution_count": 5,
   "id": "15a27cc5",
   "metadata": {
    "init_cell": true,
    "slideshow": {
     "slide_type": "notes"
    },
    "tags": [
     "remove-cell"
    ]
   },
   "outputs": [],
   "source": [
    "def showFig(path,i,ending, width, height):\n",
    "    filename = path+str(i)+ending\n",
    "    return HTML(\"<img src=\\\"\" + filename +  f\"\\\" style=\\\"max-height:{height}vh\\\"/>\")"
   ]
  },
  {
   "cell_type": "code",
   "execution_count": 6,
   "id": "01a1d02a",
   "metadata": {
    "init_cell": true,
    "slideshow": {
     "slide_type": "notes"
    },
    "tags": [
     "remove-cell"
    ]
   },
   "outputs": [],
   "source": [
    "def imshow(img, cmap=None):\n",
    "    plt.close('all')\n",
    "    plt.figure()\n",
    "    plt.imshow(img, cmap=cmap)\n",
    "    plt.show()"
   ]
  },
  {
   "cell_type": "code",
   "execution_count": 7,
   "id": "cdf0997a",
   "metadata": {
    "init_cell": true,
    "slideshow": {
     "slide_type": "notes"
    },
    "tags": [
     "remove-cell"
    ]
   },
   "outputs": [],
   "source": [
    "def imshow2(img, cmap=None):\n",
    "    #plt.close('all')\n",
    "    #plt.figure()\n",
    "    plt.clf()\n",
    "    plt.imshow(img, cmap=cmap)\n",
    "    #plt.show()"
   ]
  },
  {
   "cell_type": "markdown",
   "id": "c95a74b6",
   "metadata": {
    "slideshow": {
     "slide_type": "slide"
    }
   },
   "source": [
    "$\\begin{align}\n",
    "  \\newcommand{transp}{^\\intercal}\n",
    "  \\newcommand{F}{\\mathcal{F}}\n",
    "  \\newcommand{Fi}{\\mathcal{F}^{-1}}\n",
    "  \\newcommand{inv}{^{-1}}\n",
    "  \\newcommand{stochvec}[1]{\\mathbf{\\tilde{#1}}}\n",
    "  \\newcommand{argmax}[1]{\\underset{#1}{\\mathrm{arg\\, max}}}\n",
    "  \\newcommand{argmin}[1]{\\underset{#1}{\\mathrm{arg\\, min}}}\n",
    "\\end{align}$\n",
    "\n",
    "<font size=\"7\"> Computational Imaging </font><br><br><br>"
   ]
  },
  {
   "cell_type": "markdown",
   "id": "1ca1a31b",
   "metadata": {
    "slideshow": {
     "slide_type": "fragment"
    }
   },
   "source": [
    "# Light Transport Analysis"
   ]
  },
  {
   "cell_type": "markdown",
   "id": "4383347c",
   "metadata": {
    "slideshow": {
     "slide_type": "subslide"
    }
   },
   "source": [
    "##### Content\n",
    "* Introduction into light transport\n",
    "* Light transport analysis via optical computing\n",
    "* Primal-Dual coding for optical probing"
   ]
  },
  {
   "cell_type": "markdown",
   "id": "c521dae7",
   "metadata": {
    "slideshow": {
     "slide_type": "slide"
    }
   },
   "source": [
    "## Introduction into light transport"
   ]
  },
  {
   "cell_type": "markdown",
   "id": "b7071c15",
   "metadata": {},
   "source": [
    "* Light transport = all light travelling in a scene from illumination sources to sensor elements (i.e., pixels).\n",
    "* Can be mathematically described via the so-called *light transport matrix* $\\mathbf{T}$, if the common assumption of linear light transport is made."
   ]
  },
  {
   "cell_type": "markdown",
   "id": "4468cc65",
   "metadata": {
    "slideshow": {
     "slide_type": "fragment"
    }
   },
   "source": [
    "The matrix $\\mathbf{T}$ contains the individual influences of all $P$ light sources to all $I$ sensor elements and hence has dimensions of $\\mathbf{T} \\in \\mathbb{R}^{I\\times P}_+$."
   ]
  },
  {
   "cell_type": "markdown",
   "id": "90bd4697",
   "metadata": {
    "slideshow": {
     "slide_type": "fragment"
    },
    "tags": [
     "book_only"
    ]
   },
   "source": [
    "The elements of $\\mathbf{T}$ are non-negative as only positive energy or no energy can be transported via light."
   ]
  },
  {
   "cell_type": "markdown",
   "id": "02729f5e",
   "metadata": {
    "slideshow": {
     "slide_type": "subslide"
    }
   },
   "source": [
    "The *light transport equation* \n",
    "\n",
    "$\\begin{align} \n",
    "   \\mathbf{i} = \\mathbf{T}\\mathbf{p}\n",
    "\\end{align}$\n",
    "\n",
    "describes the formation of the sensor values $\\mathbf{i}$ of the $I$ sensor elements when the scene is illuminated by the $P$ light sources with respective intensities $\\mathbf{p}$."
   ]
  },
  {
   "cell_type": "markdown",
   "id": "0c906858",
   "metadata": {
    "slideshow": {
     "slide_type": "subslide"
    }
   },
   "source": [
    "For the following content, we will assume illumination of the scene by a projector projecting a two-dimensional image and a two-dimensional gray-value camera serving as the sensor."
   ]
  },
  {
   "cell_type": "markdown",
   "id": "0987d0e7",
   "metadata": {
    "slideshow": {
     "slide_type": "fragment"
    }
   },
   "source": [
    "In this case, $\\mathbf{i}$ and $\\mathbf{p}$ are the vector representations of the camera image, respectively, of the projected image or pattern."
   ]
  },
  {
   "cell_type": "markdown",
   "id": "3e9e7990",
   "metadata": {
    "slideshow": {
     "slide_type": "subslide"
    }
   },
   "source": [
    "If the light transport matrix $\\mathbf{T}$ is known, the camera image that would result from the illumination with an arbitrary pattern $\\mathbf{p}$ could be synthetically calculated by just evaluating the light transport equation\n",
    "\n",
    "$\\begin{align} \n",
    "  \\mathbf{i} = \\mathbf{T}\\mathbf{p} \\,.\n",
    "\\end{align}$"
   ]
  },
  {
   "cell_type": "markdown",
   "id": "cfc17c15",
   "metadata": {
    "slideshow": {
     "slide_type": "subslide"
    }
   },
   "source": [
    "##### Example"
   ]
  },
  {
   "cell_type": "code",
   "execution_count": 8,
   "id": "36e6bc43",
   "metadata": {
    "init_cell": true
   },
   "outputs": [
    {
     "data": {
      "application/vnd.jupyter.widget-view+json": {
       "model_id": "0382427f305240adb975f15bf7a97810",
       "version_major": 2,
       "version_minor": 0
      },
      "text/plain": [
       "interactive(children=(IntSlider(value=5, description='i', max=5, min=1), Output()), _dom_classes=('widget-inte…"
      ]
     },
     "metadata": {},
     "output_type": "display_data"
    },
    {
     "data": {
      "text/plain": [
       "<function __main__.<lambda>(i)>"
      ]
     },
     "execution_count": 8,
     "metadata": {},
     "output_type": "execute_result"
    }
   ],
   "source": [
    "interact(lambda i: showFig('figures/4/desk_lightsources_example_',i,'.svg',800,50), i=widgets.IntSlider(min=(min_i:=1),max=(max_i:=5), step=1, value=(max_i if book else min_i)))"
   ]
  },
  {
   "cell_type": "markdown",
   "id": "19f1e506",
   "metadata": {},
   "source": [
    "(All images in this chapter are kindly provided by Matthew O'Toole)."
   ]
  },
  {
   "cell_type": "markdown",
   "id": "dc6420aa",
   "metadata": {
    "slideshow": {
     "slide_type": "subslide"
    }
   },
   "source": [
    "In this sense, the element $T[m,n]$ of $\\mathbf{T}$ encodes the contribution of light source (i.e., projector pixel) $n$ to camera pixel $m$."
   ]
  },
  {
   "cell_type": "markdown",
   "id": "d3364cac",
   "metadata": {
    "slideshow": {
     "slide_type": "fragment"
    }
   },
   "source": [
    "Unfortunately, the matrix $\\mathbf{T}$ is too large to measure and handle digitally for many practically relevant applications."
   ]
  },
  {
   "cell_type": "markdown",
   "id": "279518eb",
   "metadata": {
    "slideshow": {
     "slide_type": "subslide"
    }
   },
   "source": [
    "##### Example"
   ]
  },
  {
   "cell_type": "markdown",
   "id": "b2a96f08",
   "metadata": {},
   "source": [
    "Example light transport matrix for a single row (highlighted in (a)) of image and projector pixels. Further highlighted are the image position corresponding to camera pixel $m$ and the position corresponding to projector pixel $n$:<br>\n",
    "<img src=\"figures/4/example_transport_matrix.svg\" style=\"max-width:30vw\">"
   ]
  },
  {
   "cell_type": "markdown",
   "id": "e83b22bc",
   "metadata": {
    "slideshow": {
     "slide_type": "subslide"
    }
   },
   "source": [
    "### Practical limitations \n",
    "\n",
    "Consider a pair of a camera and a projector both having a (comparatively low) resolution of 1 mega pixels, then the resulting light transport matrix would have $10^{12}$ elements. \n",
    "\n",
    "* With an acquisition rate of $30$ Hz, acquiring the required $10^6$ measurements would need over 9 hours of time.\n",
    "* For a quantization of 8 bit per pixel for the camera images, $\\mathbf{T}$ would require about one terabyte of storage."
   ]
  },
  {
   "cell_type": "markdown",
   "id": "3b41d157",
   "metadata": {
    "slideshow": {
     "slide_type": "subslide"
    }
   },
   "source": [
    "### Optical linear algebra\n",
    "\n",
    "To overcome the mentioned limitations, we will study approaches to perform linear algebra calculations involving $\\mathbf{T}$ only in the optical domain, i.e., without ever capturing the single elements of $\\mathbf{T}$."
   ]
  },
  {
   "cell_type": "markdown",
   "id": "8c9b4694",
   "metadata": {
    "slideshow": {
     "slide_type": "subslide"
    }
   },
   "source": [
    "### Light paths\n",
    "\n",
    "We again assume that all geometric structures involved in our imaging system are significantly larger than the wavelength of the employed light, so that the model of geometric optics, i.e., of light propagating along rays, is valid."
   ]
  },
  {
   "cell_type": "markdown",
   "id": "2bc201ce",
   "metadata": {},
   "source": [
    "While travelling through the scene, light rays can be refracted, reflected, scattered, etc. until they either hit one of the camera's pixels or get absorbed or exit the scene."
   ]
  },
  {
   "cell_type": "markdown",
   "id": "6b30c7d0",
   "metadata": {
    "slideshow": {
     "slide_type": "fragment"
    }
   },
   "source": [
    "We denote a sequence of such light rays which connect a light source (i.e., a projector pixel) and a camera pixel as a *light path*."
   ]
  },
  {
   "cell_type": "markdown",
   "id": "f3476636",
   "metadata": {
    "slideshow": {
     "slide_type": "fragment"
    }
   },
   "source": [
    "Light paths can be categorized into *direct* and *indirect* paths."
   ]
  },
  {
   "cell_type": "markdown",
   "id": "f5778120",
   "metadata": {
    "slideshow": {
     "slide_type": "subslide"
    }
   },
   "source": [
    "<img src=\"figures/4/light_path_categories.png\" style=\"max-width:30vw\">"
   ]
  },
  {
   "cell_type": "markdown",
   "id": "e51b26a0",
   "metadata": {
    "slideshow": {
     "slide_type": "fragment"
    }
   },
   "source": [
    "* **Black ray - direct paths**: From projector pixel to camera pixel via single scene point interaction.\n",
    "* **Indirect paths**: Interaction with multiple scene points:\n",
    "    * **Red rays - diffuse indirect paths**: Diffusely scatter at two or more diffuse points.\n",
    "    * **Green rays - sepcular indirect paths**: Diffusely scatter at most once."
   ]
  },
  {
   "cell_type": "markdown",
   "id": "9f212168",
   "metadata": {
    "slideshow": {
     "slide_type": "subslide"
    }
   },
   "source": [
    "Important: Since the area of a camera pixel is not infinitely small, it usually receives both, rays from direct and indirect light paths."
   ]
  },
  {
   "cell_type": "markdown",
   "id": "39d62e73",
   "metadata": {
    "slideshow": {
     "slide_type": "subslide"
    }
   },
   "source": [
    "The image captured with the camera can be imagined as a superposition of multiple latent images, all corresponding to different kinds of light paths."
   ]
  },
  {
   "cell_type": "markdown",
   "id": "51ef7d81",
   "metadata": {
    "slideshow": {
     "slide_type": "fragment"
    }
   },
   "source": [
    "The reconstruction of these latent images is one major goal of light transport analysis."
   ]
  },
  {
   "cell_type": "markdown",
   "id": "b463ada7",
   "metadata": {
    "slideshow": {
     "slide_type": "fragment"
    }
   },
   "source": [
    "They often reveal interesting properties of the scene."
   ]
  },
  {
   "cell_type": "markdown",
   "id": "598a26cd",
   "metadata": {
    "slideshow": {
     "slide_type": "subslide"
    }
   },
   "source": [
    "### Teaser\n",
    "\n",
    "We will see, how we\n",
    "\n",
    "* can synthetically relight a scene, i.e., synthesize the image that would result when illuminating it with arbitrary illumination patterns (see previous example images),"
   ]
  },
  {
   "cell_type": "markdown",
   "id": "ee411db2",
   "metadata": {
    "slideshow": {
     "slide_type": "fragment"
    }
   },
   "source": [
    "* can manipulate the image of a projector in order to compensate disturbing structures on the screen surface,"
   ]
  },
  {
   "cell_type": "markdown",
   "id": "36662a55",
   "metadata": {
    "slideshow": {
     "slide_type": "fragment"
    }
   },
   "source": [
    "* can separate direct an indirect light transport to obtain images dominated only by the respective optical effects."
   ]
  },
  {
   "cell_type": "markdown",
   "id": "a30f11a1",
   "metadata": {
    "slideshow": {
     "slide_type": "subslide"
    }
   },
   "source": [
    "##### Example\n",
    "\n",
    "<img src=\"figures/4/Example_Separation_Direct_Indirect.svg\" style=\"max-width:30vw\">"
   ]
  },
  {
   "cell_type": "markdown",
   "id": "19bbf2a1",
   "metadata": {
    "slideshow": {
     "slide_type": "subslide"
    }
   },
   "source": [
    "### Entries of the light transport matrix\n",
    "\n",
    "Each entry of $\\mathbf{T}[m,n]$ describes the ratio of radiant energy that is transmitted from light source $n$ to sensor element $m$ via all optical paths that somehow connect source $n$ and sensor element $m$:\n",
    "\n",
    "$\\begin{align} \n",
    "   T[m,n] = \\int\\limits_{\\Omega_{m,n}} f(x) \\mathrm{d} \\mu (x)\\,,\n",
    "\\end{align}$\n",
    "\n",
    "with $\\Omega_{m,n}$ denoting the support, i.e., the space of light paths between source $n$ and sensor element $m$, the scattering throughput function $f(x)$ encoding the radiant energy transported along a light path $x$ and $\\mu (x)$ representing the corresponding measure."
   ]
  },
  {
   "cell_type": "markdown",
   "id": "789db25e",
   "metadata": {
    "slideshow": {
     "slide_type": "subslide"
    }
   },
   "source": [
    "#### Helmholtz reciprocity principle\n",
    "\n",
    "For many practically relevant scenes, the scattering throughput can be assumed to obey the *Helmholtz reciprocity principle*, according to which the value of $f(x)$ for a light path $x$ does not depend on the propagation direction of the light rays of $x$ (i.e., interchanging projector pixel $n$ with camera pixel $m$ would result in the same value for $T[m,n]$)."
   ]
  },
  {
   "cell_type": "markdown",
   "id": "ffacd538",
   "metadata": {
    "slideshow": {
     "slide_type": "slide"
    }
   },
   "source": [
    "## Light transport analysis via optical computing"
   ]
  },
  {
   "cell_type": "markdown",
   "id": "f20634b5",
   "metadata": {
    "slideshow": {
     "slide_type": "subslide"
    }
   },
   "source": [
    "When illuminating the scene with an illumination vector $\\mathbf{p}$, capturing a camera image yields\n",
    "\n",
    "$\\begin{align} \n",
    "   \\mathbf{i} = \\mathbf{T}\\mathbf{p} \\,,\n",
    "\\end{align}$\n",
    "\n",
    "i.e., the matrix multiplication $\\mathbf{Tp}$ has been performed in the optical domain."
   ]
  },
  {
   "cell_type": "markdown",
   "id": "de29413d",
   "metadata": {
    "slideshow": {
     "slide_type": "fragment"
    }
   },
   "source": [
    "This is the only possible way to interact with $\\mathbf{T}$ in order to get information about it, i.e., via multiplying $\\mathbf{T}$ with some vector $\\mathbf{p}$ and observing the result $\\mathbf{i}$."
   ]
  },
  {
   "cell_type": "markdown",
   "id": "b13e1473",
   "metadata": {
    "slideshow": {
     "slide_type": "fragment"
    }
   },
   "source": [
    "Luckily, dealing with very large matrices like $\\mathbf{T}$ only via matrix multiplication as stated before, represents a well-studied problem in the field of linear algebra."
   ]
  },
  {
   "cell_type": "markdown",
   "id": "b52994ec",
   "metadata": {
    "slideshow": {
     "slide_type": "fragment"
    }
   },
   "source": [
    "Especially the set of so-called *Krylov subspace methods* is suitable for our case, which is why we will study some of these approaches in the following."
   ]
  },
  {
   "cell_type": "markdown",
   "id": "28499a15",
   "metadata": {
    "slideshow": {
     "slide_type": "subslide"
    }
   },
   "source": [
    "### Optical power iteration\n",
    "\n",
    "We will first study a simple method to obtain the eigenvector $\\mathbf{v}_1$ of $\\mathbf{T}$ that corresponds to its largest eigenvalue $\\lambda_1$. For this purpose, we will transform a method called *power iteration* into the optical domain."
   ]
  },
  {
   "cell_type": "markdown",
   "id": "003a5f97",
   "metadata": {
    "slideshow": {
     "slide_type": "subslide"
    }
   },
   "source": [
    "The vector $\\mathbf{v}$ is called the eigenvector of a square matrix $\\mathbf{T}$ if \n",
    "\n",
    "$\\begin{align} \n",
    "   \\mathbf{Tv} = \\lambda \\mathbf{v} \\,,\n",
    "\\end{align}$\n",
    "\n",
    "with the so-called scalar eigenvalue $\\lambda$."
   ]
  },
  {
   "cell_type": "markdown",
   "id": "58fe9f0d",
   "metadata": {
    "slideshow": {
     "slide_type": "fragment"
    }
   },
   "source": [
    "The eigenvector $\\mathbf{v}_1$ that corresponds to the eigenvalue $\\lambda_1$ with the highest absolute value is called the *principal eigenvector*."
   ]
  },
  {
   "cell_type": "markdown",
   "id": "4aec4606",
   "metadata": {
    "slideshow": {
     "slide_type": "subslide"
    }
   },
   "source": [
    "#### Power iteration\n",
    "\n",
    "Power iteration is a simple numerical algorithm for calculating the principal eigenvector of a square matrix $\\mathbf{T}$. It exploits the fact the sequence \n",
    "\n",
    "$\\begin{align} \n",
    "   \\mathbf{p}, \\mathbf{Tp}, \\mathbf{T}^2\\mathbf{p}, \\mathbf{T}^3\\mathbf{p}, \\ldots \n",
    "\\end{align}$\n",
    "\n",
    "converges to the principal eigenvector $\\mathbf{v}_1$ of $\\mathbf{T}$ for any initial vector $\\mathbf{p}$, that is not orthogonal to $\\mathbf{v}_1$."
   ]
  },
  {
   "cell_type": "markdown",
   "id": "353e77d2",
   "metadata": {
    "slideshow": {
     "slide_type": "subslide"
    }
   },
   "source": [
    "#### Implementation"
   ]
  },
  {
   "cell_type": "markdown",
   "id": "3154b876",
   "metadata": {
    "cell_style": "split"
   },
   "source": [
    "The typical implementation looks like:\n",
    "\n",
    "$\\mathbf{Function}\\, \\mathrm{powerIteration}(\\mathbf{T})$<br><br>\n",
    "$\\quad \\mathbf{p}_1 \\leftarrow \\text{ random vector}$<br>\n",
    "$\\quad \\mathbf{for}\\, k \\in [1,\\ldots,K]:$<br><br>\n",
    "$\\qquad \\mathbf{i}_k \\leftarrow \\mathbf{Tp}_k$<br>\n",
    "$\\qquad \\mathbf{p}_{k+1} \\leftarrow \\frac{\\mathbf{i}_k}{\\left\\| \\mathbf{i}_k \\right\\|_2 }$<br><br>\n",
    "$\\quad \\textbf{return}\\,  \\mathbf{p}_{k+1}$"
   ]
  },
  {
   "cell_type": "markdown",
   "id": "fd65ccc7",
   "metadata": {
    "cell_style": "split",
    "slideshow": {
     "slide_type": "fragment"
    }
   },
   "source": [
    "The optical counterpart is given by:\n",
    "\n",
    "$\\mathbf{Function}\\, \\mathrm{opticalPowerIteration}(\\mathtt{camera},\\, \\mathtt{projector})$<br><br>\n",
    "$\\quad \\mathbf{p}_1 \\leftarrow \\text{ random vector}$<br>\n",
    "$\\quad \\mathbf{for}\\, k \\in [1,\\ldots,K]:$<br>\n",
    "$\\qquad \\mathtt{projector}.\\text{project}(\\mathbf{p}_k)$<br>\n",
    "$\\qquad \\mathbf{i}_k \\leftarrow \\mathtt{camera}.\\text{acquireImage}()$<br>\n",
    "$\\qquad \\mathbf{p}_{k+1} \\leftarrow \\frac{\\mathbf{i}_k}{\\left\\| \\mathbf{i}_k \\right\\|_2 }$<br><br>\n",
    "$\\quad \\textbf{return}\\,  \\mathbf{p}_{k+1}$"
   ]
  },
  {
   "cell_type": "markdown",
   "id": "47f2e3ca",
   "metadata": {
    "slideshow": {
     "slide_type": "fragment"
    }
   },
   "source": [
    "Note that all elements of $\\mathbf{p}$ have to be non-negative so that they can be projected onto the scene."
   ]
  },
  {
   "cell_type": "markdown",
   "id": "f98ca9ae",
   "metadata": {
    "slideshow": {
     "slide_type": "subslide"
    }
   },
   "source": [
    "Some intermediate steps of an example optical power iteration application:\n",
    "\n",
    "<img src=\"figures/4/powerIteration_example.svg\" style=\"max-width:30vw\">"
   ]
  },
  {
   "cell_type": "markdown",
   "id": "a6568eed",
   "metadata": {
    "slideshow": {
     "slide_type": "subslide"
    }
   },
   "source": [
    "#### Limitations"
   ]
  },
  {
   "cell_type": "markdown",
   "id": "11a5e0f1",
   "metadata": {},
   "source": [
    "* Power iteration can only be applied to square matrices (i.e., for same sizes of projected images and captured images)."
   ]
  },
  {
   "cell_type": "markdown",
   "id": "66a02af0",
   "metadata": {
    "slideshow": {
     "slide_type": "fragment"
    }
   },
   "source": [
    "* The convergence behavior of power iteration strongly depends on properties of $\\mathbf{T}$, especially on the similarity of the top two eigenvalues."
   ]
  },
  {
   "cell_type": "markdown",
   "id": "70b260da",
   "metadata": {
    "slideshow": {
     "slide_type": "subslide"
    }
   },
   "source": [
    "### Krylov subspace methods\n",
    "\n",
    "Krylov subspace methods represent a powerful family of algorithms for analyzing large sparse matrices $\\mathbf{T}$ whose shape can be square or rectangular. All they need is to perform multiplications with $\\mathbf{T}$ and sometimes with its transpose $\\mathbf{T}\\transp$.\n",
    "<br>\n",
    "Before we introduce the actual algorithms, we cover some prerequisites."
   ]
  },
  {
   "cell_type": "markdown",
   "id": "b8b93a58",
   "metadata": {
    "slideshow": {
     "slide_type": "fragment"
    }
   },
   "source": [
    "The Krylov subspace of dimension $k$ is the span of vectors produced after $k$ steps via power iteration, i.e.:\n",
    "\n",
    "$\\begin{align} \n",
    "   \\left( \\mathbf{p}_1 , \\mathbf{p}_2 = \\mathbf{Tp}, \\mathbf{p}_3 = \\mathbf{T}^2 \\mathbf{p}_1 , \\ldots , \\mathbf{p}_{k+1} = \\mathbf{T}^k \\mathbf{p}_1 \\right) \\,.\n",
    "\\end{align}$"
   ]
  },
  {
   "cell_type": "markdown",
   "id": "42b2e57d",
   "metadata": {
    "slideshow": {
     "slide_type": "subslide"
    }
   },
   "source": [
    "#### Optical matrix-vector multiplication for arbitrary vectors \n",
    "\n",
    "Krylov subspace methods require to compute products with $\\mathbf{T}$ for arbitrary vectors $\\mathbf{p}$, which may also contain negative values."
   ]
  },
  {
   "cell_type": "markdown",
   "id": "71e9062d",
   "metadata": {
    "slideshow": {
     "slide_type": "fragment"
    }
   },
   "source": [
    "For this purpose, we express $\\mathbf{p}$ as the difference between two non-negative vectors $\\mathbf{p}^+$ and $\\mathbf{p}^-$:\n",
    "\n",
    "$\\begin{align} \n",
    "   \\mathbf{p} &= \\mathbf{p}^+ - \\mathbf{p}^- \\\\\n",
    "   \\mathbf{Tp} &= \\mathbf{Tp}^+ - \\mathbf{Tp}^- \\,.\n",
    "\\end{align}$"
   ]
  },
  {
   "cell_type": "markdown",
   "id": "ea5f7692",
   "metadata": {
    "slideshow": {
     "slide_type": "fragment"
    }
   },
   "source": [
    "As a result, we have to project and capture two images to achieve an optical realization of these kinds of matrix-vector multiplications."
   ]
  },
  {
   "cell_type": "markdown",
   "id": "b605d0a5",
   "metadata": {
    "slideshow": {
     "slide_type": "subslide"
    }
   },
   "source": [
    "#### Symmetry of transport matrix\n",
    "\n",
    "Only for symmetric matrices the convergence characteristics of Krylov subspace are well-understood and promise fast convergence. Hence, we stick to that case and ensure optically that the light transport matrix $\\mathbf{T}$ is symmetric.\n",
    "\n",
    "However, by using two camera-projector systems, two unsymmetric transport matrices can be combined into one symmetric light transport matrix (not covered here)."
   ]
  },
  {
   "cell_type": "markdown",
   "id": "e1ba1710",
   "metadata": {
    "slideshow": {
     "slide_type": "subslide"
    }
   },
   "source": [
    "##### Enforcing symmetry for $\\mathbf{T}$\n",
    "\n",
    "By using a coaxial camera-projector arrangement and equal resolutions for both components, the symmetry of $\\mathbf{T}$ can be guaranteed due to Helmholtz reciprocity (see the following figure)."
   ]
  },
  {
   "cell_type": "code",
   "execution_count": 9,
   "id": "603e10ea",
   "metadata": {
    "init_cell": true
   },
   "outputs": [
    {
     "data": {
      "application/vnd.jupyter.widget-view+json": {
       "model_id": "547e245e884c472c950b46cb7db3b711",
       "version_major": 2,
       "version_minor": 0
      },
      "text/plain": [
       "interactive(children=(IntSlider(value=7, description='i', max=7, min=1), Output()), _dom_classes=('widget-inte…"
      ]
     },
     "metadata": {},
     "output_type": "display_data"
    },
    {
     "data": {
      "text/plain": [
       "<function __main__.<lambda>(i)>"
      ]
     },
     "execution_count": 9,
     "metadata": {},
     "output_type": "execute_result"
    }
   ],
   "source": [
    "interact(lambda i: showFig('figures/4/symmetric_transport_matrix_',i,'.svg',800,50), i=widgets.IntSlider(min=(min_i:=1),max=(max_i:=7), step=1, value=(max_i if book else min_i)))"
   ]
  },
  {
   "cell_type": "markdown",
   "id": "3cf6037a",
   "metadata": {
    "slideshow": {
     "slide_type": "subslide"
    }
   },
   "source": [
    "#### Low-rank approximation of $\\mathbf{T}$ via optical Arnoldi\n",
    "\n",
    "In its $k$-th iteration, the Arnoldi method allows to calculate the top $k$ eigenvectors (or singular vectors) of a matrix."
   ]
  },
  {
   "cell_type": "markdown",
   "id": "f24aa8bd",
   "metadata": {
    "slideshow": {
     "slide_type": "fragment"
    }
   },
   "source": [
    "It calculates a sequence of orthogonal vectors $\\mathbf{p}_1, \\ldots, \\mathbf{p}_k$ whose span is an approximation of the span of the top $k$ eigenvectors of the matrix under investigation."
   ]
  },
  {
   "cell_type": "markdown",
   "id": "b4bffa7d",
   "metadata": {
    "slideshow": {
     "slide_type": "fragment"
    }
   },
   "source": [
    "The accuracy of the approximation increases with $k$."
   ]
  },
  {
   "cell_type": "markdown",
   "id": "3b0c43fb",
   "metadata": {
    "slideshow": {
     "slide_type": "subslide"
    }
   },
   "source": [
    "$\\mathbf{Function}\\, \\mathrm{opticalSymmetricArnoldi}(\\mathtt{camera},\\, \\mathtt{projector})$<br><br>\n",
    "$\\quad \\mathbf{p}_1 \\leftarrow \\text{ non-zero random vector}$<br>\n",
    "$\\quad \\mathbf{for}\\, k \\in [1,\\ldots,K]:$<br>\n",
    "$\\qquad \\mathtt{projector}.\\text{project}(\\mathbf{p}^+_k)$<br>\n",
    "$\\qquad \\mathbf{i}^+_k \\leftarrow \\mathtt{camera}.\\text{acquireImage}()$<br>\n",
    "$\\qquad \\mathtt{projector}.\\text{project}(\\mathbf{p}^-_k)$<br>\n",
    "$\\qquad \\mathbf{i}^-_k \\leftarrow \\mathtt{camera}.\\text{acquireImage}()$<br>\n",
    "$\\qquad \\mathbf{i}_k \\leftarrow i^+_k - i^-_k$<br>\n",
    "$\\qquad \\mathbf{p}_{k+1} \\leftarrow \\text{ortho}(\\mathbf{p}_1, \\ldots ,\\mathbf{p}_k,\\mathbf{i}_k)$<br>\n",
    "$\\qquad \\mathbf{p}_{k+1} \\leftarrow \\frac{\\mathbf{p}_{k+1}}{\\left\\| \\mathbf{p}_{k+1} \\right\\|_2 }$<br><br>\n",
    "$\\quad \\textbf{return}\\,  \\left[ \\mathbf{i}_1 \\cdots \\mathbf{i}_{K} \\right] \\left[ \\mathbf{p}_1 \\cdots \\mathbf{p}_K  \\right]\\transp  $"
   ]
  },
  {
   "cell_type": "markdown",
   "id": "386143a5",
   "metadata": {
    "slideshow": {
     "slide_type": "subslide"
    }
   },
   "source": [
    "The function $\\text{ortho}(\\mathbf{p}_1, \\ldots ,\\mathbf{p}_k,\\mathbf{i}_k)$ projects its last argument $\\mathbf{i}_k$ onto the subspace orthogonal to the columns of the matrix $\\mathbf{P} = [\\mathbf{p}_1, \\mathbf{p}_2, \\ldots, \\mathbf{p}_k]$, i.e.,\n",
    "\n",
    "$\\begin{align} \n",
    "  \\text{ortho}(\\mathbf{p}_1, \\ldots ,\\mathbf{p}_k,\\mathbf{i}_k) = \\mathbf{i}_k - \\mathbf{P}\\left( \\mathbf{P}\\transp \\mathbf{P} \\right)^{-1}  \\mathbf{P}\\transp \\mathbf{i}_k\n",
    "\\end{align}$"
   ]
  },
  {
   "cell_type": "markdown",
   "id": "f43b217e",
   "metadata": {
    "slideshow": {
     "slide_type": "subslide"
    }
   },
   "source": [
    "The Arnoldi algorithm constructs an orthogonal basis $\\left[ \\mathbf{p}_1 \\cdots \\mathbf{p}_K  \\right]$ for the subspace of illumination vectors and a basis $\\left[ \\mathbf{i}_1 \\cdots \\mathbf{i}_{K} \\right]$ for the subspace of acquired images. The product $\\left[ \\mathbf{i}_1 \\cdots \\mathbf{i}_{K} \\right] \\left[ \\mathbf{p}_1 \\cdots \\mathbf{p}_K  \\right]\\transp$ is a low-rank approximation of $\\mathbf{T}$."
   ]
  },
  {
   "cell_type": "markdown",
   "id": "9a89ceb9",
   "metadata": {
    "slideshow": {
     "slide_type": "fragment"
    }
   },
   "source": [
    "In order to synthetically relight the scene with an arbitrary illumination $\\mathbf{p}$, the following expression has to be evaluated:\n",
    "\n",
    "$\\begin{align} \n",
    "   \\mathbf{Tp} \\approx \\left[ \\mathbf{i}_1 \\cdots \\mathbf{i}_{K} \\right] \\left[ \\mathbf{p}_1 \\cdots \\mathbf{p}_K  \\right]\\transp \\mathbf{p} \\,.\n",
    "\\end{align}$"
   ]
  },
  {
   "cell_type": "markdown",
   "id": "56e08554",
   "metadata": {
    "tags": [
     "book_only"
    ]
   },
   "source": [
    "```{note}\n",
    "   If this equation is successively evaluated from right to left, at no time a matrix larger than $K \\times N$ has to be kept in memory.\n",
    "```"
   ]
  },
  {
   "cell_type": "markdown",
   "id": "c3307cc5",
   "metadata": {
    "slideshow": {
     "slide_type": "subslide"
    }
   },
   "source": [
    "#### Optical matrix inversion via GMRES"
   ]
  },
  {
   "cell_type": "markdown",
   "id": "9406d39a",
   "metadata": {},
   "source": [
    "We now assume that we are given a camera image $\\mathbf{i}$ of our scene and want to obtain the illumination $\\mathbf{p}$ that produced it, i.e., we want to find\n",
    "\n",
    "$\\begin{align} \n",
    "   \\mathbf{p} = \\argmin{\\mathbf{x}} \\left\\| \\left[ \\mathbf{i}_1 \\cdots \\mathbf{i}_{K} \\right] \\left[ \\mathbf{p}_1 \\cdots \\mathbf{p}_K  \\right]\\transp \\mathbf{x} - \\mathbf{i} \\right\\|_2 \\,. \n",
    "\\end{align}$"
   ]
  },
  {
   "cell_type": "markdown",
   "id": "488ee65f",
   "metadata": {
    "slideshow": {
     "slide_type": "fragment"
    }
   },
   "source": [
    "This optimization problem can be solved via the Moore-Penrose pseudoinverse $\\mathbf{T}^\\dagger$ of $\\mathbf{T}$ (in order to account for a potentially singular matrix $\\mathbf{T}$):\n",
    "\n",
    "$\\begin{align} \n",
    "   \\mathbf{p} = \\mathbf{T}^\\dagger \\mathbf{i}\\,.\n",
    "\\end{align}$"
   ]
  },
  {
   "cell_type": "markdown",
   "id": "e434cadf",
   "metadata": {
    "slideshow": {
     "slide_type": "subslide"
    }
   },
   "source": [
    "This solution can also be calculated optically via another popular Krylov subspace method called *generalized minimum residual (GMRES)* that also only relies on computing products with $\\mathbf{T}$ and does not need to access to the complete matrix."
   ]
  },
  {
   "cell_type": "markdown",
   "id": "3c51f9a9",
   "metadata": {
    "slideshow": {
     "slide_type": "fragment"
    }
   },
   "source": [
    "The algorithm differs only slightly from optical Arnoldi, namely\n",
    "* in the initialization vector $\\mathbf{p}_1$, which is always the target image $\\mathbf{i}$ and\n",
    "* in the return value, which is $\\left[ \\mathbf{i}_1 \\cdots \\mathbf{i}_{K} \\right] \\left[ \\mathbf{p}_1 \\cdots \\mathbf{p}_K  \\right]^\\dagger \\mathbf{i}$, i.e., the approximation of the sought illumination vector."
   ]
  },
  {
   "cell_type": "markdown",
   "id": "d12f2fb3",
   "metadata": {
    "slideshow": {
     "slide_type": "subslide"
    }
   },
   "source": [
    "$\\mathbf{Function}\\, \\mathrm{opticalSymmetricGMRES}(\\mathtt{camera},\\, \\mathtt{projector}, \\mathbf{i})$<br><br>\n",
    "$\\quad \\mathbf{p}_1 \\leftarrow \\mathbf{i}$<br>\n",
    "$\\quad \\mathbf{for}\\, k \\in [1,\\ldots,K]:$<br>\n",
    "$\\qquad \\mathtt{projector}.\\text{project}(\\mathbf{p}^+_k)$<br>\n",
    "$\\qquad \\mathbf{i}^+_k \\leftarrow \\mathtt{camera}.\\text{acquireImage}()$<br>\n",
    "$\\qquad \\mathtt{projector}.\\text{project}(\\mathbf{p}^-_k)$<br>\n",
    "$\\qquad \\mathbf{i}^-_k \\leftarrow \\mathtt{camera}.\\text{acquireImage}()$<br>\n",
    "$\\qquad \\mathbf{i}_k \\leftarrow i^+_k - i^-_k$<br>\n",
    "$\\qquad \\mathbf{p}_{k+1} \\leftarrow \\text{ortho}(\\mathbf{p}_1, \\ldots ,\\mathbf{p}_k,\\mathbf{i}_k)$<br>\n",
    "$\\qquad \\mathbf{p}_{k+1} \\leftarrow \\frac{\\mathbf{p}_{k+1}}{\\left\\| \\mathbf{p}_{k+1} \\right\\|_2 }$<br><br>\n",
    "$\\quad \\textbf{return}\\,  \\left[ \\mathbf{i}_1 \\cdots \\mathbf{i}_{K} \\right] \\left[ \\mathbf{p}_1 \\cdots \\mathbf{p}_K  \\right]^\\dagger \\mathbf{i}  $"
   ]
  },
  {
   "cell_type": "markdown",
   "id": "5e537503",
   "metadata": {
    "slideshow": {
     "slide_type": "subslide"
    }
   },
   "source": [
    "Intuitively, GMRES calculates a rank-$K$ approximation of $\\mathbf{T}$ and calculates its pseudoinverse to solve for $\\mathbf{p}$. The initialization of $\\mathbf{p}_1$ with $\\mathbf{i}$ helps to explore only a portion of $\\mathbf{T}$'s row space that is suitable for the inversion with respect to $\\mathbf{i}$."
   ]
  },
  {
   "cell_type": "markdown",
   "id": "5c5b437c",
   "metadata": {
    "slideshow": {
     "slide_type": "subslide"
    }
   },
   "source": [
    "##### Example experiments\n",
    "\n",
    "<img src=\"figures/4/result_GMRES.svg\" style=\"max-width:30vw\">"
   ]
  },
  {
   "cell_type": "markdown",
   "id": "d8e61929",
   "metadata": {
    "slideshow": {
     "slide_type": "slide"
    }
   },
   "source": [
    "## Primal-Dual coding for optical probing"
   ]
  },
  {
   "cell_type": "markdown",
   "id": "56ca9c88",
   "metadata": {},
   "source": [
    "*Optical probing* can be seen as the optical implementation of *matrix probing*, a topic of numerical mathematics dealing with the efficient estimation of special regions of interest of very large matrices (like $\\mathbf{T}$), e.g., its trace or diagonal."
   ]
  },
  {
   "cell_type": "markdown",
   "id": "9413a01a",
   "metadata": {
    "slideshow": {
     "slide_type": "subslide"
    }
   },
   "source": [
    "Optical probing allows to obtain certain latent images of the scene which are normally hidden in the global light transport."
   ]
  },
  {
   "cell_type": "markdown",
   "id": "bd6853c6",
   "metadata": {
    "slideshow": {
     "slide_type": "fragment"
    }
   },
   "source": [
    "For example, it is possible to obtain images corresponding to either (approximately) only direct or (approximately) only indirect light transport. Such images can reveal interesting insights about the observed scene (e.g., the structure of the blood vessels under the skin)."
   ]
  },
  {
   "cell_type": "markdown",
   "id": "e666fd8b",
   "metadata": {
    "slideshow": {
     "slide_type": "subslide"
    }
   },
   "source": [
    "Optical probing can be mathematically modelled as\n",
    "\n",
    "$\\begin{align} \n",
    "   \\mathbf{i} = \\left( \\boldsymbol{\\Pi} \\odot \\mathbf{T} \\right) \\mathbf{1} \\,,\n",
    "\\end{align}$\n",
    "\n",
    "with $\\boldsymbol{\\Pi}$ denoting the *probing matrix* and $\\odot$ denoting the element-wise product between two matrices of equal size, $\\mathbf{1}$ denoting a vector of all ones representing a uniform illumination and finally $\\mathbf{i}$ representing the image captured under uniform illumination and for a light transport matrix that is the result of $\\boldsymbol{\\Pi} \\odot \\mathbf{T}$."
   ]
  },
  {
   "cell_type": "markdown",
   "id": "d39e403f",
   "metadata": {
    "slideshow": {
     "slide_type": "subslide"
    }
   },
   "source": [
    "Visualization of the probing equation:<br>\n",
    "\n",
    "<img src=\"figures/4/probing_equation.svg\" style=\"max-width:30vw\">"
   ]
  },
  {
   "cell_type": "markdown",
   "id": "3ce2cbc6",
   "metadata": {
    "slideshow": {
     "slide_type": "subslide"
    }
   },
   "source": [
    "In order to be able to manipulate $\\mathbf{T}$ in this way, it is necessary to control two aspects of the image formation process: \n",
    "* the illumination, the so-called *primal domain* via the projected image and\n",
    "* the pixel-wise modulation of the camera's sensor, the so-called *dual domain*."
   ]
  },
  {
   "cell_type": "markdown",
   "id": "a2667fe1",
   "metadata": {
    "slideshow": {
     "slide_type": "subslide"
    }
   },
   "source": [
    "Controlling the dual domain means, that certain pixels of the camera can be blocked from receiving light during the acquisition of a single camera image. \n",
    "\n",
    "This can be achieved"
   ]
  },
  {
   "cell_type": "markdown",
   "id": "5d6d0b5d",
   "metadata": {
    "slideshow": {
     "slide_type": "fragment"
    }
   },
   "source": [
    "* via a so-called spatial light modulator, i.e., a transmission mask (e.g., an LCD panel) whose spatial transmission pattern can be computationally controlled or"
   ]
  },
  {
   "cell_type": "markdown",
   "id": "7e42cab7",
   "metadata": {
    "slideshow": {
     "slide_type": "fragment"
    }
   },
   "source": [
    "* by capturing single images $\\mathbf{i}_k$ for every modulation pattern $k\\in [0,\\ldots, K]$ where the respective pixel values are computationally modulated after the image acquisition and by synthesizing the actual image by calculating a sum over all $\\mathbf{i}_k$."
   ]
  },
  {
   "cell_type": "markdown",
   "id": "d15e5c70",
   "metadata": {
    "slideshow": {
     "slide_type": "subslide"
    }
   },
   "source": [
    "Visualization of the optical setup:<br>\n",
    "\n",
    "<img src=\"figures/4/probing_setup.svg\" style=\"max-width:30vw\">"
   ]
  },
  {
   "cell_type": "markdown",
   "id": "098a05f7",
   "metadata": {
    "slideshow": {
     "slide_type": "subslide"
    }
   },
   "source": [
    "### Probing the light transport matrix"
   ]
  },
  {
   "cell_type": "markdown",
   "id": "2fd80766",
   "metadata": {},
   "source": [
    "The only way we can gain information about the light transport (matrix) is by projecting and capturing images."
   ]
  },
  {
   "cell_type": "markdown",
   "id": "96b963da",
   "metadata": {
    "slideshow": {
     "slide_type": "fragment"
    }
   },
   "source": [
    "However, this leaves a notable dimensionality gap: \n",
    "* $\\mathbf{T}$ has $I \\times P$ elements, whereas\n",
    "* one image $\\mathbf{i}$ only as $I$ elements."
   ]
  },
  {
   "cell_type": "markdown",
   "id": "eff5be31",
   "metadata": {
    "slideshow": {
     "slide_type": "fragment"
    }
   },
   "source": [
    "$\\Rightarrow$ Use probing equation to only analyze elements of $\\mathbf{T}$ of interest."
   ]
  },
  {
   "cell_type": "markdown",
   "id": "ce08dbf5",
   "metadata": {
    "slideshow": {
     "slide_type": "subslide"
    }
   },
   "source": [
    "#### Example probing matrices"
   ]
  },
  {
   "cell_type": "markdown",
   "id": "2836ba92",
   "metadata": {
    "slideshow": {
     "slide_type": "subslide"
    }
   },
   "source": [
    "<img src=\"figures/4/example_probing_matrix_1.svg\" style=\"max-width:30vw\">\n",
    "\n",
    "Acquisition of a common image for illumination $\\mathbf{p}$."
   ]
  },
  {
   "cell_type": "markdown",
   "id": "85a917df",
   "metadata": {
    "slideshow": {
     "slide_type": "subslide"
    }
   },
   "source": [
    "<img src=\"figures/4/example_probing_matrix_2.svg\" style=\"max-width:30vw\">\n",
    "\n",
    "Same as before but via probing matrix and constant illumination $\\mathbf{1}$."
   ]
  },
  {
   "cell_type": "markdown",
   "id": "3088c9d9",
   "metadata": {
    "slideshow": {
     "slide_type": "subslide"
    }
   },
   "source": [
    "<img src=\"figures/4/example_probing_matrix_3.svg\" style=\"max-width:30vw\">\n",
    "\n",
    "Acquisition of the diagonal of $\\mathbf{T}$."
   ]
  },
  {
   "cell_type": "markdown",
   "id": "202f6da9",
   "metadata": {
    "slideshow": {
     "slide_type": "subslide"
    }
   },
   "source": [
    "<img src=\"figures/4/example_probing_matrix_4.svg\" style=\"max-width:30vw\">\n",
    "\n",
    "Acquisition of an off-diagonal of $\\mathbf{T}$."
   ]
  },
  {
   "cell_type": "markdown",
   "id": "09e6a184",
   "metadata": {
    "slideshow": {
     "slide_type": "subslide"
    }
   },
   "source": [
    "<img src=\"figures/4/example_probing_matrix_5.svg\" style=\"max-width:30vw\">\n",
    "\n",
    "Acquisition of one specific element of $\\mathbf{T}$ per row."
   ]
  },
  {
   "cell_type": "markdown",
   "id": "1f6c21bc",
   "metadata": {
    "slideshow": {
     "slide_type": "subslide"
    }
   },
   "source": [
    "<img src=\"figures/4/example_probing_matrix_6.svg\" style=\"max-width:30vw\">\n",
    "\n",
    "Acquisition of a linear combination of two elements (red and blue) of $\\mathbf{T}$ per row."
   ]
  },
  {
   "cell_type": "markdown",
   "id": "d9bf7e14",
   "metadata": {
    "slideshow": {
     "slide_type": "subslide"
    }
   },
   "source": [
    "<img src=\"figures/4/example_probing_matrix_7.svg\" style=\"max-width:30vw\">\n",
    "\n",
    "Acquisition of an image for illumination $\\mathbf{p}$ for a transport matrix $\\hat{\\mathbf{T}}=\\mathbf{A}\\odot \\mathbf{T}$."
   ]
  },
  {
   "cell_type": "markdown",
   "id": "b5619f4a",
   "metadata": {
    "slideshow": {
     "slide_type": "subslide"
    }
   },
   "source": [
    "Each element $(m,n)$ of $\\mathbf{T}$ encodes different optical paths of light that originated from projector pixel $n$ and reach camera pixel $m$."
   ]
  },
  {
   "cell_type": "markdown",
   "id": "a20dc51c",
   "metadata": {},
   "source": [
    "<img src=\"figures/4/probing_light_paths.svg\" style=\"max-height:40vh\">"
   ]
  },
  {
   "cell_type": "markdown",
   "id": "fa0115cb",
   "metadata": {},
   "source": [
    "* (a): $\\mathbf{T}[m,n]$: All light paths from projector pixel $n$ to camera pixel $m$.\n",
    "* (b): $\\mathbf{T}[m,m]$, i.e., diagonal of $\\mathbf{T}$: The direct component (red) but maybe also back-scattering (blue) and retro reflections (green).\n",
    "* (c): The distance $\\left| m-n \\right|$ allows to distinguish between short distance and long distance optical paths."
   ]
  },
  {
   "cell_type": "markdown",
   "id": "51e6b390",
   "metadata": {
    "slideshow": {
     "slide_type": "subslide"
    }
   },
   "source": [
    "By adequately probing $\\mathbf{T}$, photos can be acquired, for which certain light paths (e.g., direct, indirect, etc.) have been enhanced, attenuated or even blocked."
   ]
  },
  {
   "cell_type": "markdown",
   "id": "5bf8eeee",
   "metadata": {
    "slideshow": {
     "slide_type": "subslide"
    }
   },
   "source": [
    "##### How to perform the probing?\n",
    "\n",
    "Naive idea: To probe $\\mathbf{T}[m,n]$, illuminate with a single projector pixel $n$ while reading out only camera pixel $m$, repeat for all non-zero elements of the probing matrix $\\boldsymbol{\\Pi}$.\n",
    "\n",
    "$\\Rightarrow$ Very inefficient (in terms of light) and slow!"
   ]
  },
  {
   "cell_type": "markdown",
   "id": "9cda29f0",
   "metadata": {
    "slideshow": {
     "slide_type": "subslide"
    }
   },
   "source": [
    "#### Optical implementation of matrix probing"
   ]
  },
  {
   "cell_type": "markdown",
   "id": "7eac7776",
   "metadata": {},
   "source": [
    "Decompose $\\boldsymbol{\\Pi}$ into a sum of rank-1 matrices:\n",
    "\n",
    "$\\begin{align} \n",
    "   \\boldsymbol{\\Pi} = \\sum\\limits^K_{k=1} \\mathbf{m}_k \\mathbf{p}^\\intercal_k \\,,\n",
    "\\end{align}$\n",
    "\n",
    "for $K$ vectors $\\mathbf{m}_k, \\mathbf{p}_k$."
   ]
  },
  {
   "cell_type": "markdown",
   "id": "564681d8",
   "metadata": {
    "slideshow": {
     "slide_type": "subslide"
    }
   },
   "source": [
    "With this, we can reformulate the probing equation:\n",
    "\n",
    "$\\begin{align} \n",
    "   \\left( \\boldsymbol{\\Pi} \\odot \\mathbf{T} \\right) \\mathbf{1} &= \\sum\\limits^P_{n=1} \\boldsymbol{\\Pi} [n] \\circ \\mathbf{T}[n] \\\\\n",
    "   &= \\sum\\limits^P_{n=1} \\left( \\sum\\limits^K_{k=1} \\mathbf{m}_k p_k[n] \\right) \\circ \\mathbf{T}[n] \\\\\n",
    "   &= \\sum\\limits^K_{k=1} \\left( \\mathbf{m}_k \\circ \\sum\\limits^P_{n=1} \\mathbf{T}[n]p_k[n] \\right) \\\\\n",
    "   &= \\sum\\limits^K_{k=1} \\mathbf{m}_k \\circ \\mathbf{T}\\mathbf{p}_k \\,,\n",
    "\\end{align}$\n",
    "\n",
    "with $\\circ$ denoting the element-wise product between vectors, $\\mathbf{T}[n]$ denoting the $n$-th column of $\\mathbf{T}$ and $p_k[n]$ denoting the $n$-th element of the vector $\\mathbf{p}_k$, i.e., $p_k[n]$ is a scalar."
   ]
  },
  {
   "cell_type": "markdown",
   "id": "be539060",
   "metadata": {
    "slideshow": {
     "slide_type": "subslide"
    }
   },
   "source": [
    "According to this derivation, every decomposition of the probing matrix into a sum of rank-1 matrices can be realized via a sequence of step-wise corresponding illumination patterns $\\mathbf{p}_k$ and sensor modulations $\\mathbf{m}_k$ for $k \\in [1,\\ldots, K]$:\n",
    "\n",
    "$\\begin{align} \n",
    "    \\left( \\boldsymbol{\\Pi} \\odot \\mathbf{T} \\right) \\mathbf{1} = \\sum\\limits^K_{k=1} \\underbrace{\\mathbf{m}_k \\circ \\overbrace{\\mathbf{T}\\mathbf{p}_k}^{\\text{acquired image } \\mathbf{i}_k \\text{ for illumination }\\mathbf{p}_k}}_{\\text{image } \\mathbf{i}_k \\text{ modulated with } \\mathbf{m}_k} \\,.\n",
    "\\end{align}$"
   ]
  },
  {
   "cell_type": "markdown",
   "id": "152e36ec",
   "metadata": {
    "slideshow": {
     "slide_type": "subslide"
    }
   },
   "source": [
    "This leads to the following algorithm for optical probing of the light transport matrix:\n",
    "\n",
    "$\\mathbf{Function}\\, \\mathrm{opticalMatrixProbing}\\left(\\mathtt{camera},\\, \\mathtt{projector}, \\left\\{ \\mathbf{p}_k, k \\in \\left[ 1,\\ldots, K \\right]  \\right\\}, \\left\\{ \\mathbf{m}_k, k \\in \\left[ 1,\\ldots, K \\right]  \\right\\}  \\right)$<br><br>\n",
    "$\\quad \\mathbf{i}_{\\mathrm{result}} \\leftarrow \\text{ empty image }$<br>\n",
    "$\\quad \\mathbf{for}\\, k \\in [1,\\ldots,K]:$<br>\n",
    "$\\qquad \\mathtt{projector}.\\text{project}(\\mathbf{p}_k)$<br>\n",
    "$\\qquad \\mathbf{i}_k \\leftarrow \\mathtt{camera}.\\text{acquireImage}()$<br>\n",
    "$\\qquad \\mathbf{i}_{\\mathrm{result}} \\leftarrow \\mathbf{i}_\\mathrm{result} +  \\mathbf{m}_k \\circ \\mathbf{i}_k$<br><br>\n",
    "\n",
    "$\\quad \\textbf{return}\\,  \\mathbf{i}_\\mathrm{result}$"
   ]
  },
  {
   "cell_type": "markdown",
   "id": "03757008",
   "metadata": {
    "slideshow": {
     "slide_type": "subslide"
    }
   },
   "source": [
    "#### Enhancing the direct component\n",
    "\n",
    "For enhancing the direct component, i.e., the diagonal of $\\mathbf{T}$, one can use a sequence of $\\mathbf{p}_k = \\mathbf{m}_k$ drawn from the Bernoulli distribution. The resulting vectors have values of 1 with probability $p$ and $0$ with probability $1-p$. When drawing $K$ vectors, their approximated matrix converges to a probing matrix with $p\\cdot K$ on the diagonal and $p^2 \\cdot K$ everywhere else, i.e., enhancing the diagonal of $\\mathbf{T}$ by a factor of $\\frac{p \\cdot K}{p^2 \\cdot K} = \\frac{1}{p}$."
   ]
  },
  {
   "cell_type": "markdown",
   "id": "f277222e",
   "metadata": {
    "slideshow": {
     "slide_type": "subslide"
    }
   },
   "source": [
    "Example approximated probing matrix for enhancing the direct component with size $10 \\times 10$ resulting from the described method for $p=0.125, K=1000$.\n",
    "\n",
    "<img src=\"figures/4/approx_prob_mat_direct_enhanced.svg\" style=\"max-width:30vw\">"
   ]
  },
  {
   "cell_type": "markdown",
   "id": "7849bc7e",
   "metadata": {
    "slideshow": {
     "slide_type": "subslide"
    }
   },
   "source": [
    "Example results for enhancing the direct light path components via different values for $p$:\n",
    "\n",
    "<img src=\"figures/4/example_direct_enhanced.svg\" style=\"max-width:30vw\">"
   ]
  },
  {
   "cell_type": "markdown",
   "id": "9257cc1c",
   "metadata": {
    "slideshow": {
     "slide_type": "subslide"
    }
   },
   "source": [
    "#### Attenuation of local scattering \n",
    "\n",
    "When light from a projector pixel $n$ is locally scattered by small structures, e.g., by dust particles, it will most likely not contribute to the camera pixel $n$, which corresponds to direct light transport, but to a nearby camera pixel $m$, i.e., with $\\vert m - n \\vert = 1$."
   ]
  },
  {
   "cell_type": "markdown",
   "id": "2eb29176",
   "metadata": {
    "slideshow": {
     "slide_type": "fragment"
    }
   },
   "source": [
    "Such light transport phenomena are encoded by the first off-diagonal of $\\mathbf{T}$."
   ]
  },
  {
   "cell_type": "markdown",
   "id": "f0d966ed",
   "metadata": {
    "slideshow": {
     "slide_type": "subslide"
    }
   },
   "source": [
    "In order to attenuate local scattering effects, first an image $\\mathbf{i}_2$ is acquired, where these effects are enhanced. This image can then be subtracted from an image $\\mathbf{i}_1$ with enhanced direct light transport (previous example) to obtain the final image $\\mathbf{i}_3 = \\mathbf{i}_1 - \\mathbf{i}_2$."
   ]
  },
  {
   "cell_type": "markdown",
   "id": "646ae71e",
   "metadata": {
    "slideshow": {
     "slide_type": "subslide"
    }
   },
   "source": [
    "To approximate the probing matrix for acquiring the off-diagonal of $\\mathbf{T}$, the previously mentioned Bernoulli sequence can be used for $\\mathbf{m}_k$ and the illumination vectors have to be shifted by $w$ for probing the $w$-th off-diagonal: \n",
    "\n",
    "$\\begin{align} \n",
    "   \\mathbf{p}_k := \\text{shift}(\\mathbf{m}_k, w)\\,.\n",
    "\\end{align}$\n",
    "\n",
    "The operation $\\text{shift}(\\mathbf{m}_k, w)$ denotes a circular shift of the vector $\\mathbf{m}_k$ by $w$, i.e.,\n",
    "\n",
    "$\\begin{align} \n",
    "   \\text{shift}(\\mathbf{x}, w) &= \\text{shift}\\left( (x_1, x_2, \\ldots, x_N)\\transp , w \\right) \\\\ &= (x_{N-(w-1) \\text{ mod }N}, x_{N-(w-2) \\text{ mod }N}, \\ldots, x_{N-(w-N) \\text{ mod }N})\\transp \\,.\n",
    "\\end{align}$"
   ]
  },
  {
   "cell_type": "markdown",
   "id": "9c8b7fb6",
   "metadata": {
    "slideshow": {
     "slide_type": "subslide"
    }
   },
   "source": [
    "##### Example\n",
    "Imaging a test chart in turbid media (milky water) as an example scene for strong local scattering effects."
   ]
  },
  {
   "cell_type": "markdown",
   "id": "9c9f67e1",
   "metadata": {
    "slideshow": {
     "slide_type": "subslide"
    }
   },
   "source": [
    "Without compensation:\n",
    "\n",
    "<img src=\"figures/4/example_descattering_conventional.svg\" style=\"max-width:30vw\">"
   ]
  },
  {
   "cell_type": "markdown",
   "id": "0801d3ed",
   "metadata": {
    "slideshow": {
     "slide_type": "subslide"
    }
   },
   "source": [
    "Results for attenuation of local scattering effects:\n",
    "\n",
    "<img src=\"figures/4/example_descattering.svg\" style=\"max-height:90vh\">"
   ]
  },
  {
   "cell_type": "markdown",
   "id": "7d4920d6",
   "metadata": {
    "slideshow": {
     "slide_type": "subslide"
    }
   },
   "source": [
    "Example approximation of a $10 \\times 10$ probing matrix (same parameters as before, i.e., $p=0.125, K=1000$) for enhancing the first off-diagonal:\n",
    "\n",
    "<img src=\"figures/4/approx_prob_mat_offdiag_enhanced.svg\" style=\"max-width:30vw\">"
   ]
  },
  {
   "cell_type": "markdown",
   "id": "bba6e07a",
   "metadata": {
    "slideshow": {
     "slide_type": "subslide"
    }
   },
   "source": [
    "Similar approximation for the probing matrix that would result for the subtraction $\\mathbf{i}_3 = \\mathbf{i}_1 - \\mathbf{i}_2$:\n",
    "\n",
    "<img src=\"figures/4/approx_prob_mat_local_descattering.svg\" style=\"max-width:30vw\">"
   ]
  },
  {
   "cell_type": "markdown",
   "id": "4eb7d4e2",
   "metadata": {
    "slideshow": {
     "slide_type": "subslide"
    }
   },
   "source": [
    "#### Only indirect light transport\n",
    "\n",
    "To suppress direct light transport, the illumination vectors $\\mathbf{p}_k$ can be drawn from the Bernoulli distribution and the mask patterns can be set as $\\mathbf{m}_k := \\mathbf{1} - \\mathbf{p}_k$."
   ]
  },
  {
   "cell_type": "markdown",
   "id": "03887653",
   "metadata": {
    "slideshow": {
     "slide_type": "fragment"
    }
   },
   "source": [
    "The resulting approximated matrix will have $0$ on its diagonal and an expected value of $p(1-p)\\cdot K$ everywhere else."
   ]
  },
  {
   "cell_type": "markdown",
   "id": "0fa0e6d0",
   "metadata": {
    "slideshow": {
     "slide_type": "subslide"
    }
   },
   "source": [
    "Example approximated probing matrix for suppressing the direct component with size $10 \\times 10$ resulting from the described method for $p=0.1, K=1000$.\n",
    "\n",
    "<img src=\"figures/4/approx_prob_mat_indirect_only.svg\" style=\"max-width:30vw\">"
   ]
  },
  {
   "cell_type": "markdown",
   "id": "d3d085d1",
   "metadata": {
    "slideshow": {
     "slide_type": "subslide"
    }
   },
   "source": [
    "Example results for only indirect light transport imaging and for enhancing the direct component via subtraction of the indirect only-image from an image acquired under constant illumination:"
   ]
  },
  {
   "cell_type": "markdown",
   "id": "43927938",
   "metadata": {
    "slideshow": {
     "slide_type": "subslide"
    }
   },
   "source": [
    "<img src=\"figures/4/example_indirect_etc_1.svg\" style=\"max-width:30vw\">"
   ]
  },
  {
   "cell_type": "markdown",
   "id": "93fff55e",
   "metadata": {
    "slideshow": {
     "slide_type": "subslide"
    }
   },
   "source": [
    "<img src=\"figures/4/example_indirect_etc_2.svg\" style=\"max-width:30vw\">"
   ]
  }
 ],
 "metadata": {
  "jupytext": {
   "formats": "ipynb,md:myst",
   "text_representation": {
    "extension": ".md",
    "format_name": "myst",
    "format_version": 0.13,
    "jupytext_version": "1.14.1"
   }
  },
  "kernelspec": {
   "display_name": "compimg",
   "language": "python",
   "name": "compimg"
  },
  "language_info": {
   "codemirror_mode": {
    "name": "ipython",
    "version": 3
   },
   "file_extension": ".py",
   "mimetype": "text/x-python",
   "name": "python",
   "nbconvert_exporter": "python",
   "pygments_lexer": "ipython3",
   "version": "3.8.10"
  },
  "source_map": [
   15,
   34,
   55,
   62,
   74,
   86,
   100,
   115,
   129,
   133,
   140,
   144,
   149,
   153,
   157,
   167,
   171,
   175,
   183,
   187,
   191,
   195,
   199,
   203,
   207,
   212,
   221,
   227,
   233,
   237,
   241,
   245,
   249,
   256,
   260,
   264,
   268,
   272,
   280,
   284,
   288,
   294,
   306,
   312,
   316,
   326,
   330,
   334,
   338,
   344,
   354,
   358,
   370,
   374,
   385,
   397,
   401,
   407,
   411,
   415,
   419,
   427,
   435,
   441,
   450,
   454,
   462,
   468,
   474,
   480,
   484,
   488,
   502,
   510,
   514,
   522,
   528,
   532,
   540,
   548,
   552,
   558,
   572,
   576,
   582,
   586,
   590,
   594,
   598,
   608,
   614,
   620,
   626,
   630,
   634,
   640,
   644,
   648,
   654,
   658,
   662,
   668,
   674,
   680,
   686,
   692,
   698,
   704,
   708,
   712,
   718,
   722,
   730,
   734,
   744,
   757,
   765,
   778,
   784,
   790,
   796,
   802,
   806,
   810,
   824,
   829,
   835,
   841,
   847,
   853,
   859,
   863,
   869,
   873,
   877
  ],
  "widgets": {
   "application/vnd.jupyter.widget-state+json": {
    "state": {
     "0382427f305240adb975f15bf7a97810": {
      "model_module": "@jupyter-widgets/controls",
      "model_module_version": "1.5.0",
      "model_name": "VBoxModel",
      "state": {
       "_dom_classes": [
        "widget-interact"
       ],
       "_model_module": "@jupyter-widgets/controls",
       "_model_module_version": "1.5.0",
       "_model_name": "VBoxModel",
       "_view_count": null,
       "_view_module": "@jupyter-widgets/controls",
       "_view_module_version": "1.5.0",
       "_view_name": "VBoxView",
       "box_style": "",
       "children": [
        "IPY_MODEL_c111e62e81ce43dbbfafa1335003ed38",
        "IPY_MODEL_5e45d1531c1f41e7a43688fa1c76285c"
       ],
       "layout": "IPY_MODEL_079a6db0638c4b7d971d6d8fe49a1f81"
      }
     },
     "079a6db0638c4b7d971d6d8fe49a1f81": {
      "model_module": "@jupyter-widgets/base",
      "model_module_version": "1.2.0",
      "model_name": "LayoutModel",
      "state": {
       "_model_module": "@jupyter-widgets/base",
       "_model_module_version": "1.2.0",
       "_model_name": "LayoutModel",
       "_view_count": null,
       "_view_module": "@jupyter-widgets/base",
       "_view_module_version": "1.2.0",
       "_view_name": "LayoutView",
       "align_content": null,
       "align_items": null,
       "align_self": null,
       "border": null,
       "bottom": null,
       "display": null,
       "flex": null,
       "flex_flow": null,
       "grid_area": null,
       "grid_auto_columns": null,
       "grid_auto_flow": null,
       "grid_auto_rows": null,
       "grid_column": null,
       "grid_gap": null,
       "grid_row": null,
       "grid_template_areas": null,
       "grid_template_columns": null,
       "grid_template_rows": null,
       "height": null,
       "justify_content": null,
       "justify_items": null,
       "left": null,
       "margin": null,
       "max_height": null,
       "max_width": null,
       "min_height": null,
       "min_width": null,
       "object_fit": null,
       "object_position": null,
       "order": null,
       "overflow": null,
       "overflow_x": null,
       "overflow_y": null,
       "padding": null,
       "right": null,
       "top": null,
       "visibility": null,
       "width": null
      }
     },
     "4a7b69f691794511af17b9ea448fc291": {
      "model_module": "@jupyter-widgets/base",
      "model_module_version": "1.2.0",
      "model_name": "LayoutModel",
      "state": {
       "_model_module": "@jupyter-widgets/base",
       "_model_module_version": "1.2.0",
       "_model_name": "LayoutModel",
       "_view_count": null,
       "_view_module": "@jupyter-widgets/base",
       "_view_module_version": "1.2.0",
       "_view_name": "LayoutView",
       "align_content": null,
       "align_items": null,
       "align_self": null,
       "border": null,
       "bottom": null,
       "display": null,
       "flex": null,
       "flex_flow": null,
       "grid_area": null,
       "grid_auto_columns": null,
       "grid_auto_flow": null,
       "grid_auto_rows": null,
       "grid_column": null,
       "grid_gap": null,
       "grid_row": null,
       "grid_template_areas": null,
       "grid_template_columns": null,
       "grid_template_rows": null,
       "height": null,
       "justify_content": null,
       "justify_items": null,
       "left": null,
       "margin": null,
       "max_height": null,
       "max_width": null,
       "min_height": null,
       "min_width": null,
       "object_fit": null,
       "object_position": null,
       "order": null,
       "overflow": null,
       "overflow_x": null,
       "overflow_y": null,
       "padding": null,
       "right": null,
       "top": null,
       "visibility": null,
       "width": null
      }
     },
     "547e245e884c472c950b46cb7db3b711": {
      "model_module": "@jupyter-widgets/controls",
      "model_module_version": "1.5.0",
      "model_name": "VBoxModel",
      "state": {
       "_dom_classes": [
        "widget-interact"
       ],
       "_model_module": "@jupyter-widgets/controls",
       "_model_module_version": "1.5.0",
       "_model_name": "VBoxModel",
       "_view_count": null,
       "_view_module": "@jupyter-widgets/controls",
       "_view_module_version": "1.5.0",
       "_view_name": "VBoxView",
       "box_style": "",
       "children": [
        "IPY_MODEL_55633198fe0547a7bca7c66fe83ca246",
        "IPY_MODEL_f2e6877252bc467b8e417bfd5913d6f5"
       ],
       "layout": "IPY_MODEL_4a7b69f691794511af17b9ea448fc291"
      }
     },
     "55633198fe0547a7bca7c66fe83ca246": {
      "model_module": "@jupyter-widgets/controls",
      "model_module_version": "1.5.0",
      "model_name": "IntSliderModel",
      "state": {
       "_dom_classes": [],
       "_model_module": "@jupyter-widgets/controls",
       "_model_module_version": "1.5.0",
       "_model_name": "IntSliderModel",
       "_view_count": null,
       "_view_module": "@jupyter-widgets/controls",
       "_view_module_version": "1.5.0",
       "_view_name": "IntSliderView",
       "continuous_update": true,
       "description": "i",
       "description_tooltip": null,
       "disabled": false,
       "layout": "IPY_MODEL_d64983d4f3ab476fa489c74802d47700",
       "max": 7,
       "min": 1,
       "orientation": "horizontal",
       "readout": true,
       "readout_format": "d",
       "step": 1,
       "style": "IPY_MODEL_8ab41a50a7794bd3b0d1f22451550033",
       "value": 7
      }
     },
     "5e45d1531c1f41e7a43688fa1c76285c": {
      "model_module": "@jupyter-widgets/output",
      "model_module_version": "1.0.0",
      "model_name": "OutputModel",
      "state": {
       "_dom_classes": [],
       "_model_module": "@jupyter-widgets/output",
       "_model_module_version": "1.0.0",
       "_model_name": "OutputModel",
       "_view_count": null,
       "_view_module": "@jupyter-widgets/output",
       "_view_module_version": "1.0.0",
       "_view_name": "OutputView",
       "layout": "IPY_MODEL_7a0e8a89fdc344d190de0d667065365a",
       "msg_id": "",
       "outputs": [
        {
         "data": {
          "text/html": "<img src=\"figures/4/desk_lightsources_example_5.svg\" style=\"max-height:50vh\"/>",
          "text/plain": "<IPython.core.display.HTML object>"
         },
         "metadata": {},
         "output_type": "display_data"
        }
       ]
      }
     },
     "7405addde05b45c3b7ad478e071cb522": {
      "model_module": "@jupyter-widgets/base",
      "model_module_version": "1.2.0",
      "model_name": "LayoutModel",
      "state": {
       "_model_module": "@jupyter-widgets/base",
       "_model_module_version": "1.2.0",
       "_model_name": "LayoutModel",
       "_view_count": null,
       "_view_module": "@jupyter-widgets/base",
       "_view_module_version": "1.2.0",
       "_view_name": "LayoutView",
       "align_content": null,
       "align_items": null,
       "align_self": null,
       "border": null,
       "bottom": null,
       "display": null,
       "flex": null,
       "flex_flow": null,
       "grid_area": null,
       "grid_auto_columns": null,
       "grid_auto_flow": null,
       "grid_auto_rows": null,
       "grid_column": null,
       "grid_gap": null,
       "grid_row": null,
       "grid_template_areas": null,
       "grid_template_columns": null,
       "grid_template_rows": null,
       "height": null,
       "justify_content": null,
       "justify_items": null,
       "left": null,
       "margin": null,
       "max_height": null,
       "max_width": null,
       "min_height": null,
       "min_width": null,
       "object_fit": null,
       "object_position": null,
       "order": null,
       "overflow": null,
       "overflow_x": null,
       "overflow_y": null,
       "padding": null,
       "right": null,
       "top": null,
       "visibility": null,
       "width": null
      }
     },
     "7a0e8a89fdc344d190de0d667065365a": {
      "model_module": "@jupyter-widgets/base",
      "model_module_version": "1.2.0",
      "model_name": "LayoutModel",
      "state": {
       "_model_module": "@jupyter-widgets/base",
       "_model_module_version": "1.2.0",
       "_model_name": "LayoutModel",
       "_view_count": null,
       "_view_module": "@jupyter-widgets/base",
       "_view_module_version": "1.2.0",
       "_view_name": "LayoutView",
       "align_content": null,
       "align_items": null,
       "align_self": null,
       "border": null,
       "bottom": null,
       "display": null,
       "flex": null,
       "flex_flow": null,
       "grid_area": null,
       "grid_auto_columns": null,
       "grid_auto_flow": null,
       "grid_auto_rows": null,
       "grid_column": null,
       "grid_gap": null,
       "grid_row": null,
       "grid_template_areas": null,
       "grid_template_columns": null,
       "grid_template_rows": null,
       "height": null,
       "justify_content": null,
       "justify_items": null,
       "left": null,
       "margin": null,
       "max_height": null,
       "max_width": null,
       "min_height": null,
       "min_width": null,
       "object_fit": null,
       "object_position": null,
       "order": null,
       "overflow": null,
       "overflow_x": null,
       "overflow_y": null,
       "padding": null,
       "right": null,
       "top": null,
       "visibility": null,
       "width": null
      }
     },
     "8ab41a50a7794bd3b0d1f22451550033": {
      "model_module": "@jupyter-widgets/controls",
      "model_module_version": "1.5.0",
      "model_name": "SliderStyleModel",
      "state": {
       "_model_module": "@jupyter-widgets/controls",
       "_model_module_version": "1.5.0",
       "_model_name": "SliderStyleModel",
       "_view_count": null,
       "_view_module": "@jupyter-widgets/base",
       "_view_module_version": "1.2.0",
       "_view_name": "StyleView",
       "description_width": "",
       "handle_color": null
      }
     },
     "a13bc43a7fa74fdfb6523350ec6ccfc6": {
      "model_module": "@jupyter-widgets/controls",
      "model_module_version": "1.5.0",
      "model_name": "SliderStyleModel",
      "state": {
       "_model_module": "@jupyter-widgets/controls",
       "_model_module_version": "1.5.0",
       "_model_name": "SliderStyleModel",
       "_view_count": null,
       "_view_module": "@jupyter-widgets/base",
       "_view_module_version": "1.2.0",
       "_view_name": "StyleView",
       "description_width": "",
       "handle_color": null
      }
     },
     "c111e62e81ce43dbbfafa1335003ed38": {
      "model_module": "@jupyter-widgets/controls",
      "model_module_version": "1.5.0",
      "model_name": "IntSliderModel",
      "state": {
       "_dom_classes": [],
       "_model_module": "@jupyter-widgets/controls",
       "_model_module_version": "1.5.0",
       "_model_name": "IntSliderModel",
       "_view_count": null,
       "_view_module": "@jupyter-widgets/controls",
       "_view_module_version": "1.5.0",
       "_view_name": "IntSliderView",
       "continuous_update": true,
       "description": "i",
       "description_tooltip": null,
       "disabled": false,
       "layout": "IPY_MODEL_7405addde05b45c3b7ad478e071cb522",
       "max": 5,
       "min": 1,
       "orientation": "horizontal",
       "readout": true,
       "readout_format": "d",
       "step": 1,
       "style": "IPY_MODEL_a13bc43a7fa74fdfb6523350ec6ccfc6",
       "value": 5
      }
     },
     "d64983d4f3ab476fa489c74802d47700": {
      "model_module": "@jupyter-widgets/base",
      "model_module_version": "1.2.0",
      "model_name": "LayoutModel",
      "state": {
       "_model_module": "@jupyter-widgets/base",
       "_model_module_version": "1.2.0",
       "_model_name": "LayoutModel",
       "_view_count": null,
       "_view_module": "@jupyter-widgets/base",
       "_view_module_version": "1.2.0",
       "_view_name": "LayoutView",
       "align_content": null,
       "align_items": null,
       "align_self": null,
       "border": null,
       "bottom": null,
       "display": null,
       "flex": null,
       "flex_flow": null,
       "grid_area": null,
       "grid_auto_columns": null,
       "grid_auto_flow": null,
       "grid_auto_rows": null,
       "grid_column": null,
       "grid_gap": null,
       "grid_row": null,
       "grid_template_areas": null,
       "grid_template_columns": null,
       "grid_template_rows": null,
       "height": null,
       "justify_content": null,
       "justify_items": null,
       "left": null,
       "margin": null,
       "max_height": null,
       "max_width": null,
       "min_height": null,
       "min_width": null,
       "object_fit": null,
       "object_position": null,
       "order": null,
       "overflow": null,
       "overflow_x": null,
       "overflow_y": null,
       "padding": null,
       "right": null,
       "top": null,
       "visibility": null,
       "width": null
      }
     },
     "dd1d7bf707334c9e9f353c64fab2d472": {
      "model_module": "@jupyter-widgets/base",
      "model_module_version": "1.2.0",
      "model_name": "LayoutModel",
      "state": {
       "_model_module": "@jupyter-widgets/base",
       "_model_module_version": "1.2.0",
       "_model_name": "LayoutModel",
       "_view_count": null,
       "_view_module": "@jupyter-widgets/base",
       "_view_module_version": "1.2.0",
       "_view_name": "LayoutView",
       "align_content": null,
       "align_items": null,
       "align_self": null,
       "border": null,
       "bottom": null,
       "display": null,
       "flex": null,
       "flex_flow": null,
       "grid_area": null,
       "grid_auto_columns": null,
       "grid_auto_flow": null,
       "grid_auto_rows": null,
       "grid_column": null,
       "grid_gap": null,
       "grid_row": null,
       "grid_template_areas": null,
       "grid_template_columns": null,
       "grid_template_rows": null,
       "height": null,
       "justify_content": null,
       "justify_items": null,
       "left": null,
       "margin": null,
       "max_height": null,
       "max_width": null,
       "min_height": null,
       "min_width": null,
       "object_fit": null,
       "object_position": null,
       "order": null,
       "overflow": null,
       "overflow_x": null,
       "overflow_y": null,
       "padding": null,
       "right": null,
       "top": null,
       "visibility": null,
       "width": null
      }
     },
     "f2e6877252bc467b8e417bfd5913d6f5": {
      "model_module": "@jupyter-widgets/output",
      "model_module_version": "1.0.0",
      "model_name": "OutputModel",
      "state": {
       "_dom_classes": [],
       "_model_module": "@jupyter-widgets/output",
       "_model_module_version": "1.0.0",
       "_model_name": "OutputModel",
       "_view_count": null,
       "_view_module": "@jupyter-widgets/output",
       "_view_module_version": "1.0.0",
       "_view_name": "OutputView",
       "layout": "IPY_MODEL_dd1d7bf707334c9e9f353c64fab2d472",
       "msg_id": "",
       "outputs": [
        {
         "data": {
          "text/html": "<img src=\"figures/4/symmetric_transport_matrix_7.svg\" style=\"max-height:50vh\"/>",
          "text/plain": "<IPython.core.display.HTML object>"
         },
         "metadata": {},
         "output_type": "display_data"
        }
       ]
      }
     }
    },
    "version_major": 2,
    "version_minor": 0
   }
  }
 },
 "nbformat": 4,
 "nbformat_minor": 5
}