{
 "cells": [
  {
   "cell_type": "code",
   "execution_count": 1,
   "id": "d3d20989",
   "metadata": {
    "init_cell": true,
    "tags": [
     "remove-cell"
    ]
   },
   "outputs": [
    {
     "data": {
      "application/javascript": [
       "var cells = Jupyter.notebook.get_cells();\n",
       "           for (var i = 0; i < cells.length; i++) {\n",
       "               var cur_cell = cells[i];\n",
       "               var tags = cur_cell._metadata.tags;\n",
       "               console.log(i);\n",
       "               console.log(tags == undefined);\n",
       "               console.log(tags);\n",
       "               if (tags != undefined) {\n",
       "               for (var j = 0; j < tags.length; j++) {\n",
       "                  if (tags[j]==\"book_only\" | tags[j]==\"remove-cell\") {cur_cell.element.hide();}\n",
       "                  if (tags[j]==\"presentation_only\") {cur_cell.element.show();}\n",
       "            }}}\n"
      ],
      "text/plain": [
       "<IPython.core.display.Javascript object>"
      ]
     },
     "metadata": {},
     "output_type": "display_data"
    }
   ],
   "source": [
    "%%js\n",
    "var cells = Jupyter.notebook.get_cells();\n",
    "           for (var i = 0; i < cells.length; i++) {\n",
    "               var cur_cell = cells[i];\n",
    "               var tags = cur_cell._metadata.tags;\n",
    "               console.log(i);\n",
    "               console.log(tags == undefined);\n",
    "               console.log(tags);\n",
    "               if (tags != undefined) {\n",
    "               for (var j = 0; j < tags.length; j++) {\n",
    "                  if (tags[j]==\"book_only\" | tags[j]==\"remove-cell\") {cur_cell.element.hide();}\n",
    "                  if (tags[j]==\"presentation_only\") {cur_cell.element.show();}\n",
    "            }}}"
   ]
  },
  {
   "cell_type": "code",
   "execution_count": 2,
   "id": "9526d533",
   "metadata": {
    "init_cell": true,
    "slideshow": {
     "slide_type": "notes"
    },
    "tags": [
     "remove-cell"
    ]
   },
   "outputs": [],
   "source": [
    "from __future__ import print_function\n",
    "from ipywidgets import interact, interactive, fixed, interact_manual\n",
    "import ipywidgets as widgets\n",
    "import numpy as np\n",
    "import matplotlib.pyplot as plt\n",
    "import cv2\n",
    "import scipy.signal as sig\n",
    "from scipy.integrate import simpson\n",
    "from IPython.display import SVG, display, IFrame, HTML\n",
    "%matplotlib notebook\n",
    "book = False"
   ]
  },
  {
   "cell_type": "code",
   "execution_count": 3,
   "id": "574f4527",
   "metadata": {
    "tags": [
     "remove-input",
     "book_only"
    ]
   },
   "outputs": [],
   "source": [
    "%matplotlib inline\n",
    "book = True"
   ]
  },
  {
   "cell_type": "code",
   "execution_count": 4,
   "id": "a6d21f64",
   "metadata": {
    "init_cell": true,
    "slideshow": {
     "slide_type": "notes"
    },
    "tags": [
     "remove-cell"
    ]
   },
   "outputs": [],
   "source": [
    "def showFig2(path,i,ending, width, height):\n",
    "    imgToShow = plt.imread(f\"{path}{i}{ending}\")\n",
    "    plt.imshow(imgToShow)"
   ]
  },
  {
   "cell_type": "code",
   "execution_count": 5,
   "id": "2529a32f",
   "metadata": {
    "init_cell": true,
    "slideshow": {
     "slide_type": "notes"
    },
    "tags": [
     "remove-cell"
    ]
   },
   "outputs": [],
   "source": [
    "def showFig(path,i,ending, width, height):\n",
    "    filename = path+str(i)+ending\n",
    "    return HTML(\"<img src=\\\"\" + filename +  f\"\\\" style=\\\"max-height:{height}vh\\\"/>\")"
   ]
  },
  {
   "cell_type": "code",
   "execution_count": 6,
   "id": "4e60562c",
   "metadata": {
    "init_cell": true,
    "slideshow": {
     "slide_type": "notes"
    },
    "tags": [
     "remove-cell"
    ]
   },
   "outputs": [],
   "source": [
    "def imshow(img, cmap=None):\n",
    "    plt.close('all')\n",
    "    plt.figure()\n",
    "    plt.imshow(img, cmap=cmap)\n",
    "    plt.show()"
   ]
  },
  {
   "cell_type": "code",
   "execution_count": 7,
   "id": "b6ff0c70",
   "metadata": {
    "init_cell": true,
    "slideshow": {
     "slide_type": "notes"
    },
    "tags": [
     "remove-cell"
    ]
   },
   "outputs": [],
   "source": [
    "def imshow2(img, cmap=None):\n",
    "    #plt.close('all')\n",
    "    #plt.figure()\n",
    "    plt.clf()\n",
    "    plt.imshow(img, cmap=cmap)\n",
    "    #plt.show()"
   ]
  },
  {
   "cell_type": "markdown",
   "id": "15bdb77d",
   "metadata": {
    "slideshow": {
     "slide_type": "slide"
    }
   },
   "source": [
    "$\\begin{align}\n",
    "  \\newcommand{transp}{^\\intercal}\n",
    "  \\newcommand{F}{\\mathcal{F}}\n",
    "  \\newcommand{Fi}{\\mathcal{F}^{-1}}\n",
    "  \\newcommand{inv}{^{-1}}\n",
    "  \\newcommand{stochvec}[1]{\\mathbf{\\tilde{#1}}}\n",
    "  \\newcommand{argmax}[1]{\\underset{#1}{\\mathrm{arg\\, max}}}\n",
    "  \\newcommand{argmin}[1]{\\underset{#1}{\\mathrm{arg\\, min}}}\n",
    "\\end{align}$\n",
    "\n",
    "<font size=\"7\"> Computational Imaging </font><br><br><br>"
   ]
  },
  {
   "cell_type": "markdown",
   "id": "0ccd24a7",
   "metadata": {
    "slideshow": {
     "slide_type": "fragment"
    }
   },
   "source": [
    "# Light Transport Analysis"
   ]
  },
  {
   "cell_type": "markdown",
   "id": "83f0c0e9",
   "metadata": {
    "slideshow": {
     "slide_type": "subslide"
    }
   },
   "source": [
    "##### Content\n",
    "* Introduction into light transport\n",
    "    * The light transport equation\n",
    "    * The light transport matrix\n",
    "* Optical computing for fast light transport \n",
    "    * Optical interpretation of matrix vector products\n",
    "    * Krylov subspace methods (optical power iteration, optical Arnoldi)\n",
    "* Light transport matrix processing for visual inspection\n",
    "    * Light transport matrix feature extraction\n",
    "    * Signal-to-noise ratio based image fusion\n",
    "* Separation of direct and indirect light transport\n",
    "    * Inverse light transport\n",
    "    * Indirect appearance by structured light transport\n",
    "* Compressed sensing for light transport analysis\n",
    "    * Introduction to compressed sensing\n",
    "    * Compressive light transport matrix acquisition"
   ]
  },
  {
   "cell_type": "markdown",
   "id": "671f8223",
   "metadata": {
    "slideshow": {
     "slide_type": "slide"
    }
   },
   "source": [
    "## Introduction into light transport"
   ]
  },
  {
   "cell_type": "markdown",
   "id": "62b36554",
   "metadata": {},
   "source": [
    "* Light transport = all light travelling in a scene from illumination sources to sensor elements (i.e., pixels).\n",
    "* Can be mathematically described via the so-called *light transport matrix* $\\mathbf{T}$, if the common assumption of linear light transport is made."
   ]
  },
  {
   "cell_type": "markdown",
   "id": "1fe869a5",
   "metadata": {},
   "source": [
    "The matrix $\\mathbf{T}$ contains the individual influences of all $P$ light sources to all $I$ sensor elements and hence has dimensions of $\\mathbf{T} \\in \\mathbb{R}^{I\\times P}_+$."
   ]
  },
  {
   "cell_type": "markdown",
   "id": "6a114bc6",
   "metadata": {
    "tags": [
     "book_only"
    ]
   },
   "source": [
    "The elements of $\\mathbf{T}$ are non-negative as only positive energy or no energy can be transported via light."
   ]
  },
  {
   "cell_type": "markdown",
   "id": "8819352e",
   "metadata": {},
   "source": [
    "The *light transport equation* \n",
    "$\\begin{align} \n",
    "   \\mathbf{i} = \\mathbf{T}\\mathbf{p}\n",
    "\\end{align}$\n",
    "describes the formation of the sensor values $\\mathbf{i}$ of the $I$ sensor elements when the scene is illuminated by the $P$ light sources with respective intensities $\\mathbf{p}$."
   ]
  },
  {
   "cell_type": "markdown",
   "id": "08718c1c",
   "metadata": {},
   "source": [
    "For the following content, we will assume illumination of the scene by a projector projecting a two-dimensional image and a two-dimensional gray-value camera serving as the sensor."
   ]
  },
  {
   "cell_type": "markdown",
   "id": "90eefcc7",
   "metadata": {},
   "source": [
    "In this case, $\\mathbf{i}$ and $\\mathbf{p}$ are the vector representations of the camera image, respectively, of the projected image or pattern."
   ]
  },
  {
   "cell_type": "markdown",
   "id": "8f7d234d",
   "metadata": {},
   "source": [
    "If the light transport matrix $\\mathbf{T}$ is known, the camera image that would result from the illumination with an arbitrary pattern $\\mathbf{p}$ could be synthetically calculated by just evaluating the light transport equation\n",
    "$\\begin{align} \n",
    "  \\mathbf{i} = \\mathbf{T}\\mathbf{p} \\,.\n",
    "\\end{align}$"
   ]
  },
  {
   "cell_type": "markdown",
   "id": "4909dddf",
   "metadata": {},
   "source": [
    "##### Example"
   ]
  },
  {
   "cell_type": "code",
   "execution_count": 8,
   "id": "369a33c6",
   "metadata": {},
   "outputs": [
    {
     "data": {
      "application/vnd.jupyter.widget-view+json": {
       "model_id": "6498cb6226ec45e69b568402e254fd61",
       "version_major": 2,
       "version_minor": 0
      },
      "text/plain": [
       "interactive(children=(IntSlider(value=5, description='i', max=5, min=1), Output()), _dom_classes=('widget-inte…"
      ]
     },
     "metadata": {},
     "output_type": "display_data"
    },
    {
     "data": {
      "text/plain": [
       "<function __main__.<lambda>(i)>"
      ]
     },
     "execution_count": 8,
     "metadata": {},
     "output_type": "execute_result"
    }
   ],
   "source": [
    "interact(lambda i: showFig('figures/4/desk_lightsources_example_',i,'.svg',800,50), i=widgets.IntSlider(min=(min_i:=1),max=(max_i:=5), step=1, value=(max_i if book else min_i)))"
   ]
  },
  {
   "cell_type": "markdown",
   "id": "b6e30143",
   "metadata": {},
   "source": [
    "(All images in this chapter are kindly provided by Matthew O'Toole)."
   ]
  },
  {
   "cell_type": "markdown",
   "id": "8f2297ab",
   "metadata": {},
   "source": [
    "In this sense, the element $T[m,n]$ of $\\mathbf{T}$ encodes the contribution of light source (i.e., projector pixel) $n$ to camera pixel $m$."
   ]
  },
  {
   "cell_type": "markdown",
   "id": "7c36d230",
   "metadata": {},
   "source": [
    "Unfortunately, the matrix $\\mathbf{T}$ is too large to measure and handle digitally for many practically relevant applications."
   ]
  },
  {
   "cell_type": "markdown",
   "id": "8f2e1b73",
   "metadata": {},
   "source": [
    "### Practical limitations \n",
    "\n",
    "Consider a pair of a camera and a projector both having a (comparatively low) resolution of 1 mega pixels, then the resulting light transport matrix would have $10^{12}$ elements. \n",
    "\n",
    "* With an acquisition rate of $30$ Hz, acquiring the required $10^6$ measurements would need over 9 hours of time.\n",
    "* For a quantization of 8 bit per pixel for the camera images, $\\mathbf{T}$ would require about one terabyte of storage."
   ]
  },
  {
   "cell_type": "markdown",
   "id": "e1b55f5f",
   "metadata": {},
   "source": [
    "### Optical linear algebra\n",
    "\n",
    "To overcome the mentioned limitations, we will study approaches to perform linear algebra calculations involving $\\mathbf{T}$ only in the optical domain, i.e., without ever capturing the single elements of $\\mathbf{T}$."
   ]
  },
  {
   "cell_type": "markdown",
   "id": "440ce9aa",
   "metadata": {},
   "source": [
    "### Light paths\n",
    "\n",
    "We again assume that all geometric structures involved in our imaging system are significantly larger than the wavelength of the employed light, so that the model of geometric optics, i.e., of light propagating along rays, is valid."
   ]
  },
  {
   "cell_type": "markdown",
   "id": "16cf477b",
   "metadata": {},
   "source": [
    "While travelling through the scene, light rays can be refracted, reflected, scattered, etc. until they either hit one of the camera's pixels or get absorbed or exit the scene."
   ]
  },
  {
   "cell_type": "markdown",
   "id": "c34401b3",
   "metadata": {},
   "source": [
    "We denote a sequence of such light rays which connect a light source (i.e., a projector pixel) and a camera pixel as a *light path*."
   ]
  },
  {
   "cell_type": "markdown",
   "id": "dbcb5851",
   "metadata": {},
   "source": [
    "Light paths can be categorized into *direct* and *indirect* paths."
   ]
  },
  {
   "cell_type": "markdown",
   "id": "a45ecd05",
   "metadata": {},
   "source": [
    "<img src=\"figures/4/light_path_categories.png\" style=\"max-width:30vw\">"
   ]
  },
  {
   "cell_type": "markdown",
   "id": "de7482bd",
   "metadata": {},
   "source": [
    "* **Black ray - direct paths**: From projector pixel to camera pixel via single scene point interaction.\n",
    "* **Indirect paths**: Interaction with multiple scene points:\n",
    "    * **Red rays - diffuse indirect paths**: Diffusely scatter at two or more diffuse points.\n",
    "    * **Green rays - sepcular indirect paths**: Diffusely scatter at most once."
   ]
  },
  {
   "cell_type": "markdown",
   "id": "f9b17afe",
   "metadata": {},
   "source": [
    "Important: Since the area of a camera pixel is not infinitely small, it usually receives both, rays from direct and indirect light paths."
   ]
  },
  {
   "cell_type": "markdown",
   "id": "efb7e7c7",
   "metadata": {},
   "source": [
    "The image captured with the camera can be imagined as a superposition of multiple latent images, all corresponding to different kinds of light paths."
   ]
  },
  {
   "cell_type": "markdown",
   "id": "646a9261",
   "metadata": {},
   "source": [
    "The reconstruction of these latent images is one major goal of light transport analysis."
   ]
  },
  {
   "cell_type": "markdown",
   "id": "9d7a46ea",
   "metadata": {},
   "source": [
    "They often reveal interesting properties of the scene."
   ]
  },
  {
   "cell_type": "markdown",
   "id": "c203d292",
   "metadata": {},
   "source": [
    "### Teaser\n",
    "\n",
    "We will see, how we\n",
    "\n",
    "* can synthetically relight a scene, i.e., synthesize the image that would result when illuminating it with arbitrary illumination patterns (see previous example images),"
   ]
  },
  {
   "cell_type": "markdown",
   "id": "83bb1cb3",
   "metadata": {},
   "source": [
    "* can manipulate the image of a projector in order to compensate disturbing structures on the screen surface,"
   ]
  },
  {
   "cell_type": "markdown",
   "id": "ccf17710",
   "metadata": {},
   "source": [
    "* can separate direct an indirect light transport to obtain images dominated only by the respective optical effects.\n",
    "\n",
    "<img src=\"figures/4/Example_Separation_Direct_Indirect.svg\" style=\"max-width:30vw\">"
   ]
  },
  {
   "cell_type": "markdown",
   "id": "a1f2b087",
   "metadata": {},
   "source": [
    "### Entries of the light transport matrix\n",
    "\n",
    "Each entry of $\\mathbf{T}[m,n]$ describes the ratio of radiant energy that is transmitted from light source $n$ to sensor element $m$ via all optical paths that somehow connect source $n$ and sensor element $m$:\n",
    "$\\begin{align} \n",
    "   T[m,n] = \\int\\limits_{\\Omega_{m,n}} f(x) \\mathrm{d} \\mu (x)\\,,\n",
    "\\end{align}$\n",
    "with $\\Omega_{m,n}$ denoting the support, i.e., the space of light paths between source $n$ and sensor element $m$, the scattering throughput function $f(x)$ encoding the radiant energy transported along a light path $x$ and $\\mu (x)$ representing the corresponding measure."
   ]
  },
  {
   "cell_type": "markdown",
   "id": "24de3fc7",
   "metadata": {},
   "source": [
    "#### Helmholtz reciprocity principle\n",
    "\n",
    "For many practically relevant scenes, the scattering throughput scene can be assumed to obey the *Helmholtz reciprocity principle*, according to which the value of $f(x)$ for a light path $x$ does not depend on the propagation direction of the light rays of $x$ (i.e., interchanging projector pixel $n$ with camera pixel $m$ would result in the same value for $T[m,n]$)."
   ]
  },
  {
   "cell_type": "markdown",
   "id": "9d627179",
   "metadata": {},
   "source": [
    "## Light transport analysis via optical computing"
   ]
  },
  {
   "cell_type": "markdown",
   "id": "7bf39fac",
   "metadata": {},
   "source": [
    "When illuminating the scene with an illumination vector $\\mathbf{p}$, capturing a camera image yields\n",
    "$\\begin{align} \n",
    "   \\mathbf{i} = \\mathbf{T}\\mathbf{p} \\,,\n",
    "\\end{align}$\n",
    "i.e., the matrix multiplication $\\mathbf{Tp}$ has been performed in the optical domain."
   ]
  },
  {
   "cell_type": "markdown",
   "id": "c45c076e",
   "metadata": {},
   "source": [
    "This is the only possible way to interact with $\\mathbf{T}$ in order to get information about it, i.e., via multiplying $\\mathbf{T}$ with some vector $\\mathbf{p}$ and observing the result $\\mathbf{i}$."
   ]
  },
  {
   "cell_type": "markdown",
   "id": "69ce466d",
   "metadata": {},
   "source": [
    "Luckily, dealing with very large matrices like $\\mathbf{T}$ only via matrix multiplication as stated before, represents a well-studied problem in the field of linear algebra."
   ]
  },
  {
   "cell_type": "markdown",
   "id": "bb5890c8",
   "metadata": {},
   "source": [
    "Especially the set of so-called *Krylov subspace methods* is suitable for our case, which is why we will study some of these approaches in the following. \n",
    "\n",
    "### Optical power iteration\n",
    "\n",
    "We will first study a simple method to obtain the eigenvector $\\mathbf{v}_1$ of $\\mathbf{T}$ that corresponds to its largest eigenvalue $\\lambda_1$. For this purpose, we will transform a method called *power iteration* into the optical domain."
   ]
  },
  {
   "cell_type": "markdown",
   "id": "e6e38d28",
   "metadata": {},
   "source": [
    "The vector $\\mathbf{v}$ is called the eigenvector of a square matrix $\\mathbf{T}$ if \n",
    "$\\begin{align} \n",
    "   \\mathbf{Tv} = \\lambda \\mathbf{v} \\,,\n",
    "\\end{align}$\n",
    "with the so-called scalar eigenvalue $\\lambda$."
   ]
  },
  {
   "cell_type": "markdown",
   "id": "abb59746",
   "metadata": {},
   "source": [
    "The eigenvector $\\mathbf{v}_1$ that corresponds to the eigenvalue $\\lambda_1$ with the highest absolute value is called the *principal eigenvector*."
   ]
  },
  {
   "cell_type": "markdown",
   "id": "14ddad67",
   "metadata": {},
   "source": [
    "#### Power iteration\n",
    "\n",
    "Power iteration is a simple numerical algorithm for calculating the principal eigenvector of a square matrix $\\mathbf{T}$. It exploits the fact the sequence \n",
    "$\\begin{align} \n",
    "   \\mathbf{p}, \\mathbf{Tp}, \\mathbf{T}^2\\mathbf{p}, \\mathbf{T}^3\\mathbf{p}, \\ldots \n",
    "\\end{align}$\n",
    "converges to the principal eigenvector $\\mathbf{v}_1$ of $\\mathbf{T}$ for any initial vector $\\mathbf{p}$, that is not orthogonal to $\\mathbf{v}_1$."
   ]
  },
  {
   "cell_type": "markdown",
   "id": "72608b7d",
   "metadata": {},
   "source": [
    "#### Implementation"
   ]
  },
  {
   "cell_type": "markdown",
   "id": "284b145f",
   "metadata": {
    "cell_style": "split"
   },
   "source": [
    "The typical implementation looks like:\n",
    "\n",
    "$\\mathbf{Function}\\, \\mathrm{powerIteration}(\\mathbf{T})$<br><br>\n",
    "$\\quad \\mathbf{p}_1 \\leftarrow \\text{ random vector}$<br>\n",
    "$\\quad \\mathbf{for}\\, k \\in [1,\\ldots,K]:$<br><br>\n",
    "$\\qquad \\mathbf{i}_k \\leftarrow \\mathbf{Tp}_k$<br>\n",
    "$\\qquad \\mathbf{p}_{k+1} \\leftarrow \\frac{\\mathbf{i}_k}{\\left\\| \\mathbf{i}_k \\right\\|_2 }$<br><br>\n",
    "$\\quad \\textbf{return}\\,  \\mathbf{p}_{k+1}$"
   ]
  },
  {
   "cell_type": "markdown",
   "id": "cbfb77c8",
   "metadata": {
    "cell_style": "split"
   },
   "source": [
    "The optical counterpart is given by:\n",
    "\n",
    "$\\mathbf{Function}\\, \\mathrm{opticalPowerIteration}(\\mathtt{camera},\\, \\mathtt{projector})$<br><br>\n",
    "$\\quad \\mathbf{p}_1 \\leftarrow \\text{ random vector}$<br>\n",
    "$\\quad \\mathbf{for}\\, k \\in [1,\\ldots,K]:$<br>\n",
    "$\\qquad \\mathtt{projector}.\\text{project}(\\mathbf{p}_k)$<br>\n",
    "$\\qquad \\mathbf{i}_k \\leftarrow \\mathtt{camera}.\\text{acquireImage}()$<br>\n",
    "$\\qquad \\mathbf{p}_{k+1} \\leftarrow \\frac{\\mathbf{i}_k}{\\left\\| \\mathbf{i}_k \\right\\|_2 }$<br><br>\n",
    "$\\quad \\textbf{return}\\,  \\mathbf{p}_{k+1}$"
   ]
  },
  {
   "cell_type": "markdown",
   "id": "87326987",
   "metadata": {},
   "source": [
    "Note that all elements of $\\mathbf{p}$ have to be non-negative so that they can be projected onto the scene."
   ]
  },
  {
   "cell_type": "markdown",
   "id": "ef7028c9",
   "metadata": {},
   "source": [
    "Some intermediate steps of an example optical power iteration application:\n",
    "\n",
    "<img src=\"figures/4/powerIteration_example.svg\" style=\"max-width:30vw\">"
   ]
  },
  {
   "cell_type": "markdown",
   "id": "ee29cdcd",
   "metadata": {},
   "source": [
    "#### Limitations"
   ]
  },
  {
   "cell_type": "markdown",
   "id": "0f23585f",
   "metadata": {},
   "source": [
    "* Power iteration can only be applied to square matrices (i.e., for same sizes of projected images and captured images)."
   ]
  },
  {
   "cell_type": "markdown",
   "id": "2cca6c52",
   "metadata": {},
   "source": [
    "* The convergence behavior of power iteration strongly depends on properties of $\\mathbf{T}$, especially on the similarity of the top two eigenvalues."
   ]
  },
  {
   "cell_type": "markdown",
   "id": "853bd2d3",
   "metadata": {
    "slideshow": {
     "slide_type": "slide"
    }
   },
   "source": [
    "### Krylov subspace methods\n",
    "\n",
    "Krylov subspace methods represent a powerful family of algorithms for analyzing large sparse matrices $\\mathbf{T}$ whose shape can be square or rectangular. All they need is to perform multiplications with $\\mathbf{T}$ and sometimes with its transpose $\\mathbf{T}\\transp$.\n",
    "<br>\n",
    "Before we introduce the actual algorithms, we cover some prerequisites."
   ]
  },
  {
   "cell_type": "markdown",
   "id": "69aa32c1",
   "metadata": {
    "slideshow": {
     "slide_type": "subslide"
    }
   },
   "source": [
    "The Krylov subspace of dimension $k$ is the span of vectors produced after $k$ steps via power iteration, i.e.:\n",
    "$\\begin{align} \n",
    "   \\left( \\mathbf{p}_1 , \\mathbf{p}_2 = \\mathbf{Tp}, \\mathbf{p}_3 = \\mathbf{T}^2 \\mathbf{p}_1 , \\ldots , \\mathbf{p}_{k+1} = \\mathbf{T}^k \\mathbf{p}_1 \\right) \\,.\n",
    "\\end{align}$"
   ]
  },
  {
   "cell_type": "markdown",
   "id": "3cb9af6f",
   "metadata": {
    "slideshow": {
     "slide_type": "subslide"
    }
   },
   "source": [
    "#### Optical matrix-vector multiplication for arbitrary vectors \n",
    "\n",
    "Krylov subspace methods require to compute products with $\\mathbf{T}$ for arbitrary vectors $\\mathbf{p}$, which may also contain negative values."
   ]
  },
  {
   "cell_type": "markdown",
   "id": "a8076af7",
   "metadata": {
    "slideshow": {
     "slide_type": "fragment"
    }
   },
   "source": [
    "For this purpose, we express $\\mathbf{p}$ as the difference between two non-negative vectors $\\mathbf{p}^+$ and $\\mathbf{p}^-$:\n",
    "$\\begin{align} \n",
    "   \\mathbf{p} &= \\mathbf{p}^+ - \\mathbf{p}^- \\\\\n",
    "   \\mathbf{Tp} &= \\mathbf{Tp}^+ - \\mathbf{Tp}^- \\,.\n",
    "\\end{align}$"
   ]
  },
  {
   "cell_type": "markdown",
   "id": "d2809893",
   "metadata": {
    "slideshow": {
     "slide_type": "fragment"
    }
   },
   "source": [
    "As a result, we have to project and capture two images to achieve an optical realization of these kinds of matrix-vector multiplications."
   ]
  },
  {
   "cell_type": "markdown",
   "id": "84154fdd",
   "metadata": {},
   "source": [
    "#### Symmetry of transport matrix\n",
    "\n",
    "Only for symmetric matrices the convergence characteristics of Krylov subspace is well-understood and promises fast convergence. Hence, we stick to that case and ensure optically that the light transport matrix $\\mathbf{T}$ is symmetric."
   ]
  },
  {
   "cell_type": "markdown",
   "id": "aa34b8a1",
   "metadata": {},
   "source": [
    "##### Enforcing symmetry for $\\mathbf{T}$\n",
    "\n",
    "By using a coaxial camera-projector arrangement and equal resolutions for both components, the symmetry of $\\mathbf{T}$ can be guaranteed due to Helmholtz reciprocity (see the following figure)."
   ]
  },
  {
   "cell_type": "code",
   "execution_count": 9,
   "id": "af3e7e8a",
   "metadata": {},
   "outputs": [
    {
     "data": {
      "application/vnd.jupyter.widget-view+json": {
       "model_id": "eb3ff299caac48ecb9d780bccd170a9a",
       "version_major": 2,
       "version_minor": 0
      },
      "text/plain": [
       "interactive(children=(IntSlider(value=7, description='i', max=7, min=1), Output()), _dom_classes=('widget-inte…"
      ]
     },
     "metadata": {},
     "output_type": "display_data"
    },
    {
     "data": {
      "text/plain": [
       "<function __main__.<lambda>(i)>"
      ]
     },
     "execution_count": 9,
     "metadata": {},
     "output_type": "execute_result"
    }
   ],
   "source": [
    "interact(lambda i: showFig('figures/4/symmetric_transport_matrix_',i,'.svg',800,50), i=widgets.IntSlider(min=(min_i:=1),max=(max_i:=7), step=1, value=(max_i if book else min_i)))"
   ]
  },
  {
   "cell_type": "markdown",
   "id": "3fe9c15d",
   "metadata": {},
   "source": [
    "#### Low-rank approximation of $\\mathbf{T}$ via optical Arnoldi\n",
    "\n",
    "In its $k$-th iteration, the Arnoldi method allows to calculate the top $k$ eigenvectors (or singular vectors) of a matrix."
   ]
  },
  {
   "cell_type": "markdown",
   "id": "ed96e507",
   "metadata": {},
   "source": [
    "It calculates a sequence of orthogonal vectors $\\mathbf{p}_1, \\ldots, \\mathbf{p}_k$ whose span is an approximation of the span of the top $k$ eigenvectors of the matrix under investigation."
   ]
  },
  {
   "cell_type": "markdown",
   "id": "150f43ec",
   "metadata": {},
   "source": [
    "The accuracy of the approximation increases with $k$."
   ]
  },
  {
   "cell_type": "markdown",
   "id": "7599009a",
   "metadata": {},
   "source": [
    "$\\mathbf{Function}\\, \\mathrm{opticalSymmetricArnoldi}(\\mathtt{camera},\\, \\mathtt{projector})$<br><br>\n",
    "$\\quad \\mathbf{p}_1 \\leftarrow \\text{ non-zero random vector}$<br>\n",
    "$\\quad \\mathbf{for}\\, k \\in [1,\\ldots,K]:$<br>\n",
    "$\\qquad \\mathtt{projector}.\\text{project}(\\mathbf{p}^+_k)$<br>\n",
    "$\\qquad \\mathbf{i}^+_k \\leftarrow \\mathtt{camera}.\\text{acquireImage}()$<br>\n",
    "$\\qquad \\mathtt{projector}.\\text{project}(\\mathbf{p}^-_k)$<br>\n",
    "$\\qquad \\mathbf{i}^-_k \\leftarrow \\mathtt{camera}.\\text{acquireImage}()$<br>\n",
    "$\\qquad \\mathbf{i}_k \\leftarrow i^+_k - i^-_k$<br>\n",
    "$\\qquad \\mathbf{p}_{k+1} \\leftarrow \\text{ortho}(\\mathbf{p}_1, \\ldots ,\\mathbf{p}_k,\\mathbf{i}_k)$\n",
    "$\\qquad \\mathbf{p}_{k+1} \\leftarrow \\frac{\\mathbf{p}_{k+1}}{\\left\\| \\mathbf{p}_{k+1} \\right\\|_2 }$<br><br>\n",
    "$\\quad \\textbf{return}\\,  \\left[ \\mathbf{i}_1 \\cdots \\mathbf{i}_{K} \\right] \\left[ \\mathbf{p}_1 \\cdots \\mathbf{p}_K  \\right]\\transp  $"
   ]
  },
  {
   "cell_type": "markdown",
   "id": "53f783f5",
   "metadata": {},
   "source": [
    "The function $\\text{ortho}(\\mathbf{p}_1, \\ldots ,\\mathbf{p}_k,\\mathbf{i}_k)$ projects its last argument $\\mathbf{i}_k$ onto the subspace orthogonal to the columns of the matrix $\\mathbf{P} = [\\mathbf{p}_1, \\mathbf{p}_2, \\ldots, \\mathbf{p}_k]$, i.e.,\n",
    "$\\begin{align} \n",
    "  \\text{ortho}(\\mathbf{p}_1, \\ldots ,\\mathbf{p}_k,\\mathbf{i}_k) = \\mathbf{i}_k - \\mathbf{P}\\left( \\mathbf{P}\\transp \\mathbf{P} \\right)^{-1}  \\mathbf{P}\\transp \\mathbf{i}_k\n",
    "\\end{align}$"
   ]
  },
  {
   "cell_type": "markdown",
   "id": "d5b7405e",
   "metadata": {},
   "source": [
    "The Arnoldi algorithm constructs an orthogonal basis $\\left[ \\mathbf{p}_1 \\cdots \\mathbf{p}_K  \\right]$ for the subspace of illumination vectors and a basis $\\left[ \\mathbf{i}_1 \\cdots \\mathbf{i}_{K} \\right]$ for the subspace of acquired images. The product $\\left[ \\mathbf{i}_1 \\cdots \\mathbf{i}_{K} \\right] \\left[ \\mathbf{p}_1 \\cdots \\mathbf{p}_K  \\right]\\transp$ is a low-rank approximation of $\\mathbf{T}$."
   ]
  },
  {
   "cell_type": "markdown",
   "id": "b4071a6d",
   "metadata": {},
   "source": [
    "In order to synthetically relight the scene with an arbitrary illumination $\\mathbf{p}$, the following expression has to be evaluated:\n",
    "$\\begin{align} \n",
    "   \\mathbf{Tp} \\approx \\left[ \\mathbf{i}_1 \\cdots \\mathbf{i}_{K} \\right] \\left[ \\mathbf{p}_1 \\cdots \\mathbf{p}_K  \\right]\\transp \\mathbf{p} \\,.\n",
    "\\end{align}$"
   ]
  },
  {
   "cell_type": "markdown",
   "id": "c81f9af1",
   "metadata": {
    "tags": [
     "book_only"
    ]
   },
   "source": [
    "```{note}\n",
    "   If this equation is successively evaluated from right to left, at no time a matrix larger than $K \\times N$ has to be kept in memory.\n",
    "```"
   ]
  },
  {
   "cell_type": "markdown",
   "id": "366a50a7",
   "metadata": {},
   "source": [
    "#### Optical matrix inversion via GMRES"
   ]
  },
  {
   "cell_type": "markdown",
   "id": "c73b9540",
   "metadata": {},
   "source": [
    "We now assume that we are given a camera image $\\mathbf{i}$ of our scene and want to obtain the illumination $\\mathbf{p}$ that produced it, i.e., we want to find\n",
    "$\\begin{align} \n",
    "   \\mathbf{p} = \\argmin{\\mathbf{x}} \\left\\| \\left[ \\mathbf{i}_1 \\cdots \\mathbf{i}_{K} \\right] \\left[ \\mathbf{p}_1 \\cdots \\mathbf{p}_K  \\right]\\transp \\mathbf{x} - \\mathbf{i} \\right\\|_2 \\,. \n",
    "\\end{align}$"
   ]
  },
  {
   "cell_type": "markdown",
   "id": "6f885b97",
   "metadata": {},
   "source": [
    "This optimization problem can be solved via the Moore-Penrose pseudoinverse $\\mathbf{T}^\\dagger$ of $\\mathbf{T}$ (in order to account for a potentially singular matrix $\\mathbf{T}$):\n",
    "$\\begin{align} \n",
    "   \\mathbf{p} = \\mathbf{T}^\\dagger \\mathbf{i}\\,.\n",
    "\\end{align}$"
   ]
  },
  {
   "cell_type": "markdown",
   "id": "c26fa134",
   "metadata": {},
   "source": [
    "This solution can also be calculated optically via another popular Krylov subspace method called *generalized minimum residual (GMRES)* that also only relies on computing products with $\\mathbf{T}$ and does not need to access to the complete matrix."
   ]
  },
  {
   "cell_type": "markdown",
   "id": "57d4bc2c",
   "metadata": {},
   "source": [
    "The algorithm differs only slightly from optical Arnoldi, namely\n",
    "* in the initialization vector $\\mathbf{p}_1$, which is always the target image $\\mathbf{i}$ and\n",
    "* in the return value, which is $\\left[ \\mathbf{i}_1 \\cdots \\mathbf{i}_{K} \\right] \\left[ \\mathbf{p}_1 \\cdots \\mathbf{p}_K  \\right]^\\dagger \\mathbf{i}$, i.e., the approximation of the sought illumination vector."
   ]
  },
  {
   "cell_type": "markdown",
   "id": "fddca0db",
   "metadata": {},
   "source": [
    "$\\mathbf{Function}\\, \\mathrm{opticalSymmetricGMRES}(\\mathtt{camera},\\, \\mathtt{projector}, \\mathbf{i})$<br><br>\n",
    "$\\quad \\mathbf{p}_1 \\leftarrow \\mathbf{i}$<br>\n",
    "$\\quad \\mathbf{for}\\, k \\in [1,\\ldots,K]:$<br>\n",
    "$\\qquad \\mathtt{projector}.\\text{project}(\\mathbf{p}^+_k)$<br>\n",
    "$\\qquad \\mathbf{i}^+_k \\leftarrow \\mathtt{camera}.\\text{acquireImage}()$<br>\n",
    "$\\qquad \\mathtt{projector}.\\text{project}(\\mathbf{p}^-_k)$<br>\n",
    "$\\qquad \\mathbf{i}^-_k \\leftarrow \\mathtt{camera}.\\text{acquireImage}()$<br>\n",
    "$\\qquad \\mathbf{i}_k \\leftarrow i^+_k - i^-_k$<br>\n",
    "$\\qquad \\mathbf{p}_{k+1} \\leftarrow \\text{ortho}(\\mathbf{p}_1, \\ldots ,\\mathbf{p}_k,\\mathbf{i}_k)$\n",
    "$\\qquad \\mathbf{p}_{k+1} \\leftarrow \\frac{\\mathbf{p}_{k+1}}{\\left\\| \\mathbf{p}_{k+1} \\right\\|_2 }$<br><br>\n",
    "$\\quad \\textbf{return}\\,  \\left[ \\mathbf{i}_1 \\cdots \\mathbf{i}_{K} \\right] \\left[ \\mathbf{p}_1 \\cdots \\mathbf{p}_K  \\right]^\\dagger \\mathbf{i}  $"
   ]
  },
  {
   "cell_type": "markdown",
   "id": "14b46ca4",
   "metadata": {},
   "source": [
    "Intuitively, GMRES calculates a rank-$K$ approximation of $\\mathbf{T}$ and calculates its pseudoinverse to solve for $\\mathbf{p}$. The initialization of $\\mathbf{p}_1$ with $\\mathbf{i}$ helps to explore only a portion of $\\mathbf{T}$'s row space that is suitable for the inversion with respect to $\\mathbf{i}$."
   ]
  },
  {
   "cell_type": "markdown",
   "id": "c047e011",
   "metadata": {},
   "source": [
    "##### Example experiments\n",
    "\n",
    "<img src=\"figures/4/result_GMRES.svg\" style=\"max-width:30vw\">"
   ]
  },
  {
   "cell_type": "markdown",
   "id": "8100d94e",
   "metadata": {},
   "source": [
    "## Primal-Dual coding for optical probing"
   ]
  },
  {
   "cell_type": "markdown",
   "id": "f7d42b89",
   "metadata": {},
   "source": [
    "*Optical probing* can be seen as the optical implementation of *matrix probing*, a topic of numerical mathematics dealing with the efficient estimation of special regions of interest of very large matrices (like $\\mathbf{T}$), e.g., its trace or diagonal."
   ]
  },
  {
   "cell_type": "markdown",
   "id": "0b680f01",
   "metadata": {},
   "source": [
    "Optical probing allows to obtain certain latent images of the scene which are normally hidden in the global light transport."
   ]
  },
  {
   "cell_type": "markdown",
   "id": "16997f46",
   "metadata": {},
   "source": [
    "For example, it is possible to obtain images corresponding to either (approximately) only direct or (approximately) only indirect light transport. Such images can reveal interesting insights about the observed scene (e.g., the structure of the blood vessels under the skin)."
   ]
  },
  {
   "cell_type": "markdown",
   "id": "1da54125",
   "metadata": {},
   "source": [
    "Optical probing can be mathematically modelled as\n",
    "$\\begin{align} \n",
    "   \\mathbf{i} = \\left( \\boldsymbol{\\Pi} \\odot \\mathbf{T} \\right) \\mathbf{1} \\,,\n",
    "\\end{align}$\n",
    "with $\\boldsymbol{\\Pi}$ denoting the *probing matrix* and $\\odot$ denoting the element-wise product between two matrices of equal size, $\\mathbf{1}$ denoting a vector of all ones representing a uniform illumination and finally $\\mathbf{i}$ representing the image captured under uniform illumination and for a light transport matrix that is the result of $\\boldsymbol{\\Pi} \\odot \\mathbf{T}$."
   ]
  },
  {
   "cell_type": "markdown",
   "id": "64807043",
   "metadata": {},
   "source": [
    "In order to be able to manipulate $\\mathbf{T}$ in this way, it is necessary to control two aspects of the image formation process: \n",
    "* the illumination, the so-called *primal domain* via the projected image and\n",
    "* the pixel-wise modulation of the camera's sensor, the so-called *dual domain*."
   ]
  },
  {
   "cell_type": "markdown",
   "id": "5eb4657d",
   "metadata": {},
   "source": [
    "Control of the dual domain is possible by"
   ]
  },
  {
   "cell_type": "code",
   "execution_count": null,
   "id": "8dcc9896",
   "metadata": {},
   "outputs": [],
   "source": []
  },
  {
   "cell_type": "code",
   "execution_count": 10,
   "id": "4653c18e",
   "metadata": {},
   "outputs": [],
   "source": [
    "#Generate synth. LTM\n",
    "SIZE = 128\n",
    "RANK = 90\n",
    "LTM = np.random.randn(SIZE,RANK)@np.random.randn(RANK,SIZE)\n",
    "LTM = LTM + 1e-3 * np.random.randn(SIZE)"
   ]
  },
  {
   "cell_type": "code",
   "execution_count": 11,
   "id": "3cf35191",
   "metadata": {},
   "outputs": [],
   "source": [
    "NUM_ITERATIONS = 128#1024     # Number of Arnoldi iterations\n",
    "NUM_ITERATIONS_STEP = 1   # Only reconstruct matrix every "
   ]
  },
  {
   "cell_type": "code",
   "execution_count": 12,
   "id": "816e1ca7",
   "metadata": {},
   "outputs": [
    {
     "ename": "FileNotFoundError",
     "evalue": "[Errno 2] Unable to open file (unable to open file: name = 'Green.mat', errno = 2, error message = 'No such file or directory', flags = 0, o_flags = 0)",
     "output_type": "error",
     "traceback": [
      "\u001b[1;31m---------------------------------------------------------------------------\u001b[0m",
      "\u001b[1;31mFileNotFoundError\u001b[0m                         Traceback (most recent call last)",
      "\u001b[1;32m<ipython-input-12-b77b20a38d3c>\u001b[0m in \u001b[0;36m<module>\u001b[1;34m\u001b[0m\n\u001b[0;32m      1\u001b[0m \u001b[1;32mimport\u001b[0m \u001b[0mh5py\u001b[0m\u001b[1;33m\u001b[0m\u001b[1;33m\u001b[0m\u001b[0m\n\u001b[1;32m----> 2\u001b[1;33m \u001b[0mf\u001b[0m \u001b[1;33m=\u001b[0m \u001b[0mh5py\u001b[0m\u001b[1;33m.\u001b[0m\u001b[0mFile\u001b[0m\u001b[1;33m(\u001b[0m\u001b[1;34m'Green.mat'\u001b[0m\u001b[1;33m,\u001b[0m\u001b[1;34m'r'\u001b[0m\u001b[1;33m)\u001b[0m\u001b[1;33m\u001b[0m\u001b[1;33m\u001b[0m\u001b[0m\n\u001b[0m\u001b[0;32m      3\u001b[0m \u001b[0mdata\u001b[0m \u001b[1;33m=\u001b[0m \u001b[0mf\u001b[0m\u001b[1;33m.\u001b[0m\u001b[0mget\u001b[0m\u001b[1;33m(\u001b[0m\u001b[1;34m'LTM'\u001b[0m\u001b[1;33m)\u001b[0m\u001b[1;33m\u001b[0m\u001b[1;33m\u001b[0m\u001b[0m\n\u001b[0;32m      4\u001b[0m \u001b[0mdata\u001b[0m \u001b[1;33m=\u001b[0m \u001b[0mnp\u001b[0m\u001b[1;33m.\u001b[0m\u001b[0marray\u001b[0m\u001b[1;33m(\u001b[0m\u001b[0mdata\u001b[0m\u001b[1;33m)\u001b[0m \u001b[1;31m# For converting to a NumPy array\u001b[0m\u001b[1;33m\u001b[0m\u001b[1;33m\u001b[0m\u001b[0m\n\u001b[0;32m      5\u001b[0m \u001b[0mLTM\u001b[0m \u001b[1;33m=\u001b[0m \u001b[0mdata\u001b[0m\u001b[1;33m\u001b[0m\u001b[1;33m\u001b[0m\u001b[0m\n",
      "\u001b[1;32m~\\repos\\vlcompimg\\compimg\\lib\\site-packages\\h5py\\_hl\\files.py\u001b[0m in \u001b[0;36m__init__\u001b[1;34m(self, name, mode, driver, libver, userblock_size, swmr, rdcc_nslots, rdcc_nbytes, rdcc_w0, track_order, fs_strategy, fs_persist, fs_threshold, fs_page_size, page_buf_size, min_meta_keep, min_raw_keep, locking, alignment_threshold, alignment_interval, **kwds)\u001b[0m\n\u001b[0;32m    531\u001b[0m                                  \u001b[0mfs_persist\u001b[0m\u001b[1;33m=\u001b[0m\u001b[0mfs_persist\u001b[0m\u001b[1;33m,\u001b[0m \u001b[0mfs_threshold\u001b[0m\u001b[1;33m=\u001b[0m\u001b[0mfs_threshold\u001b[0m\u001b[1;33m,\u001b[0m\u001b[1;33m\u001b[0m\u001b[1;33m\u001b[0m\u001b[0m\n\u001b[0;32m    532\u001b[0m                                  fs_page_size=fs_page_size)\n\u001b[1;32m--> 533\u001b[1;33m                 \u001b[0mfid\u001b[0m \u001b[1;33m=\u001b[0m \u001b[0mmake_fid\u001b[0m\u001b[1;33m(\u001b[0m\u001b[0mname\u001b[0m\u001b[1;33m,\u001b[0m \u001b[0mmode\u001b[0m\u001b[1;33m,\u001b[0m \u001b[0muserblock_size\u001b[0m\u001b[1;33m,\u001b[0m \u001b[0mfapl\u001b[0m\u001b[1;33m,\u001b[0m \u001b[0mfcpl\u001b[0m\u001b[1;33m,\u001b[0m \u001b[0mswmr\u001b[0m\u001b[1;33m=\u001b[0m\u001b[0mswmr\u001b[0m\u001b[1;33m)\u001b[0m\u001b[1;33m\u001b[0m\u001b[1;33m\u001b[0m\u001b[0m\n\u001b[0m\u001b[0;32m    534\u001b[0m \u001b[1;33m\u001b[0m\u001b[0m\n\u001b[0;32m    535\u001b[0m             \u001b[1;32mif\u001b[0m \u001b[0misinstance\u001b[0m\u001b[1;33m(\u001b[0m\u001b[0mlibver\u001b[0m\u001b[1;33m,\u001b[0m \u001b[0mtuple\u001b[0m\u001b[1;33m)\u001b[0m\u001b[1;33m:\u001b[0m\u001b[1;33m\u001b[0m\u001b[1;33m\u001b[0m\u001b[0m\n",
      "\u001b[1;32m~\\repos\\vlcompimg\\compimg\\lib\\site-packages\\h5py\\_hl\\files.py\u001b[0m in \u001b[0;36mmake_fid\u001b[1;34m(name, mode, userblock_size, fapl, fcpl, swmr)\u001b[0m\n\u001b[0;32m    224\u001b[0m         \u001b[1;32mif\u001b[0m \u001b[0mswmr\u001b[0m \u001b[1;32mand\u001b[0m \u001b[0mswmr_support\u001b[0m\u001b[1;33m:\u001b[0m\u001b[1;33m\u001b[0m\u001b[1;33m\u001b[0m\u001b[0m\n\u001b[0;32m    225\u001b[0m             \u001b[0mflags\u001b[0m \u001b[1;33m|=\u001b[0m \u001b[0mh5f\u001b[0m\u001b[1;33m.\u001b[0m\u001b[0mACC_SWMR_READ\u001b[0m\u001b[1;33m\u001b[0m\u001b[1;33m\u001b[0m\u001b[0m\n\u001b[1;32m--> 226\u001b[1;33m         \u001b[0mfid\u001b[0m \u001b[1;33m=\u001b[0m \u001b[0mh5f\u001b[0m\u001b[1;33m.\u001b[0m\u001b[0mopen\u001b[0m\u001b[1;33m(\u001b[0m\u001b[0mname\u001b[0m\u001b[1;33m,\u001b[0m \u001b[0mflags\u001b[0m\u001b[1;33m,\u001b[0m \u001b[0mfapl\u001b[0m\u001b[1;33m=\u001b[0m\u001b[0mfapl\u001b[0m\u001b[1;33m)\u001b[0m\u001b[1;33m\u001b[0m\u001b[1;33m\u001b[0m\u001b[0m\n\u001b[0m\u001b[0;32m    227\u001b[0m     \u001b[1;32melif\u001b[0m \u001b[0mmode\u001b[0m \u001b[1;33m==\u001b[0m \u001b[1;34m'r+'\u001b[0m\u001b[1;33m:\u001b[0m\u001b[1;33m\u001b[0m\u001b[1;33m\u001b[0m\u001b[0m\n\u001b[0;32m    228\u001b[0m         \u001b[0mfid\u001b[0m \u001b[1;33m=\u001b[0m \u001b[0mh5f\u001b[0m\u001b[1;33m.\u001b[0m\u001b[0mopen\u001b[0m\u001b[1;33m(\u001b[0m\u001b[0mname\u001b[0m\u001b[1;33m,\u001b[0m \u001b[0mh5f\u001b[0m\u001b[1;33m.\u001b[0m\u001b[0mACC_RDWR\u001b[0m\u001b[1;33m,\u001b[0m \u001b[0mfapl\u001b[0m\u001b[1;33m=\u001b[0m\u001b[0mfapl\u001b[0m\u001b[1;33m)\u001b[0m\u001b[1;33m\u001b[0m\u001b[1;33m\u001b[0m\u001b[0m\n",
      "\u001b[1;32mh5py\\_objects.pyx\u001b[0m in \u001b[0;36mh5py._objects.with_phil.wrapper\u001b[1;34m()\u001b[0m\n",
      "\u001b[1;32mh5py\\_objects.pyx\u001b[0m in \u001b[0;36mh5py._objects.with_phil.wrapper\u001b[1;34m()\u001b[0m\n",
      "\u001b[1;32mh5py\\h5f.pyx\u001b[0m in \u001b[0;36mh5py.h5f.open\u001b[1;34m()\u001b[0m\n",
      "\u001b[1;31mFileNotFoundError\u001b[0m: [Errno 2] Unable to open file (unable to open file: name = 'Green.mat', errno = 2, error message = 'No such file or directory', flags = 0, o_flags = 0)"
     ]
    }
   ],
   "source": [
    "import h5py\n",
    "f = h5py.File('Green.mat','r')\n",
    "data = f.get('LTM')\n",
    "data = np.array(data) # For converting to a NumPy array\n",
    "LTM = data\n",
    "NUM_ITERATIONS = 1024     # Number of Arnoldi iterations\n",
    "NUM_ITERATIONS_STEP = 32   # Only reconstruct matrix every "
   ]
  },
  {
   "cell_type": "code",
   "execution_count": null,
   "id": "a266077c",
   "metadata": {},
   "outputs": [],
   "source": [
    "M,N = LTM.shape"
   ]
  },
  {
   "cell_type": "code",
   "execution_count": null,
   "id": "545ccc52",
   "metadata": {},
   "outputs": [],
   "source": [
    "right_Arnoldi_vectors = np.zeros((N,NUM_ITERATIONS + 1))\n",
    "right_Arnoldi_vectors[:,0] = (a:=np.ones(N))/np.linalg.norm(a)\n",
    "left_Arnoldi_vectors  = np.zeros((M,NUM_ITERATIONS))"
   ]
  },
  {
   "cell_type": "code",
   "execution_count": null,
   "id": "be3f0cdd",
   "metadata": {},
   "outputs": [],
   "source": [
    "for k in range(0,NUM_ITERATIONS):\n",
    "    \n",
    "    tmp = LTM@right_Arnoldi_vectors[:,k];    \n",
    "    left_Arnoldi_vectors[:,k] = tmp;\n",
    "    \n",
    "    tmp = LTM.transpose()@left_Arnoldi_vectors[:,k];\n",
    "    inv = np.linalg.inv(right_Arnoldi_vectors[:,0:k+1].transpose()@right_Arnoldi_vectors[:,0:k+1])\n",
    "    print(inv.shape)\n",
    "    right = right_Arnoldi_vectors[:,0:k+1].transpose()@tmp\n",
    "    right = inv @ right\n",
    "    right = right_Arnoldi_vectors[:,0:k+1] @ right\n",
    "    tmp = tmp - right\n",
    "    #tmp = tmp - right_Arnoldi_vectors[:,0:k+1] @ inv @right_Arnoldi_vectors[:,0:k+1].transpose()@tmp\n",
    "    tmp = tmp/np.linalg.norm(tmp);\n",
    "\n",
    "    right_Arnoldi_vectors[:,k+1] = tmp;"
   ]
  },
  {
   "cell_type": "code",
   "execution_count": null,
   "id": "94e39f08",
   "metadata": {},
   "outputs": [],
   "source": [
    "a,b = optArnoldi(NUM_ITERATIONS, LTM)"
   ]
  },
  {
   "cell_type": "code",
   "execution_count": null,
   "id": "e04f054b",
   "metadata": {},
   "outputs": [],
   "source": [
    "errors = []\n",
    "for k in range(0, NUM_ITERATIONS, NUM_ITERATIONS_STEP):\n",
    "    LTM_approx = left_Arnoldi_vectors[0,0:k+1]@right_Arnoldi_vectors[0,0:k+1].transpose()\n",
    "    #errors.append(np.linalg.norm(LTM - LTM_approx) / np.linalg.norm(LTM))\n",
    "    errors.append(np.sum(np.abs(LTM-LTM_approx)))"
   ]
  },
  {
   "cell_type": "code",
   "execution_count": null,
   "id": "ee238017",
   "metadata": {},
   "outputs": [],
   "source": [
    "errors2 = []\n",
    "for k in range(0, NUM_ITERATIONS, NUM_ITERATIONS_STEP):\n",
    "    LTM_approx = a[0,0:k+1]@b[0,0:k+1].transpose()\n",
    "    #LTM_approx = b[0,0:k+1]@a[0,0:k+1].transpose()\n",
    "    #errors2.append(np.linalg.norm(LTM - LTM_approx) / np.linalg.norm(LTM))\n",
    "    errors2.append(np.sum(np.abs(LTM-LTM_approx)))"
   ]
  },
  {
   "cell_type": "code",
   "execution_count": null,
   "id": "619dfb03",
   "metadata": {},
   "outputs": [],
   "source": [
    "tmp = LTM.transpose()@LTM\n",
    "U,S,right_singular_vectors = np.linalg.svd(tmp)\n",
    "\n",
    "left_singular_vectors = LTM@right_singular_vectors\n",
    "\n",
    "errors3 = []\n",
    "for k in range(0, NUM_ITERATIONS, NUM_ITERATIONS_STEP):\n",
    "    LTM_approx = left_singular_vectors[:,0:k+1]@right_singular_vectors[:,0:k+1].transpose()\n",
    "    #errors2.append(np.linalg.norm(LTM - LTM_approx) / np.linalg.norm(LTM))\n",
    "    errors3.append(np.sum(np.abs(LTM-LTM_approx)))"
   ]
  },
  {
   "cell_type": "code",
   "execution_count": null,
   "id": "79ad10a8",
   "metadata": {},
   "outputs": [],
   "source": [
    "plt.figure()\n",
    "plt.plot(errors)"
   ]
  },
  {
   "cell_type": "code",
   "execution_count": null,
   "id": "0ef8e28e",
   "metadata": {},
   "outputs": [],
   "source": [
    "plt.figure()\n",
    "plt.plot(errors2)"
   ]
  },
  {
   "cell_type": "code",
   "execution_count": null,
   "id": "93bcc497",
   "metadata": {},
   "outputs": [],
   "source": [
    "plt.figure()\n",
    "plt.plot(errors3)"
   ]
  },
  {
   "cell_type": "code",
   "execution_count": null,
   "id": "2a0d9731",
   "metadata": {},
   "outputs": [],
   "source": [
    "def optArnoldi(K, A:np.ndarray):\n",
    "    i = np.zeros((A.shape[0], K))\n",
    "    p = np.zeros((A.shape[0], K+1))\n",
    "    #p[:,0] = np.random.rand(A.shape[1])\n",
    "    p[:,0] = (a:=np.ones(A.shape[1]))/np.linalg.norm(a)\n",
    "\n",
    "    for k in range(0,K):\n",
    "        i[:,k] = A@p[:,k]\n",
    "        P = p[:,0:k+1]\n",
    "        #print(P.shape)\n",
    "        #print(P)\n",
    "        p[:,k+1] = i[:,k] - P@np.linalg.inv(P.transpose() @ P)@P.transpose()@i[:,k]\n",
    "        p[:,k+1] = p[:,k+1] / np.linalg.norm(p[:,k+1])\n",
    "        \n",
    "    return i, p[:,:-1]\n",
    "    "
   ]
  },
  {
   "cell_type": "code",
   "execution_count": null,
   "id": "68b186da",
   "metadata": {},
   "outputs": [],
   "source": [
    "def classicArnoldi(K, A:np.ndarray):\n",
    "    eps = 1e-10\n",
    "    v1 = (a:=np.ones(A.shape[1]))/np.linalg.norm(a)\n",
    "    H = np.zeros((K+1,K+1))\n",
    "    W = np.zeros((A.shape[0],K+1))\n",
    "    V = np.zeros((A.shape[0],K+1))\n",
    "    V[:,0] = v1\n",
    "    for j in range(0,K):\n",
    "        for i in range(0, j+1):\n",
    "            H[i,j] = np.dot(A@V[:,j], V[:,i])\n",
    "        tmp = np.zeros((A.shape[0]))\n",
    "        for i in range(0,j+1):\n",
    "            tmp = tmp + H[i,j]*V[:,i]\n",
    "        print(tmp.shape)\n",
    "        moep = A@V[:,j]\n",
    "        print(moep.shape)\n",
    "        W[:,j] = A@V[:,j] - tmp\n",
    "        H[j+1, j] = np.linalg.norm(W[:,j])\n",
    "        print(f\"{j}: {H[j+1,j]}\")\n",
    "        if (H[j+1,j] < eps):\n",
    "            print(\"moep\")\n",
    "            break\n",
    "        V[:,j+1] = W[:,j] / H[j+1,j]\n",
    "    return H, W, V"
   ]
  },
  {
   "cell_type": "code",
   "execution_count": null,
   "id": "d17803bc",
   "metadata": {},
   "outputs": [],
   "source": [
    "K2 = 128\n",
    "h,w,v = classicArnoldi(K2, LTM)"
   ]
  },
  {
   "cell_type": "code",
   "execution_count": null,
   "id": "1f33eb13",
   "metadata": {},
   "outputs": [],
   "source": [
    "v = v[:,0:-1]\n",
    "h = h[0:-1,0:-1]"
   ]
  },
  {
   "cell_type": "code",
   "execution_count": null,
   "id": "37e655e1",
   "metadata": {},
   "outputs": [],
   "source": [
    "plt.figure()\n",
    "plt.imshow(h)"
   ]
  },
  {
   "cell_type": "code",
   "execution_count": null,
   "id": "c7e0e880",
   "metadata": {},
   "outputs": [],
   "source": [
    "LTM_approx = v@h@v.transpose()"
   ]
  },
  {
   "cell_type": "code",
   "execution_count": null,
   "id": "459728d6",
   "metadata": {},
   "outputs": [],
   "source": [
    "errors4 = []\n",
    "for k in range(0, K2):\n",
    "    LTM_approx = v[:,0:k+1]@h[0:k+1,0:k+1]@v[:,0:k+1].transpose()\n",
    "    errors4.append(np.sum(np.abs(LTM-LTM_approx)))"
   ]
  },
  {
   "cell_type": "code",
   "execution_count": null,
   "id": "dc7c01e4",
   "metadata": {},
   "outputs": [],
   "source": [
    "plt.figure()\n",
    "plt.plot(errors4)\n",
    "plt.plot(errors3)"
   ]
  },
  {
   "cell_type": "code",
   "execution_count": null,
   "id": "a727ffda",
   "metadata": {},
   "outputs": [],
   "source": [
    "plt.figure()\n",
    "plt.imshow(np.abs(LTM-LTM_approx))"
   ]
  }
 ],
 "metadata": {
  "jupytext": {
   "formats": "ipynb,md:myst",
   "text_representation": {
    "extension": ".md",
    "format_name": "myst",
    "format_version": 0.13,
    "jupytext_version": "1.14.1"
   }
  },
  "kernelspec": {
   "display_name": "compimg",
   "language": "python",
   "name": "compimg"
  },
  "language_info": {
   "codemirror_mode": {
    "name": "ipython",
    "version": 3
   },
   "file_extension": ".py",
   "mimetype": "text/x-python",
   "name": "python",
   "nbconvert_exporter": "python",
   "pygments_lexer": "ipython3",
   "version": "3.8.10"
  },
  "source_map": [
   15,
   34,
   54,
   61,
   73,
   85,
   99,
   114,
   128,
   132,
   151,
   155,
   160,
   164,
   168,
   176,
   180,
   184,
   191,
   195,
   197,
   201,
   205,
   209,
   218,
   224,
   230,
   234,
   238,
   242,
   246,
   253,
   257,
   261,
   265,
   269,
   277,
   281,
   287,
   297,
   303,
   307,
   315,
   319,
   323,
   331,
   339,
   343,
   353,
   357,
   368,
   380,
   384,
   390,
   394,
   398,
   402,
   410,
   417,
   423,
   431,
   435,
   441,
   447,
   449,
   455,
   459,
   463,
   477,
   484,
   488,
   495,
   501,
   505,
   512,
   519,
   523,
   529,
   543,
   547,
   553,
   557,
   561,
   565,
   569,
   577,
   583,
   589,
   593,
   601,
   606,
   616,
   620,
   626,
   645,
   649,
   657,
   666,
   679,
   684,
   689,
   694,
   713,
   740,
   745,
   750,
   755,
   759,
   766,
   772
  ]
 },
 "nbformat": 4,
 "nbformat_minor": 5
}