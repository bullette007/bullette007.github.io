{
 "cells": [
  {
   "cell_type": "code",
   "execution_count": 1,
   "id": "17b6c46a",
   "metadata": {
    "tags": [
     "remove-cell"
    ]
   },
   "outputs": [
    {
     "data": {
      "application/javascript": [
       "var cells = Jupyter.notebook.get_cells();\n",
       "           for (var i = 0; i < cells.length; i++) {\n",
       "               var cur_cell = cells[i];\n",
       "               var tags = cur_cell._metadata.tags;\n",
       "               console.log(i);\n",
       "               console.log(tags == undefined);\n",
       "               console.log(tags);\n",
       "               if (tags != undefined) {\n",
       "               for (var j = 0; j < tags.length; j++) {\n",
       "                  if (tags[j]==\"book_only\" | tags[j]==\"remove-cell\") {cur_cell.element.hide();\n",
       "                  if (tags[j]==\"presentation_only\") {cur_cell.element.show();}\n",
       "            }}}\n"
      ],
      "text/plain": [
       "<IPython.core.display.Javascript object>"
      ]
     },
     "metadata": {},
     "output_type": "display_data"
    }
   ],
   "source": [
    "%%js\n",
    "var cells = Jupyter.notebook.get_cells();\n",
    "           for (var i = 0; i < cells.length; i++) {\n",
    "               var cur_cell = cells[i];\n",
    "               var tags = cur_cell._metadata.tags;\n",
    "               console.log(i);\n",
    "               console.log(tags == undefined);\n",
    "               console.log(tags);\n",
    "               if (tags != undefined) {\n",
    "               for (var j = 0; j < tags.length; j++) {\n",
    "                  if (tags[j]==\"book_only\" | tags[j]==\"remove-cell\") {cur_cell.element.hide();\n",
    "                  if (tags[j]==\"presentation_only\") {cur_cell.element.show();}\n",
    "            }}}"
   ]
  },
  {
   "cell_type": "code",
   "execution_count": 2,
   "id": "f1934d54",
   "metadata": {},
   "outputs": [
    {
     "data": {
      "application/javascript": [
       "Jupyter.notebook.get_cell(0).element.hide()\n"
      ],
      "text/plain": [
       "<IPython.core.display.Javascript object>"
      ]
     },
     "metadata": {},
     "output_type": "display_data"
    }
   ],
   "source": [
    "%%js\n",
    "Jupyter.notebook.get_cell(0).element.hide()"
   ]
  },
  {
   "cell_type": "code",
   "execution_count": 3,
   "id": "71ca5493",
   "metadata": {
    "slideshow": {
     "slide_type": "notes"
    }
   },
   "outputs": [],
   "source": [
    "from __future__ import print_function\n",
    "from ipywidgets import interact, interactive, fixed, interact_manual\n",
    "import ipywidgets as widgets\n",
    "import numpy as np\n",
    "import matplotlib.pyplot as plt\n",
    "import cv2\n",
    "import scipy.signal as sig\n",
    "from scipy.integrate import simpson\n",
    "from IPython.display import SVG, display, IFrame, HTML\n",
    "%matplotlib notebook"
   ]
  },
  {
   "cell_type": "markdown",
   "id": "3cef5fe2",
   "metadata": {},
   "source": [
    "LaTeX-macros:\n",
    "$\\begin{align}\n",
    "  \\newcommand{transp}{^\\intercal}\n",
    "  \\newcommand{F}{\\mathcal{F}}\n",
    "  \\newcommand{Fi}{\\mathcal{F}^{-1}}\n",
    "  \\newcommand{inv}{^{-1}}\n",
    "  \\newcommand{stochvec}[1]{\\mathbf{\\tilde{#1}}}\n",
    "  \\newcommand{argmax}{\\mathrm{arg\\, max}}\n",
    "\\end{align}$"
   ]
  },
  {
   "cell_type": "markdown",
   "id": "937b1065",
   "metadata": {},
   "source": [
    "LaTeX command stochvec:\n",
    "$\\newcommand{stochvec}[1]{\\mathbf{\\tilde{#1}}}$\n",
    "<br>\n",
    "LaTeX command transp:\n",
    "$\\newcommand{transp}{^\\intercal}$\n",
    "LaTeX command argmax:\n",
    "$\\newcommand{argmax}[1]{\\underset{#1}{\\mathrm{arg\\, max}}}$\n",
    "LaTeX command argmin:\n",
    "$\\newcommand{argmin}[1]{\\underset{#1}{\\mathrm{arg\\, min}}}$"
   ]
  },
  {
   "cell_type": "code",
   "execution_count": 4,
   "id": "93935f62",
   "metadata": {},
   "outputs": [
    {
     "data": {
      "application/javascript": [
       "MathJax.Hub.Config({\n",
       "    TeX: { equationNumbers: { autoNumber: \"AMS\" } }\n",
       "});\n"
      ],
      "text/plain": [
       "<IPython.core.display.Javascript object>"
      ]
     },
     "metadata": {},
     "output_type": "display_data"
    }
   ],
   "source": [
    "%%javascript\n",
    "MathJax.Hub.Config({\n",
    "    TeX: { equationNumbers: { autoNumber: \"AMS\" } }\n",
    "});"
   ]
  },
  {
   "cell_type": "code",
   "execution_count": 5,
   "id": "6dbbd769",
   "metadata": {},
   "outputs": [
    {
     "data": {
      "application/javascript": [
       "\n",
       "MathJax.Hub.Queue(\n",
       "  [\"resetEquationNumbers\", MathJax.InputJax.TeX],\n",
       "  [\"PreProcess\", MathJax.Hub],\n",
       "  [\"Reprocess\", MathJax.Hub]\n",
       ");\n"
      ],
      "text/plain": [
       "<IPython.core.display.Javascript object>"
      ]
     },
     "metadata": {},
     "output_type": "display_data"
    }
   ],
   "source": [
    "%%javascript\n",
    "\n",
    "MathJax.Hub.Queue(\n",
    "  [\"resetEquationNumbers\", MathJax.InputJax.TeX],\n",
    "  [\"PreProcess\", MathJax.Hub],\n",
    "  [\"Reprocess\", MathJax.Hub]\n",
    ");"
   ]
  },
  {
   "cell_type": "code",
   "execution_count": 6,
   "id": "28cecfcd",
   "metadata": {
    "slideshow": {
     "slide_type": "notes"
    }
   },
   "outputs": [],
   "source": [
    "def showFig(path,i,ending, width, height):\n",
    "    return IFrame(\"./\" + path+str(i)+ending, width, height)"
   ]
  },
  {
   "cell_type": "code",
   "execution_count": 7,
   "id": "3b4afd5d",
   "metadata": {
    "slideshow": {
     "slide_type": "notes"
    }
   },
   "outputs": [],
   "source": [
    "def showFig2(path,i,ending, width, height):\n",
    "    imgToShow = plt.imread(f\"{path}{i}{ending}\")\n",
    "    plt.imshow(imgToShow)"
   ]
  },
  {
   "cell_type": "code",
   "execution_count": 8,
   "id": "6d1d8414",
   "metadata": {
    "slideshow": {
     "slide_type": "notes"
    }
   },
   "outputs": [],
   "source": [
    "def showFig(path,i,ending, width, height):\n",
    "    #return SVG(filename = \"./\" + path+str(i)+ending)\n",
    "    display(SVG(filename = \"./\" + path+str(i)+ending))"
   ]
  },
  {
   "cell_type": "code",
   "execution_count": 9,
   "id": "7fc3a7d0",
   "metadata": {
    "slideshow": {
     "slide_type": "notes"
    }
   },
   "outputs": [],
   "source": [
    "def showFig(path,i,ending, width, height):\n",
    "    filename = path+str(i)+ending\n",
    "    return HTML(\"<img src=\\\"\" + filename +  \"\\\"/>\")"
   ]
  },
  {
   "cell_type": "code",
   "execution_count": 10,
   "id": "248027cf",
   "metadata": {
    "slideshow": {
     "slide_type": "notes"
    }
   },
   "outputs": [],
   "source": [
    "def imshow(img, cmap=None):\n",
    "    plt.close('all')\n",
    "    plt.figure()\n",
    "    plt.imshow(img, cmap=cmap)\n",
    "    plt.show()"
   ]
  },
  {
   "cell_type": "code",
   "execution_count": 11,
   "id": "63c05581",
   "metadata": {
    "slideshow": {
     "slide_type": "notes"
    }
   },
   "outputs": [],
   "source": [
    "def imshow2(img, cmap=None):\n",
    "    #plt.close('all')\n",
    "    #plt.figure()\n",
    "    plt.clf()\n",
    "    plt.imshow(img, cmap=cmap)\n",
    "    #plt.show()"
   ]
  },
  {
   "cell_type": "code",
   "execution_count": 12,
   "id": "6b05ed09",
   "metadata": {},
   "outputs": [],
   "source": [
    "#interact(lambda i: showFig('figures/2/dftSpectrum_',i,'.svg',800,700), i=widgets.IntSlider(min=1,max=3, step=1, value=1))"
   ]
  },
  {
   "cell_type": "code",
   "execution_count": 13,
   "id": "c3c8b9f9",
   "metadata": {},
   "outputs": [],
   "source": [
    "#<img src=\"figures/2/pinholePrinciple.svg\" style=\"width:40vw\">"
   ]
  },
  {
   "cell_type": "code",
   "execution_count": 14,
   "id": "d342af29",
   "metadata": {
    "slideshow": {
     "slide_type": "fragment"
    }
   },
   "outputs": [
    {
     "data": {
      "application/vnd.jupyter.widget-view+json": {
       "model_id": "2f6e98454b8e4f1898db7efe39aad21d",
       "version_major": 2,
       "version_minor": 0
      },
      "text/plain": [
       "interactive(children=(IntSlider(value=1, description='i', max=16), Output()), _dom_classes=('widget-interact',…"
      ]
     },
     "metadata": {},
     "output_type": "display_data"
    },
    {
     "data": {
      "text/plain": [
       "<function __main__.<lambda>(i)>"
      ]
     },
     "execution_count": 14,
     "metadata": {},
     "output_type": "execute_result"
    }
   ],
   "source": [
    "interact(lambda i: showFig2('figures/3/lfSAIs/out_09_',i,'.png',800,1100), i=widgets.IntSlider(min=0,max=16, step=1, value=1))"
   ]
  },
  {
   "cell_type": "markdown",
   "id": "263fb00c",
   "metadata": {
    "slideshow": {
     "slide_type": "fragment"
    }
   },
   "source": [
    "<img src=\"figures/3/SchlierenDeflectometer.svg\" style=\"max-height:40vh\">"
   ]
  },
  {
   "cell_type": "markdown",
   "id": "4b1dcc36",
   "metadata": {
    "slideshow": {
     "slide_type": "notes"
    }
   },
   "source": [
    "# Inverse Problems in Computational Imaging"
   ]
  },
  {
   "cell_type": "markdown",
   "id": "f3e31f3a",
   "metadata": {
    "slideshow": {
     "slide_type": "slide"
    }
   },
   "source": [
    "<font size=\"7\"> Computational Imaging </font><br><br><br>\n",
    "<font size=\"5\"> Chapter 5: Inverse Problems in Computational Imaging </font>"
   ]
  },
  {
   "cell_type": "markdown",
   "id": "a0f986c6",
   "metadata": {
    "slideshow": {
     "slide_type": "subslide"
    },
    "tags": [
     "book_only"
    ]
   },
   "source": [
    "##### Content\n",
    "* Introduction into inverse problems\n",
    "    * What are inverse problems?\n",
    "    * Approaches for solving inverse problems\n",
    "* Image deconvolution\n",
    "    * Inverse filter\n",
    "    * Wiener filter (classical) and its problems\n",
    "    * Richardson-Lucy\n",
    "    * Optimization-based\n",
    "        * Half-quadratic Splitting\n",
    "    * Deep SNR-estimation for Wiener filter\n",
    "    * ADMM"
   ]
  },
  {
   "cell_type": "markdown",
   "id": "b9b73246",
   "metadata": {},
   "source": [
    "## Introduction into inverse problems"
   ]
  },
  {
   "cell_type": "markdown",
   "id": "78a17bfa",
   "metadata": {},
   "source": [
    "## Image deconvolution"
   ]
  },
  {
   "cell_type": "markdown",
   "id": "bd7bdd4a",
   "metadata": {},
   "source": [
    "Image deconvolution deals with the problem of recovering an original image $x$ after it has been convolved with a kernel $c$ and has been affected by some additive noise $n$.<br> Hence, the image formation model can be expressed via:\n",
    "$\\begin{align}\\label{eq:img_formation}\n",
    "    b=c*x + n\\,,\n",
    "\\end{align}$\n",
    "with $b$ denoting the observed image.\n",
    "\n",
    "<br> Note: The dependence on a spatial variable (e.g., like $\\mathbf{x}$ for $g(\\mathbf{x})$) is omitted for this chapter for the sake of clarity."
   ]
  },
  {
   "cell_type": "markdown",
   "id": "e2eb8996",
   "metadata": {},
   "source": [
    "The task is to find an $\\hat{x}$ that is as close to the original $x$ as possible."
   ]
  },
  {
   "cell_type": "markdown",
   "id": "910baa2b",
   "metadata": {},
   "source": [
    "Methods and approaches dealing with deconvolution can be divided into two groups:\n",
    "1. *Blind* deconvolution: The kernel $c$ is assumed to be unknown and also has to be recovered / estimated.\n",
    "2. *Non-blind* deconvolution: The kernel $c$ is assumed to be known.\n",
    "\n",
    "<br>Note that there is some research which focuses on estimating the kernel $c$ and then employs non-blind deconvolution methods to perform the deconvolution."
   ]
  },
  {
   "cell_type": "markdown",
   "id": "c3141123",
   "metadata": {},
   "source": [
    "According to the convolution theorem of the Fourier transform, equation $\\eqref{eq:img_formation}$ can be expressed as:\n",
    "$\\begin{align}\\label{eq:img_formation_fourier}\n",
    "    b = \\mathcal{F}^{-1}\\lbrace \\mathcal{F} \\lbrace c \\rbrace \\cdot \\mathcal{F} \\lbrace x \\rbrace \\rbrace + n\n",
    "\\end{align}$"
   ]
  },
  {
   "cell_type": "markdown",
   "id": "cb509316",
   "metadata": {},
   "source": [
    "**Important note:** Equations $\\eqref{eq:img_formation}$ and $\\eqref{eq:img_formation_fourier}$ only result in the same numbers, if the convolution is performed with ciruclar boundary conditions, i.e., when the convolution kernel wraps around the image borders."
   ]
  },
  {
   "cell_type": "markdown",
   "id": "e87602ab",
   "metadata": {},
   "source": [
    "##### Duality between signal processing perspective and algebraic perspective"
   ]
  },
  {
   "cell_type": "markdown",
   "id": "18d31158",
   "metadata": {},
   "source": [
    "Since the convolution is a linear operator, it can also be expressed in terms of a matrix vector multiplication:\n",
    "$\\begin{align}\\label{eq:duality}\n",
    "    b = c*x \\Leftrightarrow \\mathbf{b} = \\mathbf{C}\\mathbf{x}\\,,\n",
    "\\end{align}$\n",
    "with a square circulant Toeplitz matrix $\\mathbf{C}\\in \\mathbb{R}^{N\\times N}$ implementing the convolution and $\\mathbf{x,b} \\in \\mathbb{R}^N$ representing the vectorized forms of the corresponding images $x$ and $b$."
   ]
  },
  {
   "cell_type": "markdown",
   "id": "e22d325b",
   "metadata": {},
   "source": [
    "### Inverse filter"
   ]
  },
  {
   "cell_type": "markdown",
   "id": "414f3797",
   "metadata": {},
   "source": [
    "The inverse filter represents the straightforward approach of solving equation $\\eqref{eq:img_formation_fourier}$ for $x$ while neglecting the noise $n$:\n",
    "$\\begin{align}\\label{eq:inv_filter}\n",
    "        \\hat{x}_{\\mathrm{inv}}=\\Fi\\left\\lbrace \\frac{\\F\\lbrace b \\rbrace}{\\F\\lbrace c \\rbrace } \\right\\rbrace \\,.\n",
    "\\end{align}$"
   ]
  },
  {
   "cell_type": "markdown",
   "id": "d63662d6",
   "metadata": {},
   "source": [
    "Properties of the inverse filter:\n",
    "* computationally efficient,\n",
    "* problematic for small values of $\\F \\lbrace c \\rbrace$, (amplifies noise).\n",
    "\n",
    "Unfortunately, the second point is true for most practically relevant point spread functions."
   ]
  },
  {
   "cell_type": "markdown",
   "id": "eb67f231",
   "metadata": {},
   "source": [
    "TODO: Example images."
   ]
  },
  {
   "cell_type": "markdown",
   "id": "326f8f23",
   "metadata": {},
   "source": [
    "EXERCISE: Implement inverse filter and do some tests for varying noise levels."
   ]
  },
  {
   "cell_type": "markdown",
   "id": "9d63994c",
   "metadata": {},
   "source": [
    "### Wiener filter"
   ]
  },
  {
   "cell_type": "markdown",
   "id": "7ecdabfd",
   "metadata": {},
   "source": [
    "TBD"
   ]
  },
  {
   "cell_type": "markdown",
   "id": "86c82598",
   "metadata": {},
   "source": [
    "### Richardson-Lucy"
   ]
  },
  {
   "cell_type": "markdown",
   "id": "bd4f5e75",
   "metadata": {},
   "source": [
    "TBD"
   ]
  },
  {
   "cell_type": "markdown",
   "id": "06e0d5e2",
   "metadata": {},
   "source": [
    "### Optimization-based methods"
   ]
  },
  {
   "cell_type": "markdown",
   "id": "57c7e9af",
   "metadata": {},
   "source": [
    "As stated before, deconvolution is an ill-posed problems, i.e., usually there are infinitely many solutions which satisfy the measurements.\n",
    "\n",
    "$\\Rightarrow$ One needs an instrument to determine how desirable a given solution is."
   ]
  },
  {
   "cell_type": "markdown",
   "id": "5f4f4758",
   "metadata": {},
   "source": [
    "#### Bayesian perspective of inverse problems"
   ]
  },
  {
   "cell_type": "markdown",
   "id": "0e6f9f5a",
   "metadata": {},
   "source": [
    "General formulation of an inverse problem:\n",
    "$\\begin{align}\n",
    "    \\mathbf{b}=\\mathbf{A}\\mathbf{x} + \\mathbf{n}\\,,\n",
    "\\end{align}$\n",
    "with $\\mathbf{x}\\in \\mathbb{R}^N, \\mathbf{b,n}\\in \\mathbb{R}^M, \\mathbf{A}\\in \\mathbb{R}^{M\\times N}$."
   ]
  },
  {
   "cell_type": "markdown",
   "id": "71497024",
   "metadata": {},
   "source": [
    "Interpret as random vectors:\n",
    "* $\\stochvec{x}\\sim \\mathcal{N}(\\mathbf{x},0)$,\n",
    "* $\\stochvec{n}\\sim \\mathcal{N}(0,\\sigma^2)$,\n",
    "* $ \\stochvec{b}\\sim \\mathcal{N}((\\mathbf{Ax}),\\sigma^2)$"
   ]
  },
  {
   "cell_type": "markdown",
   "id": "750a3954",
   "metadata": {},
   "source": [
    "For probability of observation $ \\mathbf{b}$ it holds:\n",
    "$\\begin{align}\n",
    "    p( \\mathbf{b}\\vert \\mathbf{x}, \\sigma) \\propto \\exp \\left( - \\frac{\\Vert \\mathbf{b} - \\mathbf{Ax} \\Vert^2_2}{2\\sigma^2} \\right)\n",
    "\\end{align}\n",
    "$"
   ]
  },
  {
   "cell_type": "markdown",
   "id": "f0ddcbee",
   "metadata": {},
   "source": [
    "According to Bayes' rule:\n",
    "$\\begin{align}\n",
    "    \\underbrace{p(\\mathbf{x}\\vert \\mathbf{b},\\sigma)}_{\\mathrm{posterior}} = \\frac{p( \\mathbf{b}\\vert \\mathbf{x}, \\sigma)\\cdot p( \\mathbf{x})}{p( \\mathbf{b})} \\propto \\underbrace{p( \\mathbf{b} \\vert \\mathbf{x}, \\sigma)}_{\\mathrm{image\\ formation\\ model}} \\cdot \\underbrace{p( \\mathbf{x})}_{prior}\\,.\n",
    "\\end{align}\n",
    "$"
   ]
  },
  {
   "cell_type": "markdown",
   "id": "dde83311",
   "metadata": {},
   "source": [
    "Maximum-a-posteriori (MAP) solution:\n",
    "$\\begin{align}\n",
    "  \\hat{x}_\\mathrm{MAP} &= \\argmax{\\mathbf{x}}\\, p(\\mathbf{x}\\vert \\mathbf{b},\\sigma) \\\\\n",
    "                         &= \\argmax{\\mathbf{x}}\\, \\log p(\\mathbf{x}\\vert \\mathbf{b},\\sigma) \\\\\n",
    "                         &= \\argmin{ \\mathbf{x}}\\, - \\log p(\\mathbf{x}\\vert \\mathbf{b},\\sigma) \\\\\n",
    "                         &= \\argmin{ \\mathbf{x}}\\, - \\log p( \\mathbf{b} \\vert \\mathbf{x}, \\sigma) - \\log p( \\mathbf{x}) \\\\\n",
    "                         \\label{eq:map_solution}&= \\argmin{ \\mathbf{x}}\\, \\underbrace{\\frac{\\Vert \\mathbf{b} - \\mathbf{Ax} \\Vert^2_2}{2\\sigma^2}}_{\\mathrm{data\\, fidelity\\, term}} + \\underbrace{\\Psi(\\mathbf{x})}_{ \\mathrm{regularizer}}\\,.                         \n",
    "\\end{align}\n",
    "$"
   ]
  },
  {
   "cell_type": "markdown",
   "id": "e04b3205",
   "metadata": {},
   "source": [
    "The choice of image priors / regularizers depends on the imaging task, i.e., the nature of the images that are to be recovered. Examples are:\n",
    "* Blurry imges $\\rightarrow$ promote smoothness $\\Psi (\\mathbf{x}) = \\left\\| \\underbrace{\\Delta}_{\\text{Laplace operator}} \\mathbf{x} \\right\\|_2 $\n",
    "* Sparse images (e.g., stars) $\\rightarrow$ promote sparsity $\\Psi (\\mathbf{x}) = \\left\\| \\mathbf{x} \\right\\|_1$\n",
    "* Natural images $\\rightarrow$ promote spares gradients $\\Psi \\mathrm{TV}(\\mathbf{x})$"
   ]
  },
  {
   "cell_type": "markdown",
   "id": "e1e0698e",
   "metadata": {},
   "source": [
    "##### Total Variation\n",
    "\n",
    "The intuition behind total variation is that in natural images, regions of almost constant intensities are separated by sharp edges. Hence, the gradient of such images can be assumed to be sparse.\n",
    "\n",
    "The gradient is calculated by means of convolutions with the finite difference operators in $x$- and $y$-direction:\n",
    "\n",
    "* Finite difference in $x$-direction: $d_x * x = \\begin{pmatrix} 0 & 0 & 0 \\\\ 0 & -1 & 1 \\\\ 0 & 0 & 0  \\end{pmatrix} * x = \\mathbf{D}_x \\mathbf{x}$\n",
    "* Finite difference in $y$-direction: $d_y * x = \\begin{pmatrix} 0 & 0 & 0 \\\\ 0 & -1 & 0 \\\\ 0 & 1 & 0  \\end{pmatrix} * x = \\mathbf{D}_y \\mathbf{x}$"
   ]
  },
  {
   "cell_type": "markdown",
   "id": "b15d8195",
   "metadata": {},
   "source": [
    "* Anisotropic: \n",
    "$\\begin{align} \n",
    "  \\mathrm{TV}(\\mathbf{x}) &= \\left\\| \\mathbf{D}_x \\mathbf{x} \\right\\|_1 + \\left\\| \\mathbf{D}_y \\mathbf{x} \\right\\|_1 \\\\ \n",
    "  &=  \\sum\\limits^N_{i=1}  \\left| (\\mathbf{D}_x \\mathbf{x})_i \\right| + \\left| (\\mathbf{D}_y \\mathbf{x})_i \\right| = \\sum\\limits^N_{i=1} \\sqrt[]{(\\mathbf{D}_x \\mathbf{x})^2_i} + \\sum\\limits^N_{i=1} \\sqrt[]{(\\mathbf{D}_y \\mathbf{x})^2_i} \n",
    "\\end{align}$\n",
    "  \n",
    "* Isotropic:\n",
    "$\\begin{align} \n",
    "  \\mathrm{TV}(\\mathbf{x}) = \\left\\| \\begin{pmatrix} (\\mathbf{D}_x \\mathbf{x})_i \\\\ (\\mathbf{D}_y \\mathbf{x})_i \\end{pmatrix} \\right\\|_2 = \\sum\\limits^N_{i=1}  \\sqrt[]{(\\mathbf{D}_x \\mathbf{x})^2_i + (\\mathbf{D}_y \\mathbf{x})^2_i}\n",
    "\\end{align}$\n",
    "\n",
    "**TODO: Add images!**"
   ]
  },
  {
   "cell_type": "markdown",
   "id": "5caaf907",
   "metadata": {},
   "source": [
    "#### Half-quadratic splitting (HQS) method"
   ]
  },
  {
   "cell_type": "markdown",
   "id": "6e3a915e",
   "metadata": {},
   "source": [
    "This section introduces a flexible, powerful and intuitive iterative approach, the half-quadratic splitting (HQS) method, for solving regularized inverse problems formulated like \\eqref{eq:map_solution}. \n",
    "\n",
    "We start with some general considerations and then apply HQS to the inverse problem of deconvolution."
   ]
  },
  {
   "cell_type": "markdown",
   "id": "7b38bfe5",
   "metadata": {},
   "source": [
    "We assuem the following imge formation model:\n",
    "\n",
    "$\\begin{align} \n",
    "  \\mathbf{b} = \\mathbf{Ax} + \\mathbf{\\eta},\n",
    "\\end{align}$\n",
    "\n",
    "with $\\mathbf{x}\\in \\mathbb{R}^{N}$ denoting the unknown vector, $\\mathbf{b}\\in \\mathbb{R}^{M}$ representing the observations, the additive noise $\\mathbf{\\eta}\\in \\mathbb{R}^{M}$ and the matrix $\\mathbf{A}\\in \\mathbb{R}^{M\\times N}$ encoding the linear image formation model."
   ]
  },
  {
   "cell_type": "markdown",
   "id": "bb3621c5",
   "metadata": {},
   "source": [
    "Equation \\eqref{eq:map_solution} leads us to the general formulation of regularized inverse problems in the field of computational imaging:\n",
    "\n",
    "\\begin{align}\\label{eq:general_inverse_problem} \n",
    "  \\hat{\\mathbf{x}} = \\argmin{\\mathbf{x}} \\, \\underbrace{\\frac{1}{2} \\left\\| \\mathbf{Ax-b} \\right\\|^2_2}_{\\text{data fidelity term}} + \\underbrace{\\lambda \\Psi (\\mathbf{x}) }_{\\text{regularizer}}\\,.\n",
    "  \\end{align}"
   ]
  },
  {
   "cell_type": "markdown",
   "id": "0dee9086",
   "metadata": {
    "tags": [
     "book_only"
    ]
   },
   "source": [
    " The data fidelity term ensures that the sought solution $\\mathbf{\\hat{x}}$ matches the observed data $\\mathbf{b}$ when fed through the image formation process (modelled by $\\mathbf{A}$). The regularization operator $\\Psi : \\mathbb{R}^{N} \\rightarrow \\mathbb{R}^M$ models prior knowledge about the unknown original data $\\mathbf{x}$. The scalar parameter $\\lambda $ balances between the data fidelity term and the regularization term and hence $\\lambda \\in [ 0,1 ]$."
   ]
  },
  {
   "cell_type": "markdown",
   "id": "180f44e0",
   "metadata": {
    "tags": [
     "book_only"
    ]
   },
   "source": [
    " \n",
    "Trying to directly solve \\eqref{eq:general_inverse_problem}, e.g., via gradient descent, often does not work well. Reasons are poor convergence or difficulties in finding an efficient way to calculate the gradient. Even worse, whenever we change the regularizer, we will have to re-write the optimization program again."
   ]
  },
  {
   "cell_type": "markdown",
   "id": "11f5f59a",
   "metadata": {
    "tags": [
     "presentation_only",
     "remove-cell"
    ]
   },
   "source": [
    "Disadvantages of directly solving \\eqref{eq:general_inverse_problem} with, e.g.,  gradient descent:\n",
    "* Bad / no convergence,\n",
    "* calculation of gradient only in a computationally inefficient way,\n",
    "* change of regularizer requires a lot of reprogramming."
   ]
  },
  {
   "cell_type": "markdown",
   "id": "2a29e11e",
   "metadata": {},
   "source": [
    "Hence, rewrite \\eqref{eq:general_inverse_problem} to:\n",
    "\n",
    "\\begin{align} \\label{eq:hqs_1}\n",
    "  \\argmin{\\mathbf{x}}\\quad &\\underbrace{\\frac{1}{2}\\left\\| \\mathbf{Ax-b} \\right\\|^2_2 }_{=:f(\\mathbf{x})} + \\underbrace{\\lambda \\Psi (\\mathbf{z})}_{=:g(\\mathbf{z})} \\\\\n",
    "  \\text{subject to}\\quad &\\mathbf{Dx-z} = \\mathbf{0} \\,.\n",
    "  \\end{align}"
   ]
  },
  {
   "cell_type": "markdown",
   "id": "5a8857b2",
   "metadata": {
    "tags": [
     "book_only"
    ]
   },
   "source": [
    "We introduced a so-called *slack variable* $\\mathbf{z}\\in \\mathbb{R}^O$ which allows us to separate the data fidelity term and the regularization term so that they do not depend on the same variable anymore. Obviously, $\\mathbf{x}$ and $\\mathbf{z}$ are still linked by the constraint $\\mathbf{Dx-z=0}$.\n",
    "\n",
    "For now, we assume $\\mathbf{D}\\in \\mathbb{R}^{N\\times O}$ to represent the identity matrix (i.e., it does not introduce any changes and can be ignored for now) - it will come back into play later on."
   ]
  },
  {
   "cell_type": "markdown",
   "id": "113df048",
   "metadata": {
    "tags": [
     "presentation_only",
     "remove-cell"
    ]
   },
   "source": [
    "With so-called *slack variable* $\\mathbf{z}\\in \\mathbb{R}^O$.\n",
    "\n",
    "For now, assume $\\mathbf{D}\\in \\mathbb{R}^{N\\times O}$ to represent the identity matrix (will change later)."
   ]
  },
  {
   "cell_type": "markdown",
   "id": "e629c486",
   "metadata": {},
   "source": [
    "We now include the constraint of \\eqref{eq:hqs_1} directly in the main optimization objective term via a penalty term:\n",
    "\n",
    "\\begin{align}\\label{eq:hqs_2}\n",
    " L_\\rho (\\mathbf{x}, \\mathbf{z}) = f(\\mathbf{x}) + g(\\mathbf{z}) + \\frac{\\rho}{2} \\left\\| \\mathbf{Dx-z} \\right\\|^2_2\\,, \\qquad \\text{with }\\rho > 0\\,.\n",
    "  \\end{align}"
   ]
  },
  {
   "cell_type": "markdown",
   "id": "06c9d135",
   "metadata": {
    "tags": [
     "book_only"
    ]
   },
   "source": [
    " \n",
    " Intuitively, setting $\\rho$ to a large value leads to the same results for minimizing \\eqref{eq:hqs_1} and \\eqref{eq:hqs_2}. The benefit of this reformulation is that we can perform gradient descent for $\\mathbf{x}$ and $\\mathbf{z}$ in an alternating fashion."
   ]
  },
  {
   "cell_type": "markdown",
   "id": "5f15308b",
   "metadata": {
    "tags": [
     "presentation_only",
     "remove-cell"
    ]
   },
   "source": [
    " \n",
    " $\\Rightarrow$ Variables $\\mathbf{x}$ and $\\mathbf{z}$ can now be iteratively optimized via gradient descent in an alternating fashion:"
   ]
  },
  {
   "cell_type": "markdown",
   "id": "270db6ba",
   "metadata": {},
   "source": [
    "\\begin{align} \n",
    "   &\\mathbf{x} \\leftarrow \\mathrm{prox}_{f,\\rho} (\\mathbf{z}) = \\argmin{\\mathbf{x}} L_\\rho (\\mathbf{x}, \\mathbf{z}) = \\argmin{\\mathbf{x}} f(\\mathbf{x}) + \\frac{\\rho}{2} \\left\\| \\mathbf{Dx-z} \\right\\|^2_2\\,, \\\\\n",
    "   &\\mathbf{z} \\leftarrow \\mathrm{prox}_{g,\\rho} (\\mathbf{Dx}) = \\argmin{\\mathbf{z}} L_\\rho (\\mathbf{x}, \\mathbf{z}) = \\argmin{\\mathbf{z}} g(\\mathbf{z}) + \\frac{\\rho}{2} \\left\\| \\mathbf{Dx-z} \\right\\|^2_2\\,.\n",
    "\\end{align}\n",
    "\n",
    "TODO: Explain proximal operators."
   ]
  },
  {
   "cell_type": "markdown",
   "id": "b0087e57",
   "metadata": {
    "tags": [
     "book_only"
    ]
   },
   "source": [
    "Again, the important benefit of this formulation is that we can update $\\mathbf{x}$ and $\\mathbf{z}$ separately. We will see that this approach allows us to easily experiment with different regularizers (this is sometimes also referred to as a *plug-and-play* formulation)."
   ]
  },
  {
   "cell_type": "markdown",
   "id": "ca9d1ad5",
   "metadata": {
    "tags": [
     "presentation_only",
     "remove-cell"
    ]
   },
   "source": [
    "Advantages of this formulation:\n",
    "\n",
    "* Separate updates of $\\mathbf{x}$ and $\\mathbf{z}$,\n",
    "* allows to easily experiment with different regularizers,\n",
    "* many proximal operators can be implemented efficiently, often in closed form."
   ]
  },
  {
   "cell_type": "markdown",
   "id": "a3a63bc7",
   "metadata": {},
   "source": [
    "##### HQS for deconvolution\n",
    "\n",
    "We now again consider the inverse problem of deconvolution with circual boundary conditions. Here, the matrix $\\mathbf{A}$ is the square circulant Toeplitz matrix $\\mathbf{C} \\in \\mathbb{R}^{N\\times N}$ representing a 2D-convolution of the input image $x$ with the convolution kernel $c$."
   ]
  },
  {
   "cell_type": "markdown",
   "id": "cf6d09bd",
   "metadata": {},
   "source": [
    "Revise the duality between the signal processing formulation and the algebraic formulation:\n",
    "\n",
    "\\begin{align} \n",
    "   c*x = \\Fi \\left\\{ \\F \\left\\{ c \\right\\} \\cdot \\F \\left\\{ x \\right\\}  \\right\\} &\\Leftrightarrow \\mathbf{Cx} \\,, \\\\\n",
    "   \\Fi \\left\\{ \\F \\left\\{ c \\right\\}^* \\cdot \\F \\left\\{ x \\right\\}   \\right\\} &\\Leftrightarrow \\mathbf{C}\\transp \\mathbf{x}\\,, \\\\\n",
    "   \\Fi \\left\\{ \\frac{\\F \\left\\{ b \\right\\} }{\\F \\left\\{ c \\right\\} } \\right\\} &\\Leftrightarrow \\mathbf{C}^{-1} \\mathbf{b}\\,.\n",
    "\\end{align}"
   ]
  },
  {
   "cell_type": "markdown",
   "id": "0a86285c",
   "metadata": {},
   "source": [
    "###### HQS with total variation and denoising regularizers\n",
    "\n",
    "The initial formulation \\eqref{eq:hqs_1} of HQS depends on which regularizer we employ.\n",
    "\n",
    "For total variation this is:\n",
    "\\begin{align} \n",
    "  \\argmin{\\mathbf{x}}\\quad &\\underbrace{\\frac{1}{2}\\left\\| \\mathbf{Dx-b} \\right\\|^2_2 }_{=:f(\\mathbf{x})} + \\underbrace{\\lambda \\left\\| \\mathbf{z} \\right\\|_1 }_{=:g(\\mathbf{z})} \\\\\n",
    "  \\text{subject to}\\quad &\\mathbf{Dx-z} = \\mathbf{0} \\,,\n",
    "\\end{align}\n",
    "\n",
    "with $\\mathbf{D} = \\left( \\mathbf{D}\\transp_x \\mathbf{D}\\transp_y \\right)\\transp \\in \\mathbb{R}^{2N \\times N}$ representing the finite difference operator for calculating the gradients of $\\mathbf{x}$ in $x$- and $y$-direction."
   ]
  },
  {
   "cell_type": "markdown",
   "id": "13d35ce7",
   "metadata": {
    "tags": [
     "book_only"
    ]
   },
   "source": [
    "```{note}\n",
    "  The vector $\\mathbf{z}\\in \\mathbb{R}^{2N}$ has to be twice as large as $\\mathbf{x}\\in \\mathbb{R}^{N} $ in order to store the two gradient values in $x$- and $y$-direction for every input pixel.\n",
    "```"
   ]
  },
  {
   "cell_type": "markdown",
   "id": "d12699b0",
   "metadata": {},
   "source": [
    "In the more general case, we use a regularizer $\\Psi $ projecting an image onto the set of feasible natural images (more on that later):\n",
    "\n",
    "\\begin{align} \n",
    "  \\argmin{\\mathbf{x}}\\quad &\\underbrace{\\frac{1}{2}\\left\\| \\mathbf{Dx-b} \\right\\|^2_2 }_{=:f(\\mathbf{x})} + \\underbrace{\\lambda  \\Psi (\\mathbf{z})}_{=:g(\\mathbf{z})} \\\\\n",
    "  \\text{subject to}\\quad &\\mathbf{x-z} = \\mathbf{0} \\,.\n",
    "\\end{align}\n",
    "\n",
    "Here the matrix $D$ represents the identity matrix which is why it can be omitted."
   ]
  },
  {
   "cell_type": "markdown",
   "id": "081619f4",
   "metadata": {},
   "source": [
    "###### Efficient implementation of $x$-update\n",
    "\n",
    "For obtaining the $x$-update, we have to derive the proximal operator $\\mathrm{prox}_{f,\\rho}$:\n",
    "\\begin{align} \n",
    "  \\mathrm{prox}_{f,\\rho} (\\mathbf{z}) = \\argmin{\\mathbf{x}} f(\\mathbf{x}) + \\frac{\\rho}{2} \\left\\| \\mathbf{Dx-z} \\right\\|^2_2 = \\argmin{\\mathbf{x}} \\frac{1}{2} \\left\\| \\mathbf{Cx-b} \\right\\|^2_2 + \\frac{\\rho}{2} \\left\\| \\mathbf{Dx-z} \\right\\|^2_2 \\,.\n",
    "\\end{align}\n",
    "Hence, we have to derive the gradient of that equation with respect to $\\mathbf{x}$."
   ]
  },
  {
   "cell_type": "markdown",
   "id": "f8717f34",
   "metadata": {
    "tags": [
     "book_only"
    ]
   },
   "source": [
    "We iteratively expand that equation as follows:\n",
    "\\begin{align} \n",
    "  &\\frac{1}{2} \\left\\| \\mathbf{Cx-b} \\right\\|^2_2 + \\frac{\\rho}{2} \\left\\| \\mathbf{Dx-z} \\right\\|^2_2 \\\\\n",
    "  =&\\frac{1}{2} (\\mathbf{Cx-b})\\transp (\\mathbf{Cx-b}) + \\frac{\\rho}{2} (\\mathbf{Dx-z})\\transp (\\mathbf{Dx-z}) \\\\\n",
    "  =&\\frac{1}{2} (\\mathbf{x}\\transp \\mathbf{C}\\transp \\mathbf{Cx} - 2\\mathbf{x}\\transp \\mathbf{C}\\transp \\mathbf{b} + \\mathbf{b}\\transp \\mathbf{b}) + \\frac{\\rho}{2} (\\mathbf{x}\\transp \\mathbf{D}\\transp \\mathbf{D} \\mathbf{x} - 2 \\mathbf{x}\\transp \\mathbf{D}\\transp \\mathbf{z} + \\mathbf{z}\\transp\\mathbf{z}) \\,.\n",
    "\\end{align}"
   ]
  },
  {
   "cell_type": "markdown",
   "id": "3c5691dd",
   "metadata": {},
   "source": [
    "The sought gradient is\n",
    "\\begin{align} \n",
    "   \\mathbf{C}\\transp \\mathbf{Cx} - \\mathbf{C}\\transp \\mathbf{b} + \\rho \\mathbf{D}\\transp \\mathbf{Dx} - \\rho \\mathbf{D}\\transp \\mathbf{z} \\,.\n",
    "\\end{align}\n",
    "\n",
    "This expression can now be equated to zero and solved for $\\mathbf{x}$."
   ]
  },
  {
   "cell_type": "markdown",
   "id": "e124bad5",
   "metadata": {
    "tags": [
     "book_only"
    ]
   },
   "source": [
    "The single steps are:\n",
    "\\begin{align} \n",
    "  \\mathbf{C}\\transp \\mathbf{Cx} - \\mathbf{C}\\transp \\mathbf{b} + \\rho \\mathbf{D}\\transp \\mathbf{Dx} - \\rho \\mathbf{D}\\transp \\mathbf{z}\\quad &\\overset{!}{=} \\quad \\mathbf{0} \\\\\n",
    "  \\mathbf{C}\\transp \\mathbf{Cx} + \\rho \\mathbf{D}\\transp \\mathbf{Dx}\n",
    "  &\\overset{!}{=} \\quad \\mathbf{C}\\transp \\mathbf{b} + \\rho \\mathbf{D}\\transp \\mathbf{z} \\\\\n",
    "  (\\mathbf{C}\\transp \\mathbf{C} + \\rho \\mathbf{D}\\transp \\mathbf{D})\\mathbf{x}\n",
    "  &\\overset{!}{=} \\quad \\mathbf{C}\\transp \\mathbf{b} + \\rho \\mathbf{D}\\transp \\mathbf{z} \\\\\n",
    "  \\mathbf{x} &\\overset{!}{=} (\\mathbf{C}\\transp \\mathbf{C} + \\rho \\mathbf{D}\\transp \\mathbf{D})^{-1}(\\mathbf{C}\\transp \\mathbf{b} + \\rho \\mathbf{D}\\transp \\mathbf{z}) \\,.\n",
    "\\end{align}"
   ]
  },
  {
   "cell_type": "markdown",
   "id": "332f793c",
   "metadata": {},
   "source": [
    "This yields a first formulation for the sought proximal operator:\n",
    "\\begin{align}\\label{eq:hqs_tv_1} \n",
    "  \\mathrm{prox}_{f,\\rho} (\\mathbf{z}) = (\\mathbf{C}\\transp \\mathbf{C} + \\rho \\mathbf{D}\\transp \\mathbf{D})^{-1}(\\mathbf{C}\\transp \\mathbf{b} + \\rho \\mathbf{D}\\transp \\mathbf{z}) \\,.\n",
    "\\end{align}"
   ]
  },
  {
   "cell_type": "markdown",
   "id": "d86726d2",
   "metadata": {},
   "source": [
    "###### Special case of total variation regularizer"
   ]
  },
  {
   "cell_type": "markdown",
   "id": "70b4a225",
   "metadata": {
    "tags": [
     "book_only"
    ]
   },
   "source": [
    "For the TV regularizer, the matrix $\\mathbf{D}$ represents the finite difference operator.  The matrix-vector multiplications involved in the proximal operator, i.e., $\\mathbf{Cx}$ and $\\mathbf{Dx} = \\left[ \\mathbf{D}\\transp_x \\mathbf{D}\\transp_y  \\right]\\transp \\mathbf{x}$ (and also their adjoint correspondencies $\\mathbf{C}\\transp \\mathbf{b}$ and $\\mathbf{D}\\transp \\mathbf{z} = \\left[ \\mathbf{D}\\transp_x \\mathbf{D}\\transp_y  \\right] \\mathbf{z} =  \\mathbf{D}\\transp_x \\mathbf{z} + \\mathbf{D}\\transp_y \\mathbf{z}   $ ) all encode 2D-convolutions with circular boundary conditions."
   ]
  },
  {
   "cell_type": "markdown",
   "id": "073b1d25",
   "metadata": {},
   "source": [
    "Exploiting the duality of the signal-processing perspective and the algebraic perspective yields the following reforumlations of the denominator, respectively, of the nominator of \\eqref{eq:hqs_tv_1}:\n",
    "\\begin{align} \n",
    "  (\\mathbf{C}\\transp \\mathbf{C} + \\rho \\mathbf{D}\\transp \\mathbf{D}) &\\Leftrightarrow \\Fi \\left\\{ \\F \\left\\{ c \\right\\}^* \\cdot \\F \\left\\{ c \\right\\} + \\rho \\left( \\F \\left\\{ d_x \\right\\}^* \\cdot \\F \\left\\{ d_x \\right\\} + \\F \\left\\{ d_y \\right\\}^* \\cdot \\F \\left\\{  d_y \\right\\}     \\right)   \\right\\} \\, , \\\\\n",
    "  (\\mathbf{C}\\transp \\mathbf{b} + \\rho \\mathbf{D}\\transp \\mathbf{z}) &\\Leftrightarrow \\Fi \\left\\{ \\F \\left\\{ c \\right\\}^* \\cdot \\F \\left\\{ b \\right\\} + \\rho \\left( \\F \\left\\{ d_x \\right\\}^* \\cdot \\F \\left\\{ z \\right\\} + \\F \\left\\{ d_y \\right\\}^* \\cdot \\F \\left\\{  z \\right\\}  \t  \\right)   \\right\\} \\,,\n",
    "\\end{align}\n",
    "with $(\\cdot)^*$ denoting the element-wise complex conjugate."
   ]
  },
  {
   "cell_type": "markdown",
   "id": "9260e498",
   "metadata": {},
   "source": [
    "Combining both terms in the original fraction yields the sought proximal operator:\n",
    "\n",
    "\\begin{align} \n",
    "  \\mathrm{prox}_{\\left\\| \\cdot \\right\\|_2 ,\\rho} (\\mathbf{z}) = \\Fi \\left\\{  \\frac{\\F \\left\\{ c \\right\\}^* \\cdot \\F \\left\\{ b \\right\\} + \\rho \\left( \\F \\left\\{ d_x \\right\\}^* \\cdot \\F \\left\\{ z \\right\\} + \\F \\left\\{ d_y \\right\\}^* \\cdot \\F \\left\\{  z \\right\\}  \t  \\right)}{\\F \\left\\{ c \\right\\}^* \\cdot \\F \\left\\{ c \\right\\} + \\rho \\left( \\F \\left\\{ d_x \\right\\}^* \\cdot \\F \\left\\{ d_x \\right\\} + \\F \\left\\{ d_y \\right\\}^* \\cdot \\F \\left\\{  d_y \\right\\}     \\right)} \\right\\} \\,.\n",
    "\\end{align}"
   ]
  },
  {
   "cell_type": "markdown",
   "id": "c3ef98a6",
   "metadata": {
    "tags": [
     "book_only"
    ]
   },
   "source": [
    "As for the inverse filer introduced before, this proximal operator is also unstable with respect to noise and zeros in the involved Fourier transforms. However, the integration into the HQS iterations will mitigate these effects so that the resulting estimate $\\mathbf{\\hat{x}}$ will not be affected.\n",
    "\n",
    "```{note}\n",
    "   All terms of the proximal operator that do not depend on $z$ only have to be computed once and can then be reused.\n",
    "```"
   ]
  },
  {
   "cell_type": "markdown",
   "id": "b42cce17",
   "metadata": {},
   "source": [
    "###### General regularizer\n",
    "\n",
    "For a general regularizer, we assume $\\mathbf{D}$ to be the identity matrix so that it can be ignored. The proximal operator can then be written as:\n",
    "\n",
    "\\begin{align} \n",
    "  \\mathrm{prox}_{\\left\\| \\cdot \\right\\|_2 ,\\rho} (\\mathbf{z}) = \\Fi \\left\\{ \\frac{\\F \\left\\{ c \\right\\}^* \\cdot \\F \\left\\{ b \\right\\} + \\rho \\F \\left\\{ z \\right\\}  }{\\F \\left\\{ c \\right\\}^* \\cdot \\F \\left\\{ c \\right\\} + \\rho}  \\right\\} \\,.\n",
    "\\end{align}"
   ]
  },
  {
   "cell_type": "markdown",
   "id": "c609c4dd",
   "metadata": {},
   "source": [
    "##### Efficient implementation of $z$-update for anisotropic TV regularizer\n",
    "\n",
    "For the $z$-update, we need to find a solution for the proximal operator\n",
    "\\begin{align} \n",
    "   \\mathrm{prox}_{\\left\\| \\cdot \\right\\|_1, \\rho } (\\mathbf{Dx}) = \\argmin{\\mathbf{z}} \\lambda \\left\\| \\mathbf{z} \\right\\|_1 + \\frac{\\rho}{2}\\left\\| \\mathbf{Dx-z} \\right\\|^2_2 \\,.  \n",
    "\\end{align}\n",
    "\n",
    "To simplify the writing, we substitute $\\mathbf{v} = \\mathbf{Dx}$:\n",
    "\n",
    "\\begin{align} \n",
    "  \\mathrm{prox}_{\\left\\| \\cdot \\right\\|_1, \\rho } (\\mathbf{v}) = \\argmin{\\mathbf{z}} \\lambda \\left\\| \\mathbf{z} \\right\\|_1 + \\frac{\\rho}{2}\\left\\| \\mathbf{v-z} \\right\\|^2_2 \\,.  \n",
    "\\end{align}"
   ]
  },
  {
   "cell_type": "markdown",
   "id": "0f0bbc81",
   "metadata": {
    "tags": [
     "book_only"
    ]
   },
   "source": [
    "We now have to calculate the gradient of that expression with respect to $\\mathbf{z}$. To easily follow the derivation, we will work on a single element of the gradient, i.e., we consider the scalar function\n",
    "\n",
    "\\begin{align} \n",
    "   h(z) = \\frac{\\rho}{2}(v-z)^2 + \\lambda \\vert z \\vert \\,.\n",
    "\\end{align}\n",
    "\n",
    "In order to calculate the gradient $h'(z)$ of $h(z)$, we can work on the two terms of the addition separately. The derivative of the first term $\\frac{\\rho}{2}(v-z)^2$ is \n",
    "\\begin{align} \n",
    "   \\frac{\\mathrm{d}}{\\mathrm{d}z}\\,\\, \\frac{\\rho}{2}(v-z)^2 = \\rho (-v + z) \\,.\n",
    "\\end{align}\n",
    "Unfortunately, the absolute value function $\\vert \\cdot \\vert$ (i.e., the 1-norm $\\left\\| \\cdot \\right\\|_1$) is not differentiable and we have to take a detour to solve that problem.\n",
    "\n",
    "For convex functions there is the concept of subdifferentials and subgradients which can be employed to approximate the gradient of convex functions at positions where they are not differentiable. \n",
    "\n",
    "Consider a convex function $f:\\mathcal{S} \\rightarrow \\mathbb{R}$ defined on the open interval $\\mathcal{S}$. According to Taylor's theorem, the linear approximation of such a function $f$ at any point is strictly smaller than the value of the function at that point itself, i.e.,\n",
    "\\begin{align} \n",
    "   \\forall a \\in \\mathcal{S}: f(x) \\geq f(a) + f'(a)(x-a) \\,.\n",
    "\\end{align}\n",
    "This inequality also holds for other values $g$ instead of $f'(a)$, which are smaller than the true gradient $f'(a)$ and since a gradient is never infinite, there have to be infinitely many of suitable $g$:\n",
    "\\begin{align} \n",
    "   \\forall a \\in \\mathcal{S} \\exists g \\in \\mathbb{R}: f(x) \\geq f(a) + g(x-a) \\,.\n",
    "\\end{align}\n",
    "Such values $g$ are called *subgradients* of the function $f$ at position $a$. The set of all subgradients of $f$ at position $a$ is called the *subdifferential* $\\partial_a f$ of $f$ at position $a$:\n",
    "\\begin{align} \n",
    "   \\partial_a f(x) = \\left\\{ g\\in \\mathbb{R}: f(x) \\geq f(a) + g(x-a) \\right\\}  \\,.\n",
    "\\end{align}\n",
    "\n",
    "Subdifferentials have the following useful properties (w.r.t a convex function $f$ as defined above):\n",
    "* The function $f$ is differentiable at position $a$ if and only if the set of subdifferentials at position $a$ contains only a single slope value, i.e., if $\\vert \\partial_a f(x) \\vert = 1$.\n",
    "* A point $a$ is a global minimum of $f$ if and only if $0 \\in \\partial_a f(x)$.\n",
    "* Let $k(x)$ be another convex function like $f$. With the subdifferentials $\\partial_a f(x), \\partial_a k(x)$ for some position $a$, the subdifferential of $f+k$ for position $a$ is then $\\partial_a (f+k)(x) = \\partial_a f(x) \\oplus \\partial_a k(x)$ with $\\oplus$ denoting the so-called Minkowski sum (i.e., the set of all possible sums between all elements of the two input sets).\n",
    "\n",
    "We will now derive the subdifferential of $h(z) = \\frac{\\rho}{2}(v-z)^2 + \\lambda \\vert z \\vert $ (neglecting the position $a$ for simplicity) and look for subgradients of $0$, which correspond to the sought minimum.\n",
    "\n",
    "According to the third property introduced before, it is:\n",
    "\\begin{align} \n",
    "   \\partial h(z) = \\partial \\frac{\\rho}{2}(v-z)^2 \\oplus  \\partial \\lambda \\vert z \\vert \\,.\n",
    "\\end{align}\n",
    "\n",
    "Of course, the true gradient $f'(a)$ of a function $f(x)$ at position $a$ is also a valid subgradient at position $a$, i.e.:\n",
    "\\begin{align}\\label{eq:hqs_z_1} \n",
    "  \\partial h(z) = \\lbrace \\rho(-v+z) \\rbrace \\oplus  \\partial \\lambda \\vert z \\vert \\,.   \n",
    "\\end{align}\n",
    "\n",
    "The subdifferentials for the absolute value function are:\n",
    "\\begin{align}\\label{eq:hqs_z_2}\n",
    "  \\partial \\lambda \\vert z \\vert = \\begin{cases}\n",
    "   &-\\lambda &\\text{ if } z < 0\\\\\n",
    "   &[-\\lambda, \\lambda] &\\text{ if } z = 0\\\\\n",
    "   &\\lambda &\\text{ if } z > 0\\\\\n",
    "  \\end{cases} \\,.\n",
    "\\end{align}\n",
    "For $z\\neq 0$, the absolute function is differentiable which is why its subdifferentials for those positions contains only one element ($\\lambda$ or $-\\lambda$ respectively). For $z=0$ there infinitely many possible slope values inside the interval $[-\\lambda, \\lambda]$ (note: the value $0$ is also contained in that interval, indicating that the global minimum must be at position $0$). \n",
    "\n",
    "Combining \\eqref{eq:hqs_z_1} and \\eqref{eq:hqs_z_2} yields:\n",
    "\\begin{align}\\label{eq:hqs_z_1} \n",
    "  \\partial h(z) =  \\begin{cases}\n",
    "    &\\rho(-v+z) - \\lambda &\\text{ if } z < 0\\\\\n",
    "    &[-\\rho v-\\lambda, -\\rho v + \\lambda] &\\text{ if } z = 0\\\\\n",
    "   \\end{cases} \\,.\n",
    "\\end{align}\n",
    "\n",
    "We now equate all cases separately to $0$, solve for $z$ and calculate the corresponding interval for $v$ (which is the variable that we know, so we can use it to decide which case applies):\n",
    "\\begin{align} \n",
    "  \\textbf{Case 1,  } z < 0: \\quad &\\rho(-v+z) - \\lambda \\overset{!}{=}0 \\Leftrightarrow z \\overset{!}{=} v + \\frac{\\lambda}{\\rho} \\\\\n",
    "  &v + \\frac{\\lambda}{\\rho}  \\overset{!}{<} 0 \\Leftrightarrow v < - \\frac{\\lambda}{\\rho} \\,.\n",
    "\\end{align}\n",
    "\n",
    "For the second case, which is where the sought minimum is located, we want to always return $0$ which is why we have to make sure that $0$ is contained in the interval of possible slopes, i.e.,  $0 \\in [-\\rho v-\\lambda, -\\rho v + \\lambda]$. Hence, it must hold \n",
    "\\begin{align}\n",
    "   -\\rho v - \\lambda \\leq 0 &\\Leftrightarrow v \\geq - \\frac{\\lambda }{\\rho } \\quad \\text{and} \\\\\n",
    "   0 \\leq -\\rho v + \\lambda  &\\Leftrightarrow v \\leq \\frac{\\lambda}{\\rho} \\,,\n",
    "\\end{align}\n",
    "i.e., \n",
    "\\begin{align} \n",
    "  \\textbf{Case 2,  } z < 0: \\quad \\left| v \\right| \\leq \\frac{\\lambda }{\\rho }\\,.\n",
    "\\end{align}\n",
    "\n",
    "The third case can be solved analogously to the first case:\n",
    "\\begin{align} \n",
    "  \\textbf{Case 3,  } z > 0: \\quad &\\rho(-v-z) + \\lambda \\overset{!}{=}0 \\Leftrightarrow z \\overset{!}{=} v - \\frac{\\lambda}{\\rho} \\\\\n",
    "  & v - \\frac{\\lambda}{\\rho}  \\overset{!}{>} 0 \\Leftrightarrow v > \\frac{\\lambda}{\\rho} \\,.\n",
    "\\end{align}\n",
    "$\\square$"
   ]
  },
  {
   "cell_type": "markdown",
   "id": "7d0ec5f0",
   "metadata": {},
   "source": [
    "The sought proximal operator is given by\n",
    "\\begin{align} \n",
    "  \\mathrm{prox}_{\\left\\| \\cdot \\right\\|_1, \\rho } (\\mathbf{v})_i =  \\mathcal{S}_{\\lambda / \\rho} (v_i) = \\begin{cases}\n",
    "  v_i + \\frac{\\lambda}{\\rho} &\\text{if } v_i < - \\frac{\\lambda}{\\rho}\\\\\n",
    "  0 &\\text{if } \\left| v_i \\right| \\leq \\frac{\\lambda }{\\rho }\\\\\n",
    "  v_i - \\frac{\\lambda}{\\rho} &\\text{if } v_i > \\frac{\\lambda}{\\rho} \n",
    "\\end{cases} \\,,  \n",
    "\\end{align}\n",
    "with $v_i$ refering to the $i$-th element of the corresponding vector $\\mathbf{v}$ (etc.). \n",
    "\n",
    "The operator $\\mathcal{S}$ is also called the element-wise *soft thresholding operator*."
   ]
  },
  {
   "cell_type": "markdown",
   "id": "e14343e0",
   "metadata": {},
   "source": [
    "##### Visualization of soft thresholding operator"
   ]
  },
  {
   "cell_type": "code",
   "execution_count": 15,
   "id": "543068fe",
   "metadata": {},
   "outputs": [],
   "source": [
    "def y(z,v, rho, lam):\n",
    "    return lam*np.abs(z) + rho/2.0 * np.linalg.norm(v-z)**2"
   ]
  },
  {
   "cell_type": "code",
   "execution_count": 16,
   "id": "dbc78c5c",
   "metadata": {},
   "outputs": [],
   "source": [
    "def s(v,kap):\n",
    "    if v > kap:\n",
    "        return v-kap\n",
    "    if v < (-1*kap):\n",
    "        return v+kap\n",
    "    else:\n",
    "        return 0"
   ]
  },
  {
   "cell_type": "code",
   "execution_count": 17,
   "id": "99e2feb3",
   "metadata": {},
   "outputs": [],
   "source": [
    "def soft_thres_visu(v):\n",
    "    rho = 0.5\n",
    "    lam = 0.4\n",
    "\n",
    "    zs = np.arange(-5.0,5.0,0.1)\n",
    "    ys = [y(z,v,rho,lam) for z in zs]\n",
    "\n",
    "    vs = np.arange(-3.0,3.0,0.1)\n",
    "    ss = [s(v,lam/rho) for v in vs]\n",
    "\n",
    "    #plt.subplots(1,2)\n",
    "    plt.clf()\n",
    "    plt.subplot(1,2,1)\n",
    "    plt.plot(zs, ys)\n",
    "    plt.plot(cur_s:=s(v, lam/rho), y(cur_s, v, rho, lam), 'bo' )\n",
    "\n",
    "    plt.subplot(1,2,2)\n",
    "    plt.plot(vs, ss)\n",
    "    plt.plot(v,s(v,lam/rho),'bo')"
   ]
  },
  {
   "cell_type": "code",
   "execution_count": 18,
   "id": "3a5e2784",
   "metadata": {
    "slideshow": {
     "slide_type": "fragment"
    }
   },
   "outputs": [
    {
     "data": {
      "application/javascript": [
       "/* Put everything inside the global mpl namespace */\n",
       "/* global mpl */\n",
       "window.mpl = {};\n",
       "\n",
       "mpl.get_websocket_type = function () {\n",
       "    if (typeof WebSocket !== 'undefined') {\n",
       "        return WebSocket;\n",
       "    } else if (typeof MozWebSocket !== 'undefined') {\n",
       "        return MozWebSocket;\n",
       "    } else {\n",
       "        alert(\n",
       "            'Your browser does not have WebSocket support. ' +\n",
       "                'Please try Chrome, Safari or Firefox ≥ 6. ' +\n",
       "                'Firefox 4 and 5 are also supported but you ' +\n",
       "                'have to enable WebSockets in about:config.'\n",
       "        );\n",
       "    }\n",
       "};\n",
       "\n",
       "mpl.figure = function (figure_id, websocket, ondownload, parent_element) {\n",
       "    this.id = figure_id;\n",
       "\n",
       "    this.ws = websocket;\n",
       "\n",
       "    this.supports_binary = this.ws.binaryType !== undefined;\n",
       "\n",
       "    if (!this.supports_binary) {\n",
       "        var warnings = document.getElementById('mpl-warnings');\n",
       "        if (warnings) {\n",
       "            warnings.style.display = 'block';\n",
       "            warnings.textContent =\n",
       "                'This browser does not support binary websocket messages. ' +\n",
       "                'Performance may be slow.';\n",
       "        }\n",
       "    }\n",
       "\n",
       "    this.imageObj = new Image();\n",
       "\n",
       "    this.context = undefined;\n",
       "    this.message = undefined;\n",
       "    this.canvas = undefined;\n",
       "    this.rubberband_canvas = undefined;\n",
       "    this.rubberband_context = undefined;\n",
       "    this.format_dropdown = undefined;\n",
       "\n",
       "    this.image_mode = 'full';\n",
       "\n",
       "    this.root = document.createElement('div');\n",
       "    this.root.setAttribute('style', 'display: inline-block');\n",
       "    this._root_extra_style(this.root);\n",
       "\n",
       "    parent_element.appendChild(this.root);\n",
       "\n",
       "    this._init_header(this);\n",
       "    this._init_canvas(this);\n",
       "    this._init_toolbar(this);\n",
       "\n",
       "    var fig = this;\n",
       "\n",
       "    this.waiting = false;\n",
       "\n",
       "    this.ws.onopen = function () {\n",
       "        fig.send_message('supports_binary', { value: fig.supports_binary });\n",
       "        fig.send_message('send_image_mode', {});\n",
       "        if (fig.ratio !== 1) {\n",
       "            fig.send_message('set_dpi_ratio', { dpi_ratio: fig.ratio });\n",
       "        }\n",
       "        fig.send_message('refresh', {});\n",
       "    };\n",
       "\n",
       "    this.imageObj.onload = function () {\n",
       "        if (fig.image_mode === 'full') {\n",
       "            // Full images could contain transparency (where diff images\n",
       "            // almost always do), so we need to clear the canvas so that\n",
       "            // there is no ghosting.\n",
       "            fig.context.clearRect(0, 0, fig.canvas.width, fig.canvas.height);\n",
       "        }\n",
       "        fig.context.drawImage(fig.imageObj, 0, 0);\n",
       "    };\n",
       "\n",
       "    this.imageObj.onunload = function () {\n",
       "        fig.ws.close();\n",
       "    };\n",
       "\n",
       "    this.ws.onmessage = this._make_on_message_function(this);\n",
       "\n",
       "    this.ondownload = ondownload;\n",
       "};\n",
       "\n",
       "mpl.figure.prototype._init_header = function () {\n",
       "    var titlebar = document.createElement('div');\n",
       "    titlebar.classList =\n",
       "        'ui-dialog-titlebar ui-widget-header ui-corner-all ui-helper-clearfix';\n",
       "    var titletext = document.createElement('div');\n",
       "    titletext.classList = 'ui-dialog-title';\n",
       "    titletext.setAttribute(\n",
       "        'style',\n",
       "        'width: 100%; text-align: center; padding: 3px;'\n",
       "    );\n",
       "    titlebar.appendChild(titletext);\n",
       "    this.root.appendChild(titlebar);\n",
       "    this.header = titletext;\n",
       "};\n",
       "\n",
       "mpl.figure.prototype._canvas_extra_style = function (_canvas_div) {};\n",
       "\n",
       "mpl.figure.prototype._root_extra_style = function (_canvas_div) {};\n",
       "\n",
       "mpl.figure.prototype._init_canvas = function () {\n",
       "    var fig = this;\n",
       "\n",
       "    var canvas_div = (this.canvas_div = document.createElement('div'));\n",
       "    canvas_div.setAttribute(\n",
       "        'style',\n",
       "        'border: 1px solid #ddd;' +\n",
       "            'box-sizing: content-box;' +\n",
       "            'clear: both;' +\n",
       "            'min-height: 1px;' +\n",
       "            'min-width: 1px;' +\n",
       "            'outline: 0;' +\n",
       "            'overflow: hidden;' +\n",
       "            'position: relative;' +\n",
       "            'resize: both;'\n",
       "    );\n",
       "\n",
       "    function on_keyboard_event_closure(name) {\n",
       "        return function (event) {\n",
       "            return fig.key_event(event, name);\n",
       "        };\n",
       "    }\n",
       "\n",
       "    canvas_div.addEventListener(\n",
       "        'keydown',\n",
       "        on_keyboard_event_closure('key_press')\n",
       "    );\n",
       "    canvas_div.addEventListener(\n",
       "        'keyup',\n",
       "        on_keyboard_event_closure('key_release')\n",
       "    );\n",
       "\n",
       "    this._canvas_extra_style(canvas_div);\n",
       "    this.root.appendChild(canvas_div);\n",
       "\n",
       "    var canvas = (this.canvas = document.createElement('canvas'));\n",
       "    canvas.classList.add('mpl-canvas');\n",
       "    canvas.setAttribute('style', 'box-sizing: content-box;');\n",
       "\n",
       "    this.context = canvas.getContext('2d');\n",
       "\n",
       "    var backingStore =\n",
       "        this.context.backingStorePixelRatio ||\n",
       "        this.context.webkitBackingStorePixelRatio ||\n",
       "        this.context.mozBackingStorePixelRatio ||\n",
       "        this.context.msBackingStorePixelRatio ||\n",
       "        this.context.oBackingStorePixelRatio ||\n",
       "        this.context.backingStorePixelRatio ||\n",
       "        1;\n",
       "\n",
       "    this.ratio = (window.devicePixelRatio || 1) / backingStore;\n",
       "\n",
       "    var rubberband_canvas = (this.rubberband_canvas = document.createElement(\n",
       "        'canvas'\n",
       "    ));\n",
       "    rubberband_canvas.setAttribute(\n",
       "        'style',\n",
       "        'box-sizing: content-box; position: absolute; left: 0; top: 0; z-index: 1;'\n",
       "    );\n",
       "\n",
       "    // Apply a ponyfill if ResizeObserver is not implemented by browser.\n",
       "    if (this.ResizeObserver === undefined) {\n",
       "        if (window.ResizeObserver !== undefined) {\n",
       "            this.ResizeObserver = window.ResizeObserver;\n",
       "        } else {\n",
       "            var obs = _JSXTOOLS_RESIZE_OBSERVER({});\n",
       "            this.ResizeObserver = obs.ResizeObserver;\n",
       "        }\n",
       "    }\n",
       "\n",
       "    this.resizeObserverInstance = new this.ResizeObserver(function (entries) {\n",
       "        var nentries = entries.length;\n",
       "        for (var i = 0; i < nentries; i++) {\n",
       "            var entry = entries[i];\n",
       "            var width, height;\n",
       "            if (entry.contentBoxSize) {\n",
       "                if (entry.contentBoxSize instanceof Array) {\n",
       "                    // Chrome 84 implements new version of spec.\n",
       "                    width = entry.contentBoxSize[0].inlineSize;\n",
       "                    height = entry.contentBoxSize[0].blockSize;\n",
       "                } else {\n",
       "                    // Firefox implements old version of spec.\n",
       "                    width = entry.contentBoxSize.inlineSize;\n",
       "                    height = entry.contentBoxSize.blockSize;\n",
       "                }\n",
       "            } else {\n",
       "                // Chrome <84 implements even older version of spec.\n",
       "                width = entry.contentRect.width;\n",
       "                height = entry.contentRect.height;\n",
       "            }\n",
       "\n",
       "            // Keep the size of the canvas and rubber band canvas in sync with\n",
       "            // the canvas container.\n",
       "            if (entry.devicePixelContentBoxSize) {\n",
       "                // Chrome 84 implements new version of spec.\n",
       "                canvas.setAttribute(\n",
       "                    'width',\n",
       "                    entry.devicePixelContentBoxSize[0].inlineSize\n",
       "                );\n",
       "                canvas.setAttribute(\n",
       "                    'height',\n",
       "                    entry.devicePixelContentBoxSize[0].blockSize\n",
       "                );\n",
       "            } else {\n",
       "                canvas.setAttribute('width', width * fig.ratio);\n",
       "                canvas.setAttribute('height', height * fig.ratio);\n",
       "            }\n",
       "            canvas.setAttribute(\n",
       "                'style',\n",
       "                'width: ' + width + 'px; height: ' + height + 'px;'\n",
       "            );\n",
       "\n",
       "            rubberband_canvas.setAttribute('width', width);\n",
       "            rubberband_canvas.setAttribute('height', height);\n",
       "\n",
       "            // And update the size in Python. We ignore the initial 0/0 size\n",
       "            // that occurs as the element is placed into the DOM, which should\n",
       "            // otherwise not happen due to the minimum size styling.\n",
       "            if (fig.ws.readyState == 1 && width != 0 && height != 0) {\n",
       "                fig.request_resize(width, height);\n",
       "            }\n",
       "        }\n",
       "    });\n",
       "    this.resizeObserverInstance.observe(canvas_div);\n",
       "\n",
       "    function on_mouse_event_closure(name) {\n",
       "        return function (event) {\n",
       "            return fig.mouse_event(event, name);\n",
       "        };\n",
       "    }\n",
       "\n",
       "    rubberband_canvas.addEventListener(\n",
       "        'mousedown',\n",
       "        on_mouse_event_closure('button_press')\n",
       "    );\n",
       "    rubberband_canvas.addEventListener(\n",
       "        'mouseup',\n",
       "        on_mouse_event_closure('button_release')\n",
       "    );\n",
       "    rubberband_canvas.addEventListener(\n",
       "        'dblclick',\n",
       "        on_mouse_event_closure('dblclick')\n",
       "    );\n",
       "    // Throttle sequential mouse events to 1 every 20ms.\n",
       "    rubberband_canvas.addEventListener(\n",
       "        'mousemove',\n",
       "        on_mouse_event_closure('motion_notify')\n",
       "    );\n",
       "\n",
       "    rubberband_canvas.addEventListener(\n",
       "        'mouseenter',\n",
       "        on_mouse_event_closure('figure_enter')\n",
       "    );\n",
       "    rubberband_canvas.addEventListener(\n",
       "        'mouseleave',\n",
       "        on_mouse_event_closure('figure_leave')\n",
       "    );\n",
       "\n",
       "    canvas_div.addEventListener('wheel', function (event) {\n",
       "        if (event.deltaY < 0) {\n",
       "            event.step = 1;\n",
       "        } else {\n",
       "            event.step = -1;\n",
       "        }\n",
       "        on_mouse_event_closure('scroll')(event);\n",
       "    });\n",
       "\n",
       "    canvas_div.appendChild(canvas);\n",
       "    canvas_div.appendChild(rubberband_canvas);\n",
       "\n",
       "    this.rubberband_context = rubberband_canvas.getContext('2d');\n",
       "    this.rubberband_context.strokeStyle = '#000000';\n",
       "\n",
       "    this._resize_canvas = function (width, height, forward) {\n",
       "        if (forward) {\n",
       "            canvas_div.style.width = width + 'px';\n",
       "            canvas_div.style.height = height + 'px';\n",
       "        }\n",
       "    };\n",
       "\n",
       "    // Disable right mouse context menu.\n",
       "    this.rubberband_canvas.addEventListener('contextmenu', function (_e) {\n",
       "        event.preventDefault();\n",
       "        return false;\n",
       "    });\n",
       "\n",
       "    function set_focus() {\n",
       "        canvas.focus();\n",
       "        canvas_div.focus();\n",
       "    }\n",
       "\n",
       "    window.setTimeout(set_focus, 100);\n",
       "};\n",
       "\n",
       "mpl.figure.prototype._init_toolbar = function () {\n",
       "    var fig = this;\n",
       "\n",
       "    var toolbar = document.createElement('div');\n",
       "    toolbar.classList = 'mpl-toolbar';\n",
       "    this.root.appendChild(toolbar);\n",
       "\n",
       "    function on_click_closure(name) {\n",
       "        return function (_event) {\n",
       "            return fig.toolbar_button_onclick(name);\n",
       "        };\n",
       "    }\n",
       "\n",
       "    function on_mouseover_closure(tooltip) {\n",
       "        return function (event) {\n",
       "            if (!event.currentTarget.disabled) {\n",
       "                return fig.toolbar_button_onmouseover(tooltip);\n",
       "            }\n",
       "        };\n",
       "    }\n",
       "\n",
       "    fig.buttons = {};\n",
       "    var buttonGroup = document.createElement('div');\n",
       "    buttonGroup.classList = 'mpl-button-group';\n",
       "    for (var toolbar_ind in mpl.toolbar_items) {\n",
       "        var name = mpl.toolbar_items[toolbar_ind][0];\n",
       "        var tooltip = mpl.toolbar_items[toolbar_ind][1];\n",
       "        var image = mpl.toolbar_items[toolbar_ind][2];\n",
       "        var method_name = mpl.toolbar_items[toolbar_ind][3];\n",
       "\n",
       "        if (!name) {\n",
       "            /* Instead of a spacer, we start a new button group. */\n",
       "            if (buttonGroup.hasChildNodes()) {\n",
       "                toolbar.appendChild(buttonGroup);\n",
       "            }\n",
       "            buttonGroup = document.createElement('div');\n",
       "            buttonGroup.classList = 'mpl-button-group';\n",
       "            continue;\n",
       "        }\n",
       "\n",
       "        var button = (fig.buttons[name] = document.createElement('button'));\n",
       "        button.classList = 'mpl-widget';\n",
       "        button.setAttribute('role', 'button');\n",
       "        button.setAttribute('aria-disabled', 'false');\n",
       "        button.addEventListener('click', on_click_closure(method_name));\n",
       "        button.addEventListener('mouseover', on_mouseover_closure(tooltip));\n",
       "\n",
       "        var icon_img = document.createElement('img');\n",
       "        icon_img.src = '_images/' + image + '.png';\n",
       "        icon_img.srcset = '_images/' + image + '_large.png 2x';\n",
       "        icon_img.alt = tooltip;\n",
       "        button.appendChild(icon_img);\n",
       "\n",
       "        buttonGroup.appendChild(button);\n",
       "    }\n",
       "\n",
       "    if (buttonGroup.hasChildNodes()) {\n",
       "        toolbar.appendChild(buttonGroup);\n",
       "    }\n",
       "\n",
       "    var fmt_picker = document.createElement('select');\n",
       "    fmt_picker.classList = 'mpl-widget';\n",
       "    toolbar.appendChild(fmt_picker);\n",
       "    this.format_dropdown = fmt_picker;\n",
       "\n",
       "    for (var ind in mpl.extensions) {\n",
       "        var fmt = mpl.extensions[ind];\n",
       "        var option = document.createElement('option');\n",
       "        option.selected = fmt === mpl.default_extension;\n",
       "        option.innerHTML = fmt;\n",
       "        fmt_picker.appendChild(option);\n",
       "    }\n",
       "\n",
       "    var status_bar = document.createElement('span');\n",
       "    status_bar.classList = 'mpl-message';\n",
       "    toolbar.appendChild(status_bar);\n",
       "    this.message = status_bar;\n",
       "};\n",
       "\n",
       "mpl.figure.prototype.request_resize = function (x_pixels, y_pixels) {\n",
       "    // Request matplotlib to resize the figure. Matplotlib will then trigger a resize in the client,\n",
       "    // which will in turn request a refresh of the image.\n",
       "    this.send_message('resize', { width: x_pixels, height: y_pixels });\n",
       "};\n",
       "\n",
       "mpl.figure.prototype.send_message = function (type, properties) {\n",
       "    properties['type'] = type;\n",
       "    properties['figure_id'] = this.id;\n",
       "    this.ws.send(JSON.stringify(properties));\n",
       "};\n",
       "\n",
       "mpl.figure.prototype.send_draw_message = function () {\n",
       "    if (!this.waiting) {\n",
       "        this.waiting = true;\n",
       "        this.ws.send(JSON.stringify({ type: 'draw', figure_id: this.id }));\n",
       "    }\n",
       "};\n",
       "\n",
       "mpl.figure.prototype.handle_save = function (fig, _msg) {\n",
       "    var format_dropdown = fig.format_dropdown;\n",
       "    var format = format_dropdown.options[format_dropdown.selectedIndex].value;\n",
       "    fig.ondownload(fig, format);\n",
       "};\n",
       "\n",
       "mpl.figure.prototype.handle_resize = function (fig, msg) {\n",
       "    var size = msg['size'];\n",
       "    if (size[0] !== fig.canvas.width || size[1] !== fig.canvas.height) {\n",
       "        fig._resize_canvas(size[0], size[1], msg['forward']);\n",
       "        fig.send_message('refresh', {});\n",
       "    }\n",
       "};\n",
       "\n",
       "mpl.figure.prototype.handle_rubberband = function (fig, msg) {\n",
       "    var x0 = msg['x0'] / fig.ratio;\n",
       "    var y0 = (fig.canvas.height - msg['y0']) / fig.ratio;\n",
       "    var x1 = msg['x1'] / fig.ratio;\n",
       "    var y1 = (fig.canvas.height - msg['y1']) / fig.ratio;\n",
       "    x0 = Math.floor(x0) + 0.5;\n",
       "    y0 = Math.floor(y0) + 0.5;\n",
       "    x1 = Math.floor(x1) + 0.5;\n",
       "    y1 = Math.floor(y1) + 0.5;\n",
       "    var min_x = Math.min(x0, x1);\n",
       "    var min_y = Math.min(y0, y1);\n",
       "    var width = Math.abs(x1 - x0);\n",
       "    var height = Math.abs(y1 - y0);\n",
       "\n",
       "    fig.rubberband_context.clearRect(\n",
       "        0,\n",
       "        0,\n",
       "        fig.canvas.width / fig.ratio,\n",
       "        fig.canvas.height / fig.ratio\n",
       "    );\n",
       "\n",
       "    fig.rubberband_context.strokeRect(min_x, min_y, width, height);\n",
       "};\n",
       "\n",
       "mpl.figure.prototype.handle_figure_label = function (fig, msg) {\n",
       "    // Updates the figure title.\n",
       "    fig.header.textContent = msg['label'];\n",
       "};\n",
       "\n",
       "mpl.figure.prototype.handle_cursor = function (fig, msg) {\n",
       "    var cursor = msg['cursor'];\n",
       "    switch (cursor) {\n",
       "        case 0:\n",
       "            cursor = 'pointer';\n",
       "            break;\n",
       "        case 1:\n",
       "            cursor = 'default';\n",
       "            break;\n",
       "        case 2:\n",
       "            cursor = 'crosshair';\n",
       "            break;\n",
       "        case 3:\n",
       "            cursor = 'move';\n",
       "            break;\n",
       "    }\n",
       "    fig.rubberband_canvas.style.cursor = cursor;\n",
       "};\n",
       "\n",
       "mpl.figure.prototype.handle_message = function (fig, msg) {\n",
       "    fig.message.textContent = msg['message'];\n",
       "};\n",
       "\n",
       "mpl.figure.prototype.handle_draw = function (fig, _msg) {\n",
       "    // Request the server to send over a new figure.\n",
       "    fig.send_draw_message();\n",
       "};\n",
       "\n",
       "mpl.figure.prototype.handle_image_mode = function (fig, msg) {\n",
       "    fig.image_mode = msg['mode'];\n",
       "};\n",
       "\n",
       "mpl.figure.prototype.handle_history_buttons = function (fig, msg) {\n",
       "    for (var key in msg) {\n",
       "        if (!(key in fig.buttons)) {\n",
       "            continue;\n",
       "        }\n",
       "        fig.buttons[key].disabled = !msg[key];\n",
       "        fig.buttons[key].setAttribute('aria-disabled', !msg[key]);\n",
       "    }\n",
       "};\n",
       "\n",
       "mpl.figure.prototype.handle_navigate_mode = function (fig, msg) {\n",
       "    if (msg['mode'] === 'PAN') {\n",
       "        fig.buttons['Pan'].classList.add('active');\n",
       "        fig.buttons['Zoom'].classList.remove('active');\n",
       "    } else if (msg['mode'] === 'ZOOM') {\n",
       "        fig.buttons['Pan'].classList.remove('active');\n",
       "        fig.buttons['Zoom'].classList.add('active');\n",
       "    } else {\n",
       "        fig.buttons['Pan'].classList.remove('active');\n",
       "        fig.buttons['Zoom'].classList.remove('active');\n",
       "    }\n",
       "};\n",
       "\n",
       "mpl.figure.prototype.updated_canvas_event = function () {\n",
       "    // Called whenever the canvas gets updated.\n",
       "    this.send_message('ack', {});\n",
       "};\n",
       "\n",
       "// A function to construct a web socket function for onmessage handling.\n",
       "// Called in the figure constructor.\n",
       "mpl.figure.prototype._make_on_message_function = function (fig) {\n",
       "    return function socket_on_message(evt) {\n",
       "        if (evt.data instanceof Blob) {\n",
       "            var img = evt.data;\n",
       "            if (img.type !== 'image/png') {\n",
       "                /* FIXME: We get \"Resource interpreted as Image but\n",
       "                 * transferred with MIME type text/plain:\" errors on\n",
       "                 * Chrome.  But how to set the MIME type?  It doesn't seem\n",
       "                 * to be part of the websocket stream */\n",
       "                img.type = 'image/png';\n",
       "            }\n",
       "\n",
       "            /* Free the memory for the previous frames */\n",
       "            if (fig.imageObj.src) {\n",
       "                (window.URL || window.webkitURL).revokeObjectURL(\n",
       "                    fig.imageObj.src\n",
       "                );\n",
       "            }\n",
       "\n",
       "            fig.imageObj.src = (window.URL || window.webkitURL).createObjectURL(\n",
       "                img\n",
       "            );\n",
       "            fig.updated_canvas_event();\n",
       "            fig.waiting = false;\n",
       "            return;\n",
       "        } else if (\n",
       "            typeof evt.data === 'string' &&\n",
       "            evt.data.slice(0, 21) === 'data:image/png;base64'\n",
       "        ) {\n",
       "            fig.imageObj.src = evt.data;\n",
       "            fig.updated_canvas_event();\n",
       "            fig.waiting = false;\n",
       "            return;\n",
       "        }\n",
       "\n",
       "        var msg = JSON.parse(evt.data);\n",
       "        var msg_type = msg['type'];\n",
       "\n",
       "        // Call the  \"handle_{type}\" callback, which takes\n",
       "        // the figure and JSON message as its only arguments.\n",
       "        try {\n",
       "            var callback = fig['handle_' + msg_type];\n",
       "        } catch (e) {\n",
       "            console.log(\n",
       "                \"No handler for the '\" + msg_type + \"' message type: \",\n",
       "                msg\n",
       "            );\n",
       "            return;\n",
       "        }\n",
       "\n",
       "        if (callback) {\n",
       "            try {\n",
       "                // console.log(\"Handling '\" + msg_type + \"' message: \", msg);\n",
       "                callback(fig, msg);\n",
       "            } catch (e) {\n",
       "                console.log(\n",
       "                    \"Exception inside the 'handler_\" + msg_type + \"' callback:\",\n",
       "                    e,\n",
       "                    e.stack,\n",
       "                    msg\n",
       "                );\n",
       "            }\n",
       "        }\n",
       "    };\n",
       "};\n",
       "\n",
       "// from http://stackoverflow.com/questions/1114465/getting-mouse-location-in-canvas\n",
       "mpl.findpos = function (e) {\n",
       "    //this section is from http://www.quirksmode.org/js/events_properties.html\n",
       "    var targ;\n",
       "    if (!e) {\n",
       "        e = window.event;\n",
       "    }\n",
       "    if (e.target) {\n",
       "        targ = e.target;\n",
       "    } else if (e.srcElement) {\n",
       "        targ = e.srcElement;\n",
       "    }\n",
       "    if (targ.nodeType === 3) {\n",
       "        // defeat Safari bug\n",
       "        targ = targ.parentNode;\n",
       "    }\n",
       "\n",
       "    // pageX,Y are the mouse positions relative to the document\n",
       "    var boundingRect = targ.getBoundingClientRect();\n",
       "    var x = e.pageX - (boundingRect.left + document.body.scrollLeft);\n",
       "    var y = e.pageY - (boundingRect.top + document.body.scrollTop);\n",
       "\n",
       "    return { x: x, y: y };\n",
       "};\n",
       "\n",
       "/*\n",
       " * return a copy of an object with only non-object keys\n",
       " * we need this to avoid circular references\n",
       " * http://stackoverflow.com/a/24161582/3208463\n",
       " */\n",
       "function simpleKeys(original) {\n",
       "    return Object.keys(original).reduce(function (obj, key) {\n",
       "        if (typeof original[key] !== 'object') {\n",
       "            obj[key] = original[key];\n",
       "        }\n",
       "        return obj;\n",
       "    }, {});\n",
       "}\n",
       "\n",
       "mpl.figure.prototype.mouse_event = function (event, name) {\n",
       "    var canvas_pos = mpl.findpos(event);\n",
       "\n",
       "    if (name === 'button_press') {\n",
       "        this.canvas.focus();\n",
       "        this.canvas_div.focus();\n",
       "    }\n",
       "\n",
       "    var x = canvas_pos.x * this.ratio;\n",
       "    var y = canvas_pos.y * this.ratio;\n",
       "\n",
       "    this.send_message(name, {\n",
       "        x: x,\n",
       "        y: y,\n",
       "        button: event.button,\n",
       "        step: event.step,\n",
       "        guiEvent: simpleKeys(event),\n",
       "    });\n",
       "\n",
       "    /* This prevents the web browser from automatically changing to\n",
       "     * the text insertion cursor when the button is pressed.  We want\n",
       "     * to control all of the cursor setting manually through the\n",
       "     * 'cursor' event from matplotlib */\n",
       "    event.preventDefault();\n",
       "    return false;\n",
       "};\n",
       "\n",
       "mpl.figure.prototype._key_event_extra = function (_event, _name) {\n",
       "    // Handle any extra behaviour associated with a key event\n",
       "};\n",
       "\n",
       "mpl.figure.prototype.key_event = function (event, name) {\n",
       "    // Prevent repeat events\n",
       "    if (name === 'key_press') {\n",
       "        if (event.key === this._key) {\n",
       "            return;\n",
       "        } else {\n",
       "            this._key = event.key;\n",
       "        }\n",
       "    }\n",
       "    if (name === 'key_release') {\n",
       "        this._key = null;\n",
       "    }\n",
       "\n",
       "    var value = '';\n",
       "    if (event.ctrlKey && event.key !== 'Control') {\n",
       "        value += 'ctrl+';\n",
       "    }\n",
       "    else if (event.altKey && event.key !== 'Alt') {\n",
       "        value += 'alt+';\n",
       "    }\n",
       "    else if (event.shiftKey && event.key !== 'Shift') {\n",
       "        value += 'shift+';\n",
       "    }\n",
       "\n",
       "    value += 'k' + event.key;\n",
       "\n",
       "    this._key_event_extra(event, name);\n",
       "\n",
       "    this.send_message(name, { key: value, guiEvent: simpleKeys(event) });\n",
       "    return false;\n",
       "};\n",
       "\n",
       "mpl.figure.prototype.toolbar_button_onclick = function (name) {\n",
       "    if (name === 'download') {\n",
       "        this.handle_save(this, null);\n",
       "    } else {\n",
       "        this.send_message('toolbar_button', { name: name });\n",
       "    }\n",
       "};\n",
       "\n",
       "mpl.figure.prototype.toolbar_button_onmouseover = function (tooltip) {\n",
       "    this.message.textContent = tooltip;\n",
       "};\n",
       "\n",
       "///////////////// REMAINING CONTENT GENERATED BY embed_js.py /////////////////\n",
       "// prettier-ignore\n",
       "var _JSXTOOLS_RESIZE_OBSERVER=function(A){var t,i=new WeakMap,n=new WeakMap,a=new WeakMap,r=new WeakMap,o=new Set;function s(e){if(!(this instanceof s))throw new TypeError(\"Constructor requires 'new' operator\");i.set(this,e)}function h(){throw new TypeError(\"Function is not a constructor\")}function c(e,t,i,n){e=0 in arguments?Number(arguments[0]):0,t=1 in arguments?Number(arguments[1]):0,i=2 in arguments?Number(arguments[2]):0,n=3 in arguments?Number(arguments[3]):0,this.right=(this.x=this.left=e)+(this.width=i),this.bottom=(this.y=this.top=t)+(this.height=n),Object.freeze(this)}function d(){t=requestAnimationFrame(d);var s=new WeakMap,p=new Set;o.forEach((function(t){r.get(t).forEach((function(i){var r=t instanceof window.SVGElement,o=a.get(t),d=r?0:parseFloat(o.paddingTop),f=r?0:parseFloat(o.paddingRight),l=r?0:parseFloat(o.paddingBottom),u=r?0:parseFloat(o.paddingLeft),g=r?0:parseFloat(o.borderTopWidth),m=r?0:parseFloat(o.borderRightWidth),w=r?0:parseFloat(o.borderBottomWidth),b=u+f,F=d+l,v=(r?0:parseFloat(o.borderLeftWidth))+m,W=g+w,y=r?0:t.offsetHeight-W-t.clientHeight,E=r?0:t.offsetWidth-v-t.clientWidth,R=b+v,z=F+W,M=r?t.width:parseFloat(o.width)-R-E,O=r?t.height:parseFloat(o.height)-z-y;if(n.has(t)){var k=n.get(t);if(k[0]===M&&k[1]===O)return}n.set(t,[M,O]);var S=Object.create(h.prototype);S.target=t,S.contentRect=new c(u,d,M,O),s.has(i)||(s.set(i,[]),p.add(i)),s.get(i).push(S)}))})),p.forEach((function(e){i.get(e).call(e,s.get(e),e)}))}return s.prototype.observe=function(i){if(i instanceof window.Element){r.has(i)||(r.set(i,new Set),o.add(i),a.set(i,window.getComputedStyle(i)));var n=r.get(i);n.has(this)||n.add(this),cancelAnimationFrame(t),t=requestAnimationFrame(d)}},s.prototype.unobserve=function(i){if(i instanceof window.Element&&r.has(i)){var n=r.get(i);n.has(this)&&(n.delete(this),n.size||(r.delete(i),o.delete(i))),n.size||r.delete(i),o.size||cancelAnimationFrame(t)}},A.DOMRectReadOnly=c,A.ResizeObserver=s,A.ResizeObserverEntry=h,A}; // eslint-disable-line\n",
       "mpl.toolbar_items = [[\"Home\", \"Reset original view\", \"fa fa-home icon-home\", \"home\"], [\"Back\", \"Back to previous view\", \"fa fa-arrow-left icon-arrow-left\", \"back\"], [\"Forward\", \"Forward to next view\", \"fa fa-arrow-right icon-arrow-right\", \"forward\"], [\"\", \"\", \"\", \"\"], [\"Pan\", \"Left button pans, Right button zooms\\nx/y fixes axis, CTRL fixes aspect\", \"fa fa-arrows icon-move\", \"pan\"], [\"Zoom\", \"Zoom to rectangle\\nx/y fixes axis, CTRL fixes aspect\", \"fa fa-square-o icon-check-empty\", \"zoom\"], [\"\", \"\", \"\", \"\"], [\"Download\", \"Download plot\", \"fa fa-floppy-o icon-save\", \"download\"]];\n",
       "\n",
       "mpl.extensions = [\"eps\", \"jpeg\", \"pgf\", \"pdf\", \"png\", \"ps\", \"raw\", \"svg\", \"tif\"];\n",
       "\n",
       "mpl.default_extension = \"png\";/* global mpl */\n",
       "\n",
       "var comm_websocket_adapter = function (comm) {\n",
       "    // Create a \"websocket\"-like object which calls the given IPython comm\n",
       "    // object with the appropriate methods. Currently this is a non binary\n",
       "    // socket, so there is still some room for performance tuning.\n",
       "    var ws = {};\n",
       "\n",
       "    ws.binaryType = comm.kernel.ws.binaryType;\n",
       "    ws.readyState = comm.kernel.ws.readyState;\n",
       "    function updateReadyState(_event) {\n",
       "        if (comm.kernel.ws) {\n",
       "            ws.readyState = comm.kernel.ws.readyState;\n",
       "        } else {\n",
       "            ws.readyState = 3; // Closed state.\n",
       "        }\n",
       "    }\n",
       "    comm.kernel.ws.addEventListener('open', updateReadyState);\n",
       "    comm.kernel.ws.addEventListener('close', updateReadyState);\n",
       "    comm.kernel.ws.addEventListener('error', updateReadyState);\n",
       "\n",
       "    ws.close = function () {\n",
       "        comm.close();\n",
       "    };\n",
       "    ws.send = function (m) {\n",
       "        //console.log('sending', m);\n",
       "        comm.send(m);\n",
       "    };\n",
       "    // Register the callback with on_msg.\n",
       "    comm.on_msg(function (msg) {\n",
       "        //console.log('receiving', msg['content']['data'], msg);\n",
       "        var data = msg['content']['data'];\n",
       "        if (data['blob'] !== undefined) {\n",
       "            data = {\n",
       "                data: new Blob(msg['buffers'], { type: data['blob'] }),\n",
       "            };\n",
       "        }\n",
       "        // Pass the mpl event to the overridden (by mpl) onmessage function.\n",
       "        ws.onmessage(data);\n",
       "    });\n",
       "    return ws;\n",
       "};\n",
       "\n",
       "mpl.mpl_figure_comm = function (comm, msg) {\n",
       "    // This is the function which gets called when the mpl process\n",
       "    // starts-up an IPython Comm through the \"matplotlib\" channel.\n",
       "\n",
       "    var id = msg.content.data.id;\n",
       "    // Get hold of the div created by the display call when the Comm\n",
       "    // socket was opened in Python.\n",
       "    var element = document.getElementById(id);\n",
       "    var ws_proxy = comm_websocket_adapter(comm);\n",
       "\n",
       "    function ondownload(figure, _format) {\n",
       "        window.open(figure.canvas.toDataURL());\n",
       "    }\n",
       "\n",
       "    var fig = new mpl.figure(id, ws_proxy, ondownload, element);\n",
       "\n",
       "    // Call onopen now - mpl needs it, as it is assuming we've passed it a real\n",
       "    // web socket which is closed, not our websocket->open comm proxy.\n",
       "    ws_proxy.onopen();\n",
       "\n",
       "    fig.parent_element = element;\n",
       "    fig.cell_info = mpl.find_output_cell(\"<div id='\" + id + \"'></div>\");\n",
       "    if (!fig.cell_info) {\n",
       "        console.error('Failed to find cell for figure', id, fig);\n",
       "        return;\n",
       "    }\n",
       "    fig.cell_info[0].output_area.element.on(\n",
       "        'cleared',\n",
       "        { fig: fig },\n",
       "        fig._remove_fig_handler\n",
       "    );\n",
       "};\n",
       "\n",
       "mpl.figure.prototype.handle_close = function (fig, msg) {\n",
       "    var width = fig.canvas.width / fig.ratio;\n",
       "    fig.cell_info[0].output_area.element.off(\n",
       "        'cleared',\n",
       "        fig._remove_fig_handler\n",
       "    );\n",
       "    fig.resizeObserverInstance.unobserve(fig.canvas_div);\n",
       "\n",
       "    // Update the output cell to use the data from the current canvas.\n",
       "    fig.push_to_output();\n",
       "    var dataURL = fig.canvas.toDataURL();\n",
       "    // Re-enable the keyboard manager in IPython - without this line, in FF,\n",
       "    // the notebook keyboard shortcuts fail.\n",
       "    IPython.keyboard_manager.enable();\n",
       "    fig.parent_element.innerHTML =\n",
       "        '<img src=\"' + dataURL + '\" width=\"' + width + '\">';\n",
       "    fig.close_ws(fig, msg);\n",
       "};\n",
       "\n",
       "mpl.figure.prototype.close_ws = function (fig, msg) {\n",
       "    fig.send_message('closing', msg);\n",
       "    // fig.ws.close()\n",
       "};\n",
       "\n",
       "mpl.figure.prototype.push_to_output = function (_remove_interactive) {\n",
       "    // Turn the data on the canvas into data in the output cell.\n",
       "    var width = this.canvas.width / this.ratio;\n",
       "    var dataURL = this.canvas.toDataURL();\n",
       "    this.cell_info[1]['text/html'] =\n",
       "        '<img src=\"' + dataURL + '\" width=\"' + width + '\">';\n",
       "};\n",
       "\n",
       "mpl.figure.prototype.updated_canvas_event = function () {\n",
       "    // Tell IPython that the notebook contents must change.\n",
       "    IPython.notebook.set_dirty(true);\n",
       "    this.send_message('ack', {});\n",
       "    var fig = this;\n",
       "    // Wait a second, then push the new image to the DOM so\n",
       "    // that it is saved nicely (might be nice to debounce this).\n",
       "    setTimeout(function () {\n",
       "        fig.push_to_output();\n",
       "    }, 1000);\n",
       "};\n",
       "\n",
       "mpl.figure.prototype._init_toolbar = function () {\n",
       "    var fig = this;\n",
       "\n",
       "    var toolbar = document.createElement('div');\n",
       "    toolbar.classList = 'btn-toolbar';\n",
       "    this.root.appendChild(toolbar);\n",
       "\n",
       "    function on_click_closure(name) {\n",
       "        return function (_event) {\n",
       "            return fig.toolbar_button_onclick(name);\n",
       "        };\n",
       "    }\n",
       "\n",
       "    function on_mouseover_closure(tooltip) {\n",
       "        return function (event) {\n",
       "            if (!event.currentTarget.disabled) {\n",
       "                return fig.toolbar_button_onmouseover(tooltip);\n",
       "            }\n",
       "        };\n",
       "    }\n",
       "\n",
       "    fig.buttons = {};\n",
       "    var buttonGroup = document.createElement('div');\n",
       "    buttonGroup.classList = 'btn-group';\n",
       "    var button;\n",
       "    for (var toolbar_ind in mpl.toolbar_items) {\n",
       "        var name = mpl.toolbar_items[toolbar_ind][0];\n",
       "        var tooltip = mpl.toolbar_items[toolbar_ind][1];\n",
       "        var image = mpl.toolbar_items[toolbar_ind][2];\n",
       "        var method_name = mpl.toolbar_items[toolbar_ind][3];\n",
       "\n",
       "        if (!name) {\n",
       "            /* Instead of a spacer, we start a new button group. */\n",
       "            if (buttonGroup.hasChildNodes()) {\n",
       "                toolbar.appendChild(buttonGroup);\n",
       "            }\n",
       "            buttonGroup = document.createElement('div');\n",
       "            buttonGroup.classList = 'btn-group';\n",
       "            continue;\n",
       "        }\n",
       "\n",
       "        button = fig.buttons[name] = document.createElement('button');\n",
       "        button.classList = 'btn btn-default';\n",
       "        button.href = '#';\n",
       "        button.title = name;\n",
       "        button.innerHTML = '<i class=\"fa ' + image + ' fa-lg\"></i>';\n",
       "        button.addEventListener('click', on_click_closure(method_name));\n",
       "        button.addEventListener('mouseover', on_mouseover_closure(tooltip));\n",
       "        buttonGroup.appendChild(button);\n",
       "    }\n",
       "\n",
       "    if (buttonGroup.hasChildNodes()) {\n",
       "        toolbar.appendChild(buttonGroup);\n",
       "    }\n",
       "\n",
       "    // Add the status bar.\n",
       "    var status_bar = document.createElement('span');\n",
       "    status_bar.classList = 'mpl-message pull-right';\n",
       "    toolbar.appendChild(status_bar);\n",
       "    this.message = status_bar;\n",
       "\n",
       "    // Add the close button to the window.\n",
       "    var buttongrp = document.createElement('div');\n",
       "    buttongrp.classList = 'btn-group inline pull-right';\n",
       "    button = document.createElement('button');\n",
       "    button.classList = 'btn btn-mini btn-primary';\n",
       "    button.href = '#';\n",
       "    button.title = 'Stop Interaction';\n",
       "    button.innerHTML = '<i class=\"fa fa-power-off icon-remove icon-large\"></i>';\n",
       "    button.addEventListener('click', function (_evt) {\n",
       "        fig.handle_close(fig, {});\n",
       "    });\n",
       "    button.addEventListener(\n",
       "        'mouseover',\n",
       "        on_mouseover_closure('Stop Interaction')\n",
       "    );\n",
       "    buttongrp.appendChild(button);\n",
       "    var titlebar = this.root.querySelector('.ui-dialog-titlebar');\n",
       "    titlebar.insertBefore(buttongrp, titlebar.firstChild);\n",
       "};\n",
       "\n",
       "mpl.figure.prototype._remove_fig_handler = function (event) {\n",
       "    var fig = event.data.fig;\n",
       "    if (event.target !== this) {\n",
       "        // Ignore bubbled events from children.\n",
       "        return;\n",
       "    }\n",
       "    fig.close_ws(fig, {});\n",
       "};\n",
       "\n",
       "mpl.figure.prototype._root_extra_style = function (el) {\n",
       "    el.style.boxSizing = 'content-box'; // override notebook setting of border-box.\n",
       "};\n",
       "\n",
       "mpl.figure.prototype._canvas_extra_style = function (el) {\n",
       "    // this is important to make the div 'focusable\n",
       "    el.setAttribute('tabindex', 0);\n",
       "    // reach out to IPython and tell the keyboard manager to turn it's self\n",
       "    // off when our div gets focus\n",
       "\n",
       "    // location in version 3\n",
       "    if (IPython.notebook.keyboard_manager) {\n",
       "        IPython.notebook.keyboard_manager.register_events(el);\n",
       "    } else {\n",
       "        // location in version 2\n",
       "        IPython.keyboard_manager.register_events(el);\n",
       "    }\n",
       "};\n",
       "\n",
       "mpl.figure.prototype._key_event_extra = function (event, _name) {\n",
       "    var manager = IPython.notebook.keyboard_manager;\n",
       "    if (!manager) {\n",
       "        manager = IPython.keyboard_manager;\n",
       "    }\n",
       "\n",
       "    // Check for shift+enter\n",
       "    if (event.shiftKey && event.which === 13) {\n",
       "        this.canvas_div.blur();\n",
       "        // select the cell after this one\n",
       "        var index = IPython.notebook.find_cell_index(this.cell_info[0]);\n",
       "        IPython.notebook.select(index + 1);\n",
       "    }\n",
       "};\n",
       "\n",
       "mpl.figure.prototype.handle_save = function (fig, _msg) {\n",
       "    fig.ondownload(fig, null);\n",
       "};\n",
       "\n",
       "mpl.find_output_cell = function (html_output) {\n",
       "    // Return the cell and output element which can be found *uniquely* in the notebook.\n",
       "    // Note - this is a bit hacky, but it is done because the \"notebook_saving.Notebook\"\n",
       "    // IPython event is triggered only after the cells have been serialised, which for\n",
       "    // our purposes (turning an active figure into a static one), is too late.\n",
       "    var cells = IPython.notebook.get_cells();\n",
       "    var ncells = cells.length;\n",
       "    for (var i = 0; i < ncells; i++) {\n",
       "        var cell = cells[i];\n",
       "        if (cell.cell_type === 'code') {\n",
       "            for (var j = 0; j < cell.output_area.outputs.length; j++) {\n",
       "                var data = cell.output_area.outputs[j];\n",
       "                if (data.data) {\n",
       "                    // IPython >= 3 moved mimebundle to data attribute of output\n",
       "                    data = data.data;\n",
       "                }\n",
       "                if (data['text/html'] === html_output) {\n",
       "                    return [cell, data, j];\n",
       "                }\n",
       "            }\n",
       "        }\n",
       "    }\n",
       "};\n",
       "\n",
       "// Register the function which deals with the matplotlib target/channel.\n",
       "// The kernel may be null if the page has been refreshed.\n",
       "if (IPython.notebook.kernel !== null) {\n",
       "    IPython.notebook.kernel.comm_manager.register_target(\n",
       "        'matplotlib',\n",
       "        mpl.mpl_figure_comm\n",
       "    );\n",
       "}\n"
      ],
      "text/plain": [
       "<IPython.core.display.Javascript object>"
      ]
     },
     "metadata": {},
     "output_type": "display_data"
    },
    {
     "data": {
      "text/html": [
       "<div id='c386b882-14bc-49f5-a601-418d222518dc'></div>"
      ],
      "text/plain": [
       "<IPython.core.display.HTML object>"
      ]
     },
     "metadata": {},
     "output_type": "display_data"
    },
    {
     "data": {
      "application/vnd.jupyter.widget-view+json": {
       "model_id": "33a669d8511d434fa4ae6669fe19fe50",
       "version_major": 2,
       "version_minor": 0
      },
      "text/plain": [
       "interactive(children=(FloatSlider(value=0.0, description='v', max=3.0, min=-3.0, step=0.2), Output()), _dom_cl…"
      ]
     },
     "metadata": {},
     "output_type": "display_data"
    },
    {
     "data": {
      "text/plain": [
       "<function __main__.<lambda>(v)>"
      ]
     },
     "execution_count": 18,
     "metadata": {},
     "output_type": "execute_result"
    }
   ],
   "source": [
    "plt.subplots(1,2)\n",
    "interact(lambda v: soft_thres_visu(v), v=widgets.FloatSlider(min=-3.0,max=3.0, step=0.2, value=0))"
   ]
  },
  {
   "cell_type": "markdown",
   "id": "012aaf54",
   "metadata": {},
   "source": [
    "##### Efficient implementation of $z$-update for isotropic TV regularizer"
   ]
  },
  {
   "cell_type": "markdown",
   "id": "fe42ae39",
   "metadata": {},
   "source": [
    "For the isotropic case, the $l_2$-norm of the finite differences approximation of the horizontal and vertical image gradients is used as the regularizer instead of the $l_1$-norm, i.e.,\n",
    "\\begin{align} \n",
    "   \\lambda \\left\\| \\mathbf{z} \\right\\|_{2,1}  = \\lambda \\sum\\limits^N_{i=1} \\left\\| \\left[ \\begin{pmatrix} \n",
    "      (\\mathbf{D}_x \\mathbf{x})_i \\\\ (\\mathbf{D}_y \\mathbf{x})_i\n",
    "   \\end{pmatrix} \\right] \\right\\|_2 = \\lambda \\sum\\limits^N_{i=1} \\sqrt{(\\mathbf{D}_x \\mathbf{x})^2_i + (\\mathbf{D}_y \\mathbf{x})^2_i } \\,.\n",
    "\\end{align}\n",
    "This expression is also called the *group lasso*."
   ]
  },
  {
   "cell_type": "markdown",
   "id": "7c18d41a",
   "metadata": {},
   "source": [
    "Accordingly, the whole deconvolution problem for the isotropic TV regularizer is\n",
    "\\begin{align} \n",
    "   &\\argmin{\\mathbf{x}} \\underbrace{\\frac{1}{2} \\left\\| \\mathbf{Cx-b} \\right\\|^2_2}_{=:f(\\mathbf{x})} + \\underbrace{\\lambda \\sum\\limits^N_{i=1} \\left\\| \\left[ \\begin{pmatrix} \n",
    "      z_i \\\\ z_{i+N}\n",
    "   \\end{pmatrix} \\right]  \\right\\|_2 }_{=:g(\\mathbf{z})} \\\\\n",
    "   &\\text{subject to } \\mathbf{Dx-z=\\mathbf{0}}\\,.\n",
    "\\end{align}"
   ]
  },
  {
   "cell_type": "markdown",
   "id": "fd6af4fc",
   "metadata": {
    "tags": [
     "book_only"
    ]
   },
   "source": [
    "Again, the vector $\\mathbf{z} \\in \\mathbb{R}^{2\\times N}$ so that its first, respectively, second half can hold the image gradients in $x$-direction, respectively, in $y$-direction, i.e., $\\mathbf{z} = \\left[ \\mathbf{D}_x \\mathbf{x}\\,\\, \\mathbf{D}_y \\mathbf{x}   \\right]\\transp $."
   ]
  },
  {
   "cell_type": "markdown",
   "id": "03fe7b10",
   "metadata": {},
   "source": [
    "As only the regularization term $g(\\mathbf{z})$ has changed, we only have to derive a corresponding $\\mathbf{z}$-update rule, i.e., we have to find a solution for the proximal operator\n",
    "\\begin{align} \n",
    "   \\mathbf{z} \\leftarrow \\mathbf{prox}_{\\left\\| \\cdot \\right\\|_{2,1},\\rho } (\\mathbf{v}) = \\argmin{\\mathbf{z}}\\,\\, \\lambda \\sum\\limits^N_{i=1} \\left\\| \\left[ \\begin{pmatrix} \n",
    "    z_i \\\\ z_{i+N}\n",
    " \\end{pmatrix} \\right]  \\right\\|_2  + \\frac{\\rho}{2} \\left\\| \\mathbf{v-z} \\right\\| ^2_2, \\quad \\mathbf{v=Dx} \\,.\n",
    "\\end{align}"
   ]
  },
  {
   "cell_type": "markdown",
   "id": "b4c9131b",
   "metadata": {
    "tags": [
     "book_only"
    ]
   },
   "source": [
    "Therefore, we again extract the term we have to minimize:\n",
    "\\begin{align}\\label{eq:hqs:iso:1}\n",
    "   h(\\mathbf{z}) := \\lambda \\left\\| \\mathbf{z} \\right\\|_2 + \\frac{\\rho}{2} \\left\\| \\mathbf{v-z} \\right\\| ^2_2 \\,.\n",
    "\\end{align}\n",
    "\n",
    "We follow the approach of calculating the gradient of $h(\\mathbf{z})$, equating it to $\\mathbf{0}$ and solving for $\\mathbf{z}$.\n",
    "\n",
    "The gradient of the second term with respect to $\\mathbf{z}$ can be calculated straight forward:\n",
    "\\begin{align} \n",
    "   \\nabla_\\mathbf{z} \\frac{\\rho}{2} \\left\\| \\mathbf{v-z} \\right\\| ^2_2 = \\rho (-\\mathbf{v} + \\mathbf{z}) \\,.\n",
    "\\end{align}\n",
    "\n",
    "The gradient of the Euclidean norm $\\left\\| \\mathbf{x} \\right\\| _2$ is\n",
    "\\begin{align} \n",
    "   \\nabla_\\mathbf{x} \\left\\| \\mathbf{x} \\right\\|_2 = \\frac{\\mathbf{x}}{\\left\\| \\mathbf{x} \\right\\|_2 }, \\quad \\text{for } \\mathbf{x} \\neq \\mathbf{0} \\,.\n",
    "\\end{align}\n",
    "Hence, the gradient of the first term of \\eqref{eq:hqs:iso:1} is \n",
    "\\begin{align} \n",
    "   \\nabla_\\mathbf{z} \\lambda \\left\\| \\mathbf{z} \\right\\| _2 = \\lambda \\frac{\\mathbf{z}}{\\left\\| \\mathbf{z} \\right\\|_2 } \\quad \\text{for } \\mathbf{z} \\neq \\mathbf{0} \\,.\n",
    "\\end{align}\n",
    "\n",
    "So for $\\mathbf{z} \\neq \\mathbf{0}$, we will find a $\\hat{\\mathbf{z}}$ with $  \\nabla_\\mathbf{z} \\lbrace h(\\mathbf{z}) \\rbrace (\\hat{\\mathbf{z}}) = \\mathbf{0}$:\n",
    "\\begin{align} \n",
    "  \\lambda \\frac{\\mathbf{z}}{\\left\\| \\mathbf{z} \\right\\|_2 } +  \\rho (-\\mathbf{v} + \\mathbf{z}) &\\overset{!}{=} \\mathbf{0} \\\\\n",
    "  \\mathbf{z}\\left( \\frac{\\lambda}{\\left\\| \\mathbf{z} \\right\\|_2 } + \\rho \\right) &= \\rho \\mathbf{v} \\,. \\label{eq:hqs:iso:2}\n",
    "\\end{align}\n",
    "We now apply the $l_2$-norm to both sides of the equation:\n",
    "\\begin{align}  \\label{eq:hqs:iso:3}\n",
    "   \\left| \\frac{\\lambda}{\\left\\| \\mathbf{z} \\right\\|_2 }  + \\rho\\right| \\cdot \\left\\| \\mathbf{z} \\right\\|_2 = \\left| \\rho \\right|  \\left\\| \\mathbf{v} \\right\\|_2 \\,.\n",
    "\\end{align}\n",
    "The last step introduced two absolute values for each of which the two possible cases, .i.e, $>0$, $<0$ have to be considered. Regarding the term $\\left| \\rho \\right| $ on the right side of the equation, only the positive case has to be considered since $\\rho > 0$ by definition.\n",
    "\n",
    "The first absolute term $\\left| \\frac{\\lambda}{\\left\\| \\mathbf{z} \\right\\|_2 }  + \\rho\\right|$ is positive if\n",
    "\\begin{align} \n",
    "   \\frac{\\lambda}{\\left\\| \\mathbf{z} \\right\\|_2 }  + \\rho &> 0 \\\\\n",
    "   - \\frac{\\lambda}{\\rho} &< \\left\\| \\mathbf{z} \\right\\| _2 \\,,\n",
    "\\end{align}\n",
    "what always holds since due to $\\lambda > 0$ and $\\rho > 0$ it follows $-\\frac{\\lambda}{\\rho} < 0$ and since  $\\left\\| \\mathbf{z} \\right\\| _2 > 0$ as $\\left\\| \\cdot \\right\\| \\geq 0$ for any norm and $\\mathbf{z} \\neq \\mathbf{0}$ by definition of the considered case. Hence, the negative case is impossible.\n",
    "\n",
    "We continue to solve \\eqref{eq:hqs:iso:3} for $\\left\\| \\mathbf{z} \\right\\| _2$:\n",
    "\\begin{align} \n",
    "  \\left( \\frac{\\lambda}{\\left\\| \\mathbf{z} \\right\\|_2 }  + \\rho\\right) \\cdot \\left\\| \\mathbf{z} \\right\\|_2 &= \\rho  \\left\\| \\mathbf{v} \\right\\|_2  \\\\\n",
    "  \\lambda + \\rho \\left\\| \\mathbf{z} \\right\\| _2 &= \\rho \\left\\| \\mathbf{v} \\right\\| _2 \\\\\n",
    "  \\left\\| \\mathbf{z} \\right\\| _2 &= \\frac{\\rho \\left\\| \\mathbf{v} \\right\\|_2 - \\lambda  }{\\rho} \\,,\n",
    "\\end{align}\n",
    "and now insert this expression for $\\left\\| \\mathbf{z} \\right\\| _2$ into \\eqref{eq:hqs:iso:2} and solve for $\\mathbf{z}$:\n",
    "\\begin{align} \n",
    "   \\mathbf{z} \\left( \\lambda \\cdot \\frac{\\rho }{\\rho \\left\\| \\mathbf{v} \\right\\|_2 - \\lambda } + \\rho  \\right) &= \\rho \\mathbf{v} \\\\\n",
    "   \\mathbf{z} \\frac{\\lambda + \\rho  \\left\\| \\mathbf{v} \\right\\|_2 - \\lambda  }{\\rho  \\left\\| \\mathbf{v} \\right\\|_2 - \\lambda  } &= \\mathbf{v}  \\\\\n",
    "   \\mathbf{z} &= \\mathbf{v} \\cdot \\frac{\\rho  \\left\\| \\mathbf{v} \\right\\|_2 - \\lambda  }{\\rho  \\left\\| \\mathbf{v} \\right\\|_2 } \\\\\n",
    "   \\mathbf{z} &= \\mathbf{v} \\cdot \\left( 1 - \\frac{\\lambda }{\\rho \\left\\| \\mathbf{v} \\right\\|_2 } \\right) \\,.\n",
    "\\end{align}\n",
    "In order to make sure that $\\mathbf{z} \\overset{!}{\\neq} \\mathbf{0}$, we have to check for which conditions $\\left( 1 - \\frac{\\lambda }{\\rho \\left\\| \\mathbf{v} \\right\\|_2 } \\right) > 0$ holds (we do not have to check for $<0$ as this is impossible as we showed when inspecting the absolute terms before):\n",
    "\\begin{align} \n",
    "  \\left( 1 - \\frac{\\lambda }{\\rho \\left\\| \\mathbf{v} \\right\\|_2 } \\right) &> 0 \\\\\n",
    "  \\left\\| \\mathbf{v} \\right\\|_2 &> \\frac{\\lambda }{\\rho } \\,.\n",
    "\\end{align}\n",
    "\n",
    "For $\\mathbf{z} = \\mathbf{0}$, there is no well-defined gradient for $\\left\\| \\mathbf{z} \\right\\|_2$, so we make use of the concept of subdifferentials again and derive the subdifferential of $h(\\mathbf{z})$ with respect to position $\\mathbf{z} = \\mathbf{0}$:\n",
    "\\begin{align} \n",
    "  h(\\mathbf{z}) &= \\lambda \\left\\| \\mathbf{z} \\right\\|_2 + \\frac{\\rho}{2} \\left\\| \\mathbf{v-z} \\right\\| ^2_2 \\\\\n",
    "  \\frac{h(\\mathbf{z})}{\\rho} &= \\frac{\\lambda}{\\rho } \\left\\| \\mathbf{z} \\right\\|_2 + \\frac{1}{2} \\left\\| \\mathbf{v-z} \\right\\|^2_2  \\\\\n",
    "  \\partial_\\mathbf{0} \\frac{h(\\mathbf{z})}{\\rho} &= \\partial_\\mathbf{0} \\frac{\\lambda}{\\rho } \\left\\| \\mathbf{z} \\right\\|_2 \\oplus  \\partial_\\mathbf{0}\\frac{1}{2} \\left\\| \\mathbf{v-z} \\right\\|^2_2 \\,.\n",
    "\\end{align}\n",
    "As before, we can replace the second subdifferential on the right side of the equation with the true gradient:\n",
    "\\begin{align} \n",
    "  \\partial_\\mathbf{0} \\frac{h(\\mathbf{z})}{\\rho} &= \\partial_\\mathbf{0} \\frac{\\lambda}{\\rho } \\left\\| \\mathbf{z} \\right\\|_2 \\oplus  \\lbrace - \\mathbf{v} \\rbrace \\,.\n",
    "\\end{align}\n",
    "For the first term, i.e., $\\partial_\\mathbf{0}\\frac{\\lambda}{\\rho} \\left\\| \\mathbf{z} \\right\\|_2$, we employ the definition of subdifferentials:\n",
    "\\begin{align} \n",
    "  \\partial_\\mathbf{0}\\frac{\\lambda}{\\rho} \\left\\| \\mathbf{z} \\right\\|_2 &= \\left\\{ \\mathbf{g} \\in \\mathbb{R}^{2N} : \\frac{\\lambda}{\\rho} \\left\\| \\mathbf{z} \\right\\|_2 \\geq \\frac{\\lambda}{\\rho} \\left\\| \\mathbf{0} \\right\\|_2 + \\left\\langle \\mathbf{g} , \\mathbf{z} - \\mathbf{0}\\right\\rangle  \\right\\} \\\\\n",
    "  \\partial_\\mathbf{0}\\frac{\\lambda}{\\rho} \\left\\| \\mathbf{z} \\right\\|_2 &= \\left\\{ \\mathbf{g} \\in \\mathbb{R}^{2N} : \\frac{\\lambda}{\\rho} \\left\\| \\mathbf{z} \\right\\|_2 \\geq \\left\\langle \\mathbf{g} , \\mathbf{z}\\right\\rangle  \\right\\} \\,.\n",
    "\\end{align}\n",
    "By means of the Cauchy-Schwarz inequality, i.e., $\\left\\langle \\mathbf{g}, \\mathbf{z} \\right\\rangle \\leq \\left\\| \\mathbf{g} \\right\\| \\cdot \\left\\| \\mathbf{z} \\right\\| $, we can further simplify the derivation:\n",
    "\\begin{align} \n",
    "  \\partial_\\mathbf{0}\\frac{\\lambda}{\\rho} \\left\\| \\mathbf{z} \\right\\|_2 &= \\left\\{ \\mathbf{g} \\in \\mathbb{R}^{2N} : \\frac{\\lambda}{\\rho} \\left\\| \\mathbf{z} \\right\\|_2 \\geq \\left\\langle \\mathbf{g} , \\mathbf{z}\\right\\rangle  \\right\\} \\\\\n",
    "  &= \\left\\{ \\mathbf{g} \\in \\mathbb{R}^{2N} : \\frac{\\lambda}{\\rho} \\left\\| \\mathbf{z} \\right\\|_2 \\geq \\left\\| \\mathbf{g} \\right\\|_2 \\cdot \\left\\| \\mathbf{z} \\right\\|_2     \\right\\} \\\\\n",
    "  &= \\left\\{ \\mathbf{g} \\in \\mathbb{R}^{2N} : \\frac{\\lambda}{\\rho}  \\geq \\left\\| \\mathbf{g} \\right\\|_2      \\right\\} \\,.\n",
    "\\end{align}\n",
    "The resulting combined expression for the subdifferential of $\\frac{h(\\mathbf{z})}{\\rho} $ is:\n",
    "\\begin{align} \n",
    "   \\partial_\\mathbf{0}\\frac{h(\\mathbf{z})}{\\rho} = \\left\\{ \\mathbf{g} \\in \\mathbb{R}^{2N} : \\frac{\\lambda}{\\rho}  \\geq \\left\\| \\mathbf{g} \\right\\|_2      \\right\\} \\oplus \\lbrace -\\mathbf{v} \\rbrace \\,.\n",
    "\\end{align} \n",
    "For $\\mathbf{z} = \\mathbf{0}$ we want to return $\\mathbf{0}$ if possible since that would correspond to the sought minimum. A subgradient $\\mathbf{0}$ is contained in $\\partial_\\mathbf{0}\\frac{h(\\mathbf{z})}{\\rho}$ if the first subdifferential $\\left\\{ \\mathbf{g} \\in \\mathbb{R}^{2N} : \\frac{\\lambda}{\\rho}  \\geq \\left\\| \\mathbf{g} \\right\\|_2      \\right\\}$ contains a vector $\\mathbf{g}$ with $\\mathbf{g} = \\mathbf{v}$ because then the Minkowski sum $\\left\\{ \\mathbf{g} \\in \\mathbb{R}^{2N} : \\frac{\\lambda}{\\rho}  \\geq \\left\\| \\mathbf{g} \\right\\|_2      \\right\\} \\oplus \\lbrace -\\mathbf{v} \\rbrace$ would contain $\\mathbf{0}$. This is only possible for any vectors $\\mathbf{v}$ with $\\left\\| \\mathbf{v} \\right\\|_2 \\leq \\frac{\\lambda}{\\rho}  $.\n",
    "\n",
    "With these results, the final $\\mathbf{z}$-update rule is given by:"
   ]
  },
  {
   "cell_type": "markdown",
   "id": "79151d38",
   "metadata": {
    "tags": [
     "presentation_only",
     "remove-cell"
    ]
   },
   "source": [
    "The concept of subdifferentials yields the sought $\\mathbf{z}$-update rule:"
   ]
  },
  {
   "cell_type": "markdown",
   "id": "bed50fb7",
   "metadata": {},
   "source": [
    "\\begin{align} \n",
    "  \\mathbf{z} \\leftarrow \\mathbf{prox}_{\\left\\| \\cdot \\right\\|_{2,1},\\rho } (\\mathbf{v}) = \\begin{cases} \n",
    "    \\mathbf{v} \\cdot \\left( 1 - \\frac{\\lambda }{\\rho \\left\\| \\mathbf{v} \\right\\|_2 } \\right) &\\text{if } \\left\\| \\mathbf{v} \\right\\| _2 > \\frac{\\lambda}{\\rho} \\\\\n",
    "    \\mathbf{0} &\\text{if } \\left\\| \\mathbf{v} \\right\\| _2 \\leq \\frac{\\lambda}{\\rho}\n",
    "  \\end{cases}\n",
    "   \\,.\n",
    "\\end{align}\n",
    "This expression is also known as the vector soft-thresholding operator."
   ]
  }
 ],
 "metadata": {
  "jupytext": {
   "formats": "ipynb,md:myst",
   "text_representation": {
    "extension": ".md",
    "format_name": "myst",
    "format_version": 0.13,
    "jupytext_version": "1.14.1"
   }
  },
  "kernelspec": {
   "display_name": "compimg",
   "language": "python",
   "name": "compimg"
  },
  "language_info": {
   "codemirror_mode": {
    "name": "ipython",
    "version": 3
   },
   "file_extension": ".py",
   "mimetype": "text/x-python",
   "name": "python",
   "nbconvert_exporter": "python",
   "pygments_lexer": "ipython3",
   "version": "3.8.10"
  },
  "source_map": [
   15,
   33,
   38,
   53,
   65,
   77,
   84,
   94,
   103,
   113,
   123,
   133,
   145,
   158,
   162,
   166,
   174,
   178,
   182,
   187,
   202,
   206,
   210,
   220,
   224,
   232,
   239,
   243,
   247,
   255,
   259,
   266,
   274,
   278,
   282,
   286,
   290,
   294,
   298,
   302,
   308,
   312,
   320,
   327,
   335,
   343,
   355,
   362,
   373,
   388,
   392,
   398,
   408,
   416,
   420,
   425,
   432,
   441,
   447,
   453,
   461,
   466,
   471,
   480,
   484,
   492,
   498,
   508,
   522,
   528,
   539,
   549,
   558,
   567,
   579,
   586,
   590,
   594,
   603,
   611,
   619,
   629,
   644,
   731,
   745,
   749,
   754,
   764,
   786,
   793,
   797,
   807,
   817,
   821,
   830,
   919,
   923
  ],
  "widgets": {
   "application/vnd.jupyter.widget-state+json": {
    "state": {
     "04d37bdee3b049c2b0e597abf53bb3b5": {
      "model_module": "@jupyter-widgets/controls",
      "model_module_version": "1.5.0",
      "model_name": "IntSliderModel",
      "state": {
       "_dom_classes": [],
       "_model_module": "@jupyter-widgets/controls",
       "_model_module_version": "1.5.0",
       "_model_name": "IntSliderModel",
       "_view_count": null,
       "_view_module": "@jupyter-widgets/controls",
       "_view_module_version": "1.5.0",
       "_view_name": "IntSliderView",
       "continuous_update": true,
       "description": "i",
       "description_tooltip": null,
       "disabled": false,
       "layout": "IPY_MODEL_fab35b026cc44561b30cf730f1435ad6",
       "max": 16,
       "min": 0,
       "orientation": "horizontal",
       "readout": true,
       "readout_format": "d",
       "step": 1,
       "style": "IPY_MODEL_9ea28f40909340e0958d64ac44abcdd7",
       "value": 1
      }
     },
     "2f6e98454b8e4f1898db7efe39aad21d": {
      "model_module": "@jupyter-widgets/controls",
      "model_module_version": "1.5.0",
      "model_name": "VBoxModel",
      "state": {
       "_dom_classes": [
        "widget-interact"
       ],
       "_model_module": "@jupyter-widgets/controls",
       "_model_module_version": "1.5.0",
       "_model_name": "VBoxModel",
       "_view_count": null,
       "_view_module": "@jupyter-widgets/controls",
       "_view_module_version": "1.5.0",
       "_view_name": "VBoxView",
       "box_style": "",
       "children": [
        "IPY_MODEL_04d37bdee3b049c2b0e597abf53bb3b5",
        "IPY_MODEL_8eb5f44af0064f42a1450de416822ce3"
       ],
       "layout": "IPY_MODEL_3a1f98415b974570855a93d223cfda78"
      }
     },
     "33a669d8511d434fa4ae6669fe19fe50": {
      "model_module": "@jupyter-widgets/controls",
      "model_module_version": "1.5.0",
      "model_name": "VBoxModel",
      "state": {
       "_dom_classes": [
        "widget-interact"
       ],
       "_model_module": "@jupyter-widgets/controls",
       "_model_module_version": "1.5.0",
       "_model_name": "VBoxModel",
       "_view_count": null,
       "_view_module": "@jupyter-widgets/controls",
       "_view_module_version": "1.5.0",
       "_view_name": "VBoxView",
       "box_style": "",
       "children": [
        "IPY_MODEL_f78f8115786f49c89f7261b1b5453f8e",
        "IPY_MODEL_cb5c61f76ca24450b6b433def308b42f"
       ],
       "layout": "IPY_MODEL_6ae9a18a00844a539bd108141c909729"
      }
     },
     "3a1f98415b974570855a93d223cfda78": {
      "model_module": "@jupyter-widgets/base",
      "model_module_version": "1.2.0",
      "model_name": "LayoutModel",
      "state": {
       "_model_module": "@jupyter-widgets/base",
       "_model_module_version": "1.2.0",
       "_model_name": "LayoutModel",
       "_view_count": null,
       "_view_module": "@jupyter-widgets/base",
       "_view_module_version": "1.2.0",
       "_view_name": "LayoutView",
       "align_content": null,
       "align_items": null,
       "align_self": null,
       "border": null,
       "bottom": null,
       "display": null,
       "flex": null,
       "flex_flow": null,
       "grid_area": null,
       "grid_auto_columns": null,
       "grid_auto_flow": null,
       "grid_auto_rows": null,
       "grid_column": null,
       "grid_gap": null,
       "grid_row": null,
       "grid_template_areas": null,
       "grid_template_columns": null,
       "grid_template_rows": null,
       "height": null,
       "justify_content": null,
       "justify_items": null,
       "left": null,
       "margin": null,
       "max_height": null,
       "max_width": null,
       "min_height": null,
       "min_width": null,
       "object_fit": null,
       "object_position": null,
       "order": null,
       "overflow": null,
       "overflow_x": null,
       "overflow_y": null,
       "padding": null,
       "right": null,
       "top": null,
       "visibility": null,
       "width": null
      }
     },
     "57f4a5a1d68d4d128f5a367a3d2d2102": {
      "model_module": "@jupyter-widgets/base",
      "model_module_version": "1.2.0",
      "model_name": "LayoutModel",
      "state": {
       "_model_module": "@jupyter-widgets/base",
       "_model_module_version": "1.2.0",
       "_model_name": "LayoutModel",
       "_view_count": null,
       "_view_module": "@jupyter-widgets/base",
       "_view_module_version": "1.2.0",
       "_view_name": "LayoutView",
       "align_content": null,
       "align_items": null,
       "align_self": null,
       "border": null,
       "bottom": null,
       "display": null,
       "flex": null,
       "flex_flow": null,
       "grid_area": null,
       "grid_auto_columns": null,
       "grid_auto_flow": null,
       "grid_auto_rows": null,
       "grid_column": null,
       "grid_gap": null,
       "grid_row": null,
       "grid_template_areas": null,
       "grid_template_columns": null,
       "grid_template_rows": null,
       "height": null,
       "justify_content": null,
       "justify_items": null,
       "left": null,
       "margin": null,
       "max_height": null,
       "max_width": null,
       "min_height": null,
       "min_width": null,
       "object_fit": null,
       "object_position": null,
       "order": null,
       "overflow": null,
       "overflow_x": null,
       "overflow_y": null,
       "padding": null,
       "right": null,
       "top": null,
       "visibility": null,
       "width": null
      }
     },
     "6ae9a18a00844a539bd108141c909729": {
      "model_module": "@jupyter-widgets/base",
      "model_module_version": "1.2.0",
      "model_name": "LayoutModel",
      "state": {
       "_model_module": "@jupyter-widgets/base",
       "_model_module_version": "1.2.0",
       "_model_name": "LayoutModel",
       "_view_count": null,
       "_view_module": "@jupyter-widgets/base",
       "_view_module_version": "1.2.0",
       "_view_name": "LayoutView",
       "align_content": null,
       "align_items": null,
       "align_self": null,
       "border": null,
       "bottom": null,
       "display": null,
       "flex": null,
       "flex_flow": null,
       "grid_area": null,
       "grid_auto_columns": null,
       "grid_auto_flow": null,
       "grid_auto_rows": null,
       "grid_column": null,
       "grid_gap": null,
       "grid_row": null,
       "grid_template_areas": null,
       "grid_template_columns": null,
       "grid_template_rows": null,
       "height": null,
       "justify_content": null,
       "justify_items": null,
       "left": null,
       "margin": null,
       "max_height": null,
       "max_width": null,
       "min_height": null,
       "min_width": null,
       "object_fit": null,
       "object_position": null,
       "order": null,
       "overflow": null,
       "overflow_x": null,
       "overflow_y": null,
       "padding": null,
       "right": null,
       "top": null,
       "visibility": null,
       "width": null
      }
     },
     "87fd4d90181e4f6c99bf458af45ec79d": {
      "model_module": "@jupyter-widgets/base",
      "model_module_version": "1.2.0",
      "model_name": "LayoutModel",
      "state": {
       "_model_module": "@jupyter-widgets/base",
       "_model_module_version": "1.2.0",
       "_model_name": "LayoutModel",
       "_view_count": null,
       "_view_module": "@jupyter-widgets/base",
       "_view_module_version": "1.2.0",
       "_view_name": "LayoutView",
       "align_content": null,
       "align_items": null,
       "align_self": null,
       "border": null,
       "bottom": null,
       "display": null,
       "flex": null,
       "flex_flow": null,
       "grid_area": null,
       "grid_auto_columns": null,
       "grid_auto_flow": null,
       "grid_auto_rows": null,
       "grid_column": null,
       "grid_gap": null,
       "grid_row": null,
       "grid_template_areas": null,
       "grid_template_columns": null,
       "grid_template_rows": null,
       "height": null,
       "justify_content": null,
       "justify_items": null,
       "left": null,
       "margin": null,
       "max_height": null,
       "max_width": null,
       "min_height": null,
       "min_width": null,
       "object_fit": null,
       "object_position": null,
       "order": null,
       "overflow": null,
       "overflow_x": null,
       "overflow_y": null,
       "padding": null,
       "right": null,
       "top": null,
       "visibility": null,
       "width": null
      }
     },
     "8eb5f44af0064f42a1450de416822ce3": {
      "model_module": "@jupyter-widgets/output",
      "model_module_version": "1.0.0",
      "model_name": "OutputModel",
      "state": {
       "_dom_classes": [],
       "_model_module": "@jupyter-widgets/output",
       "_model_module_version": "1.0.0",
       "_model_name": "OutputModel",
       "_view_count": null,
       "_view_module": "@jupyter-widgets/output",
       "_view_module_version": "1.0.0",
       "_view_name": "OutputView",
       "layout": "IPY_MODEL_87fd4d90181e4f6c99bf458af45ec79d",
       "msg_id": "",
       "outputs": [
        {
         "data": {
          "application/javascript": "/* Put everything inside the global mpl namespace */\n/* global mpl */\nwindow.mpl = {};\n\nmpl.get_websocket_type = function () {\n    if (typeof WebSocket !== 'undefined') {\n        return WebSocket;\n    } else if (typeof MozWebSocket !== 'undefined') {\n        return MozWebSocket;\n    } else {\n        alert(\n            'Your browser does not have WebSocket support. ' +\n                'Please try Chrome, Safari or Firefox ≥ 6. ' +\n                'Firefox 4 and 5 are also supported but you ' +\n                'have to enable WebSockets in about:config.'\n        );\n    }\n};\n\nmpl.figure = function (figure_id, websocket, ondownload, parent_element) {\n    this.id = figure_id;\n\n    this.ws = websocket;\n\n    this.supports_binary = this.ws.binaryType !== undefined;\n\n    if (!this.supports_binary) {\n        var warnings = document.getElementById('mpl-warnings');\n        if (warnings) {\n            warnings.style.display = 'block';\n            warnings.textContent =\n                'This browser does not support binary websocket messages. ' +\n                'Performance may be slow.';\n        }\n    }\n\n    this.imageObj = new Image();\n\n    this.context = undefined;\n    this.message = undefined;\n    this.canvas = undefined;\n    this.rubberband_canvas = undefined;\n    this.rubberband_context = undefined;\n    this.format_dropdown = undefined;\n\n    this.image_mode = 'full';\n\n    this.root = document.createElement('div');\n    this.root.setAttribute('style', 'display: inline-block');\n    this._root_extra_style(this.root);\n\n    parent_element.appendChild(this.root);\n\n    this._init_header(this);\n    this._init_canvas(this);\n    this._init_toolbar(this);\n\n    var fig = this;\n\n    this.waiting = false;\n\n    this.ws.onopen = function () {\n        fig.send_message('supports_binary', { value: fig.supports_binary });\n        fig.send_message('send_image_mode', {});\n        if (fig.ratio !== 1) {\n            fig.send_message('set_dpi_ratio', { dpi_ratio: fig.ratio });\n        }\n        fig.send_message('refresh', {});\n    };\n\n    this.imageObj.onload = function () {\n        if (fig.image_mode === 'full') {\n            // Full images could contain transparency (where diff images\n            // almost always do), so we need to clear the canvas so that\n            // there is no ghosting.\n            fig.context.clearRect(0, 0, fig.canvas.width, fig.canvas.height);\n        }\n        fig.context.drawImage(fig.imageObj, 0, 0);\n    };\n\n    this.imageObj.onunload = function () {\n        fig.ws.close();\n    };\n\n    this.ws.onmessage = this._make_on_message_function(this);\n\n    this.ondownload = ondownload;\n};\n\nmpl.figure.prototype._init_header = function () {\n    var titlebar = document.createElement('div');\n    titlebar.classList =\n        'ui-dialog-titlebar ui-widget-header ui-corner-all ui-helper-clearfix';\n    var titletext = document.createElement('div');\n    titletext.classList = 'ui-dialog-title';\n    titletext.setAttribute(\n        'style',\n        'width: 100%; text-align: center; padding: 3px;'\n    );\n    titlebar.appendChild(titletext);\n    this.root.appendChild(titlebar);\n    this.header = titletext;\n};\n\nmpl.figure.prototype._canvas_extra_style = function (_canvas_div) {};\n\nmpl.figure.prototype._root_extra_style = function (_canvas_div) {};\n\nmpl.figure.prototype._init_canvas = function () {\n    var fig = this;\n\n    var canvas_div = (this.canvas_div = document.createElement('div'));\n    canvas_div.setAttribute(\n        'style',\n        'border: 1px solid #ddd;' +\n            'box-sizing: content-box;' +\n            'clear: both;' +\n            'min-height: 1px;' +\n            'min-width: 1px;' +\n            'outline: 0;' +\n            'overflow: hidden;' +\n            'position: relative;' +\n            'resize: both;'\n    );\n\n    function on_keyboard_event_closure(name) {\n        return function (event) {\n            return fig.key_event(event, name);\n        };\n    }\n\n    canvas_div.addEventListener(\n        'keydown',\n        on_keyboard_event_closure('key_press')\n    );\n    canvas_div.addEventListener(\n        'keyup',\n        on_keyboard_event_closure('key_release')\n    );\n\n    this._canvas_extra_style(canvas_div);\n    this.root.appendChild(canvas_div);\n\n    var canvas = (this.canvas = document.createElement('canvas'));\n    canvas.classList.add('mpl-canvas');\n    canvas.setAttribute('style', 'box-sizing: content-box;');\n\n    this.context = canvas.getContext('2d');\n\n    var backingStore =\n        this.context.backingStorePixelRatio ||\n        this.context.webkitBackingStorePixelRatio ||\n        this.context.mozBackingStorePixelRatio ||\n        this.context.msBackingStorePixelRatio ||\n        this.context.oBackingStorePixelRatio ||\n        this.context.backingStorePixelRatio ||\n        1;\n\n    this.ratio = (window.devicePixelRatio || 1) / backingStore;\n\n    var rubberband_canvas = (this.rubberband_canvas = document.createElement(\n        'canvas'\n    ));\n    rubberband_canvas.setAttribute(\n        'style',\n        'box-sizing: content-box; position: absolute; left: 0; top: 0; z-index: 1;'\n    );\n\n    // Apply a ponyfill if ResizeObserver is not implemented by browser.\n    if (this.ResizeObserver === undefined) {\n        if (window.ResizeObserver !== undefined) {\n            this.ResizeObserver = window.ResizeObserver;\n        } else {\n            var obs = _JSXTOOLS_RESIZE_OBSERVER({});\n            this.ResizeObserver = obs.ResizeObserver;\n        }\n    }\n\n    this.resizeObserverInstance = new this.ResizeObserver(function (entries) {\n        var nentries = entries.length;\n        for (var i = 0; i < nentries; i++) {\n            var entry = entries[i];\n            var width, height;\n            if (entry.contentBoxSize) {\n                if (entry.contentBoxSize instanceof Array) {\n                    // Chrome 84 implements new version of spec.\n                    width = entry.contentBoxSize[0].inlineSize;\n                    height = entry.contentBoxSize[0].blockSize;\n                } else {\n                    // Firefox implements old version of spec.\n                    width = entry.contentBoxSize.inlineSize;\n                    height = entry.contentBoxSize.blockSize;\n                }\n            } else {\n                // Chrome <84 implements even older version of spec.\n                width = entry.contentRect.width;\n                height = entry.contentRect.height;\n            }\n\n            // Keep the size of the canvas and rubber band canvas in sync with\n            // the canvas container.\n            if (entry.devicePixelContentBoxSize) {\n                // Chrome 84 implements new version of spec.\n                canvas.setAttribute(\n                    'width',\n                    entry.devicePixelContentBoxSize[0].inlineSize\n                );\n                canvas.setAttribute(\n                    'height',\n                    entry.devicePixelContentBoxSize[0].blockSize\n                );\n            } else {\n                canvas.setAttribute('width', width * fig.ratio);\n                canvas.setAttribute('height', height * fig.ratio);\n            }\n            canvas.setAttribute(\n                'style',\n                'width: ' + width + 'px; height: ' + height + 'px;'\n            );\n\n            rubberband_canvas.setAttribute('width', width);\n            rubberband_canvas.setAttribute('height', height);\n\n            // And update the size in Python. We ignore the initial 0/0 size\n            // that occurs as the element is placed into the DOM, which should\n            // otherwise not happen due to the minimum size styling.\n            if (fig.ws.readyState == 1 && width != 0 && height != 0) {\n                fig.request_resize(width, height);\n            }\n        }\n    });\n    this.resizeObserverInstance.observe(canvas_div);\n\n    function on_mouse_event_closure(name) {\n        return function (event) {\n            return fig.mouse_event(event, name);\n        };\n    }\n\n    rubberband_canvas.addEventListener(\n        'mousedown',\n        on_mouse_event_closure('button_press')\n    );\n    rubberband_canvas.addEventListener(\n        'mouseup',\n        on_mouse_event_closure('button_release')\n    );\n    rubberband_canvas.addEventListener(\n        'dblclick',\n        on_mouse_event_closure('dblclick')\n    );\n    // Throttle sequential mouse events to 1 every 20ms.\n    rubberband_canvas.addEventListener(\n        'mousemove',\n        on_mouse_event_closure('motion_notify')\n    );\n\n    rubberband_canvas.addEventListener(\n        'mouseenter',\n        on_mouse_event_closure('figure_enter')\n    );\n    rubberband_canvas.addEventListener(\n        'mouseleave',\n        on_mouse_event_closure('figure_leave')\n    );\n\n    canvas_div.addEventListener('wheel', function (event) {\n        if (event.deltaY < 0) {\n            event.step = 1;\n        } else {\n            event.step = -1;\n        }\n        on_mouse_event_closure('scroll')(event);\n    });\n\n    canvas_div.appendChild(canvas);\n    canvas_div.appendChild(rubberband_canvas);\n\n    this.rubberband_context = rubberband_canvas.getContext('2d');\n    this.rubberband_context.strokeStyle = '#000000';\n\n    this._resize_canvas = function (width, height, forward) {\n        if (forward) {\n            canvas_div.style.width = width + 'px';\n            canvas_div.style.height = height + 'px';\n        }\n    };\n\n    // Disable right mouse context menu.\n    this.rubberband_canvas.addEventListener('contextmenu', function (_e) {\n        event.preventDefault();\n        return false;\n    });\n\n    function set_focus() {\n        canvas.focus();\n        canvas_div.focus();\n    }\n\n    window.setTimeout(set_focus, 100);\n};\n\nmpl.figure.prototype._init_toolbar = function () {\n    var fig = this;\n\n    var toolbar = document.createElement('div');\n    toolbar.classList = 'mpl-toolbar';\n    this.root.appendChild(toolbar);\n\n    function on_click_closure(name) {\n        return function (_event) {\n            return fig.toolbar_button_onclick(name);\n        };\n    }\n\n    function on_mouseover_closure(tooltip) {\n        return function (event) {\n            if (!event.currentTarget.disabled) {\n                return fig.toolbar_button_onmouseover(tooltip);\n            }\n        };\n    }\n\n    fig.buttons = {};\n    var buttonGroup = document.createElement('div');\n    buttonGroup.classList = 'mpl-button-group';\n    for (var toolbar_ind in mpl.toolbar_items) {\n        var name = mpl.toolbar_items[toolbar_ind][0];\n        var tooltip = mpl.toolbar_items[toolbar_ind][1];\n        var image = mpl.toolbar_items[toolbar_ind][2];\n        var method_name = mpl.toolbar_items[toolbar_ind][3];\n\n        if (!name) {\n            /* Instead of a spacer, we start a new button group. */\n            if (buttonGroup.hasChildNodes()) {\n                toolbar.appendChild(buttonGroup);\n            }\n            buttonGroup = document.createElement('div');\n            buttonGroup.classList = 'mpl-button-group';\n            continue;\n        }\n\n        var button = (fig.buttons[name] = document.createElement('button'));\n        button.classList = 'mpl-widget';\n        button.setAttribute('role', 'button');\n        button.setAttribute('aria-disabled', 'false');\n        button.addEventListener('click', on_click_closure(method_name));\n        button.addEventListener('mouseover', on_mouseover_closure(tooltip));\n\n        var icon_img = document.createElement('img');\n        icon_img.src = '_images/' + image + '.png';\n        icon_img.srcset = '_images/' + image + '_large.png 2x';\n        icon_img.alt = tooltip;\n        button.appendChild(icon_img);\n\n        buttonGroup.appendChild(button);\n    }\n\n    if (buttonGroup.hasChildNodes()) {\n        toolbar.appendChild(buttonGroup);\n    }\n\n    var fmt_picker = document.createElement('select');\n    fmt_picker.classList = 'mpl-widget';\n    toolbar.appendChild(fmt_picker);\n    this.format_dropdown = fmt_picker;\n\n    for (var ind in mpl.extensions) {\n        var fmt = mpl.extensions[ind];\n        var option = document.createElement('option');\n        option.selected = fmt === mpl.default_extension;\n        option.innerHTML = fmt;\n        fmt_picker.appendChild(option);\n    }\n\n    var status_bar = document.createElement('span');\n    status_bar.classList = 'mpl-message';\n    toolbar.appendChild(status_bar);\n    this.message = status_bar;\n};\n\nmpl.figure.prototype.request_resize = function (x_pixels, y_pixels) {\n    // Request matplotlib to resize the figure. Matplotlib will then trigger a resize in the client,\n    // which will in turn request a refresh of the image.\n    this.send_message('resize', { width: x_pixels, height: y_pixels });\n};\n\nmpl.figure.prototype.send_message = function (type, properties) {\n    properties['type'] = type;\n    properties['figure_id'] = this.id;\n    this.ws.send(JSON.stringify(properties));\n};\n\nmpl.figure.prototype.send_draw_message = function () {\n    if (!this.waiting) {\n        this.waiting = true;\n        this.ws.send(JSON.stringify({ type: 'draw', figure_id: this.id }));\n    }\n};\n\nmpl.figure.prototype.handle_save = function (fig, _msg) {\n    var format_dropdown = fig.format_dropdown;\n    var format = format_dropdown.options[format_dropdown.selectedIndex].value;\n    fig.ondownload(fig, format);\n};\n\nmpl.figure.prototype.handle_resize = function (fig, msg) {\n    var size = msg['size'];\n    if (size[0] !== fig.canvas.width || size[1] !== fig.canvas.height) {\n        fig._resize_canvas(size[0], size[1], msg['forward']);\n        fig.send_message('refresh', {});\n    }\n};\n\nmpl.figure.prototype.handle_rubberband = function (fig, msg) {\n    var x0 = msg['x0'] / fig.ratio;\n    var y0 = (fig.canvas.height - msg['y0']) / fig.ratio;\n    var x1 = msg['x1'] / fig.ratio;\n    var y1 = (fig.canvas.height - msg['y1']) / fig.ratio;\n    x0 = Math.floor(x0) + 0.5;\n    y0 = Math.floor(y0) + 0.5;\n    x1 = Math.floor(x1) + 0.5;\n    y1 = Math.floor(y1) + 0.5;\n    var min_x = Math.min(x0, x1);\n    var min_y = Math.min(y0, y1);\n    var width = Math.abs(x1 - x0);\n    var height = Math.abs(y1 - y0);\n\n    fig.rubberband_context.clearRect(\n        0,\n        0,\n        fig.canvas.width / fig.ratio,\n        fig.canvas.height / fig.ratio\n    );\n\n    fig.rubberband_context.strokeRect(min_x, min_y, width, height);\n};\n\nmpl.figure.prototype.handle_figure_label = function (fig, msg) {\n    // Updates the figure title.\n    fig.header.textContent = msg['label'];\n};\n\nmpl.figure.prototype.handle_cursor = function (fig, msg) {\n    var cursor = msg['cursor'];\n    switch (cursor) {\n        case 0:\n            cursor = 'pointer';\n            break;\n        case 1:\n            cursor = 'default';\n            break;\n        case 2:\n            cursor = 'crosshair';\n            break;\n        case 3:\n            cursor = 'move';\n            break;\n    }\n    fig.rubberband_canvas.style.cursor = cursor;\n};\n\nmpl.figure.prototype.handle_message = function (fig, msg) {\n    fig.message.textContent = msg['message'];\n};\n\nmpl.figure.prototype.handle_draw = function (fig, _msg) {\n    // Request the server to send over a new figure.\n    fig.send_draw_message();\n};\n\nmpl.figure.prototype.handle_image_mode = function (fig, msg) {\n    fig.image_mode = msg['mode'];\n};\n\nmpl.figure.prototype.handle_history_buttons = function (fig, msg) {\n    for (var key in msg) {\n        if (!(key in fig.buttons)) {\n            continue;\n        }\n        fig.buttons[key].disabled = !msg[key];\n        fig.buttons[key].setAttribute('aria-disabled', !msg[key]);\n    }\n};\n\nmpl.figure.prototype.handle_navigate_mode = function (fig, msg) {\n    if (msg['mode'] === 'PAN') {\n        fig.buttons['Pan'].classList.add('active');\n        fig.buttons['Zoom'].classList.remove('active');\n    } else if (msg['mode'] === 'ZOOM') {\n        fig.buttons['Pan'].classList.remove('active');\n        fig.buttons['Zoom'].classList.add('active');\n    } else {\n        fig.buttons['Pan'].classList.remove('active');\n        fig.buttons['Zoom'].classList.remove('active');\n    }\n};\n\nmpl.figure.prototype.updated_canvas_event = function () {\n    // Called whenever the canvas gets updated.\n    this.send_message('ack', {});\n};\n\n// A function to construct a web socket function for onmessage handling.\n// Called in the figure constructor.\nmpl.figure.prototype._make_on_message_function = function (fig) {\n    return function socket_on_message(evt) {\n        if (evt.data instanceof Blob) {\n            var img = evt.data;\n            if (img.type !== 'image/png') {\n                /* FIXME: We get \"Resource interpreted as Image but\n                 * transferred with MIME type text/plain:\" errors on\n                 * Chrome.  But how to set the MIME type?  It doesn't seem\n                 * to be part of the websocket stream */\n                img.type = 'image/png';\n            }\n\n            /* Free the memory for the previous frames */\n            if (fig.imageObj.src) {\n                (window.URL || window.webkitURL).revokeObjectURL(\n                    fig.imageObj.src\n                );\n            }\n\n            fig.imageObj.src = (window.URL || window.webkitURL).createObjectURL(\n                img\n            );\n            fig.updated_canvas_event();\n            fig.waiting = false;\n            return;\n        } else if (\n            typeof evt.data === 'string' &&\n            evt.data.slice(0, 21) === 'data:image/png;base64'\n        ) {\n            fig.imageObj.src = evt.data;\n            fig.updated_canvas_event();\n            fig.waiting = false;\n            return;\n        }\n\n        var msg = JSON.parse(evt.data);\n        var msg_type = msg['type'];\n\n        // Call the  \"handle_{type}\" callback, which takes\n        // the figure and JSON message as its only arguments.\n        try {\n            var callback = fig['handle_' + msg_type];\n        } catch (e) {\n            console.log(\n                \"No handler for the '\" + msg_type + \"' message type: \",\n                msg\n            );\n            return;\n        }\n\n        if (callback) {\n            try {\n                // console.log(\"Handling '\" + msg_type + \"' message: \", msg);\n                callback(fig, msg);\n            } catch (e) {\n                console.log(\n                    \"Exception inside the 'handler_\" + msg_type + \"' callback:\",\n                    e,\n                    e.stack,\n                    msg\n                );\n            }\n        }\n    };\n};\n\n// from http://stackoverflow.com/questions/1114465/getting-mouse-location-in-canvas\nmpl.findpos = function (e) {\n    //this section is from http://www.quirksmode.org/js/events_properties.html\n    var targ;\n    if (!e) {\n        e = window.event;\n    }\n    if (e.target) {\n        targ = e.target;\n    } else if (e.srcElement) {\n        targ = e.srcElement;\n    }\n    if (targ.nodeType === 3) {\n        // defeat Safari bug\n        targ = targ.parentNode;\n    }\n\n    // pageX,Y are the mouse positions relative to the document\n    var boundingRect = targ.getBoundingClientRect();\n    var x = e.pageX - (boundingRect.left + document.body.scrollLeft);\n    var y = e.pageY - (boundingRect.top + document.body.scrollTop);\n\n    return { x: x, y: y };\n};\n\n/*\n * return a copy of an object with only non-object keys\n * we need this to avoid circular references\n * http://stackoverflow.com/a/24161582/3208463\n */\nfunction simpleKeys(original) {\n    return Object.keys(original).reduce(function (obj, key) {\n        if (typeof original[key] !== 'object') {\n            obj[key] = original[key];\n        }\n        return obj;\n    }, {});\n}\n\nmpl.figure.prototype.mouse_event = function (event, name) {\n    var canvas_pos = mpl.findpos(event);\n\n    if (name === 'button_press') {\n        this.canvas.focus();\n        this.canvas_div.focus();\n    }\n\n    var x = canvas_pos.x * this.ratio;\n    var y = canvas_pos.y * this.ratio;\n\n    this.send_message(name, {\n        x: x,\n        y: y,\n        button: event.button,\n        step: event.step,\n        guiEvent: simpleKeys(event),\n    });\n\n    /* This prevents the web browser from automatically changing to\n     * the text insertion cursor when the button is pressed.  We want\n     * to control all of the cursor setting manually through the\n     * 'cursor' event from matplotlib */\n    event.preventDefault();\n    return false;\n};\n\nmpl.figure.prototype._key_event_extra = function (_event, _name) {\n    // Handle any extra behaviour associated with a key event\n};\n\nmpl.figure.prototype.key_event = function (event, name) {\n    // Prevent repeat events\n    if (name === 'key_press') {\n        if (event.key === this._key) {\n            return;\n        } else {\n            this._key = event.key;\n        }\n    }\n    if (name === 'key_release') {\n        this._key = null;\n    }\n\n    var value = '';\n    if (event.ctrlKey && event.key !== 'Control') {\n        value += 'ctrl+';\n    }\n    else if (event.altKey && event.key !== 'Alt') {\n        value += 'alt+';\n    }\n    else if (event.shiftKey && event.key !== 'Shift') {\n        value += 'shift+';\n    }\n\n    value += 'k' + event.key;\n\n    this._key_event_extra(event, name);\n\n    this.send_message(name, { key: value, guiEvent: simpleKeys(event) });\n    return false;\n};\n\nmpl.figure.prototype.toolbar_button_onclick = function (name) {\n    if (name === 'download') {\n        this.handle_save(this, null);\n    } else {\n        this.send_message('toolbar_button', { name: name });\n    }\n};\n\nmpl.figure.prototype.toolbar_button_onmouseover = function (tooltip) {\n    this.message.textContent = tooltip;\n};\n\n///////////////// REMAINING CONTENT GENERATED BY embed_js.py /////////////////\n// prettier-ignore\nvar _JSXTOOLS_RESIZE_OBSERVER=function(A){var t,i=new WeakMap,n=new WeakMap,a=new WeakMap,r=new WeakMap,o=new Set;function s(e){if(!(this instanceof s))throw new TypeError(\"Constructor requires 'new' operator\");i.set(this,e)}function h(){throw new TypeError(\"Function is not a constructor\")}function c(e,t,i,n){e=0 in arguments?Number(arguments[0]):0,t=1 in arguments?Number(arguments[1]):0,i=2 in arguments?Number(arguments[2]):0,n=3 in arguments?Number(arguments[3]):0,this.right=(this.x=this.left=e)+(this.width=i),this.bottom=(this.y=this.top=t)+(this.height=n),Object.freeze(this)}function d(){t=requestAnimationFrame(d);var s=new WeakMap,p=new Set;o.forEach((function(t){r.get(t).forEach((function(i){var r=t instanceof window.SVGElement,o=a.get(t),d=r?0:parseFloat(o.paddingTop),f=r?0:parseFloat(o.paddingRight),l=r?0:parseFloat(o.paddingBottom),u=r?0:parseFloat(o.paddingLeft),g=r?0:parseFloat(o.borderTopWidth),m=r?0:parseFloat(o.borderRightWidth),w=r?0:parseFloat(o.borderBottomWidth),b=u+f,F=d+l,v=(r?0:parseFloat(o.borderLeftWidth))+m,W=g+w,y=r?0:t.offsetHeight-W-t.clientHeight,E=r?0:t.offsetWidth-v-t.clientWidth,R=b+v,z=F+W,M=r?t.width:parseFloat(o.width)-R-E,O=r?t.height:parseFloat(o.height)-z-y;if(n.has(t)){var k=n.get(t);if(k[0]===M&&k[1]===O)return}n.set(t,[M,O]);var S=Object.create(h.prototype);S.target=t,S.contentRect=new c(u,d,M,O),s.has(i)||(s.set(i,[]),p.add(i)),s.get(i).push(S)}))})),p.forEach((function(e){i.get(e).call(e,s.get(e),e)}))}return s.prototype.observe=function(i){if(i instanceof window.Element){r.has(i)||(r.set(i,new Set),o.add(i),a.set(i,window.getComputedStyle(i)));var n=r.get(i);n.has(this)||n.add(this),cancelAnimationFrame(t),t=requestAnimationFrame(d)}},s.prototype.unobserve=function(i){if(i instanceof window.Element&&r.has(i)){var n=r.get(i);n.has(this)&&(n.delete(this),n.size||(r.delete(i),o.delete(i))),n.size||r.delete(i),o.size||cancelAnimationFrame(t)}},A.DOMRectReadOnly=c,A.ResizeObserver=s,A.ResizeObserverEntry=h,A}; // eslint-disable-line\nmpl.toolbar_items = [[\"Home\", \"Reset original view\", \"fa fa-home icon-home\", \"home\"], [\"Back\", \"Back to previous view\", \"fa fa-arrow-left icon-arrow-left\", \"back\"], [\"Forward\", \"Forward to next view\", \"fa fa-arrow-right icon-arrow-right\", \"forward\"], [\"\", \"\", \"\", \"\"], [\"Pan\", \"Left button pans, Right button zooms\\nx/y fixes axis, CTRL fixes aspect\", \"fa fa-arrows icon-move\", \"pan\"], [\"Zoom\", \"Zoom to rectangle\\nx/y fixes axis, CTRL fixes aspect\", \"fa fa-square-o icon-check-empty\", \"zoom\"], [\"\", \"\", \"\", \"\"], [\"Download\", \"Download plot\", \"fa fa-floppy-o icon-save\", \"download\"]];\n\nmpl.extensions = [\"eps\", \"jpeg\", \"pgf\", \"pdf\", \"png\", \"ps\", \"raw\", \"svg\", \"tif\"];\n\nmpl.default_extension = \"png\";/* global mpl */\n\nvar comm_websocket_adapter = function (comm) {\n    // Create a \"websocket\"-like object which calls the given IPython comm\n    // object with the appropriate methods. Currently this is a non binary\n    // socket, so there is still some room for performance tuning.\n    var ws = {};\n\n    ws.binaryType = comm.kernel.ws.binaryType;\n    ws.readyState = comm.kernel.ws.readyState;\n    function updateReadyState(_event) {\n        if (comm.kernel.ws) {\n            ws.readyState = comm.kernel.ws.readyState;\n        } else {\n            ws.readyState = 3; // Closed state.\n        }\n    }\n    comm.kernel.ws.addEventListener('open', updateReadyState);\n    comm.kernel.ws.addEventListener('close', updateReadyState);\n    comm.kernel.ws.addEventListener('error', updateReadyState);\n\n    ws.close = function () {\n        comm.close();\n    };\n    ws.send = function (m) {\n        //console.log('sending', m);\n        comm.send(m);\n    };\n    // Register the callback with on_msg.\n    comm.on_msg(function (msg) {\n        //console.log('receiving', msg['content']['data'], msg);\n        var data = msg['content']['data'];\n        if (data['blob'] !== undefined) {\n            data = {\n                data: new Blob(msg['buffers'], { type: data['blob'] }),\n            };\n        }\n        // Pass the mpl event to the overridden (by mpl) onmessage function.\n        ws.onmessage(data);\n    });\n    return ws;\n};\n\nmpl.mpl_figure_comm = function (comm, msg) {\n    // This is the function which gets called when the mpl process\n    // starts-up an IPython Comm through the \"matplotlib\" channel.\n\n    var id = msg.content.data.id;\n    // Get hold of the div created by the display call when the Comm\n    // socket was opened in Python.\n    var element = document.getElementById(id);\n    var ws_proxy = comm_websocket_adapter(comm);\n\n    function ondownload(figure, _format) {\n        window.open(figure.canvas.toDataURL());\n    }\n\n    var fig = new mpl.figure(id, ws_proxy, ondownload, element);\n\n    // Call onopen now - mpl needs it, as it is assuming we've passed it a real\n    // web socket which is closed, not our websocket->open comm proxy.\n    ws_proxy.onopen();\n\n    fig.parent_element = element;\n    fig.cell_info = mpl.find_output_cell(\"<div id='\" + id + \"'></div>\");\n    if (!fig.cell_info) {\n        console.error('Failed to find cell for figure', id, fig);\n        return;\n    }\n    fig.cell_info[0].output_area.element.on(\n        'cleared',\n        { fig: fig },\n        fig._remove_fig_handler\n    );\n};\n\nmpl.figure.prototype.handle_close = function (fig, msg) {\n    var width = fig.canvas.width / fig.ratio;\n    fig.cell_info[0].output_area.element.off(\n        'cleared',\n        fig._remove_fig_handler\n    );\n    fig.resizeObserverInstance.unobserve(fig.canvas_div);\n\n    // Update the output cell to use the data from the current canvas.\n    fig.push_to_output();\n    var dataURL = fig.canvas.toDataURL();\n    // Re-enable the keyboard manager in IPython - without this line, in FF,\n    // the notebook keyboard shortcuts fail.\n    IPython.keyboard_manager.enable();\n    fig.parent_element.innerHTML =\n        '<img src=\"' + dataURL + '\" width=\"' + width + '\">';\n    fig.close_ws(fig, msg);\n};\n\nmpl.figure.prototype.close_ws = function (fig, msg) {\n    fig.send_message('closing', msg);\n    // fig.ws.close()\n};\n\nmpl.figure.prototype.push_to_output = function (_remove_interactive) {\n    // Turn the data on the canvas into data in the output cell.\n    var width = this.canvas.width / this.ratio;\n    var dataURL = this.canvas.toDataURL();\n    this.cell_info[1]['text/html'] =\n        '<img src=\"' + dataURL + '\" width=\"' + width + '\">';\n};\n\nmpl.figure.prototype.updated_canvas_event = function () {\n    // Tell IPython that the notebook contents must change.\n    IPython.notebook.set_dirty(true);\n    this.send_message('ack', {});\n    var fig = this;\n    // Wait a second, then push the new image to the DOM so\n    // that it is saved nicely (might be nice to debounce this).\n    setTimeout(function () {\n        fig.push_to_output();\n    }, 1000);\n};\n\nmpl.figure.prototype._init_toolbar = function () {\n    var fig = this;\n\n    var toolbar = document.createElement('div');\n    toolbar.classList = 'btn-toolbar';\n    this.root.appendChild(toolbar);\n\n    function on_click_closure(name) {\n        return function (_event) {\n            return fig.toolbar_button_onclick(name);\n        };\n    }\n\n    function on_mouseover_closure(tooltip) {\n        return function (event) {\n            if (!event.currentTarget.disabled) {\n                return fig.toolbar_button_onmouseover(tooltip);\n            }\n        };\n    }\n\n    fig.buttons = {};\n    var buttonGroup = document.createElement('div');\n    buttonGroup.classList = 'btn-group';\n    var button;\n    for (var toolbar_ind in mpl.toolbar_items) {\n        var name = mpl.toolbar_items[toolbar_ind][0];\n        var tooltip = mpl.toolbar_items[toolbar_ind][1];\n        var image = mpl.toolbar_items[toolbar_ind][2];\n        var method_name = mpl.toolbar_items[toolbar_ind][3];\n\n        if (!name) {\n            /* Instead of a spacer, we start a new button group. */\n            if (buttonGroup.hasChildNodes()) {\n                toolbar.appendChild(buttonGroup);\n            }\n            buttonGroup = document.createElement('div');\n            buttonGroup.classList = 'btn-group';\n            continue;\n        }\n\n        button = fig.buttons[name] = document.createElement('button');\n        button.classList = 'btn btn-default';\n        button.href = '#';\n        button.title = name;\n        button.innerHTML = '<i class=\"fa ' + image + ' fa-lg\"></i>';\n        button.addEventListener('click', on_click_closure(method_name));\n        button.addEventListener('mouseover', on_mouseover_closure(tooltip));\n        buttonGroup.appendChild(button);\n    }\n\n    if (buttonGroup.hasChildNodes()) {\n        toolbar.appendChild(buttonGroup);\n    }\n\n    // Add the status bar.\n    var status_bar = document.createElement('span');\n    status_bar.classList = 'mpl-message pull-right';\n    toolbar.appendChild(status_bar);\n    this.message = status_bar;\n\n    // Add the close button to the window.\n    var buttongrp = document.createElement('div');\n    buttongrp.classList = 'btn-group inline pull-right';\n    button = document.createElement('button');\n    button.classList = 'btn btn-mini btn-primary';\n    button.href = '#';\n    button.title = 'Stop Interaction';\n    button.innerHTML = '<i class=\"fa fa-power-off icon-remove icon-large\"></i>';\n    button.addEventListener('click', function (_evt) {\n        fig.handle_close(fig, {});\n    });\n    button.addEventListener(\n        'mouseover',\n        on_mouseover_closure('Stop Interaction')\n    );\n    buttongrp.appendChild(button);\n    var titlebar = this.root.querySelector('.ui-dialog-titlebar');\n    titlebar.insertBefore(buttongrp, titlebar.firstChild);\n};\n\nmpl.figure.prototype._remove_fig_handler = function (event) {\n    var fig = event.data.fig;\n    if (event.target !== this) {\n        // Ignore bubbled events from children.\n        return;\n    }\n    fig.close_ws(fig, {});\n};\n\nmpl.figure.prototype._root_extra_style = function (el) {\n    el.style.boxSizing = 'content-box'; // override notebook setting of border-box.\n};\n\nmpl.figure.prototype._canvas_extra_style = function (el) {\n    // this is important to make the div 'focusable\n    el.setAttribute('tabindex', 0);\n    // reach out to IPython and tell the keyboard manager to turn it's self\n    // off when our div gets focus\n\n    // location in version 3\n    if (IPython.notebook.keyboard_manager) {\n        IPython.notebook.keyboard_manager.register_events(el);\n    } else {\n        // location in version 2\n        IPython.keyboard_manager.register_events(el);\n    }\n};\n\nmpl.figure.prototype._key_event_extra = function (event, _name) {\n    var manager = IPython.notebook.keyboard_manager;\n    if (!manager) {\n        manager = IPython.keyboard_manager;\n    }\n\n    // Check for shift+enter\n    if (event.shiftKey && event.which === 13) {\n        this.canvas_div.blur();\n        // select the cell after this one\n        var index = IPython.notebook.find_cell_index(this.cell_info[0]);\n        IPython.notebook.select(index + 1);\n    }\n};\n\nmpl.figure.prototype.handle_save = function (fig, _msg) {\n    fig.ondownload(fig, null);\n};\n\nmpl.find_output_cell = function (html_output) {\n    // Return the cell and output element which can be found *uniquely* in the notebook.\n    // Note - this is a bit hacky, but it is done because the \"notebook_saving.Notebook\"\n    // IPython event is triggered only after the cells have been serialised, which for\n    // our purposes (turning an active figure into a static one), is too late.\n    var cells = IPython.notebook.get_cells();\n    var ncells = cells.length;\n    for (var i = 0; i < ncells; i++) {\n        var cell = cells[i];\n        if (cell.cell_type === 'code') {\n            for (var j = 0; j < cell.output_area.outputs.length; j++) {\n                var data = cell.output_area.outputs[j];\n                if (data.data) {\n                    // IPython >= 3 moved mimebundle to data attribute of output\n                    data = data.data;\n                }\n                if (data['text/html'] === html_output) {\n                    return [cell, data, j];\n                }\n            }\n        }\n    }\n};\n\n// Register the function which deals with the matplotlib target/channel.\n// The kernel may be null if the page has been refreshed.\nif (IPython.notebook.kernel !== null) {\n    IPython.notebook.kernel.comm_manager.register_target(\n        'matplotlib',\n        mpl.mpl_figure_comm\n    );\n}\n",
          "text/plain": "<IPython.core.display.Javascript object>"
         },
         "metadata": {},
         "output_type": "display_data"
        },
        {
         "data": {
          "text/html": "<div id='afdad07e-0832-4bf0-8551-e6f5d1879f18'></div>",
          "text/plain": "<IPython.core.display.HTML object>"
         },
         "metadata": {},
         "output_type": "display_data"
        }
       ]
      }
     },
     "9ea28f40909340e0958d64ac44abcdd7": {
      "model_module": "@jupyter-widgets/controls",
      "model_module_version": "1.5.0",
      "model_name": "SliderStyleModel",
      "state": {
       "_model_module": "@jupyter-widgets/controls",
       "_model_module_version": "1.5.0",
       "_model_name": "SliderStyleModel",
       "_view_count": null,
       "_view_module": "@jupyter-widgets/base",
       "_view_module_version": "1.2.0",
       "_view_name": "StyleView",
       "description_width": "",
       "handle_color": null
      }
     },
     "a9a552310adb4bfd8cc8160645d0cb4b": {
      "model_module": "@jupyter-widgets/base",
      "model_module_version": "1.2.0",
      "model_name": "LayoutModel",
      "state": {
       "_model_module": "@jupyter-widgets/base",
       "_model_module_version": "1.2.0",
       "_model_name": "LayoutModel",
       "_view_count": null,
       "_view_module": "@jupyter-widgets/base",
       "_view_module_version": "1.2.0",
       "_view_name": "LayoutView",
       "align_content": null,
       "align_items": null,
       "align_self": null,
       "border": null,
       "bottom": null,
       "display": null,
       "flex": null,
       "flex_flow": null,
       "grid_area": null,
       "grid_auto_columns": null,
       "grid_auto_flow": null,
       "grid_auto_rows": null,
       "grid_column": null,
       "grid_gap": null,
       "grid_row": null,
       "grid_template_areas": null,
       "grid_template_columns": null,
       "grid_template_rows": null,
       "height": null,
       "justify_content": null,
       "justify_items": null,
       "left": null,
       "margin": null,
       "max_height": null,
       "max_width": null,
       "min_height": null,
       "min_width": null,
       "object_fit": null,
       "object_position": null,
       "order": null,
       "overflow": null,
       "overflow_x": null,
       "overflow_y": null,
       "padding": null,
       "right": null,
       "top": null,
       "visibility": null,
       "width": null
      }
     },
     "ad07a58864ca4f38acb77146fa6e4c51": {
      "model_module": "@jupyter-widgets/controls",
      "model_module_version": "1.5.0",
      "model_name": "SliderStyleModel",
      "state": {
       "_model_module": "@jupyter-widgets/controls",
       "_model_module_version": "1.5.0",
       "_model_name": "SliderStyleModel",
       "_view_count": null,
       "_view_module": "@jupyter-widgets/base",
       "_view_module_version": "1.2.0",
       "_view_name": "StyleView",
       "description_width": "",
       "handle_color": null
      }
     },
     "cb5c61f76ca24450b6b433def308b42f": {
      "model_module": "@jupyter-widgets/output",
      "model_module_version": "1.0.0",
      "model_name": "OutputModel",
      "state": {
       "_dom_classes": [],
       "_model_module": "@jupyter-widgets/output",
       "_model_module_version": "1.0.0",
       "_model_name": "OutputModel",
       "_view_count": null,
       "_view_module": "@jupyter-widgets/output",
       "_view_module_version": "1.0.0",
       "_view_name": "OutputView",
       "layout": "IPY_MODEL_57f4a5a1d68d4d128f5a367a3d2d2102",
       "msg_id": "",
       "outputs": []
      }
     },
     "f78f8115786f49c89f7261b1b5453f8e": {
      "model_module": "@jupyter-widgets/controls",
      "model_module_version": "1.5.0",
      "model_name": "FloatSliderModel",
      "state": {
       "_dom_classes": [],
       "_model_module": "@jupyter-widgets/controls",
       "_model_module_version": "1.5.0",
       "_model_name": "FloatSliderModel",
       "_view_count": null,
       "_view_module": "@jupyter-widgets/controls",
       "_view_module_version": "1.5.0",
       "_view_name": "FloatSliderView",
       "continuous_update": true,
       "description": "v",
       "description_tooltip": null,
       "disabled": false,
       "layout": "IPY_MODEL_a9a552310adb4bfd8cc8160645d0cb4b",
       "max": 3.0,
       "min": -3.0,
       "orientation": "horizontal",
       "readout": true,
       "readout_format": ".2f",
       "step": 0.2,
       "style": "IPY_MODEL_ad07a58864ca4f38acb77146fa6e4c51",
       "value": 0.0
      }
     },
     "fab35b026cc44561b30cf730f1435ad6": {
      "model_module": "@jupyter-widgets/base",
      "model_module_version": "1.2.0",
      "model_name": "LayoutModel",
      "state": {
       "_model_module": "@jupyter-widgets/base",
       "_model_module_version": "1.2.0",
       "_model_name": "LayoutModel",
       "_view_count": null,
       "_view_module": "@jupyter-widgets/base",
       "_view_module_version": "1.2.0",
       "_view_name": "LayoutView",
       "align_content": null,
       "align_items": null,
       "align_self": null,
       "border": null,
       "bottom": null,
       "display": null,
       "flex": null,
       "flex_flow": null,
       "grid_area": null,
       "grid_auto_columns": null,
       "grid_auto_flow": null,
       "grid_auto_rows": null,
       "grid_column": null,
       "grid_gap": null,
       "grid_row": null,
       "grid_template_areas": null,
       "grid_template_columns": null,
       "grid_template_rows": null,
       "height": null,
       "justify_content": null,
       "justify_items": null,
       "left": null,
       "margin": null,
       "max_height": null,
       "max_width": null,
       "min_height": null,
       "min_width": null,
       "object_fit": null,
       "object_position": null,
       "order": null,
       "overflow": null,
       "overflow_x": null,
       "overflow_y": null,
       "padding": null,
       "right": null,
       "top": null,
       "visibility": null,
       "width": null
      }
     }
    },
    "version_major": 2,
    "version_minor": 0
   }
  }
 },
 "nbformat": 4,
 "nbformat_minor": 5
}