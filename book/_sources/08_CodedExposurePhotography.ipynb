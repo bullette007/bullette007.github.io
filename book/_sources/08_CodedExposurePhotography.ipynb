{
 "cells": [
  {
   "cell_type": "code",
   "execution_count": 1,
   "id": "9d48b454",
   "metadata": {
    "init_cell": true,
    "tags": [
     "remove-cell"
    ]
   },
   "outputs": [
    {
     "data": {
      "application/javascript": [
       "var cells = Jupyter.notebook.get_cells();\n",
       "           for (var i = 0; i < cells.length; i++) {\n",
       "               var cur_cell = cells[i];\n",
       "               var tags = cur_cell._metadata.tags;\n",
       "               console.log(i);\n",
       "               console.log(tags == undefined);\n",
       "               console.log(tags);\n",
       "               if (tags != undefined) {\n",
       "               for (var j = 0; j < tags.length; j++) {\n",
       "                  if (tags[j]==\"book_only\" | tags[j]==\"remove-cell\") {cur_cell.element.hide();}}\n",
       "               for (var j = 0; j < tags.length; j++) {\n",
       "                   if (tags[j]==\"presentation_only\") {cur_cell.element.show();}}\n",
       "            }}\n"
      ],
      "text/plain": [
       "<IPython.core.display.Javascript object>"
      ]
     },
     "metadata": {},
     "output_type": "display_data"
    }
   ],
   "source": [
    "%%js\n",
    "var cells = Jupyter.notebook.get_cells();\n",
    "           for (var i = 0; i < cells.length; i++) {\n",
    "               var cur_cell = cells[i];\n",
    "               var tags = cur_cell._metadata.tags;\n",
    "               console.log(i);\n",
    "               console.log(tags == undefined);\n",
    "               console.log(tags);\n",
    "               if (tags != undefined) {\n",
    "               for (var j = 0; j < tags.length; j++) {\n",
    "                  if (tags[j]==\"book_only\" | tags[j]==\"remove-cell\") {cur_cell.element.hide();}}\n",
    "               for (var j = 0; j < tags.length; j++) {\n",
    "                   if (tags[j]==\"presentation_only\") {cur_cell.element.show();}}\n",
    "            }}"
   ]
  },
  {
   "cell_type": "code",
   "execution_count": 2,
   "id": "9f101917",
   "metadata": {
    "init_cell": true,
    "slideshow": {
     "slide_type": "notes"
    },
    "tags": [
     "remove-cell"
    ]
   },
   "outputs": [
    {
     "name": "stderr",
     "output_type": "stream",
     "text": [
      "C:\\Users\\meyjoh\\repos\\vlcompimg\\compimg\\lib\\site-packages\\scipy\\__init__.py:138: UserWarning: A NumPy version >=1.16.5 and <1.23.0 is required for this version of SciPy (detected version 1.23.4)\n",
      "  warnings.warn(f\"A NumPy version >={np_minversion} and <{np_maxversion} is required for this version of \"\n"
     ]
    }
   ],
   "source": [
    "from __future__ import print_function\n",
    "from ipywidgets import interact, interactive, fixed, interact_manual\n",
    "import ipywidgets as widgets\n",
    "import numpy as np\n",
    "import matplotlib.pyplot as plt\n",
    "import cv2\n",
    "import scipy.signal as sig\n",
    "from scipy.integrate import simpson\n",
    "from IPython.display import SVG, display, IFrame, HTML\n",
    "import seaborn as sns\n",
    "import torch\n",
    "from scipy import ndimage\n",
    "from scipy import misc\n",
    "%matplotlib notebook\n",
    "book = False"
   ]
  },
  {
   "cell_type": "code",
   "execution_count": 3,
   "id": "b536b55b",
   "metadata": {
    "tags": [
     "remove-cell"
    ]
   },
   "outputs": [],
   "source": [
    "%matplotlib inline\n",
    "book = True"
   ]
  },
  {
   "cell_type": "code",
   "execution_count": 4,
   "id": "7d11bf06",
   "metadata": {
    "init_cell": true,
    "tags": [
     "remove-cell"
    ]
   },
   "outputs": [
    {
     "data": {
      "application/javascript": [
       "MathJax.Hub.Config({\n",
       "    TeX: { equationNumbers: { autoNumber: \"AMS\" } }\n",
       "});\n"
      ],
      "text/plain": [
       "<IPython.core.display.Javascript object>"
      ]
     },
     "metadata": {},
     "output_type": "display_data"
    }
   ],
   "source": [
    "%%javascript\n",
    "MathJax.Hub.Config({\n",
    "    TeX: { equationNumbers: { autoNumber: \"AMS\" } }\n",
    "});"
   ]
  },
  {
   "cell_type": "code",
   "execution_count": 5,
   "id": "096008e6",
   "metadata": {
    "init_cell": true,
    "tags": [
     "remove-cell"
    ]
   },
   "outputs": [
    {
     "data": {
      "application/javascript": [
       "\n",
       "MathJax.Hub.Queue(\n",
       "  [\"resetEquationNumbers\", MathJax.InputJax.TeX],\n",
       "  [\"PreProcess\", MathJax.Hub],\n",
       "  [\"Reprocess\", MathJax.Hub]\n",
       ");\n"
      ],
      "text/plain": [
       "<IPython.core.display.Javascript object>"
      ]
     },
     "metadata": {},
     "output_type": "display_data"
    }
   ],
   "source": [
    "%%javascript\n",
    "\n",
    "MathJax.Hub.Queue(\n",
    "  [\"resetEquationNumbers\", MathJax.InputJax.TeX],\n",
    "  [\"PreProcess\", MathJax.Hub],\n",
    "  [\"Reprocess\", MathJax.Hub]\n",
    ");"
   ]
  },
  {
   "cell_type": "code",
   "execution_count": 6,
   "id": "263c7420",
   "metadata": {
    "init_cell": true,
    "tags": [
     "remove-cell"
    ]
   },
   "outputs": [],
   "source": [
    "def showFig(path,i,ending, width, height):\n",
    "    filename = path+str(i)+ending\n",
    "    return HTML(\"<img src=\\\"\" + filename +  f\"\\\" style=\\\"max-height:{height}vh\\\"/>\")"
   ]
  },
  {
   "cell_type": "code",
   "execution_count": 7,
   "id": "53ca767a",
   "metadata": {
    "init_cell": true,
    "tags": [
     "remove-cell"
    ]
   },
   "outputs": [],
   "source": [
    "def showFig2(path,i,ending, width, height):\n",
    "    imgToShow = plt.imread(f\"{path}{i}{ending}\")\n",
    "    plt.imshow(imgToShow)"
   ]
  },
  {
   "cell_type": "code",
   "execution_count": 8,
   "id": "768065ac",
   "metadata": {
    "init_cell": true,
    "tags": [
     "remove-cell"
    ]
   },
   "outputs": [],
   "source": [
    "def imshow(img, cmap=None):\n",
    "    plt.close('all')\n",
    "    plt.figure()\n",
    "    plt.imshow(img, cmap=cmap)\n",
    "    plt.show()"
   ]
  },
  {
   "cell_type": "code",
   "execution_count": 9,
   "id": "bcd215e1",
   "metadata": {
    "init_cell": true,
    "tags": [
     "remove-cell"
    ]
   },
   "outputs": [],
   "source": [
    "def imshow2(img, cmap=None):\n",
    "    #plt.close('all')\n",
    "    #plt.figure()\n",
    "    plt.clf()\n",
    "    plt.imshow(img, cmap=cmap)\n",
    "    #plt.show()"
   ]
  },
  {
   "cell_type": "markdown",
   "id": "cc26345e",
   "metadata": {
    "slideshow": {
     "slide_type": "slide"
    }
   },
   "source": [
    "$\\begin{align}\n",
    "  \\newcommand{transp}{^\\intercal}\n",
    "  \\newcommand{F}{\\mathcal{F}}\n",
    "  \\newcommand{Fi}{\\mathcal{F}^{-1}}\n",
    "  \\newcommand{inv}{^{-1}}\n",
    "  \\newcommand{stochvec}[1]{\\mathbf{\\tilde{#1}}}\n",
    "  \\newcommand{argmax}[1]{\\underset{#1}{\\mathrm{arg\\, max}}\\,}\n",
    "  \\newcommand{argmin}[1]{\\underset{#1}{\\mathrm{arg\\, min}}\\,}\n",
    "\\end{align}$\n",
    "\n",
    "<font size=\"7\"> Computational Imaging </font><br><br><br>"
   ]
  },
  {
   "cell_type": "markdown",
   "id": "704c1c65",
   "metadata": {
    "slideshow": {
     "slide_type": "-"
    }
   },
   "source": [
    "# Coded Exposure Photography"
   ]
  },
  {
   "cell_type": "markdown",
   "id": "7ba3ad75",
   "metadata": {
    "slideshow": {
     "slide_type": "subslide"
    }
   },
   "source": [
    "##### Content\n",
    "* Introduction into coded exposure photography\n",
    "* Optical setup for coded exposure photography\n",
    "* Selection of encoding pattern\n",
    "* Reconstruction\n",
    "* Example"
   ]
  },
  {
   "cell_type": "markdown",
   "id": "8e973f40",
   "metadata": {
    "slideshow": {
     "slide_type": "slide"
    }
   },
   "source": [
    "## Introduction into coded exposure photography"
   ]
  },
  {
   "cell_type": "markdown",
   "id": "10fd1f40",
   "metadata": {},
   "source": [
    "When photographing dynamic scenes, moving objects can cause so-called *motion blur* in the captured image depending on the exposure time of the camera.\n",
    "\n",
    "When an object moves during exposure time, its image is smeared over an image region depending on its movement trajectory and its pixel values are blended with those of the stationary background."
   ]
  },
  {
   "cell_type": "markdown",
   "id": "2b2fb86a",
   "metadata": {
    "slideshow": {
     "slide_type": "fragment"
    }
   },
   "source": [
    "The obvious way to mitigate or prevent motion blur is to reduce the exposure time and compensate the reduced light efficiency via:\n",
    "* increased digital amplification (at the cost of amplified noise) or\n",
    "* by providing sufficient artificial illumination (e.g., flashes)."
   ]
  },
  {
   "cell_type": "markdown",
   "id": "3c6e56c8",
   "metadata": {
    "slideshow": {
     "slide_type": "fragment"
    }
   },
   "source": [
    "In this chapter, we will explore a different approach to compensate motion blur that is based on deconvolution. The presented content is based on the paper [Coded Exposure Photography: Motion Deblurring using Fluttered Shutter](https://web.media.mit.edu/~raskar/deblur/CodedExpousreLowres.pdf) by Ramesh Raskar et al.."
   ]
  },
  {
   "cell_type": "markdown",
   "id": "c6732fa0",
   "metadata": {
    "slideshow": {
     "slide_type": "subslide"
    }
   },
   "source": [
    "### Image formation model for motion blur"
   ]
  },
  {
   "cell_type": "markdown",
   "id": "8efc5988",
   "metadata": {},
   "source": [
    "Assume that the observed scene consists of one object moving linearly along some direction with constant speed (can analogously be extended to multiple objects) in front of a black background (i.e., which reflects no light). \n",
    "\n",
    "The corresponding image formation of the blurred observation $g$ can be modeled via a convolution of the sought sharp image $x$ of the object with the motion blur kernel $h$ and some additive noise $n$:\n",
    "\n",
    "$\\begin{align} \n",
    "   g = x*h + n \\,.\n",
    "\\end{align}$\n",
    "\n",
    "The motion blur kernel $h$ then consists of a one-dimensional $\\mathrm{rect}$-function with a width corresponding to the number of pixels that the image of the object moves on the image sensor during one exposure period. The orientation of the $\\mathrm{rect}$-function corresponds to the direction of the linear movement."
   ]
  },
  {
   "cell_type": "markdown",
   "id": "662216cc",
   "metadata": {
    "slideshow": {
     "slide_type": "subslide"
    }
   },
   "source": [
    "##### Example\n",
    "The following shows a simple example of simulated motion blur:"
   ]
  },
  {
   "cell_type": "markdown",
   "id": "b159edff",
   "metadata": {},
   "source": [
    "<img src=\"figures/8/example_convolution_motion_blur.svg\" style=\"max-height:40vh\">"
   ]
  },
  {
   "cell_type": "markdown",
   "id": "1de07d7f",
   "metadata": {
    "slideshow": {
     "slide_type": "subslide"
    }
   },
   "source": [
    "The motion blur kernel $h$ can be modeled as a rotated and translated $\\mathrm{rect}$-function:"
   ]
  },
  {
   "cell_type": "markdown",
   "id": "fb4d7810",
   "metadata": {},
   "source": [
    "<img src=\"figures/8/blur_kernel_line_section.svg\" style=\"max-height:40vh\">"
   ]
  },
  {
   "cell_type": "markdown",
   "id": "f7270b03",
   "metadata": {
    "slideshow": {
     "slide_type": "subslide"
    }
   },
   "source": [
    "Directly trying to reconstruct the latent image $x$ based on such an observation would lead to strong artifacts.\n",
    "\n",
    "This can be seen explained in two ways:"
   ]
  },
  {
   "cell_type": "markdown",
   "id": "43c98def",
   "metadata": {
    "slideshow": {
     "slide_type": "subslide"
    }
   },
   "source": [
    "1. The Fourier transform of the $\\mathrm{rect}(x)$-function is given by $\\mathrm{sinc}(x)=\\frac{\\sin x}{x}$; see the following Figure for a visualization of its graph (logarithm of magnitude of Fourier transform):\n",
    "\n",
    "<img src=\"figures/8/rect_fourier_sinc.svg\" style=\"max-height:40vh\">"
   ]
  },
  {
   "cell_type": "markdown",
   "id": "f33a619e",
   "metadata": {},
   "source": [
    "The spectrum of the $\\mathrm{sinc}$-function is not flat and has many zeros where information is inevitably lost. Inverting a such a deconvolution would strongly amplify certain frequencies (at the positions of the zeros) and hence might also amplify unwanted noise."
   ]
  },
  {
   "cell_type": "markdown",
   "id": "23959bd8",
   "metadata": {
    "slideshow": {
     "slide_type": "subslide"
    }
   },
   "source": [
    "2. The autocorrelation of the $\\mathrm{rect}$-function does not resemble a Dirac-like what is hindering for the reconstruction."
   ]
  },
  {
   "cell_type": "markdown",
   "id": "c765a148",
   "metadata": {
    "slideshow": {
     "slide_type": "fragment"
    }
   },
   "source": [
    "As a consequence, a better encoding strategy has to be found."
   ]
  },
  {
   "cell_type": "markdown",
   "id": "180465c4",
   "metadata": {
    "slideshow": {
     "slide_type": "slide"
    }
   },
   "source": [
    "## Optical setup for coded exposure photography"
   ]
  },
  {
   "cell_type": "markdown",
   "id": "e21b511b",
   "metadata": {
    "slideshow": {
     "slide_type": "subslide"
    }
   },
   "source": [
    "In order to control the exposure modulation, an existing camera can be extended via a programmable shutter that is synchronized with the exposure control of the camera.\n",
    "\n",
    "In the referenced paper, the authors use a programmable LCD as a spatial light modulator placed in front of the main lens of a digital lens reflex camera and simultaneously turn all pixels transparent or opaque to realize an encoding of the exposure."
   ]
  },
  {
   "cell_type": "markdown",
   "id": "46d42630",
   "metadata": {
    "slideshow": {
     "slide_type": "fragment"
    }
   },
   "source": [
    "The whole exposure period $T$ of the camera can be divided into $M$ time slices, so-called *chops* with duration $T/M$.\n",
    "\n",
    "During each chop, the LCD-based shutter is either set to transparent or opaque as stated in a corresponding pattern vector $\\mathbf{p}\\in \\left\\{ 0,1 \\right\\}^M $"
   ]
  },
  {
   "cell_type": "markdown",
   "id": "95a8a03c",
   "metadata": {
    "slideshow": {
     "slide_type": "slide"
    }
   },
   "source": [
    "## Selection of encoding pattern $\\mathbf{p}$"
   ]
  },
  {
   "cell_type": "markdown",
   "id": "74e50228",
   "metadata": {
    "slideshow": {
     "slide_type": "subslide"
    }
   },
   "source": [
    "When searching for an optimal code, two mutual criteria have to be optimized:\n",
    "1. Invertibility (i.e., flat Fourier spectrum and as few zeros as possible), \n",
    "2. light efficiency (i.e., many ones in $\\mathbf{p}$)."
   ]
  },
  {
   "cell_type": "markdown",
   "id": "bd4d4ec1",
   "metadata": {
    "slideshow": {
     "slide_type": "fragment"
    }
   },
   "source": [
    "One possibility to ensure light efficiency is to fix the ratio of ones and zeros in $\\mathbf{p}$ to $1:1$."
   ]
  },
  {
   "cell_type": "markdown",
   "id": "2f67dda9",
   "metadata": {
    "slideshow": {
     "slide_type": "fragment"
    }
   },
   "source": [
    "For a given number $M$ of chops, this design decision sets the set of possible encoding candidates which could be evaluated with respect to criterion 1 (invertibility) in a brute force manner."
   ]
  },
  {
   "cell_type": "markdown",
   "id": "93687027",
   "metadata": {
    "slideshow": {
     "slide_type": "subslide"
    }
   },
   "source": [
    "This has been done by the authors of the referenced paper by means of a randomized linear search for $M=52$. \n",
    "\n",
    "The resulting encoding is\n",
    "$\\begin{align} \n",
    "   \\mathbf{p} = (1010000111000001010000110011110111010111001001100111)\\transp \\,.\n",
    "\\end{align}$"
   ]
  },
  {
   "cell_type": "markdown",
   "id": "09b4a480",
   "metadata": {
    "slideshow": {
     "slide_type": "subslide"
    }
   },
   "source": [
    "The logarithm of the magnitude of the spectrum of that code is shown below (for positive spatial frequencies):\n",
    "\n",
    "<img src=\"figures/8/encoding_spectrum.svg\" style=\"max-height:40vh\">"
   ]
  },
  {
   "cell_type": "markdown",
   "id": "768ed9e8",
   "metadata": {
    "slideshow": {
     "slide_type": "slide"
    }
   },
   "source": [
    "## Reconstruction"
   ]
  },
  {
   "cell_type": "markdown",
   "id": "9b455fb1",
   "metadata": {},
   "source": [
    "The reconstruction can be performed with any suitable deconvolution method (Wiener filter, iterative methods, data-driven methods)."
   ]
  },
  {
   "cell_type": "markdown",
   "id": "9900d5f8",
   "metadata": {
    "slideshow": {
     "slide_type": "subslide"
    }
   },
   "source": [
    "When applied in a practical scenario, there are two open points which have to be addressed:\n",
    "1. The orientation of the encoding line in the motion blur kernel $h$ has to be determined.\n",
    "2. Different regions in the image can be affected by different types of motion blur, i.e., different directions, different movement velocities, no movement (e.g., background) and those regions can also be blended with each other."
   ]
  },
  {
   "cell_type": "markdown",
   "id": "94dbbc16",
   "metadata": {
    "slideshow": {
     "slide_type": "fragment"
    }
   },
   "source": [
    "Point 1 can be solved by prompting the user to estimate the movement direction and length (in pixels).\n",
    "\n",
    "Both points can be addressed simultaneously by employing methods for locally estimating the blur PSF, i.e., with respect to the pixel position."
   ]
  },
  {
   "cell_type": "markdown",
   "id": "1bc5b9de",
   "metadata": {
    "slideshow": {
     "slide_type": "slide"
    }
   },
   "source": [
    "## Example"
   ]
  },
  {
   "cell_type": "markdown",
   "id": "7206870e",
   "metadata": {},
   "source": [
    "Consider again the following example image:\n",
    "\n",
    "<img src=\"figures/8/tree.png\" style=\"max-height:40vh\">"
   ]
  },
  {
   "cell_type": "markdown",
   "id": "a6e058c3",
   "metadata": {
    "slideshow": {
     "slide_type": "subslide"
    }
   },
   "source": [
    "We simulate a horizontal motion blur by convolving with a 52 pixel width conventional $\\mathrm{rect}$-like kernel and with kernel encoded according to the previously mentioned pattern:"
   ]
  },
  {
   "cell_type": "markdown",
   "id": "c208aa84",
   "metadata": {},
   "source": [
    "<img src=\"figures/8/observation_motion_blur_different_kernels.svg\" style=\"max-height:40vh\">"
   ]
  },
  {
   "cell_type": "markdown",
   "id": "68d0110d",
   "metadata": {
    "slideshow": {
     "slide_type": "subslide"
    }
   },
   "source": [
    "For both images, we add Gaussian noise of different levels and try to reconstruct the undistorted image with a Wiener filter using the introduced heuristic for estimating the signal-to-noise ratio.\n",
    "\n",
    "By this means, we achieve the following qualitative results:"
   ]
  },
  {
   "cell_type": "code",
   "execution_count": 10,
   "id": "193cd2e4",
   "metadata": {
    "init_cell": true,
    "slideshow": {
     "slide_type": "subslide"
    }
   },
   "outputs": [
    {
     "data": {
      "application/vnd.jupyter.widget-view+json": {
       "model_id": "5aae1b04dfcd4dfdb1005bbf1ba4250c",
       "version_major": 2,
       "version_minor": 0
      },
      "text/plain": [
       "interactive(children=(IntSlider(value=5, description='i', max=5), Output()), _dom_classes=('widget-interact',)…"
      ]
     },
     "metadata": {},
     "output_type": "display_data"
    },
    {
     "data": {
      "text/plain": [
       "<function __main__.<lambda>(i)>"
      ]
     },
     "execution_count": 10,
     "metadata": {},
     "output_type": "execute_result"
    }
   ],
   "source": [
    "interact(lambda i: showFig('figures/8/motion_deblur_results_',i,'.svg',800,50), i=widgets.IntSlider(min=(min_i:=0),max=(max_i:=5), step=1, value=(max_i if book else min_i)))"
   ]
  },
  {
   "cell_type": "markdown",
   "id": "cac99994",
   "metadata": {
    "slideshow": {
     "slide_type": "subslide"
    }
   },
   "source": [
    "The results can be evaluated quantitatively by calculating the root mean squared reconstruction error with respect to the undistorted image:\n",
    "\n",
    "<img src=\"figures/8/reconstruction_rmse.svg\" style=\"max-height:40vh\">"
   ]
  },
  {
   "cell_type": "markdown",
   "id": "14c636c4",
   "metadata": {
    "tags": [
     "remove-cell"
    ]
   },
   "source": [
    "##### Archive"
   ]
  },
  {
   "cell_type": "code",
   "execution_count": 11,
   "id": "0f86a535",
   "metadata": {
    "tags": [
     "remove-cell"
    ]
   },
   "outputs": [],
   "source": [
    "h = plt.imread(\"figures/8/example_motion_blur_2.png\")"
   ]
  },
  {
   "cell_type": "code",
   "execution_count": 12,
   "id": "09db9b57",
   "metadata": {
    "tags": [
     "remove-cell"
    ]
   },
   "outputs": [
    {
     "data": {
      "text/plain": [
       "(71, 71)"
      ]
     },
     "execution_count": 12,
     "metadata": {},
     "output_type": "execute_result"
    }
   ],
   "source": [
    "h.shape"
   ]
  },
  {
   "cell_type": "markdown",
   "id": "7018c602",
   "metadata": {
    "tags": [
     "remove-cell"
    ]
   },
   "source": [
    "img = np.float32(misc.face(gray=True))"
   ]
  },
  {
   "cell_type": "code",
   "execution_count": 13,
   "id": "4d9b4182",
   "metadata": {
    "tags": [
     "remove-cell"
    ]
   },
   "outputs": [],
   "source": [
    "img = plt.imread(\"figures/8/tree.png\")"
   ]
  },
  {
   "cell_type": "code",
   "execution_count": 14,
   "id": "c8fb60e6",
   "metadata": {
    "tags": [
     "remove-cell"
    ]
   },
   "outputs": [],
   "source": [
    "img_blurred = ndimage.convolve(img, h, mode='wrap')"
   ]
  },
  {
   "cell_type": "code",
   "execution_count": 15,
   "id": "1b9d41fc",
   "metadata": {
    "tags": [
     "remove-cell"
    ]
   },
   "outputs": [],
   "source": [
    "plt.imsave(\"figures/8/example_motion_blur_tree.png\", img_blurred, cmap='gray')"
   ]
  },
  {
   "cell_type": "code",
   "execution_count": 16,
   "id": "689f1115",
   "metadata": {
    "tags": [
     "remove-cell"
    ]
   },
   "outputs": [
    {
     "data": {
      "image/png": "[encoded data removed]",
      "text/plain": [
       "<Figure size 432x288 with 1 Axes>"
      ]
     },
     "metadata": {
      "filenames": {
       "image/png": "C:\\Users\\meyjoh\\repos\\vlcompimg\\mynewbook\\_build\\jupyter_execute\\08_CodedExposurePhotography_54_0.png"
      },
      "needs_background": "light"
     },
     "output_type": "display_data"
    }
   ],
   "source": [
    "imshow(img_blurred, cmap='gray')"
   ]
  },
  {
   "cell_type": "code",
   "execution_count": 17,
   "id": "b1f33c01",
   "metadata": {
    "tags": [
     "remove-cell"
    ]
   },
   "outputs": [],
   "source": [
    "def mag_square(inp : np.ndarray):\n",
    "    return inp.real**2 + inp.imag**2"
   ]
  },
  {
   "cell_type": "code",
   "execution_count": 18,
   "id": "90b8beb5",
   "metadata": {
    "tags": [
     "remove-cell"
    ]
   },
   "outputs": [],
   "source": [
    "xs = np.linspace(-3, 3, 1001)\n",
    "ys = np.zeros_like(xs)\n",
    "ys[(xs >= -1) & (xs <= 1)] = 1"
   ]
  },
  {
   "cell_type": "code",
   "execution_count": 19,
   "id": "a85a86a6",
   "metadata": {
    "tags": [
     "remove-cell"
    ]
   },
   "outputs": [],
   "source": [
    "ys = np.array([1,0,1,0,0,0,0,1,1,1,0,0,0,0,0,1,0,1,0,0,0,0,1,1,0,0,1,1,1,1,0,1,1,1,0,1,0,1,1,1,0,0,1,0,0,1,1,0,0,1,1,1])\n",
    "ys = np.pad(ys, (100,101))\n",
    "xs = np.arange(0,len(ys))\n",
    "xs = xs - int(len(xs)/2)"
   ]
  },
  {
   "cell_type": "code",
   "execution_count": 20,
   "id": "e5e7ed77",
   "metadata": {
    "tags": [
     "remove-cell"
    ]
   },
   "outputs": [
    {
     "data": {
      "text/plain": [
       "<matplotlib.lines.Line2D at 0x13a40f82130>"
      ]
     },
     "execution_count": 20,
     "metadata": {},
     "output_type": "execute_result"
    },
    {
     "data": {
      "image/png": "[encoded data removed]",
      "text/plain": [
       "<Figure size 432x288 with 1 Axes>"
      ]
     },
     "metadata": {
      "filenames": {
       "image/png": "C:\\Users\\meyjoh\\repos\\vlcompimg\\mynewbook\\_build\\jupyter_execute\\08_CodedExposurePhotography_58_1.png"
      },
      "needs_background": "light"
     },
     "output_type": "display_data"
    }
   ],
   "source": [
    "plt.figure()\n",
    "plt.plot(xs,ys)\n",
    "plt.axhline(0, color='k', linestyle=\":\")\n",
    "plt.axvline(0, color='k', linestyle=\":\")"
   ]
  },
  {
   "cell_type": "code",
   "execution_count": 21,
   "id": "17dac95d",
   "metadata": {
    "tags": [
     "remove-cell"
    ]
   },
   "outputs": [
    {
     "data": {
      "text/plain": [
       "<Figure size 432x288 with 0 Axes>"
      ]
     },
     "metadata": {},
     "output_type": "display_data"
    }
   ],
   "source": [
    "plt.savefig(\"rect.svg\")"
   ]
  },
  {
   "cell_type": "code",
   "execution_count": 22,
   "id": "3a1bd486",
   "metadata": {
    "tags": [
     "remove-cell"
    ]
   },
   "outputs": [
    {
     "data": {
      "text/plain": [
       "<matplotlib.lines.Line2D at 0x13a4300af40>"
      ]
     },
     "execution_count": 22,
     "metadata": {},
     "output_type": "execute_result"
    },
    {
     "data": {
      "image/png": "[encoded data removed]",
      "text/plain": [
       "<Figure size 432x288 with 1 Axes>"
      ]
     },
     "metadata": {
      "filenames": {
       "image/png": "C:\\Users\\meyjoh\\repos\\vlcompimg\\mynewbook\\_build\\jupyter_execute\\08_CodedExposurePhotography_60_1.png"
      },
      "needs_background": "light"
     },
     "output_type": "display_data"
    }
   ],
   "source": [
    "plt.figure()\n",
    "plt.plot(xs,(np.log(mag_square(np.fft.fftshift(np.fft.fft(np.fft.ifftshift(ys)))))))\n",
    "plt.axhline(0, color='k', linestyle=\":\")\n",
    "plt.axvline(0, color='k', linestyle=\":\")"
   ]
  },
  {
   "cell_type": "code",
   "execution_count": 23,
   "id": "e2555d47",
   "metadata": {
    "tags": [
     "remove-cell"
    ]
   },
   "outputs": [
    {
     "data": {
      "text/plain": [
       "<Figure size 432x288 with 0 Axes>"
      ]
     },
     "metadata": {},
     "output_type": "display_data"
    }
   ],
   "source": [
    "plt.savefig(\"code_spectrum.svg\")"
   ]
  },
  {
   "cell_type": "code",
   "execution_count": 24,
   "id": "cabacf75",
   "metadata": {
    "tags": [
     "remove-cell"
    ]
   },
   "outputs": [
    {
     "data": {
      "text/plain": [
       "[<matplotlib.lines.Line2D at 0x13a43077e80>]"
      ]
     },
     "execution_count": 24,
     "metadata": {},
     "output_type": "execute_result"
    },
    {
     "data": {
      "image/png": "[encoded data removed]",
      "text/plain": [
       "<Figure size 432x288 with 1 Axes>"
      ]
     },
     "metadata": {
      "filenames": {
       "image/png": "C:\\Users\\meyjoh\\repos\\vlcompimg\\mynewbook\\_build\\jupyter_execute\\08_CodedExposurePhotography_62_1.png"
      },
      "needs_background": "light"
     },
     "output_type": "display_data"
    }
   ],
   "source": [
    "plt.figure()\n",
    "plt.plot(np.correlate(ys,ys, mode=\"full\"))"
   ]
  },
  {
   "cell_type": "code",
   "execution_count": 25,
   "id": "91325c18",
   "metadata": {
    "tags": [
     "remove-cell"
    ]
   },
   "outputs": [
    {
     "data": {
      "text/plain": [
       "[<matplotlib.lines.Line2D at 0x13a430e81c0>]"
      ]
     },
     "execution_count": 25,
     "metadata": {},
     "output_type": "execute_result"
    },
    {
     "data": {
      "image/png": "[encoded data removed]",
      "text/plain": [
       "<Figure size 432x288 with 1 Axes>"
      ]
     },
     "metadata": {
      "filenames": {
       "image/png": "C:\\Users\\meyjoh\\repos\\vlcompimg\\mynewbook\\_build\\jupyter_execute\\08_CodedExposurePhotography_63_1.png"
      },
      "needs_background": "light"
     },
     "output_type": "display_data"
    }
   ],
   "source": [
    "plt.figure()\n",
    "ys2 = np.random.randint(0,2,1001)\n",
    "plt.plot(np.correlate(ys2,ys2, mode=\"full\"))"
   ]
  },
  {
   "cell_type": "code",
   "execution_count": 26,
   "id": "ea86f36d",
   "metadata": {
    "tags": [
     "remove-cell"
    ]
   },
   "outputs": [],
   "source": [
    "def make_odd_shapes(inp : np.ndarray) -> np.ndarray:\n",
    "    if (inp.shape[0] % 2 == 0):\n",
    "        inp = inp[0:-1,:]\n",
    "    if (inp.shape[1] % 2 == 0):\n",
    "        inp = inp[:,0:-1]\n",
    "    return inp"
   ]
  },
  {
   "cell_type": "code",
   "execution_count": 27,
   "id": "a172df64",
   "metadata": {
    "tags": [
     "remove-cell"
    ]
   },
   "outputs": [],
   "source": [
    "def pad_like(inp : np.ndarray, like : np.ndarray):\n",
    "    to_pad = tuple(np.int32((np.array(like.shape) - np.array(inp.shape))/2))\n",
    "    return np.pad(inp, ((to_pad[0], to_pad[0]), (to_pad[1], to_pad[1])))"
   ]
  },
  {
   "cell_type": "code",
   "execution_count": 28,
   "id": "f6a78962",
   "metadata": {
    "tags": [
     "remove-cell"
    ]
   },
   "outputs": [],
   "source": [
    "def wiener_filter(g:np.ndarray, h:np.ndarray) -> np.ndarray:\n",
    "    g_fft = np.fft.fft2(g)\n",
    "    h_padded = pad_like(h, g)\n",
    "    h_fft = np.fft.fft2(np.fft.ifftshift(h_padded))\n",
    "    \n",
    "    X,Y = np.meshgrid(np.arange(1,g.shape[1]+1), np.arange(1,g.shape[0]+1))\n",
    "    \n",
    "    snr = (1 / np.sqrt(X**2 + Y**2))\n",
    "    \n",
    "    inv_fft = g_fft * np.conjugate(h_fft) / (mag_square(h_fft) + snr)\n",
    "    return np.real(np.fft.ifft2(inv_fft))"
   ]
  },
  {
   "cell_type": "code",
   "execution_count": 29,
   "id": "c190d93d",
   "metadata": {
    "tags": [
     "remove-cell"
    ]
   },
   "outputs": [],
   "source": [
    "h_encoded = np.array([1,0,1,0,0,0,0,1,1,1,0,0,0,0,0,1,0,1,0,0,0,0,1,1,0,0,1,1,1,1,0,1,1,1,0,1,0,1,1,1,0,0,1,0,0,1,1,0,0,1,1,1])\n",
    "h_normal = np.ones_like(h_encoded)\n",
    "\n",
    "h_encoded = np.pad(h_encoded, (2,1))\n",
    "h_normal = np.pad(h_normal, (2,1))\n",
    "\n",
    "h_encoded = np.vstack((np.zeros_like(h_encoded),h_encoded, np.zeros_like(h_encoded)))\n",
    "h_normal = np.vstack((np.zeros_like(h_normal),h_normal, np.zeros_like(h_normal)))"
   ]
  },
  {
   "cell_type": "code",
   "execution_count": 30,
   "id": "0f46a6d8",
   "metadata": {
    "tags": [
     "remove-cell"
    ]
   },
   "outputs": [
    {
     "data": {
      "image/png": "[encoded data removed]",
      "text/plain": [
       "<Figure size 432x288 with 1 Axes>"
      ]
     },
     "metadata": {
      "filenames": {
       "image/png": "C:\\Users\\meyjoh\\repos\\vlcompimg\\mynewbook\\_build\\jupyter_execute\\08_CodedExposurePhotography_68_0.png"
      },
      "needs_background": "light"
     },
     "output_type": "display_data"
    }
   ],
   "source": [
    "imshow(ndimage.convolve(img, h_encoded), cmap='gray')"
   ]
  },
  {
   "cell_type": "code",
   "execution_count": 31,
   "id": "c4029932",
   "metadata": {
    "tags": [
     "remove-cell"
    ]
   },
   "outputs": [],
   "source": [
    "img = make_odd_shapes(img)*255"
   ]
  },
  {
   "cell_type": "code",
   "execution_count": 32,
   "id": "abfe2d18",
   "metadata": {
    "tags": [
     "remove-cell"
    ]
   },
   "outputs": [],
   "source": [
    "sigmas = np.float32(np.array([0,2,4,8,16,32]))  # Standard deviations for Gaussian noise\n",
    "noises = []   # List for observations\n",
    "for sigma in sigmas:\n",
    "    cur_img = np.random.normal(0, sigma, img.shape)\n",
    "    noises.append(cur_img)"
   ]
  },
  {
   "cell_type": "code",
   "execution_count": 33,
   "id": "dbdb6892",
   "metadata": {
    "tags": [
     "remove-cell"
    ]
   },
   "outputs": [],
   "source": [
    "normal_recs = []\n",
    "normal_rms = []\n",
    "encoded_recs = []\n",
    "encoded_rms = []\n",
    "\n",
    "for noise in noises:\n",
    "    g_normal = ndimage.convolve(img, h_normal) + noise\n",
    "    g_encoded = ndimage.convolve(img, h_encoded) + noise\n",
    "    \n",
    "    rec_normal = wiener_filter(g_normal, h_normal)\n",
    "    rec_encoded = wiener_filter(g_encoded, h_encoded)\n",
    "    \n",
    "    normal_recs.append(rec_normal)\n",
    "    encoded_recs.append(rec_encoded)\n",
    "    \n",
    "    normal_rms.append(np.sum(np.sqrt((rec_normal - img)**2)))\n",
    "    encoded_rms.append(np.sum(np.sqrt((rec_encoded - img)**2)))"
   ]
  },
  {
   "cell_type": "code",
   "execution_count": 34,
   "id": "b5d9813b",
   "metadata": {
    "tags": [
     "remove-cell"
    ]
   },
   "outputs": [
    {
     "data": {
      "image/png": "[encoded data removed]",
      "text/plain": [
       "<Figure size 432x288 with 1 Axes>"
      ]
     },
     "metadata": {
      "filenames": {
       "image/png": "C:\\Users\\meyjoh\\repos\\vlcompimg\\mynewbook\\_build\\jupyter_execute\\08_CodedExposurePhotography_72_0.png"
      },
      "needs_background": "light"
     },
     "output_type": "display_data"
    }
   ],
   "source": [
    "plt.figure()\n",
    "plt.plot(encoded_rms, 'b+', label=\"with encoding\")\n",
    "plt.plot(normal_rms, 'r+', label=\"without encoding\")\n",
    "plt.xticks(np.arange(0,len(sigmas)), sigmas)\n",
    "plt.xlabel(\"$\\sigma$\")\n",
    "plt.ylabel(\"RMS reconstruction error\")\n",
    "plt.legend()\n",
    "plt.savefig(\"reconstruction_rmse.svg\")"
   ]
  },
  {
   "cell_type": "code",
   "execution_count": 35,
   "id": "0aa42c87",
   "metadata": {
    "tags": [
     "remove-cell"
    ]
   },
   "outputs": [],
   "source": [
    "def show_reconst(i):\n",
    "    plt.subplot(1,2,1)\n",
    "    plt.imshow(normal_recs[i], cmap='gray')\n",
    "    plt.title(f\"Reconstruction for\\n conventional kernel\\n for $\\sigma$ = {sigmas[i]}\")\n",
    "    plt.subplot(1,2,2)\n",
    "    plt.imshow(encoded_recs[i], cmap='gray')\n",
    "    plt.title(f\"Reconstruction for\\n encoding kernel\\n for $\\sigma$ = {sigmas[i]}\")"
   ]
  },
  {
   "cell_type": "code",
   "execution_count": 36,
   "id": "91e0e210",
   "metadata": {
    "tags": [
     "remove-cell"
    ]
   },
   "outputs": [
    {
     "data": {
      "text/plain": [
       "<Figure size 432x288 with 0 Axes>"
      ]
     },
     "metadata": {},
     "output_type": "display_data"
    },
    {
     "data": {
      "application/vnd.jupyter.widget-view+json": {
       "model_id": "439727f6e3e840f38824e70b98c7b0b3",
       "version_major": 2,
       "version_minor": 0
      },
      "text/plain": [
       "interactive(children=(IntSlider(value=5, description='i', max=5), Output()), _dom_classes=('widget-interact',)…"
      ]
     },
     "metadata": {},
     "output_type": "display_data"
    },
    {
     "data": {
      "text/plain": [
       "<function __main__.<lambda>(i)>"
      ]
     },
     "execution_count": 36,
     "metadata": {},
     "output_type": "execute_result"
    }
   ],
   "source": [
    "plt.figure()\n",
    "interact(lambda i: show_reconst(i), i=widgets.IntSlider(min=(min_i:=0),max=(max_i:=len(encoded_recs)-1), step=1, value=(max_i if book else min_i)))"
   ]
  },
  {
   "cell_type": "code",
   "execution_count": 37,
   "id": "51d7ed6d",
   "metadata": {
    "tags": [
     "remove-cell"
    ]
   },
   "outputs": [
    {
     "data": {
      "image/png": "[encoded data removed]",
      "text/plain": [
       "<Figure size 432x288 with 2 Axes>"
      ]
     },
     "metadata": {
      "filenames": {
       "image/png": "C:\\Users\\meyjoh\\repos\\vlcompimg\\mynewbook\\_build\\jupyter_execute\\08_CodedExposurePhotography_75_0.png"
      },
      "needs_background": "light"
     },
     "output_type": "display_data"
    }
   ],
   "source": [
    "plt.figure()\n",
    "for i in range(0,len(encoded_recs)):\n",
    "    show_reconst(i)\n",
    "    plt.savefig(f\"motion_deblur_results_{i}.svg\")"
   ]
  },
  {
   "cell_type": "code",
   "execution_count": 38,
   "id": "e0cb3c68",
   "metadata": {
    "tags": [
     "remove-cell"
    ]
   },
   "outputs": [
    {
     "data": {
      "text/plain": [
       "Text(0.5, 1.0, 'Observed image for\\n encoded kernel')"
      ]
     },
     "execution_count": 38,
     "metadata": {},
     "output_type": "execute_result"
    },
    {
     "data": {
      "image/png": "[encoded data removed]",
      "text/plain": [
       "<Figure size 432x288 with 2 Axes>"
      ]
     },
     "metadata": {
      "filenames": {
       "image/png": "C:\\Users\\meyjoh\\repos\\vlcompimg\\mynewbook\\_build\\jupyter_execute\\08_CodedExposurePhotography_76_1.png"
      },
      "needs_background": "light"
     },
     "output_type": "display_data"
    }
   ],
   "source": [
    "plt.figure()\n",
    "plt.subplot(1,2,1)\n",
    "plt.imshow(ndimage.convolve(img, h_normal), cmap='gray')\n",
    "plt.title(f\"Observed image for\\n conventional kernel\")\n",
    "plt.subplot(1,2,2)\n",
    "plt.imshow(ndimage.convolve(img, h_encoded), cmap='gray')\n",
    "plt.title(f\"Observed image for\\n encoded kernel\")"
   ]
  },
  {
   "cell_type": "code",
   "execution_count": 39,
   "id": "7b220d01",
   "metadata": {
    "tags": [
     "remove-cell"
    ]
   },
   "outputs": [
    {
     "data": {
      "text/plain": [
       "<Figure size 432x288 with 0 Axes>"
      ]
     },
     "metadata": {},
     "output_type": "display_data"
    }
   ],
   "source": [
    "plt.savefig(\"observation_motion_blur_different_kernels.svg\")"
   ]
  },
  {
   "cell_type": "code",
   "execution_count": null,
   "id": "52042a59",
   "metadata": {
    "tags": [
     "remove-cell"
    ]
   },
   "outputs": [],
   "source": []
  }
 ],
 "metadata": {
  "jupytext": {
   "formats": "ipynb,md:myst",
   "text_representation": {
    "extension": ".md",
    "format_name": "myst",
    "format_version": 0.13,
    "jupytext_version": "1.14.1"
   }
  },
  "kernelspec": {
   "display_name": "compimg",
   "language": "python",
   "name": "compimg"
  },
  "language_info": {
   "codemirror_mode": {
    "name": "ipython",
    "version": 3
   },
   "file_extension": ".py",
   "mimetype": "text/x-python",
   "name": "python",
   "nbconvert_exporter": "python",
   "pygments_lexer": "ipython3",
   "version": "3.8.10"
  },
  "source_map": [
   15,
   35,
   59,
   66,
   76,
   89,
   98,
   107,
   118,
   130,
   144,
   148,
   157,
   161,
   167,
   173,
   177,
   181,
   193,
   198,
   202,
   206,
   210,
   216,
   222,
   226,
   230,
   234,
   238,
   244,
   250,
   254,
   260,
   264,
   268,
   277,
   283,
   287,
   291,
   297,
   303,
   307,
   313,
   317,
   321,
   327,
   336,
   342,
   346,
   352,
   358,
   362,
   368,
   374,
   380,
   386,
   393,
   401,
   410,
   419,
   425,
   434,
   440,
   447,
   455,
   466,
   474,
   490,
   503,
   509,
   515,
   525,
   547,
   560,
   572,
   579,
   588,
   600,
   606
  ],
  "widgets": {
   "application/vnd.jupyter.widget-state+json": {
    "state": {
     "07d509e57dc44d55a5a549f0447f7fc8": {
      "model_module": "@jupyter-widgets/controls",
      "model_module_version": "1.5.0",
      "model_name": "SliderStyleModel",
      "state": {
       "_model_module": "@jupyter-widgets/controls",
       "_model_module_version": "1.5.0",
       "_model_name": "SliderStyleModel",
       "_view_count": null,
       "_view_module": "@jupyter-widgets/base",
       "_view_module_version": "1.2.0",
       "_view_name": "StyleView",
       "description_width": "",
       "handle_color": null
      }
     },
     "1a2c6ea4227744118eb3573bffcb7d6c": {
      "model_module": "@jupyter-widgets/controls",
      "model_module_version": "1.5.0",
      "model_name": "IntSliderModel",
      "state": {
       "_dom_classes": [],
       "_model_module": "@jupyter-widgets/controls",
       "_model_module_version": "1.5.0",
       "_model_name": "IntSliderModel",
       "_view_count": null,
       "_view_module": "@jupyter-widgets/controls",
       "_view_module_version": "1.5.0",
       "_view_name": "IntSliderView",
       "continuous_update": true,
       "description": "i",
       "description_tooltip": null,
       "disabled": false,
       "layout": "IPY_MODEL_5a2549e9d93241c2b4e02fcdebf687df",
       "max": 5,
       "min": 0,
       "orientation": "horizontal",
       "readout": true,
       "readout_format": "d",
       "step": 1,
       "style": "IPY_MODEL_567a21e1826e41928260f750b4617c9b",
       "value": 5
      }
     },
     "2608a3ee545845f59c4eeb88b269a895": {
      "model_module": "@jupyter-widgets/output",
      "model_module_version": "1.0.0",
      "model_name": "OutputModel",
      "state": {
       "_dom_classes": [],
       "_model_module": "@jupyter-widgets/output",
       "_model_module_version": "1.0.0",
       "_model_name": "OutputModel",
       "_view_count": null,
       "_view_module": "@jupyter-widgets/output",
       "_view_module_version": "1.0.0",
       "_view_name": "OutputView",
       "layout": "IPY_MODEL_9897e251cad54efc80bf60529cf62939",
       "msg_id": "",
       "outputs": [
        {
         "data": {
          "image/png": "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\n",
          "text/plain": "<Figure size 432x288 with 2 Axes>"
         },
         "metadata": {
          "needs_background": "light"
         },
         "output_type": "display_data"
        }
       ]
      }
     },
     "42c0301e7fdc4d38b4a3920d8dfe88f6": {
      "model_module": "@jupyter-widgets/output",
      "model_module_version": "1.0.0",
      "model_name": "OutputModel",
      "state": {
       "_dom_classes": [],
       "_model_module": "@jupyter-widgets/output",
       "_model_module_version": "1.0.0",
       "_model_name": "OutputModel",
       "_view_count": null,
       "_view_module": "@jupyter-widgets/output",
       "_view_module_version": "1.0.0",
       "_view_name": "OutputView",
       "layout": "IPY_MODEL_a8bfeac98bc94429994f97d82a432914",
       "msg_id": "",
       "outputs": [
        {
         "data": {
          "text/html": "<img src=\"figures/8/motion_deblur_results_5.svg\" style=\"max-height:50vh\"/>",
          "text/plain": "<IPython.core.display.HTML object>"
         },
         "metadata": {},
         "output_type": "display_data"
        }
       ]
      }
     },
     "439727f6e3e840f38824e70b98c7b0b3": {
      "model_module": "@jupyter-widgets/controls",
      "model_module_version": "1.5.0",
      "model_name": "VBoxModel",
      "state": {
       "_dom_classes": [
        "widget-interact"
       ],
       "_model_module": "@jupyter-widgets/controls",
       "_model_module_version": "1.5.0",
       "_model_name": "VBoxModel",
       "_view_count": null,
       "_view_module": "@jupyter-widgets/controls",
       "_view_module_version": "1.5.0",
       "_view_name": "VBoxView",
       "box_style": "",
       "children": [
        "IPY_MODEL_1a2c6ea4227744118eb3573bffcb7d6c",
        "IPY_MODEL_2608a3ee545845f59c4eeb88b269a895"
       ],
       "layout": "IPY_MODEL_6305926b12544065878da7cbdee269f8"
      }
     },
     "567a21e1826e41928260f750b4617c9b": {
      "model_module": "@jupyter-widgets/controls",
      "model_module_version": "1.5.0",
      "model_name": "SliderStyleModel",
      "state": {
       "_model_module": "@jupyter-widgets/controls",
       "_model_module_version": "1.5.0",
       "_model_name": "SliderStyleModel",
       "_view_count": null,
       "_view_module": "@jupyter-widgets/base",
       "_view_module_version": "1.2.0",
       "_view_name": "StyleView",
       "description_width": "",
       "handle_color": null
      }
     },
     "5a2549e9d93241c2b4e02fcdebf687df": {
      "model_module": "@jupyter-widgets/base",
      "model_module_version": "1.2.0",
      "model_name": "LayoutModel",
      "state": {
       "_model_module": "@jupyter-widgets/base",
       "_model_module_version": "1.2.0",
       "_model_name": "LayoutModel",
       "_view_count": null,
       "_view_module": "@jupyter-widgets/base",
       "_view_module_version": "1.2.0",
       "_view_name": "LayoutView",
       "align_content": null,
       "align_items": null,
       "align_self": null,
       "border": null,
       "bottom": null,
       "display": null,
       "flex": null,
       "flex_flow": null,
       "grid_area": null,
       "grid_auto_columns": null,
       "grid_auto_flow": null,
       "grid_auto_rows": null,
       "grid_column": null,
       "grid_gap": null,
       "grid_row": null,
       "grid_template_areas": null,
       "grid_template_columns": null,
       "grid_template_rows": null,
       "height": null,
       "justify_content": null,
       "justify_items": null,
       "left": null,
       "margin": null,
       "max_height": null,
       "max_width": null,
       "min_height": null,
       "min_width": null,
       "object_fit": null,
       "object_position": null,
       "order": null,
       "overflow": null,
       "overflow_x": null,
       "overflow_y": null,
       "padding": null,
       "right": null,
       "top": null,
       "visibility": null,
       "width": null
      }
     },
     "5aae1b04dfcd4dfdb1005bbf1ba4250c": {
      "model_module": "@jupyter-widgets/controls",
      "model_module_version": "1.5.0",
      "model_name": "VBoxModel",
      "state": {
       "_dom_classes": [
        "widget-interact"
       ],
       "_model_module": "@jupyter-widgets/controls",
       "_model_module_version": "1.5.0",
       "_model_name": "VBoxModel",
       "_view_count": null,
       "_view_module": "@jupyter-widgets/controls",
       "_view_module_version": "1.5.0",
       "_view_name": "VBoxView",
       "box_style": "",
       "children": [
        "IPY_MODEL_e0addc0ca76e46588849d599ff3e9e2b",
        "IPY_MODEL_42c0301e7fdc4d38b4a3920d8dfe88f6"
       ],
       "layout": "IPY_MODEL_65b87c5887674e42b1c8176ad13caefd"
      }
     },
     "6305926b12544065878da7cbdee269f8": {
      "model_module": "@jupyter-widgets/base",
      "model_module_version": "1.2.0",
      "model_name": "LayoutModel",
      "state": {
       "_model_module": "@jupyter-widgets/base",
       "_model_module_version": "1.2.0",
       "_model_name": "LayoutModel",
       "_view_count": null,
       "_view_module": "@jupyter-widgets/base",
       "_view_module_version": "1.2.0",
       "_view_name": "LayoutView",
       "align_content": null,
       "align_items": null,
       "align_self": null,
       "border": null,
       "bottom": null,
       "display": null,
       "flex": null,
       "flex_flow": null,
       "grid_area": null,
       "grid_auto_columns": null,
       "grid_auto_flow": null,
       "grid_auto_rows": null,
       "grid_column": null,
       "grid_gap": null,
       "grid_row": null,
       "grid_template_areas": null,
       "grid_template_columns": null,
       "grid_template_rows": null,
       "height": null,
       "justify_content": null,
       "justify_items": null,
       "left": null,
       "margin": null,
       "max_height": null,
       "max_width": null,
       "min_height": null,
       "min_width": null,
       "object_fit": null,
       "object_position": null,
       "order": null,
       "overflow": null,
       "overflow_x": null,
       "overflow_y": null,
       "padding": null,
       "right": null,
       "top": null,
       "visibility": null,
       "width": null
      }
     },
     "65b87c5887674e42b1c8176ad13caefd": {
      "model_module": "@jupyter-widgets/base",
      "model_module_version": "1.2.0",
      "model_name": "LayoutModel",
      "state": {
       "_model_module": "@jupyter-widgets/base",
       "_model_module_version": "1.2.0",
       "_model_name": "LayoutModel",
       "_view_count": null,
       "_view_module": "@jupyter-widgets/base",
       "_view_module_version": "1.2.0",
       "_view_name": "LayoutView",
       "align_content": null,
       "align_items": null,
       "align_self": null,
       "border": null,
       "bottom": null,
       "display": null,
       "flex": null,
       "flex_flow": null,
       "grid_area": null,
       "grid_auto_columns": null,
       "grid_auto_flow": null,
       "grid_auto_rows": null,
       "grid_column": null,
       "grid_gap": null,
       "grid_row": null,
       "grid_template_areas": null,
       "grid_template_columns": null,
       "grid_template_rows": null,
       "height": null,
       "justify_content": null,
       "justify_items": null,
       "left": null,
       "margin": null,
       "max_height": null,
       "max_width": null,
       "min_height": null,
       "min_width": null,
       "object_fit": null,
       "object_position": null,
       "order": null,
       "overflow": null,
       "overflow_x": null,
       "overflow_y": null,
       "padding": null,
       "right": null,
       "top": null,
       "visibility": null,
       "width": null
      }
     },
     "9897e251cad54efc80bf60529cf62939": {
      "model_module": "@jupyter-widgets/base",
      "model_module_version": "1.2.0",
      "model_name": "LayoutModel",
      "state": {
       "_model_module": "@jupyter-widgets/base",
       "_model_module_version": "1.2.0",
       "_model_name": "LayoutModel",
       "_view_count": null,
       "_view_module": "@jupyter-widgets/base",
       "_view_module_version": "1.2.0",
       "_view_name": "LayoutView",
       "align_content": null,
       "align_items": null,
       "align_self": null,
       "border": null,
       "bottom": null,
       "display": null,
       "flex": null,
       "flex_flow": null,
       "grid_area": null,
       "grid_auto_columns": null,
       "grid_auto_flow": null,
       "grid_auto_rows": null,
       "grid_column": null,
       "grid_gap": null,
       "grid_row": null,
       "grid_template_areas": null,
       "grid_template_columns": null,
       "grid_template_rows": null,
       "height": null,
       "justify_content": null,
       "justify_items": null,
       "left": null,
       "margin": null,
       "max_height": null,
       "max_width": null,
       "min_height": null,
       "min_width": null,
       "object_fit": null,
       "object_position": null,
       "order": null,
       "overflow": null,
       "overflow_x": null,
       "overflow_y": null,
       "padding": null,
       "right": null,
       "top": null,
       "visibility": null,
       "width": null
      }
     },
     "a8bfeac98bc94429994f97d82a432914": {
      "model_module": "@jupyter-widgets/base",
      "model_module_version": "1.2.0",
      "model_name": "LayoutModel",
      "state": {
       "_model_module": "@jupyter-widgets/base",
       "_model_module_version": "1.2.0",
       "_model_name": "LayoutModel",
       "_view_count": null,
       "_view_module": "@jupyter-widgets/base",
       "_view_module_version": "1.2.0",
       "_view_name": "LayoutView",
       "align_content": null,
       "align_items": null,
       "align_self": null,
       "border": null,
       "bottom": null,
       "display": null,
       "flex": null,
       "flex_flow": null,
       "grid_area": null,
       "grid_auto_columns": null,
       "grid_auto_flow": null,
       "grid_auto_rows": null,
       "grid_column": null,
       "grid_gap": null,
       "grid_row": null,
       "grid_template_areas": null,
       "grid_template_columns": null,
       "grid_template_rows": null,
       "height": null,
       "justify_content": null,
       "justify_items": null,
       "left": null,
       "margin": null,
       "max_height": null,
       "max_width": null,
       "min_height": null,
       "min_width": null,
       "object_fit": null,
       "object_position": null,
       "order": null,
       "overflow": null,
       "overflow_x": null,
       "overflow_y": null,
       "padding": null,
       "right": null,
       "top": null,
       "visibility": null,
       "width": null
      }
     },
     "cd95c8091a784f8bb5509a22ae60223a": {
      "model_module": "@jupyter-widgets/base",
      "model_module_version": "1.2.0",
      "model_name": "LayoutModel",
      "state": {
       "_model_module": "@jupyter-widgets/base",
       "_model_module_version": "1.2.0",
       "_model_name": "LayoutModel",
       "_view_count": null,
       "_view_module": "@jupyter-widgets/base",
       "_view_module_version": "1.2.0",
       "_view_name": "LayoutView",
       "align_content": null,
       "align_items": null,
       "align_self": null,
       "border": null,
       "bottom": null,
       "display": null,
       "flex": null,
       "flex_flow": null,
       "grid_area": null,
       "grid_auto_columns": null,
       "grid_auto_flow": null,
       "grid_auto_rows": null,
       "grid_column": null,
       "grid_gap": null,
       "grid_row": null,
       "grid_template_areas": null,
       "grid_template_columns": null,
       "grid_template_rows": null,
       "height": null,
       "justify_content": null,
       "justify_items": null,
       "left": null,
       "margin": null,
       "max_height": null,
       "max_width": null,
       "min_height": null,
       "min_width": null,
       "object_fit": null,
       "object_position": null,
       "order": null,
       "overflow": null,
       "overflow_x": null,
       "overflow_y": null,
       "padding": null,
       "right": null,
       "top": null,
       "visibility": null,
       "width": null
      }
     },
     "e0addc0ca76e46588849d599ff3e9e2b": {
      "model_module": "@jupyter-widgets/controls",
      "model_module_version": "1.5.0",
      "model_name": "IntSliderModel",
      "state": {
       "_dom_classes": [],
       "_model_module": "@jupyter-widgets/controls",
       "_model_module_version": "1.5.0",
       "_model_name": "IntSliderModel",
       "_view_count": null,
       "_view_module": "@jupyter-widgets/controls",
       "_view_module_version": "1.5.0",
       "_view_name": "IntSliderView",
       "continuous_update": true,
       "description": "i",
       "description_tooltip": null,
       "disabled": false,
       "layout": "IPY_MODEL_cd95c8091a784f8bb5509a22ae60223a",
       "max": 5,
       "min": 0,
       "orientation": "horizontal",
       "readout": true,
       "readout_format": "d",
       "step": 1,
       "style": "IPY_MODEL_07d509e57dc44d55a5a549f0447f7fc8",
       "value": 5
      }
     }
    },
    "version_major": 2,
    "version_minor": 0
   }
  }
 },
 "nbformat": 4,
 "nbformat_minor": 5
}