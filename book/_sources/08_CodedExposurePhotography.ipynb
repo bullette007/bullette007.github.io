{
 "cells": [
  {
   "cell_type": "code",
   "execution_count": 1,
   "id": "1f2c4f09",
   "metadata": {
    "init_cell": true,
    "tags": [
     "remove-cell"
    ]
   },
   "outputs": [
    {
     "data": {
      "application/javascript": [
       "var cells = Jupyter.notebook.get_cells();\n",
       "           for (var i = 0; i < cells.length; i++) {\n",
       "               var cur_cell = cells[i];\n",
       "               var tags = cur_cell._metadata.tags;\n",
       "               console.log(i);\n",
       "               console.log(tags == undefined);\n",
       "               console.log(tags);\n",
       "               if (tags != undefined) {\n",
       "               for (var j = 0; j < tags.length; j++) {\n",
       "                  if (tags[j]==\"book_only\" | tags[j]==\"remove-cell\") {cur_cell.element.hide();}}\n",
       "               for (var j = 0; j < tags.length; j++) {\n",
       "                   if (tags[j]==\"presentation_only\") {cur_cell.element.show();}}\n",
       "            }}\n"
      ],
      "text/plain": [
       "<IPython.core.display.Javascript object>"
      ]
     },
     "metadata": {},
     "output_type": "display_data"
    }
   ],
   "source": [
    "%%js\n",
    "var cells = Jupyter.notebook.get_cells();\n",
    "           for (var i = 0; i < cells.length; i++) {\n",
    "               var cur_cell = cells[i];\n",
    "               var tags = cur_cell._metadata.tags;\n",
    "               console.log(i);\n",
    "               console.log(tags == undefined);\n",
    "               console.log(tags);\n",
    "               if (tags != undefined) {\n",
    "               for (var j = 0; j < tags.length; j++) {\n",
    "                  if (tags[j]==\"book_only\" | tags[j]==\"remove-cell\") {cur_cell.element.hide();}}\n",
    "               for (var j = 0; j < tags.length; j++) {\n",
    "                   if (tags[j]==\"presentation_only\") {cur_cell.element.show();}}\n",
    "            }}"
   ]
  },
  {
   "cell_type": "code",
   "execution_count": 2,
   "id": "f382cf0c",
   "metadata": {
    "init_cell": true,
    "slideshow": {
     "slide_type": "notes"
    },
    "tags": [
     "remove-cell"
    ]
   },
   "outputs": [
    {
     "name": "stderr",
     "output_type": "stream",
     "text": [
      "C:\\Users\\meyjoh\\repos\\vlcompimg\\compimg\\lib\\site-packages\\scipy\\__init__.py:138: UserWarning: A NumPy version >=1.16.5 and <1.23.0 is required for this version of SciPy (detected version 1.23.4)\n",
      "  warnings.warn(f\"A NumPy version >={np_minversion} and <{np_maxversion} is required for this version of \"\n"
     ]
    }
   ],
   "source": [
    "from __future__ import print_function\n",
    "from ipywidgets import interact, interactive, fixed, interact_manual\n",
    "import ipywidgets as widgets\n",
    "import numpy as np\n",
    "import matplotlib.pyplot as plt\n",
    "import cv2\n",
    "import scipy.signal as sig\n",
    "from scipy.integrate import simpson\n",
    "from IPython.display import SVG, display, IFrame, HTML\n",
    "import seaborn as sns\n",
    "import torch\n",
    "from scipy import ndimage\n",
    "from scipy import misc\n",
    "%matplotlib notebook\n",
    "book = False"
   ]
  },
  {
   "cell_type": "code",
   "execution_count": 3,
   "id": "d53ad08b",
   "metadata": {
    "tags": [
     "remove-cell"
    ]
   },
   "outputs": [],
   "source": [
    "%matplotlib inline\n",
    "book = True"
   ]
  },
  {
   "cell_type": "code",
   "execution_count": 4,
   "id": "488d39c6",
   "metadata": {
    "init_cell": true,
    "tags": [
     "remove-cell"
    ]
   },
   "outputs": [
    {
     "data": {
      "application/javascript": [
       "MathJax.Hub.Config({\n",
       "    TeX: { equationNumbers: { autoNumber: \"AMS\" } }\n",
       "});\n"
      ],
      "text/plain": [
       "<IPython.core.display.Javascript object>"
      ]
     },
     "metadata": {},
     "output_type": "display_data"
    }
   ],
   "source": [
    "%%javascript\n",
    "MathJax.Hub.Config({\n",
    "    TeX: { equationNumbers: { autoNumber: \"AMS\" } }\n",
    "});"
   ]
  },
  {
   "cell_type": "code",
   "execution_count": 5,
   "id": "533f97e0",
   "metadata": {
    "init_cell": true,
    "tags": [
     "remove-cell"
    ]
   },
   "outputs": [
    {
     "data": {
      "application/javascript": [
       "\n",
       "MathJax.Hub.Queue(\n",
       "  [\"resetEquationNumbers\", MathJax.InputJax.TeX],\n",
       "  [\"PreProcess\", MathJax.Hub],\n",
       "  [\"Reprocess\", MathJax.Hub]\n",
       ");\n"
      ],
      "text/plain": [
       "<IPython.core.display.Javascript object>"
      ]
     },
     "metadata": {},
     "output_type": "display_data"
    }
   ],
   "source": [
    "%%javascript\n",
    "\n",
    "MathJax.Hub.Queue(\n",
    "  [\"resetEquationNumbers\", MathJax.InputJax.TeX],\n",
    "  [\"PreProcess\", MathJax.Hub],\n",
    "  [\"Reprocess\", MathJax.Hub]\n",
    ");"
   ]
  },
  {
   "cell_type": "code",
   "execution_count": 6,
   "id": "a1f9b0db",
   "metadata": {
    "init_cell": true,
    "tags": [
     "remove-cell"
    ]
   },
   "outputs": [],
   "source": [
    "def showFig(path,i,ending, width, height):\n",
    "    filename = path+str(i)+ending\n",
    "    return HTML(\"<img src=\\\"\" + filename +  f\"\\\" style=\\\"max-height:{height}vh\\\"/>\")"
   ]
  },
  {
   "cell_type": "code",
   "execution_count": 7,
   "id": "202ad3d0",
   "metadata": {
    "init_cell": true,
    "tags": [
     "remove-cell"
    ]
   },
   "outputs": [],
   "source": [
    "def showFig2(path,i,ending, width, height):\n",
    "    imgToShow = plt.imread(f\"{path}{i}{ending}\")\n",
    "    plt.imshow(imgToShow)"
   ]
  },
  {
   "cell_type": "code",
   "execution_count": 8,
   "id": "3bfbb582",
   "metadata": {
    "init_cell": true,
    "tags": [
     "remove-cell"
    ]
   },
   "outputs": [],
   "source": [
    "def imshow(img, cmap=None):\n",
    "    plt.close('all')\n",
    "    plt.figure()\n",
    "    plt.imshow(img, cmap=cmap)\n",
    "    plt.show()"
   ]
  },
  {
   "cell_type": "code",
   "execution_count": 9,
   "id": "eefb7645",
   "metadata": {
    "init_cell": true,
    "tags": [
     "remove-cell"
    ]
   },
   "outputs": [],
   "source": [
    "def imshow2(img, cmap=None):\n",
    "    #plt.close('all')\n",
    "    #plt.figure()\n",
    "    plt.clf()\n",
    "    plt.imshow(img, cmap=cmap)\n",
    "    #plt.show()"
   ]
  },
  {
   "cell_type": "markdown",
   "id": "0eadab21",
   "metadata": {
    "slideshow": {
     "slide_type": "slide"
    }
   },
   "source": [
    "$\\begin{align}\n",
    "  \\newcommand{transp}{^\\intercal}\n",
    "  \\newcommand{F}{\\mathcal{F}}\n",
    "  \\newcommand{Fi}{\\mathcal{F}^{-1}}\n",
    "  \\newcommand{inv}{^{-1}}\n",
    "  \\newcommand{stochvec}[1]{\\mathbf{\\tilde{#1}}}\n",
    "  \\newcommand{argmax}[1]{\\underset{#1}{\\mathrm{arg\\, max}}\\,}\n",
    "  \\newcommand{argmin}[1]{\\underset{#1}{\\mathrm{arg\\, min}}\\,}\n",
    "\\end{align}$\n",
    "\n",
    "<font size=\"7\"> Computational Imaging </font><br><br><br>"
   ]
  },
  {
   "cell_type": "markdown",
   "id": "76461283",
   "metadata": {
    "slideshow": {
     "slide_type": "-"
    }
   },
   "source": [
    "# Coded Exposure Photography"
   ]
  },
  {
   "cell_type": "markdown",
   "id": "a89776aa",
   "metadata": {
    "slideshow": {
     "slide_type": "subslide"
    }
   },
   "source": [
    "##### Content\n",
    "* Introduction into coded exposure photography\n",
    "* Optical setup for coded exposure photography\n",
    "* Selection of encoding pattern\n",
    "* Reconstruction\n",
    "* Example"
   ]
  },
  {
   "cell_type": "markdown",
   "id": "6f60d806",
   "metadata": {
    "slideshow": {
     "slide_type": "slide"
    }
   },
   "source": [
    "## Introduction into coded exposure photography"
   ]
  },
  {
   "cell_type": "markdown",
   "id": "c38e6e0c",
   "metadata": {},
   "source": [
    "When photographing dynamic scenes, moving objects can cause so-called *motion blur* in the captured image depending on the exposure time of the camera.\n",
    "\n",
    "When an object moves during exposure time, its image is smeared over an image region depending on its movement trajectory and its pixel values are blended with those of the stationary background."
   ]
  },
  {
   "cell_type": "markdown",
   "id": "136b4ab7",
   "metadata": {
    "slideshow": {
     "slide_type": "fragment"
    }
   },
   "source": [
    "The obvious way to mitigate or prevent motion blur is to reduce the exposure time and compensate the reduced light efficiency via:\n",
    "* increased digital amplification (at the cost of amplified noise) or\n",
    "* by providing sufficient artificial illumination (e.g., flashes)."
   ]
  },
  {
   "cell_type": "markdown",
   "id": "810cc578",
   "metadata": {
    "slideshow": {
     "slide_type": "fragment"
    }
   },
   "source": [
    "In this chapter, we will explore a different approach to compensate motion blur that is based on deconvolution. The presented content is based on the paper [Coded Exposure Photography: Motion Deblurring using Fluttered Shutter](https://web.media.mit.edu/~raskar/deblur/CodedExpousreLowres.pdf) by Ramesh Raskar et al.."
   ]
  },
  {
   "cell_type": "markdown",
   "id": "eb804f04",
   "metadata": {
    "slideshow": {
     "slide_type": "subslide"
    }
   },
   "source": [
    "### Image formation model for motion blur"
   ]
  },
  {
   "cell_type": "markdown",
   "id": "1f8bd3c7",
   "metadata": {},
   "source": [
    "Assume that the observed scene consists of one object moving linearly along some direction with constant speed (can analogously be extended to multiple objects) in front of a black background (i.e., which reflects no light). \n",
    "\n",
    "The corresponding image formation of the blurred observation $g$ can be modeled via a convolution of the sought sharp image $x$ of the object with the motion blur kernel $h$ and some additive noise $n$:\n",
    "\n",
    "$\\begin{align} \n",
    "   g = x*h + n \\,.\n",
    "\\end{align}$\n",
    "\n",
    "The motion blur kernel $h$ then consists of a one-dimensional $\\mathrm{rect}$-function with a width corresponding to the number of pixels that the image of the object moves on the image sensor during one exposure period. The orientation of the $\\mathrm{rect}$-function corresponds to the direction of the linear movement."
   ]
  },
  {
   "cell_type": "markdown",
   "id": "f3c69413",
   "metadata": {
    "slideshow": {
     "slide_type": "subslide"
    }
   },
   "source": [
    "##### Example\n",
    "The following shows a simple example of simulated motion blur:"
   ]
  },
  {
   "cell_type": "markdown",
   "id": "b48e433c",
   "metadata": {},
   "source": [
    "<img src=\"figures/8/example_convolution_motion_blur.svg\" style=\"max-height:40vh\">"
   ]
  },
  {
   "cell_type": "markdown",
   "id": "927aed17",
   "metadata": {
    "slideshow": {
     "slide_type": "subslide"
    }
   },
   "source": [
    "The motion blur kernel $h$ can be modeled as a rotated and translated $\\mathrm{rect}$-function:"
   ]
  },
  {
   "cell_type": "markdown",
   "id": "8da79a16",
   "metadata": {},
   "source": [
    "<img src=\"figures/8/blur_kernel_line_section.svg\" style=\"max-height:40vh\">"
   ]
  },
  {
   "cell_type": "markdown",
   "id": "f90e7d16",
   "metadata": {
    "slideshow": {
     "slide_type": "subslide"
    }
   },
   "source": [
    "Directly trying to reconstruct the latent image $x$ based on such an observation would lead to strong artifacts.\n",
    "\n",
    "This can be seen explained in two ways:"
   ]
  },
  {
   "cell_type": "markdown",
   "id": "d465848a",
   "metadata": {
    "slideshow": {
     "slide_type": "subslide"
    }
   },
   "source": [
    "1. The Fourier transform of the $\\mathrm{rect}(x)$-function is given by $\\mathrm{sinc}(x)=\\frac{\\sin x}{x}$; see the following Figure for a visualization of its graph (logarithm of magnitude of Fourier transform):\n",
    "\n",
    "<img src=\"figures/8/rect_fourier_sinc.svg\" style=\"max-height:40vh\">"
   ]
  },
  {
   "cell_type": "markdown",
   "id": "7c06f627",
   "metadata": {},
   "source": [
    "The spectrum of the $\\mathrm{sinc}$-function is not flat and has many zeros where information is inevitably lost. Inverting a such a deconvolution would strongly amplify certain frequencies (at the positions of the zeros) and hence might also amplify unwanted noise."
   ]
  },
  {
   "cell_type": "markdown",
   "id": "ac220206",
   "metadata": {
    "slideshow": {
     "slide_type": "subslide"
    }
   },
   "source": [
    "2. The autocorrelation of the $\\mathrm{rect}$-function does not resemble a Dirac-like what is hindering for the reconstruction."
   ]
  },
  {
   "cell_type": "markdown",
   "id": "4e936053",
   "metadata": {
    "slideshow": {
     "slide_type": "fragment"
    }
   },
   "source": [
    "As a consequence, a better encoding strategy has to be found."
   ]
  },
  {
   "cell_type": "markdown",
   "id": "1e1f4fe9",
   "metadata": {
    "slideshow": {
     "slide_type": "slide"
    }
   },
   "source": [
    "## Optical setup for coded exposure photography"
   ]
  },
  {
   "cell_type": "markdown",
   "id": "e4d950ea",
   "metadata": {
    "slideshow": {
     "slide_type": "subslide"
    }
   },
   "source": [
    "In order to control the exposure modulation, an existing camera can be extended via a programmable shutter that is synchronized with the exposure control of the camera.\n",
    "\n",
    "In the referenced paper, the authors use a programmable LCD as a spatial light modulator placed in front of the main lens of a digital lens reflex camera and simultaneously turn all pixels transparent or opaque to realize an encoding of the exposure."
   ]
  },
  {
   "cell_type": "markdown",
   "id": "58effad6",
   "metadata": {
    "slideshow": {
     "slide_type": "fragment"
    }
   },
   "source": [
    "The whole exposure period $T$ of the camera can be divided into $M$ time slices, so-called *chops* with duration $T/M$.\n",
    "\n",
    "During each chop, the LCD-based shutter is either set to transparent or opaque as stated in a corresponding pattern vector $\\mathbf{p}\\in \\left\\{ 0,1 \\right\\}^M $"
   ]
  },
  {
   "cell_type": "markdown",
   "id": "38cb5e93",
   "metadata": {
    "slideshow": {
     "slide_type": "slide"
    }
   },
   "source": [
    "## Selection of encoding pattern $\\mathbf{p}$"
   ]
  },
  {
   "cell_type": "markdown",
   "id": "a2f31ddb",
   "metadata": {
    "slideshow": {
     "slide_type": "subslide"
    }
   },
   "source": [
    "When searching for an optimal code, two mutual criteria have to be optimized:\n",
    "1. Invertibility (i.e., flat Fourier spectrum and as few zeros as possible), \n",
    "2. light efficiency (i.e., many ones in $\\mathbf{p}$)."
   ]
  },
  {
   "cell_type": "markdown",
   "id": "14a2202d",
   "metadata": {
    "slideshow": {
     "slide_type": "fragment"
    }
   },
   "source": [
    "One possibility to ensure light efficiency is to fix the ratio of ones and zeros in $\\mathbf{p}$ to $1:1$."
   ]
  },
  {
   "cell_type": "markdown",
   "id": "4fbeb2b0",
   "metadata": {
    "slideshow": {
     "slide_type": "fragment"
    }
   },
   "source": [
    "For a given number $M$ of chops, this design decision sets the set of possible encoding candidates which could be evaluated with respect to criterion 1 (invertibility) in a brute force manner."
   ]
  },
  {
   "cell_type": "markdown",
   "id": "9d517204",
   "metadata": {
    "slideshow": {
     "slide_type": "subslide"
    }
   },
   "source": [
    "This has been done by the authors of the referenced paper by means of a randomized linear search for $M=52$. \n",
    "\n",
    "The resulting encoding is\n",
    "$\\begin{align} \n",
    "   \\mathbf{p} = (1010000111000001010000110011110111010111001001100111)\\transp \\,.\n",
    "\\end{align}$"
   ]
  },
  {
   "cell_type": "markdown",
   "id": "73a07662",
   "metadata": {
    "slideshow": {
     "slide_type": "subslide"
    }
   },
   "source": [
    "The logarithm of the magnitude of the spectrum of that code is shown below (for positive spatial frequencies):\n",
    "\n",
    "<img src=\"figures/8/encoding_spectrum.svg\" style=\"max-height:40vh\">"
   ]
  },
  {
   "cell_type": "markdown",
   "id": "2cff944c",
   "metadata": {
    "slideshow": {
     "slide_type": "slide"
    }
   },
   "source": [
    "## Reconstruction"
   ]
  },
  {
   "cell_type": "markdown",
   "id": "d5300033",
   "metadata": {},
   "source": [
    "The reconstruction can be performed with any suitable deconvolution method (Wiener filter, iterative methods, data-driven methods)."
   ]
  },
  {
   "cell_type": "markdown",
   "id": "155c53d5",
   "metadata": {
    "slideshow": {
     "slide_type": "subslide"
    }
   },
   "source": [
    "When applied in a practical scenario, there are two open points which have to be addressed:\n",
    "1. The orientation of the encoding line in the motion blur kernel $h$ has to be determined.\n",
    "2. Different regions in the image can be affected by different types of motion blur, i.e., different directions, different movement velocities, no movement (e.g., background) and those regions can also be blended with each other."
   ]
  },
  {
   "cell_type": "markdown",
   "id": "2995d713",
   "metadata": {
    "slideshow": {
     "slide_type": "fragment"
    }
   },
   "source": [
    "Point 1 can be solved by prompting the user to estimate the movement direction and length (in pixels).\n",
    "\n",
    "Both points can be addressed simultaneously by employing methods for locally estimating the blur PSF, i.e., with respect to the pixel position."
   ]
  },
  {
   "cell_type": "markdown",
   "id": "029c4504",
   "metadata": {
    "slideshow": {
     "slide_type": "slide"
    }
   },
   "source": [
    "## Example"
   ]
  },
  {
   "cell_type": "markdown",
   "id": "886dfa82",
   "metadata": {},
   "source": [
    "Consider again the following example image:\n",
    "\n",
    "<img src=\"figures/8/tree.png\" style=\"max-height:40vh\">"
   ]
  },
  {
   "cell_type": "markdown",
   "id": "5d5c6909",
   "metadata": {
    "slideshow": {
     "slide_type": "subslide"
    }
   },
   "source": [
    "We simulate a horizontal motion blur by convolving with a 52 pixel width conventional $\\mathrm{rect}$-like kernel and with kernel encoded according to the previously mentioned pattern:"
   ]
  },
  {
   "cell_type": "markdown",
   "id": "ae277a36",
   "metadata": {},
   "source": [
    "<img src=\"figures/8/observation_motion_blur_different_kernels.svg\" style=\"max-height:40vh\">"
   ]
  },
  {
   "cell_type": "markdown",
   "id": "ce40d223",
   "metadata": {
    "slideshow": {
     "slide_type": "subslide"
    }
   },
   "source": [
    "For both images, we add Gaussian noise of different levels and try to reconstruct the undistorted image with a Wiener filter using the introduced heuristic for estimating the signal-to-noise ratio.\n",
    "\n",
    "By this means, we achieve the following qualitative results:"
   ]
  },
  {
   "cell_type": "code",
   "execution_count": 10,
   "id": "7157b5a2",
   "metadata": {
    "init_cell": true,
    "slideshow": {
     "slide_type": "subslide"
    }
   },
   "outputs": [
    {
     "data": {
      "application/vnd.jupyter.widget-view+json": {
       "model_id": "4f89cf23ffa74b3a8386810afdb8a1c8",
       "version_major": 2,
       "version_minor": 0
      },
      "text/plain": [
       "interactive(children=(IntSlider(value=5, description='i', max=5), Output()), _dom_classes=('widget-interact',)…"
      ]
     },
     "metadata": {},
     "output_type": "display_data"
    },
    {
     "data": {
      "text/plain": [
       "<function __main__.<lambda>(i)>"
      ]
     },
     "execution_count": 10,
     "metadata": {},
     "output_type": "execute_result"
    }
   ],
   "source": [
    "interact(lambda i: showFig('figures/8/motion_deblur_results_',i,'.svg',800,50), i=widgets.IntSlider(min=(min_i:=0),max=(max_i:=5), step=1, value=(max_i if book else min_i)))"
   ]
  },
  {
   "cell_type": "markdown",
   "id": "00b3c265",
   "metadata": {
    "slideshow": {
     "slide_type": "subslide"
    }
   },
   "source": [
    "The results can be evaluated quantitatively by calculating the root mean squared reconstruction error with respect to the undistorted image:\n",
    "\n",
    "<img src=\"figures/8/reconstruction_rmse.svg\" style=\"max-height:40vh\">"
   ]
  },
  {
   "cell_type": "markdown",
   "id": "2ba5e734",
   "metadata": {
    "tags": [
     "remove-cell"
    ]
   },
   "source": [
    "##### Archive"
   ]
  },
  {
   "cell_type": "code",
   "execution_count": 11,
   "id": "7f7f020d",
   "metadata": {
    "tags": [
     "remove-cell"
    ]
   },
   "outputs": [],
   "source": [
    "h = plt.imread(\"figures/8/example_motion_blur_2.png\")"
   ]
  },
  {
   "cell_type": "code",
   "execution_count": 12,
   "id": "46de9b33",
   "metadata": {
    "tags": [
     "remove-cell"
    ]
   },
   "outputs": [
    {
     "data": {
      "text/plain": [
       "(71, 71)"
      ]
     },
     "execution_count": 12,
     "metadata": {},
     "output_type": "execute_result"
    }
   ],
   "source": [
    "h.shape"
   ]
  },
  {
   "cell_type": "markdown",
   "id": "5eaed19b",
   "metadata": {
    "tags": [
     "remove-cell"
    ]
   },
   "source": [
    "img = np.float32(misc.face(gray=True))"
   ]
  },
  {
   "cell_type": "code",
   "execution_count": 13,
   "id": "2dc63d3a",
   "metadata": {
    "tags": [
     "remove-cell"
    ]
   },
   "outputs": [],
   "source": [
    "img = plt.imread(\"figures/8/tree.png\")"
   ]
  },
  {
   "cell_type": "code",
   "execution_count": 14,
   "id": "56bbbce6",
   "metadata": {
    "tags": [
     "remove-cell"
    ]
   },
   "outputs": [],
   "source": [
    "img_blurred = ndimage.convolve(img, h, mode='wrap')"
   ]
  },
  {
   "cell_type": "code",
   "execution_count": 15,
   "id": "dc71602d",
   "metadata": {
    "tags": [
     "remove-cell"
    ]
   },
   "outputs": [],
   "source": [
    "plt.imsave(\"figures/8/example_motion_blur_tree.png\", img_blurred, cmap='gray')"
   ]
  },
  {
   "cell_type": "code",
   "execution_count": 16,
   "id": "ced5ba96",
   "metadata": {
    "tags": [
     "remove-cell"
    ]
   },
   "outputs": [
    {
     "data": {
      "image/png": "[encoded data removed]",
      "text/plain": [
       "<Figure size 432x288 with 1 Axes>"
      ]
     },
     "metadata": {
      "filenames": {
       "image/png": "C:\\Users\\meyjoh\\repos\\vlcompimg\\mynewbook\\_build\\jupyter_execute\\08_CodedExposurePhotography_54_0.png"
      },
      "needs_background": "light"
     },
     "output_type": "display_data"
    }
   ],
   "source": [
    "imshow(img_blurred, cmap='gray')"
   ]
  },
  {
   "cell_type": "code",
   "execution_count": 17,
   "id": "0eba3b76",
   "metadata": {
    "tags": [
     "remove-cell"
    ]
   },
   "outputs": [],
   "source": [
    "def mag_square(inp : np.ndarray):\n",
    "    return inp.real**2 + inp.imag**2"
   ]
  },
  {
   "cell_type": "code",
   "execution_count": 18,
   "id": "90de89db",
   "metadata": {
    "tags": [
     "remove-cell"
    ]
   },
   "outputs": [],
   "source": [
    "xs = np.linspace(-3, 3, 1001)\n",
    "ys = np.zeros_like(xs)\n",
    "ys[(xs >= -1) & (xs <= 1)] = 1"
   ]
  },
  {
   "cell_type": "code",
   "execution_count": 19,
   "id": "54869472",
   "metadata": {
    "tags": [
     "remove-cell"
    ]
   },
   "outputs": [],
   "source": [
    "ys = np.array([1,0,1,0,0,0,0,1,1,1,0,0,0,0,0,1,0,1,0,0,0,0,1,1,0,0,1,1,1,1,0,1,1,1,0,1,0,1,1,1,0,0,1,0,0,1,1,0,0,1,1,1])\n",
    "ys = np.pad(ys, (100,101))\n",
    "xs = np.arange(0,len(ys))\n",
    "xs = xs - int(len(xs)/2)"
   ]
  },
  {
   "cell_type": "code",
   "execution_count": 20,
   "id": "4b744967",
   "metadata": {
    "tags": [
     "remove-cell"
    ]
   },
   "outputs": [
    {
     "data": {
      "text/plain": [
       "<matplotlib.lines.Line2D at 0x118e8054130>"
      ]
     },
     "execution_count": 20,
     "metadata": {},
     "output_type": "execute_result"
    },
    {
     "data": {
      "image/png": "[encoded data removed]",
      "text/plain": [
       "<Figure size 432x288 with 1 Axes>"
      ]
     },
     "metadata": {
      "filenames": {
       "image/png": "C:\\Users\\meyjoh\\repos\\vlcompimg\\mynewbook\\_build\\jupyter_execute\\08_CodedExposurePhotography_58_1.png"
      },
      "needs_background": "light"
     },
     "output_type": "display_data"
    }
   ],
   "source": [
    "plt.figure()\n",
    "plt.plot(xs,ys)\n",
    "plt.axhline(0, color='k', linestyle=\":\")\n",
    "plt.axvline(0, color='k', linestyle=\":\")"
   ]
  },
  {
   "cell_type": "code",
   "execution_count": 21,
   "id": "8ec20476",
   "metadata": {
    "tags": [
     "remove-cell"
    ]
   },
   "outputs": [
    {
     "data": {
      "text/plain": [
       "<Figure size 432x288 with 0 Axes>"
      ]
     },
     "metadata": {},
     "output_type": "display_data"
    }
   ],
   "source": [
    "plt.savefig(\"rect.svg\")"
   ]
  },
  {
   "cell_type": "code",
   "execution_count": 22,
   "id": "06056fa4",
   "metadata": {
    "tags": [
     "remove-cell"
    ]
   },
   "outputs": [
    {
     "data": {
      "text/plain": [
       "<matplotlib.lines.Line2D at 0x118ea0ddf70>"
      ]
     },
     "execution_count": 22,
     "metadata": {},
     "output_type": "execute_result"
    },
    {
     "data": {
      "image/png": "[encoded data removed]",
      "text/plain": [
       "<Figure size 432x288 with 1 Axes>"
      ]
     },
     "metadata": {
      "filenames": {
       "image/png": "C:\\Users\\meyjoh\\repos\\vlcompimg\\mynewbook\\_build\\jupyter_execute\\08_CodedExposurePhotography_60_1.png"
      },
      "needs_background": "light"
     },
     "output_type": "display_data"
    }
   ],
   "source": [
    "plt.figure()\n",
    "plt.plot(xs,(np.log(mag_square(np.fft.fftshift(np.fft.fft(np.fft.ifftshift(ys)))))))\n",
    "plt.axhline(0, color='k', linestyle=\":\")\n",
    "plt.axvline(0, color='k', linestyle=\":\")"
   ]
  },
  {
   "cell_type": "code",
   "execution_count": 23,
   "id": "e716b535",
   "metadata": {
    "tags": [
     "remove-cell"
    ]
   },
   "outputs": [
    {
     "data": {
      "text/plain": [
       "<Figure size 432x288 with 0 Axes>"
      ]
     },
     "metadata": {},
     "output_type": "display_data"
    }
   ],
   "source": [
    "plt.savefig(\"code_spectrum.svg\")"
   ]
  },
  {
   "cell_type": "code",
   "execution_count": 24,
   "id": "ad592840",
   "metadata": {
    "tags": [
     "remove-cell"
    ]
   },
   "outputs": [
    {
     "data": {
      "text/plain": [
       "[<matplotlib.lines.Line2D at 0x118ea149df0>]"
      ]
     },
     "execution_count": 24,
     "metadata": {},
     "output_type": "execute_result"
    },
    {
     "data": {
      "image/png": "[encoded data removed]",
      "text/plain": [
       "<Figure size 432x288 with 1 Axes>"
      ]
     },
     "metadata": {
      "filenames": {
       "image/png": "C:\\Users\\meyjoh\\repos\\vlcompimg\\mynewbook\\_build\\jupyter_execute\\08_CodedExposurePhotography_62_1.png"
      },
      "needs_background": "light"
     },
     "output_type": "display_data"
    }
   ],
   "source": [
    "plt.figure()\n",
    "plt.plot(np.correlate(ys,ys, mode=\"full\"))"
   ]
  },
  {
   "cell_type": "code",
   "execution_count": 25,
   "id": "e4574692",
   "metadata": {
    "tags": [
     "remove-cell"
    ]
   },
   "outputs": [
    {
     "data": {
      "text/plain": [
       "[<matplotlib.lines.Line2D at 0x118ea1b9490>]"
      ]
     },
     "execution_count": 25,
     "metadata": {},
     "output_type": "execute_result"
    },
    {
     "data": {
      "image/png": "[encoded data removed]",
      "text/plain": [
       "<Figure size 432x288 with 1 Axes>"
      ]
     },
     "metadata": {
      "filenames": {
       "image/png": "C:\\Users\\meyjoh\\repos\\vlcompimg\\mynewbook\\_build\\jupyter_execute\\08_CodedExposurePhotography_63_1.png"
      },
      "needs_background": "light"
     },
     "output_type": "display_data"
    }
   ],
   "source": [
    "plt.figure()\n",
    "ys2 = np.random.randint(0,2,1001)\n",
    "plt.plot(np.correlate(ys2,ys2, mode=\"full\"))"
   ]
  },
  {
   "cell_type": "code",
   "execution_count": 26,
   "id": "e71cd5bf",
   "metadata": {
    "tags": [
     "remove-cell"
    ]
   },
   "outputs": [],
   "source": [
    "def make_odd_shapes(inp : np.ndarray) -> np.ndarray:\n",
    "    if (inp.shape[0] % 2 == 0):\n",
    "        inp = inp[0:-1,:]\n",
    "    if (inp.shape[1] % 2 == 0):\n",
    "        inp = inp[:,0:-1]\n",
    "    return inp"
   ]
  },
  {
   "cell_type": "code",
   "execution_count": 27,
   "id": "1fd3a90c",
   "metadata": {
    "tags": [
     "remove-cell"
    ]
   },
   "outputs": [],
   "source": [
    "def pad_like(inp : np.ndarray, like : np.ndarray):\n",
    "    to_pad = tuple(np.int32((np.array(like.shape) - np.array(inp.shape))/2))\n",
    "    return np.pad(inp, ((to_pad[0], to_pad[0]), (to_pad[1], to_pad[1])))"
   ]
  },
  {
   "cell_type": "code",
   "execution_count": 28,
   "id": "b8b183ef",
   "metadata": {
    "tags": [
     "remove-cell"
    ]
   },
   "outputs": [],
   "source": [
    "def wiener_filter(g:np.ndarray, h:np.ndarray) -> np.ndarray:\n",
    "    g_fft = np.fft.fft2(g)\n",
    "    h_padded = pad_like(h, g)\n",
    "    h_fft = np.fft.fft2(np.fft.ifftshift(h_padded))\n",
    "    \n",
    "    X,Y = np.meshgrid(np.arange(1,g.shape[1]+1), np.arange(1,g.shape[0]+1))\n",
    "    \n",
    "    snr = (1 / np.sqrt(X**2 + Y**2))\n",
    "    \n",
    "    inv_fft = g_fft * np.conjugate(h_fft) / (mag_square(h_fft) + snr)\n",
    "    return np.real(np.fft.ifft2(inv_fft))"
   ]
  },
  {
   "cell_type": "code",
   "execution_count": 29,
   "id": "9736dacf",
   "metadata": {
    "tags": [
     "remove-cell"
    ]
   },
   "outputs": [],
   "source": [
    "h_encoded = np.array([1,0,1,0,0,0,0,1,1,1,0,0,0,0,0,1,0,1,0,0,0,0,1,1,0,0,1,1,1,1,0,1,1,1,0,1,0,1,1,1,0,0,1,0,0,1,1,0,0,1,1,1])\n",
    "h_normal = np.ones_like(h_encoded)\n",
    "\n",
    "h_encoded = np.pad(h_encoded, (2,1))\n",
    "h_normal = np.pad(h_normal, (2,1))\n",
    "\n",
    "h_encoded = np.vstack((np.zeros_like(h_encoded),h_encoded, np.zeros_like(h_encoded)))\n",
    "h_normal = np.vstack((np.zeros_like(h_normal),h_normal, np.zeros_like(h_normal)))"
   ]
  },
  {
   "cell_type": "code",
   "execution_count": 30,
   "id": "40d4726c",
   "metadata": {
    "tags": [
     "remove-cell"
    ]
   },
   "outputs": [
    {
     "data": {
      "image/png": "[encoded data removed]",
      "text/plain": [
       "<Figure size 432x288 with 1 Axes>"
      ]
     },
     "metadata": {
      "filenames": {
       "image/png": "C:\\Users\\meyjoh\\repos\\vlcompimg\\mynewbook\\_build\\jupyter_execute\\08_CodedExposurePhotography_68_0.png"
      },
      "needs_background": "light"
     },
     "output_type": "display_data"
    }
   ],
   "source": [
    "imshow(ndimage.convolve(img, h_encoded), cmap='gray')"
   ]
  },
  {
   "cell_type": "code",
   "execution_count": 31,
   "id": "c65b4fe9",
   "metadata": {
    "tags": [
     "remove-cell"
    ]
   },
   "outputs": [],
   "source": [
    "img = make_odd_shapes(img)*255"
   ]
  },
  {
   "cell_type": "code",
   "execution_count": 32,
   "id": "16ea8af0",
   "metadata": {
    "tags": [
     "remove-cell"
    ]
   },
   "outputs": [],
   "source": [
    "sigmas = np.float32(np.array([0,2,4,8,16,32]))  # Standard deviations for Gaussian noise\n",
    "noises = []   # List for observations\n",
    "for sigma in sigmas:\n",
    "    cur_img = np.random.normal(0, sigma, img.shape)\n",
    "    noises.append(cur_img)"
   ]
  },
  {
   "cell_type": "code",
   "execution_count": 33,
   "id": "80c6b7a2",
   "metadata": {
    "tags": [
     "remove-cell"
    ]
   },
   "outputs": [],
   "source": [
    "normal_recs = []\n",
    "normal_rms = []\n",
    "encoded_recs = []\n",
    "encoded_rms = []\n",
    "\n",
    "for noise in noises:\n",
    "    g_normal = ndimage.convolve(img, h_normal) + noise\n",
    "    g_encoded = ndimage.convolve(img, h_encoded) + noise\n",
    "    \n",
    "    rec_normal = wiener_filter(g_normal, h_normal)\n",
    "    rec_encoded = wiener_filter(g_encoded, h_encoded)\n",
    "    \n",
    "    normal_recs.append(rec_normal)\n",
    "    encoded_recs.append(rec_encoded)\n",
    "    \n",
    "    normal_rms.append(np.sum(np.sqrt((rec_normal - img)**2)))\n",
    "    encoded_rms.append(np.sum(np.sqrt((rec_encoded - img)**2)))"
   ]
  },
  {
   "cell_type": "code",
   "execution_count": 34,
   "id": "5c5699b4",
   "metadata": {
    "tags": [
     "remove-cell"
    ]
   },
   "outputs": [
    {
     "data": {
      "image/png": "[encoded data removed]",
      "text/plain": [
       "<Figure size 432x288 with 1 Axes>"
      ]
     },
     "metadata": {
      "filenames": {
       "image/png": "C:\\Users\\meyjoh\\repos\\vlcompimg\\mynewbook\\_build\\jupyter_execute\\08_CodedExposurePhotography_72_0.png"
      },
      "needs_background": "light"
     },
     "output_type": "display_data"
    }
   ],
   "source": [
    "plt.figure()\n",
    "plt.plot(encoded_rms, 'b+', label=\"with encoding\")\n",
    "plt.plot(normal_rms, 'r+', label=\"without encoding\")\n",
    "plt.xticks(np.arange(0,len(sigmas)), sigmas)\n",
    "plt.xlabel(\"$\\sigma$\")\n",
    "plt.ylabel(\"RMS reconstruction error\")\n",
    "plt.legend()\n",
    "plt.savefig(\"reconstruction_rmse.svg\")"
   ]
  },
  {
   "cell_type": "code",
   "execution_count": 35,
   "id": "513e75de",
   "metadata": {
    "tags": [
     "remove-cell"
    ]
   },
   "outputs": [],
   "source": [
    "def show_reconst(i):\n",
    "    plt.subplot(1,2,1)\n",
    "    plt.imshow(normal_recs[i], cmap='gray')\n",
    "    plt.title(f\"Reconstruction for\\n conventional kernel\\n for $\\sigma$ = {sigmas[i]}\")\n",
    "    plt.subplot(1,2,2)\n",
    "    plt.imshow(encoded_recs[i], cmap='gray')\n",
    "    plt.title(f\"Reconstruction for\\n encoding kernel\\n for $\\sigma$ = {sigmas[i]}\")"
   ]
  },
  {
   "cell_type": "code",
   "execution_count": 36,
   "id": "25e33ab9",
   "metadata": {
    "tags": [
     "remove-cell"
    ]
   },
   "outputs": [
    {
     "data": {
      "text/plain": [
       "<Figure size 432x288 with 0 Axes>"
      ]
     },
     "metadata": {},
     "output_type": "display_data"
    },
    {
     "data": {
      "application/vnd.jupyter.widget-view+json": {
       "model_id": "dfb77bfe00e6493cac1ea2c833b81b04",
       "version_major": 2,
       "version_minor": 0
      },
      "text/plain": [
       "interactive(children=(IntSlider(value=5, description='i', max=5), Output()), _dom_classes=('widget-interact',)…"
      ]
     },
     "metadata": {},
     "output_type": "display_data"
    },
    {
     "data": {
      "text/plain": [
       "<function __main__.<lambda>(i)>"
      ]
     },
     "execution_count": 36,
     "metadata": {},
     "output_type": "execute_result"
    }
   ],
   "source": [
    "plt.figure()\n",
    "interact(lambda i: show_reconst(i), i=widgets.IntSlider(min=(min_i:=0),max=(max_i:=len(encoded_recs)-1), step=1, value=(max_i if book else min_i)))"
   ]
  },
  {
   "cell_type": "code",
   "execution_count": 37,
   "id": "8c57d6df",
   "metadata": {
    "tags": [
     "remove-cell"
    ]
   },
   "outputs": [
    {
     "data": {
      "image/png": "[encoded data removed]",
      "text/plain": [
       "<Figure size 432x288 with 2 Axes>"
      ]
     },
     "metadata": {
      "filenames": {
       "image/png": "C:\\Users\\meyjoh\\repos\\vlcompimg\\mynewbook\\_build\\jupyter_execute\\08_CodedExposurePhotography_75_0.png"
      },
      "needs_background": "light"
     },
     "output_type": "display_data"
    }
   ],
   "source": [
    "plt.figure()\n",
    "for i in range(0,len(encoded_recs)):\n",
    "    show_reconst(i)\n",
    "    plt.savefig(f\"motion_deblur_results_{i}.svg\")"
   ]
  },
  {
   "cell_type": "code",
   "execution_count": 38,
   "id": "3ba2d73f",
   "metadata": {
    "tags": [
     "remove-cell"
    ]
   },
   "outputs": [
    {
     "data": {
      "text/plain": [
       "Text(0.5, 1.0, 'Observed image for\\n encoded kernel')"
      ]
     },
     "execution_count": 38,
     "metadata": {},
     "output_type": "execute_result"
    },
    {
     "data": {
      "image/png": "[encoded data removed]",
      "text/plain": [
       "<Figure size 432x288 with 2 Axes>"
      ]
     },
     "metadata": {
      "filenames": {
       "image/png": "C:\\Users\\meyjoh\\repos\\vlcompimg\\mynewbook\\_build\\jupyter_execute\\08_CodedExposurePhotography_76_1.png"
      },
      "needs_background": "light"
     },
     "output_type": "display_data"
    }
   ],
   "source": [
    "plt.figure()\n",
    "plt.subplot(1,2,1)\n",
    "plt.imshow(ndimage.convolve(img, h_normal), cmap='gray')\n",
    "plt.title(f\"Observed image for\\n conventional kernel\")\n",
    "plt.subplot(1,2,2)\n",
    "plt.imshow(ndimage.convolve(img, h_encoded), cmap='gray')\n",
    "plt.title(f\"Observed image for\\n encoded kernel\")"
   ]
  },
  {
   "cell_type": "code",
   "execution_count": 39,
   "id": "dbf47857",
   "metadata": {
    "tags": [
     "remove-cell"
    ]
   },
   "outputs": [
    {
     "data": {
      "text/plain": [
       "<Figure size 432x288 with 0 Axes>"
      ]
     },
     "metadata": {},
     "output_type": "display_data"
    }
   ],
   "source": [
    "plt.savefig(\"observation_motion_blur_different_kernels.svg\")"
   ]
  },
  {
   "cell_type": "code",
   "execution_count": null,
   "id": "b390d9c2",
   "metadata": {
    "tags": [
     "remove-cell"
    ]
   },
   "outputs": [],
   "source": []
  }
 ],
 "metadata": {
  "jupytext": {
   "formats": "ipynb,md:myst",
   "text_representation": {
    "extension": ".md",
    "format_name": "myst",
    "format_version": 0.13,
    "jupytext_version": "1.14.1"
   }
  },
  "kernelspec": {
   "display_name": "compimg",
   "language": "python",
   "name": "compimg"
  },
  "language_info": {
   "codemirror_mode": {
    "name": "ipython",
    "version": 3
   },
   "file_extension": ".py",
   "mimetype": "text/x-python",
   "name": "python",
   "nbconvert_exporter": "python",
   "pygments_lexer": "ipython3",
   "version": "3.8.10"
  },
  "source_map": [
   15,
   35,
   59,
   66,
   76,
   89,
   98,
   107,
   118,
   130,
   144,
   148,
   157,
   161,
   167,
   173,
   177,
   181,
   193,
   198,
   202,
   206,
   210,
   216,
   222,
   226,
   230,
   234,
   238,
   244,
   250,
   254,
   260,
   264,
   268,
   277,
   283,
   287,
   291,
   297,
   303,
   307,
   313,
   317,
   321,
   327,
   336,
   342,
   346,
   352,
   358,
   362,
   368,
   374,
   380,
   386,
   393,
   401,
   410,
   419,
   425,
   434,
   440,
   447,
   455,
   466,
   474,
   490,
   503,
   509,
   515,
   525,
   547,
   560,
   572,
   579,
   588,
   600,
   606
  ],
  "widgets": {
   "application/vnd.jupyter.widget-state+json": {
    "state": {
     "004aa6a8f6c74142b44bb3b4fbfea9fe": {
      "model_module": "@jupyter-widgets/controls",
      "model_module_version": "1.5.0",
      "model_name": "SliderStyleModel",
      "state": {
       "_model_module": "@jupyter-widgets/controls",
       "_model_module_version": "1.5.0",
       "_model_name": "SliderStyleModel",
       "_view_count": null,
       "_view_module": "@jupyter-widgets/base",
       "_view_module_version": "1.2.0",
       "_view_name": "StyleView",
       "description_width": "",
       "handle_color": null
      }
     },
     "17d79d32aad345d8b9506f58a4c642e7": {
      "model_module": "@jupyter-widgets/controls",
      "model_module_version": "1.5.0",
      "model_name": "IntSliderModel",
      "state": {
       "_dom_classes": [],
       "_model_module": "@jupyter-widgets/controls",
       "_model_module_version": "1.5.0",
       "_model_name": "IntSliderModel",
       "_view_count": null,
       "_view_module": "@jupyter-widgets/controls",
       "_view_module_version": "1.5.0",
       "_view_name": "IntSliderView",
       "continuous_update": true,
       "description": "i",
       "description_tooltip": null,
       "disabled": false,
       "layout": "IPY_MODEL_ac7f742302b444afb5766a9bdb076196",
       "max": 5,
       "min": 0,
       "orientation": "horizontal",
       "readout": true,
       "readout_format": "d",
       "step": 1,
       "style": "IPY_MODEL_f352cfbe3ace4d22b62dd4485c37d103",
       "value": 5
      }
     },
     "19de8789684e4d4495a1608b009c48ad": {
      "model_module": "@jupyter-widgets/base",
      "model_module_version": "1.2.0",
      "model_name": "LayoutModel",
      "state": {
       "_model_module": "@jupyter-widgets/base",
       "_model_module_version": "1.2.0",
       "_model_name": "LayoutModel",
       "_view_count": null,
       "_view_module": "@jupyter-widgets/base",
       "_view_module_version": "1.2.0",
       "_view_name": "LayoutView",
       "align_content": null,
       "align_items": null,
       "align_self": null,
       "border": null,
       "bottom": null,
       "display": null,
       "flex": null,
       "flex_flow": null,
       "grid_area": null,
       "grid_auto_columns": null,
       "grid_auto_flow": null,
       "grid_auto_rows": null,
       "grid_column": null,
       "grid_gap": null,
       "grid_row": null,
       "grid_template_areas": null,
       "grid_template_columns": null,
       "grid_template_rows": null,
       "height": null,
       "justify_content": null,
       "justify_items": null,
       "left": null,
       "margin": null,
       "max_height": null,
       "max_width": null,
       "min_height": null,
       "min_width": null,
       "object_fit": null,
       "object_position": null,
       "order": null,
       "overflow": null,
       "overflow_x": null,
       "overflow_y": null,
       "padding": null,
       "right": null,
       "top": null,
       "visibility": null,
       "width": null
      }
     },
     "1a29dff8d5604ed7893d4fe2470f26ba": {
      "model_module": "@jupyter-widgets/base",
      "model_module_version": "1.2.0",
      "model_name": "LayoutModel",
      "state": {
       "_model_module": "@jupyter-widgets/base",
       "_model_module_version": "1.2.0",
       "_model_name": "LayoutModel",
       "_view_count": null,
       "_view_module": "@jupyter-widgets/base",
       "_view_module_version": "1.2.0",
       "_view_name": "LayoutView",
       "align_content": null,
       "align_items": null,
       "align_self": null,
       "border": null,
       "bottom": null,
       "display": null,
       "flex": null,
       "flex_flow": null,
       "grid_area": null,
       "grid_auto_columns": null,
       "grid_auto_flow": null,
       "grid_auto_rows": null,
       "grid_column": null,
       "grid_gap": null,
       "grid_row": null,
       "grid_template_areas": null,
       "grid_template_columns": null,
       "grid_template_rows": null,
       "height": null,
       "justify_content": null,
       "justify_items": null,
       "left": null,
       "margin": null,
       "max_height": null,
       "max_width": null,
       "min_height": null,
       "min_width": null,
       "object_fit": null,
       "object_position": null,
       "order": null,
       "overflow": null,
       "overflow_x": null,
       "overflow_y": null,
       "padding": null,
       "right": null,
       "top": null,
       "visibility": null,
       "width": null
      }
     },
     "4f89cf23ffa74b3a8386810afdb8a1c8": {
      "model_module": "@jupyter-widgets/controls",
      "model_module_version": "1.5.0",
      "model_name": "VBoxModel",
      "state": {
       "_dom_classes": [
        "widget-interact"
       ],
       "_model_module": "@jupyter-widgets/controls",
       "_model_module_version": "1.5.0",
       "_model_name": "VBoxModel",
       "_view_count": null,
       "_view_module": "@jupyter-widgets/controls",
       "_view_module_version": "1.5.0",
       "_view_name": "VBoxView",
       "box_style": "",
       "children": [
        "IPY_MODEL_17d79d32aad345d8b9506f58a4c642e7",
        "IPY_MODEL_7d205966d828484c9f0d013bf3d9b560"
       ],
       "layout": "IPY_MODEL_f9419e19cf7f441b99457fb4a9adff1b"
      }
     },
     "7a6122c7e42a49888116c66a5853ece4": {
      "model_module": "@jupyter-widgets/output",
      "model_module_version": "1.0.0",
      "model_name": "OutputModel",
      "state": {
       "_dom_classes": [],
       "_model_module": "@jupyter-widgets/output",
       "_model_module_version": "1.0.0",
       "_model_name": "OutputModel",
       "_view_count": null,
       "_view_module": "@jupyter-widgets/output",
       "_view_module_version": "1.0.0",
       "_view_name": "OutputView",
       "layout": "IPY_MODEL_ee03b10d22ac46d7a7afde73a33a65dc",
       "msg_id": "",
       "outputs": [
        {
         "data": {
          "image/png": "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\n",
          "text/plain": "<Figure size 432x288 with 2 Axes>"
         },
         "metadata": {
          "needs_background": "light"
         },
         "output_type": "display_data"
        }
       ]
      }
     },
     "7d205966d828484c9f0d013bf3d9b560": {
      "model_module": "@jupyter-widgets/output",
      "model_module_version": "1.0.0",
      "model_name": "OutputModel",
      "state": {
       "_dom_classes": [],
       "_model_module": "@jupyter-widgets/output",
       "_model_module_version": "1.0.0",
       "_model_name": "OutputModel",
       "_view_count": null,
       "_view_module": "@jupyter-widgets/output",
       "_view_module_version": "1.0.0",
       "_view_name": "OutputView",
       "layout": "IPY_MODEL_19de8789684e4d4495a1608b009c48ad",
       "msg_id": "",
       "outputs": [
        {
         "data": {
          "text/html": "<img src=\"figures/8/motion_deblur_results_5.svg\" style=\"max-height:50vh\"/>",
          "text/plain": "<IPython.core.display.HTML object>"
         },
         "metadata": {},
         "output_type": "display_data"
        }
       ]
      }
     },
     "a4f4517e3fd540458844ce67d3dc27f2": {
      "model_module": "@jupyter-widgets/base",
      "model_module_version": "1.2.0",
      "model_name": "LayoutModel",
      "state": {
       "_model_module": "@jupyter-widgets/base",
       "_model_module_version": "1.2.0",
       "_model_name": "LayoutModel",
       "_view_count": null,
       "_view_module": "@jupyter-widgets/base",
       "_view_module_version": "1.2.0",
       "_view_name": "LayoutView",
       "align_content": null,
       "align_items": null,
       "align_self": null,
       "border": null,
       "bottom": null,
       "display": null,
       "flex": null,
       "flex_flow": null,
       "grid_area": null,
       "grid_auto_columns": null,
       "grid_auto_flow": null,
       "grid_auto_rows": null,
       "grid_column": null,
       "grid_gap": null,
       "grid_row": null,
       "grid_template_areas": null,
       "grid_template_columns": null,
       "grid_template_rows": null,
       "height": null,
       "justify_content": null,
       "justify_items": null,
       "left": null,
       "margin": null,
       "max_height": null,
       "max_width": null,
       "min_height": null,
       "min_width": null,
       "object_fit": null,
       "object_position": null,
       "order": null,
       "overflow": null,
       "overflow_x": null,
       "overflow_y": null,
       "padding": null,
       "right": null,
       "top": null,
       "visibility": null,
       "width": null
      }
     },
     "ac7f742302b444afb5766a9bdb076196": {
      "model_module": "@jupyter-widgets/base",
      "model_module_version": "1.2.0",
      "model_name": "LayoutModel",
      "state": {
       "_model_module": "@jupyter-widgets/base",
       "_model_module_version": "1.2.0",
       "_model_name": "LayoutModel",
       "_view_count": null,
       "_view_module": "@jupyter-widgets/base",
       "_view_module_version": "1.2.0",
       "_view_name": "LayoutView",
       "align_content": null,
       "align_items": null,
       "align_self": null,
       "border": null,
       "bottom": null,
       "display": null,
       "flex": null,
       "flex_flow": null,
       "grid_area": null,
       "grid_auto_columns": null,
       "grid_auto_flow": null,
       "grid_auto_rows": null,
       "grid_column": null,
       "grid_gap": null,
       "grid_row": null,
       "grid_template_areas": null,
       "grid_template_columns": null,
       "grid_template_rows": null,
       "height": null,
       "justify_content": null,
       "justify_items": null,
       "left": null,
       "margin": null,
       "max_height": null,
       "max_width": null,
       "min_height": null,
       "min_width": null,
       "object_fit": null,
       "object_position": null,
       "order": null,
       "overflow": null,
       "overflow_x": null,
       "overflow_y": null,
       "padding": null,
       "right": null,
       "top": null,
       "visibility": null,
       "width": null
      }
     },
     "dac699f9769347749ecadd50994e2780": {
      "model_module": "@jupyter-widgets/controls",
      "model_module_version": "1.5.0",
      "model_name": "IntSliderModel",
      "state": {
       "_dom_classes": [],
       "_model_module": "@jupyter-widgets/controls",
       "_model_module_version": "1.5.0",
       "_model_name": "IntSliderModel",
       "_view_count": null,
       "_view_module": "@jupyter-widgets/controls",
       "_view_module_version": "1.5.0",
       "_view_name": "IntSliderView",
       "continuous_update": true,
       "description": "i",
       "description_tooltip": null,
       "disabled": false,
       "layout": "IPY_MODEL_a4f4517e3fd540458844ce67d3dc27f2",
       "max": 5,
       "min": 0,
       "orientation": "horizontal",
       "readout": true,
       "readout_format": "d",
       "step": 1,
       "style": "IPY_MODEL_004aa6a8f6c74142b44bb3b4fbfea9fe",
       "value": 5
      }
     },
     "dfb77bfe00e6493cac1ea2c833b81b04": {
      "model_module": "@jupyter-widgets/controls",
      "model_module_version": "1.5.0",
      "model_name": "VBoxModel",
      "state": {
       "_dom_classes": [
        "widget-interact"
       ],
       "_model_module": "@jupyter-widgets/controls",
       "_model_module_version": "1.5.0",
       "_model_name": "VBoxModel",
       "_view_count": null,
       "_view_module": "@jupyter-widgets/controls",
       "_view_module_version": "1.5.0",
       "_view_name": "VBoxView",
       "box_style": "",
       "children": [
        "IPY_MODEL_dac699f9769347749ecadd50994e2780",
        "IPY_MODEL_7a6122c7e42a49888116c66a5853ece4"
       ],
       "layout": "IPY_MODEL_1a29dff8d5604ed7893d4fe2470f26ba"
      }
     },
     "ee03b10d22ac46d7a7afde73a33a65dc": {
      "model_module": "@jupyter-widgets/base",
      "model_module_version": "1.2.0",
      "model_name": "LayoutModel",
      "state": {
       "_model_module": "@jupyter-widgets/base",
       "_model_module_version": "1.2.0",
       "_model_name": "LayoutModel",
       "_view_count": null,
       "_view_module": "@jupyter-widgets/base",
       "_view_module_version": "1.2.0",
       "_view_name": "LayoutView",
       "align_content": null,
       "align_items": null,
       "align_self": null,
       "border": null,
       "bottom": null,
       "display": null,
       "flex": null,
       "flex_flow": null,
       "grid_area": null,
       "grid_auto_columns": null,
       "grid_auto_flow": null,
       "grid_auto_rows": null,
       "grid_column": null,
       "grid_gap": null,
       "grid_row": null,
       "grid_template_areas": null,
       "grid_template_columns": null,
       "grid_template_rows": null,
       "height": null,
       "justify_content": null,
       "justify_items": null,
       "left": null,
       "margin": null,
       "max_height": null,
       "max_width": null,
       "min_height": null,
       "min_width": null,
       "object_fit": null,
       "object_position": null,
       "order": null,
       "overflow": null,
       "overflow_x": null,
       "overflow_y": null,
       "padding": null,
       "right": null,
       "top": null,
       "visibility": null,
       "width": null
      }
     },
     "f352cfbe3ace4d22b62dd4485c37d103": {
      "model_module": "@jupyter-widgets/controls",
      "model_module_version": "1.5.0",
      "model_name": "SliderStyleModel",
      "state": {
       "_model_module": "@jupyter-widgets/controls",
       "_model_module_version": "1.5.0",
       "_model_name": "SliderStyleModel",
       "_view_count": null,
       "_view_module": "@jupyter-widgets/base",
       "_view_module_version": "1.2.0",
       "_view_name": "StyleView",
       "description_width": "",
       "handle_color": null
      }
     },
     "f9419e19cf7f441b99457fb4a9adff1b": {
      "model_module": "@jupyter-widgets/base",
      "model_module_version": "1.2.0",
      "model_name": "LayoutModel",
      "state": {
       "_model_module": "@jupyter-widgets/base",
       "_model_module_version": "1.2.0",
       "_model_name": "LayoutModel",
       "_view_count": null,
       "_view_module": "@jupyter-widgets/base",
       "_view_module_version": "1.2.0",
       "_view_name": "LayoutView",
       "align_content": null,
       "align_items": null,
       "align_self": null,
       "border": null,
       "bottom": null,
       "display": null,
       "flex": null,
       "flex_flow": null,
       "grid_area": null,
       "grid_auto_columns": null,
       "grid_auto_flow": null,
       "grid_auto_rows": null,
       "grid_column": null,
       "grid_gap": null,
       "grid_row": null,
       "grid_template_areas": null,
       "grid_template_columns": null,
       "grid_template_rows": null,
       "height": null,
       "justify_content": null,
       "justify_items": null,
       "left": null,
       "margin": null,
       "max_height": null,
       "max_width": null,
       "min_height": null,
       "min_width": null,
       "object_fit": null,
       "object_position": null,
       "order": null,
       "overflow": null,
       "overflow_x": null,
       "overflow_y": null,
       "padding": null,
       "right": null,
       "top": null,
       "visibility": null,
       "width": null
      }
     }
    },
    "version_major": 2,
    "version_minor": 0
   }
  }
 },
 "nbformat": 4,
 "nbformat_minor": 5
}