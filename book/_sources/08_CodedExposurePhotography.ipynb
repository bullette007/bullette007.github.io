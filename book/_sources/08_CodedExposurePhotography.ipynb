{
 "cells": [
  {
   "cell_type": "code",
   "execution_count": 1,
   "id": "515e7e48",
   "metadata": {
    "init_cell": true,
    "tags": [
     "remove-cell"
    ]
   },
   "outputs": [
    {
     "data": {
      "application/javascript": [
       "var cells = Jupyter.notebook.get_cells();\n",
       "           for (var i = 0; i < cells.length; i++) {\n",
       "               var cur_cell = cells[i];\n",
       "               var tags = cur_cell._metadata.tags;\n",
       "               console.log(i);\n",
       "               console.log(tags == undefined);\n",
       "               console.log(tags);\n",
       "               if (tags != undefined) {\n",
       "               for (var j = 0; j < tags.length; j++) {\n",
       "                  if (tags[j]==\"book_only\" | tags[j]==\"remove-cell\") {cur_cell.element.hide();}}\n",
       "               for (var j = 0; j < tags.length; j++) {\n",
       "                   if (tags[j]==\"presentation_only\") {cur_cell.element.show();}}\n",
       "            }}\n"
      ],
      "text/plain": [
       "<IPython.core.display.Javascript object>"
      ]
     },
     "metadata": {},
     "output_type": "display_data"
    }
   ],
   "source": [
    "%%js\n",
    "var cells = Jupyter.notebook.get_cells();\n",
    "           for (var i = 0; i < cells.length; i++) {\n",
    "               var cur_cell = cells[i];\n",
    "               var tags = cur_cell._metadata.tags;\n",
    "               console.log(i);\n",
    "               console.log(tags == undefined);\n",
    "               console.log(tags);\n",
    "               if (tags != undefined) {\n",
    "               for (var j = 0; j < tags.length; j++) {\n",
    "                  if (tags[j]==\"book_only\" | tags[j]==\"remove-cell\") {cur_cell.element.hide();}}\n",
    "               for (var j = 0; j < tags.length; j++) {\n",
    "                   if (tags[j]==\"presentation_only\") {cur_cell.element.show();}}\n",
    "            }}"
   ]
  },
  {
   "cell_type": "code",
   "execution_count": 2,
   "id": "9ae89736",
   "metadata": {
    "init_cell": true,
    "slideshow": {
     "slide_type": "notes"
    },
    "tags": [
     "remove-cell"
    ]
   },
   "outputs": [
    {
     "name": "stderr",
     "output_type": "stream",
     "text": [
      "C:\\Users\\meyjoh\\repos\\vlcompimg\\compimg\\lib\\site-packages\\scipy\\__init__.py:138: UserWarning: A NumPy version >=1.16.5 and <1.23.0 is required for this version of SciPy (detected version 1.23.4)\n",
      "  warnings.warn(f\"A NumPy version >={np_minversion} and <{np_maxversion} is required for this version of \"\n"
     ]
    }
   ],
   "source": [
    "from __future__ import print_function\n",
    "from ipywidgets import interact, interactive, fixed, interact_manual\n",
    "import ipywidgets as widgets\n",
    "import numpy as np\n",
    "import matplotlib.pyplot as plt\n",
    "import cv2\n",
    "import scipy.signal as sig\n",
    "from scipy.integrate import simpson\n",
    "from IPython.display import SVG, display, IFrame, HTML\n",
    "import seaborn as sns\n",
    "import torch\n",
    "from scipy import ndimage\n",
    "from scipy import misc\n",
    "%matplotlib notebook\n",
    "book = False"
   ]
  },
  {
   "cell_type": "code",
   "execution_count": 3,
   "id": "3a3967b1",
   "metadata": {
    "tags": [
     "remove-cell"
    ]
   },
   "outputs": [],
   "source": [
    "%matplotlib inline\n",
    "book = True"
   ]
  },
  {
   "cell_type": "code",
   "execution_count": 4,
   "id": "7ccf0c99",
   "metadata": {
    "init_cell": true,
    "tags": [
     "remove-cell"
    ]
   },
   "outputs": [
    {
     "data": {
      "application/javascript": [
       "MathJax.Hub.Config({\n",
       "    TeX: { equationNumbers: { autoNumber: \"AMS\" } }\n",
       "});\n"
      ],
      "text/plain": [
       "<IPython.core.display.Javascript object>"
      ]
     },
     "metadata": {},
     "output_type": "display_data"
    }
   ],
   "source": [
    "%%javascript\n",
    "MathJax.Hub.Config({\n",
    "    TeX: { equationNumbers: { autoNumber: \"AMS\" } }\n",
    "});"
   ]
  },
  {
   "cell_type": "code",
   "execution_count": 5,
   "id": "6033d65e",
   "metadata": {
    "init_cell": true,
    "tags": [
     "remove-cell"
    ]
   },
   "outputs": [
    {
     "data": {
      "application/javascript": [
       "\n",
       "MathJax.Hub.Queue(\n",
       "  [\"resetEquationNumbers\", MathJax.InputJax.TeX],\n",
       "  [\"PreProcess\", MathJax.Hub],\n",
       "  [\"Reprocess\", MathJax.Hub]\n",
       ");\n"
      ],
      "text/plain": [
       "<IPython.core.display.Javascript object>"
      ]
     },
     "metadata": {},
     "output_type": "display_data"
    }
   ],
   "source": [
    "%%javascript\n",
    "\n",
    "MathJax.Hub.Queue(\n",
    "  [\"resetEquationNumbers\", MathJax.InputJax.TeX],\n",
    "  [\"PreProcess\", MathJax.Hub],\n",
    "  [\"Reprocess\", MathJax.Hub]\n",
    ");"
   ]
  },
  {
   "cell_type": "code",
   "execution_count": 6,
   "id": "704894bf",
   "metadata": {
    "init_cell": true,
    "tags": [
     "remove-cell"
    ]
   },
   "outputs": [],
   "source": [
    "def showFig(path,i,ending, width, height):\n",
    "    filename = path+str(i)+ending\n",
    "    return HTML(\"<img src=\\\"\" + filename +  f\"\\\" style=\\\"max-height:{height}vh\\\"/>\")"
   ]
  },
  {
   "cell_type": "code",
   "execution_count": 7,
   "id": "63c3afa4",
   "metadata": {
    "init_cell": true,
    "tags": [
     "remove-cell"
    ]
   },
   "outputs": [],
   "source": [
    "def showFig2(path,i,ending, width, height):\n",
    "    imgToShow = plt.imread(f\"{path}{i}{ending}\")\n",
    "    plt.imshow(imgToShow)"
   ]
  },
  {
   "cell_type": "code",
   "execution_count": 8,
   "id": "b3694394",
   "metadata": {
    "init_cell": true,
    "tags": [
     "remove-cell"
    ]
   },
   "outputs": [],
   "source": [
    "def imshow(img, cmap=None):\n",
    "    plt.close('all')\n",
    "    plt.figure()\n",
    "    plt.imshow(img, cmap=cmap)\n",
    "    plt.show()"
   ]
  },
  {
   "cell_type": "code",
   "execution_count": 9,
   "id": "1ddff062",
   "metadata": {
    "init_cell": true,
    "tags": [
     "remove-cell"
    ]
   },
   "outputs": [],
   "source": [
    "def imshow2(img, cmap=None):\n",
    "    #plt.close('all')\n",
    "    #plt.figure()\n",
    "    plt.clf()\n",
    "    plt.imshow(img, cmap=cmap)\n",
    "    #plt.show()"
   ]
  },
  {
   "cell_type": "markdown",
   "id": "863ce439",
   "metadata": {
    "slideshow": {
     "slide_type": "slide"
    }
   },
   "source": [
    "$\\begin{align}\n",
    "  \\newcommand{transp}{^\\intercal}\n",
    "  \\newcommand{F}{\\mathcal{F}}\n",
    "  \\newcommand{Fi}{\\mathcal{F}^{-1}}\n",
    "  \\newcommand{inv}{^{-1}}\n",
    "  \\newcommand{stochvec}[1]{\\mathbf{\\tilde{#1}}}\n",
    "  \\newcommand{argmax}[1]{\\underset{#1}{\\mathrm{arg\\, max}}\\,}\n",
    "  \\newcommand{argmin}[1]{\\underset{#1}{\\mathrm{arg\\, min}}\\,}\n",
    "\\end{align}$\n",
    "\n",
    "<font size=\"7\"> Computational Imaging </font><br><br><br>"
   ]
  },
  {
   "cell_type": "markdown",
   "id": "5e7f9750",
   "metadata": {
    "slideshow": {
     "slide_type": "-"
    }
   },
   "source": [
    "# Coded Exposure Photography"
   ]
  },
  {
   "cell_type": "markdown",
   "id": "95c92290",
   "metadata": {
    "slideshow": {
     "slide_type": "subslide"
    }
   },
   "source": [
    "##### Content\n",
    "* Introduction into coded exposure photography\n",
    "* Optical setup for coded exposure photography\n",
    "* Selection of encoding pattern\n",
    "* Reconstruction\n",
    "* Example"
   ]
  },
  {
   "cell_type": "markdown",
   "id": "a804f0bb",
   "metadata": {
    "slideshow": {
     "slide_type": "slide"
    }
   },
   "source": [
    "## Introduction into coded exposure photography"
   ]
  },
  {
   "cell_type": "markdown",
   "id": "5be15f95",
   "metadata": {},
   "source": [
    "When photographing dynamic scenes, moving objects can cause so-called *motion blur* in the captured image depending on the exposure time of the camera.\n",
    "\n",
    "When an object moves during exposure time, its image is smeared over an image region depending on its movement trajectory and its pixel values are blended with those of the stationary background."
   ]
  },
  {
   "cell_type": "markdown",
   "id": "4c9fba35",
   "metadata": {},
   "source": [
    "The obvious way to mitigate or prevent motion blur is to reduce the exposure time and compensate the reduced light efficiency via:\n",
    "* increased digital amplification (at the cost of amplified noise) or\n",
    "* by providing sufficient artificial illumination (e.g., flashes)."
   ]
  },
  {
   "cell_type": "markdown",
   "id": "c62fee57",
   "metadata": {},
   "source": [
    "In this chapter, we will explore a different approach to compensate motion blur that is based on deconvolution. The presented content is based on the paper [Coded Exposure Photography: Motion Deblurring using Fluttered Shutter](https://web.media.mit.edu/~raskar/deblur/CodedExpousreLowres.pdf) by Ramesh Raskar et al.."
   ]
  },
  {
   "cell_type": "markdown",
   "id": "2869a0d1",
   "metadata": {},
   "source": [
    "### Image formation model for motion blur"
   ]
  },
  {
   "cell_type": "markdown",
   "id": "c60b0c41",
   "metadata": {},
   "source": [
    "Assume that the observed scene consists of one object moving linearly along some direction with constant speed (can analogously be extended to multiple objects) in front of a black background (i.e., which reflects no light). \n",
    "\n",
    "The corresponding image formation of the blurred observation $g$ can be modeled via a convolution of the sought sharp image $x$ of the object with the motion blur kernel $h$ and some additive noise $n$:\n",
    "\n",
    "$\\begin{align} \n",
    "   g = x*h + n \\,.\n",
    "\\end{align}$\n",
    "\n",
    "The motion blur kernel $h$ then consists of a one-dimensional $\\mathrm{rect}$-function with a width corresponding to the number of pixels that the image of the object moves on the image sensor during one exposure period. The orientation of the $\\mathrm{rect}$-function corresponds to the direction of the linear movement."
   ]
  },
  {
   "cell_type": "markdown",
   "id": "5e280007",
   "metadata": {},
   "source": [
    "##### Example\n",
    "The following shows a simple example of simulated motion blur:"
   ]
  },
  {
   "cell_type": "markdown",
   "id": "91d40dd3",
   "metadata": {},
   "source": [
    "<img src=\"figures/8/example_convolution_motion_blur.svg\" style=\"max-height:40vh\">"
   ]
  },
  {
   "cell_type": "markdown",
   "id": "80823f8e",
   "metadata": {},
   "source": [
    "The motion blur kernel $h$ can be modeled as a rotated and translated $\\mathrm{rect}$-function:"
   ]
  },
  {
   "cell_type": "markdown",
   "id": "221e2297",
   "metadata": {},
   "source": [
    "<img src=\"figures/8/blur_kernel_line_section.svg\" style=\"max-height:40vh\">"
   ]
  },
  {
   "cell_type": "markdown",
   "id": "f5997ef1",
   "metadata": {},
   "source": [
    "Directly trying to reconstruct the latent image $x$ based on such an observation would lead to strong artifacts.\n",
    "\n",
    "This can be seen explained in two ways:"
   ]
  },
  {
   "cell_type": "markdown",
   "id": "875a3bf7",
   "metadata": {},
   "source": [
    "1. The Fourier transform of the $\\mathrm{rect}(x)$-function is given by $\\mathrm{sinc}(x)=\\frac{\\sin x}{x}$; see the following Figure for a visualization of its graph (logarithm of magnitude of Fourier transform):\n",
    "\n",
    "<img src=\"figures/8/rect_fourier_sinc.svg\" style=\"max-height:40vh\">"
   ]
  },
  {
   "cell_type": "markdown",
   "id": "21484946",
   "metadata": {},
   "source": [
    "The spectrum of the $\\mathrm{sinc}$-function is not flat and has many zeros where information is inevitably lost. Inverting a such a deconvolution would strongly amplify certain frequencies (at the positions of the zeros) and hence might also amplify unwanted noise."
   ]
  },
  {
   "cell_type": "markdown",
   "id": "6041390f",
   "metadata": {},
   "source": [
    "2. The autocorrelation of the $\\mathrm{rect}$-function does not resemble a Dirac-like what is hindering for the reconstruction."
   ]
  },
  {
   "cell_type": "markdown",
   "id": "483d30c6",
   "metadata": {},
   "source": [
    "As a consequence, a better encoding strategy has to be found."
   ]
  },
  {
   "cell_type": "markdown",
   "id": "3d60c40a",
   "metadata": {},
   "source": [
    "## Optical setup for coded exposure photography"
   ]
  },
  {
   "cell_type": "markdown",
   "id": "45fa06dd",
   "metadata": {},
   "source": [
    "In order to control the exposure modulation, an existing camera can be extended via a programmable shutter that is synchronized with the exposure control of the camera.\n",
    "\n",
    "In the referenced paper, the authors use a programmable LCD as a spatial light modulator placed in front of the main lens of a digital lens reflex camera and simultaneously turn all pixels transparent or opaque to realize an encoding of the exposure."
   ]
  },
  {
   "cell_type": "markdown",
   "id": "68c82e74",
   "metadata": {},
   "source": [
    "The whole exposure period $T$ of the camera can be divided into $M$ time slices, so-called *chops* with duration $T/M$.\n",
    "\n",
    "During each chop, the LCD-based shutter is either set to transparent or opaque as stated in a corresponding pattern vector $\\mathbf{p}\\in \\left\\{ 0,1 \\right\\}^M $"
   ]
  },
  {
   "cell_type": "markdown",
   "id": "20344706",
   "metadata": {},
   "source": [
    "## Selection of encoding pattern $\\mathbf{p}$"
   ]
  },
  {
   "cell_type": "markdown",
   "id": "4084ec08",
   "metadata": {},
   "source": [
    "When searching for an optimal code, two mutual criteria have to be optimized:\n",
    "1. Invertibility (i.e., flat Fourier spectrum and as few zeros as possible), \n",
    "2. light efficiency (i.e., many ones in $\\mathbf{p}$)."
   ]
  },
  {
   "cell_type": "markdown",
   "id": "cf175b92",
   "metadata": {},
   "source": [
    "One possibility to ensure light efficiency is to fix the ratio of ones and zeros in $\\mathbf{p}$ to $1:1$."
   ]
  },
  {
   "cell_type": "markdown",
   "id": "0e42333a",
   "metadata": {},
   "source": [
    "For a given number $M$ of chops, this design decision sets the set of possible encoding candidates which could be evaluated with respect to criterion 1 (invertibility) in a brute force manner."
   ]
  },
  {
   "cell_type": "markdown",
   "id": "2eaffa52",
   "metadata": {},
   "source": [
    "This has been done by the authors of the referenced paper by means of a randomized linear search for $M=52$. \n",
    "\n",
    "The resulting encoding is\n",
    "$\\begin{align} \n",
    "   \\mathbf{p} = (1010000111000001010000110011110111010111001001100111)\\transp \\,.\n",
    "\\end{align}$"
   ]
  },
  {
   "cell_type": "markdown",
   "id": "54da42f5",
   "metadata": {},
   "source": [
    "The logarithm of the magnitude of the spectrum of that code is shown below (for positive spatial frequencies):\n",
    "\n",
    "<img src=\"figures/8/encoding_spectrum.svg\" style=\"max-height:40vh\">"
   ]
  },
  {
   "cell_type": "markdown",
   "id": "3bd162cc",
   "metadata": {},
   "source": [
    "## Reconstruction"
   ]
  },
  {
   "cell_type": "markdown",
   "id": "9a06e4cb",
   "metadata": {},
   "source": [
    "The reconstruction can be performed with any suitable deconvolution method (Wiener filter, iterative methods, data-driven methods)."
   ]
  },
  {
   "cell_type": "markdown",
   "id": "f12e4348",
   "metadata": {},
   "source": [
    "When applied in a practical scenario, there are two open points which have to be addressed:\n",
    "1. The orientation of the encoding line in the motion blur kernel $h$ has to be determined.\n",
    "2. Different regions in the image can be affected by different types of motion blur, i.e., different directions, different movement velocities, no movement (e.g., background) and those regions can also be blended with each other."
   ]
  },
  {
   "cell_type": "markdown",
   "id": "51992e86",
   "metadata": {},
   "source": [
    "Point 1 can be solved by prompting the user to estimate the movement direction and length (in pixels).\n",
    "\n",
    "Both points can be addressed simultaneously by employing methods for locally estimating the blur PSF, i.e., with respect to the pixel position."
   ]
  },
  {
   "cell_type": "markdown",
   "id": "f4309bdc",
   "metadata": {},
   "source": [
    "## Example"
   ]
  },
  {
   "cell_type": "markdown",
   "id": "a475cd50",
   "metadata": {},
   "source": [
    "Consider again the following example image:\n",
    "\n",
    "<img src=\"figures/8/tree.png\" style=\"max-height:40vh\">"
   ]
  },
  {
   "cell_type": "markdown",
   "id": "e57a5811",
   "metadata": {},
   "source": [
    "We simulate a horizontal motion blur by convolving with a 52 pixel width conventional $\\mathrm{rect}$-like kernel and with kernel encoded according to the previously mentioned pattern:\n",
    "\n",
    "<img src=\"figures/8/observation_motion_blur_different_kernels.svg\" style=\"max-height:40vh\">"
   ]
  },
  {
   "cell_type": "markdown",
   "id": "b99c6b65",
   "metadata": {},
   "source": [
    "For both images, we add Gaussian noise of different levels and try to reconstruct the undistorted image with a Wiener filter using the introduced heuristic for estimating the signal-to-noise ratio.\n",
    "\n",
    "By this means, we achieve the following qualitative results:"
   ]
  },
  {
   "cell_type": "code",
   "execution_count": 10,
   "id": "e63916bc",
   "metadata": {},
   "outputs": [
    {
     "data": {
      "application/vnd.jupyter.widget-view+json": {
       "model_id": "7cd327be8b43477dab91aacc7f68280b",
       "version_major": 2,
       "version_minor": 0
      },
      "text/plain": [
       "interactive(children=(IntSlider(value=5, description='i', max=5), Output()), _dom_classes=('widget-interact',)…"
      ]
     },
     "metadata": {},
     "output_type": "display_data"
    },
    {
     "data": {
      "text/plain": [
       "<function __main__.<lambda>(i)>"
      ]
     },
     "execution_count": 10,
     "metadata": {},
     "output_type": "execute_result"
    }
   ],
   "source": [
    "interact(lambda i: showFig('figures/8/motion_deblur_results_',i,'.svg',800,50), i=widgets.IntSlider(min=(min_i:=0),max=(max_i:=5), step=1, value=(max_i if book else min_i)))"
   ]
  },
  {
   "cell_type": "markdown",
   "id": "873d0fb8",
   "metadata": {},
   "source": [
    "The results can be evaluated quantitatively by calculating the root mean squared reconstruction error with respect to the undistorted image:\n",
    "\n",
    "<img src=\"figures/8/reconstruction_rmse.svg\" style=\"max-height:40vh\">"
   ]
  },
  {
   "cell_type": "markdown",
   "id": "efd23b5f",
   "metadata": {
    "tags": [
     "remove-cell"
    ]
   },
   "source": [
    "##### Archive"
   ]
  },
  {
   "cell_type": "code",
   "execution_count": 11,
   "id": "bc3aecbd",
   "metadata": {
    "tags": [
     "remove-cell"
    ]
   },
   "outputs": [],
   "source": [
    "h = plt.imread(\"figures/8/example_motion_blur_2.png\")"
   ]
  },
  {
   "cell_type": "code",
   "execution_count": 12,
   "id": "a868708a",
   "metadata": {
    "tags": [
     "remove-cell"
    ]
   },
   "outputs": [
    {
     "data": {
      "text/plain": [
       "(71, 71)"
      ]
     },
     "execution_count": 12,
     "metadata": {},
     "output_type": "execute_result"
    }
   ],
   "source": [
    "h.shape"
   ]
  },
  {
   "cell_type": "markdown",
   "id": "fc1134d1",
   "metadata": {
    "tags": [
     "remove-cell"
    ]
   },
   "source": [
    "img = np.float32(misc.face(gray=True))"
   ]
  },
  {
   "cell_type": "code",
   "execution_count": 13,
   "id": "760ab0b7",
   "metadata": {
    "tags": [
     "remove-cell"
    ]
   },
   "outputs": [],
   "source": [
    "img = plt.imread(\"figures/8/tree.png\")"
   ]
  },
  {
   "cell_type": "code",
   "execution_count": 14,
   "id": "5dd5e288",
   "metadata": {
    "tags": [
     "remove-cell"
    ]
   },
   "outputs": [],
   "source": [
    "img_blurred = ndimage.convolve(img, h, mode='wrap')"
   ]
  },
  {
   "cell_type": "code",
   "execution_count": 15,
   "id": "54f0f940",
   "metadata": {
    "tags": [
     "remove-cell"
    ]
   },
   "outputs": [],
   "source": [
    "plt.imsave(\"figures/8/example_motion_blur_tree.png\", img_blurred, cmap='gray')"
   ]
  },
  {
   "cell_type": "code",
   "execution_count": 16,
   "id": "10df30f4",
   "metadata": {
    "tags": [
     "remove-cell"
    ]
   },
   "outputs": [
    {
     "data": {
      "image/png": "[encoded data removed]",
      "text/plain": [
       "<Figure size 432x288 with 1 Axes>"
      ]
     },
     "metadata": {
      "filenames": {
       "image/png": "C:\\Users\\meyjoh\\repos\\vlcompimg\\mynewbook\\_build\\jupyter_execute\\08_CodedExposurePhotography_53_0.png"
      },
      "needs_background": "light"
     },
     "output_type": "display_data"
    }
   ],
   "source": [
    "imshow(img_blurred, cmap='gray')"
   ]
  },
  {
   "cell_type": "code",
   "execution_count": 17,
   "id": "9c856379",
   "metadata": {
    "tags": [
     "remove-cell"
    ]
   },
   "outputs": [],
   "source": [
    "def mag_square(inp : np.ndarray):\n",
    "    return inp.real**2 + inp.imag**2"
   ]
  },
  {
   "cell_type": "code",
   "execution_count": 18,
   "id": "29d439c7",
   "metadata": {
    "tags": [
     "remove-cell"
    ]
   },
   "outputs": [],
   "source": [
    "xs = np.linspace(-3, 3, 1001)\n",
    "ys = np.zeros_like(xs)\n",
    "ys[(xs >= -1) & (xs <= 1)] = 1"
   ]
  },
  {
   "cell_type": "code",
   "execution_count": 19,
   "id": "d2b9bfbe",
   "metadata": {
    "tags": [
     "remove-cell"
    ]
   },
   "outputs": [],
   "source": [
    "ys = np.array([1,0,1,0,0,0,0,1,1,1,0,0,0,0,0,1,0,1,0,0,0,0,1,1,0,0,1,1,1,1,0,1,1,1,0,1,0,1,1,1,0,0,1,0,0,1,1,0,0,1,1,1])\n",
    "ys = np.pad(ys, (100,101))\n",
    "xs = np.arange(0,len(ys))\n",
    "xs = xs - int(len(xs)/2)"
   ]
  },
  {
   "cell_type": "code",
   "execution_count": 20,
   "id": "cb554128",
   "metadata": {
    "tags": [
     "remove-cell"
    ]
   },
   "outputs": [
    {
     "data": {
      "text/plain": [
       "<matplotlib.lines.Line2D at 0x1fd62063160>"
      ]
     },
     "execution_count": 20,
     "metadata": {},
     "output_type": "execute_result"
    },
    {
     "data": {
      "image/png": "[encoded data removed]",
      "text/plain": [
       "<Figure size 432x288 with 1 Axes>"
      ]
     },
     "metadata": {
      "filenames": {
       "image/png": "C:\\Users\\meyjoh\\repos\\vlcompimg\\mynewbook\\_build\\jupyter_execute\\08_CodedExposurePhotography_57_1.png"
      },
      "needs_background": "light"
     },
     "output_type": "display_data"
    }
   ],
   "source": [
    "plt.figure()\n",
    "plt.plot(xs,ys)\n",
    "plt.axhline(0, color='k', linestyle=\":\")\n",
    "plt.axvline(0, color='k', linestyle=\":\")"
   ]
  },
  {
   "cell_type": "code",
   "execution_count": 21,
   "id": "c24a7cf5",
   "metadata": {
    "tags": [
     "remove-cell"
    ]
   },
   "outputs": [
    {
     "data": {
      "text/plain": [
       "<Figure size 432x288 with 0 Axes>"
      ]
     },
     "metadata": {},
     "output_type": "display_data"
    }
   ],
   "source": [
    "plt.savefig(\"rect.svg\")"
   ]
  },
  {
   "cell_type": "code",
   "execution_count": 22,
   "id": "6964bd3d",
   "metadata": {
    "tags": [
     "remove-cell"
    ]
   },
   "outputs": [
    {
     "data": {
      "text/plain": [
       "<matplotlib.lines.Line2D at 0x1fd640ecfa0>"
      ]
     },
     "execution_count": 22,
     "metadata": {},
     "output_type": "execute_result"
    },
    {
     "data": {
      "image/png": "[encoded data removed]",
      "text/plain": [
       "<Figure size 432x288 with 1 Axes>"
      ]
     },
     "metadata": {
      "filenames": {
       "image/png": "C:\\Users\\meyjoh\\repos\\vlcompimg\\mynewbook\\_build\\jupyter_execute\\08_CodedExposurePhotography_59_1.png"
      },
      "needs_background": "light"
     },
     "output_type": "display_data"
    }
   ],
   "source": [
    "plt.figure()\n",
    "plt.plot(xs,(np.log(mag_square(np.fft.fftshift(np.fft.fft(np.fft.ifftshift(ys)))))))\n",
    "plt.axhline(0, color='k', linestyle=\":\")\n",
    "plt.axvline(0, color='k', linestyle=\":\")"
   ]
  },
  {
   "cell_type": "code",
   "execution_count": 23,
   "id": "cd9a5712",
   "metadata": {
    "tags": [
     "remove-cell"
    ]
   },
   "outputs": [
    {
     "data": {
      "text/plain": [
       "<Figure size 432x288 with 0 Axes>"
      ]
     },
     "metadata": {},
     "output_type": "display_data"
    }
   ],
   "source": [
    "plt.savefig(\"code_spectrum.svg\")"
   ]
  },
  {
   "cell_type": "code",
   "execution_count": 24,
   "id": "c303b574",
   "metadata": {
    "tags": [
     "remove-cell"
    ]
   },
   "outputs": [
    {
     "data": {
      "text/plain": [
       "[<matplotlib.lines.Line2D at 0x1fd64159fa0>]"
      ]
     },
     "execution_count": 24,
     "metadata": {},
     "output_type": "execute_result"
    },
    {
     "data": {
      "image/png": "[encoded data removed]",
      "text/plain": [
       "<Figure size 432x288 with 1 Axes>"
      ]
     },
     "metadata": {
      "filenames": {
       "image/png": "C:\\Users\\meyjoh\\repos\\vlcompimg\\mynewbook\\_build\\jupyter_execute\\08_CodedExposurePhotography_61_1.png"
      },
      "needs_background": "light"
     },
     "output_type": "display_data"
    }
   ],
   "source": [
    "plt.figure()\n",
    "plt.plot(np.correlate(ys,ys, mode=\"full\"))"
   ]
  },
  {
   "cell_type": "code",
   "execution_count": 25,
   "id": "b4202880",
   "metadata": {
    "tags": [
     "remove-cell"
    ]
   },
   "outputs": [
    {
     "data": {
      "text/plain": [
       "[<matplotlib.lines.Line2D at 0x1fd641c8220>]"
      ]
     },
     "execution_count": 25,
     "metadata": {},
     "output_type": "execute_result"
    },
    {
     "data": {
      "image/png": "[encoded data removed]",
      "text/plain": [
       "<Figure size 432x288 with 1 Axes>"
      ]
     },
     "metadata": {
      "filenames": {
       "image/png": "C:\\Users\\meyjoh\\repos\\vlcompimg\\mynewbook\\_build\\jupyter_execute\\08_CodedExposurePhotography_62_1.png"
      },
      "needs_background": "light"
     },
     "output_type": "display_data"
    }
   ],
   "source": [
    "plt.figure()\n",
    "ys2 = np.random.randint(0,2,1001)\n",
    "plt.plot(np.correlate(ys2,ys2, mode=\"full\"))"
   ]
  },
  {
   "cell_type": "code",
   "execution_count": 26,
   "id": "ea1d380b",
   "metadata": {
    "tags": [
     "remove-cell"
    ]
   },
   "outputs": [],
   "source": [
    "def make_odd_shapes(inp : np.ndarray) -> np.ndarray:\n",
    "    if (inp.shape[0] % 2 == 0):\n",
    "        inp = inp[0:-1,:]\n",
    "    if (inp.shape[1] % 2 == 0):\n",
    "        inp = inp[:,0:-1]\n",
    "    return inp"
   ]
  },
  {
   "cell_type": "code",
   "execution_count": 27,
   "id": "8564b068",
   "metadata": {
    "tags": [
     "remove-cell"
    ]
   },
   "outputs": [],
   "source": [
    "def pad_like(inp : np.ndarray, like : np.ndarray):\n",
    "    to_pad = tuple(np.int32((np.array(like.shape) - np.array(inp.shape))/2))\n",
    "    return np.pad(inp, ((to_pad[0], to_pad[0]), (to_pad[1], to_pad[1])))"
   ]
  },
  {
   "cell_type": "code",
   "execution_count": 28,
   "id": "a29e29c0",
   "metadata": {
    "tags": [
     "remove-cell"
    ]
   },
   "outputs": [],
   "source": [
    "def wiener_filter(g:np.ndarray, h:np.ndarray) -> np.ndarray:\n",
    "    g_fft = np.fft.fft2(g)\n",
    "    h_padded = pad_like(h, g)\n",
    "    h_fft = np.fft.fft2(np.fft.ifftshift(h_padded))\n",
    "    \n",
    "    X,Y = np.meshgrid(np.arange(1,g.shape[1]+1), np.arange(1,g.shape[0]+1))\n",
    "    \n",
    "    snr = (1 / np.sqrt(X**2 + Y**2))\n",
    "    \n",
    "    inv_fft = g_fft * np.conjugate(h_fft) / (mag_square(h_fft) + snr)\n",
    "    return np.real(np.fft.ifft2(inv_fft))"
   ]
  },
  {
   "cell_type": "code",
   "execution_count": 29,
   "id": "d4a5f36f",
   "metadata": {
    "tags": [
     "remove-cell"
    ]
   },
   "outputs": [],
   "source": [
    "h_encoded = np.array([1,0,1,0,0,0,0,1,1,1,0,0,0,0,0,1,0,1,0,0,0,0,1,1,0,0,1,1,1,1,0,1,1,1,0,1,0,1,1,1,0,0,1,0,0,1,1,0,0,1,1,1])\n",
    "h_normal = np.ones_like(h_encoded)\n",
    "\n",
    "h_encoded = np.pad(h_encoded, (2,1))\n",
    "h_normal = np.pad(h_normal, (2,1))\n",
    "\n",
    "h_encoded = np.vstack((np.zeros_like(h_encoded),h_encoded, np.zeros_like(h_encoded)))\n",
    "h_normal = np.vstack((np.zeros_like(h_normal),h_normal, np.zeros_like(h_normal)))"
   ]
  },
  {
   "cell_type": "code",
   "execution_count": 30,
   "id": "1f9a85b0",
   "metadata": {
    "tags": [
     "remove-cell"
    ]
   },
   "outputs": [
    {
     "data": {
      "image/png": "[encoded data removed]",
      "text/plain": [
       "<Figure size 432x288 with 1 Axes>"
      ]
     },
     "metadata": {
      "filenames": {
       "image/png": "C:\\Users\\meyjoh\\repos\\vlcompimg\\mynewbook\\_build\\jupyter_execute\\08_CodedExposurePhotography_67_0.png"
      },
      "needs_background": "light"
     },
     "output_type": "display_data"
    }
   ],
   "source": [
    "imshow(ndimage.convolve(img, h_encoded), cmap='gray')"
   ]
  },
  {
   "cell_type": "code",
   "execution_count": 31,
   "id": "99f9bd45",
   "metadata": {
    "tags": [
     "remove-cell"
    ]
   },
   "outputs": [],
   "source": [
    "img = make_odd_shapes(img)*255"
   ]
  },
  {
   "cell_type": "code",
   "execution_count": 32,
   "id": "e90a7582",
   "metadata": {
    "tags": [
     "remove-cell"
    ]
   },
   "outputs": [],
   "source": [
    "sigmas = np.float32(np.array([0,2,4,8,16,32]))  # Standard deviations for Gaussian noise\n",
    "noises = []   # List for observations\n",
    "for sigma in sigmas:\n",
    "    cur_img = np.random.normal(0, sigma, img.shape)\n",
    "    noises.append(cur_img)"
   ]
  },
  {
   "cell_type": "code",
   "execution_count": 33,
   "id": "c5eecb6f",
   "metadata": {
    "tags": [
     "remove-cell"
    ]
   },
   "outputs": [],
   "source": [
    "normal_recs = []\n",
    "normal_rms = []\n",
    "encoded_recs = []\n",
    "encoded_rms = []\n",
    "\n",
    "for noise in noises:\n",
    "    g_normal = ndimage.convolve(img, h_normal) + noise\n",
    "    g_encoded = ndimage.convolve(img, h_encoded) + noise\n",
    "    \n",
    "    rec_normal = wiener_filter(g_normal, h_normal)\n",
    "    rec_encoded = wiener_filter(g_encoded, h_encoded)\n",
    "    \n",
    "    normal_recs.append(rec_normal)\n",
    "    encoded_recs.append(rec_encoded)\n",
    "    \n",
    "    normal_rms.append(np.sum(np.sqrt((rec_normal - img)**2)))\n",
    "    encoded_rms.append(np.sum(np.sqrt((rec_encoded - img)**2)))"
   ]
  },
  {
   "cell_type": "code",
   "execution_count": 34,
   "id": "d2a08f4c",
   "metadata": {
    "tags": [
     "remove-cell"
    ]
   },
   "outputs": [
    {
     "data": {
      "image/png": "[encoded data removed]",
      "text/plain": [
       "<Figure size 432x288 with 1 Axes>"
      ]
     },
     "metadata": {
      "filenames": {
       "image/png": "C:\\Users\\meyjoh\\repos\\vlcompimg\\mynewbook\\_build\\jupyter_execute\\08_CodedExposurePhotography_71_0.png"
      },
      "needs_background": "light"
     },
     "output_type": "display_data"
    }
   ],
   "source": [
    "plt.figure()\n",
    "plt.plot(encoded_rms, 'b+', label=\"with encoding\")\n",
    "plt.plot(normal_rms, 'r+', label=\"without encoding\")\n",
    "plt.xticks(np.arange(0,len(sigmas)), sigmas)\n",
    "plt.xlabel(\"$\\sigma$\")\n",
    "plt.ylabel(\"RMS reconstruction error\")\n",
    "plt.legend()\n",
    "plt.savefig(\"reconstruction_rmse.svg\")"
   ]
  },
  {
   "cell_type": "code",
   "execution_count": 35,
   "id": "dc84a020",
   "metadata": {
    "tags": [
     "remove-cell"
    ]
   },
   "outputs": [],
   "source": [
    "def show_reconst(i):\n",
    "    plt.subplot(1,2,1)\n",
    "    plt.imshow(normal_recs[i], cmap='gray')\n",
    "    plt.title(f\"Reconstruction for\\n conventional kernel\\n for $\\sigma$ = {sigmas[i]}\")\n",
    "    plt.subplot(1,2,2)\n",
    "    plt.imshow(encoded_recs[i], cmap='gray')\n",
    "    plt.title(f\"Reconstruction for\\n encoding kernel\\n for $\\sigma$ = {sigmas[i]}\")"
   ]
  },
  {
   "cell_type": "code",
   "execution_count": 36,
   "id": "05ab8cd6",
   "metadata": {
    "tags": [
     "remove-cell"
    ]
   },
   "outputs": [
    {
     "data": {
      "text/plain": [
       "<Figure size 432x288 with 0 Axes>"
      ]
     },
     "metadata": {},
     "output_type": "display_data"
    },
    {
     "data": {
      "application/vnd.jupyter.widget-view+json": {
       "model_id": "609c1de1fa8941d8b337ed7fd05500de",
       "version_major": 2,
       "version_minor": 0
      },
      "text/plain": [
       "interactive(children=(IntSlider(value=5, description='i', max=5), Output()), _dom_classes=('widget-interact',)…"
      ]
     },
     "metadata": {},
     "output_type": "display_data"
    },
    {
     "data": {
      "text/plain": [
       "<function __main__.<lambda>(i)>"
      ]
     },
     "execution_count": 36,
     "metadata": {},
     "output_type": "execute_result"
    }
   ],
   "source": [
    "plt.figure()\n",
    "interact(lambda i: show_reconst(i), i=widgets.IntSlider(min=(min_i:=0),max=(max_i:=len(encoded_recs)-1), step=1, value=(max_i if book else min_i)))"
   ]
  },
  {
   "cell_type": "code",
   "execution_count": 37,
   "id": "8e53967a",
   "metadata": {
    "tags": [
     "remove-cell"
    ]
   },
   "outputs": [
    {
     "data": {
      "image/png": "[encoded data removed]",
      "text/plain": [
       "<Figure size 432x288 with 2 Axes>"
      ]
     },
     "metadata": {
      "filenames": {
       "image/png": "C:\\Users\\meyjoh\\repos\\vlcompimg\\mynewbook\\_build\\jupyter_execute\\08_CodedExposurePhotography_74_0.png"
      },
      "needs_background": "light"
     },
     "output_type": "display_data"
    }
   ],
   "source": [
    "plt.figure()\n",
    "for i in range(0,len(encoded_recs)):\n",
    "    show_reconst(i)\n",
    "    plt.savefig(f\"motion_deblur_results_{i}.svg\")"
   ]
  },
  {
   "cell_type": "code",
   "execution_count": 38,
   "id": "7c39cd39",
   "metadata": {
    "tags": [
     "remove-cell"
    ]
   },
   "outputs": [
    {
     "data": {
      "text/plain": [
       "Text(0.5, 1.0, 'Observed image for\\n encoded kernel')"
      ]
     },
     "execution_count": 38,
     "metadata": {},
     "output_type": "execute_result"
    },
    {
     "data": {
      "image/png": "[encoded data removed]",
      "text/plain": [
       "<Figure size 432x288 with 2 Axes>"
      ]
     },
     "metadata": {
      "filenames": {
       "image/png": "C:\\Users\\meyjoh\\repos\\vlcompimg\\mynewbook\\_build\\jupyter_execute\\08_CodedExposurePhotography_75_1.png"
      },
      "needs_background": "light"
     },
     "output_type": "display_data"
    }
   ],
   "source": [
    "plt.figure()\n",
    "plt.subplot(1,2,1)\n",
    "plt.imshow(ndimage.convolve(img, h_normal), cmap='gray')\n",
    "plt.title(f\"Observed image for\\n conventional kernel\")\n",
    "plt.subplot(1,2,2)\n",
    "plt.imshow(ndimage.convolve(img, h_encoded), cmap='gray')\n",
    "plt.title(f\"Observed image for\\n encoded kernel\")"
   ]
  },
  {
   "cell_type": "code",
   "execution_count": 39,
   "id": "2faff4f2",
   "metadata": {
    "tags": [
     "remove-cell"
    ]
   },
   "outputs": [
    {
     "data": {
      "text/plain": [
       "<Figure size 432x288 with 0 Axes>"
      ]
     },
     "metadata": {},
     "output_type": "display_data"
    }
   ],
   "source": [
    "plt.savefig(\"observation_motion_blur_different_kernels.svg\")"
   ]
  },
  {
   "cell_type": "code",
   "execution_count": null,
   "id": "e64b0799",
   "metadata": {
    "tags": [
     "remove-cell"
    ]
   },
   "outputs": [],
   "source": []
  }
 ],
 "metadata": {
  "jupytext": {
   "formats": "ipynb,md:myst",
   "text_representation": {
    "extension": ".md",
    "format_name": "myst",
    "format_version": 0.13,
    "jupytext_version": "1.14.1"
   }
  },
  "kernelspec": {
   "display_name": "compimg",
   "language": "python",
   "name": "compimg"
  },
  "language_info": {
   "codemirror_mode": {
    "name": "ipython",
    "version": 3
   },
   "file_extension": ".py",
   "mimetype": "text/x-python",
   "name": "python",
   "nbconvert_exporter": "python",
   "pygments_lexer": "ipython3",
   "version": "3.8.10"
  },
  "source_map": [
   15,
   35,
   59,
   66,
   76,
   89,
   98,
   107,
   118,
   130,
   144,
   148,
   157,
   161,
   167,
   173,
   177,
   181,
   193,
   198,
   202,
   206,
   210,
   216,
   222,
   226,
   230,
   234,
   238,
   244,
   250,
   254,
   260,
   264,
   268,
   277,
   283,
   287,
   291,
   297,
   303,
   307,
   313,
   319,
   325,
   327,
   333,
   337,
   343,
   349,
   353,
   359,
   365,
   371,
   377,
   384,
   392,
   401,
   410,
   416,
   425,
   431,
   438,
   446,
   457,
   465,
   481,
   494,
   500,
   506,
   516,
   538,
   551,
   563,
   570,
   579,
   591,
   597
  ],
  "widgets": {
   "application/vnd.jupyter.widget-state+json": {
    "state": {
     "1d77ad381ec04478a69b5417bb3a61b0": {
      "model_module": "@jupyter-widgets/controls",
      "model_module_version": "1.5.0",
      "model_name": "IntSliderModel",
      "state": {
       "_dom_classes": [],
       "_model_module": "@jupyter-widgets/controls",
       "_model_module_version": "1.5.0",
       "_model_name": "IntSliderModel",
       "_view_count": null,
       "_view_module": "@jupyter-widgets/controls",
       "_view_module_version": "1.5.0",
       "_view_name": "IntSliderView",
       "continuous_update": true,
       "description": "i",
       "description_tooltip": null,
       "disabled": false,
       "layout": "IPY_MODEL_3b1e3a7ad4934bb1a0a814feb5b23c24",
       "max": 5,
       "min": 0,
       "orientation": "horizontal",
       "readout": true,
       "readout_format": "d",
       "step": 1,
       "style": "IPY_MODEL_8715a396e49948c7806053a894367a5b",
       "value": 5
      }
     },
     "399a1dcda82a4ca2a08eb4ab79f5dc2d": {
      "model_module": "@jupyter-widgets/output",
      "model_module_version": "1.0.0",
      "model_name": "OutputModel",
      "state": {
       "_dom_classes": [],
       "_model_module": "@jupyter-widgets/output",
       "_model_module_version": "1.0.0",
       "_model_name": "OutputModel",
       "_view_count": null,
       "_view_module": "@jupyter-widgets/output",
       "_view_module_version": "1.0.0",
       "_view_name": "OutputView",
       "layout": "IPY_MODEL_ac43b407a72244e696ddbf26a7d3d68b",
       "msg_id": "",
       "outputs": [
        {
         "data": {
          "text/html": "<img src=\"figures/8/motion_deblur_results_5.svg\" style=\"max-height:50vh\"/>",
          "text/plain": "<IPython.core.display.HTML object>"
         },
         "metadata": {},
         "output_type": "display_data"
        }
       ]
      }
     },
     "3b1e3a7ad4934bb1a0a814feb5b23c24": {
      "model_module": "@jupyter-widgets/base",
      "model_module_version": "1.2.0",
      "model_name": "LayoutModel",
      "state": {
       "_model_module": "@jupyter-widgets/base",
       "_model_module_version": "1.2.0",
       "_model_name": "LayoutModel",
       "_view_count": null,
       "_view_module": "@jupyter-widgets/base",
       "_view_module_version": "1.2.0",
       "_view_name": "LayoutView",
       "align_content": null,
       "align_items": null,
       "align_self": null,
       "border": null,
       "bottom": null,
       "display": null,
       "flex": null,
       "flex_flow": null,
       "grid_area": null,
       "grid_auto_columns": null,
       "grid_auto_flow": null,
       "grid_auto_rows": null,
       "grid_column": null,
       "grid_gap": null,
       "grid_row": null,
       "grid_template_areas": null,
       "grid_template_columns": null,
       "grid_template_rows": null,
       "height": null,
       "justify_content": null,
       "justify_items": null,
       "left": null,
       "margin": null,
       "max_height": null,
       "max_width": null,
       "min_height": null,
       "min_width": null,
       "object_fit": null,
       "object_position": null,
       "order": null,
       "overflow": null,
       "overflow_x": null,
       "overflow_y": null,
       "padding": null,
       "right": null,
       "top": null,
       "visibility": null,
       "width": null
      }
     },
     "4c0eb2dfd989454aae0db7b704436d4a": {
      "model_module": "@jupyter-widgets/controls",
      "model_module_version": "1.5.0",
      "model_name": "SliderStyleModel",
      "state": {
       "_model_module": "@jupyter-widgets/controls",
       "_model_module_version": "1.5.0",
       "_model_name": "SliderStyleModel",
       "_view_count": null,
       "_view_module": "@jupyter-widgets/base",
       "_view_module_version": "1.2.0",
       "_view_name": "StyleView",
       "description_width": "",
       "handle_color": null
      }
     },
     "4ce5f110edb640d897204ad81d77405c": {
      "model_module": "@jupyter-widgets/controls",
      "model_module_version": "1.5.0",
      "model_name": "IntSliderModel",
      "state": {
       "_dom_classes": [],
       "_model_module": "@jupyter-widgets/controls",
       "_model_module_version": "1.5.0",
       "_model_name": "IntSliderModel",
       "_view_count": null,
       "_view_module": "@jupyter-widgets/controls",
       "_view_module_version": "1.5.0",
       "_view_name": "IntSliderView",
       "continuous_update": true,
       "description": "i",
       "description_tooltip": null,
       "disabled": false,
       "layout": "IPY_MODEL_bed9baa094cf493ebf7056bdaa23c8db",
       "max": 5,
       "min": 0,
       "orientation": "horizontal",
       "readout": true,
       "readout_format": "d",
       "step": 1,
       "style": "IPY_MODEL_4c0eb2dfd989454aae0db7b704436d4a",
       "value": 5
      }
     },
     "609c1de1fa8941d8b337ed7fd05500de": {
      "model_module": "@jupyter-widgets/controls",
      "model_module_version": "1.5.0",
      "model_name": "VBoxModel",
      "state": {
       "_dom_classes": [
        "widget-interact"
       ],
       "_model_module": "@jupyter-widgets/controls",
       "_model_module_version": "1.5.0",
       "_model_name": "VBoxModel",
       "_view_count": null,
       "_view_module": "@jupyter-widgets/controls",
       "_view_module_version": "1.5.0",
       "_view_name": "VBoxView",
       "box_style": "",
       "children": [
        "IPY_MODEL_1d77ad381ec04478a69b5417bb3a61b0",
        "IPY_MODEL_83cd76525b40466eb3871fdb6cbaca8f"
       ],
       "layout": "IPY_MODEL_9743522e9551410890f2097aafb489dd"
      }
     },
     "6d009129506842258d1f42990f0d1ccb": {
      "model_module": "@jupyter-widgets/base",
      "model_module_version": "1.2.0",
      "model_name": "LayoutModel",
      "state": {
       "_model_module": "@jupyter-widgets/base",
       "_model_module_version": "1.2.0",
       "_model_name": "LayoutModel",
       "_view_count": null,
       "_view_module": "@jupyter-widgets/base",
       "_view_module_version": "1.2.0",
       "_view_name": "LayoutView",
       "align_content": null,
       "align_items": null,
       "align_self": null,
       "border": null,
       "bottom": null,
       "display": null,
       "flex": null,
       "flex_flow": null,
       "grid_area": null,
       "grid_auto_columns": null,
       "grid_auto_flow": null,
       "grid_auto_rows": null,
       "grid_column": null,
       "grid_gap": null,
       "grid_row": null,
       "grid_template_areas": null,
       "grid_template_columns": null,
       "grid_template_rows": null,
       "height": null,
       "justify_content": null,
       "justify_items": null,
       "left": null,
       "margin": null,
       "max_height": null,
       "max_width": null,
       "min_height": null,
       "min_width": null,
       "object_fit": null,
       "object_position": null,
       "order": null,
       "overflow": null,
       "overflow_x": null,
       "overflow_y": null,
       "padding": null,
       "right": null,
       "top": null,
       "visibility": null,
       "width": null
      }
     },
     "7cd327be8b43477dab91aacc7f68280b": {
      "model_module": "@jupyter-widgets/controls",
      "model_module_version": "1.5.0",
      "model_name": "VBoxModel",
      "state": {
       "_dom_classes": [
        "widget-interact"
       ],
       "_model_module": "@jupyter-widgets/controls",
       "_model_module_version": "1.5.0",
       "_model_name": "VBoxModel",
       "_view_count": null,
       "_view_module": "@jupyter-widgets/controls",
       "_view_module_version": "1.5.0",
       "_view_name": "VBoxView",
       "box_style": "",
       "children": [
        "IPY_MODEL_4ce5f110edb640d897204ad81d77405c",
        "IPY_MODEL_399a1dcda82a4ca2a08eb4ab79f5dc2d"
       ],
       "layout": "IPY_MODEL_6d009129506842258d1f42990f0d1ccb"
      }
     },
     "83cd76525b40466eb3871fdb6cbaca8f": {
      "model_module": "@jupyter-widgets/output",
      "model_module_version": "1.0.0",
      "model_name": "OutputModel",
      "state": {
       "_dom_classes": [],
       "_model_module": "@jupyter-widgets/output",
       "_model_module_version": "1.0.0",
       "_model_name": "OutputModel",
       "_view_count": null,
       "_view_module": "@jupyter-widgets/output",
       "_view_module_version": "1.0.0",
       "_view_name": "OutputView",
       "layout": "IPY_MODEL_eff7ccdfd65149f98e3452992ffa2614",
       "msg_id": "",
       "outputs": [
        {
         "data": {
          "image/png": "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\n",
          "text/plain": "<Figure size 432x288 with 2 Axes>"
         },
         "metadata": {
          "needs_background": "light"
         },
         "output_type": "display_data"
        }
       ]
      }
     },
     "8715a396e49948c7806053a894367a5b": {
      "model_module": "@jupyter-widgets/controls",
      "model_module_version": "1.5.0",
      "model_name": "SliderStyleModel",
      "state": {
       "_model_module": "@jupyter-widgets/controls",
       "_model_module_version": "1.5.0",
       "_model_name": "SliderStyleModel",
       "_view_count": null,
       "_view_module": "@jupyter-widgets/base",
       "_view_module_version": "1.2.0",
       "_view_name": "StyleView",
       "description_width": "",
       "handle_color": null
      }
     },
     "9743522e9551410890f2097aafb489dd": {
      "model_module": "@jupyter-widgets/base",
      "model_module_version": "1.2.0",
      "model_name": "LayoutModel",
      "state": {
       "_model_module": "@jupyter-widgets/base",
       "_model_module_version": "1.2.0",
       "_model_name": "LayoutModel",
       "_view_count": null,
       "_view_module": "@jupyter-widgets/base",
       "_view_module_version": "1.2.0",
       "_view_name": "LayoutView",
       "align_content": null,
       "align_items": null,
       "align_self": null,
       "border": null,
       "bottom": null,
       "display": null,
       "flex": null,
       "flex_flow": null,
       "grid_area": null,
       "grid_auto_columns": null,
       "grid_auto_flow": null,
       "grid_auto_rows": null,
       "grid_column": null,
       "grid_gap": null,
       "grid_row": null,
       "grid_template_areas": null,
       "grid_template_columns": null,
       "grid_template_rows": null,
       "height": null,
       "justify_content": null,
       "justify_items": null,
       "left": null,
       "margin": null,
       "max_height": null,
       "max_width": null,
       "min_height": null,
       "min_width": null,
       "object_fit": null,
       "object_position": null,
       "order": null,
       "overflow": null,
       "overflow_x": null,
       "overflow_y": null,
       "padding": null,
       "right": null,
       "top": null,
       "visibility": null,
       "width": null
      }
     },
     "ac43b407a72244e696ddbf26a7d3d68b": {
      "model_module": "@jupyter-widgets/base",
      "model_module_version": "1.2.0",
      "model_name": "LayoutModel",
      "state": {
       "_model_module": "@jupyter-widgets/base",
       "_model_module_version": "1.2.0",
       "_model_name": "LayoutModel",
       "_view_count": null,
       "_view_module": "@jupyter-widgets/base",
       "_view_module_version": "1.2.0",
       "_view_name": "LayoutView",
       "align_content": null,
       "align_items": null,
       "align_self": null,
       "border": null,
       "bottom": null,
       "display": null,
       "flex": null,
       "flex_flow": null,
       "grid_area": null,
       "grid_auto_columns": null,
       "grid_auto_flow": null,
       "grid_auto_rows": null,
       "grid_column": null,
       "grid_gap": null,
       "grid_row": null,
       "grid_template_areas": null,
       "grid_template_columns": null,
       "grid_template_rows": null,
       "height": null,
       "justify_content": null,
       "justify_items": null,
       "left": null,
       "margin": null,
       "max_height": null,
       "max_width": null,
       "min_height": null,
       "min_width": null,
       "object_fit": null,
       "object_position": null,
       "order": null,
       "overflow": null,
       "overflow_x": null,
       "overflow_y": null,
       "padding": null,
       "right": null,
       "top": null,
       "visibility": null,
       "width": null
      }
     },
     "bed9baa094cf493ebf7056bdaa23c8db": {
      "model_module": "@jupyter-widgets/base",
      "model_module_version": "1.2.0",
      "model_name": "LayoutModel",
      "state": {
       "_model_module": "@jupyter-widgets/base",
       "_model_module_version": "1.2.0",
       "_model_name": "LayoutModel",
       "_view_count": null,
       "_view_module": "@jupyter-widgets/base",
       "_view_module_version": "1.2.0",
       "_view_name": "LayoutView",
       "align_content": null,
       "align_items": null,
       "align_self": null,
       "border": null,
       "bottom": null,
       "display": null,
       "flex": null,
       "flex_flow": null,
       "grid_area": null,
       "grid_auto_columns": null,
       "grid_auto_flow": null,
       "grid_auto_rows": null,
       "grid_column": null,
       "grid_gap": null,
       "grid_row": null,
       "grid_template_areas": null,
       "grid_template_columns": null,
       "grid_template_rows": null,
       "height": null,
       "justify_content": null,
       "justify_items": null,
       "left": null,
       "margin": null,
       "max_height": null,
       "max_width": null,
       "min_height": null,
       "min_width": null,
       "object_fit": null,
       "object_position": null,
       "order": null,
       "overflow": null,
       "overflow_x": null,
       "overflow_y": null,
       "padding": null,
       "right": null,
       "top": null,
       "visibility": null,
       "width": null
      }
     },
     "eff7ccdfd65149f98e3452992ffa2614": {
      "model_module": "@jupyter-widgets/base",
      "model_module_version": "1.2.0",
      "model_name": "LayoutModel",
      "state": {
       "_model_module": "@jupyter-widgets/base",
       "_model_module_version": "1.2.0",
       "_model_name": "LayoutModel",
       "_view_count": null,
       "_view_module": "@jupyter-widgets/base",
       "_view_module_version": "1.2.0",
       "_view_name": "LayoutView",
       "align_content": null,
       "align_items": null,
       "align_self": null,
       "border": null,
       "bottom": null,
       "display": null,
       "flex": null,
       "flex_flow": null,
       "grid_area": null,
       "grid_auto_columns": null,
       "grid_auto_flow": null,
       "grid_auto_rows": null,
       "grid_column": null,
       "grid_gap": null,
       "grid_row": null,
       "grid_template_areas": null,
       "grid_template_columns": null,
       "grid_template_rows": null,
       "height": null,
       "justify_content": null,
       "justify_items": null,
       "left": null,
       "margin": null,
       "max_height": null,
       "max_width": null,
       "min_height": null,
       "min_width": null,
       "object_fit": null,
       "object_position": null,
       "order": null,
       "overflow": null,
       "overflow_x": null,
       "overflow_y": null,
       "padding": null,
       "right": null,
       "top": null,
       "visibility": null,
       "width": null
      }
     }
    },
    "version_major": 2,
    "version_minor": 0
   }
  }
 },
 "nbformat": 4,
 "nbformat_minor": 5
}