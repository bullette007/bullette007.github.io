{
 "cells": [
  {
   "cell_type": "code",
   "execution_count": 1,
   "id": "e71aaf80",
   "metadata": {
    "init_cell": true,
    "tags": [
     "remove-cell"
    ]
   },
   "outputs": [
    {
     "data": {
      "application/javascript": [
       "var cells = Jupyter.notebook.get_cells();\n",
       "           for (var i = 0; i < cells.length; i++) {\n",
       "               var cur_cell = cells[i];\n",
       "               var tags = cur_cell._metadata.tags;\n",
       "               console.log(i);\n",
       "               console.log(tags == undefined);\n",
       "               console.log(tags);\n",
       "               if (tags != undefined) {\n",
       "               for (var j = 0; j < tags.length; j++) {\n",
       "                  if (tags[j]==\"book_only\" | tags[j]==\"remove-cell\") {cur_cell.element.hide();}}\n",
       "               for (var j = 0; j < tags.length; j++) {\n",
       "                   if (tags[j]==\"presentation_only\") {cur_cell.element.show();}}\n",
       "            }}\n"
      ],
      "text/plain": [
       "<IPython.core.display.Javascript object>"
      ]
     },
     "metadata": {},
     "output_type": "display_data"
    }
   ],
   "source": [
    "%%js\n",
    "var cells = Jupyter.notebook.get_cells();\n",
    "           for (var i = 0; i < cells.length; i++) {\n",
    "               var cur_cell = cells[i];\n",
    "               var tags = cur_cell._metadata.tags;\n",
    "               console.log(i);\n",
    "               console.log(tags == undefined);\n",
    "               console.log(tags);\n",
    "               if (tags != undefined) {\n",
    "               for (var j = 0; j < tags.length; j++) {\n",
    "                  if (tags[j]==\"book_only\" | tags[j]==\"remove-cell\") {cur_cell.element.hide();}}\n",
    "               for (var j = 0; j < tags.length; j++) {\n",
    "                   if (tags[j]==\"presentation_only\") {cur_cell.element.show();}}\n",
    "            }}"
   ]
  },
  {
   "cell_type": "code",
   "execution_count": 2,
   "id": "d76f8376",
   "metadata": {
    "init_cell": true,
    "slideshow": {
     "slide_type": "notes"
    },
    "tags": [
     "remove-cell"
    ]
   },
   "outputs": [
    {
     "name": "stderr",
     "output_type": "stream",
     "text": [
      "C:\\Users\\meyjoh\\repos\\vlcompimg\\compimg\\lib\\site-packages\\scipy\\__init__.py:138: UserWarning: A NumPy version >=1.16.5 and <1.23.0 is required for this version of SciPy (detected version 1.23.4)\n",
      "  warnings.warn(f\"A NumPy version >={np_minversion} and <{np_maxversion} is required for this version of \"\n"
     ]
    }
   ],
   "source": [
    "from __future__ import print_function\n",
    "from ipywidgets import interact, interactive, fixed, interact_manual\n",
    "import ipywidgets as widgets\n",
    "import numpy as np\n",
    "import matplotlib.pyplot as plt\n",
    "import cv2\n",
    "import scipy.signal as sig\n",
    "from scipy.integrate import simpson\n",
    "from IPython.display import SVG, display, IFrame, HTML\n",
    "import seaborn as sns\n",
    "import torch\n",
    "from scipy import ndimage\n",
    "from scipy import misc\n",
    "%matplotlib notebook\n",
    "book = False"
   ]
  },
  {
   "cell_type": "code",
   "execution_count": 3,
   "id": "b9d3142a",
   "metadata": {
    "tags": [
     "remove-cell"
    ]
   },
   "outputs": [],
   "source": [
    "%matplotlib inline\n",
    "book = True"
   ]
  },
  {
   "cell_type": "code",
   "execution_count": 4,
   "id": "1534ac15",
   "metadata": {
    "init_cell": true,
    "tags": [
     "remove-cell"
    ]
   },
   "outputs": [
    {
     "data": {
      "application/javascript": [
       "MathJax.Hub.Config({\n",
       "    TeX: { equationNumbers: { autoNumber: \"AMS\" } }\n",
       "});\n"
      ],
      "text/plain": [
       "<IPython.core.display.Javascript object>"
      ]
     },
     "metadata": {},
     "output_type": "display_data"
    }
   ],
   "source": [
    "%%javascript\n",
    "MathJax.Hub.Config({\n",
    "    TeX: { equationNumbers: { autoNumber: \"AMS\" } }\n",
    "});"
   ]
  },
  {
   "cell_type": "code",
   "execution_count": 5,
   "id": "213483ef",
   "metadata": {
    "init_cell": true,
    "tags": [
     "remove-cell"
    ]
   },
   "outputs": [
    {
     "data": {
      "application/javascript": [
       "\n",
       "MathJax.Hub.Queue(\n",
       "  [\"resetEquationNumbers\", MathJax.InputJax.TeX],\n",
       "  [\"PreProcess\", MathJax.Hub],\n",
       "  [\"Reprocess\", MathJax.Hub]\n",
       ");\n"
      ],
      "text/plain": [
       "<IPython.core.display.Javascript object>"
      ]
     },
     "metadata": {},
     "output_type": "display_data"
    }
   ],
   "source": [
    "%%javascript\n",
    "\n",
    "MathJax.Hub.Queue(\n",
    "  [\"resetEquationNumbers\", MathJax.InputJax.TeX],\n",
    "  [\"PreProcess\", MathJax.Hub],\n",
    "  [\"Reprocess\", MathJax.Hub]\n",
    ");"
   ]
  },
  {
   "cell_type": "code",
   "execution_count": 6,
   "id": "19453693",
   "metadata": {
    "init_cell": true,
    "tags": [
     "remove-cell"
    ]
   },
   "outputs": [],
   "source": [
    "def showFig(path,i,ending, width, height):\n",
    "    filename = path+str(i)+ending\n",
    "    return HTML(\"<img src=\\\"\" + filename +  f\"\\\" style=\\\"max-height:{height}vh\\\"/>\")"
   ]
  },
  {
   "cell_type": "code",
   "execution_count": 7,
   "id": "5a0f67c8",
   "metadata": {
    "init_cell": true,
    "tags": [
     "remove-cell"
    ]
   },
   "outputs": [],
   "source": [
    "def showFig2(path,i,ending, width, height):\n",
    "    imgToShow = plt.imread(f\"{path}{i}{ending}\")\n",
    "    plt.imshow(imgToShow)"
   ]
  },
  {
   "cell_type": "code",
   "execution_count": 8,
   "id": "81253425",
   "metadata": {
    "init_cell": true,
    "tags": [
     "remove-cell"
    ]
   },
   "outputs": [],
   "source": [
    "def imshow(img, cmap=None):\n",
    "    plt.close('all')\n",
    "    plt.figure()\n",
    "    plt.imshow(img, cmap=cmap)\n",
    "    plt.show()"
   ]
  },
  {
   "cell_type": "code",
   "execution_count": 9,
   "id": "16d53eb3",
   "metadata": {
    "init_cell": true,
    "tags": [
     "remove-cell"
    ]
   },
   "outputs": [],
   "source": [
    "def imshow2(img, cmap=None):\n",
    "    #plt.close('all')\n",
    "    #plt.figure()\n",
    "    plt.clf()\n",
    "    plt.imshow(img, cmap=cmap)\n",
    "    #plt.show()"
   ]
  },
  {
   "cell_type": "markdown",
   "id": "c36696da",
   "metadata": {
    "slideshow": {
     "slide_type": "slide"
    }
   },
   "source": [
    "$\\begin{align}\n",
    "  \\newcommand{transp}{^\\intercal}\n",
    "  \\newcommand{F}{\\mathcal{F}}\n",
    "  \\newcommand{Fi}{\\mathcal{F}^{-1}}\n",
    "  \\newcommand{inv}{^{-1}}\n",
    "  \\newcommand{stochvec}[1]{\\mathbf{\\tilde{#1}}}\n",
    "  \\newcommand{argmax}[1]{\\underset{#1}{\\mathrm{arg\\, max}}\\,}\n",
    "  \\newcommand{argmin}[1]{\\underset{#1}{\\mathrm{arg\\, min}}\\,}\n",
    "\\end{align}$\n",
    "\n",
    "<font size=\"7\"> Computational Imaging </font><br><br><br>"
   ]
  },
  {
   "cell_type": "markdown",
   "id": "09b8b04a",
   "metadata": {
    "slideshow": {
     "slide_type": "-"
    }
   },
   "source": [
    "# Coded Exposure Photography"
   ]
  },
  {
   "cell_type": "markdown",
   "id": "8b267984",
   "metadata": {
    "slideshow": {
     "slide_type": "subslide"
    }
   },
   "source": [
    "##### Content\n",
    "* Introduction into coded exposure photography\n",
    "* Optical setup for coded exposure photography\n",
    "* Selection of encoding pattern\n",
    "* Reconstruction\n",
    "* Example"
   ]
  },
  {
   "cell_type": "markdown",
   "id": "09f88aa8",
   "metadata": {
    "slideshow": {
     "slide_type": "slide"
    }
   },
   "source": [
    "## Introduction into coded exposure photography"
   ]
  },
  {
   "cell_type": "markdown",
   "id": "16178d80",
   "metadata": {},
   "source": [
    "When photographing dynamic scenes, moving objects can cause so-called *motion blur* in the captured image depending on the exposure time of the camera.\n",
    "\n",
    "When an object moves during exposure time, its image is smeared over an image region depending on its movement trajectory and its pixel values are blended with those of the stationary background."
   ]
  },
  {
   "cell_type": "markdown",
   "id": "1a1cd1d2",
   "metadata": {},
   "source": [
    "The obvious way to mitigate or prevent motion blur is to reduce the exposure time and compensate the reduced light efficiency via:\n",
    "* increased digital amplification (at the cost of amplified noise) or\n",
    "* by providing sufficient artificial illumination (e.g., flashes)."
   ]
  },
  {
   "cell_type": "markdown",
   "id": "0534d602",
   "metadata": {},
   "source": [
    "In this chapter, we will explore a different approach to compensate motion blur that is based on deconvolution. The presented content is based on the paper [Coded Exposure Photography: Motion Deblurring using Fluttered Shutter](https://web.media.mit.edu/~raskar/deblur/CodedExpousreLowres.pdf) by Ramesh Raskar et al.."
   ]
  },
  {
   "cell_type": "markdown",
   "id": "f54816a6",
   "metadata": {},
   "source": [
    "### Image formation model for motion blur"
   ]
  },
  {
   "cell_type": "markdown",
   "id": "9e6e4a8c",
   "metadata": {},
   "source": [
    "Assume that the observed scene consists of one object moving linearly along some direction with constant speed (can analogously be extended to multiple objects) in front of a black background (i.e., which reflects no light). \n",
    "\n",
    "The corresponding image formation of the blurred observation $g$ can be modeled via a convolution of the sought sharp image $x$ of the object with the motion blur kernel $h$ and some additive noise $n$:\n",
    "\n",
    "$\\begin{align} \n",
    "   g = x*h + n \\,.\n",
    "\\end{align}$\n",
    "\n",
    "The motion blur kernel $h$ then consists of a one-dimensional $\\mathrm{rect}$-function with a width corresponding to the number of pixels that the image of the object moves on the image sensor during one exposure period. The orientation of the $\\mathrm{rect}$-function corresponds to the direction of the linear movement."
   ]
  },
  {
   "cell_type": "markdown",
   "id": "7f9aacdc",
   "metadata": {},
   "source": [
    "##### Example\n",
    "The following shows a simple example of simulated motion blur:"
   ]
  },
  {
   "cell_type": "markdown",
   "id": "f3b8ae96",
   "metadata": {},
   "source": [
    "<img src=\"figures/8/example_convolution_motion_blur.svg\" style=\"max-height:40vh\">"
   ]
  },
  {
   "cell_type": "markdown",
   "id": "9e8e2d64",
   "metadata": {},
   "source": [
    "The motion blur kernel $h$ can be modeled as a rotated and translated $\\mathrm{rect}$-function:"
   ]
  },
  {
   "cell_type": "markdown",
   "id": "ddd045a4",
   "metadata": {},
   "source": [
    "<img src=\"figures/8/blur_kernel_line_section.svg\" style=\"max-height:40vh\">"
   ]
  },
  {
   "cell_type": "markdown",
   "id": "9c62cae7",
   "metadata": {},
   "source": [
    "Directly trying to reconstruct the latent image $x$ based on such an observation would lead to strong artifacts.\n",
    "\n",
    "This can be seen explained in two ways:"
   ]
  },
  {
   "cell_type": "markdown",
   "id": "f571f292",
   "metadata": {},
   "source": [
    "1. The Fourier transform of the $\\mathrm{rect}(x)$-function is given by $\\mathrm{sinc}(x)=\\frac{\\sin x}{x}$; see the following Figure for a visualization of its graph (logarithm of magnitude of Fourier transform):\n",
    "\n",
    "<img src=\"figures/8/rect_fourier_sinc.svg\" style=\"max-height:40vh\">"
   ]
  },
  {
   "cell_type": "markdown",
   "id": "0f2d5678",
   "metadata": {},
   "source": [
    "The spectrum of the $\\mathrm{sinc}$-function is not flat and has many zeros where information is inevitably lost. Inverting a such a deconvolution would strongly amplify certain frequencies (at the positions of the zeros) and hence might also amplify unwanted noise."
   ]
  },
  {
   "cell_type": "markdown",
   "id": "6b3d488a",
   "metadata": {},
   "source": [
    "2. The autocorrelation of the $\\mathrm{rect}$-function does not resemble a Dirac-like what is hindering for the reconstruction."
   ]
  },
  {
   "cell_type": "markdown",
   "id": "a764fee3",
   "metadata": {},
   "source": [
    "As a consequence, a better encoding strategy has to be found."
   ]
  },
  {
   "cell_type": "markdown",
   "id": "92481d3d",
   "metadata": {},
   "source": [
    "## Optical setup for coded exposure photography"
   ]
  },
  {
   "cell_type": "markdown",
   "id": "aa898cc2",
   "metadata": {},
   "source": [
    "In order to control the exposure modulation, an existing camera can be extended via a programmable shutter that is synchronized with the exposure control of the camera.\n",
    "\n",
    "In the referenced paper, the authors use a programmable LCD as a spatial light modulator placed in front of the main lens of a digital lens reflex camera and simultaneously turn all pixels transparent or opaque to realize an encoding of the exposure."
   ]
  },
  {
   "cell_type": "markdown",
   "id": "5bfe40bc",
   "metadata": {},
   "source": [
    "The whole exposure period $T$ of the camera can be divided into $M$ time slices, so-called *chops* with duration $T/M$.\n",
    "\n",
    "During each chop, the LCD-based shutter is either set to transparent or opaque as stated in a corresponding pattern vector $\\mathbf{p}\\in \\left\\{ 0,1 \\right\\}^M $"
   ]
  },
  {
   "cell_type": "markdown",
   "id": "515871e7",
   "metadata": {},
   "source": [
    "## Selection of encoding pattern $\\mathbf{p}$"
   ]
  },
  {
   "cell_type": "markdown",
   "id": "443be326",
   "metadata": {},
   "source": [
    "When searching for an optimal code, two mutual criteria have to be optimized:\n",
    "1. Invertibility (i.e., flat Fourier spectrum and as few zeros as possible), \n",
    "2. light efficiency (i.e., many ones in $\\mathbf{p}$)."
   ]
  },
  {
   "cell_type": "markdown",
   "id": "4937b673",
   "metadata": {},
   "source": [
    "One possibility to ensure light efficiency is to fix the ratio of ones and zeros in $\\mathbf{p}$ to $1:1$."
   ]
  },
  {
   "cell_type": "markdown",
   "id": "ba5521e9",
   "metadata": {},
   "source": [
    "For a given number $M$ of chops, this design decision sets the set of possible encoding candidates which could be evaluated with respect to criterion 1 (invertibility) in a brute force manner."
   ]
  },
  {
   "cell_type": "markdown",
   "id": "57bcb9c9",
   "metadata": {},
   "source": [
    "This has been done by the authors of the referenced paper by means of a randomized linear search for $M=52$. \n",
    "\n",
    "The resulting encoding is\n",
    "$\\begin{align} \n",
    "   \\mathbf{p} = (1010000111000001010000110011110111010111001001100111)\\transp \\,.\n",
    "\\end{align}$"
   ]
  },
  {
   "cell_type": "markdown",
   "id": "7acabac8",
   "metadata": {},
   "source": [
    "The logarithm of the magnitude of the spectrum of that code is shown below (for positive spatial frequencies):\n",
    "\n",
    "<img src=\"figures/8/encoding_spectrum.svg\" style=\"max-height:40vh\">"
   ]
  },
  {
   "cell_type": "markdown",
   "id": "aacd3019",
   "metadata": {},
   "source": [
    "## Reconstruction"
   ]
  },
  {
   "cell_type": "markdown",
   "id": "70c93728",
   "metadata": {},
   "source": [
    "The reconstruction can be performed with any suitable deconvolution method (Wiener filter, iterative methods, data-driven methods)."
   ]
  },
  {
   "cell_type": "markdown",
   "id": "84dcb35c",
   "metadata": {},
   "source": [
    "When applied in a practical scenario, there are two open points which have to be addressed:\n",
    "1. The orientation of the encoding line in the motion blur kernel $h$ has to be determined.\n",
    "2. Different regions in the image can be affected by different types of motion blur, i.e., different directions, different movement velocities, no movement (e.g., background) and those regions can also be blended with each other."
   ]
  },
  {
   "cell_type": "markdown",
   "id": "a9ff2bdf",
   "metadata": {},
   "source": [
    "Point 1 can be solved by prompting the user to estimate the movement direction and length (in pixels).\n",
    "\n",
    "Both points can be addressed simultaneously by employing methods for locally estimating the blur PSF, i.e., with respect to the pixel position."
   ]
  },
  {
   "cell_type": "markdown",
   "id": "0677763b",
   "metadata": {},
   "source": [
    "## Example"
   ]
  },
  {
   "cell_type": "markdown",
   "id": "6c1ea3c6",
   "metadata": {},
   "source": [
    "Consider again the following example image:\n",
    "\n",
    "<img src=\"figures/8/tree.png\" style=\"max-height:40vh\">"
   ]
  },
  {
   "cell_type": "markdown",
   "id": "d015ddb8",
   "metadata": {},
   "source": [
    "We simulate a horizontal motion blur by convolving with a 52 pixel width conventional $\\mathrm{rect}$-like kernel and with kernel encoded according to the previously mentioned pattern:\n",
    "\n",
    "<img src=\"figures/8/observation_motion_blur_different_kernels.svg\" style=\"max-height:40vh\">"
   ]
  },
  {
   "cell_type": "markdown",
   "id": "d9e3fa87",
   "metadata": {},
   "source": [
    "For both images, we add Gaussian noise of different levels and try to reconstruct the undistorted image with a Wiener filter using the introduced heuristic for estimating the signal-to-noise ratio.\n",
    "\n",
    "By this means, we achieve the following qualitative results:"
   ]
  },
  {
   "cell_type": "code",
   "execution_count": 10,
   "id": "6b56d9d2",
   "metadata": {},
   "outputs": [
    {
     "data": {
      "application/vnd.jupyter.widget-view+json": {
       "model_id": "378b58634dbf4cefbc6459cd7410520c",
       "version_major": 2,
       "version_minor": 0
      },
      "text/plain": [
       "interactive(children=(IntSlider(value=5, description='i', max=5), Output()), _dom_classes=('widget-interact',)…"
      ]
     },
     "metadata": {},
     "output_type": "display_data"
    },
    {
     "data": {
      "text/plain": [
       "<function __main__.<lambda>(i)>"
      ]
     },
     "execution_count": 10,
     "metadata": {},
     "output_type": "execute_result"
    }
   ],
   "source": [
    "interact(lambda i: showFig('figures/8/motion_deblur_results_',i,'.svg',800,50), i=widgets.IntSlider(min=(min_i:=0),max=(max_i:=5), step=1, value=(max_i if book else min_i)))"
   ]
  },
  {
   "cell_type": "markdown",
   "id": "b712fb80",
   "metadata": {},
   "source": [
    "The results can be evaluated quantitatively by calculating the root mean squared reconstruction error with respect to the undistorted image:\n",
    "\n",
    "<img src=\"figures/8/reconstruction_rmse.svg\" style=\"max-height:40vh\">"
   ]
  },
  {
   "cell_type": "markdown",
   "id": "fba70adf",
   "metadata": {
    "heading_collapsed": true
   },
   "source": [
    "##### Archive"
   ]
  },
  {
   "cell_type": "code",
   "execution_count": 11,
   "id": "0b4eae93",
   "metadata": {
    "hidden": true
   },
   "outputs": [],
   "source": [
    "h = plt.imread(\"figures/8/example_motion_blur_2.png\")"
   ]
  },
  {
   "cell_type": "code",
   "execution_count": 12,
   "id": "475fb1bf",
   "metadata": {
    "hidden": true
   },
   "outputs": [
    {
     "data": {
      "text/plain": [
       "(71, 71)"
      ]
     },
     "execution_count": 12,
     "metadata": {},
     "output_type": "execute_result"
    }
   ],
   "source": [
    "h.shape"
   ]
  },
  {
   "cell_type": "markdown",
   "id": "080941c1",
   "metadata": {
    "hidden": true
   },
   "source": [
    "img = np.float32(misc.face(gray=True))"
   ]
  },
  {
   "cell_type": "code",
   "execution_count": 13,
   "id": "ec66724e",
   "metadata": {
    "hidden": true
   },
   "outputs": [],
   "source": [
    "img = plt.imread(\"figures/8/tree.png\")"
   ]
  },
  {
   "cell_type": "code",
   "execution_count": 14,
   "id": "20696742",
   "metadata": {
    "hidden": true
   },
   "outputs": [],
   "source": [
    "img_blurred = ndimage.convolve(img, h, mode='wrap')"
   ]
  },
  {
   "cell_type": "code",
   "execution_count": 15,
   "id": "590067db",
   "metadata": {
    "hidden": true
   },
   "outputs": [],
   "source": [
    "plt.imsave(\"figures/8/example_motion_blur_tree.png\", img_blurred, cmap='gray')"
   ]
  },
  {
   "cell_type": "code",
   "execution_count": 16,
   "id": "4eb80e1e",
   "metadata": {
    "hidden": true
   },
   "outputs": [
    {
     "data": {
      "image/png": "[encoded data removed]",
      "text/plain": [
       "<Figure size 432x288 with 1 Axes>"
      ]
     },
     "metadata": {
      "filenames": {
       "image/png": "C:\\Users\\meyjoh\\repos\\vlcompimg\\mynewbook\\_build\\jupyter_execute\\08_CodedExposurePhotography_53_0.png"
      },
      "needs_background": "light"
     },
     "output_type": "display_data"
    }
   ],
   "source": [
    "imshow(img_blurred, cmap='gray')"
   ]
  },
  {
   "cell_type": "code",
   "execution_count": 17,
   "id": "4db0420c",
   "metadata": {
    "hidden": true
   },
   "outputs": [],
   "source": [
    "def mag_square(inp : np.ndarray):\n",
    "    return inp.real**2 + inp.imag**2"
   ]
  },
  {
   "cell_type": "code",
   "execution_count": 18,
   "id": "46869958",
   "metadata": {
    "hidden": true
   },
   "outputs": [],
   "source": [
    "xs = np.linspace(-3, 3, 1001)\n",
    "ys = np.zeros_like(xs)\n",
    "ys[(xs >= -1) & (xs <= 1)] = 1"
   ]
  },
  {
   "cell_type": "code",
   "execution_count": 19,
   "id": "d2379599",
   "metadata": {
    "hidden": true
   },
   "outputs": [],
   "source": [
    "ys = np.array([1,0,1,0,0,0,0,1,1,1,0,0,0,0,0,1,0,1,0,0,0,0,1,1,0,0,1,1,1,1,0,1,1,1,0,1,0,1,1,1,0,0,1,0,0,1,1,0,0,1,1,1])\n",
    "ys = np.pad(ys, (100,101))\n",
    "xs = np.arange(0,len(ys))\n",
    "xs = xs - int(len(xs)/2)"
   ]
  },
  {
   "cell_type": "code",
   "execution_count": 20,
   "id": "befaf4c2",
   "metadata": {
    "hidden": true
   },
   "outputs": [
    {
     "data": {
      "text/plain": [
       "<matplotlib.lines.Line2D at 0x25be8253130>"
      ]
     },
     "execution_count": 20,
     "metadata": {},
     "output_type": "execute_result"
    },
    {
     "data": {
      "image/png": "[encoded data removed]",
      "text/plain": [
       "<Figure size 432x288 with 1 Axes>"
      ]
     },
     "metadata": {
      "filenames": {
       "image/png": "C:\\Users\\meyjoh\\repos\\vlcompimg\\mynewbook\\_build\\jupyter_execute\\08_CodedExposurePhotography_57_1.png"
      },
      "needs_background": "light"
     },
     "output_type": "display_data"
    }
   ],
   "source": [
    "plt.figure()\n",
    "plt.plot(xs,ys)\n",
    "plt.axhline(0, color='k', linestyle=\":\")\n",
    "plt.axvline(0, color='k', linestyle=\":\")"
   ]
  },
  {
   "cell_type": "code",
   "execution_count": 21,
   "id": "72414a57",
   "metadata": {
    "hidden": true
   },
   "outputs": [
    {
     "data": {
      "text/plain": [
       "<Figure size 432x288 with 0 Axes>"
      ]
     },
     "metadata": {},
     "output_type": "display_data"
    }
   ],
   "source": [
    "plt.savefig(\"rect.svg\")"
   ]
  },
  {
   "cell_type": "code",
   "execution_count": 22,
   "id": "83150b1c",
   "metadata": {
    "hidden": true
   },
   "outputs": [
    {
     "data": {
      "text/plain": [
       "<matplotlib.lines.Line2D at 0x25bea2ec160>"
      ]
     },
     "execution_count": 22,
     "metadata": {},
     "output_type": "execute_result"
    },
    {
     "data": {
      "image/png": "[encoded data removed]",
      "text/plain": [
       "<Figure size 432x288 with 1 Axes>"
      ]
     },
     "metadata": {
      "filenames": {
       "image/png": "C:\\Users\\meyjoh\\repos\\vlcompimg\\mynewbook\\_build\\jupyter_execute\\08_CodedExposurePhotography_59_1.png"
      },
      "needs_background": "light"
     },
     "output_type": "display_data"
    }
   ],
   "source": [
    "plt.figure()\n",
    "plt.plot(xs,(np.log(mag_square(np.fft.fftshift(np.fft.fft(np.fft.ifftshift(ys)))))))\n",
    "plt.axhline(0, color='k', linestyle=\":\")\n",
    "plt.axvline(0, color='k', linestyle=\":\")"
   ]
  },
  {
   "cell_type": "code",
   "execution_count": 23,
   "id": "f815b6ec",
   "metadata": {
    "hidden": true
   },
   "outputs": [
    {
     "data": {
      "text/plain": [
       "<Figure size 432x288 with 0 Axes>"
      ]
     },
     "metadata": {},
     "output_type": "display_data"
    }
   ],
   "source": [
    "plt.savefig(\"code_spectrum.svg\")"
   ]
  },
  {
   "cell_type": "code",
   "execution_count": 24,
   "id": "c2c371d2",
   "metadata": {
    "hidden": true
   },
   "outputs": [
    {
     "data": {
      "text/plain": [
       "[<matplotlib.lines.Line2D at 0x25bea34aca0>]"
      ]
     },
     "execution_count": 24,
     "metadata": {},
     "output_type": "execute_result"
    },
    {
     "data": {
      "image/png": "[encoded data removed]",
      "text/plain": [
       "<Figure size 432x288 with 1 Axes>"
      ]
     },
     "metadata": {
      "filenames": {
       "image/png": "C:\\Users\\meyjoh\\repos\\vlcompimg\\mynewbook\\_build\\jupyter_execute\\08_CodedExposurePhotography_61_1.png"
      },
      "needs_background": "light"
     },
     "output_type": "display_data"
    }
   ],
   "source": [
    "plt.figure()\n",
    "plt.plot(np.correlate(ys,ys, mode=\"full\"))"
   ]
  },
  {
   "cell_type": "code",
   "execution_count": 25,
   "id": "6adb2971",
   "metadata": {
    "hidden": true
   },
   "outputs": [
    {
     "data": {
      "text/plain": [
       "[<matplotlib.lines.Line2D at 0x25bea3b8220>]"
      ]
     },
     "execution_count": 25,
     "metadata": {},
     "output_type": "execute_result"
    },
    {
     "data": {
      "image/png": "[encoded data removed]",
      "text/plain": [
       "<Figure size 432x288 with 1 Axes>"
      ]
     },
     "metadata": {
      "filenames": {
       "image/png": "C:\\Users\\meyjoh\\repos\\vlcompimg\\mynewbook\\_build\\jupyter_execute\\08_CodedExposurePhotography_62_1.png"
      },
      "needs_background": "light"
     },
     "output_type": "display_data"
    }
   ],
   "source": [
    "plt.figure()\n",
    "ys2 = np.random.randint(0,2,1001)\n",
    "plt.plot(np.correlate(ys2,ys2, mode=\"full\"))"
   ]
  },
  {
   "cell_type": "code",
   "execution_count": 26,
   "id": "6ff2ae2f",
   "metadata": {
    "hidden": true
   },
   "outputs": [],
   "source": [
    "def make_odd_shapes(inp : np.ndarray) -> np.ndarray:\n",
    "    if (inp.shape[0] % 2 == 0):\n",
    "        inp = inp[0:-1,:]\n",
    "    if (inp.shape[1] % 2 == 0):\n",
    "        inp = inp[:,0:-1]\n",
    "    return inp"
   ]
  },
  {
   "cell_type": "code",
   "execution_count": 27,
   "id": "69195b2d",
   "metadata": {
    "hidden": true
   },
   "outputs": [],
   "source": [
    "def pad_like(inp : np.ndarray, like : np.ndarray):\n",
    "    to_pad = tuple(np.int32((np.array(like.shape) - np.array(inp.shape))/2))\n",
    "    return np.pad(inp, ((to_pad[0], to_pad[0]), (to_pad[1], to_pad[1])))"
   ]
  },
  {
   "cell_type": "code",
   "execution_count": 28,
   "id": "a0af971e",
   "metadata": {
    "hidden": true
   },
   "outputs": [],
   "source": [
    "def wiener_filter(g:np.ndarray, h:np.ndarray) -> np.ndarray:\n",
    "    g_fft = np.fft.fft2(g)\n",
    "    h_padded = pad_like(h, g)\n",
    "    h_fft = np.fft.fft2(np.fft.ifftshift(h_padded))\n",
    "    \n",
    "    X,Y = np.meshgrid(np.arange(1,g.shape[1]+1), np.arange(1,g.shape[0]+1))\n",
    "    \n",
    "    snr = (1 / np.sqrt(X**2 + Y**2))\n",
    "    \n",
    "    inv_fft = g_fft * np.conjugate(h_fft) / (mag_square(h_fft) + snr)\n",
    "    return np.real(np.fft.ifft2(inv_fft))"
   ]
  },
  {
   "cell_type": "code",
   "execution_count": 29,
   "id": "3277158f",
   "metadata": {
    "hidden": true
   },
   "outputs": [],
   "source": [
    "h_encoded = np.array([1,0,1,0,0,0,0,1,1,1,0,0,0,0,0,1,0,1,0,0,0,0,1,1,0,0,1,1,1,1,0,1,1,1,0,1,0,1,1,1,0,0,1,0,0,1,1,0,0,1,1,1])\n",
    "h_normal = np.ones_like(h_encoded)\n",
    "\n",
    "h_encoded = np.pad(h_encoded, (2,1))\n",
    "h_normal = np.pad(h_normal, (2,1))\n",
    "\n",
    "h_encoded = np.vstack((np.zeros_like(h_encoded),h_encoded, np.zeros_like(h_encoded)))\n",
    "h_normal = np.vstack((np.zeros_like(h_normal),h_normal, np.zeros_like(h_normal)))"
   ]
  },
  {
   "cell_type": "code",
   "execution_count": 30,
   "id": "2629c5d1",
   "metadata": {
    "hidden": true
   },
   "outputs": [
    {
     "data": {
      "image/png": "[encoded data removed]",
      "text/plain": [
       "<Figure size 432x288 with 1 Axes>"
      ]
     },
     "metadata": {
      "filenames": {
       "image/png": "C:\\Users\\meyjoh\\repos\\vlcompimg\\mynewbook\\_build\\jupyter_execute\\08_CodedExposurePhotography_67_0.png"
      },
      "needs_background": "light"
     },
     "output_type": "display_data"
    }
   ],
   "source": [
    "imshow(ndimage.convolve(img, h_encoded), cmap='gray')"
   ]
  },
  {
   "cell_type": "code",
   "execution_count": 31,
   "id": "37c5c911",
   "metadata": {
    "hidden": true
   },
   "outputs": [],
   "source": [
    "img = make_odd_shapes(img)*255"
   ]
  },
  {
   "cell_type": "code",
   "execution_count": 32,
   "id": "aeb50789",
   "metadata": {
    "hidden": true
   },
   "outputs": [],
   "source": [
    "sigmas = np.float32(np.array([0,2,4,8,16,32]))  # Standard deviations for Gaussian noise\n",
    "noises = []   # List for observations\n",
    "for sigma in sigmas:\n",
    "    cur_img = np.random.normal(0, sigma, img.shape)\n",
    "    noises.append(cur_img)"
   ]
  },
  {
   "cell_type": "code",
   "execution_count": 33,
   "id": "55412665",
   "metadata": {
    "hidden": true
   },
   "outputs": [],
   "source": [
    "normal_recs = []\n",
    "normal_rms = []\n",
    "encoded_recs = []\n",
    "encoded_rms = []\n",
    "\n",
    "for noise in noises:\n",
    "    g_normal = ndimage.convolve(img, h_normal) + noise\n",
    "    g_encoded = ndimage.convolve(img, h_encoded) + noise\n",
    "    \n",
    "    rec_normal = wiener_filter(g_normal, h_normal)\n",
    "    rec_encoded = wiener_filter(g_encoded, h_encoded)\n",
    "    \n",
    "    normal_recs.append(rec_normal)\n",
    "    encoded_recs.append(rec_encoded)\n",
    "    \n",
    "    normal_rms.append(np.sum(np.sqrt((rec_normal - img)**2)))\n",
    "    encoded_rms.append(np.sum(np.sqrt((rec_encoded - img)**2)))"
   ]
  },
  {
   "cell_type": "code",
   "execution_count": 34,
   "id": "d385eb10",
   "metadata": {
    "hidden": true
   },
   "outputs": [
    {
     "data": {
      "image/png": "[encoded data removed]",
      "text/plain": [
       "<Figure size 432x288 with 1 Axes>"
      ]
     },
     "metadata": {
      "filenames": {
       "image/png": "C:\\Users\\meyjoh\\repos\\vlcompimg\\mynewbook\\_build\\jupyter_execute\\08_CodedExposurePhotography_71_0.png"
      },
      "needs_background": "light"
     },
     "output_type": "display_data"
    }
   ],
   "source": [
    "plt.figure()\n",
    "plt.plot(encoded_rms, 'b+', label=\"with encoding\")\n",
    "plt.plot(normal_rms, 'r+', label=\"without encoding\")\n",
    "plt.xticks(np.arange(0,len(sigmas)), sigmas)\n",
    "plt.xlabel(\"$\\sigma$\")\n",
    "plt.ylabel(\"RMS reconstruction error\")\n",
    "plt.legend()\n",
    "plt.savefig(\"reconstruction_rmse.svg\")"
   ]
  },
  {
   "cell_type": "code",
   "execution_count": 35,
   "id": "56e0ecbb",
   "metadata": {
    "hidden": true
   },
   "outputs": [],
   "source": [
    "def show_reconst(i):\n",
    "    plt.subplot(1,2,1)\n",
    "    plt.imshow(normal_recs[i], cmap='gray')\n",
    "    plt.title(f\"Reconstruction for\\n conventional kernel\\n for $\\sigma$ = {sigmas[i]}\")\n",
    "    plt.subplot(1,2,2)\n",
    "    plt.imshow(encoded_recs[i], cmap='gray')\n",
    "    plt.title(f\"Reconstruction for\\n encoding kernel\\n for $\\sigma$ = {sigmas[i]}\")"
   ]
  },
  {
   "cell_type": "code",
   "execution_count": 36,
   "id": "efe0b3ab",
   "metadata": {
    "hidden": true
   },
   "outputs": [
    {
     "data": {
      "text/plain": [
       "<Figure size 432x288 with 0 Axes>"
      ]
     },
     "metadata": {},
     "output_type": "display_data"
    },
    {
     "data": {
      "application/vnd.jupyter.widget-view+json": {
       "model_id": "277ee97fdaaf4e30a8766701db74803b",
       "version_major": 2,
       "version_minor": 0
      },
      "text/plain": [
       "interactive(children=(IntSlider(value=5, description='i', max=5), Output()), _dom_classes=('widget-interact',)…"
      ]
     },
     "metadata": {},
     "output_type": "display_data"
    },
    {
     "data": {
      "text/plain": [
       "<function __main__.<lambda>(i)>"
      ]
     },
     "execution_count": 36,
     "metadata": {},
     "output_type": "execute_result"
    }
   ],
   "source": [
    "plt.figure()\n",
    "interact(lambda i: show_reconst(i), i=widgets.IntSlider(min=(min_i:=0),max=(max_i:=len(encoded_recs)-1), step=1, value=(max_i if book else min_i)))"
   ]
  },
  {
   "cell_type": "code",
   "execution_count": 37,
   "id": "9c0a03ef",
   "metadata": {
    "hidden": true
   },
   "outputs": [
    {
     "data": {
      "image/png": "[encoded data removed]",
      "text/plain": [
       "<Figure size 432x288 with 2 Axes>"
      ]
     },
     "metadata": {
      "filenames": {
       "image/png": "C:\\Users\\meyjoh\\repos\\vlcompimg\\mynewbook\\_build\\jupyter_execute\\08_CodedExposurePhotography_74_0.png"
      },
      "needs_background": "light"
     },
     "output_type": "display_data"
    }
   ],
   "source": [
    "plt.figure()\n",
    "for i in range(0,len(encoded_recs)):\n",
    "    show_reconst(i)\n",
    "    plt.savefig(f\"motion_deblur_results_{i}.svg\")"
   ]
  },
  {
   "cell_type": "code",
   "execution_count": 38,
   "id": "4415e374",
   "metadata": {
    "hidden": true
   },
   "outputs": [
    {
     "data": {
      "text/plain": [
       "Text(0.5, 1.0, 'Observed image for\\n encoded kernel')"
      ]
     },
     "execution_count": 38,
     "metadata": {},
     "output_type": "execute_result"
    },
    {
     "data": {
      "image/png": "[encoded data removed]",
      "text/plain": [
       "<Figure size 432x288 with 2 Axes>"
      ]
     },
     "metadata": {
      "filenames": {
       "image/png": "C:\\Users\\meyjoh\\repos\\vlcompimg\\mynewbook\\_build\\jupyter_execute\\08_CodedExposurePhotography_75_1.png"
      },
      "needs_background": "light"
     },
     "output_type": "display_data"
    }
   ],
   "source": [
    "plt.figure()\n",
    "plt.subplot(1,2,1)\n",
    "plt.imshow(ndimage.convolve(img, h_normal), cmap='gray')\n",
    "plt.title(f\"Observed image for\\n conventional kernel\")\n",
    "plt.subplot(1,2,2)\n",
    "plt.imshow(ndimage.convolve(img, h_encoded), cmap='gray')\n",
    "plt.title(f\"Observed image for\\n encoded kernel\")"
   ]
  },
  {
   "cell_type": "code",
   "execution_count": 39,
   "id": "c8d35cd9",
   "metadata": {
    "hidden": true
   },
   "outputs": [
    {
     "data": {
      "text/plain": [
       "<Figure size 432x288 with 0 Axes>"
      ]
     },
     "metadata": {},
     "output_type": "display_data"
    }
   ],
   "source": [
    "plt.savefig(\"observation_motion_blur_different_kernels.svg\")"
   ]
  },
  {
   "cell_type": "code",
   "execution_count": null,
   "id": "65722f7b",
   "metadata": {
    "hidden": true
   },
   "outputs": [],
   "source": []
  }
 ],
 "metadata": {
  "jupytext": {
   "formats": "ipynb,md:myst",
   "text_representation": {
    "extension": ".md",
    "format_name": "myst",
    "format_version": 0.13,
    "jupytext_version": "1.14.1"
   }
  },
  "kernelspec": {
   "display_name": "compimg",
   "language": "python",
   "name": "compimg"
  },
  "language_info": {
   "codemirror_mode": {
    "name": "ipython",
    "version": 3
   },
   "file_extension": ".py",
   "mimetype": "text/x-python",
   "name": "python",
   "nbconvert_exporter": "python",
   "pygments_lexer": "ipython3",
   "version": "3.8.10"
  },
  "source_map": [
   15,
   35,
   59,
   66,
   76,
   89,
   98,
   107,
   118,
   130,
   144,
   148,
   157,
   161,
   167,
   173,
   177,
   181,
   193,
   198,
   202,
   206,
   210,
   216,
   222,
   226,
   230,
   234,
   238,
   244,
   250,
   254,
   260,
   264,
   268,
   277,
   283,
   287,
   291,
   297,
   303,
   307,
   313,
   319,
   325,
   327,
   333,
   337,
   343,
   349,
   353,
   359,
   365,
   371,
   377,
   384,
   392,
   401,
   410,
   416,
   425,
   431,
   438,
   446,
   457,
   465,
   481,
   494,
   500,
   506,
   516,
   538,
   551,
   563,
   570,
   579,
   591,
   597
  ],
  "widgets": {
   "application/vnd.jupyter.widget-state+json": {
    "state": {
     "18b4a82119bd49c5a789abd541f4d1e5": {
      "model_module": "@jupyter-widgets/controls",
      "model_module_version": "1.5.0",
      "model_name": "SliderStyleModel",
      "state": {
       "_model_module": "@jupyter-widgets/controls",
       "_model_module_version": "1.5.0",
       "_model_name": "SliderStyleModel",
       "_view_count": null,
       "_view_module": "@jupyter-widgets/base",
       "_view_module_version": "1.2.0",
       "_view_name": "StyleView",
       "description_width": "",
       "handle_color": null
      }
     },
     "1a93d8b697c94b9ea62371bdbefab824": {
      "model_module": "@jupyter-widgets/base",
      "model_module_version": "1.2.0",
      "model_name": "LayoutModel",
      "state": {
       "_model_module": "@jupyter-widgets/base",
       "_model_module_version": "1.2.0",
       "_model_name": "LayoutModel",
       "_view_count": null,
       "_view_module": "@jupyter-widgets/base",
       "_view_module_version": "1.2.0",
       "_view_name": "LayoutView",
       "align_content": null,
       "align_items": null,
       "align_self": null,
       "border": null,
       "bottom": null,
       "display": null,
       "flex": null,
       "flex_flow": null,
       "grid_area": null,
       "grid_auto_columns": null,
       "grid_auto_flow": null,
       "grid_auto_rows": null,
       "grid_column": null,
       "grid_gap": null,
       "grid_row": null,
       "grid_template_areas": null,
       "grid_template_columns": null,
       "grid_template_rows": null,
       "height": null,
       "justify_content": null,
       "justify_items": null,
       "left": null,
       "margin": null,
       "max_height": null,
       "max_width": null,
       "min_height": null,
       "min_width": null,
       "object_fit": null,
       "object_position": null,
       "order": null,
       "overflow": null,
       "overflow_x": null,
       "overflow_y": null,
       "padding": null,
       "right": null,
       "top": null,
       "visibility": null,
       "width": null
      }
     },
     "277ee97fdaaf4e30a8766701db74803b": {
      "model_module": "@jupyter-widgets/controls",
      "model_module_version": "1.5.0",
      "model_name": "VBoxModel",
      "state": {
       "_dom_classes": [
        "widget-interact"
       ],
       "_model_module": "@jupyter-widgets/controls",
       "_model_module_version": "1.5.0",
       "_model_name": "VBoxModel",
       "_view_count": null,
       "_view_module": "@jupyter-widgets/controls",
       "_view_module_version": "1.5.0",
       "_view_name": "VBoxView",
       "box_style": "",
       "children": [
        "IPY_MODEL_c31f2a630d8e4e0c86d21616c4a3af31",
        "IPY_MODEL_9d271eeba28f4cceba42a496eb76a149"
       ],
       "layout": "IPY_MODEL_4fff7072b87049199f98c507e18704b9"
      }
     },
     "2d120214d6284739a59bbf6631cf0107": {
      "model_module": "@jupyter-widgets/output",
      "model_module_version": "1.0.0",
      "model_name": "OutputModel",
      "state": {
       "_dom_classes": [],
       "_model_module": "@jupyter-widgets/output",
       "_model_module_version": "1.0.0",
       "_model_name": "OutputModel",
       "_view_count": null,
       "_view_module": "@jupyter-widgets/output",
       "_view_module_version": "1.0.0",
       "_view_name": "OutputView",
       "layout": "IPY_MODEL_1a93d8b697c94b9ea62371bdbefab824",
       "msg_id": "",
       "outputs": [
        {
         "data": {
          "text/html": "<img src=\"figures/8/motion_deblur_results_5.svg\" style=\"max-height:50vh\"/>",
          "text/plain": "<IPython.core.display.HTML object>"
         },
         "metadata": {},
         "output_type": "display_data"
        }
       ]
      }
     },
     "3128879ce8e64284aa83592737d57b8b": {
      "model_module": "@jupyter-widgets/controls",
      "model_module_version": "1.5.0",
      "model_name": "IntSliderModel",
      "state": {
       "_dom_classes": [],
       "_model_module": "@jupyter-widgets/controls",
       "_model_module_version": "1.5.0",
       "_model_name": "IntSliderModel",
       "_view_count": null,
       "_view_module": "@jupyter-widgets/controls",
       "_view_module_version": "1.5.0",
       "_view_name": "IntSliderView",
       "continuous_update": true,
       "description": "i",
       "description_tooltip": null,
       "disabled": false,
       "layout": "IPY_MODEL_3dc5588d85f743079f63a30301af8a8e",
       "max": 5,
       "min": 0,
       "orientation": "horizontal",
       "readout": true,
       "readout_format": "d",
       "step": 1,
       "style": "IPY_MODEL_18b4a82119bd49c5a789abd541f4d1e5",
       "value": 5
      }
     },
     "378b58634dbf4cefbc6459cd7410520c": {
      "model_module": "@jupyter-widgets/controls",
      "model_module_version": "1.5.0",
      "model_name": "VBoxModel",
      "state": {
       "_dom_classes": [
        "widget-interact"
       ],
       "_model_module": "@jupyter-widgets/controls",
       "_model_module_version": "1.5.0",
       "_model_name": "VBoxModel",
       "_view_count": null,
       "_view_module": "@jupyter-widgets/controls",
       "_view_module_version": "1.5.0",
       "_view_name": "VBoxView",
       "box_style": "",
       "children": [
        "IPY_MODEL_3128879ce8e64284aa83592737d57b8b",
        "IPY_MODEL_2d120214d6284739a59bbf6631cf0107"
       ],
       "layout": "IPY_MODEL_63d6d355801f49de95094fb17a1f8cad"
      }
     },
     "3dc5588d85f743079f63a30301af8a8e": {
      "model_module": "@jupyter-widgets/base",
      "model_module_version": "1.2.0",
      "model_name": "LayoutModel",
      "state": {
       "_model_module": "@jupyter-widgets/base",
       "_model_module_version": "1.2.0",
       "_model_name": "LayoutModel",
       "_view_count": null,
       "_view_module": "@jupyter-widgets/base",
       "_view_module_version": "1.2.0",
       "_view_name": "LayoutView",
       "align_content": null,
       "align_items": null,
       "align_self": null,
       "border": null,
       "bottom": null,
       "display": null,
       "flex": null,
       "flex_flow": null,
       "grid_area": null,
       "grid_auto_columns": null,
       "grid_auto_flow": null,
       "grid_auto_rows": null,
       "grid_column": null,
       "grid_gap": null,
       "grid_row": null,
       "grid_template_areas": null,
       "grid_template_columns": null,
       "grid_template_rows": null,
       "height": null,
       "justify_content": null,
       "justify_items": null,
       "left": null,
       "margin": null,
       "max_height": null,
       "max_width": null,
       "min_height": null,
       "min_width": null,
       "object_fit": null,
       "object_position": null,
       "order": null,
       "overflow": null,
       "overflow_x": null,
       "overflow_y": null,
       "padding": null,
       "right": null,
       "top": null,
       "visibility": null,
       "width": null
      }
     },
     "4fff7072b87049199f98c507e18704b9": {
      "model_module": "@jupyter-widgets/base",
      "model_module_version": "1.2.0",
      "model_name": "LayoutModel",
      "state": {
       "_model_module": "@jupyter-widgets/base",
       "_model_module_version": "1.2.0",
       "_model_name": "LayoutModel",
       "_view_count": null,
       "_view_module": "@jupyter-widgets/base",
       "_view_module_version": "1.2.0",
       "_view_name": "LayoutView",
       "align_content": null,
       "align_items": null,
       "align_self": null,
       "border": null,
       "bottom": null,
       "display": null,
       "flex": null,
       "flex_flow": null,
       "grid_area": null,
       "grid_auto_columns": null,
       "grid_auto_flow": null,
       "grid_auto_rows": null,
       "grid_column": null,
       "grid_gap": null,
       "grid_row": null,
       "grid_template_areas": null,
       "grid_template_columns": null,
       "grid_template_rows": null,
       "height": null,
       "justify_content": null,
       "justify_items": null,
       "left": null,
       "margin": null,
       "max_height": null,
       "max_width": null,
       "min_height": null,
       "min_width": null,
       "object_fit": null,
       "object_position": null,
       "order": null,
       "overflow": null,
       "overflow_x": null,
       "overflow_y": null,
       "padding": null,
       "right": null,
       "top": null,
       "visibility": null,
       "width": null
      }
     },
     "5942a22f84e04fa58316bc0cef89ba6f": {
      "model_module": "@jupyter-widgets/base",
      "model_module_version": "1.2.0",
      "model_name": "LayoutModel",
      "state": {
       "_model_module": "@jupyter-widgets/base",
       "_model_module_version": "1.2.0",
       "_model_name": "LayoutModel",
       "_view_count": null,
       "_view_module": "@jupyter-widgets/base",
       "_view_module_version": "1.2.0",
       "_view_name": "LayoutView",
       "align_content": null,
       "align_items": null,
       "align_self": null,
       "border": null,
       "bottom": null,
       "display": null,
       "flex": null,
       "flex_flow": null,
       "grid_area": null,
       "grid_auto_columns": null,
       "grid_auto_flow": null,
       "grid_auto_rows": null,
       "grid_column": null,
       "grid_gap": null,
       "grid_row": null,
       "grid_template_areas": null,
       "grid_template_columns": null,
       "grid_template_rows": null,
       "height": null,
       "justify_content": null,
       "justify_items": null,
       "left": null,
       "margin": null,
       "max_height": null,
       "max_width": null,
       "min_height": null,
       "min_width": null,
       "object_fit": null,
       "object_position": null,
       "order": null,
       "overflow": null,
       "overflow_x": null,
       "overflow_y": null,
       "padding": null,
       "right": null,
       "top": null,
       "visibility": null,
       "width": null
      }
     },
     "63d6d355801f49de95094fb17a1f8cad": {
      "model_module": "@jupyter-widgets/base",
      "model_module_version": "1.2.0",
      "model_name": "LayoutModel",
      "state": {
       "_model_module": "@jupyter-widgets/base",
       "_model_module_version": "1.2.0",
       "_model_name": "LayoutModel",
       "_view_count": null,
       "_view_module": "@jupyter-widgets/base",
       "_view_module_version": "1.2.0",
       "_view_name": "LayoutView",
       "align_content": null,
       "align_items": null,
       "align_self": null,
       "border": null,
       "bottom": null,
       "display": null,
       "flex": null,
       "flex_flow": null,
       "grid_area": null,
       "grid_auto_columns": null,
       "grid_auto_flow": null,
       "grid_auto_rows": null,
       "grid_column": null,
       "grid_gap": null,
       "grid_row": null,
       "grid_template_areas": null,
       "grid_template_columns": null,
       "grid_template_rows": null,
       "height": null,
       "justify_content": null,
       "justify_items": null,
       "left": null,
       "margin": null,
       "max_height": null,
       "max_width": null,
       "min_height": null,
       "min_width": null,
       "object_fit": null,
       "object_position": null,
       "order": null,
       "overflow": null,
       "overflow_x": null,
       "overflow_y": null,
       "padding": null,
       "right": null,
       "top": null,
       "visibility": null,
       "width": null
      }
     },
     "9d271eeba28f4cceba42a496eb76a149": {
      "model_module": "@jupyter-widgets/output",
      "model_module_version": "1.0.0",
      "model_name": "OutputModel",
      "state": {
       "_dom_classes": [],
       "_model_module": "@jupyter-widgets/output",
       "_model_module_version": "1.0.0",
       "_model_name": "OutputModel",
       "_view_count": null,
       "_view_module": "@jupyter-widgets/output",
       "_view_module_version": "1.0.0",
       "_view_name": "OutputView",
       "layout": "IPY_MODEL_5942a22f84e04fa58316bc0cef89ba6f",
       "msg_id": "",
       "outputs": [
        {
         "data": {
          "image/png": "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\n",
          "text/plain": "<Figure size 432x288 with 2 Axes>"
         },
         "metadata": {
          "needs_background": "light"
         },
         "output_type": "display_data"
        }
       ]
      }
     },
     "9f706196e8d14f189e75ec277be48a9c": {
      "model_module": "@jupyter-widgets/base",
      "model_module_version": "1.2.0",
      "model_name": "LayoutModel",
      "state": {
       "_model_module": "@jupyter-widgets/base",
       "_model_module_version": "1.2.0",
       "_model_name": "LayoutModel",
       "_view_count": null,
       "_view_module": "@jupyter-widgets/base",
       "_view_module_version": "1.2.0",
       "_view_name": "LayoutView",
       "align_content": null,
       "align_items": null,
       "align_self": null,
       "border": null,
       "bottom": null,
       "display": null,
       "flex": null,
       "flex_flow": null,
       "grid_area": null,
       "grid_auto_columns": null,
       "grid_auto_flow": null,
       "grid_auto_rows": null,
       "grid_column": null,
       "grid_gap": null,
       "grid_row": null,
       "grid_template_areas": null,
       "grid_template_columns": null,
       "grid_template_rows": null,
       "height": null,
       "justify_content": null,
       "justify_items": null,
       "left": null,
       "margin": null,
       "max_height": null,
       "max_width": null,
       "min_height": null,
       "min_width": null,
       "object_fit": null,
       "object_position": null,
       "order": null,
       "overflow": null,
       "overflow_x": null,
       "overflow_y": null,
       "padding": null,
       "right": null,
       "top": null,
       "visibility": null,
       "width": null
      }
     },
     "c31f2a630d8e4e0c86d21616c4a3af31": {
      "model_module": "@jupyter-widgets/controls",
      "model_module_version": "1.5.0",
      "model_name": "IntSliderModel",
      "state": {
       "_dom_classes": [],
       "_model_module": "@jupyter-widgets/controls",
       "_model_module_version": "1.5.0",
       "_model_name": "IntSliderModel",
       "_view_count": null,
       "_view_module": "@jupyter-widgets/controls",
       "_view_module_version": "1.5.0",
       "_view_name": "IntSliderView",
       "continuous_update": true,
       "description": "i",
       "description_tooltip": null,
       "disabled": false,
       "layout": "IPY_MODEL_9f706196e8d14f189e75ec277be48a9c",
       "max": 5,
       "min": 0,
       "orientation": "horizontal",
       "readout": true,
       "readout_format": "d",
       "step": 1,
       "style": "IPY_MODEL_ca8bffd1a40e45b3addc60e1d4693610",
       "value": 5
      }
     },
     "ca8bffd1a40e45b3addc60e1d4693610": {
      "model_module": "@jupyter-widgets/controls",
      "model_module_version": "1.5.0",
      "model_name": "SliderStyleModel",
      "state": {
       "_model_module": "@jupyter-widgets/controls",
       "_model_module_version": "1.5.0",
       "_model_name": "SliderStyleModel",
       "_view_count": null,
       "_view_module": "@jupyter-widgets/base",
       "_view_module_version": "1.2.0",
       "_view_name": "StyleView",
       "description_width": "",
       "handle_color": null
      }
     }
    },
    "version_major": 2,
    "version_minor": 0
   }
  }
 },
 "nbformat": 4,
 "nbformat_minor": 5
}