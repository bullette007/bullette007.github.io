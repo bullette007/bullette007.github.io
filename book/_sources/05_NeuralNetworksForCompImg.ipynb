{
 "cells": [
  {
   "cell_type": "code",
   "execution_count": 1,
   "id": "b7724d9c",
   "metadata": {
    "init_cell": true,
    "tags": [
     "remove-cell"
    ]
   },
   "outputs": [
    {
     "data": {
      "application/javascript": [
       "var cells = Jupyter.notebook.get_cells();\n",
       "           for (var i = 0; i < cells.length; i++) {\n",
       "               var cur_cell = cells[i];\n",
       "               var tags = cur_cell._metadata.tags;\n",
       "               console.log(i);\n",
       "               console.log(tags == undefined);\n",
       "               console.log(tags);\n",
       "               if (tags != undefined) {\n",
       "               for (var j = 0; j < tags.length; j++) {\n",
       "                  if (tags[j]==\"book_only\" | tags[j]==\"remove-cell\") {cur_cell.element.hide();}\n",
       "                  if (tags[j]==\"presentation_only\") {cur_cell.element.show();}\n",
       "            }}}\n"
      ],
      "text/plain": [
       "<IPython.core.display.Javascript object>"
      ]
     },
     "metadata": {},
     "output_type": "display_data"
    }
   ],
   "source": [
    "%%js\n",
    "var cells = Jupyter.notebook.get_cells();\n",
    "           for (var i = 0; i < cells.length; i++) {\n",
    "               var cur_cell = cells[i];\n",
    "               var tags = cur_cell._metadata.tags;\n",
    "               console.log(i);\n",
    "               console.log(tags == undefined);\n",
    "               console.log(tags);\n",
    "               if (tags != undefined) {\n",
    "               for (var j = 0; j < tags.length; j++) {\n",
    "                  if (tags[j]==\"book_only\" | tags[j]==\"remove-cell\") {cur_cell.element.hide();}\n",
    "                  if (tags[j]==\"presentation_only\") {cur_cell.element.show();}\n",
    "            }}}"
   ]
  },
  {
   "cell_type": "code",
   "execution_count": 2,
   "id": "59940b23",
   "metadata": {
    "init_cell": true,
    "slideshow": {
     "slide_type": "notes"
    },
    "tags": [
     "remove-cell"
    ]
   },
   "outputs": [
    {
     "name": "stderr",
     "output_type": "stream",
     "text": [
      "C:\\Users\\meyjoh\\repos\\vlcompimg\\compimg\\lib\\site-packages\\scipy\\__init__.py:138: UserWarning: A NumPy version >=1.16.5 and <1.23.0 is required for this version of SciPy (detected version 1.23.4)\n",
      "  warnings.warn(f\"A NumPy version >={np_minversion} and <{np_maxversion} is required for this version of \"\n"
     ]
    }
   ],
   "source": [
    "from __future__ import print_function\n",
    "from ipywidgets import interact, interactive, fixed, interact_manual\n",
    "import ipywidgets as widgets\n",
    "import numpy as np\n",
    "import matplotlib.pyplot as plt\n",
    "import cv2\n",
    "import scipy.signal as sig\n",
    "from scipy.integrate import simpson\n",
    "from IPython.display import SVG, display, IFrame, HTML\n",
    "import seaborn as sns\n",
    "import torch\n",
    "from scipy import misc\n",
    "%matplotlib notebook\n",
    "book = False"
   ]
  },
  {
   "cell_type": "code",
   "execution_count": 3,
   "id": "1394a128",
   "metadata": {
    "tags": [
     "remove-input",
     "book_only"
    ]
   },
   "outputs": [],
   "source": [
    "%matplotlib inline\n",
    "book = True"
   ]
  },
  {
   "cell_type": "code",
   "execution_count": 4,
   "id": "73394ba3",
   "metadata": {
    "init_cell": true,
    "slideshow": {
     "slide_type": "notes"
    },
    "tags": [
     "remove-cell"
    ]
   },
   "outputs": [],
   "source": [
    "def showFig2(path,i,ending, width, height):\n",
    "    imgToShow = plt.imread(f\"{path}{i}{ending}\")\n",
    "    plt.imshow(imgToShow)"
   ]
  },
  {
   "cell_type": "code",
   "execution_count": 5,
   "id": "4414606d",
   "metadata": {
    "init_cell": true,
    "slideshow": {
     "slide_type": "notes"
    },
    "tags": [
     "remove-cell"
    ]
   },
   "outputs": [],
   "source": [
    "def showFig(path,i,ending, width, height):\n",
    "    filename = path+str(i)+ending\n",
    "    return HTML(\"<img src=\\\"\" + filename +  f\"\\\" style=\\\"max-height:{height}vh\\\"/>\")"
   ]
  },
  {
   "cell_type": "code",
   "execution_count": 6,
   "id": "b31b726b",
   "metadata": {
    "init_cell": true,
    "slideshow": {
     "slide_type": "notes"
    },
    "tags": [
     "remove-cell"
    ]
   },
   "outputs": [],
   "source": [
    "def imshow(img, cmap=None):\n",
    "    plt.close('all')\n",
    "    plt.figure()\n",
    "    plt.imshow(img, cmap=cmap)\n",
    "    plt.show()"
   ]
  },
  {
   "cell_type": "code",
   "execution_count": 7,
   "id": "1e31a878",
   "metadata": {
    "init_cell": true,
    "slideshow": {
     "slide_type": "notes"
    },
    "tags": [
     "remove-cell"
    ]
   },
   "outputs": [],
   "source": [
    "def imshow2(img, cmap=None):\n",
    "    #plt.close('all')\n",
    "    #plt.figure()\n",
    "    plt.clf()\n",
    "    plt.imshow(img, cmap=cmap)\n",
    "    #plt.show()"
   ]
  },
  {
   "cell_type": "markdown",
   "id": "0e4a0615",
   "metadata": {
    "slideshow": {
     "slide_type": "slide"
    }
   },
   "source": [
    "$\\begin{align}\n",
    "  \\newcommand{transp}{^\\intercal}\n",
    "  \\newcommand{F}{\\mathcal{F}}\n",
    "  \\newcommand{Fi}{\\mathcal{F}^{-1}}\n",
    "  \\newcommand{inv}{^{-1}}\n",
    "  \\newcommand{stochvec}[1]{\\mathbf{\\tilde{#1}}}\n",
    "  \\newcommand{argmax}[1]{\\underset{#1}{\\mathrm{arg\\, max}}}\n",
    "  \\newcommand{argmin}[1]{\\underset{#1}{\\mathrm{arg\\, min}}}\n",
    "\\end{align}$\n",
    "\n",
    "<font size=\"7\"> Computational Imaging </font><br><br><br>"
   ]
  },
  {
   "cell_type": "markdown",
   "id": "3d2d58dc",
   "metadata": {
    "slideshow": {
     "slide_type": "fragment"
    }
   },
   "source": [
    "# Neural Networks for Computational Imaging"
   ]
  },
  {
   "cell_type": "markdown",
   "id": "ce9c6f77",
   "metadata": {
    "slideshow": {
     "slide_type": "subslide"
    }
   },
   "source": [
    "##### Content\n",
    "* Introduction to neural networks\n",
    "* Principal building blocks \n",
    "* Universal approximation theorem\n",
    "* Optimization of network parameters\n",
    "* Architectures and loss functions\n",
    "* Example applications\n",
    "* Tools, libraries and reading resources"
   ]
  },
  {
   "cell_type": "markdown",
   "id": "7e7d2ab3",
   "metadata": {
    "slideshow": {
     "slide_type": "slide"
    }
   },
   "source": [
    "## Introduction to neural networks\n",
    "\n",
    "* (Artificial) neural networks represent a class of machine learning methods.\n",
    "* They can be imagined as versatile approximators $\\phi_\\boldsymbol{\\theta}$ of arbitrary, continuous functions $\\mathbf{y} = f(\\mathbf{x}), \\quad f:\\mathbb{R}^N \\mapsto \\mathbb{R}^M,\\quad M,N \\in \\mathbb{N}$, i.e., with $\\phi_\\boldsymbol{\\theta}(\\mathbf{x}) \\approx f(\\mathbf{x})$.\n",
    "* They are defined by their architecture and the corresponding parameters $\\boldsymbol{\\theta}$."
   ]
  },
  {
   "cell_type": "markdown",
   "id": "358e7ee3",
   "metadata": {
    "slideshow": {
     "slide_type": "subslide"
    }
   },
   "source": [
    "* Via a suitable training procedure and a so-called *training set* of example pairs $\\mathcal{T} = \\left\\{ (\\mathbf{x}_i, \\mathbf{y}_i), i \\in \\left[ 1,\\ldots , N \\right]  \\right\\}$ of input variables $\\mathbf{x}_i$ and corresponding output variables $\\mathbf{y}_i$, their parameters $\\boldsymbol{\\theta}$ are optimized so that \n",
    "  * $\\forall (\\mathbf{x},\\mathbf{y}) \\in \\mathcal{T}:\\text{dist}(\\phi_\\boldsymbol{\\theta}(\\mathbf{x}), \\mathbf{y} ) \\rightarrow \\text{Min.}\\,,$ with a suitable distance function $\\text{dist}$ and\n",
    "  * (hopefully) $\\text{dist}(\\phi_\\boldsymbol{\\theta}(\\mathbf{x}), f(\\mathbf{x}) ) \\rightarrow \\text{Min.}\\,,$ for unseen input vectors $\\mathbf{x}$, i.e., which are not part of the training set."
   ]
  },
  {
   "cell_type": "markdown",
   "id": "1730c9cf",
   "metadata": {
    "slideshow": {
     "slide_type": "subslide"
    }
   },
   "source": [
    "* Neural networks have first been described in 1943 by Warren McCulloch and Walter Pitts in their paper \"A Logical Calculus of the Ideas Immanent in Nervous Activity\".\n",
    "* Frank Rosenblatt followed their approach and described the so-called *Perceptron* as a fundamental unit of early neural networks."
   ]
  },
  {
   "cell_type": "markdown",
   "id": "91fa2c4b",
   "metadata": {
    "slideshow": {
     "slide_type": "subslide"
    }
   },
   "source": [
    "* Approximately around the year 2010, researchers started to use very deep neural networks, i.e., with many so-called *layers* (more information later) and achieved unprecedented performances on various tasks in the field of machine learning and computer vision."
   ]
  },
  {
   "cell_type": "markdown",
   "id": "3617b3da",
   "metadata": {
    "slideshow": {
     "slide_type": "fragment"
    }
   },
   "source": [
    "* An important enabler for this breakthrough were the increase in computing power provided by modern computers, especially by GPUs (graphics processing units), and the availability and usage of huge amounts of training data."
   ]
  },
  {
   "cell_type": "markdown",
   "id": "2c338a4c",
   "metadata": {
    "slideshow": {
     "slide_type": "slide"
    }
   },
   "source": [
    "## Principal building blocks\n",
    "\n",
    "The two fundamental building blocks of neural networks are\n",
    "* Matrix vector multiplications and\n",
    "* non-linear functions, also called or *activation functions*.\n",
    "\n",
    "Multiple instances of these building blocks can be stacked in parallel or consecutively with respect to each other to finally yield a neural network."
   ]
  },
  {
   "cell_type": "markdown",
   "id": "6aa1142d",
   "metadata": {
    "slideshow": {
     "slide_type": "subslide"
    }
   },
   "source": [
    "### Layers\n",
    "\n",
    "When stacking linear or non-linear building blocks in parallel, the resulting structure is called a linear, respectively, a non-linear layer (usually either a linear or a non-linear block is stacked in parallel, not a mixture of both)."
   ]
  },
  {
   "cell_type": "markdown",
   "id": "6e564869",
   "metadata": {
    "slideshow": {
     "slide_type": "fragment"
    }
   },
   "source": [
    "The way of stacking the individual blocks is called the *architecture* of the neural network."
   ]
  },
  {
   "cell_type": "markdown",
   "id": "813555ad",
   "metadata": {
    "slideshow": {
     "slide_type": "subslide"
    }
   },
   "source": [
    "### Linear layers\n",
    "\n",
    "In one building block of a linear layer, the input $(x_1, x_2, \\ldots, x_N)\\transp$ is mapped to the scalar output $y$ via a linear transformation, i.e.,\n",
    "\n",
    "$\\begin{align} \n",
    "   y = \\sum\\limits^{N}_{i=1} w_i \\cdot x_i + b \\,,\n",
    "\\end{align}$\n",
    "\n",
    "with $w_i$ denoting the $i$-th so-called *weight*, i.e. parameter, of this block and $b$ denoting the so-called *bias* (also a parameter), i.e., an additive term not depending on the input."
   ]
  },
  {
   "cell_type": "markdown",
   "id": "5be53a18",
   "metadata": {
    "slideshow": {
     "slide_type": "subslide"
    }
   },
   "source": [
    "<img src=\"figures/5/single_block_linear_only.svg\" style=\"max-height:40vh\">"
   ]
  },
  {
   "cell_type": "markdown",
   "id": "2d43bf80",
   "metadata": {
    "slideshow": {
     "slide_type": "subslide"
    }
   },
   "source": [
    "When one input is simultaneously processed by $K$ linear blocks, i.e.,\n",
    "\n",
    "$\\begin{align} \n",
    "   y_k = \\sum\\limits^{N}_{i=1} w^k_i \\cdot x_i + b^k = \\underbrace{\\left( w^k_1, w^k_2, \\ldots, w^k_N, b^k \\right)}_{\\mathbf{w}\\transp_k} \\cdot \\underbrace{\\begin{pmatrix} \n",
    "      x_1 \\\\ x_2 \\\\ \\vdots \\\\ x_N \\\\ 1\n",
    "   \\end{pmatrix}}_{\\mathbf{x}}  \\,,\n",
    "\\end{align}$\n",
    "\n",
    "for block $k$, this can be expressed compactly via matrix-vector multiplications:\n",
    "\n",
    "$\\begin{align} \n",
    "   \\begin{pmatrix} \n",
    "      y_1 \\\\ y_2 \\\\ \\vdots \\\\ y_K\n",
    "   \\end{pmatrix}\n",
    "   &= \n",
    "   \\begin{pmatrix} \n",
    "      \\qquad \\mathbf{w}\\transp_1 \\qquad  \\\\ \\mathbf{w}\\transp_2 \\\\ \\vdots \\\\ \\mathbf{w}\\transp_K\n",
    "   \\end{pmatrix} \\cdot \n",
    "   \\begin{pmatrix} \n",
    "      x_1 \\\\ x_2 \\\\ \\vdots \\\\ x_N \\\\ 1\n",
    "   \\end{pmatrix} \\\\\n",
    "   &= \\qquad \\quad \\mathbf{W} \\quad \\qquad \\cdot \\quad  \\mathbf{x} \\,,\n",
    "\\end{align}$\n",
    "\n",
    "with $\\mathbf{W} \\in \\mathbb{R}^{K \\times (N+1)}$ and $\\mathbf{x} \\in \\mathbb{R}^{(N+1) \\times 1}$."
   ]
  },
  {
   "cell_type": "markdown",
   "id": "e491655c",
   "metadata": {
    "slideshow": {
     "slide_type": "subslide"
    }
   },
   "source": [
    "<img src=\"figures/5/single_layer_linear_only.svg\" style=\"max-height:40vh\">"
   ]
  },
  {
   "cell_type": "markdown",
   "id": "92c959c0",
   "metadata": {
    "slideshow": {
     "slide_type": "subslide"
    }
   },
   "source": [
    "This expression can be further extended for the case when multiple input vectors $\\mathbf{x}_1, \\mathbf{x}_2, \\ldots, \\mathbf{x}_B$, i.e., a so-called *batch* of size $B$, have to be processed simultaneously:\n",
    "\n",
    "$\\begin{align} \n",
    "  \\begin{pmatrix} \n",
    "    \\qquad \\mathbf{w}\\transp_1 \\qquad  \\\\ \\mathbf{w}\\transp_2 \\\\ \\vdots \\\\ \\mathbf{w}\\transp_K\n",
    " \\end{pmatrix} \\cdot \n",
    " \\begin{pmatrix} \n",
    "     \\\\  \\\\ \\mathbf{x}_1 & \\mathbf{x}_2 & \\cdots & \\mathbf{x}_B    \\\\ \\\\ \\\\\n",
    " \\end{pmatrix} &= \\begin{pmatrix} \n",
    "    \\mathbf{w}\\transp_1 \\cdot \\mathbf{x}_1 & \\mathbf{w}\\transp_1 \\cdot \\mathbf{x}_2 &\\cdots &\\mathbf{w}\\transp_1 \\cdot \\mathbf{x}_B \\\\ \n",
    "    \\mathbf{w}\\transp_2 \\cdot \\mathbf{x}_1 & \\mathbf{w}\\transp_2 \\cdot \\mathbf{x}_2 &\\cdots &\\mathbf{w}\\transp_2 \\cdot \\mathbf{x}_B \\\\     \n",
    "    \\vdots & \\vdots & \\ddots & \\vdots \\\\\n",
    "    \\mathbf{w}\\transp_K \\cdot \\mathbf{x}_1 & \\mathbf{w}\\transp_K \\cdot \\mathbf{x}_2 &\\cdots &\\mathbf{w}\\transp_K \\cdot \\mathbf{x}_B \\\\ \n",
    " \\end{pmatrix}\\\\\n",
    " &= \\begin{pmatrix} \n",
    "  \\\\  \\\\ \\mathbf{y}_1 & \\mathbf{y}_2 & \\cdots & \\mathbf{y}_B    \\\\ \\\\ \\\\\n",
    "\\end{pmatrix}\n",
    " \\,.\n",
    "\\end{align}$"
   ]
  },
  {
   "cell_type": "markdown",
   "id": "9f59d870",
   "metadata": {
    "slideshow": {
     "slide_type": "subslide"
    }
   },
   "source": [
    "Although not fully correct, linear layers are sometimes also referred to as *feed forward layers* or *multi-layer perceptron (MLP)*."
   ]
  },
  {
   "cell_type": "markdown",
   "id": "edb24e1a",
   "metadata": {
    "slideshow": {
     "slide_type": "subslide"
    }
   },
   "source": [
    "### Non-linear layers\n",
    "\n",
    "Neural networks constructed only out of linear layers are very limited in their approximation abilities since in essence they just represent a long linear function and hence can only mimic linear functions.\n",
    "\n",
    "This is why additional, so-called *non-linear layers* consisting of non-linear building blocks are necessary."
   ]
  },
  {
   "cell_type": "markdown",
   "id": "5871d8d3",
   "metadata": {
    "slideshow": {
     "slide_type": "fragment"
    }
   },
   "source": [
    "In general, a non-linear building block is a non-linear function $\\psi:\\mathbb{R}\\rightarrow \\mathbb{R}$ that is applied to the scalar output of a linear building block."
   ]
  },
  {
   "cell_type": "markdown",
   "id": "fc29b07f",
   "metadata": {
    "slideshow": {
     "slide_type": "subslide"
    }
   },
   "source": [
    "The combination of a linear and a non-linear block then looks like:\n",
    "\n",
    "<img src=\"figures/5/single_block.svg\" style=\"max-height:40vh\">"
   ]
  },
  {
   "cell_type": "markdown",
   "id": "e00f64a1",
   "metadata": {
    "slideshow": {
     "slide_type": "subslide"
    }
   },
   "source": [
    "And a corresponding layer looks like:\n",
    "\n",
    "<img src=\"figures/5/single_layer.svg\" style=\"max-height:40vh\">"
   ]
  },
  {
   "cell_type": "markdown",
   "id": "48db8d1a",
   "metadata": {
    "slideshow": {
     "slide_type": "subslide"
    }
   },
   "source": [
    "A popular example for a non-linearity is the so-called *sigmoid*-function \n",
    "\n",
    "$\\begin{align} \n",
    "  \\psi(y)=\\frac{1}{1+\\mathrm{e}^{-y} } \\,.\n",
    "\\end{align}$"
   ]
  },
  {
   "cell_type": "markdown",
   "id": "67eec518",
   "metadata": {
    "slideshow": {
     "slide_type": "fragment"
    }
   },
   "source": [
    "When choosing high values for $\\mathbf{W}$ in the preceding linear block, the sigmoid-function resembles a unit step-function which can be shifted left or right by adjusting the bias $b$:"
   ]
  },
  {
   "cell_type": "code",
   "execution_count": 8,
   "id": "e4a917c0",
   "metadata": {
    "init_cell": true,
    "slideshow": {
     "slide_type": "skip"
    },
    "tags": [
     "delete-cell"
    ]
   },
   "outputs": [],
   "source": [
    "def sigmoid(x):\n",
    "    return 1/(1+np.exp(-1*x))\n",
    "def plot_sigmoid_after_linear(a,b):\n",
    "    xs = np.linspace(0,1,1000)\n",
    "    y1s = xs*a + b\n",
    "    y2s = sigmoid(y1s)\n",
    "    plt.clf()\n",
    "    plt.plot(xs,y2s)\n",
    "    plt.axhline(0, color='k')\n",
    "    plt.axvline(0, color='k')"
   ]
  },
  {
   "cell_type": "code",
   "execution_count": 9,
   "id": "f2eae013",
   "metadata": {
    "init_cell": true,
    "slideshow": {
     "slide_type": "subslide"
    }
   },
   "outputs": [
    {
     "data": {
      "text/plain": [
       "<Figure size 432x288 with 0 Axes>"
      ]
     },
     "metadata": {},
     "output_type": "display_data"
    },
    {
     "data": {
      "application/vnd.jupyter.widget-view+json": {
       "model_id": "ee65d2daa5a6462688c1a0f0b57a48e0",
       "version_major": 2,
       "version_minor": 0
      },
      "text/plain": [
       "interactive(children=(FloatSlider(value=8.0, description='w', max=200.0, min=1.0, step=1.0), FloatSlider(value…"
      ]
     },
     "metadata": {},
     "output_type": "display_data"
    },
    {
     "data": {
      "text/plain": [
       "<function __main__.<lambda>(w, b)>"
      ]
     },
     "execution_count": 9,
     "metadata": {},
     "output_type": "execute_result"
    }
   ],
   "source": [
    "plt.figure()\n",
    "interact(lambda w,b: plot_sigmoid_after_linear(w,b), w=widgets.FloatSlider(min=1,max=200, step=1, value=8), b=widgets.FloatSlider(min=-100,max=100, step=1, value=-4))"
   ]
  },
  {
   "cell_type": "markdown",
   "id": "e9b7cdac",
   "metadata": {
    "slideshow": {
     "slide_type": "subslide"
    }
   },
   "source": [
    "In batch processing, the result of a batch of data processed by a linear layer, i.e. $\\mathbf{y} = \\mathbf{Wx}$, is processed by the non-linearity in an element-wise fashion."
   ]
  },
  {
   "cell_type": "markdown",
   "id": "68b6dafd",
   "metadata": {
    "slideshow": {
     "slide_type": "subslide"
    }
   },
   "source": [
    "#### Other popular non-linear functions"
   ]
  },
  {
   "cell_type": "code",
   "execution_count": 10,
   "id": "468f0a92",
   "metadata": {
    "init_cell": true,
    "tags": [
     "delete-cell"
    ]
   },
   "outputs": [],
   "source": [
    "xs = torch.linspace(-3,3,100)\n",
    "ys_softplus = torch.nn.Softplus()(xs)\n",
    "ys_leakyrelu = torch.nn.LeakyReLU(negative_slope=0.1)(xs)\n",
    "ys_elu = torch.nn.ELU()(xs)\n",
    "ys_relu = torch.nn.ReLU()(xs)\n",
    "ys_tanh = torch.nn.Tanh()(xs)\n",
    "ys_sigm = torch.nn.Sigmoid()(xs)"
   ]
  },
  {
   "cell_type": "markdown",
   "id": "4ae70dfc",
   "metadata": {
    "slideshow": {
     "slide_type": "subslide"
    }
   },
   "source": [
    "##### Sigmoid\n",
    "\n",
    "The *sigmoid function*:\n",
    "\n",
    "$\\begin{align} \n",
    "   \\sigma(x) = \\frac{1}{1+\\exp(-x)} \\,.\n",
    "\\end{align}$"
   ]
  },
  {
   "cell_type": "code",
   "execution_count": 11,
   "id": "35a67d5e",
   "metadata": {
    "init_cell": true,
    "slideshow": {
     "slide_type": "subslide"
    }
   },
   "outputs": [
    {
     "data": {
      "image/png": "[encoded data removed]",
      "text/plain": [
       "<Figure size 432x288 with 1 Axes>"
      ]
     },
     "metadata": {
      "filenames": {
       "image/png": "C:\\Users\\meyjoh\\repos\\vlcompimg\\mynewbook\\_build\\jupyter_execute\\05_NeuralNetworksForCompImg_36_0.png"
      },
      "needs_background": "light"
     },
     "output_type": "display_data"
    }
   ],
   "source": [
    "plt.figure()\n",
    "plt.plot(xs, ys_sigm)\n",
    "plt.title(\"Sigmoid\")\n",
    "plt.axhline(0, color='k')\n",
    "plt.axvline(0, color='k')\n",
    "plt.grid()"
   ]
  },
  {
   "cell_type": "markdown",
   "id": "02adab45",
   "metadata": {
    "slideshow": {
     "slide_type": "subslide"
    }
   },
   "source": [
    "##### Rectified linear unit (ReLU)\n",
    "\n",
    "The *rectified linear unit (ReLU)* with $\\mathrm{ReLU}(x) = \\max (0,x)$ is a good general purpose activation function."
   ]
  },
  {
   "cell_type": "code",
   "execution_count": 12,
   "id": "d386937c",
   "metadata": {
    "init_cell": true,
    "slideshow": {
     "slide_type": "subslide"
    }
   },
   "outputs": [
    {
     "data": {
      "image/png": "[encoded data removed]",
      "text/plain": [
       "<Figure size 432x288 with 1 Axes>"
      ]
     },
     "metadata": {
      "filenames": {
       "image/png": "C:\\Users\\meyjoh\\repos\\vlcompimg\\mynewbook\\_build\\jupyter_execute\\05_NeuralNetworksForCompImg_38_0.png"
      },
      "needs_background": "light"
     },
     "output_type": "display_data"
    }
   ],
   "source": [
    "plt.figure()\n",
    "plt.plot(xs, ys_relu)\n",
    "plt.title(\"ReLU (rectified linear unit)\")\n",
    "plt.axhline(0, color='k')\n",
    "plt.axvline(0, color='k')\n",
    "plt.grid()"
   ]
  },
  {
   "cell_type": "markdown",
   "id": "f619efee",
   "metadata": {
    "slideshow": {
     "slide_type": "subslide"
    }
   },
   "source": [
    "##### Softplus\n",
    "\n",
    "Smooth approximation of the ReLU function:\n",
    "\n",
    "$\\begin{align} \n",
    "   y_i = \\frac{1}{\\beta} \\cdot \\log \\left( 1 + \\exp (\\beta \\cdot x_i) \\right) \\,,\n",
    "\\end{align}$\n",
    "\n",
    "with parameter $\\beta$."
   ]
  },
  {
   "cell_type": "code",
   "execution_count": 13,
   "id": "b908c480",
   "metadata": {
    "init_cell": true,
    "slideshow": {
     "slide_type": "subslide"
    }
   },
   "outputs": [
    {
     "data": {
      "image/png": "[encoded data removed]",
      "text/plain": [
       "<Figure size 432x288 with 1 Axes>"
      ]
     },
     "metadata": {
      "filenames": {
       "image/png": "C:\\Users\\meyjoh\\repos\\vlcompimg\\mynewbook\\_build\\jupyter_execute\\05_NeuralNetworksForCompImg_40_0.png"
      },
      "needs_background": "light"
     },
     "output_type": "display_data"
    }
   ],
   "source": [
    "plt.figure()\n",
    "plt.plot(xs, ys_softplus)\n",
    "plt.title(\"Softplus\")\n",
    "plt.axhline(0, color='k')\n",
    "plt.axvline(0, color='k')\n",
    "plt.grid()"
   ]
  },
  {
   "cell_type": "markdown",
   "id": "e90912a0",
   "metadata": {
    "slideshow": {
     "slide_type": "subslide"
    }
   },
   "source": [
    "##### Leaky ReLU\n",
    "\n",
    "Similar to ReLU but with a non-zero slope for negative inputs:\n",
    "\n",
    "$\\begin{align} \n",
    "   \\mathrm{LeakyReLU}(x) = \\begin{cases} \n",
    "      x, & \\text{if } x \\geq 0 \\\\\n",
    "      \\beta \\cdot x, & \\text{otherwise}\n",
    "   \\end{cases} \\,,\n",
    "\\end{align}$\n",
    "\n",
    "with the negative slope value $\\beta$."
   ]
  },
  {
   "cell_type": "code",
   "execution_count": 14,
   "id": "ad1bde3a",
   "metadata": {
    "init_cell": true,
    "slideshow": {
     "slide_type": "subslide"
    }
   },
   "outputs": [
    {
     "data": {
      "image/png": "[encoded data removed]",
      "text/plain": [
       "<Figure size 432x288 with 1 Axes>"
      ]
     },
     "metadata": {
      "filenames": {
       "image/png": "C:\\Users\\meyjoh\\repos\\vlcompimg\\mynewbook\\_build\\jupyter_execute\\05_NeuralNetworksForCompImg_42_0.png"
      },
      "needs_background": "light"
     },
     "output_type": "display_data"
    }
   ],
   "source": [
    "plt.figure()\n",
    "plt.plot(xs, ys_leakyrelu)\n",
    "plt.title(\"leaky ReLU (rectified linear unit)\")\n",
    "plt.axhline(0, color='k')\n",
    "plt.axvline(0, color='k')\n",
    "plt.grid()"
   ]
  },
  {
   "cell_type": "markdown",
   "id": "f9db8272",
   "metadata": {
    "slideshow": {
     "slide_type": "subslide"
    }
   },
   "source": [
    "##### Exponential linear unit (ELU)\n",
    "\n",
    "Another smooth approximation of the ReLU function:\n",
    "\n",
    "$\\begin{align} \n",
    "   \\mathrm{ELU}(x) = \\begin{cases} \n",
    "      x, & \\text{if } x > 0 \\\\\n",
    "      \\exp (x) -1 & \\text{otherwise} \n",
    "   \\end{cases}\\,.\n",
    "\\end{align}$"
   ]
  },
  {
   "cell_type": "code",
   "execution_count": 15,
   "id": "3bd75530",
   "metadata": {
    "init_cell": true,
    "slideshow": {
     "slide_type": "subslide"
    }
   },
   "outputs": [
    {
     "data": {
      "image/png": "[encoded data removed]",
      "text/plain": [
       "<Figure size 432x288 with 1 Axes>"
      ]
     },
     "metadata": {
      "filenames": {
       "image/png": "C:\\Users\\meyjoh\\repos\\vlcompimg\\mynewbook\\_build\\jupyter_execute\\05_NeuralNetworksForCompImg_44_0.png"
      },
      "needs_background": "light"
     },
     "output_type": "display_data"
    }
   ],
   "source": [
    "plt.figure()\n",
    "plt.plot(xs, ys_elu)\n",
    "plt.title(\"ELU (exponential linear unit)\")\n",
    "plt.axhline(0, color='k')\n",
    "plt.axvline(0, color='k')\n",
    "plt.grid()"
   ]
  },
  {
   "cell_type": "markdown",
   "id": "35c00226",
   "metadata": {
    "slideshow": {
     "slide_type": "subslide"
    }
   },
   "source": [
    "##### Hyperbolic tangent (tanh)\n",
    "\n",
    "The *hyperbolic tangent (tanh)* function:\n",
    "\n",
    "$\\begin{align} \n",
    "   \\mathrm{tanh}(x) = \\frac{\\exp (x) - \\exp (-x)}{\\exp (x) + \\exp (-x)} \\,.\n",
    "\\end{align}$"
   ]
  },
  {
   "cell_type": "code",
   "execution_count": 16,
   "id": "0adfce59",
   "metadata": {
    "init_cell": true,
    "slideshow": {
     "slide_type": "subslide"
    }
   },
   "outputs": [
    {
     "data": {
      "image/png": "[encoded data removed]",
      "text/plain": [
       "<Figure size 432x288 with 1 Axes>"
      ]
     },
     "metadata": {
      "filenames": {
       "image/png": "C:\\Users\\meyjoh\\repos\\vlcompimg\\mynewbook\\_build\\jupyter_execute\\05_NeuralNetworksForCompImg_46_0.png"
      },
      "needs_background": "light"
     },
     "output_type": "display_data"
    }
   ],
   "source": [
    "plt.figure()\n",
    "plt.plot(xs, ys_tanh)\n",
    "plt.title(\"tanh\")\n",
    "plt.axhline(0, color='k')\n",
    "plt.axvline(0, color='k')\n",
    "plt.grid()"
   ]
  },
  {
   "cell_type": "markdown",
   "id": "7efc7720",
   "metadata": {
    "slideshow": {
     "slide_type": "subslide"
    }
   },
   "source": [
    "### Pooling layers"
   ]
  },
  {
   "cell_type": "markdown",
   "id": "fb2586d0",
   "metadata": {},
   "source": [
    "Pooling layers reduce the size of the input data by selecting or calculating a certain value out of a region of input values and by replacing that whole region by this value."
   ]
  },
  {
   "cell_type": "markdown",
   "id": "4e62adc6",
   "metadata": {
    "slideshow": {
     "slide_type": "subslide"
    }
   },
   "source": [
    "A common example is *max pooling*. The layer is parameterized via\n",
    "* its window size $h$ and\n",
    "* its stride $s$."
   ]
  },
  {
   "cell_type": "markdown",
   "id": "4de296f5",
   "metadata": {
    "slideshow": {
     "slide_type": "fragment"
    }
   },
   "source": [
    "The layer shifts a square-shaped window with edge length $h$ over the input data and selects the highest value out of all values covered by the window and returns this value as one of its outputs. Then, the window is shifted by the stride value $s$ and the procedure is repeated until the whole input data has been processed."
   ]
  },
  {
   "cell_type": "code",
   "execution_count": 17,
   "id": "8d5ccc6c",
   "metadata": {
    "init_cell": true,
    "slideshow": {
     "slide_type": "subslide"
    }
   },
   "outputs": [
    {
     "data": {
      "application/vnd.jupyter.widget-view+json": {
       "model_id": "3e1bdf7631db4339bc9898071198b3b7",
       "version_major": 2,
       "version_minor": 0
      },
      "text/plain": [
       "interactive(children=(IntSlider(value=5, description='i', max=5, min=1), Output()), _dom_classes=('widget-inte…"
      ]
     },
     "metadata": {},
     "output_type": "display_data"
    },
    {
     "data": {
      "text/plain": [
       "<function __main__.<lambda>(i)>"
      ]
     },
     "execution_count": 17,
     "metadata": {},
     "output_type": "execute_result"
    }
   ],
   "source": [
    "interact(lambda i: showFig('figures/5/pooling_layer_',i,'.svg',800,50), i=widgets.IntSlider(min=(min_i:=1),max=(max_i:=5), step=1, value=(max_i if book else min_i)))"
   ]
  },
  {
   "cell_type": "markdown",
   "id": "fc771f28",
   "metadata": {
    "slideshow": {
     "slide_type": "subslide"
    }
   },
   "source": [
    "##### Example max pooling with PyTorch:"
   ]
  },
  {
   "cell_type": "code",
   "execution_count": 18,
   "id": "194d1618",
   "metadata": {
    "slideshow": {
     "slide_type": "fragment"
    }
   },
   "outputs": [],
   "source": [
    "pooling = torch.nn.MaxPool2d(2,2).float()"
   ]
  },
  {
   "cell_type": "code",
   "execution_count": 19,
   "id": "08a4105c",
   "metadata": {
    "slideshow": {
     "slide_type": "fragment"
    }
   },
   "outputs": [
    {
     "data": {
      "text/plain": [
       "tensor([[[2., 1., 1., 1.],\n",
       "         [1., 2., 1., 1.],\n",
       "         [1., 1., 2., 1.],\n",
       "         [1., 1., 1., 2.]]])"
      ]
     },
     "execution_count": 19,
     "metadata": {},
     "output_type": "execute_result"
    }
   ],
   "source": [
    "tens = torch.tensor(np.ones(4) + np.eye(4)).unsqueeze(0).float()\n",
    "tens"
   ]
  },
  {
   "cell_type": "code",
   "execution_count": 20,
   "id": "3ce3236f",
   "metadata": {
    "slideshow": {
     "slide_type": "fragment"
    }
   },
   "outputs": [
    {
     "data": {
      "text/plain": [
       "tensor([[[2., 1.],\n",
       "         [1., 2.]]])"
      ]
     },
     "execution_count": 20,
     "metadata": {},
     "output_type": "execute_result"
    }
   ],
   "source": [
    "pooling(tens)"
   ]
  },
  {
   "cell_type": "markdown",
   "id": "3236d4a5",
   "metadata": {
    "slideshow": {
     "slide_type": "subslide"
    }
   },
   "source": [
    "### Convolutional layers\n",
    "\n",
    "Convolutional layers process their input by convolving it with one or more convolution kernels. \n",
    "\n",
    "The coefficients of the convolution kernels also represent parameters of the network which are optimized during training. \n",
    "\n",
    "Convolutional layers are mainly parameterized via\n",
    "* number of kernels (often referred to as *channels*),\n",
    "* sizes of the kernels,\n",
    "* their stride $s$ and\n",
    "* the padding mode (i.e., how to deal with the situation at the borders of the input data when the kernel protrudes the input's support)."
   ]
  },
  {
   "cell_type": "code",
   "execution_count": 21,
   "id": "72fe6a53",
   "metadata": {
    "init_cell": true,
    "slideshow": {
     "slide_type": "subslide"
    }
   },
   "outputs": [
    {
     "data": {
      "application/vnd.jupyter.widget-view+json": {
       "model_id": "963c572f2c6d47ddb7ac774243ee1352",
       "version_major": 2,
       "version_minor": 0
      },
      "text/plain": [
       "interactive(children=(IntSlider(value=5, description='i', max=5), Output()), _dom_classes=('widget-interact',)…"
      ]
     },
     "metadata": {},
     "output_type": "display_data"
    },
    {
     "data": {
      "text/plain": [
       "<function __main__.<lambda>(i)>"
      ]
     },
     "execution_count": 21,
     "metadata": {},
     "output_type": "execute_result"
    }
   ],
   "source": [
    "interact(lambda i: showFig('figures/5/convolutional_layer_',i,'.svg',800,50), i=widgets.IntSlider(min=(min_i:=0),max=(max_i:=5), step=1, value=(max_i if book else min_i)))"
   ]
  },
  {
   "cell_type": "markdown",
   "id": "e5177638",
   "metadata": {
    "slideshow": {
     "slide_type": "subslide"
    }
   },
   "source": [
    "Depending on the stride $s$ and the padding mode, convolutional layers can yield outputs of lower spatial dimensions (e.g., smaller images).\n",
    "\n",
    "Depending on the number of kernels, the output can have a larger or lower number of channels."
   ]
  },
  {
   "cell_type": "markdown",
   "id": "be1d1ddd",
   "metadata": {
    "slideshow": {
     "slide_type": "subslide"
    }
   },
   "source": [
    "##### Channel dimensions\n",
    "\n",
    "If the input to a convolutional layer has $C$ channels, each filter kernel must also have $C$ channels. Considering one kernel, the individual channels of the input are convolved with the respective channels of that kernel and the results are summed up to yield one channel of the output of the layer. Hence, every kernel yields one channel of the output."
   ]
  },
  {
   "cell_type": "markdown",
   "id": "4dcd3616",
   "metadata": {
    "slideshow": {
     "slide_type": "subslide"
    }
   },
   "source": [
    "##### $1 \\times 1$ convolutions\n",
    "\n",
    "In order to reduce the channel dimension while processing data in a neural network, so-called $1 \\times 1$ *convolutions*, i.e., convolutions with a kernel of size $1 \\times 1$ can be employed."
   ]
  },
  {
   "cell_type": "markdown",
   "id": "0a1c60b3",
   "metadata": {
    "slideshow": {
     "slide_type": "fragment"
    }
   },
   "source": [
    "A $1 \\times 1$-kernel does not alter the spatial distribution of the data but can reduce the channel dimension if the number of $1 \\times 1$-kernels is less than the number of channels of the input data."
   ]
  },
  {
   "cell_type": "markdown",
   "id": "dc6d71e6",
   "metadata": {
    "tags": [
     "book_only"
    ]
   },
   "source": [
    "```{note}\n",
    "Sometimes, the results of a convolutional layer are denoted as *features* or *feature maps*.\n",
    "\n",
    "```"
   ]
  },
  {
   "cell_type": "markdown",
   "id": "7cdc8996",
   "metadata": {
    "tags": [
     "book_only"
    ]
   },
   "source": [
    "```{note}\n",
    "In many programming libraries for neural networks, biases (i.e., additive terms) are also added to the results of convolutional layers. This can lead to unexpected results if it is not considered. \n",
    "```"
   ]
  },
  {
   "cell_type": "markdown",
   "id": "516fe2fc",
   "metadata": {
    "slideshow": {
     "slide_type": "subslide"
    }
   },
   "source": [
    "### Transposed convolutional layers"
   ]
  },
  {
   "cell_type": "markdown",
   "id": "636854bc",
   "metadata": {},
   "source": [
    "Although the name might be a bit misleading, so-called *transposed convolutional layers* can be imagined as a kind of inverse of convolutional layers, in the sense as they increase the spatial resolution of the input.\n",
    "\n",
    "Transposed convolutional layers are parameterized similarly to convolutional layers, i.e., via\n",
    "* number of kernels,\n",
    "* sizes of the kernels,\n",
    "* their stride $s$ and\n",
    "* the padding mode."
   ]
  },
  {
   "cell_type": "markdown",
   "id": "e74bd798",
   "metadata": {
    "slideshow": {
     "slide_type": "subslide"
    }
   },
   "source": [
    "Every element of the input scales a kernel which yields the values of the output in the spatial region covered by the kernel. The kernel is then shifted by the stride $s$ and the process is repeated with the next value of the input vector. Depending on the stride $s$, there might already be values present in the currently considered region of the output vector. In that case, the new values are additively superposed."
   ]
  },
  {
   "cell_type": "code",
   "execution_count": 22,
   "id": "e2e8828a",
   "metadata": {
    "init_cell": true,
    "slideshow": {
     "slide_type": "subslide"
    }
   },
   "outputs": [
    {
     "data": {
      "application/vnd.jupyter.widget-view+json": {
       "model_id": "b7dd0beaeb3649d6b83a5cc607e621bc",
       "version_major": 2,
       "version_minor": 0
      },
      "text/plain": [
       "interactive(children=(IntSlider(value=3, description='i', max=3), Output()), _dom_classes=('widget-interact',)…"
      ]
     },
     "metadata": {},
     "output_type": "display_data"
    },
    {
     "data": {
      "text/plain": [
       "<function __main__.<lambda>(i)>"
      ]
     },
     "execution_count": 22,
     "metadata": {},
     "output_type": "execute_result"
    }
   ],
   "source": [
    "interact(lambda i: showFig('figures/5/transposed_convolutional_layer_',i,'.svg',800,50), i=widgets.IntSlider(min=(min_i:=0),max=(max_i:=3), step=1, value=(max_i if book else min_i)))"
   ]
  },
  {
   "cell_type": "markdown",
   "id": "cc04a07f",
   "metadata": {
    "slideshow": {
     "slide_type": "subslide"
    }
   },
   "source": [
    "##### Example transposed convolution with PyTorch:"
   ]
  },
  {
   "cell_type": "code",
   "execution_count": 23,
   "id": "9737983f",
   "metadata": {
    "slideshow": {
     "slide_type": "fragment"
    }
   },
   "outputs": [
    {
     "data": {
      "text/plain": [
       "Parameter containing:\n",
       "tensor([[[[-0.1797, -0.2412, -0.0268],\n",
       "          [ 0.2574,  0.2431,  0.1072],\n",
       "          [ 0.0454, -0.1435, -0.0145]]]], requires_grad=True)"
      ]
     },
     "execution_count": 23,
     "metadata": {},
     "output_type": "execute_result"
    }
   ],
   "source": [
    "transposed_convolution = torch.nn.ConvTranspose2d(1,1,3, bias=False).float()\n",
    "transposed_convolution.weight"
   ]
  },
  {
   "cell_type": "code",
   "execution_count": 24,
   "id": "d2c00677",
   "metadata": {
    "slideshow": {
     "slide_type": "fragment"
    }
   },
   "outputs": [
    {
     "data": {
      "text/plain": [
       "tensor([[[1., 0., 0.],\n",
       "         [0., 0., 0.],\n",
       "         [0., 0., 0.]]])"
      ]
     },
     "execution_count": 24,
     "metadata": {},
     "output_type": "execute_result"
    }
   ],
   "source": [
    "only_one_tensor = torch.tensor(np.array([[1,0,0],[0,0,0],[0,0,0]])).unsqueeze(0).float()\n",
    "only_one_tensor"
   ]
  },
  {
   "cell_type": "code",
   "execution_count": 25,
   "id": "798ecb0a",
   "metadata": {
    "slideshow": {
     "slide_type": "fragment"
    }
   },
   "outputs": [
    {
     "data": {
      "text/plain": [
       "tensor([[[-0.1797, -0.2412, -0.0268,  0.0000,  0.0000],\n",
       "         [ 0.2574,  0.2431,  0.1072,  0.0000,  0.0000],\n",
       "         [ 0.0454, -0.1435, -0.0145,  0.0000,  0.0000],\n",
       "         [ 0.0000,  0.0000,  0.0000,  0.0000,  0.0000],\n",
       "         [ 0.0000,  0.0000,  0.0000,  0.0000,  0.0000]]],\n",
       "       grad_fn=<SqueezeBackward1>)"
      ]
     },
     "execution_count": 25,
     "metadata": {},
     "output_type": "execute_result"
    }
   ],
   "source": [
    "transposed_convolution(only_one_tensor)"
   ]
  },
  {
   "cell_type": "code",
   "execution_count": 26,
   "id": "66fdca65",
   "metadata": {
    "slideshow": {
     "slide_type": "subslide"
    }
   },
   "outputs": [
    {
     "data": {
      "text/plain": [
       "tensor([[[1., 0., 0.],\n",
       "         [0., 1., 0.],\n",
       "         [0., 0., 1.]]])"
      ]
     },
     "execution_count": 26,
     "metadata": {},
     "output_type": "execute_result"
    }
   ],
   "source": [
    "eye_tensor = torch.tensor(np.eye(3)).unsqueeze(0).float()\n",
    "eye_tensor"
   ]
  },
  {
   "cell_type": "code",
   "execution_count": 27,
   "id": "172243f2",
   "metadata": {
    "slideshow": {
     "slide_type": "fragment"
    }
   },
   "outputs": [
    {
     "data": {
      "text/plain": [
       "tensor([[[-0.1797, -0.2412, -0.0268,  0.0000,  0.0000],\n",
       "         [ 0.2574,  0.0634, -0.1340, -0.0268,  0.0000],\n",
       "         [ 0.0454,  0.1139,  0.0488, -0.1340, -0.0268],\n",
       "         [ 0.0000,  0.0454,  0.1139,  0.2285,  0.1072],\n",
       "         [ 0.0000,  0.0000,  0.0454, -0.1435, -0.0145]]],\n",
       "       grad_fn=<SqueezeBackward1>)"
      ]
     },
     "execution_count": 27,
     "metadata": {},
     "output_type": "execute_result"
    }
   ],
   "source": [
    "transposed_convolution(eye_tensor)"
   ]
  },
  {
   "cell_type": "markdown",
   "id": "7a83635f",
   "metadata": {
    "slideshow": {
     "slide_type": "subslide"
    }
   },
   "source": [
    "### Upsampling layer"
   ]
  },
  {
   "cell_type": "markdown",
   "id": "b71758f2",
   "metadata": {},
   "source": [
    "Another possibility to increase the spatial resolution of the data is to employ so-called *upsampling layers*. The missing values in the resulting higher-dimensional output are usually calculated via any common interpolation method (e.g., bilinear, nearest neighbor, etc.)."
   ]
  },
  {
   "cell_type": "markdown",
   "id": "3088801a",
   "metadata": {
    "slideshow": {
     "slide_type": "subslide"
    }
   },
   "source": [
    "<img src=\"figures/5/upsampling_layer.svg\" style=\"max-height:40vh\">"
   ]
  },
  {
   "cell_type": "markdown",
   "id": "4f8a7c65",
   "metadata": {
    "slideshow": {
     "slide_type": "subslide"
    }
   },
   "source": [
    "##### Example upsampling with PyTorch:"
   ]
  },
  {
   "cell_type": "code",
   "execution_count": 28,
   "id": "31934d62",
   "metadata": {},
   "outputs": [],
   "source": [
    "upsample_layer = torch.nn.Upsample(scale_factor=(2.0, 2.0)).float()"
   ]
  },
  {
   "cell_type": "code",
   "execution_count": 29,
   "id": "91a833c7",
   "metadata": {
    "slideshow": {
     "slide_type": "fragment"
    }
   },
   "outputs": [
    {
     "data": {
      "text/plain": [
       "tensor([[[[1., 1., 0., 0., 0., 0.],\n",
       "          [1., 1., 0., 0., 0., 0.],\n",
       "          [0., 0., 1., 1., 0., 0.],\n",
       "          [0., 0., 1., 1., 0., 0.],\n",
       "          [0., 0., 0., 0., 1., 1.],\n",
       "          [0., 0., 0., 0., 1., 1.]]]])"
      ]
     },
     "execution_count": 29,
     "metadata": {},
     "output_type": "execute_result"
    }
   ],
   "source": [
    "upsample_layer(torch.tensor(np.eye(3)).float().unsqueeze(0).unsqueeze(0))"
   ]
  },
  {
   "cell_type": "markdown",
   "id": "2109c5cf",
   "metadata": {
    "slideshow": {
     "slide_type": "subslide"
    }
   },
   "source": [
    "### Batch normalization layers"
   ]
  },
  {
   "cell_type": "markdown",
   "id": "103db8bb",
   "metadata": {},
   "source": [
    "It has been shown to be beneficial for the training procedure if the outputs of neural network layers are normalized w.r.t. the mean and variance of the currently processed batch of training data. For this purpose, so-called *batch normalization layers* can be employed."
   ]
  },
  {
   "cell_type": "markdown",
   "id": "defce3ee",
   "metadata": {
    "slideshow": {
     "slide_type": "subslide"
    }
   },
   "source": [
    "During every training iteration, they normalize their input vector $\\mathbf{x}$ via:\n",
    "\n",
    "$\\begin{align} \n",
    "   y_i = \\frac{x_i - \\mu_i}{\\sqrt{\\sigma^2_i+ \\epsilon}} \\cdot \\gamma + \\beta \\,,\n",
    "\\end{align}$\n",
    "\n",
    "with $\\mu_i , \\sigma^2_i$ denoting the mean, respectively, the variance of the $i$-th element of the input estimated over the processed batch of training data and $\\beta, \\gamma$ representing the mean, respectively, the standard deviation assigned after the normalization. The parameters $\\beta, \\gamma$ can also be learned during training and are typically initialized with $\\beta = 0, \\gamma = 1$."
   ]
  },
  {
   "cell_type": "markdown",
   "id": "779ad83e",
   "metadata": {
    "slideshow": {
     "slide_type": "subslide"
    }
   },
   "source": [
    "Typical implementations of batch normalization layers aggregate the estimated statistics over all training iterations in order to use them when the neural network is evaluated in forward mode."
   ]
  },
  {
   "cell_type": "markdown",
   "id": "709c2351",
   "metadata": {
    "slideshow": {
     "slide_type": "subslide"
    }
   },
   "source": [
    "### Softmax layers"
   ]
  },
  {
   "cell_type": "markdown",
   "id": "48d5e860",
   "metadata": {},
   "source": [
    "Softmax layers apply the the so-called *softmax* function to their input. The input values are rescaled, so that they sum up to one and can be interpreted as a probability distribution."
   ]
  },
  {
   "cell_type": "markdown",
   "id": "7a5d8710",
   "metadata": {
    "slideshow": {
     "slide_type": "fragment"
    }
   },
   "source": [
    "The softmax function is defined as:\n",
    "\n",
    "$\\begin{align} \n",
    "   \\mathrm{Softmax}(x_i) = \\frac{\\exp (x_i)}{\\sum\\limits_j \\exp (x_j) } \\,.\n",
    "\\end{align}$"
   ]
  },
  {
   "cell_type": "markdown",
   "id": "034cbadc",
   "metadata": {
    "slideshow": {
     "slide_type": "slide"
    }
   },
   "source": [
    "## Universal approximation theorem"
   ]
  },
  {
   "cell_type": "markdown",
   "id": "e6c7f3f1",
   "metadata": {},
   "source": [
    "It could be shown, that a neural network consisting only of one (sufficiently large) linear layer and one non-linear layer (together called one *hidden layer*) which are combined by a single linear building block (a so-called *fully connected layer*) can approximate any continuous function. \n",
    "\n",
    "In the following, we will sketch the proof of that theorem."
   ]
  },
  {
   "cell_type": "markdown",
   "id": "d4872518",
   "metadata": {
    "slideshow": {
     "slide_type": "subslide"
    }
   },
   "source": [
    "<img src=\"figures/5/one_hidden_layer.svg\" style=\"max-height:40vh\">"
   ]
  },
  {
   "cell_type": "markdown",
   "id": "711c6fdf",
   "metadata": {
    "slideshow": {
     "slide_type": "subslide"
    }
   },
   "source": [
    "Consider again the sigmoid function $\\psi$ from before applied to a linear block, i.e., $\\psi(wx+b)$  form before. \n",
    "\n",
    "The position of the unit step approximated by $\\psi$ for high $w$ resides at the position $s=-\\frac{b}{w}$. Since this is easier to interpret, we will focus on the parameter $s$ from now on."
   ]
  },
  {
   "cell_type": "markdown",
   "id": "d7763d54",
   "metadata": {
    "slideshow": {
     "slide_type": "subslide"
    }
   },
   "source": [
    "We now consider two of such blocks added together by an additional single linear building block, i.e.,\n",
    "\n",
    "$\\begin{align} \n",
    "   \\psi_{s_1} (x)\\cdot w_1 + \\psi_{s_2}(x)\\cdot w_2  + b\n",
    "\\end{align}$\n",
    "\n",
    "with the respective positions $s_1, s_2$ of the step functions."
   ]
  },
  {
   "cell_type": "code",
   "execution_count": 30,
   "id": "a0561d2e",
   "metadata": {
    "slideshow": {
     "slide_type": "subslide"
    }
   },
   "outputs": [],
   "source": [
    "def linear(x, s):\n",
    "    w = 1000\n",
    "    b = -1 * w * s\n",
    "    return x*w + b\n",
    "def plot_2_neurons(s1, s2, w1, w2):\n",
    "    xs = np.linspace(0,1,1000)\n",
    "    y1s = sigmoid(linear(xs, s1))\n",
    "    y2s = sigmoid(linear(xs, s2))\n",
    "    res = w1 * y1s + w2 * y2s\n",
    "    plt.clf()\n",
    "    plt.plot(xs,res)\n",
    "    plt.axhline(0, color='k')\n",
    "    plt.axvline(0, color='k')"
   ]
  },
  {
   "cell_type": "code",
   "execution_count": 31,
   "id": "aef4748f",
   "metadata": {
    "slideshow": {
     "slide_type": "subslide"
    }
   },
   "outputs": [
    {
     "data": {
      "text/plain": [
       "<Figure size 432x288 with 0 Axes>"
      ]
     },
     "metadata": {},
     "output_type": "display_data"
    },
    {
     "data": {
      "application/vnd.jupyter.widget-view+json": {
       "model_id": "7334be9b1f6c48b99d94a4a991534949",
       "version_major": 2,
       "version_minor": 0
      },
      "text/plain": [
       "interactive(children=(FloatSlider(value=0.2, description='s1', max=1.0), FloatSlider(value=0.6, description='s…"
      ]
     },
     "metadata": {},
     "output_type": "display_data"
    },
    {
     "data": {
      "text/plain": [
       "<function __main__.<lambda>(s1, s2, w1, w2)>"
      ]
     },
     "execution_count": 31,
     "metadata": {},
     "output_type": "execute_result"
    }
   ],
   "source": [
    "plt.figure()\n",
    "interact(lambda s1, s2, w1, w2: plot_2_neurons(s1, s2, w1, w2), \\\n",
    "         s1 = widgets.FloatSlider(min=0.0,max=1.0, step=0.1, value=0.2), \\\n",
    "         s2 = widgets.FloatSlider(min=0.0,max=1.0, step=0.1, value=0.6), \\\n",
    "         w1 = widgets.FloatSlider(min=-2,max=2, step=0.1, value=0.4), \\\n",
    "         w2 = widgets.FloatSlider(min=-2,max=2, step=0.1, value=0.6))"
   ]
  },
  {
   "cell_type": "markdown",
   "id": "36669bbc",
   "metadata": {
    "slideshow": {
     "slide_type": "subslide"
    }
   },
   "source": [
    "As can be seen, this addition yields to consecutive step functions what can be used, e.g., to approximate the $\\mathrm{rect}$-function.\n",
    "\n",
    "Therefore, if $s_1 < s_2$, it must hold $w_2 = -w_1$ to get a $\\mathrm{rect}$-function with height $h=\\left| w_1 \\right| = \\left| w_2 \\right|  $."
   ]
  },
  {
   "cell_type": "markdown",
   "id": "3510b22f",
   "metadata": {
    "slideshow": {
     "slide_type": "subslide"
    }
   },
   "source": [
    "We can now add two of such pairs of blocks together to model two $\\mathrm{rect}$-functions, i.e., with start, stop positions $s_{1,1}, s_{1,2}$ and height $h_1$ of the first $\\mathrm{rect}$-function and $s_{2,1}, s_{2,2}, h_2$ for the second one."
   ]
  },
  {
   "cell_type": "code",
   "execution_count": 32,
   "id": "cc08cec9",
   "metadata": {
    "slideshow": {
     "slide_type": "subslide"
    }
   },
   "outputs": [],
   "source": [
    "def rect_approx(x, s1, s2, h):\n",
    "    w1 = h\n",
    "    w2 = -1 * h\n",
    "    y1s = sigmoid(linear(x, s1))\n",
    "    y2s = sigmoid(linear(x, s2))\n",
    "    return w1 * y1s + w2 * y2s\n",
    "    \n",
    "def plot_2_rects(s11, s12, s21, s22, h1, h2):\n",
    "    xs = np.linspace(0,1,1000)\n",
    "    y1s = rect_approx(xs, s11, s12, h1)\n",
    "    y2s = rect_approx(xs, s21, s22, h2)\n",
    "    res = y1s + y2s\n",
    "    plt.clf()\n",
    "    plt.plot(xs,res)\n",
    "    plt.axhline(0, color='k')\n",
    "    plt.axvline(0, color='k')"
   ]
  },
  {
   "cell_type": "code",
   "execution_count": 33,
   "id": "c6821965",
   "metadata": {
    "slideshow": {
     "slide_type": "subslide"
    }
   },
   "outputs": [
    {
     "data": {
      "text/plain": [
       "<Figure size 432x288 with 0 Axes>"
      ]
     },
     "metadata": {},
     "output_type": "display_data"
    },
    {
     "data": {
      "application/vnd.jupyter.widget-view+json": {
       "model_id": "369a8a9dc66a4745912ecf5455a9923b",
       "version_major": 2,
       "version_minor": 0
      },
      "text/plain": [
       "interactive(children=(FloatSlider(value=0.2, description='s11', max=1.0), FloatSlider(value=0.3, description='…"
      ]
     },
     "metadata": {},
     "output_type": "display_data"
    },
    {
     "data": {
      "text/plain": [
       "<function __main__.<lambda>(s11, s12, s21, s22, h1, h2)>"
      ]
     },
     "execution_count": 33,
     "metadata": {},
     "output_type": "execute_result"
    }
   ],
   "source": [
    "plt.figure()\n",
    "interact(lambda s11, s12, s21, s22, h1, h2: plot_2_rects(s11, s12, s21, s22, h1, h2), \\\n",
    "         s11 = widgets.FloatSlider(min=0.0,max=1.0, step=0.1, value=0.2), \\\n",
    "         s12 = widgets.FloatSlider(min=0.0,max=1.0, step=0.1, value=0.3), \\\n",
    "         s21 = widgets.FloatSlider(min=0.0,max=1.0, step=0.1, value=0.4), \\\n",
    "         s22 = widgets.FloatSlider(min=0.0,max=1.0, step=0.1, value=0.6), \\\n",
    "         h1 = widgets.FloatSlider(min=-2,max=2, step=0.1, value=0.3), \\\n",
    "         h2 = widgets.FloatSlider(min=-2,max=2, step=0.1, value=-0.4))"
   ]
  },
  {
   "cell_type": "markdown",
   "id": "8bfe9b72",
   "metadata": {
    "slideshow": {
     "slide_type": "subslide"
    }
   },
   "source": [
    "The more of these modules we add, the more complicated the shape of the output can be. When the width of the single $\\mathrm{rect}$-functions approaches zero and the number of $\\mathrm{rect}$-functions approaches infinity, any continuous function can be approximated.\n",
    "\n",
    "This also holds for higher dimensions."
   ]
  },
  {
   "cell_type": "code",
   "execution_count": 34,
   "id": "e592126e",
   "metadata": {
    "slideshow": {
     "slide_type": "subslide"
    }
   },
   "outputs": [
    {
     "name": "stderr",
     "output_type": "stream",
     "text": [
      "<ipython-input-8-ee7cdfff0621>:2: RuntimeWarning: overflow encountered in exp\n",
      "  return 1/(1+np.exp(-1*x))\n"
     ]
    },
    {
     "data": {
      "text/plain": [
       "<matplotlib.lines.Line2D at 0x1a8051b2d90>"
      ]
     },
     "execution_count": 34,
     "metadata": {},
     "output_type": "execute_result"
    },
    {
     "data": {
      "image/png": "[encoded data removed]",
      "text/plain": [
       "<Figure size 432x288 with 1 Axes>"
      ]
     },
     "metadata": {
      "filenames": {
       "image/png": "C:\\Users\\meyjoh\\repos\\vlcompimg\\mynewbook\\_build\\jupyter_execute\\05_NeuralNetworksForCompImg_99_2.png"
      },
      "needs_background": "light"
     },
     "output_type": "display_data"
    }
   ],
   "source": [
    "xs = np.linspace(-0.2,1.2,1000)\n",
    "s1s = np.array([0, 0.2, 0.4, 0.6, 0.8])\n",
    "s2s = np.array([0.2, 0.4, 0.6, 0.8, 1.0])\n",
    "hs = np.array([0.1, 0.7, 0.1, -0.1, -0.8])\n",
    "res = np.zeros_like(xs)\n",
    "\n",
    "for i in range(0, s1s.shape[0]):\n",
    "    res = res + rect_approx(xs, s1s[i], s2s[i], hs[i])\n",
    "\n",
    "plt.figure()\n",
    "plt.plot(xs,res)\n",
    "plt.axhline(0, color='k')\n",
    "plt.axvline(0, color='k')"
   ]
  },
  {
   "cell_type": "markdown",
   "id": "0797c719",
   "metadata": {
    "slideshow": {
     "slide_type": "subslide"
    }
   },
   "source": [
    "Although the theorem states that such a simple structure is enough to approximate any function, in practice network structures with more but thinner layers (i.e., with fewer building blocks) are employed as they can achieve similar results with notably fewer building blocks."
   ]
  },
  {
   "cell_type": "markdown",
   "id": "ad4d0f31",
   "metadata": {
    "slideshow": {
     "slide_type": "slide"
    }
   },
   "source": [
    "## Optimization of network parameters\n",
    "\n",
    "How can we automatically determine the parameters $\\boldsymbol{\\theta}$ of the network so that $\\forall (\\mathbf{x},\\mathbf{y}) \\in \\mathcal{T}:\\text{dist}(\\phi_\\boldsymbol{\\theta}(\\mathbf{x}), \\mathbf{y} ) \\rightarrow \\text{Min.}\\,$?"
   ]
  },
  {
   "cell_type": "markdown",
   "id": "a0c3730b",
   "metadata": {
    "slideshow": {
     "slide_type": "subslide"
    }
   },
   "source": [
    "### Gradient descent"
   ]
  },
  {
   "cell_type": "markdown",
   "id": "0eeea0be",
   "metadata": {
    "slideshow": {
     "slide_type": "subslide"
    }
   },
   "source": [
    "To find this minimum, we compute the gradient $\\nabla\\text{dist}_\\boldsymbol{\\theta}$ of the distance function $\\text{dist}$ with respect to the network parameters $\\boldsymbol{\\theta}$.\n",
    "\n",
    "We can then iteratively update an initial guess $\\hat{\\boldsymbol{\\theta}}_0$ (e.g., random) of the network parameters by pushing it into the inverse direction of the gradient $\\nabla\\text{dist}_\\boldsymbol{\\theta}$, i.e., into the direction of the nearest minimum:\n",
    "\n",
    "$\\begin{align} \n",
    "   \\hat{\\boldsymbol{\\theta}}_{i+1} \\leftarrow \\hat{\\boldsymbol{\\theta}}_{i} - \\eta \\nabla\\text{dist}_\\boldsymbol{\\theta}(\\phi_{\\hat{\\boldsymbol{\\theta}_i}}(\\mathbf{X}), \\mathbf{Y} )\\,, (\\mathbf{X},\\mathbf{Y}) \\in \\mathcal{T}\n",
    "\\end{align}$\n",
    "\n",
    "with $\\mathbf{X}, \\mathbf{Y}$ indicating batches of multiple training vectors $(\\mathbf{x}, \\mathbf{y}) \\in \\mathcal{T}$ and $\\eta$ denoting the so-called *learning rate* or the *step size* for the gradient descent updates."
   ]
  },
  {
   "cell_type": "markdown",
   "id": "e62d801c",
   "metadata": {
    "slideshow": {
     "slide_type": "subslide"
    }
   },
   "source": [
    "* In every gradient descent iteration, the parameters are updated with regard to the respective batch of training samples $(\\mathbf{X}, \\mathbf{Y})$ chosen in that iteration.\n",
    "* In practical scenarios it is usually not possible to process the whole training set in one gradient descent step as the respective data would not fit into the available memory. \n",
    "* Hence, in every iteration another batch of training data is used, so that eventually all training samples have been used. The partitioning of $\\mathcal{T}$ into those batches is usually performed randomly. This is why this kind of gradient descent is sometimes referred to as *stochastic gradient descent*.\n",
    "* The set of gradient descent iterations needed to cycle through all training data once is a so-called *epoch*."
   ]
  },
  {
   "cell_type": "markdown",
   "id": "b2ffb680",
   "metadata": {
    "slideshow": {
     "slide_type": "subslide"
    }
   },
   "source": [
    "### The chain rule and the backpropagation algorithm\n",
    "\n",
    "Calculating the gradient required for gradient descent by hand can be infeasible for large expressions. Fortunately, this process can be automated as we will see in the following."
   ]
  },
  {
   "cell_type": "markdown",
   "id": "fad7de50",
   "metadata": {
    "slideshow": {
     "slide_type": "subslide"
    }
   },
   "source": [
    "We start with an example.\n",
    "\n",
    "Assume we want to calculate the derivative (i.e., the gradient) of $y = \\log (x)^2$ with respect to $x$."
   ]
  },
  {
   "cell_type": "markdown",
   "id": "ea03d982",
   "metadata": {
    "slideshow": {
     "slide_type": "subslide"
    }
   },
   "source": [
    "We can express this function via intermediate variables for all basic math operations:\n",
    "\n",
    "$\\begin{align} \n",
    "   y &= v_2 \\\\\n",
    "   v_2 &= v_1^2 \\\\\n",
    "   v_1 &= \\log (x) \\,.\n",
    "\\end{align}$"
   ]
  },
  {
   "cell_type": "markdown",
   "id": "024c8b91",
   "metadata": {
    "slideshow": {
     "slide_type": "fragment"
    }
   },
   "source": [
    "In order to find the derivate of $y$ with respect to $x$, we can iteratively apply the chain rule to obtain:\n",
    "\n",
    "$\\begin{align} \n",
    "   \\frac{\\partial y}{\\partial x} = \\frac{\\partial y}{\\partial v_2} \\frac{\\partial v_2}{\\partial x} = \\frac{\\partial y}{\\partial v_2} \\frac{\\partial v_2}{\\partial v_1} \\frac{\\partial v_1}{\\partial x} \\,.\n",
    "\\end{align}$"
   ]
  },
  {
   "cell_type": "markdown",
   "id": "46ecee17",
   "metadata": {
    "slideshow": {
     "slide_type": "subslide"
    }
   },
   "source": [
    "Those partial derivatives can easily be obtained for the respective terms:\n",
    "\n",
    "$\\begin{align} \n",
    "  \\frac{\\partial y}{\\partial v_2} &= 1 \\\\\n",
    "  \\frac{\\partial v_2}{\\partial v_1} &= 2v_1 \\\\\n",
    "  \\frac{\\partial v_1}{\\partial x} &= \\frac{1}{x}.\n",
    "\\end{align}$"
   ]
  },
  {
   "cell_type": "markdown",
   "id": "0f66c266",
   "metadata": {
    "slideshow": {
     "slide_type": "subslide"
    }
   },
   "source": [
    "Hence, the sought derivate of $y$ w.r.t. $x$ is given by:\n",
    "\n",
    "$\\begin{align} \n",
    "  \\frac{\\partial y}{\\partial x} = \\frac{\\partial y}{\\partial v_2} \\frac{\\partial v_2}{\\partial v_1} \\frac{\\partial v_1}{\\partial x} = 1\\cdot 2v_1 \\cdot \\frac{1}{x} \\,.\n",
    "\\end{align}$"
   ]
  },
  {
   "cell_type": "markdown",
   "id": "77620653",
   "metadata": {
    "slideshow": {
     "slide_type": "subslide"
    }
   },
   "source": [
    "This expression can be evaluated in reverse order (the so-called *backward pass*), i.e., from left to right, when the intermediate variables $v_2, v_1$ have been evaluated for some $x$ in the so-called *forward pass*."
   ]
  },
  {
   "cell_type": "markdown",
   "id": "5979c88e",
   "metadata": {
    "slideshow": {
     "slide_type": "subslide"
    }
   },
   "source": [
    "When every basic mathematical function (e.g., $+, -, \\exp, \\log, \\sin, \\ldots$) also provides a method for the calculation of its gradient, the process of obtaining the derivative of an arbitrary complex expression, with respect to some variable and given the actual input numbers for the parameter(s), can be automated."
   ]
  },
  {
   "cell_type": "markdown",
   "id": "e8742de2",
   "metadata": {
    "slideshow": {
     "slide_type": "subslide"
    }
   },
   "source": [
    "During the forward pass, a calculation graph is constructed that represents the hierarchical relations of the individual mathematical functions in terms of the chain rule. The intermediate results for every operation are saved in the nodes of this graph. Then, the graph can be traversed backwards starting from all leaves and intermediate gradient values can be calculated for every node and can then be backpropagated to the root yielding the sought gradient.\n",
    "\n",
    "This approach is also known as the *backpropagation algorithm*."
   ]
  },
  {
   "cell_type": "markdown",
   "id": "15c7384d",
   "metadata": {
    "slideshow": {
     "slide_type": "subslide"
    }
   },
   "source": [
    "##### Example implementation for $y = \\log (x)^2$"
   ]
  },
  {
   "cell_type": "code",
   "execution_count": 35,
   "id": "79f8935c",
   "metadata": {
    "slideshow": {
     "slide_type": "subslide"
    }
   },
   "outputs": [],
   "source": [
    "def square(inp):\n",
    "    return inp**2\n",
    "\n",
    "def ln(inp):\n",
    "    return np.log(inp)\n",
    "\n",
    "def square_grad(inp, out):\n",
    "    inp.g = 2*inp*out.g\n",
    "    \n",
    "def ln_grad(inp, out):\n",
    "    inp.g = 1/inp * out.g"
   ]
  },
  {
   "cell_type": "code",
   "execution_count": 36,
   "id": "1c1f8b2e",
   "metadata": {
    "slideshow": {
     "slide_type": "subslide"
    }
   },
   "outputs": [],
   "source": [
    "def y(x):\n",
    "    x = torch.tensor(x)\n",
    "    v1 = ln(x)\n",
    "    v2 = square(v1)\n",
    "        \n",
    "    v2.g = 1\n",
    "    square_grad(v1, v2)\n",
    "    ln_grad(x, v1)\n",
    "    \n",
    "    return v2, x.g"
   ]
  },
  {
   "cell_type": "code",
   "execution_count": 37,
   "id": "bd98ebe4",
   "metadata": {
    "slideshow": {
     "slide_type": "subslide"
    }
   },
   "outputs": [
    {
     "data": {
      "text/plain": [
       "(tensor(1.2069, dtype=torch.float64), tensor(0.7324, dtype=torch.float64))"
      ]
     },
     "execution_count": 37,
     "metadata": {},
     "output_type": "execute_result"
    }
   ],
   "source": [
    "y(3)"
   ]
  },
  {
   "cell_type": "markdown",
   "id": "4692370d",
   "metadata": {
    "slideshow": {
     "slide_type": "fragment"
    }
   },
   "source": [
    "Note: We just used PyTorch here so that we can easily introduce the property `.g` for all our variables."
   ]
  },
  {
   "cell_type": "markdown",
   "id": "8f97f0f5",
   "metadata": {
    "slideshow": {
     "slide_type": "subslide"
    }
   },
   "source": [
    "### Automatic differentiation\n",
    "\n",
    "There are various libraries that provide the functionality of backpropagation mentioned above without the user (i.e., the programmer) having to explicitly control it. Often a technique called *operator overloading* is employed that builds the computation graph required for the gradient calculation behind the scenes."
   ]
  },
  {
   "cell_type": "markdown",
   "id": "7f6c7f7a",
   "metadata": {
    "slideshow": {
     "slide_type": "subslide"
    }
   },
   "source": [
    "In PyTorch, calculating the gradient of our equation $y = \\log (x)^2$ w.r.t. $x$ could be achieved like this:"
   ]
  },
  {
   "cell_type": "code",
   "execution_count": 38,
   "id": "442f2f88",
   "metadata": {
    "slideshow": {
     "slide_type": "fragment"
    }
   },
   "outputs": [],
   "source": [
    "# Definition of our function using torch-routines:\n",
    "def y_torch(x):\n",
    "    return torch.square(torch.log(x))"
   ]
  },
  {
   "cell_type": "code",
   "execution_count": 39,
   "id": "cea634c6",
   "metadata": {
    "slideshow": {
     "slide_type": "fragment"
    }
   },
   "outputs": [],
   "source": [
    "x = torch.tensor(3.0)    # Our input variable\n",
    "x.requires_grad = True   # We need the gradient with respect to x"
   ]
  },
  {
   "cell_type": "code",
   "execution_count": 40,
   "id": "7c5fbf83",
   "metadata": {
    "slideshow": {
     "slide_type": "fragment"
    }
   },
   "outputs": [],
   "source": [
    "result = y_torch(x)      # Forward pass"
   ]
  },
  {
   "cell_type": "code",
   "execution_count": 41,
   "id": "95051452",
   "metadata": {
    "slideshow": {
     "slide_type": "fragment"
    }
   },
   "outputs": [],
   "source": [
    "result.backward()        # Backward pass"
   ]
  },
  {
   "cell_type": "code",
   "execution_count": 42,
   "id": "9d7499c7",
   "metadata": {
    "slideshow": {
     "slide_type": "fragment"
    }
   },
   "outputs": [
    {
     "data": {
      "text/plain": [
       "tensor(0.7324)"
      ]
     },
     "execution_count": 42,
     "metadata": {},
     "output_type": "execute_result"
    }
   ],
   "source": [
    "x.grad                   # Access the gradient"
   ]
  },
  {
   "cell_type": "markdown",
   "id": "0712389c",
   "metadata": {
    "slideshow": {
     "slide_type": "slide"
    }
   },
   "source": [
    "## Architectures and loss functions"
   ]
  },
  {
   "cell_type": "markdown",
   "id": "485ad5e8",
   "metadata": {},
   "source": [
    "During the past 10 years, several multi purpose neural network architectures (or architectural building blocks) have been proposed, which we will discover in the following paragraphs."
   ]
  },
  {
   "cell_type": "markdown",
   "id": "39cc1d3a",
   "metadata": {
    "slideshow": {
     "slide_type": "fragment"
    }
   },
   "source": [
    "Depending on the task a neural network has to perform, i.e., the function it should approximate, appropriate architectures and suitable distance functions $\\mathrm{dist}$, so-called *loss functions* $\\ell$ for the training, have to be chosen."
   ]
  },
  {
   "cell_type": "markdown",
   "id": "45acd03d",
   "metadata": {
    "slideshow": {
     "slide_type": "subslide"
    }
   },
   "source": [
    "### Deep convolutional networks for image classification"
   ]
  },
  {
   "cell_type": "markdown",
   "id": "cef60d1e",
   "metadata": {},
   "source": [
    "In image classification tasks the neural network is supposed to assign a single class label $y$ to a given input image $\\mathbf{x}$, e.g. , the result could be a description of the scene visible in the image (e.g., a kitchen)."
   ]
  },
  {
   "cell_type": "markdown",
   "id": "b5a2ea02",
   "metadata": {
    "slideshow": {
     "slide_type": "fragment"
    }
   },
   "source": [
    "Hence, typical image classification architectures successively decrease the input's spatial resolution while increasing the channel resolution."
   ]
  },
  {
   "cell_type": "markdown",
   "id": "4e908abd",
   "metadata": {
    "slideshow": {
     "slide_type": "subslide"
    }
   },
   "source": [
    "A prominent example are so-called *VGG neural networks* developed at the Visual Geometry Group (VGG) at University of Oxford by Karen Simonyan and Andrew Zisserman (see [Very Deep Convolutional Networks for Large-Scale Image Recognition](https://arxiv.org/abs/1409.1556)).\n",
    "\n",
    "The architecture looks as follows:"
   ]
  },
  {
   "cell_type": "markdown",
   "id": "11f61f73",
   "metadata": {
    "slideshow": {
     "slide_type": "subslide"
    }
   },
   "source": [
    "<img src=\"figures/5/VGG_architecture.svg\" style=\"max-height:40vh\">"
   ]
  },
  {
   "cell_type": "markdown",
   "id": "aa04839d",
   "metadata": {
    "slideshow": {
     "slide_type": "subslide"
    }
   },
   "source": [
    "##### Cross-entropy loss"
   ]
  },
  {
   "cell_type": "markdown",
   "id": "c54bb1bc",
   "metadata": {},
   "source": [
    "The so-called *cross-entropy loss* is a common loss function for (image) classification scenarios."
   ]
  },
  {
   "cell_type": "markdown",
   "id": "2497d72f",
   "metadata": {
    "slideshow": {
     "slide_type": "fragment"
    }
   },
   "source": [
    "When the final layer of a classification neural network yields a vector $\\mathbf{y} \\in [0,1]^C$ of probabilities for all $C$ possible classes (e.g., obtained via a final softmax layer) and $i \\in [1,C]$ represents the index of the correct class, the cross-entropy loss is calculated via:\n",
    "\n",
    "$\\begin{align} \n",
    "   \\ell_\\mathrm{cross} = -\\log (y_i) \\,.\n",
    "\\end{align}$"
   ]
  },
  {
   "cell_type": "markdown",
   "id": "6f6a7bff",
   "metadata": {},
   "source": [
    "```{note}\n",
    "  In some libraries (e.g., PyTorch), the implementation of the cross-entropy loss automatically applies softmax to its input $\\mathbf{x}$ enforcing that all elements $x_i\\leq1$ and $\\sum_i x_i=1$.\n",
    "```"
   ]
  },
  {
   "cell_type": "markdown",
   "id": "eb5f4829",
   "metadata": {
    "slideshow": {
     "slide_type": "subslide"
    }
   },
   "source": [
    "### Residual nets / skip connections"
   ]
  },
  {
   "cell_type": "markdown",
   "id": "d7318cd5",
   "metadata": {},
   "source": [
    "In 2016, Kaiming He et al. proposed in their paper [Deep Residual Learning for Image Recognition](https://openaccess.thecvf.com/content_cvpr_2016/papers/He_Deep_Residual_Learning_CVPR_2016_paper.pdf) to repeatedly introduce so-called *skip connections* which add the output of some layer to the output of a deeper layer as visualized in the following figure:"
   ]
  },
  {
   "cell_type": "markdown",
   "id": "6146e3f0",
   "metadata": {
    "slideshow": {
     "slide_type": "subslide"
    }
   },
   "source": [
    "<img src=\"figures/5/residual_block.svg\" style=\"max-height:40vh\">"
   ]
  },
  {
   "cell_type": "markdown",
   "id": "34be3a1c",
   "metadata": {
    "slideshow": {
     "slide_type": "subslide"
    }
   },
   "source": [
    "It has been shown, that employing this design principle makes networks easier to train and hence enables architectures with more layers.\n",
    "\n",
    "Intuitively, one could imagine the case where the network should learn the identity function at some layer, i.e., $\\mathcal{F}(\\mathbf{x}) = \\mathbf{x}$. By means of a residual block, it could simply learn $\\mathcal{F}(\\mathbf{x}) = \\mathbf{0}$ and the skip connection would yield $\\mathcal{F}(\\mathbf{x}) + \\mathbf{x} = \\mathbf{0} + \\mathbf{x} = \\mathbf{x}$."
   ]
  },
  {
   "cell_type": "markdown",
   "id": "723d74c7",
   "metadata": {
    "tags": [
     "book_only"
    ]
   },
   "source": [
    "```{note}\n",
    "  Sometimes, skip connections need to increase the dimension of the input $\\mathbf{x}$ so that it matches the dimension of $\\mathcal{F}(\\mathbf{x})$. This can be done by appending zeros (*zero padding*) or by a learned linear projection.\n",
    "```"
   ]
  },
  {
   "cell_type": "markdown",
   "id": "62306d61",
   "metadata": {
    "slideshow": {
     "slide_type": "subslide"
    }
   },
   "source": [
    "### Encoder / decoder modules"
   ]
  },
  {
   "cell_type": "markdown",
   "id": "563bfbe8",
   "metadata": {},
   "source": [
    "The concept of so-called *encoders* and *decoders* is quite versatile and can be employed in different scenarios. As the names suggest, an encoder transforms the input into another, usually significantly lower dimensional space, the so-called *latent space*, and the decoder tries to reconstruct the original input based on the output of the encoder as precisely as possible. \n",
    "\n",
    "When used in concert as just described, such pairs of encoders and decoders are also called *auto encoders*.\n",
    "\n",
    "During training, usually the reconstruction loss, i.e., a pixel-wise mean squared error between the input $\\mathbf{x}$ and the reconstruction $\\hat{\\mathbf{x}}$ is minimized."
   ]
  },
  {
   "cell_type": "markdown",
   "id": "ed576a1a",
   "metadata": {
    "slideshow": {
     "slide_type": "subslide"
    }
   },
   "source": [
    "The following figure visualizes the concept:\n",
    "\n",
    "<img src=\"figures/5/encoder_decoder.svg\" style=\"max-height:40vh\">"
   ]
  },
  {
   "cell_type": "markdown",
   "id": "34007a3f",
   "metadata": {
    "slideshow": {
     "slide_type": "subslide"
    }
   },
   "source": [
    "Encoders usually involve multiple convolutional and pooling layers to reduce the spatial dimension, whereas decoders heavily rely on transposed convolutions and upsampling layers to increase spatial resolution."
   ]
  },
  {
   "cell_type": "markdown",
   "id": "8b7a4cf8",
   "metadata": {
    "slideshow": {
     "slide_type": "subslide"
    }
   },
   "source": [
    "The latent representation of the input can be exploited in various ways, e.g.:"
   ]
  },
  {
   "cell_type": "markdown",
   "id": "823fc99f",
   "metadata": {
    "slideshow": {
     "slide_type": "fragment"
    }
   },
   "source": [
    "* as a compression of the input to reduce the necessary amount of data or\n",
    "* to perform denoising, inverse filtering etc. and\n",
    "* to synthesize new images from the domain of the input data by drawing random vectors in the latent space and by feeding them into the decoder."
   ]
  },
  {
   "cell_type": "markdown",
   "id": "f39fd65e",
   "metadata": {
    "slideshow": {
     "slide_type": "subslide"
    }
   },
   "source": [
    "##### Mean squared error loss"
   ]
  },
  {
   "cell_type": "markdown",
   "id": "2324b817",
   "metadata": {},
   "source": [
    "A straight forward choice of a loss function for such image-to-image-tasks is the *mean squared error (MSE) loss*:\n",
    "\n",
    "$\\begin{align} \n",
    "  \\ell_\\mathrm{MSE} = \\frac{1}{N} \\left\\| \\mathbf{Y} - \\phi (\\mathbf{X}) \\right\\|^2_2 \\,,\n",
    "\\end{align}$\n",
    "\n",
    "for a given batch $(\\mathbf{X},\\mathbf{Y}) \\in \\mathcal{T}$ of training samples and the total number $N$ of elements in $\\mathbf{X}$ or $\\mathbf{Y}$."
   ]
  },
  {
   "cell_type": "markdown",
   "id": "85b71cfa",
   "metadata": {
    "slideshow": {
     "slide_type": "subslide"
    }
   },
   "source": [
    "##### Anomaly detection for visual inspection"
   ]
  },
  {
   "cell_type": "markdown",
   "id": "3ba76d44",
   "metadata": {},
   "source": [
    "As the latent representation focuses its limited amount of information on the significant and important aspects of the input images, it usually does not allow to reconstruct fine image details, e.g., like scratches. This can be exploited to detect such material defects by calculating the pixel-wise difference between the reconstruction $\\hat{\\mathbf{x}}$ and the input $\\mathbf{x}$."
   ]
  },
  {
   "cell_type": "markdown",
   "id": "dbec58e1",
   "metadata": {
    "slideshow": {
     "slide_type": "subslide"
    }
   },
   "source": [
    "##### Variational auto encoders"
   ]
  },
  {
   "cell_type": "markdown",
   "id": "8f508980",
   "metadata": {},
   "source": [
    "The loss function used during the training of variational auto encoders includes a second term besides the reconstruction loss that forces the distribution of the latent representations to follow a normal distribution. \n",
    "\n",
    "This usually yields better synthesis performance when using the decoder on random samples drawn from the latent space."
   ]
  },
  {
   "cell_type": "markdown",
   "id": "e93fc4ed",
   "metadata": {
    "slideshow": {
     "slide_type": "subslide"
    }
   },
   "source": [
    "### U-Net for segmentation or regression tasks"
   ]
  },
  {
   "cell_type": "markdown",
   "id": "cf7e0954",
   "metadata": {},
   "source": [
    "Named after its macroscopic shape which looks like the letter U, the so-called *U-Net* is a neural network mainly based on convolutional layers that performs a pixel-wise regression. This means that the network consumes images and yields images of the same size with updated pixel values.\n",
    "\n",
    "The U-Net has been introduced by Olaf Ronneberger et al. in 2015 (see [U-Net: Convolutional Networks for Biomedical Image Segmentation](http://arxiv.org/abs/1505.04597))."
   ]
  },
  {
   "cell_type": "markdown",
   "id": "8baed0fb",
   "metadata": {
    "slideshow": {
     "slide_type": "fragment"
    }
   },
   "source": [
    "Its main use case is the pixel-wise segmentation of images (i.e., assigning individual class labels to every pixel), however it has also been employed for various other tasks as we will learn later on."
   ]
  },
  {
   "cell_type": "markdown",
   "id": "c72b41e6",
   "metadata": {
    "slideshow": {
     "slide_type": "subslide"
    }
   },
   "source": [
    "<img src=\"figures/5/u-net.svg\" style=\"max-height:80vh\">"
   ]
  },
  {
   "cell_type": "markdown",
   "id": "691fe648",
   "metadata": {
    "slideshow": {
     "slide_type": "slide"
    }
   },
   "source": [
    "## Example applications"
   ]
  },
  {
   "cell_type": "markdown",
   "id": "5933198b",
   "metadata": {
    "slideshow": {
     "slide_type": "subslide"
    }
   },
   "source": [
    "### Denoising with neural networks"
   ]
  },
  {
   "cell_type": "markdown",
   "id": "fbe638d0",
   "metadata": {},
   "source": [
    "For solving the problem of denoising we want a neural network $\\phi$ to approximate a function that takes a noisy input image $\\mathbf{x} = \\mathbf{i} + \\mathbf{n}$ and yields the image $\\mathbf{i}$ without the noise $\\mathbf{n}$:"
   ]
  },
  {
   "cell_type": "markdown",
   "id": "6d2c7aad",
   "metadata": {
    "slideshow": {
     "slide_type": "fragment"
    }
   },
   "source": [
    "<img src=\"figures/5/dnn_denoising.svg\" style=\"max-height:40vh\">"
   ]
  },
  {
   "cell_type": "markdown",
   "id": "564947c8",
   "metadata": {
    "slideshow": {
     "slide_type": "subslide"
    }
   },
   "source": [
    "Apparently, the input and output dimensions of this network have to match, i.e., \n",
    "\n",
    "$\\begin{align} \n",
    "   \\mathrm{dim}\\, \\mathbf{x} = \\mathrm{dim}\\, \\phi(\\mathbf{x})\\,.\n",
    "\\end{align}$"
   ]
  },
  {
   "cell_type": "markdown",
   "id": "ca211a63",
   "metadata": {
    "slideshow": {
     "slide_type": "fragment"
    }
   },
   "source": [
    "Furthermore, the input $\\mathbf{x}$ represents an image with pixel values and the output $\\phi (\\mathbf{x})$ is again an image with pixel values. \n",
    "\n",
    "Such a problem to be solved by a neural network, where the output values are continuous, is called a *regression problem*."
   ]
  },
  {
   "cell_type": "markdown",
   "id": "5bfbc500",
   "metadata": {
    "slideshow": {
     "slide_type": "subslide"
    }
   },
   "source": [
    "Although it might be tempting to create a network that directly encodes the mapping from noisy to clear images, there is another way that showed to be easier to train and to yield better results:"
   ]
  },
  {
   "cell_type": "markdown",
   "id": "eacc6d73",
   "metadata": {
    "slideshow": {
     "slide_type": "fragment"
    }
   },
   "source": [
    "* Train $\\phi$ to estimate the noise $\\mathbf{n}$ of the input $\\mathbf{x} = \\mathbf{i} + \\mathbf{n}$, i.e., $\\phi(\\mathbf{x}) = \\hat{\\mathbf{n}}$,"
   ]
  },
  {
   "cell_type": "markdown",
   "id": "29745d44",
   "metadata": {
    "slideshow": {
     "slide_type": "fragment"
    }
   },
   "source": [
    "* then calculate an estimate of the sought noise-free image $\\hat{\\mathbf{i}} = \\mathbf{x} - \\hat{\\mathbf{n}}$."
   ]
  },
  {
   "cell_type": "markdown",
   "id": "67b0c757",
   "metadata": {
    "slideshow": {
     "slide_type": "subslide"
    }
   },
   "source": [
    "This has been done by Kai Zhang et al. (see [Beyond a Gaussian Denoiser: Residual Learning of Deep CNN for Image Denoising](https://ieeexplore.ieee.org/abstract/document/7839189)):\n",
    "\n",
    "<img src=\"figures/5/residual_learning_denoising.svg\" style=\"max-height:40vh\">"
   ]
  },
  {
   "cell_type": "markdown",
   "id": "00b1d09a",
   "metadata": {
    "slideshow": {
     "slide_type": "subslide"
    }
   },
   "source": [
    "* Another advantage of this method by Zhang is the lack of fully connected layers. This enables that the neural network can be applied to any input size since there are no input size-dependent parameterized structures involved."
   ]
  },
  {
   "cell_type": "markdown",
   "id": "329dedeb",
   "metadata": {
    "slideshow": {
     "slide_type": "subslide"
    }
   },
   "source": [
    "### Learned image signal processing unit"
   ]
  },
  {
   "cell_type": "markdown",
   "id": "41d79ade",
   "metadata": {},
   "source": [
    "See the paper [Learning to See in the Dark](https://openaccess.thecvf.com/content_cvpr_2018/papers/Chen_Learning_to_See_CVPR_2018_paper.pdf) by Chen Chen et al."
   ]
  },
  {
   "cell_type": "markdown",
   "id": "f7512975",
   "metadata": {
    "slideshow": {
     "slide_type": "subslide"
    }
   },
   "source": [
    "### Learned optics for single-shot high-dynamic-range imaging"
   ]
  },
  {
   "cell_type": "markdown",
   "id": "94cebdc9",
   "metadata": {},
   "source": [
    "See the paper [Deep Optics for Single-shot High-dynamic-range Imaging](https://openaccess.thecvf.com/content_CVPR_2020/papers/Metzler_Deep_Optics_for_Single-Shot_High-Dynamic-Range_Imaging_CVPR_2020_paper.pdf) by Metzler et al."
   ]
  },
  {
   "cell_type": "markdown",
   "id": "c9cbe511",
   "metadata": {
    "slideshow": {
     "slide_type": "subslide"
    }
   },
   "source": [
    "## Tools, libraries and reading resources"
   ]
  },
  {
   "cell_type": "markdown",
   "id": "25e83d23",
   "metadata": {},
   "source": [
    "* [PyTorch](https://pytorch.org/) famous Python library for neural network development.\n",
    "* [FastAI](https://www.fast.ai/) high-level API for PyTorch, very informative free online course, book."
   ]
  },
  {
   "cell_type": "markdown",
   "id": "41449260",
   "metadata": {
    "tags": [
     "remove-cell"
    ]
   },
   "source": [
    "##### Archive"
   ]
  },
  {
   "cell_type": "code",
   "execution_count": 43,
   "id": "dfd5ef84",
   "metadata": {
    "tags": [
     "remove-cell"
    ]
   },
   "outputs": [],
   "source": [
    "def normalize(img):\n",
    "    return (img-np.min(img))/(np.max(img)-np.min(img))"
   ]
  },
  {
   "cell_type": "code",
   "execution_count": 44,
   "id": "74e9dc56",
   "metadata": {
    "tags": [
     "remove-cell"
    ]
   },
   "outputs": [
    {
     "data": {
      "image/png": "[encoded data removed]",
      "text/plain": [
       "<Figure size 432x288 with 2 Axes>"
      ]
     },
     "metadata": {
      "filenames": {
       "image/png": "C:\\Users\\meyjoh\\repos\\vlcompimg\\mynewbook\\_build\\jupyter_execute\\05_NeuralNetworksForCompImg_178_0.png"
      },
      "needs_background": "light"
     },
     "output_type": "display_data"
    }
   ],
   "source": [
    "img = cv2.resize(a:=misc.face(gray=True), (int((f:=0.25) * a.shape[1]), int(f*a.shape[0])))\n",
    "noise = np.random.randn(img.shape[0], img.shape[1]) * 50\n",
    "plt.subplot(1,2,1,  title=\"Noisy input\")\n",
    "plt.imshow(normalize(img+noise), cmap='gray')\n",
    "plt.subplot(1,2,2, title=\"Desired output\")\n",
    "plt.imshow(normalize(img), cmap='gray')\n",
    "plt.imsave(\"noisy.png\", img+noise, cmap='gray')\n",
    "plt.imsave(\"noise.png\", noise, cmap='gray')\n",
    "plt.imsave(\"img.png\", img, cmap='gray')"
   ]
  }
 ],
 "metadata": {
  "jupytext": {
   "formats": "ipynb,md:myst",
   "text_representation": {
    "extension": ".md",
    "format_name": "myst",
    "format_version": 0.13,
    "jupytext_version": "1.14.1"
   }
  },
  "kernelspec": {
   "display_name": "compimg",
   "language": "python",
   "name": "compimg"
  },
  "language_info": {
   "codemirror_mode": {
    "name": "ipython",
    "version": 3
   },
   "file_extension": ".py",
   "mimetype": "text/x-python",
   "name": "python",
   "nbconvert_exporter": "python",
   "pygments_lexer": "ipython3",
   "version": "3.8.10"
  },
  "source_map": [
   15,
   34,
   57,
   64,
   76,
   88,
   102,
   117,
   131,
   135,
   146,
   154,
   160,
   165,
   169,
   173,
   183,
   189,
   193,
   205,
   209,
   237,
   241,
   263,
   267,
   275,
   279,
   285,
   291,
   299,
   303,
   322,
   332,
   336,
   340,
   353,
   363,
   377,
   383,
   397,
   409,
   423,
   438,
   452,
   465,
   479,
   489,
   503,
   507,
   511,
   517,
   521,
   530,
   534,
   542,
   551,
   559,
   573,
   582,
   588,
   594,
   600,
   604,
   611,
   617,
   621,
   631,
   635,
   644,
   648,
   657,
   666,
   674,
   683,
   691,
   695,
   699,
   703,
   707,
   711,
   719,
   723,
   727,
   737,
   741,
   745,
   749,
   757,
   761,
   767,
   771,
   777,
   787,
   807,
   820,
   826,
   830,
   853,
   868,
   874,
   894,
   898,
   904,
   908,
   920,
   927,
   933,
   939,
   949,
   957,
   967,
   975,
   979,
   983,
   989,
   993,
   1011,
   1028,
   1036,
   1040,
   1046,
   1050,
   1060,
   1069,
   1077,
   1085,
   1093,
   1097,
   1101,
   1105,
   1109,
   1113,
   1117,
   1123,
   1127,
   1131,
   1135,
   1143,
   1149,
   1153,
   1157,
   1161,
   1167,
   1173,
   1177,
   1185,
   1191,
   1195,
   1199,
   1205,
   1209,
   1219,
   1223,
   1227,
   1231,
   1237,
   1241,
   1247,
   1251,
   1255,
   1259,
   1263,
   1267,
   1271,
   1279,
   1285,
   1289,
   1293,
   1297,
   1303,
   1307,
   1311,
   1315,
   1319,
   1323,
   1327,
   1332,
   1336,
   1343
  ],
  "widgets": {
   "application/vnd.jupyter.widget-state+json": {
    "state": {
     "063ba66a405d43a8ad7605182024e80a": {
      "model_module": "@jupyter-widgets/controls",
      "model_module_version": "1.5.0",
      "model_name": "FloatSliderModel",
      "state": {
       "_dom_classes": [],
       "_model_module": "@jupyter-widgets/controls",
       "_model_module_version": "1.5.0",
       "_model_name": "FloatSliderModel",
       "_view_count": null,
       "_view_module": "@jupyter-widgets/controls",
       "_view_module_version": "1.5.0",
       "_view_name": "FloatSliderView",
       "continuous_update": true,
       "description": "s22",
       "description_tooltip": null,
       "disabled": false,
       "layout": "IPY_MODEL_5b0d13779a4645bf920d3c5bf65431b0",
       "max": 1.0,
       "min": 0.0,
       "orientation": "horizontal",
       "readout": true,
       "readout_format": ".2f",
       "step": 0.1,
       "style": "IPY_MODEL_c6dcd582305245198d635605cbd385ce",
       "value": 0.6
      }
     },
     "09fc8e62dcbc4bd2be92e480cf823ae6": {
      "model_module": "@jupyter-widgets/base",
      "model_module_version": "1.2.0",
      "model_name": "LayoutModel",
      "state": {
       "_model_module": "@jupyter-widgets/base",
       "_model_module_version": "1.2.0",
       "_model_name": "LayoutModel",
       "_view_count": null,
       "_view_module": "@jupyter-widgets/base",
       "_view_module_version": "1.2.0",
       "_view_name": "LayoutView",
       "align_content": null,
       "align_items": null,
       "align_self": null,
       "border": null,
       "bottom": null,
       "display": null,
       "flex": null,
       "flex_flow": null,
       "grid_area": null,
       "grid_auto_columns": null,
       "grid_auto_flow": null,
       "grid_auto_rows": null,
       "grid_column": null,
       "grid_gap": null,
       "grid_row": null,
       "grid_template_areas": null,
       "grid_template_columns": null,
       "grid_template_rows": null,
       "height": null,
       "justify_content": null,
       "justify_items": null,
       "left": null,
       "margin": null,
       "max_height": null,
       "max_width": null,
       "min_height": null,
       "min_width": null,
       "object_fit": null,
       "object_position": null,
       "order": null,
       "overflow": null,
       "overflow_x": null,
       "overflow_y": null,
       "padding": null,
       "right": null,
       "top": null,
       "visibility": null,
       "width": null
      }
     },
     "0ac9686d34b04ad782ea015b87f7b678": {
      "model_module": "@jupyter-widgets/base",
      "model_module_version": "1.2.0",
      "model_name": "LayoutModel",
      "state": {
       "_model_module": "@jupyter-widgets/base",
       "_model_module_version": "1.2.0",
       "_model_name": "LayoutModel",
       "_view_count": null,
       "_view_module": "@jupyter-widgets/base",
       "_view_module_version": "1.2.0",
       "_view_name": "LayoutView",
       "align_content": null,
       "align_items": null,
       "align_self": null,
       "border": null,
       "bottom": null,
       "display": null,
       "flex": null,
       "flex_flow": null,
       "grid_area": null,
       "grid_auto_columns": null,
       "grid_auto_flow": null,
       "grid_auto_rows": null,
       "grid_column": null,
       "grid_gap": null,
       "grid_row": null,
       "grid_template_areas": null,
       "grid_template_columns": null,
       "grid_template_rows": null,
       "height": null,
       "justify_content": null,
       "justify_items": null,
       "left": null,
       "margin": null,
       "max_height": null,
       "max_width": null,
       "min_height": null,
       "min_width": null,
       "object_fit": null,
       "object_position": null,
       "order": null,
       "overflow": null,
       "overflow_x": null,
       "overflow_y": null,
       "padding": null,
       "right": null,
       "top": null,
       "visibility": null,
       "width": null
      }
     },
     "1c73c9c80c344856be6d5d8e8b76a01a": {
      "model_module": "@jupyter-widgets/controls",
      "model_module_version": "1.5.0",
      "model_name": "SliderStyleModel",
      "state": {
       "_model_module": "@jupyter-widgets/controls",
       "_model_module_version": "1.5.0",
       "_model_name": "SliderStyleModel",
       "_view_count": null,
       "_view_module": "@jupyter-widgets/base",
       "_view_module_version": "1.2.0",
       "_view_name": "StyleView",
       "description_width": "",
       "handle_color": null
      }
     },
     "2be1907d80c94cfb96bd64377be2f088": {
      "model_module": "@jupyter-widgets/base",
      "model_module_version": "1.2.0",
      "model_name": "LayoutModel",
      "state": {
       "_model_module": "@jupyter-widgets/base",
       "_model_module_version": "1.2.0",
       "_model_name": "LayoutModel",
       "_view_count": null,
       "_view_module": "@jupyter-widgets/base",
       "_view_module_version": "1.2.0",
       "_view_name": "LayoutView",
       "align_content": null,
       "align_items": null,
       "align_self": null,
       "border": null,
       "bottom": null,
       "display": null,
       "flex": null,
       "flex_flow": null,
       "grid_area": null,
       "grid_auto_columns": null,
       "grid_auto_flow": null,
       "grid_auto_rows": null,
       "grid_column": null,
       "grid_gap": null,
       "grid_row": null,
       "grid_template_areas": null,
       "grid_template_columns": null,
       "grid_template_rows": null,
       "height": null,
       "justify_content": null,
       "justify_items": null,
       "left": null,
       "margin": null,
       "max_height": null,
       "max_width": null,
       "min_height": null,
       "min_width": null,
       "object_fit": null,
       "object_position": null,
       "order": null,
       "overflow": null,
       "overflow_x": null,
       "overflow_y": null,
       "padding": null,
       "right": null,
       "top": null,
       "visibility": null,
       "width": null
      }
     },
     "2bfa8940f3b448f49e241de5a0836c15": {
      "model_module": "@jupyter-widgets/base",
      "model_module_version": "1.2.0",
      "model_name": "LayoutModel",
      "state": {
       "_model_module": "@jupyter-widgets/base",
       "_model_module_version": "1.2.0",
       "_model_name": "LayoutModel",
       "_view_count": null,
       "_view_module": "@jupyter-widgets/base",
       "_view_module_version": "1.2.0",
       "_view_name": "LayoutView",
       "align_content": null,
       "align_items": null,
       "align_self": null,
       "border": null,
       "bottom": null,
       "display": null,
       "flex": null,
       "flex_flow": null,
       "grid_area": null,
       "grid_auto_columns": null,
       "grid_auto_flow": null,
       "grid_auto_rows": null,
       "grid_column": null,
       "grid_gap": null,
       "grid_row": null,
       "grid_template_areas": null,
       "grid_template_columns": null,
       "grid_template_rows": null,
       "height": null,
       "justify_content": null,
       "justify_items": null,
       "left": null,
       "margin": null,
       "max_height": null,
       "max_width": null,
       "min_height": null,
       "min_width": null,
       "object_fit": null,
       "object_position": null,
       "order": null,
       "overflow": null,
       "overflow_x": null,
       "overflow_y": null,
       "padding": null,
       "right": null,
       "top": null,
       "visibility": null,
       "width": null
      }
     },
     "32aba2cf97f5448ca69f5ea287d94323": {
      "model_module": "@jupyter-widgets/base",
      "model_module_version": "1.2.0",
      "model_name": "LayoutModel",
      "state": {
       "_model_module": "@jupyter-widgets/base",
       "_model_module_version": "1.2.0",
       "_model_name": "LayoutModel",
       "_view_count": null,
       "_view_module": "@jupyter-widgets/base",
       "_view_module_version": "1.2.0",
       "_view_name": "LayoutView",
       "align_content": null,
       "align_items": null,
       "align_self": null,
       "border": null,
       "bottom": null,
       "display": null,
       "flex": null,
       "flex_flow": null,
       "grid_area": null,
       "grid_auto_columns": null,
       "grid_auto_flow": null,
       "grid_auto_rows": null,
       "grid_column": null,
       "grid_gap": null,
       "grid_row": null,
       "grid_template_areas": null,
       "grid_template_columns": null,
       "grid_template_rows": null,
       "height": null,
       "justify_content": null,
       "justify_items": null,
       "left": null,
       "margin": null,
       "max_height": null,
       "max_width": null,
       "min_height": null,
       "min_width": null,
       "object_fit": null,
       "object_position": null,
       "order": null,
       "overflow": null,
       "overflow_x": null,
       "overflow_y": null,
       "padding": null,
       "right": null,
       "top": null,
       "visibility": null,
       "width": null
      }
     },
     "369a8a9dc66a4745912ecf5455a9923b": {
      "model_module": "@jupyter-widgets/controls",
      "model_module_version": "1.5.0",
      "model_name": "VBoxModel",
      "state": {
       "_dom_classes": [
        "widget-interact"
       ],
       "_model_module": "@jupyter-widgets/controls",
       "_model_module_version": "1.5.0",
       "_model_name": "VBoxModel",
       "_view_count": null,
       "_view_module": "@jupyter-widgets/controls",
       "_view_module_version": "1.5.0",
       "_view_name": "VBoxView",
       "box_style": "",
       "children": [
        "IPY_MODEL_7ac67956c4874f389971bf704a20868d",
        "IPY_MODEL_d5e91f74d3e04920afe60d4977c1cf7e",
        "IPY_MODEL_39f6ff342aec4c6596b0cfd64b930196",
        "IPY_MODEL_063ba66a405d43a8ad7605182024e80a",
        "IPY_MODEL_4e177cc5b5484182bda8d31bf0fa4356",
        "IPY_MODEL_a17693e1878e400db405e5a0c597fabb",
        "IPY_MODEL_d73bc018e04d4a95811592a70bd70dff"
       ],
       "layout": "IPY_MODEL_430cda1235714a1c908a6835690a6e36"
      }
     },
     "39ab89bb40c04afe8a18da696986b8e1": {
      "model_module": "@jupyter-widgets/controls",
      "model_module_version": "1.5.0",
      "model_name": "FloatSliderModel",
      "state": {
       "_dom_classes": [],
       "_model_module": "@jupyter-widgets/controls",
       "_model_module_version": "1.5.0",
       "_model_name": "FloatSliderModel",
       "_view_count": null,
       "_view_module": "@jupyter-widgets/controls",
       "_view_module_version": "1.5.0",
       "_view_name": "FloatSliderView",
       "continuous_update": true,
       "description": "w1",
       "description_tooltip": null,
       "disabled": false,
       "layout": "IPY_MODEL_b3393514baee47d6ad02dfa029d66b96",
       "max": 2.0,
       "min": -2.0,
       "orientation": "horizontal",
       "readout": true,
       "readout_format": ".2f",
       "step": 0.1,
       "style": "IPY_MODEL_96a9b1c9078b41a7b0769171c8dcfed5",
       "value": 0.4
      }
     },
     "39f6ff342aec4c6596b0cfd64b930196": {
      "model_module": "@jupyter-widgets/controls",
      "model_module_version": "1.5.0",
      "model_name": "FloatSliderModel",
      "state": {
       "_dom_classes": [],
       "_model_module": "@jupyter-widgets/controls",
       "_model_module_version": "1.5.0",
       "_model_name": "FloatSliderModel",
       "_view_count": null,
       "_view_module": "@jupyter-widgets/controls",
       "_view_module_version": "1.5.0",
       "_view_name": "FloatSliderView",
       "continuous_update": true,
       "description": "s21",
       "description_tooltip": null,
       "disabled": false,
       "layout": "IPY_MODEL_c597dec03f0d49749c6903654494b6e1",
       "max": 1.0,
       "min": 0.0,
       "orientation": "horizontal",
       "readout": true,
       "readout_format": ".2f",
       "step": 0.1,
       "style": "IPY_MODEL_a29d75c2fb3a413083b5494b7a0962d0",
       "value": 0.4
      }
     },
     "3e1bdf7631db4339bc9898071198b3b7": {
      "model_module": "@jupyter-widgets/controls",
      "model_module_version": "1.5.0",
      "model_name": "VBoxModel",
      "state": {
       "_dom_classes": [
        "widget-interact"
       ],
       "_model_module": "@jupyter-widgets/controls",
       "_model_module_version": "1.5.0",
       "_model_name": "VBoxModel",
       "_view_count": null,
       "_view_module": "@jupyter-widgets/controls",
       "_view_module_version": "1.5.0",
       "_view_name": "VBoxView",
       "box_style": "",
       "children": [
        "IPY_MODEL_61a5c3cafbb2419b8787a85704d4f640",
        "IPY_MODEL_4f337ffbca30400b8cc7357a5bbde307"
       ],
       "layout": "IPY_MODEL_5b565becf6bd4fcc9748917c0facef0c"
      }
     },
     "3f9ae44c1fc747069fa05c5a70ece49d": {
      "model_module": "@jupyter-widgets/output",
      "model_module_version": "1.0.0",
      "model_name": "OutputModel",
      "state": {
       "_dom_classes": [],
       "_model_module": "@jupyter-widgets/output",
       "_model_module_version": "1.0.0",
       "_model_name": "OutputModel",
       "_view_count": null,
       "_view_module": "@jupyter-widgets/output",
       "_view_module_version": "1.0.0",
       "_view_name": "OutputView",
       "layout": "IPY_MODEL_5a455f7f6a6443bf97c8ad031a13cf72",
       "msg_id": "",
       "outputs": [
        {
         "data": {
          "text/html": "<img src=\"figures/5/transposed_convolutional_layer_3.svg\" style=\"max-height:50vh\"/>",
          "text/plain": "<IPython.core.display.HTML object>"
         },
         "metadata": {},
         "output_type": "display_data"
        }
       ]
      }
     },
     "430cda1235714a1c908a6835690a6e36": {
      "model_module": "@jupyter-widgets/base",
      "model_module_version": "1.2.0",
      "model_name": "LayoutModel",
      "state": {
       "_model_module": "@jupyter-widgets/base",
       "_model_module_version": "1.2.0",
       "_model_name": "LayoutModel",
       "_view_count": null,
       "_view_module": "@jupyter-widgets/base",
       "_view_module_version": "1.2.0",
       "_view_name": "LayoutView",
       "align_content": null,
       "align_items": null,
       "align_self": null,
       "border": null,
       "bottom": null,
       "display": null,
       "flex": null,
       "flex_flow": null,
       "grid_area": null,
       "grid_auto_columns": null,
       "grid_auto_flow": null,
       "grid_auto_rows": null,
       "grid_column": null,
       "grid_gap": null,
       "grid_row": null,
       "grid_template_areas": null,
       "grid_template_columns": null,
       "grid_template_rows": null,
       "height": null,
       "justify_content": null,
       "justify_items": null,
       "left": null,
       "margin": null,
       "max_height": null,
       "max_width": null,
       "min_height": null,
       "min_width": null,
       "object_fit": null,
       "object_position": null,
       "order": null,
       "overflow": null,
       "overflow_x": null,
       "overflow_y": null,
       "padding": null,
       "right": null,
       "top": null,
       "visibility": null,
       "width": null
      }
     },
     "49c2662dd63845eeb3fd795ab1d1a35b": {
      "model_module": "@jupyter-widgets/base",
      "model_module_version": "1.2.0",
      "model_name": "LayoutModel",
      "state": {
       "_model_module": "@jupyter-widgets/base",
       "_model_module_version": "1.2.0",
       "_model_name": "LayoutModel",
       "_view_count": null,
       "_view_module": "@jupyter-widgets/base",
       "_view_module_version": "1.2.0",
       "_view_name": "LayoutView",
       "align_content": null,
       "align_items": null,
       "align_self": null,
       "border": null,
       "bottom": null,
       "display": null,
       "flex": null,
       "flex_flow": null,
       "grid_area": null,
       "grid_auto_columns": null,
       "grid_auto_flow": null,
       "grid_auto_rows": null,
       "grid_column": null,
       "grid_gap": null,
       "grid_row": null,
       "grid_template_areas": null,
       "grid_template_columns": null,
       "grid_template_rows": null,
       "height": null,
       "justify_content": null,
       "justify_items": null,
       "left": null,
       "margin": null,
       "max_height": null,
       "max_width": null,
       "min_height": null,
       "min_width": null,
       "object_fit": null,
       "object_position": null,
       "order": null,
       "overflow": null,
       "overflow_x": null,
       "overflow_y": null,
       "padding": null,
       "right": null,
       "top": null,
       "visibility": null,
       "width": null
      }
     },
     "4e177cc5b5484182bda8d31bf0fa4356": {
      "model_module": "@jupyter-widgets/controls",
      "model_module_version": "1.5.0",
      "model_name": "FloatSliderModel",
      "state": {
       "_dom_classes": [],
       "_model_module": "@jupyter-widgets/controls",
       "_model_module_version": "1.5.0",
       "_model_name": "FloatSliderModel",
       "_view_count": null,
       "_view_module": "@jupyter-widgets/controls",
       "_view_module_version": "1.5.0",
       "_view_name": "FloatSliderView",
       "continuous_update": true,
       "description": "h1",
       "description_tooltip": null,
       "disabled": false,
       "layout": "IPY_MODEL_5cb32827bfde44c6a95c24f708401a31",
       "max": 2.0,
       "min": -2.0,
       "orientation": "horizontal",
       "readout": true,
       "readout_format": ".2f",
       "step": 0.1,
       "style": "IPY_MODEL_1c73c9c80c344856be6d5d8e8b76a01a",
       "value": 0.3
      }
     },
     "4f337ffbca30400b8cc7357a5bbde307": {
      "model_module": "@jupyter-widgets/output",
      "model_module_version": "1.0.0",
      "model_name": "OutputModel",
      "state": {
       "_dom_classes": [],
       "_model_module": "@jupyter-widgets/output",
       "_model_module_version": "1.0.0",
       "_model_name": "OutputModel",
       "_view_count": null,
       "_view_module": "@jupyter-widgets/output",
       "_view_module_version": "1.0.0",
       "_view_name": "OutputView",
       "layout": "IPY_MODEL_0ac9686d34b04ad782ea015b87f7b678",
       "msg_id": "",
       "outputs": [
        {
         "data": {
          "text/html": "<img src=\"figures/5/pooling_layer_5.svg\" style=\"max-height:50vh\"/>",
          "text/plain": "<IPython.core.display.HTML object>"
         },
         "metadata": {},
         "output_type": "display_data"
        }
       ]
      }
     },
     "53ba6267b5c842e693e44af8afc28f1b": {
      "model_module": "@jupyter-widgets/base",
      "model_module_version": "1.2.0",
      "model_name": "LayoutModel",
      "state": {
       "_model_module": "@jupyter-widgets/base",
       "_model_module_version": "1.2.0",
       "_model_name": "LayoutModel",
       "_view_count": null,
       "_view_module": "@jupyter-widgets/base",
       "_view_module_version": "1.2.0",
       "_view_name": "LayoutView",
       "align_content": null,
       "align_items": null,
       "align_self": null,
       "border": null,
       "bottom": null,
       "display": null,
       "flex": null,
       "flex_flow": null,
       "grid_area": null,
       "grid_auto_columns": null,
       "grid_auto_flow": null,
       "grid_auto_rows": null,
       "grid_column": null,
       "grid_gap": null,
       "grid_row": null,
       "grid_template_areas": null,
       "grid_template_columns": null,
       "grid_template_rows": null,
       "height": null,
       "justify_content": null,
       "justify_items": null,
       "left": null,
       "margin": null,
       "max_height": null,
       "max_width": null,
       "min_height": null,
       "min_width": null,
       "object_fit": null,
       "object_position": null,
       "order": null,
       "overflow": null,
       "overflow_x": null,
       "overflow_y": null,
       "padding": null,
       "right": null,
       "top": null,
       "visibility": null,
       "width": null
      }
     },
     "58650660a763461eb6c1e742e352940f": {
      "model_module": "@jupyter-widgets/controls",
      "model_module_version": "1.5.0",
      "model_name": "FloatSliderModel",
      "state": {
       "_dom_classes": [],
       "_model_module": "@jupyter-widgets/controls",
       "_model_module_version": "1.5.0",
       "_model_name": "FloatSliderModel",
       "_view_count": null,
       "_view_module": "@jupyter-widgets/controls",
       "_view_module_version": "1.5.0",
       "_view_name": "FloatSliderView",
       "continuous_update": true,
       "description": "w2",
       "description_tooltip": null,
       "disabled": false,
       "layout": "IPY_MODEL_32aba2cf97f5448ca69f5ea287d94323",
       "max": 2.0,
       "min": -2.0,
       "orientation": "horizontal",
       "readout": true,
       "readout_format": ".2f",
       "step": 0.1,
       "style": "IPY_MODEL_99e66b9a07e64c8896aaed0983ab1cbe",
       "value": 0.6
      }
     },
     "59444e95d75b485187bc05a778cebf2a": {
      "model_module": "@jupyter-widgets/output",
      "model_module_version": "1.0.0",
      "model_name": "OutputModel",
      "state": {
       "_dom_classes": [],
       "_model_module": "@jupyter-widgets/output",
       "_model_module_version": "1.0.0",
       "_model_name": "OutputModel",
       "_view_count": null,
       "_view_module": "@jupyter-widgets/output",
       "_view_module_version": "1.0.0",
       "_view_name": "OutputView",
       "layout": "IPY_MODEL_fc8cc0e7bf2a434991ef9075eaedccec",
       "msg_id": "",
       "outputs": [
        {
         "data": {
          "text/html": "<img src=\"figures/5/convolutional_layer_5.svg\" style=\"max-height:50vh\"/>",
          "text/plain": "<IPython.core.display.HTML object>"
         },
         "metadata": {},
         "output_type": "display_data"
        }
       ]
      }
     },
     "5a455f7f6a6443bf97c8ad031a13cf72": {
      "model_module": "@jupyter-widgets/base",
      "model_module_version": "1.2.0",
      "model_name": "LayoutModel",
      "state": {
       "_model_module": "@jupyter-widgets/base",
       "_model_module_version": "1.2.0",
       "_model_name": "LayoutModel",
       "_view_count": null,
       "_view_module": "@jupyter-widgets/base",
       "_view_module_version": "1.2.0",
       "_view_name": "LayoutView",
       "align_content": null,
       "align_items": null,
       "align_self": null,
       "border": null,
       "bottom": null,
       "display": null,
       "flex": null,
       "flex_flow": null,
       "grid_area": null,
       "grid_auto_columns": null,
       "grid_auto_flow": null,
       "grid_auto_rows": null,
       "grid_column": null,
       "grid_gap": null,
       "grid_row": null,
       "grid_template_areas": null,
       "grid_template_columns": null,
       "grid_template_rows": null,
       "height": null,
       "justify_content": null,
       "justify_items": null,
       "left": null,
       "margin": null,
       "max_height": null,
       "max_width": null,
       "min_height": null,
       "min_width": null,
       "object_fit": null,
       "object_position": null,
       "order": null,
       "overflow": null,
       "overflow_x": null,
       "overflow_y": null,
       "padding": null,
       "right": null,
       "top": null,
       "visibility": null,
       "width": null
      }
     },
     "5b0d13779a4645bf920d3c5bf65431b0": {
      "model_module": "@jupyter-widgets/base",
      "model_module_version": "1.2.0",
      "model_name": "LayoutModel",
      "state": {
       "_model_module": "@jupyter-widgets/base",
       "_model_module_version": "1.2.0",
       "_model_name": "LayoutModel",
       "_view_count": null,
       "_view_module": "@jupyter-widgets/base",
       "_view_module_version": "1.2.0",
       "_view_name": "LayoutView",
       "align_content": null,
       "align_items": null,
       "align_self": null,
       "border": null,
       "bottom": null,
       "display": null,
       "flex": null,
       "flex_flow": null,
       "grid_area": null,
       "grid_auto_columns": null,
       "grid_auto_flow": null,
       "grid_auto_rows": null,
       "grid_column": null,
       "grid_gap": null,
       "grid_row": null,
       "grid_template_areas": null,
       "grid_template_columns": null,
       "grid_template_rows": null,
       "height": null,
       "justify_content": null,
       "justify_items": null,
       "left": null,
       "margin": null,
       "max_height": null,
       "max_width": null,
       "min_height": null,
       "min_width": null,
       "object_fit": null,
       "object_position": null,
       "order": null,
       "overflow": null,
       "overflow_x": null,
       "overflow_y": null,
       "padding": null,
       "right": null,
       "top": null,
       "visibility": null,
       "width": null
      }
     },
     "5b565becf6bd4fcc9748917c0facef0c": {
      "model_module": "@jupyter-widgets/base",
      "model_module_version": "1.2.0",
      "model_name": "LayoutModel",
      "state": {
       "_model_module": "@jupyter-widgets/base",
       "_model_module_version": "1.2.0",
       "_model_name": "LayoutModel",
       "_view_count": null,
       "_view_module": "@jupyter-widgets/base",
       "_view_module_version": "1.2.0",
       "_view_name": "LayoutView",
       "align_content": null,
       "align_items": null,
       "align_self": null,
       "border": null,
       "bottom": null,
       "display": null,
       "flex": null,
       "flex_flow": null,
       "grid_area": null,
       "grid_auto_columns": null,
       "grid_auto_flow": null,
       "grid_auto_rows": null,
       "grid_column": null,
       "grid_gap": null,
       "grid_row": null,
       "grid_template_areas": null,
       "grid_template_columns": null,
       "grid_template_rows": null,
       "height": null,
       "justify_content": null,
       "justify_items": null,
       "left": null,
       "margin": null,
       "max_height": null,
       "max_width": null,
       "min_height": null,
       "min_width": null,
       "object_fit": null,
       "object_position": null,
       "order": null,
       "overflow": null,
       "overflow_x": null,
       "overflow_y": null,
       "padding": null,
       "right": null,
       "top": null,
       "visibility": null,
       "width": null
      }
     },
     "5cb32827bfde44c6a95c24f708401a31": {
      "model_module": "@jupyter-widgets/base",
      "model_module_version": "1.2.0",
      "model_name": "LayoutModel",
      "state": {
       "_model_module": "@jupyter-widgets/base",
       "_model_module_version": "1.2.0",
       "_model_name": "LayoutModel",
       "_view_count": null,
       "_view_module": "@jupyter-widgets/base",
       "_view_module_version": "1.2.0",
       "_view_name": "LayoutView",
       "align_content": null,
       "align_items": null,
       "align_self": null,
       "border": null,
       "bottom": null,
       "display": null,
       "flex": null,
       "flex_flow": null,
       "grid_area": null,
       "grid_auto_columns": null,
       "grid_auto_flow": null,
       "grid_auto_rows": null,
       "grid_column": null,
       "grid_gap": null,
       "grid_row": null,
       "grid_template_areas": null,
       "grid_template_columns": null,
       "grid_template_rows": null,
       "height": null,
       "justify_content": null,
       "justify_items": null,
       "left": null,
       "margin": null,
       "max_height": null,
       "max_width": null,
       "min_height": null,
       "min_width": null,
       "object_fit": null,
       "object_position": null,
       "order": null,
       "overflow": null,
       "overflow_x": null,
       "overflow_y": null,
       "padding": null,
       "right": null,
       "top": null,
       "visibility": null,
       "width": null
      }
     },
     "611ed2aca1974b919d51c7b9f28d96a4": {
      "model_module": "@jupyter-widgets/controls",
      "model_module_version": "1.5.0",
      "model_name": "FloatSliderModel",
      "state": {
       "_dom_classes": [],
       "_model_module": "@jupyter-widgets/controls",
       "_model_module_version": "1.5.0",
       "_model_name": "FloatSliderModel",
       "_view_count": null,
       "_view_module": "@jupyter-widgets/controls",
       "_view_module_version": "1.5.0",
       "_view_name": "FloatSliderView",
       "continuous_update": true,
       "description": "w",
       "description_tooltip": null,
       "disabled": false,
       "layout": "IPY_MODEL_2bfa8940f3b448f49e241de5a0836c15",
       "max": 200.0,
       "min": 1.0,
       "orientation": "horizontal",
       "readout": true,
       "readout_format": ".2f",
       "step": 1.0,
       "style": "IPY_MODEL_797ad8fa533a4ae88121cef08ede9502",
       "value": 8.0
      }
     },
     "61a5c3cafbb2419b8787a85704d4f640": {
      "model_module": "@jupyter-widgets/controls",
      "model_module_version": "1.5.0",
      "model_name": "IntSliderModel",
      "state": {
       "_dom_classes": [],
       "_model_module": "@jupyter-widgets/controls",
       "_model_module_version": "1.5.0",
       "_model_name": "IntSliderModel",
       "_view_count": null,
       "_view_module": "@jupyter-widgets/controls",
       "_view_module_version": "1.5.0",
       "_view_name": "IntSliderView",
       "continuous_update": true,
       "description": "i",
       "description_tooltip": null,
       "disabled": false,
       "layout": "IPY_MODEL_9d8f87379565454298aa955e164f77eb",
       "max": 5,
       "min": 1,
       "orientation": "horizontal",
       "readout": true,
       "readout_format": "d",
       "step": 1,
       "style": "IPY_MODEL_fac4d100e7264339aaea28de71db28fe",
       "value": 5
      }
     },
     "66160ee2bc1341689090f4308d4b99b9": {
      "model_module": "@jupyter-widgets/base",
      "model_module_version": "1.2.0",
      "model_name": "LayoutModel",
      "state": {
       "_model_module": "@jupyter-widgets/base",
       "_model_module_version": "1.2.0",
       "_model_name": "LayoutModel",
       "_view_count": null,
       "_view_module": "@jupyter-widgets/base",
       "_view_module_version": "1.2.0",
       "_view_name": "LayoutView",
       "align_content": null,
       "align_items": null,
       "align_self": null,
       "border": null,
       "bottom": null,
       "display": null,
       "flex": null,
       "flex_flow": null,
       "grid_area": null,
       "grid_auto_columns": null,
       "grid_auto_flow": null,
       "grid_auto_rows": null,
       "grid_column": null,
       "grid_gap": null,
       "grid_row": null,
       "grid_template_areas": null,
       "grid_template_columns": null,
       "grid_template_rows": null,
       "height": null,
       "justify_content": null,
       "justify_items": null,
       "left": null,
       "margin": null,
       "max_height": null,
       "max_width": null,
       "min_height": null,
       "min_width": null,
       "object_fit": null,
       "object_position": null,
       "order": null,
       "overflow": null,
       "overflow_x": null,
       "overflow_y": null,
       "padding": null,
       "right": null,
       "top": null,
       "visibility": null,
       "width": null
      }
     },
     "677ea5c5a5fc43418d0e28a2c5e343b3": {
      "model_module": "@jupyter-widgets/controls",
      "model_module_version": "1.5.0",
      "model_name": "SliderStyleModel",
      "state": {
       "_model_module": "@jupyter-widgets/controls",
       "_model_module_version": "1.5.0",
       "_model_name": "SliderStyleModel",
       "_view_count": null,
       "_view_module": "@jupyter-widgets/base",
       "_view_module_version": "1.2.0",
       "_view_name": "StyleView",
       "description_width": "",
       "handle_color": null
      }
     },
     "7334be9b1f6c48b99d94a4a991534949": {
      "model_module": "@jupyter-widgets/controls",
      "model_module_version": "1.5.0",
      "model_name": "VBoxModel",
      "state": {
       "_dom_classes": [
        "widget-interact"
       ],
       "_model_module": "@jupyter-widgets/controls",
       "_model_module_version": "1.5.0",
       "_model_name": "VBoxModel",
       "_view_count": null,
       "_view_module": "@jupyter-widgets/controls",
       "_view_module_version": "1.5.0",
       "_view_name": "VBoxView",
       "box_style": "",
       "children": [
        "IPY_MODEL_f568e9c5c9ee402eac7161dcb84487d8",
        "IPY_MODEL_b189d87609da4a7fa1b3d86a3a1f03a2",
        "IPY_MODEL_39ab89bb40c04afe8a18da696986b8e1",
        "IPY_MODEL_58650660a763461eb6c1e742e352940f",
        "IPY_MODEL_75a153771b3246d38ed432ce5ec66b65"
       ],
       "layout": "IPY_MODEL_ea6fb991c3074647906604e32fb765bd"
      }
     },
     "75a153771b3246d38ed432ce5ec66b65": {
      "model_module": "@jupyter-widgets/output",
      "model_module_version": "1.0.0",
      "model_name": "OutputModel",
      "state": {
       "_dom_classes": [],
       "_model_module": "@jupyter-widgets/output",
       "_model_module_version": "1.0.0",
       "_model_name": "OutputModel",
       "_view_count": null,
       "_view_module": "@jupyter-widgets/output",
       "_view_module_version": "1.0.0",
       "_view_name": "OutputView",
       "layout": "IPY_MODEL_d616712e034e4f00ac6e9496543b4162",
       "msg_id": "",
       "outputs": [
        {
         "data": {
          "image/png": "iVBORw0KGgoAAAANSUhEUgAAAXQAAAD4CAYAAAD8Zh1EAAAAOXRFWHRTb2Z0d2FyZQBNYXRwbG90bGliIHZlcnNpb24zLjQuMSwgaHR0cHM6Ly9tYXRwbG90bGliLm9yZy/Z1A+gAAAACXBIWXMAAAsTAAALEwEAmpwYAAAUEElEQVR4nO3df4wcd3nH8ffju7ON4/zCNhTFNheEg7AobdA10CIVV9AqSaW4Ei1NpIhSRVjQBlUCIaWiSlGQKlFUqqKGgqtSWiQIgT+QJYwiFeJGigjEaSAkTk2d8MNOAjEkjckP393uPv1j98z1cns7dzN3O7P3fkmn7O58b+8Z79wn33vmV2QmkqTm2zDsAiRJ1TDQJWlEGOiSNCIMdEkaEQa6JI2I8WH94O3bt+fk5OSyv+/48eMAvOY1r6m4Ikmqv/vuu+9nmbljsWVDC/TJyUmOHj267O/bt28fAEeOHKm2IElqgIj4Ub9ltlwkaUQY6JI0Igx0SRoRBrokjQgDXZJGxMBAj4jPRMSTEfFgn+UREZ+IiBMR8UBEvKH6MiVJgxSZoX8WuHKJ5VcBe3pfB4B/Kl+WJGm5Bh6Hnpl3RcTkEkP2A/+e3evw3hMRF0XEKzLziaqKlNaTY4+f4T+/f5rpVptOAl7ieuS89bUv59d2XVT5+1ZxYtElwMl5z0/1XntRoEfEAbqzeHbv3l3Bj5ZGy8mnnucPPnk3M63OudcihliQVsXLLthc20AvLDMPAgcBpqamnHZIC3ztwSeYaXX4xgfewuS289iwwTRXcVUE+mPArnnPd/Zek7RM//PTZ9lx/iZetWPrsEtRA1Vx2OIh4J29o13eBDxj/1xamR8/9TyT27YMuww11MAZekR8AdgHbI+IU8BfAxMAmfkp4DBwNXACeB7409UqVhp1z7wwy86LDXStTJGjXK4bsDyBP6+sImkd+8XZFhe8ZGgXQVXDeaaoVCNnzs5yweaJYZehhjLQpZrodJJnp1ucv9kZulbGQJdq4vnZNpmwdZOBrpUx0KWamDuZaNO4v5ZaGbccqSbmAn3j+NiQK1FTGehSTcy2u4E+MebZoVoZA12qielzM3R/LbUybjlSTdhDV1luOVJN/LLl4q+lVsYtR6qJmbYtF5XjliPVxLmjXJyha4XccqSamJuhTzhD1wq55Ug14QxdZbnlSDXhUS4qyy1HqolWpxvo487QtUJuOVJN9FrojHlXaK2QgS7VRKfTvW/6Bn8rtUJuOlJNtLMb6GMbnKFrZQx0qSZaHQNd5RjoUk3MtVzsoWulDHSpJtrO0FWSgS7VRCfndooa6FoZA12qibYtF5VkoEs14VEuKstAl2ri3HHoztC1Qga6VBPnzhR1hq4VMtClmphruZjnWikDXaqJdqfD2IYgbLlohQx0qSbaHY9wUTkGulQTnUwvzKVS3Hykmmh30hm6SikU6BFxZUQcj4gTEXHTIst3R8SdEXF/RDwQEVdXX6o02tqd9CxRlTIw0CNiDLgVuArYC1wXEXsXDPsr4PbMvBy4Fvhk1YVKo66T6SGLKqXIDP0K4ERmPpqZM8BtwP4FYxK4oPf4QuDx6kqU1gdbLiqrSKBfApyc9/xU77X5PgxcHxGngMPA+xZ7o4g4EBFHI+Lo6dOnV1CuNLq6O0UNdK1cVTtFrwM+m5k7gauBz0XEi947Mw9m5lRmTu3YsaOiHy2NBmfoKqtIoD8G7Jr3fGfvtfluAG4HyMxvApuB7VUUKK0XrY49dJVTJNDvBfZExKURsZHuTs9DC8b8GHgrQES8lm6g21ORlqFjoKukgYGemS3gRuAO4GG6R7M8FBG3RMQ1vWEfAN4dEd8FvgC8K7N3YQpJhbTTC3OpnPEigzLzMN2dnfNfu3ne42PAm6stTVpfOp30wlwqxTNFpZpo23JRSQa6VBPtTG9uoVIMdKkm3Cmqsgx0qSbanvqvkgx0qSbaHVsuKsdAl2rCi3OpLANdqolW20BXOQa6VBOd9FouKsdAl2rC49BVloEu1UQ78fK5KsVAl2qi00nGzHOVYKBLNWHLRWUZ6FJNdDz1XyUZ6FJNOENXWQa6VBNt7ymqkgx0qSbanWTcQFcJBrpUE94kWmUZ6FJNdDq2XFSOgS7VRNtT/1WSgS7VRLvjmaIqx0CXaqJ7+dxhV6Emc/ORasKdoirLQJdqwp2iKstAl2rCnaIqy0CXaqLVSca83KJKMNClmujYQ1dJBrpUE21vEq2SDHSpBjKTTLx8rkox0KUaaHcSwBm6SjHQpRpop4Gu8goFekRcGRHHI+JERNzUZ8w7IuJYRDwUEZ+vtkxptHU63f/aclEZ44MGRMQYcCvwu8Ap4N6IOJSZx+aN2QP8JfDmzHw6Il62WgVLo+iXM/QhF6JGK7L5XAGcyMxHM3MGuA3Yv2DMu4FbM/NpgMx8stoypdE210N3hq4yigT6JcDJec9P9V6b7zLgsoi4OyLuiYgrF3ujiDgQEUcj4ujp06dXVrE0guYC3TsWqYyq/sAbB/YA+4DrgH+OiIsWDsrMg5k5lZlTO3bsqOhHS83nUS6qQpFAfwzYNe/5zt5r850CDmXmbGb+APg+3YCXVECn10P34lwqo0ig3wvsiYhLI2IjcC1waMGYr9CdnRMR2+m2YB6trkxptJ2bodtDVwkDAz0zW8CNwB3Aw8DtmflQRNwSEdf0ht0B/DwijgF3Ah/MzJ+vVtHSqDm3U9QZukoYeNgiQGYeBg4veO3meY8TeH/vS9IyzbVcnKGrDI96lWrAnaKqgoEu1YA7RVUFA12qgXbv1H9bLirDQJdqoNW7mIstF5VhoEs1MHdxLgNdZRjoUg14cS5Vwc1HqgEvzqUqGOhSDXS8wYUqYKBLNeCp/6qCgS7VQMdT/1UBA12qgZZniqoCBrpUA3PHoW/0MBeV4NYj1cBMq3fHojFn6Fo5A12qAWfoqoJbj1QDs72LuUwY6CrBrUeqgVlbLqqAgS7VwEzblovKc+uRaqBly0UVcOuRamC23W25TIz7K6mVc+uRamCu5TLuiUUqwUCXasCjXFQFtx6pBlrtZGxDeOq/SjHQpRqYbXeY8JBFlWSgSzUw0+4wscFfR5XjFiTVwNnZNpsmxoZdhhrOQJdq4NnpNls3Gegqx0CXauD56RbnbRofdhlqOANdqoFnDXRVwECXauC5mRZbDXSVZKBLNfDcdJstG+2hqxwDXRqyzOT0L6bZdt7GYZeihisU6BFxZUQcj4gTEXHTEuPeHhEZEVPVlSiNtmdemOXZ6Ra7Xrpl2KWo4QYGekSMAbcCVwF7gesiYu8i484H/gL4VtVFSqPswcfOADC57bwhV6KmK7IX5grgRGY+ChARtwH7gWMLxn0E+CjwwUor1DkH73qE2759kudn2nQy6WS/kYsvyD7j+71N9vmG/uOreZ9+C1a9zor+3frXv/iC2XZy0ZYJfuvV2/q9o1RIkUC/BDg57/kp4I3zB0TEG4BdmfnViOgb6BFxADgAsHv37uVXu449cvpZ/ubwf3P57ov4jcmX0j1LPIg+l//od1WQ/uMXX7D891/e9UhWv55+r/d5/z7v029BFXWObQh+//WvYMtGj3JROaW3oIjYAHwceNegsZl5EDgIMDU11XeCoxf79g+eAuAf/vhydm+z1yrpxYrsFH0M2DXv+c7ea3POB14HHImIHwJvAg65Y7Rajzz5LJsnNrDz4pcMuxRJNVUk0O8F9kTEpRGxEbgWODS3MDOfycztmTmZmZPAPcA1mXl0VSpep376i2lefsFmNni9bEl9DAz0zGwBNwJ3AA8Dt2fmQxFxS0Rcs9oFquvMC7Nc+JKJYZchqcYK9dAz8zBweMFrN/cZu698WVrozFkDXdLSPFO0Ic68MMsFmw10Sf0Z6A1x5myL8zd7WJuk/gz0hjg70+YlXrxJ0hIM9IaYbnfYOO7HJak/E6IBMpOZVodN487QJfVnoDfATLsDwCZn6JKWYEI0wHTLQJc0mAnRADO9QLeHLmkpJkQDOEOXVIQJ0QDO0CUVYUI0wHSrDeBRLpKWZKA3wLkZ+pgfl6T+TIgGmO0dtjhhy0XSEkyIBphtd2/uNOG10CUtwUBvgHbvbtBjBrqkJRjoDdDqBfq4PXRJSzAhGqDd6fbQx52hS1qCgd4Acz10Wy6SlmKgN8BcD33CloukJZgQDdByp6ikAgz0Bmi17aFLGsxAb4BfHuVioEvqz0BvgLke+vgGPy5J/ZkQDTDXcrGHLmkpBnoDnGu5GOiSlmCgN0DbHrqkAgz0BmjZQ5dUgAnRAPbQJRVhoDeAPXRJRRjoDdDuJBsCNhjokpZQKNAj4sqIOB4RJyLipkWWvz8ijkXEAxHx9Yh4ZfWlrl+z7bR/LmmggSkREWPArcBVwF7guojYu2DY/cBUZr4e+DLwt1UXup61Ox2PcJE0UJFp3xXAicx8NDNngNuA/fMHZOadmfl87+k9wM5qy1zfWp10h6ikgYoE+iXAyXnPT/Ve6+cG4GuLLYiIAxFxNCKOnj59uniV61yrne4QlTRQpY3ZiLgemAI+ttjyzDyYmVOZObVjx44qf/RI687Q7aFLWtp4gTGPAbvmPd/Ze+3/iYi3AR8C3pKZ09WUJ+j20CfsoUsaoMi0715gT0RcGhEbgWuBQ/MHRMTlwKeBazLzyerLXN/soUsqYmCgZ2YLuBG4A3gYuD0zH4qIWyLimt6wjwFbgS9FxHci4lCft9MK2EOXVESRlguZeRg4vOC1m+c9flvFdWmedicZ936ikgYwJRqg1ek4Q5c0kIHeAK22PXRJgxnoDdCy5SKpAFOiAdodd4pKGsxAb4DZdseWi6SBDPQGcIYuqQgDvQHsoUsqwpRoAGfokoow0BvAHrqkIgz0BnCGLqkIA70BZtsdNo77UUlaminRALPtZMKdopIGMCUaYKbt9dAlDWagN8Bsu+MMXdJApkQDtGy5SCrAlGiAGWfokgowJWouM7tHudhDlzSAgV5z7U6SiTN0SQOZEjU3204AJjwOXdIApkTNzbQ7AJ4pKmkgA73mZnuB7pmikgYxJWpuLtDtoUsaxJSoudlWt4duy0XSIAZ6zb0w2wZgy8bxIVciqe4M9Jp7bqYFwJZNY0OuRFLdGeg198JMb4Y+YaBLWpqBXnPPTXdn6OdtsuUiaWkGes39sofuDF3S0gz0mntu2p2ikoox0GvuF2dnAdi62UCXtDQDveZ+cuYsWzeNs9UeuqQBCgV6RFwZEccj4kRE3LTI8k0R8cXe8m9FxGTlla5TP3nmLL9y4eZhlyGpAQYGekSMAbcCVwF7gesiYu+CYTcAT2fmq4G/Bz5adaHrUWby0ONnmNx23rBLkdQARf6OvwI4kZmPAkTEbcB+4Ni8MfuBD/cefxn4x4iIzMx+b3r8+HH27du37ILvve+/mG51uPjVvw59333JRf3HDvymXOTR0j98OXUs/J7MpN1Jfr5jK/v+ddMK3knSelIk0C8BTs57fgp4Y78xmdmKiGeAbcDP5g+KiAPAAYBNm1YWUBHBWARbJnqlL3GJk+Vc/SRe9GAZ37PYN/V5n6JvPzdu88QYO843zCUNtqZ72jLzIHAQYGpqKo8cObLs95ib1a/keyWp6SL6TwuL7BR9DNg17/nO3muLjomIceBC4OfLqlKSVEqRQL8X2BMRl0bERuBa4NCCMYeAP+k9/kPgG0v1zyVJ1RvYcun1xG8E7gDGgM9k5kMRcQtwNDMPAf8CfC4iTgBP0Q19SdIaKtRDz8zDwOEFr9087/FZ4I+qLU2StByeKSpJI8JAl6QRYaBL0ogw0CVpRMSwji6MiNPAj1b47dtZcBbqOuA6rw+u8/pQZp1fmZk7FlswtEAvIyKOZubUsOtYS67z+uA6rw+rtc62XCRpRBjokjQimhroB4ddwBC4zuuD67w+rMo6N7KHLkl6sabO0CVJCxjokjQiah3o6/Hm1AXW+f0RcSwiHoiIr0fEK4dRZ5UGrfO8cW+PiIyIxh/iVmSdI+Idvc/6oYj4/FrXWLUC2/buiLgzIu7vbd9XD6POqkTEZyLiyYh4sM/yiIhP9P49HoiIN5T+oZlZyy+6l+p9BHgVsBH4LrB3wZg/Az7Ve3wt8MVh170G6/w7wJbe4/euh3XujTsfuAu4B5gadt1r8DnvAe4HLu49f9mw616DdT4IvLf3eC/ww2HXXXKdfxt4A/Bgn+VXA1+je8fJNwHfKvsz6zxDP3dz6sycAeZuTj3ffuDfeo+/DLw1lro/U/0NXOfMvDMzn+89vYfuHaSarMjnDPAR4KPA2bUsbpUUWed3A7dm5tMAmfnkGtdYtSLrnMAFvccXAo+vYX2Vy8y76N4fop/9wL9n1z3ARRHxijI/s86BvtjNqS/pNyYzW8Dczambqsg6z3cD3f/DN9nAde79KborM7+6loWtoiKf82XAZRFxd0TcExFXrll1q6PIOn8YuD4iTtG9/8L71qa0oVnu7/tAa3qTaFUnIq4HpoC3DLuW1RQRG4CPA+8acilrbZxu22Uf3b/C7oqIX83M/x1mUavsOuCzmfl3EfGbdO+C9rrM7Ay7sKao8wx9Pd6cusg6ExFvAz4EXJOZ02tU22oZtM7nA68DjkTED+n2Gg81fMdokc/5FHAoM2cz8wfA9+kGfFMVWecbgNsBMvObwGa6F7EaVYV+35ejzoG+Hm9OPXCdI+Jy4NN0w7zpfVUYsM6Z+Uxmbs/MycycpLvf4JrMPDqccitRZNv+Ct3ZORGxnW4L5tE1rLFqRdb5x8BbASLitXQD/fSaVrm2DgHv7B3t8ibgmcx8otQ7DntP8IC9xFfTnZk8Anyo99otdH+hofuBfwk4AXwbeNWwa16Ddf4P4KfAd3pfh4Zd82qv84KxR2j4US4FP+eg22o6BnwPuHbYNa/BOu8F7qZ7BMx3gN8bds0l1/cLwBPALN2/uG4A3gO8Z95nfGvv3+N7VWzXnvovSSOizi0XSdIyGOiSNCIMdEkaEQa6JI0IA12SRoSBLkkjwkCXpBHxf/1pdzxWZtqyAAAAAElFTkSuQmCC\n",
          "text/plain": "<Figure size 432x288 with 1 Axes>"
         },
         "metadata": {
          "needs_background": "light"
         },
         "output_type": "display_data"
        }
       ]
      }
     },
     "763a4acd266d43898fcbacf18641681d": {
      "model_module": "@jupyter-widgets/base",
      "model_module_version": "1.2.0",
      "model_name": "LayoutModel",
      "state": {
       "_model_module": "@jupyter-widgets/base",
       "_model_module_version": "1.2.0",
       "_model_name": "LayoutModel",
       "_view_count": null,
       "_view_module": "@jupyter-widgets/base",
       "_view_module_version": "1.2.0",
       "_view_name": "LayoutView",
       "align_content": null,
       "align_items": null,
       "align_self": null,
       "border": null,
       "bottom": null,
       "display": null,
       "flex": null,
       "flex_flow": null,
       "grid_area": null,
       "grid_auto_columns": null,
       "grid_auto_flow": null,
       "grid_auto_rows": null,
       "grid_column": null,
       "grid_gap": null,
       "grid_row": null,
       "grid_template_areas": null,
       "grid_template_columns": null,
       "grid_template_rows": null,
       "height": null,
       "justify_content": null,
       "justify_items": null,
       "left": null,
       "margin": null,
       "max_height": null,
       "max_width": null,
       "min_height": null,
       "min_width": null,
       "object_fit": null,
       "object_position": null,
       "order": null,
       "overflow": null,
       "overflow_x": null,
       "overflow_y": null,
       "padding": null,
       "right": null,
       "top": null,
       "visibility": null,
       "width": null
      }
     },
     "797ad8fa533a4ae88121cef08ede9502": {
      "model_module": "@jupyter-widgets/controls",
      "model_module_version": "1.5.0",
      "model_name": "SliderStyleModel",
      "state": {
       "_model_module": "@jupyter-widgets/controls",
       "_model_module_version": "1.5.0",
       "_model_name": "SliderStyleModel",
       "_view_count": null,
       "_view_module": "@jupyter-widgets/base",
       "_view_module_version": "1.2.0",
       "_view_name": "StyleView",
       "description_width": "",
       "handle_color": null
      }
     },
     "7a7c65da924a4cd9805565081cc1a25c": {
      "model_module": "@jupyter-widgets/controls",
      "model_module_version": "1.5.0",
      "model_name": "SliderStyleModel",
      "state": {
       "_model_module": "@jupyter-widgets/controls",
       "_model_module_version": "1.5.0",
       "_model_name": "SliderStyleModel",
       "_view_count": null,
       "_view_module": "@jupyter-widgets/base",
       "_view_module_version": "1.2.0",
       "_view_name": "StyleView",
       "description_width": "",
       "handle_color": null
      }
     },
     "7ac67956c4874f389971bf704a20868d": {
      "model_module": "@jupyter-widgets/controls",
      "model_module_version": "1.5.0",
      "model_name": "FloatSliderModel",
      "state": {
       "_dom_classes": [],
       "_model_module": "@jupyter-widgets/controls",
       "_model_module_version": "1.5.0",
       "_model_name": "FloatSliderModel",
       "_view_count": null,
       "_view_module": "@jupyter-widgets/controls",
       "_view_module_version": "1.5.0",
       "_view_name": "FloatSliderView",
       "continuous_update": true,
       "description": "s11",
       "description_tooltip": null,
       "disabled": false,
       "layout": "IPY_MODEL_b71430a1b3144d86a8b3c423ac93b71d",
       "max": 1.0,
       "min": 0.0,
       "orientation": "horizontal",
       "readout": true,
       "readout_format": ".2f",
       "step": 0.1,
       "style": "IPY_MODEL_908e8e13cf4d427c951116465c533416",
       "value": 0.2
      }
     },
     "83a2854f3f544e859e080ab32d8971dd": {
      "model_module": "@jupyter-widgets/controls",
      "model_module_version": "1.5.0",
      "model_name": "FloatSliderModel",
      "state": {
       "_dom_classes": [],
       "_model_module": "@jupyter-widgets/controls",
       "_model_module_version": "1.5.0",
       "_model_name": "FloatSliderModel",
       "_view_count": null,
       "_view_module": "@jupyter-widgets/controls",
       "_view_module_version": "1.5.0",
       "_view_name": "FloatSliderView",
       "continuous_update": true,
       "description": "b",
       "description_tooltip": null,
       "disabled": false,
       "layout": "IPY_MODEL_49c2662dd63845eeb3fd795ab1d1a35b",
       "max": 100.0,
       "min": -100.0,
       "orientation": "horizontal",
       "readout": true,
       "readout_format": ".2f",
       "step": 1.0,
       "style": "IPY_MODEL_c934c379b6ee4cda8b6f47e231015a35",
       "value": -4.0
      }
     },
     "908e8e13cf4d427c951116465c533416": {
      "model_module": "@jupyter-widgets/controls",
      "model_module_version": "1.5.0",
      "model_name": "SliderStyleModel",
      "state": {
       "_model_module": "@jupyter-widgets/controls",
       "_model_module_version": "1.5.0",
       "_model_name": "SliderStyleModel",
       "_view_count": null,
       "_view_module": "@jupyter-widgets/base",
       "_view_module_version": "1.2.0",
       "_view_name": "StyleView",
       "description_width": "",
       "handle_color": null
      }
     },
     "963c572f2c6d47ddb7ac774243ee1352": {
      "model_module": "@jupyter-widgets/controls",
      "model_module_version": "1.5.0",
      "model_name": "VBoxModel",
      "state": {
       "_dom_classes": [
        "widget-interact"
       ],
       "_model_module": "@jupyter-widgets/controls",
       "_model_module_version": "1.5.0",
       "_model_name": "VBoxModel",
       "_view_count": null,
       "_view_module": "@jupyter-widgets/controls",
       "_view_module_version": "1.5.0",
       "_view_name": "VBoxView",
       "box_style": "",
       "children": [
        "IPY_MODEL_c85ccd0f435a4eb5a9fe39cd078d8f79",
        "IPY_MODEL_59444e95d75b485187bc05a778cebf2a"
       ],
       "layout": "IPY_MODEL_2be1907d80c94cfb96bd64377be2f088"
      }
     },
     "96a9b1c9078b41a7b0769171c8dcfed5": {
      "model_module": "@jupyter-widgets/controls",
      "model_module_version": "1.5.0",
      "model_name": "SliderStyleModel",
      "state": {
       "_model_module": "@jupyter-widgets/controls",
       "_model_module_version": "1.5.0",
       "_model_name": "SliderStyleModel",
       "_view_count": null,
       "_view_module": "@jupyter-widgets/base",
       "_view_module_version": "1.2.0",
       "_view_name": "StyleView",
       "description_width": "",
       "handle_color": null
      }
     },
     "99e66b9a07e64c8896aaed0983ab1cbe": {
      "model_module": "@jupyter-widgets/controls",
      "model_module_version": "1.5.0",
      "model_name": "SliderStyleModel",
      "state": {
       "_model_module": "@jupyter-widgets/controls",
       "_model_module_version": "1.5.0",
       "_model_name": "SliderStyleModel",
       "_view_count": null,
       "_view_module": "@jupyter-widgets/base",
       "_view_module_version": "1.2.0",
       "_view_name": "StyleView",
       "description_width": "",
       "handle_color": null
      }
     },
     "9d8f87379565454298aa955e164f77eb": {
      "model_module": "@jupyter-widgets/base",
      "model_module_version": "1.2.0",
      "model_name": "LayoutModel",
      "state": {
       "_model_module": "@jupyter-widgets/base",
       "_model_module_version": "1.2.0",
       "_model_name": "LayoutModel",
       "_view_count": null,
       "_view_module": "@jupyter-widgets/base",
       "_view_module_version": "1.2.0",
       "_view_name": "LayoutView",
       "align_content": null,
       "align_items": null,
       "align_self": null,
       "border": null,
       "bottom": null,
       "display": null,
       "flex": null,
       "flex_flow": null,
       "grid_area": null,
       "grid_auto_columns": null,
       "grid_auto_flow": null,
       "grid_auto_rows": null,
       "grid_column": null,
       "grid_gap": null,
       "grid_row": null,
       "grid_template_areas": null,
       "grid_template_columns": null,
       "grid_template_rows": null,
       "height": null,
       "justify_content": null,
       "justify_items": null,
       "left": null,
       "margin": null,
       "max_height": null,
       "max_width": null,
       "min_height": null,
       "min_width": null,
       "object_fit": null,
       "object_position": null,
       "order": null,
       "overflow": null,
       "overflow_x": null,
       "overflow_y": null,
       "padding": null,
       "right": null,
       "top": null,
       "visibility": null,
       "width": null
      }
     },
     "a17693e1878e400db405e5a0c597fabb": {
      "model_module": "@jupyter-widgets/controls",
      "model_module_version": "1.5.0",
      "model_name": "FloatSliderModel",
      "state": {
       "_dom_classes": [],
       "_model_module": "@jupyter-widgets/controls",
       "_model_module_version": "1.5.0",
       "_model_name": "FloatSliderModel",
       "_view_count": null,
       "_view_module": "@jupyter-widgets/controls",
       "_view_module_version": "1.5.0",
       "_view_name": "FloatSliderView",
       "continuous_update": true,
       "description": "h2",
       "description_tooltip": null,
       "disabled": false,
       "layout": "IPY_MODEL_d2592d2a9bf9438f9a24af8f82ea36a6",
       "max": 2.0,
       "min": -2.0,
       "orientation": "horizontal",
       "readout": true,
       "readout_format": ".2f",
       "step": 0.1,
       "style": "IPY_MODEL_b33974e0e51743adb97869adf0156615",
       "value": -0.4
      }
     },
     "a29d75c2fb3a413083b5494b7a0962d0": {
      "model_module": "@jupyter-widgets/controls",
      "model_module_version": "1.5.0",
      "model_name": "SliderStyleModel",
      "state": {
       "_model_module": "@jupyter-widgets/controls",
       "_model_module_version": "1.5.0",
       "_model_name": "SliderStyleModel",
       "_view_count": null,
       "_view_module": "@jupyter-widgets/base",
       "_view_module_version": "1.2.0",
       "_view_name": "StyleView",
       "description_width": "",
       "handle_color": null
      }
     },
     "a2a65d8486764d658ffe4e5a5027075c": {
      "model_module": "@jupyter-widgets/controls",
      "model_module_version": "1.5.0",
      "model_name": "IntSliderModel",
      "state": {
       "_dom_classes": [],
       "_model_module": "@jupyter-widgets/controls",
       "_model_module_version": "1.5.0",
       "_model_name": "IntSliderModel",
       "_view_count": null,
       "_view_module": "@jupyter-widgets/controls",
       "_view_module_version": "1.5.0",
       "_view_name": "IntSliderView",
       "continuous_update": true,
       "description": "i",
       "description_tooltip": null,
       "disabled": false,
       "layout": "IPY_MODEL_66160ee2bc1341689090f4308d4b99b9",
       "max": 3,
       "min": 0,
       "orientation": "horizontal",
       "readout": true,
       "readout_format": "d",
       "step": 1,
       "style": "IPY_MODEL_7a7c65da924a4cd9805565081cc1a25c",
       "value": 3
      }
     },
     "ac5f19208bb84c8db19e6fcabc38fc40": {
      "model_module": "@jupyter-widgets/base",
      "model_module_version": "1.2.0",
      "model_name": "LayoutModel",
      "state": {
       "_model_module": "@jupyter-widgets/base",
       "_model_module_version": "1.2.0",
       "_model_name": "LayoutModel",
       "_view_count": null,
       "_view_module": "@jupyter-widgets/base",
       "_view_module_version": "1.2.0",
       "_view_name": "LayoutView",
       "align_content": null,
       "align_items": null,
       "align_self": null,
       "border": null,
       "bottom": null,
       "display": null,
       "flex": null,
       "flex_flow": null,
       "grid_area": null,
       "grid_auto_columns": null,
       "grid_auto_flow": null,
       "grid_auto_rows": null,
       "grid_column": null,
       "grid_gap": null,
       "grid_row": null,
       "grid_template_areas": null,
       "grid_template_columns": null,
       "grid_template_rows": null,
       "height": null,
       "justify_content": null,
       "justify_items": null,
       "left": null,
       "margin": null,
       "max_height": null,
       "max_width": null,
       "min_height": null,
       "min_width": null,
       "object_fit": null,
       "object_position": null,
       "order": null,
       "overflow": null,
       "overflow_x": null,
       "overflow_y": null,
       "padding": null,
       "right": null,
       "top": null,
       "visibility": null,
       "width": null
      }
     },
     "afbc6c53bf7c492488bbc72c5db36f5b": {
      "model_module": "@jupyter-widgets/base",
      "model_module_version": "1.2.0",
      "model_name": "LayoutModel",
      "state": {
       "_model_module": "@jupyter-widgets/base",
       "_model_module_version": "1.2.0",
       "_model_name": "LayoutModel",
       "_view_count": null,
       "_view_module": "@jupyter-widgets/base",
       "_view_module_version": "1.2.0",
       "_view_name": "LayoutView",
       "align_content": null,
       "align_items": null,
       "align_self": null,
       "border": null,
       "bottom": null,
       "display": null,
       "flex": null,
       "flex_flow": null,
       "grid_area": null,
       "grid_auto_columns": null,
       "grid_auto_flow": null,
       "grid_auto_rows": null,
       "grid_column": null,
       "grid_gap": null,
       "grid_row": null,
       "grid_template_areas": null,
       "grid_template_columns": null,
       "grid_template_rows": null,
       "height": null,
       "justify_content": null,
       "justify_items": null,
       "left": null,
       "margin": null,
       "max_height": null,
       "max_width": null,
       "min_height": null,
       "min_width": null,
       "object_fit": null,
       "object_position": null,
       "order": null,
       "overflow": null,
       "overflow_x": null,
       "overflow_y": null,
       "padding": null,
       "right": null,
       "top": null,
       "visibility": null,
       "width": null
      }
     },
     "b189d87609da4a7fa1b3d86a3a1f03a2": {
      "model_module": "@jupyter-widgets/controls",
      "model_module_version": "1.5.0",
      "model_name": "FloatSliderModel",
      "state": {
       "_dom_classes": [],
       "_model_module": "@jupyter-widgets/controls",
       "_model_module_version": "1.5.0",
       "_model_name": "FloatSliderModel",
       "_view_count": null,
       "_view_module": "@jupyter-widgets/controls",
       "_view_module_version": "1.5.0",
       "_view_name": "FloatSliderView",
       "continuous_update": true,
       "description": "s2",
       "description_tooltip": null,
       "disabled": false,
       "layout": "IPY_MODEL_f7d1d9cbd5f540338439439b2229c1f2",
       "max": 1.0,
       "min": 0.0,
       "orientation": "horizontal",
       "readout": true,
       "readout_format": ".2f",
       "step": 0.1,
       "style": "IPY_MODEL_677ea5c5a5fc43418d0e28a2c5e343b3",
       "value": 0.6
      }
     },
     "b29a00838ff9454fb32ac9d0d18226ad": {
      "model_module": "@jupyter-widgets/controls",
      "model_module_version": "1.5.0",
      "model_name": "SliderStyleModel",
      "state": {
       "_model_module": "@jupyter-widgets/controls",
       "_model_module_version": "1.5.0",
       "_model_name": "SliderStyleModel",
       "_view_count": null,
       "_view_module": "@jupyter-widgets/base",
       "_view_module_version": "1.2.0",
       "_view_name": "StyleView",
       "description_width": "",
       "handle_color": null
      }
     },
     "b3393514baee47d6ad02dfa029d66b96": {
      "model_module": "@jupyter-widgets/base",
      "model_module_version": "1.2.0",
      "model_name": "LayoutModel",
      "state": {
       "_model_module": "@jupyter-widgets/base",
       "_model_module_version": "1.2.0",
       "_model_name": "LayoutModel",
       "_view_count": null,
       "_view_module": "@jupyter-widgets/base",
       "_view_module_version": "1.2.0",
       "_view_name": "LayoutView",
       "align_content": null,
       "align_items": null,
       "align_self": null,
       "border": null,
       "bottom": null,
       "display": null,
       "flex": null,
       "flex_flow": null,
       "grid_area": null,
       "grid_auto_columns": null,
       "grid_auto_flow": null,
       "grid_auto_rows": null,
       "grid_column": null,
       "grid_gap": null,
       "grid_row": null,
       "grid_template_areas": null,
       "grid_template_columns": null,
       "grid_template_rows": null,
       "height": null,
       "justify_content": null,
       "justify_items": null,
       "left": null,
       "margin": null,
       "max_height": null,
       "max_width": null,
       "min_height": null,
       "min_width": null,
       "object_fit": null,
       "object_position": null,
       "order": null,
       "overflow": null,
       "overflow_x": null,
       "overflow_y": null,
       "padding": null,
       "right": null,
       "top": null,
       "visibility": null,
       "width": null
      }
     },
     "b33974e0e51743adb97869adf0156615": {
      "model_module": "@jupyter-widgets/controls",
      "model_module_version": "1.5.0",
      "model_name": "SliderStyleModel",
      "state": {
       "_model_module": "@jupyter-widgets/controls",
       "_model_module_version": "1.5.0",
       "_model_name": "SliderStyleModel",
       "_view_count": null,
       "_view_module": "@jupyter-widgets/base",
       "_view_module_version": "1.2.0",
       "_view_name": "StyleView",
       "description_width": "",
       "handle_color": null
      }
     },
     "b41388cf837f4dc39cb8df08c55c0ca4": {
      "model_module": "@jupyter-widgets/controls",
      "model_module_version": "1.5.0",
      "model_name": "SliderStyleModel",
      "state": {
       "_model_module": "@jupyter-widgets/controls",
       "_model_module_version": "1.5.0",
       "_model_name": "SliderStyleModel",
       "_view_count": null,
       "_view_module": "@jupyter-widgets/base",
       "_view_module_version": "1.2.0",
       "_view_name": "StyleView",
       "description_width": "",
       "handle_color": null
      }
     },
     "b71430a1b3144d86a8b3c423ac93b71d": {
      "model_module": "@jupyter-widgets/base",
      "model_module_version": "1.2.0",
      "model_name": "LayoutModel",
      "state": {
       "_model_module": "@jupyter-widgets/base",
       "_model_module_version": "1.2.0",
       "_model_name": "LayoutModel",
       "_view_count": null,
       "_view_module": "@jupyter-widgets/base",
       "_view_module_version": "1.2.0",
       "_view_name": "LayoutView",
       "align_content": null,
       "align_items": null,
       "align_self": null,
       "border": null,
       "bottom": null,
       "display": null,
       "flex": null,
       "flex_flow": null,
       "grid_area": null,
       "grid_auto_columns": null,
       "grid_auto_flow": null,
       "grid_auto_rows": null,
       "grid_column": null,
       "grid_gap": null,
       "grid_row": null,
       "grid_template_areas": null,
       "grid_template_columns": null,
       "grid_template_rows": null,
       "height": null,
       "justify_content": null,
       "justify_items": null,
       "left": null,
       "margin": null,
       "max_height": null,
       "max_width": null,
       "min_height": null,
       "min_width": null,
       "object_fit": null,
       "object_position": null,
       "order": null,
       "overflow": null,
       "overflow_x": null,
       "overflow_y": null,
       "padding": null,
       "right": null,
       "top": null,
       "visibility": null,
       "width": null
      }
     },
     "b7dd0beaeb3649d6b83a5cc607e621bc": {
      "model_module": "@jupyter-widgets/controls",
      "model_module_version": "1.5.0",
      "model_name": "VBoxModel",
      "state": {
       "_dom_classes": [
        "widget-interact"
       ],
       "_model_module": "@jupyter-widgets/controls",
       "_model_module_version": "1.5.0",
       "_model_name": "VBoxModel",
       "_view_count": null,
       "_view_module": "@jupyter-widgets/controls",
       "_view_module_version": "1.5.0",
       "_view_name": "VBoxView",
       "box_style": "",
       "children": [
        "IPY_MODEL_a2a65d8486764d658ffe4e5a5027075c",
        "IPY_MODEL_3f9ae44c1fc747069fa05c5a70ece49d"
       ],
       "layout": "IPY_MODEL_53ba6267b5c842e693e44af8afc28f1b"
      }
     },
     "c597dec03f0d49749c6903654494b6e1": {
      "model_module": "@jupyter-widgets/base",
      "model_module_version": "1.2.0",
      "model_name": "LayoutModel",
      "state": {
       "_model_module": "@jupyter-widgets/base",
       "_model_module_version": "1.2.0",
       "_model_name": "LayoutModel",
       "_view_count": null,
       "_view_module": "@jupyter-widgets/base",
       "_view_module_version": "1.2.0",
       "_view_name": "LayoutView",
       "align_content": null,
       "align_items": null,
       "align_self": null,
       "border": null,
       "bottom": null,
       "display": null,
       "flex": null,
       "flex_flow": null,
       "grid_area": null,
       "grid_auto_columns": null,
       "grid_auto_flow": null,
       "grid_auto_rows": null,
       "grid_column": null,
       "grid_gap": null,
       "grid_row": null,
       "grid_template_areas": null,
       "grid_template_columns": null,
       "grid_template_rows": null,
       "height": null,
       "justify_content": null,
       "justify_items": null,
       "left": null,
       "margin": null,
       "max_height": null,
       "max_width": null,
       "min_height": null,
       "min_width": null,
       "object_fit": null,
       "object_position": null,
       "order": null,
       "overflow": null,
       "overflow_x": null,
       "overflow_y": null,
       "padding": null,
       "right": null,
       "top": null,
       "visibility": null,
       "width": null
      }
     },
     "c6dcd582305245198d635605cbd385ce": {
      "model_module": "@jupyter-widgets/controls",
      "model_module_version": "1.5.0",
      "model_name": "SliderStyleModel",
      "state": {
       "_model_module": "@jupyter-widgets/controls",
       "_model_module_version": "1.5.0",
       "_model_name": "SliderStyleModel",
       "_view_count": null,
       "_view_module": "@jupyter-widgets/base",
       "_view_module_version": "1.2.0",
       "_view_name": "StyleView",
       "description_width": "",
       "handle_color": null
      }
     },
     "c85ccd0f435a4eb5a9fe39cd078d8f79": {
      "model_module": "@jupyter-widgets/controls",
      "model_module_version": "1.5.0",
      "model_name": "IntSliderModel",
      "state": {
       "_dom_classes": [],
       "_model_module": "@jupyter-widgets/controls",
       "_model_module_version": "1.5.0",
       "_model_name": "IntSliderModel",
       "_view_count": null,
       "_view_module": "@jupyter-widgets/controls",
       "_view_module_version": "1.5.0",
       "_view_name": "IntSliderView",
       "continuous_update": true,
       "description": "i",
       "description_tooltip": null,
       "disabled": false,
       "layout": "IPY_MODEL_afbc6c53bf7c492488bbc72c5db36f5b",
       "max": 5,
       "min": 0,
       "orientation": "horizontal",
       "readout": true,
       "readout_format": "d",
       "step": 1,
       "style": "IPY_MODEL_b29a00838ff9454fb32ac9d0d18226ad",
       "value": 5
      }
     },
     "c934c379b6ee4cda8b6f47e231015a35": {
      "model_module": "@jupyter-widgets/controls",
      "model_module_version": "1.5.0",
      "model_name": "SliderStyleModel",
      "state": {
       "_model_module": "@jupyter-widgets/controls",
       "_model_module_version": "1.5.0",
       "_model_name": "SliderStyleModel",
       "_view_count": null,
       "_view_module": "@jupyter-widgets/base",
       "_view_module_version": "1.2.0",
       "_view_name": "StyleView",
       "description_width": "",
       "handle_color": null
      }
     },
     "d2592d2a9bf9438f9a24af8f82ea36a6": {
      "model_module": "@jupyter-widgets/base",
      "model_module_version": "1.2.0",
      "model_name": "LayoutModel",
      "state": {
       "_model_module": "@jupyter-widgets/base",
       "_model_module_version": "1.2.0",
       "_model_name": "LayoutModel",
       "_view_count": null,
       "_view_module": "@jupyter-widgets/base",
       "_view_module_version": "1.2.0",
       "_view_name": "LayoutView",
       "align_content": null,
       "align_items": null,
       "align_self": null,
       "border": null,
       "bottom": null,
       "display": null,
       "flex": null,
       "flex_flow": null,
       "grid_area": null,
       "grid_auto_columns": null,
       "grid_auto_flow": null,
       "grid_auto_rows": null,
       "grid_column": null,
       "grid_gap": null,
       "grid_row": null,
       "grid_template_areas": null,
       "grid_template_columns": null,
       "grid_template_rows": null,
       "height": null,
       "justify_content": null,
       "justify_items": null,
       "left": null,
       "margin": null,
       "max_height": null,
       "max_width": null,
       "min_height": null,
       "min_width": null,
       "object_fit": null,
       "object_position": null,
       "order": null,
       "overflow": null,
       "overflow_x": null,
       "overflow_y": null,
       "padding": null,
       "right": null,
       "top": null,
       "visibility": null,
       "width": null
      }
     },
     "d5e91f74d3e04920afe60d4977c1cf7e": {
      "model_module": "@jupyter-widgets/controls",
      "model_module_version": "1.5.0",
      "model_name": "FloatSliderModel",
      "state": {
       "_dom_classes": [],
       "_model_module": "@jupyter-widgets/controls",
       "_model_module_version": "1.5.0",
       "_model_name": "FloatSliderModel",
       "_view_count": null,
       "_view_module": "@jupyter-widgets/controls",
       "_view_module_version": "1.5.0",
       "_view_name": "FloatSliderView",
       "continuous_update": true,
       "description": "s12",
       "description_tooltip": null,
       "disabled": false,
       "layout": "IPY_MODEL_09fc8e62dcbc4bd2be92e480cf823ae6",
       "max": 1.0,
       "min": 0.0,
       "orientation": "horizontal",
       "readout": true,
       "readout_format": ".2f",
       "step": 0.1,
       "style": "IPY_MODEL_b41388cf837f4dc39cb8df08c55c0ca4",
       "value": 0.3
      }
     },
     "d616712e034e4f00ac6e9496543b4162": {
      "model_module": "@jupyter-widgets/base",
      "model_module_version": "1.2.0",
      "model_name": "LayoutModel",
      "state": {
       "_model_module": "@jupyter-widgets/base",
       "_model_module_version": "1.2.0",
       "_model_name": "LayoutModel",
       "_view_count": null,
       "_view_module": "@jupyter-widgets/base",
       "_view_module_version": "1.2.0",
       "_view_name": "LayoutView",
       "align_content": null,
       "align_items": null,
       "align_self": null,
       "border": null,
       "bottom": null,
       "display": null,
       "flex": null,
       "flex_flow": null,
       "grid_area": null,
       "grid_auto_columns": null,
       "grid_auto_flow": null,
       "grid_auto_rows": null,
       "grid_column": null,
       "grid_gap": null,
       "grid_row": null,
       "grid_template_areas": null,
       "grid_template_columns": null,
       "grid_template_rows": null,
       "height": null,
       "justify_content": null,
       "justify_items": null,
       "left": null,
       "margin": null,
       "max_height": null,
       "max_width": null,
       "min_height": null,
       "min_width": null,
       "object_fit": null,
       "object_position": null,
       "order": null,
       "overflow": null,
       "overflow_x": null,
       "overflow_y": null,
       "padding": null,
       "right": null,
       "top": null,
       "visibility": null,
       "width": null
      }
     },
     "d73bc018e04d4a95811592a70bd70dff": {
      "model_module": "@jupyter-widgets/output",
      "model_module_version": "1.0.0",
      "model_name": "OutputModel",
      "state": {
       "_dom_classes": [],
       "_model_module": "@jupyter-widgets/output",
       "_model_module_version": "1.0.0",
       "_model_name": "OutputModel",
       "_view_count": null,
       "_view_module": "@jupyter-widgets/output",
       "_view_module_version": "1.0.0",
       "_view_name": "OutputView",
       "layout": "IPY_MODEL_e5861d3695bf4da59935c970361c3f80",
       "msg_id": "",
       "outputs": [
        {
         "data": {
          "image/png": "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\n",
          "text/plain": "<Figure size 432x288 with 1 Axes>"
         },
         "metadata": {
          "needs_background": "light"
         },
         "output_type": "display_data"
        }
       ]
      }
     },
     "d8906b87ddc947d4b4ea7bb29d3ebc56": {
      "model_module": "@jupyter-widgets/controls",
      "model_module_version": "1.5.0",
      "model_name": "SliderStyleModel",
      "state": {
       "_model_module": "@jupyter-widgets/controls",
       "_model_module_version": "1.5.0",
       "_model_name": "SliderStyleModel",
       "_view_count": null,
       "_view_module": "@jupyter-widgets/base",
       "_view_module_version": "1.2.0",
       "_view_name": "StyleView",
       "description_width": "",
       "handle_color": null
      }
     },
     "e5861d3695bf4da59935c970361c3f80": {
      "model_module": "@jupyter-widgets/base",
      "model_module_version": "1.2.0",
      "model_name": "LayoutModel",
      "state": {
       "_model_module": "@jupyter-widgets/base",
       "_model_module_version": "1.2.0",
       "_model_name": "LayoutModel",
       "_view_count": null,
       "_view_module": "@jupyter-widgets/base",
       "_view_module_version": "1.2.0",
       "_view_name": "LayoutView",
       "align_content": null,
       "align_items": null,
       "align_self": null,
       "border": null,
       "bottom": null,
       "display": null,
       "flex": null,
       "flex_flow": null,
       "grid_area": null,
       "grid_auto_columns": null,
       "grid_auto_flow": null,
       "grid_auto_rows": null,
       "grid_column": null,
       "grid_gap": null,
       "grid_row": null,
       "grid_template_areas": null,
       "grid_template_columns": null,
       "grid_template_rows": null,
       "height": null,
       "justify_content": null,
       "justify_items": null,
       "left": null,
       "margin": null,
       "max_height": null,
       "max_width": null,
       "min_height": null,
       "min_width": null,
       "object_fit": null,
       "object_position": null,
       "order": null,
       "overflow": null,
       "overflow_x": null,
       "overflow_y": null,
       "padding": null,
       "right": null,
       "top": null,
       "visibility": null,
       "width": null
      }
     },
     "ea6fb991c3074647906604e32fb765bd": {
      "model_module": "@jupyter-widgets/base",
      "model_module_version": "1.2.0",
      "model_name": "LayoutModel",
      "state": {
       "_model_module": "@jupyter-widgets/base",
       "_model_module_version": "1.2.0",
       "_model_name": "LayoutModel",
       "_view_count": null,
       "_view_module": "@jupyter-widgets/base",
       "_view_module_version": "1.2.0",
       "_view_name": "LayoutView",
       "align_content": null,
       "align_items": null,
       "align_self": null,
       "border": null,
       "bottom": null,
       "display": null,
       "flex": null,
       "flex_flow": null,
       "grid_area": null,
       "grid_auto_columns": null,
       "grid_auto_flow": null,
       "grid_auto_rows": null,
       "grid_column": null,
       "grid_gap": null,
       "grid_row": null,
       "grid_template_areas": null,
       "grid_template_columns": null,
       "grid_template_rows": null,
       "height": null,
       "justify_content": null,
       "justify_items": null,
       "left": null,
       "margin": null,
       "max_height": null,
       "max_width": null,
       "min_height": null,
       "min_width": null,
       "object_fit": null,
       "object_position": null,
       "order": null,
       "overflow": null,
       "overflow_x": null,
       "overflow_y": null,
       "padding": null,
       "right": null,
       "top": null,
       "visibility": null,
       "width": null
      }
     },
     "ee65d2daa5a6462688c1a0f0b57a48e0": {
      "model_module": "@jupyter-widgets/controls",
      "model_module_version": "1.5.0",
      "model_name": "VBoxModel",
      "state": {
       "_dom_classes": [
        "widget-interact"
       ],
       "_model_module": "@jupyter-widgets/controls",
       "_model_module_version": "1.5.0",
       "_model_name": "VBoxModel",
       "_view_count": null,
       "_view_module": "@jupyter-widgets/controls",
       "_view_module_version": "1.5.0",
       "_view_name": "VBoxView",
       "box_style": "",
       "children": [
        "IPY_MODEL_611ed2aca1974b919d51c7b9f28d96a4",
        "IPY_MODEL_83a2854f3f544e859e080ab32d8971dd",
        "IPY_MODEL_f3b915255cf7417b8185a1db1dab5131"
       ],
       "layout": "IPY_MODEL_763a4acd266d43898fcbacf18641681d"
      }
     },
     "f31333778b624ebba4ea9e56dbc50856": {
      "model_module": "@jupyter-widgets/base",
      "model_module_version": "1.2.0",
      "model_name": "LayoutModel",
      "state": {
       "_model_module": "@jupyter-widgets/base",
       "_model_module_version": "1.2.0",
       "_model_name": "LayoutModel",
       "_view_count": null,
       "_view_module": "@jupyter-widgets/base",
       "_view_module_version": "1.2.0",
       "_view_name": "LayoutView",
       "align_content": null,
       "align_items": null,
       "align_self": null,
       "border": null,
       "bottom": null,
       "display": null,
       "flex": null,
       "flex_flow": null,
       "grid_area": null,
       "grid_auto_columns": null,
       "grid_auto_flow": null,
       "grid_auto_rows": null,
       "grid_column": null,
       "grid_gap": null,
       "grid_row": null,
       "grid_template_areas": null,
       "grid_template_columns": null,
       "grid_template_rows": null,
       "height": null,
       "justify_content": null,
       "justify_items": null,
       "left": null,
       "margin": null,
       "max_height": null,
       "max_width": null,
       "min_height": null,
       "min_width": null,
       "object_fit": null,
       "object_position": null,
       "order": null,
       "overflow": null,
       "overflow_x": null,
       "overflow_y": null,
       "padding": null,
       "right": null,
       "top": null,
       "visibility": null,
       "width": null
      }
     },
     "f3b915255cf7417b8185a1db1dab5131": {
      "model_module": "@jupyter-widgets/output",
      "model_module_version": "1.0.0",
      "model_name": "OutputModel",
      "state": {
       "_dom_classes": [],
       "_model_module": "@jupyter-widgets/output",
       "_model_module_version": "1.0.0",
       "_model_name": "OutputModel",
       "_view_count": null,
       "_view_module": "@jupyter-widgets/output",
       "_view_module_version": "1.0.0",
       "_view_name": "OutputView",
       "layout": "IPY_MODEL_f31333778b624ebba4ea9e56dbc50856",
       "msg_id": "",
       "outputs": [
        {
         "data": {
          "image/png": "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\n",
          "text/plain": "<Figure size 432x288 with 1 Axes>"
         },
         "metadata": {
          "needs_background": "light"
         },
         "output_type": "display_data"
        }
       ]
      }
     },
     "f568e9c5c9ee402eac7161dcb84487d8": {
      "model_module": "@jupyter-widgets/controls",
      "model_module_version": "1.5.0",
      "model_name": "FloatSliderModel",
      "state": {
       "_dom_classes": [],
       "_model_module": "@jupyter-widgets/controls",
       "_model_module_version": "1.5.0",
       "_model_name": "FloatSliderModel",
       "_view_count": null,
       "_view_module": "@jupyter-widgets/controls",
       "_view_module_version": "1.5.0",
       "_view_name": "FloatSliderView",
       "continuous_update": true,
       "description": "s1",
       "description_tooltip": null,
       "disabled": false,
       "layout": "IPY_MODEL_ac5f19208bb84c8db19e6fcabc38fc40",
       "max": 1.0,
       "min": 0.0,
       "orientation": "horizontal",
       "readout": true,
       "readout_format": ".2f",
       "step": 0.1,
       "style": "IPY_MODEL_d8906b87ddc947d4b4ea7bb29d3ebc56",
       "value": 0.2
      }
     },
     "f7d1d9cbd5f540338439439b2229c1f2": {
      "model_module": "@jupyter-widgets/base",
      "model_module_version": "1.2.0",
      "model_name": "LayoutModel",
      "state": {
       "_model_module": "@jupyter-widgets/base",
       "_model_module_version": "1.2.0",
       "_model_name": "LayoutModel",
       "_view_count": null,
       "_view_module": "@jupyter-widgets/base",
       "_view_module_version": "1.2.0",
       "_view_name": "LayoutView",
       "align_content": null,
       "align_items": null,
       "align_self": null,
       "border": null,
       "bottom": null,
       "display": null,
       "flex": null,
       "flex_flow": null,
       "grid_area": null,
       "grid_auto_columns": null,
       "grid_auto_flow": null,
       "grid_auto_rows": null,
       "grid_column": null,
       "grid_gap": null,
       "grid_row": null,
       "grid_template_areas": null,
       "grid_template_columns": null,
       "grid_template_rows": null,
       "height": null,
       "justify_content": null,
       "justify_items": null,
       "left": null,
       "margin": null,
       "max_height": null,
       "max_width": null,
       "min_height": null,
       "min_width": null,
       "object_fit": null,
       "object_position": null,
       "order": null,
       "overflow": null,
       "overflow_x": null,
       "overflow_y": null,
       "padding": null,
       "right": null,
       "top": null,
       "visibility": null,
       "width": null
      }
     },
     "fac4d100e7264339aaea28de71db28fe": {
      "model_module": "@jupyter-widgets/controls",
      "model_module_version": "1.5.0",
      "model_name": "SliderStyleModel",
      "state": {
       "_model_module": "@jupyter-widgets/controls",
       "_model_module_version": "1.5.0",
       "_model_name": "SliderStyleModel",
       "_view_count": null,
       "_view_module": "@jupyter-widgets/base",
       "_view_module_version": "1.2.0",
       "_view_name": "StyleView",
       "description_width": "",
       "handle_color": null
      }
     },
     "fc8cc0e7bf2a434991ef9075eaedccec": {
      "model_module": "@jupyter-widgets/base",
      "model_module_version": "1.2.0",
      "model_name": "LayoutModel",
      "state": {
       "_model_module": "@jupyter-widgets/base",
       "_model_module_version": "1.2.0",
       "_model_name": "LayoutModel",
       "_view_count": null,
       "_view_module": "@jupyter-widgets/base",
       "_view_module_version": "1.2.0",
       "_view_name": "LayoutView",
       "align_content": null,
       "align_items": null,
       "align_self": null,
       "border": null,
       "bottom": null,
       "display": null,
       "flex": null,
       "flex_flow": null,
       "grid_area": null,
       "grid_auto_columns": null,
       "grid_auto_flow": null,
       "grid_auto_rows": null,
       "grid_column": null,
       "grid_gap": null,
       "grid_row": null,
       "grid_template_areas": null,
       "grid_template_columns": null,
       "grid_template_rows": null,
       "height": null,
       "justify_content": null,
       "justify_items": null,
       "left": null,
       "margin": null,
       "max_height": null,
       "max_width": null,
       "min_height": null,
       "min_width": null,
       "object_fit": null,
       "object_position": null,
       "order": null,
       "overflow": null,
       "overflow_x": null,
       "overflow_y": null,
       "padding": null,
       "right": null,
       "top": null,
       "visibility": null,
       "width": null
      }
     }
    },
    "version_major": 2,
    "version_minor": 0
   }
  }
 },
 "nbformat": 4,
 "nbformat_minor": 5
}