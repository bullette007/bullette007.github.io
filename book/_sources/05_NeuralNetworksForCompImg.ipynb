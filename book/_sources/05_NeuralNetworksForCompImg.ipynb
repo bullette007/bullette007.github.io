{
 "cells": [
  {
   "cell_type": "code",
   "execution_count": 1,
   "id": "e91f7bab",
   "metadata": {
    "init_cell": true,
    "tags": [
     "remove-cell"
    ]
   },
   "outputs": [
    {
     "data": {
      "application/javascript": [
       "var cells = Jupyter.notebook.get_cells();\n",
       "           for (var i = 0; i < cells.length; i++) {\n",
       "               var cur_cell = cells[i];\n",
       "               var tags = cur_cell._metadata.tags;\n",
       "               console.log(i);\n",
       "               console.log(tags == undefined);\n",
       "               console.log(tags);\n",
       "               if (tags != undefined) {\n",
       "               for (var j = 0; j < tags.length; j++) {\n",
       "                  if (tags[j]==\"book_only\" | tags[j]==\"remove-cell\") {cur_cell.element.hide();}\n",
       "                  if (tags[j]==\"presentation_only\") {cur_cell.element.show();}\n",
       "            }}}\n"
      ],
      "text/plain": [
       "<IPython.core.display.Javascript object>"
      ]
     },
     "metadata": {},
     "output_type": "display_data"
    }
   ],
   "source": [
    "%%js\n",
    "var cells = Jupyter.notebook.get_cells();\n",
    "           for (var i = 0; i < cells.length; i++) {\n",
    "               var cur_cell = cells[i];\n",
    "               var tags = cur_cell._metadata.tags;\n",
    "               console.log(i);\n",
    "               console.log(tags == undefined);\n",
    "               console.log(tags);\n",
    "               if (tags != undefined) {\n",
    "               for (var j = 0; j < tags.length; j++) {\n",
    "                  if (tags[j]==\"book_only\" | tags[j]==\"remove-cell\") {cur_cell.element.hide();}\n",
    "                  if (tags[j]==\"presentation_only\") {cur_cell.element.show();}\n",
    "            }}}"
   ]
  },
  {
   "cell_type": "code",
   "execution_count": 2,
   "id": "ee0828ff",
   "metadata": {
    "init_cell": true,
    "slideshow": {
     "slide_type": "notes"
    },
    "tags": [
     "remove-cell"
    ]
   },
   "outputs": [
    {
     "name": "stderr",
     "output_type": "stream",
     "text": [
      "C:\\Users\\meyjoh\\repos\\vlcompimg\\compimg\\lib\\site-packages\\scipy\\__init__.py:138: UserWarning: A NumPy version >=1.16.5 and <1.23.0 is required for this version of SciPy (detected version 1.23.4)\n",
      "  warnings.warn(f\"A NumPy version >={np_minversion} and <{np_maxversion} is required for this version of \"\n"
     ]
    }
   ],
   "source": [
    "from __future__ import print_function\n",
    "from ipywidgets import interact, interactive, fixed, interact_manual\n",
    "import ipywidgets as widgets\n",
    "import numpy as np\n",
    "import matplotlib.pyplot as plt\n",
    "import matplotlib\n",
    "import cv2\n",
    "import scipy.signal as sig\n",
    "from scipy.integrate import simpson\n",
    "from IPython.display import SVG, display, IFrame, HTML\n",
    "import seaborn as sns\n",
    "import torch\n",
    "from scipy import misc\n",
    "%matplotlib notebook\n",
    "book = False"
   ]
  },
  {
   "cell_type": "code",
   "execution_count": 3,
   "id": "e04d0b4e",
   "metadata": {
    "tags": [
     "remove-input",
     "book_only"
    ]
   },
   "outputs": [],
   "source": [
    "%matplotlib inline\n",
    "book = True"
   ]
  },
  {
   "cell_type": "code",
   "execution_count": 4,
   "id": "1b2080dc",
   "metadata": {
    "init_cell": true,
    "slideshow": {
     "slide_type": "notes"
    },
    "tags": [
     "remove-cell"
    ]
   },
   "outputs": [],
   "source": [
    "def showFig2(path,i,ending, width, height):\n",
    "    imgToShow = plt.imread(f\"{path}{i}{ending}\")\n",
    "    plt.imshow(imgToShow)"
   ]
  },
  {
   "cell_type": "code",
   "execution_count": 5,
   "id": "f14e8b3d",
   "metadata": {
    "init_cell": true,
    "slideshow": {
     "slide_type": "notes"
    },
    "tags": [
     "remove-cell"
    ]
   },
   "outputs": [],
   "source": [
    "def showFig(path,i,ending, width, height):\n",
    "    filename = path+str(i)+ending\n",
    "    return HTML(\"<img src=\\\"\" + filename +  f\"\\\" style=\\\"max-height:{height}vh\\\"/>\")"
   ]
  },
  {
   "cell_type": "code",
   "execution_count": 6,
   "id": "7381a041",
   "metadata": {
    "init_cell": true,
    "slideshow": {
     "slide_type": "notes"
    },
    "tags": [
     "remove-cell"
    ]
   },
   "outputs": [],
   "source": [
    "def imshow(img, cmap=None):\n",
    "    plt.close('all')\n",
    "    plt.figure()\n",
    "    plt.imshow(img, cmap=cmap)\n",
    "    plt.show()"
   ]
  },
  {
   "cell_type": "code",
   "execution_count": 7,
   "id": "6778573e",
   "metadata": {
    "init_cell": true,
    "slideshow": {
     "slide_type": "notes"
    },
    "tags": [
     "remove-cell"
    ]
   },
   "outputs": [],
   "source": [
    "def imshow2(img, cmap=None):\n",
    "    #plt.close('all')\n",
    "    #plt.figure()\n",
    "    plt.clf()\n",
    "    plt.imshow(img, cmap=cmap)\n",
    "    #plt.show()"
   ]
  },
  {
   "cell_type": "markdown",
   "id": "6a07886b",
   "metadata": {
    "slideshow": {
     "slide_type": "slide"
    }
   },
   "source": [
    "$\\begin{align}\n",
    "  \\newcommand{transp}{^\\intercal}\n",
    "  \\newcommand{F}{\\mathcal{F}}\n",
    "  \\newcommand{Fi}{\\mathcal{F}^{-1}}\n",
    "  \\newcommand{inv}{^{-1}}\n",
    "  \\newcommand{stochvec}[1]{\\mathbf{\\tilde{#1}}}\n",
    "  \\newcommand{argmax}[1]{\\underset{#1}{\\mathrm{arg\\, max}}}\n",
    "  \\newcommand{argmin}[1]{\\underset{#1}{\\mathrm{arg\\, min}}}\n",
    "\\end{align}$\n",
    "\n",
    "<font size=\"7\"> Computational Imaging </font><br><br><br>"
   ]
  },
  {
   "cell_type": "markdown",
   "id": "72bf6795",
   "metadata": {
    "slideshow": {
     "slide_type": "fragment"
    }
   },
   "source": [
    "# Neural Networks for Computational Imaging"
   ]
  },
  {
   "cell_type": "markdown",
   "id": "197f7c41",
   "metadata": {
    "slideshow": {
     "slide_type": "subslide"
    }
   },
   "source": [
    "##### Content\n",
    "* Introduction to neural networks\n",
    "* Principal building blocks \n",
    "* Universal approximation theorem\n",
    "* Optimization of network parameters\n",
    "* Architectures and loss functions\n",
    "* Example applications\n",
    "* Tools, libraries and reading resources"
   ]
  },
  {
   "cell_type": "markdown",
   "id": "bd36679d",
   "metadata": {
    "slideshow": {
     "slide_type": "slide"
    }
   },
   "source": [
    "## Introduction to neural networks\n",
    "\n",
    "* (Artificial) neural networks represent a class of machine learning methods.\n",
    "* They can be imagined as versatile approximators $\\phi_\\boldsymbol{\\theta}$ of arbitrary, continuous functions $\\mathbf{y} = f(\\mathbf{x}), \\quad f:\\mathbb{R}^N \\mapsto \\mathbb{R}^M,\\quad M,N \\in \\mathbb{N}$, i.e., with $\\phi_\\boldsymbol{\\theta}(\\mathbf{x}) \\approx f(\\mathbf{x})$.\n",
    "* They are defined by their architecture and the corresponding parameters $\\boldsymbol{\\theta}$."
   ]
  },
  {
   "cell_type": "markdown",
   "id": "9e72ad3b",
   "metadata": {
    "slideshow": {
     "slide_type": "subslide"
    }
   },
   "source": [
    "* Via a suitable training procedure and a so-called *training set* of example pairs $\\mathcal{T} = \\left\\{ (\\mathbf{x}_i, \\mathbf{y}_i), i \\in \\left[ 1,\\ldots , N \\right]  \\right\\}$ of input variables $\\mathbf{x}_i$ and corresponding output variables $\\mathbf{y}_i$, their parameters $\\boldsymbol{\\theta}$ are optimized so that \n",
    "  * $\\forall (\\mathbf{x},\\mathbf{y}) \\in \\mathcal{T}:\\text{dist}(\\phi_\\boldsymbol{\\theta}(\\mathbf{x}), \\mathbf{y} ) \\rightarrow \\text{Min.}\\,,$ with a suitable distance function $\\text{dist}$ and\n",
    "  * (hopefully) $\\text{dist}(\\phi_\\boldsymbol{\\theta}(\\mathbf{x}), f(\\mathbf{x}) ) \\rightarrow \\text{Min.}\\,,$ for unseen input vectors $\\mathbf{x}$, i.e., which are not part of the training set."
   ]
  },
  {
   "cell_type": "markdown",
   "id": "c51606eb",
   "metadata": {
    "slideshow": {
     "slide_type": "subslide"
    }
   },
   "source": [
    "* Neural networks have first been described in 1943 by Warren McCulloch and Walter Pitts in their paper \"A Logical Calculus of the Ideas Immanent in Nervous Activity\".\n",
    "* Frank Rosenblatt followed their approach and described the so-called *Perceptron* as a fundamental unit of early neural networks."
   ]
  },
  {
   "cell_type": "markdown",
   "id": "5fc93ce3",
   "metadata": {
    "slideshow": {
     "slide_type": "subslide"
    }
   },
   "source": [
    "* Approximately around the year 2010, researchers started to use very deep neural networks, i.e., with many so-called *layers* (more information later) and achieved unprecedented performances on various tasks in the field of machine learning and computer vision."
   ]
  },
  {
   "cell_type": "markdown",
   "id": "ac8948a1",
   "metadata": {
    "slideshow": {
     "slide_type": "fragment"
    }
   },
   "source": [
    "* An important enabler for this breakthrough were the increase in computing power provided by modern computers, especially by GPUs (graphics processing units), and the availability and usage of huge amounts of training data."
   ]
  },
  {
   "cell_type": "markdown",
   "id": "df2a0d64",
   "metadata": {
    "slideshow": {
     "slide_type": "slide"
    }
   },
   "source": [
    "## Principal building blocks\n",
    "\n",
    "The two fundamental building blocks of neural networks are\n",
    "* Matrix vector multiplications and\n",
    "* non-linear functions, also called or *activation functions*.\n",
    "\n",
    "Multiple instances of these building blocks can be stacked in parallel or consecutively with respect to each other to finally yield a neural network."
   ]
  },
  {
   "cell_type": "markdown",
   "id": "90ac9a31",
   "metadata": {
    "slideshow": {
     "slide_type": "subslide"
    }
   },
   "source": [
    "### Layers\n",
    "\n",
    "When stacking linear or non-linear building blocks in parallel, the resulting structure is called a linear, respectively, a non-linear layer (usually either a linear or a non-linear block is stacked in parallel, not a mixture of both)."
   ]
  },
  {
   "cell_type": "markdown",
   "id": "0da1abf0",
   "metadata": {
    "slideshow": {
     "slide_type": "fragment"
    }
   },
   "source": [
    "The way of stacking the individual blocks is called the *architecture* of the neural network."
   ]
  },
  {
   "cell_type": "markdown",
   "id": "5a51cd0d",
   "metadata": {
    "slideshow": {
     "slide_type": "subslide"
    }
   },
   "source": [
    "### Linear layers\n",
    "\n",
    "In one building block of a linear layer, the input $(x_1, x_2, \\ldots, x_N)\\transp$ is mapped to the scalar output $y$ via a linear transformation, i.e.,\n",
    "\n",
    "$\\begin{align} \n",
    "   y = \\sum\\limits^{N}_{i=1} w_i \\cdot x_i + b \\,,\n",
    "\\end{align}$\n",
    "\n",
    "with $w_i$ denoting the $i$-th so-called *weight*, i.e. parameter, of this block and $b$ denoting the so-called *bias* (also a parameter), i.e., an additive term not depending on the input."
   ]
  },
  {
   "cell_type": "markdown",
   "id": "9e154dec",
   "metadata": {
    "slideshow": {
     "slide_type": "subslide"
    }
   },
   "source": [
    "<img src=\"figures/5/single_block_linear_only.svg\" style=\"max-height:40vh\">"
   ]
  },
  {
   "cell_type": "markdown",
   "id": "7893bebf",
   "metadata": {
    "slideshow": {
     "slide_type": "subslide"
    }
   },
   "source": [
    "When one input is simultaneously processed by $K$ linear blocks, i.e.,\n",
    "\n",
    "$\\begin{align} \n",
    "   y_k = \\sum\\limits^{N}_{i=1} w^k_i \\cdot x_i + b^k = \\underbrace{\\left( w^k_1, w^k_2, \\ldots, w^k_N, b^k \\right)}_{\\mathbf{w}\\transp_k} \\cdot \\underbrace{\\begin{pmatrix} \n",
    "      x_1 \\\\ x_2 \\\\ \\vdots \\\\ x_N \\\\ 1\n",
    "   \\end{pmatrix}}_{\\mathbf{x}}  \\,,\n",
    "\\end{align}$\n",
    "\n",
    "for block $k$, this can be expressed compactly via matrix-vector multiplications:\n",
    "\n",
    "$\\begin{align} \n",
    "   \\begin{pmatrix} \n",
    "      y_1 \\\\ y_2 \\\\ \\vdots \\\\ y_K\n",
    "   \\end{pmatrix}\n",
    "   &= \n",
    "   \\begin{pmatrix} \n",
    "      \\qquad \\mathbf{w}\\transp_1 \\qquad  \\\\ \\mathbf{w}\\transp_2 \\\\ \\vdots \\\\ \\mathbf{w}\\transp_K\n",
    "   \\end{pmatrix} \\cdot \n",
    "   \\begin{pmatrix} \n",
    "      x_1 \\\\ x_2 \\\\ \\vdots \\\\ x_N \\\\ 1\n",
    "   \\end{pmatrix} \\\\\n",
    "   &= \\qquad \\quad \\mathbf{W} \\quad \\qquad \\cdot \\quad  \\mathbf{x} \\,,\n",
    "\\end{align}$\n",
    "\n",
    "with $\\mathbf{W} \\in \\mathbb{R}^{K \\times (N+1)}$ and $\\mathbf{x} \\in \\mathbb{R}^{(N+1) \\times 1}$."
   ]
  },
  {
   "cell_type": "markdown",
   "id": "799b5260",
   "metadata": {
    "slideshow": {
     "slide_type": "subslide"
    }
   },
   "source": [
    "<img src=\"figures/5/single_layer_linear_only.svg\" style=\"max-height:40vh\">"
   ]
  },
  {
   "cell_type": "markdown",
   "id": "91650cb3",
   "metadata": {
    "slideshow": {
     "slide_type": "subslide"
    }
   },
   "source": [
    "This expression can be further extended for the case when multiple input vectors $\\mathbf{x}_1, \\mathbf{x}_2, \\ldots, \\mathbf{x}_B$, i.e., a so-called *batch* of size $B$, have to be processed simultaneously:\n",
    "\n",
    "$\\begin{align} \n",
    "  \\begin{pmatrix} \n",
    "    \\qquad \\mathbf{w}\\transp_1 \\qquad  \\\\ \\mathbf{w}\\transp_2 \\\\ \\vdots \\\\ \\mathbf{w}\\transp_K\n",
    " \\end{pmatrix} \\cdot \n",
    " \\begin{pmatrix} \n",
    "     \\\\  \\\\ \\mathbf{x}_1 & \\mathbf{x}_2 & \\cdots & \\mathbf{x}_B    \\\\ \\\\ \\\\\n",
    " \\end{pmatrix} &= \\begin{pmatrix} \n",
    "    \\mathbf{w}\\transp_1 \\cdot \\mathbf{x}_1 & \\mathbf{w}\\transp_1 \\cdot \\mathbf{x}_2 &\\cdots &\\mathbf{w}\\transp_1 \\cdot \\mathbf{x}_B \\\\ \n",
    "    \\mathbf{w}\\transp_2 \\cdot \\mathbf{x}_1 & \\mathbf{w}\\transp_2 \\cdot \\mathbf{x}_2 &\\cdots &\\mathbf{w}\\transp_2 \\cdot \\mathbf{x}_B \\\\     \n",
    "    \\vdots & \\vdots & \\ddots & \\vdots \\\\\n",
    "    \\mathbf{w}\\transp_K \\cdot \\mathbf{x}_1 & \\mathbf{w}\\transp_K \\cdot \\mathbf{x}_2 &\\cdots &\\mathbf{w}\\transp_K \\cdot \\mathbf{x}_B \\\\ \n",
    " \\end{pmatrix}\\\\\n",
    " &= \\begin{pmatrix} \n",
    "  \\\\  \\\\ \\mathbf{y}_1 & \\mathbf{y}_2 & \\cdots & \\mathbf{y}_B    \\\\ \\\\ \\\\\n",
    "\\end{pmatrix}\n",
    " \\,.\n",
    "\\end{align}$"
   ]
  },
  {
   "cell_type": "markdown",
   "id": "5f7b116b",
   "metadata": {
    "slideshow": {
     "slide_type": "subslide"
    }
   },
   "source": [
    "Although not fully correct, linear layers are sometimes also referred to as *feed forward layers* or *multi-layer perceptron (MLP)*."
   ]
  },
  {
   "cell_type": "markdown",
   "id": "04ba7fa7",
   "metadata": {
    "slideshow": {
     "slide_type": "subslide"
    }
   },
   "source": [
    "### Non-linear layers\n",
    "\n",
    "Neural networks constructed only out of linear layers are very limited in their approximation abilities since in essence they just represent a long linear function and hence can only mimic linear functions.\n",
    "\n",
    "This is why additional, so-called *non-linear layers* consisting of non-linear building blocks are necessary."
   ]
  },
  {
   "cell_type": "markdown",
   "id": "e6330e0d",
   "metadata": {
    "slideshow": {
     "slide_type": "fragment"
    }
   },
   "source": [
    "In general, a non-linear building block is a non-linear function $\\psi:\\mathbb{R}\\rightarrow \\mathbb{R}$ that is applied to the scalar output of a linear building block."
   ]
  },
  {
   "cell_type": "markdown",
   "id": "bf0b11a0",
   "metadata": {
    "slideshow": {
     "slide_type": "subslide"
    }
   },
   "source": [
    "The combination of a linear and a non-linear block then looks like:\n",
    "\n",
    "<img src=\"figures/5/single_block.svg\" style=\"max-height:40vh\">"
   ]
  },
  {
   "cell_type": "markdown",
   "id": "f3a1bf89",
   "metadata": {
    "slideshow": {
     "slide_type": "subslide"
    }
   },
   "source": [
    "And a corresponding layer looks like:\n",
    "\n",
    "<img src=\"figures/5/single_layer.svg\" style=\"max-height:40vh\">"
   ]
  },
  {
   "cell_type": "markdown",
   "id": "4cc0a428",
   "metadata": {
    "slideshow": {
     "slide_type": "subslide"
    }
   },
   "source": [
    "A popular example for a non-linearity is the so-called *sigmoid*-function \n",
    "\n",
    "$\\begin{align} \n",
    "  \\psi(y)=\\frac{1}{1+\\mathrm{e}^{-y} } \\,.\n",
    "\\end{align}$"
   ]
  },
  {
   "cell_type": "markdown",
   "id": "a6e649fd",
   "metadata": {
    "slideshow": {
     "slide_type": "fragment"
    }
   },
   "source": [
    "When choosing high values for $\\mathbf{W}$ in the preceding linear block, the sigmoid-function resembles a unit step-function which can be shifted left or right by adjusting the bias $b$:"
   ]
  },
  {
   "cell_type": "code",
   "execution_count": 8,
   "id": "a2f76629",
   "metadata": {
    "init_cell": true,
    "slideshow": {
     "slide_type": "skip"
    },
    "tags": [
     "delete-cell"
    ]
   },
   "outputs": [],
   "source": [
    "def sigmoid(x):\n",
    "    return 1/(1+np.exp(-1*x))\n",
    "def plot_sigmoid_after_linear(a,b):\n",
    "    xs = np.linspace(0,1,1000)\n",
    "    y1s = xs*a + b\n",
    "    y2s = sigmoid(y1s)\n",
    "    plt.clf()\n",
    "    plt.plot(xs,y2s)\n",
    "    plt.axhline(0, color='k')\n",
    "    plt.axvline(0, color='k')"
   ]
  },
  {
   "cell_type": "code",
   "execution_count": 9,
   "id": "e4818cfd",
   "metadata": {
    "init_cell": true,
    "slideshow": {
     "slide_type": "subslide"
    }
   },
   "outputs": [
    {
     "data": {
      "text/plain": [
       "<Figure size 432x288 with 0 Axes>"
      ]
     },
     "metadata": {},
     "output_type": "display_data"
    },
    {
     "data": {
      "application/vnd.jupyter.widget-view+json": {
       "model_id": "b2930872becf4b839f98705dd02136fb",
       "version_major": 2,
       "version_minor": 0
      },
      "text/plain": [
       "interactive(children=(FloatSlider(value=8.0, description='w', max=200.0, min=1.0, step=1.0), FloatSlider(value…"
      ]
     },
     "metadata": {},
     "output_type": "display_data"
    },
    {
     "data": {
      "text/plain": [
       "<function __main__.<lambda>(w, b)>"
      ]
     },
     "execution_count": 9,
     "metadata": {},
     "output_type": "execute_result"
    }
   ],
   "source": [
    "plt.figure()\n",
    "interact(lambda w,b: plot_sigmoid_after_linear(w,b), w=widgets.FloatSlider(min=1,max=200, step=1, value=8), b=widgets.FloatSlider(min=-100,max=100, step=1, value=-4))"
   ]
  },
  {
   "cell_type": "markdown",
   "id": "73157ab3",
   "metadata": {
    "slideshow": {
     "slide_type": "subslide"
    }
   },
   "source": [
    "In batch processing, the result of a batch of data processed by a linear layer, i.e. $\\mathbf{y} = \\mathbf{Wx}$, is processed by the non-linearity in an element-wise fashion."
   ]
  },
  {
   "cell_type": "markdown",
   "id": "1eeb8e26",
   "metadata": {
    "slideshow": {
     "slide_type": "subslide"
    }
   },
   "source": [
    "#### Other popular non-linear functions"
   ]
  },
  {
   "cell_type": "code",
   "execution_count": 10,
   "id": "9e74fb79",
   "metadata": {
    "init_cell": true,
    "tags": [
     "delete-cell"
    ]
   },
   "outputs": [],
   "source": [
    "xs = torch.linspace(-3,3,1000)\n",
    "ys_softplus = torch.nn.Softplus()(xs)\n",
    "ys_leakyrelu = torch.nn.LeakyReLU(negative_slope=0.1)(xs)\n",
    "ys_elu = torch.nn.ELU()(xs)\n",
    "ys_relu = torch.nn.ReLU()(xs)\n",
    "ys_tanh = torch.nn.Tanh()(xs)\n",
    "ys_sigm = torch.nn.Sigmoid()(xs)"
   ]
  },
  {
   "cell_type": "markdown",
   "id": "838f3087",
   "metadata": {
    "slideshow": {
     "slide_type": "subslide"
    }
   },
   "source": [
    "##### Sigmoid\n",
    "\n",
    "The *sigmoid function*:\n",
    "\n",
    "$\\begin{align} \n",
    "   \\sigma(x) = \\frac{1}{1+\\exp(-x)} \\,.\n",
    "\\end{align}$"
   ]
  },
  {
   "cell_type": "code",
   "execution_count": 11,
   "id": "3cffaf29",
   "metadata": {
    "init_cell": true,
    "slideshow": {
     "slide_type": "subslide"
    }
   },
   "outputs": [
    {
     "data": {
      "text/plain": [
       "(-0.01, 1.01)"
      ]
     },
     "execution_count": 11,
     "metadata": {},
     "output_type": "execute_result"
    },
    {
     "data": {
      "image/png": "[encoded data removed]",
      "text/plain": [
       "<Figure size 432x288 with 1 Axes>"
      ]
     },
     "metadata": {
      "filenames": {
       "image/png": "C:\\Users\\meyjoh\\repos\\vlcompimg\\mynewbook\\_build\\jupyter_execute\\05_NeuralNetworksForCompImg_36_1.png"
      },
      "needs_background": "light"
     },
     "output_type": "display_data"
    }
   ],
   "source": [
    "plt.figure()\n",
    "plt.plot(xs, ys_sigm)\n",
    "plt.title(\"Sigmoid\")\n",
    "plt.ylim(-0.01, 1.01)\n",
    "#plt.axhline(0, color='k', linewidth=0.8)\n",
    "#plt.axvline(0, color='k', linewidth=0.8)\n",
    "#plt.gca().spines['top'].set_visible(False)\n",
    "#plt.gca().spines['right'].set_visible(False)\n",
    "#plt.gca().spines['bottom'].set_visible(False)\n",
    "#plt.gca().spines['left'].set_visible(False)\n",
    "#plt.grid()\n",
    "#plt.savefig(\"sigmoid.pdf\")"
   ]
  },
  {
   "cell_type": "code",
   "execution_count": 12,
   "id": "d216deef",
   "metadata": {},
   "outputs": [
    {
     "data": {
      "image/png": "[encoded data removed]",
      "text/plain": [
       "<Figure size 432x288 with 3 Axes>"
      ]
     },
     "metadata": {
      "filenames": {
       "image/png": "C:\\Users\\meyjoh\\repos\\vlcompimg\\mynewbook\\_build\\jupyter_execute\\05_NeuralNetworksForCompImg_37_0.png"
      },
      "needs_background": "light"
     },
     "output_type": "display_data"
    }
   ],
   "source": [
    "plt.rcParams['mathtext.fontset'] = 'stix'\n",
    "plt.rcParams['font.family'] = 'STIXGeneral'\n",
    "#plt.rcParams['font.size'] = 9\n",
    "plt.xlim(-3,3)\n",
    "plt.xticks([-3.0,0,3])\n",
    "plt.yticks([0,0.5,1], ['0', '0.5', '1'])\n",
    "plt.tick_params(axis=\"y\", direction='in', length=3)\n",
    "plt.tick_params(axis=\"x\", direction='in', length=3)\n",
    "\n",
    "ax2 = plt.twiny()\n",
    "plt.xticks([-3.0,0,3], [])\n",
    "plt.tick_params(axis=\"y\", direction='in', length=3)\n",
    "plt.tick_params(axis=\"x\", direction='in', length=3)\n",
    "\n",
    "\n",
    "ax3 = plt.twinx()\n",
    "plt.yticks([0,0.5,1], [])\n",
    "\n",
    "plt.tick_params(axis=\"y\", direction='in', length=3)\n",
    "plt.tick_params(axis=\"x\", direction='in', length=3)\n",
    "plt.savefig(\"sigmoid.pdf\")"
   ]
  },
  {
   "cell_type": "code",
   "execution_count": 13,
   "id": "c031c643",
   "metadata": {
    "init_cell": true,
    "slideshow": {
     "slide_type": "subslide"
    }
   },
   "outputs": [
    {
     "data": {
      "image/png": "[encoded data removed]",
      "text/plain": [
       "<Figure size 432x288 with 3 Axes>"
      ]
     },
     "metadata": {
      "filenames": {
       "image/png": "C:\\Users\\meyjoh\\repos\\vlcompimg\\mynewbook\\_build\\jupyter_execute\\05_NeuralNetworksForCompImg_38_0.png"
      },
      "needs_background": "light"
     },
     "output_type": "display_data"
    }
   ],
   "source": [
    "plt.figure()\n",
    "plt.plot(xs, ys_relu)\n",
    "plt.ylim(-0.1, 0.6)\n",
    "plt.xlim(-0.5, 0.5)\n",
    "plt.title(\"ReLU (rectified linear unit)\")\n",
    "plt.rcParams['mathtext.fontset'] = 'stix'\n",
    "plt.rcParams['font.family'] = 'STIXGeneral'\n",
    "#plt.rcParams['font.size'] = 9\n",
    "\n",
    "plt.xticks([-0.5,  0.  ,  0.5 ], [-1, 0, 1])\n",
    "plt.yticks([0, 0.5], ['0', '1'])\n",
    "plt.tick_params(axis=\"y\", direction='in', length=3)\n",
    "plt.tick_params(axis=\"x\", direction='in', length=3)\n",
    "\n",
    "ax2 = plt.twiny()\n",
    "plt.xticks([-1, 0, 1], [])\n",
    "plt.tick_params(axis=\"y\", direction='in', length=3)\n",
    "plt.tick_params(axis=\"x\", direction='in', length=3)\n",
    "\n",
    "\n",
    "ax3 = plt.twinx()\n",
    "plt.yticks([0,1], [])\n",
    "\n",
    "plt.tick_params(axis=\"y\", direction='in', length=3)\n",
    "plt.tick_params(axis=\"x\", direction='in', length=3)\n",
    "plt.savefig(\"relu.pdf\")"
   ]
  },
  {
   "cell_type": "markdown",
   "id": "1bdcc563",
   "metadata": {
    "slideshow": {
     "slide_type": "subslide"
    }
   },
   "source": [
    "##### Rectified linear unit (ReLU)\n",
    "\n",
    "The *rectified linear unit (ReLU)* with $\\mathrm{ReLU}(x) = \\max (0,x)$ is a good general purpose activation function."
   ]
  },
  {
   "cell_type": "code",
   "execution_count": 14,
   "id": "df199ecb",
   "metadata": {
    "init_cell": true,
    "slideshow": {
     "slide_type": "subslide"
    }
   },
   "outputs": [
    {
     "data": {
      "image/png": "[encoded data removed]",
      "text/plain": [
       "<Figure size 432x288 with 1 Axes>"
      ]
     },
     "metadata": {
      "filenames": {
       "image/png": "C:\\Users\\meyjoh\\repos\\vlcompimg\\mynewbook\\_build\\jupyter_execute\\05_NeuralNetworksForCompImg_40_0.png"
      },
      "needs_background": "light"
     },
     "output_type": "display_data"
    }
   ],
   "source": [
    "plt.figure()\n",
    "plt.plot(xs, ys_relu)\n",
    "plt.ylim(-0.01, 1.01)\n",
    "plt.xlim(-1, 1)\n",
    "plt.title(\"ReLU (rectified linear unit)\")\n",
    "plt.axhline(0, color='k', linewidth=0.8)\n",
    "plt.axvline(0, color='k', linewidth=0.8)\n",
    "plt.gca().spines['top'].set_visible(False)\n",
    "plt.gca().spines['right'].set_visible(False)\n",
    "plt.gca().spines['bottom'].set_visible(False)\n",
    "plt.gca().spines['left'].set_visible(False)\n",
    "plt.grid()\n",
    "plt.xticks([-0.75, -0.5 , -0.25,  0.  ,  0.25,  0.5 ,  0.75,  1.  , 1.25], [-0.6, -0.4 , -0.2,  0.  ,  0.2,  0.4 ,  0.6, 0.8,  1. ] )\n",
    "plt.savefig(\"relu.pdf\")"
   ]
  },
  {
   "cell_type": "markdown",
   "id": "00003a89",
   "metadata": {
    "slideshow": {
     "slide_type": "subslide"
    }
   },
   "source": [
    "##### Softplus\n",
    "\n",
    "Smooth approximation of the ReLU function:\n",
    "\n",
    "$\\begin{align} \n",
    "   y_i = \\frac{1}{\\beta} \\cdot \\log \\left( 1 + \\exp (\\beta \\cdot x_i) \\right) \\,,\n",
    "\\end{align}$\n",
    "\n",
    "with parameter $\\beta$."
   ]
  },
  {
   "cell_type": "code",
   "execution_count": 15,
   "id": "ddaf7dcf",
   "metadata": {
    "init_cell": true,
    "slideshow": {
     "slide_type": "subslide"
    }
   },
   "outputs": [
    {
     "data": {
      "image/png": "[encoded data removed]",
      "text/plain": [
       "<Figure size 432x288 with 1 Axes>"
      ]
     },
     "metadata": {
      "filenames": {
       "image/png": "C:\\Users\\meyjoh\\repos\\vlcompimg\\mynewbook\\_build\\jupyter_execute\\05_NeuralNetworksForCompImg_42_0.png"
      },
      "needs_background": "light"
     },
     "output_type": "display_data"
    }
   ],
   "source": [
    "plt.figure()\n",
    "plt.plot(xs, ys_softplus)\n",
    "plt.title(\"Softplus\")\n",
    "plt.axhline(0, color='k')\n",
    "plt.axvline(0, color='k')\n",
    "plt.grid()"
   ]
  },
  {
   "cell_type": "markdown",
   "id": "60292655",
   "metadata": {
    "slideshow": {
     "slide_type": "subslide"
    }
   },
   "source": [
    "##### Leaky ReLU\n",
    "\n",
    "Similar to ReLU but with a non-zero slope for negative inputs:\n",
    "\n",
    "$\\begin{align} \n",
    "   \\mathrm{LeakyReLU}(x) = \\begin{cases} \n",
    "      x, & \\text{if } x \\geq 0 \\\\\n",
    "      \\beta \\cdot x, & \\text{otherwise}\n",
    "   \\end{cases} \\,,\n",
    "\\end{align}$\n",
    "\n",
    "with the negative slope value $\\beta$."
   ]
  },
  {
   "cell_type": "code",
   "execution_count": 16,
   "id": "23c9468d",
   "metadata": {
    "init_cell": true,
    "slideshow": {
     "slide_type": "subslide"
    }
   },
   "outputs": [
    {
     "data": {
      "image/png": "[encoded data removed]",
      "text/plain": [
       "<Figure size 432x288 with 1 Axes>"
      ]
     },
     "metadata": {
      "filenames": {
       "image/png": "C:\\Users\\meyjoh\\repos\\vlcompimg\\mynewbook\\_build\\jupyter_execute\\05_NeuralNetworksForCompImg_44_0.png"
      },
      "needs_background": "light"
     },
     "output_type": "display_data"
    }
   ],
   "source": [
    "plt.figure()\n",
    "plt.plot(xs, ys_leakyrelu)\n",
    "plt.title(\"leaky ReLU (rectified linear unit)\")\n",
    "plt.axhline(0, color='k')\n",
    "plt.axvline(0, color='k')\n",
    "plt.grid()"
   ]
  },
  {
   "cell_type": "markdown",
   "id": "bd08c54f",
   "metadata": {
    "slideshow": {
     "slide_type": "subslide"
    }
   },
   "source": [
    "##### Exponential linear unit (ELU)\n",
    "\n",
    "Another smooth approximation of the ReLU function:\n",
    "\n",
    "$\\begin{align} \n",
    "   \\mathrm{ELU}(x) = \\begin{cases} \n",
    "      x, & \\text{if } x > 0 \\\\\n",
    "      \\exp (x) -1 & \\text{otherwise} \n",
    "   \\end{cases}\\,.\n",
    "\\end{align}$"
   ]
  },
  {
   "cell_type": "code",
   "execution_count": 17,
   "id": "282d82a1",
   "metadata": {
    "init_cell": true,
    "slideshow": {
     "slide_type": "subslide"
    }
   },
   "outputs": [
    {
     "data": {
      "image/png": "[encoded data removed]",
      "text/plain": [
       "<Figure size 432x288 with 1 Axes>"
      ]
     },
     "metadata": {
      "filenames": {
       "image/png": "C:\\Users\\meyjoh\\repos\\vlcompimg\\mynewbook\\_build\\jupyter_execute\\05_NeuralNetworksForCompImg_46_0.png"
      },
      "needs_background": "light"
     },
     "output_type": "display_data"
    }
   ],
   "source": [
    "plt.figure()\n",
    "plt.plot(xs, ys_elu)\n",
    "plt.title(\"ELU (exponential linear unit)\")\n",
    "plt.axhline(0, color='k')\n",
    "plt.axvline(0, color='k')\n",
    "plt.grid()"
   ]
  },
  {
   "cell_type": "markdown",
   "id": "3facc76e",
   "metadata": {
    "slideshow": {
     "slide_type": "subslide"
    }
   },
   "source": [
    "##### Hyperbolic tangent (tanh)\n",
    "\n",
    "The *hyperbolic tangent (tanh)* function:\n",
    "\n",
    "$\\begin{align} \n",
    "   \\mathrm{tanh}(x) = \\frac{\\exp (x) - \\exp (-x)}{\\exp (x) + \\exp (-x)} \\,.\n",
    "\\end{align}$"
   ]
  },
  {
   "cell_type": "code",
   "execution_count": 18,
   "id": "77b2e786",
   "metadata": {
    "init_cell": true,
    "slideshow": {
     "slide_type": "subslide"
    }
   },
   "outputs": [
    {
     "data": {
      "image/png": "[encoded data removed]",
      "text/plain": [
       "<Figure size 432x288 with 1 Axes>"
      ]
     },
     "metadata": {
      "filenames": {
       "image/png": "C:\\Users\\meyjoh\\repos\\vlcompimg\\mynewbook\\_build\\jupyter_execute\\05_NeuralNetworksForCompImg_48_0.png"
      },
      "needs_background": "light"
     },
     "output_type": "display_data"
    }
   ],
   "source": [
    "plt.figure()\n",
    "plt.plot(xs, ys_tanh)\n",
    "plt.title(\"tanh\")\n",
    "plt.axhline(0, color='k')\n",
    "plt.axvline(0, color='k')\n",
    "plt.grid()"
   ]
  },
  {
   "cell_type": "markdown",
   "id": "a23d872f",
   "metadata": {
    "slideshow": {
     "slide_type": "subslide"
    }
   },
   "source": [
    "### Pooling layers"
   ]
  },
  {
   "cell_type": "markdown",
   "id": "e523053c",
   "metadata": {},
   "source": [
    "Pooling layers reduce the size of the input data by selecting or calculating a certain value out of a region of input values and by replacing that whole region by this value."
   ]
  },
  {
   "cell_type": "markdown",
   "id": "b76e92ab",
   "metadata": {
    "slideshow": {
     "slide_type": "subslide"
    }
   },
   "source": [
    "A common example is *max pooling*. The layer is parameterized via\n",
    "* its window size $h$ and\n",
    "* its stride $s$."
   ]
  },
  {
   "cell_type": "markdown",
   "id": "f0e9e186",
   "metadata": {
    "slideshow": {
     "slide_type": "fragment"
    }
   },
   "source": [
    "The layer shifts a square-shaped window with edge length $h$ over the input data and selects the highest value out of all values covered by the window and returns this value as one of its outputs. Then, the window is shifted by the stride value $s$ and the procedure is repeated until the whole input data has been processed."
   ]
  },
  {
   "cell_type": "code",
   "execution_count": 19,
   "id": "5a93e9a5",
   "metadata": {
    "init_cell": true,
    "slideshow": {
     "slide_type": "subslide"
    }
   },
   "outputs": [
    {
     "data": {
      "application/vnd.jupyter.widget-view+json": {
       "model_id": "4bffd02cee504c0cb7524a74a0154bf0",
       "version_major": 2,
       "version_minor": 0
      },
      "text/plain": [
       "interactive(children=(IntSlider(value=5, description='i', max=5, min=1), Output()), _dom_classes=('widget-inte…"
      ]
     },
     "metadata": {},
     "output_type": "display_data"
    },
    {
     "data": {
      "text/plain": [
       "<function __main__.<lambda>(i)>"
      ]
     },
     "execution_count": 19,
     "metadata": {},
     "output_type": "execute_result"
    }
   ],
   "source": [
    "interact(lambda i: showFig('figures/5/pooling_layer_',i,'.svg',800,50), i=widgets.IntSlider(min=(min_i:=1),max=(max_i:=5), step=1, value=(max_i if book else min_i)))"
   ]
  },
  {
   "cell_type": "markdown",
   "id": "fe28711d",
   "metadata": {
    "slideshow": {
     "slide_type": "subslide"
    }
   },
   "source": [
    "##### Example max pooling with PyTorch:"
   ]
  },
  {
   "cell_type": "code",
   "execution_count": 20,
   "id": "eb3b5f12",
   "metadata": {
    "slideshow": {
     "slide_type": "fragment"
    }
   },
   "outputs": [],
   "source": [
    "pooling = torch.nn.MaxPool2d(2,2).float()"
   ]
  },
  {
   "cell_type": "code",
   "execution_count": 21,
   "id": "7ef36725",
   "metadata": {
    "slideshow": {
     "slide_type": "fragment"
    }
   },
   "outputs": [
    {
     "data": {
      "text/plain": [
       "tensor([[[2., 1., 1., 1.],\n",
       "         [1., 2., 1., 1.],\n",
       "         [1., 1., 2., 1.],\n",
       "         [1., 1., 1., 2.]]])"
      ]
     },
     "execution_count": 21,
     "metadata": {},
     "output_type": "execute_result"
    }
   ],
   "source": [
    "tens = torch.tensor(np.ones(4) + np.eye(4)).unsqueeze(0).float()\n",
    "tens"
   ]
  },
  {
   "cell_type": "code",
   "execution_count": 22,
   "id": "67bc9d7b",
   "metadata": {
    "slideshow": {
     "slide_type": "fragment"
    }
   },
   "outputs": [
    {
     "data": {
      "text/plain": [
       "tensor([[[2., 1.],\n",
       "         [1., 2.]]])"
      ]
     },
     "execution_count": 22,
     "metadata": {},
     "output_type": "execute_result"
    }
   ],
   "source": [
    "pooling(tens)"
   ]
  },
  {
   "cell_type": "markdown",
   "id": "b42d6278",
   "metadata": {
    "slideshow": {
     "slide_type": "subslide"
    }
   },
   "source": [
    "### Convolutional layers\n",
    "\n",
    "Convolutional layers process their input by convolving it with one or more convolution kernels. \n",
    "\n",
    "The coefficients of the convolution kernels also represent parameters of the network which are optimized during training. \n",
    "\n",
    "Convolutional layers are mainly parameterized via\n",
    "* number of kernels (often referred to as *channels*),\n",
    "* sizes of the kernels,\n",
    "* their stride $s$ and\n",
    "* the padding mode (i.e., how to deal with the situation at the borders of the input data when the kernel protrudes the input's support)."
   ]
  },
  {
   "cell_type": "code",
   "execution_count": 23,
   "id": "fe7c3f6b",
   "metadata": {
    "init_cell": true,
    "slideshow": {
     "slide_type": "subslide"
    }
   },
   "outputs": [
    {
     "data": {
      "application/vnd.jupyter.widget-view+json": {
       "model_id": "2219a013754345a089e6c64485373750",
       "version_major": 2,
       "version_minor": 0
      },
      "text/plain": [
       "interactive(children=(IntSlider(value=5, description='i', max=5), Output()), _dom_classes=('widget-interact',)…"
      ]
     },
     "metadata": {},
     "output_type": "display_data"
    },
    {
     "data": {
      "text/plain": [
       "<function __main__.<lambda>(i)>"
      ]
     },
     "execution_count": 23,
     "metadata": {},
     "output_type": "execute_result"
    }
   ],
   "source": [
    "interact(lambda i: showFig('figures/5/convolutional_layer_',i,'.svg',800,50), i=widgets.IntSlider(min=(min_i:=0),max=(max_i:=5), step=1, value=(max_i if book else min_i)))"
   ]
  },
  {
   "cell_type": "markdown",
   "id": "1989b4ea",
   "metadata": {
    "slideshow": {
     "slide_type": "subslide"
    }
   },
   "source": [
    "Depending on the stride $s$ and the padding mode, convolutional layers can yield outputs of lower spatial dimensions (e.g., smaller images).\n",
    "\n",
    "Depending on the number of kernels, the output can have a larger or lower number of channels."
   ]
  },
  {
   "cell_type": "markdown",
   "id": "c36165d3",
   "metadata": {
    "slideshow": {
     "slide_type": "subslide"
    }
   },
   "source": [
    "##### Channel dimensions\n",
    "\n",
    "If the input to a convolutional layer has $C$ channels, each filter kernel must also have $C$ channels. Considering one kernel, the individual channels of the input are convolved with the respective channels of that kernel and the results are summed up to yield one channel of the output of the layer. Hence, every kernel yields one channel of the output."
   ]
  },
  {
   "cell_type": "markdown",
   "id": "69bfe70d",
   "metadata": {
    "slideshow": {
     "slide_type": "subslide"
    }
   },
   "source": [
    "##### $1 \\times 1$ convolutions\n",
    "\n",
    "In order to reduce the channel dimension while processing data in a neural network, so-called $1 \\times 1$ *convolutions*, i.e., convolutions with a kernel of size $1 \\times 1$ can be employed."
   ]
  },
  {
   "cell_type": "markdown",
   "id": "bad4ed46",
   "metadata": {
    "slideshow": {
     "slide_type": "fragment"
    }
   },
   "source": [
    "A $1 \\times 1$-kernel does not alter the spatial distribution of the data but can reduce the channel dimension if the number of $1 \\times 1$-kernels is less than the number of channels of the input data."
   ]
  },
  {
   "cell_type": "markdown",
   "id": "d0466593",
   "metadata": {
    "tags": [
     "book_only"
    ]
   },
   "source": [
    "```{note}\n",
    "Sometimes, the results of a convolutional layer are denoted as *features* or *feature maps*.\n",
    "\n",
    "```"
   ]
  },
  {
   "cell_type": "markdown",
   "id": "b5b88779",
   "metadata": {
    "tags": [
     "book_only"
    ]
   },
   "source": [
    "```{note}\n",
    "In many programming libraries for neural networks, biases (i.e., additive terms) are also added to the results of convolutional layers. This can lead to unexpected results if it is not considered. \n",
    "```"
   ]
  },
  {
   "cell_type": "markdown",
   "id": "16bdfe99",
   "metadata": {
    "slideshow": {
     "slide_type": "subslide"
    }
   },
   "source": [
    "### Transposed convolutional layers"
   ]
  },
  {
   "cell_type": "markdown",
   "id": "006de92f",
   "metadata": {},
   "source": [
    "Although the name might be a bit misleading, so-called *transposed convolutional layers* can be imagined as a kind of inverse of convolutional layers, in the sense as they increase the spatial resolution of the input.\n",
    "\n",
    "Transposed convolutional layers are parameterized similarly to convolutional layers, i.e., via\n",
    "* number of kernels,\n",
    "* sizes of the kernels,\n",
    "* their stride $s$ and\n",
    "* the padding mode."
   ]
  },
  {
   "cell_type": "markdown",
   "id": "fbe46b6a",
   "metadata": {
    "slideshow": {
     "slide_type": "subslide"
    }
   },
   "source": [
    "Every element of the input scales a kernel which yields the values of the output in the spatial region covered by the kernel. The kernel is then shifted by the stride $s$ and the process is repeated with the next value of the input vector. Depending on the stride $s$, there might already be values present in the currently considered region of the output vector. In that case, the new values are additively superposed."
   ]
  },
  {
   "cell_type": "code",
   "execution_count": 24,
   "id": "7f819c6a",
   "metadata": {
    "init_cell": true,
    "slideshow": {
     "slide_type": "subslide"
    }
   },
   "outputs": [
    {
     "data": {
      "application/vnd.jupyter.widget-view+json": {
       "model_id": "528ba22f935b4f769947b5ccc11097ea",
       "version_major": 2,
       "version_minor": 0
      },
      "text/plain": [
       "interactive(children=(IntSlider(value=3, description='i', max=3), Output()), _dom_classes=('widget-interact',)…"
      ]
     },
     "metadata": {},
     "output_type": "display_data"
    },
    {
     "data": {
      "text/plain": [
       "<function __main__.<lambda>(i)>"
      ]
     },
     "execution_count": 24,
     "metadata": {},
     "output_type": "execute_result"
    }
   ],
   "source": [
    "interact(lambda i: showFig('figures/5/transposed_convolutional_layer_',i,'.svg',800,50), i=widgets.IntSlider(min=(min_i:=0),max=(max_i:=3), step=1, value=(max_i if book else min_i)))"
   ]
  },
  {
   "cell_type": "markdown",
   "id": "8fc95984",
   "metadata": {
    "slideshow": {
     "slide_type": "subslide"
    }
   },
   "source": [
    "##### Example transposed convolution with PyTorch:"
   ]
  },
  {
   "cell_type": "code",
   "execution_count": 25,
   "id": "6ccc1f2e",
   "metadata": {
    "slideshow": {
     "slide_type": "fragment"
    }
   },
   "outputs": [
    {
     "data": {
      "text/plain": [
       "Parameter containing:\n",
       "tensor([[[[-0.1799, -0.2866,  0.0131],\n",
       "          [-0.3184, -0.2836,  0.1496],\n",
       "          [-0.0730,  0.1886, -0.0858]]]], requires_grad=True)"
      ]
     },
     "execution_count": 25,
     "metadata": {},
     "output_type": "execute_result"
    }
   ],
   "source": [
    "transposed_convolution = torch.nn.ConvTranspose2d(1,1,3, bias=False).float()\n",
    "transposed_convolution.weight"
   ]
  },
  {
   "cell_type": "code",
   "execution_count": 26,
   "id": "fa7d1fd0",
   "metadata": {
    "slideshow": {
     "slide_type": "fragment"
    }
   },
   "outputs": [
    {
     "data": {
      "text/plain": [
       "tensor([[[1., 0., 0.],\n",
       "         [0., 0., 0.],\n",
       "         [0., 0., 0.]]])"
      ]
     },
     "execution_count": 26,
     "metadata": {},
     "output_type": "execute_result"
    }
   ],
   "source": [
    "only_one_tensor = torch.tensor(np.array([[1,0,0],[0,0,0],[0,0,0]])).unsqueeze(0).float()\n",
    "only_one_tensor"
   ]
  },
  {
   "cell_type": "code",
   "execution_count": 27,
   "id": "d78ee5a5",
   "metadata": {
    "slideshow": {
     "slide_type": "fragment"
    }
   },
   "outputs": [
    {
     "data": {
      "text/plain": [
       "tensor([[[-0.1799, -0.2866,  0.0131,  0.0000,  0.0000],\n",
       "         [-0.3184, -0.2836,  0.1496,  0.0000,  0.0000],\n",
       "         [-0.0730,  0.1886, -0.0858,  0.0000,  0.0000],\n",
       "         [ 0.0000,  0.0000,  0.0000,  0.0000,  0.0000],\n",
       "         [ 0.0000,  0.0000,  0.0000,  0.0000,  0.0000]]],\n",
       "       grad_fn=<SqueezeBackward1>)"
      ]
     },
     "execution_count": 27,
     "metadata": {},
     "output_type": "execute_result"
    }
   ],
   "source": [
    "transposed_convolution(only_one_tensor)"
   ]
  },
  {
   "cell_type": "code",
   "execution_count": 28,
   "id": "20fb3596",
   "metadata": {
    "slideshow": {
     "slide_type": "subslide"
    }
   },
   "outputs": [
    {
     "data": {
      "text/plain": [
       "tensor([[[1., 0., 0.],\n",
       "         [0., 1., 0.],\n",
       "         [0., 0., 1.]]])"
      ]
     },
     "execution_count": 28,
     "metadata": {},
     "output_type": "execute_result"
    }
   ],
   "source": [
    "eye_tensor = torch.tensor(np.eye(3)).unsqueeze(0).float()\n",
    "eye_tensor"
   ]
  },
  {
   "cell_type": "code",
   "execution_count": 29,
   "id": "ec534cb5",
   "metadata": {
    "slideshow": {
     "slide_type": "fragment"
    }
   },
   "outputs": [
    {
     "data": {
      "text/plain": [
       "tensor([[[-0.1799, -0.2866,  0.0131,  0.0000,  0.0000],\n",
       "         [-0.3184, -0.4635, -0.1369,  0.0131,  0.0000],\n",
       "         [-0.0730, -0.1298, -0.5493, -0.1369,  0.0131],\n",
       "         [ 0.0000, -0.0730, -0.1298, -0.3694,  0.1496],\n",
       "         [ 0.0000,  0.0000, -0.0730,  0.1886, -0.0858]]],\n",
       "       grad_fn=<SqueezeBackward1>)"
      ]
     },
     "execution_count": 29,
     "metadata": {},
     "output_type": "execute_result"
    }
   ],
   "source": [
    "transposed_convolution(eye_tensor)"
   ]
  },
  {
   "cell_type": "markdown",
   "id": "bd90b1df",
   "metadata": {
    "slideshow": {
     "slide_type": "subslide"
    }
   },
   "source": [
    "### Upsampling layer"
   ]
  },
  {
   "cell_type": "markdown",
   "id": "67a728b0",
   "metadata": {},
   "source": [
    "Another possibility to increase the spatial resolution of the data is to employ so-called *upsampling layers*. The missing values in the resulting higher-dimensional output are usually calculated via any common interpolation method (e.g., bilinear, nearest neighbor, etc.)."
   ]
  },
  {
   "cell_type": "markdown",
   "id": "cee7c119",
   "metadata": {
    "slideshow": {
     "slide_type": "subslide"
    }
   },
   "source": [
    "<img src=\"figures/5/upsampling_layer.svg\" style=\"max-height:40vh\">"
   ]
  },
  {
   "cell_type": "markdown",
   "id": "47578760",
   "metadata": {
    "slideshow": {
     "slide_type": "subslide"
    }
   },
   "source": [
    "##### Example upsampling with PyTorch:"
   ]
  },
  {
   "cell_type": "code",
   "execution_count": 30,
   "id": "53874788",
   "metadata": {},
   "outputs": [],
   "source": [
    "upsample_layer = torch.nn.Upsample(scale_factor=(2.0, 2.0)).float()"
   ]
  },
  {
   "cell_type": "code",
   "execution_count": 31,
   "id": "de99e684",
   "metadata": {
    "slideshow": {
     "slide_type": "fragment"
    }
   },
   "outputs": [
    {
     "data": {
      "text/plain": [
       "tensor([[[[1., 1., 0., 0., 0., 0.],\n",
       "          [1., 1., 0., 0., 0., 0.],\n",
       "          [0., 0., 1., 1., 0., 0.],\n",
       "          [0., 0., 1., 1., 0., 0.],\n",
       "          [0., 0., 0., 0., 1., 1.],\n",
       "          [0., 0., 0., 0., 1., 1.]]]])"
      ]
     },
     "execution_count": 31,
     "metadata": {},
     "output_type": "execute_result"
    }
   ],
   "source": [
    "upsample_layer(torch.tensor(np.eye(3)).float().unsqueeze(0).unsqueeze(0))"
   ]
  },
  {
   "cell_type": "markdown",
   "id": "f3b32026",
   "metadata": {
    "slideshow": {
     "slide_type": "subslide"
    }
   },
   "source": [
    "### Batch normalization layers"
   ]
  },
  {
   "cell_type": "markdown",
   "id": "f6c91172",
   "metadata": {},
   "source": [
    "It has been shown to be beneficial for the training procedure if the outputs of neural network layers are normalized w.r.t. the mean and variance of the currently processed batch of training data. For this purpose, so-called *batch normalization layers* can be employed."
   ]
  },
  {
   "cell_type": "markdown",
   "id": "f4f33372",
   "metadata": {
    "slideshow": {
     "slide_type": "subslide"
    }
   },
   "source": [
    "During every training iteration, they normalize their input vector $\\mathbf{x}$ via:\n",
    "\n",
    "$\\begin{align} \n",
    "   y_i = \\frac{x_i - \\mu_i}{\\sqrt{\\sigma^2_i+ \\epsilon}} \\cdot \\gamma + \\beta \\,,\n",
    "\\end{align}$\n",
    "\n",
    "with $\\mu_i , \\sigma^2_i$ denoting the mean, respectively, the variance of the $i$-th element of the input estimated over the processed batch of training data and $\\beta, \\gamma$ representing the mean, respectively, the standard deviation assigned after the normalization. The parameters $\\beta, \\gamma$ can also be learned during training and are typically initialized with $\\beta = 0, \\gamma = 1$."
   ]
  },
  {
   "cell_type": "markdown",
   "id": "e964f629",
   "metadata": {
    "slideshow": {
     "slide_type": "subslide"
    }
   },
   "source": [
    "Typical implementations of batch normalization layers aggregate the estimated statistics over all training iterations in order to use them when the neural network is evaluated in forward mode."
   ]
  },
  {
   "cell_type": "markdown",
   "id": "530e9c64",
   "metadata": {
    "slideshow": {
     "slide_type": "subslide"
    }
   },
   "source": [
    "### Softmax layers"
   ]
  },
  {
   "cell_type": "markdown",
   "id": "28ac8fdb",
   "metadata": {},
   "source": [
    "Softmax layers apply the the so-called *softmax* function to their input. The input values are rescaled, so that they sum up to one and can be interpreted as a probability distribution."
   ]
  },
  {
   "cell_type": "markdown",
   "id": "41038e9f",
   "metadata": {
    "slideshow": {
     "slide_type": "fragment"
    }
   },
   "source": [
    "The softmax function is defined as:\n",
    "\n",
    "$\\begin{align} \n",
    "   \\mathrm{Softmax}(x_i) = \\frac{\\exp (x_i)}{\\sum\\limits_j \\exp (x_j) } \\,.\n",
    "\\end{align}$"
   ]
  },
  {
   "cell_type": "markdown",
   "id": "d1c513ff",
   "metadata": {
    "slideshow": {
     "slide_type": "slide"
    }
   },
   "source": [
    "## Universal approximation theorem"
   ]
  },
  {
   "cell_type": "markdown",
   "id": "3097b02c",
   "metadata": {},
   "source": [
    "It could be shown, that a neural network consisting only of one (sufficiently large) linear layer and one non-linear layer (together called one *hidden layer*) which are combined by a single linear building block (a so-called *fully connected layer*) can approximate any continuous function. \n",
    "\n",
    "In the following, we will sketch the proof of that theorem."
   ]
  },
  {
   "cell_type": "markdown",
   "id": "b33b8fb4",
   "metadata": {
    "slideshow": {
     "slide_type": "subslide"
    }
   },
   "source": [
    "<img src=\"figures/5/one_hidden_layer.svg\" style=\"max-height:40vh\">"
   ]
  },
  {
   "cell_type": "markdown",
   "id": "408c5bd6",
   "metadata": {
    "slideshow": {
     "slide_type": "subslide"
    }
   },
   "source": [
    "Consider again the sigmoid function $\\psi$ from before applied to a linear block, i.e., $\\psi(wx+b)$  form before. \n",
    "\n",
    "The position of the unit step approximated by $\\psi$ for high $w$ resides at the position $s=-\\frac{b}{w}$. Since this is easier to interpret, we will focus on the parameter $s$ from now on."
   ]
  },
  {
   "cell_type": "markdown",
   "id": "89c39bda",
   "metadata": {
    "slideshow": {
     "slide_type": "subslide"
    }
   },
   "source": [
    "We now consider two of such blocks added together by an additional single linear building block, i.e.,\n",
    "\n",
    "$\\begin{align} \n",
    "   \\psi_{s_1} (x)\\cdot w_1 + \\psi_{s_2}(x)\\cdot w_2  + b\n",
    "\\end{align}$\n",
    "\n",
    "with the respective positions $s_1, s_2$ of the step functions."
   ]
  },
  {
   "cell_type": "code",
   "execution_count": 32,
   "id": "ccb6aef9",
   "metadata": {
    "slideshow": {
     "slide_type": "subslide"
    }
   },
   "outputs": [],
   "source": [
    "def linear(x, s):\n",
    "    w = 1000\n",
    "    b = -1 * w * s\n",
    "    return x*w + b\n",
    "def plot_2_neurons(s1, s2, w1, w2):\n",
    "    xs = np.linspace(0,1,1000)\n",
    "    y1s = sigmoid(linear(xs, s1))\n",
    "    y2s = sigmoid(linear(xs, s2))\n",
    "    res = w1 * y1s + w2 * y2s\n",
    "    plt.clf()\n",
    "    plt.plot(xs,res)\n",
    "    plt.axhline(0, color='k')\n",
    "    plt.axvline(0, color='k')"
   ]
  },
  {
   "cell_type": "code",
   "execution_count": 33,
   "id": "2b14e9a8",
   "metadata": {
    "slideshow": {
     "slide_type": "subslide"
    }
   },
   "outputs": [
    {
     "data": {
      "text/plain": [
       "<Figure size 432x288 with 0 Axes>"
      ]
     },
     "metadata": {},
     "output_type": "display_data"
    },
    {
     "data": {
      "application/vnd.jupyter.widget-view+json": {
       "model_id": "bbce6d54af3c48eeb63bddf420294ba2",
       "version_major": 2,
       "version_minor": 0
      },
      "text/plain": [
       "interactive(children=(FloatSlider(value=0.2, description='s1', max=1.0), FloatSlider(value=0.6, description='s…"
      ]
     },
     "metadata": {},
     "output_type": "display_data"
    },
    {
     "data": {
      "text/plain": [
       "<function __main__.<lambda>(s1, s2, w1, w2)>"
      ]
     },
     "execution_count": 33,
     "metadata": {},
     "output_type": "execute_result"
    }
   ],
   "source": [
    "plt.figure()\n",
    "interact(lambda s1, s2, w1, w2: plot_2_neurons(s1, s2, w1, w2), \\\n",
    "         s1 = widgets.FloatSlider(min=0.0,max=1.0, step=0.1, value=0.2), \\\n",
    "         s2 = widgets.FloatSlider(min=0.0,max=1.0, step=0.1, value=0.6), \\\n",
    "         w1 = widgets.FloatSlider(min=-2,max=2, step=0.1, value=0.4), \\\n",
    "         w2 = widgets.FloatSlider(min=-2,max=2, step=0.1, value=0.6))"
   ]
  },
  {
   "cell_type": "markdown",
   "id": "37065924",
   "metadata": {
    "slideshow": {
     "slide_type": "subslide"
    }
   },
   "source": [
    "As can be seen, this addition yields to consecutive step functions what can be used, e.g., to approximate the $\\mathrm{rect}$-function.\n",
    "\n",
    "Therefore, if $s_1 < s_2$, it must hold $w_2 = -w_1$ to get a $\\mathrm{rect}$-function with height $h=\\left| w_1 \\right| = \\left| w_2 \\right|  $."
   ]
  },
  {
   "cell_type": "markdown",
   "id": "485d258d",
   "metadata": {
    "slideshow": {
     "slide_type": "subslide"
    }
   },
   "source": [
    "We can now add two of such pairs of blocks together to model two $\\mathrm{rect}$-functions, i.e., with start, stop positions $s_{1,1}, s_{1,2}$ and height $h_1$ of the first $\\mathrm{rect}$-function and $s_{2,1}, s_{2,2}, h_2$ for the second one."
   ]
  },
  {
   "cell_type": "code",
   "execution_count": 34,
   "id": "2c66851a",
   "metadata": {
    "slideshow": {
     "slide_type": "subslide"
    }
   },
   "outputs": [],
   "source": [
    "def rect_approx(x, s1, s2, h):\n",
    "    w1 = h\n",
    "    w2 = -1 * h\n",
    "    y1s = sigmoid(linear(x, s1))\n",
    "    y2s = sigmoid(linear(x, s2))\n",
    "    return w1 * y1s + w2 * y2s\n",
    "    \n",
    "def plot_2_rects(s11, s12, s21, s22, h1, h2):\n",
    "    xs = np.linspace(0,1,1000)\n",
    "    y1s = rect_approx(xs, s11, s12, h1)\n",
    "    y2s = rect_approx(xs, s21, s22, h2)\n",
    "    res = y1s + y2s\n",
    "    plt.clf()\n",
    "    plt.plot(xs,res)\n",
    "    plt.axhline(0, color='k')\n",
    "    plt.axvline(0, color='k')"
   ]
  },
  {
   "cell_type": "code",
   "execution_count": 35,
   "id": "b4230d17",
   "metadata": {
    "slideshow": {
     "slide_type": "subslide"
    }
   },
   "outputs": [
    {
     "data": {
      "text/plain": [
       "<Figure size 432x288 with 0 Axes>"
      ]
     },
     "metadata": {},
     "output_type": "display_data"
    },
    {
     "data": {
      "application/vnd.jupyter.widget-view+json": {
       "model_id": "813584aea4714a7c8955714012d78ef3",
       "version_major": 2,
       "version_minor": 0
      },
      "text/plain": [
       "interactive(children=(FloatSlider(value=0.2, description='s11', max=1.0), FloatSlider(value=0.3, description='…"
      ]
     },
     "metadata": {},
     "output_type": "display_data"
    },
    {
     "data": {
      "text/plain": [
       "<function __main__.<lambda>(s11, s12, s21, s22, h1, h2)>"
      ]
     },
     "execution_count": 35,
     "metadata": {},
     "output_type": "execute_result"
    }
   ],
   "source": [
    "plt.figure()\n",
    "interact(lambda s11, s12, s21, s22, h1, h2: plot_2_rects(s11, s12, s21, s22, h1, h2), \\\n",
    "         s11 = widgets.FloatSlider(min=0.0,max=1.0, step=0.1, value=0.2), \\\n",
    "         s12 = widgets.FloatSlider(min=0.0,max=1.0, step=0.1, value=0.3), \\\n",
    "         s21 = widgets.FloatSlider(min=0.0,max=1.0, step=0.1, value=0.4), \\\n",
    "         s22 = widgets.FloatSlider(min=0.0,max=1.0, step=0.1, value=0.6), \\\n",
    "         h1 = widgets.FloatSlider(min=-2,max=2, step=0.1, value=0.3), \\\n",
    "         h2 = widgets.FloatSlider(min=-2,max=2, step=0.1, value=-0.4))"
   ]
  },
  {
   "cell_type": "markdown",
   "id": "ed268092",
   "metadata": {
    "slideshow": {
     "slide_type": "subslide"
    }
   },
   "source": [
    "The more of these modules we add, the more complicated the shape of the output can be. When the width of the single $\\mathrm{rect}$-functions approaches zero and the number of $\\mathrm{rect}$-functions approaches infinity, any continuous function can be approximated.\n",
    "\n",
    "This also holds for higher dimensions."
   ]
  },
  {
   "cell_type": "code",
   "execution_count": 36,
   "id": "88d32f82",
   "metadata": {
    "slideshow": {
     "slide_type": "subslide"
    }
   },
   "outputs": [
    {
     "name": "stderr",
     "output_type": "stream",
     "text": [
      "<ipython-input-8-ee7cdfff0621>:2: RuntimeWarning: overflow encountered in exp\n",
      "  return 1/(1+np.exp(-1*x))\n"
     ]
    },
    {
     "data": {
      "text/plain": [
       "<matplotlib.lines.Line2D at 0x204d3788a90>"
      ]
     },
     "execution_count": 36,
     "metadata": {},
     "output_type": "execute_result"
    },
    {
     "data": {
      "image/png": "[encoded data removed]",
      "text/plain": [
       "<Figure size 432x288 with 1 Axes>"
      ]
     },
     "metadata": {
      "filenames": {
       "image/png": "C:\\Users\\meyjoh\\repos\\vlcompimg\\mynewbook\\_build\\jupyter_execute\\05_NeuralNetworksForCompImg_101_2.png"
      },
      "needs_background": "light"
     },
     "output_type": "display_data"
    }
   ],
   "source": [
    "xs = np.linspace(-0.2,1.2,1000)\n",
    "s1s = np.array([0, 0.2, 0.4, 0.6, 0.8])\n",
    "s2s = np.array([0.2, 0.4, 0.6, 0.8, 1.0])\n",
    "hs = np.array([0.1, 0.7, 0.1, -0.1, -0.8])\n",
    "res = np.zeros_like(xs)\n",
    "\n",
    "for i in range(0, s1s.shape[0]):\n",
    "    res = res + rect_approx(xs, s1s[i], s2s[i], hs[i])\n",
    "\n",
    "plt.figure()\n",
    "plt.plot(xs,res)\n",
    "plt.axhline(0, color='k')\n",
    "plt.axvline(0, color='k')"
   ]
  },
  {
   "cell_type": "markdown",
   "id": "6b7179ed",
   "metadata": {
    "slideshow": {
     "slide_type": "subslide"
    }
   },
   "source": [
    "Although the theorem states that such a simple structure is enough to approximate any function, in practice network structures with more but thinner layers (i.e., with fewer building blocks) are employed as they can achieve similar results with notably fewer building blocks."
   ]
  },
  {
   "cell_type": "markdown",
   "id": "f7dabfdf",
   "metadata": {
    "slideshow": {
     "slide_type": "slide"
    }
   },
   "source": [
    "## Optimization of network parameters\n",
    "\n",
    "How can we automatically determine the parameters $\\boldsymbol{\\theta}$ of the network so that $\\forall (\\mathbf{x},\\mathbf{y}) \\in \\mathcal{T}:\\text{dist}(\\phi_\\boldsymbol{\\theta}(\\mathbf{x}), \\mathbf{y} ) \\rightarrow \\text{Min.}\\,$?"
   ]
  },
  {
   "cell_type": "markdown",
   "id": "032f9ef0",
   "metadata": {
    "slideshow": {
     "slide_type": "subslide"
    }
   },
   "source": [
    "### Gradient descent"
   ]
  },
  {
   "cell_type": "markdown",
   "id": "5ee866dc",
   "metadata": {
    "slideshow": {
     "slide_type": "subslide"
    }
   },
   "source": [
    "To find this minimum, we compute the gradient $\\nabla\\text{dist}_\\boldsymbol{\\theta}$ of the distance function $\\text{dist}$ with respect to the network parameters $\\boldsymbol{\\theta}$.\n",
    "\n",
    "We can then iteratively update an initial guess $\\hat{\\boldsymbol{\\theta}}_0$ (e.g., random) of the network parameters by pushing it into the inverse direction of the gradient $\\nabla\\text{dist}_\\boldsymbol{\\theta}$, i.e., into the direction of the nearest minimum:\n",
    "\n",
    "$\\begin{align} \n",
    "   \\hat{\\boldsymbol{\\theta}}_{i+1} \\leftarrow \\hat{\\boldsymbol{\\theta}}_{i} - \\eta \\nabla\\text{dist}_\\boldsymbol{\\theta}(\\phi_{\\hat{\\boldsymbol{\\theta}_i}}(\\mathbf{X}), \\mathbf{Y} )\\,, (\\mathbf{X},\\mathbf{Y}) \\in \\mathcal{T}\n",
    "\\end{align}$\n",
    "\n",
    "with $\\mathbf{X}, \\mathbf{Y}$ indicating batches of multiple training vectors $(\\mathbf{x}, \\mathbf{y}) \\in \\mathcal{T}$ and $\\eta$ denoting the so-called *learning rate* or the *step size* for the gradient descent updates."
   ]
  },
  {
   "cell_type": "markdown",
   "id": "52e5d1c2",
   "metadata": {
    "slideshow": {
     "slide_type": "subslide"
    }
   },
   "source": [
    "* In every gradient descent iteration, the parameters are updated with regard to the respective batch of training samples $(\\mathbf{X}, \\mathbf{Y})$ chosen in that iteration.\n",
    "* In practical scenarios it is usually not possible to process the whole training set in one gradient descent step as the respective data would not fit into the available memory. \n",
    "* Hence, in every iteration another batch of training data is used, so that eventually all training samples have been used. The partitioning of $\\mathcal{T}$ into those batches is usually performed randomly. This is why this kind of gradient descent is sometimes referred to as *stochastic gradient descent*.\n",
    "* The set of gradient descent iterations needed to cycle through all training data once is a so-called *epoch*."
   ]
  },
  {
   "cell_type": "markdown",
   "id": "e9135e58",
   "metadata": {
    "slideshow": {
     "slide_type": "subslide"
    }
   },
   "source": [
    "### The chain rule and the backpropagation algorithm\n",
    "\n",
    "Calculating the gradient required for gradient descent by hand can be infeasible for large expressions. Fortunately, this process can be automated as we will see in the following."
   ]
  },
  {
   "cell_type": "markdown",
   "id": "66393811",
   "metadata": {
    "slideshow": {
     "slide_type": "subslide"
    }
   },
   "source": [
    "We start with an example.\n",
    "\n",
    "Assume we want to calculate the derivative (i.e., the gradient) of $y = \\log (x)^2$ with respect to $x$."
   ]
  },
  {
   "cell_type": "markdown",
   "id": "24fd3fd6",
   "metadata": {
    "slideshow": {
     "slide_type": "subslide"
    }
   },
   "source": [
    "We can express this function via intermediate variables for all basic math operations:\n",
    "\n",
    "$\\begin{align} \n",
    "   y &= v_2 \\\\\n",
    "   v_2 &= v_1^2 \\\\\n",
    "   v_1 &= \\log (x) \\,.\n",
    "\\end{align}$"
   ]
  },
  {
   "cell_type": "markdown",
   "id": "bf63a663",
   "metadata": {
    "slideshow": {
     "slide_type": "fragment"
    }
   },
   "source": [
    "In order to find the derivate of $y$ with respect to $x$, we can iteratively apply the chain rule to obtain:\n",
    "\n",
    "$\\begin{align} \n",
    "   \\frac{\\partial y}{\\partial x} = \\frac{\\partial y}{\\partial v_2} \\frac{\\partial v_2}{\\partial x} = \\frac{\\partial y}{\\partial v_2} \\frac{\\partial v_2}{\\partial v_1} \\frac{\\partial v_1}{\\partial x} \\,.\n",
    "\\end{align}$"
   ]
  },
  {
   "cell_type": "markdown",
   "id": "dfdb9058",
   "metadata": {
    "slideshow": {
     "slide_type": "subslide"
    }
   },
   "source": [
    "Those partial derivatives can easily be obtained for the respective terms:\n",
    "\n",
    "$\\begin{align} \n",
    "  \\frac{\\partial y}{\\partial v_2} &= 1 \\\\\n",
    "  \\frac{\\partial v_2}{\\partial v_1} &= 2v_1 \\\\\n",
    "  \\frac{\\partial v_1}{\\partial x} &= \\frac{1}{x}.\n",
    "\\end{align}$"
   ]
  },
  {
   "cell_type": "markdown",
   "id": "7045360b",
   "metadata": {
    "slideshow": {
     "slide_type": "subslide"
    }
   },
   "source": [
    "Hence, the sought derivate of $y$ w.r.t. $x$ is given by:\n",
    "\n",
    "$\\begin{align} \n",
    "  \\frac{\\partial y}{\\partial x} = \\frac{\\partial y}{\\partial v_2} \\frac{\\partial v_2}{\\partial v_1} \\frac{\\partial v_1}{\\partial x} = 1\\cdot 2v_1 \\cdot \\frac{1}{x} \\,.\n",
    "\\end{align}$"
   ]
  },
  {
   "cell_type": "markdown",
   "id": "53ddc66e",
   "metadata": {
    "slideshow": {
     "slide_type": "subslide"
    }
   },
   "source": [
    "This expression can be evaluated in reverse order (the so-called *backward pass*), i.e., from left to right, when the intermediate variables $v_2, v_1$ have been evaluated for some $x$ in the so-called *forward pass*."
   ]
  },
  {
   "cell_type": "markdown",
   "id": "72ec19d3",
   "metadata": {
    "slideshow": {
     "slide_type": "subslide"
    }
   },
   "source": [
    "When every basic mathematical function (e.g., $+, -, \\exp, \\log, \\sin, \\ldots$) also provides a method for the calculation of its gradient, the process of obtaining the derivative of an arbitrary complex expression, with respect to some variable and given the actual input numbers for the parameter(s), can be automated."
   ]
  },
  {
   "cell_type": "markdown",
   "id": "5bd55728",
   "metadata": {
    "slideshow": {
     "slide_type": "subslide"
    }
   },
   "source": [
    "During the forward pass, a calculation graph is constructed that represents the hierarchical relations of the individual mathematical functions in terms of the chain rule. The intermediate results for every operation are saved in the nodes of this graph. Then, the graph can be traversed backwards starting from all leaves and intermediate gradient values can be calculated for every node and can then be backpropagated to the root yielding the sought gradient.\n",
    "\n",
    "This approach is also known as the *backpropagation algorithm*."
   ]
  },
  {
   "cell_type": "markdown",
   "id": "fe7892d7",
   "metadata": {
    "slideshow": {
     "slide_type": "subslide"
    }
   },
   "source": [
    "##### Example implementation for $y = \\log (x)^2$"
   ]
  },
  {
   "cell_type": "code",
   "execution_count": 37,
   "id": "6d8b1bd6",
   "metadata": {
    "slideshow": {
     "slide_type": "subslide"
    }
   },
   "outputs": [],
   "source": [
    "def square(inp):\n",
    "    return inp**2\n",
    "\n",
    "def ln(inp):\n",
    "    return np.log(inp)\n",
    "\n",
    "def square_grad(inp, out):\n",
    "    inp.g = 2*inp*out.g\n",
    "    \n",
    "def ln_grad(inp, out):\n",
    "    inp.g = 1/inp * out.g"
   ]
  },
  {
   "cell_type": "code",
   "execution_count": 38,
   "id": "01cd7341",
   "metadata": {
    "slideshow": {
     "slide_type": "subslide"
    }
   },
   "outputs": [],
   "source": [
    "def y(x):\n",
    "    x = torch.tensor(x)\n",
    "    v1 = ln(x)\n",
    "    v2 = square(v1)\n",
    "        \n",
    "    v2.g = 1\n",
    "    square_grad(v1, v2)\n",
    "    ln_grad(x, v1)\n",
    "    \n",
    "    return v2, x.g"
   ]
  },
  {
   "cell_type": "code",
   "execution_count": 39,
   "id": "ce4e42a9",
   "metadata": {
    "slideshow": {
     "slide_type": "subslide"
    }
   },
   "outputs": [
    {
     "data": {
      "text/plain": [
       "(tensor(1.2069, dtype=torch.float64), tensor(0.7324, dtype=torch.float64))"
      ]
     },
     "execution_count": 39,
     "metadata": {},
     "output_type": "execute_result"
    }
   ],
   "source": [
    "y(3)"
   ]
  },
  {
   "cell_type": "markdown",
   "id": "68bf26b5",
   "metadata": {
    "slideshow": {
     "slide_type": "fragment"
    }
   },
   "source": [
    "Note: We just used PyTorch here so that we can easily introduce the property `.g` for all our variables."
   ]
  },
  {
   "cell_type": "markdown",
   "id": "138e82b4",
   "metadata": {
    "slideshow": {
     "slide_type": "subslide"
    }
   },
   "source": [
    "### Automatic differentiation\n",
    "\n",
    "There are various libraries that provide the functionality of backpropagation mentioned above without the user (i.e., the programmer) having to explicitly control it. Often a technique called *operator overloading* is employed that builds the computation graph required for the gradient calculation behind the scenes."
   ]
  },
  {
   "cell_type": "markdown",
   "id": "d43a6e81",
   "metadata": {
    "slideshow": {
     "slide_type": "subslide"
    }
   },
   "source": [
    "In PyTorch, calculating the gradient of our equation $y = \\log (x)^2$ w.r.t. $x$ could be achieved like this:"
   ]
  },
  {
   "cell_type": "code",
   "execution_count": 40,
   "id": "66ef9e4c",
   "metadata": {
    "slideshow": {
     "slide_type": "fragment"
    }
   },
   "outputs": [],
   "source": [
    "# Definition of our function using torch-routines:\n",
    "def y_torch(x):\n",
    "    return torch.square(torch.log(x))"
   ]
  },
  {
   "cell_type": "code",
   "execution_count": 41,
   "id": "f855365d",
   "metadata": {
    "slideshow": {
     "slide_type": "fragment"
    }
   },
   "outputs": [],
   "source": [
    "x = torch.tensor(3.0)    # Our input variable\n",
    "x.requires_grad = True   # We need the gradient with respect to x"
   ]
  },
  {
   "cell_type": "code",
   "execution_count": 42,
   "id": "fb0f0789",
   "metadata": {
    "slideshow": {
     "slide_type": "fragment"
    }
   },
   "outputs": [],
   "source": [
    "result = y_torch(x)      # Forward pass"
   ]
  },
  {
   "cell_type": "code",
   "execution_count": 43,
   "id": "cd62d3be",
   "metadata": {
    "slideshow": {
     "slide_type": "fragment"
    }
   },
   "outputs": [],
   "source": [
    "result.backward()        # Backward pass"
   ]
  },
  {
   "cell_type": "code",
   "execution_count": 44,
   "id": "604eada5",
   "metadata": {
    "slideshow": {
     "slide_type": "fragment"
    }
   },
   "outputs": [
    {
     "data": {
      "text/plain": [
       "tensor(0.7324)"
      ]
     },
     "execution_count": 44,
     "metadata": {},
     "output_type": "execute_result"
    }
   ],
   "source": [
    "x.grad                   # Access the gradient"
   ]
  },
  {
   "cell_type": "markdown",
   "id": "3979ab92",
   "metadata": {
    "slideshow": {
     "slide_type": "slide"
    }
   },
   "source": [
    "## Architectures and loss functions"
   ]
  },
  {
   "cell_type": "markdown",
   "id": "5f651262",
   "metadata": {},
   "source": [
    "During the past 10 years, several multi purpose neural network architectures (or architectural building blocks) have been proposed, which we will discover in the following paragraphs."
   ]
  },
  {
   "cell_type": "markdown",
   "id": "35fdfd19",
   "metadata": {
    "slideshow": {
     "slide_type": "fragment"
    }
   },
   "source": [
    "Depending on the task a neural network has to perform, i.e., the function it should approximate, appropriate architectures and suitable distance functions $\\mathrm{dist}$, so-called *loss functions* $\\ell$ for the training, have to be chosen."
   ]
  },
  {
   "cell_type": "markdown",
   "id": "2409741d",
   "metadata": {
    "slideshow": {
     "slide_type": "subslide"
    }
   },
   "source": [
    "### Deep convolutional networks for image classification"
   ]
  },
  {
   "cell_type": "markdown",
   "id": "09bc099e",
   "metadata": {},
   "source": [
    "In image classification tasks the neural network is supposed to assign a single class label $y$ to a given input image $\\mathbf{x}$, e.g. , the result could be a description of the scene visible in the image (e.g., a kitchen)."
   ]
  },
  {
   "cell_type": "markdown",
   "id": "8b586ebc",
   "metadata": {
    "slideshow": {
     "slide_type": "fragment"
    }
   },
   "source": [
    "Hence, typical image classification architectures successively decrease the input's spatial resolution while increasing the channel resolution."
   ]
  },
  {
   "cell_type": "markdown",
   "id": "02e7453a",
   "metadata": {
    "slideshow": {
     "slide_type": "subslide"
    }
   },
   "source": [
    "A prominent example are so-called *VGG neural networks* developed at the Visual Geometry Group (VGG) at University of Oxford by Karen Simonyan and Andrew Zisserman (see [Very Deep Convolutional Networks for Large-Scale Image Recognition](https://arxiv.org/abs/1409.1556)).\n",
    "\n",
    "The architecture looks as follows:"
   ]
  },
  {
   "cell_type": "markdown",
   "id": "d867b2b8",
   "metadata": {
    "slideshow": {
     "slide_type": "subslide"
    }
   },
   "source": [
    "<img src=\"figures/5/VGG_architecture.svg\" style=\"max-height:40vh\">"
   ]
  },
  {
   "cell_type": "markdown",
   "id": "4b1d53ec",
   "metadata": {
    "slideshow": {
     "slide_type": "subslide"
    }
   },
   "source": [
    "##### Cross-entropy loss"
   ]
  },
  {
   "cell_type": "markdown",
   "id": "f4d3a258",
   "metadata": {},
   "source": [
    "The so-called *cross-entropy loss* is a common loss function for (image) classification scenarios."
   ]
  },
  {
   "cell_type": "markdown",
   "id": "cb704697",
   "metadata": {
    "slideshow": {
     "slide_type": "fragment"
    }
   },
   "source": [
    "When the final layer of a classification neural network yields a vector $\\mathbf{y} \\in [0,1]^C$ of probabilities for all $C$ possible classes (e.g., obtained via a final softmax layer) and $i \\in [1,C]$ represents the index of the correct class, the cross-entropy loss is calculated via:\n",
    "\n",
    "$\\begin{align} \n",
    "   \\ell_\\mathrm{cross} = -\\log (y_i) \\,.\n",
    "\\end{align}$"
   ]
  },
  {
   "cell_type": "markdown",
   "id": "f41533ac",
   "metadata": {},
   "source": [
    "```{note}\n",
    "  In some libraries (e.g., PyTorch), the implementation of the cross-entropy loss automatically applies softmax to its input $\\mathbf{x}$ enforcing that all elements $x_i\\leq1$ and $\\sum_i x_i=1$.\n",
    "```"
   ]
  },
  {
   "cell_type": "markdown",
   "id": "637a1ae1",
   "metadata": {
    "slideshow": {
     "slide_type": "subslide"
    }
   },
   "source": [
    "### Residual nets / skip connections"
   ]
  },
  {
   "cell_type": "markdown",
   "id": "771c4c42",
   "metadata": {},
   "source": [
    "In 2016, Kaiming He et al. proposed in their paper [Deep Residual Learning for Image Recognition](https://openaccess.thecvf.com/content_cvpr_2016/papers/He_Deep_Residual_Learning_CVPR_2016_paper.pdf) to repeatedly introduce so-called *skip connections* which add the output of some layer to the output of a deeper layer as visualized in the following figure:"
   ]
  },
  {
   "cell_type": "markdown",
   "id": "7b0618b9",
   "metadata": {
    "slideshow": {
     "slide_type": "subslide"
    }
   },
   "source": [
    "<img src=\"figures/5/residual_block.svg\" style=\"max-height:40vh\">"
   ]
  },
  {
   "cell_type": "markdown",
   "id": "fe35eedb",
   "metadata": {
    "slideshow": {
     "slide_type": "subslide"
    }
   },
   "source": [
    "It has been shown, that employing this design principle makes networks easier to train and hence enables architectures with more layers.\n",
    "\n",
    "Intuitively, one could imagine the case where the network should learn the identity function at some layer, i.e., $\\mathcal{F}(\\mathbf{x}) = \\mathbf{x}$. By means of a residual block, it could simply learn $\\mathcal{F}(\\mathbf{x}) = \\mathbf{0}$ and the skip connection would yield $\\mathcal{F}(\\mathbf{x}) + \\mathbf{x} = \\mathbf{0} + \\mathbf{x} = \\mathbf{x}$."
   ]
  },
  {
   "cell_type": "markdown",
   "id": "11745919",
   "metadata": {
    "tags": [
     "book_only"
    ]
   },
   "source": [
    "```{note}\n",
    "  Sometimes, skip connections need to increase the dimension of the input $\\mathbf{x}$ so that it matches the dimension of $\\mathcal{F}(\\mathbf{x})$. This can be done by appending zeros (*zero padding*) or by a learned linear projection.\n",
    "```"
   ]
  },
  {
   "cell_type": "markdown",
   "id": "8ae4386f",
   "metadata": {
    "slideshow": {
     "slide_type": "subslide"
    }
   },
   "source": [
    "### Encoder / decoder modules"
   ]
  },
  {
   "cell_type": "markdown",
   "id": "cc650a57",
   "metadata": {},
   "source": [
    "The concept of so-called *encoders* and *decoders* is quite versatile and can be employed in different scenarios. As the names suggest, an encoder transforms the input into another, usually significantly lower dimensional space, the so-called *latent space*, and the decoder tries to reconstruct the original input based on the output of the encoder as precisely as possible. \n",
    "\n",
    "When used in concert as just described, such pairs of encoders and decoders are also called *auto encoders*.\n",
    "\n",
    "During training, usually the reconstruction loss, i.e., a pixel-wise mean squared error between the input $\\mathbf{x}$ and the reconstruction $\\hat{\\mathbf{x}}$ is minimized."
   ]
  },
  {
   "cell_type": "markdown",
   "id": "2fe5595d",
   "metadata": {
    "slideshow": {
     "slide_type": "subslide"
    }
   },
   "source": [
    "The following figure visualizes the concept:\n",
    "\n",
    "<img src=\"figures/5/encoder_decoder.svg\" style=\"max-height:40vh\">"
   ]
  },
  {
   "cell_type": "markdown",
   "id": "f210f31f",
   "metadata": {
    "slideshow": {
     "slide_type": "subslide"
    }
   },
   "source": [
    "Encoders usually involve multiple convolutional and pooling layers to reduce the spatial dimension, whereas decoders heavily rely on transposed convolutions and upsampling layers to increase spatial resolution."
   ]
  },
  {
   "cell_type": "markdown",
   "id": "1552b3d0",
   "metadata": {
    "slideshow": {
     "slide_type": "subslide"
    }
   },
   "source": [
    "The latent representation of the input can be exploited in various ways, e.g.:"
   ]
  },
  {
   "cell_type": "markdown",
   "id": "3af5b3a2",
   "metadata": {
    "slideshow": {
     "slide_type": "fragment"
    }
   },
   "source": [
    "* as a compression of the input to reduce the necessary amount of data or\n",
    "* to perform denoising, inverse filtering etc. and\n",
    "* to synthesize new images from the domain of the input data by drawing random vectors in the latent space and by feeding them into the decoder."
   ]
  },
  {
   "cell_type": "markdown",
   "id": "d875c048",
   "metadata": {
    "slideshow": {
     "slide_type": "subslide"
    }
   },
   "source": [
    "##### Mean squared error loss"
   ]
  },
  {
   "cell_type": "markdown",
   "id": "d48b146a",
   "metadata": {},
   "source": [
    "A straight forward choice of a loss function for such image-to-image-tasks is the *mean squared error (MSE) loss*:\n",
    "\n",
    "$\\begin{align} \n",
    "  \\ell_\\mathrm{MSE} = \\frac{1}{N} \\left\\| \\mathbf{Y} - \\phi (\\mathbf{X}) \\right\\|^2_2 \\,,\n",
    "\\end{align}$\n",
    "\n",
    "for a given batch $(\\mathbf{X},\\mathbf{Y}) \\in \\mathcal{T}$ of training samples and the total number $N$ of elements in $\\mathbf{X}$ or $\\mathbf{Y}$."
   ]
  },
  {
   "cell_type": "markdown",
   "id": "20898cff",
   "metadata": {
    "slideshow": {
     "slide_type": "subslide"
    }
   },
   "source": [
    "##### Anomaly detection for visual inspection"
   ]
  },
  {
   "cell_type": "markdown",
   "id": "c21e252c",
   "metadata": {},
   "source": [
    "As the latent representation focuses its limited amount of information on the significant and important aspects of the input images, it usually does not allow to reconstruct fine image details, e.g., like scratches. This can be exploited to detect such material defects by calculating the pixel-wise difference between the reconstruction $\\hat{\\mathbf{x}}$ and the input $\\mathbf{x}$."
   ]
  },
  {
   "cell_type": "markdown",
   "id": "6fed4d0a",
   "metadata": {
    "slideshow": {
     "slide_type": "subslide"
    }
   },
   "source": [
    "##### Variational auto encoders"
   ]
  },
  {
   "cell_type": "markdown",
   "id": "e0b1b5f1",
   "metadata": {},
   "source": [
    "The loss function used during the training of variational auto encoders includes a second term besides the reconstruction loss that forces the distribution of the latent representations to follow a normal distribution. \n",
    "\n",
    "This usually yields better synthesis performance when using the decoder on random samples drawn from the latent space."
   ]
  },
  {
   "cell_type": "markdown",
   "id": "8e8e2538",
   "metadata": {
    "slideshow": {
     "slide_type": "subslide"
    }
   },
   "source": [
    "### U-Net for segmentation or regression tasks"
   ]
  },
  {
   "cell_type": "markdown",
   "id": "9d3a521f",
   "metadata": {},
   "source": [
    "Named after its macroscopic shape which looks like the letter U, the so-called *U-Net* is a neural network mainly based on convolutional layers that performs a pixel-wise regression. This means that the network consumes images and yields images of the same size with updated pixel values.\n",
    "\n",
    "The U-Net has been introduced by Olaf Ronneberger et al. in 2015 (see [U-Net: Convolutional Networks for Biomedical Image Segmentation](http://arxiv.org/abs/1505.04597))."
   ]
  },
  {
   "cell_type": "markdown",
   "id": "92e6b428",
   "metadata": {
    "slideshow": {
     "slide_type": "fragment"
    }
   },
   "source": [
    "Its main use case is the pixel-wise segmentation of images (i.e., assigning individual class labels to every pixel), however it has also been employed for various other tasks as we will learn later on."
   ]
  },
  {
   "cell_type": "markdown",
   "id": "2d642374",
   "metadata": {
    "slideshow": {
     "slide_type": "subslide"
    }
   },
   "source": [
    "<img src=\"figures/5/u-net.svg\" style=\"max-height:80vh\">"
   ]
  },
  {
   "cell_type": "markdown",
   "id": "137cb0af",
   "metadata": {
    "slideshow": {
     "slide_type": "slide"
    }
   },
   "source": [
    "## Example applications"
   ]
  },
  {
   "cell_type": "markdown",
   "id": "abafb4fe",
   "metadata": {
    "slideshow": {
     "slide_type": "subslide"
    }
   },
   "source": [
    "### Denoising with neural networks"
   ]
  },
  {
   "cell_type": "markdown",
   "id": "a6b05137",
   "metadata": {},
   "source": [
    "For solving the problem of denoising we want a neural network $\\phi$ to approximate a function that takes a noisy input image $\\mathbf{x} = \\mathbf{i} + \\mathbf{n}$ and yields the image $\\mathbf{i}$ without the noise $\\mathbf{n}$:"
   ]
  },
  {
   "cell_type": "markdown",
   "id": "becaa050",
   "metadata": {
    "slideshow": {
     "slide_type": "fragment"
    }
   },
   "source": [
    "<img src=\"figures/5/dnn_denoising.svg\" style=\"max-height:40vh\">"
   ]
  },
  {
   "cell_type": "markdown",
   "id": "e834c0e8",
   "metadata": {
    "slideshow": {
     "slide_type": "subslide"
    }
   },
   "source": [
    "Apparently, the input and output dimensions of this network have to match, i.e., \n",
    "\n",
    "$\\begin{align} \n",
    "   \\mathrm{dim}\\, \\mathbf{x} = \\mathrm{dim}\\, \\phi(\\mathbf{x})\\,.\n",
    "\\end{align}$"
   ]
  },
  {
   "cell_type": "markdown",
   "id": "718bd29f",
   "metadata": {
    "slideshow": {
     "slide_type": "fragment"
    }
   },
   "source": [
    "Furthermore, the input $\\mathbf{x}$ represents an image with pixel values and the output $\\phi (\\mathbf{x})$ is again an image with pixel values. \n",
    "\n",
    "Such a problem to be solved by a neural network, where the output values are continuous, is called a *regression problem*."
   ]
  },
  {
   "cell_type": "markdown",
   "id": "cbb3eaf1",
   "metadata": {
    "slideshow": {
     "slide_type": "subslide"
    }
   },
   "source": [
    "Although it might be tempting to create a network that directly encodes the mapping from noisy to clear images, there is another way that showed to be easier to train and to yield better results:"
   ]
  },
  {
   "cell_type": "markdown",
   "id": "95c365d7",
   "metadata": {
    "slideshow": {
     "slide_type": "fragment"
    }
   },
   "source": [
    "* Train $\\phi$ to estimate the noise $\\mathbf{n}$ of the input $\\mathbf{x} = \\mathbf{i} + \\mathbf{n}$, i.e., $\\phi(\\mathbf{x}) = \\hat{\\mathbf{n}}$,"
   ]
  },
  {
   "cell_type": "markdown",
   "id": "ca113dde",
   "metadata": {
    "slideshow": {
     "slide_type": "fragment"
    }
   },
   "source": [
    "* then calculate an estimate of the sought noise-free image $\\hat{\\mathbf{i}} = \\mathbf{x} - \\hat{\\mathbf{n}}$."
   ]
  },
  {
   "cell_type": "markdown",
   "id": "61e61cfe",
   "metadata": {
    "slideshow": {
     "slide_type": "subslide"
    }
   },
   "source": [
    "This has been done by Kai Zhang et al. (see [Beyond a Gaussian Denoiser: Residual Learning of Deep CNN for Image Denoising](https://ieeexplore.ieee.org/abstract/document/7839189)):\n",
    "\n",
    "<img src=\"figures/5/residual_learning_denoising.svg\" style=\"max-height:40vh\">"
   ]
  },
  {
   "cell_type": "markdown",
   "id": "2e986808",
   "metadata": {
    "slideshow": {
     "slide_type": "subslide"
    }
   },
   "source": [
    "* Another advantage of this method by Zhang is the lack of fully connected layers. This enables that the neural network can be applied to any input size since there are no input size-dependent parameterized structures involved."
   ]
  },
  {
   "cell_type": "markdown",
   "id": "eb396fa8",
   "metadata": {
    "slideshow": {
     "slide_type": "subslide"
    }
   },
   "source": [
    "### Learned image signal processing unit"
   ]
  },
  {
   "cell_type": "markdown",
   "id": "54804dba",
   "metadata": {},
   "source": [
    "See the paper [Learning to See in the Dark](https://openaccess.thecvf.com/content_cvpr_2018/papers/Chen_Learning_to_See_CVPR_2018_paper.pdf) by Chen Chen et al."
   ]
  },
  {
   "cell_type": "markdown",
   "id": "00629d1e",
   "metadata": {
    "slideshow": {
     "slide_type": "subslide"
    }
   },
   "source": [
    "### Learned optics for single-shot high-dynamic-range imaging"
   ]
  },
  {
   "cell_type": "markdown",
   "id": "1765d810",
   "metadata": {},
   "source": [
    "See the paper [Deep Optics for Single-shot High-dynamic-range Imaging](https://openaccess.thecvf.com/content_CVPR_2020/papers/Metzler_Deep_Optics_for_Single-Shot_High-Dynamic-Range_Imaging_CVPR_2020_paper.pdf) by Metzler et al."
   ]
  },
  {
   "cell_type": "markdown",
   "id": "01407f9f",
   "metadata": {
    "slideshow": {
     "slide_type": "subslide"
    }
   },
   "source": [
    "## Tools, libraries and reading resources"
   ]
  },
  {
   "cell_type": "markdown",
   "id": "2530a5d0",
   "metadata": {},
   "source": [
    "* [PyTorch](https://pytorch.org/) famous Python library for neural network development.\n",
    "* [FastAI](https://www.fast.ai/) high-level API for PyTorch, very informative free online course, book."
   ]
  },
  {
   "cell_type": "markdown",
   "id": "ca227a2f",
   "metadata": {
    "tags": [
     "remove-cell"
    ]
   },
   "source": [
    "##### Archive"
   ]
  },
  {
   "cell_type": "code",
   "execution_count": 45,
   "id": "673e1c42",
   "metadata": {
    "tags": [
     "remove-cell"
    ]
   },
   "outputs": [],
   "source": [
    "def normalize(img):\n",
    "    return (img-np.min(img))/(np.max(img)-np.min(img))"
   ]
  },
  {
   "cell_type": "code",
   "execution_count": 46,
   "id": "7dcbf9b1",
   "metadata": {
    "tags": [
     "remove-cell"
    ]
   },
   "outputs": [
    {
     "data": {
      "image/png": "[encoded data removed]",
      "text/plain": [
       "<Figure size 432x288 with 2 Axes>"
      ]
     },
     "metadata": {
      "filenames": {
       "image/png": "C:\\Users\\meyjoh\\repos\\vlcompimg\\mynewbook\\_build\\jupyter_execute\\05_NeuralNetworksForCompImg_180_0.png"
      },
      "needs_background": "light"
     },
     "output_type": "display_data"
    }
   ],
   "source": [
    "img = cv2.resize(a:=misc.face(gray=True), (int((f:=0.25) * a.shape[1]), int(f*a.shape[0])))\n",
    "noise = np.random.randn(img.shape[0], img.shape[1]) * 50\n",
    "plt.subplot(1,2,1,  title=\"Noisy input\")\n",
    "plt.imshow(normalize(img+noise), cmap='gray')\n",
    "plt.subplot(1,2,2, title=\"Desired output\")\n",
    "plt.imshow(normalize(img), cmap='gray')\n",
    "plt.imsave(\"noisy.png\", img+noise, cmap='gray')\n",
    "plt.imsave(\"noise.png\", noise, cmap='gray')\n",
    "plt.imsave(\"img.png\", img, cmap='gray')"
   ]
  }
 ],
 "metadata": {
  "jupytext": {
   "formats": "ipynb,md:myst",
   "text_representation": {
    "extension": ".md",
    "format_name": "myst",
    "format_version": 0.13,
    "jupytext_version": "1.14.1"
   }
  },
  "kernelspec": {
   "display_name": "compimg",
   "language": "python",
   "name": "compimg"
  },
  "language_info": {
   "codemirror_mode": {
    "name": "ipython",
    "version": 3
   },
   "file_extension": ".py",
   "mimetype": "text/x-python",
   "name": "python",
   "nbconvert_exporter": "python",
   "pygments_lexer": "ipython3",
   "version": "3.8.10"
  },
  "source_map": [
   15,
   34,
   58,
   65,
   77,
   89,
   103,
   118,
   132,
   136,
   147,
   155,
   161,
   166,
   170,
   174,
   184,
   190,
   194,
   206,
   210,
   238,
   242,
   264,
   268,
   276,
   280,
   286,
   292,
   300,
   304,
   323,
   333,
   337,
   341,
   354,
   364,
   384,
   408,
   442,
   448,
   470,
   482,
   496,
   511,
   525,
   538,
   552,
   562,
   576,
   580,
   584,
   590,
   594,
   603,
   607,
   615,
   624,
   632,
   646,
   655,
   661,
   667,
   673,
   677,
   684,
   690,
   694,
   704,
   708,
   717,
   721,
   730,
   739,
   747,
   756,
   764,
   768,
   772,
   776,
   780,
   784,
   792,
   796,
   800,
   810,
   814,
   818,
   822,
   830,
   834,
   840,
   844,
   850,
   860,
   880,
   893,
   899,
   903,
   926,
   941,
   947,
   967,
   971,
   977,
   981,
   993,
   1000,
   1006,
   1012,
   1022,
   1030,
   1040,
   1048,
   1052,
   1056,
   1062,
   1066,
   1084,
   1101,
   1109,
   1113,
   1119,
   1123,
   1133,
   1142,
   1150,
   1158,
   1166,
   1170,
   1174,
   1178,
   1182,
   1186,
   1190,
   1196,
   1200,
   1204,
   1208,
   1216,
   1222,
   1226,
   1230,
   1234,
   1240,
   1246,
   1250,
   1258,
   1264,
   1268,
   1272,
   1278,
   1282,
   1292,
   1296,
   1300,
   1304,
   1310,
   1314,
   1320,
   1324,
   1328,
   1332,
   1336,
   1340,
   1344,
   1352,
   1358,
   1362,
   1366,
   1370,
   1376,
   1380,
   1384,
   1388,
   1392,
   1396,
   1400,
   1405,
   1409,
   1416
  ],
  "widgets": {
   "application/vnd.jupyter.widget-state+json": {
    "state": {
     "043d1bf9da494ee0819a406d876b339c": {
      "model_module": "@jupyter-widgets/base",
      "model_module_version": "1.2.0",
      "model_name": "LayoutModel",
      "state": {
       "_model_module": "@jupyter-widgets/base",
       "_model_module_version": "1.2.0",
       "_model_name": "LayoutModel",
       "_view_count": null,
       "_view_module": "@jupyter-widgets/base",
       "_view_module_version": "1.2.0",
       "_view_name": "LayoutView",
       "align_content": null,
       "align_items": null,
       "align_self": null,
       "border": null,
       "bottom": null,
       "display": null,
       "flex": null,
       "flex_flow": null,
       "grid_area": null,
       "grid_auto_columns": null,
       "grid_auto_flow": null,
       "grid_auto_rows": null,
       "grid_column": null,
       "grid_gap": null,
       "grid_row": null,
       "grid_template_areas": null,
       "grid_template_columns": null,
       "grid_template_rows": null,
       "height": null,
       "justify_content": null,
       "justify_items": null,
       "left": null,
       "margin": null,
       "max_height": null,
       "max_width": null,
       "min_height": null,
       "min_width": null,
       "object_fit": null,
       "object_position": null,
       "order": null,
       "overflow": null,
       "overflow_x": null,
       "overflow_y": null,
       "padding": null,
       "right": null,
       "top": null,
       "visibility": null,
       "width": null
      }
     },
     "04be344323a042779417ef9bc7b1bfd8": {
      "model_module": "@jupyter-widgets/controls",
      "model_module_version": "1.5.0",
      "model_name": "SliderStyleModel",
      "state": {
       "_model_module": "@jupyter-widgets/controls",
       "_model_module_version": "1.5.0",
       "_model_name": "SliderStyleModel",
       "_view_count": null,
       "_view_module": "@jupyter-widgets/base",
       "_view_module_version": "1.2.0",
       "_view_name": "StyleView",
       "description_width": "",
       "handle_color": null
      }
     },
     "0bb732783b0a469c946982dee4d7353d": {
      "model_module": "@jupyter-widgets/controls",
      "model_module_version": "1.5.0",
      "model_name": "FloatSliderModel",
      "state": {
       "_dom_classes": [],
       "_model_module": "@jupyter-widgets/controls",
       "_model_module_version": "1.5.0",
       "_model_name": "FloatSliderModel",
       "_view_count": null,
       "_view_module": "@jupyter-widgets/controls",
       "_view_module_version": "1.5.0",
       "_view_name": "FloatSliderView",
       "continuous_update": true,
       "description": "w2",
       "description_tooltip": null,
       "disabled": false,
       "layout": "IPY_MODEL_b8e7c3ca39d947bfbeeae196717464ec",
       "max": 2.0,
       "min": -2.0,
       "orientation": "horizontal",
       "readout": true,
       "readout_format": ".2f",
       "step": 0.1,
       "style": "IPY_MODEL_04be344323a042779417ef9bc7b1bfd8",
       "value": 0.6
      }
     },
     "0f83b8a912f3458d86d755322a531877": {
      "model_module": "@jupyter-widgets/controls",
      "model_module_version": "1.5.0",
      "model_name": "FloatSliderModel",
      "state": {
       "_dom_classes": [],
       "_model_module": "@jupyter-widgets/controls",
       "_model_module_version": "1.5.0",
       "_model_name": "FloatSliderModel",
       "_view_count": null,
       "_view_module": "@jupyter-widgets/controls",
       "_view_module_version": "1.5.0",
       "_view_name": "FloatSliderView",
       "continuous_update": true,
       "description": "s21",
       "description_tooltip": null,
       "disabled": false,
       "layout": "IPY_MODEL_e9b441f5fa8d4991a45d9e276f1b6d6c",
       "max": 1.0,
       "min": 0.0,
       "orientation": "horizontal",
       "readout": true,
       "readout_format": ".2f",
       "step": 0.1,
       "style": "IPY_MODEL_a465b6584f2d456e842f4ab0087c35ca",
       "value": 0.4
      }
     },
     "104e584d3a694f8c82def7ea5568ae41": {
      "model_module": "@jupyter-widgets/controls",
      "model_module_version": "1.5.0",
      "model_name": "IntSliderModel",
      "state": {
       "_dom_classes": [],
       "_model_module": "@jupyter-widgets/controls",
       "_model_module_version": "1.5.0",
       "_model_name": "IntSliderModel",
       "_view_count": null,
       "_view_module": "@jupyter-widgets/controls",
       "_view_module_version": "1.5.0",
       "_view_name": "IntSliderView",
       "continuous_update": true,
       "description": "i",
       "description_tooltip": null,
       "disabled": false,
       "layout": "IPY_MODEL_1ef4e1bff89047d2bd3199d120725d40",
       "max": 5,
       "min": 1,
       "orientation": "horizontal",
       "readout": true,
       "readout_format": "d",
       "step": 1,
       "style": "IPY_MODEL_33fdbcfcea1a4ac9a8c0a8e50f7acf97",
       "value": 5
      }
     },
     "11d7a5866997428c8a5c8cfd6f21cac9": {
      "model_module": "@jupyter-widgets/base",
      "model_module_version": "1.2.0",
      "model_name": "LayoutModel",
      "state": {
       "_model_module": "@jupyter-widgets/base",
       "_model_module_version": "1.2.0",
       "_model_name": "LayoutModel",
       "_view_count": null,
       "_view_module": "@jupyter-widgets/base",
       "_view_module_version": "1.2.0",
       "_view_name": "LayoutView",
       "align_content": null,
       "align_items": null,
       "align_self": null,
       "border": null,
       "bottom": null,
       "display": null,
       "flex": null,
       "flex_flow": null,
       "grid_area": null,
       "grid_auto_columns": null,
       "grid_auto_flow": null,
       "grid_auto_rows": null,
       "grid_column": null,
       "grid_gap": null,
       "grid_row": null,
       "grid_template_areas": null,
       "grid_template_columns": null,
       "grid_template_rows": null,
       "height": null,
       "justify_content": null,
       "justify_items": null,
       "left": null,
       "margin": null,
       "max_height": null,
       "max_width": null,
       "min_height": null,
       "min_width": null,
       "object_fit": null,
       "object_position": null,
       "order": null,
       "overflow": null,
       "overflow_x": null,
       "overflow_y": null,
       "padding": null,
       "right": null,
       "top": null,
       "visibility": null,
       "width": null
      }
     },
     "159e359e3a3e41ff9e439f26c947bb8a": {
      "model_module": "@jupyter-widgets/controls",
      "model_module_version": "1.5.0",
      "model_name": "IntSliderModel",
      "state": {
       "_dom_classes": [],
       "_model_module": "@jupyter-widgets/controls",
       "_model_module_version": "1.5.0",
       "_model_name": "IntSliderModel",
       "_view_count": null,
       "_view_module": "@jupyter-widgets/controls",
       "_view_module_version": "1.5.0",
       "_view_name": "IntSliderView",
       "continuous_update": true,
       "description": "i",
       "description_tooltip": null,
       "disabled": false,
       "layout": "IPY_MODEL_043d1bf9da494ee0819a406d876b339c",
       "max": 3,
       "min": 0,
       "orientation": "horizontal",
       "readout": true,
       "readout_format": "d",
       "step": 1,
       "style": "IPY_MODEL_8978bd4ab98e4096a095335e51fabf7a",
       "value": 3
      }
     },
     "1ef4e1bff89047d2bd3199d120725d40": {
      "model_module": "@jupyter-widgets/base",
      "model_module_version": "1.2.0",
      "model_name": "LayoutModel",
      "state": {
       "_model_module": "@jupyter-widgets/base",
       "_model_module_version": "1.2.0",
       "_model_name": "LayoutModel",
       "_view_count": null,
       "_view_module": "@jupyter-widgets/base",
       "_view_module_version": "1.2.0",
       "_view_name": "LayoutView",
       "align_content": null,
       "align_items": null,
       "align_self": null,
       "border": null,
       "bottom": null,
       "display": null,
       "flex": null,
       "flex_flow": null,
       "grid_area": null,
       "grid_auto_columns": null,
       "grid_auto_flow": null,
       "grid_auto_rows": null,
       "grid_column": null,
       "grid_gap": null,
       "grid_row": null,
       "grid_template_areas": null,
       "grid_template_columns": null,
       "grid_template_rows": null,
       "height": null,
       "justify_content": null,
       "justify_items": null,
       "left": null,
       "margin": null,
       "max_height": null,
       "max_width": null,
       "min_height": null,
       "min_width": null,
       "object_fit": null,
       "object_position": null,
       "order": null,
       "overflow": null,
       "overflow_x": null,
       "overflow_y": null,
       "padding": null,
       "right": null,
       "top": null,
       "visibility": null,
       "width": null
      }
     },
     "2219a013754345a089e6c64485373750": {
      "model_module": "@jupyter-widgets/controls",
      "model_module_version": "1.5.0",
      "model_name": "VBoxModel",
      "state": {
       "_dom_classes": [
        "widget-interact"
       ],
       "_model_module": "@jupyter-widgets/controls",
       "_model_module_version": "1.5.0",
       "_model_name": "VBoxModel",
       "_view_count": null,
       "_view_module": "@jupyter-widgets/controls",
       "_view_module_version": "1.5.0",
       "_view_name": "VBoxView",
       "box_style": "",
       "children": [
        "IPY_MODEL_5e457c4450974563b44a362b80a12e31",
        "IPY_MODEL_d1e53f58318042a48dc61702fbeb5fe5"
       ],
       "layout": "IPY_MODEL_64df6696f82643c6be24f412cb29e805"
      }
     },
     "223d89371ab1430fadc9e6000c82d42c": {
      "model_module": "@jupyter-widgets/base",
      "model_module_version": "1.2.0",
      "model_name": "LayoutModel",
      "state": {
       "_model_module": "@jupyter-widgets/base",
       "_model_module_version": "1.2.0",
       "_model_name": "LayoutModel",
       "_view_count": null,
       "_view_module": "@jupyter-widgets/base",
       "_view_module_version": "1.2.0",
       "_view_name": "LayoutView",
       "align_content": null,
       "align_items": null,
       "align_self": null,
       "border": null,
       "bottom": null,
       "display": null,
       "flex": null,
       "flex_flow": null,
       "grid_area": null,
       "grid_auto_columns": null,
       "grid_auto_flow": null,
       "grid_auto_rows": null,
       "grid_column": null,
       "grid_gap": null,
       "grid_row": null,
       "grid_template_areas": null,
       "grid_template_columns": null,
       "grid_template_rows": null,
       "height": null,
       "justify_content": null,
       "justify_items": null,
       "left": null,
       "margin": null,
       "max_height": null,
       "max_width": null,
       "min_height": null,
       "min_width": null,
       "object_fit": null,
       "object_position": null,
       "order": null,
       "overflow": null,
       "overflow_x": null,
       "overflow_y": null,
       "padding": null,
       "right": null,
       "top": null,
       "visibility": null,
       "width": null
      }
     },
     "224bb24216a64f459f32217f09be92ff": {
      "model_module": "@jupyter-widgets/controls",
      "model_module_version": "1.5.0",
      "model_name": "FloatSliderModel",
      "state": {
       "_dom_classes": [],
       "_model_module": "@jupyter-widgets/controls",
       "_model_module_version": "1.5.0",
       "_model_name": "FloatSliderModel",
       "_view_count": null,
       "_view_module": "@jupyter-widgets/controls",
       "_view_module_version": "1.5.0",
       "_view_name": "FloatSliderView",
       "continuous_update": true,
       "description": "s11",
       "description_tooltip": null,
       "disabled": false,
       "layout": "IPY_MODEL_11d7a5866997428c8a5c8cfd6f21cac9",
       "max": 1.0,
       "min": 0.0,
       "orientation": "horizontal",
       "readout": true,
       "readout_format": ".2f",
       "step": 0.1,
       "style": "IPY_MODEL_6a65945eef11474ab534fbe93ed5e274",
       "value": 0.2
      }
     },
     "27f136dcc1a5485fb6ef005ae1a90cf9": {
      "model_module": "@jupyter-widgets/controls",
      "model_module_version": "1.5.0",
      "model_name": "FloatSliderModel",
      "state": {
       "_dom_classes": [],
       "_model_module": "@jupyter-widgets/controls",
       "_model_module_version": "1.5.0",
       "_model_name": "FloatSliderModel",
       "_view_count": null,
       "_view_module": "@jupyter-widgets/controls",
       "_view_module_version": "1.5.0",
       "_view_name": "FloatSliderView",
       "continuous_update": true,
       "description": "b",
       "description_tooltip": null,
       "disabled": false,
       "layout": "IPY_MODEL_c0abbf0e19944621bc20e608fe36d9b8",
       "max": 100.0,
       "min": -100.0,
       "orientation": "horizontal",
       "readout": true,
       "readout_format": ".2f",
       "step": 1.0,
       "style": "IPY_MODEL_9ba735ad13664f5482af1ecfb0da444c",
       "value": -4.0
      }
     },
     "33fdbcfcea1a4ac9a8c0a8e50f7acf97": {
      "model_module": "@jupyter-widgets/controls",
      "model_module_version": "1.5.0",
      "model_name": "SliderStyleModel",
      "state": {
       "_model_module": "@jupyter-widgets/controls",
       "_model_module_version": "1.5.0",
       "_model_name": "SliderStyleModel",
       "_view_count": null,
       "_view_module": "@jupyter-widgets/base",
       "_view_module_version": "1.2.0",
       "_view_name": "StyleView",
       "description_width": "",
       "handle_color": null
      }
     },
     "44775c064c8c4c958868751e213180c7": {
      "model_module": "@jupyter-widgets/controls",
      "model_module_version": "1.5.0",
      "model_name": "SliderStyleModel",
      "state": {
       "_model_module": "@jupyter-widgets/controls",
       "_model_module_version": "1.5.0",
       "_model_name": "SliderStyleModel",
       "_view_count": null,
       "_view_module": "@jupyter-widgets/base",
       "_view_module_version": "1.2.0",
       "_view_name": "StyleView",
       "description_width": "",
       "handle_color": null
      }
     },
     "4883346dac4f4c2096870bbd92a15d9d": {
      "model_module": "@jupyter-widgets/output",
      "model_module_version": "1.0.0",
      "model_name": "OutputModel",
      "state": {
       "_dom_classes": [],
       "_model_module": "@jupyter-widgets/output",
       "_model_module_version": "1.0.0",
       "_model_name": "OutputModel",
       "_view_count": null,
       "_view_module": "@jupyter-widgets/output",
       "_view_module_version": "1.0.0",
       "_view_name": "OutputView",
       "layout": "IPY_MODEL_a0eef6bf41e2440e94c33b0c61910152",
       "msg_id": "",
       "outputs": [
        {
         "data": {
          "text/html": "<img src=\"figures/5/pooling_layer_5.svg\" style=\"max-height:50vh\"/>",
          "text/plain": "<IPython.core.display.HTML object>"
         },
         "metadata": {},
         "output_type": "display_data"
        }
       ]
      }
     },
     "4a252bd21e0d4b4d90cec9c5c0a527e8": {
      "model_module": "@jupyter-widgets/base",
      "model_module_version": "1.2.0",
      "model_name": "LayoutModel",
      "state": {
       "_model_module": "@jupyter-widgets/base",
       "_model_module_version": "1.2.0",
       "_model_name": "LayoutModel",
       "_view_count": null,
       "_view_module": "@jupyter-widgets/base",
       "_view_module_version": "1.2.0",
       "_view_name": "LayoutView",
       "align_content": null,
       "align_items": null,
       "align_self": null,
       "border": null,
       "bottom": null,
       "display": null,
       "flex": null,
       "flex_flow": null,
       "grid_area": null,
       "grid_auto_columns": null,
       "grid_auto_flow": null,
       "grid_auto_rows": null,
       "grid_column": null,
       "grid_gap": null,
       "grid_row": null,
       "grid_template_areas": null,
       "grid_template_columns": null,
       "grid_template_rows": null,
       "height": null,
       "justify_content": null,
       "justify_items": null,
       "left": null,
       "margin": null,
       "max_height": null,
       "max_width": null,
       "min_height": null,
       "min_width": null,
       "object_fit": null,
       "object_position": null,
       "order": null,
       "overflow": null,
       "overflow_x": null,
       "overflow_y": null,
       "padding": null,
       "right": null,
       "top": null,
       "visibility": null,
       "width": null
      }
     },
     "4bffd02cee504c0cb7524a74a0154bf0": {
      "model_module": "@jupyter-widgets/controls",
      "model_module_version": "1.5.0",
      "model_name": "VBoxModel",
      "state": {
       "_dom_classes": [
        "widget-interact"
       ],
       "_model_module": "@jupyter-widgets/controls",
       "_model_module_version": "1.5.0",
       "_model_name": "VBoxModel",
       "_view_count": null,
       "_view_module": "@jupyter-widgets/controls",
       "_view_module_version": "1.5.0",
       "_view_name": "VBoxView",
       "box_style": "",
       "children": [
        "IPY_MODEL_104e584d3a694f8c82def7ea5568ae41",
        "IPY_MODEL_4883346dac4f4c2096870bbd92a15d9d"
       ],
       "layout": "IPY_MODEL_a0723853831448c08675f03d2ce1f014"
      }
     },
     "504f3dcacc6046368a881a15f01560c3": {
      "model_module": "@jupyter-widgets/base",
      "model_module_version": "1.2.0",
      "model_name": "LayoutModel",
      "state": {
       "_model_module": "@jupyter-widgets/base",
       "_model_module_version": "1.2.0",
       "_model_name": "LayoutModel",
       "_view_count": null,
       "_view_module": "@jupyter-widgets/base",
       "_view_module_version": "1.2.0",
       "_view_name": "LayoutView",
       "align_content": null,
       "align_items": null,
       "align_self": null,
       "border": null,
       "bottom": null,
       "display": null,
       "flex": null,
       "flex_flow": null,
       "grid_area": null,
       "grid_auto_columns": null,
       "grid_auto_flow": null,
       "grid_auto_rows": null,
       "grid_column": null,
       "grid_gap": null,
       "grid_row": null,
       "grid_template_areas": null,
       "grid_template_columns": null,
       "grid_template_rows": null,
       "height": null,
       "justify_content": null,
       "justify_items": null,
       "left": null,
       "margin": null,
       "max_height": null,
       "max_width": null,
       "min_height": null,
       "min_width": null,
       "object_fit": null,
       "object_position": null,
       "order": null,
       "overflow": null,
       "overflow_x": null,
       "overflow_y": null,
       "padding": null,
       "right": null,
       "top": null,
       "visibility": null,
       "width": null
      }
     },
     "528ba22f935b4f769947b5ccc11097ea": {
      "model_module": "@jupyter-widgets/controls",
      "model_module_version": "1.5.0",
      "model_name": "VBoxModel",
      "state": {
       "_dom_classes": [
        "widget-interact"
       ],
       "_model_module": "@jupyter-widgets/controls",
       "_model_module_version": "1.5.0",
       "_model_name": "VBoxModel",
       "_view_count": null,
       "_view_module": "@jupyter-widgets/controls",
       "_view_module_version": "1.5.0",
       "_view_name": "VBoxView",
       "box_style": "",
       "children": [
        "IPY_MODEL_159e359e3a3e41ff9e439f26c947bb8a",
        "IPY_MODEL_8ea852648c2246859119cd08efd5e585"
       ],
       "layout": "IPY_MODEL_dccf5a3e7d5d4370a0e1f29ed9665270"
      }
     },
     "59b47dd8d9154f66865c0f30a2d022b2": {
      "model_module": "@jupyter-widgets/controls",
      "model_module_version": "1.5.0",
      "model_name": "SliderStyleModel",
      "state": {
       "_model_module": "@jupyter-widgets/controls",
       "_model_module_version": "1.5.0",
       "_model_name": "SliderStyleModel",
       "_view_count": null,
       "_view_module": "@jupyter-widgets/base",
       "_view_module_version": "1.2.0",
       "_view_name": "StyleView",
       "description_width": "",
       "handle_color": null
      }
     },
     "5e457c4450974563b44a362b80a12e31": {
      "model_module": "@jupyter-widgets/controls",
      "model_module_version": "1.5.0",
      "model_name": "IntSliderModel",
      "state": {
       "_dom_classes": [],
       "_model_module": "@jupyter-widgets/controls",
       "_model_module_version": "1.5.0",
       "_model_name": "IntSliderModel",
       "_view_count": null,
       "_view_module": "@jupyter-widgets/controls",
       "_view_module_version": "1.5.0",
       "_view_name": "IntSliderView",
       "continuous_update": true,
       "description": "i",
       "description_tooltip": null,
       "disabled": false,
       "layout": "IPY_MODEL_887111d038b241b8bc78b86127c485be",
       "max": 5,
       "min": 0,
       "orientation": "horizontal",
       "readout": true,
       "readout_format": "d",
       "step": 1,
       "style": "IPY_MODEL_a6575c3698554ce091a54ca22e2e82de",
       "value": 5
      }
     },
     "64df6696f82643c6be24f412cb29e805": {
      "model_module": "@jupyter-widgets/base",
      "model_module_version": "1.2.0",
      "model_name": "LayoutModel",
      "state": {
       "_model_module": "@jupyter-widgets/base",
       "_model_module_version": "1.2.0",
       "_model_name": "LayoutModel",
       "_view_count": null,
       "_view_module": "@jupyter-widgets/base",
       "_view_module_version": "1.2.0",
       "_view_name": "LayoutView",
       "align_content": null,
       "align_items": null,
       "align_self": null,
       "border": null,
       "bottom": null,
       "display": null,
       "flex": null,
       "flex_flow": null,
       "grid_area": null,
       "grid_auto_columns": null,
       "grid_auto_flow": null,
       "grid_auto_rows": null,
       "grid_column": null,
       "grid_gap": null,
       "grid_row": null,
       "grid_template_areas": null,
       "grid_template_columns": null,
       "grid_template_rows": null,
       "height": null,
       "justify_content": null,
       "justify_items": null,
       "left": null,
       "margin": null,
       "max_height": null,
       "max_width": null,
       "min_height": null,
       "min_width": null,
       "object_fit": null,
       "object_position": null,
       "order": null,
       "overflow": null,
       "overflow_x": null,
       "overflow_y": null,
       "padding": null,
       "right": null,
       "top": null,
       "visibility": null,
       "width": null
      }
     },
     "67b517297711495cb0df65c6867cff96": {
      "model_module": "@jupyter-widgets/controls",
      "model_module_version": "1.5.0",
      "model_name": "SliderStyleModel",
      "state": {
       "_model_module": "@jupyter-widgets/controls",
       "_model_module_version": "1.5.0",
       "_model_name": "SliderStyleModel",
       "_view_count": null,
       "_view_module": "@jupyter-widgets/base",
       "_view_module_version": "1.2.0",
       "_view_name": "StyleView",
       "description_width": "",
       "handle_color": null
      }
     },
     "695a781421614471b9885580d70debbe": {
      "model_module": "@jupyter-widgets/controls",
      "model_module_version": "1.5.0",
      "model_name": "FloatSliderModel",
      "state": {
       "_dom_classes": [],
       "_model_module": "@jupyter-widgets/controls",
       "_model_module_version": "1.5.0",
       "_model_name": "FloatSliderModel",
       "_view_count": null,
       "_view_module": "@jupyter-widgets/controls",
       "_view_module_version": "1.5.0",
       "_view_name": "FloatSliderView",
       "continuous_update": true,
       "description": "s1",
       "description_tooltip": null,
       "disabled": false,
       "layout": "IPY_MODEL_cf0a5b646e3940329c12158861c965dc",
       "max": 1.0,
       "min": 0.0,
       "orientation": "horizontal",
       "readout": true,
       "readout_format": ".2f",
       "step": 0.1,
       "style": "IPY_MODEL_d2f4b3f7424d4b448e54fa3700387dfe",
       "value": 0.2
      }
     },
     "6a65945eef11474ab534fbe93ed5e274": {
      "model_module": "@jupyter-widgets/controls",
      "model_module_version": "1.5.0",
      "model_name": "SliderStyleModel",
      "state": {
       "_model_module": "@jupyter-widgets/controls",
       "_model_module_version": "1.5.0",
       "_model_name": "SliderStyleModel",
       "_view_count": null,
       "_view_module": "@jupyter-widgets/base",
       "_view_module_version": "1.2.0",
       "_view_name": "StyleView",
       "description_width": "",
       "handle_color": null
      }
     },
     "6c42ec8ea8ad4de9a4285a1974a99fbd": {
      "model_module": "@jupyter-widgets/output",
      "model_module_version": "1.0.0",
      "model_name": "OutputModel",
      "state": {
       "_dom_classes": [],
       "_model_module": "@jupyter-widgets/output",
       "_model_module_version": "1.0.0",
       "_model_name": "OutputModel",
       "_view_count": null,
       "_view_module": "@jupyter-widgets/output",
       "_view_module_version": "1.0.0",
       "_view_name": "OutputView",
       "layout": "IPY_MODEL_ca7ddcc461494d5b93b673f57281e4fb",
       "msg_id": "",
       "outputs": [
        {
         "data": {
          "image/png": "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\n",
          "text/plain": "<Figure size 432x288 with 1 Axes>"
         },
         "metadata": {
          "needs_background": "light"
         },
         "output_type": "display_data"
        }
       ]
      }
     },
     "6e075910055c4dbba17919d9025592fc": {
      "model_module": "@jupyter-widgets/base",
      "model_module_version": "1.2.0",
      "model_name": "LayoutModel",
      "state": {
       "_model_module": "@jupyter-widgets/base",
       "_model_module_version": "1.2.0",
       "_model_name": "LayoutModel",
       "_view_count": null,
       "_view_module": "@jupyter-widgets/base",
       "_view_module_version": "1.2.0",
       "_view_name": "LayoutView",
       "align_content": null,
       "align_items": null,
       "align_self": null,
       "border": null,
       "bottom": null,
       "display": null,
       "flex": null,
       "flex_flow": null,
       "grid_area": null,
       "grid_auto_columns": null,
       "grid_auto_flow": null,
       "grid_auto_rows": null,
       "grid_column": null,
       "grid_gap": null,
       "grid_row": null,
       "grid_template_areas": null,
       "grid_template_columns": null,
       "grid_template_rows": null,
       "height": null,
       "justify_content": null,
       "justify_items": null,
       "left": null,
       "margin": null,
       "max_height": null,
       "max_width": null,
       "min_height": null,
       "min_width": null,
       "object_fit": null,
       "object_position": null,
       "order": null,
       "overflow": null,
       "overflow_x": null,
       "overflow_y": null,
       "padding": null,
       "right": null,
       "top": null,
       "visibility": null,
       "width": null
      }
     },
     "6eaadeccc872418a9c7dc08f59060dd5": {
      "model_module": "@jupyter-widgets/controls",
      "model_module_version": "1.5.0",
      "model_name": "SliderStyleModel",
      "state": {
       "_model_module": "@jupyter-widgets/controls",
       "_model_module_version": "1.5.0",
       "_model_name": "SliderStyleModel",
       "_view_count": null,
       "_view_module": "@jupyter-widgets/base",
       "_view_module_version": "1.2.0",
       "_view_name": "StyleView",
       "description_width": "",
       "handle_color": null
      }
     },
     "7463aa23e6184ade991bf263fccb974d": {
      "model_module": "@jupyter-widgets/base",
      "model_module_version": "1.2.0",
      "model_name": "LayoutModel",
      "state": {
       "_model_module": "@jupyter-widgets/base",
       "_model_module_version": "1.2.0",
       "_model_name": "LayoutModel",
       "_view_count": null,
       "_view_module": "@jupyter-widgets/base",
       "_view_module_version": "1.2.0",
       "_view_name": "LayoutView",
       "align_content": null,
       "align_items": null,
       "align_self": null,
       "border": null,
       "bottom": null,
       "display": null,
       "flex": null,
       "flex_flow": null,
       "grid_area": null,
       "grid_auto_columns": null,
       "grid_auto_flow": null,
       "grid_auto_rows": null,
       "grid_column": null,
       "grid_gap": null,
       "grid_row": null,
       "grid_template_areas": null,
       "grid_template_columns": null,
       "grid_template_rows": null,
       "height": null,
       "justify_content": null,
       "justify_items": null,
       "left": null,
       "margin": null,
       "max_height": null,
       "max_width": null,
       "min_height": null,
       "min_width": null,
       "object_fit": null,
       "object_position": null,
       "order": null,
       "overflow": null,
       "overflow_x": null,
       "overflow_y": null,
       "padding": null,
       "right": null,
       "top": null,
       "visibility": null,
       "width": null
      }
     },
     "788a5ea3392f4cc9adf32ac8382f6cb9": {
      "model_module": "@jupyter-widgets/base",
      "model_module_version": "1.2.0",
      "model_name": "LayoutModel",
      "state": {
       "_model_module": "@jupyter-widgets/base",
       "_model_module_version": "1.2.0",
       "_model_name": "LayoutModel",
       "_view_count": null,
       "_view_module": "@jupyter-widgets/base",
       "_view_module_version": "1.2.0",
       "_view_name": "LayoutView",
       "align_content": null,
       "align_items": null,
       "align_self": null,
       "border": null,
       "bottom": null,
       "display": null,
       "flex": null,
       "flex_flow": null,
       "grid_area": null,
       "grid_auto_columns": null,
       "grid_auto_flow": null,
       "grid_auto_rows": null,
       "grid_column": null,
       "grid_gap": null,
       "grid_row": null,
       "grid_template_areas": null,
       "grid_template_columns": null,
       "grid_template_rows": null,
       "height": null,
       "justify_content": null,
       "justify_items": null,
       "left": null,
       "margin": null,
       "max_height": null,
       "max_width": null,
       "min_height": null,
       "min_width": null,
       "object_fit": null,
       "object_position": null,
       "order": null,
       "overflow": null,
       "overflow_x": null,
       "overflow_y": null,
       "padding": null,
       "right": null,
       "top": null,
       "visibility": null,
       "width": null
      }
     },
     "813584aea4714a7c8955714012d78ef3": {
      "model_module": "@jupyter-widgets/controls",
      "model_module_version": "1.5.0",
      "model_name": "VBoxModel",
      "state": {
       "_dom_classes": [
        "widget-interact"
       ],
       "_model_module": "@jupyter-widgets/controls",
       "_model_module_version": "1.5.0",
       "_model_name": "VBoxModel",
       "_view_count": null,
       "_view_module": "@jupyter-widgets/controls",
       "_view_module_version": "1.5.0",
       "_view_name": "VBoxView",
       "box_style": "",
       "children": [
        "IPY_MODEL_224bb24216a64f459f32217f09be92ff",
        "IPY_MODEL_92756fbd052f44c78c4358a8a34aa582",
        "IPY_MODEL_0f83b8a912f3458d86d755322a531877",
        "IPY_MODEL_ac4d139e46694655881ba57a2d48a10a",
        "IPY_MODEL_a53315266f5b4fb0b753c1d82bf8edbb",
        "IPY_MODEL_f2573fdf0b354eb69419d6851187164c",
        "IPY_MODEL_c7f8ccc9ba2f41bc974c8980f02fcfe2"
       ],
       "layout": "IPY_MODEL_6e075910055c4dbba17919d9025592fc"
      }
     },
     "821cb7d87c4541d195c90ec712057cdf": {
      "model_module": "@jupyter-widgets/base",
      "model_module_version": "1.2.0",
      "model_name": "LayoutModel",
      "state": {
       "_model_module": "@jupyter-widgets/base",
       "_model_module_version": "1.2.0",
       "_model_name": "LayoutModel",
       "_view_count": null,
       "_view_module": "@jupyter-widgets/base",
       "_view_module_version": "1.2.0",
       "_view_name": "LayoutView",
       "align_content": null,
       "align_items": null,
       "align_self": null,
       "border": null,
       "bottom": null,
       "display": null,
       "flex": null,
       "flex_flow": null,
       "grid_area": null,
       "grid_auto_columns": null,
       "grid_auto_flow": null,
       "grid_auto_rows": null,
       "grid_column": null,
       "grid_gap": null,
       "grid_row": null,
       "grid_template_areas": null,
       "grid_template_columns": null,
       "grid_template_rows": null,
       "height": null,
       "justify_content": null,
       "justify_items": null,
       "left": null,
       "margin": null,
       "max_height": null,
       "max_width": null,
       "min_height": null,
       "min_width": null,
       "object_fit": null,
       "object_position": null,
       "order": null,
       "overflow": null,
       "overflow_x": null,
       "overflow_y": null,
       "padding": null,
       "right": null,
       "top": null,
       "visibility": null,
       "width": null
      }
     },
     "876905dd591a4cd3b677f1b55f11f07e": {
      "model_module": "@jupyter-widgets/controls",
      "model_module_version": "1.5.0",
      "model_name": "SliderStyleModel",
      "state": {
       "_model_module": "@jupyter-widgets/controls",
       "_model_module_version": "1.5.0",
       "_model_name": "SliderStyleModel",
       "_view_count": null,
       "_view_module": "@jupyter-widgets/base",
       "_view_module_version": "1.2.0",
       "_view_name": "StyleView",
       "description_width": "",
       "handle_color": null
      }
     },
     "887111d038b241b8bc78b86127c485be": {
      "model_module": "@jupyter-widgets/base",
      "model_module_version": "1.2.0",
      "model_name": "LayoutModel",
      "state": {
       "_model_module": "@jupyter-widgets/base",
       "_model_module_version": "1.2.0",
       "_model_name": "LayoutModel",
       "_view_count": null,
       "_view_module": "@jupyter-widgets/base",
       "_view_module_version": "1.2.0",
       "_view_name": "LayoutView",
       "align_content": null,
       "align_items": null,
       "align_self": null,
       "border": null,
       "bottom": null,
       "display": null,
       "flex": null,
       "flex_flow": null,
       "grid_area": null,
       "grid_auto_columns": null,
       "grid_auto_flow": null,
       "grid_auto_rows": null,
       "grid_column": null,
       "grid_gap": null,
       "grid_row": null,
       "grid_template_areas": null,
       "grid_template_columns": null,
       "grid_template_rows": null,
       "height": null,
       "justify_content": null,
       "justify_items": null,
       "left": null,
       "margin": null,
       "max_height": null,
       "max_width": null,
       "min_height": null,
       "min_width": null,
       "object_fit": null,
       "object_position": null,
       "order": null,
       "overflow": null,
       "overflow_x": null,
       "overflow_y": null,
       "padding": null,
       "right": null,
       "top": null,
       "visibility": null,
       "width": null
      }
     },
     "8978bd4ab98e4096a095335e51fabf7a": {
      "model_module": "@jupyter-widgets/controls",
      "model_module_version": "1.5.0",
      "model_name": "SliderStyleModel",
      "state": {
       "_model_module": "@jupyter-widgets/controls",
       "_model_module_version": "1.5.0",
       "_model_name": "SliderStyleModel",
       "_view_count": null,
       "_view_module": "@jupyter-widgets/base",
       "_view_module_version": "1.2.0",
       "_view_name": "StyleView",
       "description_width": "",
       "handle_color": null
      }
     },
     "8ea852648c2246859119cd08efd5e585": {
      "model_module": "@jupyter-widgets/output",
      "model_module_version": "1.0.0",
      "model_name": "OutputModel",
      "state": {
       "_dom_classes": [],
       "_model_module": "@jupyter-widgets/output",
       "_model_module_version": "1.0.0",
       "_model_name": "OutputModel",
       "_view_count": null,
       "_view_module": "@jupyter-widgets/output",
       "_view_module_version": "1.0.0",
       "_view_name": "OutputView",
       "layout": "IPY_MODEL_788a5ea3392f4cc9adf32ac8382f6cb9",
       "msg_id": "",
       "outputs": [
        {
         "data": {
          "text/html": "<img src=\"figures/5/transposed_convolutional_layer_3.svg\" style=\"max-height:50vh\"/>",
          "text/plain": "<IPython.core.display.HTML object>"
         },
         "metadata": {},
         "output_type": "display_data"
        }
       ]
      }
     },
     "90b33b7089744b3c89570f16871aeda0": {
      "model_module": "@jupyter-widgets/controls",
      "model_module_version": "1.5.0",
      "model_name": "FloatSliderModel",
      "state": {
       "_dom_classes": [],
       "_model_module": "@jupyter-widgets/controls",
       "_model_module_version": "1.5.0",
       "_model_name": "FloatSliderModel",
       "_view_count": null,
       "_view_module": "@jupyter-widgets/controls",
       "_view_module_version": "1.5.0",
       "_view_name": "FloatSliderView",
       "continuous_update": true,
       "description": "w1",
       "description_tooltip": null,
       "disabled": false,
       "layout": "IPY_MODEL_cbcee79dab5042bfa185027c7d67e0b6",
       "max": 2.0,
       "min": -2.0,
       "orientation": "horizontal",
       "readout": true,
       "readout_format": ".2f",
       "step": 0.1,
       "style": "IPY_MODEL_f35b90f1b95e4c0ca4f0f52d5b5ff084",
       "value": 0.4
      }
     },
     "92756fbd052f44c78c4358a8a34aa582": {
      "model_module": "@jupyter-widgets/controls",
      "model_module_version": "1.5.0",
      "model_name": "FloatSliderModel",
      "state": {
       "_dom_classes": [],
       "_model_module": "@jupyter-widgets/controls",
       "_model_module_version": "1.5.0",
       "_model_name": "FloatSliderModel",
       "_view_count": null,
       "_view_module": "@jupyter-widgets/controls",
       "_view_module_version": "1.5.0",
       "_view_name": "FloatSliderView",
       "continuous_update": true,
       "description": "s12",
       "description_tooltip": null,
       "disabled": false,
       "layout": "IPY_MODEL_4a252bd21e0d4b4d90cec9c5c0a527e8",
       "max": 1.0,
       "min": 0.0,
       "orientation": "horizontal",
       "readout": true,
       "readout_format": ".2f",
       "step": 0.1,
       "style": "IPY_MODEL_44775c064c8c4c958868751e213180c7",
       "value": 0.3
      }
     },
     "966b1303e75d4fafbd930140a0f28f40": {
      "model_module": "@jupyter-widgets/base",
      "model_module_version": "1.2.0",
      "model_name": "LayoutModel",
      "state": {
       "_model_module": "@jupyter-widgets/base",
       "_model_module_version": "1.2.0",
       "_model_name": "LayoutModel",
       "_view_count": null,
       "_view_module": "@jupyter-widgets/base",
       "_view_module_version": "1.2.0",
       "_view_name": "LayoutView",
       "align_content": null,
       "align_items": null,
       "align_self": null,
       "border": null,
       "bottom": null,
       "display": null,
       "flex": null,
       "flex_flow": null,
       "grid_area": null,
       "grid_auto_columns": null,
       "grid_auto_flow": null,
       "grid_auto_rows": null,
       "grid_column": null,
       "grid_gap": null,
       "grid_row": null,
       "grid_template_areas": null,
       "grid_template_columns": null,
       "grid_template_rows": null,
       "height": null,
       "justify_content": null,
       "justify_items": null,
       "left": null,
       "margin": null,
       "max_height": null,
       "max_width": null,
       "min_height": null,
       "min_width": null,
       "object_fit": null,
       "object_position": null,
       "order": null,
       "overflow": null,
       "overflow_x": null,
       "overflow_y": null,
       "padding": null,
       "right": null,
       "top": null,
       "visibility": null,
       "width": null
      }
     },
     "9ba735ad13664f5482af1ecfb0da444c": {
      "model_module": "@jupyter-widgets/controls",
      "model_module_version": "1.5.0",
      "model_name": "SliderStyleModel",
      "state": {
       "_model_module": "@jupyter-widgets/controls",
       "_model_module_version": "1.5.0",
       "_model_name": "SliderStyleModel",
       "_view_count": null,
       "_view_module": "@jupyter-widgets/base",
       "_view_module_version": "1.2.0",
       "_view_name": "StyleView",
       "description_width": "",
       "handle_color": null
      }
     },
     "a0723853831448c08675f03d2ce1f014": {
      "model_module": "@jupyter-widgets/base",
      "model_module_version": "1.2.0",
      "model_name": "LayoutModel",
      "state": {
       "_model_module": "@jupyter-widgets/base",
       "_model_module_version": "1.2.0",
       "_model_name": "LayoutModel",
       "_view_count": null,
       "_view_module": "@jupyter-widgets/base",
       "_view_module_version": "1.2.0",
       "_view_name": "LayoutView",
       "align_content": null,
       "align_items": null,
       "align_self": null,
       "border": null,
       "bottom": null,
       "display": null,
       "flex": null,
       "flex_flow": null,
       "grid_area": null,
       "grid_auto_columns": null,
       "grid_auto_flow": null,
       "grid_auto_rows": null,
       "grid_column": null,
       "grid_gap": null,
       "grid_row": null,
       "grid_template_areas": null,
       "grid_template_columns": null,
       "grid_template_rows": null,
       "height": null,
       "justify_content": null,
       "justify_items": null,
       "left": null,
       "margin": null,
       "max_height": null,
       "max_width": null,
       "min_height": null,
       "min_width": null,
       "object_fit": null,
       "object_position": null,
       "order": null,
       "overflow": null,
       "overflow_x": null,
       "overflow_y": null,
       "padding": null,
       "right": null,
       "top": null,
       "visibility": null,
       "width": null
      }
     },
     "a0eef6bf41e2440e94c33b0c61910152": {
      "model_module": "@jupyter-widgets/base",
      "model_module_version": "1.2.0",
      "model_name": "LayoutModel",
      "state": {
       "_model_module": "@jupyter-widgets/base",
       "_model_module_version": "1.2.0",
       "_model_name": "LayoutModel",
       "_view_count": null,
       "_view_module": "@jupyter-widgets/base",
       "_view_module_version": "1.2.0",
       "_view_name": "LayoutView",
       "align_content": null,
       "align_items": null,
       "align_self": null,
       "border": null,
       "bottom": null,
       "display": null,
       "flex": null,
       "flex_flow": null,
       "grid_area": null,
       "grid_auto_columns": null,
       "grid_auto_flow": null,
       "grid_auto_rows": null,
       "grid_column": null,
       "grid_gap": null,
       "grid_row": null,
       "grid_template_areas": null,
       "grid_template_columns": null,
       "grid_template_rows": null,
       "height": null,
       "justify_content": null,
       "justify_items": null,
       "left": null,
       "margin": null,
       "max_height": null,
       "max_width": null,
       "min_height": null,
       "min_width": null,
       "object_fit": null,
       "object_position": null,
       "order": null,
       "overflow": null,
       "overflow_x": null,
       "overflow_y": null,
       "padding": null,
       "right": null,
       "top": null,
       "visibility": null,
       "width": null
      }
     },
     "a465b6584f2d456e842f4ab0087c35ca": {
      "model_module": "@jupyter-widgets/controls",
      "model_module_version": "1.5.0",
      "model_name": "SliderStyleModel",
      "state": {
       "_model_module": "@jupyter-widgets/controls",
       "_model_module_version": "1.5.0",
       "_model_name": "SliderStyleModel",
       "_view_count": null,
       "_view_module": "@jupyter-widgets/base",
       "_view_module_version": "1.2.0",
       "_view_name": "StyleView",
       "description_width": "",
       "handle_color": null
      }
     },
     "a53315266f5b4fb0b753c1d82bf8edbb": {
      "model_module": "@jupyter-widgets/controls",
      "model_module_version": "1.5.0",
      "model_name": "FloatSliderModel",
      "state": {
       "_dom_classes": [],
       "_model_module": "@jupyter-widgets/controls",
       "_model_module_version": "1.5.0",
       "_model_name": "FloatSliderModel",
       "_view_count": null,
       "_view_module": "@jupyter-widgets/controls",
       "_view_module_version": "1.5.0",
       "_view_name": "FloatSliderView",
       "continuous_update": true,
       "description": "h1",
       "description_tooltip": null,
       "disabled": false,
       "layout": "IPY_MODEL_ab4d603d60f64ff38961f3c3e0c066a9",
       "max": 2.0,
       "min": -2.0,
       "orientation": "horizontal",
       "readout": true,
       "readout_format": ".2f",
       "step": 0.1,
       "style": "IPY_MODEL_d2bef2c9017d419fb7a6d63636f2d02a",
       "value": 0.3
      }
     },
     "a6575c3698554ce091a54ca22e2e82de": {
      "model_module": "@jupyter-widgets/controls",
      "model_module_version": "1.5.0",
      "model_name": "SliderStyleModel",
      "state": {
       "_model_module": "@jupyter-widgets/controls",
       "_model_module_version": "1.5.0",
       "_model_name": "SliderStyleModel",
       "_view_count": null,
       "_view_module": "@jupyter-widgets/base",
       "_view_module_version": "1.2.0",
       "_view_name": "StyleView",
       "description_width": "",
       "handle_color": null
      }
     },
     "ab4d603d60f64ff38961f3c3e0c066a9": {
      "model_module": "@jupyter-widgets/base",
      "model_module_version": "1.2.0",
      "model_name": "LayoutModel",
      "state": {
       "_model_module": "@jupyter-widgets/base",
       "_model_module_version": "1.2.0",
       "_model_name": "LayoutModel",
       "_view_count": null,
       "_view_module": "@jupyter-widgets/base",
       "_view_module_version": "1.2.0",
       "_view_name": "LayoutView",
       "align_content": null,
       "align_items": null,
       "align_self": null,
       "border": null,
       "bottom": null,
       "display": null,
       "flex": null,
       "flex_flow": null,
       "grid_area": null,
       "grid_auto_columns": null,
       "grid_auto_flow": null,
       "grid_auto_rows": null,
       "grid_column": null,
       "grid_gap": null,
       "grid_row": null,
       "grid_template_areas": null,
       "grid_template_columns": null,
       "grid_template_rows": null,
       "height": null,
       "justify_content": null,
       "justify_items": null,
       "left": null,
       "margin": null,
       "max_height": null,
       "max_width": null,
       "min_height": null,
       "min_width": null,
       "object_fit": null,
       "object_position": null,
       "order": null,
       "overflow": null,
       "overflow_x": null,
       "overflow_y": null,
       "padding": null,
       "right": null,
       "top": null,
       "visibility": null,
       "width": null
      }
     },
     "ac4d139e46694655881ba57a2d48a10a": {
      "model_module": "@jupyter-widgets/controls",
      "model_module_version": "1.5.0",
      "model_name": "FloatSliderModel",
      "state": {
       "_dom_classes": [],
       "_model_module": "@jupyter-widgets/controls",
       "_model_module_version": "1.5.0",
       "_model_name": "FloatSliderModel",
       "_view_count": null,
       "_view_module": "@jupyter-widgets/controls",
       "_view_module_version": "1.5.0",
       "_view_name": "FloatSliderView",
       "continuous_update": true,
       "description": "s22",
       "description_tooltip": null,
       "disabled": false,
       "layout": "IPY_MODEL_ceae5dec29784c4681921a1de52004b5",
       "max": 1.0,
       "min": 0.0,
       "orientation": "horizontal",
       "readout": true,
       "readout_format": ".2f",
       "step": 0.1,
       "style": "IPY_MODEL_67b517297711495cb0df65c6867cff96",
       "value": 0.6
      }
     },
     "b2930872becf4b839f98705dd02136fb": {
      "model_module": "@jupyter-widgets/controls",
      "model_module_version": "1.5.0",
      "model_name": "VBoxModel",
      "state": {
       "_dom_classes": [
        "widget-interact"
       ],
       "_model_module": "@jupyter-widgets/controls",
       "_model_module_version": "1.5.0",
       "_model_name": "VBoxModel",
       "_view_count": null,
       "_view_module": "@jupyter-widgets/controls",
       "_view_module_version": "1.5.0",
       "_view_name": "VBoxView",
       "box_style": "",
       "children": [
        "IPY_MODEL_fd5293860a0b48e1b59f9d92d680fb6e",
        "IPY_MODEL_27f136dcc1a5485fb6ef005ae1a90cf9",
        "IPY_MODEL_d640c22e1bb1466b8cab599b582d2a9c"
       ],
       "layout": "IPY_MODEL_c890ae5ccab14e68b167cd09ac2ee827"
      }
     },
     "b8e7c3ca39d947bfbeeae196717464ec": {
      "model_module": "@jupyter-widgets/base",
      "model_module_version": "1.2.0",
      "model_name": "LayoutModel",
      "state": {
       "_model_module": "@jupyter-widgets/base",
       "_model_module_version": "1.2.0",
       "_model_name": "LayoutModel",
       "_view_count": null,
       "_view_module": "@jupyter-widgets/base",
       "_view_module_version": "1.2.0",
       "_view_name": "LayoutView",
       "align_content": null,
       "align_items": null,
       "align_self": null,
       "border": null,
       "bottom": null,
       "display": null,
       "flex": null,
       "flex_flow": null,
       "grid_area": null,
       "grid_auto_columns": null,
       "grid_auto_flow": null,
       "grid_auto_rows": null,
       "grid_column": null,
       "grid_gap": null,
       "grid_row": null,
       "grid_template_areas": null,
       "grid_template_columns": null,
       "grid_template_rows": null,
       "height": null,
       "justify_content": null,
       "justify_items": null,
       "left": null,
       "margin": null,
       "max_height": null,
       "max_width": null,
       "min_height": null,
       "min_width": null,
       "object_fit": null,
       "object_position": null,
       "order": null,
       "overflow": null,
       "overflow_x": null,
       "overflow_y": null,
       "padding": null,
       "right": null,
       "top": null,
       "visibility": null,
       "width": null
      }
     },
     "bbce6d54af3c48eeb63bddf420294ba2": {
      "model_module": "@jupyter-widgets/controls",
      "model_module_version": "1.5.0",
      "model_name": "VBoxModel",
      "state": {
       "_dom_classes": [
        "widget-interact"
       ],
       "_model_module": "@jupyter-widgets/controls",
       "_model_module_version": "1.5.0",
       "_model_name": "VBoxModel",
       "_view_count": null,
       "_view_module": "@jupyter-widgets/controls",
       "_view_module_version": "1.5.0",
       "_view_name": "VBoxView",
       "box_style": "",
       "children": [
        "IPY_MODEL_695a781421614471b9885580d70debbe",
        "IPY_MODEL_d932ea105d29409a9e686e6b2f8251b4",
        "IPY_MODEL_90b33b7089744b3c89570f16871aeda0",
        "IPY_MODEL_0bb732783b0a469c946982dee4d7353d",
        "IPY_MODEL_6c42ec8ea8ad4de9a4285a1974a99fbd"
       ],
       "layout": "IPY_MODEL_cd93bbac4d454d0b9536a5a9e54c045f"
      }
     },
     "c0abbf0e19944621bc20e608fe36d9b8": {
      "model_module": "@jupyter-widgets/base",
      "model_module_version": "1.2.0",
      "model_name": "LayoutModel",
      "state": {
       "_model_module": "@jupyter-widgets/base",
       "_model_module_version": "1.2.0",
       "_model_name": "LayoutModel",
       "_view_count": null,
       "_view_module": "@jupyter-widgets/base",
       "_view_module_version": "1.2.0",
       "_view_name": "LayoutView",
       "align_content": null,
       "align_items": null,
       "align_self": null,
       "border": null,
       "bottom": null,
       "display": null,
       "flex": null,
       "flex_flow": null,
       "grid_area": null,
       "grid_auto_columns": null,
       "grid_auto_flow": null,
       "grid_auto_rows": null,
       "grid_column": null,
       "grid_gap": null,
       "grid_row": null,
       "grid_template_areas": null,
       "grid_template_columns": null,
       "grid_template_rows": null,
       "height": null,
       "justify_content": null,
       "justify_items": null,
       "left": null,
       "margin": null,
       "max_height": null,
       "max_width": null,
       "min_height": null,
       "min_width": null,
       "object_fit": null,
       "object_position": null,
       "order": null,
       "overflow": null,
       "overflow_x": null,
       "overflow_y": null,
       "padding": null,
       "right": null,
       "top": null,
       "visibility": null,
       "width": null
      }
     },
     "c7f8ccc9ba2f41bc974c8980f02fcfe2": {
      "model_module": "@jupyter-widgets/output",
      "model_module_version": "1.0.0",
      "model_name": "OutputModel",
      "state": {
       "_dom_classes": [],
       "_model_module": "@jupyter-widgets/output",
       "_model_module_version": "1.0.0",
       "_model_name": "OutputModel",
       "_view_count": null,
       "_view_module": "@jupyter-widgets/output",
       "_view_module_version": "1.0.0",
       "_view_name": "OutputView",
       "layout": "IPY_MODEL_821cb7d87c4541d195c90ec712057cdf",
       "msg_id": "",
       "outputs": [
        {
         "data": {
          "image/png": "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\n",
          "text/plain": "<Figure size 432x288 with 1 Axes>"
         },
         "metadata": {
          "needs_background": "light"
         },
         "output_type": "display_data"
        }
       ]
      }
     },
     "c890ae5ccab14e68b167cd09ac2ee827": {
      "model_module": "@jupyter-widgets/base",
      "model_module_version": "1.2.0",
      "model_name": "LayoutModel",
      "state": {
       "_model_module": "@jupyter-widgets/base",
       "_model_module_version": "1.2.0",
       "_model_name": "LayoutModel",
       "_view_count": null,
       "_view_module": "@jupyter-widgets/base",
       "_view_module_version": "1.2.0",
       "_view_name": "LayoutView",
       "align_content": null,
       "align_items": null,
       "align_self": null,
       "border": null,
       "bottom": null,
       "display": null,
       "flex": null,
       "flex_flow": null,
       "grid_area": null,
       "grid_auto_columns": null,
       "grid_auto_flow": null,
       "grid_auto_rows": null,
       "grid_column": null,
       "grid_gap": null,
       "grid_row": null,
       "grid_template_areas": null,
       "grid_template_columns": null,
       "grid_template_rows": null,
       "height": null,
       "justify_content": null,
       "justify_items": null,
       "left": null,
       "margin": null,
       "max_height": null,
       "max_width": null,
       "min_height": null,
       "min_width": null,
       "object_fit": null,
       "object_position": null,
       "order": null,
       "overflow": null,
       "overflow_x": null,
       "overflow_y": null,
       "padding": null,
       "right": null,
       "top": null,
       "visibility": null,
       "width": null
      }
     },
     "ca7ddcc461494d5b93b673f57281e4fb": {
      "model_module": "@jupyter-widgets/base",
      "model_module_version": "1.2.0",
      "model_name": "LayoutModel",
      "state": {
       "_model_module": "@jupyter-widgets/base",
       "_model_module_version": "1.2.0",
       "_model_name": "LayoutModel",
       "_view_count": null,
       "_view_module": "@jupyter-widgets/base",
       "_view_module_version": "1.2.0",
       "_view_name": "LayoutView",
       "align_content": null,
       "align_items": null,
       "align_self": null,
       "border": null,
       "bottom": null,
       "display": null,
       "flex": null,
       "flex_flow": null,
       "grid_area": null,
       "grid_auto_columns": null,
       "grid_auto_flow": null,
       "grid_auto_rows": null,
       "grid_column": null,
       "grid_gap": null,
       "grid_row": null,
       "grid_template_areas": null,
       "grid_template_columns": null,
       "grid_template_rows": null,
       "height": null,
       "justify_content": null,
       "justify_items": null,
       "left": null,
       "margin": null,
       "max_height": null,
       "max_width": null,
       "min_height": null,
       "min_width": null,
       "object_fit": null,
       "object_position": null,
       "order": null,
       "overflow": null,
       "overflow_x": null,
       "overflow_y": null,
       "padding": null,
       "right": null,
       "top": null,
       "visibility": null,
       "width": null
      }
     },
     "cbcee79dab5042bfa185027c7d67e0b6": {
      "model_module": "@jupyter-widgets/base",
      "model_module_version": "1.2.0",
      "model_name": "LayoutModel",
      "state": {
       "_model_module": "@jupyter-widgets/base",
       "_model_module_version": "1.2.0",
       "_model_name": "LayoutModel",
       "_view_count": null,
       "_view_module": "@jupyter-widgets/base",
       "_view_module_version": "1.2.0",
       "_view_name": "LayoutView",
       "align_content": null,
       "align_items": null,
       "align_self": null,
       "border": null,
       "bottom": null,
       "display": null,
       "flex": null,
       "flex_flow": null,
       "grid_area": null,
       "grid_auto_columns": null,
       "grid_auto_flow": null,
       "grid_auto_rows": null,
       "grid_column": null,
       "grid_gap": null,
       "grid_row": null,
       "grid_template_areas": null,
       "grid_template_columns": null,
       "grid_template_rows": null,
       "height": null,
       "justify_content": null,
       "justify_items": null,
       "left": null,
       "margin": null,
       "max_height": null,
       "max_width": null,
       "min_height": null,
       "min_width": null,
       "object_fit": null,
       "object_position": null,
       "order": null,
       "overflow": null,
       "overflow_x": null,
       "overflow_y": null,
       "padding": null,
       "right": null,
       "top": null,
       "visibility": null,
       "width": null
      }
     },
     "cd93bbac4d454d0b9536a5a9e54c045f": {
      "model_module": "@jupyter-widgets/base",
      "model_module_version": "1.2.0",
      "model_name": "LayoutModel",
      "state": {
       "_model_module": "@jupyter-widgets/base",
       "_model_module_version": "1.2.0",
       "_model_name": "LayoutModel",
       "_view_count": null,
       "_view_module": "@jupyter-widgets/base",
       "_view_module_version": "1.2.0",
       "_view_name": "LayoutView",
       "align_content": null,
       "align_items": null,
       "align_self": null,
       "border": null,
       "bottom": null,
       "display": null,
       "flex": null,
       "flex_flow": null,
       "grid_area": null,
       "grid_auto_columns": null,
       "grid_auto_flow": null,
       "grid_auto_rows": null,
       "grid_column": null,
       "grid_gap": null,
       "grid_row": null,
       "grid_template_areas": null,
       "grid_template_columns": null,
       "grid_template_rows": null,
       "height": null,
       "justify_content": null,
       "justify_items": null,
       "left": null,
       "margin": null,
       "max_height": null,
       "max_width": null,
       "min_height": null,
       "min_width": null,
       "object_fit": null,
       "object_position": null,
       "order": null,
       "overflow": null,
       "overflow_x": null,
       "overflow_y": null,
       "padding": null,
       "right": null,
       "top": null,
       "visibility": null,
       "width": null
      }
     },
     "ceae5dec29784c4681921a1de52004b5": {
      "model_module": "@jupyter-widgets/base",
      "model_module_version": "1.2.0",
      "model_name": "LayoutModel",
      "state": {
       "_model_module": "@jupyter-widgets/base",
       "_model_module_version": "1.2.0",
       "_model_name": "LayoutModel",
       "_view_count": null,
       "_view_module": "@jupyter-widgets/base",
       "_view_module_version": "1.2.0",
       "_view_name": "LayoutView",
       "align_content": null,
       "align_items": null,
       "align_self": null,
       "border": null,
       "bottom": null,
       "display": null,
       "flex": null,
       "flex_flow": null,
       "grid_area": null,
       "grid_auto_columns": null,
       "grid_auto_flow": null,
       "grid_auto_rows": null,
       "grid_column": null,
       "grid_gap": null,
       "grid_row": null,
       "grid_template_areas": null,
       "grid_template_columns": null,
       "grid_template_rows": null,
       "height": null,
       "justify_content": null,
       "justify_items": null,
       "left": null,
       "margin": null,
       "max_height": null,
       "max_width": null,
       "min_height": null,
       "min_width": null,
       "object_fit": null,
       "object_position": null,
       "order": null,
       "overflow": null,
       "overflow_x": null,
       "overflow_y": null,
       "padding": null,
       "right": null,
       "top": null,
       "visibility": null,
       "width": null
      }
     },
     "cf0a5b646e3940329c12158861c965dc": {
      "model_module": "@jupyter-widgets/base",
      "model_module_version": "1.2.0",
      "model_name": "LayoutModel",
      "state": {
       "_model_module": "@jupyter-widgets/base",
       "_model_module_version": "1.2.0",
       "_model_name": "LayoutModel",
       "_view_count": null,
       "_view_module": "@jupyter-widgets/base",
       "_view_module_version": "1.2.0",
       "_view_name": "LayoutView",
       "align_content": null,
       "align_items": null,
       "align_self": null,
       "border": null,
       "bottom": null,
       "display": null,
       "flex": null,
       "flex_flow": null,
       "grid_area": null,
       "grid_auto_columns": null,
       "grid_auto_flow": null,
       "grid_auto_rows": null,
       "grid_column": null,
       "grid_gap": null,
       "grid_row": null,
       "grid_template_areas": null,
       "grid_template_columns": null,
       "grid_template_rows": null,
       "height": null,
       "justify_content": null,
       "justify_items": null,
       "left": null,
       "margin": null,
       "max_height": null,
       "max_width": null,
       "min_height": null,
       "min_width": null,
       "object_fit": null,
       "object_position": null,
       "order": null,
       "overflow": null,
       "overflow_x": null,
       "overflow_y": null,
       "padding": null,
       "right": null,
       "top": null,
       "visibility": null,
       "width": null
      }
     },
     "d1e53f58318042a48dc61702fbeb5fe5": {
      "model_module": "@jupyter-widgets/output",
      "model_module_version": "1.0.0",
      "model_name": "OutputModel",
      "state": {
       "_dom_classes": [],
       "_model_module": "@jupyter-widgets/output",
       "_model_module_version": "1.0.0",
       "_model_name": "OutputModel",
       "_view_count": null,
       "_view_module": "@jupyter-widgets/output",
       "_view_module_version": "1.0.0",
       "_view_name": "OutputView",
       "layout": "IPY_MODEL_223d89371ab1430fadc9e6000c82d42c",
       "msg_id": "",
       "outputs": [
        {
         "data": {
          "text/html": "<img src=\"figures/5/convolutional_layer_5.svg\" style=\"max-height:50vh\"/>",
          "text/plain": "<IPython.core.display.HTML object>"
         },
         "metadata": {},
         "output_type": "display_data"
        }
       ]
      }
     },
     "d2bef2c9017d419fb7a6d63636f2d02a": {
      "model_module": "@jupyter-widgets/controls",
      "model_module_version": "1.5.0",
      "model_name": "SliderStyleModel",
      "state": {
       "_model_module": "@jupyter-widgets/controls",
       "_model_module_version": "1.5.0",
       "_model_name": "SliderStyleModel",
       "_view_count": null,
       "_view_module": "@jupyter-widgets/base",
       "_view_module_version": "1.2.0",
       "_view_name": "StyleView",
       "description_width": "",
       "handle_color": null
      }
     },
     "d2f4b3f7424d4b448e54fa3700387dfe": {
      "model_module": "@jupyter-widgets/controls",
      "model_module_version": "1.5.0",
      "model_name": "SliderStyleModel",
      "state": {
       "_model_module": "@jupyter-widgets/controls",
       "_model_module_version": "1.5.0",
       "_model_name": "SliderStyleModel",
       "_view_count": null,
       "_view_module": "@jupyter-widgets/base",
       "_view_module_version": "1.2.0",
       "_view_name": "StyleView",
       "description_width": "",
       "handle_color": null
      }
     },
     "d640c22e1bb1466b8cab599b582d2a9c": {
      "model_module": "@jupyter-widgets/output",
      "model_module_version": "1.0.0",
      "model_name": "OutputModel",
      "state": {
       "_dom_classes": [],
       "_model_module": "@jupyter-widgets/output",
       "_model_module_version": "1.0.0",
       "_model_name": "OutputModel",
       "_view_count": null,
       "_view_module": "@jupyter-widgets/output",
       "_view_module_version": "1.0.0",
       "_view_name": "OutputView",
       "layout": "IPY_MODEL_7463aa23e6184ade991bf263fccb974d",
       "msg_id": "",
       "outputs": [
        {
         "data": {
          "image/png": "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\n",
          "text/plain": "<Figure size 432x288 with 1 Axes>"
         },
         "metadata": {
          "needs_background": "light"
         },
         "output_type": "display_data"
        }
       ]
      }
     },
     "d932ea105d29409a9e686e6b2f8251b4": {
      "model_module": "@jupyter-widgets/controls",
      "model_module_version": "1.5.0",
      "model_name": "FloatSliderModel",
      "state": {
       "_dom_classes": [],
       "_model_module": "@jupyter-widgets/controls",
       "_model_module_version": "1.5.0",
       "_model_name": "FloatSliderModel",
       "_view_count": null,
       "_view_module": "@jupyter-widgets/controls",
       "_view_module_version": "1.5.0",
       "_view_name": "FloatSliderView",
       "continuous_update": true,
       "description": "s2",
       "description_tooltip": null,
       "disabled": false,
       "layout": "IPY_MODEL_966b1303e75d4fafbd930140a0f28f40",
       "max": 1.0,
       "min": 0.0,
       "orientation": "horizontal",
       "readout": true,
       "readout_format": ".2f",
       "step": 0.1,
       "style": "IPY_MODEL_6eaadeccc872418a9c7dc08f59060dd5",
       "value": 0.6
      }
     },
     "dccf5a3e7d5d4370a0e1f29ed9665270": {
      "model_module": "@jupyter-widgets/base",
      "model_module_version": "1.2.0",
      "model_name": "LayoutModel",
      "state": {
       "_model_module": "@jupyter-widgets/base",
       "_model_module_version": "1.2.0",
       "_model_name": "LayoutModel",
       "_view_count": null,
       "_view_module": "@jupyter-widgets/base",
       "_view_module_version": "1.2.0",
       "_view_name": "LayoutView",
       "align_content": null,
       "align_items": null,
       "align_self": null,
       "border": null,
       "bottom": null,
       "display": null,
       "flex": null,
       "flex_flow": null,
       "grid_area": null,
       "grid_auto_columns": null,
       "grid_auto_flow": null,
       "grid_auto_rows": null,
       "grid_column": null,
       "grid_gap": null,
       "grid_row": null,
       "grid_template_areas": null,
       "grid_template_columns": null,
       "grid_template_rows": null,
       "height": null,
       "justify_content": null,
       "justify_items": null,
       "left": null,
       "margin": null,
       "max_height": null,
       "max_width": null,
       "min_height": null,
       "min_width": null,
       "object_fit": null,
       "object_position": null,
       "order": null,
       "overflow": null,
       "overflow_x": null,
       "overflow_y": null,
       "padding": null,
       "right": null,
       "top": null,
       "visibility": null,
       "width": null
      }
     },
     "dfa03cbe3fb34352a53c933c80650a2d": {
      "model_module": "@jupyter-widgets/base",
      "model_module_version": "1.2.0",
      "model_name": "LayoutModel",
      "state": {
       "_model_module": "@jupyter-widgets/base",
       "_model_module_version": "1.2.0",
       "_model_name": "LayoutModel",
       "_view_count": null,
       "_view_module": "@jupyter-widgets/base",
       "_view_module_version": "1.2.0",
       "_view_name": "LayoutView",
       "align_content": null,
       "align_items": null,
       "align_self": null,
       "border": null,
       "bottom": null,
       "display": null,
       "flex": null,
       "flex_flow": null,
       "grid_area": null,
       "grid_auto_columns": null,
       "grid_auto_flow": null,
       "grid_auto_rows": null,
       "grid_column": null,
       "grid_gap": null,
       "grid_row": null,
       "grid_template_areas": null,
       "grid_template_columns": null,
       "grid_template_rows": null,
       "height": null,
       "justify_content": null,
       "justify_items": null,
       "left": null,
       "margin": null,
       "max_height": null,
       "max_width": null,
       "min_height": null,
       "min_width": null,
       "object_fit": null,
       "object_position": null,
       "order": null,
       "overflow": null,
       "overflow_x": null,
       "overflow_y": null,
       "padding": null,
       "right": null,
       "top": null,
       "visibility": null,
       "width": null
      }
     },
     "e9b441f5fa8d4991a45d9e276f1b6d6c": {
      "model_module": "@jupyter-widgets/base",
      "model_module_version": "1.2.0",
      "model_name": "LayoutModel",
      "state": {
       "_model_module": "@jupyter-widgets/base",
       "_model_module_version": "1.2.0",
       "_model_name": "LayoutModel",
       "_view_count": null,
       "_view_module": "@jupyter-widgets/base",
       "_view_module_version": "1.2.0",
       "_view_name": "LayoutView",
       "align_content": null,
       "align_items": null,
       "align_self": null,
       "border": null,
       "bottom": null,
       "display": null,
       "flex": null,
       "flex_flow": null,
       "grid_area": null,
       "grid_auto_columns": null,
       "grid_auto_flow": null,
       "grid_auto_rows": null,
       "grid_column": null,
       "grid_gap": null,
       "grid_row": null,
       "grid_template_areas": null,
       "grid_template_columns": null,
       "grid_template_rows": null,
       "height": null,
       "justify_content": null,
       "justify_items": null,
       "left": null,
       "margin": null,
       "max_height": null,
       "max_width": null,
       "min_height": null,
       "min_width": null,
       "object_fit": null,
       "object_position": null,
       "order": null,
       "overflow": null,
       "overflow_x": null,
       "overflow_y": null,
       "padding": null,
       "right": null,
       "top": null,
       "visibility": null,
       "width": null
      }
     },
     "f2573fdf0b354eb69419d6851187164c": {
      "model_module": "@jupyter-widgets/controls",
      "model_module_version": "1.5.0",
      "model_name": "FloatSliderModel",
      "state": {
       "_dom_classes": [],
       "_model_module": "@jupyter-widgets/controls",
       "_model_module_version": "1.5.0",
       "_model_name": "FloatSliderModel",
       "_view_count": null,
       "_view_module": "@jupyter-widgets/controls",
       "_view_module_version": "1.5.0",
       "_view_name": "FloatSliderView",
       "continuous_update": true,
       "description": "h2",
       "description_tooltip": null,
       "disabled": false,
       "layout": "IPY_MODEL_504f3dcacc6046368a881a15f01560c3",
       "max": 2.0,
       "min": -2.0,
       "orientation": "horizontal",
       "readout": true,
       "readout_format": ".2f",
       "step": 0.1,
       "style": "IPY_MODEL_59b47dd8d9154f66865c0f30a2d022b2",
       "value": -0.4
      }
     },
     "f35b90f1b95e4c0ca4f0f52d5b5ff084": {
      "model_module": "@jupyter-widgets/controls",
      "model_module_version": "1.5.0",
      "model_name": "SliderStyleModel",
      "state": {
       "_model_module": "@jupyter-widgets/controls",
       "_model_module_version": "1.5.0",
       "_model_name": "SliderStyleModel",
       "_view_count": null,
       "_view_module": "@jupyter-widgets/base",
       "_view_module_version": "1.2.0",
       "_view_name": "StyleView",
       "description_width": "",
       "handle_color": null
      }
     },
     "fd5293860a0b48e1b59f9d92d680fb6e": {
      "model_module": "@jupyter-widgets/controls",
      "model_module_version": "1.5.0",
      "model_name": "FloatSliderModel",
      "state": {
       "_dom_classes": [],
       "_model_module": "@jupyter-widgets/controls",
       "_model_module_version": "1.5.0",
       "_model_name": "FloatSliderModel",
       "_view_count": null,
       "_view_module": "@jupyter-widgets/controls",
       "_view_module_version": "1.5.0",
       "_view_name": "FloatSliderView",
       "continuous_update": true,
       "description": "w",
       "description_tooltip": null,
       "disabled": false,
       "layout": "IPY_MODEL_dfa03cbe3fb34352a53c933c80650a2d",
       "max": 200.0,
       "min": 1.0,
       "orientation": "horizontal",
       "readout": true,
       "readout_format": ".2f",
       "step": 1.0,
       "style": "IPY_MODEL_876905dd591a4cd3b677f1b55f11f07e",
       "value": 8.0
      }
     }
    },
    "version_major": 2,
    "version_minor": 0
   }
  }
 },
 "nbformat": 4,
 "nbformat_minor": 5
}