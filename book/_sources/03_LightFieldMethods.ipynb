{
 "cells": [
  {
   "cell_type": "code",
   "execution_count": 1,
   "id": "dba5781a",
   "metadata": {
    "slideshow": {
     "slide_type": "notes"
    }
   },
   "outputs": [],
   "source": [
    "from __future__ import print_function\n",
    "from ipywidgets import interact, interactive, fixed, interact_manual\n",
    "import ipywidgets as widgets\n",
    "import numpy as np\n",
    "import matplotlib.pyplot as plt\n",
    "import cv2\n",
    "import scipy.signal as sig\n",
    "from scipy.integrate import simpson\n",
    "from IPython.display import SVG, display, IFrame, HTML\n",
    "%matplotlib notebook"
   ]
  },
  {
   "cell_type": "markdown",
   "id": "c7e867dc",
   "metadata": {},
   "source": [
    "LaTeX command stochvec:\n",
    "$\\newcommand{stochvec}[1]{\\mathbf{\\tilde{#1}}}$\n",
    "<br>\n",
    "LaTeX command transp:\n",
    "$\\newcommand{transp}{^\\intercal}$"
   ]
  },
  {
   "cell_type": "code",
   "execution_count": 2,
   "id": "76032644",
   "metadata": {
    "slideshow": {
     "slide_type": "notes"
    }
   },
   "outputs": [],
   "source": [
    "def showFig(path,i,ending, width, height):\n",
    "    return IFrame(\"./\" + path+str(i)+ending, width, height)"
   ]
  },
  {
   "cell_type": "code",
   "execution_count": 3,
   "id": "ad8797f5",
   "metadata": {
    "slideshow": {
     "slide_type": "notes"
    }
   },
   "outputs": [],
   "source": [
    "def showFig2(path,i,ending, width, height):\n",
    "    imgToShow = plt.imread(f\"{path}{i}{ending}\")\n",
    "    plt.imshow(imgToShow)"
   ]
  },
  {
   "cell_type": "code",
   "execution_count": 4,
   "id": "98192e8c",
   "metadata": {
    "slideshow": {
     "slide_type": "notes"
    }
   },
   "outputs": [],
   "source": [
    "def showFig(path,i,ending, width, height):\n",
    "    #return SVG(filename = \"./\" + path+str(i)+ending)\n",
    "    display(SVG(filename = \"./\" + path+str(i)+ending))"
   ]
  },
  {
   "cell_type": "code",
   "execution_count": null,
   "id": "111d2fe5",
   "metadata": {
    "slideshow": {
     "slide_type": "notes"
    }
   },
   "outputs": [],
   "source": [
    "def showFig(path,i,ending, width, height):\n",
    "    filename = path+str(i)+ending\n",
    "    return HTML(\"<img src=\\\"\" + filename +  \"\\\"/>\")\n"
   ]
  },
  {
   "cell_type": "code",
   "execution_count": 5,
   "id": "9672d493",
   "metadata": {
    "slideshow": {
     "slide_type": "notes"
    }
   },
   "outputs": [],
   "source": [
    "def imshow(img, cmap=None):\n",
    "    plt.close('all')\n",
    "    plt.figure()\n",
    "    plt.imshow(img, cmap=cmap)\n",
    "    plt.show()"
   ]
  },
  {
   "cell_type": "code",
   "execution_count": 6,
   "id": "48d95211",
   "metadata": {
    "slideshow": {
     "slide_type": "notes"
    }
   },
   "outputs": [],
   "source": [
    "def imshow2(img, cmap=None):\n",
    "    #plt.close('all')\n",
    "    #plt.figure()\n",
    "    plt.clf()\n",
    "    plt.imshow(img, cmap=cmap)\n",
    "    #plt.show()"
   ]
  },
  {
   "cell_type": "code",
   "execution_count": null,
   "id": "a029efec",
   "metadata": {},
   "outputs": [],
   "source": [
    "#interact(lambda i: showFig('figures/2/dftSpectrum_',i,'.svg',800,700), i=widgets.IntSlider(min=1,max=3, step=1, value=1))"
   ]
  },
  {
   "cell_type": "code",
   "execution_count": null,
   "id": "74a0b238",
   "metadata": {},
   "outputs": [],
   "source": [
    "#<img src=\"figures/2/pinholePrinciple.svg\" style=\"width:40vw\">"
   ]
  },
  {
   "cell_type": "markdown",
   "id": "enhanced-photographer",
   "metadata": {
    "slideshow": {
     "slide_type": "notes"
    }
   },
   "source": [
    "# Light Field Methods"
   ]
  },
  {
   "cell_type": "markdown",
   "id": "killing-panel",
   "metadata": {
    "slideshow": {
     "slide_type": "slide"
    }
   },
   "source": [
    "<font size=\"7\"> Computational Imaging </font><br><br><br>\n",
    "<font size=\"5\"> Chapter 3: Light Field Methods </font>"
   ]
  },
  {
   "cell_type": "markdown",
   "id": "representative-value",
   "metadata": {
    "slideshow": {
     "slide_type": "subslide"
    }
   },
   "source": [
    "##### Content\n",
    "* Introduction into light fields\n",
    "* Photography applications\n",
    "    * Light field camera\n",
    "    * Digital refocusing\n",
    "    * Visualizing refractive phenomena in transparent media\n",
    "        * Schlieren imaging\n",
    "        * Light field illumination (directional light field probes)\n",
    "* Light field generation with light field displays\n",
    "* Industrial applications\n",
    "* Light field laser scanning\n",
    "* Light deflection map processing\n",
    "* Inverse illumination (work by Dr. Gruna)\n",
    "* Inverse light field illumination"
   ]
  },
  {
   "cell_type": "markdown",
   "id": "a240877b",
   "metadata": {
    "slideshow": {
     "slide_type": "slide"
    }
   },
   "source": [
    "## Introduction into light fields"
   ]
  },
  {
   "cell_type": "markdown",
   "id": "24655cb9",
   "metadata": {
    "slideshow": {
     "slide_type": "slide"
    }
   },
   "source": [
    "### Plenoptic function"
   ]
  },
  {
   "cell_type": "markdown",
   "id": "ff657b2c",
   "metadata": {
    "slideshow": {
     "slide_type": "fragment"
    }
   },
   "source": [
    "The **plenoptic function** describes the light transport of a scene:"
   ]
  },
  {
   "cell_type": "markdown",
   "id": "b4864349",
   "metadata": {
    "slideshow": {
     "slide_type": "fragment"
    }
   },
   "source": [
    "$\\begin{align}\n",
    "    \\rho (x,y,z,\\theta,\\varphi,\\lambda,\\tau)\n",
    "\\end{align}$<br>"
   ]
  },
  {
   "cell_type": "markdown",
   "id": "79492013",
   "metadata": {
    "slideshow": {
     "slide_type": "fragment"
    }
   },
   "source": [
    "It yields the radiance, i.e., intensity, of light rays\n",
    "* incident at point $(x,y,z)^\\intercal$,\n",
    "* with angle of incidence of $(\\theta,\\varphi)$,\n",
    "* with wavelength $\\lambda$ and\n",
    "* at time $\\tau$."
   ]
  },
  {
   "cell_type": "markdown",
   "id": "5907a866",
   "metadata": {
    "slideshow": {
     "slide_type": "notes"
    }
   },
   "source": [
    "TODO: Visualization"
   ]
  },
  {
   "cell_type": "markdown",
   "id": "5b8aacb0",
   "metadata": {
    "slideshow": {
     "slide_type": "slide"
    }
   },
   "source": [
    "### Light field parameterization"
   ]
  },
  {
   "cell_type": "markdown",
   "id": "c6b60c54",
   "metadata": {
    "slideshow": {
     "slide_type": "fragment"
    }
   },
   "source": [
    "High dimensionality (7) of $\\rho$ $\\Rightarrow$ infeasible to capture it completely."
   ]
  },
  {
   "cell_type": "markdown",
   "id": "6299d9af",
   "metadata": {
    "slideshow": {
     "slide_type": "fragment"
    }
   },
   "source": [
    "However, for many practically relevant cases, a 4D section of $\\rho$ is sufficient, i.e., when:"
   ]
  },
  {
   "cell_type": "markdown",
   "id": "3bd3fe83",
   "metadata": {
    "slideshow": {
     "slide_type": "fragment"
    }
   },
   "source": [
    "* No occlusions between observer and objects of interest, then radiance constant for ray starting from $(x,y,z)^\\intercal$ in direction $(\\theta,\\varphi)$, hence, one spatial parameter is redundant."
   ]
  },
  {
   "cell_type": "markdown",
   "id": "a5affc88",
   "metadata": {
    "slideshow": {
     "slide_type": "fragment"
    }
   },
   "source": [
    "* Scene is temporarily static, then $\\tau$ can be neglected."
   ]
  },
  {
   "cell_type": "markdown",
   "id": "ed1fc269",
   "metadata": {
    "slideshow": {
     "slide_type": "fragment"
    }
   },
   "source": [
    "* Wavelength of no interest, then $\\lambda$ can be neglected."
   ]
  },
  {
   "cell_type": "markdown",
   "id": "db779478",
   "metadata": {
    "slideshow": {
     "slide_type": "subslide"
    }
   },
   "source": [
    "##### Point and angle parameterization"
   ]
  },
  {
   "cell_type": "markdown",
   "id": "1d03438a",
   "metadata": {
    "slideshow": {
     "slide_type": "fragment"
    }
   },
   "source": [
    "This leads to a simplification of $\\rho$, the so-called **light field**"
   ]
  },
  {
   "cell_type": "markdown",
   "id": "f205c40c",
   "metadata": {
    "slideshow": {
     "slide_type": "fragment"
    }
   },
   "source": [
    "$\\begin{align}\n",
    "    L(x,y,\\theta, \\varphi)=\\int \\rho(x,y,z,\\theta,\\varphi,\\tau)\\mathrm{d}\\lambda\\vert_{z=\\mathrm{const.},\\tau=\\mathrm{const.}}\n",
    "\\end{align}$"
   ]
  },
  {
   "cell_type": "markdown",
   "id": "903f4932",
   "metadata": {
    "slideshow": {
     "slide_type": "fragment"
    }
   },
   "source": [
    "parameterized by a point $\\mathbf{p}=(p_x,p_y)^\\intercal$ on a plane and an angle of incidence $(\\theta,\\varphi)$."
   ]
  },
  {
   "cell_type": "markdown",
   "id": "2de72c21",
   "metadata": {
    "slideshow": {
     "slide_type": "-"
    }
   },
   "source": [
    "<img src=\"figures/3/lfPointAngle.svg\" style=\"max-width:30vw\">"
   ]
  },
  {
   "cell_type": "markdown",
   "id": "be789516",
   "metadata": {
    "slideshow": {
     "slide_type": "subslide"
    }
   },
   "source": [
    "##### Two-plane parameterization"
   ]
  },
  {
   "cell_type": "markdown",
   "id": "ba2059d5",
   "metadata": {
    "slideshow": {
     "slide_type": "fragment"
    }
   },
   "source": [
    "Parameterization of light rays via intersections $\\mathbf{p}=(p_x, p_y)^\\intercal$ and $\\mathbf{q}=(q_u, q_v)^\\intercal$ of ray with two parallel planes of known distance: $L(x,y,u,v)$."
   ]
  },
  {
   "cell_type": "markdown",
   "id": "3a1f74d1",
   "metadata": {
    "slideshow": {
     "slide_type": "-"
    }
   },
   "source": [
    "<img src=\"figures/3/lfTwoPlane.svg\" style=\"max-width:30vw\">"
   ]
  },
  {
   "cell_type": "markdown",
   "id": "da9d02eb",
   "metadata": {
    "slideshow": {
     "slide_type": "subslide"
    }
   },
   "source": [
    "### Motivation - use of light fields?"
   ]
  },
  {
   "cell_type": "markdown",
   "id": "741537fd",
   "metadata": {},
   "source": [
    "Consider intensities captured by traditional camera:"
   ]
  },
  {
   "cell_type": "markdown",
   "id": "ef600afd",
   "metadata": {
    "slideshow": {
     "slide_type": "fragment"
    }
   },
   "source": [
    "<img src=\"figures/3/thinLensIntegration.svg\" style=\"max-width:40vw\">"
   ]
  },
  {
   "cell_type": "markdown",
   "id": "7bdf4cb3",
   "metadata": {
    "slideshow": {
     "slide_type": "fragment"
    }
   },
   "source": [
    "Each pixel integrates over all incident rays regardless their direction of incidence - any directional information is lost."
   ]
  },
  {
   "cell_type": "markdown",
   "id": "19707584",
   "metadata": {
    "slideshow": {
     "slide_type": "subslide"
    }
   },
   "source": [
    "##### When could directional information help?"
   ]
  },
  {
   "cell_type": "markdown",
   "id": "f91470a7",
   "metadata": {},
   "source": [
    "Consider the case of defocused imaging:"
   ]
  },
  {
   "cell_type": "markdown",
   "id": "ac169e3e",
   "metadata": {
    "slideshow": {
     "slide_type": "fragment"
    }
   },
   "source": [
    "<img src=\"figures/3/thinLensRaysDefocused.svg\" style=\"max-width:40vw\">"
   ]
  },
  {
   "cell_type": "markdown",
   "id": "cf68223f",
   "metadata": {
    "slideshow": {
     "slide_type": "fragment"
    }
   },
   "source": [
    "* Idea: reconstruction of in-focus image by virtually shifting sensor into plane of converging rays.\n",
    "* Therefore one must collect the \"right\" rays from the pixel that collected the diverging ray bundle."
   ]
  },
  {
   "cell_type": "markdown",
   "id": "0a01fe05",
   "metadata": {
    "slideshow": {
     "slide_type": "fragment"
    }
   },
   "source": [
    "* Requires pixel that can resolve the direction of incidence."
   ]
  },
  {
   "cell_type": "markdown",
   "id": "087b5e23",
   "metadata": {
    "slideshow": {
     "slide_type": "subslide"
    }
   },
   "source": [
    "➡ Digital refocusing after image acquisition."
   ]
  },
  {
   "cell_type": "markdown",
   "id": "8d6588f2",
   "metadata": {
    "slideshow": {
     "slide_type": "fragment"
    }
   },
   "source": [
    "| Unprocessed   |   Post capture refocused  |  \n",
    "|:----------:|:-------------:|\n",
    "|<img src=\"figures/3/lfDefocused.jpg\" style=\"max-width:20vw\"> |<img src=\"figures/3/lfFocused.jpg\" style=\"max-width:20vw\"> |\n"
   ]
  },
  {
   "cell_type": "markdown",
   "id": "5cee6453",
   "metadata": {
    "slideshow": {
     "slide_type": "slide"
    }
   },
   "source": [
    "## Light field acquisition for photography applications"
   ]
  },
  {
   "cell_type": "markdown",
   "id": "00adc1a9",
   "metadata": {
    "slideshow": {
     "slide_type": "subslide"
    }
   },
   "source": [
    "Open question: How to capture light fields?"
   ]
  },
  {
   "cell_type": "markdown",
   "id": "b6c3173c",
   "metadata": {
    "slideshow": {
     "slide_type": "fragment"
    }
   },
   "source": [
    "Now: light field acquisition for photography applications.\n",
    "* Light field cameras (spatial multiplexing)\n",
    "* Camera gantries (moving cameras) / coded apertures (temporal multiplexing)\n",
    "* Camera arrays"
   ]
  },
  {
   "cell_type": "markdown",
   "id": "9ab95855",
   "metadata": {
    "slideshow": {
     "slide_type": "fragment"
    }
   },
   "source": [
    "Later: light field acquisition for visual inspection applications."
   ]
  },
  {
   "cell_type": "markdown",
   "id": "ce298072",
   "metadata": {
    "slideshow": {
     "slide_type": "notes"
    }
   },
   "source": [
    "TODO: Light field acquisition for medical applications?"
   ]
  },
  {
   "cell_type": "markdown",
   "id": "37992c20",
   "metadata": {
    "slideshow": {
     "slide_type": "subslide"
    }
   },
   "source": [
    "### Light field camera"
   ]
  },
  {
   "cell_type": "markdown",
   "id": "954e68b5",
   "metadata": {
    "slideshow": {
     "slide_type": "subslide"
    }
   },
   "source": [
    "#### Optical principle of a light field camera"
   ]
  },
  {
   "cell_type": "markdown",
   "id": "4eb53960",
   "metadata": {
    "slideshow": {
     "slide_type": "-"
    }
   },
   "source": [
    "Idea: use microlenses to split incident ray bundles so that pixel sens different directions of incidence."
   ]
  },
  {
   "cell_type": "code",
   "execution_count": null,
   "id": "dd374bf4",
   "metadata": {
    "slideshow": {
     "slide_type": "subslide"
    }
   },
   "outputs": [],
   "source": [
    "interact(lambda i: showFig('figures/3/lfCameraPrinciple_',i,'.svg',800,500), i=widgets.IntSlider(min=1,max=3, step=1, value=1))"
   ]
  },
  {
   "cell_type": "markdown",
   "id": "a6927d08",
   "metadata": {
    "slideshow": {
     "slide_type": "fragment"
    }
   },
   "source": [
    "* Microlens array at image plane of main lens.\n",
    "* Sensor at distance $b_\\mathrm{ML} = f_\\mathrm{ML}$ behind microlens array with focal length $f_\\mathrm{ML}$ of microlenses.\n",
    "* All pixel behind one microlens observe the same object point, but from different perspectives."
   ]
  },
  {
   "cell_type": "markdown",
   "id": "38a5364a",
   "metadata": {
    "slideshow": {
     "slide_type": "notes"
    }
   },
   "source": [
    "Since the sensor is located in the focal plane of the microlenses, this part of the optical system is focused at optical infinity. As the distance $b_\\mathrm{L}$ between the microlenses and the main lens is very large compared to $f_\\mathrm{ML}$, the microlenses yield a sharp image of the plane of the main lens on the image sensor.\n",
    "Consequently, every pixel under one microlens observes a section of this plane, i.e., a sub-aperture, and integrates all the light rays with the corresponding propagation directions."
   ]
  },
  {
   "cell_type": "markdown",
   "id": "3ab8c728",
   "metadata": {
    "slideshow": {
     "slide_type": "subslide"
    }
   },
   "source": [
    "➡ 4D light field is spatially multiplexed on the 2D sensor by trading in spatial resolution for angular resolution."
   ]
  },
  {
   "cell_type": "markdown",
   "id": "27813051",
   "metadata": {
    "slideshow": {
     "slide_type": "fragment"
    }
   },
   "source": [
    "➡ Allows to obtain two-plane parameterization $L(x^\\mathrm{ML}, y^\\mathrm{ML}, x^\\mathrm{L}, y^\\mathrm{L})$."
   ]
  },
  {
   "cell_type": "markdown",
   "id": "53fdd67f",
   "metadata": {
    "slideshow": {
     "slide_type": "subslide"
    }
   },
   "source": [
    "##### Spatial and angular resolution"
   ]
  },
  {
   "cell_type": "markdown",
   "id": "e64378e1",
   "metadata": {},
   "source": [
    "Resolution parameters of a light field camera:"
   ]
  },
  {
   "cell_type": "markdown",
   "id": "6caba3f7",
   "metadata": {
    "slideshow": {
     "slide_type": "fragment"
    }
   },
   "source": [
    "* **Spatial** resolution: number of microlenses in horizontal and vertical direction."
   ]
  },
  {
   "cell_type": "markdown",
   "id": "b6fdfa9e",
   "metadata": {
    "slideshow": {
     "slide_type": "fragment"
    }
   },
   "source": [
    "* **Angular** resolution: number of pixel corresponding to one microlens in horizontal and vertical direction."
   ]
  },
  {
   "cell_type": "markdown",
   "id": "0af0bfc8",
   "metadata": {
    "slideshow": {
     "slide_type": "fragment"
    }
   },
   "source": [
    "➡ **Spatio-angular resolution trade-off**, i.e., for a fixed sensor size increasing the spatial resolution (i.e., reducing the size of the microlenses) reduces the angular resolution and vice versa."
   ]
  },
  {
   "cell_type": "markdown",
   "id": "bf7b90d2",
   "metadata": {
    "slideshow": {
     "slide_type": "subslide"
    }
   },
   "source": [
    "##### How to choose $d_\\mathrm{ML}, b_\\mathrm{ML}, d_\\mathrm{L}, b_\\mathrm{L}$?"
   ]
  },
  {
   "cell_type": "markdown",
   "id": "a48783a0",
   "metadata": {},
   "source": [
    "Goal: no crosstalk, i.e., rays incident to a microlens only reach the pixel corresponding to this microlens."
   ]
  },
  {
   "cell_type": "markdown",
   "id": "7bb8f1c5",
   "metadata": {
    "slideshow": {
     "slide_type": "fragment"
    }
   },
   "source": [
    "<img src=\"figures/3/lfCameraPrincipleNoCrosstalk.svg\" style=\"max-width:30vw\">"
   ]
  },
  {
   "cell_type": "markdown",
   "id": "e28b7ca4",
   "metadata": {
    "slideshow": {
     "slide_type": "fragment"
    }
   },
   "source": [
    "In order to map the whole main lens to the pixels corresponding to one microlens, it has to be<br>\n",
    "$\\begin{align}\n",
    "    \\frac{d_\\mathrm{ML}}{b_\\mathrm{ML}}=\\frac{d_\\mathrm{L}}{b_\\mathrm{L}}\\,,\n",
    "\\end{align}$<br>\n",
    "according to the intercept theorem."
   ]
  },
  {
   "cell_type": "markdown",
   "id": "b53c46da",
   "metadata": {
    "slideshow": {
     "slide_type": "subslide"
    }
   },
   "source": [
    "#### Digital representation of light field images"
   ]
  },
  {
   "cell_type": "markdown",
   "id": "57882d27",
   "metadata": {},
   "source": [
    "Example light field from *The (New) Stanford Light Field Archive* (http://lightfield.stanford.edu/lfs.html):"
   ]
  },
  {
   "cell_type": "code",
   "execution_count": null,
   "id": "e3274420",
   "metadata": {
    "slideshow": {
     "slide_type": "subslide"
    }
   },
   "outputs": [],
   "source": [
    "interact(lambda i: showFig('figures/3/lfExample_',i,'.png',800,1100), i=widgets.IntSlider(min=1,max=8, step=1, value=1))"
   ]
  },
  {
   "cell_type": "markdown",
   "id": "25ac1bf4",
   "metadata": {
    "slideshow": {
     "slide_type": "subslide"
    }
   },
   "source": [
    "Digital representation of a spatially multiplexed light field $L(\\mathbf{m},\\mathbf{j})$ with \n",
    "* two discrete **spatial** coordinates $\\mathbf{m}=(m,n)^\\intercal$ representing the grid of microlenses and\n",
    "* two discrete **angular** coordinates $\\mathbf{j}=(j,k)^\\intercal$ representing the pixel behind one microlens, encoding the angular information."
   ]
  },
  {
   "cell_type": "markdown",
   "id": "9f79e510",
   "metadata": {
    "slideshow": {
     "slide_type": "fragment"
    }
   },
   "source": [
    "Sometimes, the set of pixel corresponding to one microlens is called a **macro pixel**."
   ]
  },
  {
   "cell_type": "markdown",
   "id": "13390cf1",
   "metadata": {
    "slideshow": {
     "slide_type": "fragment"
    }
   },
   "source": [
    "<img src=\"figures/3/lfRepresentation.svg\" style=\"max-height:40vh\">"
   ]
  },
  {
   "cell_type": "markdown",
   "id": "008b4523",
   "metadata": {
    "slideshow": {
     "slide_type": "subslide"
    }
   },
   "source": [
    "When a light field image is provided as a conventional image $g(\\mathbf{x})$, as in the case of a light field camera, the $L(\\mathbf{m},\\mathbf{j})$-representation has to be extracted via:"
   ]
  },
  {
   "cell_type": "markdown",
   "id": "325088e6",
   "metadata": {
    "slideshow": {
     "slide_type": "fragment"
    }
   },
   "source": [
    "$\\begin{align}\n",
    "    L\\left( (m,n)^\\intercal, (j,k)^\\intercal \\right) = g\\begin{pmatrix} (m-1)\\cdot J + j \\\\ (n-1)\\cdot K + k \\end{pmatrix} \\,,\n",
    "    \\quad\\mathrm{with}\\, j\\in \\left[1,\\ldots,J\\right],\\,k\\in\\left[1,\\ldots,K\\right]\\,.  \n",
    "\\end{align}$"
   ]
  },
  {
   "cell_type": "markdown",
   "id": "6737c408",
   "metadata": {
    "slideshow": {
     "slide_type": "subslide"
    }
   },
   "source": [
    "#### Sub aperture images"
   ]
  },
  {
   "cell_type": "markdown",
   "id": "1ee896f2",
   "metadata": {},
   "source": [
    "Every pixel behind a microlens observes the scene from a different angle, i.e., through a different portion of the aperture (the main lens)."
   ]
  },
  {
   "cell_type": "markdown",
   "id": "5e52aeee",
   "metadata": {
    "slideshow": {
     "slide_type": "fragment"
    }
   },
   "source": [
    "<img src=\"figures/3/lfCameraPrinciple_3.svg\" style=\"max-height:40vh\">"
   ]
  },
  {
   "cell_type": "markdown",
   "id": "7049f5c5",
   "metadata": {
    "slideshow": {
     "slide_type": "subslide"
    }
   },
   "source": [
    "By combining all the pixel with the same relative position $(j',k')^\\intercal$ with respect to the corresponding microlens, so-called **sub aperture images (SAI)** $L^{(j,k)}(\\mathbf{m})$ can be constructed:"
   ]
  },
  {
   "cell_type": "markdown",
   "id": "f9bf9c3a",
   "metadata": {
    "slideshow": {
     "slide_type": "fragment"
    }
   },
   "source": [
    "$\\begin{align}\n",
    "    L^{(j,k)}(\\mathbf{m}) := L\\left( \\mathbf{m}, (j,k)^\\intercal \\right)\n",
    "\\end{align}$"
   ]
  },
  {
   "cell_type": "markdown",
   "id": "7022d849",
   "metadata": {
    "slideshow": {
     "slide_type": "fragment"
    }
   },
   "source": [
    "Note<br>\n",
    "The term SAI is also applicable for the continuous case, i.e.,<br><br>\n",
    "$\\begin{align}\n",
    "    L^{(u,v)}\\left((x,y)^\\intercal\\right):=L\\left( (x,y)^\\intercal, (u,v)^\\intercal \\right)\\,.\n",
    "\\end{align}$<br>"
   ]
  },
  {
   "cell_type": "markdown",
   "id": "18eda5db",
   "metadata": {
    "slideshow": {
     "slide_type": "subslide"
    }
   },
   "source": [
    "##### Example\n",
    "Slide show of SAIs $L^{(j,9)}(\\mathbf{x}),\\, j\\in\\left[0,\\ldots,16\\right]$ from previous light field image:"
   ]
  },
  {
   "cell_type": "code",
   "execution_count": null,
   "id": "1c4cf726",
   "metadata": {},
   "outputs": [],
   "source": [
    "ax = plt.figure()"
   ]
  },
  {
   "cell_type": "code",
   "execution_count": null,
   "id": "add74fad",
   "metadata": {
    "slideshow": {
     "slide_type": "fragment"
    }
   },
   "outputs": [],
   "source": [
    "interact(lambda i: showFig2('figures/3/lfSAIs/out_09_',i,'.png',800,1100), i=widgets.IntSlider(min=0,max=16, step=1, value=1))"
   ]
  },
  {
   "cell_type": "markdown",
   "id": "77cfdce5",
   "metadata": {
    "slideshow": {
     "slide_type": "subslide"
    }
   },
   "source": [
    "### Temporal multiplexing"
   ]
  },
  {
   "cell_type": "markdown",
   "id": "b8995c82",
   "metadata": {},
   "source": [
    "The static scene is captured with a single camera \n",
    "* from different perspectives, e.g., using a gantry, or \n",
    "* with different configurations of a coded aperture (more later)."
   ]
  },
  {
   "cell_type": "markdown",
   "id": "b28d655d",
   "metadata": {
    "slideshow": {
     "slide_type": "fragment"
    }
   },
   "source": [
    "<img src=\"figures/3/cameraGantry.png\" style=\"max-height:40vh\"><br>Gantry for observing a patch of grass illuminated from the right with a camera from above (by Fraunhofer-IOSB Ettlingen)."
   ]
  },
  {
   "cell_type": "markdown",
   "id": "7385e080",
   "metadata": {},
   "source": [
    "The gantry has to be precisely calibrated so that the single camera images can be combined into a common light field."
   ]
  },
  {
   "cell_type": "markdown",
   "id": "9e98628e",
   "metadata": {
    "slideshow": {
     "slide_type": "subslide"
    }
   },
   "source": [
    "### Camera arrays"
   ]
  },
  {
   "cell_type": "markdown",
   "id": "acff1e72",
   "metadata": {
    "slideshow": {
     "slide_type": "-"
    }
   },
   "source": [
    "Arrays of cameras also allow to capture light fields."
   ]
  },
  {
   "cell_type": "markdown",
   "id": "f069930d",
   "metadata": {
    "slideshow": {
     "slide_type": "fragment"
    }
   },
   "source": [
    "<img src=\"figures/3/stanfordCameraArray.jpg\" style=\"max-height:40vh\"><br>\n",
    "Stanford camera array (http://graphics.stanford.edu/projects/array/images/tiled-side-view-cessh.jpg)."
   ]
  },
  {
   "cell_type": "markdown",
   "id": "2c0fa36a",
   "metadata": {
    "slideshow": {
     "slide_type": "subslide"
    }
   },
   "source": [
    "The cameras are arranged in a grid $(j,k)\\in\\Omega_\\mathrm{a}$ with angular support $\\Omega_\\mathrm{a}=  \\left[1,\\ldots,J\\right]\\,\\times\\, \\left[1,\\ldots,K\\right]\\,$."
   ]
  },
  {
   "cell_type": "markdown",
   "id": "5552664a",
   "metadata": {},
   "source": [
    "The camera at position $(j,k)$ captures the sub aperture image $L^{(j,k)}(\\mathbf{m})$."
   ]
  },
  {
   "cell_type": "markdown",
   "id": "662a1632",
   "metadata": {
    "slideshow": {
     "slide_type": "slide"
    }
   },
   "source": [
    "## Light field processing for photography applications"
   ]
  },
  {
   "cell_type": "markdown",
   "id": "b6a2cdaa",
   "metadata": {
    "slideshow": {
     "slide_type": "notes"
    }
   },
   "source": [
    "### Custom aperture imaging\n",
    "Idea: Synthesize image by combining some SAIs (-> small aperture, big aperture, custom aperture)."
   ]
  },
  {
   "cell_type": "markdown",
   "id": "cd850691",
   "metadata": {
    "slideshow": {
     "slide_type": "subslide"
    }
   },
   "source": [
    "### Digital refocusing"
   ]
  },
  {
   "cell_type": "markdown",
   "id": "fcd982ab",
   "metadata": {},
   "source": [
    "#### Light fields in a conventional camera"
   ]
  },
  {
   "cell_type": "markdown",
   "id": "13561466",
   "metadata": {
    "slideshow": {
     "slide_type": "fragment"
    }
   },
   "source": [
    "Consider the light field $L_b$ in a conventional camera for the case of focused imaging with an image distance of $b$. The $(x,y)$-plane corresponds to the sensor plane and the $(u,v)$-plane corresponds to the lens plane."
   ]
  },
  {
   "cell_type": "markdown",
   "id": "07c8f872",
   "metadata": {
    "slideshow": {
     "slide_type": "fragment"
    }
   },
   "source": [
    "| Light field in camera   |   Ray diagram  |  \n",
    "|:----------:|:-------------:|\n",
    "|<img src=\"figures/3/lfInsideCamera_1.svg\" style=\"width:40vw\"> |<img src=\"figures/3/lfRayDiagramm_1.svg\" style=\"width:20vw\"> |\n"
   ]
  },
  {
   "cell_type": "markdown",
   "id": "2a96e125",
   "metadata": {
    "slideshow": {
     "slide_type": "fragment"
    }
   },
   "source": [
    "A single light ray intersecting the lens at $\\mathbf{p}^\\mathrm{L}=(p^\\mathrm{L}_u,p^\\mathrm{L}_v)$ and hitting the sensor at $\\mathbf{p}^\\mathrm{S}(p^\\mathrm{S}_x,p^\\mathrm{S}_y)$, corresponds to a single point in the light field at position $(p^\\mathrm{S}_x,p^\\mathrm{S}_y,p^\\mathrm{L}_u,p^\\mathrm{L}_v)$."
   ]
  },
  {
   "cell_type": "markdown",
   "id": "95d4db53",
   "metadata": {
    "slideshow": {
     "slide_type": "subslide"
    }
   },
   "source": [
    "| Light field in camera   |   Ray diagram  |  \n",
    "|:----------:|:-------------:|\n",
    "|<img src=\"figures/3/lfInsideCamera_2.svg\" style=\"width:40vw\"> |<img src=\"figures/3/lfRayDiagramm_2.svg\" style=\"width:20vw\"> |\n"
   ]
  },
  {
   "cell_type": "markdown",
   "id": "c30d6da0",
   "metadata": {
    "slideshow": {
     "slide_type": "fragment"
    }
   },
   "source": [
    "At point $\\mathbf{p}^\\mathrm{S}$ the sensor integrates over light rays coming from all possible aperture positions, i.e., for all $\\mathbf{p}^\\mathrm{L}$ lying on the lens surface. This corresponds to an integration<br>\n",
    "$\\begin{align}\n",
    "    g_b\\left(\\mathbf{p}^\\mathrm{S}\\right)=\\int\\int L_b(p^\\mathrm{S}_x,p^\\mathrm{S}_y,u,v)\\, \\mathrm{d}u\\,\\mathrm{d}v\\,.\n",
    "\\end{align}$<br>"
   ]
  },
  {
   "cell_type": "markdown",
   "id": "417ec302",
   "metadata": {
    "slideshow": {
     "slide_type": "subslide"
    }
   },
   "source": [
    "| Light field in camera   |   Ray diagram  |  \n",
    "|:----------:|:-------------:|\n",
    "|<img src=\"figures/3/lfInsideCamera_3.svg\" style=\"width:40vw\"> |<img src=\"figures/3/lfRayDiagramm_3.svg\" style=\"width:20vw\"> |\n"
   ]
  },
  {
   "cell_type": "markdown",
   "id": "1c511c8e",
   "metadata": {
    "slideshow": {
     "slide_type": "fragment"
    }
   },
   "source": [
    "In the case of defocused imaging for an object point too close to the camera, the rays that would be collected at point $\\mathbf{p}^\\mathrm{S'}(p^\\mathrm{S'}_{x'}p^\\mathrm{S'}_{y'})$ on an adequately placed virtual sensor in the $(x',y')$-plane, correspond to points lying on a plane with positive slope in the originally captured light field $L_b$."
   ]
  },
  {
   "cell_type": "markdown",
   "id": "10175828",
   "metadata": {
    "slideshow": {
     "slide_type": "subslide"
    }
   },
   "source": [
    "| Light field in camera   |   Ray diagram  |  \n",
    "|:----------:|:-------------:|\n",
    "|<img src=\"figures/3/lfInsideCamera_4.svg\" style=\"width:40vw\"> |<img src=\"figures/3/lfRayDiagramm_4.svg\" style=\"width:20vw\"> |\n"
   ]
  },
  {
   "cell_type": "markdown",
   "id": "3c209b9b",
   "metadata": {
    "slideshow": {
     "slide_type": "fragment"
    }
   },
   "source": [
    "In contrast, an object point farther away from the camera, correspond to points lying on a plane with negative slope in the originally captured light field $L_b$."
   ]
  },
  {
   "cell_type": "markdown",
   "id": "84211d6b",
   "metadata": {
    "slideshow": {
     "slide_type": "subslide"
    }
   },
   "source": [
    "#### Image formation for virtual sensor planes"
   ]
  },
  {
   "cell_type": "markdown",
   "id": "8c992e5a",
   "metadata": {},
   "source": [
    "Express the light field $L_{b'}(x',y',u,v)$ corresponding to the virtual sensor plane having a distance of $b'$ to the lens by means of the original light field $L_b(x,y,u,v)$ having a distance of $b$ to the lens."
   ]
  },
  {
   "cell_type": "markdown",
   "id": "96056c0a",
   "metadata": {
    "slideshow": {
     "slide_type": "fragment"
    }
   },
   "source": [
    "According to the intercept theorem, it is:"
   ]
  },
  {
   "cell_type": "markdown",
   "id": "4841562b",
   "metadata": {
    "slideshow": {
     "slide_type": "fragment"
    }
   },
   "source": [
    "<img src=\"figures/3/lfTransform.svg\" style=\"width:40vw\"><br>(This also holds for the other dimensions, i.e., $x,x'$ and $u$)"
   ]
  },
  {
   "cell_type": "markdown",
   "id": "8ef7e690",
   "metadata": {
    "slideshow": {
     "slide_type": "fragment"
    }
   },
   "source": [
    "Defining $\\alpha:=\\frac{b'}{b}$ as the relative depth leads to the expression of $L_{b'}(x',y',u,v)$ by means of $L_b(x,y,u,v)$:"
   ]
  },
  {
   "cell_type": "markdown",
   "id": "d3a432f3",
   "metadata": {
    "slideshow": {
     "slide_type": "fragment"
    }
   },
   "source": [
    "<br>\n",
    "$\\begin{align}\n",
    "    L_{b'}(x',y',u,v) &=L_b\\left(\\frac{x'-u}{\\alpha} + u , \\frac{y'-v}{\\alpha} + v, \\, u\\,,\\, v\\, \\right)\\\\\n",
    "                      &=L_b\\left(u\\left(1-\\frac{1}{\\alpha} \\right)+\\frac{x'}{\\alpha}, v\\left( 1-\\frac{1}{\\alpha}\\right) + \\frac{y'}{\\alpha},\\, u\\,,\\, v\\, \\right)\\,.\n",
    "\\end{align}$<br>"
   ]
  },
  {
   "cell_type": "markdown",
   "id": "74a17a4c",
   "metadata": {
    "slideshow": {
     "slide_type": "subslide"
    }
   },
   "source": [
    "Hence, the image corresponding to a virtual sensor $g_{b'}(x',y')$ with image distance $b'=\\alpha\\cdot b$ is formed by:"
   ]
  },
  {
   "cell_type": "markdown",
   "id": "20d0c6b0",
   "metadata": {
    "slideshow": {
     "slide_type": "fragment"
    }
   },
   "source": [
    "<br>\n",
    "$\\begin{align}\n",
    "    g_{b'}(x',y') = \\int\\int L_b\\left(u\\left(1-\\frac{1}{\\alpha} \\right)+\\frac{x'}{\\alpha}, v\\left( 1-\\frac{1}{\\alpha}\\right) + \\frac{y'}{\\alpha},\\, u\\,,\\, v\\, \\right) \\, \\mathrm{d}u\\,\\mathrm{d}v\\,.\n",
    "\\end{align}$<br>"
   ]
  },
  {
   "cell_type": "markdown",
   "id": "5fbfdbee",
   "metadata": {},
   "source": [
    "* Images of virtual sensor planes can be calculated by numerically evaluating the corresponding integrals."
   ]
  },
  {
   "cell_type": "markdown",
   "id": "06370db9",
   "metadata": {},
   "source": [
    "* A much more comfortable way will be presented in the following section."
   ]
  },
  {
   "cell_type": "markdown",
   "id": "91fe8c30",
   "metadata": {
    "slideshow": {
     "slide_type": "subslide"
    }
   },
   "source": [
    "#### Refocused image synthesis via *shift and add*"
   ]
  },
  {
   "cell_type": "markdown",
   "id": "905211f2",
   "metadata": {},
   "source": [
    "Consider again the previous equation\n"
   ]
  },
  {
   "cell_type": "markdown",
   "id": "2af4b103",
   "metadata": {
    "slideshow": {
     "slide_type": "fragment"
    }
   },
   "source": [
    "<br>\n",
    "$\\begin{align}\n",
    "    g_{b'}(x',y') = \\int\\int L_b\\left(u\\left(1-\\frac{1}{\\alpha} \\right)+\\frac{x'}{\\alpha}, v\\left( 1-\\frac{1}{\\alpha}\\right) + \\frac{y'}{\\alpha},\\, u\\,,\\, v\\, \\right) \\, \\mathrm{d}u\\,\\mathrm{d}v\\,.\n",
    "\\end{align}$<br>"
   ]
  },
  {
   "cell_type": "markdown",
   "id": "1cc12c58",
   "metadata": {
    "slideshow": {
     "slide_type": "fragment"
    }
   },
   "source": [
    "Since the angular coordinates $(u,v)$ of $L_b$ are left untouched, it can also be expressed via sub-aperture images $L^{(u,v)}\\left((x,y)^\\intercal\\right):=L\\left( (x,y)^\\intercal, (u,v)^\\intercal \\right)$:"
   ]
  },
  {
   "cell_type": "markdown",
   "id": "5f6bf813",
   "metadata": {
    "slideshow": {
     "slide_type": "fragment"
    }
   },
   "source": [
    "<br>\n",
    "$\\begin{align}\n",
    "    g_{b'}(x',y') = \\int\\int L^{(u,v)}_b\\biggl ( \\bigl( u\\left(1-1\\,/\\,\\alpha \\right)+x'\\,/\\,\\alpha,\\, v\\left( 1-1\\,/\\,\\alpha\\right) + y'\\,/\\,\\alpha\\bigr)^\\intercal \\biggr) \\, \\mathrm{d}u\\,\\mathrm{d}v\\,.\n",
    "\\end{align}$<br>"
   ]
  },
  {
   "cell_type": "markdown",
   "id": "66dac100",
   "metadata": {
    "slideshow": {
     "slide_type": "subslide"
    }
   },
   "source": [
    "Here, $L^{(u,v)}_b\\biggl ( \\bigl( u\\left(1-1\\,/\\,\\alpha \\right)+x'\\,/\\,\\alpha,\\, v\\left( 1-1\\,/\\,\\alpha\\right) + y'\\,/\\,\\alpha\\bigr)^\\intercal \\biggr)$ is just the SAI $L^{(u,v)}_b$ but\n",
    "* shifted by an offset of $\\bigl( u(1-1\\,/\\alpha), v(1-1\\,/\\alpha) \\bigr)^\\intercal$ and\n",
    "* stretched by a factor of $1\\, / \\, \\alpha\\,.$"
   ]
  },
  {
   "cell_type": "markdown",
   "id": "cb4dd6b9",
   "metadata": {
    "slideshow": {
     "slide_type": "subslide"
    }
   },
   "source": [
    "Since the stretch factor $1\\,/\\,\\alpha$ is the same for all SAIs, it can be neglected."
   ]
  },
  {
   "cell_type": "markdown",
   "id": "cc2739df",
   "metadata": {
    "slideshow": {
     "slide_type": "fragment"
    }
   },
   "source": [
    "Hence, for a recorded light field with typically discrete angular resolution, the integral breaks down to a summation over all properly shifted SAIs."
   ]
  },
  {
   "cell_type": "markdown",
   "id": "897a728b",
   "metadata": {
    "slideshow": {
     "slide_type": "fragment"
    }
   },
   "source": [
    "This is why the procedure is called **shift and add**."
   ]
  },
  {
   "cell_type": "markdown",
   "id": "de1e0654",
   "metadata": {
    "slideshow": {
     "slide_type": "subslide"
    }
   },
   "source": [
    "##### Example"
   ]
  },
  {
   "cell_type": "markdown",
   "id": "91109fd3",
   "metadata": {},
   "source": [
    "Read light field from bedroom scene from the HCI light field benchmark dataset (see 'A dataset and evaluation methodology for depth estimation on 4D light fields' by Honauer et al.):"
   ]
  },
  {
   "cell_type": "code",
   "execution_count": null,
   "id": "f3aeb964",
   "metadata": {},
   "outputs": [],
   "source": [
    "path = 'figures/3/bedroom/'\n",
    "\n",
    "tmp = cv2.cvtColor(np.uint8(255*plt.imread(f\"{path}input_Cam000.png\")), cv2.COLOR_RGB2GRAY)\n",
    "lf = np.zeros((tmp.shape[0], tmp.shape[1], 9, 9), dtype = 'uint8')\n",
    "for j in range(0,9):\n",
    "    for k in range(0,9):\n",
    "        imgStr = str(j*9+k)\n",
    "        while len(imgStr) < 3:\n",
    "            imgStr = f\"0{imgStr}\"\n",
    "        curImg = cv2.cvtColor(np.uint8(255*plt.imread(f\"{path}input_Cam{imgStr}.png\")), cv2.COLOR_RGB2GRAY)\n",
    "        lf[:,:,j,k] = curImg"
   ]
  },
  {
   "cell_type": "markdown",
   "id": "f10e2b91",
   "metadata": {
    "slideshow": {
     "slide_type": "subslide"
    }
   },
   "source": [
    "Show center SAI for $\\mathbf{j}=(4,4)^\\intercal$:"
   ]
  },
  {
   "cell_type": "code",
   "execution_count": null,
   "id": "2f4105f6",
   "metadata": {},
   "outputs": [],
   "source": [
    "imshow(lf[:,:,4,4], cmap='gray')"
   ]
  },
  {
   "cell_type": "markdown",
   "id": "2e5dfadb",
   "metadata": {
    "slideshow": {
     "slide_type": "subslide"
    }
   },
   "source": [
    "Synthesize full aperture image, i.e., $g(\\mathbf{m})=\\sum\\limits_{\\mathbf{j}\\in\\Omega_\\mathrm{a}} L(\\mathbf{m},\\mathbf{j})\\,$:"
   ]
  },
  {
   "cell_type": "code",
   "execution_count": null,
   "id": "25165ca4",
   "metadata": {},
   "outputs": [],
   "source": [
    "imshow(np.sum(np.sum(lf,axis=2),axis=2), cmap='gray')"
   ]
  },
  {
   "cell_type": "markdown",
   "id": "81d65209",
   "metadata": {
    "slideshow": {
     "slide_type": "subslide"
    }
   },
   "source": [
    "Define a refocus function by means of shift and add:"
   ]
  },
  {
   "cell_type": "code",
   "execution_count": null,
   "id": "6bc5c976",
   "metadata": {},
   "outputs": [],
   "source": [
    "def refocus(alpha):\n",
    "    refocused = np.zeros_like(lf[:,:,0,0])\n",
    "    refocused = np.float32(refocused)\n",
    "\n",
    "    for v in range(0,lf.shape[2]):\n",
    "        for u in range(0,lf.shape[3]):\n",
    "            curShift = np.array([[1, 0, u*(1-1/alpha)],\n",
    "                                 [0, 1, v*(1-1/alpha)]], dtype='float32')\n",
    "            curSAI = np.float32(lf[:,:,v,u])\n",
    "            curSAIShifted = cv2.warpAffine(curSAI, curShift, (curSAI.shape[1], curSAI.shape[0]))\n",
    "\n",
    "            refocused = refocused + curSAIShifted\n",
    "    \n",
    "    return refocused"
   ]
  },
  {
   "cell_type": "markdown",
   "id": "1aa80847",
   "metadata": {
    "slideshow": {
     "slide_type": "subslide"
    }
   },
   "source": [
    "Visualize the refocusing results for different $\\alpha$:"
   ]
  },
  {
   "cell_type": "code",
   "execution_count": null,
   "id": "6b53deb4",
   "metadata": {
    "slideshow": {
     "slide_type": "-"
    }
   },
   "outputs": [],
   "source": [
    "plt.figure()\n",
    "interact(lambda alpha: imshow2(refocus(alpha),cmap='gray'), alpha=widgets.FloatSlider(min=0.4,max=3.0, step=0.2, value=1.0))"
   ]
  },
  {
   "cell_type": "markdown",
   "id": "f5eed570",
   "metadata": {
    "slideshow": {
     "slide_type": "subslide"
    }
   },
   "source": [
    "### Extended depth of field"
   ]
  },
  {
   "cell_type": "markdown",
   "id": "8e3d276f",
   "metadata": {},
   "source": [
    "Apparently, the light field allows to synthesize images of the observed scene focused at different depths."
   ]
  },
  {
   "cell_type": "markdown",
   "id": "c2fb80fa",
   "metadata": {
    "slideshow": {
     "slide_type": "fragment"
    }
   },
   "source": [
    "So how to obtain an image with increased depth of field?"
   ]
  },
  {
   "cell_type": "markdown",
   "id": "5445a82e",
   "metadata": {
    "slideshow": {
     "slide_type": "fragment"
    }
   },
   "source": [
    "Easy: Extract a single sub-aperture image."
   ]
  },
  {
   "cell_type": "markdown",
   "id": "8a77239e",
   "metadata": {
    "slideshow": {
     "slide_type": "fragment"
    }
   },
   "source": [
    "Drawback: Corresponds to small aperture (equivalent to stopping down), i.e., less light, leading to increased noise."
   ]
  },
  {
   "cell_type": "markdown",
   "id": "027f0dd2",
   "metadata": {
    "slideshow": {
     "slide_type": "subslide"
    }
   },
   "source": [
    "Better:\n",
    "* Synthesize stack of images refocused at different depths."
   ]
  },
  {
   "cell_type": "markdown",
   "id": "0624e738",
   "metadata": {
    "slideshow": {
     "slide_type": "fragment"
    }
   },
   "source": [
    "* Fuse images to a single image with increased depth of field (well studied problem, see literature)."
   ]
  },
  {
   "cell_type": "markdown",
   "id": "9b1cba18",
   "metadata": {
    "slideshow": {
     "slide_type": "notes"
    }
   },
   "source": [
    "TBD."
   ]
  },
  {
   "cell_type": "markdown",
   "id": "fa73f11a",
   "metadata": {},
   "source": [
    "### Visualizing refractive phenomena in transparent media"
   ]
  },
  {
   "cell_type": "markdown",
   "id": "3632fe98",
   "metadata": {},
   "source": [
    "TODO: Evtl. diesen Abschnitt auch unter Sichtprüfung"
   ]
  },
  {
   "cell_type": "markdown",
   "id": "5a7f1b6c",
   "metadata": {},
   "source": [
    "Light gets refracted, i.e., its direction of propagation changes, when it passes an interface between two media with different indices of refraction."
   ]
  },
  {
   "cell_type": "markdown",
   "id": "42bd80fe",
   "metadata": {},
   "source": [
    "<img src=\"figures/3/refraction.svg\" style=\"max-width:40vw\"><br>"
   ]
  },
  {
   "cell_type": "markdown",
   "id": "2945d533",
   "metadata": {},
   "source": [
    "According to Snell's law of refraction it is"
   ]
  },
  {
   "cell_type": "markdown",
   "id": "b89eedd8",
   "metadata": {},
   "source": [
    "\\begin{align}\n",
    "    n_1 \\sin \\theta_1 = n_2 \\sin \\theta_2\n",
    "\\end{align}"
   ]
  },
  {
   "cell_type": "markdown",
   "id": "93923e6f",
   "metadata": {
    "slideshow": {
     "slide_type": "notes"
    }
   },
   "source": [
    "With the indices of refraction  $n_1, n_2$  of the first and the second medium, the angle of incidence $\\theta_1$ and the angle $\\theta_2$ of the transmitted refracted light beam."
   ]
  },
  {
   "cell_type": "markdown",
   "id": "709a2007",
   "metadata": {},
   "source": [
    "Humans are not able to percieve refractive effects per se but by their optical effect."
   ]
  },
  {
   "cell_type": "markdown",
   "id": "19bf9cd2",
   "metadata": {},
   "source": [
    "#### Schlieren imaging"
   ]
  },
  {
   "cell_type": "markdown",
   "id": "458741a9",
   "metadata": {},
   "source": [
    "Schlieren imaging has been invented by August Toepler in 1864. It maps gradients of the index of refraction to intensity changes of an image."
   ]
  },
  {
   "cell_type": "markdown",
   "id": "a0bc30cb",
   "metadata": {
    "slideshow": {
     "slide_type": "notes"
    }
   },
   "source": [
    "The name comes from the visual similarity between the observed intensity structures and the German term for smears (e.g. oily  smears on a window)."
   ]
  },
  {
   "cell_type": "markdown",
   "id": "77170fec",
   "metadata": {},
   "source": [
    "<img src=\"figures/3/schlieren_gas_turb.png\" style=\"width:40vw\"><br>(Turbulent flow of gas exiting the lighter on the right)"
   ]
  },
  {
   "cell_type": "markdown",
   "id": "0d49ea9c",
   "metadata": {
    "slideshow": {
     "slide_type": "subslide"
    }
   },
   "source": [
    "##### Optical setup of Schlieren imaging"
   ]
  },
  {
   "cell_type": "code",
   "execution_count": null,
   "id": "98bfe2f1",
   "metadata": {
    "slideshow": {
     "slide_type": "-"
    }
   },
   "outputs": [],
   "source": [
    "interact(lambda i: showFig('figures/3/SchlierenPrinciple_',i,'.svg',800,500), i=widgets.IntSlider(min=0,max=4, step=1, value=0))"
   ]
  },
  {
   "cell_type": "markdown",
   "id": "acb62e2e",
   "metadata": {
    "slideshow": {
     "slide_type": "subslide"
    }
   },
   "source": [
    "* Collimated illumination (only parallel rays).\n",
    "* Imaging lens and sensor focused on refractive phenomenon.\n",
    "* Schlieren stop ('knife edge') in focal plane of imaging lens."
   ]
  },
  {
   "cell_type": "markdown",
   "id": "6df93b4f",
   "metadata": {
    "slideshow": {
     "slide_type": "fragment"
    }
   },
   "source": [
    "* Depending on configuration of Schlieren stop, deflection events of different angles are visualized."
   ]
  },
  {
   "cell_type": "markdown",
   "id": "5173afbf",
   "metadata": {
    "slideshow": {
     "slide_type": "subslide"
    }
   },
   "source": [
    "Recall: Spatial filtering in the focal plane of a lens corresponds to angular filtering of the direction of propagation of captured light rays (cf. Chapter 2)."
   ]
  },
  {
   "cell_type": "markdown",
   "id": "ef14c321",
   "metadata": {
    "slideshow": {
     "slide_type": "fragment"
    }
   },
   "source": [
    "<img src=\"figures/2/deflectionMeasurement.svg\" style=\"max-height:40vh\">"
   ]
  },
  {
   "cell_type": "markdown",
   "id": "a8c8ca43",
   "metadata": {
    "slideshow": {
     "slide_type": "subslide"
    }
   },
   "source": [
    "Quantitative measurements of the deflection angle $\\alpha$ are only possible if"
   ]
  },
  {
   "cell_type": "markdown",
   "id": "235345ad",
   "metadata": {},
   "source": [
    "$$ \\delta_\\alpha < \\frac{1}{2}\\varepsilon\\,, $$"
   ]
  },
  {
   "cell_type": "markdown",
   "id": "720673f2",
   "metadata": {},
   "source": [
    "with $\\varepsilon$ denoting the diameter of the image of the light source."
   ]
  },
  {
   "cell_type": "markdown",
   "id": "84baf33b",
   "metadata": {
    "slideshow": {
     "slide_type": "notes"
    }
   },
   "source": [
    "Task: Assume a pinhole with a circular opening of ... being used as the schlieren stop - calculate which deflection angles are accepted by the system."
   ]
  },
  {
   "cell_type": "markdown",
   "id": "fd5e5b46",
   "metadata": {
    "slideshow": {
     "slide_type": "notes"
    }
   },
   "source": [
    "Task: Implement a Schlieren setup in the Mitsuba rendering framework."
   ]
  },
  {
   "cell_type": "markdown",
   "id": "862743e9",
   "metadata": {},
   "source": [
    "##### Color-coded schlieren"
   ]
  },
  {
   "cell_type": "markdown",
   "id": "1aa450e6",
   "metadata": {},
   "source": [
    "Instead of using an opaque schlieren stop, a color-wheel can also be employed for encoding the directional information."
   ]
  },
  {
   "cell_type": "markdown",
   "id": "92d62dcb",
   "metadata": {
    "slideshow": {
     "slide_type": "notes"
    }
   },
   "source": [
    "Task: Implement a color-coded Schlieren setup in the Mitsuba rendering framework."
   ]
  },
  {
   "cell_type": "markdown",
   "id": "0c9db2f5",
   "metadata": {
    "slideshow": {
     "slide_type": "notes"
    }
   },
   "source": [
    "##### Background oriented schlieren"
   ]
  },
  {
   "cell_type": "markdown",
   "id": "ab39c6e9",
   "metadata": {
    "slideshow": {
     "slide_type": "notes"
    }
   },
   "source": [
    "TBD."
   ]
  },
  {
   "cell_type": "markdown",
   "id": "ab72fb8d",
   "metadata": {},
   "source": [
    "Refracting effects can also be visualized by directionally encoding the illumination (see section light field illumination)."
   ]
  },
  {
   "cell_type": "markdown",
   "id": "0c2c3aec",
   "metadata": {},
   "source": [
    "## Light field illumination"
   ]
  },
  {
   "cell_type": "markdown",
   "id": "674c031f",
   "metadata": {
    "slideshow": {
     "slide_type": "subslide"
    }
   },
   "source": [
    "### Printed light field probes"
   ]
  },
  {
   "cell_type": "markdown",
   "id": "7cda8388",
   "metadata": {},
   "source": [
    "Color gradients (in HSI space) printed as hexagonal micro images positioned under an array of hexagonal microlenses at a distance of the lenses' focal length."
   ]
  },
  {
   "cell_type": "markdown",
   "id": "4c7eb8e5",
   "metadata": {
    "slideshow": {
     "slide_type": "fragment"
    }
   },
   "source": [
    "<img src=\"figures/3/SchlierenLFProbe.svg\" style=\"max-height:40vh\">"
   ]
  },
  {
   "cell_type": "markdown",
   "id": "318f2c2b",
   "metadata": {
    "slideshow": {
     "slide_type": "fragment"
    }
   },
   "source": [
    "<img src=\"figures/3/schlieren_unicorn.jpg\" style=\"max-height:40vh\"><br>(Kindly provided by Prof. Gordon Wetzstein, Stanford University)"
   ]
  },
  {
   "cell_type": "markdown",
   "id": "a04ed5b5",
   "metadata": {
    "slideshow": {
     "slide_type": "notes"
    }
   },
   "source": [
    "TBD: Image showing deflected ray of sight hitting LF probe."
   ]
  },
  {
   "cell_type": "markdown",
   "id": "e61d122e",
   "metadata": {
    "slideshow": {
     "slide_type": "subslide"
    }
   },
   "source": [
    "### Light field generation with light field displays"
   ]
  },
  {
   "cell_type": "markdown",
   "id": "3a6b8cda",
   "metadata": {},
   "source": [
    "Instead of using a static printed pattern, employ a display with programmable pixels."
   ]
  },
  {
   "cell_type": "code",
   "execution_count": null,
   "id": "0ab49ef3",
   "metadata": {
    "scrolled": false,
    "slideshow": {
     "slide_type": "-"
    }
   },
   "outputs": [],
   "source": [
    "interact(lambda i: showFig('figures/3/lfg_concept_',i,'.svg',800,500), i=widgets.IntSlider(min=1,max=4, step=1, value=0))"
   ]
  },
  {
   "cell_type": "markdown",
   "id": "482da408",
   "metadata": {},
   "source": [
    "Angle $\\alpha$ of emitted collimated light bundle depends on focal length $f_\\mathrm{ML}$ of microlenses and on the distance $\\delta_\\alpha$ of the activated pixel to the optical axis of the corresponding microlens:"
   ]
  },
  {
   "cell_type": "markdown",
   "id": "30399cf9",
   "metadata": {},
   "source": [
    "$$ \\tan(\\alpha) = \\frac{\\delta_\\alpha}{f_{\\mathrm{ML}}}\\,.$$"
   ]
  },
  {
   "cell_type": "markdown",
   "id": "ba3fd1f5",
   "metadata": {
    "slideshow": {
     "slide_type": "fragment"
    }
   },
   "source": [
    "<img src=\"figures/3/lfg_concept_details.svg\" style=\"max-height:40vh\">"
   ]
  },
  {
   "cell_type": "markdown",
   "id": "53f0d5f0",
   "metadata": {},
   "source": [
    "#### Parameters of a light field display"
   ]
  },
  {
   "cell_type": "markdown",
   "id": "63b87add",
   "metadata": {},
   "source": [
    "Important parameters of a light field display:\n",
    "* Spatial resolution, i.e., numbers $M_\\mathrm{ML}, N_\\mathrm{ML}$ of microlenses in horizontal and vertical direction.\n",
    "* Pitches $s_\\mathrm{h}, s_\\mathrm{v}$ of microlenses in horizontal and vertical direction.\n",
    "* Total ranges of possible angles $\\theta_\\mathrm{t}, \\varphi_\\mathrm{t}$ of collimated light beams in horizontal and vertical direction.\n",
    "* Angular resolution, i.e., numbers $A_\\mathrm{h}, A_\\mathrm{v}$ of independent emission angles in horizontal and vertical direction.\n",
    "* Pitches $\\theta_\\Delta, \\varphi_\\Delta$ of emission angles in horizontal and vertical direction."
   ]
  },
  {
   "cell_type": "markdown",
   "id": "997a4c8e",
   "metadata": {
    "slideshow": {
     "slide_type": "fragment"
    }
   },
   "source": [
    "<img src=\"figures/3/lfg_concept_angRes.svg\" style=\"max-height:40vh\">"
   ]
  },
  {
   "cell_type": "markdown",
   "id": "f243aa5a",
   "metadata": {},
   "source": [
    "TODO: Extend graphic with distance between pixels etc."
   ]
  },
  {
   "cell_type": "markdown",
   "id": "b203d3d8",
   "metadata": {},
   "source": [
    "Calculation of $\\theta_\\mathrm{t}, \\varphi_\\mathrm{t}$:\n",
    "$$\\begin{align}\n",
    " \\tan\\left( \\frac{\\varphi_\\mathrm{t}}{2} \\right) &= \\frac{d_\\mathrm{ML}}{2} \\cdot \\frac{1}{f_\\mathrm{ML}} \\Leftrightarrow \\\\ \\varphi_\\mathrm{t} &= 2\\cdot \\tan^{-1}\\left( \\frac{d_\\mathrm{ML}}{2} \\cdot \\frac{1}{f_\\mathrm{ML}} \\right) \\,.\n",
    "\\end{align}\n",
    "$$"
   ]
  },
  {
   "cell_type": "markdown",
   "id": "f02238b2",
   "metadata": {},
   "source": [
    "Calculation of $A_\\mathrm{h}, A_\\mathrm{v}$:\n",
    "$$\\begin{align}\n",
    " A_\\mathrm{h}=\\frac{d_\\mathrm{ML}}{e_\\mathrm{h}},\\quad A_\\mathrm{v}=\\frac{d_\\mathrm{ML}}{e_\\mathrm{v}}\\,\n",
    "\\end{align}\n",
    "$$with $e_\\mathrm{h}, e_\\mathrm{v}$ denoting the horizontal and vertical sizes of the pixel elements of the display."
   ]
  },
  {
   "cell_type": "markdown",
   "id": "fd87bc4b",
   "metadata": {},
   "source": [
    "The angular pitches $\\theta_\\Delta, \\varphi_\\Delta$ can be estimated via\n",
    "$$\\begin{align}\n",
    "    \\theta_\\Delta \\approx \\frac{\\theta_\\mathrm{t}}{A_\\mathrm{h}},\\quad \\varphi_\\Delta \\approx \\frac{\\varphi_\\mathrm{t}}{A_\\mathrm{v}} \\,.\n",
    "\\end{align}\n",
    "$$"
   ]
  },
  {
   "cell_type": "markdown",
   "id": "dfca4733",
   "metadata": {
    "slideshow": {
     "slide_type": "notes"
    }
   },
   "source": [
    "The two recent formulas are only approximations due to the non-linear nature of the tangent function. Indeed, for the dimensions involved in the case of a practical light field display, the errors introduced by these approximations can be neglected."
   ]
  },
  {
   "cell_type": "markdown",
   "id": "1cf214ac",
   "metadata": {},
   "source": [
    "#### Calibration of a light field display"
   ]
  },
  {
   "cell_type": "markdown",
   "id": "7b7c734e",
   "metadata": {},
   "source": [
    "Goal: emit user-defined $L(x,y,\\theta,\\varphi)$."
   ]
  },
  {
   "cell_type": "markdown",
   "id": "2ce39632",
   "metadata": {},
   "source": [
    "Question: which pixels of the employed display have to be turned on to emit a light field that matches $L$ as well as possible?"
   ]
  },
  {
   "cell_type": "markdown",
   "id": "f3305994",
   "metadata": {},
   "source": [
    "$\\Rightarrow\\,$ Calibration needed to obtain a function\n",
    "$$\\begin{align}\n",
    "    f_\\mathrm{LF}:(x,y,\\theta,\\varphi)\\mapsto \\mathbf{u}\\,,\n",
    "\\end{align}\n",
    "$$"
   ]
  },
  {
   "cell_type": "markdown",
   "id": "6614d4e2",
   "metadata": {},
   "source": [
    "mapping a requested ray $(x,y,\\theta,\\varphi)$ with $L(x,y,\\theta,\\varphi)>0$ to a display pixel $\\mathbf{u}=(u,v)^\\intercal,\\, u\\in\\left[ 1,\\ldots, U\\right],\\,v\\in\\left[1,\\ldots,V \\right]$ which emits a collimated light bundle providing the best approximation of this ray."
   ]
  },
  {
   "cell_type": "markdown",
   "id": "dd09253b",
   "metadata": {},
   "source": [
    "Calibration: Determine central pixel $\\tilde{\\mathbf{u}}_{(x,y)}$ for every spatial position $(x,y)$ of the light field display, i.e., the coordinate of the display pixel corresponding to a collimated light bundle with respect to the microlens covering position $(x,y)$."
   ]
  },
  {
   "cell_type": "markdown",
   "id": "d761609c",
   "metadata": {
    "slideshow": {
     "slide_type": "notes"
    }
   },
   "source": [
    "Maybe: Add illustration of central pixel."
   ]
  },
  {
   "cell_type": "markdown",
   "id": "b9e46877",
   "metadata": {},
   "source": [
    "To emit a requested ray bundle $(x,y,\\theta,\\varphi)$, \n",
    "1. determine the central pixel $\\tilde{\\mathbf{u}}_{(x,y)}$ corresponding to the microlens covering $(x,y)$,\n",
    "2. translate emission angle $(\\theta,\\varphi)$ into pixel offset $\\Delta\\mathbf{u}_{(\\theta,\\varphi)}$ w.r.t. $\\tilde{\\mathbf{u}}_{(x,y)}$ by calculating the corresponding spatial displacement on the plane of the display via $\\tan(\\alpha) = \\frac{\\delta_\\alpha}{f_{\\mathrm{ML}}}$."
   ]
  },
  {
   "cell_type": "markdown",
   "id": "c7831535",
   "metadata": {},
   "source": [
    "By this means, $f_\\mathrm{LF}$ can be evaluated:$$\\begin{align}\n",
    "f_\\mathrm{LF}(x,y,\\theta,\\varphi)=\\tilde{\\mathbf{u}}_{(x,y)} + \\Delta \\mathbf{u}_{(\\theta,\\varphi)}\\,.\n",
    "\\end{align}$$"
   ]
  },
  {
   "cell_type": "markdown",
   "id": "b74d3ba1",
   "metadata": {},
   "source": [
    "#### Determination of central pixels"
   ]
  },
  {
   "cell_type": "markdown",
   "id": "1e01961d",
   "metadata": {},
   "source": [
    "Calibration setup consisting of \n",
    "* the light field display,\n",
    "* industrial monochrome camera with a telecentric lens \n",
    "    * which is focused at the light field display and \n",
    "    * whose optical axis is arranged as parallel as possible to the optical axes of the light field display's microlenses,\n",
    "* calibration algorithms."
   ]
  },
  {
   "cell_type": "markdown",
   "id": "e2cbc1cc",
   "metadata": {},
   "source": [
    "$\\Rightarrow$ Because of the telecentric lens, the camera captures only those light bundles emitted by the light field display that \n",
    "* propagate parallel to the optical axis and \n",
    "* which therefore have to be emitted by central pixels."
   ]
  },
  {
   "cell_type": "markdown",
   "id": "f46953d0",
   "metadata": {},
   "source": [
    "Display two illumination series, encoding the horizontal $u$-coordinate, respectively, the vertical $v$-coordinate."
   ]
  },
  {
   "cell_type": "markdown",
   "id": "90bcb287",
   "metadata": {},
   "source": [
    "##### Algorithm to determine central pixels"
   ]
  },
  {
   "cell_type": "markdown",
   "id": "0784cc9a",
   "metadata": {},
   "source": [
    "$\\mathbf{Function}\\, \\mathrm{acquireCentralPixels}(\\mathtt{camera}, \\mathtt{LFGenerator})$<br><br>\n",
    "$\\quad g_0(\\mathbf{m}) \\leftarrow \\mathtt{camera}.$acquireImage()<br>\n",
    "$\\quad \\mathcal{L} \\leftarrow \\emptyset$<br>\n",
    "$\\quad g_\\mathrm{hor}(\\mathbf{m}) \\leftarrow \\mathtt{emptyImage}(M,N)$<br>\n",
    "$\\quad g_\\mathrm{ver}(\\mathbf{m}) \\leftarrow \\mathtt{emptyImage}(M,N)$<br><br>\n",
    "$\\quad \\mathbf{for}\\, i \\in \\left[1,\\ldots,\\lceil \\mathrm{log}_2(U) \\rceil \\right]:$<br>\n",
    "$\\qquad \\mathcal{U} \\leftarrow \\lbrace u\\in \\left[1,\\ldots,U\\right] : \\mathrm{bin}(u)_i = 1 \\rbrace$<br>\n",
    "$\\qquad \\mathcal{V} \\leftarrow \\left[ 1,\\ldots,V \\right]$<br>\n",
    "$\\qquad \\mathtt{LFGenerator}$.turnOnPixels($\\mathcal{U}\\times \\mathcal{V}$)<br>\n",
    "$\\qquad g(\\mathbf{m}) \\leftarrow \\mathtt{camera}.$acquireImage() $-\\ g_0(\\mathbf{m})$<br>\n",
    "$\\qquad \\mathrm{bin}(g_\\mathrm{hor}(\\mathbf{m}))_i = \\begin{cases} 1 &\\mathrm{if}\\ g(\\mathbf{m}) > t, \\\\ 0 & \\mathrm{otherwise}\\end{cases}$<br><br>\n",
    "$\\quad \\mathbf{for} \\, i \\in \\left[1,\\ldots,\\lceil \\mathrm{log}_2(V) \\rceil \\right]$<br>\n",
    "$\\qquad \\mathcal{U} \\leftarrow \\left[ 1,\\ldots,U \\right]$<br>\n",
    "$\\qquad \\mathcal{V} \\leftarrow \\lbrace v\\in \\left[1,\\ldots,V\\right] : \\mathrm{bin}(v)_i = 1 \\rbrace$<br>\n",
    "$\\qquad \\mathtt{LFGenerator}$.turnOnPixels($\\mathcal{U}\\times \\mathcal{V}$)<br>\n",
    "$\\qquad g(\\mathbf{m}) \\leftarrow \\mathtt{camera}.$acquireImage() $-\\ g_0(\\mathbf{m})$<br>\n",
    "$\\qquad \\mathrm{bin}(g_\\mathrm{ver}(\\mathbf{m}))_i = \\begin{cases} 1 &\\mathrm{if}\\ g(\\mathbf{m}) > t, \\\\ 0 & \\mathrm{otherwise}\\end{cases}$<br><br>\n",
    "$\\quad \\mathcal{L} = \\lbrace \\left(g_\\mathrm{hor}(\\mathbf{m}), g_\\mathrm{ver}(\\mathbf{m})\\right)^\\intercal, \\mathbf{m}\\in \\left[1,\\ldots,M\\right] \\times \\left[1,\\ldots,N\\right] \\rbrace$<br><br>\n",
    "$\\quad \\textbf{return}\\,  \\mathcal{L}$"
   ]
  },
  {
   "cell_type": "markdown",
   "id": "47f44756",
   "metadata": {
    "slideshow": {
     "slide_type": "notes"
    }
   },
   "source": [
    "TODO: Maybe add Christian's more elaborated methods as well."
   ]
  },
  {
   "cell_type": "markdown",
   "id": "c2c88c49",
   "metadata": {},
   "source": [
    "#### Light field display prototypes"
   ]
  },
  {
   "cell_type": "markdown",
   "id": "579da0fb",
   "metadata": {},
   "source": [
    "##### Prototype 1"
   ]
  },
  {
   "cell_type": "markdown",
   "id": "5764b016",
   "metadata": {},
   "source": [
    "* Based on Sony Xperia Z5 Premium smartphone.\n",
    "* Spatial resolution of $2160 \\times 3840$ pixels.\n",
    "* Array of $100 \\times 100$ microlenses with $f_\\mathrm{ML}=3000\\,µ\\mathrm{m}$ and $d_\\mathrm{ML}=645\\,µ\\mathrm{m}$ by Fraunhofer-IOF."
   ]
  },
  {
   "cell_type": "markdown",
   "id": "13de3fa9",
   "metadata": {},
   "source": [
    "* Spatial resolution of $100 \\times 100$ with pitches $s_\\mathrm{h}=s_\\mathrm{v}=650\\,\\mathrm{µm}$,\n",
    "* total ranges of possible angles $\\theta_\\mathrm{t}=\\varphi_\\mathrm{t}\\approx 12.27^\\circ$,\n",
    "* angular resolution of $A_\\mathrm{h}=A_\\mathrm{v}=10$ with pitches $\\theta_\\Delta=\\varphi_\\Delta\\approx 1.23^\\circ$, since approximately $10\\times 10$ display pixels fit under one microlens."
   ]
  },
  {
   "cell_type": "markdown",
   "id": "d8407d1d",
   "metadata": {
    "slideshow": {
     "slide_type": "fragment"
    }
   },
   "source": [
    "<img src=\"figures/3/lfgPhoto.svg\" style=\"max-height:40vh\">"
   ]
  },
  {
   "cell_type": "markdown",
   "id": "5a2d8aa8",
   "metadata": {},
   "source": [
    "##### Experiments"
   ]
  },
  {
   "cell_type": "markdown",
   "id": "e0f99ad3",
   "metadata": {},
   "source": [
    "Camera images of light field display for different requested light fields and observation directions."
   ]
  },
  {
   "cell_type": "markdown",
   "id": "bef2b461",
   "metadata": {
    "slideshow": {
     "slide_type": "fragment"
    }
   },
   "source": [
    "<img src=\"figures/3/lfgCalibResults.svg\" style=\"max-height:40vh\">"
   ]
  },
  {
   "cell_type": "markdown",
   "id": "7be6219b",
   "metadata": {},
   "source": [
    "Question: How can one explain the bottom right image?"
   ]
  },
  {
   "cell_type": "markdown",
   "id": "a8ff5ad8",
   "metadata": {},
   "source": [
    "#### Telecentric light field illumination"
   ]
  },
  {
   "cell_type": "markdown",
   "id": "41ed28e6",
   "metadata": {},
   "source": [
    "A special case of light field display: only one lens (no array) and many display pixels."
   ]
  },
  {
   "cell_type": "markdown",
   "id": "11a780eb",
   "metadata": {
    "slideshow": {
     "slide_type": "fragment"
    }
   },
   "source": [
    "<img src=\"figures/3/telecentricLFIllumination.svg\" style=\"max-height:40vh\">"
   ]
  },
  {
   "cell_type": "markdown",
   "id": "43635da3",
   "metadata": {},
   "source": [
    "$\\Rightarrow$ no spatial resolution, maximum angular resolution."
   ]
  },
  {
   "cell_type": "markdown",
   "id": "5ce22bec",
   "metadata": {},
   "source": [
    "For illumination purposes, large fresnel lenses can be employed, resulting in a big illuminated volume."
   ]
  },
  {
   "cell_type": "markdown",
   "id": "ebb10da7",
   "metadata": {},
   "source": [
    "## Light field acquisition for industrial applications"
   ]
  },
  {
   "cell_type": "markdown",
   "id": "2aa25ec5",
   "metadata": {},
   "source": [
    "For industrial applications, the possibilities of refocusing or extended depths of field shown before might also be of interest, however, even more information about the observed scene can be acquired, e.g., that can be exploited for visual inspection tasks."
   ]
  },
  {
   "cell_type": "markdown",
   "id": "69e9c73f",
   "metadata": {},
   "source": [
    "### Light deflection maps"
   ]
  },
  {
   "cell_type": "markdown",
   "id": "466f49f7",
   "metadata": {},
   "source": [
    "Light fields employed for the visual inspection of transparent objects are called **light deflection maps**. They are acquired via illuminating the test object from one side with collimated light and acquiring the light field exiting the test object on the other side."
   ]
  },
  {
   "cell_type": "code",
   "execution_count": null,
   "id": "ad8f9b4b",
   "metadata": {
    "scrolled": false,
    "slideshow": {
     "slide_type": "-"
    }
   },
   "outputs": [],
   "source": [
    "interact(lambda i: showFig('figures/3/deflectionMapAcquisition_',i,'.svg',800,500), i=widgets.IntSlider(min=0,max=4, step=1, value=0))"
   ]
  },
  {
   "cell_type": "markdown",
   "id": "ef3c0dee",
   "metadata": {},
   "source": [
    "* Refraction at defect-free positions of the test object $\\Rightarrow$ concentrated, shifted peak in the corresponding deflection map.\n",
    "* Scattering material defect $\\Rightarrow$ light is scattered into multiple directions $\\Rightarrow$ deflection map with broad intensity distribution without distinct peak."
   ]
  },
  {
   "cell_type": "markdown",
   "id": "4fb07f48",
   "metadata": {},
   "source": [
    "Example deflection maps for a cylindrical lens:"
   ]
  },
  {
   "cell_type": "code",
   "execution_count": null,
   "id": "62d48611",
   "metadata": {
    "scrolled": false,
    "slideshow": {
     "slide_type": "-"
    }
   },
   "outputs": [],
   "source": [
    "interact(lambda i: showFig('figures/3/exampleDeflMap_',i,'.svg',800,500), i=widgets.IntSlider(min=1,max=3, step=1, value=0))"
   ]
  },
  {
   "cell_type": "markdown",
   "id": "80b6ed01",
   "metadata": {},
   "source": [
    "Similar to a digital light field $L$, a deflection map is defined as the four-dimensional structure\n",
    "$$\\begin{align}\n",
    "    a(\\mathbf{m},\\mathbf{j}),\\,\\mathbf{m}=(m,n)^\\intercal,\\,\\mathbf{j}=(j,k)^\\intercal,\n",
    "\\end{align}\n",
    "$$\n",
    "    \n",
    "$$\\begin{align}\n",
    "    (m,n) \\in \\Omega_\\mathrm{s} &= \\lbrace 1,2,\\ldots, M \\rbrace \\times \\lbrace 1,2,\\ldots,N\\rbrace \\subset \\mathbb{Z}^2\\\\\n",
    "    (j,k) \\in \\Omega_\\mathrm{a} &= \\lbrace 1,2,\\ldots, J \\rbrace \\times \\lbrace 1,2,\\ldots,K\\rbrace \\subset \\mathbb{Z}^2\\,,\\\\\n",
    "\\end{align}\n",
    "$$\n",
    "composed of two discrete spatial coordinates $(m,n)^\\intercal$ and two discrete angular coordinates $(j,k)^\\intercal$ with a spatial domain $\\Omega_\\mathrm{s}$ and an angular domain $\\Omega_\\mathrm{a}$."
   ]
  },
  {
   "cell_type": "markdown",
   "id": "e7ffcadb",
   "metadata": {},
   "source": [
    "### Light field camera for industrial applications"
   ]
  },
  {
   "cell_type": "markdown",
   "id": "3319911e",
   "metadata": {},
   "source": [
    "##### Problems with conventional light field cameras"
   ]
  },
  {
   "cell_type": "markdown",
   "id": "68dccaf5",
   "metadata": {},
   "source": [
    "Non-uniform correspondence between captured deflection direction and relative pixel positions $(j,k)^\\intercal$ under a microlens."
   ]
  },
  {
   "cell_type": "markdown",
   "id": "0bfb8a12",
   "metadata": {
    "slideshow": {
     "slide_type": "fragment"
    }
   },
   "source": [
    "<img src=\"figures/3/lfCameraNoDeflectionMeasurement.svg\" style=\"max-height:40vh\">"
   ]
  },
  {
   "cell_type": "markdown",
   "id": "9249b949",
   "metadata": {},
   "source": [
    "Two collimated light rays are deflected upwards by $\\alpha$ at different points $\\mathbf{p}^\\mathrm{c}, \\mathbf{p}'^\\mathrm{c}$. Although they are deflected by the same angle, they hit the sensor with different displacements $\\delta_\\alpha \\neq \\delta'_\\alpha$ with respect to the projected center of the corresponding microlenses."
   ]
  },
  {
   "cell_type": "markdown",
   "id": "6d4e680e",
   "metadata": {},
   "source": [
    "$\\Rightarrow$ This problem can be mitigated by employing a $4f$-light field camera."
   ]
  },
  {
   "cell_type": "markdown",
   "id": "59dbd81d",
   "metadata": {},
   "source": [
    "#### $4f$-light field camera"
   ]
  },
  {
   "cell_type": "markdown",
   "id": "e379a28a",
   "metadata": {},
   "source": [
    "Extend the optical setup by adding a second lens."
   ]
  },
  {
   "cell_type": "markdown",
   "id": "fcd33792",
   "metadata": {
    "slideshow": {
     "slide_type": "fragment"
    }
   },
   "source": [
    "<img src=\"figures/3/4f_lfCamera.svg\" style=\"max-height:40vh\">"
   ]
  },
  {
   "cell_type": "markdown",
   "id": "f1922a18",
   "metadata": {},
   "source": [
    "Both lenses share a common focal plane and the plane of focus has a distance of $2\\cdot f_\\mathrm{L1} + 2\\cdot f_\\mathrm{L2}$ from the microlens array which is why the setup is called a $4f$-light field camera."
   ]
  },
  {
   "cell_type": "markdown",
   "id": "1807a164",
   "metadata": {},
   "source": [
    "In this setup, all collimated rays deflected by the same angle $\\alpha$ are mapped to the same relative sensor position regardless of lateral position of the deflection event in the measurement field."
   ]
  },
  {
   "cell_type": "markdown",
   "id": "e6e7ae65",
   "metadata": {},
   "source": [
    "### Schlieren deflectometer"
   ]
  },
  {
   "cell_type": "markdown",
   "id": "1c19b49b",
   "metadata": {},
   "source": [
    "Illuminate the test object with several collimated light bundles tilted by different angles with respect to the optical axis in a time-sequential manner. Observe the light rays defleclected by the object with a telecentric camera."
   ]
  },
  {
   "cell_type": "markdown",
   "id": "8b9155c8",
   "metadata": {
    "slideshow": {
     "slide_type": "fragment"
    }
   },
   "source": [
    "<img src=\"figures/3/SchlierenDeflectometer.svg\" style=\"max-height:40vh\">"
   ]
  },
  {
   "cell_type": "markdown",
   "id": "c0cecd8a",
   "metadata": {},
   "source": [
    "The illumination is realized by placing a two-dimensional programmable light source in the focal plane of a collimating lens."
   ]
  },
  {
   "cell_type": "markdown",
   "id": "e25e9125",
   "metadata": {},
   "source": [
    "Turning on a pixel of the programmalbe light source with distance $\\delta_\\alpha$ to the optical axis leads to a collimated light bundle tilted by $\\alpha = \\mathrm{tan}^{-1} \\left( \\frac{\\delta_\\alpha}{f_\\mathrm{L}} \\right)$ with respect to the optical axis."
   ]
  },
  {
   "cell_type": "markdown",
   "id": "a65ef8ec",
   "metadata": {},
   "source": [
    "Rays getting deflected in the measurement field so that they propagate parallel to the optical axis will pass the telecentric stop of the telecentric camera and contribute to the acquired image."
   ]
  },
  {
   "cell_type": "markdown",
   "id": "ef5e56be",
   "metadata": {},
   "source": [
    "Capturing an image for a single active pixel of the light source corresponds to capturing a two-dimensional $(j,k)$-slice of the deflection map $a(m,n,j,k)$ with $(j,k)$ corresponding to the position of the active pixel (i.e., to the tilt angle of the collimated light beam)."
   ]
  },
  {
   "cell_type": "markdown",
   "id": "5597a81e",
   "metadata": {},
   "source": [
    "Example deflection maps of a double-convex lens acquired with a schlieren deflectometer:"
   ]
  },
  {
   "cell_type": "markdown",
   "id": "91557c96",
   "metadata": {
    "slideshow": {
     "slide_type": "fragment"
    }
   },
   "source": [
    "<img src=\"figures/3/exampleImageSchlierenDeflectometer.svg\" style=\"max-height:40vh\">"
   ]
  },
  {
   "cell_type": "markdown",
   "id": "86ae01d5",
   "metadata": {},
   "source": [
    "### Laser deflection scanner"
   ]
  },
  {
   "cell_type": "code",
   "execution_count": null,
   "id": "e434f032",
   "metadata": {
    "scrolled": false,
    "slideshow": {
     "slide_type": "-"
    }
   },
   "outputs": [],
   "source": [
    "interact(lambda i: showFig('figures/3/LightfieldLaserScannerWithObject_',i,'.svg',800,500), i=widgets.IntSlider(min=1,max=3, step=1, value=0))"
   ]
  },
  {
   "cell_type": "markdown",
   "id": "42c20c14",
   "metadata": {},
   "source": [
    "The laser deflection scanner consists of two components:"
   ]
  },
  {
   "cell_type": "markdown",
   "id": "3f947cbd",
   "metadata": {},
   "source": [
    "* Emitter: Illuminates the measurement field with parallel laser beams in a time-sequential manner."
   ]
  },
  {
   "cell_type": "markdown",
   "id": "b77544fe",
   "metadata": {},
   "source": [
    "* Receiver: Two-dimensional detector array positioned in focal plane of lens or parabolic mirror, transforming angular information into spatial information."
   ]
  },
  {
   "cell_type": "markdown",
   "id": "af522745",
   "metadata": {},
   "source": [
    "Laser beams deflected by an angle $\\alpha$ in the measurement field hit the detector at a distance of $\\delta_\\alpha=f_\\mathrm{L}\\cdot \\tan(\\alpha)$ from the optical axis."
   ]
  },
  {
   "cell_type": "markdown",
   "id": "5b2ff6a6",
   "metadata": {},
   "source": [
    "In every acquisition step, a single point on the object is illuminated by the laser beam and the deflections of the light rays transmitted through the object are measured."
   ]
  },
  {
   "cell_type": "markdown",
   "id": "b4f8f4be",
   "metadata": {},
   "source": [
    "Example deflection maps of a washing machine door glass acquired with a laser deflection scanner:"
   ]
  },
  {
   "cell_type": "markdown",
   "id": "368edc71",
   "metadata": {
    "slideshow": {
     "slide_type": "fragment"
    }
   },
   "source": [
    "<img src=\"figures/3/exampleImageLaserDeflectionScanner.svg\" style=\"max-height:40vh\">"
   ]
  },
  {
   "cell_type": "markdown",
   "id": "aead01ea",
   "metadata": {},
   "source": [
    "## Light field processing for industrial applications"
   ]
  },
  {
   "cell_type": "markdown",
   "id": "4c668ada",
   "metadata": {},
   "source": [
    "### Deflection map processing for transparent object inspection"
   ]
  },
  {
   "cell_type": "markdown",
   "id": "b5a74a62",
   "metadata": {},
   "source": [
    "Recall: Deflection maps of spatially adjacent measurement points\n",
    "* are only slightly shifted for defect-free object positions,\n",
    "* show strong discontinuities for material defects."
   ]
  },
  {
   "cell_type": "markdown",
   "id": "69880404",
   "metadata": {
    "slideshow": {
     "slide_type": "fragment"
    }
   },
   "source": [
    "<img src=\"figures/3/deflectionMapAcquisition_4.svg\" style=\"max-height:40vh\">"
   ]
  },
  {
   "cell_type": "markdown",
   "id": "a651a47a",
   "metadata": {},
   "source": [
    "$\\Rightarrow$ Approch: Calculate gradient of deflection maps with respect to the spatial coordinates."
   ]
  },
  {
   "cell_type": "markdown",
   "id": "1e7ca145",
   "metadata": {},
   "source": [
    "Classical gradient formulation for gray value images $g(\\mathbf{x}), \\mathbf{x}=(x,y)^\\intercal$:\n",
    "$$\n",
    "    \\mathrm{grad}\\, g(\\mathbf{x}) = \\begin{pmatrix} \n",
    "        \\frac{\\partial g(\\mathbf{x})}{\\partial y} \\\\\n",
    "        \\frac{\\partial g(\\mathbf{x})}{\\partial x} \n",
    "    \\end{pmatrix}\\,.\n",
    "$$"
   ]
  },
  {
   "cell_type": "markdown",
   "id": "4651f313",
   "metadata": {},
   "source": [
    "The gradient can be approximated by means of the so-called **symmetric difference quotient**:\n",
    "$$\n",
    "    \\mathrm{grad}\\, g(\\mathbf{x}) \\approx \\begin{pmatrix} \n",
    "        \\frac{g(x+1, y) - g(x-1,y)}{2} \\\\\n",
    "        \\frac{g(x,y+1) - g(x,y-1)}{2} \n",
    "    \\end{pmatrix}\\,.\n",
    "$$"
   ]
  },
  {
   "cell_type": "markdown",
   "id": "c860ba5b",
   "metadata": {},
   "source": [
    "Problem: This can not be directly applied for deflection maps since they are no scalar gray values but two-dimensional structures."
   ]
  },
  {
   "cell_type": "markdown",
   "id": "7b8685d6",
   "metadata": {},
   "source": [
    "$\\Rightarrow$ Generalize the gradient approximation:\n",
    "$$\n",
    "    \\mathrm{grad}\\, f(\\mathbf{x}) \\approx \\frac{1}{2} \\begin{pmatrix} \n",
    "        d \\lbrace f(x+1, y), f(x-1,y)\\rbrace \\\\\n",
    "        d \\lbrace f(x, y+1), f(x,y-1)\\rbrace  \n",
    "    \\end{pmatrix}\\,,\n",
    "$$\n",
    "with $d\\lbrace \\cdot, \\cdot \\rbrace$ representing a suitable distance function and $f(\\mathbf{x})$ an arbitrary function. "
   ]
  },
  {
   "cell_type": "markdown",
   "id": "99234b37",
   "metadata": {},
   "source": [
    "For the application to a deflection map $a(\\mathbf{m}, \\mathbf{j})$, this turns to\n",
    "$$\n",
    "    \\mathrm{grad}_\\mathbf{m}\\, a(\\mathbf{m},\\cdot) \\approx \\begin{pmatrix} \n",
    "        d \\lbrace a( ( m+1,n)^\\intercal, \\cdot ), a((m-1,n)^\\intercal,\\cdot) \\rbrace \\\\\n",
    "        d \\lbrace a( ( m,n+1)^\\intercal, \\cdot ), a((m,n-1)^\\intercal,\\cdot) \\rbrace  \n",
    "    \\end{pmatrix}\\,.\n",
    "$$"
   ]
  },
  {
   "cell_type": "markdown",
   "id": "357799f0",
   "metadata": {},
   "source": [
    "Here, the distance function $d\\lbrace \\cdot, \\cdot \\rbrace$ hast to process two two-dimensional intensity distributions, i.e.,\n",
    "$$\n",
    "    d \\lbrace a(\\mathbf{m}_1,\\cdot), a(\\mathbf{m}_2,\\cdot)\\rbrace : \\left( \\Omega_\\mathrm{a} \\rightarrow \\mathcal{Q} \\right)^2 \\rightarrow \\mathbb{R}\\,,\n",
    "$$\n",
    "with $\\Omega_\\mathrm{a}$ denoting the angular domain and $\\mathcal{Q}$ the quantized intensity values."
   ]
  },
  {
   "cell_type": "markdown",
   "id": "f0cebf7b",
   "metadata": {},
   "source": [
    "The angular components can be interpreted as distributions of deflection angles.\n",
    "\n",
    "$\\Rightarrow$ Distance functions for two-dimensional histograms represent promising choices for $d\\lbrace \\cdot, \\cdot \\rbrace$."
   ]
  },
  {
   "cell_type": "markdown",
   "id": "1c8f2752",
   "metadata": {},
   "source": [
    "After calculation of $d$, further processing can be applied to $\\Vert \\mathrm{grad}_\\mathbf{m} a(\\mathbf{m},\\cdot)\\Vert$, which represents a scalar value (i.e., resembling a gray value image)."
   ]
  },
  {
   "cell_type": "markdown",
   "id": "37f8e498",
   "metadata": {},
   "source": [
    "#### Requirements for suitable distance functions $d\\lbrace \\cdot, \\cdot \\rbrace$"
   ]
  },
  {
   "cell_type": "markdown",
   "id": "7f7127b1",
   "metadata": {},
   "source": [
    "1. **Sensitivity to strong shifts of peaks**\n",
    "\n",
    "2. **Sensitivity to spreadings of peaks**\n",
    "\n",
    "3. **Sensitivity to intensity differences**\n",
    "\n",
    "4. **Robustness against small variations**\n",
    "\n",
    "5. **Low computational complexity**"
   ]
  },
  {
   "cell_type": "markdown",
   "id": "52577df0",
   "metadata": {},
   "source": [
    "Promising choices: *Earth Mover's Distance* and *Generalized Cramér-von Mises Distance*."
   ]
  },
  {
   "cell_type": "markdown",
   "id": "620d89b2",
   "metadata": {},
   "source": [
    "#### EMD ?"
   ]
  },
  {
   "cell_type": "markdown",
   "id": "22af2a1a",
   "metadata": {},
   "source": [
    "#### Generalized Cramér-von Mises Distance"
   ]
  },
  {
   "cell_type": "markdown",
   "id": "1a824381",
   "metadata": {},
   "source": [
    "* It is often necessary to calculate a distance measure between two random vectors, respectively, between their corresponding probability density functions to assess their similarity."
   ]
  },
  {
   "cell_type": "markdown",
   "id": "b57652a5",
   "metadata": {},
   "source": [
    "* Cumulative distributions are only well-defined for one-dimensional random vectors - the angular components of deflection maps are two-dimensional."
   ]
  },
  {
   "cell_type": "markdown",
   "id": "c717cd71",
   "metadata": {},
   "source": [
    "* Use so-called *localized cumulative distributions (LCDs)* to formulate the so-called *Generalized Cramér-von Mises Distance (CMD)* as introduced by Hanebeck et al."
   ]
  },
  {
   "cell_type": "markdown",
   "id": "04e7340b",
   "metadata": {},
   "source": [
    "##### Localized cumulative distributions"
   ]
  },
  {
   "cell_type": "markdown",
   "id": "04ccdc8b",
   "metadata": {},
   "source": [
    "* Let $\\mathbf{\\tilde{x}} \\in \\mathbb{R}^N, N\\in \\mathbb{N}$ be a random vector,\n",
    "* let $f:\\mathbb{R}^N \\rightarrow \\mathbb{R}_+$ denote the corresponding probability density function."
   ]
  },
  {
   "cell_type": "markdown",
   "id": "5818d689",
   "metadata": {},
   "source": [
    "The respective LCD $F(\\mathbf{x},\\mathbf{b})$ is defined as:<br>\n",
    "$$\\begin{align}\n",
    "    F(\\mathbf{x},\\mathbf{b}) := P(\\vert \\mathbf{\\tilde{x}}-\\mathbf{x}\\vert \\leq \\mathbf{b}), \\\\\n",
    "    F(\\cdot,\\cdot):\\Omega \\rightarrow \\left[ 0,1 \\right] \\,, \\\\\n",
    "\t\\Omega \\subset \\mathbb{R}^N \\times \\mathbb{R}^N_+ , \\ \\mathbf{b} \\in \\mathbb{R}^N_+ \\,,\n",
    "\\end{align}$$\n",
    "with $\\mathbf{x} \\leq \\mathbf{y},\\, \\mathbf{x},\\mathbf{y} \\in \\mathbb{R}^N_+$ representing a component-wise relation that holds only if $\\forall j\\in \\left[ 1,\\ldots, N \\right]:x_j \\leq y_j\\, $.\n"
   ]
  },
  {
   "cell_type": "markdown",
   "id": "1f2d8cb9",
   "metadata": {},
   "source": [
    "The LCD $F(\\mathbf{x},\\mathbf{b})$ can be calculated via:\n",
    "$$\\begin{align}\n",
    "    F(\\mathbf{x},\\mathbf{b}) = \n",
    "\t\\begin{cases}\n",
    "\t\t\\int\\limits^{\\mathbf{x}+\\mathbf{b}}_{\\mathbf{x}-\\mathbf{b}} f(\\mathbf{t})\\mathrm{d} \\mathbf{t} &,\\ \\mathrm{if\\ } \\mathbf{\\tilde{x}} \\mathrm{\\  continuous,} \\\\ \n",
    "\t\t\\sum\\limits^{\\min \\lbrace \\mathbf{x}_\\mathrm{max},\\, \\mathbf{x} + \\mathbf{b}  \\rbrace}_{\\mathbf{t}=\\max \\lbrace \\mathbf{0},\\, \\mathbf{x} - \\mathbf{b}  \\rbrace} f(\\mathbf{t}) &,\\ \\mathrm{if\\ } \\mathbf{\\tilde{x}} \\mathrm{\\  discrete,}\n",
    "\t\\end{cases}\n",
    "\\end{align}\n",
    "$$"
   ]
  },
  {
   "cell_type": "markdown",
   "id": "d66d5eff",
   "metadata": {},
   "source": [
    "with $\\mathbf{x}_\\mathrm{max}$ denoting the upper limit of the domain of $\\mathbf{\\tilde{x}}$, $\\max \\lbrace \\mathbf{x} \\rbrace$, $\\min \\lbrace \\mathbf{x} \\rbrace$ denoting element-wise maximum and minimum operators and $\\mathbf{0}=(0,\\ldots,0)^\\intercal$ denoting the zero vector.<br>(Note: since deflection maps represent discrete variables, only the discrete case will be considered from now on)"
   ]
  },
  {
   "cell_type": "markdown",
   "id": "3afd02f1",
   "metadata": {},
   "source": [
    "##### Generalized Cramér-von Mises Distance"
   ]
  },
  {
   "cell_type": "markdown",
   "id": "9a69e4e1",
   "metadata": {},
   "source": [
    "Let $\\stochvec{x}, \\stochvec{y} \\in \\mathbb{R}^N, N\\in \\mathbb{N}$ be two random vectors, let $f(\\mathbf{x}),h(\\mathbf{x})$ be their corresponding probability density functions and let $F(\\mathbf{x},\\mathbf{b}), H(\\mathbf{x},\\mathbf{b})$ denote their LCDs (as defined previously)."
   ]
  },
  {
   "cell_type": "markdown",
   "id": "977fa2c8",
   "metadata": {},
   "source": [
    "For the continuous case, the CMD of $f(\\mathbf{x})$ and $h(\\mathbf{x})$ is given by:\n",
    "$$\\begin{equation}\n",
    "\t\\text{CMD}(f,h) := \\int\\limits_{\\mathbb{R}^N}\\int\\limits_{\\mathbb{R}^N_+} \\left( F(\\mathbf{x},\\mathbf{b}) - H(\\mathbf{x},\\mathbf{b}) \\right)^2 \\mathrm{d} \\mathbf{b} \\mathrm{d} \\mathbf{x} \\,.\n",
    "\\end{equation}$$"
   ]
  },
  {
   "cell_type": "markdown",
   "id": "655cd107",
   "metadata": {},
   "source": [
    "For discrete random vectors, the integrals turn into summations yielding:\n",
    "$$\\begin{equation}\n",
    "\t\\text{CMD}(f,h) = \\sum\\limits_{\\mathbf{x}\\in \\Omega} \\limits \\sum\\limits^{b_\\mathrm{max}}_{b=0} \\left( F(\\mathbf{x},(b,\\ldots,b)\\transp) - H(\\mathbf{x},(b,\\ldots,b)\\transp) \\right)^2 \\,,\n",
    "\\end{equation}$$\n",
    "with $\\Omega$ denoting the domain of the probability density functions and $b_\\mathrm{max}$ representing the absolute maximum component value of $\\Omega$, i.e., the maximum kernel size necessary to capture the whole probability density functions."
   ]
  },
  {
   "cell_type": "markdown",
   "id": "f3ff9f92",
   "metadata": {},
   "source": [
    "Visualization of the calculation of the CMD between two deflection maps $a(\\mathbf{m}_1,\\mathbf{j})$, $a(\\mathbf{m}_2,\\mathbf{j})$ at angular position $\\mathbf{j}=(4,3)\\transp$ for kernel sizes $\\mathbf{b}=(b,b)\\transp,\\, b\\in \\left[0,2 \\right]$."
   ]
  },
  {
   "cell_type": "code",
   "execution_count": null,
   "id": "61e6e5ae",
   "metadata": {
    "scrolled": false,
    "slideshow": {
     "slide_type": "-"
    }
   },
   "outputs": [],
   "source": [
    "interact(lambda i: showFig('figures/3/LCDExample_',i,'.svg',800,500), i=widgets.IntSlider(min=0,max=3, step=1, value=0))"
   ]
  },
  {
   "cell_type": "markdown",
   "id": "641bfba2",
   "metadata": {},
   "source": [
    "##### Complexity of the naive calculation of the Generalized Cramér-von Mises Distance"
   ]
  },
  {
   "cell_type": "markdown",
   "id": "5bda4d35",
   "metadata": {},
   "source": [
    "Here:<br>\n",
    "* Input to CMD are deflection distributions of deflection maps. \n",
    "* The angular domain is $\\vert \\Omega_\\mathrm{a} \\vert=n$ with equal resolutions in horizontal and vertical direction.\n",
    "* $\\Rightarrow$ Maximum kernel size of $b_\\mathrm{max}=\\sqrt{n}$"
   ]
  },
  {
   "cell_type": "markdown",
   "id": "c1aaf5d6",
   "metadata": {},
   "source": [
    "Quadratic kernels, i.e., $\\mathbf{b}=(b,b)\\transp$, <br>$\\Rightarrow\\,$ evaluation of the LCD $F(\\mathbf{x},\\mathbf{b})$ involves $b^2$ summations<br>$\\Rightarrow$ One evaluation of the LCD has a complexity of $\\mathscr{O}(b^2)$."
   ]
  },
  {
   "cell_type": "markdown",
   "id": "ed5e0faa",
   "metadata": {},
   "source": [
    "Each iteration of the inner summation of the CMD involves two LCD evaluations and hence also has a complexity of $\\mathcal{O}(b^2)$."
   ]
  },
  {
   "cell_type": "markdown",
   "id": "f1586aa3",
   "metadata": {},
   "source": [
    "The kernel size $b$ is increased from $b=0$ to $b=b_\\mathrm{max}=\\sqrt{n}$ and hence involves a number of\n",
    "$$\n",
    "    \\mathcal{O}\\left(\\sum\\limits^{\\sqrt{n}}_{b=0} b^2 \\right) = \\mathscr{O}\\left(\\frac{n^{1.5}}{3}+\\frac{n}{2}+\\frac{\\sqrt{n}}{ 6}\\right)=\\mathscr{O}(n^{1.5})\n",
    "$$\n",
    "operations according to Faulhaber's formula and hence the inner summation has a complexity of $\\mathscr{O}(n^{1.5})$."
   ]
  },
  {
   "cell_type": "markdown",
   "id": "f65c16b6",
   "metadata": {},
   "source": [
    "Since these computations are performed $n$ times by the outer summation, the naive calculation of the CMD has a total complexity of $\\mathcal{O}(n^{2.5})$:\n",
    "$$\n",
    "    \\text{CMD}(f,h) = \\underbrace{\\sum\\limits_{\\mathbf{x}\\in \\Omega} \\limits \\underbrace{\\sum\\limits^{b_\\mathrm{max}}_{b=0} \\overbrace{\\left( F(\\mathbf{x},(b,\\ldots,b)\\transp) - H(\\mathbf{x},(b,\\ldots,b)\\transp) \\right)^2}^{\\in \\mathcal{O}(b^2)}}_{\\in \\mathcal{O}(n^{1.5})}}_{\\in \\mathcal{O}(n^{2.5})} \\,.\n",
    "$$"
   ]
  },
  {
   "cell_type": "markdown",
   "id": "532d3ec5",
   "metadata": {},
   "source": [
    "#### Fast Generalized Cramér-von Mises Distance"
   ]
  },
  {
   "cell_type": "markdown",
   "id": "a801acdc",
   "metadata": {},
   "source": [
    "The computation of the discrete CMD can be accelerated by adequately employing so-called summed area tables (SATs)."
   ]
  },
  {
   "cell_type": "markdown",
   "id": "b0ca240b",
   "metadata": {},
   "source": [
    "###### Summed area tables"
   ]
  },
  {
   "cell_type": "markdown",
   "id": "673832cb",
   "metadata": {},
   "source": [
    "A SAT, also known as an integral image in the domain of image processing, \n",
    "* is a data structure that is precomputed for a two-dimensional input array and \n",
    "* allows to obtain the sum of the array entries inside any arbitrary rectangular region in constant time (i.e., with a complexity of $\\mathcal{O}(1)$)."
   ]
  },
  {
   "cell_type": "markdown",
   "id": "4af40473",
   "metadata": {},
   "source": [
    "Let $i(m,n)\\in \\mathbb{R}$, $m \\in \\left[ 1, \\ldots, M \\right],n \\in \\left[ 1, \\ldots, N \\right]$ denote the two-dimensional input array."
   ]
  },
  {
   "cell_type": "markdown",
   "id": "ad87310d",
   "metadata": {},
   "source": [
    "The corresponding SAT~$\\mathfrak{s}$ is then defined as:\n",
    "\\begin{equation}\n",
    "\t\\mathfrak{s}(m,n):=\n",
    "\t\\begin{cases}\n",
    "\t\t0 &\\mathrm{if\\ } \\min \\lbrace m,n \\rbrace \\leq 1\\,, \\\\\n",
    "\t\t\\sum\\limits^{m}_{m_\\mathrm{f}=1}\\sum\\limits^{n}_{n_\\mathrm{f}=1} i(m_\\mathrm{f},n_\\mathrm{f}) &\\mathrm{otherwise.}\n",
    "\t\\end{cases}\n",
    "\\end{equation}"
   ]
  },
  {
   "cell_type": "markdown",
   "id": "ebb25c44",
   "metadata": {},
   "source": [
    "The calculation of the SAT $\\mathfrak{s}$ can be performed in a single sweep over the input array $i$ by means of the following iterative formulation:\n",
    "\\begin{equation}\\label{eq:lfproc:sat:iterative}\n",
    "\t\\mathfrak{s}(m,n) = i(m,n) + \\mathfrak{s}(m-1,n) + \\mathfrak{s}(m,n-1) - \\mathfrak{s}(m-1,n-1)\\,.\n",
    "\\end{equation}"
   ]
  },
  {
   "cell_type": "markdown",
   "id": "db245193",
   "metadata": {},
   "source": [
    "With the help of $\\mathfrak{s}$, the sum of the array entries of $i$ inside a rectangular region given by $m\\in \\left[ m_\\mathrm{f}, m_\\mathrm{t} \\right]$, $n \\in \\left[n_\\mathrm{f},n_\\mathrm{t} \\right]$ can be obtained with only three arithmetic operations performed on $\\mathfrak{s}$:\n",
    "\\begin{align}\\label{eq:lfproc:sat:eval}\n",
    "\t\\sum\\limits^{m_\\mathrm{t}}_{m=m_\\mathrm{f}} \\sum\\limits^{n_\\mathrm{t}}_{n=n_\\mathrm{f}} i(m,n) =\\, &\\mathfrak{s}(m_\\mathrm{t}, n_\\mathrm{t}) - \\mathfrak{s}(m_\\mathrm{f}-1,n_\\mathrm{t}) \\\\\n",
    "\t\\nonumber &- \\mathfrak{s}(m_\\mathrm{t},n_\\mathrm{f}-1) + \\mathfrak{s}(m_\\mathrm{f} - 1, n_\\mathrm{f} - 1)\\,.\n",
    "\\end{align}"
   ]
  },
  {
   "cell_type": "markdown",
   "id": "2b84a1a1",
   "metadata": {
    "slideshow": {
     "slide_type": "fragment"
    }
   },
   "source": [
    "Visualization:\n",
    "<img src=\"figures/3/sat.svg\" style=\"max-height:40vh\">"
   ]
  },
  {
   "cell_type": "markdown",
   "id": "aaab3908",
   "metadata": {},
   "source": [
    "To obtain the sum of the values in the query rectangle, the brown and blue components are subtracted from the red component. The sum of the green region has now been subtracted twice, which is compensated by adding it one time."
   ]
  },
  {
   "cell_type": "markdown",
   "id": "f7eb54ee",
   "metadata": {},
   "source": [
    "Creating the SAT involves seven constant time arithmetic operations and four constant time array accesses for the calculation of each array element of $i$, that is, a total of $M\\cdot N$ times. Hence, constructing $\\mathfrak{s}$ has a computational complexity of $\\mathcal{O}(M\\cdot N)$."
   ]
  },
  {
   "cell_type": "markdown",
   "id": "bb7ade15",
   "metadata": {},
   "source": [
    "Using $\\mathfrak{s}$ for obtaining the sum of entries of $i$ in any arbitrary rectangular region has a complexity of $\\mathcal{O}(1)$."
   ]
  },
  {
   "cell_type": "markdown",
   "id": "744c26cb",
   "metadata": {},
   "source": [
    "##### FastCMD"
   ]
  },
  {
   "cell_type": "markdown",
   "id": "a4f6296c",
   "metadata": {},
   "source": [
    "The main idea of fastCMD lies in accelerating the calculation of the CMD by employing summed area tables for the calculation of the LCDs."
   ]
  },
  {
   "cell_type": "markdown",
   "id": "ecc278f0",
   "metadata": {},
   "source": [
    "$\\mathbf{Function}\\,\\, \\mathrm{fastCMD}(f(\\mathbf{m}), h(\\mathbf{m}))$<br>\n",
    "$\\quad \\mathfrak{f} \\leftarrow$ generateSummedAreaTable$\\left(f(\\mathbf{m})\\right)$<br>\n",
    "$\\quad \\mathfrak{h} \\leftarrow$ generateSummedAreaTable$\\left(h(\\mathbf{m})\\right)$<br>\n",
    "$\\quad \\text{CMD}\\leftarrow0$<br>\n",
    "$\\quad b_\\mathrm{max} = \\max \\lbrace M,N \\rbrace$<br>\n",
    "$\\quad \\mathbf{for}\\,m = 1,\\ldots,M \\,\\mathbf{do} $<br>\n",
    "$\\quad\\quad\t\\mathbf{for}\\,n = 1,\\ldots,N \\,\\mathbf{do} $<br>\n",
    "$\\quad\\quad\\quad\t\\mathbf{for}\\,b = 0,\\ldots,b_\\mathrm{max} \\,\\mathbf{do} $<br>\n",
    "            $\\quad\\quad\\quad\\quad \\text{CMD}\\leftarrow \\text{CMD} + \\big(\\mathrm{fastLCD}\\left(\\mathfrak{f},(m,n)\\transp,(b,b)\\transp\\right)- $<br>\n",
    "            $\\quad \\qquad \\qquad \\qquad \\qquad \\quad\\ \\,  \\, \\ \\mathrm{fastLCD}\\left(\\mathfrak{h},(m,n)\\transp,(b,b)\\transp\\right)$ $\\big)^2$<br>\n",
    "$\\quad\\quad\\quad \\mathbf{end\\,for}$<br>\n",
    "$\\quad\\quad \\mathbf{end\\,for}$<br>\n",
    "$\\quad \\mathbf{end\\,for}$<br>\n",
    "$\\quad \\mathbf{return}\\,\\mathrm{CMD}$"
   ]
  },
  {
   "cell_type": "markdown",
   "id": "2bd358b4",
   "metadata": {},
   "source": [
    "$\\mathbf{Function}\\,\\, \\mathrm{fastLCD}\\big(\\mathfrak{s}, (m,n)\\transp, (b,b)\\transp\\big)$<br>\n",
    "$\\quad m_\\mathrm{f} \\leftarrow \\max\\lbrace 0, m - b  \\rbrace$ <br>\n",
    "$\\quad m_\\mathrm{t} \\leftarrow \\min\\lbrace M, m +  b \\rbrace$<br>\n",
    "$\\quad n_\\mathrm{f}\\,\\, \\leftarrow \\max\\lbrace 0, n -  b  \\rbrace$<br>\n",
    "$\\quad n_\\mathrm{t}\\,\\, \\leftarrow \\min\\lbrace N, n +  b  \\rbrace$<br>\n",
    "$\\quad \\mathbf{return}\\,\\mathfrak{s}(m_ \\mathrm{t}, n_ \\mathrm{t})  - \\mathfrak{s}(m_ \\mathrm{f} - 1, n_ \\mathrm{t}) - \\mathfrak{s}(m_ \\mathrm{t}, n_ \\mathrm{f} - 1) + \\mathfrak{s}(m_ \\mathrm{f}-1, n_ \\mathrm{f} - 1)$ \n"
   ]
  },
  {
   "cell_type": "markdown",
   "id": "b78ec0b8",
   "metadata": {},
   "source": [
    "##### Complexity of the fastCMD-algorithm"
   ]
  },
  {
   "cell_type": "markdown",
   "id": "532bd34c",
   "metadata": {},
   "source": [
    "Again,\n",
    "* consider the appliaction of deflection map processing again, i.e., the discrete two-dimensional deflection distributions are assumed as input probability density functions, \n",
    "* with square-shaped angular domains of $\\vert \\Omega_\\mathrm{a} \\vert=n$ and\n",
    "* resulting kernel size $b_\\mathrm{max} = \\sqrt{n}$."
   ]
  },
  {
   "cell_type": "markdown",
   "id": "15f16caf",
   "metadata": {},
   "source": [
    "* Precomputing the SATs has a complexity of $\\mathcal{O}(n)$ because they can be generated by a single sweep over the probability density functions.\n",
    "* The inner loop of the three nested for-loops iteratively updates the calculated CMD by computing the difference between two evaluations of the $\\mathbf{fastLCD}$-algorithm.\n",
    "* Since one evaluation of $\\mathbf{fastLCD}$ has a constant complexity of $\\mathcal{O}(1)$, the inner loop of $\\mathbf{fastCMD}$ also has a complexity of $\\mathcal{O}(1)$.\n",
    "* Since all three loops run for $\\sqrt{n}$ iterations each, $\\mathbf{fastCMD}$ has a total complexity of $\\mathcal{O}(1\\cdot \\left(\\sqrt{n}\\right)^3)=\\mathcal{O}(n^{1.5})$."
   ]
  },
  {
   "cell_type": "markdown",
   "id": "bcba0216",
   "metadata": {},
   "source": [
    "##### Discussion of the Generalized Cramér-von Mises Distance"
   ]
  },
  {
   "cell_type": "markdown",
   "id": "67ec6916",
   "metadata": {},
   "source": [
    "1. **Sensitivity to strong shifts of peaks** Criterion met: <br>\n",
    "    * for two deflection distributions with distinct peaks, the two LCDs are only equal to each other for larger kernel sizes, i.e., $b$-values. Hence, all smaller kernels will result in non-zero differences between the LCD-evaluations of the two deflection distributions and, consequently, yield a high CMD. \n",
    "    * Since the distance between the two peaks determines the kernel size from which the two LCDs will be equal, the CMD is also proportional to the peak distance."
   ]
  },
  {
   "cell_type": "markdown",
   "id": "7dcf2d22",
   "metadata": {},
   "source": [
    "2. **Sensitivity to spreadings of peaks** Criterion met: \n",
    "    * if a deflection distribution with an intensity peak is adjacent to a deflection distribution with a broad intensity profile, then the resulting CMD will be high. \n",
    "    * This happens because the LCDs for the peak-shaped distribution will have a jump discontinuity from low to high as soon as the integration kernel overlaps with the peak and the LCDs of the second deflection distribution will increase gradually for increasing kernel sizes as the intensity is spread over most of the whole angular domain."
   ]
  },
  {
   "cell_type": "markdown",
   "id": "c504c712",
   "metadata": {},
   "source": [
    "3. **Sensitivity to intensity differences** Criterion met:<br>\n",
    "    * although the CMD has originally been formulated for probability density functions, it does not require its input arguments to be normalized. \n",
    "    * Two deflection distributions that are identical except for a scaling factor (i.e., which have different total intensities) will result in different LCD-values for each kernel size and will, therefore, have a non-zero CMD."
   ]
  },
  {
   "cell_type": "markdown",
   "id": "c6447a0d",
   "metadata": {},
   "source": [
    "4. **Robustness against small variations** Criterion met: <br>\n",
    "    * for two deflection distributions with close peaks, the LCDs will only have different values for few locations and few kernel sizes and, therefore, the resulting CMD will be low."
   ]
  },
  {
   "cell_type": "markdown",
   "id": "b9771449",
   "metadata": {},
   "source": [
    "5. **Low computational complexity** Criterion met:<br>\n",
    "    * as shown before, the CMD can be calculated by means of the $\\mathbf{fastCMD}$-algorithm, which has a complexity of $\\mathcal{O}(n^{1.5})$ for an angular domain of $\\vert \\Omega_\\mathrm{a} \\vert = n$."
   ]
  },
  {
   "cell_type": "markdown",
   "id": "9a38584c",
   "metadata": {},
   "source": [
    "#### Experiments"
   ]
  },
  {
   "cell_type": "markdown",
   "id": "6080a676",
   "metadata": {},
   "source": [
    "* In the following experiments, most of the described approaches for capturing deflection maps have been employed to acquire deflection maps of different test objects. \n",
    "* For the acquired deflection maps, gradients have been calculated using the Generalized Cramér-von Mises Distance.\n",
    "* The resulting images show the gradient's norm $\\Vert \\mathrm{grad}_\\mathbf{m}\\, a(\\mathbf{m},\\cdot) \\Vert$ in pseudo colors.\n",
    "* All experiments include a comparison to a conventional inspection system with a bright field illumination setup."
   ]
  },
  {
   "cell_type": "markdown",
   "id": "6b0940c8",
   "metadata": {},
   "source": [
    "##### Peak contrast-to-noise ratio"
   ]
  },
  {
   "cell_type": "markdown",
   "id": "3d59728f",
   "metadata": {},
   "source": [
    "* To allow a quantitative evaluation, the peak contrast-to-noise ration CNR is determined based on the resulting inspection images.\n",
    "* The CNR is calculated for every considered defect of interest:\n",
    "$$\n",
    "    \\mathrm{CNR}=\\frac{\\vert \\tilde{s}-\\tilde{\\mu}\\vert}{\\tilde{\\sigma}}\\,,\n",
    "$$\n",
    "    with $\\tilde{s}$ denoting the maximum image value of the image region covered by the defect, $\\hat{\\mu}$ denoting the mean value and $\\hat{\\sigma}$ the standard deviation estimated for a defect-free image region near the defect."
   ]
  },
  {
   "cell_type": "markdown",
   "id": "4aee1608",
   "metadata": {},
   "source": [
    "##### Evtl. Tchebychev inequality?"
   ]
  },
  {
   "cell_type": "markdown",
   "id": "2e689e89",
   "metadata": {},
   "source": [
    "##### Glass gob imaged by schlieren deflectometer"
   ]
  },
  {
   "cell_type": "markdown",
   "id": "27035035",
   "metadata": {},
   "source": [
    "*Gobs* are cylindrically shaped preforms made out of glass. They represent important intermediate products in the glass industry and are typically processed to create lenses for glasses or other optical elements."
   ]
  },
  {
   "cell_type": "markdown",
   "id": "59b71a1c",
   "metadata": {},
   "source": [
    "A prototype of a schlieren deflectometer with a spatial resolution of $1210 \\times 1210$ and an angular resolution of $9\\times 9$ as been used to acquire deflection maps of the test object. The deflection maps have been processed with the CMD."
   ]
  },
  {
   "cell_type": "markdown",
   "id": "fd6738b1",
   "metadata": {
    "slideshow": {
     "slide_type": "fragment"
    }
   },
   "source": [
    "The resulting inspection images for a conventional bright field setup and for the calculated CMD (in pseudo colors):\n",
    "<img src=\"figures/3/gobExperiments.svg\" style=\"max-height:40vh\">"
   ]
  },
  {
   "cell_type": "markdown",
   "id": "1340ef43",
   "metadata": {},
   "source": [
    "The CNR values resulting for the three numbered regions:\n",
    "<table>\n",
    "<thead>\n",
    "  <tr>\n",
    "    <th></th>\n",
    "    <th colspan=\"3\">CNR for region</th>\n",
    "  </tr>\n",
    "  <tr>\n",
    "      <th style=\"text-align:left\">Method</th>\n",
    "      <th>1</th>\n",
    "      <th>2</th>\n",
    "      <th>3</th>\n",
    "  </tr>\n",
    "</thead>\n",
    "<tbody>\n",
    "  \n",
    "  <tr>\n",
    "    <td style=\"text-align:left\">Conventional bright field</td>\n",
    "    <td>1.83</td>\n",
    "    <td>1.05</td>\n",
    "    <td>0.46</td>\n",
    "  </tr>\n",
    "  <tr>\n",
    "    <td style=\"text-align:left\">CMD</td>\n",
    "    <td>23.38</td>\n",
    "    <td>15.07</td>\n",
    "    <td>14.28</td>\n",
    "  </tr>\n",
    "</tbody>\n",
    "</table>"
   ]
  },
  {
   "cell_type": "markdown",
   "id": "b844bf0d",
   "metadata": {},
   "source": [
    "-> The light field-based approach in concert with the CMD yields superior results compared to the traditional bright field-based inspection."
   ]
  },
  {
   "cell_type": "markdown",
   "id": "466c1b14",
   "metadata": {},
   "source": [
    "##### Automotive headlamp cover imaged with a laser deflection scanner"
   ]
  },
  {
   "cell_type": "markdown",
   "id": "eec78689",
   "metadata": {},
   "source": [
    "* A prototype of a laser deflection scanner has been employed to acquire deflection maps of an automotive headlamp cover made of transparent plastic.\n",
    "* The spatial resolution of the scanner is defined by the length of its scan line of 1397 pixels.\n",
    "* It supports an angular resolution of $3\\times 3$."
   ]
  },
  {
   "cell_type": "markdown",
   "id": "2f90e0d7",
   "metadata": {},
   "source": [
    "Photographs of two examples of plastic headlamp covers; (a) mounted in front of the headlamps of an automobile (highlighted in blue); (b) the test object used in the experiments:<br>\n",
    "<img src=\"figures/3/kasPhoto.svg\" style=\"max-height:40vh\">"
   ]
  },
  {
   "cell_type": "markdown",
   "id": "39731dc6",
   "metadata": {
    "slideshow": {
     "slide_type": "fragment"
    }
   },
   "source": [
    "The resulting inspection images for a conventional bright field setup and for the calculated CMD (in pseudo colors):\n",
    "<img src=\"figures/3/kasExperiments.svg\" style=\"max-height:40vh\">"
   ]
  },
  {
   "cell_type": "markdown",
   "id": "aa44cff9",
   "metadata": {},
   "source": [
    "The CNR values resulting for the three numbered regions:\n",
    "<table>\n",
    "<thead>\n",
    "  <tr>\n",
    "    <th></th>\n",
    "    <th colspan=\"3\">CNR for region</th>\n",
    "  </tr>\n",
    "  <tr>\n",
    "      <th style=\"text-align:left\">Method</th>\n",
    "      <th>1</th>\n",
    "      <th>2</th>\n",
    "      <th>3</th>\n",
    "  </tr>\n",
    "</thead>\n",
    "<tbody>\n",
    "  \n",
    "  <tr>\n",
    "    <td style=\"text-align:left\">Conventional bright field</td>\n",
    "    <td>4.29</td>\n",
    "    <td>22.86</td>\n",
    "    <td>4.29</td>\n",
    "  </tr>\n",
    "  <tr>\n",
    "    <td style=\"text-align:left\">CMD</td>\n",
    "    <td>23.04</td>\n",
    "    <td>31.11</td>\n",
    "    <td>40.91</td>\n",
    "  </tr>\n",
    "</tbody>\n",
    "</table>"
   ]
  },
  {
   "cell_type": "markdown",
   "id": "348076b8",
   "metadata": {},
   "source": [
    "## Inverse light field illumination for transparent object inspection"
   ]
  },
  {
   "cell_type": "markdown",
   "id": "80c3e6bd",
   "metadata": {},
   "source": [
    "* Main physical effect affecting light transport at and inside transparent materials is refraction.\n",
    "* Transitions between materials with different indices of refraction lead to changes of the light's direction of propagation.\n",
    "* Scattering material defects also affect the light's direction of propagation.\n",
    "* The effect of refraction can be inverted by emitting a specifically adapted light field, i.e., an *inverse light field*."
   ]
  },
  {
   "cell_type": "markdown",
   "id": "7f1a7c97",
   "metadata": {},
   "source": [
    "### Optical setup for inverse light field illumination"
   ]
  },
  {
   "cell_type": "markdown",
   "id": "c9188209",
   "metadata": {},
   "source": [
    "Two steps:\n",
    "1. Offline: Acquisition of a reference light field of a defect-free test object.\n",
    "2. During inspection: Illumination of test objects with the inverted reference light field."
   ]
  },
  {
   "cell_type": "markdown",
   "id": "21d269b3",
   "metadata": {},
   "source": [
    "##### Acquisition of the reference light field"
   ]
  },
  {
   "cell_type": "code",
   "execution_count": 7,
   "id": "04769473",
   "metadata": {
    "scrolled": false,
    "slideshow": {
     "slide_type": "-"
    }
   },
   "outputs": [
    {
     "data": {
      "application/vnd.jupyter.widget-view+json": {
       "model_id": "6d0ed39495a04ed4b06bf356299f62d0",
       "version_major": 2,
       "version_minor": 0
      },
      "text/plain": [
       "interactive(children=(IntSlider(value=1, description='i', max=2, min=1), Output()), _dom_classes=('widget-inte…"
      ]
     },
     "metadata": {},
     "output_type": "display_data"
    },
    {
     "data": {
      "text/plain": [
       "<function __main__.<lambda>(i)>"
      ]
     },
     "execution_count": 7,
     "metadata": {},
     "output_type": "execute_result"
    }
   ],
   "source": [
    "interact(lambda i: showFig('figures/3/invLF_acquisition_',i,'.svg',800,500), i=widgets.IntSlider(min=1,max=2, step=1, value=0))"
   ]
  },
  {
   "cell_type": "markdown",
   "id": "b6f06b87",
   "metadata": {},
   "source": [
    "* A defect-free test object instance that is illuminated by collimated light transforms the incident parallel light beams into a light field $L'$.\n",
    "* $L'$ is captured by a light field sensor positioned at a distance $\\Delta$ behind the test object.."
   ]
  },
  {
   "cell_type": "markdown",
   "id": "00cf9aa0",
   "metadata": {},
   "source": [
    "##### Inspection of further objects of the same type"
   ]
  },
  {
   "cell_type": "markdown",
   "id": "f8c8538e",
   "metadata": {},
   "source": [
    "* A light field generator is placed at the original position of the light field sensor at a distance of $\\Delta$ from the test object.\n",
    "* The light field generator emits $\\tilde{L}'$, which is the inverse of $L'$ in the sense that the directions of propagation of the contained rays have been reversed.\n",
    "* The other side of the object is observed by a telecentric camera system so that only light rays propagating approximately parallel to the optical axis are captured."
   ]
  },
  {
   "cell_type": "code",
   "execution_count": 8,
   "id": "01aed180",
   "metadata": {
    "scrolled": false,
    "slideshow": {
     "slide_type": "-"
    }
   },
   "outputs": [
    {
     "data": {
      "application/vnd.jupyter.widget-view+json": {
       "model_id": "6b6600e7a09a4236afeab54f30773f67",
       "version_major": 2,
       "version_minor": 0
      },
      "text/plain": [
       "interactive(children=(IntSlider(value=1, description='i', max=4, min=1), Output()), _dom_classes=('widget-inte…"
      ]
     },
     "metadata": {},
     "output_type": "display_data"
    },
    {
     "data": {
      "text/plain": [
       "<function __main__.<lambda>(i)>"
      ]
     },
     "execution_count": 8,
     "metadata": {},
     "output_type": "execute_result"
    }
   ],
   "source": [
    "interact(lambda i: showFig('figures/3/invLF_emission_',i,'.svg',800,500), i=widgets.IntSlider(min=1,max=4, step=1, value=0))"
   ]
  },
  {
   "cell_type": "markdown",
   "id": "e37ad87c",
   "metadata": {},
   "source": [
    "* Defect-free regions of the test object transform incident light rays into rays propagating parallel to the optical axis. Those rays pass the telecentric stop and yield a high signal level indicating a defect-free region. \n",
    "* Material defects which absorb light or scatter / redirect light will not contribute to the image signal. Scattered or redirected light rays will not propagate parallel to the optical axis and hence get blocked by the telecentric stop.\n",
    "* Inverse light field illumination enables the inspection of transparent objects by acquiring a single image only."
   ]
  },
  {
   "cell_type": "markdown",
   "id": "003e98ac",
   "metadata": {},
   "source": [
    "### Experiments"
   ]
  },
  {
   "cell_type": "markdown",
   "id": "5d255452",
   "metadata": {},
   "source": [
    "##### Simulated experiments"
   ]
  },
  {
   "cell_type": "markdown",
   "id": "269bb266",
   "metadata": {
    "slideshow": {
     "slide_type": "fragment"
    }
   },
   "source": [
    "Simulated inspection images of a double-convex lens for a conventional bright field illumination and the inverse light field illumination:<br>\n",
    "<img src=\"figures/3/invLF_simu_exp.svg\" style=\"max-height:40vh\">"
   ]
  },
  {
   "cell_type": "markdown",
   "id": "effab42b",
   "metadata": {},
   "source": [
    "##### Real experiments"
   ]
  },
  {
   "cell_type": "markdown",
   "id": "eff1a24e",
   "metadata": {},
   "source": [
    "* Test object: double-convex lens.\n",
    "* Test objective: check for correct alignment of the lens.\n",
    "* Light field generator: prototype 1 mentioned previously."
   ]
  },
  {
   "cell_type": "markdown",
   "id": "5ea6513c",
   "metadata": {},
   "source": [
    "##### Acquisition of the inverse light field\n",
    "* Directly use optical setup for the inspection phase for acquiring $\\tilde{L}'$ by means of an illumination series.\n",
    "* After placing a defect-free test object instance in the setup, algorithm $\\mathrm{acquireCentralPixels}$ can be employed to find those pixels of the light field generator, which lead to the emission of collimated light bundles that reach the image sensor. Such light rays have to pass the telecentric stop of the telecentric camera and hence have to propagate parallel to optical axis.\n",
    "* Hence, the pixels determined by $\\mathrm{acquireCentralPixels}$ correspond to the sought inverse light field $\\tilde{L}'$."
   ]
  },
  {
   "cell_type": "markdown",
   "id": "8fe77f93",
   "metadata": {
    "slideshow": {
     "slide_type": "fragment"
    }
   },
   "source": [
    "Inspection images of a double-convex lens acquired under inverse light field illumination:<br>\n",
    "<img src=\"figures/3/invLFexp_Lens_rot.svg\" style=\"max-height:40vh\">"
   ]
  },
  {
   "cell_type": "markdown",
   "id": "bf877061",
   "metadata": {},
   "source": [
    "Idee: LF für Sichtprüfung -> auch die Arbeiten vom AIT?"
   ]
  },
  {
   "cell_type": "code",
   "execution_count": null,
   "id": "7d09578d",
   "metadata": {},
   "outputs": [],
   "source": []
  },
  {
   "cell_type": "markdown",
   "id": "7ee77268",
   "metadata": {
    "heading_collapsed": true
   },
   "source": [
    "##"
   ]
  }
 ],
 "metadata": {
  "celltoolbar": "Slideshow",
  "kernelspec": {
   "display_name": "compimg",
   "language": "python",
   "name": "compimg"
  },
  "language_info": {
   "codemirror_mode": {
    "name": "ipython",
    "version": 3
   },
   "file_extension": ".py",
   "mimetype": "text/x-python",
   "name": "python",
   "nbconvert_exporter": "python",
   "pygments_lexer": "ipython3",
   "version": "3.8.10"
  },
  "latex_envs": {
   "LaTeX_envs_menu_present": true,
   "autoclose": true,
   "autocomplete": true,
   "bibliofile": "biblio.bib",
   "cite_by": "apalike",
   "current_citInitial": 1,
   "eqLabelWithNumbers": true,
   "eqNumInitial": 1,
   "hotkeys": {
    "equation": "Ctrl-E",
    "itemize": "Ctrl-I"
   },
   "labels_anchors": false,
   "latex_user_defs": false,
   "report_style_numbering": false,
   "user_envs_cfg": false
  },
  "toc": {
   "base_numbering": "3",
   "nav_menu": {},
   "number_sections": true,
   "sideBar": true,
   "skip_h1_title": false,
   "title_cell": "Table of Contents",
   "title_sidebar": "Contents",
   "toc_cell": false,
   "toc_position": {
    "height": "calc(100% - 180px)",
    "left": "10px",
    "top": "150px",
    "width": "290px"
   },
   "toc_section_display": true,
   "toc_window_display": true
  },
  "toc-autonumbering": true,
  "toc-showcode": true,
  "toc-showmarkdowntxt": true,
  "toc-showtags": false,
  "varInspector": {
   "cols": {
    "lenName": 16,
    "lenType": 16,
    "lenVar": 40
   },
   "kernels_config": {
    "python": {
     "delete_cmd_postfix": "",
     "delete_cmd_prefix": "del ",
     "library": "var_list.py",
     "varRefreshCmd": "print(var_dic_list())"
    },
    "r": {
     "delete_cmd_postfix": ") ",
     "delete_cmd_prefix": "rm(",
     "library": "var_list.r",
     "varRefreshCmd": "cat(var_dic_list()) "
    }
   },
   "position": {
    "height": "294px",
    "left": "1700px",
    "right": "20px",
    "top": "140px",
    "width": "446px"
   },
   "types_to_exclude": [
    "module",
    "function",
    "builtin_function_or_method",
    "instance",
    "_Feature"
   ],
   "window_display": true
  }
 },
 "nbformat": 4,
 "nbformat_minor": 5
}
