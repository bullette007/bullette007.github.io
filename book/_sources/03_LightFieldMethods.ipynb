{
 "cells": [
  {
   "cell_type": "code",
   "execution_count": 1,
   "id": "d4f039f7",
   "metadata": {
    "init_cell": true,
    "tags": [
     "remove-cell"
    ]
   },
   "outputs": [
    {
     "data": {
      "application/javascript": [
       "var cells = Jupyter.notebook.get_cells();\n",
       "           for (var i = 0; i < cells.length; i++) {\n",
       "               var cur_cell = cells[i];\n",
       "               var tags = cur_cell._metadata.tags;\n",
       "               console.log(i);\n",
       "               console.log(tags == undefined);\n",
       "               console.log(tags);\n",
       "               if (tags != undefined) {\n",
       "               for (var j = 0; j < tags.length; j++) {\n",
       "                  if (tags[j]==\"book_only\" | tags[j]==\"remove-cell\") {cur_cell.element.hide();}\n",
       "                  if (tags[j]==\"presentation_only\") {cur_cell.element.show();}\n",
       "            }}}\n"
      ],
      "text/plain": [
       "<IPython.core.display.Javascript object>"
      ]
     },
     "metadata": {},
     "output_type": "display_data"
    }
   ],
   "source": [
    "%%js\n",
    "var cells = Jupyter.notebook.get_cells();\n",
    "           for (var i = 0; i < cells.length; i++) {\n",
    "               var cur_cell = cells[i];\n",
    "               var tags = cur_cell._metadata.tags;\n",
    "               console.log(i);\n",
    "               console.log(tags == undefined);\n",
    "               console.log(tags);\n",
    "               if (tags != undefined) {\n",
    "               for (var j = 0; j < tags.length; j++) {\n",
    "                  if (tags[j]==\"book_only\" | tags[j]==\"remove-cell\") {cur_cell.element.hide();}\n",
    "                  if (tags[j]==\"presentation_only\") {cur_cell.element.show();}\n",
    "            }}}"
   ]
  },
  {
   "cell_type": "code",
   "execution_count": 2,
   "id": "8fabd0c6",
   "metadata": {
    "init_cell": true,
    "slideshow": {
     "slide_type": "notes"
    },
    "tags": [
     "remove-cell"
    ]
   },
   "outputs": [],
   "source": [
    "from __future__ import print_function\n",
    "from ipywidgets import interact, interactive, fixed, interact_manual\n",
    "import ipywidgets as widgets\n",
    "import numpy as np\n",
    "import matplotlib.pyplot as plt\n",
    "import cv2\n",
    "import scipy.signal as sig\n",
    "from scipy.integrate import simpson\n",
    "from IPython.display import SVG, display, IFrame, HTML\n",
    "%matplotlib notebook\n",
    "book = False"
   ]
  },
  {
   "cell_type": "code",
   "execution_count": 3,
   "id": "9af01663",
   "metadata": {
    "tags": [
     "remove-input",
     "book_only"
    ]
   },
   "outputs": [],
   "source": [
    "%matplotlib inline\n",
    "book = True"
   ]
  },
  {
   "cell_type": "code",
   "execution_count": 4,
   "id": "f1c48cdd",
   "metadata": {
    "init_cell": true,
    "slideshow": {
     "slide_type": "notes"
    },
    "tags": [
     "remove-cell"
    ]
   },
   "outputs": [],
   "source": [
    "def showFig2(path,i,ending, width, height):\n",
    "    imgToShow = plt.imread(f\"{path}{i}{ending}\")\n",
    "    plt.imshow(imgToShow)"
   ]
  },
  {
   "cell_type": "code",
   "execution_count": 5,
   "id": "13f3e0c9",
   "metadata": {
    "init_cell": true,
    "slideshow": {
     "slide_type": "notes"
    },
    "tags": [
     "remove-cell"
    ]
   },
   "outputs": [],
   "source": [
    "def showFig(path,i,ending, width, height):\n",
    "    filename = path+str(i)+ending\n",
    "    return HTML(\"<img src=\\\"\" + filename +  f\"\\\" style=\\\"max-height:{height}vh\\\"/>\")"
   ]
  },
  {
   "cell_type": "code",
   "execution_count": 6,
   "id": "a02a3585",
   "metadata": {
    "init_cell": true,
    "slideshow": {
     "slide_type": "notes"
    },
    "tags": [
     "remove-cell"
    ]
   },
   "outputs": [],
   "source": [
    "def imshow(img, cmap=None):\n",
    "    plt.close('all')\n",
    "    plt.figure()\n",
    "    plt.imshow(img, cmap=cmap)\n",
    "    plt.show()"
   ]
  },
  {
   "cell_type": "code",
   "execution_count": 7,
   "id": "f03a5803",
   "metadata": {
    "init_cell": true,
    "slideshow": {
     "slide_type": "notes"
    },
    "tags": [
     "remove-cell"
    ]
   },
   "outputs": [],
   "source": [
    "def imshow2(img, cmap=None):\n",
    "    #plt.close('all')\n",
    "    #plt.figure()\n",
    "    plt.clf()\n",
    "    plt.imshow(img, cmap=cmap)\n",
    "    #plt.show()"
   ]
  },
  {
   "cell_type": "markdown",
   "id": "b0eb3a29",
   "metadata": {
    "slideshow": {
     "slide_type": "slide"
    }
   },
   "source": [
    "$\\begin{align}\n",
    "  \\newcommand{transp}{^\\intercal}\n",
    "  \\newcommand{F}{\\mathcal{F}}\n",
    "  \\newcommand{Fi}{\\mathcal{F}^{-1}}\n",
    "  \\newcommand{inv}{^{-1}}\n",
    "  \\newcommand{stochvec}[1]{\\mathbf{\\tilde{#1}}}\n",
    "  \\newcommand{argmax}[1]{\\underset{#1}{\\mathrm{arg\\, max}}}\n",
    "  \\newcommand{argmin}[1]{\\underset{#1}{\\mathrm{arg\\, min}}}\n",
    "\\end{align}$\n",
    "\n",
    "<font size=\"7\"> Computational Imaging </font><br><br><br>"
   ]
  },
  {
   "cell_type": "markdown",
   "id": "b10a9ac3",
   "metadata": {
    "slideshow": {
     "slide_type": "fragment"
    }
   },
   "source": [
    "# Light Field Methods"
   ]
  },
  {
   "cell_type": "markdown",
   "id": "ca3b2648",
   "metadata": {
    "slideshow": {
     "slide_type": "subslide"
    }
   },
   "source": [
    "##### Content\n",
    "* Introduction into light fields\n",
    "* Light field acquisition for photography applications\n",
    "* Light field processing for photography applications\n",
    "* Light field illumination\n",
    "* Light field acquisition for industrial applications\n",
    "* Light field processing for industrial applications\n",
    "* Inverse light field illumination for transparent object inspection"
   ]
  },
  {
   "cell_type": "markdown",
   "id": "41de26fa",
   "metadata": {
    "slideshow": {
     "slide_type": "slide"
    }
   },
   "source": [
    "## Introduction into light fields"
   ]
  },
  {
   "cell_type": "markdown",
   "id": "9d5633c5",
   "metadata": {
    "slideshow": {
     "slide_type": "subslide"
    }
   },
   "source": [
    "### Plenoptic function"
   ]
  },
  {
   "cell_type": "markdown",
   "id": "aaf63fa3",
   "metadata": {
    "slideshow": {
     "slide_type": "fragment"
    }
   },
   "source": [
    "The **plenoptic function** describes the light transport of a scene:"
   ]
  },
  {
   "cell_type": "markdown",
   "id": "2026b802",
   "metadata": {
    "slideshow": {
     "slide_type": "fragment"
    }
   },
   "source": [
    "$\\begin{align}\n",
    "    \\rho (x,y,z,\\theta,\\varphi,\\lambda,\\tau)\n",
    "\\end{align}$<br>"
   ]
  },
  {
   "cell_type": "markdown",
   "id": "604254ff",
   "metadata": {
    "slideshow": {
     "slide_type": "fragment"
    }
   },
   "source": [
    "It yields the radiance, i.e., intensity, of light rays\n",
    "* incident at point $(x,y,z)^\\intercal$,\n",
    "* with angle of incidence of $(\\theta,\\varphi)$,\n",
    "* with wavelength $\\lambda$ and\n",
    "* at time $\\tau$."
   ]
  },
  {
   "cell_type": "markdown",
   "id": "a75f0b2d",
   "metadata": {
    "slideshow": {
     "slide_type": "subslide"
    }
   },
   "source": [
    "### Light field parameterization"
   ]
  },
  {
   "cell_type": "markdown",
   "id": "e9a06362",
   "metadata": {
    "slideshow": {
     "slide_type": "fragment"
    }
   },
   "source": [
    "High dimensionality (7) of $\\rho$ $\\Rightarrow$ infeasible to capture it completely."
   ]
  },
  {
   "cell_type": "markdown",
   "id": "0ecbc10e",
   "metadata": {
    "slideshow": {
     "slide_type": "subslide"
    }
   },
   "source": [
    "However, for many practically relevant cases, a 4D section of $\\rho$ is sufficient, i.e., when:"
   ]
  },
  {
   "cell_type": "markdown",
   "id": "7d806d82",
   "metadata": {
    "slideshow": {
     "slide_type": "fragment"
    }
   },
   "source": [
    "* No occlusions between observer and objects of interest, then radiance constant for ray starting from $(x,y,z)^\\intercal$ in direction $(\\theta,\\varphi)$, hence, one spatial parameter is redundant."
   ]
  },
  {
   "cell_type": "markdown",
   "id": "fb9db05b",
   "metadata": {
    "slideshow": {
     "slide_type": "fragment"
    }
   },
   "source": [
    "* Scene is temporarily static, then $\\tau$ can be neglected."
   ]
  },
  {
   "cell_type": "markdown",
   "id": "993058b9",
   "metadata": {
    "slideshow": {
     "slide_type": "fragment"
    }
   },
   "source": [
    "* Wavelength of no interest, then $\\lambda$ can be neglected."
   ]
  },
  {
   "cell_type": "markdown",
   "id": "68664b19",
   "metadata": {
    "slideshow": {
     "slide_type": "subslide"
    }
   },
   "source": [
    "##### Point and angle parameterization"
   ]
  },
  {
   "cell_type": "markdown",
   "id": "a7111065",
   "metadata": {
    "slideshow": {
     "slide_type": "fragment"
    }
   },
   "source": [
    "This leads to a simplification of $\\rho$, the so-called **light field**"
   ]
  },
  {
   "cell_type": "markdown",
   "id": "9dc2663e",
   "metadata": {
    "slideshow": {
     "slide_type": "fragment"
    }
   },
   "source": [
    "$\\begin{align}\n",
    "    L(x,y,\\theta, \\varphi)=\\int \\rho(x,y,z,\\theta,\\varphi,\\tau)\\mathrm{d}\\lambda\\vert_{z=\\mathrm{const.},\\tau=\\mathrm{const.}}\n",
    "\\end{align}$"
   ]
  },
  {
   "cell_type": "markdown",
   "id": "7ad50dc4",
   "metadata": {
    "slideshow": {
     "slide_type": "fragment"
    }
   },
   "source": [
    "parameterized by a point $\\mathbf{p}=(p_x,p_y)^\\intercal$ on a plane and an angle of incidence $(\\theta,\\varphi)$."
   ]
  },
  {
   "cell_type": "markdown",
   "id": "b186a749",
   "metadata": {
    "slideshow": {
     "slide_type": "subslide"
    }
   },
   "source": [
    "<img src=\"figures/3/lfPointAngle.svg\" style=\"max-width:30vw\">"
   ]
  },
  {
   "cell_type": "markdown",
   "id": "73f8c8cf",
   "metadata": {
    "slideshow": {
     "slide_type": "subslide"
    }
   },
   "source": [
    "##### Two-plane parameterization"
   ]
  },
  {
   "cell_type": "markdown",
   "id": "a307cf88",
   "metadata": {
    "slideshow": {
     "slide_type": "fragment"
    }
   },
   "source": [
    "Parameterization of light rays via intersections $\\mathbf{p}=(p_x, p_y)^\\intercal$ and $\\mathbf{q}=(q_u, q_v)^\\intercal$ of ray with two parallel planes of known distance: $L(x,y,u,v)$."
   ]
  },
  {
   "cell_type": "markdown",
   "id": "85caf647",
   "metadata": {
    "slideshow": {
     "slide_type": "-"
    }
   },
   "source": [
    "<img src=\"figures/3/lfTwoPlane.svg\" style=\"max-width:30vw\">"
   ]
  },
  {
   "cell_type": "markdown",
   "id": "d8d4dfef",
   "metadata": {
    "slideshow": {
     "slide_type": "subslide"
    }
   },
   "source": [
    "### Motivation - use of light fields?"
   ]
  },
  {
   "cell_type": "markdown",
   "id": "372ab3c4",
   "metadata": {},
   "source": [
    "Consider intensities captured by traditional camera:"
   ]
  },
  {
   "cell_type": "markdown",
   "id": "a5ba5264",
   "metadata": {
    "slideshow": {
     "slide_type": "fragment"
    }
   },
   "source": [
    "<img src=\"figures/3/thinLensIntegration.svg\" style=\"max-width:40vw\">"
   ]
  },
  {
   "cell_type": "markdown",
   "id": "bf477bca",
   "metadata": {
    "slideshow": {
     "slide_type": "fragment"
    }
   },
   "source": [
    "Each pixel integrates over all incident rays regardless their direction of incidence - any directional information is lost."
   ]
  },
  {
   "cell_type": "markdown",
   "id": "8da2266d",
   "metadata": {
    "slideshow": {
     "slide_type": "subslide"
    }
   },
   "source": [
    "##### When could directional information help?"
   ]
  },
  {
   "cell_type": "markdown",
   "id": "a315417f",
   "metadata": {},
   "source": [
    "Consider the case of defocused imaging:"
   ]
  },
  {
   "cell_type": "markdown",
   "id": "88783463",
   "metadata": {
    "slideshow": {
     "slide_type": "subslide"
    }
   },
   "source": [
    "<img src=\"figures/3/thinLensRaysDefocused.svg\" style=\"max-width:40vw\">"
   ]
  },
  {
   "cell_type": "markdown",
   "id": "0935bcaa",
   "metadata": {
    "slideshow": {
     "slide_type": "fragment"
    }
   },
   "source": [
    "* Idea: reconstruction of in-focus image by virtually shifting sensor into plane of converging rays.\n",
    "* Therefore one must collect the \"right\" rays from the pixel that collected the diverging ray bundle."
   ]
  },
  {
   "cell_type": "markdown",
   "id": "b281d51b",
   "metadata": {
    "slideshow": {
     "slide_type": "fragment"
    }
   },
   "source": [
    "* Requires pixel that can resolve the direction of incidence."
   ]
  },
  {
   "cell_type": "markdown",
   "id": "d7abff89",
   "metadata": {
    "slideshow": {
     "slide_type": "subslide"
    }
   },
   "source": [
    "➡ Digital refocusing after image acquisition."
   ]
  },
  {
   "cell_type": "markdown",
   "id": "847c3fef",
   "metadata": {
    "slideshow": {
     "slide_type": "fragment"
    }
   },
   "source": [
    "| Unprocessed   |   Post capture refocused  |  \n",
    "|:----------:|:-------------:|\n",
    "|<img src=\"figures/3/lfDefocused.jpg\" style=\"max-width:20vw\"> |<img src=\"figures/3/lfFocused.jpg\" style=\"max-width:20vw\"> |"
   ]
  },
  {
   "cell_type": "markdown",
   "id": "5f89d294",
   "metadata": {
    "slideshow": {
     "slide_type": "slide"
    }
   },
   "source": [
    "## Light field acquisition for photography applications"
   ]
  },
  {
   "cell_type": "markdown",
   "id": "8ab5aca8",
   "metadata": {
    "slideshow": {
     "slide_type": "subslide"
    }
   },
   "source": [
    "Open question: How to capture light fields?"
   ]
  },
  {
   "cell_type": "markdown",
   "id": "1fd3f37d",
   "metadata": {
    "slideshow": {
     "slide_type": "fragment"
    }
   },
   "source": [
    "Now: light field acquisition for photography applications.\n",
    "* Light field cameras (spatial multiplexing)\n",
    "* Camera gantries (moving cameras) / coded apertures (temporal multiplexing)\n",
    "* Camera arrays"
   ]
  },
  {
   "cell_type": "markdown",
   "id": "b0034642",
   "metadata": {
    "slideshow": {
     "slide_type": "fragment"
    }
   },
   "source": [
    "Later: light field acquisition for visual inspection applications."
   ]
  },
  {
   "cell_type": "markdown",
   "id": "53361567",
   "metadata": {
    "slideshow": {
     "slide_type": "subslide"
    }
   },
   "source": [
    "### Light field camera"
   ]
  },
  {
   "cell_type": "markdown",
   "id": "38679555",
   "metadata": {
    "slideshow": {
     "slide_type": "subslide"
    }
   },
   "source": [
    "#### Optical principle of a light field camera"
   ]
  },
  {
   "cell_type": "markdown",
   "id": "5a9fc3ad",
   "metadata": {
    "slideshow": {
     "slide_type": "-"
    },
    "tags": [
     "book_only"
    ]
   },
   "source": [
    "Idea: use microlenses to split incident ray bundles so that pixel sens different directions of incidence."
   ]
  },
  {
   "cell_type": "code",
   "execution_count": 8,
   "id": "a092484f",
   "metadata": {
    "init_cell": true,
    "slideshow": {
     "slide_type": "subslide"
    }
   },
   "outputs": [
    {
     "data": {
      "application/vnd.jupyter.widget-view+json": {
       "model_id": "e73bad9a66384fd3ba2b45c3628f4066",
       "version_major": 2,
       "version_minor": 0
      },
      "text/plain": [
       "interactive(children=(IntSlider(value=3, description='i', max=3, min=1), Output()), _dom_classes=('widget-inte…"
      ]
     },
     "metadata": {},
     "output_type": "display_data"
    },
    {
     "data": {
      "text/plain": [
       "<function __main__.<lambda>(i)>"
      ]
     },
     "execution_count": 8,
     "metadata": {},
     "output_type": "execute_result"
    }
   ],
   "source": [
    "interact(lambda i: showFig('figures/3/lfCameraPrinciple_',i,'.svg',800,50), i=widgets.IntSlider(min=(min_i:=1),max=(max_i:=3), step=1, value=(max_i if book else min_i)))"
   ]
  },
  {
   "cell_type": "markdown",
   "id": "38c6f505",
   "metadata": {
    "slideshow": {
     "slide_type": "fragment"
    }
   },
   "source": [
    "* Microlens array at image plane of main lens.\n",
    "* Sensor at distance $b_\\mathrm{ML} = f_\\mathrm{ML}$ behind microlens array with focal length $f_\\mathrm{ML}$ of microlenses.\n",
    "* All pixel behind one microlens observe the same object point, but from different perspectives."
   ]
  },
  {
   "cell_type": "markdown",
   "id": "8af97e75",
   "metadata": {
    "slideshow": {
     "slide_type": "notes"
    },
    "tags": [
     "book_only"
    ]
   },
   "source": [
    "Since the sensor is located in the focal plane of the microlenses, this part of the optical system is focused at optical infinity. As the distance $b_\\mathrm{L}$ between the microlenses and the main lens is very large compared to $f_\\mathrm{ML}$, the microlenses yield a sharp image of the plane of the main lens on the image sensor.\n",
    "Consequently, every pixel under one microlens observes a section of this plane, i.e., a sub-aperture, and integrates all the light rays with the corresponding propagation directions."
   ]
  },
  {
   "cell_type": "markdown",
   "id": "3d569ab3",
   "metadata": {
    "slideshow": {
     "slide_type": "subslide"
    }
   },
   "source": [
    "➡ 4D light field is spatially multiplexed on the 2D sensor by trading in spatial resolution for angular resolution."
   ]
  },
  {
   "cell_type": "markdown",
   "id": "7ab0f861",
   "metadata": {
    "slideshow": {
     "slide_type": "fragment"
    }
   },
   "source": [
    "➡ Allows to obtain two-plane parameterization $L(x^\\mathrm{ML}, y^\\mathrm{ML}, x^\\mathrm{L}, y^\\mathrm{L})$."
   ]
  },
  {
   "cell_type": "markdown",
   "id": "7127ab6b",
   "metadata": {
    "slideshow": {
     "slide_type": "subslide"
    }
   },
   "source": [
    "##### Spatial and angular resolution"
   ]
  },
  {
   "cell_type": "markdown",
   "id": "30326da4",
   "metadata": {},
   "source": [
    "Resolution parameters of a light field camera:"
   ]
  },
  {
   "cell_type": "markdown",
   "id": "9ca37bb2",
   "metadata": {
    "slideshow": {
     "slide_type": "fragment"
    }
   },
   "source": [
    "* **Spatial** resolution: number of microlenses in horizontal and vertical direction."
   ]
  },
  {
   "cell_type": "markdown",
   "id": "92c60c88",
   "metadata": {
    "slideshow": {
     "slide_type": "fragment"
    }
   },
   "source": [
    "* **Angular** resolution: number of pixel corresponding to one microlens in horizontal and vertical direction."
   ]
  },
  {
   "cell_type": "markdown",
   "id": "d9513496",
   "metadata": {
    "slideshow": {
     "slide_type": "fragment"
    }
   },
   "source": [
    "➡ **Spatio-angular resolution trade-off**, i.e., for a fixed sensor size increasing the spatial resolution (i.e., reducing the size of the microlenses) reduces the angular resolution and vice versa."
   ]
  },
  {
   "cell_type": "markdown",
   "id": "6d97f181",
   "metadata": {
    "slideshow": {
     "slide_type": "subslide"
    }
   },
   "source": [
    "##### How to choose $d_\\mathrm{ML}, b_\\mathrm{ML}, d_\\mathrm{L}, b_\\mathrm{L}$?"
   ]
  },
  {
   "cell_type": "markdown",
   "id": "be5db953",
   "metadata": {},
   "source": [
    "Goal: no crosstalk, i.e., rays incident to a microlens only reach the pixel corresponding to this microlens."
   ]
  },
  {
   "cell_type": "markdown",
   "id": "453eaa78",
   "metadata": {
    "slideshow": {
     "slide_type": "fragment"
    }
   },
   "source": [
    "<img src=\"figures/3/lfCameraPrincipleNoCrosstalk.svg\" style=\"max-width:30vw\">"
   ]
  },
  {
   "cell_type": "markdown",
   "id": "b624c4f1",
   "metadata": {
    "slideshow": {
     "slide_type": "fragment"
    }
   },
   "source": [
    "In order to map the whole main lens to the pixels corresponding to one microlens, it has to be<br>\n",
    "$\\begin{align}\n",
    "    \\frac{d_\\mathrm{ML}}{b_\\mathrm{ML}}=\\frac{d_\\mathrm{L}}{b_\\mathrm{L}}\\,,\n",
    "\\end{align}$<br>\n",
    "according to the intercept theorem."
   ]
  },
  {
   "cell_type": "markdown",
   "id": "b8a12b92",
   "metadata": {
    "slideshow": {
     "slide_type": "subslide"
    }
   },
   "source": [
    "#### Digital representation of light field images"
   ]
  },
  {
   "cell_type": "markdown",
   "id": "29fb61cd",
   "metadata": {},
   "source": [
    "Example light field from *The (New) Stanford Light Field Archive* (http://lightfield.stanford.edu/lfs.html):"
   ]
  },
  {
   "cell_type": "code",
   "execution_count": 9,
   "id": "254dfe07",
   "metadata": {
    "init_cell": true,
    "slideshow": {
     "slide_type": "subslide"
    }
   },
   "outputs": [
    {
     "data": {
      "application/vnd.jupyter.widget-view+json": {
       "model_id": "555f4f94c7eb44a989227eeb29070526",
       "version_major": 2,
       "version_minor": 0
      },
      "text/plain": [
       "interactive(children=(IntSlider(value=8, description='i', max=8, min=1), Output()), _dom_classes=('widget-inte…"
      ]
     },
     "metadata": {},
     "output_type": "display_data"
    },
    {
     "data": {
      "text/plain": [
       "<function __main__.<lambda>(i)>"
      ]
     },
     "execution_count": 9,
     "metadata": {},
     "output_type": "execute_result"
    }
   ],
   "source": [
    "interact(lambda i: showFig('figures/3/lfExample_',i,'.png',800,500), i=widgets.IntSlider(min=(min_i:=1),max=(max_i:=8), step=1, value=(max_i if book else min_i)))"
   ]
  },
  {
   "cell_type": "markdown",
   "id": "ac2761d8",
   "metadata": {
    "slideshow": {
     "slide_type": "subslide"
    }
   },
   "source": [
    "Digital representation of a spatially multiplexed light field $L(\\mathbf{m},\\mathbf{j})$ with \n",
    "* two discrete **spatial** coordinates $\\mathbf{m}=(m,n)^\\intercal$ representing the grid of microlenses and\n",
    "* two discrete **angular** coordinates $\\mathbf{j}=(j,k)^\\intercal$ representing the pixel behind one microlens, encoding the angular information."
   ]
  },
  {
   "cell_type": "markdown",
   "id": "afc979ce",
   "metadata": {
    "slideshow": {
     "slide_type": "fragment"
    }
   },
   "source": [
    "Sometimes, the set of pixel corresponding to one microlens is called a **macro pixel**."
   ]
  },
  {
   "cell_type": "markdown",
   "id": "b23a5f57",
   "metadata": {
    "slideshow": {
     "slide_type": "subslide"
    }
   },
   "source": [
    "<img src=\"figures/3/lfRepresentation.svg\" style=\"max-height:40vh\">"
   ]
  },
  {
   "cell_type": "markdown",
   "id": "69829242",
   "metadata": {
    "slideshow": {
     "slide_type": "subslide"
    }
   },
   "source": [
    "When a light field image is provided as a conventional image $g(\\mathbf{x})$, as in the case of a light field camera, the $L(\\mathbf{m},\\mathbf{j})$-representation has to be extracted via:"
   ]
  },
  {
   "cell_type": "markdown",
   "id": "2927366c",
   "metadata": {
    "slideshow": {
     "slide_type": "fragment"
    }
   },
   "source": [
    "$\\begin{align}\n",
    "    L\\left( (m,n)^\\intercal, (j,k)^\\intercal \\right) = g\\begin{pmatrix} (m-1)\\cdot J + j \\\\ (n-1)\\cdot K + k \\end{pmatrix} \\,,\n",
    "    \\quad\\mathrm{with}\\, j\\in \\left[1,\\ldots,J\\right],\\,k\\in\\left[1,\\ldots,K\\right]\\,,  \n",
    "\\end{align}$<br>\n",
    "with horizontal, respectively, vertical angular resolution $J$, respectively, $K$."
   ]
  },
  {
   "cell_type": "markdown",
   "id": "8f95a2cd",
   "metadata": {
    "slideshow": {
     "slide_type": "subslide"
    }
   },
   "source": [
    "#### Sub aperture images"
   ]
  },
  {
   "cell_type": "markdown",
   "id": "8d1c8187",
   "metadata": {},
   "source": [
    "Every pixel behind a microlens observes the scene from a different angle, i.e., through a different portion of the aperture (the main lens)."
   ]
  },
  {
   "cell_type": "markdown",
   "id": "1197027b",
   "metadata": {
    "slideshow": {
     "slide_type": "subslide"
    }
   },
   "source": [
    "<img src=\"figures/3/lfCameraPrinciple_3.svg\" style=\"max-height:40vh\">"
   ]
  },
  {
   "cell_type": "markdown",
   "id": "109c1793",
   "metadata": {
    "slideshow": {
     "slide_type": "subslide"
    }
   },
   "source": [
    "By combining all the pixel with the same relative position $(j',k')^\\intercal$ with respect to the corresponding microlens, so-called **sub aperture images (SAI)** $L^{(j,k)}(\\mathbf{m})$ can be constructed:"
   ]
  },
  {
   "cell_type": "markdown",
   "id": "8a04dcbd",
   "metadata": {
    "slideshow": {
     "slide_type": "fragment"
    }
   },
   "source": [
    "$\\begin{align}\n",
    "    L^{(j,k)}(\\mathbf{m}) := L\\left( \\mathbf{m}, (j,k)^\\intercal \\right)\n",
    "\\end{align}$"
   ]
  },
  {
   "cell_type": "markdown",
   "id": "f876b16a",
   "metadata": {
    "slideshow": {
     "slide_type": "fragment"
    }
   },
   "source": [
    "Note<br>\n",
    "The term SAI is also applicable for the continuous case, i.e.,<br><br>\n",
    "$\\begin{align}\n",
    "    L^{(u,v)}\\left((x,y)^\\intercal\\right):=L\\left( (x,y)^\\intercal, (u,v)^\\intercal \\right)\\,.\n",
    "\\end{align}$<br>"
   ]
  },
  {
   "cell_type": "markdown",
   "id": "ba8829f1",
   "metadata": {
    "slideshow": {
     "slide_type": "subslide"
    }
   },
   "source": [
    "##### Example\n",
    "Slide show of SAIs $L^{(j,9)}(\\mathbf{x}),\\, j\\in\\left[0,\\ldots,16\\right]$ from previous light field image:"
   ]
  },
  {
   "cell_type": "code",
   "execution_count": 10,
   "id": "0ab8df0d",
   "metadata": {
    "init_cell": true
   },
   "outputs": [
    {
     "data": {
      "text/plain": [
       "<Figure size 432x288 with 0 Axes>"
      ]
     },
     "metadata": {},
     "output_type": "display_data"
    }
   ],
   "source": [
    "ax = plt.figure()"
   ]
  },
  {
   "cell_type": "code",
   "execution_count": 11,
   "id": "565d65d9",
   "metadata": {
    "init_cell": true,
    "slideshow": {
     "slide_type": "fragment"
    }
   },
   "outputs": [
    {
     "data": {
      "application/vnd.jupyter.widget-view+json": {
       "model_id": "6ad38831e49d49dd837af2bf6f2417bd",
       "version_major": 2,
       "version_minor": 0
      },
      "text/plain": [
       "interactive(children=(IntSlider(value=16, description='i', max=16), Output()), _dom_classes=('widget-interact'…"
      ]
     },
     "metadata": {},
     "output_type": "display_data"
    },
    {
     "data": {
      "text/plain": [
       "<function __main__.<lambda>(i)>"
      ]
     },
     "execution_count": 11,
     "metadata": {},
     "output_type": "execute_result"
    }
   ],
   "source": [
    "interact(lambda i: showFig2('figures/3/lfSAIs/out_09_',i,'.png',800,1100), i=widgets.IntSlider(min=(min_i:=0),max=(max_i:=16), step=1, value=(max_i if book else min_i)))"
   ]
  },
  {
   "cell_type": "markdown",
   "id": "eeb2cec0",
   "metadata": {
    "slideshow": {
     "slide_type": "subslide"
    }
   },
   "source": [
    "### Temporal multiplexing"
   ]
  },
  {
   "cell_type": "markdown",
   "id": "e16d39db",
   "metadata": {},
   "source": [
    "The static scene is captured with a single camera \n",
    "* from different perspectives, e.g., using a gantry, or \n",
    "* with different configurations of a coded aperture (more later)."
   ]
  },
  {
   "cell_type": "markdown",
   "id": "18547fbc",
   "metadata": {
    "slideshow": {
     "slide_type": "subslide"
    }
   },
   "source": [
    "<img src=\"figures/3/cameraGantry.png\" style=\"max-height:40vh\"><br>Gantry for observing a patch of grass illuminated from the right with a camera from above (by Fraunhofer-IOSB Ettlingen)."
   ]
  },
  {
   "cell_type": "markdown",
   "id": "3f1c5785",
   "metadata": {},
   "source": [
    "The gantry has to be precisely calibrated so that the single camera images can be combined into a common light field."
   ]
  },
  {
   "cell_type": "markdown",
   "id": "8c700c37",
   "metadata": {
    "slideshow": {
     "slide_type": "subslide"
    }
   },
   "source": [
    "### Camera arrays"
   ]
  },
  {
   "cell_type": "markdown",
   "id": "75dcccc1",
   "metadata": {
    "slideshow": {
     "slide_type": "-"
    }
   },
   "source": [
    "Arrays of cameras also allow to capture light fields."
   ]
  },
  {
   "cell_type": "markdown",
   "id": "790f1296",
   "metadata": {
    "slideshow": {
     "slide_type": "fragment"
    }
   },
   "source": [
    "<img src=\"figures/3/stanfordCameraArray.jpg\" style=\"max-height:40vh\"><br>\n",
    "Stanford camera array (http://graphics.stanford.edu/projects/array/images/tiled-side-view-cessh.jpg)."
   ]
  },
  {
   "cell_type": "markdown",
   "id": "4d13ae81",
   "metadata": {
    "slideshow": {
     "slide_type": "subslide"
    }
   },
   "source": [
    "The cameras are arranged in a grid $(j,k)\\in\\Omega_\\mathrm{a}$ with angular support $\\Omega_\\mathrm{a}=  \\left[1,\\ldots,J\\right]\\,\\times\\, \\left[1,\\ldots,K\\right]\\,$."
   ]
  },
  {
   "cell_type": "markdown",
   "id": "4585e4a1",
   "metadata": {},
   "source": [
    "The camera at position $(j,k)$ captures the sub aperture image $L^{(j,k)}(\\mathbf{m})$."
   ]
  },
  {
   "cell_type": "markdown",
   "id": "e87f7dea",
   "metadata": {
    "slideshow": {
     "slide_type": "slide"
    }
   },
   "source": [
    "## Light field processing for photography applications"
   ]
  },
  {
   "cell_type": "markdown",
   "id": "f271af61",
   "metadata": {
    "slideshow": {
     "slide_type": "subslide"
    }
   },
   "source": [
    "### Digital refocusing"
   ]
  },
  {
   "cell_type": "markdown",
   "id": "de5eb5a9",
   "metadata": {
    "slideshow": {
     "slide_type": "subslide"
    }
   },
   "source": [
    "#### Light fields in a conventional camera"
   ]
  },
  {
   "cell_type": "markdown",
   "id": "c324d07e",
   "metadata": {
    "slideshow": {
     "slide_type": "fragment"
    }
   },
   "source": [
    "Consider the light field $L_b$ in a conventional camera for the case of focused imaging with an image distance of $b$. The $(x,y)$-plane corresponds to the sensor plane and the $(u,v)$-plane corresponds to the lens plane."
   ]
  },
  {
   "cell_type": "markdown",
   "id": "c6f9aa34",
   "metadata": {
    "slideshow": {
     "slide_type": "subslide"
    }
   },
   "source": [
    "| Light field in camera   |   Ray diagram  |  \n",
    "|:----------:|:-------------:|\n",
    "|<img src=\"figures/3/lfInsideCamera_1.svg\" style=\"width:40vw\"> |<img src=\"figures/3/lfRayDiagramm_1.svg\" style=\"width:20vw\"> |"
   ]
  },
  {
   "cell_type": "markdown",
   "id": "da3f3e36",
   "metadata": {
    "slideshow": {
     "slide_type": "fragment"
    }
   },
   "source": [
    "A single light ray intersecting the lens at $\\mathbf{p}^\\mathrm{L}=(p^\\mathrm{L}_u,p^\\mathrm{L}_v)$ and hitting the sensor at $\\mathbf{p}^\\mathrm{S}=(p^\\mathrm{S}_x,p^\\mathrm{S}_y)$, corresponds to a single point in the light field at position $(p^\\mathrm{S}_x,p^\\mathrm{S}_y,p^\\mathrm{L}_u,p^\\mathrm{L}_v)$."
   ]
  },
  {
   "cell_type": "markdown",
   "id": "15612fd3",
   "metadata": {
    "slideshow": {
     "slide_type": "subslide"
    }
   },
   "source": [
    "| Light field in camera   |   Ray diagram  |  \n",
    "|:----------:|:-------------:|\n",
    "|<img src=\"figures/3/lfInsideCamera_2.svg\" style=\"width:40vw\"> |<img src=\"figures/3/lfRayDiagramm_2.svg\" style=\"width:20vw\"> |"
   ]
  },
  {
   "cell_type": "markdown",
   "id": "16e53547",
   "metadata": {
    "slideshow": {
     "slide_type": "fragment"
    }
   },
   "source": [
    "At point $\\mathbf{p}^\\mathrm{S}$ the sensor integrates over light rays coming from all possible aperture positions, i.e., for all $\\mathbf{p}^\\mathrm{L}$ lying on the lens surface. This corresponds to an integration<br>\n",
    "$\\begin{align}\n",
    "    g_b\\left(\\mathbf{p}^\\mathrm{S}\\right)=\\int\\int L_b(p^\\mathrm{S}_x,p^\\mathrm{S}_y,u,v)\\, \\mathrm{d}u\\,\\mathrm{d}v\\,,\n",
    "\\end{align}$<br>with $g_b$ denoting the image formed when the sensor is positioned at image distance $b$."
   ]
  },
  {
   "cell_type": "markdown",
   "id": "0b52c70e",
   "metadata": {
    "slideshow": {
     "slide_type": "subslide"
    }
   },
   "source": [
    "| Light field in camera   |   Ray diagram  |  \n",
    "|:----------:|:-------------:|\n",
    "|<img src=\"figures/3/lfInsideCamera_3.svg\" style=\"width:40vw\"> |<img src=\"figures/3/lfRayDiagramm_3.svg\" style=\"width:20vw\"> |"
   ]
  },
  {
   "cell_type": "markdown",
   "id": "9f9ff04b",
   "metadata": {
    "slideshow": {
     "slide_type": "fragment"
    }
   },
   "source": [
    "In the case of defocused imaging for an object point too close to the camera, the rays that would be collected at point $\\mathbf{p}^\\mathrm{S'}(p^\\mathrm{S'}_{x'}p^\\mathrm{S'}_{y'})$ on an adequately placed virtual sensor in the $(x',y')$-plane, correspond to points lying on a plane with positive slope in the originally captured light field $L_b$."
   ]
  },
  {
   "cell_type": "markdown",
   "id": "5f5a61f6",
   "metadata": {
    "slideshow": {
     "slide_type": "subslide"
    }
   },
   "source": [
    "| Light field in camera   |   Ray diagram  |  \n",
    "|:----------:|:-------------:|\n",
    "|<img src=\"figures/3/lfInsideCamera_4.svg\" style=\"width:40vw\"> |<img src=\"figures/3/lfRayDiagramm_4.svg\" style=\"width:20vw\"> |"
   ]
  },
  {
   "cell_type": "markdown",
   "id": "f04d3b86",
   "metadata": {
    "slideshow": {
     "slide_type": "fragment"
    }
   },
   "source": [
    "In contrast, an object point farther away from the camera, correspond to points lying on a plane with negative slope in the originally captured light field $L_b$."
   ]
  },
  {
   "cell_type": "markdown",
   "id": "49dd871c",
   "metadata": {
    "slideshow": {
     "slide_type": "subslide"
    }
   },
   "source": [
    "#### Image formation for virtual sensor planes"
   ]
  },
  {
   "cell_type": "markdown",
   "id": "e8f4fc39",
   "metadata": {},
   "source": [
    "Express the light field $L_{b'}(x',y',u,v)$ corresponding to the virtual sensor plane having a distance of $b'$ to the lens by means of the original light field $L_b(x,y,u,v)$ having a distance of $b$ to the lens."
   ]
  },
  {
   "cell_type": "markdown",
   "id": "ab9f96a7",
   "metadata": {
    "slideshow": {
     "slide_type": "subslide"
    }
   },
   "source": [
    "According to the intercept theorem, it is:"
   ]
  },
  {
   "cell_type": "markdown",
   "id": "69fc2bfd",
   "metadata": {
    "slideshow": {
     "slide_type": "fragment"
    }
   },
   "source": [
    "<img src=\"figures/3/lfTransform.svg\" style=\"width:40vw\"><br>(This also holds for the other dimensions, i.e., $x,x'$ and $u$)"
   ]
  },
  {
   "cell_type": "markdown",
   "id": "e2311362",
   "metadata": {
    "slideshow": {
     "slide_type": "subslide"
    }
   },
   "source": [
    "Defining $\\alpha:=\\frac{b'}{b}$ as the relative depth leads to the expression of $L_{b'}(x',y',u,v)$ by means of $L_b(x,y,u,v)$:"
   ]
  },
  {
   "cell_type": "markdown",
   "id": "fa6a1972",
   "metadata": {
    "slideshow": {
     "slide_type": "fragment"
    }
   },
   "source": [
    "$\\begin{align}\n",
    "    L_{b'}(x',y',u,v) &=L_b\\left(\\frac{x'-u}{\\alpha} + u , \\frac{y'-v}{\\alpha} + v, \\, u\\,,\\, v\\, \\right)\\\\\n",
    "                      &=L_b\\left(u\\left(1-\\frac{1}{\\alpha} \\right)+\\frac{x'}{\\alpha}, v\\left( 1-\\frac{1}{\\alpha}\\right) + \\frac{y'}{\\alpha},\\, u\\,,\\, v\\, \\right)\\,.\n",
    "\\end{align}$"
   ]
  },
  {
   "cell_type": "markdown",
   "id": "3e0a8cdc",
   "metadata": {
    "slideshow": {
     "slide_type": "subslide"
    }
   },
   "source": [
    "Hence, the image corresponding to a virtual sensor $g_{b'}(x',y')$ with image distance $b'=\\alpha\\cdot b$ is formed by:"
   ]
  },
  {
   "cell_type": "markdown",
   "id": "f8c543b6",
   "metadata": {
    "slideshow": {
     "slide_type": "fragment"
    }
   },
   "source": [
    "$\\begin{align}\n",
    "    g_{b'}(x',y') = \\int\\int L_b\\left(u\\left(1-\\frac{1}{\\alpha} \\right)+\\frac{x'}{\\alpha}, v\\left( 1-\\frac{1}{\\alpha}\\right) + \\frac{y'}{\\alpha},\\, u\\,,\\, v\\, \\right) \\, \\mathrm{d}u\\,\\mathrm{d}v\\,.\n",
    "\\end{align}$<br>"
   ]
  },
  {
   "cell_type": "markdown",
   "id": "6620c024",
   "metadata": {
    "slideshow": {
     "slide_type": "subslide"
    }
   },
   "source": [
    "* Images of virtual sensor planes can be calculated by numerically evaluating the corresponding integrals."
   ]
  },
  {
   "cell_type": "markdown",
   "id": "92d2ad05",
   "metadata": {
    "slideshow": {
     "slide_type": "fragment"
    }
   },
   "source": [
    "* A much more comfortable way will be presented in the following section."
   ]
  },
  {
   "cell_type": "markdown",
   "id": "c77187f2",
   "metadata": {
    "slideshow": {
     "slide_type": "subslide"
    }
   },
   "source": [
    "#### Refocused image synthesis via *shift and add*"
   ]
  },
  {
   "cell_type": "markdown",
   "id": "43f8010b",
   "metadata": {},
   "source": [
    "Consider again the previous equation"
   ]
  },
  {
   "cell_type": "markdown",
   "id": "a056b147",
   "metadata": {
    "slideshow": {
     "slide_type": "fragment"
    }
   },
   "source": [
    "$\\begin{align}\n",
    "    g_{b'}(x',y') = \\int\\int L_b\\left(u\\left(1-\\frac{1}{\\alpha} \\right)+\\frac{x'}{\\alpha}, v\\left( 1-\\frac{1}{\\alpha}\\right) + \\frac{y'}{\\alpha},\\, u\\,,\\, v\\, \\right) \\, \\mathrm{d}u\\,\\mathrm{d}v\\,.\n",
    "\\end{align}$"
   ]
  },
  {
   "cell_type": "markdown",
   "id": "0f0b98bc",
   "metadata": {
    "slideshow": {
     "slide_type": "fragment"
    }
   },
   "source": [
    "Since the angular coordinates $(u,v)$ of $L_b$ are left untouched, it can also be expressed via sub-aperture images $L^{(u,v)}\\left((x,y)^\\intercal\\right):=L\\left( (x,y)^\\intercal, (u,v)^\\intercal \\right)$:"
   ]
  },
  {
   "cell_type": "markdown",
   "id": "2e56f428",
   "metadata": {
    "slideshow": {
     "slide_type": "fragment"
    }
   },
   "source": [
    "$\\begin{align}\n",
    "    g_{b'}(x',y') = \\int\\int L^{(u,v)}_b\\biggl ( \\bigl( u\\left(1-1\\,/\\,\\alpha \\right)+x'\\,/\\,\\alpha,\\, v\\left( 1-1\\,/\\,\\alpha\\right) + y'\\,/\\,\\alpha\\bigr)^\\intercal \\biggr) \\, \\mathrm{d}u\\,\\mathrm{d}v\\,.\n",
    "\\end{align}$"
   ]
  },
  {
   "cell_type": "markdown",
   "id": "6cfd53c1",
   "metadata": {
    "slideshow": {
     "slide_type": "subslide"
    }
   },
   "source": [
    "Here, $L^{(u,v)}_b\\biggl ( \\bigl( u\\left(1-1\\,/\\,\\alpha \\right)+x'\\,/\\,\\alpha,\\, v\\left( 1-1\\,/\\,\\alpha\\right) + y'\\,/\\,\\alpha\\bigr)^\\intercal \\biggr)$ is just the SAI $L^{(u,v)}_b$ but\n",
    "* shifted by an offset of $\\bigl( u(1-1\\,/\\alpha), v(1-1\\,/\\alpha) \\bigr)^\\intercal$ and\n",
    "* stretched by a factor of $1\\, / \\, \\alpha\\,.$"
   ]
  },
  {
   "cell_type": "markdown",
   "id": "669321d3",
   "metadata": {
    "slideshow": {
     "slide_type": "subslide"
    }
   },
   "source": [
    "Since the stretch factor $1\\,/\\,\\alpha$ is the same for all SAIs, it can be neglected."
   ]
  },
  {
   "cell_type": "markdown",
   "id": "9820916f",
   "metadata": {
    "slideshow": {
     "slide_type": "fragment"
    }
   },
   "source": [
    "Hence, for a recorded light field with typically discrete angular resolution, the integral breaks down to a summation over all properly shifted SAIs."
   ]
  },
  {
   "cell_type": "markdown",
   "id": "2a7f53f4",
   "metadata": {
    "slideshow": {
     "slide_type": "fragment"
    }
   },
   "source": [
    "This is why the procedure is called **shift and add**."
   ]
  },
  {
   "cell_type": "markdown",
   "id": "b3011616",
   "metadata": {
    "slideshow": {
     "slide_type": "subslide"
    }
   },
   "source": [
    "### Extended depth of field"
   ]
  },
  {
   "cell_type": "markdown",
   "id": "09a1e7d8",
   "metadata": {},
   "source": [
    "Apparently, the light field allows to synthesize images of the observed scene focused at different depths."
   ]
  },
  {
   "cell_type": "markdown",
   "id": "232fc362",
   "metadata": {
    "slideshow": {
     "slide_type": "fragment"
    }
   },
   "source": [
    "So how to obtain an image with increased depth of field?"
   ]
  },
  {
   "cell_type": "markdown",
   "id": "f07106a7",
   "metadata": {
    "slideshow": {
     "slide_type": "fragment"
    }
   },
   "source": [
    "Easy: Extract a single sub-aperture image."
   ]
  },
  {
   "cell_type": "markdown",
   "id": "ece7d7d0",
   "metadata": {
    "slideshow": {
     "slide_type": "fragment"
    }
   },
   "source": [
    "Drawback: Corresponds to small aperture (equivalent to stopping down), i.e., less light, leading to increased noise."
   ]
  },
  {
   "cell_type": "markdown",
   "id": "bb1f63ab",
   "metadata": {
    "slideshow": {
     "slide_type": "subslide"
    }
   },
   "source": [
    "Better:\n",
    "* Synthesize stack of images refocused at different depths."
   ]
  },
  {
   "cell_type": "markdown",
   "id": "fbcd13ae",
   "metadata": {
    "slideshow": {
     "slide_type": "fragment"
    }
   },
   "source": [
    "* Fuse images to a single image with increased depth of field (well studied problem, see literature)."
   ]
  },
  {
   "cell_type": "markdown",
   "id": "3c664137",
   "metadata": {
    "slideshow": {
     "slide_type": "subslide"
    }
   },
   "source": [
    "### Visualizing refractive phenomena in transparent media"
   ]
  },
  {
   "cell_type": "markdown",
   "id": "e3dd1f01",
   "metadata": {},
   "source": [
    "Light gets refracted, i.e., its direction of propagation changes, when it passes an interface between two media with different indices of refraction."
   ]
  },
  {
   "cell_type": "markdown",
   "id": "5d70268f",
   "metadata": {
    "slideshow": {
     "slide_type": "subslide"
    }
   },
   "source": [
    "<img src=\"figures/3/refraction.svg\" style=\"max-width:40vw\"><br>"
   ]
  },
  {
   "cell_type": "markdown",
   "id": "79ad2765",
   "metadata": {
    "slideshow": {
     "slide_type": "subslide"
    }
   },
   "source": [
    "According to Snell's law of refraction it is"
   ]
  },
  {
   "cell_type": "markdown",
   "id": "92b291e0",
   "metadata": {},
   "source": [
    "$\n",
    "\\begin{align}\n",
    "    n_1 \\sin \\theta_1 = n_2 \\sin \\theta_2\n",
    "\\end{align}\n",
    "$"
   ]
  },
  {
   "cell_type": "markdown",
   "id": "25d95003",
   "metadata": {
    "slideshow": {
     "slide_type": "notes"
    },
    "tags": [
     "book_only"
    ]
   },
   "source": [
    "With the indices of refraction  $n_1, n_2$  of the first and the second medium, the angle of incidence $\\theta_1$ and the angle $\\theta_2$ of the transmitted refracted light beam."
   ]
  },
  {
   "cell_type": "markdown",
   "id": "c0efd1b4",
   "metadata": {
    "tags": [
     "book_only"
    ]
   },
   "source": [
    "Humans are not able to percieve refractive effects per se but by their optical effect."
   ]
  },
  {
   "cell_type": "markdown",
   "id": "fcbf1aef",
   "metadata": {
    "slideshow": {
     "slide_type": "subslide"
    }
   },
   "source": [
    "#### Schlieren imaging"
   ]
  },
  {
   "cell_type": "markdown",
   "id": "b203851b",
   "metadata": {},
   "source": [
    "Schlieren imaging has been invented by August Toepler in 1864. It maps gradients of the index of refraction to intensity changes of an image."
   ]
  },
  {
   "cell_type": "markdown",
   "id": "f4a99767",
   "metadata": {
    "slideshow": {
     "slide_type": "notes"
    }
   },
   "source": [
    "The name comes from the visual similarity between the observed intensity structures and the German term for smears (e.g. oily  smears on a window)."
   ]
  },
  {
   "cell_type": "markdown",
   "id": "5d2a0615",
   "metadata": {
    "slideshow": {
     "slide_type": "subslide"
    }
   },
   "source": [
    "<img src=\"figures/3/schlieren_gas_turb.png\" style=\"width:40vw\"><br>(Turbulent flow of gas exiting the lighter on the right)"
   ]
  },
  {
   "cell_type": "markdown",
   "id": "b3d2e950",
   "metadata": {
    "slideshow": {
     "slide_type": "subslide"
    }
   },
   "source": [
    "##### Optical setup of Schlieren imaging"
   ]
  },
  {
   "cell_type": "code",
   "execution_count": 12,
   "id": "6c99225c",
   "metadata": {
    "init_cell": true,
    "slideshow": {
     "slide_type": "-"
    }
   },
   "outputs": [
    {
     "data": {
      "application/vnd.jupyter.widget-view+json": {
       "model_id": "83ad3e414ff646bcb473d9309f1f84df",
       "version_major": 2,
       "version_minor": 0
      },
      "text/plain": [
       "interactive(children=(IntSlider(value=4, description='i', max=4), Output()), _dom_classes=('widget-interact',)…"
      ]
     },
     "metadata": {},
     "output_type": "display_data"
    },
    {
     "data": {
      "text/plain": [
       "<function __main__.<lambda>(i)>"
      ]
     },
     "execution_count": 12,
     "metadata": {},
     "output_type": "execute_result"
    }
   ],
   "source": [
    "interact(lambda i: showFig('figures/3/SchlierenPrinciple_',i,'.svg',800,50), i=widgets.IntSlider(min=(min_i:=0),max=(max_i:=4), step=1, value=(max_i if book else min_i)))"
   ]
  },
  {
   "cell_type": "markdown",
   "id": "5a96d4fa",
   "metadata": {
    "slideshow": {
     "slide_type": "-"
    },
    "tags": [
     "book_only"
    ]
   },
   "source": [
    "* Collimated illumination (only parallel rays).\n",
    "* Imaging lens and sensor focused on refractive phenomenon.\n",
    "* Schlieren stop ('knife edge') in focal plane of imaging lens.\n",
    "* Depending on configuration of Schlieren stop, deflection events of different angles are visualized."
   ]
  },
  {
   "cell_type": "markdown",
   "id": "4c382e45",
   "metadata": {
    "slideshow": {
     "slide_type": "subslide"
    }
   },
   "source": [
    "Recall: Spatial filtering in the focal plane of a lens corresponds to angular filtering of the direction of propagation of captured light rays (cf. Chapter 2)."
   ]
  },
  {
   "cell_type": "markdown",
   "id": "dae55135",
   "metadata": {
    "slideshow": {
     "slide_type": "fragment"
    }
   },
   "source": [
    "<img src=\"figures/2/deflectionMeasurement.svg\" style=\"max-height:40vh\">"
   ]
  },
  {
   "cell_type": "markdown",
   "id": "849c6912",
   "metadata": {
    "slideshow": {
     "slide_type": "subslide"
    }
   },
   "source": [
    "Quantitative measurements of the deflection angle $\\alpha$ are only possible if"
   ]
  },
  {
   "cell_type": "markdown",
   "id": "1b8bfc86",
   "metadata": {},
   "source": [
    "$\\begin{align}\n",
    " \\delta_\\alpha > \\frac{1}{2}\\varepsilon\\,, \n",
    "\\end{align}$"
   ]
  },
  {
   "cell_type": "markdown",
   "id": "9747ded5",
   "metadata": {},
   "source": [
    "with $\\varepsilon$ denoting the diameter of the image of the light source."
   ]
  },
  {
   "cell_type": "markdown",
   "id": "e19d56c4",
   "metadata": {
    "slideshow": {
     "slide_type": "subslide"
    }
   },
   "source": [
    "##### Color-coded schlieren"
   ]
  },
  {
   "cell_type": "markdown",
   "id": "b08e4ba1",
   "metadata": {},
   "source": [
    "Instead of using an opaque schlieren stop, a color-wheel can also be employed for encoding the directional information."
   ]
  },
  {
   "cell_type": "markdown",
   "id": "9b30440a",
   "metadata": {
    "slideshow": {
     "slide_type": "subslide"
    }
   },
   "source": [
    "##### Background oriented schlieren"
   ]
  },
  {
   "cell_type": "markdown",
   "id": "71ec3e2d",
   "metadata": {
    "slideshow": {
     "slide_type": "notes"
    }
   },
   "source": [
    "TBD."
   ]
  },
  {
   "cell_type": "markdown",
   "id": "ffc2ed91",
   "metadata": {
    "slideshow": {
     "slide_type": "subslide"
    }
   },
   "source": [
    "Refracting effects can also be visualized by directionally encoding the illumination (see section light field illumination)."
   ]
  },
  {
   "cell_type": "markdown",
   "id": "249ff31c",
   "metadata": {
    "slideshow": {
     "slide_type": "slide"
    }
   },
   "source": [
    "## Light field illumination"
   ]
  },
  {
   "cell_type": "markdown",
   "id": "53b2f713",
   "metadata": {
    "slideshow": {
     "slide_type": "subslide"
    }
   },
   "source": [
    "### Printed light field probes"
   ]
  },
  {
   "cell_type": "markdown",
   "id": "f6d47788",
   "metadata": {
    "tags": [
     "book_only"
    ]
   },
   "source": [
    "Color gradients (in HSI space) printed as hexagonal micro images positioned under an array of hexagonal microlenses at a distance of the lenses' focal length."
   ]
  },
  {
   "cell_type": "markdown",
   "id": "8574f1b5",
   "metadata": {
    "slideshow": {
     "slide_type": "subslide"
    }
   },
   "source": [
    "<img src=\"figures/3/SchlierenLFProbe.svg\" style=\"max-height:40vh\">"
   ]
  },
  {
   "cell_type": "markdown",
   "id": "d6553482",
   "metadata": {
    "slideshow": {
     "slide_type": "subslide"
    }
   },
   "source": [
    "<img src=\"figures/3/schlieren_unicorn.jpg\" style=\"max-height:40vh\"><br>(Kindly provided by Prof. Gordon Wetzstein, Stanford University)"
   ]
  },
  {
   "cell_type": "markdown",
   "id": "d029a61a",
   "metadata": {
    "slideshow": {
     "slide_type": "notes"
    }
   },
   "source": [
    "TBD: Image showing deflected ray of sight hitting LF probe."
   ]
  },
  {
   "cell_type": "markdown",
   "id": "d926ca43",
   "metadata": {
    "slideshow": {
     "slide_type": "subslide"
    }
   },
   "source": [
    "### Light field generation with light field displays"
   ]
  },
  {
   "cell_type": "markdown",
   "id": "833bae53",
   "metadata": {},
   "source": [
    "Instead of using a static printed pattern, employ a display with programmable pixels."
   ]
  },
  {
   "cell_type": "code",
   "execution_count": 13,
   "id": "43ef29db",
   "metadata": {
    "init_cell": true,
    "slideshow": {
     "slide_type": "subslide"
    }
   },
   "outputs": [
    {
     "data": {
      "application/vnd.jupyter.widget-view+json": {
       "model_id": "af37b1a448b243a8b7e291765febd57a",
       "version_major": 2,
       "version_minor": 0
      },
      "text/plain": [
       "interactive(children=(IntSlider(value=4, description='i', max=4, min=1), Output()), _dom_classes=('widget-inte…"
      ]
     },
     "metadata": {},
     "output_type": "display_data"
    },
    {
     "data": {
      "text/plain": [
       "<function __main__.<lambda>(i)>"
      ]
     },
     "execution_count": 13,
     "metadata": {},
     "output_type": "execute_result"
    }
   ],
   "source": [
    "interact(lambda i: showFig('figures/3/lfg_concept_',i,'.svg',800,50), i=widgets.IntSlider(min=(min_i:=1),max=(max_i:=4), step=1, value=(max_i if book else min_i)))"
   ]
  },
  {
   "cell_type": "markdown",
   "id": "79298696",
   "metadata": {
    "slideshow": {
     "slide_type": "subslide"
    }
   },
   "source": [
    "Angle $\\alpha$ of emitted collimated light bundle depends on focal length $f_\\mathrm{ML}$ of microlenses and on the distance $\\delta_\\alpha$ of the activated pixel to the optical axis of the corresponding microlens:"
   ]
  },
  {
   "cell_type": "markdown",
   "id": "716c44d9",
   "metadata": {},
   "source": [
    "$\\begin{align}\n",
    " \\tan(\\alpha) = \\frac{\\delta_\\alpha}{f_{\\mathrm{ML}}}\\,.\n",
    "\\end{align}$"
   ]
  },
  {
   "cell_type": "markdown",
   "id": "4eb7bab2",
   "metadata": {
    "slideshow": {
     "slide_type": "subslide"
    }
   },
   "source": [
    "<img src=\"figures/3/lfg_concept_details.svg\" style=\"max-height:40vh\">"
   ]
  },
  {
   "cell_type": "markdown",
   "id": "3ffb82ed",
   "metadata": {
    "slideshow": {
     "slide_type": "subslide"
    }
   },
   "source": [
    "#### Parameters of a light field display"
   ]
  },
  {
   "cell_type": "markdown",
   "id": "34c43876",
   "metadata": {},
   "source": [
    "Important parameters of a light field display:\n",
    "* Spatial resolution, i.e., numbers $M_\\mathrm{ML}, N_\\mathrm{ML}$ of microlenses in horizontal and vertical direction.\n",
    "* Pitches $s_\\mathrm{h}, s_\\mathrm{v}$ of microlenses in horizontal and vertical direction.\n",
    "* Total ranges of possible angles $\\theta_\\mathrm{t}, \\varphi_\\mathrm{t}$ of collimated light beams in horizontal and vertical direction.\n",
    "* Angular resolution, i.e., numbers $A_\\mathrm{h}, A_\\mathrm{v}$ of independent emission angles in horizontal and vertical direction.\n",
    "* Pitches $\\theta_\\Delta, \\varphi_\\Delta$ of emission angles in horizontal and vertical direction."
   ]
  },
  {
   "cell_type": "markdown",
   "id": "8dcefe89",
   "metadata": {
    "slideshow": {
     "slide_type": "subslide"
    }
   },
   "source": [
    "<img src=\"figures/3/lfg_concept_angRes.svg\" style=\"max-height:40vh\">"
   ]
  },
  {
   "cell_type": "markdown",
   "id": "6d42919b",
   "metadata": {
    "tags": [
     "book_only"
    ]
   },
   "source": [
    "Calculation of $\\theta_\\mathrm{t}, \\varphi_\\mathrm{t}$:\n",
    "$\\begin{align}\n",
    " \\tan\\left( \\frac{\\varphi_\\mathrm{t}}{2} \\right) &= \\frac{d_\\mathrm{ML}}{2} \\cdot \\frac{1}{f_\\mathrm{ML}} \\Leftrightarrow \\\\ \\varphi_\\mathrm{t} &= 2\\cdot \\tan^{-1}\\left( \\frac{d_\\mathrm{ML}}{2} \\cdot \\frac{1}{f_\\mathrm{ML}} \\right) \\,.\n",
    "\\end{align}\n",
    "$"
   ]
  },
  {
   "cell_type": "markdown",
   "id": "2c1f003e",
   "metadata": {
    "tags": [
     "book_only"
    ]
   },
   "source": [
    "Calculation of $A_\\mathrm{h}, A_\\mathrm{v}$:\n",
    "$\\begin{align}\n",
    " A_\\mathrm{h}=\\frac{d_\\mathrm{ML}}{e_\\mathrm{h}},\\quad A_\\mathrm{v}=\\frac{d_\\mathrm{ML}}{e_\\mathrm{v}}\\,\n",
    "\\end{align}\n",
    "$with $e_\\mathrm{h}, e_\\mathrm{v}$ denoting the horizontal and vertical sizes of the pixel elements of the display."
   ]
  },
  {
   "cell_type": "markdown",
   "id": "bb840e73",
   "metadata": {
    "tags": [
     "book_only"
    ]
   },
   "source": [
    "The angular pitches $\\theta_\\Delta, \\varphi_\\Delta$ can be estimated via\n",
    "$\\begin{align}\n",
    "    \\theta_\\Delta \\approx \\frac{\\theta_\\mathrm{t}}{A_\\mathrm{h}},\\quad \\varphi_\\Delta \\approx \\frac{\\varphi_\\mathrm{t}}{A_\\mathrm{v}} \\,.\n",
    "\\end{align}\n",
    "$"
   ]
  },
  {
   "cell_type": "markdown",
   "id": "89b907ad",
   "metadata": {
    "slideshow": {
     "slide_type": "notes"
    },
    "tags": [
     "book_only"
    ]
   },
   "source": [
    "The two recent formulas are only approximations due to the non-linear nature of the tangent function. Indeed, for the dimensions involved in the case of a practical light field display, the errors introduced by these approximations can be neglected."
   ]
  },
  {
   "cell_type": "markdown",
   "id": "56ec3d90",
   "metadata": {
    "slideshow": {
     "slide_type": "subslide"
    }
   },
   "source": [
    "#### Calibration of a light field display"
   ]
  },
  {
   "cell_type": "markdown",
   "id": "651bbe8f",
   "metadata": {},
   "source": [
    "Goal: emit user-defined $L(x,y,\\theta,\\varphi)$."
   ]
  },
  {
   "cell_type": "markdown",
   "id": "8155382e",
   "metadata": {
    "slideshow": {
     "slide_type": "fragment"
    }
   },
   "source": [
    "Question: which pixels of the employed display have to be turned on to emit a light field that matches $L$ as well as possible?"
   ]
  },
  {
   "cell_type": "markdown",
   "id": "ff6ca3f7",
   "metadata": {
    "slideshow": {
     "slide_type": "subslide"
    }
   },
   "source": [
    "$\\Rightarrow\\,$ Calibration needed to obtain a function\n",
    "$\\begin{align}\n",
    "    f_\\mathrm{LF}:(x,y,\\theta,\\varphi)\\mapsto \\mathbf{u}\\,,\n",
    "\\end{align}\n",
    "$"
   ]
  },
  {
   "cell_type": "markdown",
   "id": "af84888f",
   "metadata": {
    "slideshow": {
     "slide_type": "fragment"
    }
   },
   "source": [
    "mapping a requested ray $(x,y,\\theta,\\varphi)$ with $L(x,y,\\theta,\\varphi)>0$ to a display pixel $\\mathbf{u}=(u,v)^\\intercal,\\, u\\in\\left[ 1,\\ldots, U\\right],\\,v\\in\\left[1,\\ldots,V \\right]$ which emits a collimated light bundle providing the best approximation of this ray."
   ]
  },
  {
   "cell_type": "markdown",
   "id": "f1aac3ae",
   "metadata": {
    "slideshow": {
     "slide_type": "subslide"
    }
   },
   "source": [
    "Calibration: Determine central pixel $\\tilde{\\mathbf{u}}_{(x,y)}$ for every spatial position $(x,y)$ of the light field display, i.e., the coordinate of the display pixel corresponding to a collimated light bundle with respect to the microlens covering position $(x,y)$."
   ]
  },
  {
   "cell_type": "markdown",
   "id": "cfcaf560",
   "metadata": {
    "slideshow": {
     "slide_type": "fragment"
    }
   },
   "source": [
    "To emit a requested ray bundle $(x,y,\\theta,\\varphi)$, \n",
    "1. determine the central pixel $\\tilde{\\mathbf{u}}_{(x,y)}$ corresponding to the microlens covering $(x,y)$,\n",
    "2. translate emission angle $(\\theta,\\varphi)$ into pixel offset $\\Delta\\mathbf{u}_{(\\theta,\\varphi)}$ w.r.t. $\\tilde{\\mathbf{u}}_{(x,y)}$ by calculating the corresponding spatial displacement on the plane of the display via $\\tan(\\alpha) = \\frac{\\delta_\\alpha}{f_{\\mathrm{ML}}}$."
   ]
  },
  {
   "cell_type": "markdown",
   "id": "19c55bd2",
   "metadata": {
    "slideshow": {
     "slide_type": "subslide"
    }
   },
   "source": [
    "By this means, $f_\\mathrm{LF}$ can be evaluated:\n",
    "$\\begin{align}\n",
    "f_\\mathrm{LF}(x,y,\\theta,\\varphi)=\\tilde{\\mathbf{u}}_{(x,y)} + \\Delta \\mathbf{u}_{(\\theta,\\varphi)}\\,.\n",
    "\\end{align}$"
   ]
  },
  {
   "cell_type": "markdown",
   "id": "cb2907cd",
   "metadata": {
    "slideshow": {
     "slide_type": "subslide"
    }
   },
   "source": [
    "#### Determination of central pixels"
   ]
  },
  {
   "cell_type": "markdown",
   "id": "c08044be",
   "metadata": {},
   "source": [
    "Calibration setup consisting of \n",
    "* the light field display,\n",
    "* industrial monochrome camera with a telecentric lens \n",
    "    * which is focused at the light field display and \n",
    "    * whose optical axis is arranged as parallel as possible to the optical axes of the light field display's microlenses,\n",
    "* calibration algorithms."
   ]
  },
  {
   "cell_type": "markdown",
   "id": "aef4b0c3",
   "metadata": {
    "slideshow": {
     "slide_type": "subslide"
    }
   },
   "source": [
    "$\\Rightarrow$ Because of the telecentric lens, the camera captures only those light bundles emitted by the light field display that \n",
    "* propagate parallel to the optical axis and \n",
    "* which therefore have to be emitted by central pixels."
   ]
  },
  {
   "cell_type": "markdown",
   "id": "f91585fb",
   "metadata": {
    "slideshow": {
     "slide_type": "fragment"
    }
   },
   "source": [
    "Display two illumination series, encoding the horizontal $u$-coordinate, respectively, the vertical $v$-coordinate."
   ]
  },
  {
   "cell_type": "markdown",
   "id": "9d676a8d",
   "metadata": {
    "slideshow": {
     "slide_type": "subslide"
    }
   },
   "source": [
    "##### Algorithm to determine central pixels"
   ]
  },
  {
   "cell_type": "markdown",
   "id": "ee678b86",
   "metadata": {},
   "source": [
    "$\\mathbf{Function}\\, \\mathrm{acquireCentralPixels}(\\mathtt{camera}, \\mathtt{LFGenerator})$<br><br>\n",
    "$\\quad g_0(\\mathbf{m}) \\leftarrow \\mathtt{camera}.$acquireImage()<br>\n",
    "$\\quad \\mathcal{L} \\leftarrow \\emptyset$<br>\n",
    "$\\quad g_\\mathrm{hor}(\\mathbf{m}) \\leftarrow \\mathtt{emptyImage}(M,N)$<br>\n",
    "$\\quad g_\\mathrm{ver}(\\mathbf{m}) \\leftarrow \\mathtt{emptyImage}(M,N)$<br><br>\n",
    "$\\quad \\mathbf{for}\\, i \\in \\left[1,\\ldots,\\lceil \\mathrm{log}_2(U) \\rceil \\right]:$<br>\n",
    "$\\qquad \\mathcal{U} \\leftarrow \\lbrace u\\in \\left[1,\\ldots,U\\right] : \\mathrm{bin}(u)_i = 1 \\rbrace$<br>\n",
    "$\\qquad \\mathcal{V} \\leftarrow \\left[ 1,\\ldots,V \\right]$<br>\n",
    "$\\qquad \\mathtt{LFGenerator}$.turnOnPixels($\\mathcal{U}\\times \\mathcal{V}$)<br>\n",
    "$\\qquad g(\\mathbf{m}) \\leftarrow \\mathtt{camera}.$acquireImage() $-\\ g_0(\\mathbf{m})$<br>\n",
    "$\\qquad \\mathrm{bin}(g_\\mathrm{hor}(\\mathbf{m}))_i = \\begin{cases} 1 &\\mathrm{if}\\ g(\\mathbf{m}) > t, \\\\ 0 & \\mathrm{otherwise}\\end{cases}$<br><br>\n",
    "$\\quad \\mathbf{for} \\, i \\in \\left[1,\\ldots,\\lceil \\mathrm{log}_2(V) \\rceil \\right]$<br>\n",
    "$\\qquad \\mathcal{U} \\leftarrow \\left[ 1,\\ldots,U \\right]$<br>\n",
    "$\\qquad \\mathcal{V} \\leftarrow \\lbrace v\\in \\left[1,\\ldots,V\\right] : \\mathrm{bin}(v)_i = 1 \\rbrace$<br>\n",
    "$\\qquad \\mathtt{LFGenerator}$.turnOnPixels($\\mathcal{U}\\times \\mathcal{V}$)<br>\n",
    "$\\qquad g(\\mathbf{m}) \\leftarrow \\mathtt{camera}.$acquireImage() $-\\ g_0(\\mathbf{m})$<br>\n",
    "$\\qquad \\mathrm{bin}(g_\\mathrm{ver}(\\mathbf{m}))_i = \\begin{cases} 1 &\\mathrm{if}\\ g(\\mathbf{m}) > t, \\\\ 0 & \\mathrm{otherwise}\\end{cases}$<br><br>\n",
    "$\\quad \\mathcal{L} = \\lbrace \\left(g_\\mathrm{hor}(\\mathbf{m}), g_\\mathrm{ver}(\\mathbf{m})\\right)^\\intercal, \\mathbf{m}\\in \\left[1,\\ldots,M\\right] \\times \\left[1,\\ldots,N\\right] \\rbrace$<br><br>\n",
    "$\\quad \\textbf{return}\\,  \\mathcal{L}$"
   ]
  },
  {
   "cell_type": "markdown",
   "id": "9b07c4a4",
   "metadata": {
    "slideshow": {
     "slide_type": "notes"
    },
    "tags": [
     "remove-cell"
    ]
   },
   "source": [
    "TODO: Maybe add Christian's more elaborated methods as well."
   ]
  },
  {
   "cell_type": "markdown",
   "id": "b228d8c4",
   "metadata": {
    "slideshow": {
     "slide_type": "subslide"
    }
   },
   "source": [
    "#### Light field display prototypes"
   ]
  },
  {
   "cell_type": "markdown",
   "id": "3a1d9918",
   "metadata": {
    "slideshow": {
     "slide_type": "subslide"
    }
   },
   "source": [
    "##### Prototype 1"
   ]
  },
  {
   "cell_type": "markdown",
   "id": "7fabd3d4",
   "metadata": {},
   "source": [
    "* Based on Sony Xperia Z5 Premium smartphone.\n",
    "* Spatial resolution of $2160 \\times 3840$ pixels.\n",
    "* Array of $100 \\times 100$ microlenses with $f_\\mathrm{ML}=3000\\,µ\\mathrm{m}$ and $d_\\mathrm{ML}=645\\,µ\\mathrm{m}$ by Fraunhofer-IOF."
   ]
  },
  {
   "cell_type": "markdown",
   "id": "8f98e521",
   "metadata": {},
   "source": [
    "* Spatial resolution of $100 \\times 100$ with pitches $s_\\mathrm{h}=s_\\mathrm{v}=650\\,\\mathrm{µm}$,\n",
    "* total ranges of possible angles $\\theta_\\mathrm{t}=\\varphi_\\mathrm{t}\\approx 12.27^\\circ$,\n",
    "* angular resolution of $A_\\mathrm{h}=A_\\mathrm{v}=10$ with pitches $\\theta_\\Delta=\\varphi_\\Delta\\approx 1.23^\\circ$, since approximately $10\\times 10$ display pixels fit under one microlens."
   ]
  },
  {
   "cell_type": "markdown",
   "id": "4e776755",
   "metadata": {
    "slideshow": {
     "slide_type": "subslide"
    }
   },
   "source": [
    "<img src=\"figures/3/lfgPhoto.svg\" style=\"max-height:40vh\">"
   ]
  },
  {
   "cell_type": "markdown",
   "id": "3efdfd98",
   "metadata": {
    "slideshow": {
     "slide_type": "subslide"
    }
   },
   "source": [
    "##### Experiments"
   ]
  },
  {
   "cell_type": "markdown",
   "id": "e1fd933f",
   "metadata": {},
   "source": [
    "Camera images of light field display for different requested light fields and observation directions."
   ]
  },
  {
   "cell_type": "markdown",
   "id": "41fd488a",
   "metadata": {
    "slideshow": {
     "slide_type": "fragment"
    }
   },
   "source": [
    "<img src=\"figures/3/lfgCalibResults.svg\" style=\"max-height:40vh\">"
   ]
  },
  {
   "cell_type": "markdown",
   "id": "48045351",
   "metadata": {
    "slideshow": {
     "slide_type": "subslide"
    }
   },
   "source": [
    "#### Telecentric light field illumination"
   ]
  },
  {
   "cell_type": "markdown",
   "id": "01169b1c",
   "metadata": {},
   "source": [
    "A special case of light field display: only one lens (no array) and many display pixels."
   ]
  },
  {
   "cell_type": "markdown",
   "id": "b00aaeef",
   "metadata": {
    "slideshow": {
     "slide_type": "fragment"
    }
   },
   "source": [
    "<img src=\"figures/3/telecentricLFIllumination.svg\" style=\"max-height:40vh\">"
   ]
  },
  {
   "cell_type": "markdown",
   "id": "0c40fef4",
   "metadata": {
    "slideshow": {
     "slide_type": "subslide"
    }
   },
   "source": [
    "$\\Rightarrow$ no spatial resolution, maximum angular resolution."
   ]
  },
  {
   "cell_type": "markdown",
   "id": "26640644",
   "metadata": {
    "slideshow": {
     "slide_type": "fragment"
    }
   },
   "source": [
    "For illumination purposes, large fresnel lenses can be employed, resulting in a big illuminated volume."
   ]
  },
  {
   "cell_type": "markdown",
   "id": "10a09fea",
   "metadata": {
    "slideshow": {
     "slide_type": "slide"
    }
   },
   "source": [
    "## Light field acquisition for industrial applications"
   ]
  },
  {
   "cell_type": "markdown",
   "id": "687b1b6f",
   "metadata": {},
   "source": [
    "For industrial applications, the possibilities of refocusing or extended depths of field shown before might also be of interest, however, even more information about the observed scene can be acquired, e.g., that can be exploited for visual inspection tasks."
   ]
  },
  {
   "cell_type": "markdown",
   "id": "f0f1d3e9",
   "metadata": {
    "slideshow": {
     "slide_type": "subslide"
    }
   },
   "source": [
    "### Light deflection maps"
   ]
  },
  {
   "cell_type": "markdown",
   "id": "f929b979",
   "metadata": {},
   "source": [
    "Light fields employed for the visual inspection of transparent objects are called **light deflection maps**. They are acquired via illuminating the test object from one side with collimated light and acquiring the light field exiting the test object on the other side."
   ]
  },
  {
   "cell_type": "code",
   "execution_count": 14,
   "id": "e242ab71",
   "metadata": {
    "init_cell": true,
    "slideshow": {
     "slide_type": "subslide"
    }
   },
   "outputs": [
    {
     "data": {
      "application/vnd.jupyter.widget-view+json": {
       "model_id": "f68b0c1532e6453b881e6a0c6f3b6e0d",
       "version_major": 2,
       "version_minor": 0
      },
      "text/plain": [
       "interactive(children=(IntSlider(value=4, description='i', max=4), Output()), _dom_classes=('widget-interact',)…"
      ]
     },
     "metadata": {},
     "output_type": "display_data"
    },
    {
     "data": {
      "text/plain": [
       "<function __main__.<lambda>(i)>"
      ]
     },
     "execution_count": 14,
     "metadata": {},
     "output_type": "execute_result"
    }
   ],
   "source": [
    "interact(lambda i: showFig('figures/3/deflectionMapAcquisition_',i,'.svg',80,50), i=widgets.IntSlider(min=(min_i:=0),max=(max_i:=4), step=1, value=(max_i if book else min_i)))"
   ]
  },
  {
   "cell_type": "markdown",
   "id": "3fedf5e8",
   "metadata": {
    "tags": [
     "book_only"
    ]
   },
   "source": [
    "* Refraction at defect-free positions of the test object $\\Rightarrow$ concentrated, shifted peak in the corresponding deflection map.\n",
    "* Scattering material defect $\\Rightarrow$ light is scattered into multiple directions $\\Rightarrow$ deflection map with broad intensity distribution without distinct peak."
   ]
  },
  {
   "cell_type": "markdown",
   "id": "2ce36a31",
   "metadata": {
    "slideshow": {
     "slide_type": "subslide"
    }
   },
   "source": [
    "Example deflection maps for a cylindrical lens:"
   ]
  },
  {
   "cell_type": "code",
   "execution_count": 15,
   "id": "b4f14692",
   "metadata": {
    "init_cell": true,
    "slideshow": {
     "slide_type": "-"
    }
   },
   "outputs": [
    {
     "data": {
      "application/vnd.jupyter.widget-view+json": {
       "model_id": "6bab4529d7f44c229b8dc4683b7b838e",
       "version_major": 2,
       "version_minor": 0
      },
      "text/plain": [
       "interactive(children=(IntSlider(value=3, description='i', max=3, min=1), Output()), _dom_classes=('widget-inte…"
      ]
     },
     "metadata": {},
     "output_type": "display_data"
    },
    {
     "data": {
      "text/plain": [
       "<function __main__.<lambda>(i)>"
      ]
     },
     "execution_count": 15,
     "metadata": {},
     "output_type": "execute_result"
    }
   ],
   "source": [
    "interact(lambda i: showFig('figures/3/exampleDeflMap_',i,'.svg',800,50), i=widgets.IntSlider(min=(min_i:=1),max=(max_i:=3), step=1, value=(max_i if book else min_i)))"
   ]
  },
  {
   "cell_type": "markdown",
   "id": "de7787a1",
   "metadata": {
    "slideshow": {
     "slide_type": "subslide"
    }
   },
   "source": [
    "Similar to a digital light field $L$, a deflection map is defined as the four-dimensional structure\n",
    "$\\begin{align}\n",
    "    a(\\mathbf{m},\\mathbf{j}),\\,\\mathbf{m}=(m,n)^\\intercal,\\,\\mathbf{j}=(j,k)^\\intercal,\n",
    "\\end{align}\n",
    "$\n",
    "    \n",
    "$\\begin{align}\n",
    "    (m,n) \\in \\Omega_\\mathrm{s} &= \\lbrace 1,2,\\ldots, M \\rbrace \\times \\lbrace 1,2,\\ldots,N\\rbrace \\subset \\mathbb{Z}^2\\\\\n",
    "    (j,k) \\in \\Omega_\\mathrm{a} &= \\lbrace 1,2,\\ldots, J \\rbrace \\times \\lbrace 1,2,\\ldots,K\\rbrace \\subset \\mathbb{Z}^2\\,,\\\\\n",
    "\\end{align}\n",
    "$\n",
    "composed of two discrete spatial coordinates $(m,n)^\\intercal$ and two discrete angular coordinates $(j,k)^\\intercal$ with a spatial domain $\\Omega_\\mathrm{s}$ and an angular domain $\\Omega_\\mathrm{a}$."
   ]
  },
  {
   "cell_type": "markdown",
   "id": "6b208ab8",
   "metadata": {
    "slideshow": {
     "slide_type": "subslide"
    }
   },
   "source": [
    "### Light field camera for industrial applications"
   ]
  },
  {
   "cell_type": "markdown",
   "id": "045857b5",
   "metadata": {
    "slideshow": {
     "slide_type": "subslide"
    }
   },
   "source": [
    "##### Problems with conventional light field cameras"
   ]
  },
  {
   "cell_type": "markdown",
   "id": "5676cc30",
   "metadata": {},
   "source": [
    "Non-uniform correspondence between captured deflection direction and relative pixel positions $(j,k)^\\intercal$ under a microlens."
   ]
  },
  {
   "cell_type": "markdown",
   "id": "eba291fe",
   "metadata": {
    "slideshow": {
     "slide_type": "fragment"
    }
   },
   "source": [
    "<img src=\"figures/3/lfCameraNoDeflectionMeasurement.svg\" style=\"max-height:40vh\">"
   ]
  },
  {
   "cell_type": "markdown",
   "id": "fd5cd499",
   "metadata": {
    "slideshow": {
     "slide_type": "subslide"
    }
   },
   "source": [
    "Two collimated light rays are deflected upwards by $\\alpha$ at different points $\\mathbf{p}^\\mathrm{c}, \\mathbf{p}'^\\mathrm{c}$. Although they are deflected by the same angle, they hit the sensor with different displacements $\\delta_\\alpha \\neq \\delta'_\\alpha$ with respect to the projected center of the corresponding microlenses."
   ]
  },
  {
   "cell_type": "markdown",
   "id": "901ba295",
   "metadata": {},
   "source": [
    "$\\Rightarrow$ This problem can be mitigated by employing a $4f$-light field camera."
   ]
  },
  {
   "cell_type": "markdown",
   "id": "38bfeaa4",
   "metadata": {
    "slideshow": {
     "slide_type": "subslide"
    }
   },
   "source": [
    "#### $4f$-light field camera"
   ]
  },
  {
   "cell_type": "markdown",
   "id": "b5343221",
   "metadata": {},
   "source": [
    "Extend the optical setup by adding a second lens."
   ]
  },
  {
   "cell_type": "markdown",
   "id": "bc5e1cd1",
   "metadata": {
    "slideshow": {
     "slide_type": "fragment"
    }
   },
   "source": [
    "<img src=\"figures/3/4f_lfCamera.svg\" style=\"max-height:40vh\">"
   ]
  },
  {
   "cell_type": "markdown",
   "id": "6cb391b3",
   "metadata": {
    "slideshow": {
     "slide_type": "subslide"
    }
   },
   "source": [
    "Both lenses share a common focal plane and the plane of focus has a distance of $2\\cdot f_\\mathrm{L1} + 2\\cdot f_\\mathrm{L2}$ from the microlens array which is why the setup is called a $4f$-light field camera."
   ]
  },
  {
   "cell_type": "markdown",
   "id": "84ec7d40",
   "metadata": {},
   "source": [
    "In this setup, all collimated rays deflected by the same angle $\\alpha$ are mapped to the same relative sensor position regardless of lateral position of the deflection event in the measurement field."
   ]
  },
  {
   "cell_type": "markdown",
   "id": "e3ed0e6e",
   "metadata": {
    "slideshow": {
     "slide_type": "subslide"
    }
   },
   "source": [
    "### Schlieren deflectometer"
   ]
  },
  {
   "cell_type": "markdown",
   "id": "ccc8437b",
   "metadata": {},
   "source": [
    "Illuminate the test object with several collimated light bundles tilted by different angles with respect to the optical axis in a time-sequential manner. Observe the light rays defleclected by the object with a telecentric camera."
   ]
  },
  {
   "cell_type": "markdown",
   "id": "349a1a6b",
   "metadata": {
    "slideshow": {
     "slide_type": "fragment"
    }
   },
   "source": [
    "<img src=\"figures/3/SchlierenDeflectometer.svg\" style=\"max-height:40vh\">"
   ]
  },
  {
   "cell_type": "markdown",
   "id": "54066474",
   "metadata": {
    "tags": [
     "book_only"
    ]
   },
   "source": [
    "The illumination is realized by placing a two-dimensional programmable light source in the focal plane of a collimating lens."
   ]
  },
  {
   "cell_type": "markdown",
   "id": "961f3d03",
   "metadata": {
    "tags": [
     "book_only"
    ]
   },
   "source": [
    "Turning on a pixel of the programmalbe light source with distance $\\delta_\\alpha$ to the optical axis leads to a collimated light bundle tilted by $\\alpha = \\mathrm{tan}^{-1} \\left( \\frac{\\delta_\\alpha}{f_\\mathrm{L}} \\right)$ with respect to the optical axis."
   ]
  },
  {
   "cell_type": "markdown",
   "id": "85972a11",
   "metadata": {
    "tags": [
     "book_only"
    ]
   },
   "source": [
    "Rays getting deflected in the measurement field so that they propagate parallel to the optical axis will pass the telecentric stop of the telecentric camera and contribute to the acquired image."
   ]
  },
  {
   "cell_type": "markdown",
   "id": "e4e84589",
   "metadata": {
    "tags": [
     "book_only"
    ]
   },
   "source": [
    "Capturing an image for a single active pixel of the light source corresponds to capturing a two-dimensional $(j,k)$-slice of the deflection map $a(m,n,j,k)$ with $(j,k)$ corresponding to the position of the active pixel (i.e., to the tilt angle of the collimated light beam)."
   ]
  },
  {
   "cell_type": "markdown",
   "id": "f22827a3",
   "metadata": {
    "slideshow": {
     "slide_type": "subslide"
    }
   },
   "source": [
    "Example deflection maps of a double-convex lens acquired with a schlieren deflectometer:"
   ]
  },
  {
   "cell_type": "markdown",
   "id": "6e636e21",
   "metadata": {
    "slideshow": {
     "slide_type": "-"
    }
   },
   "source": [
    "<img src=\"figures/3/exampleImageSchlierenDeflectometer.svg\" style=\"max-height:40vh\">"
   ]
  },
  {
   "cell_type": "markdown",
   "id": "69c6ca90",
   "metadata": {
    "slideshow": {
     "slide_type": "subslide"
    }
   },
   "source": [
    "### Laser deflection scanner"
   ]
  },
  {
   "cell_type": "code",
   "execution_count": 16,
   "id": "ec145648",
   "metadata": {
    "init_cell": true,
    "slideshow": {
     "slide_type": "-"
    }
   },
   "outputs": [
    {
     "data": {
      "application/vnd.jupyter.widget-view+json": {
       "model_id": "93d42f05d40b4d5e8f5d4cd541aa7ca2",
       "version_major": 2,
       "version_minor": 0
      },
      "text/plain": [
       "interactive(children=(IntSlider(value=3, description='i', max=3, min=1), Output()), _dom_classes=('widget-inte…"
      ]
     },
     "metadata": {},
     "output_type": "display_data"
    },
    {
     "data": {
      "text/plain": [
       "<function __main__.<lambda>(i)>"
      ]
     },
     "execution_count": 16,
     "metadata": {},
     "output_type": "execute_result"
    }
   ],
   "source": [
    "interact(lambda i: showFig('figures/3/LightfieldLaserScannerWithObject_',i,'.svg',800,50), i=widgets.IntSlider(min=(min_i:=1),max=(max_i:=3), step=1, value=(max_i if book else min_i)))"
   ]
  },
  {
   "cell_type": "markdown",
   "id": "916a3a6a",
   "metadata": {
    "tags": [
     "book_only"
    ]
   },
   "source": [
    "The laser deflection scanner consists of two components:"
   ]
  },
  {
   "cell_type": "markdown",
   "id": "d239f770",
   "metadata": {
    "tags": [
     "book_only"
    ]
   },
   "source": [
    "* Emitter: Illuminates the measurement field with parallel laser beams in a time-sequential manner."
   ]
  },
  {
   "cell_type": "markdown",
   "id": "c014e9a3",
   "metadata": {
    "tags": [
     "book_only"
    ]
   },
   "source": [
    "* Receiver: Two-dimensional detector array positioned in focal plane of lens or parabolic mirror, transforming angular information into spatial information."
   ]
  },
  {
   "cell_type": "markdown",
   "id": "7c509837",
   "metadata": {
    "tags": [
     "book_only"
    ]
   },
   "source": [
    "Laser beams deflected by an angle $\\alpha$ in the measurement field hit the detector at a distance of $\\delta_\\alpha=f_\\mathrm{L}\\cdot \\tan(\\alpha)$ from the optical axis."
   ]
  },
  {
   "cell_type": "markdown",
   "id": "ac03579c",
   "metadata": {
    "tags": [
     "book_only"
    ]
   },
   "source": [
    "In every acquisition step, a single point on the object is illuminated by the laser beam and the deflections of the light rays transmitted through the object are measured."
   ]
  },
  {
   "cell_type": "markdown",
   "id": "c2cebdeb",
   "metadata": {
    "slideshow": {
     "slide_type": "subslide"
    }
   },
   "source": [
    "Example deflection maps of a washing machine door glass acquired with a laser deflection scanner:"
   ]
  },
  {
   "cell_type": "markdown",
   "id": "fc94b483",
   "metadata": {
    "slideshow": {
     "slide_type": "-"
    }
   },
   "source": [
    "<img src=\"figures/3/exampleImageLaserDeflectionScanner.svg\" style=\"max-height:40vh\">"
   ]
  },
  {
   "cell_type": "markdown",
   "id": "3bdf8421",
   "metadata": {
    "slideshow": {
     "slide_type": "slide"
    }
   },
   "source": [
    "## Light field processing for industrial applications"
   ]
  },
  {
   "cell_type": "markdown",
   "id": "66f12d4c",
   "metadata": {
    "slideshow": {
     "slide_type": "subslide"
    }
   },
   "source": [
    "### Deflection map processing for transparent object inspection"
   ]
  },
  {
   "cell_type": "markdown",
   "id": "373f1bd1",
   "metadata": {},
   "source": [
    "Recall: Deflection maps of spatially adjacent measurement points\n",
    "* are only slightly shifted for defect-free object positions,\n",
    "* show strong discontinuities for material defects."
   ]
  },
  {
   "cell_type": "markdown",
   "id": "7a8160a8",
   "metadata": {
    "slideshow": {
     "slide_type": "subslide"
    }
   },
   "source": [
    "<img src=\"figures/3/deflectionMapAcquisition_4.svg\" style=\"max-height:40vh\">"
   ]
  },
  {
   "cell_type": "markdown",
   "id": "59efcd18",
   "metadata": {
    "slideshow": {
     "slide_type": "subslide"
    }
   },
   "source": [
    "$\\Rightarrow$ Approch: Calculate gradient of deflection maps with respect to the spatial coordinates."
   ]
  },
  {
   "cell_type": "markdown",
   "id": "2369eac7",
   "metadata": {
    "slideshow": {
     "slide_type": "subslide"
    }
   },
   "source": [
    "Classical gradient formulation for gray value images $g(\\mathbf{x}), \\mathbf{x}=(x,y)^\\intercal$:\n",
    "$\\begin{align}\n",
    "    \\mathrm{grad}\\, g(\\mathbf{x}) = \\begin{pmatrix} \n",
    "        \\frac{\\partial g(\\mathbf{x})}{\\partial y} \\\\\n",
    "        \\frac{\\partial g(\\mathbf{x})}{\\partial x} \n",
    "    \\end{pmatrix}\\,.\n",
    "\\end{align}$"
   ]
  },
  {
   "cell_type": "markdown",
   "id": "73f6b9af",
   "metadata": {
    "slideshow": {
     "slide_type": "fragment"
    }
   },
   "source": [
    "The gradient can be approximated by means of the so-called **symmetric difference quotient**:\n",
    "$\\begin{align}\n",
    "    \\mathrm{grad}\\, g(\\mathbf{x}) \\approx \\begin{pmatrix} \n",
    "        \\frac{g(x+1, y) - g(x-1,y)}{2} \\\\\n",
    "        \\frac{g(x,y+1) - g(x,y-1)}{2} \n",
    "    \\end{pmatrix}\\,.\n",
    "\\end{align}$"
   ]
  },
  {
   "cell_type": "markdown",
   "id": "58de444f",
   "metadata": {
    "slideshow": {
     "slide_type": "fragment"
    }
   },
   "source": [
    "Problem: This can not be directly applied for deflection maps since they are no scalar gray values but two-dimensional structures."
   ]
  },
  {
   "cell_type": "markdown",
   "id": "a5b5db4a",
   "metadata": {
    "slideshow": {
     "slide_type": "subslide"
    }
   },
   "source": [
    "$\\Rightarrow$ Generalize the gradient approximation:\n",
    "$\\begin{align}\n",
    "    \\mathrm{grad}\\, f(\\mathbf{x}) \\approx \\frac{1}{2} \\begin{pmatrix} \n",
    "        d \\lbrace f(x+1, y), f(x-1,y)\\rbrace \\\\\n",
    "        d \\lbrace f(x, y+1), f(x,y-1)\\rbrace  \n",
    "    \\end{pmatrix}\\,,\n",
    "\\end{align}$\n",
    "with $d\\lbrace \\cdot, \\cdot \\rbrace$ representing a suitable distance function and $f(\\mathbf{x})$ an arbitrary function."
   ]
  },
  {
   "cell_type": "markdown",
   "id": "ef101437",
   "metadata": {
    "slideshow": {
     "slide_type": "fragment"
    }
   },
   "source": [
    "For the application to a deflection map $a(\\mathbf{m}, \\mathbf{j})$, this turns to\n",
    "$\\begin{align}\n",
    "    \\mathrm{grad}_\\mathbf{m}\\, a(\\mathbf{m},\\cdot) \\approx \\begin{pmatrix} \n",
    "        d \\lbrace a( ( m+1,n)^\\intercal, \\cdot ), a((m-1,n)^\\intercal,\\cdot) \\rbrace \\\\\n",
    "        d \\lbrace a( ( m,n+1)^\\intercal, \\cdot ), a((m,n-1)^\\intercal,\\cdot) \\rbrace  \n",
    "    \\end{pmatrix}\\,.\n",
    "\\end{align}$"
   ]
  },
  {
   "cell_type": "markdown",
   "id": "2d411b21",
   "metadata": {
    "slideshow": {
     "slide_type": "subslide"
    }
   },
   "source": [
    "Here, the distance function $d\\lbrace \\cdot, \\cdot \\rbrace$ hast to process two two-dimensional intensity distributions, i.e.,\n",
    "$\\begin{align}\n",
    "    d \\lbrace a(\\mathbf{m}_1,\\cdot), a(\\mathbf{m}_2,\\cdot)\\rbrace : \\left( \\Omega_\\mathrm{a} \\rightarrow \\mathcal{Q} \\right)^2 \\rightarrow \\mathbb{R}\\,,\n",
    "\\end{align}$\n",
    "with $\\Omega_\\mathrm{a}$ denoting the angular domain and $\\mathcal{Q}$ the quantized intensity values."
   ]
  },
  {
   "cell_type": "markdown",
   "id": "62e5b9e4",
   "metadata": {
    "slideshow": {
     "slide_type": "fragment"
    }
   },
   "source": [
    "The angular components can be interpreted as distributions of deflection angles.\n",
    "\n",
    "$\\Rightarrow$ Distance functions for two-dimensional histograms represent promising choices for $d\\lbrace \\cdot, \\cdot \\rbrace$."
   ]
  },
  {
   "cell_type": "markdown",
   "id": "8d013027",
   "metadata": {
    "slideshow": {
     "slide_type": "fragment"
    }
   },
   "source": [
    "After calculation of $d$, further processing can be applied to $\\Vert \\mathrm{grad}_\\mathbf{m} a(\\mathbf{m},\\cdot)\\Vert$, which represents a scalar value (i.e., resembling a gray value image)."
   ]
  },
  {
   "cell_type": "markdown",
   "id": "f7722fa2",
   "metadata": {
    "slideshow": {
     "slide_type": "subslide"
    }
   },
   "source": [
    "#### Requirements for suitable distance functions $d\\lbrace \\cdot, \\cdot \\rbrace$"
   ]
  },
  {
   "cell_type": "markdown",
   "id": "86b78bb1",
   "metadata": {},
   "source": [
    "1. **Sensitivity to strong shifts of peaks**\n",
    "\n",
    "2. **Sensitivity to spreadings of peaks**\n",
    "\n",
    "3. **Sensitivity to intensity differences**\n",
    "\n",
    "4. **Robustness against small variations**\n",
    "\n",
    "5. **Low computational complexity**"
   ]
  },
  {
   "cell_type": "markdown",
   "id": "401d9c33",
   "metadata": {
    "slideshow": {
     "slide_type": "fragment"
    }
   },
   "source": [
    "Promising choices: *Earth Mover's Distance* and *Generalized Cramér-von Mises Distance* (we will cover only the latter one)."
   ]
  },
  {
   "cell_type": "markdown",
   "id": "b2af1fb6",
   "metadata": {
    "slideshow": {
     "slide_type": "subslide"
    }
   },
   "source": [
    "#### Generalized Cramér-von Mises Distance"
   ]
  },
  {
   "cell_type": "markdown",
   "id": "fd4b01d0",
   "metadata": {},
   "source": [
    "* It is often necessary to calculate a distance measure between two random vectors, respectively, between their corresponding probability density functions to assess their similarity."
   ]
  },
  {
   "cell_type": "markdown",
   "id": "eace05a0",
   "metadata": {
    "slideshow": {
     "slide_type": "fragment"
    }
   },
   "source": [
    "* Cumulative distributions are only well-defined for one-dimensional random vectors - the angular components of deflection maps are two-dimensional."
   ]
  },
  {
   "cell_type": "markdown",
   "id": "4ba8add7",
   "metadata": {
    "slideshow": {
     "slide_type": "fragment"
    }
   },
   "source": [
    "* Use so-called *localized cumulative distributions (LCDs)* to formulate the so-called *Generalized Cramér-von Mises Distance (CMD)* as introduced by Hanebeck et al."
   ]
  },
  {
   "cell_type": "markdown",
   "id": "2acd5f9a",
   "metadata": {
    "slideshow": {
     "slide_type": "subslide"
    }
   },
   "source": [
    "##### Localized cumulative distributions"
   ]
  },
  {
   "cell_type": "markdown",
   "id": "e73e537c",
   "metadata": {},
   "source": [
    "* Let $\\mathbf{\\tilde{x}} \\in \\mathbb{R}^N, N\\in \\mathbb{N}$ be a random vector,\n",
    "* let $f:\\mathbb{R}^N \\rightarrow \\mathbb{R}_+$ denote the corresponding probability density function."
   ]
  },
  {
   "cell_type": "markdown",
   "id": "39e54afc",
   "metadata": {},
   "source": [
    "The respective LCD $F(\\mathbf{x},\\mathbf{b})$ is defined as:<br>\n",
    "$\\begin{align}\n",
    "    F(\\mathbf{x},\\mathbf{b}) := P(\\vert \\mathbf{\\tilde{x}}-\\mathbf{x}\\vert \\leq \\mathbf{b}), \\\\\n",
    "    F(\\cdot,\\cdot):\\Omega \\rightarrow \\left[ 0,1 \\right] \\,, \\\\\n",
    "\t\\Omega \\subset \\mathbb{R}^N \\times \\mathbb{R}^N_+ , \\ \\mathbf{b} \\in \\mathbb{R}^N_+ \\,,\n",
    "\\end{align}$\n",
    "with $\\mathbf{x} \\leq \\mathbf{y},\\, \\mathbf{x},\\mathbf{y} \\in \\mathbb{R}^N_+$ representing a component-wise relation that holds only if $\\forall j\\in \\left[ 1,\\ldots, N \\right]:x_j \\leq y_j\\, $."
   ]
  },
  {
   "cell_type": "markdown",
   "id": "090d87b2",
   "metadata": {
    "slideshow": {
     "slide_type": "subslide"
    }
   },
   "source": [
    "The LCD $F(\\mathbf{x},\\mathbf{b})$ can be calculated via:\n",
    "$\\begin{align}\n",
    "    F(\\mathbf{x},\\mathbf{b}) = \n",
    "\t\\begin{cases}\n",
    "\t\t\\int\\limits^{\\mathbf{x}+\\mathbf{b}}_{\\mathbf{x}-\\mathbf{b}} f(\\mathbf{t})\\mathrm{d} \\mathbf{t} &,\\ \\mathrm{if\\ } \\mathbf{\\tilde{x}} \\mathrm{\\  continuous,} \\\\ \n",
    "\t\t\\sum\\limits^{\\min \\lbrace \\mathbf{x}_\\mathrm{max},\\, \\mathbf{x} + \\mathbf{b}  \\rbrace}_{\\mathbf{t}=\\max \\lbrace \\mathbf{0},\\, \\mathbf{x} - \\mathbf{b}  \\rbrace} f(\\mathbf{t}) &,\\ \\mathrm{if\\ } \\mathbf{\\tilde{x}} \\mathrm{\\  discrete,}\n",
    "\t\\end{cases}\n",
    "\\end{align}\n",
    "$"
   ]
  },
  {
   "cell_type": "markdown",
   "id": "b8d6328c",
   "metadata": {
    "slideshow": {
     "slide_type": "-"
    }
   },
   "source": [
    "with $\\mathbf{x}_\\mathrm{max}$ denoting the upper limit of the domain of $\\mathbf{\\tilde{x}}$, $\\max \\lbrace \\mathbf{x} \\rbrace$, $\\min \\lbrace \\mathbf{x} \\rbrace$ denoting element-wise maximum and minimum operators and $\\mathbf{0}=(0,\\ldots,0)^\\intercal$ denoting the zero vector.<br>(Note: since deflection maps represent discrete variables, only the discrete case will be considered from now on)"
   ]
  },
  {
   "cell_type": "markdown",
   "id": "fb424f21",
   "metadata": {
    "slideshow": {
     "slide_type": "subslide"
    }
   },
   "source": [
    "##### Generalized Cramér-von Mises Distance"
   ]
  },
  {
   "cell_type": "markdown",
   "id": "c1a05e8a",
   "metadata": {},
   "source": [
    "Let $\\stochvec{x}, \\stochvec{y} \\in \\mathbb{R}^N, N\\in \\mathbb{N}$ be two random vectors, let $f(\\mathbf{x}),h(\\mathbf{x})$ be their corresponding probability density functions and let $F(\\mathbf{x},\\mathbf{b}), H(\\mathbf{x},\\mathbf{b})$ denote their LCDs (as defined previously)."
   ]
  },
  {
   "cell_type": "markdown",
   "id": "adbee49e",
   "metadata": {},
   "source": [
    "For the continuous case, the CMD of $f(\\mathbf{x})$ and $h(\\mathbf{x})$ is given by:\n",
    "$\\begin{align}\n",
    "\t\\text{CMD}(f,h) := \\int\\limits_{\\mathbb{R}^N}\\int\\limits_{\\mathbb{R}^N_+} \\left( F(\\mathbf{x},\\mathbf{b}) - H(\\mathbf{x},\\mathbf{b}) \\right)^2 \\mathrm{d} \\mathbf{b} \\mathrm{d} \\mathbf{x} \\,.\n",
    "\\end{align}$"
   ]
  },
  {
   "cell_type": "markdown",
   "id": "2d257fc6",
   "metadata": {
    "slideshow": {
     "slide_type": "subslide"
    }
   },
   "source": [
    "For discrete random vectors, the integrals turn into summations yielding:\n",
    "$\\begin{align}\n",
    "\t\\text{CMD}(f,h) = \\sum\\limits_{\\mathbf{x}\\in \\Omega} \\limits \\sum\\limits^{b_\\mathrm{max}}_{b=0} \\left( F(\\mathbf{x},(b,\\ldots,b)\\transp) - H(\\mathbf{x},(b,\\ldots,b)\\transp) \\right)^2 \\,,\n",
    "\\end{align}$\n",
    "with $\\Omega$ denoting the domain of the probability density functions and $b_\\mathrm{max}$ representing the absolute maximum component value of $\\Omega$, i.e., the maximum kernel size necessary to capture the whole probability density functions."
   ]
  },
  {
   "cell_type": "markdown",
   "id": "2316e938",
   "metadata": {
    "slideshow": {
     "slide_type": "subslide"
    }
   },
   "source": [
    "Visualization of the calculation of the CMD between two deflection maps $a(\\mathbf{m}_1,\\mathbf{j})$, $a(\\mathbf{m}_2,\\mathbf{j})$ at angular position $\\mathbf{j}=(4,3)\\transp$ for kernel sizes $\\mathbf{b}=(b,b)\\transp,\\, b\\in \\left[0,2 \\right]$:"
   ]
  },
  {
   "cell_type": "code",
   "execution_count": 17,
   "id": "e7562465",
   "metadata": {
    "init_cell": true,
    "slideshow": {
     "slide_type": "-"
    }
   },
   "outputs": [
    {
     "data": {
      "application/vnd.jupyter.widget-view+json": {
       "model_id": "81c827322ed146848d5f4aeaa4d37f5a",
       "version_major": 2,
       "version_minor": 0
      },
      "text/plain": [
       "interactive(children=(IntSlider(value=3, description='i', max=3), Output()), _dom_classes=('widget-interact',)…"
      ]
     },
     "metadata": {},
     "output_type": "display_data"
    },
    {
     "data": {
      "text/plain": [
       "<function __main__.<lambda>(i)>"
      ]
     },
     "execution_count": 17,
     "metadata": {},
     "output_type": "execute_result"
    }
   ],
   "source": [
    "interact(lambda i: showFig('figures/3/LCDExample_',i,'.svg',800,50), i=widgets.IntSlider(min=(min_i:=0),max=(max_i:=3), step=1, value=(max_i if book else min_i)))"
   ]
  },
  {
   "cell_type": "markdown",
   "id": "d62a3774",
   "metadata": {
    "slideshow": {
     "slide_type": "subslide"
    }
   },
   "source": [
    "##### Complexity of the naive calculation of the Generalized Cramér-von Mises Distance"
   ]
  },
  {
   "cell_type": "markdown",
   "id": "554c655e",
   "metadata": {},
   "source": [
    "Here:<br>\n",
    "* Input to CMD are deflection distributions of deflection maps. \n",
    "* The angular domain is $\\vert \\Omega_\\mathrm{a} \\vert=n$ with equal resolutions in horizontal and vertical direction.\n",
    "* $\\Rightarrow$ Maximum kernel size of $b_\\mathrm{max}=\\sqrt{n}$"
   ]
  },
  {
   "cell_type": "markdown",
   "id": "12823ebc",
   "metadata": {
    "slideshow": {
     "slide_type": "subslide"
    }
   },
   "source": [
    "Quadratic kernels, i.e., $\\mathbf{b}=(b,b)\\transp$, <br>$\\Rightarrow\\,$ evaluation of the LCD $F(\\mathbf{x},\\mathbf{b})$ involves $b^2$ summations<br>$\\Rightarrow$ One evaluation of the LCD has a complexity of $\\mathscr{O}(b^2)$."
   ]
  },
  {
   "cell_type": "markdown",
   "id": "5490597a",
   "metadata": {
    "slideshow": {
     "slide_type": "fragment"
    }
   },
   "source": [
    "Each iteration of the inner summation of the CMD involves two LCD evaluations and hence also has a complexity of $\\mathcal{O}(b^2)$."
   ]
  },
  {
   "cell_type": "markdown",
   "id": "02c09c07",
   "metadata": {
    "slideshow": {
     "slide_type": "fragment"
    }
   },
   "source": [
    "The kernel size $b$ is increased from $b=0$ to $b=b_\\mathrm{max}=\\sqrt{n}$ and hence involves a number of\n",
    "$\\begin{align}\n",
    "    \\mathcal{O}\\left(\\sum\\limits^{\\sqrt{n}}_{b=0} b^2 \\right) = \\mathscr{O}\\left(\\frac{n^{1.5}}{3}+\\frac{n}{2}+\\frac{\\sqrt{n}}{ 6}\\right)=\\mathscr{O}(n^{1.5})\n",
    "\\end{align}$\n",
    "operations according to Faulhaber's formula and hence the inner summation has a complexity of $\\mathscr{O}(n^{1.5})$."
   ]
  },
  {
   "cell_type": "markdown",
   "id": "bb8462ee",
   "metadata": {
    "slideshow": {
     "slide_type": "subslide"
    }
   },
   "source": [
    "Since these computations are performed $n$ times by the outer summation, the naive calculation of the CMD has a total complexity of $\\mathcal{O}(n^{2.5})$:\n",
    "$\\begin{align}\n",
    "    \\text{CMD}(f,h) = \\underbrace{\\sum\\limits_{\\mathbf{x}\\in \\Omega} \\limits \\underbrace{\\sum\\limits^{b_\\mathrm{max}}_{b=0} \\overbrace{\\left( F(\\mathbf{x},(b,\\ldots,b)\\transp) - H(\\mathbf{x},(b,\\ldots,b)\\transp) \\right)^2}^{\\in \\mathcal{O}(b^2)}}_{\\in \\mathcal{O}(n^{1.5})}}_{\\in \\mathcal{O}(n^{2.5})} \\,.\n",
    "\\end{align}$"
   ]
  },
  {
   "cell_type": "markdown",
   "id": "bdf8ab42",
   "metadata": {
    "slideshow": {
     "slide_type": "subslide"
    }
   },
   "source": [
    "#### Fast Generalized Cramér-von Mises Distance"
   ]
  },
  {
   "cell_type": "markdown",
   "id": "29a54c9b",
   "metadata": {},
   "source": [
    "The computation of the discrete CMD can be accelerated by adequately employing so-called summed area tables (SATs)."
   ]
  },
  {
   "cell_type": "markdown",
   "id": "28623c12",
   "metadata": {
    "slideshow": {
     "slide_type": "subslide"
    }
   },
   "source": [
    "###### Summed area tables"
   ]
  },
  {
   "cell_type": "markdown",
   "id": "8f01be30",
   "metadata": {},
   "source": [
    "A SAT, also known as an integral image in the domain of image processing, \n",
    "* is a data structure that is precomputed for a two-dimensional input array and \n",
    "* allows to obtain the sum of the array entries inside any arbitrary rectangular region in constant time (i.e., with a complexity of $\\mathcal{O}(1)$)."
   ]
  },
  {
   "cell_type": "markdown",
   "id": "3a731e2d",
   "metadata": {
    "slideshow": {
     "slide_type": "subslide"
    }
   },
   "source": [
    "Let $i(m,n)\\in \\mathbb{R}$, $m \\in \\left[ 1, \\ldots, M \\right],n \\in \\left[ 1, \\ldots, N \\right]$ denote the two-dimensional input array."
   ]
  },
  {
   "cell_type": "markdown",
   "id": "55beb973",
   "metadata": {},
   "source": [
    "The corresponding SAT $\\mathfrak{s}$ is then defined as:\n",
    "$\n",
    "\\begin{align}\n",
    "\t\\mathfrak{s}(m,n):=\n",
    "\t\\begin{cases}\n",
    "\t\t0 &\\mathrm{if\\ } \\min \\lbrace m,n \\rbrace \\leq 1\\,, \\\\\n",
    "\t\t\\sum\\limits^{m}_{m_\\mathrm{f}=1}\\sum\\limits^{n}_{n_\\mathrm{f}=1} i(m_\\mathrm{f},n_\\mathrm{f}) &\\mathrm{otherwise.}\n",
    "\t\\end{cases}\n",
    "\\end{align}\n",
    "$"
   ]
  },
  {
   "cell_type": "markdown",
   "id": "075919d4",
   "metadata": {
    "slideshow": {
     "slide_type": "subslide"
    }
   },
   "source": [
    "The calculation of the SAT $\\mathfrak{s}$ can be performed in a single sweep over the input array $i$ by means of the following iterative formulation:\n",
    "$\n",
    "\\begin{align}\\label{eq:lfproc:sat:iterative}\n",
    "\t\\mathfrak{s}(m,n) = i(m,n) + \\mathfrak{s}(m-1,n) + \\mathfrak{s}(m,n-1) - \\mathfrak{s}(m-1,n-1)\\,.\n",
    "\\end{align}\n",
    "$"
   ]
  },
  {
   "cell_type": "markdown",
   "id": "3c04efb8",
   "metadata": {
    "slideshow": {
     "slide_type": "subslide"
    }
   },
   "source": [
    "With the help of $\\mathfrak{s}$, the sum of the array entries of $i$ inside a rectangular region given by $m\\in \\left[ m_\\mathrm{f}, m_\\mathrm{t} \\right]$, $n \\in \\left[n_\\mathrm{f},n_\\mathrm{t} \\right]$ can be obtained with only three arithmetic operations performed on $\\mathfrak{s}$:\n",
    "$\n",
    "\\begin{align}\\label{eq:lfproc:sat:eval}\n",
    "\t\\sum\\limits^{m_\\mathrm{t}}_{m=m_\\mathrm{f}} \\sum\\limits^{n_\\mathrm{t}}_{n=n_\\mathrm{f}} i(m,n) =\\, &\\mathfrak{s}(m_\\mathrm{t}, n_\\mathrm{t}) - \\mathfrak{s}(m_\\mathrm{f}-1,n_\\mathrm{t}) \\\\\n",
    "\t\\nonumber &- \\mathfrak{s}(m_\\mathrm{t},n_\\mathrm{f}-1) + \\mathfrak{s}(m_\\mathrm{f} - 1, n_\\mathrm{f} - 1)\\,.\n",
    "\\end{align}\n",
    "$"
   ]
  },
  {
   "cell_type": "markdown",
   "id": "a221a6ab",
   "metadata": {
    "slideshow": {
     "slide_type": "subslide"
    }
   },
   "source": [
    "Visualization:\n",
    "<img src=\"figures/3/sat.svg\" style=\"max-height:40vh\">"
   ]
  },
  {
   "cell_type": "markdown",
   "id": "97921372",
   "metadata": {
    "tags": [
     "book_only"
    ]
   },
   "source": [
    "To obtain the sum of the values in the query rectangle, the brown and blue components are subtracted from the red component. The sum of the green region has now been subtracted twice, which is compensated by adding it one time."
   ]
  },
  {
   "cell_type": "markdown",
   "id": "cbe6b262",
   "metadata": {
    "slideshow": {
     "slide_type": "subslide"
    }
   },
   "source": [
    "Creating the SAT involves seven constant time arithmetic operations and four constant time array accesses for the calculation of each array element of $i$, that is, a total of $M\\cdot N$ times. Hence, constructing $\\mathfrak{s}$ has a computational complexity of $\\mathcal{O}(M\\cdot N)$."
   ]
  },
  {
   "cell_type": "markdown",
   "id": "e9c7ffee",
   "metadata": {},
   "source": [
    "Using $\\mathfrak{s}$ for obtaining the sum of entries of $i$ in any arbitrary rectangular region has a complexity of $\\mathcal{O}(1)$."
   ]
  },
  {
   "cell_type": "markdown",
   "id": "fa4f50c0",
   "metadata": {
    "slideshow": {
     "slide_type": "subslide"
    }
   },
   "source": [
    "##### FastCMD"
   ]
  },
  {
   "cell_type": "markdown",
   "id": "85a3e14c",
   "metadata": {},
   "source": [
    "The main idea of fastCMD lies in accelerating the calculation of the CMD by employing summed area tables for the calculation of the LCDs."
   ]
  },
  {
   "cell_type": "markdown",
   "id": "00976686",
   "metadata": {
    "slideshow": {
     "slide_type": "subslide"
    }
   },
   "source": [
    "$\\mathbf{Function}\\,\\, \\mathrm{fastCMD}(f(\\mathbf{m}), h(\\mathbf{m}))$<br>\n",
    "$\\quad \\mathfrak{f} \\leftarrow$ generateSummedAreaTable$\\left(f(\\mathbf{m})\\right)$<br>\n",
    "$\\quad \\mathfrak{h} \\leftarrow$ generateSummedAreaTable$\\left(h(\\mathbf{m})\\right)$<br>\n",
    "$\\quad \\text{CMD}\\leftarrow0$<br>\n",
    "$\\quad b_\\mathrm{max} = \\max \\lbrace M,N \\rbrace$<br>\n",
    "$\\quad \\mathbf{for}\\,m = 1,\\ldots,M \\,\\mathbf{do} $<br>\n",
    "$\\quad\\quad\t\\mathbf{for}\\,n = 1,\\ldots,N \\,\\mathbf{do} $<br>\n",
    "$\\quad\\quad\\quad\t\\mathbf{for}\\,b = 0,\\ldots,b_\\mathrm{max} \\,\\mathbf{do} $<br>\n",
    "            $\\quad\\quad\\quad\\quad \\text{CMD}\\leftarrow \\text{CMD} + \\big(\\mathrm{fastLCD}\\left(\\mathfrak{f},(m,n)\\transp,(b,b)\\transp\\right)- $<br>\n",
    "            $\\quad \\qquad \\qquad \\qquad \\qquad \\quad\\ \\,  \\, \\ \\mathrm{fastLCD}\\left(\\mathfrak{h},(m,n)\\transp,(b,b)\\transp\\right)$ $\\big)^2$<br>\n",
    "$\\quad\\quad\\quad \\mathbf{end\\,for}$<br>\n",
    "$\\quad\\quad \\mathbf{end\\,for}$<br>\n",
    "$\\quad \\mathbf{end\\,for}$<br>\n",
    "$\\quad \\mathbf{return}\\,\\mathrm{CMD}$"
   ]
  },
  {
   "cell_type": "markdown",
   "id": "759b5974",
   "metadata": {
    "slideshow": {
     "slide_type": "subslide"
    }
   },
   "source": [
    "$\\mathbf{Function}\\,\\, \\mathrm{fastLCD}\\big(\\mathfrak{s}, (m,n)\\transp, (b,b)\\transp\\big)$<br>\n",
    "$\\quad m_\\mathrm{f} \\leftarrow \\max\\lbrace 0, m - b  \\rbrace$ <br>\n",
    "$\\quad m_\\mathrm{t} \\leftarrow \\min\\lbrace M, m +  b \\rbrace$<br>\n",
    "$\\quad n_\\mathrm{f}\\,\\, \\leftarrow \\max\\lbrace 0, n -  b  \\rbrace$<br>\n",
    "$\\quad n_\\mathrm{t}\\,\\, \\leftarrow \\min\\lbrace N, n +  b  \\rbrace$<br>\n",
    "$\\quad \\mathbf{return}\\,\\mathfrak{s}(m_ \\mathrm{t}, n_ \\mathrm{t})  - \\mathfrak{s}(m_ \\mathrm{f} - 1, n_ \\mathrm{t}) - \\mathfrak{s}(m_ \\mathrm{t}, n_ \\mathrm{f} - 1) + \\mathfrak{s}(m_ \\mathrm{f}-1, n_ \\mathrm{f} - 1)$"
   ]
  },
  {
   "cell_type": "markdown",
   "id": "b3c01cba",
   "metadata": {
    "slideshow": {
     "slide_type": "subslide"
    }
   },
   "source": [
    "##### Complexity of the fastCMD-algorithm"
   ]
  },
  {
   "cell_type": "markdown",
   "id": "6a4f0506",
   "metadata": {},
   "source": [
    "Again,\n",
    "* consider the appliaction of deflection map processing again, i.e., the discrete two-dimensional deflection distributions are assumed as input probability density functions, \n",
    "* with square-shaped angular domains of $\\vert \\Omega_\\mathrm{a} \\vert=n$ and\n",
    "* resulting kernel size $b_\\mathrm{max} = \\sqrt{n}$."
   ]
  },
  {
   "cell_type": "markdown",
   "id": "d6241c47",
   "metadata": {
    "slideshow": {
     "slide_type": "subslide"
    }
   },
   "source": [
    "* Precomputing the SATs has a complexity of $\\mathcal{O}(n)$ because they can be generated by a single sweep over the probability density functions.\n",
    "* The inner loop of the three nested for-loops iteratively updates the calculated CMD by computing the difference between two evaluations of the $\\mathbf{fastLCD}$-algorithm.\n",
    "* Since one evaluation of $\\mathbf{fastLCD}$ has a constant complexity of $\\mathcal{O}(1)$, the inner loop of $\\mathbf{fastCMD}$ also has a complexity of $\\mathcal{O}(1)$.\n",
    "* Since all three loops run for $\\sqrt{n}$ iterations each, $\\mathbf{fastCMD}$ has a total complexity of $\\mathcal{O}(1\\cdot \\left(\\sqrt{n}\\right)^3)=\\mathcal{O}(n^{1.5})$."
   ]
  },
  {
   "cell_type": "markdown",
   "id": "9e087939",
   "metadata": {
    "slideshow": {
     "slide_type": "subslide"
    }
   },
   "source": [
    "##### Discussion of the Generalized Cramér-von Mises Distance"
   ]
  },
  {
   "cell_type": "markdown",
   "id": "86f5ed97",
   "metadata": {
    "slideshow": {
     "slide_type": "subslide"
    }
   },
   "source": [
    "1. **Sensitivity to strong shifts of peaks** Criterion met: <br>\n",
    "    * for two deflection distributions with distinct peaks, the two LCDs are only equal to each other for larger kernel sizes, i.e., $b$-values. Hence, all smaller kernels will result in non-zero differences between the LCD-evaluations of the two deflection distributions and, consequently, yield a high CMD. \n",
    "    * Since the distance between the two peaks determines the kernel size from which the two LCDs will be equal, the CMD is also proportional to the peak distance."
   ]
  },
  {
   "cell_type": "markdown",
   "id": "81b1fddc",
   "metadata": {
    "slideshow": {
     "slide_type": "subslide"
    }
   },
   "source": [
    "2. **Sensitivity to spreadings of peaks** Criterion met: \n",
    "    * if a deflection distribution with an intensity peak is adjacent to a deflection distribution with a broad intensity profile, then the resulting CMD will be high. \n",
    "    * This happens because the LCDs for the peak-shaped distribution will have a jump discontinuity from low to high as soon as the integration kernel overlaps with the peak and the LCDs of the second deflection distribution will increase gradually for increasing kernel sizes as the intensity is spread over most of the whole angular domain."
   ]
  },
  {
   "cell_type": "markdown",
   "id": "2fa072bb",
   "metadata": {
    "slideshow": {
     "slide_type": "subslide"
    }
   },
   "source": [
    "3. **Sensitivity to intensity differences** Criterion met:<br>\n",
    "    * although the CMD has originally been formulated for probability density functions, it does not require its input arguments to be normalized. \n",
    "    * Two deflection distributions that are identical except for a scaling factor (i.e., which have different total intensities) will result in different LCD-values for each kernel size and will, therefore, have a non-zero CMD."
   ]
  },
  {
   "cell_type": "markdown",
   "id": "9d8e91ec",
   "metadata": {
    "slideshow": {
     "slide_type": "subslide"
    }
   },
   "source": [
    "4. **Robustness against small variations** Criterion met: <br>\n",
    "    * for two deflection distributions with close peaks, the LCDs will only have different values for few locations and few kernel sizes and, therefore, the resulting CMD will be low."
   ]
  },
  {
   "cell_type": "markdown",
   "id": "0f85e49c",
   "metadata": {
    "slideshow": {
     "slide_type": "subslide"
    }
   },
   "source": [
    "5. **Low computational complexity** Criterion met:<br>\n",
    "    * as shown before, the CMD can be calculated by means of the $\\mathbf{fastCMD}$-algorithm, which has a complexity of $\\mathcal{O}(n^{1.5})$ for an angular domain of $\\vert \\Omega_\\mathrm{a} \\vert = n$."
   ]
  },
  {
   "cell_type": "markdown",
   "id": "0f1bcd5d",
   "metadata": {
    "slideshow": {
     "slide_type": "subslide"
    }
   },
   "source": [
    "#### Experiments"
   ]
  },
  {
   "cell_type": "markdown",
   "id": "57878fdf",
   "metadata": {},
   "source": [
    "* In the following experiments, most of the described approaches for capturing deflection maps have been employed to acquire deflection maps of different test objects. \n",
    "* For the acquired deflection maps, gradients have been calculated using the Generalized Cramér-von Mises Distance.\n",
    "* The resulting images show the gradient's norm $\\Vert \\mathrm{grad}_\\mathbf{m}\\, a(\\mathbf{m},\\cdot) \\Vert$ in pseudo colors.\n",
    "* All experiments include a comparison to a conventional inspection system with a bright field illumination setup."
   ]
  },
  {
   "cell_type": "markdown",
   "id": "11c02e8b",
   "metadata": {
    "slideshow": {
     "slide_type": "subslide"
    }
   },
   "source": [
    "##### Peak contrast-to-noise ratio"
   ]
  },
  {
   "cell_type": "markdown",
   "id": "2e559d4b",
   "metadata": {},
   "source": [
    "* To allow a quantitative evaluation, the peak contrast-to-noise ration CNR is determined based on the resulting inspection images.\n",
    "* The CNR is calculated for every considered defect of interest:\n",
    "$\\begin{align}\n",
    "    \\mathrm{CNR}=\\frac{\\vert \\tilde{s}-\\tilde{\\mu}\\vert}{\\tilde{\\sigma}}\\,,\n",
    "\\end{align}$\n",
    "    with $\\tilde{s}$ denoting the maximum image value of the image region covered by the defect, $\\hat{\\mu}$ denoting the mean value and $\\hat{\\sigma}$ the standard deviation estimated for a defect-free image region near the defect."
   ]
  },
  {
   "cell_type": "markdown",
   "id": "1dc8a710",
   "metadata": {
    "tags": [
     "remove-cell"
    ]
   },
   "source": [
    "##### Evtl. Tchebychev inequality?"
   ]
  },
  {
   "cell_type": "markdown",
   "id": "8ece5e38",
   "metadata": {
    "slideshow": {
     "slide_type": "subslide"
    }
   },
   "source": [
    "##### Glass gob imaged by schlieren deflectometer"
   ]
  },
  {
   "cell_type": "markdown",
   "id": "0207527b",
   "metadata": {
    "tags": [
     "book_only"
    ]
   },
   "source": [
    "*Gobs* are cylindrically shaped preforms made out of glass. They represent important intermediate products in the glass industry and are typically processed to create lenses for glasses or other optical elements."
   ]
  },
  {
   "cell_type": "markdown",
   "id": "024f2860",
   "metadata": {
    "slideshow": {
     "slide_type": "subslide"
    }
   },
   "source": [
    "A prototype of a schlieren deflectometer with a spatial resolution of $1210 \\times 1210$ and an angular resolution of $9\\times 9$ as been used to acquire deflection maps of the test object. The deflection maps have been processed with the CMD."
   ]
  },
  {
   "cell_type": "markdown",
   "id": "2ff73433",
   "metadata": {
    "slideshow": {
     "slide_type": "subslide"
    }
   },
   "source": [
    "The resulting inspection images for a conventional bright field setup and for the calculated CMD (in pseudo colors):\n",
    "<img src=\"figures/3/gobExperiments.svg\" style=\"max-height:40vh\">"
   ]
  },
  {
   "cell_type": "markdown",
   "id": "1d442933",
   "metadata": {
    "slideshow": {
     "slide_type": "fragment"
    }
   },
   "source": [
    "The CNR values resulting for the three numbered regions:\n",
    "<table>\n",
    "<thead>\n",
    "  <tr>\n",
    "    <th></th>\n",
    "    <th colspan=\"3\">CNR for region</th>\n",
    "  </tr>\n",
    "  <tr>\n",
    "      <th style=\"text-align:left\">Method</th>\n",
    "      <th>1</th>\n",
    "      <th>2</th>\n",
    "      <th>3</th>\n",
    "  </tr>\n",
    "</thead>\n",
    "<tbody>\n",
    "  \n",
    "  <tr>\n",
    "    <td style=\"text-align:left\">Conventional bright field</td>\n",
    "    <td>1.83</td>\n",
    "    <td>1.05</td>\n",
    "    <td>0.46</td>\n",
    "  </tr>\n",
    "  <tr>\n",
    "    <td style=\"text-align:left\">CMD</td>\n",
    "    <td>23.38</td>\n",
    "    <td>15.07</td>\n",
    "    <td>14.28</td>\n",
    "  </tr>\n",
    "</tbody>\n",
    "</table>"
   ]
  },
  {
   "cell_type": "markdown",
   "id": "72846cd8",
   "metadata": {
    "tags": [
     "book_only"
    ]
   },
   "source": [
    "-> The light field-based approach in concert with the CMD yields superior results compared to the traditional bright field-based inspection."
   ]
  },
  {
   "cell_type": "markdown",
   "id": "5f05b770",
   "metadata": {
    "slideshow": {
     "slide_type": "subslide"
    }
   },
   "source": [
    "##### Automotive headlamp cover imaged with a laser deflection scanner"
   ]
  },
  {
   "cell_type": "markdown",
   "id": "42cba797",
   "metadata": {},
   "source": [
    "* A prototype of a laser deflection scanner has been employed to acquire deflection maps of an automotive headlamp cover made of transparent plastic.\n",
    "* The spatial resolution of the scanner is defined by the length of its scan line of 1397 pixels.\n",
    "* It supports an angular resolution of $3\\times 3$."
   ]
  },
  {
   "cell_type": "markdown",
   "id": "810b7df4",
   "metadata": {
    "slideshow": {
     "slide_type": "subslide"
    }
   },
   "source": [
    "Photographs of two examples of plastic headlamp covers; (a) mounted in front of the headlamps of an automobile (highlighted in blue); (b) the test object used in the experiments:<br>\n",
    "<img src=\"figures/3/kasPhoto.svg\" style=\"max-height:40vh\">"
   ]
  },
  {
   "cell_type": "markdown",
   "id": "a092e4e2",
   "metadata": {
    "slideshow": {
     "slide_type": "subslide"
    }
   },
   "source": [
    "The resulting inspection images for a conventional bright field setup and for the calculated CMD (in pseudo colors):\n",
    "<img src=\"figures/3/kasExperiments.svg\" style=\"max-height:40vh\">"
   ]
  },
  {
   "cell_type": "markdown",
   "id": "12d34148",
   "metadata": {},
   "source": [
    "The CNR values resulting for the three numbered regions:\n",
    "<table>\n",
    "<thead>\n",
    "  <tr>\n",
    "    <th></th>\n",
    "    <th colspan=\"3\">CNR for region</th>\n",
    "  </tr>\n",
    "  <tr>\n",
    "      <th style=\"text-align:left\">Method</th>\n",
    "      <th>1</th>\n",
    "      <th>2</th>\n",
    "      <th>3</th>\n",
    "  </tr>\n",
    "</thead>\n",
    "<tbody>\n",
    "  \n",
    "  <tr>\n",
    "    <td style=\"text-align:left\">Conventional bright field</td>\n",
    "    <td>4.29</td>\n",
    "    <td>22.86</td>\n",
    "    <td>4.29</td>\n",
    "  </tr>\n",
    "  <tr>\n",
    "    <td style=\"text-align:left\">CMD</td>\n",
    "    <td>23.04</td>\n",
    "    <td>31.11</td>\n",
    "    <td>40.91</td>\n",
    "  </tr>\n",
    "</tbody>\n",
    "</table>"
   ]
  },
  {
   "cell_type": "markdown",
   "id": "004e20d2",
   "metadata": {
    "slideshow": {
     "slide_type": "slide"
    }
   },
   "source": [
    "## Inverse light field illumination for transparent object inspection"
   ]
  },
  {
   "cell_type": "markdown",
   "id": "8293889c",
   "metadata": {},
   "source": [
    "* Main physical effect affecting light transport at and inside transparent materials is refraction.\n",
    "* Transitions between materials with different indices of refraction lead to changes of the light's direction of propagation.\n",
    "* Scattering material defects also affect the light's direction of propagation.\n",
    "* The effect of refraction can be inverted by emitting a specifically adapted light field, i.e., an *inverse light field*."
   ]
  },
  {
   "cell_type": "markdown",
   "id": "768a3c38",
   "metadata": {
    "slideshow": {
     "slide_type": "subslide"
    }
   },
   "source": [
    "### Optical setup for inverse light field illumination"
   ]
  },
  {
   "cell_type": "markdown",
   "id": "faf63164",
   "metadata": {
    "tags": [
     "book_only"
    ]
   },
   "source": [
    "Two steps:\n",
    "1. Offline: Acquisition of a reference light field of a defect-free test object.\n",
    "2. During inspection: Illumination of test objects with the inverted reference light field."
   ]
  },
  {
   "cell_type": "markdown",
   "id": "e3477512",
   "metadata": {
    "slideshow": {
     "slide_type": "subslide"
    }
   },
   "source": [
    "##### Acquisition of the reference light field"
   ]
  },
  {
   "cell_type": "code",
   "execution_count": 18,
   "id": "c4e4caf3",
   "metadata": {
    "init_cell": true,
    "slideshow": {
     "slide_type": "-"
    }
   },
   "outputs": [
    {
     "data": {
      "application/vnd.jupyter.widget-view+json": {
       "model_id": "2a7dcefaa88b4a679a40da4d1b15dc4c",
       "version_major": 2,
       "version_minor": 0
      },
      "text/plain": [
       "interactive(children=(IntSlider(value=2, description='i', max=2, min=1), Output()), _dom_classes=('widget-inte…"
      ]
     },
     "metadata": {},
     "output_type": "display_data"
    },
    {
     "data": {
      "text/plain": [
       "<function __main__.<lambda>(i)>"
      ]
     },
     "execution_count": 18,
     "metadata": {},
     "output_type": "execute_result"
    }
   ],
   "source": [
    "interact(lambda i: showFig('figures/3/invLF_acquisition_',i,'.svg',800,50), i=widgets.IntSlider(min=(min_i:=1),max=(max_i:=2), step=1, value=(max_i if book else min_i)))"
   ]
  },
  {
   "cell_type": "markdown",
   "id": "6d07e919",
   "metadata": {
    "tags": [
     "book_only"
    ]
   },
   "source": [
    "* A defect-free test object instance that is illuminated by collimated light transforms the incident parallel light beams into a light field $L'$.\n",
    "* $L'$ is captured by a light field sensor positioned at a distance $\\Delta$ behind the test object.."
   ]
  },
  {
   "cell_type": "markdown",
   "id": "75cc984e",
   "metadata": {
    "slideshow": {
     "slide_type": "subslide"
    }
   },
   "source": [
    "##### Inspection of further objects of the same type"
   ]
  },
  {
   "cell_type": "markdown",
   "id": "c0e4fe6e",
   "metadata": {
    "tags": [
     "book_only"
    ]
   },
   "source": [
    "* A light field generator is placed at the original position of the light field sensor at a distance of $\\Delta$ from the test object.\n",
    "* The light field generator emits $\\tilde{L}'$, which is the inverse of $L'$ in the sense that the directions of propagation of the contained rays have been reversed.\n",
    "* The other side of the object is observed by a telecentric camera system so that only light rays propagating approximately parallel to the optical axis are captured."
   ]
  },
  {
   "cell_type": "code",
   "execution_count": 19,
   "id": "97e34fc6",
   "metadata": {
    "init_cell": true,
    "slideshow": {
     "slide_type": "-"
    }
   },
   "outputs": [
    {
     "data": {
      "application/vnd.jupyter.widget-view+json": {
       "model_id": "8bcbf7f58acc4ee29a86d5a0f54a5255",
       "version_major": 2,
       "version_minor": 0
      },
      "text/plain": [
       "interactive(children=(IntSlider(value=4, description='i', max=4, min=1), Output()), _dom_classes=('widget-inte…"
      ]
     },
     "metadata": {},
     "output_type": "display_data"
    },
    {
     "data": {
      "text/plain": [
       "<function __main__.<lambda>(i)>"
      ]
     },
     "execution_count": 19,
     "metadata": {},
     "output_type": "execute_result"
    }
   ],
   "source": [
    "interact(lambda i: showFig('figures/3/invLF_emission_',i,'.svg',800,50), i=widgets.IntSlider(min=(min_i:=1),max=(max_i:=4), step=1, value=(max_i if book else min_i)))"
   ]
  },
  {
   "cell_type": "markdown",
   "id": "16717ab0",
   "metadata": {
    "tags": [
     "book_only"
    ]
   },
   "source": [
    "* Defect-free regions of the test object transform incident light rays into rays propagating parallel to the optical axis. Those rays pass the telecentric stop and yield a high signal level indicating a defect-free region. \n",
    "* Material defects which absorb light or scatter / redirect light will not contribute to the image signal. Scattered or redirected light rays will not propagate parallel to the optical axis and hence get blocked by the telecentric stop.\n",
    "* Inverse light field illumination enables the inspection of transparent objects by acquiring a single image only."
   ]
  },
  {
   "cell_type": "markdown",
   "id": "c4f79e9e",
   "metadata": {
    "slideshow": {
     "slide_type": "subslide"
    }
   },
   "source": [
    "### Experiments"
   ]
  },
  {
   "cell_type": "markdown",
   "id": "ac31a4ef",
   "metadata": {
    "slideshow": {
     "slide_type": "subslide"
    }
   },
   "source": [
    "##### Simulated experiments"
   ]
  },
  {
   "cell_type": "markdown",
   "id": "11d1b85b",
   "metadata": {
    "slideshow": {
     "slide_type": "-"
    }
   },
   "source": [
    "Simulated inspection images of a double-convex lens for a conventional bright field illumination and the inverse light field illumination:<br>\n",
    "<img src=\"figures/3/invLF_simu_exp.svg\" style=\"max-height:40vh\">"
   ]
  },
  {
   "cell_type": "markdown",
   "id": "d5b9b0ee",
   "metadata": {
    "slideshow": {
     "slide_type": "subslide"
    }
   },
   "source": [
    "##### Real experiments"
   ]
  },
  {
   "cell_type": "markdown",
   "id": "0353ed3e",
   "metadata": {},
   "source": [
    "* Test object: double-convex lens.\n",
    "* Test objective: check for correct alignment of the lens.\n",
    "* Light field generator: prototype 1 mentioned previously."
   ]
  },
  {
   "cell_type": "markdown",
   "id": "a1373dce",
   "metadata": {
    "slideshow": {
     "slide_type": "subslide"
    }
   },
   "source": [
    "##### Acquisition of the inverse light field\n",
    "* Directly use optical setup for the inspection phase for acquiring $\\tilde{L}'$ by means of an illumination series.\n",
    "* After placing a defect-free test object instance in the setup, algorithm $\\mathrm{acquireCentralPixels}$ can be employed to find those pixels of the light field generator, which lead to the emission of collimated light bundles that reach the image sensor. Such light rays have to pass the telecentric stop of the telecentric camera and hence have to propagate parallel to optical axis.\n",
    "* Hence, the pixels determined by $\\mathrm{acquireCentralPixels}$ correspond to the sought inverse light field $\\tilde{L}'$."
   ]
  },
  {
   "cell_type": "markdown",
   "id": "d422a920",
   "metadata": {
    "slideshow": {
     "slide_type": "subslide"
    }
   },
   "source": [
    "Inspection images of a double-convex lens acquired under inverse light field illumination:<br>\n",
    "<img src=\"figures/3/invLFexp_Lens_rot.svg\" style=\"max-height:40vh\">"
   ]
  }
 ],
 "metadata": {
  "jupytext": {
   "formats": "ipynb,md:myst",
   "text_representation": {
    "extension": ".md",
    "format_name": "myst",
    "format_version": 0.13,
    "jupytext_version": "1.14.1"
   }
  },
  "kernelspec": {
   "display_name": "compimg",
   "language": "python",
   "name": "compimg"
  },
  "language_info": {
   "codemirror_mode": {
    "name": "ipython",
    "version": 3
   },
   "file_extension": ".py",
   "mimetype": "text/x-python",
   "name": "python",
   "nbconvert_exporter": "python",
   "pygments_lexer": "ipython3",
   "version": "3.8.10"
  },
  "source_map": [
   15,
   34,
   54,
   61,
   73,
   85,
   99,
   114,
   128,
   132,
   143,
   147,
   151,
   155,
   161,
   169,
   173,
   177,
   181,
   185,
   189,
   193,
   197,
   201,
   207,
   211,
   215,
   219,
   223,
   227,
   231,
   235,
   239,
   243,
   247,
   251,
   255,
   260,
   264,
   268,
   274,
   278,
   282,
   289,
   293,
   297,
   301,
   305,
   314,
   320,
   325,
   329,
   333,
   337,
   341,
   345,
   349,
   353,
   357,
   361,
   365,
   373,
   377,
   381,
   390,
   396,
   400,
   404,
   408,
   416,
   420,
   424,
   428,
   432,
   438,
   446,
   451,
   457,
   466,
   470,
   476,
   480,
   484,
   488,
   492,
   497,
   501,
   505,
   509,
   513,
   517,
   521,
   527,
   531,
   537,
   544,
   550,
   554,
   560,
   564,
   568,
   572,
   576,
   580,
   584,
   591,
   595,
   601,
   605,
   609,
   613,
   617,
   623,
   627,
   633,
   639,
   643,
   647,
   651,
   655,
   659,
   663,
   667,
   671,
   676,
   680,
   684,
   688,
   692,
   696,
   703,
   707,
   711,
   715,
   719,
   723,
   727,
   731,
   740,
   747,
   751,
   755,
   759,
   765,
   769,
   773,
   777,
   781,
   785,
   789,
   793,
   797,
   801,
   805,
   809,
   813,
   817,
   821,
   830,
   834,
   840,
   844,
   848,
   857,
   861,
   869,
   877,
   885,
   889,
   893,
   897,
   901,
   909,
   913,
   917,
   923,
   930,
   934,
   943,
   949,
   953,
   957,
   979,
   983,
   987,
   991,
   997,
   1003,
   1007,
   1011,
   1015,
   1019,
   1023,
   1027,
   1031,
   1035,
   1039,
   1043,
   1047,
   1051,
   1055,
   1064,
   1069,
   1073,
   1082,
   1097,
   1101,
   1105,
   1109,
   1113,
   1117,
   1121,
   1125,
   1129,
   1133,
   1137,
   1141,
   1145,
   1149,
   1153,
   1157,
   1161,
   1165,
   1169,
   1173,
   1177,
   1181,
   1190,
   1194,
   1198,
   1202,
   1206,
   1210,
   1214,
   1218,
   1222,
   1226,
   1232,
   1236,
   1240,
   1250,
   1260,
   1264,
   1275,
   1285,
   1293,
   1299,
   1303,
   1307,
   1319,
   1323,
   1327,
   1331,
   1335,
   1339,
   1343,
   1348,
   1358,
   1370,
   1374,
   1378,
   1382,
   1389,
   1397,
   1401,
   1410,
   1414,
   1421,
   1425,
   1429,
   1437,
   1444,
   1448,
   1452,
   1456,
   1462,
   1466,
   1479,
   1488,
   1498,
   1503,
   1507,
   1511,
   1515,
   1519,
   1523,
   1540,
   1549,
   1553,
   1560,
   1567,
   1571,
   1577,
   1583,
   1589,
   1594,
   1599,
   1603,
   1610,
   1614,
   1623,
   1627,
   1631,
   1635,
   1639,
   1644,
   1677,
   1681,
   1685,
   1691,
   1696,
   1701,
   1734,
   1738,
   1745,
   1749,
   1755,
   1759,
   1768,
   1773,
   1777,
   1783,
   1792,
   1798,
   1802,
   1806,
   1811,
   1815,
   1821,
   1828
  ],
  "widgets": {
   "application/vnd.jupyter.widget-state+json": {
    "state": {
     "025005372a3147388a2a7ef85ea5462c": {
      "model_module": "@jupyter-widgets/output",
      "model_module_version": "1.0.0",
      "model_name": "OutputModel",
      "state": {
       "_dom_classes": [],
       "_model_module": "@jupyter-widgets/output",
       "_model_module_version": "1.0.0",
       "_model_name": "OutputModel",
       "_view_count": null,
       "_view_module": "@jupyter-widgets/output",
       "_view_module_version": "1.0.0",
       "_view_name": "OutputView",
       "layout": "IPY_MODEL_5863ff5a1fb94eae87e2c29112834dd7",
       "msg_id": "",
       "outputs": [
        {
         "data": {
          "text/html": "<img src=\"figures/3/SchlierenPrinciple_4.svg\" style=\"max-height:50vh\"/>",
          "text/plain": "<IPython.core.display.HTML object>"
         },
         "metadata": {},
         "output_type": "display_data"
        }
       ]
      }
     },
     "062aa3d0b7eb4c23ab90e0d7ae04a055": {
      "model_module": "@jupyter-widgets/output",
      "model_module_version": "1.0.0",
      "model_name": "OutputModel",
      "state": {
       "_dom_classes": [],
       "_model_module": "@jupyter-widgets/output",
       "_model_module_version": "1.0.0",
       "_model_name": "OutputModel",
       "_view_count": null,
       "_view_module": "@jupyter-widgets/output",
       "_view_module_version": "1.0.0",
       "_view_name": "OutputView",
       "layout": "IPY_MODEL_b485785550b2469eab2f22ac7f8ed7d3",
       "msg_id": "",
       "outputs": [
        {
         "data": {
          "text/html": "<img src=\"figures/3/invLF_emission_4.svg\" style=\"max-height:50vh\"/>",
          "text/plain": "<IPython.core.display.HTML object>"
         },
         "metadata": {},
         "output_type": "display_data"
        }
       ]
      }
     },
     "0750e59d0ed94c169b47109bddd18a95": {
      "model_module": "@jupyter-widgets/base",
      "model_module_version": "1.2.0",
      "model_name": "LayoutModel",
      "state": {
       "_model_module": "@jupyter-widgets/base",
       "_model_module_version": "1.2.0",
       "_model_name": "LayoutModel",
       "_view_count": null,
       "_view_module": "@jupyter-widgets/base",
       "_view_module_version": "1.2.0",
       "_view_name": "LayoutView",
       "align_content": null,
       "align_items": null,
       "align_self": null,
       "border": null,
       "bottom": null,
       "display": null,
       "flex": null,
       "flex_flow": null,
       "grid_area": null,
       "grid_auto_columns": null,
       "grid_auto_flow": null,
       "grid_auto_rows": null,
       "grid_column": null,
       "grid_gap": null,
       "grid_row": null,
       "grid_template_areas": null,
       "grid_template_columns": null,
       "grid_template_rows": null,
       "height": null,
       "justify_content": null,
       "justify_items": null,
       "left": null,
       "margin": null,
       "max_height": null,
       "max_width": null,
       "min_height": null,
       "min_width": null,
       "object_fit": null,
       "object_position": null,
       "order": null,
       "overflow": null,
       "overflow_x": null,
       "overflow_y": null,
       "padding": null,
       "right": null,
       "top": null,
       "visibility": null,
       "width": null
      }
     },
     "0cb452313d5347c297100272e2b4661f": {
      "model_module": "@jupyter-widgets/base",
      "model_module_version": "1.2.0",
      "model_name": "LayoutModel",
      "state": {
       "_model_module": "@jupyter-widgets/base",
       "_model_module_version": "1.2.0",
       "_model_name": "LayoutModel",
       "_view_count": null,
       "_view_module": "@jupyter-widgets/base",
       "_view_module_version": "1.2.0",
       "_view_name": "LayoutView",
       "align_content": null,
       "align_items": null,
       "align_self": null,
       "border": null,
       "bottom": null,
       "display": null,
       "flex": null,
       "flex_flow": null,
       "grid_area": null,
       "grid_auto_columns": null,
       "grid_auto_flow": null,
       "grid_auto_rows": null,
       "grid_column": null,
       "grid_gap": null,
       "grid_row": null,
       "grid_template_areas": null,
       "grid_template_columns": null,
       "grid_template_rows": null,
       "height": null,
       "justify_content": null,
       "justify_items": null,
       "left": null,
       "margin": null,
       "max_height": null,
       "max_width": null,
       "min_height": null,
       "min_width": null,
       "object_fit": null,
       "object_position": null,
       "order": null,
       "overflow": null,
       "overflow_x": null,
       "overflow_y": null,
       "padding": null,
       "right": null,
       "top": null,
       "visibility": null,
       "width": null
      }
     },
     "0ccd66f63bdf455cb4e93bedd4ecc753": {
      "model_module": "@jupyter-widgets/output",
      "model_module_version": "1.0.0",
      "model_name": "OutputModel",
      "state": {
       "_dom_classes": [],
       "_model_module": "@jupyter-widgets/output",
       "_model_module_version": "1.0.0",
       "_model_name": "OutputModel",
       "_view_count": null,
       "_view_module": "@jupyter-widgets/output",
       "_view_module_version": "1.0.0",
       "_view_name": "OutputView",
       "layout": "IPY_MODEL_0d6cd82acbec428c876bf7187c1777d9",
       "msg_id": "",
       "outputs": [
        {
         "data": {
          "text/html": "<img src=\"figures/3/LCDExample_3.svg\" style=\"max-height:50vh\"/>",
          "text/plain": "<IPython.core.display.HTML object>"
         },
         "metadata": {},
         "output_type": "display_data"
        }
       ]
      }
     },
     "0d6cd82acbec428c876bf7187c1777d9": {
      "model_module": "@jupyter-widgets/base",
      "model_module_version": "1.2.0",
      "model_name": "LayoutModel",
      "state": {
       "_model_module": "@jupyter-widgets/base",
       "_model_module_version": "1.2.0",
       "_model_name": "LayoutModel",
       "_view_count": null,
       "_view_module": "@jupyter-widgets/base",
       "_view_module_version": "1.2.0",
       "_view_name": "LayoutView",
       "align_content": null,
       "align_items": null,
       "align_self": null,
       "border": null,
       "bottom": null,
       "display": null,
       "flex": null,
       "flex_flow": null,
       "grid_area": null,
       "grid_auto_columns": null,
       "grid_auto_flow": null,
       "grid_auto_rows": null,
       "grid_column": null,
       "grid_gap": null,
       "grid_row": null,
       "grid_template_areas": null,
       "grid_template_columns": null,
       "grid_template_rows": null,
       "height": null,
       "justify_content": null,
       "justify_items": null,
       "left": null,
       "margin": null,
       "max_height": null,
       "max_width": null,
       "min_height": null,
       "min_width": null,
       "object_fit": null,
       "object_position": null,
       "order": null,
       "overflow": null,
       "overflow_x": null,
       "overflow_y": null,
       "padding": null,
       "right": null,
       "top": null,
       "visibility": null,
       "width": null
      }
     },
     "10841a79642f459ebef7b8cdfbec6dda": {
      "model_module": "@jupyter-widgets/output",
      "model_module_version": "1.0.0",
      "model_name": "OutputModel",
      "state": {
       "_dom_classes": [],
       "_model_module": "@jupyter-widgets/output",
       "_model_module_version": "1.0.0",
       "_model_name": "OutputModel",
       "_view_count": null,
       "_view_module": "@jupyter-widgets/output",
       "_view_module_version": "1.0.0",
       "_view_name": "OutputView",
       "layout": "IPY_MODEL_cc62d51bc6a74539b3a240243d7349cd",
       "msg_id": "",
       "outputs": [
        {
         "data": {
          "text/html": "<img src=\"figures/3/invLF_acquisition_2.svg\" style=\"max-height:50vh\"/>",
          "text/plain": "<IPython.core.display.HTML object>"
         },
         "metadata": {},
         "output_type": "display_data"
        }
       ]
      }
     },
     "12ccf26ac4a64bc99ad4ec31571bc6b4": {
      "model_module": "@jupyter-widgets/controls",
      "model_module_version": "1.5.0",
      "model_name": "IntSliderModel",
      "state": {
       "_dom_classes": [],
       "_model_module": "@jupyter-widgets/controls",
       "_model_module_version": "1.5.0",
       "_model_name": "IntSliderModel",
       "_view_count": null,
       "_view_module": "@jupyter-widgets/controls",
       "_view_module_version": "1.5.0",
       "_view_name": "IntSliderView",
       "continuous_update": true,
       "description": "i",
       "description_tooltip": null,
       "disabled": false,
       "layout": "IPY_MODEL_ddf7887c01f847608508f955f2eb96f8",
       "max": 3,
       "min": 1,
       "orientation": "horizontal",
       "readout": true,
       "readout_format": "d",
       "step": 1,
       "style": "IPY_MODEL_3771bca85acf4681b6e89173bc674593",
       "value": 3
      }
     },
     "1312ff335b0b40669a1906d865ba2183": {
      "model_module": "@jupyter-widgets/base",
      "model_module_version": "1.2.0",
      "model_name": "LayoutModel",
      "state": {
       "_model_module": "@jupyter-widgets/base",
       "_model_module_version": "1.2.0",
       "_model_name": "LayoutModel",
       "_view_count": null,
       "_view_module": "@jupyter-widgets/base",
       "_view_module_version": "1.2.0",
       "_view_name": "LayoutView",
       "align_content": null,
       "align_items": null,
       "align_self": null,
       "border": null,
       "bottom": null,
       "display": null,
       "flex": null,
       "flex_flow": null,
       "grid_area": null,
       "grid_auto_columns": null,
       "grid_auto_flow": null,
       "grid_auto_rows": null,
       "grid_column": null,
       "grid_gap": null,
       "grid_row": null,
       "grid_template_areas": null,
       "grid_template_columns": null,
       "grid_template_rows": null,
       "height": null,
       "justify_content": null,
       "justify_items": null,
       "left": null,
       "margin": null,
       "max_height": null,
       "max_width": null,
       "min_height": null,
       "min_width": null,
       "object_fit": null,
       "object_position": null,
       "order": null,
       "overflow": null,
       "overflow_x": null,
       "overflow_y": null,
       "padding": null,
       "right": null,
       "top": null,
       "visibility": null,
       "width": null
      }
     },
     "14507d029eab43b98c9ab5df0e0b7de8": {
      "model_module": "@jupyter-widgets/controls",
      "model_module_version": "1.5.0",
      "model_name": "IntSliderModel",
      "state": {
       "_dom_classes": [],
       "_model_module": "@jupyter-widgets/controls",
       "_model_module_version": "1.5.0",
       "_model_name": "IntSliderModel",
       "_view_count": null,
       "_view_module": "@jupyter-widgets/controls",
       "_view_module_version": "1.5.0",
       "_view_name": "IntSliderView",
       "continuous_update": true,
       "description": "i",
       "description_tooltip": null,
       "disabled": false,
       "layout": "IPY_MODEL_35dd2bce321d474f8f16115de534e6b5",
       "max": 3,
       "min": 1,
       "orientation": "horizontal",
       "readout": true,
       "readout_format": "d",
       "step": 1,
       "style": "IPY_MODEL_91f8453f28424ec888da707d4c68aacb",
       "value": 3
      }
     },
     "147141c32e4e4d3dbe4a0da314a6f0d2": {
      "model_module": "@jupyter-widgets/output",
      "model_module_version": "1.0.0",
      "model_name": "OutputModel",
      "state": {
       "_dom_classes": [],
       "_model_module": "@jupyter-widgets/output",
       "_model_module_version": "1.0.0",
       "_model_name": "OutputModel",
       "_view_count": null,
       "_view_module": "@jupyter-widgets/output",
       "_view_module_version": "1.0.0",
       "_view_name": "OutputView",
       "layout": "IPY_MODEL_a19d6256d1a84ceaaf2cbadd22879ed0",
       "msg_id": "",
       "outputs": [
        {
         "data": {
          "text/html": "<img src=\"figures/3/exampleDeflMap_3.svg\" style=\"max-height:50vh\"/>",
          "text/plain": "<IPython.core.display.HTML object>"
         },
         "metadata": {},
         "output_type": "display_data"
        }
       ]
      }
     },
     "18de8dad7dbd4b79b14900a7bb4a07e0": {
      "model_module": "@jupyter-widgets/controls",
      "model_module_version": "1.5.0",
      "model_name": "IntSliderModel",
      "state": {
       "_dom_classes": [],
       "_model_module": "@jupyter-widgets/controls",
       "_model_module_version": "1.5.0",
       "_model_name": "IntSliderModel",
       "_view_count": null,
       "_view_module": "@jupyter-widgets/controls",
       "_view_module_version": "1.5.0",
       "_view_name": "IntSliderView",
       "continuous_update": true,
       "description": "i",
       "description_tooltip": null,
       "disabled": false,
       "layout": "IPY_MODEL_6372a98d36e04c319ff637f2d6a88ace",
       "max": 8,
       "min": 1,
       "orientation": "horizontal",
       "readout": true,
       "readout_format": "d",
       "step": 1,
       "style": "IPY_MODEL_ebc7ab2711514b6982f00e598206a4d8",
       "value": 8
      }
     },
     "229c209d1c7c4fae8beeb5fcded1d243": {
      "model_module": "@jupyter-widgets/base",
      "model_module_version": "1.2.0",
      "model_name": "LayoutModel",
      "state": {
       "_model_module": "@jupyter-widgets/base",
       "_model_module_version": "1.2.0",
       "_model_name": "LayoutModel",
       "_view_count": null,
       "_view_module": "@jupyter-widgets/base",
       "_view_module_version": "1.2.0",
       "_view_name": "LayoutView",
       "align_content": null,
       "align_items": null,
       "align_self": null,
       "border": null,
       "bottom": null,
       "display": null,
       "flex": null,
       "flex_flow": null,
       "grid_area": null,
       "grid_auto_columns": null,
       "grid_auto_flow": null,
       "grid_auto_rows": null,
       "grid_column": null,
       "grid_gap": null,
       "grid_row": null,
       "grid_template_areas": null,
       "grid_template_columns": null,
       "grid_template_rows": null,
       "height": null,
       "justify_content": null,
       "justify_items": null,
       "left": null,
       "margin": null,
       "max_height": null,
       "max_width": null,
       "min_height": null,
       "min_width": null,
       "object_fit": null,
       "object_position": null,
       "order": null,
       "overflow": null,
       "overflow_x": null,
       "overflow_y": null,
       "padding": null,
       "right": null,
       "top": null,
       "visibility": null,
       "width": null
      }
     },
     "27fe4e21a4cb42c480c8b95b39dd4070": {
      "model_module": "@jupyter-widgets/output",
      "model_module_version": "1.0.0",
      "model_name": "OutputModel",
      "state": {
       "_dom_classes": [],
       "_model_module": "@jupyter-widgets/output",
       "_model_module_version": "1.0.0",
       "_model_name": "OutputModel",
       "_view_count": null,
       "_view_module": "@jupyter-widgets/output",
       "_view_module_version": "1.0.0",
       "_view_name": "OutputView",
       "layout": "IPY_MODEL_89bbed91b25945a5abd65bfe31204d21",
       "msg_id": "",
       "outputs": [
        {
         "data": {
          "image/png": "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\n",
          "text/plain": "<Figure size 432x288 with 1 Axes>"
         },
         "metadata": {
          "needs_background": "light"
         },
         "output_type": "display_data"
        }
       ]
      }
     },
     "2a7dcefaa88b4a679a40da4d1b15dc4c": {
      "model_module": "@jupyter-widgets/controls",
      "model_module_version": "1.5.0",
      "model_name": "VBoxModel",
      "state": {
       "_dom_classes": [
        "widget-interact"
       ],
       "_model_module": "@jupyter-widgets/controls",
       "_model_module_version": "1.5.0",
       "_model_name": "VBoxModel",
       "_view_count": null,
       "_view_module": "@jupyter-widgets/controls",
       "_view_module_version": "1.5.0",
       "_view_name": "VBoxView",
       "box_style": "",
       "children": [
        "IPY_MODEL_f82189d0da554b78b135bbfbd0c9daa0",
        "IPY_MODEL_10841a79642f459ebef7b8cdfbec6dda"
       ],
       "layout": "IPY_MODEL_762ee45e35fd43f99583a7254192f313"
      }
     },
     "30900da4390d4ad8a5de7c217ecb6ff7": {
      "model_module": "@jupyter-widgets/controls",
      "model_module_version": "1.5.0",
      "model_name": "IntSliderModel",
      "state": {
       "_dom_classes": [],
       "_model_module": "@jupyter-widgets/controls",
       "_model_module_version": "1.5.0",
       "_model_name": "IntSliderModel",
       "_view_count": null,
       "_view_module": "@jupyter-widgets/controls",
       "_view_module_version": "1.5.0",
       "_view_name": "IntSliderView",
       "continuous_update": true,
       "description": "i",
       "description_tooltip": null,
       "disabled": false,
       "layout": "IPY_MODEL_229c209d1c7c4fae8beeb5fcded1d243",
       "max": 4,
       "min": 1,
       "orientation": "horizontal",
       "readout": true,
       "readout_format": "d",
       "step": 1,
       "style": "IPY_MODEL_a682a612fd6f4709a99b3f46c957fbd0",
       "value": 4
      }
     },
     "35dd2bce321d474f8f16115de534e6b5": {
      "model_module": "@jupyter-widgets/base",
      "model_module_version": "1.2.0",
      "model_name": "LayoutModel",
      "state": {
       "_model_module": "@jupyter-widgets/base",
       "_model_module_version": "1.2.0",
       "_model_name": "LayoutModel",
       "_view_count": null,
       "_view_module": "@jupyter-widgets/base",
       "_view_module_version": "1.2.0",
       "_view_name": "LayoutView",
       "align_content": null,
       "align_items": null,
       "align_self": null,
       "border": null,
       "bottom": null,
       "display": null,
       "flex": null,
       "flex_flow": null,
       "grid_area": null,
       "grid_auto_columns": null,
       "grid_auto_flow": null,
       "grid_auto_rows": null,
       "grid_column": null,
       "grid_gap": null,
       "grid_row": null,
       "grid_template_areas": null,
       "grid_template_columns": null,
       "grid_template_rows": null,
       "height": null,
       "justify_content": null,
       "justify_items": null,
       "left": null,
       "margin": null,
       "max_height": null,
       "max_width": null,
       "min_height": null,
       "min_width": null,
       "object_fit": null,
       "object_position": null,
       "order": null,
       "overflow": null,
       "overflow_x": null,
       "overflow_y": null,
       "padding": null,
       "right": null,
       "top": null,
       "visibility": null,
       "width": null
      }
     },
     "3771bca85acf4681b6e89173bc674593": {
      "model_module": "@jupyter-widgets/controls",
      "model_module_version": "1.5.0",
      "model_name": "SliderStyleModel",
      "state": {
       "_model_module": "@jupyter-widgets/controls",
       "_model_module_version": "1.5.0",
       "_model_name": "SliderStyleModel",
       "_view_count": null,
       "_view_module": "@jupyter-widgets/base",
       "_view_module_version": "1.2.0",
       "_view_name": "StyleView",
       "description_width": "",
       "handle_color": null
      }
     },
     "3842fd2ced1c460f824f34c9c244b214": {
      "model_module": "@jupyter-widgets/base",
      "model_module_version": "1.2.0",
      "model_name": "LayoutModel",
      "state": {
       "_model_module": "@jupyter-widgets/base",
       "_model_module_version": "1.2.0",
       "_model_name": "LayoutModel",
       "_view_count": null,
       "_view_module": "@jupyter-widgets/base",
       "_view_module_version": "1.2.0",
       "_view_name": "LayoutView",
       "align_content": null,
       "align_items": null,
       "align_self": null,
       "border": null,
       "bottom": null,
       "display": null,
       "flex": null,
       "flex_flow": null,
       "grid_area": null,
       "grid_auto_columns": null,
       "grid_auto_flow": null,
       "grid_auto_rows": null,
       "grid_column": null,
       "grid_gap": null,
       "grid_row": null,
       "grid_template_areas": null,
       "grid_template_columns": null,
       "grid_template_rows": null,
       "height": null,
       "justify_content": null,
       "justify_items": null,
       "left": null,
       "margin": null,
       "max_height": null,
       "max_width": null,
       "min_height": null,
       "min_width": null,
       "object_fit": null,
       "object_position": null,
       "order": null,
       "overflow": null,
       "overflow_x": null,
       "overflow_y": null,
       "padding": null,
       "right": null,
       "top": null,
       "visibility": null,
       "width": null
      }
     },
     "555f4f94c7eb44a989227eeb29070526": {
      "model_module": "@jupyter-widgets/controls",
      "model_module_version": "1.5.0",
      "model_name": "VBoxModel",
      "state": {
       "_dom_classes": [
        "widget-interact"
       ],
       "_model_module": "@jupyter-widgets/controls",
       "_model_module_version": "1.5.0",
       "_model_name": "VBoxModel",
       "_view_count": null,
       "_view_module": "@jupyter-widgets/controls",
       "_view_module_version": "1.5.0",
       "_view_name": "VBoxView",
       "box_style": "",
       "children": [
        "IPY_MODEL_18de8dad7dbd4b79b14900a7bb4a07e0",
        "IPY_MODEL_97b158700e33429e9ce7ce4d29ffa782"
       ],
       "layout": "IPY_MODEL_3842fd2ced1c460f824f34c9c244b214"
      }
     },
     "5863ff5a1fb94eae87e2c29112834dd7": {
      "model_module": "@jupyter-widgets/base",
      "model_module_version": "1.2.0",
      "model_name": "LayoutModel",
      "state": {
       "_model_module": "@jupyter-widgets/base",
       "_model_module_version": "1.2.0",
       "_model_name": "LayoutModel",
       "_view_count": null,
       "_view_module": "@jupyter-widgets/base",
       "_view_module_version": "1.2.0",
       "_view_name": "LayoutView",
       "align_content": null,
       "align_items": null,
       "align_self": null,
       "border": null,
       "bottom": null,
       "display": null,
       "flex": null,
       "flex_flow": null,
       "grid_area": null,
       "grid_auto_columns": null,
       "grid_auto_flow": null,
       "grid_auto_rows": null,
       "grid_column": null,
       "grid_gap": null,
       "grid_row": null,
       "grid_template_areas": null,
       "grid_template_columns": null,
       "grid_template_rows": null,
       "height": null,
       "justify_content": null,
       "justify_items": null,
       "left": null,
       "margin": null,
       "max_height": null,
       "max_width": null,
       "min_height": null,
       "min_width": null,
       "object_fit": null,
       "object_position": null,
       "order": null,
       "overflow": null,
       "overflow_x": null,
       "overflow_y": null,
       "padding": null,
       "right": null,
       "top": null,
       "visibility": null,
       "width": null
      }
     },
     "5bc85675d12f4f68ad387498f7ecc183": {
      "model_module": "@jupyter-widgets/base",
      "model_module_version": "1.2.0",
      "model_name": "LayoutModel",
      "state": {
       "_model_module": "@jupyter-widgets/base",
       "_model_module_version": "1.2.0",
       "_model_name": "LayoutModel",
       "_view_count": null,
       "_view_module": "@jupyter-widgets/base",
       "_view_module_version": "1.2.0",
       "_view_name": "LayoutView",
       "align_content": null,
       "align_items": null,
       "align_self": null,
       "border": null,
       "bottom": null,
       "display": null,
       "flex": null,
       "flex_flow": null,
       "grid_area": null,
       "grid_auto_columns": null,
       "grid_auto_flow": null,
       "grid_auto_rows": null,
       "grid_column": null,
       "grid_gap": null,
       "grid_row": null,
       "grid_template_areas": null,
       "grid_template_columns": null,
       "grid_template_rows": null,
       "height": null,
       "justify_content": null,
       "justify_items": null,
       "left": null,
       "margin": null,
       "max_height": null,
       "max_width": null,
       "min_height": null,
       "min_width": null,
       "object_fit": null,
       "object_position": null,
       "order": null,
       "overflow": null,
       "overflow_x": null,
       "overflow_y": null,
       "padding": null,
       "right": null,
       "top": null,
       "visibility": null,
       "width": null
      }
     },
     "61c2fc8cb94749c19bb3b5d3a170553f": {
      "model_module": "@jupyter-widgets/base",
      "model_module_version": "1.2.0",
      "model_name": "LayoutModel",
      "state": {
       "_model_module": "@jupyter-widgets/base",
       "_model_module_version": "1.2.0",
       "_model_name": "LayoutModel",
       "_view_count": null,
       "_view_module": "@jupyter-widgets/base",
       "_view_module_version": "1.2.0",
       "_view_name": "LayoutView",
       "align_content": null,
       "align_items": null,
       "align_self": null,
       "border": null,
       "bottom": null,
       "display": null,
       "flex": null,
       "flex_flow": null,
       "grid_area": null,
       "grid_auto_columns": null,
       "grid_auto_flow": null,
       "grid_auto_rows": null,
       "grid_column": null,
       "grid_gap": null,
       "grid_row": null,
       "grid_template_areas": null,
       "grid_template_columns": null,
       "grid_template_rows": null,
       "height": null,
       "justify_content": null,
       "justify_items": null,
       "left": null,
       "margin": null,
       "max_height": null,
       "max_width": null,
       "min_height": null,
       "min_width": null,
       "object_fit": null,
       "object_position": null,
       "order": null,
       "overflow": null,
       "overflow_x": null,
       "overflow_y": null,
       "padding": null,
       "right": null,
       "top": null,
       "visibility": null,
       "width": null
      }
     },
     "6372a98d36e04c319ff637f2d6a88ace": {
      "model_module": "@jupyter-widgets/base",
      "model_module_version": "1.2.0",
      "model_name": "LayoutModel",
      "state": {
       "_model_module": "@jupyter-widgets/base",
       "_model_module_version": "1.2.0",
       "_model_name": "LayoutModel",
       "_view_count": null,
       "_view_module": "@jupyter-widgets/base",
       "_view_module_version": "1.2.0",
       "_view_name": "LayoutView",
       "align_content": null,
       "align_items": null,
       "align_self": null,
       "border": null,
       "bottom": null,
       "display": null,
       "flex": null,
       "flex_flow": null,
       "grid_area": null,
       "grid_auto_columns": null,
       "grid_auto_flow": null,
       "grid_auto_rows": null,
       "grid_column": null,
       "grid_gap": null,
       "grid_row": null,
       "grid_template_areas": null,
       "grid_template_columns": null,
       "grid_template_rows": null,
       "height": null,
       "justify_content": null,
       "justify_items": null,
       "left": null,
       "margin": null,
       "max_height": null,
       "max_width": null,
       "min_height": null,
       "min_width": null,
       "object_fit": null,
       "object_position": null,
       "order": null,
       "overflow": null,
       "overflow_x": null,
       "overflow_y": null,
       "padding": null,
       "right": null,
       "top": null,
       "visibility": null,
       "width": null
      }
     },
     "638f0ec1b3d84f19bf81f07644e6ddbe": {
      "model_module": "@jupyter-widgets/output",
      "model_module_version": "1.0.0",
      "model_name": "OutputModel",
      "state": {
       "_dom_classes": [],
       "_model_module": "@jupyter-widgets/output",
       "_model_module_version": "1.0.0",
       "_model_name": "OutputModel",
       "_view_count": null,
       "_view_module": "@jupyter-widgets/output",
       "_view_module_version": "1.0.0",
       "_view_name": "OutputView",
       "layout": "IPY_MODEL_61c2fc8cb94749c19bb3b5d3a170553f",
       "msg_id": "",
       "outputs": [
        {
         "data": {
          "text/html": "<img src=\"figures/3/deflectionMapAcquisition_4.svg\" style=\"max-height:50vh\"/>",
          "text/plain": "<IPython.core.display.HTML object>"
         },
         "metadata": {},
         "output_type": "display_data"
        }
       ]
      }
     },
     "65437a999a414cf690a4ee5eb295d684": {
      "model_module": "@jupyter-widgets/controls",
      "model_module_version": "1.5.0",
      "model_name": "IntSliderModel",
      "state": {
       "_dom_classes": [],
       "_model_module": "@jupyter-widgets/controls",
       "_model_module_version": "1.5.0",
       "_model_name": "IntSliderModel",
       "_view_count": null,
       "_view_module": "@jupyter-widgets/controls",
       "_view_module_version": "1.5.0",
       "_view_name": "IntSliderView",
       "continuous_update": true,
       "description": "i",
       "description_tooltip": null,
       "disabled": false,
       "layout": "IPY_MODEL_0750e59d0ed94c169b47109bddd18a95",
       "max": 3,
       "min": 0,
       "orientation": "horizontal",
       "readout": true,
       "readout_format": "d",
       "step": 1,
       "style": "IPY_MODEL_7bb69815808f4a0b91980b5ce1dc1920",
       "value": 3
      }
     },
     "65b1e490d9084df9ac46a9bb58f7c2d6": {
      "model_module": "@jupyter-widgets/output",
      "model_module_version": "1.0.0",
      "model_name": "OutputModel",
      "state": {
       "_dom_classes": [],
       "_model_module": "@jupyter-widgets/output",
       "_model_module_version": "1.0.0",
       "_model_name": "OutputModel",
       "_view_count": null,
       "_view_module": "@jupyter-widgets/output",
       "_view_module_version": "1.0.0",
       "_view_name": "OutputView",
       "layout": "IPY_MODEL_bd07cea9706145489e758c106cbadb99",
       "msg_id": "",
       "outputs": [
        {
         "data": {
          "text/html": "<img src=\"figures/3/lfg_concept_4.svg\" style=\"max-height:50vh\"/>",
          "text/plain": "<IPython.core.display.HTML object>"
         },
         "metadata": {},
         "output_type": "display_data"
        }
       ]
      }
     },
     "688fe6a942354863a77f4c8bbe13813a": {
      "model_module": "@jupyter-widgets/controls",
      "model_module_version": "1.5.0",
      "model_name": "IntSliderModel",
      "state": {
       "_dom_classes": [],
       "_model_module": "@jupyter-widgets/controls",
       "_model_module_version": "1.5.0",
       "_model_name": "IntSliderModel",
       "_view_count": null,
       "_view_module": "@jupyter-widgets/controls",
       "_view_module_version": "1.5.0",
       "_view_name": "IntSliderView",
       "continuous_update": true,
       "description": "i",
       "description_tooltip": null,
       "disabled": false,
       "layout": "IPY_MODEL_aa72e3862b454bb9b945abfa8bc69b5e",
       "max": 4,
       "min": 0,
       "orientation": "horizontal",
       "readout": true,
       "readout_format": "d",
       "step": 1,
       "style": "IPY_MODEL_7794c13876574256be056ed1a3ba5df4",
       "value": 4
      }
     },
     "6ad38831e49d49dd837af2bf6f2417bd": {
      "model_module": "@jupyter-widgets/controls",
      "model_module_version": "1.5.0",
      "model_name": "VBoxModel",
      "state": {
       "_dom_classes": [
        "widget-interact"
       ],
       "_model_module": "@jupyter-widgets/controls",
       "_model_module_version": "1.5.0",
       "_model_name": "VBoxModel",
       "_view_count": null,
       "_view_module": "@jupyter-widgets/controls",
       "_view_module_version": "1.5.0",
       "_view_name": "VBoxView",
       "box_style": "",
       "children": [
        "IPY_MODEL_ed6da19654db46f582f3b40bebd00fe8",
        "IPY_MODEL_27fe4e21a4cb42c480c8b95b39dd4070"
       ],
       "layout": "IPY_MODEL_907a6b2e18dd44da92e6774564ac00d6"
      }
     },
     "6bab4529d7f44c229b8dc4683b7b838e": {
      "model_module": "@jupyter-widgets/controls",
      "model_module_version": "1.5.0",
      "model_name": "VBoxModel",
      "state": {
       "_dom_classes": [
        "widget-interact"
       ],
       "_model_module": "@jupyter-widgets/controls",
       "_model_module_version": "1.5.0",
       "_model_name": "VBoxModel",
       "_view_count": null,
       "_view_module": "@jupyter-widgets/controls",
       "_view_module_version": "1.5.0",
       "_view_name": "VBoxView",
       "box_style": "",
       "children": [
        "IPY_MODEL_14507d029eab43b98c9ab5df0e0b7de8",
        "IPY_MODEL_147141c32e4e4d3dbe4a0da314a6f0d2"
       ],
       "layout": "IPY_MODEL_9501c4b867f74c05a7178bbc77fb3388"
      }
     },
     "6dfa7af50d34446f8f895a06ad595f68": {
      "model_module": "@jupyter-widgets/base",
      "model_module_version": "1.2.0",
      "model_name": "LayoutModel",
      "state": {
       "_model_module": "@jupyter-widgets/base",
       "_model_module_version": "1.2.0",
       "_model_name": "LayoutModel",
       "_view_count": null,
       "_view_module": "@jupyter-widgets/base",
       "_view_module_version": "1.2.0",
       "_view_name": "LayoutView",
       "align_content": null,
       "align_items": null,
       "align_self": null,
       "border": null,
       "bottom": null,
       "display": null,
       "flex": null,
       "flex_flow": null,
       "grid_area": null,
       "grid_auto_columns": null,
       "grid_auto_flow": null,
       "grid_auto_rows": null,
       "grid_column": null,
       "grid_gap": null,
       "grid_row": null,
       "grid_template_areas": null,
       "grid_template_columns": null,
       "grid_template_rows": null,
       "height": null,
       "justify_content": null,
       "justify_items": null,
       "left": null,
       "margin": null,
       "max_height": null,
       "max_width": null,
       "min_height": null,
       "min_width": null,
       "object_fit": null,
       "object_position": null,
       "order": null,
       "overflow": null,
       "overflow_x": null,
       "overflow_y": null,
       "padding": null,
       "right": null,
       "top": null,
       "visibility": null,
       "width": null
      }
     },
     "704f95b67fd246f0973bb09f0077ecac": {
      "model_module": "@jupyter-widgets/base",
      "model_module_version": "1.2.0",
      "model_name": "LayoutModel",
      "state": {
       "_model_module": "@jupyter-widgets/base",
       "_model_module_version": "1.2.0",
       "_model_name": "LayoutModel",
       "_view_count": null,
       "_view_module": "@jupyter-widgets/base",
       "_view_module_version": "1.2.0",
       "_view_name": "LayoutView",
       "align_content": null,
       "align_items": null,
       "align_self": null,
       "border": null,
       "bottom": null,
       "display": null,
       "flex": null,
       "flex_flow": null,
       "grid_area": null,
       "grid_auto_columns": null,
       "grid_auto_flow": null,
       "grid_auto_rows": null,
       "grid_column": null,
       "grid_gap": null,
       "grid_row": null,
       "grid_template_areas": null,
       "grid_template_columns": null,
       "grid_template_rows": null,
       "height": null,
       "justify_content": null,
       "justify_items": null,
       "left": null,
       "margin": null,
       "max_height": null,
       "max_width": null,
       "min_height": null,
       "min_width": null,
       "object_fit": null,
       "object_position": null,
       "order": null,
       "overflow": null,
       "overflow_x": null,
       "overflow_y": null,
       "padding": null,
       "right": null,
       "top": null,
       "visibility": null,
       "width": null
      }
     },
     "750d8889c90441ba81bcac321407f60f": {
      "model_module": "@jupyter-widgets/base",
      "model_module_version": "1.2.0",
      "model_name": "LayoutModel",
      "state": {
       "_model_module": "@jupyter-widgets/base",
       "_model_module_version": "1.2.0",
       "_model_name": "LayoutModel",
       "_view_count": null,
       "_view_module": "@jupyter-widgets/base",
       "_view_module_version": "1.2.0",
       "_view_name": "LayoutView",
       "align_content": null,
       "align_items": null,
       "align_self": null,
       "border": null,
       "bottom": null,
       "display": null,
       "flex": null,
       "flex_flow": null,
       "grid_area": null,
       "grid_auto_columns": null,
       "grid_auto_flow": null,
       "grid_auto_rows": null,
       "grid_column": null,
       "grid_gap": null,
       "grid_row": null,
       "grid_template_areas": null,
       "grid_template_columns": null,
       "grid_template_rows": null,
       "height": null,
       "justify_content": null,
       "justify_items": null,
       "left": null,
       "margin": null,
       "max_height": null,
       "max_width": null,
       "min_height": null,
       "min_width": null,
       "object_fit": null,
       "object_position": null,
       "order": null,
       "overflow": null,
       "overflow_x": null,
       "overflow_y": null,
       "padding": null,
       "right": null,
       "top": null,
       "visibility": null,
       "width": null
      }
     },
     "761ffb0fffd940148b5981b39f660b9e": {
      "model_module": "@jupyter-widgets/output",
      "model_module_version": "1.0.0",
      "model_name": "OutputModel",
      "state": {
       "_dom_classes": [],
       "_model_module": "@jupyter-widgets/output",
       "_model_module_version": "1.0.0",
       "_model_name": "OutputModel",
       "_view_count": null,
       "_view_module": "@jupyter-widgets/output",
       "_view_module_version": "1.0.0",
       "_view_name": "OutputView",
       "layout": "IPY_MODEL_750d8889c90441ba81bcac321407f60f",
       "msg_id": "",
       "outputs": [
        {
         "data": {
          "text/html": "<img src=\"figures/3/LightfieldLaserScannerWithObject_3.svg\" style=\"max-height:50vh\"/>",
          "text/plain": "<IPython.core.display.HTML object>"
         },
         "metadata": {},
         "output_type": "display_data"
        }
       ]
      }
     },
     "762ee45e35fd43f99583a7254192f313": {
      "model_module": "@jupyter-widgets/base",
      "model_module_version": "1.2.0",
      "model_name": "LayoutModel",
      "state": {
       "_model_module": "@jupyter-widgets/base",
       "_model_module_version": "1.2.0",
       "_model_name": "LayoutModel",
       "_view_count": null,
       "_view_module": "@jupyter-widgets/base",
       "_view_module_version": "1.2.0",
       "_view_name": "LayoutView",
       "align_content": null,
       "align_items": null,
       "align_self": null,
       "border": null,
       "bottom": null,
       "display": null,
       "flex": null,
       "flex_flow": null,
       "grid_area": null,
       "grid_auto_columns": null,
       "grid_auto_flow": null,
       "grid_auto_rows": null,
       "grid_column": null,
       "grid_gap": null,
       "grid_row": null,
       "grid_template_areas": null,
       "grid_template_columns": null,
       "grid_template_rows": null,
       "height": null,
       "justify_content": null,
       "justify_items": null,
       "left": null,
       "margin": null,
       "max_height": null,
       "max_width": null,
       "min_height": null,
       "min_width": null,
       "object_fit": null,
       "object_position": null,
       "order": null,
       "overflow": null,
       "overflow_x": null,
       "overflow_y": null,
       "padding": null,
       "right": null,
       "top": null,
       "visibility": null,
       "width": null
      }
     },
     "7794c13876574256be056ed1a3ba5df4": {
      "model_module": "@jupyter-widgets/controls",
      "model_module_version": "1.5.0",
      "model_name": "SliderStyleModel",
      "state": {
       "_model_module": "@jupyter-widgets/controls",
       "_model_module_version": "1.5.0",
       "_model_name": "SliderStyleModel",
       "_view_count": null,
       "_view_module": "@jupyter-widgets/base",
       "_view_module_version": "1.2.0",
       "_view_name": "StyleView",
       "description_width": "",
       "handle_color": null
      }
     },
     "7b56113881ff44e7843f164cf92e1d98": {
      "model_module": "@jupyter-widgets/base",
      "model_module_version": "1.2.0",
      "model_name": "LayoutModel",
      "state": {
       "_model_module": "@jupyter-widgets/base",
       "_model_module_version": "1.2.0",
       "_model_name": "LayoutModel",
       "_view_count": null,
       "_view_module": "@jupyter-widgets/base",
       "_view_module_version": "1.2.0",
       "_view_name": "LayoutView",
       "align_content": null,
       "align_items": null,
       "align_self": null,
       "border": null,
       "bottom": null,
       "display": null,
       "flex": null,
       "flex_flow": null,
       "grid_area": null,
       "grid_auto_columns": null,
       "grid_auto_flow": null,
       "grid_auto_rows": null,
       "grid_column": null,
       "grid_gap": null,
       "grid_row": null,
       "grid_template_areas": null,
       "grid_template_columns": null,
       "grid_template_rows": null,
       "height": null,
       "justify_content": null,
       "justify_items": null,
       "left": null,
       "margin": null,
       "max_height": null,
       "max_width": null,
       "min_height": null,
       "min_width": null,
       "object_fit": null,
       "object_position": null,
       "order": null,
       "overflow": null,
       "overflow_x": null,
       "overflow_y": null,
       "padding": null,
       "right": null,
       "top": null,
       "visibility": null,
       "width": null
      }
     },
     "7bb69815808f4a0b91980b5ce1dc1920": {
      "model_module": "@jupyter-widgets/controls",
      "model_module_version": "1.5.0",
      "model_name": "SliderStyleModel",
      "state": {
       "_model_module": "@jupyter-widgets/controls",
       "_model_module_version": "1.5.0",
       "_model_name": "SliderStyleModel",
       "_view_count": null,
       "_view_module": "@jupyter-widgets/base",
       "_view_module_version": "1.2.0",
       "_view_name": "StyleView",
       "description_width": "",
       "handle_color": null
      }
     },
     "8063dc98f2444954a55d659d3350faac": {
      "model_module": "@jupyter-widgets/output",
      "model_module_version": "1.0.0",
      "model_name": "OutputModel",
      "state": {
       "_dom_classes": [],
       "_model_module": "@jupyter-widgets/output",
       "_model_module_version": "1.0.0",
       "_model_name": "OutputModel",
       "_view_count": null,
       "_view_module": "@jupyter-widgets/output",
       "_view_module_version": "1.0.0",
       "_view_name": "OutputView",
       "layout": "IPY_MODEL_d00824d02cc144579d3a8f7aa8b3ba03",
       "msg_id": "",
       "outputs": [
        {
         "data": {
          "text/html": "<img src=\"figures/3/lfCameraPrinciple_3.svg\" style=\"max-height:50vh\"/>",
          "text/plain": "<IPython.core.display.HTML object>"
         },
         "metadata": {},
         "output_type": "display_data"
        }
       ]
      }
     },
     "81c827322ed146848d5f4aeaa4d37f5a": {
      "model_module": "@jupyter-widgets/controls",
      "model_module_version": "1.5.0",
      "model_name": "VBoxModel",
      "state": {
       "_dom_classes": [
        "widget-interact"
       ],
       "_model_module": "@jupyter-widgets/controls",
       "_model_module_version": "1.5.0",
       "_model_name": "VBoxModel",
       "_view_count": null,
       "_view_module": "@jupyter-widgets/controls",
       "_view_module_version": "1.5.0",
       "_view_name": "VBoxView",
       "box_style": "",
       "children": [
        "IPY_MODEL_65437a999a414cf690a4ee5eb295d684",
        "IPY_MODEL_0ccd66f63bdf455cb4e93bedd4ecc753"
       ],
       "layout": "IPY_MODEL_efbb19f90395469c9f688775a010d5f6"
      }
     },
     "83ad3e414ff646bcb473d9309f1f84df": {
      "model_module": "@jupyter-widgets/controls",
      "model_module_version": "1.5.0",
      "model_name": "VBoxModel",
      "state": {
       "_dom_classes": [
        "widget-interact"
       ],
       "_model_module": "@jupyter-widgets/controls",
       "_model_module_version": "1.5.0",
       "_model_name": "VBoxModel",
       "_view_count": null,
       "_view_module": "@jupyter-widgets/controls",
       "_view_module_version": "1.5.0",
       "_view_name": "VBoxView",
       "box_style": "",
       "children": [
        "IPY_MODEL_d581eb54e62c4f3598b2020b7989bfc2",
        "IPY_MODEL_025005372a3147388a2a7ef85ea5462c"
       ],
       "layout": "IPY_MODEL_1312ff335b0b40669a1906d865ba2183"
      }
     },
     "87665e9c1f4d4b399cfc1f45855e3672": {
      "model_module": "@jupyter-widgets/controls",
      "model_module_version": "1.5.0",
      "model_name": "SliderStyleModel",
      "state": {
       "_model_module": "@jupyter-widgets/controls",
       "_model_module_version": "1.5.0",
       "_model_name": "SliderStyleModel",
       "_view_count": null,
       "_view_module": "@jupyter-widgets/base",
       "_view_module_version": "1.2.0",
       "_view_name": "StyleView",
       "description_width": "",
       "handle_color": null
      }
     },
     "8894cadaa7874e76a44c5dc319589faa": {
      "model_module": "@jupyter-widgets/controls",
      "model_module_version": "1.5.0",
      "model_name": "SliderStyleModel",
      "state": {
       "_model_module": "@jupyter-widgets/controls",
       "_model_module_version": "1.5.0",
       "_model_name": "SliderStyleModel",
       "_view_count": null,
       "_view_module": "@jupyter-widgets/base",
       "_view_module_version": "1.2.0",
       "_view_name": "StyleView",
       "description_width": "",
       "handle_color": null
      }
     },
     "89bbed91b25945a5abd65bfe31204d21": {
      "model_module": "@jupyter-widgets/base",
      "model_module_version": "1.2.0",
      "model_name": "LayoutModel",
      "state": {
       "_model_module": "@jupyter-widgets/base",
       "_model_module_version": "1.2.0",
       "_model_name": "LayoutModel",
       "_view_count": null,
       "_view_module": "@jupyter-widgets/base",
       "_view_module_version": "1.2.0",
       "_view_name": "LayoutView",
       "align_content": null,
       "align_items": null,
       "align_self": null,
       "border": null,
       "bottom": null,
       "display": null,
       "flex": null,
       "flex_flow": null,
       "grid_area": null,
       "grid_auto_columns": null,
       "grid_auto_flow": null,
       "grid_auto_rows": null,
       "grid_column": null,
       "grid_gap": null,
       "grid_row": null,
       "grid_template_areas": null,
       "grid_template_columns": null,
       "grid_template_rows": null,
       "height": null,
       "justify_content": null,
       "justify_items": null,
       "left": null,
       "margin": null,
       "max_height": null,
       "max_width": null,
       "min_height": null,
       "min_width": null,
       "object_fit": null,
       "object_position": null,
       "order": null,
       "overflow": null,
       "overflow_x": null,
       "overflow_y": null,
       "padding": null,
       "right": null,
       "top": null,
       "visibility": null,
       "width": null
      }
     },
     "8bcbf7f58acc4ee29a86d5a0f54a5255": {
      "model_module": "@jupyter-widgets/controls",
      "model_module_version": "1.5.0",
      "model_name": "VBoxModel",
      "state": {
       "_dom_classes": [
        "widget-interact"
       ],
       "_model_module": "@jupyter-widgets/controls",
       "_model_module_version": "1.5.0",
       "_model_name": "VBoxModel",
       "_view_count": null,
       "_view_module": "@jupyter-widgets/controls",
       "_view_module_version": "1.5.0",
       "_view_name": "VBoxView",
       "box_style": "",
       "children": [
        "IPY_MODEL_bd253250ab7e43f48559c253676cd1a1",
        "IPY_MODEL_062aa3d0b7eb4c23ab90e0d7ae04a055"
       ],
       "layout": "IPY_MODEL_d1e3bc18f9f64791858e3297980d7b77"
      }
     },
     "907a6b2e18dd44da92e6774564ac00d6": {
      "model_module": "@jupyter-widgets/base",
      "model_module_version": "1.2.0",
      "model_name": "LayoutModel",
      "state": {
       "_model_module": "@jupyter-widgets/base",
       "_model_module_version": "1.2.0",
       "_model_name": "LayoutModel",
       "_view_count": null,
       "_view_module": "@jupyter-widgets/base",
       "_view_module_version": "1.2.0",
       "_view_name": "LayoutView",
       "align_content": null,
       "align_items": null,
       "align_self": null,
       "border": null,
       "bottom": null,
       "display": null,
       "flex": null,
       "flex_flow": null,
       "grid_area": null,
       "grid_auto_columns": null,
       "grid_auto_flow": null,
       "grid_auto_rows": null,
       "grid_column": null,
       "grid_gap": null,
       "grid_row": null,
       "grid_template_areas": null,
       "grid_template_columns": null,
       "grid_template_rows": null,
       "height": null,
       "justify_content": null,
       "justify_items": null,
       "left": null,
       "margin": null,
       "max_height": null,
       "max_width": null,
       "min_height": null,
       "min_width": null,
       "object_fit": null,
       "object_position": null,
       "order": null,
       "overflow": null,
       "overflow_x": null,
       "overflow_y": null,
       "padding": null,
       "right": null,
       "top": null,
       "visibility": null,
       "width": null
      }
     },
     "91f8453f28424ec888da707d4c68aacb": {
      "model_module": "@jupyter-widgets/controls",
      "model_module_version": "1.5.0",
      "model_name": "SliderStyleModel",
      "state": {
       "_model_module": "@jupyter-widgets/controls",
       "_model_module_version": "1.5.0",
       "_model_name": "SliderStyleModel",
       "_view_count": null,
       "_view_module": "@jupyter-widgets/base",
       "_view_module_version": "1.2.0",
       "_view_name": "StyleView",
       "description_width": "",
       "handle_color": null
      }
     },
     "93d42f05d40b4d5e8f5d4cd541aa7ca2": {
      "model_module": "@jupyter-widgets/controls",
      "model_module_version": "1.5.0",
      "model_name": "VBoxModel",
      "state": {
       "_dom_classes": [
        "widget-interact"
       ],
       "_model_module": "@jupyter-widgets/controls",
       "_model_module_version": "1.5.0",
       "_model_name": "VBoxModel",
       "_view_count": null,
       "_view_module": "@jupyter-widgets/controls",
       "_view_module_version": "1.5.0",
       "_view_name": "VBoxView",
       "box_style": "",
       "children": [
        "IPY_MODEL_12ccf26ac4a64bc99ad4ec31571bc6b4",
        "IPY_MODEL_761ffb0fffd940148b5981b39f660b9e"
       ],
       "layout": "IPY_MODEL_0cb452313d5347c297100272e2b4661f"
      }
     },
     "9501c4b867f74c05a7178bbc77fb3388": {
      "model_module": "@jupyter-widgets/base",
      "model_module_version": "1.2.0",
      "model_name": "LayoutModel",
      "state": {
       "_model_module": "@jupyter-widgets/base",
       "_model_module_version": "1.2.0",
       "_model_name": "LayoutModel",
       "_view_count": null,
       "_view_module": "@jupyter-widgets/base",
       "_view_module_version": "1.2.0",
       "_view_name": "LayoutView",
       "align_content": null,
       "align_items": null,
       "align_self": null,
       "border": null,
       "bottom": null,
       "display": null,
       "flex": null,
       "flex_flow": null,
       "grid_area": null,
       "grid_auto_columns": null,
       "grid_auto_flow": null,
       "grid_auto_rows": null,
       "grid_column": null,
       "grid_gap": null,
       "grid_row": null,
       "grid_template_areas": null,
       "grid_template_columns": null,
       "grid_template_rows": null,
       "height": null,
       "justify_content": null,
       "justify_items": null,
       "left": null,
       "margin": null,
       "max_height": null,
       "max_width": null,
       "min_height": null,
       "min_width": null,
       "object_fit": null,
       "object_position": null,
       "order": null,
       "overflow": null,
       "overflow_x": null,
       "overflow_y": null,
       "padding": null,
       "right": null,
       "top": null,
       "visibility": null,
       "width": null
      }
     },
     "9627ceab04864d6ebdfb53788d273d62": {
      "model_module": "@jupyter-widgets/base",
      "model_module_version": "1.2.0",
      "model_name": "LayoutModel",
      "state": {
       "_model_module": "@jupyter-widgets/base",
       "_model_module_version": "1.2.0",
       "_model_name": "LayoutModel",
       "_view_count": null,
       "_view_module": "@jupyter-widgets/base",
       "_view_module_version": "1.2.0",
       "_view_name": "LayoutView",
       "align_content": null,
       "align_items": null,
       "align_self": null,
       "border": null,
       "bottom": null,
       "display": null,
       "flex": null,
       "flex_flow": null,
       "grid_area": null,
       "grid_auto_columns": null,
       "grid_auto_flow": null,
       "grid_auto_rows": null,
       "grid_column": null,
       "grid_gap": null,
       "grid_row": null,
       "grid_template_areas": null,
       "grid_template_columns": null,
       "grid_template_rows": null,
       "height": null,
       "justify_content": null,
       "justify_items": null,
       "left": null,
       "margin": null,
       "max_height": null,
       "max_width": null,
       "min_height": null,
       "min_width": null,
       "object_fit": null,
       "object_position": null,
       "order": null,
       "overflow": null,
       "overflow_x": null,
       "overflow_y": null,
       "padding": null,
       "right": null,
       "top": null,
       "visibility": null,
       "width": null
      }
     },
     "97b158700e33429e9ce7ce4d29ffa782": {
      "model_module": "@jupyter-widgets/output",
      "model_module_version": "1.0.0",
      "model_name": "OutputModel",
      "state": {
       "_dom_classes": [],
       "_model_module": "@jupyter-widgets/output",
       "_model_module_version": "1.0.0",
       "_model_name": "OutputModel",
       "_view_count": null,
       "_view_module": "@jupyter-widgets/output",
       "_view_module_version": "1.0.0",
       "_view_name": "OutputView",
       "layout": "IPY_MODEL_a4775940385c4627b1bcdf72ba045ea6",
       "msg_id": "",
       "outputs": [
        {
         "data": {
          "text/html": "<img src=\"figures/3/lfExample_8.png\" style=\"max-height:500vh\"/>",
          "text/plain": "<IPython.core.display.HTML object>"
         },
         "metadata": {},
         "output_type": "display_data"
        }
       ]
      }
     },
     "a19d6256d1a84ceaaf2cbadd22879ed0": {
      "model_module": "@jupyter-widgets/base",
      "model_module_version": "1.2.0",
      "model_name": "LayoutModel",
      "state": {
       "_model_module": "@jupyter-widgets/base",
       "_model_module_version": "1.2.0",
       "_model_name": "LayoutModel",
       "_view_count": null,
       "_view_module": "@jupyter-widgets/base",
       "_view_module_version": "1.2.0",
       "_view_name": "LayoutView",
       "align_content": null,
       "align_items": null,
       "align_self": null,
       "border": null,
       "bottom": null,
       "display": null,
       "flex": null,
       "flex_flow": null,
       "grid_area": null,
       "grid_auto_columns": null,
       "grid_auto_flow": null,
       "grid_auto_rows": null,
       "grid_column": null,
       "grid_gap": null,
       "grid_row": null,
       "grid_template_areas": null,
       "grid_template_columns": null,
       "grid_template_rows": null,
       "height": null,
       "justify_content": null,
       "justify_items": null,
       "left": null,
       "margin": null,
       "max_height": null,
       "max_width": null,
       "min_height": null,
       "min_width": null,
       "object_fit": null,
       "object_position": null,
       "order": null,
       "overflow": null,
       "overflow_x": null,
       "overflow_y": null,
       "padding": null,
       "right": null,
       "top": null,
       "visibility": null,
       "width": null
      }
     },
     "a2814fb6bbfa4a4f8e8cb930c1bf8448": {
      "model_module": "@jupyter-widgets/controls",
      "model_module_version": "1.5.0",
      "model_name": "SliderStyleModel",
      "state": {
       "_model_module": "@jupyter-widgets/controls",
       "_model_module_version": "1.5.0",
       "_model_name": "SliderStyleModel",
       "_view_count": null,
       "_view_module": "@jupyter-widgets/base",
       "_view_module_version": "1.2.0",
       "_view_name": "StyleView",
       "description_width": "",
       "handle_color": null
      }
     },
     "a4775940385c4627b1bcdf72ba045ea6": {
      "model_module": "@jupyter-widgets/base",
      "model_module_version": "1.2.0",
      "model_name": "LayoutModel",
      "state": {
       "_model_module": "@jupyter-widgets/base",
       "_model_module_version": "1.2.0",
       "_model_name": "LayoutModel",
       "_view_count": null,
       "_view_module": "@jupyter-widgets/base",
       "_view_module_version": "1.2.0",
       "_view_name": "LayoutView",
       "align_content": null,
       "align_items": null,
       "align_self": null,
       "border": null,
       "bottom": null,
       "display": null,
       "flex": null,
       "flex_flow": null,
       "grid_area": null,
       "grid_auto_columns": null,
       "grid_auto_flow": null,
       "grid_auto_rows": null,
       "grid_column": null,
       "grid_gap": null,
       "grid_row": null,
       "grid_template_areas": null,
       "grid_template_columns": null,
       "grid_template_rows": null,
       "height": null,
       "justify_content": null,
       "justify_items": null,
       "left": null,
       "margin": null,
       "max_height": null,
       "max_width": null,
       "min_height": null,
       "min_width": null,
       "object_fit": null,
       "object_position": null,
       "order": null,
       "overflow": null,
       "overflow_x": null,
       "overflow_y": null,
       "padding": null,
       "right": null,
       "top": null,
       "visibility": null,
       "width": null
      }
     },
     "a589e0ee1ee94fe7b7540ebb91f7e54a": {
      "model_module": "@jupyter-widgets/base",
      "model_module_version": "1.2.0",
      "model_name": "LayoutModel",
      "state": {
       "_model_module": "@jupyter-widgets/base",
       "_model_module_version": "1.2.0",
       "_model_name": "LayoutModel",
       "_view_count": null,
       "_view_module": "@jupyter-widgets/base",
       "_view_module_version": "1.2.0",
       "_view_name": "LayoutView",
       "align_content": null,
       "align_items": null,
       "align_self": null,
       "border": null,
       "bottom": null,
       "display": null,
       "flex": null,
       "flex_flow": null,
       "grid_area": null,
       "grid_auto_columns": null,
       "grid_auto_flow": null,
       "grid_auto_rows": null,
       "grid_column": null,
       "grid_gap": null,
       "grid_row": null,
       "grid_template_areas": null,
       "grid_template_columns": null,
       "grid_template_rows": null,
       "height": null,
       "justify_content": null,
       "justify_items": null,
       "left": null,
       "margin": null,
       "max_height": null,
       "max_width": null,
       "min_height": null,
       "min_width": null,
       "object_fit": null,
       "object_position": null,
       "order": null,
       "overflow": null,
       "overflow_x": null,
       "overflow_y": null,
       "padding": null,
       "right": null,
       "top": null,
       "visibility": null,
       "width": null
      }
     },
     "a682a612fd6f4709a99b3f46c957fbd0": {
      "model_module": "@jupyter-widgets/controls",
      "model_module_version": "1.5.0",
      "model_name": "SliderStyleModel",
      "state": {
       "_model_module": "@jupyter-widgets/controls",
       "_model_module_version": "1.5.0",
       "_model_name": "SliderStyleModel",
       "_view_count": null,
       "_view_module": "@jupyter-widgets/base",
       "_view_module_version": "1.2.0",
       "_view_name": "StyleView",
       "description_width": "",
       "handle_color": null
      }
     },
     "aa72e3862b454bb9b945abfa8bc69b5e": {
      "model_module": "@jupyter-widgets/base",
      "model_module_version": "1.2.0",
      "model_name": "LayoutModel",
      "state": {
       "_model_module": "@jupyter-widgets/base",
       "_model_module_version": "1.2.0",
       "_model_name": "LayoutModel",
       "_view_count": null,
       "_view_module": "@jupyter-widgets/base",
       "_view_module_version": "1.2.0",
       "_view_name": "LayoutView",
       "align_content": null,
       "align_items": null,
       "align_self": null,
       "border": null,
       "bottom": null,
       "display": null,
       "flex": null,
       "flex_flow": null,
       "grid_area": null,
       "grid_auto_columns": null,
       "grid_auto_flow": null,
       "grid_auto_rows": null,
       "grid_column": null,
       "grid_gap": null,
       "grid_row": null,
       "grid_template_areas": null,
       "grid_template_columns": null,
       "grid_template_rows": null,
       "height": null,
       "justify_content": null,
       "justify_items": null,
       "left": null,
       "margin": null,
       "max_height": null,
       "max_width": null,
       "min_height": null,
       "min_width": null,
       "object_fit": null,
       "object_position": null,
       "order": null,
       "overflow": null,
       "overflow_x": null,
       "overflow_y": null,
       "padding": null,
       "right": null,
       "top": null,
       "visibility": null,
       "width": null
      }
     },
     "af37b1a448b243a8b7e291765febd57a": {
      "model_module": "@jupyter-widgets/controls",
      "model_module_version": "1.5.0",
      "model_name": "VBoxModel",
      "state": {
       "_dom_classes": [
        "widget-interact"
       ],
       "_model_module": "@jupyter-widgets/controls",
       "_model_module_version": "1.5.0",
       "_model_name": "VBoxModel",
       "_view_count": null,
       "_view_module": "@jupyter-widgets/controls",
       "_view_module_version": "1.5.0",
       "_view_name": "VBoxView",
       "box_style": "",
       "children": [
        "IPY_MODEL_30900da4390d4ad8a5de7c217ecb6ff7",
        "IPY_MODEL_65b1e490d9084df9ac46a9bb58f7c2d6"
       ],
       "layout": "IPY_MODEL_5bc85675d12f4f68ad387498f7ecc183"
      }
     },
     "b485785550b2469eab2f22ac7f8ed7d3": {
      "model_module": "@jupyter-widgets/base",
      "model_module_version": "1.2.0",
      "model_name": "LayoutModel",
      "state": {
       "_model_module": "@jupyter-widgets/base",
       "_model_module_version": "1.2.0",
       "_model_name": "LayoutModel",
       "_view_count": null,
       "_view_module": "@jupyter-widgets/base",
       "_view_module_version": "1.2.0",
       "_view_name": "LayoutView",
       "align_content": null,
       "align_items": null,
       "align_self": null,
       "border": null,
       "bottom": null,
       "display": null,
       "flex": null,
       "flex_flow": null,
       "grid_area": null,
       "grid_auto_columns": null,
       "grid_auto_flow": null,
       "grid_auto_rows": null,
       "grid_column": null,
       "grid_gap": null,
       "grid_row": null,
       "grid_template_areas": null,
       "grid_template_columns": null,
       "grid_template_rows": null,
       "height": null,
       "justify_content": null,
       "justify_items": null,
       "left": null,
       "margin": null,
       "max_height": null,
       "max_width": null,
       "min_height": null,
       "min_width": null,
       "object_fit": null,
       "object_position": null,
       "order": null,
       "overflow": null,
       "overflow_x": null,
       "overflow_y": null,
       "padding": null,
       "right": null,
       "top": null,
       "visibility": null,
       "width": null
      }
     },
     "bd07cea9706145489e758c106cbadb99": {
      "model_module": "@jupyter-widgets/base",
      "model_module_version": "1.2.0",
      "model_name": "LayoutModel",
      "state": {
       "_model_module": "@jupyter-widgets/base",
       "_model_module_version": "1.2.0",
       "_model_name": "LayoutModel",
       "_view_count": null,
       "_view_module": "@jupyter-widgets/base",
       "_view_module_version": "1.2.0",
       "_view_name": "LayoutView",
       "align_content": null,
       "align_items": null,
       "align_self": null,
       "border": null,
       "bottom": null,
       "display": null,
       "flex": null,
       "flex_flow": null,
       "grid_area": null,
       "grid_auto_columns": null,
       "grid_auto_flow": null,
       "grid_auto_rows": null,
       "grid_column": null,
       "grid_gap": null,
       "grid_row": null,
       "grid_template_areas": null,
       "grid_template_columns": null,
       "grid_template_rows": null,
       "height": null,
       "justify_content": null,
       "justify_items": null,
       "left": null,
       "margin": null,
       "max_height": null,
       "max_width": null,
       "min_height": null,
       "min_width": null,
       "object_fit": null,
       "object_position": null,
       "order": null,
       "overflow": null,
       "overflow_x": null,
       "overflow_y": null,
       "padding": null,
       "right": null,
       "top": null,
       "visibility": null,
       "width": null
      }
     },
     "bd253250ab7e43f48559c253676cd1a1": {
      "model_module": "@jupyter-widgets/controls",
      "model_module_version": "1.5.0",
      "model_name": "IntSliderModel",
      "state": {
       "_dom_classes": [],
       "_model_module": "@jupyter-widgets/controls",
       "_model_module_version": "1.5.0",
       "_model_name": "IntSliderModel",
       "_view_count": null,
       "_view_module": "@jupyter-widgets/controls",
       "_view_module_version": "1.5.0",
       "_view_name": "IntSliderView",
       "continuous_update": true,
       "description": "i",
       "description_tooltip": null,
       "disabled": false,
       "layout": "IPY_MODEL_a589e0ee1ee94fe7b7540ebb91f7e54a",
       "max": 4,
       "min": 1,
       "orientation": "horizontal",
       "readout": true,
       "readout_format": "d",
       "step": 1,
       "style": "IPY_MODEL_87665e9c1f4d4b399cfc1f45855e3672",
       "value": 4
      }
     },
     "c54ed5962b1d448dba2e976d037f82f4": {
      "model_module": "@jupyter-widgets/base",
      "model_module_version": "1.2.0",
      "model_name": "LayoutModel",
      "state": {
       "_model_module": "@jupyter-widgets/base",
       "_model_module_version": "1.2.0",
       "_model_name": "LayoutModel",
       "_view_count": null,
       "_view_module": "@jupyter-widgets/base",
       "_view_module_version": "1.2.0",
       "_view_name": "LayoutView",
       "align_content": null,
       "align_items": null,
       "align_self": null,
       "border": null,
       "bottom": null,
       "display": null,
       "flex": null,
       "flex_flow": null,
       "grid_area": null,
       "grid_auto_columns": null,
       "grid_auto_flow": null,
       "grid_auto_rows": null,
       "grid_column": null,
       "grid_gap": null,
       "grid_row": null,
       "grid_template_areas": null,
       "grid_template_columns": null,
       "grid_template_rows": null,
       "height": null,
       "justify_content": null,
       "justify_items": null,
       "left": null,
       "margin": null,
       "max_height": null,
       "max_width": null,
       "min_height": null,
       "min_width": null,
       "object_fit": null,
       "object_position": null,
       "order": null,
       "overflow": null,
       "overflow_x": null,
       "overflow_y": null,
       "padding": null,
       "right": null,
       "top": null,
       "visibility": null,
       "width": null
      }
     },
     "cc62d51bc6a74539b3a240243d7349cd": {
      "model_module": "@jupyter-widgets/base",
      "model_module_version": "1.2.0",
      "model_name": "LayoutModel",
      "state": {
       "_model_module": "@jupyter-widgets/base",
       "_model_module_version": "1.2.0",
       "_model_name": "LayoutModel",
       "_view_count": null,
       "_view_module": "@jupyter-widgets/base",
       "_view_module_version": "1.2.0",
       "_view_name": "LayoutView",
       "align_content": null,
       "align_items": null,
       "align_self": null,
       "border": null,
       "bottom": null,
       "display": null,
       "flex": null,
       "flex_flow": null,
       "grid_area": null,
       "grid_auto_columns": null,
       "grid_auto_flow": null,
       "grid_auto_rows": null,
       "grid_column": null,
       "grid_gap": null,
       "grid_row": null,
       "grid_template_areas": null,
       "grid_template_columns": null,
       "grid_template_rows": null,
       "height": null,
       "justify_content": null,
       "justify_items": null,
       "left": null,
       "margin": null,
       "max_height": null,
       "max_width": null,
       "min_height": null,
       "min_width": null,
       "object_fit": null,
       "object_position": null,
       "order": null,
       "overflow": null,
       "overflow_x": null,
       "overflow_y": null,
       "padding": null,
       "right": null,
       "top": null,
       "visibility": null,
       "width": null
      }
     },
     "d00824d02cc144579d3a8f7aa8b3ba03": {
      "model_module": "@jupyter-widgets/base",
      "model_module_version": "1.2.0",
      "model_name": "LayoutModel",
      "state": {
       "_model_module": "@jupyter-widgets/base",
       "_model_module_version": "1.2.0",
       "_model_name": "LayoutModel",
       "_view_count": null,
       "_view_module": "@jupyter-widgets/base",
       "_view_module_version": "1.2.0",
       "_view_name": "LayoutView",
       "align_content": null,
       "align_items": null,
       "align_self": null,
       "border": null,
       "bottom": null,
       "display": null,
       "flex": null,
       "flex_flow": null,
       "grid_area": null,
       "grid_auto_columns": null,
       "grid_auto_flow": null,
       "grid_auto_rows": null,
       "grid_column": null,
       "grid_gap": null,
       "grid_row": null,
       "grid_template_areas": null,
       "grid_template_columns": null,
       "grid_template_rows": null,
       "height": null,
       "justify_content": null,
       "justify_items": null,
       "left": null,
       "margin": null,
       "max_height": null,
       "max_width": null,
       "min_height": null,
       "min_width": null,
       "object_fit": null,
       "object_position": null,
       "order": null,
       "overflow": null,
       "overflow_x": null,
       "overflow_y": null,
       "padding": null,
       "right": null,
       "top": null,
       "visibility": null,
       "width": null
      }
     },
     "d1e3bc18f9f64791858e3297980d7b77": {
      "model_module": "@jupyter-widgets/base",
      "model_module_version": "1.2.0",
      "model_name": "LayoutModel",
      "state": {
       "_model_module": "@jupyter-widgets/base",
       "_model_module_version": "1.2.0",
       "_model_name": "LayoutModel",
       "_view_count": null,
       "_view_module": "@jupyter-widgets/base",
       "_view_module_version": "1.2.0",
       "_view_name": "LayoutView",
       "align_content": null,
       "align_items": null,
       "align_self": null,
       "border": null,
       "bottom": null,
       "display": null,
       "flex": null,
       "flex_flow": null,
       "grid_area": null,
       "grid_auto_columns": null,
       "grid_auto_flow": null,
       "grid_auto_rows": null,
       "grid_column": null,
       "grid_gap": null,
       "grid_row": null,
       "grid_template_areas": null,
       "grid_template_columns": null,
       "grid_template_rows": null,
       "height": null,
       "justify_content": null,
       "justify_items": null,
       "left": null,
       "margin": null,
       "max_height": null,
       "max_width": null,
       "min_height": null,
       "min_width": null,
       "object_fit": null,
       "object_position": null,
       "order": null,
       "overflow": null,
       "overflow_x": null,
       "overflow_y": null,
       "padding": null,
       "right": null,
       "top": null,
       "visibility": null,
       "width": null
      }
     },
     "d3ef895519fc400b903ea833e2b37a64": {
      "model_module": "@jupyter-widgets/controls",
      "model_module_version": "1.5.0",
      "model_name": "SliderStyleModel",
      "state": {
       "_model_module": "@jupyter-widgets/controls",
       "_model_module_version": "1.5.0",
       "_model_name": "SliderStyleModel",
       "_view_count": null,
       "_view_module": "@jupyter-widgets/base",
       "_view_module_version": "1.2.0",
       "_view_name": "StyleView",
       "description_width": "",
       "handle_color": null
      }
     },
     "d581eb54e62c4f3598b2020b7989bfc2": {
      "model_module": "@jupyter-widgets/controls",
      "model_module_version": "1.5.0",
      "model_name": "IntSliderModel",
      "state": {
       "_dom_classes": [],
       "_model_module": "@jupyter-widgets/controls",
       "_model_module_version": "1.5.0",
       "_model_name": "IntSliderModel",
       "_view_count": null,
       "_view_module": "@jupyter-widgets/controls",
       "_view_module_version": "1.5.0",
       "_view_name": "IntSliderView",
       "continuous_update": true,
       "description": "i",
       "description_tooltip": null,
       "disabled": false,
       "layout": "IPY_MODEL_c54ed5962b1d448dba2e976d037f82f4",
       "max": 4,
       "min": 0,
       "orientation": "horizontal",
       "readout": true,
       "readout_format": "d",
       "step": 1,
       "style": "IPY_MODEL_fa54575e22394164879cb32bcdc1d250",
       "value": 4
      }
     },
     "dab582f6f25c4d1da4a54734fa647e12": {
      "model_module": "@jupyter-widgets/base",
      "model_module_version": "1.2.0",
      "model_name": "LayoutModel",
      "state": {
       "_model_module": "@jupyter-widgets/base",
       "_model_module_version": "1.2.0",
       "_model_name": "LayoutModel",
       "_view_count": null,
       "_view_module": "@jupyter-widgets/base",
       "_view_module_version": "1.2.0",
       "_view_name": "LayoutView",
       "align_content": null,
       "align_items": null,
       "align_self": null,
       "border": null,
       "bottom": null,
       "display": null,
       "flex": null,
       "flex_flow": null,
       "grid_area": null,
       "grid_auto_columns": null,
       "grid_auto_flow": null,
       "grid_auto_rows": null,
       "grid_column": null,
       "grid_gap": null,
       "grid_row": null,
       "grid_template_areas": null,
       "grid_template_columns": null,
       "grid_template_rows": null,
       "height": null,
       "justify_content": null,
       "justify_items": null,
       "left": null,
       "margin": null,
       "max_height": null,
       "max_width": null,
       "min_height": null,
       "min_width": null,
       "object_fit": null,
       "object_position": null,
       "order": null,
       "overflow": null,
       "overflow_x": null,
       "overflow_y": null,
       "padding": null,
       "right": null,
       "top": null,
       "visibility": null,
       "width": null
      }
     },
     "ddf7887c01f847608508f955f2eb96f8": {
      "model_module": "@jupyter-widgets/base",
      "model_module_version": "1.2.0",
      "model_name": "LayoutModel",
      "state": {
       "_model_module": "@jupyter-widgets/base",
       "_model_module_version": "1.2.0",
       "_model_name": "LayoutModel",
       "_view_count": null,
       "_view_module": "@jupyter-widgets/base",
       "_view_module_version": "1.2.0",
       "_view_name": "LayoutView",
       "align_content": null,
       "align_items": null,
       "align_self": null,
       "border": null,
       "bottom": null,
       "display": null,
       "flex": null,
       "flex_flow": null,
       "grid_area": null,
       "grid_auto_columns": null,
       "grid_auto_flow": null,
       "grid_auto_rows": null,
       "grid_column": null,
       "grid_gap": null,
       "grid_row": null,
       "grid_template_areas": null,
       "grid_template_columns": null,
       "grid_template_rows": null,
       "height": null,
       "justify_content": null,
       "justify_items": null,
       "left": null,
       "margin": null,
       "max_height": null,
       "max_width": null,
       "min_height": null,
       "min_width": null,
       "object_fit": null,
       "object_position": null,
       "order": null,
       "overflow": null,
       "overflow_x": null,
       "overflow_y": null,
       "padding": null,
       "right": null,
       "top": null,
       "visibility": null,
       "width": null
      }
     },
     "df21346cf56445db9ae7d8efc18ecc95": {
      "model_module": "@jupyter-widgets/controls",
      "model_module_version": "1.5.0",
      "model_name": "IntSliderModel",
      "state": {
       "_dom_classes": [],
       "_model_module": "@jupyter-widgets/controls",
       "_model_module_version": "1.5.0",
       "_model_name": "IntSliderModel",
       "_view_count": null,
       "_view_module": "@jupyter-widgets/controls",
       "_view_module_version": "1.5.0",
       "_view_name": "IntSliderView",
       "continuous_update": true,
       "description": "i",
       "description_tooltip": null,
       "disabled": false,
       "layout": "IPY_MODEL_704f95b67fd246f0973bb09f0077ecac",
       "max": 3,
       "min": 1,
       "orientation": "horizontal",
       "readout": true,
       "readout_format": "d",
       "step": 1,
       "style": "IPY_MODEL_a2814fb6bbfa4a4f8e8cb930c1bf8448",
       "value": 3
      }
     },
     "e73bad9a66384fd3ba2b45c3628f4066": {
      "model_module": "@jupyter-widgets/controls",
      "model_module_version": "1.5.0",
      "model_name": "VBoxModel",
      "state": {
       "_dom_classes": [
        "widget-interact"
       ],
       "_model_module": "@jupyter-widgets/controls",
       "_model_module_version": "1.5.0",
       "_model_name": "VBoxModel",
       "_view_count": null,
       "_view_module": "@jupyter-widgets/controls",
       "_view_module_version": "1.5.0",
       "_view_name": "VBoxView",
       "box_style": "",
       "children": [
        "IPY_MODEL_df21346cf56445db9ae7d8efc18ecc95",
        "IPY_MODEL_8063dc98f2444954a55d659d3350faac"
       ],
       "layout": "IPY_MODEL_6dfa7af50d34446f8f895a06ad595f68"
      }
     },
     "ebc7ab2711514b6982f00e598206a4d8": {
      "model_module": "@jupyter-widgets/controls",
      "model_module_version": "1.5.0",
      "model_name": "SliderStyleModel",
      "state": {
       "_model_module": "@jupyter-widgets/controls",
       "_model_module_version": "1.5.0",
       "_model_name": "SliderStyleModel",
       "_view_count": null,
       "_view_module": "@jupyter-widgets/base",
       "_view_module_version": "1.2.0",
       "_view_name": "StyleView",
       "description_width": "",
       "handle_color": null
      }
     },
     "ed6da19654db46f582f3b40bebd00fe8": {
      "model_module": "@jupyter-widgets/controls",
      "model_module_version": "1.5.0",
      "model_name": "IntSliderModel",
      "state": {
       "_dom_classes": [],
       "_model_module": "@jupyter-widgets/controls",
       "_model_module_version": "1.5.0",
       "_model_name": "IntSliderModel",
       "_view_count": null,
       "_view_module": "@jupyter-widgets/controls",
       "_view_module_version": "1.5.0",
       "_view_name": "IntSliderView",
       "continuous_update": true,
       "description": "i",
       "description_tooltip": null,
       "disabled": false,
       "layout": "IPY_MODEL_9627ceab04864d6ebdfb53788d273d62",
       "max": 16,
       "min": 0,
       "orientation": "horizontal",
       "readout": true,
       "readout_format": "d",
       "step": 1,
       "style": "IPY_MODEL_8894cadaa7874e76a44c5dc319589faa",
       "value": 16
      }
     },
     "efbb19f90395469c9f688775a010d5f6": {
      "model_module": "@jupyter-widgets/base",
      "model_module_version": "1.2.0",
      "model_name": "LayoutModel",
      "state": {
       "_model_module": "@jupyter-widgets/base",
       "_model_module_version": "1.2.0",
       "_model_name": "LayoutModel",
       "_view_count": null,
       "_view_module": "@jupyter-widgets/base",
       "_view_module_version": "1.2.0",
       "_view_name": "LayoutView",
       "align_content": null,
       "align_items": null,
       "align_self": null,
       "border": null,
       "bottom": null,
       "display": null,
       "flex": null,
       "flex_flow": null,
       "grid_area": null,
       "grid_auto_columns": null,
       "grid_auto_flow": null,
       "grid_auto_rows": null,
       "grid_column": null,
       "grid_gap": null,
       "grid_row": null,
       "grid_template_areas": null,
       "grid_template_columns": null,
       "grid_template_rows": null,
       "height": null,
       "justify_content": null,
       "justify_items": null,
       "left": null,
       "margin": null,
       "max_height": null,
       "max_width": null,
       "min_height": null,
       "min_width": null,
       "object_fit": null,
       "object_position": null,
       "order": null,
       "overflow": null,
       "overflow_x": null,
       "overflow_y": null,
       "padding": null,
       "right": null,
       "top": null,
       "visibility": null,
       "width": null
      }
     },
     "f68b0c1532e6453b881e6a0c6f3b6e0d": {
      "model_module": "@jupyter-widgets/controls",
      "model_module_version": "1.5.0",
      "model_name": "VBoxModel",
      "state": {
       "_dom_classes": [
        "widget-interact"
       ],
       "_model_module": "@jupyter-widgets/controls",
       "_model_module_version": "1.5.0",
       "_model_name": "VBoxModel",
       "_view_count": null,
       "_view_module": "@jupyter-widgets/controls",
       "_view_module_version": "1.5.0",
       "_view_name": "VBoxView",
       "box_style": "",
       "children": [
        "IPY_MODEL_688fe6a942354863a77f4c8bbe13813a",
        "IPY_MODEL_638f0ec1b3d84f19bf81f07644e6ddbe"
       ],
       "layout": "IPY_MODEL_dab582f6f25c4d1da4a54734fa647e12"
      }
     },
     "f82189d0da554b78b135bbfbd0c9daa0": {
      "model_module": "@jupyter-widgets/controls",
      "model_module_version": "1.5.0",
      "model_name": "IntSliderModel",
      "state": {
       "_dom_classes": [],
       "_model_module": "@jupyter-widgets/controls",
       "_model_module_version": "1.5.0",
       "_model_name": "IntSliderModel",
       "_view_count": null,
       "_view_module": "@jupyter-widgets/controls",
       "_view_module_version": "1.5.0",
       "_view_name": "IntSliderView",
       "continuous_update": true,
       "description": "i",
       "description_tooltip": null,
       "disabled": false,
       "layout": "IPY_MODEL_7b56113881ff44e7843f164cf92e1d98",
       "max": 2,
       "min": 1,
       "orientation": "horizontal",
       "readout": true,
       "readout_format": "d",
       "step": 1,
       "style": "IPY_MODEL_d3ef895519fc400b903ea833e2b37a64",
       "value": 2
      }
     },
     "fa54575e22394164879cb32bcdc1d250": {
      "model_module": "@jupyter-widgets/controls",
      "model_module_version": "1.5.0",
      "model_name": "SliderStyleModel",
      "state": {
       "_model_module": "@jupyter-widgets/controls",
       "_model_module_version": "1.5.0",
       "_model_name": "SliderStyleModel",
       "_view_count": null,
       "_view_module": "@jupyter-widgets/base",
       "_view_module_version": "1.2.0",
       "_view_name": "StyleView",
       "description_width": "",
       "handle_color": null
      }
     }
    },
    "version_major": 2,
    "version_minor": 0
   }
  }
 },
 "nbformat": 4,
 "nbformat_minor": 5
}