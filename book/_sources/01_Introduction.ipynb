{
 "cells": [
  {
   "cell_type": "code",
   "execution_count": 1,
   "id": "7dd60a77",
   "metadata": {
    "tags": [
     "remove-cell"
    ]
   },
   "outputs": [
    {
     "data": {
      "application/javascript": [
       "var cells = Jupyter.notebook.get_cells();\n",
       "           for (var i = 0; i < cells.length; i++) {\n",
       "               var cur_cell = cells[i];\n",
       "               var tags = cur_cell._metadata.tags;\n",
       "               console.log(i);\n",
       "               console.log(tags == undefined);\n",
       "               console.log(tags);\n",
       "               if (tags != undefined) {\n",
       "               for (var j = 0; j < tags.length; j++) {\n",
       "                  if (tags[j]==\"book_only\" | tags[j]==\"remove-cell\") {cur_cell.element.hide();\n",
       "                  if (tags[j]==\"presentation_only\") {cur_cell.element.show();}\n",
       "            }}}\n"
      ],
      "text/plain": [
       "<IPython.core.display.Javascript object>"
      ]
     },
     "metadata": {},
     "output_type": "display_data"
    }
   ],
   "source": [
    "%%js\n",
    "var cells = Jupyter.notebook.get_cells();\n",
    "           for (var i = 0; i < cells.length; i++) {\n",
    "               var cur_cell = cells[i];\n",
    "               var tags = cur_cell._metadata.tags;\n",
    "               console.log(i);\n",
    "               console.log(tags == undefined);\n",
    "               console.log(tags);\n",
    "               if (tags != undefined) {\n",
    "               for (var j = 0; j < tags.length; j++) {\n",
    "                  if (tags[j]==\"book_only\" | tags[j]==\"remove-cell\") {cur_cell.element.hide();\n",
    "                  if (tags[j]==\"presentation_only\") {cur_cell.element.show();}\n",
    "            }}}"
   ]
  },
  {
   "cell_type": "markdown",
   "id": "a222cf95",
   "metadata": {},
   "source": [
    "$\\begin{align}\n",
    "  \\newcommand{transp}{^\\intercal}\n",
    "  \\newcommand{F}{\\mathcal{F}}\n",
    "  \\newcommand{Fi}{\\mathcal{F}^{-1}}\n",
    "  \\newcommand{inv}{^{-1}}\n",
    "  \\newcommand{stochvec}[1]{\\mathbf{\\tilde{#1}}}\n",
    "  \\newcommand{argmax}[1]{\\underset{#1}{\\mathrm{arg\\, max}}}\n",
    "  \\newcommand{argmin}[1]{\\underset{#1}{\\mathrm{arg\\, min}}}\n",
    "\\end{align}$\n",
    "\n",
    "<font size=\"7\"> Computational Imaging </font><br><br><br>"
   ]
  },
  {
   "cell_type": "markdown",
   "id": "c4dca1c3",
   "metadata": {
    "slideshow": {
     "slide_type": "slide"
    }
   },
   "source": [
    "# Introduction"
   ]
  },
  {
   "cell_type": "markdown",
   "id": "dc126a0d",
   "metadata": {
    "slideshow": {
     "slide_type": "fragment"
    }
   },
   "source": [
    "##### Content\n",
    "* What is computational imaging\n",
    "* Motivating examples\n",
    "* Course roadmap / tentative schedule\n",
    "* Organizational information"
   ]
  },
  {
   "cell_type": "markdown",
   "id": "247640ba",
   "metadata": {
    "slideshow": {
     "slide_type": "subslide"
    }
   },
   "source": [
    "## What is computational imaging"
   ]
  },
  {
   "cell_type": "markdown",
   "id": "ea1b2350",
   "metadata": {
    "tags": [
     "book_only"
    ]
   },
   "source": [
    "Imaging is the process of acquiring an image of a scene of interest that containes details of interest of the scene."
   ]
  },
  {
   "cell_type": "markdown",
   "id": "4585de6d",
   "metadata": {
    "slideshow": {
     "slide_type": "subslide"
    }
   },
   "source": [
    "##### Example: Conventional optical imaging"
   ]
  },
  {
   "cell_type": "markdown",
   "id": "f8473d84",
   "metadata": {
    "tags": [
     "book_only"
    ]
   },
   "source": [
    "Conventional optical imaging (e.g., with a digital camera) usually involves a high-quality optical system consisting of multiple lenses (around 7 in 2020 high-end smartphones), a high-resolution sensor chip (around 12 megapixel in smartphones, up to 40 megapixel in digital single-lens reflex cameras) and some image processing algorithms to improve image quality with respect to the application (photography, microscopy, medical imaging, etc.)."
   ]
  },
  {
   "cell_type": "markdown",
   "id": "40a60221",
   "metadata": {
    "slideshow": {
     "slide_type": "fragment"
    }
   },
   "source": [
    "<img src=\"figures/1/conventional_imaging.svg\" style=\"max-height:40vh\">"
   ]
  },
  {
   "cell_type": "markdown",
   "id": "f687717a",
   "metadata": {
    "tags": [
     "book_only"
    ]
   },
   "source": [
    "Each of the three components is usually optimized for its own, i.e.:\n",
    "* the optics are designed to produce a sharp image of the scene on the sensor plane,\n",
    "* the sensor is optimized to digitize the incident light intensities as fast as possible with a minimum of noise and\n",
    "* the image processing algorithms are developed to mitigate general forms of remaining noise or visual artifacts."
   ]
  },
  {
   "cell_type": "markdown",
   "id": "ee2365b0",
   "metadata": {
    "slideshow": {
     "slide_type": "subslide"
    }
   },
   "source": [
    "##### Computational imaging"
   ]
  },
  {
   "cell_type": "markdown",
   "id": "fc4efb52",
   "metadata": {
    "tags": [
     "book_only"
    ]
   },
   "source": [
    "In computational imaging the individual parts (i.e., optics, sensor, algorithms) are holistically considered as a single system and are optimized together to yield the best possible results with respect to the application (examples will be shown later)."
   ]
  },
  {
   "cell_type": "markdown",
   "id": "0466a454",
   "metadata": {
    "tags": [
     "presentation_only",
     "remove-cell"
    ]
   },
   "source": [
    "Holistic, joint optimization of all system components:"
   ]
  },
  {
   "cell_type": "markdown",
   "id": "1a68e5c2",
   "metadata": {},
   "source": [
    "<img src=\"figures/1/computational_imaging.svg\" style=\"max-height:40vh\">"
   ]
  },
  {
   "cell_type": "markdown",
   "id": "14326e13",
   "metadata": {
    "tags": [
     "book_only"
    ]
   },
   "source": [
    "As a main consequence of this approach, the intermediate image that is formed on the sensor may appear blurred or otherwise scrumbled. However, since the details of the image formation process are known, they can be mitigated by the image processing algorithms and the sought-after image can be recovered."
   ]
  },
  {
   "cell_type": "markdown",
   "id": "80992c0a",
   "metadata": {
    "slideshow": {
     "slide_type": "slide"
    }
   },
   "source": [
    "## Degrees of freedom / design space\n",
    "\n",
    "Various parameters of the involved components can be varied to achieve optimal system performance."
   ]
  },
  {
   "cell_type": "markdown",
   "id": "4a7756bb",
   "metadata": {
    "slideshow": {
     "slide_type": "subslide"
    }
   },
   "source": [
    "##### Illumination"
   ]
  },
  {
   "cell_type": "markdown",
   "id": "82b451de",
   "metadata": {
    "cell_style": "split"
   },
   "source": [
    "<img src=\"figures/1/illumination.svg\" style=\"max-height:40vh\">"
   ]
  },
  {
   "cell_type": "markdown",
   "id": "133328b3",
   "metadata": {
    "cell_style": "split"
   },
   "source": [
    "The illumination can be varied in terms of\n",
    "* intensity,\n",
    "* emission direction,\n",
    "* emission profile,\n",
    "* spectrum,\n",
    "* polarization,\n",
    "* spatial pattern, etc."
   ]
  },
  {
   "cell_type": "markdown",
   "id": "2d3e1fca",
   "metadata": {
    "slideshow": {
     "slide_type": "subslide"
    }
   },
   "source": [
    "##### Image acquisition"
   ]
  },
  {
   "cell_type": "markdown",
   "id": "45adcf1b",
   "metadata": {
    "cell_style": "split"
   },
   "source": [
    "<img src=\"figures/1/sensor.svg\" style=\"max-height:40vh\">"
   ]
  },
  {
   "cell_type": "markdown",
   "id": "888273f4",
   "metadata": {
    "cell_style": "split"
   },
   "source": [
    "The image acquisition can be varied in terms of\n",
    "* lens / lens system,\n",
    "* focal length,\n",
    "* shutter,\n",
    "* (programmable) aperture,\n",
    "* filters,\n",
    "* integration time etc."
   ]
  },
  {
   "cell_type": "markdown",
   "id": "6262ee5c",
   "metadata": {
    "slideshow": {
     "slide_type": "subslide"
    },
    "tags": [
     "presentation_only",
     "remove-cell"
    ]
   },
   "source": [
    "$\\rightarrow $ Exploit all these parameters to achieve optimal performance with respect to the imaging task on hand."
   ]
  },
  {
   "cell_type": "markdown",
   "id": "3b0b610f",
   "metadata": {
    "tags": [
     "book_only"
    ]
   },
   "source": [
    "To finally obtain an image which is optimal for the application on hand, all the variable parameters have to be computationally controlled and the intermediate image(s) have to be adequately processed. In other words, the image of interest has to be **reconstructed**.\n",
    "\n",
    "Hence, in most computational imaging algorithms, the crucial part is represented by an image reconstruction procedure that tries to solve a so-called **inverse problem**. Usually, the forward process, i.e., the formation of an image on the sensor plane for a given scene, can be (physically) modelled and computed. The task of the algorithms is inversion of that process, i.e., to reconstruct the most probable scene which led to the observed image on the sensor."
   ]
  },
  {
   "cell_type": "markdown",
   "id": "b5899be9",
   "metadata": {
    "slideshow": {
     "slide_type": "subslide"
    }
   },
   "source": [
    "Computational imaging allows to \n",
    "* acquire more information about the scene of interest as with conventional imaging and\n",
    "* to reduce the weight, cost and complexity of lens systems by shifting parts of the image formation process into the digital domain."
   ]
  },
  {
   "cell_type": "markdown",
   "id": "abe31c7e",
   "metadata": {
    "slideshow": {
     "slide_type": "slide"
    }
   },
   "source": [
    "## Motivating Examples"
   ]
  },
  {
   "cell_type": "markdown",
   "id": "f8bb7e3c",
   "metadata": {
    "slideshow": {
     "slide_type": "subslide"
    }
   },
   "source": [
    "### Photography"
   ]
  },
  {
   "cell_type": "markdown",
   "id": "379f86e4",
   "metadata": {
    "tags": [
     "book_only"
    ]
   },
   "source": [
    "```{note}\n",
    "Computational imaging applied to photography applications is often referred to as *computational photography*.   \n",
    "```"
   ]
  },
  {
   "cell_type": "markdown",
   "id": "08bfc9ec",
   "metadata": {
    "slideshow": {
     "slide_type": "subslide"
    }
   },
   "source": [
    "**Reduction of weight and cost**"
   ]
  },
  {
   "cell_type": "markdown",
   "id": "f391b11d",
   "metadata": {
    "slideshow": {
     "slide_type": "-"
    },
    "tags": [
     "book_only"
    ]
   },
   "source": [
    "<br> By means of computational imaging, the number and required quality of the lenses of a camera can be reduced without negatively impacting the quality of the resulting images. The intermediate image on the sensor may appear unsatisfying to the naked eye (e.g., blurred) but the sought-after sharp image is reconstructed by the image processing algorithms. This reduces the cost, weight and complexity of the optical system of the camera.<br> In the extreme case, it is even possible to obtain sharp images without employing a lens at all (so-called *lensless imaging*)."
   ]
  },
  {
   "cell_type": "markdown",
   "id": "a494e78a",
   "metadata": {
    "cell_style": "split",
    "slideshow": {
     "slide_type": "fragment"
    }
   },
   "source": [
    "**Diffuser Cam**<br> \n",
    "(Grace Kuo, Nick Antipa, Ren Ng, and Laura Waller. \"DiffuserCam: Diffuser-Based Lensless Cameras.\" Computational Optical Sensing and Imaging. Optical Society of America, 2017)"
   ]
  },
  {
   "cell_type": "markdown",
   "id": "607bb5ba",
   "metadata": {
    "cell_style": "split"
   },
   "source": [
    "<img src=\"figures/1/diffusercam.png\" style=\"max-height:40vh\"><br>"
   ]
  },
  {
   "cell_type": "markdown",
   "id": "3ac120ea",
   "metadata": {
    "slideshow": {
     "slide_type": "subslide"
    }
   },
   "source": [
    "**Lensless camera**<br>\n",
    "(Xiuxi Pan et al, Image reconstruction with transformer for mask-based lensless imaging, Optics Letters (2022). DOI: 10.1364/OL.455378)"
   ]
  },
  {
   "cell_type": "markdown",
   "id": "2fcb0126",
   "metadata": {
    "cell_style": "split",
    "slideshow": {
     "slide_type": "-"
    }
   },
   "source": [
    "<img src=\"figures/1/lensless_camera.png\" style=\"height:40vh\">"
   ]
  },
  {
   "cell_type": "markdown",
   "id": "e5840153",
   "metadata": {
    "cell_style": "split",
    "slideshow": {
     "slide_type": "fragment"
    }
   },
   "source": [
    "<img src=\"figures/1/lensless_camera_reconstruction.png\" style=\"max-height:40vh\">"
   ]
  },
  {
   "cell_type": "markdown",
   "id": "c2aa7d6d",
   "metadata": {
    "slideshow": {
     "slide_type": "subslide"
    }
   },
   "source": [
    "**High dynamic range (HDR) imaging**"
   ]
  },
  {
   "cell_type": "markdown",
   "id": "c6aba89b",
   "metadata": {
    "tags": [
     "book_only"
    ]
   },
   "source": [
    "Most commonly, images captured with digital cameras are stored with 8 bit precision per color channel (more details later). As a consequence, images of scenes with high dynamics regarding the light intensities will lose information resulting in either white oversaturated or completely black areas. <br> HDR imaging methods acquire a series of images with varying integration times and processes the images either to obtain a high dynamic range image (with more than 8 bit per channel) or to compress the dynamic range so that no images regions appear oversaturated or under exposed (so-called **tone mapping**)."
   ]
  },
  {
   "cell_type": "markdown",
   "id": "b10bf277",
   "metadata": {
    "slideshow": {
     "slide_type": "subslide"
    }
   },
   "source": [
    "**Single-shot high dynamic range imaging** <br>\n",
    "(Metzler, C., Ikoma, H., Peng, Y., Wetzstein, G., Deep Optics for Single-shot High-dynamic-range Imaging, CVPR 2020)"
   ]
  },
  {
   "cell_type": "markdown",
   "id": "aaf974b9",
   "metadata": {},
   "source": [
    "<img src=\"figures/1/hdr_1.jpg\" style=\"max-height:40vh\"><br>"
   ]
  },
  {
   "cell_type": "markdown",
   "id": "6d4168a2",
   "metadata": {
    "slideshow": {
     "slide_type": "subslide"
    }
   },
   "source": [
    "<img src=\"figures/1/hdr_2.jpg\" style=\"max-height:40vh\"><br>"
   ]
  },
  {
   "cell_type": "markdown",
   "id": "7e66c56b",
   "metadata": {
    "slideshow": {
     "slide_type": "subslide"
    }
   },
   "source": [
    "<img src=\"figures/1/hdr_3.jpg\" style=\"max-height:40vh\"><br>"
   ]
  },
  {
   "cell_type": "markdown",
   "id": "95a49d40",
   "metadata": {
    "slideshow": {
     "slide_type": "subslide"
    }
   },
   "source": [
    "**Light field imaging**"
   ]
  },
  {
   "cell_type": "markdown",
   "id": "d002c78a",
   "metadata": {
    "tags": [
     "book_only"
    ]
   },
   "source": [
    "In contrast to conventional cameras, light field cameras also capture the direction of incidence with which light rays enter the camera. This additional information allows to post-process the acquired to image to change the viewing perspective, to alter the focus distance or to enhance the depth of field."
   ]
  },
  {
   "cell_type": "markdown",
   "id": "db481134",
   "metadata": {
    "slideshow": {
     "slide_type": "subslide"
    }
   },
   "source": [
    "**Post-acquisition refocusing**"
   ]
  },
  {
   "cell_type": "markdown",
   "id": "0922e449",
   "metadata": {
    "cell_style": "split"
   },
   "source": [
    "<img src=\"figures/3/lfDefocused.jpg\" style=\"max-height:40vh\">"
   ]
  },
  {
   "cell_type": "markdown",
   "id": "5c4d0518",
   "metadata": {
    "cell_style": "split"
   },
   "source": [
    "<img src=\"figures/3/lfFocused.jpg\" style=\"max-height:40vh\">"
   ]
  },
  {
   "cell_type": "markdown",
   "id": "cf812c90",
   "metadata": {
    "slideshow": {
     "slide_type": "subslide"
    }
   },
   "source": [
    "**Coded aperture imaging**"
   ]
  },
  {
   "cell_type": "markdown",
   "id": "5dea6438",
   "metadata": {
    "tags": [
     "book_only"
    ]
   },
   "source": [
    "In an optical system, the aperture is the optical or mechanical element that mostly limits the amount of light reaching the sensor (more details later). Making this element computationally controllable provides another handle for influencing the image formation process. By this means it is possible, e.g., to deblur images which are affected by motion blur or which have been acquired out of focus or to additionally capture depth information."
   ]
  },
  {
   "cell_type": "markdown",
   "id": "a5ab6fac",
   "metadata": {
    "slideshow": {
     "slide_type": "subslide"
    }
   },
   "source": [
    "**Coded aperture imaging for image and depth acquisition**<br>\n",
    "(Levin, A., Fergus, R., Durand, F.,  Freeman, W. T. (2007). Image and depth from a conventional camera with a coded aperture. ACM transactions on graphics (TOG), 26(3), 70-es.)"
   ]
  },
  {
   "cell_type": "markdown",
   "id": "0db35309",
   "metadata": {
    "cell_style": "split",
    "slideshow": {
     "slide_type": "fragment"
    }
   },
   "source": [
    "<img src=\"figures/1/coded_aperture_1.jpg\" style=\"max-height:40vh\">"
   ]
  },
  {
   "cell_type": "markdown",
   "id": "2c58a240",
   "metadata": {
    "cell_style": "split"
   },
   "source": [
    "<img src=\"figures/1/coded_aperture_2.jpg\" style=\"max-height:40vh\">"
   ]
  },
  {
   "cell_type": "markdown",
   "id": "19739ce1",
   "metadata": {
    "cell_style": "split",
    "slideshow": {
     "slide_type": "subslide"
    }
   },
   "source": [
    "<img src=\"figures/1/coded_aperture_3.jpg\" style=\"max-height:40vh\">"
   ]
  },
  {
   "cell_type": "markdown",
   "id": "b904975d",
   "metadata": {
    "cell_style": "split"
   },
   "source": [
    "<img src=\"figures/1/coded_aperture_4.jpg\" style=\"max-height:40vh\">"
   ]
  },
  {
   "cell_type": "markdown",
   "id": "6b08cc44",
   "metadata": {
    "slideshow": {
     "slide_type": "subslide"
    }
   },
   "source": [
    "### Medical imaging and microscopy"
   ]
  },
  {
   "cell_type": "markdown",
   "id": "4adbbad7",
   "metadata": {
    "slideshow": {
     "slide_type": "subslide"
    }
   },
   "source": [
    "**Tomography**"
   ]
  },
  {
   "cell_type": "markdown",
   "id": "a449776d",
   "metadata": {
    "tags": [
     "book_only"
    ]
   },
   "source": [
    "In many medical imaging applications one is interested in obtaining threedimensionally resolved images about the internal structures of the human body without having to physically interacting with it. By means of tomographic reconstruction algorithms, several projection images acquired with penetrating radiation (e.g., X-rays) can be combined and processed to obtain an image slice at the position of interest."
   ]
  },
  {
   "cell_type": "markdown",
   "id": "cecc8078",
   "metadata": {
    "slideshow": {
     "slide_type": "subslide"
    }
   },
   "source": [
    "**Coded illumination for microscopic phase imaging**<br>\n",
    "(Kellman, M. R., Bostan, E., Repina, N. A., Waller, L. (2019). Physics-based learned design: optimized coded-illumination for quantitative phase imaging. IEEE Transactions on Computational Imaging, 5(3), 344-353.)"
   ]
  },
  {
   "cell_type": "markdown",
   "id": "b69b87d7",
   "metadata": {
    "tags": [
     "book_only"
    ]
   },
   "source": [
    "In medical microscopy one is often interested in the phase (i.e., the direction of propagation) of the light that has been transmitted through a sample, rather than in its intensity (conventional imaging). This can be achieved by adequately processing a series of images acquired under varying illumination patterns learned with machine learning approaches."
   ]
  },
  {
   "cell_type": "markdown",
   "id": "9585e562",
   "metadata": {
    "slideshow": {
     "slide_type": "fragment"
    }
   },
   "source": [
    "<img src=\"figures/1/phase_imaging.png\" style=\"max-height:40vh\">"
   ]
  },
  {
   "cell_type": "markdown",
   "id": "7ed5d9df",
   "metadata": {
    "slideshow": {
     "slide_type": "subslide"
    }
   },
   "source": [
    "**Fourier Ptychography**"
   ]
  },
  {
   "cell_type": "markdown",
   "id": "b13e8d54",
   "metadata": {
    "tags": [
     "book_only"
    ]
   },
   "source": [
    "In microscopy, the achievable lateral resolution (i.e., the resolutions along the axes parpendicular to the optical axis) is linked to the numerical aperture (more later) of the lens system. By acquiring multiple images under varying illumination one can reconstruct the complex phase via Fourier Ptychography resulting in an increased synthetic numerical aperture. By this means it is possible to up to double the resolution."
   ]
  },
  {
   "cell_type": "markdown",
   "id": "d23f9956",
   "metadata": {
    "slideshow": {
     "slide_type": "fragment"
    }
   },
   "source": [
    "<img src=\"figures/1/ptychography_1.png\" style=\"max-height:40vh\">"
   ]
  },
  {
   "cell_type": "markdown",
   "id": "59fea70e",
   "metadata": {
    "slideshow": {
     "slide_type": "subslide"
    }
   },
   "source": [
    "<img src=\"figures/1/ptychography_2.png\" style=\"max-height:40vh\">"
   ]
  },
  {
   "cell_type": "markdown",
   "id": "71904166",
   "metadata": {
    "slideshow": {
     "slide_type": "subslide"
    }
   },
   "source": [
    "### Visual inspection"
   ]
  },
  {
   "cell_type": "markdown",
   "id": "808301ac",
   "metadata": {
    "slideshow": {
     "slide_type": "subslide"
    }
   },
   "source": [
    "**Deflection map acquisition and processing**"
   ]
  },
  {
   "cell_type": "markdown",
   "id": "1fb3ee9b",
   "metadata": {
    "tags": [
     "book_only"
    ]
   },
   "source": [
    "The visual inspection of transparent objects is especially challenging. This is because the material defects of interest (scratches, inclusions of air bubbles, etc.) are transparent themselves and hence do not affect the light's intensity. Instead, those defects change the propagation direction of light that has been transmitted through the test object. By acquiring the distribution of the light's propagation direction behind the test object with high resolution (so-called deflection maps) and by processing them with suitable algorithms, material defects can be visualized with high contrast."
   ]
  },
  {
   "cell_type": "markdown",
   "id": "9d6cf292",
   "metadata": {
    "slideshow": {
     "slide_type": "fragment"
    }
   },
   "source": [
    "<img src=\"figures/1/LightfieldLaserScannerWithObject_3.svg\" style=\"max-height:40vh\">"
   ]
  },
  {
   "cell_type": "markdown",
   "id": "f42df64d",
   "metadata": {
    "cell_style": "split",
    "slideshow": {
     "slide_type": "subslide"
    }
   },
   "source": [
    "<img src=\"figures/1/kasPhoto.svg\" style=\"max-height:40vh\">"
   ]
  },
  {
   "cell_type": "markdown",
   "id": "3ab69054",
   "metadata": {
    "cell_style": "split"
   },
   "source": [
    "<img src=\"figures/1/kasExperiments.svg\" style=\"max-height:40vh\">"
   ]
  },
  {
   "cell_type": "markdown",
   "id": "5b52cb4d",
   "metadata": {
    "slideshow": {
     "slide_type": "subslide"
    }
   },
   "source": [
    "**Inverse (light field) illumination**"
   ]
  },
  {
   "cell_type": "markdown",
   "id": "b1c08e0e",
   "metadata": {
    "tags": [
     "book_only"
    ]
   },
   "source": [
    "Both opaque and transparent test objects can be illuminated with specifically adapted, so-called inverse light fields that render their intended structures invisible to the camera but reveals material defects with high contrast. Such approaches allow to inspect the whole test object by acquiring a single image only."
   ]
  },
  {
   "cell_type": "markdown",
   "id": "11cd394f",
   "metadata": {
    "cell_style": "split",
    "slideshow": {
     "slide_type": "fragment"
    }
   },
   "source": [
    "<img src=\"figures/1/invLF_acquisition_2.svg\" style=\"max-height:40vh\">"
   ]
  },
  {
   "cell_type": "markdown",
   "id": "d9ff25fa",
   "metadata": {
    "cell_style": "split",
    "slideshow": {
     "slide_type": "fragment"
    }
   },
   "source": [
    "<img src=\"figures/1/invLF_emission_4.svg\" style=\"max-height:40vh\">"
   ]
  },
  {
   "cell_type": "markdown",
   "id": "9e28679f",
   "metadata": {
    "cell_style": "center",
    "slideshow": {
     "slide_type": "subslide"
    }
   },
   "source": [
    "<img src=\"figures/1/invLF_simu_exp.svg\" style=\"max-height:90vh\">"
   ]
  },
  {
   "cell_type": "markdown",
   "id": "f7fe2325",
   "metadata": {
    "slideshow": {
     "slide_type": "slide"
    }
   },
   "source": [
    "## Course roadmap / tentative schedule"
   ]
  },
  {
   "cell_type": "markdown",
   "id": "cdc08927",
   "metadata": {
    "slideshow": {
     "slide_type": "fragment"
    }
   },
   "source": [
    "Tentative course schedule:\n",
    "\n",
    "| Nr. |    Date    |          Lecture (14:00 - 15:30)          |                Exercise (15:45 - 17:15)               |\n",
    "|-----|:----------:|:-----------------------------------------:|:-----------------------------------------------------:|\n",
    "| 1   | 26.10.2022 |          Introduction<br> Basics          |                                                       |\n",
    "| 2   | 02.11.2022 |                   Basics                  |        Fourier transforms<br> Mitsuba renderer        |\n",
    "| 3   | 09.11.2022 |            Light field methods            |                                                       |\n",
    "| 4   | 16.11.2022 |            Light field methods            | Light field calculations<br> Mitsuba for light fields |\n",
    "| 5   | 23.11.2022 |          Light transport analysis         |                                                       |\n",
    "| 6   | 30.11.2022 | Neural networks for computational imaging |              Light transport calculations             |\n",
    "| 7   | 07.12.2022 | Inverse problems in computational imaging |                                                       |\n",
    "| 8   | 14.12.2022 | Inverse problems in computational imaging |                    Inverse problems                   |\n",
    "| 9   | 21.12.2022 | Inverse problems in computational imaging |                                                       |\n",
    "| 10  | 11.01.2023 |           Coded aperture imaging          |                    Inverse problems                   |\n",
    "| 11  | 18.01.2023 |                Diffusor Cam               |                                                       |\n",
    "| 12  | 25.01.2023 |              Lensless imaging             |                      Diffusor Cam                     |\n",
    "| 13  | 01.02.2023 |              Flutter shutter              |                                                       |\n",
    "| 14  | 08.02.2023 |               Phase imaging               |                    Lensless imaging                   |\n",
    "| 15  | 15.02.2023 |   Non-line-of-sight imaging<br> Round up  |                                                       |"
   ]
  },
  {
   "cell_type": "markdown",
   "id": "327b1a18",
   "metadata": {
    "tags": [
     "remove-cell"
    ]
   },
   "source": [
    "The following topics will be covered in the remaining classes of this course:\n",
    "* Introduction\n",
    "    * What is computational photography?\n",
    "    * Motivating example applications (photography, medical imaging, visual inspection)\n",
    "    * Course roadmap\n",
    "* Fundamental basics\n",
    "    * Optics\n",
    "    * Illumination\n",
    "    * Image acquisition and image formation process (including basic system theory)\n",
    "    * Digital image representation\n",
    "* Light field methods\n",
    "    * Introduction into light fields\n",
    "    * Photography applications\n",
    "        * Light field camera\n",
    "        * Digital refocusing\n",
    "        * Visualizing refractive phenomena in transparent media\n",
    "            * Schlieren imaging\n",
    "            * Light field illumination (directional light field probes)\n",
    "    * Visual inspection applications\n",
    "    * Light field laser scanning\n",
    "    * Light deflection map processing\n",
    "    * Inverse illumination (work by Dr. Gruna)\n",
    "    * Inverse light field illumination\n",
    "* Light transport analysis\n",
    "    * Optical power iterations\n",
    "    * Light transport matrices\n",
    "    * Indirect light imaging\n",
    "* Holistic optical design\n",
    "    * Deconvolution / inverse problems\n",
    "    * Closed-form methods (inverse filter, Wiener filter)\n",
    "    * Iterative methods\n",
    "        * ADMM (alternating direction method of multipliers)\n",
    "    * Compressed sensing\n",
    "    * Coded aperture imaging\n",
    "        * Transmission masks\n",
    "        * Phase masks\n",
    "        * Hadamard codes\n",
    "        * Lensless imaging\n",
    "•\tFurther topics\n",
    "    * Phase imaging\n",
    "    * Fourier Ptychography"
   ]
  },
  {
   "cell_type": "markdown",
   "id": "08e57964",
   "metadata": {
    "slideshow": {
     "slide_type": "slide"
    }
   },
   "source": [
    "## Organizational information"
   ]
  },
  {
   "cell_type": "markdown",
   "id": "62007963",
   "metadata": {
    "slideshow": {
     "slide_type": "subslide"
    }
   },
   "source": [
    "##### Course times\n",
    "\n",
    "* Every wednesday from 14:00 - 15:30: primary lecture content.\n",
    "* Additionally every other wednesday from 15:45 - 17:15: discussion of exercises."
   ]
  },
  {
   "cell_type": "markdown",
   "id": "9dd8cf6c",
   "metadata": {
    "slideshow": {
     "slide_type": "subslide"
    }
   },
   "source": [
    "##### Christmas?\n",
    "\n",
    "Who will (still) be there on 21.12.2022? <br> $\\Rightarrow$ We might skip that lecture."
   ]
  },
  {
   "cell_type": "markdown",
   "id": "70fefd9c",
   "metadata": {
    "slideshow": {
     "slide_type": "subslide"
    }
   },
   "source": [
    "##### Exam\n",
    "\n",
    "Can be oral or written (depends a bit on number of participants).<br>\n",
    "Any preferences?"
   ]
  },
  {
   "cell_type": "markdown",
   "id": "a7a5ac68",
   "metadata": {
    "slideshow": {
     "slide_type": "subslide"
    }
   },
   "source": [
    "##### Course material\n",
    "\n",
    "Slides (i.e., Jupyter notebooks), lecture notes and exercises (including solutions) will be made available on https://computational-imaging.de.\n",
    "\n",
    "You can send me questions any time to johannes.meyer@iosb.fraunhofer.de."
   ]
  }
 ],
 "metadata": {
  "jupytext": {
   "formats": "ipynb,md:myst",
   "text_representation": {
    "extension": ".md",
    "format_name": "myst",
    "format_version": 0.13,
    "jupytext_version": "1.14.1"
   }
  },
  "kernelspec": {
   "display_name": "compimg",
   "language": "python",
   "name": "compimg"
  },
  "language_info": {
   "codemirror_mode": {
    "name": "ipython",
    "version": 3
   },
   "file_extension": ".py",
   "mimetype": "text/x-python",
   "name": "python",
   "nbconvert_exporter": "python",
   "pygments_lexer": "ipython3",
   "version": "3.8.10"
  },
  "source_map": [
   15,
   31,
   45,
   49,
   57,
   61,
   65,
   69,
   73,
   77,
   84,
   88,
   92,
   96,
   100,
   104,
   110,
   114,
   118,
   128,
   132,
   136,
   146,
   150,
   156,
   162,
   166,
   170,
   176,
   180,
   184,
   189,
   193,
   198,
   202,
   206,
   210,
   214,
   219,
   223,
   227,
   231,
   235,
   239,
   243,
   247,
   251,
   255,
   259,
   264,
   268,
   272,
   276,
   280,
   284,
   288,
   292,
   297,
   301,
   305,
   309,
   313,
   317,
   321,
   325,
   329,
   333,
   337,
   341,
   345,
   349,
   353,
   357,
   361,
   365,
   369,
   391,
   435,
   439,
   446,
   452,
   459
  ]
 },
 "nbformat": 4,
 "nbformat_minor": 5
}